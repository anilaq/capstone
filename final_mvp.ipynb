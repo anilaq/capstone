{
  "nbformat": 4,
  "nbformat_minor": 0,
  "metadata": {
    "kernelspec": {
      "display_name": "Python 3",
      "language": "python",
      "name": "python3"
    },
    "language_info": {
      "codemirror_mode": {
        "name": "ipython",
        "version": 3
      },
      "file_extension": ".py",
      "mimetype": "text/x-python",
      "name": "python",
      "nbconvert_exporter": "python",
      "pygments_lexer": "ipython3",
      "version": "3.7.4"
    },
    "colab": {
      "name": "Copy of mvp.ipynb",
      "provenance": [],
      "collapsed_sections": [
        "d6KwN2bv3w0d",
        "ezLPlX8_nE-C",
        "bm8R-omFo8rS",
        "LdId9mGNnE-b"
      ],
      "toc_visible": true,
      "include_colab_link": true
    }
  },
  "cells": [
    {
      "cell_type": "markdown",
      "metadata": {
        "id": "view-in-github",
        "colab_type": "text"
      },
      "source": [
        "<a href=\"https://colab.research.google.com/github/anilaq/capstone/blob/master/final_mvp.ipynb\" target=\"_parent\"><img src=\"https://colab.research.google.com/assets/colab-badge.svg\" alt=\"Open In Colab\"/></a>"
      ]
    },
    {
      "cell_type": "markdown",
      "metadata": {
        "id": "FNQAXdzngtQ1",
        "colab_type": "text"
      },
      "source": [
        "# A Recommendation System for Anime"
      ]
    },
    {
      "cell_type": "markdown",
      "metadata": {
        "id": "JRwjDJo7WVPN",
        "colab_type": "text"
      },
      "source": [
        "Anime, is a hand drawn and computer animation originating from Japan which is widely drawn a cult following around the world. The animation industry consists of more than 430 companies. Some of the most popular anime that has come to Western television is Pokemon and Yugi-Oh .\"Spirited Away\" a film created by Hayao Miyazaki and animated by Studio Ghibli is the highest grossing film within the anime genre. The reason it became so popular in the west is because a good friend of Miyazaki convinced him to sell distribution rights to Walt Disney. Like Spirited Away, there are thousands of really good anime films and shows produced by the same animation house. Due to the pandemic a nice way to bring such works of art into Disney plus or any streaming site in the West I have created a recommendation system that can help anyone or any company to view/add the highest rated anime. The Japan External Trade Organization has valued overseas sales to  18𝑏𝑖𝑙𝑙𝑖𝑜𝑛( 5.2 billion for the US alone) in 2004. This has likely grown. With covid19 looming over Japan which has caused one of the first long term recessions for the country. A way at which potential growth could take place is focusing on streaming and producing more of the top recommended. "
      ]
    },
    {
      "cell_type": "code",
      "metadata": {
        "id": "9PfsXpFmoAQW",
        "colab_type": "code",
        "outputId": "410555f0-b61b-4700-dde5-5c7f1b6ba15e",
        "colab": {
          "base_uri": "https://localhost:8080/",
          "height": 297
        }
      },
      "source": [
        "!pip install surprise"
      ],
      "execution_count": 0,
      "outputs": [
        {
          "output_type": "stream",
          "text": [
            "Collecting surprise\n",
            "  Downloading https://files.pythonhosted.org/packages/61/de/e5cba8682201fcf9c3719a6fdda95693468ed061945493dea2dd37c5618b/surprise-0.1-py2.py3-none-any.whl\n",
            "Collecting scikit-surprise\n",
            "\u001b[?25l  Downloading https://files.pythonhosted.org/packages/f5/da/b5700d96495fb4f092be497f02492768a3d96a3f4fa2ae7dea46d4081cfa/scikit-surprise-1.1.0.tar.gz (6.4MB)\n",
            "\u001b[K     |████████████████████████████████| 6.5MB 2.7MB/s \n",
            "\u001b[?25hRequirement already satisfied: joblib>=0.11 in /usr/local/lib/python3.6/dist-packages (from scikit-surprise->surprise) (0.15.0)\n",
            "Requirement already satisfied: numpy>=1.11.2 in /usr/local/lib/python3.6/dist-packages (from scikit-surprise->surprise) (1.18.4)\n",
            "Requirement already satisfied: scipy>=1.0.0 in /usr/local/lib/python3.6/dist-packages (from scikit-surprise->surprise) (1.4.1)\n",
            "Requirement already satisfied: six>=1.10.0 in /usr/local/lib/python3.6/dist-packages (from scikit-surprise->surprise) (1.12.0)\n",
            "Building wheels for collected packages: scikit-surprise\n",
            "  Building wheel for scikit-surprise (setup.py) ... \u001b[?25l\u001b[?25hdone\n",
            "  Created wheel for scikit-surprise: filename=scikit_surprise-1.1.0-cp36-cp36m-linux_x86_64.whl size=1673635 sha256=8aa528125cb290d2a934a4374691074e80b2201b87a4a9d6604d2b61a699602a\n",
            "  Stored in directory: /root/.cache/pip/wheels/cc/fa/8c/16c93fccce688ae1bde7d979ff102f7bee980d9cfeb8641bcf\n",
            "Successfully built scikit-surprise\n",
            "Installing collected packages: scikit-surprise, surprise\n",
            "Successfully installed scikit-surprise-1.1.0 surprise-0.1\n"
          ],
          "name": "stdout"
        }
      ]
    },
    {
      "cell_type": "code",
      "metadata": {
        "id": "ChfTrW0qnE7C",
        "colab_type": "code",
        "outputId": "bc543590-61b6-4d73-f6cb-4441b700b40d",
        "colab": {
          "base_uri": "https://localhost:8080/",
          "height": 70
        }
      },
      "source": [
        "import pandas as pd \n",
        "\n",
        "import numpy as np \n",
        "\n",
        "import random\n",
        "from random import randint\n",
        "\n",
        "import matplotlib.pyplot as plt \n",
        "%matplotlib inline \n",
        "import seaborn as sns \n",
        "\n",
        "from scipy.sparse import csc_matrix\n",
        "from scipy.sparse.linalg import svds \n",
        "\n",
        "from surprise.model_selection import train_test_split\n",
        "from surprise.model_selection import GridSearchCV\n",
        "from surprise.model_selection import cross_validate\n",
        "\n",
        "from surprise.prediction_algorithms import KNNWithMeans, KNNBasic, KNNBaseline\n",
        "\n",
        "from surprise.prediction_algorithms import knns\n",
        "from surprise.prediction_algorithms import SVD\n",
        "\n",
        "from surprise.similarities import cosine, msd, pearson\n",
        "\n",
        "from surprise import accuracy \n",
        "from surprise import Reader\n",
        "from surprise import Dataset\n",
        "from surprise import dataset\n",
        "\n"
      ],
      "execution_count": 0,
      "outputs": [
        {
          "output_type": "stream",
          "text": [
            "/usr/local/lib/python3.6/dist-packages/statsmodels/tools/_testing.py:19: FutureWarning: pandas.util.testing is deprecated. Use the functions in the public API at pandas.testing instead.\n",
            "  import pandas.util.testing as tm\n"
          ],
          "name": "stderr"
        }
      ]
    },
    {
      "cell_type": "markdown",
      "metadata": {
        "id": "I7eIpDS9nE7K",
        "colab_type": "text"
      },
      "source": [
        "# Preprocessing"
      ]
    },
    {
      "cell_type": "code",
      "metadata": {
        "id": "NHfdwhF9nE7L",
        "colab_type": "code",
        "outputId": "7d2621f6-d5dc-4622-bde0-e8cf06e54dc4",
        "colab": {
          "base_uri": "https://localhost:8080/",
          "height": 191
        }
      },
      "source": [
        "anime_df = pd.read_csv('./anime.csv')\n",
        "anime_df.head()"
      ],
      "execution_count": 0,
      "outputs": [
        {
          "output_type": "execute_result",
          "data": {
            "text/html": [
              "<div>\n",
              "<style scoped>\n",
              "    .dataframe tbody tr th:only-of-type {\n",
              "        vertical-align: middle;\n",
              "    }\n",
              "\n",
              "    .dataframe tbody tr th {\n",
              "        vertical-align: top;\n",
              "    }\n",
              "\n",
              "    .dataframe thead th {\n",
              "        text-align: right;\n",
              "    }\n",
              "</style>\n",
              "<table border=\"1\" class=\"dataframe\">\n",
              "  <thead>\n",
              "    <tr style=\"text-align: right;\">\n",
              "      <th></th>\n",
              "      <th>anime_id</th>\n",
              "      <th>name</th>\n",
              "      <th>genre</th>\n",
              "      <th>type</th>\n",
              "      <th>episodes</th>\n",
              "      <th>rating</th>\n",
              "      <th>members</th>\n",
              "    </tr>\n",
              "  </thead>\n",
              "  <tbody>\n",
              "    <tr>\n",
              "      <th>0</th>\n",
              "      <td>32281</td>\n",
              "      <td>Kimi no Na wa.</td>\n",
              "      <td>Drama, Romance, School, Supernatural</td>\n",
              "      <td>Movie</td>\n",
              "      <td>1</td>\n",
              "      <td>9.37</td>\n",
              "      <td>200630</td>\n",
              "    </tr>\n",
              "    <tr>\n",
              "      <th>1</th>\n",
              "      <td>5114</td>\n",
              "      <td>Fullmetal Alchemist: Brotherhood</td>\n",
              "      <td>Action, Adventure, Drama, Fantasy, Magic, Mili...</td>\n",
              "      <td>TV</td>\n",
              "      <td>64</td>\n",
              "      <td>9.26</td>\n",
              "      <td>793665</td>\n",
              "    </tr>\n",
              "    <tr>\n",
              "      <th>2</th>\n",
              "      <td>28977</td>\n",
              "      <td>Gintama°</td>\n",
              "      <td>Action, Comedy, Historical, Parody, Samurai, S...</td>\n",
              "      <td>TV</td>\n",
              "      <td>51</td>\n",
              "      <td>9.25</td>\n",
              "      <td>114262</td>\n",
              "    </tr>\n",
              "    <tr>\n",
              "      <th>3</th>\n",
              "      <td>9253</td>\n",
              "      <td>Steins;Gate</td>\n",
              "      <td>Sci-Fi, Thriller</td>\n",
              "      <td>TV</td>\n",
              "      <td>24</td>\n",
              "      <td>9.17</td>\n",
              "      <td>673572</td>\n",
              "    </tr>\n",
              "    <tr>\n",
              "      <th>4</th>\n",
              "      <td>9969</td>\n",
              "      <td>Gintama&amp;#039;</td>\n",
              "      <td>Action, Comedy, Historical, Parody, Samurai, S...</td>\n",
              "      <td>TV</td>\n",
              "      <td>51</td>\n",
              "      <td>9.16</td>\n",
              "      <td>151266</td>\n",
              "    </tr>\n",
              "  </tbody>\n",
              "</table>\n",
              "</div>"
            ],
            "text/plain": [
              "   anime_id                              name  ... rating members\n",
              "0     32281                    Kimi no Na wa.  ...   9.37  200630\n",
              "1      5114  Fullmetal Alchemist: Brotherhood  ...   9.26  793665\n",
              "2     28977                          Gintama°  ...   9.25  114262\n",
              "3      9253                       Steins;Gate  ...   9.17  673572\n",
              "4      9969                     Gintama&#039;  ...   9.16  151266\n",
              "\n",
              "[5 rows x 7 columns]"
            ]
          },
          "metadata": {
            "tags": []
          },
          "execution_count": 3
        }
      ]
    },
    {
      "cell_type": "code",
      "metadata": {
        "id": "CCz2v-bvnE7P",
        "colab_type": "code",
        "outputId": "0f579338-fd5c-4b95-9b03-2149a4d82e11",
        "colab": {
          "base_uri": "https://localhost:8080/",
          "height": 33
        }
      },
      "source": [
        "anime_df.shape"
      ],
      "execution_count": 0,
      "outputs": [
        {
          "output_type": "execute_result",
          "data": {
            "text/plain": [
              "(12294, 7)"
            ]
          },
          "metadata": {
            "tags": []
          },
          "execution_count": 4
        }
      ]
    },
    {
      "cell_type": "code",
      "metadata": {
        "id": "Bw37JW7onE7S",
        "colab_type": "code",
        "colab": {}
      },
      "source": [
        "anime_df.dropna(inplace=True)"
      ],
      "execution_count": 0,
      "outputs": []
    },
    {
      "cell_type": "markdown",
      "metadata": {
        "id": "zRex0VC0HkT_",
        "colab_type": "text"
      },
      "source": [
        "*** There are 12,294 rows above, and need to drop any null values ***"
      ]
    },
    {
      "cell_type": "code",
      "metadata": {
        "id": "iZR714pMnE7X",
        "colab_type": "code",
        "outputId": "023a1ff1-e087-4e0d-aa06-0e78ac268226",
        "colab": {
          "base_uri": "https://localhost:8080/",
          "height": 33
        }
      },
      "source": [
        "anime_df.shape #this seemed to have reduced it down a bit"
      ],
      "execution_count": 0,
      "outputs": [
        {
          "output_type": "execute_result",
          "data": {
            "text/plain": [
              "(12017, 7)"
            ]
          },
          "metadata": {
            "tags": []
          },
          "execution_count": 6
        }
      ]
    },
    {
      "cell_type": "markdown",
      "metadata": {
        "id": "VEuzf9T3nE7a",
        "colab_type": "text"
      },
      "source": [
        "## What each column represents: \n",
        "***anime_id: id number for each anime title***<br>\n",
        "***name:  title of the motion picture***<br>\n",
        "***genre:  category***<br>\n",
        "***type:  describes the anime into tv, movies, OVA, and 3 other categories***<br>\n",
        "***episodes: total number of episodes ***<br>\n",
        "***rating: -1-10, lowest to highest*** <br>\n",
        "***members:  number of community members that are in this anime group***<br>"
      ]
    },
    {
      "cell_type": "code",
      "metadata": {
        "scrolled": false,
        "id": "7n-5UeYcnE7b",
        "colab_type": "code",
        "outputId": "43fabde5-b6a0-4f7f-d41b-739ca737d603",
        "colab": {
          "base_uri": "https://localhost:8080/",
          "height": 245
        }
      },
      "source": [
        "anime_df.info() #having a look at all of the columns and types from the above cell and current to remove \n",
        "#any unneccessary extraneous data"
      ],
      "execution_count": 0,
      "outputs": [
        {
          "output_type": "stream",
          "text": [
            "<class 'pandas.core.frame.DataFrame'>\n",
            "Int64Index: 12017 entries, 0 to 12293\n",
            "Data columns (total 7 columns):\n",
            " #   Column    Non-Null Count  Dtype  \n",
            "---  ------    --------------  -----  \n",
            " 0   anime_id  12017 non-null  int64  \n",
            " 1   name      12017 non-null  object \n",
            " 2   genre     12017 non-null  object \n",
            " 3   type      12017 non-null  object \n",
            " 4   episodes  12017 non-null  object \n",
            " 5   rating    12017 non-null  float64\n",
            " 6   members   12017 non-null  int64  \n",
            "dtypes: float64(1), int64(2), object(4)\n",
            "memory usage: 751.1+ KB\n"
          ],
          "name": "stdout"
        }
      ]
    },
    {
      "cell_type": "code",
      "metadata": {
        "id": "gurWbtWbnE7f",
        "colab_type": "code",
        "outputId": "60634a0b-58cf-462f-e692-0002c6d1d6f4",
        "colab": {
          "base_uri": "https://localhost:8080/",
          "height": 191
        }
      },
      "source": [
        "rating_df = pd.read_csv('./rating.csv')\n",
        "rating_df.head()"
      ],
      "execution_count": 0,
      "outputs": [
        {
          "output_type": "execute_result",
          "data": {
            "text/html": [
              "<div>\n",
              "<style scoped>\n",
              "    .dataframe tbody tr th:only-of-type {\n",
              "        vertical-align: middle;\n",
              "    }\n",
              "\n",
              "    .dataframe tbody tr th {\n",
              "        vertical-align: top;\n",
              "    }\n",
              "\n",
              "    .dataframe thead th {\n",
              "        text-align: right;\n",
              "    }\n",
              "</style>\n",
              "<table border=\"1\" class=\"dataframe\">\n",
              "  <thead>\n",
              "    <tr style=\"text-align: right;\">\n",
              "      <th></th>\n",
              "      <th>user_id</th>\n",
              "      <th>anime_id</th>\n",
              "      <th>rating</th>\n",
              "    </tr>\n",
              "  </thead>\n",
              "  <tbody>\n",
              "    <tr>\n",
              "      <th>0</th>\n",
              "      <td>1</td>\n",
              "      <td>20</td>\n",
              "      <td>-1</td>\n",
              "    </tr>\n",
              "    <tr>\n",
              "      <th>1</th>\n",
              "      <td>1</td>\n",
              "      <td>24</td>\n",
              "      <td>-1</td>\n",
              "    </tr>\n",
              "    <tr>\n",
              "      <th>2</th>\n",
              "      <td>1</td>\n",
              "      <td>79</td>\n",
              "      <td>-1</td>\n",
              "    </tr>\n",
              "    <tr>\n",
              "      <th>3</th>\n",
              "      <td>1</td>\n",
              "      <td>226</td>\n",
              "      <td>-1</td>\n",
              "    </tr>\n",
              "    <tr>\n",
              "      <th>4</th>\n",
              "      <td>1</td>\n",
              "      <td>241</td>\n",
              "      <td>-1</td>\n",
              "    </tr>\n",
              "  </tbody>\n",
              "</table>\n",
              "</div>"
            ],
            "text/plain": [
              "   user_id  anime_id  rating\n",
              "0        1        20      -1\n",
              "1        1        24      -1\n",
              "2        1        79      -1\n",
              "3        1       226      -1\n",
              "4        1       241      -1"
            ]
          },
          "metadata": {
            "tags": []
          },
          "execution_count": 8
        }
      ]
    },
    {
      "cell_type": "markdown",
      "metadata": {
        "id": "00Wv0TO6nE7i",
        "colab_type": "text"
      },
      "source": [
        "## What each column represents: \n",
        "*** user_id: non-identifiable randomly generated user id*** <br>\n",
        "*** anime_id: the anime that the user has rated *** <br>\n",
        "*** rating: rating out of 10 this user has assigned (-1 if the user watched it but didn't assign a rating) ***"
      ]
    },
    {
      "cell_type": "code",
      "metadata": {
        "id": "YRvEEgPwnE7j",
        "colab_type": "code",
        "outputId": "516fd806-c5ec-4c2e-bce9-9d35b1caa3f3",
        "colab": {
          "base_uri": "https://localhost:8080/",
          "height": 33
        }
      },
      "source": [
        "rating_df.shape"
      ],
      "execution_count": 0,
      "outputs": [
        {
          "output_type": "execute_result",
          "data": {
            "text/plain": [
              "(2402463, 3)"
            ]
          },
          "metadata": {
            "tags": []
          },
          "execution_count": 9
        }
      ]
    },
    {
      "cell_type": "markdown",
      "metadata": {
        "id": "zfyipvl-nE7m",
        "colab_type": "text"
      },
      "source": [
        "Need to join both datasets together, will join using anime_id then hopefully will reshuffle the dataset so that it can be transformed into something that is compatible with `surprise`. "
      ]
    },
    {
      "cell_type": "markdown",
      "metadata": {
        "id": "w5gfCqZHnE7n",
        "colab_type": "text"
      },
      "source": [
        "I will join the two dataframes by merging them so that they can correspond to the correct anime_ids"
      ]
    },
    {
      "cell_type": "code",
      "metadata": {
        "id": "lYdfiBi3nE7n",
        "colab_type": "code",
        "outputId": "cd9de603-380a-4fee-8d88-7e9809242621",
        "colab": {
          "base_uri": "https://localhost:8080/",
          "height": 191
        }
      },
      "source": [
        "df_merge = pd.merge(anime_df, rating_df, on = 'anime_id')\n",
        "df_merge.head()\n",
        "# df_merge = df_row.merge(rating_df, left_on= 'anime_id', how='outer')\n",
        "# df_merge.head()"
      ],
      "execution_count": 0,
      "outputs": [
        {
          "output_type": "execute_result",
          "data": {
            "text/html": [
              "<div>\n",
              "<style scoped>\n",
              "    .dataframe tbody tr th:only-of-type {\n",
              "        vertical-align: middle;\n",
              "    }\n",
              "\n",
              "    .dataframe tbody tr th {\n",
              "        vertical-align: top;\n",
              "    }\n",
              "\n",
              "    .dataframe thead th {\n",
              "        text-align: right;\n",
              "    }\n",
              "</style>\n",
              "<table border=\"1\" class=\"dataframe\">\n",
              "  <thead>\n",
              "    <tr style=\"text-align: right;\">\n",
              "      <th></th>\n",
              "      <th>anime_id</th>\n",
              "      <th>name</th>\n",
              "      <th>genre</th>\n",
              "      <th>type</th>\n",
              "      <th>episodes</th>\n",
              "      <th>rating_x</th>\n",
              "      <th>members</th>\n",
              "      <th>user_id</th>\n",
              "      <th>rating_y</th>\n",
              "    </tr>\n",
              "  </thead>\n",
              "  <tbody>\n",
              "    <tr>\n",
              "      <th>0</th>\n",
              "      <td>32281</td>\n",
              "      <td>Kimi no Na wa.</td>\n",
              "      <td>Drama, Romance, School, Supernatural</td>\n",
              "      <td>Movie</td>\n",
              "      <td>1</td>\n",
              "      <td>9.37</td>\n",
              "      <td>200630</td>\n",
              "      <td>99</td>\n",
              "      <td>5</td>\n",
              "    </tr>\n",
              "    <tr>\n",
              "      <th>1</th>\n",
              "      <td>32281</td>\n",
              "      <td>Kimi no Na wa.</td>\n",
              "      <td>Drama, Romance, School, Supernatural</td>\n",
              "      <td>Movie</td>\n",
              "      <td>1</td>\n",
              "      <td>9.37</td>\n",
              "      <td>200630</td>\n",
              "      <td>152</td>\n",
              "      <td>10</td>\n",
              "    </tr>\n",
              "    <tr>\n",
              "      <th>2</th>\n",
              "      <td>32281</td>\n",
              "      <td>Kimi no Na wa.</td>\n",
              "      <td>Drama, Romance, School, Supernatural</td>\n",
              "      <td>Movie</td>\n",
              "      <td>1</td>\n",
              "      <td>9.37</td>\n",
              "      <td>200630</td>\n",
              "      <td>244</td>\n",
              "      <td>10</td>\n",
              "    </tr>\n",
              "    <tr>\n",
              "      <th>3</th>\n",
              "      <td>32281</td>\n",
              "      <td>Kimi no Na wa.</td>\n",
              "      <td>Drama, Romance, School, Supernatural</td>\n",
              "      <td>Movie</td>\n",
              "      <td>1</td>\n",
              "      <td>9.37</td>\n",
              "      <td>200630</td>\n",
              "      <td>271</td>\n",
              "      <td>10</td>\n",
              "    </tr>\n",
              "    <tr>\n",
              "      <th>4</th>\n",
              "      <td>32281</td>\n",
              "      <td>Kimi no Na wa.</td>\n",
              "      <td>Drama, Romance, School, Supernatural</td>\n",
              "      <td>Movie</td>\n",
              "      <td>1</td>\n",
              "      <td>9.37</td>\n",
              "      <td>200630</td>\n",
              "      <td>278</td>\n",
              "      <td>-1</td>\n",
              "    </tr>\n",
              "  </tbody>\n",
              "</table>\n",
              "</div>"
            ],
            "text/plain": [
              "   anime_id            name  ... user_id rating_y\n",
              "0     32281  Kimi no Na wa.  ...      99        5\n",
              "1     32281  Kimi no Na wa.  ...     152       10\n",
              "2     32281  Kimi no Na wa.  ...     244       10\n",
              "3     32281  Kimi no Na wa.  ...     271       10\n",
              "4     32281  Kimi no Na wa.  ...     278       -1\n",
              "\n",
              "[5 rows x 9 columns]"
            ]
          },
          "metadata": {
            "tags": []
          },
          "execution_count": 10
        }
      ]
    },
    {
      "cell_type": "code",
      "metadata": {
        "id": "Yz5pF8ipnE7r",
        "colab_type": "code",
        "outputId": "a35de916-59b6-48d7-ad0f-f8e54aaff653",
        "colab": {
          "base_uri": "https://localhost:8080/",
          "height": 33
        }
      },
      "source": [
        "df_merge.shape "
      ],
      "execution_count": 0,
      "outputs": [
        {
          "output_type": "execute_result",
          "data": {
            "text/plain": [
              "(2402411, 9)"
            ]
          },
          "metadata": {
            "tags": []
          },
          "execution_count": 11
        }
      ]
    },
    {
      "cell_type": "markdown",
      "metadata": {
        "id": "JBoqWn0YnE7u",
        "colab_type": "text"
      },
      "source": [
        "*** The data here is extremely large. Because I will be using Singular Value Decomposition (SVD) which is known to be computationally expensive I will be taking a large sample from the 7.8 million rows. Before taking a sample I will remove the -1 ratings from the dataset since these don't really count as reviews ***"
      ]
    },
    {
      "cell_type": "code",
      "metadata": {
        "id": "u9btPEKGnE7w",
        "colab_type": "code",
        "outputId": "71d63838-4571-4781-8f7c-a5da0c51adeb",
        "colab": {
          "base_uri": "https://localhost:8080/",
          "height": 33
        }
      },
      "source": [
        "df_merge.rating_x.min()"
      ],
      "execution_count": 0,
      "outputs": [
        {
          "output_type": "execute_result",
          "data": {
            "text/plain": [
              "2.0"
            ]
          },
          "metadata": {
            "tags": []
          },
          "execution_count": 12
        }
      ]
    },
    {
      "cell_type": "code",
      "metadata": {
        "id": "fnl1XOx-nE71",
        "colab_type": "code",
        "outputId": "99503330-6f9b-4f5f-d6bb-12b613c4bd55",
        "colab": {
          "base_uri": "https://localhost:8080/",
          "height": 191
        }
      },
      "source": [
        "df_merge = df_merge[df_merge.rating_y != -1]\n",
        "df_merge.head()"
      ],
      "execution_count": 0,
      "outputs": [
        {
          "output_type": "execute_result",
          "data": {
            "text/html": [
              "<div>\n",
              "<style scoped>\n",
              "    .dataframe tbody tr th:only-of-type {\n",
              "        vertical-align: middle;\n",
              "    }\n",
              "\n",
              "    .dataframe tbody tr th {\n",
              "        vertical-align: top;\n",
              "    }\n",
              "\n",
              "    .dataframe thead th {\n",
              "        text-align: right;\n",
              "    }\n",
              "</style>\n",
              "<table border=\"1\" class=\"dataframe\">\n",
              "  <thead>\n",
              "    <tr style=\"text-align: right;\">\n",
              "      <th></th>\n",
              "      <th>anime_id</th>\n",
              "      <th>name</th>\n",
              "      <th>genre</th>\n",
              "      <th>type</th>\n",
              "      <th>episodes</th>\n",
              "      <th>rating_x</th>\n",
              "      <th>members</th>\n",
              "      <th>user_id</th>\n",
              "      <th>rating_y</th>\n",
              "    </tr>\n",
              "  </thead>\n",
              "  <tbody>\n",
              "    <tr>\n",
              "      <th>0</th>\n",
              "      <td>32281</td>\n",
              "      <td>Kimi no Na wa.</td>\n",
              "      <td>Drama, Romance, School, Supernatural</td>\n",
              "      <td>Movie</td>\n",
              "      <td>1</td>\n",
              "      <td>9.37</td>\n",
              "      <td>200630</td>\n",
              "      <td>99</td>\n",
              "      <td>5</td>\n",
              "    </tr>\n",
              "    <tr>\n",
              "      <th>1</th>\n",
              "      <td>32281</td>\n",
              "      <td>Kimi no Na wa.</td>\n",
              "      <td>Drama, Romance, School, Supernatural</td>\n",
              "      <td>Movie</td>\n",
              "      <td>1</td>\n",
              "      <td>9.37</td>\n",
              "      <td>200630</td>\n",
              "      <td>152</td>\n",
              "      <td>10</td>\n",
              "    </tr>\n",
              "    <tr>\n",
              "      <th>2</th>\n",
              "      <td>32281</td>\n",
              "      <td>Kimi no Na wa.</td>\n",
              "      <td>Drama, Romance, School, Supernatural</td>\n",
              "      <td>Movie</td>\n",
              "      <td>1</td>\n",
              "      <td>9.37</td>\n",
              "      <td>200630</td>\n",
              "      <td>244</td>\n",
              "      <td>10</td>\n",
              "    </tr>\n",
              "    <tr>\n",
              "      <th>3</th>\n",
              "      <td>32281</td>\n",
              "      <td>Kimi no Na wa.</td>\n",
              "      <td>Drama, Romance, School, Supernatural</td>\n",
              "      <td>Movie</td>\n",
              "      <td>1</td>\n",
              "      <td>9.37</td>\n",
              "      <td>200630</td>\n",
              "      <td>271</td>\n",
              "      <td>10</td>\n",
              "    </tr>\n",
              "    <tr>\n",
              "      <th>5</th>\n",
              "      <td>32281</td>\n",
              "      <td>Kimi no Na wa.</td>\n",
              "      <td>Drama, Romance, School, Supernatural</td>\n",
              "      <td>Movie</td>\n",
              "      <td>1</td>\n",
              "      <td>9.37</td>\n",
              "      <td>200630</td>\n",
              "      <td>322</td>\n",
              "      <td>10</td>\n",
              "    </tr>\n",
              "  </tbody>\n",
              "</table>\n",
              "</div>"
            ],
            "text/plain": [
              "   anime_id            name  ... user_id rating_y\n",
              "0     32281  Kimi no Na wa.  ...      99        5\n",
              "1     32281  Kimi no Na wa.  ...     152       10\n",
              "2     32281  Kimi no Na wa.  ...     244       10\n",
              "3     32281  Kimi no Na wa.  ...     271       10\n",
              "5     32281  Kimi no Na wa.  ...     322       10\n",
              "\n",
              "[5 rows x 9 columns]"
            ]
          },
          "metadata": {
            "tags": []
          },
          "execution_count": 13
        }
      ]
    },
    {
      "cell_type": "code",
      "metadata": {
        "id": "yitglC3mnE74",
        "colab_type": "code",
        "outputId": "05839ed0-7c73-4a14-aca8-8b21bda266b3",
        "colab": {
          "base_uri": "https://localhost:8080/",
          "height": 33
        }
      },
      "source": [
        "df_merge.shape #have removed over 1 million rows"
      ],
      "execution_count": 0,
      "outputs": [
        {
          "output_type": "execute_result",
          "data": {
            "text/plain": [
              "(1950639, 9)"
            ]
          },
          "metadata": {
            "tags": []
          },
          "execution_count": 14
        }
      ]
    },
    {
      "cell_type": "code",
      "metadata": {
        "id": "y24yLQ0unE77",
        "colab_type": "code",
        "outputId": "74a671bd-4073-42af-d33a-e824c8751fc6",
        "colab": {
          "base_uri": "https://localhost:8080/",
          "height": 33
        }
      },
      "source": [
        "sample = df_merge.sample(frac=.25)\n",
        "sample.shape # this is still too large"
      ],
      "execution_count": 0,
      "outputs": [
        {
          "output_type": "execute_result",
          "data": {
            "text/plain": [
              "(487660, 9)"
            ]
          },
          "metadata": {
            "tags": []
          },
          "execution_count": 15
        }
      ]
    },
    {
      "cell_type": "code",
      "metadata": {
        "id": "Grn2w_aMnE79",
        "colab_type": "code",
        "outputId": "2800ac7c-f332-41e6-9c5c-8683d2ae17fe",
        "colab": {
          "base_uri": "https://localhost:8080/",
          "height": 33
        }
      },
      "source": [
        "sample = df_merge.sample(n=5000)\n",
        "sample.shape #below I conduct SVD and it cannot handle anything larger than 5000 (i've tried)"
      ],
      "execution_count": 0,
      "outputs": [
        {
          "output_type": "execute_result",
          "data": {
            "text/plain": [
              "(5000, 9)"
            ]
          },
          "metadata": {
            "tags": []
          },
          "execution_count": 16
        }
      ]
    },
    {
      "cell_type": "markdown",
      "metadata": {
        "id": "g8zOlE5OnE8B",
        "colab_type": "text"
      },
      "source": [
        "###It seems that the rating dataframe is based on each user and their individual rating for each anime id, whereas the anime dataframe is an average overall rating from all of its viewers.  "
      ]
    },
    {
      "cell_type": "code",
      "metadata": {
        "id": "L7UMnckMnE8B",
        "colab_type": "code",
        "outputId": "351a35a2-f659-4a65-fb08-1f5afe0f101c",
        "colab": {
          "base_uri": "https://localhost:8080/",
          "height": 391
        }
      },
      "source": [
        "#we are going to look at how many times each rating appears in a column\n",
        "ratings_x = sample['rating_x'].value_counts() #continuous \n",
        "ratings_y = sample['rating_y'].value_counts() #discrete\n",
        "\n",
        "print(ratings_x)\n",
        "print(ratings_y)"
      ],
      "execution_count": 0,
      "outputs": [
        {
          "output_type": "stream",
          "text": [
            "7.70    58\n",
            "7.55    57\n",
            "7.95    57\n",
            "7.81    56\n",
            "7.43    53\n",
            "        ..\n",
            "5.06     1\n",
            "5.80     1\n",
            "5.79     1\n",
            "3.68     1\n",
            "5.73     1\n",
            "Name: rating_x, Length: 333, dtype: int64\n",
            "8     1281\n",
            "7     1054\n",
            "9     1021\n",
            "10     747\n",
            "6      552\n",
            "5      204\n",
            "4       71\n",
            "3       32\n",
            "2       24\n",
            "1       14\n",
            "Name: rating_y, dtype: int64\n"
          ],
          "name": "stdout"
        }
      ]
    },
    {
      "cell_type": "code",
      "metadata": {
        "id": "-Ql1kmgLbhig",
        "colab_type": "code",
        "outputId": "538bf3e8-3b53-4072-c2cb-fa05a9a8c4fd",
        "colab": {
          "base_uri": "https://localhost:8080/",
          "height": 272
        }
      },
      "source": [
        "sample.rating_x = sample.rating_x.apply(round) #another important feature i have had to add is making all ratings discrete for SVD\n",
        "sample.head()"
      ],
      "execution_count": 0,
      "outputs": [
        {
          "output_type": "execute_result",
          "data": {
            "text/html": [
              "<div>\n",
              "<style scoped>\n",
              "    .dataframe tbody tr th:only-of-type {\n",
              "        vertical-align: middle;\n",
              "    }\n",
              "\n",
              "    .dataframe tbody tr th {\n",
              "        vertical-align: top;\n",
              "    }\n",
              "\n",
              "    .dataframe thead th {\n",
              "        text-align: right;\n",
              "    }\n",
              "</style>\n",
              "<table border=\"1\" class=\"dataframe\">\n",
              "  <thead>\n",
              "    <tr style=\"text-align: right;\">\n",
              "      <th></th>\n",
              "      <th>anime_id</th>\n",
              "      <th>name</th>\n",
              "      <th>genre</th>\n",
              "      <th>type</th>\n",
              "      <th>episodes</th>\n",
              "      <th>rating_x</th>\n",
              "      <th>members</th>\n",
              "      <th>user_id</th>\n",
              "      <th>rating_y</th>\n",
              "    </tr>\n",
              "  </thead>\n",
              "  <tbody>\n",
              "    <tr>\n",
              "      <th>354909</th>\n",
              "      <td>22145</td>\n",
              "      <td>Kuroshitsuji: Book of Circus</td>\n",
              "      <td>Comedy, Demons, Fantasy, Historical, Shounen, ...</td>\n",
              "      <td>TV</td>\n",
              "      <td>10</td>\n",
              "      <td>8</td>\n",
              "      <td>122895</td>\n",
              "      <td>20500</td>\n",
              "      <td>7</td>\n",
              "    </tr>\n",
              "    <tr>\n",
              "      <th>1343376</th>\n",
              "      <td>98</td>\n",
              "      <td>Mai-HiME</td>\n",
              "      <td>Action, Comedy, Drama, Fantasy, Magic, Mecha, ...</td>\n",
              "      <td>TV</td>\n",
              "      <td>26</td>\n",
              "      <td>8</td>\n",
              "      <td>76492</td>\n",
              "      <td>11385</td>\n",
              "      <td>8</td>\n",
              "    </tr>\n",
              "    <tr>\n",
              "      <th>553228</th>\n",
              "      <td>2952</td>\n",
              "      <td>Final Fantasy VII: Advent Children Complete</td>\n",
              "      <td>Action, Fantasy, Super Power</td>\n",
              "      <td>OVA</td>\n",
              "      <td>1</td>\n",
              "      <td>8</td>\n",
              "      <td>77111</td>\n",
              "      <td>15093</td>\n",
              "      <td>8</td>\n",
              "    </tr>\n",
              "    <tr>\n",
              "      <th>1342255</th>\n",
              "      <td>3392</td>\n",
              "      <td>Kiniro no Corda: Primo Passo - Hitonatsu no En...</td>\n",
              "      <td>Harem, Music, Romance, School, Shoujo</td>\n",
              "      <td>Special</td>\n",
              "      <td>1</td>\n",
              "      <td>8</td>\n",
              "      <td>17967</td>\n",
              "      <td>5943</td>\n",
              "      <td>8</td>\n",
              "    </tr>\n",
              "    <tr>\n",
              "      <th>848436</th>\n",
              "      <td>1818</td>\n",
              "      <td>Claymore</td>\n",
              "      <td>Action, Adventure, Demons, Fantasy, Shounen, S...</td>\n",
              "      <td>TV</td>\n",
              "      <td>26</td>\n",
              "      <td>8</td>\n",
              "      <td>316853</td>\n",
              "      <td>13569</td>\n",
              "      <td>9</td>\n",
              "    </tr>\n",
              "  </tbody>\n",
              "</table>\n",
              "</div>"
            ],
            "text/plain": [
              "         anime_id  ... rating_y\n",
              "354909      22145  ...        7\n",
              "1343376        98  ...        8\n",
              "553228       2952  ...        8\n",
              "1342255      3392  ...        8\n",
              "848436       1818  ...        9\n",
              "\n",
              "[5 rows x 9 columns]"
            ]
          },
          "metadata": {
            "tags": []
          },
          "execution_count": 18
        }
      ]
    },
    {
      "cell_type": "markdown",
      "metadata": {
        "id": "mgbPY3xPnE8E",
        "colab_type": "text"
      },
      "source": [
        "## Distribution of User Ratings"
      ]
    },
    {
      "cell_type": "code",
      "metadata": {
        "id": "IA2yxK1WnE8F",
        "colab_type": "code",
        "outputId": "355292bc-74fe-411e-c89d-99fd26e13963",
        "colab": {
          "base_uri": "https://localhost:8080/",
          "height": 295
        }
      },
      "source": [
        "# plot distribution in matplotlib\n",
        "ratings_sorted = sorted(list(zip(ratings_y.index, ratings_y)))\n",
        "plt.bar([r[0] for r in ratings_sorted], [r[1] for r in ratings_sorted], color='cyan')\n",
        "plt.xlabel(\"Rating\")\n",
        "plt.ylabel(\"# of Ratings\")\n",
        "plt.title(\"Distribution of Ratings\")\n",
        "plt.show()"
      ],
      "execution_count": 0,
      "outputs": [
        {
          "output_type": "display_data",
          "data": {
            "image/png": "[encoded data removed]",
            "text/plain": [
              "<Figure size 432x288 with 1 Axes>"
            ]
          },
          "metadata": {
            "tags": [],
            "needs_background": "light"
          }
        }
      ]
    },
    {
      "cell_type": "code",
      "metadata": {
        "id": "ZnsGfxacnE8I",
        "colab_type": "code",
        "outputId": "0322c1b3-86ed-43d8-e7ee-23ebecc3f7c0",
        "colab": {
          "base_uri": "https://localhost:8080/",
          "height": 50
        }
      },
      "source": [
        "#number of users\n",
        "print(\"Number of Users:\", df_merge.user_id.nunique())\n",
        "# print(\"Average Number of Reviews per User:\", df_merge.shape[0])/df_merge.user_id.nunique()\n",
        "avg_rate_peruser = df_merge.shape[0]\n",
        "user = df_merge.user_id.nunique()\n",
        "avg_num_review_per_user = avg_rate_peruser/user\n",
        "print(\"Average Number of Reveiws per User:\", avg_num_review_per_user)"
      ],
      "execution_count": 0,
      "outputs": [
        {
          "output_type": "stream",
          "text": [
            "Number of Users: 21710\n",
            "Average Number of Reveiws per User: 89.84979272224781\n"
          ],
          "name": "stdout"
        }
      ]
    },
    {
      "cell_type": "code",
      "metadata": {
        "id": "qu-u8fNFnE8K",
        "colab_type": "code",
        "outputId": "5c1b3a86-1199-4022-f36c-6801754e1dcd",
        "colab": {
          "base_uri": "https://localhost:8080/",
          "height": 212
        }
      },
      "source": [
        "sample['user_id'].value_counts()"
      ],
      "execution_count": 0,
      "outputs": [
        {
          "output_type": "execute_result",
          "data": {
            "text/plain": [
              "7345     9\n",
              "11536    8\n",
              "20766    7\n",
              "6969     7\n",
              "21588    7\n",
              "        ..\n",
              "10463    1\n",
              "11178    1\n",
              "4776     1\n",
              "13803    1\n",
              "16384    1\n",
              "Name: user_id, Length: 3735, dtype: int64"
            ]
          },
          "metadata": {
            "tags": []
          },
          "execution_count": 21
        }
      ]
    },
    {
      "cell_type": "markdown",
      "metadata": {
        "id": "8d116UGcnE8O",
        "colab_type": "text"
      },
      "source": [
        "## Number of Reviews per User"
      ]
    },
    {
      "cell_type": "code",
      "metadata": {
        "id": "S_mG1r4wnE8O",
        "colab_type": "code",
        "outputId": "59a6c1a1-996b-415c-cf62-6887ebf4b60f",
        "colab": {
          "base_uri": "https://localhost:8080/",
          "height": 295
        }
      },
      "source": [
        "ratings_per_user = sample['user_id'].value_counts()\n",
        "ratings_per_user = sorted(list(zip(ratings_per_user.index, ratings_per_user)))\n",
        "plt.bar([r[0] for r in ratings_per_user], [r[1] for r in ratings_per_user], color='pink')\n",
        "plt.xlabel('User IDs')\n",
        "plt.ylabel('# of Reviews')\n",
        "plt.title('Number of Reviews per User')\n",
        "plt.show()"
      ],
      "execution_count": 0,
      "outputs": [
        {
          "output_type": "display_data",
          "data": {
            "image/png": "[encoded data removed]",
            "text/plain": [
              "<Figure size 432x288 with 1 Axes>"
            ]
          },
          "metadata": {
            "tags": [],
            "needs_background": "light"
          }
        }
      ]
    },
    {
      "cell_type": "code",
      "metadata": {
        "id": "Mk9oNKXOnE8R",
        "colab_type": "code",
        "colab": {}
      },
      "source": [
        "#graph on user ratings, what are the most common scores given "
      ],
      "execution_count": 0,
      "outputs": []
    },
    {
      "cell_type": "markdown",
      "metadata": {
        "id": "hxCnhlSmnE8T",
        "colab_type": "text"
      },
      "source": [
        "## Different types of anime videos"
      ]
    },
    {
      "cell_type": "code",
      "metadata": {
        "id": "bFHb0hWgnE8U",
        "colab_type": "code",
        "outputId": "c2f0d7ef-1a5a-4e1f-8221-d14cf8cb368c",
        "colab": {
          "base_uri": "https://localhost:8080/",
          "height": 163
        }
      },
      "source": [
        "print(\"Number of users:\", sample.user_id.nunique())\n",
        "print(\"Number of types of different anime:\", sample.type.nunique())\n",
        "print(\"Types of type:\", sample.type.value_counts())"
      ],
      "execution_count": 0,
      "outputs": [
        {
          "output_type": "stream",
          "text": [
            "Number of users: 3735\n",
            "Number of types of different anime: 6\n",
            "Types of type: TV         3424\n",
            "Movie       690\n",
            "OVA         475\n",
            "Special     339\n",
            "ONA          54\n",
            "Music        18\n",
            "Name: type, dtype: int64\n"
          ],
          "name": "stdout"
        }
      ]
    },
    {
      "cell_type": "markdown",
      "metadata": {
        "id": "496-cXfEnE8W",
        "colab_type": "text"
      },
      "source": [
        "This means that there are six different categories for anime: <br>\n",
        "Movies, TV, OVA, Special, ONA and Music. <br>\n",
        "***OVA stands for orginal animation video, this has been released directly to the video market <br>\n",
        "Special is not a common occuring video, it is usually shot yearly or on a one off <br>\n",
        "Music is not just audio here, but a lively animated motion picture to go with the composed music piece ***"
      ]
    },
    {
      "cell_type": "code",
      "metadata": {
        "id": "lOjLNTOCnE8X",
        "colab_type": "code",
        "outputId": "30b90fe8-a6af-48ae-d4f9-50d7fa767421",
        "colab": {
          "base_uri": "https://localhost:8080/",
          "height": 521
        }
      },
      "source": [
        "sample_of_sample = sample[:100] #taking a sample to see if its the amount of data or its the command given\n",
        "sample_of_sample"
      ],
      "execution_count": 0,
      "outputs": [
        {
          "output_type": "execute_result",
          "data": {
            "text/html": [
              "<div>\n",
              "<style scoped>\n",
              "    .dataframe tbody tr th:only-of-type {\n",
              "        vertical-align: middle;\n",
              "    }\n",
              "\n",
              "    .dataframe tbody tr th {\n",
              "        vertical-align: top;\n",
              "    }\n",
              "\n",
              "    .dataframe thead th {\n",
              "        text-align: right;\n",
              "    }\n",
              "</style>\n",
              "<table border=\"1\" class=\"dataframe\">\n",
              "  <thead>\n",
              "    <tr style=\"text-align: right;\">\n",
              "      <th></th>\n",
              "      <th>anime_id</th>\n",
              "      <th>name</th>\n",
              "      <th>genre</th>\n",
              "      <th>type</th>\n",
              "      <th>episodes</th>\n",
              "      <th>rating_x</th>\n",
              "      <th>members</th>\n",
              "      <th>user_id</th>\n",
              "      <th>rating_y</th>\n",
              "    </tr>\n",
              "  </thead>\n",
              "  <tbody>\n",
              "    <tr>\n",
              "      <th>354909</th>\n",
              "      <td>22145</td>\n",
              "      <td>Kuroshitsuji: Book of Circus</td>\n",
              "      <td>Comedy, Demons, Fantasy, Historical, Shounen, ...</td>\n",
              "      <td>TV</td>\n",
              "      <td>10</td>\n",
              "      <td>8</td>\n",
              "      <td>122895</td>\n",
              "      <td>20500</td>\n",
              "      <td>7</td>\n",
              "    </tr>\n",
              "    <tr>\n",
              "      <th>1343376</th>\n",
              "      <td>98</td>\n",
              "      <td>Mai-HiME</td>\n",
              "      <td>Action, Comedy, Drama, Fantasy, Magic, Mecha, ...</td>\n",
              "      <td>TV</td>\n",
              "      <td>26</td>\n",
              "      <td>8</td>\n",
              "      <td>76492</td>\n",
              "      <td>11385</td>\n",
              "      <td>8</td>\n",
              "    </tr>\n",
              "    <tr>\n",
              "      <th>553228</th>\n",
              "      <td>2952</td>\n",
              "      <td>Final Fantasy VII: Advent Children Complete</td>\n",
              "      <td>Action, Fantasy, Super Power</td>\n",
              "      <td>OVA</td>\n",
              "      <td>1</td>\n",
              "      <td>8</td>\n",
              "      <td>77111</td>\n",
              "      <td>15093</td>\n",
              "      <td>8</td>\n",
              "    </tr>\n",
              "    <tr>\n",
              "      <th>1342255</th>\n",
              "      <td>3392</td>\n",
              "      <td>Kiniro no Corda: Primo Passo - Hitonatsu no En...</td>\n",
              "      <td>Harem, Music, Romance, School, Shoujo</td>\n",
              "      <td>Special</td>\n",
              "      <td>1</td>\n",
              "      <td>8</td>\n",
              "      <td>17967</td>\n",
              "      <td>5943</td>\n",
              "      <td>8</td>\n",
              "    </tr>\n",
              "    <tr>\n",
              "      <th>848436</th>\n",
              "      <td>1818</td>\n",
              "      <td>Claymore</td>\n",
              "      <td>Action, Adventure, Demons, Fantasy, Shounen, S...</td>\n",
              "      <td>TV</td>\n",
              "      <td>26</td>\n",
              "      <td>8</td>\n",
              "      <td>316853</td>\n",
              "      <td>13569</td>\n",
              "      <td>9</td>\n",
              "    </tr>\n",
              "    <tr>\n",
              "      <th>...</th>\n",
              "      <td>...</td>\n",
              "      <td>...</td>\n",
              "      <td>...</td>\n",
              "      <td>...</td>\n",
              "      <td>...</td>\n",
              "      <td>...</td>\n",
              "      <td>...</td>\n",
              "      <td>...</td>\n",
              "      <td>...</td>\n",
              "    </tr>\n",
              "    <tr>\n",
              "      <th>412392</th>\n",
              "      <td>6</td>\n",
              "      <td>Trigun</td>\n",
              "      <td>Action, Comedy, Sci-Fi</td>\n",
              "      <td>TV</td>\n",
              "      <td>26</td>\n",
              "      <td>8</td>\n",
              "      <td>283069</td>\n",
              "      <td>2712</td>\n",
              "      <td>8</td>\n",
              "    </tr>\n",
              "    <tr>\n",
              "      <th>855230</th>\n",
              "      <td>4472</td>\n",
              "      <td>Lucky☆Star: Original na Visual to Animation</td>\n",
              "      <td>Comedy, Parody, School, Slice of Life</td>\n",
              "      <td>OVA</td>\n",
              "      <td>1</td>\n",
              "      <td>8</td>\n",
              "      <td>84833</td>\n",
              "      <td>7581</td>\n",
              "      <td>8</td>\n",
              "    </tr>\n",
              "    <tr>\n",
              "      <th>2054497</th>\n",
              "      <td>936</td>\n",
              "      <td>Naruto Movie 2: Dai Gekitotsu! Maboroshi no Ch...</td>\n",
              "      <td>Adventure, Comedy, Drama, Fantasy, Shounen, Su...</td>\n",
              "      <td>Movie</td>\n",
              "      <td>1</td>\n",
              "      <td>7</td>\n",
              "      <td>97308</td>\n",
              "      <td>7116</td>\n",
              "      <td>5</td>\n",
              "    </tr>\n",
              "    <tr>\n",
              "      <th>624538</th>\n",
              "      <td>14813</td>\n",
              "      <td>Yahari Ore no Seishun Love Comedy wa Machigatt...</td>\n",
              "      <td>Comedy, Drama, Romance, School</td>\n",
              "      <td>TV</td>\n",
              "      <td>13</td>\n",
              "      <td>8</td>\n",
              "      <td>353876</td>\n",
              "      <td>3453</td>\n",
              "      <td>8</td>\n",
              "    </tr>\n",
              "    <tr>\n",
              "      <th>1723032</th>\n",
              "      <td>16417</td>\n",
              "      <td>Tamako Market</td>\n",
              "      <td>Comedy, Slice of Life</td>\n",
              "      <td>TV</td>\n",
              "      <td>12</td>\n",
              "      <td>7</td>\n",
              "      <td>128529</td>\n",
              "      <td>22090</td>\n",
              "      <td>7</td>\n",
              "    </tr>\n",
              "  </tbody>\n",
              "</table>\n",
              "<p>100 rows × 9 columns</p>\n",
              "</div>"
            ],
            "text/plain": [
              "         anime_id  ... rating_y\n",
              "354909      22145  ...        7\n",
              "1343376        98  ...        8\n",
              "553228       2952  ...        8\n",
              "1342255      3392  ...        8\n",
              "848436       1818  ...        9\n",
              "...           ...  ...      ...\n",
              "412392          6  ...        8\n",
              "855230       4472  ...        8\n",
              "2054497       936  ...        5\n",
              "624538      14813  ...        8\n",
              "1723032     16417  ...        7\n",
              "\n",
              "[100 rows x 9 columns]"
            ]
          },
          "metadata": {
            "tags": []
          },
          "execution_count": 25
        }
      ]
    },
    {
      "cell_type": "code",
      "metadata": {
        "id": "E3BluncInE8b",
        "colab_type": "code",
        "outputId": "5e1161a4-daf6-4e61-c095-0c1c8812b464",
        "colab": {
          "base_uri": "https://localhost:8080/",
          "height": 488
        }
      },
      "source": [
        "sample.loc[sample['type'] == 'Movie']"
      ],
      "execution_count": 0,
      "outputs": [
        {
          "output_type": "execute_result",
          "data": {
            "text/html": [
              "<div>\n",
              "<style scoped>\n",
              "    .dataframe tbody tr th:only-of-type {\n",
              "        vertical-align: middle;\n",
              "    }\n",
              "\n",
              "    .dataframe tbody tr th {\n",
              "        vertical-align: top;\n",
              "    }\n",
              "\n",
              "    .dataframe thead th {\n",
              "        text-align: right;\n",
              "    }\n",
              "</style>\n",
              "<table border=\"1\" class=\"dataframe\">\n",
              "  <thead>\n",
              "    <tr style=\"text-align: right;\">\n",
              "      <th></th>\n",
              "      <th>anime_id</th>\n",
              "      <th>name</th>\n",
              "      <th>genre</th>\n",
              "      <th>type</th>\n",
              "      <th>episodes</th>\n",
              "      <th>rating_x</th>\n",
              "      <th>members</th>\n",
              "      <th>user_id</th>\n",
              "      <th>rating_y</th>\n",
              "    </tr>\n",
              "  </thead>\n",
              "  <tbody>\n",
              "    <tr>\n",
              "      <th>1643125</th>\n",
              "      <td>1526</td>\n",
              "      <td>Pokemon Advanced Generation: Mew to Hadou no Y...</td>\n",
              "      <td>Action, Adventure, Drama, Fantasy, Kids</td>\n",
              "      <td>Movie</td>\n",
              "      <td>1</td>\n",
              "      <td>7</td>\n",
              "      <td>46887</td>\n",
              "      <td>1309</td>\n",
              "      <td>7</td>\n",
              "    </tr>\n",
              "    <tr>\n",
              "      <th>1958460</th>\n",
              "      <td>903</td>\n",
              "      <td>Dragon Ball Z Movie 10: Kiken na Futari! Super...</td>\n",
              "      <td>Action, Adventure, Comedy, Demons, Fantasy, Ma...</td>\n",
              "      <td>Movie</td>\n",
              "      <td>1</td>\n",
              "      <td>7</td>\n",
              "      <td>54947</td>\n",
              "      <td>7580</td>\n",
              "      <td>5</td>\n",
              "    </tr>\n",
              "    <tr>\n",
              "      <th>1059772</th>\n",
              "      <td>9000</td>\n",
              "      <td>Toaru Hikuushi e no Tsuioku</td>\n",
              "      <td>Adventure, Military, Romance</td>\n",
              "      <td>Movie</td>\n",
              "      <td>1</td>\n",
              "      <td>8</td>\n",
              "      <td>28857</td>\n",
              "      <td>21211</td>\n",
              "      <td>9</td>\n",
              "    </tr>\n",
              "    <tr>\n",
              "      <th>1916453</th>\n",
              "      <td>3745</td>\n",
              "      <td>Crayon Shin-chan Movie 02: Buriburi Oukoku no ...</td>\n",
              "      <td>Comedy, Ecchi, Kids, School, Shounen, Slice of...</td>\n",
              "      <td>Movie</td>\n",
              "      <td>1</td>\n",
              "      <td>7</td>\n",
              "      <td>2073</td>\n",
              "      <td>1900</td>\n",
              "      <td>7</td>\n",
              "    </tr>\n",
              "    <tr>\n",
              "      <th>377323</th>\n",
              "      <td>1033</td>\n",
              "      <td>Sennen Joyuu</td>\n",
              "      <td>Action, Adventure, Drama, Fantasy, Historical,...</td>\n",
              "      <td>Movie</td>\n",
              "      <td>1</td>\n",
              "      <td>8</td>\n",
              "      <td>58492</td>\n",
              "      <td>5314</td>\n",
              "      <td>7</td>\n",
              "    </tr>\n",
              "    <tr>\n",
              "      <th>...</th>\n",
              "      <td>...</td>\n",
              "      <td>...</td>\n",
              "      <td>...</td>\n",
              "      <td>...</td>\n",
              "      <td>...</td>\n",
              "      <td>...</td>\n",
              "      <td>...</td>\n",
              "      <td>...</td>\n",
              "      <td>...</td>\n",
              "    </tr>\n",
              "    <tr>\n",
              "      <th>1737538</th>\n",
              "      <td>1901</td>\n",
              "      <td>11-nin Iru!</td>\n",
              "      <td>Action, Adventure, Drama, Mystery, Romance, Sc...</td>\n",
              "      <td>Movie</td>\n",
              "      <td>1</td>\n",
              "      <td>7</td>\n",
              "      <td>4311</td>\n",
              "      <td>5899</td>\n",
              "      <td>7</td>\n",
              "    </tr>\n",
              "    <tr>\n",
              "      <th>191275</th>\n",
              "      <td>3784</td>\n",
              "      <td>Evangelion: 2.0 You Can (Not) Advance</td>\n",
              "      <td>Action, Mecha, Sci-Fi</td>\n",
              "      <td>Movie</td>\n",
              "      <td>1</td>\n",
              "      <td>9</td>\n",
              "      <td>182224</td>\n",
              "      <td>2407</td>\n",
              "      <td>1</td>\n",
              "    </tr>\n",
              "    <tr>\n",
              "      <th>528917</th>\n",
              "      <td>1430</td>\n",
              "      <td>Lupin III: Cagliostro no Shiro</td>\n",
              "      <td>Adventure, Comedy, Shounen</td>\n",
              "      <td>Movie</td>\n",
              "      <td>1</td>\n",
              "      <td>8</td>\n",
              "      <td>32732</td>\n",
              "      <td>3426</td>\n",
              "      <td>6</td>\n",
              "    </tr>\n",
              "    <tr>\n",
              "      <th>75419</th>\n",
              "      <td>164</td>\n",
              "      <td>Mononoke Hime</td>\n",
              "      <td>Action, Adventure, Fantasy</td>\n",
              "      <td>Movie</td>\n",
              "      <td>1</td>\n",
              "      <td>9</td>\n",
              "      <td>339556</td>\n",
              "      <td>19777</td>\n",
              "      <td>10</td>\n",
              "    </tr>\n",
              "    <tr>\n",
              "      <th>1065376</th>\n",
              "      <td>6637</td>\n",
              "      <td>Higashi no Eden Movie II: Paradise Lost</td>\n",
              "      <td>Action, Comedy, Drama, Mystery, Romance, Thriller</td>\n",
              "      <td>Movie</td>\n",
              "      <td>1</td>\n",
              "      <td>8</td>\n",
              "      <td>87062</td>\n",
              "      <td>15817</td>\n",
              "      <td>8</td>\n",
              "    </tr>\n",
              "  </tbody>\n",
              "</table>\n",
              "<p>690 rows × 9 columns</p>\n",
              "</div>"
            ],
            "text/plain": [
              "         anime_id  ... rating_y\n",
              "1643125      1526  ...        7\n",
              "1958460       903  ...        5\n",
              "1059772      9000  ...        9\n",
              "1916453      3745  ...        7\n",
              "377323       1033  ...        7\n",
              "...           ...  ...      ...\n",
              "1737538      1901  ...        7\n",
              "191275       3784  ...        1\n",
              "528917       1430  ...        6\n",
              "75419         164  ...       10\n",
              "1065376      6637  ...        8\n",
              "\n",
              "[690 rows x 9 columns]"
            ]
          },
          "metadata": {
            "tags": []
          },
          "execution_count": 26
        }
      ]
    },
    {
      "cell_type": "code",
      "metadata": {
        "id": "HBuoD77PnE8e",
        "colab_type": "code",
        "outputId": "dfccf8e9-49de-4e34-c802-17be24121530",
        "colab": {
          "base_uri": "https://localhost:8080/",
          "height": 33
        }
      },
      "source": [
        "len(sample.loc[sample['type'] == 'TV']) #How many tv shows there are in the dataframe"
      ],
      "execution_count": 0,
      "outputs": [
        {
          "output_type": "execute_result",
          "data": {
            "text/plain": [
              "3424"
            ]
          },
          "metadata": {
            "tags": []
          },
          "execution_count": 27
        }
      ]
    },
    {
      "cell_type": "code",
      "metadata": {
        "id": "RCsbBlBWnE8h",
        "colab_type": "code",
        "outputId": "55698495-8fdd-41ba-9eb5-35f381e0cb14",
        "colab": {
          "base_uri": "https://localhost:8080/",
          "height": 33
        }
      },
      "source": [
        "len(sample.loc[sample['type'] == 'Movie'])"
      ],
      "execution_count": 0,
      "outputs": [
        {
          "output_type": "execute_result",
          "data": {
            "text/plain": [
              "690"
            ]
          },
          "metadata": {
            "tags": []
          },
          "execution_count": 28
        }
      ]
    },
    {
      "cell_type": "code",
      "metadata": {
        "id": "T6Of1OZFnE8j",
        "colab_type": "code",
        "outputId": "6a3d145a-45b3-4651-b1fc-a211552a7483",
        "colab": {
          "base_uri": "https://localhost:8080/",
          "height": 115
        }
      },
      "source": [
        "sample.loc[sample['type'] == 'Movie'].rating_x.value_counts() #Viewer ratings for films "
      ],
      "execution_count": 0,
      "outputs": [
        {
          "output_type": "execute_result",
          "data": {
            "text/plain": [
              "8    425\n",
              "7    167\n",
              "9     85\n",
              "6     11\n",
              "4      2\n",
              "Name: rating_x, dtype: int64"
            ]
          },
          "metadata": {
            "tags": []
          },
          "execution_count": 29
        }
      ]
    },
    {
      "cell_type": "code",
      "metadata": {
        "id": "JeYYpdY9nE8l",
        "colab_type": "code",
        "outputId": "95e8399a-c961-4c33-d701-ff77d2a4c242",
        "colab": {
          "base_uri": "https://localhost:8080/",
          "height": 196
        }
      },
      "source": [
        "sample.loc[sample['type'] == 'Movie'].rating_y.value_counts() #Viewer ratings for films "
      ],
      "execution_count": 0,
      "outputs": [
        {
          "output_type": "execute_result",
          "data": {
            "text/plain": [
              "8     184\n",
              "7     151\n",
              "9     139\n",
              "10    110\n",
              "6      67\n",
              "5      29\n",
              "4       3\n",
              "2       3\n",
              "1       3\n",
              "3       1\n",
              "Name: rating_y, dtype: int64"
            ]
          },
          "metadata": {
            "tags": []
          },
          "execution_count": 30
        }
      ]
    },
    {
      "cell_type": "markdown",
      "metadata": {
        "id": "n3Gju4rDnE8q",
        "colab_type": "text"
      },
      "source": [
        "***drop rows containing -1 as rating in df_merge ***\n",
        "could be that I have an approximation error "
      ]
    },
    {
      "cell_type": "markdown",
      "metadata": {
        "id": "oikzkDXQnE8r",
        "colab_type": "text"
      },
      "source": [
        "*** Look at min ratings in rating_x *** if its a rating error, we would recreate y based off of x. (round to a whole number) *** 0 decimal places"
      ]
    },
    {
      "cell_type": "markdown",
      "metadata": {
        "id": "XN1Ik_xLnE8r",
        "colab_type": "text"
      },
      "source": [
        "## Most Reviewed Videos"
      ]
    },
    {
      "cell_type": "code",
      "metadata": {
        "id": "8tFo4Wz8nE8r",
        "colab_type": "code",
        "outputId": "543bac26-a938-4d38-93ac-b3fe2d021d71",
        "colab": {
          "base_uri": "https://localhost:8080/",
          "height": 33
        }
      },
      "source": [
        "movies_review = len(sample.loc[sample['type'] == 'Movie'])\n",
        "movies_review"
      ],
      "execution_count": 0,
      "outputs": [
        {
          "output_type": "execute_result",
          "data": {
            "text/plain": [
              "690"
            ]
          },
          "metadata": {
            "tags": []
          },
          "execution_count": 31
        }
      ]
    },
    {
      "cell_type": "code",
      "metadata": {
        "id": "e_3-JZXEnE8z",
        "colab_type": "code",
        "outputId": "3d0dc9e6-530f-4306-fe04-ec15087d382d",
        "colab": {
          "base_uri": "https://localhost:8080/",
          "height": 33
        }
      },
      "source": [
        "tv_reviews = len(sample.loc[sample['type'] == 'TV'])\n",
        "tv_reviews"
      ],
      "execution_count": 0,
      "outputs": [
        {
          "output_type": "execute_result",
          "data": {
            "text/plain": [
              "3424"
            ]
          },
          "metadata": {
            "tags": []
          },
          "execution_count": 32
        }
      ]
    },
    {
      "cell_type": "code",
      "metadata": {
        "id": "vIr4oAyAnE82",
        "colab_type": "code",
        "outputId": "43f0663b-9423-4c31-989c-d536a072b758",
        "colab": {
          "base_uri": "https://localhost:8080/",
          "height": 33
        }
      },
      "source": [
        "ova_reviews = len(sample.loc[sample['type'] =='OVA'])\n",
        "ova_reviews"
      ],
      "execution_count": 0,
      "outputs": [
        {
          "output_type": "execute_result",
          "data": {
            "text/plain": [
              "475"
            ]
          },
          "metadata": {
            "tags": []
          },
          "execution_count": 33
        }
      ]
    },
    {
      "cell_type": "code",
      "metadata": {
        "id": "-oHGLfMgSzHO",
        "colab_type": "code",
        "outputId": "1f1bfd01-ff44-430b-d38e-72259c5d610a",
        "colab": {
          "base_uri": "https://localhost:8080/",
          "height": 33
        }
      },
      "source": [
        "music_reviews = len(sample.loc[sample['type'] =='Music'])\n",
        "music_reviews"
      ],
      "execution_count": 0,
      "outputs": [
        {
          "output_type": "execute_result",
          "data": {
            "text/plain": [
              "18"
            ]
          },
          "metadata": {
            "tags": []
          },
          "execution_count": 34
        }
      ]
    },
    {
      "cell_type": "code",
      "metadata": {
        "id": "gmNrTMyySzh6",
        "colab_type": "code",
        "outputId": "ead9aca0-3d2a-440b-dc25-371bdf641be2",
        "colab": {
          "base_uri": "https://localhost:8080/",
          "height": 33
        }
      },
      "source": [
        "ona_reviews = len(sample.loc[sample['type'] =='ONA'])\n",
        "ona_reviews"
      ],
      "execution_count": 0,
      "outputs": [
        {
          "output_type": "execute_result",
          "data": {
            "text/plain": [
              "54"
            ]
          },
          "metadata": {
            "tags": []
          },
          "execution_count": 35
        }
      ]
    },
    {
      "cell_type": "code",
      "metadata": {
        "id": "Q1GMel8HS0d1",
        "colab_type": "code",
        "outputId": "d143dd4d-1217-4f19-9af0-f6ae6d1733b3",
        "colab": {
          "base_uri": "https://localhost:8080/",
          "height": 33
        }
      },
      "source": [
        "special_reviews = len(sample.loc[sample['type'] =='Special'])\n",
        "special_reviews"
      ],
      "execution_count": 0,
      "outputs": [
        {
          "output_type": "execute_result",
          "data": {
            "text/plain": [
              "339"
            ]
          },
          "metadata": {
            "tags": []
          },
          "execution_count": 36
        }
      ]
    },
    {
      "cell_type": "code",
      "metadata": {
        "id": "cWPp_Rp1TEkH",
        "colab_type": "code",
        "outputId": "b8810fee-244c-4cea-f08d-d29ca8d2b0a2",
        "colab": {
          "base_uri": "https://localhost:8080/",
          "height": 621
        }
      },
      "source": [
        "# PLOT them \n",
        "fig = plt.figure(figsize=(12,10))\n",
        "sns.countplot(sample['type'], palette='gist_rainbow')\n",
        "plt.title(\"Most Viewed Anime\")\n",
        "plt.xlabel(\"Types\")\n",
        "plt.ylabel(\"Number of Views with Reviews\")\n",
        "plt.legend(sample['type'])\n",
        "plt.show()"
      ],
      "execution_count": 0,
      "outputs": [
        {
          "output_type": "display_data",
          "data": {
            "image/png": "[encoded data removed]",
            "text/plain": [
              "<Figure size 864x720 with 1 Axes>"
            ]
          },
          "metadata": {
            "tags": [],
            "needs_background": "light"
          }
        }
      ]
    },
    {
      "cell_type": "code",
      "metadata": {
        "id": "V8kDcAcanE9F",
        "colab_type": "code",
        "outputId": "e8ba3876-7d10-43a3-cb16-af162f529ac7",
        "colab": {
          "base_uri": "https://localhost:8080/",
          "height": 33
        }
      },
      "source": [
        "len(sample)"
      ],
      "execution_count": 0,
      "outputs": [
        {
          "output_type": "execute_result",
          "data": {
            "text/plain": [
              "5000"
            ]
          },
          "metadata": {
            "tags": []
          },
          "execution_count": 43
        }
      ]
    },
    {
      "cell_type": "markdown",
      "metadata": {
        "id": "9z9Z9lkwnE9H",
        "colab_type": "text"
      },
      "source": [
        "# Implementing a Surprise's Singular Value Decomposition (SVD) as a Baseline"
      ]
    },
    {
      "cell_type": "code",
      "metadata": {
        "id": "4a0xCAzwkQaF",
        "colab_type": "code",
        "outputId": "64044a5a-22fd-48d3-a5fa-c9f5fc4f85c9",
        "colab": {
          "base_uri": "https://localhost:8080/",
          "height": 240
        }
      },
      "source": [
        "sample.rating_x = sample.rating_x.apply(round)\n",
        "sample.head()"
      ],
      "execution_count": 0,
      "outputs": [
        {
          "output_type": "execute_result",
          "data": {
            "text/html": [
              "<div>\n",
              "<style scoped>\n",
              "    .dataframe tbody tr th:only-of-type {\n",
              "        vertical-align: middle;\n",
              "    }\n",
              "\n",
              "    .dataframe tbody tr th {\n",
              "        vertical-align: top;\n",
              "    }\n",
              "\n",
              "    .dataframe thead th {\n",
              "        text-align: right;\n",
              "    }\n",
              "</style>\n",
              "<table border=\"1\" class=\"dataframe\">\n",
              "  <thead>\n",
              "    <tr style=\"text-align: right;\">\n",
              "      <th></th>\n",
              "      <th>anime_id</th>\n",
              "      <th>name</th>\n",
              "      <th>genre</th>\n",
              "      <th>type</th>\n",
              "      <th>episodes</th>\n",
              "      <th>rating_x</th>\n",
              "      <th>members</th>\n",
              "      <th>user_id</th>\n",
              "      <th>rating_y</th>\n",
              "    </tr>\n",
              "  </thead>\n",
              "  <tbody>\n",
              "    <tr>\n",
              "      <th>4345477</th>\n",
              "      <td>356</td>\n",
              "      <td>Fate/stay night</td>\n",
              "      <td>Action, Fantasy, Magic, Romance, Supernatural</td>\n",
              "      <td>TV</td>\n",
              "      <td>24</td>\n",
              "      <td>8</td>\n",
              "      <td>374880</td>\n",
              "      <td>22158</td>\n",
              "      <td>9</td>\n",
              "    </tr>\n",
              "    <tr>\n",
              "      <th>4192888</th>\n",
              "      <td>1195</td>\n",
              "      <td>Zero no Tsukaima</td>\n",
              "      <td>Action, Adventure, Comedy, Ecchi, Fantasy, Har...</td>\n",
              "      <td>TV</td>\n",
              "      <td>13</td>\n",
              "      <td>8</td>\n",
              "      <td>346828</td>\n",
              "      <td>36587</td>\n",
              "      <td>5</td>\n",
              "    </tr>\n",
              "    <tr>\n",
              "      <th>5380692</th>\n",
              "      <td>152</td>\n",
              "      <td>Solty Rei</td>\n",
              "      <td>Action, Sci-Fi, Super Power</td>\n",
              "      <td>TV</td>\n",
              "      <td>24</td>\n",
              "      <td>7</td>\n",
              "      <td>17943</td>\n",
              "      <td>29858</td>\n",
              "      <td>8</td>\n",
              "    </tr>\n",
              "    <tr>\n",
              "      <th>5095893</th>\n",
              "      <td>27</td>\n",
              "      <td>Trinity Blood</td>\n",
              "      <td>Action, Supernatural, Vampire</td>\n",
              "      <td>TV</td>\n",
              "      <td>24</td>\n",
              "      <td>7</td>\n",
              "      <td>113791</td>\n",
              "      <td>31849</td>\n",
              "      <td>7</td>\n",
              "    </tr>\n",
              "    <tr>\n",
              "      <th>7276500</th>\n",
              "      <td>31121</td>\n",
              "      <td>Monster Musume no Iru Nichijou: Hobo Mainichi ...</td>\n",
              "      <td>Comedy, Slice of Life</td>\n",
              "      <td>ONA</td>\n",
              "      <td>60</td>\n",
              "      <td>7</td>\n",
              "      <td>13801</td>\n",
              "      <td>34071</td>\n",
              "      <td>9</td>\n",
              "    </tr>\n",
              "  </tbody>\n",
              "</table>\n",
              "</div>"
            ],
            "text/plain": [
              "         anime_id  ... rating_y\n",
              "4345477       356  ...        9\n",
              "4192888      1195  ...        5\n",
              "5380692       152  ...        8\n",
              "5095893        27  ...        7\n",
              "7276500     31121  ...        9\n",
              "\n",
              "[5 rows x 9 columns]"
            ]
          },
          "metadata": {
            "tags": []
          },
          "execution_count": 137
        }
      ]
    },
    {
      "cell_type": "code",
      "metadata": {
        "id": "u3ctsBehnE9I",
        "colab_type": "code",
        "colab": {}
      },
      "source": [
        "#for surprise, it likes its data in a certain way and only that specific data\n",
        "data = sample[['user_id', 'anime_id', 'rating_x']] #may need to do rating_x rounded and then use rating_y\n",
        "reader = Reader(line_format='user item rating', sep='')\n",
        "anime_loaded_data = Dataset.load_from_df(data, reader)\n",
        "# anime_split = anime_loaded_data.split(n_folds=5) \n",
        "\n",
        "#train_test_split\n",
        "trainset, testset = train_test_split(anime_loaded_data, test_size=.2)"
      ],
      "execution_count": 0,
      "outputs": []
    },
    {
      "cell_type": "code",
      "metadata": {
        "id": "GL-WXAOv_BBw",
        "colab_type": "code",
        "outputId": "608a560e-1d91-43ab-88fd-0f1515990122",
        "colab": {
          "base_uri": "https://localhost:8080/",
          "height": 33
        }
      },
      "source": [
        "anime_loaded_data"
      ],
      "execution_count": 0,
      "outputs": [
        {
          "output_type": "execute_result",
          "data": {
            "text/plain": [
              "<surprise.dataset.DatasetAutoFolds at 0x7f0a724264a8>"
            ]
          },
          "metadata": {
            "tags": []
          },
          "execution_count": 139
        }
      ]
    },
    {
      "cell_type": "code",
      "metadata": {
        "id": "1LrsZrU6nE9L",
        "colab_type": "code",
        "outputId": "af9bb817-30bb-4408-ece0-07e9ef4a3785",
        "colab": {
          "base_uri": "https://localhost:8080/",
          "height": 33
        }
      },
      "source": [
        "#INSTANTIATE the SVD and fit only the train set\n",
        "svd = SVD()\n",
        "svd.fit(trainset)"
      ],
      "execution_count": 0,
      "outputs": [
        {
          "output_type": "execute_result",
          "data": {
            "text/plain": [
              "<surprise.prediction_algorithms.matrix_factorization.SVD at 0x7f0a7241bb00>"
            ]
          },
          "metadata": {
            "tags": []
          },
          "execution_count": 140
        }
      ]
    },
    {
      "cell_type": "code",
      "metadata": {
        "id": "pd6fEbcmnE9T",
        "colab_type": "code",
        "outputId": "7f71f1b2-7aed-412e-f10f-8af331d2fb28",
        "colab": {
          "base_uri": "https://localhost:8080/",
          "height": 50
        }
      },
      "source": [
        "predictions = svd.test(testset) #\n",
        "accuracy.rmse(predictions)"
      ],
      "execution_count": 0,
      "outputs": [
        {
          "output_type": "stream",
          "text": [
            "RMSE: 2.7731\n"
          ],
          "name": "stdout"
        },
        {
          "output_type": "execute_result",
          "data": {
            "text/plain": [
              "2.7730849247724096"
            ]
          },
          "metadata": {
            "tags": []
          },
          "execution_count": 141
        }
      ]
    },
    {
      "cell_type": "markdown",
      "metadata": {
        "id": "nb0LlqhqKzcH",
        "colab_type": "text"
      },
      "source": [
        "*** I don't think this is better than the .66 that I have above on the memory based models.***"
      ]
    },
    {
      "cell_type": "code",
      "metadata": {
        "id": "xB6P_zDMnE9V",
        "colab_type": "code",
        "outputId": "354dbcf0-3b87-4e18-e94a-ddc921e7a8dc",
        "colab": {
          "base_uri": "https://localhost:8080/",
          "height": 180
        }
      },
      "source": [
        "predictions[:10]"
      ],
      "execution_count": 0,
      "outputs": [
        {
          "output_type": "execute_result",
          "data": {
            "text/plain": [
              "[Prediction(uid=27058, iid=3572, r_ui=8.0, est=5, details={'was_impossible': False}),\n",
              " Prediction(uid=38620, iid=13667, r_ui=8.0, est=5, details={'was_impossible': False}),\n",
              " Prediction(uid=29646, iid=31376, r_ui=8.0, est=5, details={'was_impossible': False}),\n",
              " Prediction(uid=5296, iid=1108, r_ui=7.0, est=5, details={'was_impossible': False}),\n",
              " Prediction(uid=50977, iid=690, r_ui=7.0, est=5, details={'was_impossible': False}),\n",
              " Prediction(uid=52361, iid=5955, r_ui=7.0, est=5, details={'was_impossible': False}),\n",
              " Prediction(uid=16744, iid=8536, r_ui=7.0, est=5, details={'was_impossible': False}),\n",
              " Prediction(uid=33730, iid=18881, r_ui=6.0, est=5, details={'was_impossible': False}),\n",
              " Prediction(uid=18091, iid=2112, r_ui=8.0, est=5, details={'was_impossible': False}),\n",
              " Prediction(uid=12710, iid=22729, r_ui=8.0, est=5, details={'was_impossible': False})]"
            ]
          },
          "metadata": {
            "tags": []
          },
          "execution_count": 142
        }
      ]
    },
    {
      "cell_type": "code",
      "metadata": {
        "id": "MdhR9mQUnE9Y",
        "colab_type": "code",
        "outputId": "c8c97988-024b-4a6d-d713-afce0541bf11",
        "colab": {
          "base_uri": "https://localhost:8080/",
          "height": 50
        }
      },
      "source": [
        "print(\"Number of users:\", sample.user_id.nunique())\n",
        "print(\"Number of types of different anime:\", sample.type.nunique())\n"
      ],
      "execution_count": 0,
      "outputs": [
        {
          "output_type": "stream",
          "text": [
            "Number of users: 4480\n",
            "Number of types of different anime: 6\n"
          ],
          "name": "stdout"
        }
      ]
    },
    {
      "cell_type": "code",
      "metadata": {
        "id": "UEec0Gc7nE9f",
        "colab_type": "code",
        "outputId": "5fcb0f65-0f67-4834-a8df-f94ccf4ddb13",
        "colab": {
          "base_uri": "https://localhost:8080/",
          "height": 33
        }
      },
      "source": [
        "user = 5\n",
        "item = 100\n",
        "svd.predict(user, item)"
      ],
      "execution_count": 0,
      "outputs": [
        {
          "output_type": "execute_result",
          "data": {
            "text/plain": [
              "Prediction(uid=5, iid=100, r_ui=None, est=5, details={'was_impossible': False})"
            ]
          },
          "metadata": {
            "tags": []
          },
          "execution_count": 144
        }
      ]
    },
    {
      "cell_type": "markdown",
      "metadata": {
        "id": "-NLeL3oFnE9n",
        "colab_type": "text"
      },
      "source": [
        "Now I need to compare the different models and see which ones perform best. I will stick to using RMSE to evaluate the models. I will also cross validate. "
      ]
    },
    {
      "cell_type": "code",
      "metadata": {
        "id": "VHM0KQOlnE9o",
        "colab_type": "code",
        "outputId": "f42c47a3-f0b7-49ab-e155-029c2875a7f8",
        "colab": {
          "base_uri": "https://localhost:8080/",
          "height": 66
        }
      },
      "source": [
        "#perform a gridsearch CV\n",
        "params = {'n_factors': [20,50,100],\n",
        "         'reg_all': [.02,.05, .10]}\n",
        "gridsearch_svd1 = GridSearchCV(SVD, param_grid=params, n_jobs=-1, joblib_verbose=3)\n",
        "gridsearch_svd1.fit(anime_loaded_data)"
      ],
      "execution_count": 0,
      "outputs": [
        {
          "output_type": "stream",
          "text": [
            "[Parallel(n_jobs=-1)]: Using backend LokyBackend with 2 concurrent workers.\n",
            "[Parallel(n_jobs=-1)]: Done  28 tasks      | elapsed:    7.3s\n",
            "[Parallel(n_jobs=-1)]: Done  45 out of  45 | elapsed:   12.8s finished\n"
          ],
          "name": "stderr"
        }
      ]
    },
    {
      "cell_type": "code",
      "metadata": {
        "id": "x9D7uwWqnE9q",
        "colab_type": "code",
        "outputId": "454390f1-b7b7-4eb4-e3e5-35d51ae5a203",
        "colab": {
          "base_uri": "https://localhost:8080/",
          "height": 50
        }
      },
      "source": [
        "print(gridsearch_svd1.best_score)\n",
        "print(gridsearch_svd1.best_params)"
      ],
      "execution_count": 0,
      "outputs": [
        {
          "output_type": "stream",
          "text": [
            "{'rmse': 2.7752982992400335, 'mae': 2.6844}\n",
            "{'rmse': {'n_factors': 20, 'reg_all': 0.02}, 'mae': {'n_factors': 20, 'reg_all': 0.02}}\n"
          ],
          "name": "stdout"
        }
      ]
    },
    {
      "cell_type": "markdown",
      "metadata": {
        "id": "BnrdTIPILcqC",
        "colab_type": "text"
      },
      "source": [
        "**Better than the model before***"
      ]
    },
    {
      "cell_type": "code",
      "metadata": {
        "id": "zqL4tt72GQe5",
        "colab_type": "code",
        "outputId": "f5103bfd-4794-46d9-8861-d9b79ead77a3",
        "colab": {
          "base_uri": "https://localhost:8080/",
          "height": 33
        }
      },
      "source": [
        "anime_loaded_data"
      ],
      "execution_count": 0,
      "outputs": [
        {
          "output_type": "execute_result",
          "data": {
            "text/plain": [
              "<surprise.dataset.DatasetAutoFolds at 0x7f0a724264a8>"
            ]
          },
          "metadata": {
            "tags": []
          },
          "execution_count": 147
        }
      ]
    },
    {
      "cell_type": "markdown",
      "metadata": {
        "id": "P-lM8im2nE9z",
        "colab_type": "text"
      },
      "source": [
        "## Cross Validation with K-Nearest Neighbors (KNN) Basic Algorithm"
      ]
    },
    {
      "cell_type": "code",
      "metadata": {
        "id": "czGpCY-QnE91",
        "colab_type": "code",
        "outputId": "36106be6-2009-4dcc-c6d4-4e783a4c49d2",
        "colab": {
          "base_uri": "https://localhost:8080/",
          "height": 70
        }
      },
      "source": [
        "#cross validate with KNNBasic\n",
        "knn_basic = KNNBasic(sim_options={'name':'pearson', 'user_based':True}, verbose=True)\n",
        "cv_knn_basic = cross_validate(knn_basic, anime_loaded_data, n_jobs=2)"
      ],
      "execution_count": 0,
      "outputs": [
        {
          "output_type": "stream",
          "text": [
            "/usr/local/lib/python3.6/dist-packages/joblib/externals/loky/process_executor.py:706: UserWarning: A worker stopped while some jobs were given to the executor. This can be caused by a too short worker timeout or by a memory leak.\n",
            "  \"timeout or by a memory leak.\", UserWarning\n"
          ],
          "name": "stderr"
        }
      ]
    },
    {
      "cell_type": "code",
      "metadata": {
        "id": "F9t6WpJL2USm",
        "colab_type": "code",
        "outputId": "382cd473-9d8a-40f4-f330-d4645711df3b",
        "colab": {
          "base_uri": "https://localhost:8080/",
          "height": 115
        }
      },
      "source": [
        "for i in cv_knn_basic.items():\n",
        "    print(i)\n",
        "print('-----------------')\n",
        "print(np.mean(cv_knn_basic['test_rmse']))"
      ],
      "execution_count": 0,
      "outputs": [
        {
          "output_type": "stream",
          "text": [
            "('test_rmse', array([2.79123629, 2.75245345, 2.75680975, 2.78513913, 2.79105715]))\n",
            "('test_mae', array([2.701, 2.662, 2.664, 2.691, 2.704]))\n",
            "('fit_time', (1.544229507446289, 1.610764980316162, 1.0170748233795166, 1.017421007156372, 0.5036599636077881))\n",
            "('test_time', (0.012166976928710938, 0.012871265411376953, 0.01230168342590332, 0.012347936630249023, 0.007039785385131836))\n",
            "-----------------\n",
            "2.7753391537641336\n"
          ],
          "name": "stdout"
        }
      ]
    },
    {
      "cell_type": "markdown",
      "metadata": {
        "id": "L5qCkyUELOIN",
        "colab_type": "text"
      },
      "source": [
        "*** This is not as good as the baseline***"
      ]
    },
    {
      "cell_type": "code",
      "metadata": {
        "id": "lfLPCcv8nE93",
        "colab_type": "code",
        "colab": {}
      },
      "source": [
        "knn_basic_msd = KNNBasic(sim_options = {'name': 'msd', 'user-based':True})\n",
        "cv_knn_basic_msd = cross_validate(knn_basic_msd, anime_loaded_data, n_jobs=2)"
      ],
      "execution_count": 0,
      "outputs": []
    },
    {
      "cell_type": "code",
      "metadata": {
        "id": "IsvfxOiXnE95",
        "colab_type": "code",
        "outputId": "be1b616e-64a0-4f3c-9c36-870b79357eb1",
        "colab": {
          "base_uri": "https://localhost:8080/",
          "height": 115
        }
      },
      "source": [
        "for i in cv_knn_basic_msd.items():\n",
        "    print(i)\n",
        "print('-----------------')\n",
        "print(np.mean(cv_knn_basic_msd['test_rmse']))"
      ],
      "execution_count": 0,
      "outputs": [
        {
          "output_type": "stream",
          "text": [
            "('test_rmse', array([2.79427987, 2.76676707, 2.77758888, 2.78801004, 2.75009091]))\n",
            "('test_mae', array([2.708, 2.675, 2.687, 2.695, 2.657]))\n",
            "('fit_time', (0.6251428127288818, 0.7191717624664307, 0.73598313331604, 0.6341302394866943, 0.4385659694671631))\n",
            "('test_time', (0.011588096618652344, 0.015184879302978516, 0.012300968170166016, 0.012490987777709961, 0.01270914077758789))\n",
            "-----------------\n",
            "2.775347354196228\n"
          ],
          "name": "stdout"
        }
      ]
    },
    {
      "cell_type": "markdown",
      "metadata": {
        "id": "j_r77pS4LiAW",
        "colab_type": "text"
      },
      "source": [
        "*** better than the model above ***\n"
      ]
    },
    {
      "cell_type": "markdown",
      "metadata": {
        "id": "Nq4VKWZtnE98",
        "colab_type": "text"
      },
      "source": [
        "## Cross Validation with KNN Baseline"
      ]
    },
    {
      "cell_type": "code",
      "metadata": {
        "id": "Jd_R2dkNnE99",
        "colab_type": "code",
        "colab": {}
      },
      "source": [
        "#cross validate with KNN Baseline (pearson)\n",
        "knn_baseline = KNNBaseline(sim_options={'name': 'pearson', 'user_based':True})\n",
        "cv_knn_baseline = cross_validate(knn_baseline, anime_loaded_data, n_jobs=3)"
      ],
      "execution_count": 0,
      "outputs": []
    },
    {
      "cell_type": "code",
      "metadata": {
        "id": "6-jDbZDc3EHW",
        "colab_type": "code",
        "outputId": "e7d972a1-e54c-426f-95db-03e5ff103bba",
        "colab": {
          "base_uri": "https://localhost:8080/",
          "height": 115
        }
      },
      "source": [
        "for i in cv_knn_baseline.items():\n",
        "    print(i)\n",
        "print('-----------------')\n",
        "print(np.mean(cv_knn_baseline['test_rmse']))"
      ],
      "execution_count": 0,
      "outputs": [
        {
          "output_type": "stream",
          "text": [
            "('test_rmse', array([2.77362579, 2.75916654, 2.77740886, 2.77254396, 2.79410093]))\n",
            "('test_mae', array([2.681, 2.669, 2.682, 2.679, 2.711]))\n",
            "('fit_time', (1.0227296352386475, 1.4636266231536865, 1.6993529796600342, 1.290511131286621, 0.9127292633056641))\n",
            "('test_time', (0.011719226837158203, 0.018441438674926758, 0.007163524627685547, 0.026695728302001953, 0.011332511901855469))\n",
            "-----------------\n",
            "2.775369215598489\n"
          ],
          "name": "stdout"
        }
      ]
    },
    {
      "cell_type": "markdown",
      "metadata": {
        "id": "bI9WY1rqLu5j",
        "colab_type": "text"
      },
      "source": [
        "***better than the other rmse but not as good as mae from above *** "
      ]
    },
    {
      "cell_type": "code",
      "metadata": {
        "id": "INk427JxQ6NF",
        "colab_type": "code",
        "colab": {}
      },
      "source": [
        "knn_baseline_msd = KNNBaseline(sim_options = {'name': 'msd', 'user_based': True})\n",
        "cv_knn_baseline_msd = cross_validate(knn_baseline_msd, anime_loaded_data, n_jobs =2)"
      ],
      "execution_count": 0,
      "outputs": []
    },
    {
      "cell_type": "code",
      "metadata": {
        "id": "tmd9Vtf5SMgW",
        "colab_type": "code",
        "outputId": "d4b5c037-6294-4b5c-b898-8ea8a181f08d",
        "colab": {
          "base_uri": "https://localhost:8080/",
          "height": 115
        }
      },
      "source": [
        "for i in cv_knn_baseline_msd.items():\n",
        "  print(i)\n",
        "print('-------------------')\n",
        "print(np.mean(cv_knn_baseline_msd['test_rmse']))"
      ],
      "execution_count": 0,
      "outputs": [
        {
          "output_type": "stream",
          "text": [
            "('test_rmse', array([2.74390233, 2.78100701, 2.75789775, 2.80446073, 2.78926514]))\n",
            "('test_mae', array([2.653, 2.694, 2.666, 2.715, 2.694]))\n",
            "('fit_time', (2.6375131607055664, 1.2855372428894043, 1.4467082023620605, 1.287856101989746, 0.9131350517272949))\n",
            "('test_time', (0.026901721954345703, 0.027647972106933594, 0.02987837791442871, 0.023685932159423828, 0.012809514999389648))\n",
            "-------------------\n",
            "2.7753065922503595\n"
          ],
          "name": "stdout"
        }
      ]
    },
    {
      "cell_type": "markdown",
      "metadata": {
        "id": "FhqNA7M4LKXP",
        "colab_type": "text"
      },
      "source": [
        "*** Not as good as the above ***"
      ]
    },
    {
      "cell_type": "markdown",
      "metadata": {
        "id": "w0sTEu4PnE-A",
        "colab_type": "text"
      },
      "source": [
        "## Cross Validate with KNNBaseline using pearson baseline"
      ]
    },
    {
      "cell_type": "code",
      "metadata": {
        "id": "XUApxrARThBC",
        "colab_type": "code",
        "colab": {}
      },
      "source": [
        "knn_pearson_baseline = KNNBaseline(sim_options={'name': 'pearson_baseline', 'user_based':True})\n",
        "cv_knn_pearson_baseline = cross_validate(knn_pearson_baseline, anime_data, n_jobs=3)"
      ],
      "execution_count": 0,
      "outputs": []
    },
    {
      "cell_type": "code",
      "metadata": {
        "id": "Y5AyqnDMTnu1",
        "colab_type": "code",
        "outputId": "f4bd25f2-d899-4be7-c445-c02dd85169cc",
        "colab": {
          "base_uri": "https://localhost:8080/",
          "height": 115
        }
      },
      "source": [
        "for i in cv_knn_pearson_baseline.items():\n",
        "  print(i)\n",
        "print('-------------------')\n",
        "print(np.mean(cv_knn_pearson_baseline['test_rmse']))"
      ],
      "execution_count": 0,
      "outputs": [
        {
          "output_type": "stream",
          "text": [
            "('test_rmse', array([0.62452546, 0.5997821 , 0.5939826 , 0.61225689, 0.57804702]))\n",
            "('test_mae', array([0.48127915, 0.48513377, 0.46955166, 0.48101584, 0.46973202]))\n",
            "('fit_time', (1.3529422283172607, 1.0419158935546875, 1.4332692623138428, 0.7306246757507324, 0.6215074062347412))\n",
            "('test_time', (0.011812448501586914, 0.02728867530822754, 0.00835561752319336, 0.012857675552368164, 0.026695728302001953))\n",
            "-------------------\n",
            "0.6017188137950151\n"
          ],
          "name": "stdout"
        }
      ]
    },
    {
      "cell_type": "markdown",
      "metadata": {
        "id": "XiXOqpmCL-Vi",
        "colab_type": "text"
      },
      "source": [
        "*** hmmmm... this is a realistic number for an average rmse score but varies greatly from the other scores, looks similar to the models I added in at the top ***"
      ]
    },
    {
      "cell_type": "markdown",
      "metadata": {
        "id": "rKUymG4NULeY",
        "colab_type": "text"
      },
      "source": [
        "## KNN with Means "
      ]
    },
    {
      "cell_type": "code",
      "metadata": {
        "id": "ITdq6J1RUPWx",
        "colab_type": "code",
        "colab": {}
      },
      "source": [
        "knn_means = KNNWithMeans(sim_options={'name': 'pearson', 'user_based': True})\n",
        "cv_knn_means = cross_validate(knn_means, anime_data, n_jobs=3)"
      ],
      "execution_count": 0,
      "outputs": []
    },
    {
      "cell_type": "code",
      "metadata": {
        "id": "zXPB7MwgWFpF",
        "colab_type": "code",
        "outputId": "3ed6ba03-8344-4bcf-e661-85a576442c8e",
        "colab": {
          "base_uri": "https://localhost:8080/",
          "height": 115
        }
      },
      "source": [
        "for i in cv_knn_means.items():\n",
        "  print(i)\n",
        "print('------------')\n",
        "print(np.mean(cv_knn_means['test_rmse']))"
      ],
      "execution_count": 0,
      "outputs": [
        {
          "output_type": "stream",
          "text": [
            "('test_rmse', array([0.75678008, 0.79129836, 0.78972301, 0.79741875, 0.80765812]))\n",
            "('test_mae', array([0.60560408, 0.61820883, 0.62189   , 0.63303117, 0.6407105 ]))\n",
            "('fit_time', (0.9913804531097412, 0.930255651473999, 1.7804861068725586, 1.0836842060089111, 0.891467809677124))\n",
            "('test_time', (0.026706933975219727, 0.014213323593139648, 0.007684469223022461, 0.012784957885742188, 0.013603687286376953))\n",
            "------------\n",
            "0.7885756633471485\n"
          ],
          "name": "stdout"
        }
      ]
    },
    {
      "cell_type": "code",
      "metadata": {
        "id": "MlK-xFjHWIme",
        "colab_type": "code",
        "colab": {}
      },
      "source": [
        "knn_means_msd = KNNWithMeans(sim_options={'name': 'msd', 'user_based':True})\n",
        "cv_knn_means_msd = cross_validate(knn_means_msd, anime_data, n_jobs = 2)"
      ],
      "execution_count": 0,
      "outputs": []
    },
    {
      "cell_type": "code",
      "metadata": {
        "id": "wgQwNAVpWvxd",
        "colab_type": "code",
        "outputId": "1c1dff03-b034-4eb5-81a1-45fad1d8d0f5",
        "colab": {
          "base_uri": "https://localhost:8080/",
          "height": 115
        }
      },
      "source": [
        "for i in cv_knn_means_msd.items():\n",
        "  print(i)\n",
        "print('-------------')\n",
        "print(np.mean(cv_knn_means_msd['test_rmse']))"
      ],
      "execution_count": 0,
      "outputs": [
        {
          "output_type": "stream",
          "text": [
            "('test_rmse', array([0.80126757, 0.75017143, 0.80965893, 0.78969954, 0.77894254]))\n",
            "('test_mae', array([0.63284583, 0.59925983, 0.64980933, 0.62745175, 0.61390783]))\n",
            "('fit_time', (0.6287145614624023, 0.6414694786071777, 0.7459201812744141, 0.6342384815216064, 0.3879835605621338))\n",
            "('test_time', (0.01252126693725586, 0.021621227264404297, 0.012741327285766602, 0.013233423233032227, 0.0070667266845703125))\n",
            "-------------\n",
            "0.7859480012061154\n"
          ],
          "name": "stdout"
        }
      ]
    },
    {
      "cell_type": "markdown",
      "metadata": {
        "id": "htjUIhGTMY-h",
        "colab_type": "text"
      },
      "source": [
        "*** This is a lot better than the KNNBaseline ***"
      ]
    },
    {
      "cell_type": "markdown",
      "metadata": {
        "id": "3PqAJcuNXIiX",
        "colab_type": "text"
      },
      "source": [
        "## Tuning the Best Algorithm with GridSearchCV\n",
        "Best model so far is KNN Baseline with Mean Squared Distance"
      ]
    },
    {
      "cell_type": "code",
      "metadata": {
        "id": "sXz8F2wHXNBP",
        "colab_type": "code",
        "outputId": "6036d4c3-2f98-4fd8-99c8-3cbf90eecab6",
        "colab": {
          "base_uri": "https://localhost:8080/",
          "height": 82
        }
      },
      "source": [
        "param_grid = {'n_factors': [5, 20, 100], \n",
        "              'n_epochs': [5,10], \n",
        "              'lr_all': [.002, .005], \n",
        "              'reg_all': [.02, .05, .5]}\n",
        "knn_withmeans_gs = GridSearchCV(KNNWithMeans, param_grid=param_grid, n_jobs=3, joblib_verbose=3)\n",
        "knn_withmeans_gs.fit(anime_data)"
      ],
      "execution_count": 0,
      "outputs": [
        {
          "output_type": "stream",
          "text": [
            "[Parallel(n_jobs=3)]: Using backend LokyBackend with 3 concurrent workers.\n",
            "[Parallel(n_jobs=3)]: Done  26 tasks      | elapsed:   11.0s\n",
            "[Parallel(n_jobs=3)]: Done 122 tasks      | elapsed:   48.7s\n",
            "[Parallel(n_jobs=3)]: Done 180 out of 180 | elapsed:  1.2min finished\n"
          ],
          "name": "stderr"
        }
      ]
    },
    {
      "cell_type": "code",
      "metadata": {
        "id": "q2IabmRkX5xZ",
        "colab_type": "code",
        "outputId": "6edd9a57-086e-4f27-db0a-6bf98c76c061",
        "colab": {
          "base_uri": "https://localhost:8080/",
          "height": 70
        }
      },
      "source": [
        "print(knn_baseline_gs.best_score)\n",
        "print(knn_baseline_gs.best_params)"
      ],
      "execution_count": 0,
      "outputs": [
        {
          "output_type": "stream",
          "text": [
            "{'rmse': 0.6013752188370415, 'mae': 0.4770148147495893}\n",
            "{'rmse': {'n_factors': 5, 'n_epochs': 5, 'lr_all': 0.002, 'reg_all': 0.02}, 'mae': {'n_factors': 5, 'n_epochs': 5, 'lr_all': 0.002, 'reg_all': 0.02}}\n"
          ],
          "name": "stdout"
        }
      ]
    },
    {
      "cell_type": "code",
      "metadata": {
        "id": "ftuslWl7X78D",
        "colab_type": "code",
        "colab": {}
      },
      "source": [
        "#Now use this to fit test set, initial gridsearch was 2.77096, so will use that gs here\n",
        "highest_perf_algo = gridsearch_svd1.best_estimator['rmse']"
      ],
      "execution_count": 0,
      "outputs": []
    },
    {
      "cell_type": "code",
      "metadata": {
        "id": "UM_woiDrX8NF",
        "colab_type": "code",
        "outputId": "ef18728c-978e-48d4-b7b0-bbbd5ac28779",
        "colab": {
          "base_uri": "https://localhost:8080/",
          "height": 33
        }
      },
      "source": [
        "#retrain the whole set\n",
        "trainset = anime_data.build_full_trainset()\n",
        "highest_perf_algo.fit(trainset)"
      ],
      "execution_count": 0,
      "outputs": [
        {
          "output_type": "execute_result",
          "data": {
            "text/plain": [
              "<surprise.prediction_algorithms.matrix_factorization.SVD at 0x7f0a75338470>"
            ]
          },
          "metadata": {
            "tags": []
          },
          "execution_count": 165
        }
      ]
    },
    {
      "cell_type": "code",
      "metadata": {
        "id": "zyob26pZZ_FK",
        "colab_type": "code",
        "outputId": "f7d7be90-1d0d-4107-a0ca-ea83010ce64f",
        "colab": {
          "base_uri": "https://localhost:8080/",
          "height": 50
        }
      },
      "source": [
        "#Biased Accuracy on trainset\n",
        "predictions = highest_perf_algo.test(trainset.build_testset())\n",
        "print('Biased accuracy on Trainset', end='')\n",
        "accuracy.rmse(predictions)"
      ],
      "execution_count": 0,
      "outputs": [
        {
          "output_type": "stream",
          "text": [
            "Biased accuracy on TrainsetRMSE: 0.4427\n"
          ],
          "name": "stdout"
        },
        {
          "output_type": "execute_result",
          "data": {
            "text/plain": [
              "0.4426835056532015"
            ]
          },
          "metadata": {
            "tags": []
          },
          "execution_count": 166
        }
      ]
    },
    {
      "cell_type": "code",
      "metadata": {
        "id": "qVADRznNZ_2s",
        "colab_type": "code",
        "outputId": "8230233b-9039-4837-a4bb-26447c5ff5b5",
        "colab": {
          "base_uri": "https://localhost:8080/",
          "height": 50
        }
      },
      "source": [
        "#UnBiased Accuracy on testset\n",
        "predictions = highest_perf_algo.test(testset)\n",
        "print('Unbiased Accuracy on test', end='')\n",
        "accuracy.rmse(predictions)"
      ],
      "execution_count": 0,
      "outputs": [
        {
          "output_type": "stream",
          "text": [
            "Unbiased Accuracy on testRMSE: 0.5430\n"
          ],
          "name": "stdout"
        },
        {
          "output_type": "execute_result",
          "data": {
            "text/plain": [
              "0.5430297500386062"
            ]
          },
          "metadata": {
            "tags": []
          },
          "execution_count": 167
        }
      ]
    },
    {
      "cell_type": "markdown",
      "metadata": {
        "id": "JHgNVmhJ4uTk",
        "colab_type": "text"
      },
      "source": [
        "# Collaborative Models"
      ]
    },
    {
      "cell_type": "code",
      "metadata": {
        "id": "WW50kuym4rGS",
        "colab_type": "code",
        "colab": {}
      },
      "source": [
        "class MyDataset(dataset.DatasetAutoFolds):\n",
        "  #surprise.dataset.DatasetAutoFolds creates a surprise friendly dataset\n",
        "  #this will give it folds so that cross validation can be performed efficiently\n",
        "  def __init__(self, sample, reader):\n",
        "    self.sample = [(uid, iid, r, None) for (uid, iid, r) in \n",
        "                   zip (sample['user_id'], sample['anime_id'], sample['rating_x'])]\n",
        "    self.reader = reader"
      ],
      "execution_count": 0,
      "outputs": []
    },
    {
      "cell_type": "code",
      "metadata": {
        "id": "1I5TmdbF4rSI",
        "colab_type": "code",
        "colab": {}
      },
      "source": [
        "# #instantiate the reader parser object\n",
        "#reader = Reader(line_format = 'user item rating', rating_scale = (0.0, 10.0))"
      ],
      "execution_count": 0,
      "outputs": []
    },
    {
      "cell_type": "code",
      "metadata": {
        "id": "OaA2fqQS4rcV",
        "colab_type": "code",
        "colab": {}
      },
      "source": [
        "# #parse sample set into a surprise friendly dataset\n",
        "#data = MyDataset(sample, reader)"
      ],
      "execution_count": 0,
      "outputs": []
    },
    {
      "cell_type": "code",
      "metadata": {
        "id": "O84FyspwrvZ2",
        "colab_type": "code",
        "colab": {}
      },
      "source": [
        "reader = Reader(line_format = 'user item rating', rating_scale = (0.0, 10.0))\n",
        "data = sample[['user_id', 'anime_id', 'rating_x']]\n",
        "anime_data = Dataset.load_from_df(data, reader)"
      ],
      "execution_count": 0,
      "outputs": []
    },
    {
      "cell_type": "code",
      "metadata": {
        "id": "FYOEyoGj7FBr",
        "colab_type": "code",
        "outputId": "826802a9-cf79-4dec-d262-bc26741a40ae",
        "colab": {
          "base_uri": "https://localhost:8080/",
          "height": 33
        }
      },
      "source": [
        "type(data)"
      ],
      "execution_count": 0,
      "outputs": [
        {
          "output_type": "execute_result",
          "data": {
            "text/plain": [
              "pandas.core.frame.DataFrame"
            ]
          },
          "metadata": {
            "tags": []
          },
          "execution_count": 172
        }
      ]
    },
    {
      "cell_type": "markdown",
      "metadata": {
        "id": "U84mcHh7W0B3",
        "colab_type": "text"
      },
      "source": [
        "# Train Validation Split"
      ]
    },
    {
      "cell_type": "code",
      "metadata": {
        "id": "NIDFfBZfrxkj",
        "colab_type": "code",
        "colab": {}
      },
      "source": [
        "trainset, testset = train_test_split(anime_data, test_size=.2)"
      ],
      "execution_count": 0,
      "outputs": []
    },
    {
      "cell_type": "markdown",
      "metadata": {
        "id": "swEKWiOhP5sL",
        "colab_type": "text"
      },
      "source": [
        "# Memory Based Knn Method"
      ]
    },
    {
      "cell_type": "markdown",
      "metadata": {
        "id": "JSk1rpsyR147",
        "colab_type": "text"
      },
      "source": [
        "## KNN Basic with cosine similarity"
      ]
    },
    {
      "cell_type": "code",
      "metadata": {
        "id": "2VNfsQ10yTjN",
        "colab_type": "code",
        "colab": {}
      },
      "source": [
        "#cosine similarity \n",
        "sim_cos = {'name': 'cosine', 'user_based':True}\n",
        "\n",
        "#instantiate the model with the similarity setting\n",
        "knn_sim_cos = knns.KNNBasic(sim_options=sim_cos)"
      ],
      "execution_count": 0,
      "outputs": []
    },
    {
      "cell_type": "code",
      "metadata": {
        "id": "x1YrCWVAyTq1",
        "colab_type": "code",
        "outputId": "6cfed13a-e59f-4cea-a588-8fd88966f841",
        "colab": {
          "base_uri": "https://localhost:8080/",
          "height": 163
        }
      },
      "source": [
        "# fit the model\n",
        "sim_cos_cv = cross_validate(knn_sim_cos, anime_data, measures=['rmse', 'mae'], cv=3,\n",
        "                            return_train_measures=True, n_jobs=3, verbose=True)"
      ],
      "execution_count": 0,
      "outputs": [
        {
          "output_type": "stream",
          "text": [
            "Evaluating RMSE, MAE of algorithm KNNBasic on 3 split(s).\n",
            "\n",
            "                  Fold 1  Fold 2  Fold 3  Mean    Std     \n",
            "RMSE (testset)    0.6978  0.7335  0.7011  0.7108  0.0161  \n",
            "MAE (testset)     0.5817  0.6068  0.5786  0.5890  0.0126  \n",
            "RMSE (trainset)   0.0000  0.0000  0.0000  0.0000  0.0000  \n",
            "MAE (trainset)    0.0000  0.0000  0.0000  0.0000  0.0000  \n",
            "Fit time          0.83    0.66    0.61    0.70    0.10    \n",
            "Test time         0.04    0.03    0.04    0.04    0.00    \n"
          ],
          "name": "stdout"
        }
      ]
    },
    {
      "cell_type": "markdown",
      "metadata": {
        "id": "wZS9eDbwZyAN",
        "colab_type": "text"
      },
      "source": [
        "*** "
      ]
    },
    {
      "cell_type": "markdown",
      "metadata": {
        "id": "CyUlUIHDb9EW",
        "colab_type": "text"
      },
      "source": [
        "### The test set is not great but not terribly bad. I am not sure why the train set is not showing up. "
      ]
    },
    {
      "cell_type": "markdown",
      "metadata": {
        "id": "qyoAWKO1XnOl",
        "colab_type": "text"
      },
      "source": [
        "## 2nd Model: KNN Basic (item based)"
      ]
    },
    {
      "cell_type": "code",
      "metadata": {
        "id": "l5-_dnNSyT1S",
        "colab_type": "code",
        "colab": {}
      },
      "source": [
        "#cosine similarity \n",
        "sim_cos = {'name': 'cosine', 'user_based': False}\n",
        "\n",
        "#instantiate the knnBasic with sim_cos settings\n",
        "knn_basic_simcos = knns.KNNBasic(sim_options=sim_cos)\n"
      ],
      "execution_count": 0,
      "outputs": []
    },
    {
      "cell_type": "code",
      "metadata": {
        "id": "WHD_Fu8myTyw",
        "colab_type": "code",
        "outputId": "b948910f-9ade-47a0-cacb-b82b78d9af86",
        "colab": {
          "base_uri": "https://localhost:8080/",
          "height": 163
        }
      },
      "source": [
        "#fit the model \n",
        "cv_knn_basic_simcos = cross_validate(knn_basic_simcos, anime_data, measures=['rmse', 'mae'], cv =3, return_train_measures=True, n_jobs=3, verbose=True)"
      ],
      "execution_count": 0,
      "outputs": [
        {
          "output_type": "stream",
          "text": [
            "Evaluating RMSE, MAE of algorithm KNNBasic on 3 split(s).\n",
            "\n",
            "                  Fold 1  Fold 2  Fold 3  Mean    Std     \n",
            "RMSE (testset)    0.6938  0.7346  0.7039  0.7108  0.0174  \n",
            "MAE (testset)     0.5809  0.5984  0.5874  0.5889  0.0072  \n",
            "RMSE (trainset)   0.1968  0.2038  0.2012  0.2006  0.0029  \n",
            "MAE (trainset)    0.0519  0.0560  0.0571  0.0550  0.0022  \n",
            "Fit time          0.20    0.16    0.07    0.14    0.05    \n",
            "Test time         0.02    0.02    0.01    0.02    0.00    \n"
          ],
          "name": "stdout"
        }
      ]
    },
    {
      "cell_type": "code",
      "metadata": {
        "id": "KszSZLcOyTv4",
        "colab_type": "code",
        "colab": {}
      },
      "source": [
        "#This one performed better than the last and the trainset is showing up. WOOH!"
      ],
      "execution_count": 0,
      "outputs": []
    },
    {
      "cell_type": "markdown",
      "metadata": {
        "id": "GogIlC2UdBuL",
        "colab_type": "text"
      },
      "source": [
        "##3rd Baseline Model: A user based pearson similarity using KNNBasline"
      ]
    },
    {
      "cell_type": "code",
      "metadata": {
        "id": "dA7jI1jE7E9h",
        "colab_type": "code",
        "colab": {}
      },
      "source": [
        "sim_pearson = {'name': 'pearson', 'user_based': True}\n",
        "\n",
        "#instantiate KNNBasline with pearson \n",
        "knn_baseline_pearson = knns.KNNBaseline(sim_options=sim_pearson)"
      ],
      "execution_count": 0,
      "outputs": []
    },
    {
      "cell_type": "code",
      "metadata": {
        "id": "61cuIDITdBQu",
        "colab_type": "code",
        "outputId": "4ade5bb9-d595-4099-d44f-89509c46aa56",
        "colab": {
          "base_uri": "https://localhost:8080/",
          "height": 163
        }
      },
      "source": [
        "#fit and cross validate model \n",
        "cv_knnbaseline_simpearson = cross_validate(knn_baseline_pearson, anime_data, measures=['rmse', 'mae'], cv=3,\n",
        "                                           return_train_measures=True, n_jobs=2, verbose=True)"
      ],
      "execution_count": 0,
      "outputs": [
        {
          "output_type": "stream",
          "text": [
            "Evaluating RMSE, MAE of algorithm KNNBaseline on 3 split(s).\n",
            "\n",
            "                  Fold 1  Fold 2  Fold 3  Mean    Std     \n",
            "RMSE (testset)    0.6121  0.6140  0.5889  0.6050  0.0114  \n",
            "MAE (testset)     0.4892  0.4978  0.4753  0.4874  0.0093  \n",
            "RMSE (trainset)   0.0000  0.0000  0.0000  0.0000  0.0000  \n",
            "MAE (trainset)    0.0000  0.0000  0.0000  0.0000  0.0000  \n",
            "Fit time          0.60    0.68    0.46    0.58    0.09    \n",
            "Test time         0.02    0.02    0.01    0.02    0.00    \n"
          ],
          "name": "stdout"
        }
      ]
    },
    {
      "cell_type": "markdown",
      "metadata": {
        "id": "tdij6Cqbd2EZ",
        "colab_type": "text"
      },
      "source": [
        "### This user based model with sim pearson did not do as well. Again, user based does not produce trainset results"
      ]
    },
    {
      "cell_type": "markdown",
      "metadata": {
        "id": "55I_IAJAeCCP",
        "colab_type": "text"
      },
      "source": [
        "## 4th Model: Item based pearson similarity using KNNBaseline"
      ]
    },
    {
      "cell_type": "code",
      "metadata": {
        "id": "kV3ZeGvweA9p",
        "colab_type": "code",
        "colab": {}
      },
      "source": [
        "sim_pearson = {'name':'pearson', 'user_based': False}\n",
        "\n",
        "#instantiate KNNBasline \n",
        "knn_baseline_item = knns.KNNBaseline(sim_options=sim_pearson)"
      ],
      "execution_count": 0,
      "outputs": []
    },
    {
      "cell_type": "code",
      "metadata": {
        "id": "6s_PCGYteBNO",
        "colab_type": "code",
        "outputId": "2eb18255-15c6-4bdd-b7a0-97645e3250b6",
        "colab": {
          "base_uri": "https://localhost:8080/",
          "height": 163
        }
      },
      "source": [
        "#fit and cross validate\n",
        "cv_knnbaseline_item = cross_validate(knn_baseline_item, anime_data, measures=['rmse', 'mae'], cv=3, \n",
        "                                     return_train_measures=True, n_jobs=3, verbose=True)"
      ],
      "execution_count": 0,
      "outputs": [
        {
          "output_type": "stream",
          "text": [
            "Evaluating RMSE, MAE of algorithm KNNBaseline on 3 split(s).\n",
            "\n",
            "                  Fold 1  Fold 2  Fold 3  Mean    Std     \n",
            "RMSE (testset)    0.6223  0.5863  0.6037  0.6041  0.0147  \n",
            "MAE (testset)     0.4878  0.4793  0.4919  0.4863  0.0052  \n",
            "RMSE (trainset)   0.0000  0.0000  0.0000  0.0000  0.0000  \n",
            "MAE (trainset)    0.0000  0.0000  0.0000  0.0000  0.0000  \n",
            "Fit time          0.19    0.17    0.14    0.17    0.02    \n",
            "Test time         0.02    0.02    0.01    0.02    0.00    \n"
          ],
          "name": "stdout"
        }
      ]
    },
    {
      "cell_type": "markdown",
      "metadata": {
        "id": "8G3jVjnXe8Hz",
        "colab_type": "text"
      },
      "source": [
        "### This model hasn't performed well and also for some reason has not given trainset RMSE and MAE"
      ]
    },
    {
      "cell_type": "markdown",
      "metadata": {
        "id": "QKhbNDhEfFiH",
        "colab_type": "text"
      },
      "source": [
        "## 5th Model: User based using KNNWithMeans with pearson "
      ]
    },
    {
      "cell_type": "code",
      "metadata": {
        "id": "vTBSUY7UeBXG",
        "colab_type": "code",
        "colab": {}
      },
      "source": [
        "sim_pearson = {'name': 'pearson', 'user_based': True}\n",
        "\n",
        "#instantiating KNNWithMeans\n",
        "knn_withmeans_user = knns.KNNWithMeans(sim_options=sim_pearson)"
      ],
      "execution_count": 0,
      "outputs": []
    },
    {
      "cell_type": "code",
      "metadata": {
        "id": "iJwZlGi5fbtl",
        "colab_type": "code",
        "outputId": "42836089-f6f3-4b3d-cc99-735c17fd4bb1",
        "colab": {
          "base_uri": "https://localhost:8080/",
          "height": 163
        }
      },
      "source": [
        "#fit and cross validate \n",
        "cv_knnwithmeans_user = cross_validate(knn_withmeans_user, anime_data, measures=['rmse','mae'], cv=3, return_train_measures=True, \n",
        "                                      n_jobs=3, verbose=True)"
      ],
      "execution_count": 0,
      "outputs": [
        {
          "output_type": "stream",
          "text": [
            "Evaluating RMSE, MAE of algorithm KNNWithMeans on 3 split(s).\n",
            "\n",
            "                  Fold 1  Fold 2  Fold 3  Mean    Std     \n",
            "RMSE (testset)    0.7488  0.7431  0.7587  0.7502  0.0065  \n",
            "MAE (testset)     0.6080  0.6046  0.6037  0.6054  0.0019  \n",
            "RMSE (trainset)   0.0000  0.0000  0.0000  0.0000  0.0000  \n",
            "MAE (trainset)    0.0000  0.0000  0.0000  0.0000  0.0000  \n",
            "Fit time          0.72    0.83    0.76    0.77    0.05    \n",
            "Test time         0.03    0.02    0.01    0.02    0.01    \n"
          ],
          "name": "stdout"
        }
      ]
    },
    {
      "cell_type": "markdown",
      "metadata": {
        "id": "NFeaMCKafcTW",
        "colab_type": "text"
      },
      "source": [
        "#### This test set has the best performance yet, but no idea why the trainset is not showing up. "
      ]
    },
    {
      "cell_type": "markdown",
      "metadata": {
        "id": "T4vAso0xf4Hi",
        "colab_type": "text"
      },
      "source": [
        "## 6th Model: KNNWithMeans but item based"
      ]
    },
    {
      "cell_type": "code",
      "metadata": {
        "id": "MY4KjDsWf-h3",
        "colab_type": "code",
        "colab": {}
      },
      "source": [
        "sim_pearson = {'name': 'pearson', 'user_based':False}\n",
        "\n",
        "#instantiate \n",
        "knn_withmeans_item = knns.KNNWithMeans(sim_options=sim_pearson)\n"
      ],
      "execution_count": 0,
      "outputs": []
    },
    {
      "cell_type": "code",
      "metadata": {
        "id": "hc43Ggq7f-t8",
        "colab_type": "code",
        "outputId": "124e92ea-5dbb-42cc-b656-b7a524bd0cf8",
        "colab": {
          "base_uri": "https://localhost:8080/",
          "height": 163
        }
      },
      "source": [
        "#fit and cross validate\n",
        "cv_knnwithmeans_item = cross_validate(knn_withmeans_item, anime_data, measures=['rmse', 'mae'], cv=3,\n",
        "                                      return_train_measures=True, n_jobs=3, verbose=True)"
      ],
      "execution_count": 0,
      "outputs": [
        {
          "output_type": "stream",
          "text": [
            "Evaluating RMSE, MAE of algorithm KNNWithMeans on 3 split(s).\n",
            "\n",
            "                  Fold 1  Fold 2  Fold 3  Mean    Std     \n",
            "RMSE (testset)    0.6776  0.6693  0.6955  0.6808  0.0109  \n",
            "MAE (testset)     0.5361  0.5288  0.5462  0.5370  0.0071  \n",
            "RMSE (trainset)   0.0000  0.0000  0.0000  0.0000  0.0000  \n",
            "MAE (trainset)    0.0000  0.0000  0.0000  0.0000  0.0000  \n",
            "Fit time          0.22    0.19    0.14    0.18    0.03    \n",
            "Test time         0.02    0.02    0.01    0.02    0.00    \n"
          ],
          "name": "stdout"
        }
      ]
    },
    {
      "cell_type": "markdown",
      "metadata": {
        "id": "rNNVKItUf_Gn",
        "colab_type": "text"
      },
      "source": [
        "#### The item based for pearson on the KNNWithMeans does not perform as well"
      ]
    },
    {
      "cell_type": "markdown",
      "metadata": {
        "id": "_V-oXnJQgu0N",
        "colab_type": "text"
      },
      "source": [
        "# Model Based Methods"
      ]
    },
    {
      "cell_type": "markdown",
      "metadata": {
        "id": "d-swWJpvg9hk",
        "colab_type": "text"
      },
      "source": [
        "## Alternating Least Squares"
      ]
    },
    {
      "cell_type": "markdown",
      "metadata": {
        "id": "IEe7MotMhC58",
        "colab_type": "text"
      },
      "source": [
        "### 7th Model with hyperparameter tuning"
      ]
    },
    {
      "cell_type": "code",
      "metadata": {
        "id": "C9Fy03HlgvJY",
        "colab_type": "code",
        "outputId": "397d2006-cc0e-4912-e313-383f61f33dac",
        "colab": {
          "base_uri": "https://localhost:8080/",
          "height": 33
        }
      },
      "source": [
        "# create parameter permutations\n",
        "epochs = [3, 5, 10, 20]\n",
        "reg_u = [5, 10, 12, 15, 20]\n",
        "reg_i = [3, 5, 10, 15]\n",
        "\n",
        "params = [[i, j, k] for i in epochs\n",
        "          for j in reg_u\n",
        "          for k in reg_i]\n",
        "print('Number of grid search permutation:', len(params))\n"
      ],
      "execution_count": 0,
      "outputs": [
        {
          "output_type": "stream",
          "text": [
            "Number of grid search permutation: 80\n"
          ],
          "name": "stdout"
        }
      ]
    },
    {
      "cell_type": "code",
      "metadata": {
        "id": "UPDAGKf8gve6",
        "colab_type": "code",
        "outputId": "f8a63262-e77c-461e-c72c-9a0c8474ebe6",
        "colab": {
          "base_uri": "https://localhost:8080/",
          "height": 223
        }
      },
      "source": [
        "baseline_option_score = {}\n",
        "\n",
        "for basline_perm in params: \n",
        "  basline_options = {'method': 'als',\n",
        "                     'n_epochs': bsl_perm[0],\n",
        "                     'reg_u': bsl_perm[1],\n",
        "                     'reg_i': bsl_perm[2]}\n",
        "  #instantiate\n",
        "  algo = baseline_only.BaselineOnly(bsl_options=baseline_options)\n",
        "  #fit and cross validate\n",
        "  cv_algo = cross_validate(algo, anime_data, measures=['rmse', 'mae'], cv =3, \n",
        "                           verbose = False, return_train_measures=True);\n",
        "  bsl_perm2 = (str(bsl_perm[0]) + ' ' + str(bsl_perm[1]) + ' ' + str(bsl_perm[2]))\n",
        "  baseline_option_score[bsl_perm2] = {'mean_train_rmse': cv_algo['train_rmse'].mean(), 'mean_test_rmse': a['test_rmse'].mean()}\n",
        "\n",
        "  #print('\\n', baseline_options, '\\n', '\\n\\')"
      ],
      "execution_count": 0,
      "outputs": [
        {
          "output_type": "error",
          "ename": "NameError",
          "evalue": "ignored",
          "traceback": [
            "\u001b[0;31m---------------------------------------------------------------------------\u001b[0m",
            "\u001b[0;31mNameError\u001b[0m                                 Traceback (most recent call last)",
            "\u001b[0;32m<ipython-input-188-b8bf1bb21988>\u001b[0m in \u001b[0;36m<module>\u001b[0;34m()\u001b[0m\n\u001b[1;32m      3\u001b[0m \u001b[0;32mfor\u001b[0m \u001b[0mbasline_perm\u001b[0m \u001b[0;32min\u001b[0m \u001b[0mparams\u001b[0m\u001b[0;34m:\u001b[0m\u001b[0;34m\u001b[0m\u001b[0;34m\u001b[0m\u001b[0m\n\u001b[1;32m      4\u001b[0m   basline_options = {'method': 'als',\n\u001b[0;32m----> 5\u001b[0;31m                      \u001b[0;34m'n_epochs'\u001b[0m\u001b[0;34m:\u001b[0m \u001b[0mbsl_perm\u001b[0m\u001b[0;34m[\u001b[0m\u001b[0;36m0\u001b[0m\u001b[0;34m]\u001b[0m\u001b[0;34m,\u001b[0m\u001b[0;34m\u001b[0m\u001b[0;34m\u001b[0m\u001b[0m\n\u001b[0m\u001b[1;32m      6\u001b[0m                      \u001b[0;34m'reg_u'\u001b[0m\u001b[0;34m:\u001b[0m \u001b[0mbsl_perm\u001b[0m\u001b[0;34m[\u001b[0m\u001b[0;36m1\u001b[0m\u001b[0;34m]\u001b[0m\u001b[0;34m,\u001b[0m\u001b[0;34m\u001b[0m\u001b[0;34m\u001b[0m\u001b[0m\n\u001b[1;32m      7\u001b[0m                      'reg_i': bsl_perm[2]}\n",
            "\u001b[0;31mNameError\u001b[0m: name 'bsl_perm' is not defined"
          ]
        }
      ]
    },
    {
      "cell_type": "markdown",
      "metadata": {
        "id": "Bdivge2Agv3m",
        "colab_type": "text"
      },
      "source": [
        ""
      ]
    },
    {
      "cell_type": "markdown",
      "metadata": {
        "id": "d6KwN2bv3w0d",
        "colab_type": "text"
      },
      "source": [
        "# WILL NOT CONTINUE USING PYSPARK! JUST REMEMBERED THAT THE LEARNCO IS OUTDATED"
      ]
    },
    {
      "cell_type": "markdown",
      "metadata": {
        "id": "ezLPlX8_nE-C",
        "colab_type": "text"
      },
      "source": [
        "# Pyspark "
      ]
    },
    {
      "cell_type": "code",
      "metadata": {
        "id": "pD67ynpxLoz6",
        "colab_type": "code",
        "colab": {}
      },
      "source": [
        "!pip install pyspark"
      ],
      "execution_count": 0,
      "outputs": []
    },
    {
      "cell_type": "code",
      "metadata": {
        "id": "VNDenBfQnE-C",
        "colab_type": "code",
        "colab": {}
      },
      "source": [
        "from pyspark.sql import SparkSession \n",
        "\n",
        "from pyspark.ml.evaluation import RegressionEvaluator\n",
        "from pyspark.ml.recommendation import ALS"
      ],
      "execution_count": 0,
      "outputs": []
    },
    {
      "cell_type": "code",
      "metadata": {
        "id": "BHtI-R6reTI_",
        "colab_type": "code",
        "colab": {}
      },
      "source": [
        "#instantiate SparkSession object \n",
        "spark = SparkSession.builder \\\n",
        "    .master(\"local\") \\\n",
        "    .appName(\"Word Count\") \\\n",
        "    .config(\"spark.some.config.option\", \"some-value\") \\\n",
        "    .getOrCreate()\n"
      ],
      "execution_count": 0,
      "outputs": []
    },
    {
      "cell_type": "code",
      "metadata": {
        "id": "MmY77rzyoAZR",
        "colab_type": "code",
        "colab": {}
      },
      "source": [
        "sample.to_csv('sample.csv', index='False')"
      ],
      "execution_count": 0,
      "outputs": []
    },
    {
      "cell_type": "code",
      "metadata": {
        "id": "GPvi95TDeTTz",
        "colab_type": "code",
        "colab": {}
      },
      "source": [
        "#read in data into pyspark dataframe\n",
        "sample = spark.read.csv('./sample.csv', header='true', inferSchema='true')"
      ],
      "execution_count": 0,
      "outputs": []
    },
    {
      "cell_type": "markdown",
      "metadata": {
        "id": "bm8R-omFo8rS",
        "colab_type": "text"
      },
      "source": [
        "## Fitting the Alternating Least Squares Model"
      ]
    },
    {
      "cell_type": "code",
      "metadata": {
        "id": "iDbZXITxeTZu",
        "colab_type": "code",
        "colab": {}
      },
      "source": [
        "from pyspark.ml.tuning.TrainValidationSplit\n"
      ],
      "execution_count": 0,
      "outputs": []
    },
    {
      "cell_type": "code",
      "metadata": {
        "id": "_SP-2PHznE-I",
        "colab_type": "code",
        "colab": {}
      },
      "source": [
        "#TRAIN TEST SPLIT\n",
        "trainset, testset = anime_loaded_data.randomSplit([.8, .2])"
      ],
      "execution_count": 0,
      "outputs": []
    },
    {
      "cell_type": "code",
      "metadata": {
        "id": "YkJ-MoUJnE-L",
        "colab_type": "code",
        "colab": {}
      },
      "source": [
        "#Build a recommendation model using ALS on the training data\n",
        "als = ALS(maxIter=5,\n",
        "         rank=4, \n",
        "         regParam=.01, \n",
        "         userCol='user_id',\n",
        "         itemCol='anime_id',\n",
        "         ratingCol='rating',\n",
        "         coldStartStrategy='drop')\n",
        "#fit the ALS to training set\n",
        "als_model = als.fit(trainset)"
      ],
      "execution_count": 0,
      "outputs": []
    },
    {
      "cell_type": "code",
      "metadata": {
        "id": "rjZyw8g1nE-Q",
        "colab_type": "code",
        "colab": {}
      },
      "source": [
        "#Let's evaluate its performance, above with surprise we got an unrealistic RMSE of 2.75\n",
        "#start wtih a regression evaluator\n",
        "from pyspark.ml.evaluation import RegressionEvaluator \n",
        "#let's compute the ALS RMSE on the testset\n",
        "predictions = als_model.transform(testset)\n",
        "evaluator = RegressionEvaluator(metricName='rmse',\n",
        "                               labelCol='rating',\n",
        "                               predictionCol='prediction')\n",
        "rmse = evaluator.evaluate(predictions)\n",
        "print(\"Root Mean Square Error:\", str(rmse))\n"
      ],
      "execution_count": 0,
      "outputs": []
    },
    {
      "cell_type": "markdown",
      "metadata": {
        "id": "LdId9mGNnE-b",
        "colab_type": "text"
      },
      "source": [
        "## Cross Validation to find the optimal model "
      ]
    },
    {
      "cell_type": "code",
      "metadata": {
        "id": "4ljpH9JLnE-c",
        "colab_type": "code",
        "colab": {}
      },
      "source": [
        ""
      ],
      "execution_count": 0,
      "outputs": []
    }
  ]
}