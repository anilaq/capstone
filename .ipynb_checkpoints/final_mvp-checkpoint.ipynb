{
 "cells": [
  {
   "cell_type": "markdown",
   "metadata": {
    "colab_type": "text",
    "id": "view-in-github"
   },
   "source": [
    "<a href=\"https://colab.research.google.com/github/anilaq/capstone/blob/master/final_mvp.ipynb\" target=\"_parent\"><img src=\"https://colab.research.google.com/assets/colab-badge.svg\" alt=\"Open In Colab\"/></a>"
   ]
  },
  {
   "cell_type": "markdown",
   "metadata": {},
   "source": [
    "# A Recommendation System built for Anime"
   ]
  },
  {
   "cell_type": "markdown",
   "metadata": {
    "colab_type": "text",
    "id": "JRwjDJo7WVPN"
   },
   "source": [
    "Anime, is a hand drawn and computer animation originating from Japan which is widely drawn a cult following around the world. The animation industry consists of more than 430 companies. Some of the most popular anime that has come to Western television is Pokemon and Yugi-Oh .\"Spirited Away\" a film created by Hayao Miyazaki and animated by Studio Ghibli is the highest grossing film within the anime genre. The reason it became so popular in the west is because a good friend of Miyazaki convinced him to sell distribution rights to Walt Disney. Like Spirited Away, there are thousands of really good anime films and shows produced by the same animation house. Due to the pandemic a nice way to bring such works of art into Disney plus or any streaming site in the West I have created a recommendation system that can help anyone or any company to view/add the highest rated anime. The Japan External Trade Organization has valued overseas sales to  18𝑏𝑖𝑙𝑙𝑖𝑜𝑛( 5.2 billion for the US alone) in 2004. This has likely grown. With covid19 looming over Japan which has caused one of the first long term recessions for the country. A way at which potential growth could take place is focusing on streaming and producing more of the top recommended."
   ]
  },
  {
   "cell_type": "code",
   "execution_count": 1,
   "metadata": {
    "colab": {
     "base_uri": "https://localhost:8080/",
     "height": 115
    },
    "colab_type": "code",
    "id": "9PfsXpFmoAQW",
    "outputId": "1d6c5c5b-613d-493a-d313-fc43d857bf3b"
   },
   "outputs": [
    {
     "name": "stdout",
     "output_type": "stream",
     "text": [
      "Requirement already satisfied: surprise in /usr/local/anaconda3/lib/python3.7/site-packages (0.1)\r\n",
      "Requirement already satisfied: scikit-surprise in /usr/local/anaconda3/lib/python3.7/site-packages (from surprise) (1.1.0)\r\n",
      "Requirement already satisfied: scipy>=1.0.0 in /usr/local/anaconda3/lib/python3.7/site-packages (from scikit-surprise->surprise) (1.3.1)\r\n",
      "Requirement already satisfied: six>=1.10.0 in /usr/local/anaconda3/lib/python3.7/site-packages (from scikit-surprise->surprise) (1.12.0)\r\n",
      "Requirement already satisfied: joblib>=0.11 in /usr/local/anaconda3/lib/python3.7/site-packages (from scikit-surprise->surprise) (0.13.2)\r\n",
      "Requirement already satisfied: numpy>=1.11.2 in /usr/local/anaconda3/lib/python3.7/site-packages (from scikit-surprise->surprise) (1.17.2)\r\n"
     ]
    }
   ],
   "source": [
    "!pip install surprise"
   ]
  },
  {
   "cell_type": "code",
   "execution_count": 2,
   "metadata": {
    "colab": {},
    "colab_type": "code",
    "id": "ChfTrW0qnE7C"
   },
   "outputs": [],
   "source": [
    "import pandas as pd \n",
    "\n",
    "import numpy as np \n",
    "\n",
    "import random\n",
    "from random import randint\n",
    "\n",
    "import matplotlib.pyplot as plt \n",
    "%matplotlib inline \n",
    "import seaborn as sns \n",
    "\n",
    "from scipy.sparse import csc_matrix\n",
    "from scipy.sparse.linalg import svds \n",
    "\n",
    "from surprise.model_selection import train_test_split\n",
    "from surprise.model_selection import GridSearchCV\n",
    "from surprise.model_selection import cross_validate\n",
    "\n",
    "from surprise.prediction_algorithms import KNNWithMeans, KNNBasic, KNNBaseline\n",
    "\n",
    "from surprise.prediction_algorithms import knns\n",
    "from surprise.prediction_algorithms import SVD\n",
    "\n",
    "from surprise.similarities import cosine, msd, pearson\n",
    "\n",
    "from surprise import accuracy \n",
    "from surprise import Reader\n",
    "from surprise import Dataset\n",
    "from surprise import dataset\n",
    "\n"
   ]
  },
  {
   "cell_type": "markdown",
   "metadata": {
    "colab_type": "text",
    "id": "I7eIpDS9nE7K"
   },
   "source": [
    "# Preprocessing"
   ]
  },
  {
   "cell_type": "code",
   "execution_count": 8,
   "metadata": {
    "colab": {
     "base_uri": "https://localhost:8080/",
     "height": 191
    },
    "colab_type": "code",
    "id": "NHfdwhF9nE7L",
    "outputId": "26dfbadb-2d3c-4a83-f1c4-95f6f2d5d517"
   },
   "outputs": [
    {
     "ename": "FileNotFoundError",
     "evalue": "[Errno 2] File b'/../../../capstone/anime-recommendations-databaseanime/anime.csv' does not exist: b'/../../../capstone/anime-recommendations-databaseanime/anime.csv'",
     "output_type": "error",
     "traceback": [
      "\u001b[0;31m---------------------------------------------------------------------------\u001b[0m",
      "\u001b[0;31mFileNotFoundError\u001b[0m                         Traceback (most recent call last)",
      "\u001b[0;32m<ipython-input-8-a551e8c77293>\u001b[0m in \u001b[0;36m<module>\u001b[0;34m\u001b[0m\n\u001b[0;32m----> 1\u001b[0;31m \u001b[0manime_df\u001b[0m \u001b[0;34m=\u001b[0m \u001b[0mpd\u001b[0m\u001b[0;34m.\u001b[0m\u001b[0mread_csv\u001b[0m\u001b[0;34m(\u001b[0m\u001b[0;34m'/../../../capstone/anime-recommendations-databaseanime/anime.csv'\u001b[0m\u001b[0;34m)\u001b[0m\u001b[0;34m\u001b[0m\u001b[0;34m\u001b[0m\u001b[0m\n\u001b[0m\u001b[1;32m      2\u001b[0m \u001b[0manime_df\u001b[0m\u001b[0;34m.\u001b[0m\u001b[0mhead\u001b[0m\u001b[0;34m(\u001b[0m\u001b[0;34m)\u001b[0m\u001b[0;34m\u001b[0m\u001b[0;34m\u001b[0m\u001b[0m\n",
      "\u001b[0;32m/usr/local/anaconda3/lib/python3.7/site-packages/pandas/io/parsers.py\u001b[0m in \u001b[0;36mparser_f\u001b[0;34m(filepath_or_buffer, sep, delimiter, header, names, index_col, usecols, squeeze, prefix, mangle_dupe_cols, dtype, engine, converters, true_values, false_values, skipinitialspace, skiprows, skipfooter, nrows, na_values, keep_default_na, na_filter, verbose, skip_blank_lines, parse_dates, infer_datetime_format, keep_date_col, date_parser, dayfirst, cache_dates, iterator, chunksize, compression, thousands, decimal, lineterminator, quotechar, quoting, doublequote, escapechar, comment, encoding, dialect, error_bad_lines, warn_bad_lines, delim_whitespace, low_memory, memory_map, float_precision)\u001b[0m\n\u001b[1;32m    683\u001b[0m         )\n\u001b[1;32m    684\u001b[0m \u001b[0;34m\u001b[0m\u001b[0m\n\u001b[0;32m--> 685\u001b[0;31m         \u001b[0;32mreturn\u001b[0m \u001b[0m_read\u001b[0m\u001b[0;34m(\u001b[0m\u001b[0mfilepath_or_buffer\u001b[0m\u001b[0;34m,\u001b[0m \u001b[0mkwds\u001b[0m\u001b[0;34m)\u001b[0m\u001b[0;34m\u001b[0m\u001b[0;34m\u001b[0m\u001b[0m\n\u001b[0m\u001b[1;32m    686\u001b[0m \u001b[0;34m\u001b[0m\u001b[0m\n\u001b[1;32m    687\u001b[0m     \u001b[0mparser_f\u001b[0m\u001b[0;34m.\u001b[0m\u001b[0m__name__\u001b[0m \u001b[0;34m=\u001b[0m \u001b[0mname\u001b[0m\u001b[0;34m\u001b[0m\u001b[0;34m\u001b[0m\u001b[0m\n",
      "\u001b[0;32m/usr/local/anaconda3/lib/python3.7/site-packages/pandas/io/parsers.py\u001b[0m in \u001b[0;36m_read\u001b[0;34m(filepath_or_buffer, kwds)\u001b[0m\n\u001b[1;32m    455\u001b[0m \u001b[0;34m\u001b[0m\u001b[0m\n\u001b[1;32m    456\u001b[0m     \u001b[0;31m# Create the parser.\u001b[0m\u001b[0;34m\u001b[0m\u001b[0;34m\u001b[0m\u001b[0;34m\u001b[0m\u001b[0m\n\u001b[0;32m--> 457\u001b[0;31m     \u001b[0mparser\u001b[0m \u001b[0;34m=\u001b[0m \u001b[0mTextFileReader\u001b[0m\u001b[0;34m(\u001b[0m\u001b[0mfp_or_buf\u001b[0m\u001b[0;34m,\u001b[0m \u001b[0;34m**\u001b[0m\u001b[0mkwds\u001b[0m\u001b[0;34m)\u001b[0m\u001b[0;34m\u001b[0m\u001b[0;34m\u001b[0m\u001b[0m\n\u001b[0m\u001b[1;32m    458\u001b[0m \u001b[0;34m\u001b[0m\u001b[0m\n\u001b[1;32m    459\u001b[0m     \u001b[0;32mif\u001b[0m \u001b[0mchunksize\u001b[0m \u001b[0;32mor\u001b[0m \u001b[0miterator\u001b[0m\u001b[0;34m:\u001b[0m\u001b[0;34m\u001b[0m\u001b[0;34m\u001b[0m\u001b[0m\n",
      "\u001b[0;32m/usr/local/anaconda3/lib/python3.7/site-packages/pandas/io/parsers.py\u001b[0m in \u001b[0;36m__init__\u001b[0;34m(self, f, engine, **kwds)\u001b[0m\n\u001b[1;32m    893\u001b[0m             \u001b[0mself\u001b[0m\u001b[0;34m.\u001b[0m\u001b[0moptions\u001b[0m\u001b[0;34m[\u001b[0m\u001b[0;34m\"has_index_names\"\u001b[0m\u001b[0;34m]\u001b[0m \u001b[0;34m=\u001b[0m \u001b[0mkwds\u001b[0m\u001b[0;34m[\u001b[0m\u001b[0;34m\"has_index_names\"\u001b[0m\u001b[0;34m]\u001b[0m\u001b[0;34m\u001b[0m\u001b[0;34m\u001b[0m\u001b[0m\n\u001b[1;32m    894\u001b[0m \u001b[0;34m\u001b[0m\u001b[0m\n\u001b[0;32m--> 895\u001b[0;31m         \u001b[0mself\u001b[0m\u001b[0;34m.\u001b[0m\u001b[0m_make_engine\u001b[0m\u001b[0;34m(\u001b[0m\u001b[0mself\u001b[0m\u001b[0;34m.\u001b[0m\u001b[0mengine\u001b[0m\u001b[0;34m)\u001b[0m\u001b[0;34m\u001b[0m\u001b[0;34m\u001b[0m\u001b[0m\n\u001b[0m\u001b[1;32m    896\u001b[0m \u001b[0;34m\u001b[0m\u001b[0m\n\u001b[1;32m    897\u001b[0m     \u001b[0;32mdef\u001b[0m \u001b[0mclose\u001b[0m\u001b[0;34m(\u001b[0m\u001b[0mself\u001b[0m\u001b[0;34m)\u001b[0m\u001b[0;34m:\u001b[0m\u001b[0;34m\u001b[0m\u001b[0;34m\u001b[0m\u001b[0m\n",
      "\u001b[0;32m/usr/local/anaconda3/lib/python3.7/site-packages/pandas/io/parsers.py\u001b[0m in \u001b[0;36m_make_engine\u001b[0;34m(self, engine)\u001b[0m\n\u001b[1;32m   1133\u001b[0m     \u001b[0;32mdef\u001b[0m \u001b[0m_make_engine\u001b[0m\u001b[0;34m(\u001b[0m\u001b[0mself\u001b[0m\u001b[0;34m,\u001b[0m \u001b[0mengine\u001b[0m\u001b[0;34m=\u001b[0m\u001b[0;34m\"c\"\u001b[0m\u001b[0;34m)\u001b[0m\u001b[0;34m:\u001b[0m\u001b[0;34m\u001b[0m\u001b[0;34m\u001b[0m\u001b[0m\n\u001b[1;32m   1134\u001b[0m         \u001b[0;32mif\u001b[0m \u001b[0mengine\u001b[0m \u001b[0;34m==\u001b[0m \u001b[0;34m\"c\"\u001b[0m\u001b[0;34m:\u001b[0m\u001b[0;34m\u001b[0m\u001b[0;34m\u001b[0m\u001b[0m\n\u001b[0;32m-> 1135\u001b[0;31m             \u001b[0mself\u001b[0m\u001b[0;34m.\u001b[0m\u001b[0m_engine\u001b[0m \u001b[0;34m=\u001b[0m \u001b[0mCParserWrapper\u001b[0m\u001b[0;34m(\u001b[0m\u001b[0mself\u001b[0m\u001b[0;34m.\u001b[0m\u001b[0mf\u001b[0m\u001b[0;34m,\u001b[0m \u001b[0;34m**\u001b[0m\u001b[0mself\u001b[0m\u001b[0;34m.\u001b[0m\u001b[0moptions\u001b[0m\u001b[0;34m)\u001b[0m\u001b[0;34m\u001b[0m\u001b[0;34m\u001b[0m\u001b[0m\n\u001b[0m\u001b[1;32m   1136\u001b[0m         \u001b[0;32melse\u001b[0m\u001b[0;34m:\u001b[0m\u001b[0;34m\u001b[0m\u001b[0;34m\u001b[0m\u001b[0m\n\u001b[1;32m   1137\u001b[0m             \u001b[0;32mif\u001b[0m \u001b[0mengine\u001b[0m \u001b[0;34m==\u001b[0m \u001b[0;34m\"python\"\u001b[0m\u001b[0;34m:\u001b[0m\u001b[0;34m\u001b[0m\u001b[0;34m\u001b[0m\u001b[0m\n",
      "\u001b[0;32m/usr/local/anaconda3/lib/python3.7/site-packages/pandas/io/parsers.py\u001b[0m in \u001b[0;36m__init__\u001b[0;34m(self, src, **kwds)\u001b[0m\n\u001b[1;32m   1915\u001b[0m         \u001b[0mkwds\u001b[0m\u001b[0;34m[\u001b[0m\u001b[0;34m\"usecols\"\u001b[0m\u001b[0;34m]\u001b[0m \u001b[0;34m=\u001b[0m \u001b[0mself\u001b[0m\u001b[0;34m.\u001b[0m\u001b[0musecols\u001b[0m\u001b[0;34m\u001b[0m\u001b[0;34m\u001b[0m\u001b[0m\n\u001b[1;32m   1916\u001b[0m \u001b[0;34m\u001b[0m\u001b[0m\n\u001b[0;32m-> 1917\u001b[0;31m         \u001b[0mself\u001b[0m\u001b[0;34m.\u001b[0m\u001b[0m_reader\u001b[0m \u001b[0;34m=\u001b[0m \u001b[0mparsers\u001b[0m\u001b[0;34m.\u001b[0m\u001b[0mTextReader\u001b[0m\u001b[0;34m(\u001b[0m\u001b[0msrc\u001b[0m\u001b[0;34m,\u001b[0m \u001b[0;34m**\u001b[0m\u001b[0mkwds\u001b[0m\u001b[0;34m)\u001b[0m\u001b[0;34m\u001b[0m\u001b[0;34m\u001b[0m\u001b[0m\n\u001b[0m\u001b[1;32m   1918\u001b[0m         \u001b[0mself\u001b[0m\u001b[0;34m.\u001b[0m\u001b[0munnamed_cols\u001b[0m \u001b[0;34m=\u001b[0m \u001b[0mself\u001b[0m\u001b[0;34m.\u001b[0m\u001b[0m_reader\u001b[0m\u001b[0;34m.\u001b[0m\u001b[0munnamed_cols\u001b[0m\u001b[0;34m\u001b[0m\u001b[0;34m\u001b[0m\u001b[0m\n\u001b[1;32m   1919\u001b[0m \u001b[0;34m\u001b[0m\u001b[0m\n",
      "\u001b[0;32mpandas/_libs/parsers.pyx\u001b[0m in \u001b[0;36mpandas._libs.parsers.TextReader.__cinit__\u001b[0;34m()\u001b[0m\n",
      "\u001b[0;32mpandas/_libs/parsers.pyx\u001b[0m in \u001b[0;36mpandas._libs.parsers.TextReader._setup_parser_source\u001b[0;34m()\u001b[0m\n",
      "\u001b[0;31mFileNotFoundError\u001b[0m: [Errno 2] File b'/../../../capstone/anime-recommendations-databaseanime/anime.csv' does not exist: b'/../../../capstone/anime-recommendations-databaseanime/anime.csv'"
     ]
    }
   ],
   "source": [
    "anime_df = pd.read_csv('./anime.csv')\n",
    "anime_df.head()"
   ]
  },
  {
   "cell_type": "code",
   "execution_count": null,
   "metadata": {
    "colab": {
     "base_uri": "https://localhost:8080/",
     "height": 33
    },
    "colab_type": "code",
    "id": "CCz2v-bvnE7P",
    "outputId": "7cf87d91-1828-447e-ab47-b788f7f22889"
   },
   "outputs": [],
   "source": [
    "anime_df.shape"
   ]
  },
  {
   "cell_type": "code",
   "execution_count": null,
   "metadata": {
    "colab": {},
    "colab_type": "code",
    "id": "Bw37JW7onE7S"
   },
   "outputs": [],
   "source": [
    "anime_df.dropna(inplace=True)"
   ]
  },
  {
   "cell_type": "markdown",
   "metadata": {
    "colab_type": "text",
    "id": "zRex0VC0HkT_"
   },
   "source": [
    "*** There are 12,294 rows above, and need to drop any null values ***"
   ]
  },
  {
   "cell_type": "code",
   "execution_count": null,
   "metadata": {
    "colab": {
     "base_uri": "https://localhost:8080/",
     "height": 33
    },
    "colab_type": "code",
    "id": "iZR714pMnE7X",
    "outputId": "a7ddacad-9d09-461e-f520-a69c6fd65fe2"
   },
   "outputs": [],
   "source": [
    "anime_df.shape #this seemed to have reduced it down a bit"
   ]
  },
  {
   "cell_type": "markdown",
   "metadata": {
    "colab_type": "text",
    "id": "VEuzf9T3nE7a"
   },
   "source": [
    "## What each column represents: \n",
    "***anime_id: id number for each anime title***<br>\n",
    "***name:  title of the motion picture***<br>\n",
    "***genre:  category***<br>\n",
    "***type:  describes the anime into tv, movies, OVA, and 3 other categories***<br>\n",
    "***episodes: total number of episodes ***<br>\n",
    "***rating: -1-10, lowest to highest*** <br>\n",
    "***members:  number of community members that are in this anime group***<br>"
   ]
  },
  {
   "cell_type": "code",
   "execution_count": null,
   "metadata": {
    "colab": {
     "base_uri": "https://localhost:8080/",
     "height": 245
    },
    "colab_type": "code",
    "id": "7n-5UeYcnE7b",
    "outputId": "84c33a4a-eb3c-45f1-a090-1af99c1c9337",
    "scrolled": false
   },
   "outputs": [],
   "source": [
    "anime_df.info() #having a look at all of the columns and types from the above cell and current to remove \n",
    "#any unneccessary extraneous data"
   ]
  },
  {
   "cell_type": "code",
   "execution_count": null,
   "metadata": {
    "colab": {
     "base_uri": "https://localhost:8080/",
     "height": 191
    },
    "colab_type": "code",
    "id": "gurWbtWbnE7f",
    "outputId": "182e6d9b-0913-405f-cc35-e9318e7579a1"
   },
   "outputs": [],
   "source": [
    "rating_df = pd.read_csv('./rating.csv')\n",
    "rating_df.head()"
   ]
  },
  {
   "cell_type": "markdown",
   "metadata": {
    "colab_type": "text",
    "id": "00Wv0TO6nE7i"
   },
   "source": [
    "## What each column represents: \n",
    "*** user_id: non-identifiable randomly generated user id*** <br>\n",
    "*** anime_id: the anime that the user has rated *** <br>\n",
    "*** rating: rating out of 10 this user has assigned (-1 if the user watched it but didn't assign a rating) ***"
   ]
  },
  {
   "cell_type": "code",
   "execution_count": null,
   "metadata": {
    "colab": {
     "base_uri": "https://localhost:8080/",
     "height": 33
    },
    "colab_type": "code",
    "id": "YRvEEgPwnE7j",
    "outputId": "70fed4c1-ac97-4227-b543-f4fb095d18e2"
   },
   "outputs": [],
   "source": [
    "rating_df.shape"
   ]
  },
  {
   "cell_type": "markdown",
   "metadata": {
    "colab_type": "text",
    "id": "zfyipvl-nE7m"
   },
   "source": [
    "Need to join both datasets together, will join using anime_id then hopefully will reshuffle the dataset so that it can be transformed into something that is compatible with `surprise`. "
   ]
  },
  {
   "cell_type": "markdown",
   "metadata": {
    "colab_type": "text",
    "id": "w5gfCqZHnE7n"
   },
   "source": [
    "I will join the two dataframes by merging them so that they can correspond to the correct anime_ids"
   ]
  },
  {
   "cell_type": "code",
   "execution_count": null,
   "metadata": {
    "colab": {
     "base_uri": "https://localhost:8080/",
     "height": 191
    },
    "colab_type": "code",
    "id": "lYdfiBi3nE7n",
    "outputId": "e82b5125-f946-4ce1-df21-592ab02686a7"
   },
   "outputs": [],
   "source": [
    "df_merge = pd.merge(anime_df, rating_df, on = 'anime_id')\n",
    "df_merge.head()\n",
    "# df_merge = df_row.merge(rating_df, left_on= 'anime_id', how='outer')\n",
    "# df_merge.head()"
   ]
  },
  {
   "cell_type": "code",
   "execution_count": null,
   "metadata": {
    "colab": {
     "base_uri": "https://localhost:8080/",
     "height": 33
    },
    "colab_type": "code",
    "id": "Yz5pF8ipnE7r",
    "outputId": "2b79da8d-f52a-42a2-9964-d746f438ca50"
   },
   "outputs": [],
   "source": [
    "df_merge.shape "
   ]
  },
  {
   "cell_type": "markdown",
   "metadata": {
    "colab_type": "text",
    "id": "JBoqWn0YnE7u"
   },
   "source": [
    "*** The data here is extremely large. Because I will be using Singular Value Decomposition (SVD) which is known to be computationally expensive I will be taking a large sample from the 7.8 million rows. Before taking a sample I will remove the -1 ratings from the dataset since these don't really count as reviews ***"
   ]
  },
  {
   "cell_type": "code",
   "execution_count": null,
   "metadata": {
    "colab": {
     "base_uri": "https://localhost:8080/",
     "height": 33
    },
    "colab_type": "code",
    "id": "u9btPEKGnE7w",
    "outputId": "50b74e18-e076-4073-b0ca-736f3fd7f487"
   },
   "outputs": [],
   "source": [
    "df_merge.rating_x.min()"
   ]
  },
  {
   "cell_type": "code",
   "execution_count": null,
   "metadata": {
    "colab": {
     "base_uri": "https://localhost:8080/",
     "height": 191
    },
    "colab_type": "code",
    "id": "fnl1XOx-nE71",
    "outputId": "71064245-458e-4e4f-d2be-6852f85564ce"
   },
   "outputs": [],
   "source": [
    "df_merge = df_merge[df_merge.rating_y != -1]\n",
    "df_merge.head()"
   ]
  },
  {
   "cell_type": "code",
   "execution_count": null,
   "metadata": {
    "colab": {
     "base_uri": "https://localhost:8080/",
     "height": 33
    },
    "colab_type": "code",
    "id": "yitglC3mnE74",
    "outputId": "86af780e-2496-43c7-d953-a31b9406a808"
   },
   "outputs": [],
   "source": [
    "df_merge.shape #have removed over 1 million rows"
   ]
  },
  {
   "cell_type": "code",
   "execution_count": null,
   "metadata": {
    "colab": {
     "base_uri": "https://localhost:8080/",
     "height": 33
    },
    "colab_type": "code",
    "id": "y24yLQ0unE77",
    "outputId": "4aad478b-2fbc-45c0-a79d-3202e165fd8e"
   },
   "outputs": [],
   "source": [
    "sample = df_merge.sample(frac=.25)\n",
    "sample.shape # this is still too large"
   ]
  },
  {
   "cell_type": "code",
   "execution_count": null,
   "metadata": {
    "colab": {
     "base_uri": "https://localhost:8080/",
     "height": 33
    },
    "colab_type": "code",
    "id": "Grn2w_aMnE79",
    "outputId": "a9f6cea3-0edd-4e19-a498-23b9cb64df42"
   },
   "outputs": [],
   "source": [
    "sample = df_merge.sample(n=5000)\n",
    "sample.shape #below I conduct SVD and it cannot handle anything larger than 5000 (i've tried)"
   ]
  },
  {
   "cell_type": "markdown",
   "metadata": {
    "colab_type": "text",
    "id": "g8zOlE5OnE8B"
   },
   "source": [
    "### IT SEEMS THAT THE RATING DF IS BASED ON EACH USER AND THEIR INDIVIDUAL RATING FOR EACH ANIME ID, WHEREAS THE ANIME DF IS AN AVERAGE OVERALL RATING FROM ALL OF ITS VIEWERS"
   ]
  },
  {
   "cell_type": "code",
   "execution_count": null,
   "metadata": {
    "colab": {
     "base_uri": "https://localhost:8080/",
     "height": 391
    },
    "colab_type": "code",
    "id": "L7UMnckMnE8B",
    "outputId": "c26037ea-9915-44b1-fb42-b188b9292e08"
   },
   "outputs": [],
   "source": [
    "#we are going to look at how many times each rating appears in a column\n",
    "ratings_x = sample['rating_x'].value_counts() #continuous \n",
    "ratings_y = sample['rating_y'].value_counts() #discrete\n",
    "\n",
    "print(ratings_x)\n",
    "print(ratings_y)"
   ]
  },
  {
   "cell_type": "code",
   "execution_count": null,
   "metadata": {
    "colab": {
     "base_uri": "https://localhost:8080/",
     "height": 240
    },
    "colab_type": "code",
    "id": "-Ql1kmgLbhig",
    "outputId": "5341c603-e897-4893-ac2b-1c4524aaad98"
   },
   "outputs": [],
   "source": [
    "sample.rating_x = sample.rating_x.apply(round) #another important feature i have had to add is making all ratings discrete for SVD\n",
    "sample.head()"
   ]
  },
  {
   "cell_type": "markdown",
   "metadata": {
    "colab_type": "text",
    "id": "mgbPY3xPnE8E"
   },
   "source": [
    "## Distribution of User Ratings"
   ]
  },
  {
   "cell_type": "code",
   "execution_count": null,
   "metadata": {
    "colab": {
     "base_uri": "https://localhost:8080/",
     "height": 295
    },
    "colab_type": "code",
    "id": "IA2yxK1WnE8F",
    "outputId": "4e0836c2-c3f3-41c9-e141-12989c87630d"
   },
   "outputs": [],
   "source": [
    "# plot distribution in matplotlib\n",
    "ratings_sorted = sorted(list(zip(ratings_y.index, ratings_y)))\n",
    "plt.bar([r[0] for r in ratings_sorted], [r[1] for r in ratings_sorted], color='cyan')\n",
    "plt.xlabel(\"Rating\")\n",
    "plt.ylabel(\"# of Ratings\")\n",
    "plt.title(\"Distribution of Ratings\")\n",
    "plt.show()"
   ]
  },
  {
   "cell_type": "code",
   "execution_count": null,
   "metadata": {
    "colab": {
     "base_uri": "https://localhost:8080/",
     "height": 50
    },
    "colab_type": "code",
    "id": "ZnsGfxacnE8I",
    "outputId": "7b4d8827-b14e-4981-b077-b4a51162b5fe"
   },
   "outputs": [],
   "source": [
    "#number of users\n",
    "print(\"Number of Users:\", df_merge.user_id.nunique())\n",
    "# print(\"Average Number of Reviews per User:\", df_merge.shape[0])/df_merge.user_id.nunique()\n",
    "avg_rate_peruser = df_merge.shape[0]\n",
    "user = df_merge.user_id.nunique()\n",
    "avg_num_review_per_user = avg_rate_peruser/user\n",
    "print(\"Average Number of Reveiws per User:\", avg_num_review_per_user)"
   ]
  },
  {
   "cell_type": "code",
   "execution_count": null,
   "metadata": {
    "colab": {
     "base_uri": "https://localhost:8080/",
     "height": 212
    },
    "colab_type": "code",
    "id": "qu-u8fNFnE8K",
    "outputId": "a75144c3-28b2-49e8-89ad-88968f45db6b"
   },
   "outputs": [],
   "source": [
    "sample['user_id'].value_counts()"
   ]
  },
  {
   "cell_type": "markdown",
   "metadata": {
    "colab_type": "text",
    "id": "8d116UGcnE8O"
   },
   "source": [
    "## Number of Reviews per User"
   ]
  },
  {
   "cell_type": "code",
   "execution_count": null,
   "metadata": {
    "colab": {
     "base_uri": "https://localhost:8080/",
     "height": 295
    },
    "colab_type": "code",
    "id": "S_mG1r4wnE8O",
    "outputId": "94c12b02-eec4-4c64-b3e2-435f6b3dd114"
   },
   "outputs": [],
   "source": [
    "ratings_per_user = sample['user_id'].value_counts()\n",
    "ratings_per_user = sorted(list(zip(ratings_per_user.index, ratings_per_user)))\n",
    "plt.bar([r[0] for r in ratings_per_user], [r[1] for r in ratings_per_user], color='pink')\n",
    "plt.xlabel('User IDs')\n",
    "plt.ylabel('# of Reviews')\n",
    "plt.title('Number of Reviews per User')\n",
    "plt.show()"
   ]
  },
  {
   "cell_type": "code",
   "execution_count": null,
   "metadata": {
    "colab": {},
    "colab_type": "code",
    "id": "Mk9oNKXOnE8R"
   },
   "outputs": [],
   "source": [
    "#graph on user ratings, what are the most common scores given "
   ]
  },
  {
   "cell_type": "markdown",
   "metadata": {
    "colab_type": "text",
    "id": "hxCnhlSmnE8T"
   },
   "source": [
    "## Different types of anime videos"
   ]
  },
  {
   "cell_type": "code",
   "execution_count": null,
   "metadata": {
    "colab": {
     "base_uri": "https://localhost:8080/",
     "height": 163
    },
    "colab_type": "code",
    "id": "bFHb0hWgnE8U",
    "outputId": "ecc45d39-df27-4f14-96ab-a03ac26844ee"
   },
   "outputs": [],
   "source": [
    "print(\"Number of users:\", sample.user_id.nunique())\n",
    "print(\"Number of types of different anime:\", sample.type.nunique())\n",
    "print(\"Types of type:\", sample.type.value_counts())"
   ]
  },
  {
   "cell_type": "markdown",
   "metadata": {
    "colab_type": "text",
    "id": "496-cXfEnE8W"
   },
   "source": [
    "This means that there are six different categories for anime: <br>\n",
    "Movies, TV, OVA, Special, ONA and Music. <br>\n",
    "***OVA stands for orginal animation video, this has been released directly to the video market <br>\n",
    "Special is not a common occuring video, it is usually shot yearly or on a one off <br>\n",
    "Music is not just audio here, but a lively animated motion picture to go with the composed music piece ***"
   ]
  },
  {
   "cell_type": "code",
   "execution_count": null,
   "metadata": {
    "colab": {
     "base_uri": "https://localhost:8080/",
     "height": 472
    },
    "colab_type": "code",
    "id": "lOjLNTOCnE8X",
    "outputId": "46eaa9e3-e12f-4e05-86a6-c2c8b87831e4"
   },
   "outputs": [],
   "source": [
    "sample_of_sample = sample[:100] #taking a sample to see if its the amount of data or its the command given\n",
    "sample_of_sample"
   ]
  },
  {
   "cell_type": "code",
   "execution_count": null,
   "metadata": {
    "colab": {
     "base_uri": "https://localhost:8080/",
     "height": 488
    },
    "colab_type": "code",
    "id": "E3BluncInE8b",
    "outputId": "f63ad163-ad37-4246-ca41-b9830efa92d3"
   },
   "outputs": [],
   "source": [
    "sample.loc[sample['type'] == 'Movie']"
   ]
  },
  {
   "cell_type": "code",
   "execution_count": null,
   "metadata": {
    "colab": {
     "base_uri": "https://localhost:8080/",
     "height": 33
    },
    "colab_type": "code",
    "id": "HBuoD77PnE8e",
    "outputId": "1cdbb8b4-5a10-40a4-d9a6-0e3c58dc19f5"
   },
   "outputs": [],
   "source": [
    "len(sample.loc[sample['type'] == 'TV']) #How many tv shows there are in the dataframe"
   ]
  },
  {
   "cell_type": "code",
   "execution_count": null,
   "metadata": {
    "colab": {
     "base_uri": "https://localhost:8080/",
     "height": 33
    },
    "colab_type": "code",
    "id": "RCsbBlBWnE8h",
    "outputId": "be78919d-daea-48ca-8f3e-b3157a204ffd"
   },
   "outputs": [],
   "source": [
    "len(sample.loc[sample['type'] == 'Movie'])"
   ]
  },
  {
   "cell_type": "code",
   "execution_count": null,
   "metadata": {
    "colab": {
     "base_uri": "https://localhost:8080/",
     "height": 115
    },
    "colab_type": "code",
    "id": "T6Of1OZFnE8j",
    "outputId": "c08b60e5-e2fb-49ff-a579-5c71e5ee4f37"
   },
   "outputs": [],
   "source": [
    "sample.loc[sample['type'] == 'Movie'].rating_x.value_counts() #Viewer ratings for films "
   ]
  },
  {
   "cell_type": "code",
   "execution_count": null,
   "metadata": {
    "colab": {
     "base_uri": "https://localhost:8080/",
     "height": 196
    },
    "colab_type": "code",
    "id": "JeYYpdY9nE8l",
    "outputId": "499cbfef-2bd7-4d3d-e69f-540ad9a3147e"
   },
   "outputs": [],
   "source": [
    "sample.loc[sample['type'] == 'Movie'].rating_y.value_counts() #Viewer ratings for films "
   ]
  },
  {
   "cell_type": "markdown",
   "metadata": {
    "colab_type": "text",
    "id": "n3Gju4rDnE8q"
   },
   "source": [
    "***drop rows containing -1 as rating in df_merge ***\n",
    "could be that I have an approximation error "
   ]
  },
  {
   "cell_type": "markdown",
   "metadata": {
    "colab_type": "text",
    "id": "oikzkDXQnE8r"
   },
   "source": [
    "*** Look at min ratings in rating_x *** if its a rating error, we would recreate y based off of x. (round to a whole number) *** 0 decimal places"
   ]
  },
  {
   "cell_type": "markdown",
   "metadata": {
    "colab_type": "text",
    "id": "XN1Ik_xLnE8r"
   },
   "source": [
    "## Most Reviewed Videos"
   ]
  },
  {
   "cell_type": "code",
   "execution_count": null,
   "metadata": {
    "colab": {
     "base_uri": "https://localhost:8080/",
     "height": 33
    },
    "colab_type": "code",
    "id": "8tFo4Wz8nE8r",
    "outputId": "371b3142-6867-4606-95f8-cbe867ba6de5"
   },
   "outputs": [],
   "source": [
    "movies_review = len(sample.loc[sample['type'] == 'Movie'])\n",
    "movies_review"
   ]
  },
  {
   "cell_type": "code",
   "execution_count": null,
   "metadata": {
    "colab": {
     "base_uri": "https://localhost:8080/",
     "height": 33
    },
    "colab_type": "code",
    "id": "e_3-JZXEnE8z",
    "outputId": "4ed6a54e-2c84-4b2c-a3f6-b08ce3a99d13"
   },
   "outputs": [],
   "source": [
    "tv_reviews = len(sample.loc[sample['type'] == 'TV'])\n",
    "tv_reviews"
   ]
  },
  {
   "cell_type": "code",
   "execution_count": null,
   "metadata": {
    "colab": {
     "base_uri": "https://localhost:8080/",
     "height": 33
    },
    "colab_type": "code",
    "id": "vIr4oAyAnE82",
    "outputId": "be5032f5-9f76-4129-ba46-66d4ec47d8fc"
   },
   "outputs": [],
   "source": [
    "ova_reviews = len(sample.loc[sample['type'] =='OVA'])\n",
    "ova_reviews"
   ]
  },
  {
   "cell_type": "code",
   "execution_count": null,
   "metadata": {
    "colab": {
     "base_uri": "https://localhost:8080/",
     "height": 33
    },
    "colab_type": "code",
    "id": "-oHGLfMgSzHO",
    "outputId": "75bb927a-ef6c-45b5-cc24-01c6309ca375"
   },
   "outputs": [],
   "source": [
    "music_reviews = len(sample.loc[sample['type'] =='Music'])\n",
    "music_reviews"
   ]
  },
  {
   "cell_type": "code",
   "execution_count": null,
   "metadata": {
    "colab": {
     "base_uri": "https://localhost:8080/",
     "height": 33
    },
    "colab_type": "code",
    "id": "gmNrTMyySzh6",
    "outputId": "1e8dd028-70e0-4529-999e-009315dd4396"
   },
   "outputs": [],
   "source": [
    "ona_reviews = len(sample.loc[sample['type'] =='ONA'])\n",
    "ona_reviews"
   ]
  },
  {
   "cell_type": "code",
   "execution_count": null,
   "metadata": {
    "colab": {
     "base_uri": "https://localhost:8080/",
     "height": 33
    },
    "colab_type": "code",
    "id": "Q1GMel8HS0d1",
    "outputId": "e229448c-2ed7-4d29-8b0c-fab66f6902d7"
   },
   "outputs": [],
   "source": [
    "special_reviews = len(sample.loc[sample['type'] =='Special'])\n",
    "special_reviews"
   ]
  },
  {
   "cell_type": "code",
   "execution_count": null,
   "metadata": {
    "colab": {
     "base_uri": "https://localhost:8080/",
     "height": 621
    },
    "colab_type": "code",
    "id": "cWPp_Rp1TEkH",
    "outputId": "7bfb508d-08a9-44e7-c10e-c879c7a9f885"
   },
   "outputs": [],
   "source": [
    "# PLOT them \n",
    "fig = plt.figure(figsize=(12,10))\n",
    "sns.countplot(sample['type'], palette='gist_rainbow')\n",
    "plt.title(\"Most Viewed Anime\")\n",
    "plt.xlabel(\"Types\")\n",
    "plt.ylabel(\"Number of Views with Reviews\")\n",
    "plt.legend(sample['type'])\n",
    "plt.show()"
   ]
  },
  {
   "cell_type": "code",
   "execution_count": null,
   "metadata": {
    "colab": {
     "base_uri": "https://localhost:8080/",
     "height": 33
    },
    "colab_type": "code",
    "id": "V8kDcAcanE9F",
    "outputId": "0d01e011-63f5-4a3e-a4f1-26d97b575e3c"
   },
   "outputs": [],
   "source": [
    "len(sample)"
   ]
  },
  {
   "cell_type": "markdown",
   "metadata": {
    "colab_type": "text",
    "id": "9z9Z9lkwnE9H"
   },
   "source": [
    "# Implementing a Surprise's Singular Value Decomposition (SVD) as a Baseline"
   ]
  },
  {
   "cell_type": "code",
   "execution_count": null,
   "metadata": {
    "colab": {
     "base_uri": "https://localhost:8080/",
     "height": 240
    },
    "colab_type": "code",
    "id": "4a0xCAzwkQaF",
    "outputId": "64044a5a-22fd-48d3-a5fa-c9f5fc4f85c9"
   },
   "outputs": [],
   "source": [
    "sample.rating_x = sample.rating_x.apply(round)\n",
    "sample.head()"
   ]
  },
  {
   "cell_type": "code",
   "execution_count": null,
   "metadata": {
    "colab": {},
    "colab_type": "code",
    "id": "u3ctsBehnE9I"
   },
   "outputs": [],
   "source": [
    "#for surprise, it likes its data in a certain way and only that specific data\n",
    "data = sample[['user_id', 'anime_id', 'rating_x']] #may need to do rating_x rounded and then use rating_y\n",
    "reader = Reader(line_format='user item rating', sep='')\n",
    "anime_loaded_data = Dataset.load_from_df(data, reader)\n",
    "# anime_split = anime_loaded_data.split(n_folds=5) \n",
    "\n",
    "#train_test_split\n",
    "trainset, testset = train_test_split(anime_loaded_data, test_size=.2)"
   ]
  },
  {
   "cell_type": "code",
   "execution_count": null,
   "metadata": {
    "colab": {
     "base_uri": "https://localhost:8080/",
     "height": 33
    },
    "colab_type": "code",
    "id": "GL-WXAOv_BBw",
    "outputId": "608a560e-1d91-43ab-88fd-0f1515990122"
   },
   "outputs": [],
   "source": [
    "anime_loaded_data"
   ]
  },
  {
   "cell_type": "code",
   "execution_count": null,
   "metadata": {
    "colab": {
     "base_uri": "https://localhost:8080/",
     "height": 33
    },
    "colab_type": "code",
    "id": "1LrsZrU6nE9L",
    "outputId": "af9bb817-30bb-4408-ece0-07e9ef4a3785"
   },
   "outputs": [],
   "source": [
    "#INSTANTIATE the SVD and fit only the train set\n",
    "svd = SVD()\n",
    "svd.fit(trainset)"
   ]
  },
  {
   "cell_type": "code",
   "execution_count": null,
   "metadata": {
    "colab": {
     "base_uri": "https://localhost:8080/",
     "height": 50
    },
    "colab_type": "code",
    "id": "pd6fEbcmnE9T",
    "outputId": "7f71f1b2-7aed-412e-f10f-8af331d2fb28"
   },
   "outputs": [],
   "source": [
    "predictions = svd.test(testset) #\n",
    "accuracy.rmse(predictions)"
   ]
  },
  {
   "cell_type": "markdown",
   "metadata": {
    "colab_type": "text",
    "id": "nb0LlqhqKzcH"
   },
   "source": [
    "*** I don't think this is better than the .66 that I have above on the memory based models.***"
   ]
  },
  {
   "cell_type": "code",
   "execution_count": null,
   "metadata": {
    "colab": {
     "base_uri": "https://localhost:8080/",
     "height": 180
    },
    "colab_type": "code",
    "id": "xB6P_zDMnE9V",
    "outputId": "354dbcf0-3b87-4e18-e94a-ddc921e7a8dc"
   },
   "outputs": [],
   "source": [
    "predictions[:10]"
   ]
  },
  {
   "cell_type": "code",
   "execution_count": null,
   "metadata": {
    "colab": {
     "base_uri": "https://localhost:8080/",
     "height": 50
    },
    "colab_type": "code",
    "id": "MdhR9mQUnE9Y",
    "outputId": "c8c97988-024b-4a6d-d713-afce0541bf11"
   },
   "outputs": [],
   "source": [
    "print(\"Number of users:\", sample.user_id.nunique())\n",
    "print(\"Number of types of different anime:\", sample.type.nunique())\n"
   ]
  },
  {
   "cell_type": "code",
   "execution_count": null,
   "metadata": {
    "colab": {
     "base_uri": "https://localhost:8080/",
     "height": 33
    },
    "colab_type": "code",
    "id": "UEec0Gc7nE9f",
    "outputId": "5fcb0f65-0f67-4834-a8df-f94ccf4ddb13"
   },
   "outputs": [],
   "source": [
    "user = 5\n",
    "item = 100\n",
    "svd.predict(user, item)"
   ]
  },
  {
   "cell_type": "markdown",
   "metadata": {
    "colab_type": "text",
    "id": "-NLeL3oFnE9n"
   },
   "source": [
    "Now I need to compare the different models and see which ones perform best. I will stick to using RMSE to evaluate the models. I will also cross validate. "
   ]
  },
  {
   "cell_type": "code",
   "execution_count": null,
   "metadata": {
    "colab": {
     "base_uri": "https://localhost:8080/",
     "height": 66
    },
    "colab_type": "code",
    "id": "VHM0KQOlnE9o",
    "outputId": "f42c47a3-f0b7-49ab-e155-029c2875a7f8"
   },
   "outputs": [],
   "source": [
    "#perform a gridsearch CV\n",
    "params = {'n_factors': [20,50,100],\n",
    "         'reg_all': [.02,.05, .10]}\n",
    "gridsearch_svd1 = GridSearchCV(SVD, param_grid=params, n_jobs=-1, joblib_verbose=3)\n",
    "gridsearch_svd1.fit(anime_loaded_data)"
   ]
  },
  {
   "cell_type": "code",
   "execution_count": null,
   "metadata": {
    "colab": {
     "base_uri": "https://localhost:8080/",
     "height": 50
    },
    "colab_type": "code",
    "id": "x9D7uwWqnE9q",
    "outputId": "454390f1-b7b7-4eb4-e3e5-35d51ae5a203"
   },
   "outputs": [],
   "source": [
    "print(gridsearch_svd1.best_score)\n",
    "print(gridsearch_svd1.best_params)"
   ]
  },
  {
   "cell_type": "markdown",
   "metadata": {
    "colab_type": "text",
    "id": "BnrdTIPILcqC"
   },
   "source": [
    "**Better than the model before***"
   ]
  },
  {
   "cell_type": "code",
   "execution_count": null,
   "metadata": {
    "colab": {
     "base_uri": "https://localhost:8080/",
     "height": 33
    },
    "colab_type": "code",
    "id": "zqL4tt72GQe5",
    "outputId": "f5103bfd-4794-46d9-8861-d9b79ead77a3"
   },
   "outputs": [],
   "source": [
    "anime_loaded_data"
   ]
  },
  {
   "cell_type": "markdown",
   "metadata": {
    "colab_type": "text",
    "id": "P-lM8im2nE9z"
   },
   "source": [
    "## Cross Validation with K-Nearest Neighbors (KNN) Basic Algorithm"
   ]
  },
  {
   "cell_type": "code",
   "execution_count": null,
   "metadata": {
    "colab": {
     "base_uri": "https://localhost:8080/",
     "height": 70
    },
    "colab_type": "code",
    "id": "czGpCY-QnE91",
    "outputId": "36106be6-2009-4dcc-c6d4-4e783a4c49d2"
   },
   "outputs": [],
   "source": [
    "#cross validate with KNNBasic\n",
    "knn_basic = KNNBasic(sim_options={'name':'pearson', 'user_based':True}, verbose=True)\n",
    "cv_knn_basic = cross_validate(knn_basic, anime_loaded_data, n_jobs=2)"
   ]
  },
  {
   "cell_type": "code",
   "execution_count": null,
   "metadata": {
    "colab": {
     "base_uri": "https://localhost:8080/",
     "height": 115
    },
    "colab_type": "code",
    "id": "F9t6WpJL2USm",
    "outputId": "382cd473-9d8a-40f4-f330-d4645711df3b"
   },
   "outputs": [],
   "source": [
    "for i in cv_knn_basic.items():\n",
    "    print(i)\n",
    "print('-----------------')\n",
    "print(np.mean(cv_knn_basic['test_rmse']))"
   ]
  },
  {
   "cell_type": "markdown",
   "metadata": {
    "colab_type": "text",
    "id": "L5qCkyUELOIN"
   },
   "source": [
    "*** This is not as good as the baseline***"
   ]
  },
  {
   "cell_type": "code",
   "execution_count": null,
   "metadata": {
    "colab": {},
    "colab_type": "code",
    "id": "lfLPCcv8nE93"
   },
   "outputs": [],
   "source": [
    "knn_basic_msd = KNNBasic(sim_options = {'name': 'msd', 'user-based':True})\n",
    "cv_knn_basic_msd = cross_validate(knn_basic_msd, anime_loaded_data, n_jobs=2)"
   ]
  },
  {
   "cell_type": "code",
   "execution_count": null,
   "metadata": {
    "colab": {
     "base_uri": "https://localhost:8080/",
     "height": 115
    },
    "colab_type": "code",
    "id": "IsvfxOiXnE95",
    "outputId": "be1b616e-64a0-4f3c-9c36-870b79357eb1"
   },
   "outputs": [],
   "source": [
    "for i in cv_knn_basic_msd.items():\n",
    "    print(i)\n",
    "print('-----------------')\n",
    "print(np.mean(cv_knn_basic_msd['test_rmse']))"
   ]
  },
  {
   "cell_type": "markdown",
   "metadata": {
    "colab_type": "text",
    "id": "j_r77pS4LiAW"
   },
   "source": [
    "*** better than the model above ***\n"
   ]
  },
  {
   "cell_type": "markdown",
   "metadata": {
    "colab_type": "text",
    "id": "Nq4VKWZtnE98"
   },
   "source": [
    "## Cross Validation with KNN Baseline"
   ]
  },
  {
   "cell_type": "code",
   "execution_count": null,
   "metadata": {
    "colab": {},
    "colab_type": "code",
    "id": "Jd_R2dkNnE99"
   },
   "outputs": [],
   "source": [
    "#cross validate with KNN Baseline (pearson)\n",
    "knn_baseline = KNNBaseline(sim_options={'name': 'pearson', 'user_based':True})\n",
    "cv_knn_baseline = cross_validate(knn_baseline, anime_loaded_data, n_jobs=3)"
   ]
  },
  {
   "cell_type": "code",
   "execution_count": null,
   "metadata": {
    "colab": {
     "base_uri": "https://localhost:8080/",
     "height": 115
    },
    "colab_type": "code",
    "id": "6-jDbZDc3EHW",
    "outputId": "e7d972a1-e54c-426f-95db-03e5ff103bba"
   },
   "outputs": [],
   "source": [
    "for i in cv_knn_baseline.items():\n",
    "    print(i)\n",
    "print('-----------------')\n",
    "print(np.mean(cv_knn_baseline['test_rmse']))"
   ]
  },
  {
   "cell_type": "markdown",
   "metadata": {
    "colab_type": "text",
    "id": "bI9WY1rqLu5j"
   },
   "source": [
    "***better than the other rmse but not as good as mae from above *** "
   ]
  },
  {
   "cell_type": "code",
   "execution_count": null,
   "metadata": {
    "colab": {},
    "colab_type": "code",
    "id": "INk427JxQ6NF"
   },
   "outputs": [],
   "source": [
    "knn_baseline_msd = KNNBaseline(sim_options = {'name': 'msd', 'user_based': True})\n",
    "cv_knn_baseline_msd = cross_validate(knn_baseline_msd, anime_loaded_data, n_jobs =2)"
   ]
  },
  {
   "cell_type": "code",
   "execution_count": null,
   "metadata": {
    "colab": {
     "base_uri": "https://localhost:8080/",
     "height": 115
    },
    "colab_type": "code",
    "id": "tmd9Vtf5SMgW",
    "outputId": "d4b5c037-6294-4b5c-b898-8ea8a181f08d"
   },
   "outputs": [],
   "source": [
    "for i in cv_knn_baseline_msd.items():\n",
    "  print(i)\n",
    "print('-------------------')\n",
    "print(np.mean(cv_knn_baseline_msd['test_rmse']))"
   ]
  },
  {
   "cell_type": "markdown",
   "metadata": {
    "colab_type": "text",
    "id": "FhqNA7M4LKXP"
   },
   "source": [
    "*** Not as good as the above ***"
   ]
  },
  {
   "cell_type": "markdown",
   "metadata": {
    "colab_type": "text",
    "id": "w0sTEu4PnE-A"
   },
   "source": [
    "## Cross Validate with KNNBaseline using pearson baseline"
   ]
  },
  {
   "cell_type": "code",
   "execution_count": null,
   "metadata": {
    "colab": {},
    "colab_type": "code",
    "id": "XUApxrARThBC"
   },
   "outputs": [],
   "source": [
    "knn_pearson_baseline = KNNBaseline(sim_options={'name': 'pearson_baseline', 'user_based':True})\n",
    "cv_knn_pearson_baseline = cross_validate(knn_pearson_baseline, anime_data, n_jobs=3)"
   ]
  },
  {
   "cell_type": "code",
   "execution_count": null,
   "metadata": {
    "colab": {
     "base_uri": "https://localhost:8080/",
     "height": 115
    },
    "colab_type": "code",
    "id": "Y5AyqnDMTnu1",
    "outputId": "f4bd25f2-d899-4be7-c445-c02dd85169cc"
   },
   "outputs": [],
   "source": [
    "for i in cv_knn_pearson_baseline.items():\n",
    "  print(i)\n",
    "print('-------------------')\n",
    "print(np.mean(cv_knn_pearson_baseline['test_rmse']))"
   ]
  },
  {
   "cell_type": "markdown",
   "metadata": {
    "colab_type": "text",
    "id": "XiXOqpmCL-Vi"
   },
   "source": [
    "*** hmmmm... this is a realistic number for an average rmse score but varies greatly from the other scores, looks similar to the models I added in at the top ***"
   ]
  },
  {
   "cell_type": "markdown",
   "metadata": {
    "colab_type": "text",
    "id": "rKUymG4NULeY"
   },
   "source": [
    "## KNN with Means "
   ]
  },
  {
   "cell_type": "code",
   "execution_count": null,
   "metadata": {
    "colab": {},
    "colab_type": "code",
    "id": "ITdq6J1RUPWx"
   },
   "outputs": [],
   "source": [
    "knn_means = KNNWithMeans(sim_options={'name': 'pearson', 'user_based': True})\n",
    "cv_knn_means = cross_validate(knn_means, anime_data, n_jobs=3)"
   ]
  },
  {
   "cell_type": "code",
   "execution_count": null,
   "metadata": {
    "colab": {
     "base_uri": "https://localhost:8080/",
     "height": 115
    },
    "colab_type": "code",
    "id": "zXPB7MwgWFpF",
    "outputId": "3ed6ba03-8344-4bcf-e661-85a576442c8e"
   },
   "outputs": [],
   "source": [
    "for i in cv_knn_means.items():\n",
    "  print(i)\n",
    "print('------------')\n",
    "print(np.mean(cv_knn_means['test_rmse']))"
   ]
  },
  {
   "cell_type": "code",
   "execution_count": null,
   "metadata": {
    "colab": {},
    "colab_type": "code",
    "id": "MlK-xFjHWIme"
   },
   "outputs": [],
   "source": [
    "knn_means_msd = KNNWithMeans(sim_options={'name': 'msd', 'user_based':True})\n",
    "cv_knn_means_msd = cross_validate(knn_means_msd, anime_data, n_jobs = 2)"
   ]
  },
  {
   "cell_type": "code",
   "execution_count": null,
   "metadata": {
    "colab": {
     "base_uri": "https://localhost:8080/",
     "height": 115
    },
    "colab_type": "code",
    "id": "wgQwNAVpWvxd",
    "outputId": "1c1dff03-b034-4eb5-81a1-45fad1d8d0f5"
   },
   "outputs": [],
   "source": [
    "for i in cv_knn_means_msd.items():\n",
    "  print(i)\n",
    "print('-------------')\n",
    "print(np.mean(cv_knn_means_msd['test_rmse']))"
   ]
  },
  {
   "cell_type": "markdown",
   "metadata": {
    "colab_type": "text",
    "id": "htjUIhGTMY-h"
   },
   "source": [
    "*** This is a lot better than the KNNBaseline ***"
   ]
  },
  {
   "cell_type": "markdown",
   "metadata": {
    "colab_type": "text",
    "id": "3PqAJcuNXIiX"
   },
   "source": [
    "## Tuning the Best Algorithm with GridSearchCV\n",
    "Best model so far is KNN Baseline with Mean Squared Distance"
   ]
  },
  {
   "cell_type": "code",
   "execution_count": null,
   "metadata": {
    "colab": {
     "base_uri": "https://localhost:8080/",
     "height": 82
    },
    "colab_type": "code",
    "id": "sXz8F2wHXNBP",
    "outputId": "6036d4c3-2f98-4fd8-99c8-3cbf90eecab6"
   },
   "outputs": [],
   "source": [
    "param_grid = {'n_factors': [5, 20, 100], \n",
    "              'n_epochs': [5,10], \n",
    "              'lr_all': [.002, .005], \n",
    "              'reg_all': [.02, .05, .5]}\n",
    "knn_withmeans_gs = GridSearchCV(KNNWithMeans, param_grid=param_grid, n_jobs=3, joblib_verbose=3)\n",
    "knn_withmeans_gs.fit(anime_data)"
   ]
  },
  {
   "cell_type": "code",
   "execution_count": null,
   "metadata": {
    "colab": {
     "base_uri": "https://localhost:8080/",
     "height": 70
    },
    "colab_type": "code",
    "id": "q2IabmRkX5xZ",
    "outputId": "6edd9a57-086e-4f27-db0a-6bf98c76c061"
   },
   "outputs": [],
   "source": [
    "print(knn_baseline_gs.best_score)\n",
    "print(knn_baseline_gs.best_params)"
   ]
  },
  {
   "cell_type": "code",
   "execution_count": null,
   "metadata": {
    "colab": {},
    "colab_type": "code",
    "id": "ftuslWl7X78D"
   },
   "outputs": [],
   "source": [
    "#Now use this to fit test set, initial gridsearch was 2.77096, so will use that gs here\n",
    "highest_perf_algo = gridsearch_svd1.best_estimator['rmse']"
   ]
  },
  {
   "cell_type": "code",
   "execution_count": null,
   "metadata": {
    "colab": {
     "base_uri": "https://localhost:8080/",
     "height": 33
    },
    "colab_type": "code",
    "id": "UM_woiDrX8NF",
    "outputId": "ef18728c-978e-48d4-b7b0-bbbd5ac28779"
   },
   "outputs": [],
   "source": [
    "#retrain the whole set\n",
    "trainset = anime_data.build_full_trainset()\n",
    "highest_perf_algo.fit(trainset)"
   ]
  },
  {
   "cell_type": "code",
   "execution_count": null,
   "metadata": {
    "colab": {
     "base_uri": "https://localhost:8080/",
     "height": 50
    },
    "colab_type": "code",
    "id": "zyob26pZZ_FK",
    "outputId": "f7d7be90-1d0d-4107-a0ca-ea83010ce64f"
   },
   "outputs": [],
   "source": [
    "#Biased Accuracy on trainset\n",
    "predictions = highest_perf_algo.test(trainset.build_testset())\n",
    "print('Biased accuracy on Trainset', end='')\n",
    "accuracy.rmse(predictions)"
   ]
  },
  {
   "cell_type": "code",
   "execution_count": null,
   "metadata": {
    "colab": {
     "base_uri": "https://localhost:8080/",
     "height": 50
    },
    "colab_type": "code",
    "id": "qVADRznNZ_2s",
    "outputId": "8230233b-9039-4837-a4bb-26447c5ff5b5"
   },
   "outputs": [],
   "source": [
    "#UnBiased Accuracy on testset\n",
    "predictions = highest_perf_algo.test(testset)\n",
    "print('Unbiased Accuracy on test', end='')\n",
    "accuracy.rmse(predictions)"
   ]
  },
  {
   "cell_type": "markdown",
   "metadata": {
    "colab_type": "text",
    "id": "JHgNVmhJ4uTk"
   },
   "source": [
    "# Collaborative Models"
   ]
  },
  {
   "cell_type": "code",
   "execution_count": null,
   "metadata": {
    "colab": {},
    "colab_type": "code",
    "id": "WW50kuym4rGS"
   },
   "outputs": [],
   "source": [
    "class MyDataset(dataset.DatasetAutoFolds):\n",
    "  #surprise.dataset.DatasetAutoFolds creates a surprise friendly dataset\n",
    "  #this will give it folds so that cross validation can be performed efficiently\n",
    "  def __init__(self, sample, reader):\n",
    "    self.sample = [(uid, iid, r, None) for (uid, iid, r) in \n",
    "                   zip (sample['user_id'], sample['anime_id'], sample['rating_x'])]\n",
    "    self.reader = reader"
   ]
  },
  {
   "cell_type": "code",
   "execution_count": null,
   "metadata": {
    "colab": {},
    "colab_type": "code",
    "id": "1I5TmdbF4rSI"
   },
   "outputs": [],
   "source": [
    "# #instantiate the reader parser object\n",
    "#reader = Reader(line_format = 'user item rating', rating_scale = (0.0, 10.0))"
   ]
  },
  {
   "cell_type": "code",
   "execution_count": null,
   "metadata": {
    "colab": {},
    "colab_type": "code",
    "id": "OaA2fqQS4rcV"
   },
   "outputs": [],
   "source": [
    "# #parse sample set into a surprise friendly dataset\n",
    "#data = MyDataset(sample, reader)"
   ]
  },
  {
   "cell_type": "code",
   "execution_count": null,
   "metadata": {
    "colab": {},
    "colab_type": "code",
    "id": "O84FyspwrvZ2"
   },
   "outputs": [],
   "source": [
    "reader = Reader(line_format = 'user item rating', rating_scale = (0.0, 10.0))\n",
    "data = sample[['user_id', 'anime_id', 'rating_x']]\n",
    "anime_data = Dataset.load_from_df(data, reader)"
   ]
  },
  {
   "cell_type": "code",
   "execution_count": null,
   "metadata": {
    "colab": {
     "base_uri": "https://localhost:8080/",
     "height": 33
    },
    "colab_type": "code",
    "id": "FYOEyoGj7FBr",
    "outputId": "826802a9-cf79-4dec-d262-bc26741a40ae"
   },
   "outputs": [],
   "source": [
    "type(data)"
   ]
  },
  {
   "cell_type": "markdown",
   "metadata": {
    "colab_type": "text",
    "id": "U84mcHh7W0B3"
   },
   "source": [
    "# Train Validation Split"
   ]
  },
  {
   "cell_type": "code",
   "execution_count": null,
   "metadata": {
    "colab": {},
    "colab_type": "code",
    "id": "NIDFfBZfrxkj"
   },
   "outputs": [],
   "source": [
    "trainset, testset = train_test_split(anime_data, test_size=.2)"
   ]
  },
  {
   "cell_type": "markdown",
   "metadata": {
    "colab_type": "text",
    "id": "swEKWiOhP5sL"
   },
   "source": [
    "# Memory Based Knn Method"
   ]
  },
  {
   "cell_type": "markdown",
   "metadata": {
    "colab_type": "text",
    "id": "JSk1rpsyR147"
   },
   "source": [
    "## KNN Basic with cosine similarity"
   ]
  },
  {
   "cell_type": "code",
   "execution_count": null,
   "metadata": {
    "colab": {},
    "colab_type": "code",
    "id": "2VNfsQ10yTjN"
   },
   "outputs": [],
   "source": [
    "#cosine similarity \n",
    "sim_cos = {'name': 'cosine', 'user_based':True}\n",
    "\n",
    "#instantiate the model with the similarity setting\n",
    "knn_sim_cos = knns.KNNBasic(sim_options=sim_cos)"
   ]
  },
  {
   "cell_type": "code",
   "execution_count": null,
   "metadata": {
    "colab": {
     "base_uri": "https://localhost:8080/",
     "height": 163
    },
    "colab_type": "code",
    "id": "x1YrCWVAyTq1",
    "outputId": "6cfed13a-e59f-4cea-a588-8fd88966f841"
   },
   "outputs": [],
   "source": [
    "# fit the model\n",
    "sim_cos_cv = cross_validate(knn_sim_cos, anime_data, measures=['rmse', 'mae'], cv=3,\n",
    "                            return_train_measures=True, n_jobs=3, verbose=True)"
   ]
  },
  {
   "cell_type": "markdown",
   "metadata": {
    "colab_type": "text",
    "id": "wZS9eDbwZyAN"
   },
   "source": [
    "*** "
   ]
  },
  {
   "cell_type": "markdown",
   "metadata": {
    "colab_type": "text",
    "id": "CyUlUIHDb9EW"
   },
   "source": [
    "### The test set is not great but not terribly bad. I am not sure why the train set is not showing up. "
   ]
  },
  {
   "cell_type": "markdown",
   "metadata": {
    "colab_type": "text",
    "id": "qyoAWKO1XnOl"
   },
   "source": [
    "## 2nd Model: KNN Basic (item based)"
   ]
  },
  {
   "cell_type": "code",
   "execution_count": null,
   "metadata": {
    "colab": {},
    "colab_type": "code",
    "id": "l5-_dnNSyT1S"
   },
   "outputs": [],
   "source": [
    "#cosine similarity \n",
    "sim_cos = {'name': 'cosine', 'user_based': False}\n",
    "\n",
    "#instantiate the knnBasic with sim_cos settings\n",
    "knn_basic_simcos = knns.KNNBasic(sim_options=sim_cos)\n"
   ]
  },
  {
   "cell_type": "code",
   "execution_count": null,
   "metadata": {
    "colab": {
     "base_uri": "https://localhost:8080/",
     "height": 163
    },
    "colab_type": "code",
    "id": "WHD_Fu8myTyw",
    "outputId": "b948910f-9ade-47a0-cacb-b82b78d9af86"
   },
   "outputs": [],
   "source": [
    "#fit the model \n",
    "cv_knn_basic_simcos = cross_validate(knn_basic_simcos, anime_data, measures=['rmse', 'mae'], cv =3, return_train_measures=True, n_jobs=3, verbose=True)"
   ]
  },
  {
   "cell_type": "code",
   "execution_count": null,
   "metadata": {
    "colab": {},
    "colab_type": "code",
    "id": "KszSZLcOyTv4"
   },
   "outputs": [],
   "source": [
    "#This one performed better than the last and the trainset is showing up. WOOH!"
   ]
  },
  {
   "cell_type": "markdown",
   "metadata": {
    "colab_type": "text",
    "id": "GogIlC2UdBuL"
   },
   "source": [
    "##3rd Baseline Model: A user based pearson similarity using KNNBasline"
   ]
  },
  {
   "cell_type": "code",
   "execution_count": null,
   "metadata": {
    "colab": {},
    "colab_type": "code",
    "id": "dA7jI1jE7E9h"
   },
   "outputs": [],
   "source": [
    "sim_pearson = {'name': 'pearson', 'user_based': True}\n",
    "\n",
    "#instantiate KNNBasline with pearson \n",
    "knn_baseline_pearson = knns.KNNBaseline(sim_options=sim_pearson)"
   ]
  },
  {
   "cell_type": "code",
   "execution_count": null,
   "metadata": {
    "colab": {
     "base_uri": "https://localhost:8080/",
     "height": 163
    },
    "colab_type": "code",
    "id": "61cuIDITdBQu",
    "outputId": "4ade5bb9-d595-4099-d44f-89509c46aa56"
   },
   "outputs": [],
   "source": [
    "#fit and cross validate model \n",
    "cv_knnbaseline_simpearson = cross_validate(knn_baseline_pearson, anime_data, measures=['rmse', 'mae'], cv=3,\n",
    "                                           return_train_measures=True, n_jobs=2, verbose=True)"
   ]
  },
  {
   "cell_type": "markdown",
   "metadata": {
    "colab_type": "text",
    "id": "tdij6Cqbd2EZ"
   },
   "source": [
    "### This user based model with sim pearson did not do as well. Again, user based does not produce trainset results"
   ]
  },
  {
   "cell_type": "markdown",
   "metadata": {
    "colab_type": "text",
    "id": "55I_IAJAeCCP"
   },
   "source": [
    "## 4th Model: Item based pearson similarity using KNNBaseline"
   ]
  },
  {
   "cell_type": "code",
   "execution_count": null,
   "metadata": {
    "colab": {},
    "colab_type": "code",
    "id": "kV3ZeGvweA9p"
   },
   "outputs": [],
   "source": [
    "sim_pearson = {'name':'pearson', 'user_based': False}\n",
    "\n",
    "#instantiate KNNBasline \n",
    "knn_baseline_item = knns.KNNBaseline(sim_options=sim_pearson)"
   ]
  },
  {
   "cell_type": "code",
   "execution_count": null,
   "metadata": {
    "colab": {
     "base_uri": "https://localhost:8080/",
     "height": 163
    },
    "colab_type": "code",
    "id": "6s_PCGYteBNO",
    "outputId": "2eb18255-15c6-4bdd-b7a0-97645e3250b6"
   },
   "outputs": [],
   "source": [
    "#fit and cross validate\n",
    "cv_knnbaseline_item = cross_validate(knn_baseline_item, anime_data, measures=['rmse', 'mae'], cv=3, \n",
    "                                     return_train_measures=True, n_jobs=3, verbose=True)"
   ]
  },
  {
   "cell_type": "markdown",
   "metadata": {
    "colab_type": "text",
    "id": "8G3jVjnXe8Hz"
   },
   "source": [
    "### This model hasn't performed well and also for some reason has not given trainset RMSE and MAE"
   ]
  },
  {
   "cell_type": "markdown",
   "metadata": {
    "colab_type": "text",
    "id": "QKhbNDhEfFiH"
   },
   "source": [
    "## 5th Model: User based using KNNWithMeans with pearson "
   ]
  },
  {
   "cell_type": "code",
   "execution_count": null,
   "metadata": {
    "colab": {},
    "colab_type": "code",
    "id": "vTBSUY7UeBXG"
   },
   "outputs": [],
   "source": [
    "sim_pearson = {'name': 'pearson', 'user_based': True}\n",
    "\n",
    "#instantiating KNNWithMeans\n",
    "knn_withmeans_user = knns.KNNWithMeans(sim_options=sim_pearson)"
   ]
  },
  {
   "cell_type": "code",
   "execution_count": null,
   "metadata": {
    "colab": {
     "base_uri": "https://localhost:8080/",
     "height": 163
    },
    "colab_type": "code",
    "id": "iJwZlGi5fbtl",
    "outputId": "42836089-f6f3-4b3d-cc99-735c17fd4bb1"
   },
   "outputs": [],
   "source": [
    "#fit and cross validate \n",
    "cv_knnwithmeans_user = cross_validate(knn_withmeans_user, anime_data, measures=['rmse','mae'], cv=3, return_train_measures=True, \n",
    "                                      n_jobs=3, verbose=True)"
   ]
  },
  {
   "cell_type": "markdown",
   "metadata": {
    "colab_type": "text",
    "id": "NFeaMCKafcTW"
   },
   "source": [
    "#### This test set has the best performance yet, but no idea why the trainset is not showing up. "
   ]
  },
  {
   "cell_type": "markdown",
   "metadata": {
    "colab_type": "text",
    "id": "T4vAso0xf4Hi"
   },
   "source": [
    "## 6th Model: KNNWithMeans but item based"
   ]
  },
  {
   "cell_type": "code",
   "execution_count": null,
   "metadata": {
    "colab": {},
    "colab_type": "code",
    "id": "MY4KjDsWf-h3"
   },
   "outputs": [],
   "source": [
    "sim_pearson = {'name': 'pearson', 'user_based':False}\n",
    "\n",
    "#instantiate \n",
    "knn_withmeans_item = knns.KNNWithMeans(sim_options=sim_pearson)\n"
   ]
  },
  {
   "cell_type": "code",
   "execution_count": null,
   "metadata": {
    "colab": {
     "base_uri": "https://localhost:8080/",
     "height": 163
    },
    "colab_type": "code",
    "id": "hc43Ggq7f-t8",
    "outputId": "124e92ea-5dbb-42cc-b656-b7a524bd0cf8"
   },
   "outputs": [],
   "source": [
    "#fit and cross validate\n",
    "cv_knnwithmeans_item = cross_validate(knn_withmeans_item, anime_data, measures=['rmse', 'mae'], cv=3,\n",
    "                                      return_train_measures=True, n_jobs=3, verbose=True)"
   ]
  },
  {
   "cell_type": "markdown",
   "metadata": {
    "colab_type": "text",
    "id": "rNNVKItUf_Gn"
   },
   "source": [
    "#### The item based for pearson on the KNNWithMeans does not perform as well"
   ]
  },
  {
   "cell_type": "markdown",
   "metadata": {
    "colab_type": "text",
    "id": "_V-oXnJQgu0N"
   },
   "source": [
    "# Model Based Methods"
   ]
  },
  {
   "cell_type": "markdown",
   "metadata": {
    "colab_type": "text",
    "id": "d-swWJpvg9hk"
   },
   "source": [
    "## Alternating Least Squares"
   ]
  },
  {
   "cell_type": "markdown",
   "metadata": {
    "colab_type": "text",
    "id": "IEe7MotMhC58"
   },
   "source": [
    "### 7th Model with hyperparameter tuning"
   ]
  },
  {
   "cell_type": "code",
   "execution_count": null,
   "metadata": {
    "colab": {
     "base_uri": "https://localhost:8080/",
     "height": 33
    },
    "colab_type": "code",
    "id": "C9Fy03HlgvJY",
    "outputId": "397d2006-cc0e-4912-e313-383f61f33dac"
   },
   "outputs": [],
   "source": [
    "# create parameter permutations\n",
    "epochs = [3, 5, 10, 20]\n",
    "reg_u = [5, 10, 12, 15, 20]\n",
    "reg_i = [3, 5, 10, 15]\n",
    "\n",
    "params = [[i, j, k] for i in epochs\n",
    "          for j in reg_u\n",
    "          for k in reg_i]\n",
    "print('Number of grid search permutation:', len(params))\n"
   ]
  },
  {
   "cell_type": "code",
   "execution_count": null,
   "metadata": {
    "colab": {
     "base_uri": "https://localhost:8080/",
     "height": 223
    },
    "colab_type": "code",
    "id": "UPDAGKf8gve6",
    "outputId": "f8a63262-e77c-461e-c72c-9a0c8474ebe6"
   },
   "outputs": [],
   "source": [
    "baseline_option_score = {}\n",
    "\n",
    "for basline_perm in params: \n",
    "  basline_options = {'method': 'als',\n",
    "                     'n_epochs': bsl_perm[0],\n",
    "                     'reg_u': bsl_perm[1],\n",
    "                     'reg_i': bsl_perm[2]}\n",
    "  #instantiate\n",
    "  algo = baseline_only.BaselineOnly(bsl_options=baseline_options)\n",
    "  #fit and cross validate\n",
    "  cv_algo = cross_validate(algo, anime_data, measures=['rmse', 'mae'], cv =3, \n",
    "                           verbose = False, return_train_measures=True);\n",
    "  bsl_perm2 = (str(bsl_perm[0]) + ' ' + str(bsl_perm[1]) + ' ' + str(bsl_perm[2]))\n",
    "  baseline_option_score[bsl_perm2] = {'mean_train_rmse': cv_algo['train_rmse'].mean(), 'mean_test_rmse': a['test_rmse'].mean()}\n",
    "\n",
    "  #print('\\n', baseline_options, '\\n', '\\n\\')"
   ]
  },
  {
   "cell_type": "markdown",
   "metadata": {
    "colab_type": "text",
    "id": "Bdivge2Agv3m"
   },
   "source": []
  },
  {
   "cell_type": "markdown",
   "metadata": {
    "colab_type": "text",
    "id": "d6KwN2bv3w0d"
   },
   "source": [
    "# WILL NOT CONTINUE USING PYSPARK! JUST REMEMBERED THAT THE LEARNCO IS OUTDATED"
   ]
  },
  {
   "cell_type": "markdown",
   "metadata": {
    "colab_type": "text",
    "id": "ezLPlX8_nE-C"
   },
   "source": [
    "# Pyspark "
   ]
  },
  {
   "cell_type": "code",
   "execution_count": null,
   "metadata": {
    "colab": {},
    "colab_type": "code",
    "id": "pD67ynpxLoz6"
   },
   "outputs": [],
   "source": [
    "!pip install pyspark"
   ]
  },
  {
   "cell_type": "code",
   "execution_count": null,
   "metadata": {
    "colab": {},
    "colab_type": "code",
    "id": "VNDenBfQnE-C"
   },
   "outputs": [],
   "source": [
    "from pyspark.sql import SparkSession \n",
    "\n",
    "from pyspark.ml.evaluation import RegressionEvaluator\n",
    "from pyspark.ml.recommendation import ALS"
   ]
  },
  {
   "cell_type": "code",
   "execution_count": null,
   "metadata": {
    "colab": {},
    "colab_type": "code",
    "id": "BHtI-R6reTI_"
   },
   "outputs": [],
   "source": [
    "#instantiate SparkSession object \n",
    "spark = SparkSession.builder \\\n",
    "    .master(\"local\") \\\n",
    "    .appName(\"Word Count\") \\\n",
    "    .config(\"spark.some.config.option\", \"some-value\") \\\n",
    "    .getOrCreate()\n"
   ]
  },
  {
   "cell_type": "code",
   "execution_count": null,
   "metadata": {
    "colab": {},
    "colab_type": "code",
    "id": "MmY77rzyoAZR"
   },
   "outputs": [],
   "source": [
    "sample.to_csv('sample.csv', index='False')"
   ]
  },
  {
   "cell_type": "code",
   "execution_count": null,
   "metadata": {
    "colab": {},
    "colab_type": "code",
    "id": "GPvi95TDeTTz"
   },
   "outputs": [],
   "source": [
    "#read in data into pyspark dataframe\n",
    "sample = spark.read.csv('./sample.csv', header='true', inferSchema='true')"
   ]
  },
  {
   "cell_type": "markdown",
   "metadata": {
    "colab_type": "text",
    "id": "bm8R-omFo8rS"
   },
   "source": [
    "## Fitting the Alternating Least Squares Model"
   ]
  },
  {
   "cell_type": "code",
   "execution_count": null,
   "metadata": {
    "colab": {},
    "colab_type": "code",
    "id": "iDbZXITxeTZu"
   },
   "outputs": [],
   "source": [
    "from pyspark.ml.tuning.TrainValidationSplit\n"
   ]
  },
  {
   "cell_type": "code",
   "execution_count": null,
   "metadata": {
    "colab": {},
    "colab_type": "code",
    "id": "_SP-2PHznE-I"
   },
   "outputs": [],
   "source": [
    "#TRAIN TEST SPLIT\n",
    "trainset, testset = anime_loaded_data.randomSplit([.8, .2])"
   ]
  },
  {
   "cell_type": "code",
   "execution_count": null,
   "metadata": {
    "colab": {},
    "colab_type": "code",
    "id": "YkJ-MoUJnE-L"
   },
   "outputs": [],
   "source": [
    "#Build a recommendation model using ALS on the training data\n",
    "als = ALS(maxIter=5,\n",
    "         rank=4, \n",
    "         regParam=.01, \n",
    "         userCol='user_id',\n",
    "         itemCol='anime_id',\n",
    "         ratingCol='rating',\n",
    "         coldStartStrategy='drop')\n",
    "#fit the ALS to training set\n",
    "als_model = als.fit(trainset)"
   ]
  },
  {
   "cell_type": "code",
   "execution_count": null,
   "metadata": {
    "colab": {},
    "colab_type": "code",
    "id": "rjZyw8g1nE-Q"
   },
   "outputs": [],
   "source": [
    "#Let's evaluate its performance, above with surprise we got an unrealistic RMSE of 2.75\n",
    "#start wtih a regression evaluator\n",
    "from pyspark.ml.evaluation import RegressionEvaluator \n",
    "#let's compute the ALS RMSE on the testset\n",
    "predictions = als_model.transform(testset)\n",
    "evaluator = RegressionEvaluator(metricName='rmse',\n",
    "                               labelCol='rating',\n",
    "                               predictionCol='prediction')\n",
    "rmse = evaluator.evaluate(predictions)\n",
    "print(\"Root Mean Square Error:\", str(rmse))\n"
   ]
  },
  {
   "cell_type": "markdown",
   "metadata": {
    "colab_type": "text",
    "id": "LdId9mGNnE-b"
   },
   "source": [
    "## Cross Validation to find the optimal model "
   ]
  },
  {
   "cell_type": "code",
   "execution_count": null,
   "metadata": {
    "colab": {},
    "colab_type": "code",
    "id": "4ljpH9JLnE-c"
   },
   "outputs": [],
   "source": []
  }
 ],
 "metadata": {
  "colab": {
   "collapsed_sections": [
    "d6KwN2bv3w0d",
    "ezLPlX8_nE-C",
    "bm8R-omFo8rS",
    "LdId9mGNnE-b"
   ],
   "include_colab_link": true,
   "name": "Copy of mvp.ipynb",
   "provenance": []
  },
  "kernelspec": {
   "display_name": "Python 3",
   "language": "python",
   "name": "python3"
  },
  "language_info": {
   "codemirror_mode": {
    "name": "ipython",
    "version": 3
   },
   "file_extension": ".py",
   "mimetype": "text/x-python",
   "name": "python",
   "nbconvert_exporter": "python",
   "pygments_lexer": "ipython3",
   "version": "3.7.4"
  }
 },
 "nbformat": 4,
 "nbformat_minor": 1
}
