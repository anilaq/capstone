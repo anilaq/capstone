{
  "nbformat": 4,
  "nbformat_minor": 0,
  "metadata": {
    "kernelspec": {
      "display_name": "Python 3",
      "language": "python",
      "name": "python3"
    },
    "language_info": {
      "codemirror_mode": {
        "name": "ipython",
        "version": 3
      },
      "file_extension": ".py",
      "mimetype": "text/x-python",
      "name": "python",
      "nbconvert_exporter": "python",
      "pygments_lexer": "ipython3",
      "version": "3.7.4"
    },
    "colab": {
      "name": "Copy of mvp.ipynb",
      "provenance": [],
      "collapsed_sections": [
        "d6KwN2bv3w0d",
        "ezLPlX8_nE-C",
        "bm8R-omFo8rS",
        "LdId9mGNnE-b"
      ],
      "include_colab_link": true
    }
  },
  "cells": [
    {
      "cell_type": "markdown",
      "metadata": {
        "id": "view-in-github",
        "colab_type": "text"
      },
      "source": [
        "<a href=\"https://colab.research.google.com/github/anilaq/capstone/blob/master/latest.ipynb\" target=\"_parent\"><img src=\"https://colab.research.google.com/assets/colab-badge.svg\" alt=\"Open In Colab\"/></a>"
      ]
    },
    {
      "cell_type": "markdown",
      "metadata": {
        "id": "FNQAXdzngtQ1",
        "colab_type": "text"
      },
      "source": [
        "# A Recommendation System for Anime"
      ]
    },
    {
      "cell_type": "markdown",
      "metadata": {
        "id": "JRwjDJo7WVPN",
        "colab_type": "text"
      },
      "source": [
        "Anime, is a hand drawn and computer animation originating from Japan which is widely drawn a cult following around the world. The animation industry consists of more than 430 companies. Some of the most popular anime that has come to Western television is Pokemon and Yugi-Oh .\"Spirited Away\" a film created by Hayao Miyazaki and animated by Studio Ghibli is the highest grossing film within the anime genre. The reason it became so popular in the west is because a good friend of Miyazaki convinced him to sell distribution rights to Walt Disney. Like Spirited Away, there are thousands of really good anime films and shows produced by the same animation house. Due to the pandemic a nice way to bring such works of art into Disney plus or any streaming site in the West I have created a recommendation system that can help anyone or any company to view/add the highest rated anime. The Japan External Trade Organization has valued overseas sales to  18𝑏𝑖𝑙𝑙𝑖𝑜𝑛( 5.2 billion for the US alone) in 2004. This has likely grown. With covid19 looming over Japan which has caused one of the first long term recessions for the country. A way at which potential growth could take place is focusing on streaming and producing more of the top recommended. "
      ]
    },
    {
      "cell_type": "code",
      "metadata": {
        "id": "9PfsXpFmoAQW",
        "colab_type": "code",
        "outputId": "6e1b474f-5270-496f-8924-cad457e0898d",
        "colab": {
          "base_uri": "https://localhost:8080/",
          "height": 297
        }
      },
      "source": [
        "!pip install surprise"
      ],
      "execution_count": 1,
      "outputs": [
        {
          "output_type": "stream",
          "text": [
            "Collecting surprise\n",
            "  Downloading https://files.pythonhosted.org/packages/61/de/e5cba8682201fcf9c3719a6fdda95693468ed061945493dea2dd37c5618b/surprise-0.1-py2.py3-none-any.whl\n",
            "Collecting scikit-surprise\n",
            "\u001b[?25l  Downloading https://files.pythonhosted.org/packages/f5/da/b5700d96495fb4f092be497f02492768a3d96a3f4fa2ae7dea46d4081cfa/scikit-surprise-1.1.0.tar.gz (6.4MB)\n",
            "\u001b[K     |████████████████████████████████| 6.5MB 2.6MB/s \n",
            "\u001b[?25hRequirement already satisfied: joblib>=0.11 in /usr/local/lib/python3.6/dist-packages (from scikit-surprise->surprise) (0.15.1)\n",
            "Requirement already satisfied: numpy>=1.11.2 in /usr/local/lib/python3.6/dist-packages (from scikit-surprise->surprise) (1.18.4)\n",
            "Requirement already satisfied: scipy>=1.0.0 in /usr/local/lib/python3.6/dist-packages (from scikit-surprise->surprise) (1.4.1)\n",
            "Requirement already satisfied: six>=1.10.0 in /usr/local/lib/python3.6/dist-packages (from scikit-surprise->surprise) (1.12.0)\n",
            "Building wheels for collected packages: scikit-surprise\n",
            "  Building wheel for scikit-surprise (setup.py) ... \u001b[?25l\u001b[?25hdone\n",
            "  Created wheel for scikit-surprise: filename=scikit_surprise-1.1.0-cp36-cp36m-linux_x86_64.whl size=1675383 sha256=c484edef65cba54062194a0419a6a4708102ac0264f1c15dbd50d6c88966f147\n",
            "  Stored in directory: /root/.cache/pip/wheels/cc/fa/8c/16c93fccce688ae1bde7d979ff102f7bee980d9cfeb8641bcf\n",
            "Successfully built scikit-surprise\n",
            "Installing collected packages: scikit-surprise, surprise\n",
            "Successfully installed scikit-surprise-1.1.0 surprise-0.1\n"
          ],
          "name": "stdout"
        }
      ]
    },
    {
      "cell_type": "code",
      "metadata": {
        "id": "ChfTrW0qnE7C",
        "colab_type": "code",
        "colab": {
          "base_uri": "https://localhost:8080/",
          "height": 70
        },
        "outputId": "d5e0d86e-9556-460d-c3e7-0110ac20f508"
      },
      "source": [
        "import pandas as pd \n",
        "\n",
        "import numpy as np \n",
        "\n",
        "import random\n",
        "from random import randint\n",
        "\n",
        "import matplotlib.pyplot as plt \n",
        "%matplotlib inline \n",
        "import seaborn as sns \n",
        "\n",
        "from scipy.sparse import csc_matrix\n",
        "from scipy.sparse.linalg import svds \n",
        "\n",
        "from surprise.model_selection import train_test_split\n",
        "from surprise.model_selection import GridSearchCV\n",
        "from surprise.model_selection import cross_validate\n",
        "\n",
        "from surprise.prediction_algorithms import KNNWithMeans, KNNBasic, KNNBaseline\n",
        "\n",
        "from surprise.prediction_algorithms import knns\n",
        "from surprise.prediction_algorithms import SVD\n",
        "\n",
        "from surprise.similarities import cosine, msd, pearson\n",
        "\n",
        "from surprise import accuracy \n",
        "from surprise import Reader\n",
        "from surprise import Dataset\n",
        "from surprise import dataset\n",
        "\n"
      ],
      "execution_count": 2,
      "outputs": [
        {
          "output_type": "stream",
          "text": [
            "/usr/local/lib/python3.6/dist-packages/statsmodels/tools/_testing.py:19: FutureWarning: pandas.util.testing is deprecated. Use the functions in the public API at pandas.testing instead.\n",
            "  import pandas.util.testing as tm\n"
          ],
          "name": "stderr"
        }
      ]
    },
    {
      "cell_type": "markdown",
      "metadata": {
        "id": "I7eIpDS9nE7K",
        "colab_type": "text"
      },
      "source": [
        "# Preprocessing"
      ]
    },
    {
      "cell_type": "code",
      "metadata": {
        "id": "NHfdwhF9nE7L",
        "colab_type": "code",
        "outputId": "6f771760-1a8d-40fc-e2e5-a5070e70e04e",
        "colab": {
          "base_uri": "https://localhost:8080/",
          "height": 191
        }
      },
      "source": [
        "anime_df = pd.read_csv('./anime.csv')\n",
        "anime_df.head()"
      ],
      "execution_count": 3,
      "outputs": [
        {
          "output_type": "execute_result",
          "data": {
            "text/html": [
              "<div>\n",
              "<style scoped>\n",
              "    .dataframe tbody tr th:only-of-type {\n",
              "        vertical-align: middle;\n",
              "    }\n",
              "\n",
              "    .dataframe tbody tr th {\n",
              "        vertical-align: top;\n",
              "    }\n",
              "\n",
              "    .dataframe thead th {\n",
              "        text-align: right;\n",
              "    }\n",
              "</style>\n",
              "<table border=\"1\" class=\"dataframe\">\n",
              "  <thead>\n",
              "    <tr style=\"text-align: right;\">\n",
              "      <th></th>\n",
              "      <th>anime_id</th>\n",
              "      <th>name</th>\n",
              "      <th>genre</th>\n",
              "      <th>type</th>\n",
              "      <th>episodes</th>\n",
              "      <th>rating</th>\n",
              "      <th>members</th>\n",
              "    </tr>\n",
              "  </thead>\n",
              "  <tbody>\n",
              "    <tr>\n",
              "      <th>0</th>\n",
              "      <td>32281</td>\n",
              "      <td>Kimi no Na wa.</td>\n",
              "      <td>Drama, Romance, School, Supernatural</td>\n",
              "      <td>Movie</td>\n",
              "      <td>1</td>\n",
              "      <td>9.37</td>\n",
              "      <td>200630</td>\n",
              "    </tr>\n",
              "    <tr>\n",
              "      <th>1</th>\n",
              "      <td>5114</td>\n",
              "      <td>Fullmetal Alchemist: Brotherhood</td>\n",
              "      <td>Action, Adventure, Drama, Fantasy, Magic, Mili...</td>\n",
              "      <td>TV</td>\n",
              "      <td>64</td>\n",
              "      <td>9.26</td>\n",
              "      <td>793665</td>\n",
              "    </tr>\n",
              "    <tr>\n",
              "      <th>2</th>\n",
              "      <td>28977</td>\n",
              "      <td>Gintama°</td>\n",
              "      <td>Action, Comedy, Historical, Parody, Samurai, S...</td>\n",
              "      <td>TV</td>\n",
              "      <td>51</td>\n",
              "      <td>9.25</td>\n",
              "      <td>114262</td>\n",
              "    </tr>\n",
              "    <tr>\n",
              "      <th>3</th>\n",
              "      <td>9253</td>\n",
              "      <td>Steins;Gate</td>\n",
              "      <td>Sci-Fi, Thriller</td>\n",
              "      <td>TV</td>\n",
              "      <td>24</td>\n",
              "      <td>9.17</td>\n",
              "      <td>673572</td>\n",
              "    </tr>\n",
              "    <tr>\n",
              "      <th>4</th>\n",
              "      <td>9969</td>\n",
              "      <td>Gintama&amp;#039;</td>\n",
              "      <td>Action, Comedy, Historical, Parody, Samurai, S...</td>\n",
              "      <td>TV</td>\n",
              "      <td>51</td>\n",
              "      <td>9.16</td>\n",
              "      <td>151266</td>\n",
              "    </tr>\n",
              "  </tbody>\n",
              "</table>\n",
              "</div>"
            ],
            "text/plain": [
              "   anime_id                              name  ... rating members\n",
              "0     32281                    Kimi no Na wa.  ...   9.37  200630\n",
              "1      5114  Fullmetal Alchemist: Brotherhood  ...   9.26  793665\n",
              "2     28977                          Gintama°  ...   9.25  114262\n",
              "3      9253                       Steins;Gate  ...   9.17  673572\n",
              "4      9969                     Gintama&#039;  ...   9.16  151266\n",
              "\n",
              "[5 rows x 7 columns]"
            ]
          },
          "metadata": {
            "tags": []
          },
          "execution_count": 3
        }
      ]
    },
    {
      "cell_type": "code",
      "metadata": {
        "id": "CCz2v-bvnE7P",
        "colab_type": "code",
        "outputId": "a9a6455c-7b7e-4aa6-d480-b5762467c89d",
        "colab": {
          "base_uri": "https://localhost:8080/",
          "height": 33
        }
      },
      "source": [
        "anime_df.shape"
      ],
      "execution_count": 4,
      "outputs": [
        {
          "output_type": "execute_result",
          "data": {
            "text/plain": [
              "(12294, 7)"
            ]
          },
          "metadata": {
            "tags": []
          },
          "execution_count": 4
        }
      ]
    },
    {
      "cell_type": "code",
      "metadata": {
        "id": "Bw37JW7onE7S",
        "colab_type": "code",
        "colab": {}
      },
      "source": [
        "anime_df.dropna(inplace=True)"
      ],
      "execution_count": 0,
      "outputs": []
    },
    {
      "cell_type": "markdown",
      "metadata": {
        "id": "zRex0VC0HkT_",
        "colab_type": "text"
      },
      "source": [
        "*** There are 12,294 rows above, and need to drop any null values ***"
      ]
    },
    {
      "cell_type": "code",
      "metadata": {
        "id": "iZR714pMnE7X",
        "colab_type": "code",
        "outputId": "133d3b6a-7d80-4438-b860-fae032f0e16f",
        "colab": {
          "base_uri": "https://localhost:8080/",
          "height": 33
        }
      },
      "source": [
        "anime_df.shape #this seemed to have reduced it down a bit"
      ],
      "execution_count": 6,
      "outputs": [
        {
          "output_type": "execute_result",
          "data": {
            "text/plain": [
              "(12017, 7)"
            ]
          },
          "metadata": {
            "tags": []
          },
          "execution_count": 6
        }
      ]
    },
    {
      "cell_type": "markdown",
      "metadata": {
        "id": "VEuzf9T3nE7a",
        "colab_type": "text"
      },
      "source": [
        "## What each column represents: \n",
        "***anime_id: id number for each anime title***<br>\n",
        "***name:  title of the motion picture***<br>\n",
        "***genre:  category***<br>\n",
        "***type:  describes the anime into tv, movies, OVA, and 3 other categories***<br>\n",
        "***episodes: total number of episodes ***<br>\n",
        "***rating: -1-10, lowest to highest*** <br>\n",
        "***members:  number of community members that are in this anime group***<br>"
      ]
    },
    {
      "cell_type": "code",
      "metadata": {
        "scrolled": false,
        "id": "7n-5UeYcnE7b",
        "colab_type": "code",
        "outputId": "1c4f6351-aa66-4b87-fc6d-7cd6edb61a70",
        "colab": {
          "base_uri": "https://localhost:8080/",
          "height": 245
        }
      },
      "source": [
        "anime_df.info() #having a look at all of the columns and types from the above cell and current to remove \n",
        "#any unneccessary extraneous data"
      ],
      "execution_count": 7,
      "outputs": [
        {
          "output_type": "stream",
          "text": [
            "<class 'pandas.core.frame.DataFrame'>\n",
            "Int64Index: 12017 entries, 0 to 12293\n",
            "Data columns (total 7 columns):\n",
            " #   Column    Non-Null Count  Dtype  \n",
            "---  ------    --------------  -----  \n",
            " 0   anime_id  12017 non-null  int64  \n",
            " 1   name      12017 non-null  object \n",
            " 2   genre     12017 non-null  object \n",
            " 3   type      12017 non-null  object \n",
            " 4   episodes  12017 non-null  object \n",
            " 5   rating    12017 non-null  float64\n",
            " 6   members   12017 non-null  int64  \n",
            "dtypes: float64(1), int64(2), object(4)\n",
            "memory usage: 751.1+ KB\n"
          ],
          "name": "stdout"
        }
      ]
    },
    {
      "cell_type": "code",
      "metadata": {
        "id": "gurWbtWbnE7f",
        "colab_type": "code",
        "outputId": "ecbb2bec-634c-4f21-c7f6-daa9eabafec6",
        "colab": {
          "base_uri": "https://localhost:8080/",
          "height": 191
        }
      },
      "source": [
        "rating_df = pd.read_csv('./rating.csv')\n",
        "rating_df.head()"
      ],
      "execution_count": 8,
      "outputs": [
        {
          "output_type": "execute_result",
          "data": {
            "text/html": [
              "<div>\n",
              "<style scoped>\n",
              "    .dataframe tbody tr th:only-of-type {\n",
              "        vertical-align: middle;\n",
              "    }\n",
              "\n",
              "    .dataframe tbody tr th {\n",
              "        vertical-align: top;\n",
              "    }\n",
              "\n",
              "    .dataframe thead th {\n",
              "        text-align: right;\n",
              "    }\n",
              "</style>\n",
              "<table border=\"1\" class=\"dataframe\">\n",
              "  <thead>\n",
              "    <tr style=\"text-align: right;\">\n",
              "      <th></th>\n",
              "      <th>user_id</th>\n",
              "      <th>anime_id</th>\n",
              "      <th>rating</th>\n",
              "    </tr>\n",
              "  </thead>\n",
              "  <tbody>\n",
              "    <tr>\n",
              "      <th>0</th>\n",
              "      <td>1</td>\n",
              "      <td>20</td>\n",
              "      <td>-1.0</td>\n",
              "    </tr>\n",
              "    <tr>\n",
              "      <th>1</th>\n",
              "      <td>1</td>\n",
              "      <td>24</td>\n",
              "      <td>-1.0</td>\n",
              "    </tr>\n",
              "    <tr>\n",
              "      <th>2</th>\n",
              "      <td>1</td>\n",
              "      <td>79</td>\n",
              "      <td>-1.0</td>\n",
              "    </tr>\n",
              "    <tr>\n",
              "      <th>3</th>\n",
              "      <td>1</td>\n",
              "      <td>226</td>\n",
              "      <td>-1.0</td>\n",
              "    </tr>\n",
              "    <tr>\n",
              "      <th>4</th>\n",
              "      <td>1</td>\n",
              "      <td>241</td>\n",
              "      <td>-1.0</td>\n",
              "    </tr>\n",
              "  </tbody>\n",
              "</table>\n",
              "</div>"
            ],
            "text/plain": [
              "   user_id  anime_id  rating\n",
              "0        1        20    -1.0\n",
              "1        1        24    -1.0\n",
              "2        1        79    -1.0\n",
              "3        1       226    -1.0\n",
              "4        1       241    -1.0"
            ]
          },
          "metadata": {
            "tags": []
          },
          "execution_count": 8
        }
      ]
    },
    {
      "cell_type": "markdown",
      "metadata": {
        "id": "00Wv0TO6nE7i",
        "colab_type": "text"
      },
      "source": [
        "## What each column represents: \n",
        "*** user_id: non-identifiable randomly generated user id*** <br>\n",
        "*** anime_id: the anime that the user has rated *** <br>\n",
        "*** rating: rating out of 10 this user has assigned (-1 if the user watched it but didn't assign a rating) ***"
      ]
    },
    {
      "cell_type": "code",
      "metadata": {
        "id": "YRvEEgPwnE7j",
        "colab_type": "code",
        "outputId": "a08dc9cc-4970-4f50-9ed1-5a205913cb94",
        "colab": {
          "base_uri": "https://localhost:8080/",
          "height": 33
        }
      },
      "source": [
        "rating_df.shape"
      ],
      "execution_count": 9,
      "outputs": [
        {
          "output_type": "execute_result",
          "data": {
            "text/plain": [
              "(1393382, 3)"
            ]
          },
          "metadata": {
            "tags": []
          },
          "execution_count": 9
        }
      ]
    },
    {
      "cell_type": "markdown",
      "metadata": {
        "id": "zfyipvl-nE7m",
        "colab_type": "text"
      },
      "source": [
        "Need to join both datasets together, will join using anime_id then hopefully will reshuffle the dataset so that it can be transformed into something that is compatible with `surprise`. "
      ]
    },
    {
      "cell_type": "markdown",
      "metadata": {
        "id": "w5gfCqZHnE7n",
        "colab_type": "text"
      },
      "source": [
        "I will join the two dataframes by merging them so that they can correspond to the correct anime_ids"
      ]
    },
    {
      "cell_type": "code",
      "metadata": {
        "id": "lYdfiBi3nE7n",
        "colab_type": "code",
        "outputId": "ffcc553a-68fc-43af-99ac-aa7583818873",
        "colab": {
          "base_uri": "https://localhost:8080/",
          "height": 191
        }
      },
      "source": [
        "df_merge = pd.merge(anime_df, rating_df, on = 'anime_id')\n",
        "df_merge.head()\n",
        "# df_merge = df_row.merge(rating_df, left_on= 'anime_id', how='outer')\n",
        "# df_merge.head()"
      ],
      "execution_count": 10,
      "outputs": [
        {
          "output_type": "execute_result",
          "data": {
            "text/html": [
              "<div>\n",
              "<style scoped>\n",
              "    .dataframe tbody tr th:only-of-type {\n",
              "        vertical-align: middle;\n",
              "    }\n",
              "\n",
              "    .dataframe tbody tr th {\n",
              "        vertical-align: top;\n",
              "    }\n",
              "\n",
              "    .dataframe thead th {\n",
              "        text-align: right;\n",
              "    }\n",
              "</style>\n",
              "<table border=\"1\" class=\"dataframe\">\n",
              "  <thead>\n",
              "    <tr style=\"text-align: right;\">\n",
              "      <th></th>\n",
              "      <th>anime_id</th>\n",
              "      <th>name</th>\n",
              "      <th>genre</th>\n",
              "      <th>type</th>\n",
              "      <th>episodes</th>\n",
              "      <th>rating_x</th>\n",
              "      <th>members</th>\n",
              "      <th>user_id</th>\n",
              "      <th>rating_y</th>\n",
              "    </tr>\n",
              "  </thead>\n",
              "  <tbody>\n",
              "    <tr>\n",
              "      <th>0</th>\n",
              "      <td>32281</td>\n",
              "      <td>Kimi no Na wa.</td>\n",
              "      <td>Drama, Romance, School, Supernatural</td>\n",
              "      <td>Movie</td>\n",
              "      <td>1</td>\n",
              "      <td>9.37</td>\n",
              "      <td>200630</td>\n",
              "      <td>99</td>\n",
              "      <td>5.0</td>\n",
              "    </tr>\n",
              "    <tr>\n",
              "      <th>1</th>\n",
              "      <td>32281</td>\n",
              "      <td>Kimi no Na wa.</td>\n",
              "      <td>Drama, Romance, School, Supernatural</td>\n",
              "      <td>Movie</td>\n",
              "      <td>1</td>\n",
              "      <td>9.37</td>\n",
              "      <td>200630</td>\n",
              "      <td>152</td>\n",
              "      <td>10.0</td>\n",
              "    </tr>\n",
              "    <tr>\n",
              "      <th>2</th>\n",
              "      <td>32281</td>\n",
              "      <td>Kimi no Na wa.</td>\n",
              "      <td>Drama, Romance, School, Supernatural</td>\n",
              "      <td>Movie</td>\n",
              "      <td>1</td>\n",
              "      <td>9.37</td>\n",
              "      <td>200630</td>\n",
              "      <td>244</td>\n",
              "      <td>10.0</td>\n",
              "    </tr>\n",
              "    <tr>\n",
              "      <th>3</th>\n",
              "      <td>32281</td>\n",
              "      <td>Kimi no Na wa.</td>\n",
              "      <td>Drama, Romance, School, Supernatural</td>\n",
              "      <td>Movie</td>\n",
              "      <td>1</td>\n",
              "      <td>9.37</td>\n",
              "      <td>200630</td>\n",
              "      <td>271</td>\n",
              "      <td>10.0</td>\n",
              "    </tr>\n",
              "    <tr>\n",
              "      <th>4</th>\n",
              "      <td>32281</td>\n",
              "      <td>Kimi no Na wa.</td>\n",
              "      <td>Drama, Romance, School, Supernatural</td>\n",
              "      <td>Movie</td>\n",
              "      <td>1</td>\n",
              "      <td>9.37</td>\n",
              "      <td>200630</td>\n",
              "      <td>278</td>\n",
              "      <td>-1.0</td>\n",
              "    </tr>\n",
              "  </tbody>\n",
              "</table>\n",
              "</div>"
            ],
            "text/plain": [
              "   anime_id            name  ... user_id rating_y\n",
              "0     32281  Kimi no Na wa.  ...      99      5.0\n",
              "1     32281  Kimi no Na wa.  ...     152     10.0\n",
              "2     32281  Kimi no Na wa.  ...     244     10.0\n",
              "3     32281  Kimi no Na wa.  ...     271     10.0\n",
              "4     32281  Kimi no Na wa.  ...     278     -1.0\n",
              "\n",
              "[5 rows x 9 columns]"
            ]
          },
          "metadata": {
            "tags": []
          },
          "execution_count": 10
        }
      ]
    },
    {
      "cell_type": "code",
      "metadata": {
        "id": "Yz5pF8ipnE7r",
        "colab_type": "code",
        "outputId": "b2ff56bb-c0ee-4150-bab0-26a98b9a5173",
        "colab": {
          "base_uri": "https://localhost:8080/",
          "height": 33
        }
      },
      "source": [
        "df_merge.shape "
      ],
      "execution_count": 11,
      "outputs": [
        {
          "output_type": "execute_result",
          "data": {
            "text/plain": [
              "(1393345, 9)"
            ]
          },
          "metadata": {
            "tags": []
          },
          "execution_count": 11
        }
      ]
    },
    {
      "cell_type": "markdown",
      "metadata": {
        "id": "JBoqWn0YnE7u",
        "colab_type": "text"
      },
      "source": [
        "*** The data here is extremely large. Because I will be using Singular Value Decomposition (SVD) which is known to be computationally expensive I will be taking a large sample from the 7.8 million rows. Before taking a sample I will remove the -1 ratings from the dataset since these don't really count as reviews ***"
      ]
    },
    {
      "cell_type": "code",
      "metadata": {
        "id": "u9btPEKGnE7w",
        "colab_type": "code",
        "outputId": "fe3a8ea6-f7ad-4b73-d04d-2eecef84db24",
        "colab": {
          "base_uri": "https://localhost:8080/",
          "height": 33
        }
      },
      "source": [
        "df_merge.rating_x.min()"
      ],
      "execution_count": 12,
      "outputs": [
        {
          "output_type": "execute_result",
          "data": {
            "text/plain": [
              "2.0"
            ]
          },
          "metadata": {
            "tags": []
          },
          "execution_count": 12
        }
      ]
    },
    {
      "cell_type": "code",
      "metadata": {
        "id": "fnl1XOx-nE71",
        "colab_type": "code",
        "outputId": "944bdc96-2295-4d0a-885f-a3dd072a5124",
        "colab": {
          "base_uri": "https://localhost:8080/",
          "height": 191
        }
      },
      "source": [
        "df_merge = df_merge[df_merge.rating_y != -1]\n",
        "df_merge.head()"
      ],
      "execution_count": 13,
      "outputs": [
        {
          "output_type": "execute_result",
          "data": {
            "text/html": [
              "<div>\n",
              "<style scoped>\n",
              "    .dataframe tbody tr th:only-of-type {\n",
              "        vertical-align: middle;\n",
              "    }\n",
              "\n",
              "    .dataframe tbody tr th {\n",
              "        vertical-align: top;\n",
              "    }\n",
              "\n",
              "    .dataframe thead th {\n",
              "        text-align: right;\n",
              "    }\n",
              "</style>\n",
              "<table border=\"1\" class=\"dataframe\">\n",
              "  <thead>\n",
              "    <tr style=\"text-align: right;\">\n",
              "      <th></th>\n",
              "      <th>anime_id</th>\n",
              "      <th>name</th>\n",
              "      <th>genre</th>\n",
              "      <th>type</th>\n",
              "      <th>episodes</th>\n",
              "      <th>rating_x</th>\n",
              "      <th>members</th>\n",
              "      <th>user_id</th>\n",
              "      <th>rating_y</th>\n",
              "    </tr>\n",
              "  </thead>\n",
              "  <tbody>\n",
              "    <tr>\n",
              "      <th>0</th>\n",
              "      <td>32281</td>\n",
              "      <td>Kimi no Na wa.</td>\n",
              "      <td>Drama, Romance, School, Supernatural</td>\n",
              "      <td>Movie</td>\n",
              "      <td>1</td>\n",
              "      <td>9.37</td>\n",
              "      <td>200630</td>\n",
              "      <td>99</td>\n",
              "      <td>5.0</td>\n",
              "    </tr>\n",
              "    <tr>\n",
              "      <th>1</th>\n",
              "      <td>32281</td>\n",
              "      <td>Kimi no Na wa.</td>\n",
              "      <td>Drama, Romance, School, Supernatural</td>\n",
              "      <td>Movie</td>\n",
              "      <td>1</td>\n",
              "      <td>9.37</td>\n",
              "      <td>200630</td>\n",
              "      <td>152</td>\n",
              "      <td>10.0</td>\n",
              "    </tr>\n",
              "    <tr>\n",
              "      <th>2</th>\n",
              "      <td>32281</td>\n",
              "      <td>Kimi no Na wa.</td>\n",
              "      <td>Drama, Romance, School, Supernatural</td>\n",
              "      <td>Movie</td>\n",
              "      <td>1</td>\n",
              "      <td>9.37</td>\n",
              "      <td>200630</td>\n",
              "      <td>244</td>\n",
              "      <td>10.0</td>\n",
              "    </tr>\n",
              "    <tr>\n",
              "      <th>3</th>\n",
              "      <td>32281</td>\n",
              "      <td>Kimi no Na wa.</td>\n",
              "      <td>Drama, Romance, School, Supernatural</td>\n",
              "      <td>Movie</td>\n",
              "      <td>1</td>\n",
              "      <td>9.37</td>\n",
              "      <td>200630</td>\n",
              "      <td>271</td>\n",
              "      <td>10.0</td>\n",
              "    </tr>\n",
              "    <tr>\n",
              "      <th>5</th>\n",
              "      <td>32281</td>\n",
              "      <td>Kimi no Na wa.</td>\n",
              "      <td>Drama, Romance, School, Supernatural</td>\n",
              "      <td>Movie</td>\n",
              "      <td>1</td>\n",
              "      <td>9.37</td>\n",
              "      <td>200630</td>\n",
              "      <td>322</td>\n",
              "      <td>10.0</td>\n",
              "    </tr>\n",
              "  </tbody>\n",
              "</table>\n",
              "</div>"
            ],
            "text/plain": [
              "   anime_id            name  ... user_id rating_y\n",
              "0     32281  Kimi no Na wa.  ...      99      5.0\n",
              "1     32281  Kimi no Na wa.  ...     152     10.0\n",
              "2     32281  Kimi no Na wa.  ...     244     10.0\n",
              "3     32281  Kimi no Na wa.  ...     271     10.0\n",
              "5     32281  Kimi no Na wa.  ...     322     10.0\n",
              "\n",
              "[5 rows x 9 columns]"
            ]
          },
          "metadata": {
            "tags": []
          },
          "execution_count": 13
        }
      ]
    },
    {
      "cell_type": "code",
      "metadata": {
        "id": "yitglC3mnE74",
        "colab_type": "code",
        "outputId": "6ddde90a-27bd-432d-abb5-554c3f78e83f",
        "colab": {
          "base_uri": "https://localhost:8080/",
          "height": 33
        }
      },
      "source": [
        "df_merge.shape #have removed over 1 million rows"
      ],
      "execution_count": 14,
      "outputs": [
        {
          "output_type": "execute_result",
          "data": {
            "text/plain": [
              "(1134158, 9)"
            ]
          },
          "metadata": {
            "tags": []
          },
          "execution_count": 14
        }
      ]
    },
    {
      "cell_type": "code",
      "metadata": {
        "id": "y24yLQ0unE77",
        "colab_type": "code",
        "outputId": "a983792e-93a2-4497-bac4-83bf15c12d86",
        "colab": {
          "base_uri": "https://localhost:8080/",
          "height": 33
        }
      },
      "source": [
        "sample = df_merge.sample(frac=.25)\n",
        "sample.shape # this is still too large"
      ],
      "execution_count": 15,
      "outputs": [
        {
          "output_type": "execute_result",
          "data": {
            "text/plain": [
              "(283540, 9)"
            ]
          },
          "metadata": {
            "tags": []
          },
          "execution_count": 15
        }
      ]
    },
    {
      "cell_type": "code",
      "metadata": {
        "id": "Grn2w_aMnE79",
        "colab_type": "code",
        "outputId": "6b6cdbea-7f99-4909-ca18-96d28e6435fb",
        "colab": {
          "base_uri": "https://localhost:8080/",
          "height": 33
        }
      },
      "source": [
        "sample = df_merge.sample(n=5000)\n",
        "sample.shape #below I conduct SVD and it cannot handle anything larger than 5000 (i've tried)"
      ],
      "execution_count": 16,
      "outputs": [
        {
          "output_type": "execute_result",
          "data": {
            "text/plain": [
              "(5000, 9)"
            ]
          },
          "metadata": {
            "tags": []
          },
          "execution_count": 16
        }
      ]
    },
    {
      "cell_type": "markdown",
      "metadata": {
        "id": "g8zOlE5OnE8B",
        "colab_type": "text"
      },
      "source": [
        "###It seems that the rating dataframe is based on each user and their individual rating for each anime id, whereas the anime dataframe is an average overall rating from all of its viewers.  "
      ]
    },
    {
      "cell_type": "code",
      "metadata": {
        "id": "L7UMnckMnE8B",
        "colab_type": "code",
        "outputId": "f54e655a-6eda-47c4-f5af-88a8dc18b493",
        "colab": {
          "base_uri": "https://localhost:8080/",
          "height": 391
        }
      },
      "source": [
        "#we are going to look at how many times each rating appears in a column\n",
        "ratings_x = sample['rating_x'].value_counts() #continuous \n",
        "ratings_y = sample['rating_y'].value_counts() #discrete\n",
        "\n",
        "print(ratings_x)\n",
        "print(ratings_y)"
      ],
      "execution_count": 17,
      "outputs": [
        {
          "output_type": "stream",
          "text": [
            "8.06    71\n",
            "7.81    66\n",
            "7.88    53\n",
            "7.55    50\n",
            "7.40    47\n",
            "        ..\n",
            "5.42     1\n",
            "6.18     1\n",
            "5.29     1\n",
            "9.16     1\n",
            "6.16     1\n",
            "Name: rating_x, Length: 332, dtype: int64\n",
            "8.0     1326\n",
            "7.0     1073\n",
            "9.0      997\n",
            "10.0     706\n",
            "6.0      518\n",
            "5.0      238\n",
            "4.0       75\n",
            "3.0       36\n",
            "2.0       18\n",
            "1.0       13\n",
            "Name: rating_y, dtype: int64\n"
          ],
          "name": "stdout"
        }
      ]
    },
    {
      "cell_type": "code",
      "metadata": {
        "id": "-Ql1kmgLbhig",
        "colab_type": "code",
        "outputId": "445d12e6-93f7-4917-d202-dba7a100cb02",
        "colab": {
          "base_uri": "https://localhost:8080/",
          "height": 191
        }
      },
      "source": [
        "sample.rating_x = sample.rating_x.apply(round) #another important feature i have had to add is making all ratings discrete for SVD\n",
        "sample.head()"
      ],
      "execution_count": 18,
      "outputs": [
        {
          "output_type": "execute_result",
          "data": {
            "text/html": [
              "<div>\n",
              "<style scoped>\n",
              "    .dataframe tbody tr th:only-of-type {\n",
              "        vertical-align: middle;\n",
              "    }\n",
              "\n",
              "    .dataframe tbody tr th {\n",
              "        vertical-align: top;\n",
              "    }\n",
              "\n",
              "    .dataframe thead th {\n",
              "        text-align: right;\n",
              "    }\n",
              "</style>\n",
              "<table border=\"1\" class=\"dataframe\">\n",
              "  <thead>\n",
              "    <tr style=\"text-align: right;\">\n",
              "      <th></th>\n",
              "      <th>anime_id</th>\n",
              "      <th>name</th>\n",
              "      <th>genre</th>\n",
              "      <th>type</th>\n",
              "      <th>episodes</th>\n",
              "      <th>rating_x</th>\n",
              "      <th>members</th>\n",
              "      <th>user_id</th>\n",
              "      <th>rating_y</th>\n",
              "    </tr>\n",
              "  </thead>\n",
              "  <tbody>\n",
              "    <tr>\n",
              "      <th>1009672</th>\n",
              "      <td>274</td>\n",
              "      <td>Kiddy Grade</td>\n",
              "      <td>Action, Ecchi, Mecha, Sci-Fi, Super Power</td>\n",
              "      <td>TV</td>\n",
              "      <td>24</td>\n",
              "      <td>7</td>\n",
              "      <td>30766</td>\n",
              "      <td>5249</td>\n",
              "      <td>8.0</td>\n",
              "    </tr>\n",
              "    <tr>\n",
              "      <th>839902</th>\n",
              "      <td>1691</td>\n",
              "      <td>Kaze no Stigma</td>\n",
              "      <td>Action, Fantasy, Magic, Romance, Shounen</td>\n",
              "      <td>TV</td>\n",
              "      <td>24</td>\n",
              "      <td>8</td>\n",
              "      <td>205338</td>\n",
              "      <td>806</td>\n",
              "      <td>9.0</td>\n",
              "    </tr>\n",
              "    <tr>\n",
              "      <th>978673</th>\n",
              "      <td>195</td>\n",
              "      <td>Onegai☆Teacher</td>\n",
              "      <td>Comedy, Drama, Romance, School, Sci-Fi</td>\n",
              "      <td>TV</td>\n",
              "      <td>12</td>\n",
              "      <td>7</td>\n",
              "      <td>99558</td>\n",
              "      <td>10720</td>\n",
              "      <td>7.0</td>\n",
              "    </tr>\n",
              "    <tr>\n",
              "      <th>557723</th>\n",
              "      <td>1719</td>\n",
              "      <td>Rozen Maiden: Ouvertüre</td>\n",
              "      <td>Action, Comedy, Drama, Magic, Seinen</td>\n",
              "      <td>Special</td>\n",
              "      <td>2</td>\n",
              "      <td>8</td>\n",
              "      <td>44388</td>\n",
              "      <td>7711</td>\n",
              "      <td>8.0</td>\n",
              "    </tr>\n",
              "    <tr>\n",
              "      <th>472777</th>\n",
              "      <td>93</td>\n",
              "      <td>Mobile Suit Gundam Seed</td>\n",
              "      <td>Action, Drama, Mecha, Military, Romance, Sci-F...</td>\n",
              "      <td>TV</td>\n",
              "      <td>50</td>\n",
              "      <td>8</td>\n",
              "      <td>96973</td>\n",
              "      <td>10833</td>\n",
              "      <td>9.0</td>\n",
              "    </tr>\n",
              "  </tbody>\n",
              "</table>\n",
              "</div>"
            ],
            "text/plain": [
              "         anime_id                     name  ... user_id rating_y\n",
              "1009672       274              Kiddy Grade  ...    5249      8.0\n",
              "839902       1691           Kaze no Stigma  ...     806      9.0\n",
              "978673        195           Onegai☆Teacher  ...   10720      7.0\n",
              "557723       1719  Rozen Maiden: Ouvertüre  ...    7711      8.0\n",
              "472777         93  Mobile Suit Gundam Seed  ...   10833      9.0\n",
              "\n",
              "[5 rows x 9 columns]"
            ]
          },
          "metadata": {
            "tags": []
          },
          "execution_count": 18
        }
      ]
    },
    {
      "cell_type": "markdown",
      "metadata": {
        "id": "mgbPY3xPnE8E",
        "colab_type": "text"
      },
      "source": [
        "## Distribution of User Ratings"
      ]
    },
    {
      "cell_type": "code",
      "metadata": {
        "id": "IA2yxK1WnE8F",
        "colab_type": "code",
        "outputId": "c7182795-cf68-4622-c717-f8df221eeb56",
        "colab": {
          "base_uri": "https://localhost:8080/",
          "height": 295
        }
      },
      "source": [
        "# plot distribution in matplotlib\n",
        "ratings_sorted = sorted(list(zip(ratings_y.index, ratings_y)))\n",
        "plt.bar([r[0] for r in ratings_sorted], [r[1] for r in ratings_sorted], color='cyan')\n",
        "plt.xlabel(\"Rating\")\n",
        "plt.ylabel(\"# of Ratings\")\n",
        "plt.title(\"Distribution of Ratings\")\n",
        "plt.show()"
      ],
      "execution_count": 19,
      "outputs": [
        {
          "output_type": "display_data",
          "data": {
            "image/png": "[encoded data removed]",
            "text/plain": [
              "<Figure size 432x288 with 1 Axes>"
            ]
          },
          "metadata": {
            "tags": [],
            "needs_background": "light"
          }
        }
      ]
    },
    {
      "cell_type": "code",
      "metadata": {
        "id": "ZnsGfxacnE8I",
        "colab_type": "code",
        "outputId": "12f7a5a7-ec89-4b66-a335-ff85530beb5c",
        "colab": {
          "base_uri": "https://localhost:8080/",
          "height": 50
        }
      },
      "source": [
        "#number of users\n",
        "print(\"Number of Users:\", df_merge.user_id.nunique())\n",
        "# print(\"Average Number of Reviews per User:\", df_merge.shape[0])/df_merge.user_id.nunique()\n",
        "avg_rate_peruser = df_merge.shape[0]\n",
        "user = df_merge.user_id.nunique()\n",
        "avg_num_review_per_user = avg_rate_peruser/user\n",
        "print(\"Average Number of Reveiws per User:\", avg_num_review_per_user)"
      ],
      "execution_count": 20,
      "outputs": [
        {
          "output_type": "stream",
          "text": [
            "Number of Users: 12565\n",
            "Average Number of Reveiws per User: 90.26327099084759\n"
          ],
          "name": "stdout"
        }
      ]
    },
    {
      "cell_type": "code",
      "metadata": {
        "id": "qu-u8fNFnE8K",
        "colab_type": "code",
        "outputId": "c4d96e65-aa5b-4598-adca-913d5771923c",
        "colab": {
          "base_uri": "https://localhost:8080/",
          "height": 212
        }
      },
      "source": [
        "sample['user_id'].value_counts()"
      ],
      "execution_count": 21,
      "outputs": [
        {
          "output_type": "execute_result",
          "data": {
            "text/plain": [
              "7345     12\n",
              "12431    11\n",
              "9032     10\n",
              "1530     10\n",
              "7249      9\n",
              "         ..\n",
              "4952      1\n",
              "4948      1\n",
              "4944      1\n",
              "4936      1\n",
              "2049      1\n",
              "Name: user_id, Length: 3214, dtype: int64"
            ]
          },
          "metadata": {
            "tags": []
          },
          "execution_count": 21
        }
      ]
    },
    {
      "cell_type": "markdown",
      "metadata": {
        "id": "8d116UGcnE8O",
        "colab_type": "text"
      },
      "source": [
        "## Number of Reviews per User"
      ]
    },
    {
      "cell_type": "code",
      "metadata": {
        "id": "S_mG1r4wnE8O",
        "colab_type": "code",
        "outputId": "2d51f659-b3e9-43b8-8eaf-f3d7707f9bc3",
        "colab": {
          "base_uri": "https://localhost:8080/",
          "height": 295
        }
      },
      "source": [
        "ratings_per_user = sample['user_id'].value_counts()\n",
        "ratings_per_user = sorted(list(zip(ratings_per_user.index, ratings_per_user)))\n",
        "plt.bar([r[0] for r in ratings_per_user], [r[1] for r in ratings_per_user], color='pink')\n",
        "plt.xlabel('User IDs')\n",
        "plt.ylabel('# of Reviews')\n",
        "plt.title('Number of Reviews per User')\n",
        "plt.show()"
      ],
      "execution_count": 22,
      "outputs": [
        {
          "output_type": "display_data",
          "data": {
            "image/png": "[encoded data removed]",
            "text/plain": [
              "<Figure size 432x288 with 1 Axes>"
            ]
          },
          "metadata": {
            "tags": [],
            "needs_background": "light"
          }
        }
      ]
    },
    {
      "cell_type": "code",
      "metadata": {
        "id": "Mk9oNKXOnE8R",
        "colab_type": "code",
        "colab": {}
      },
      "source": [
        "#graph on user ratings, what are the most common scores given "
      ],
      "execution_count": 0,
      "outputs": []
    },
    {
      "cell_type": "markdown",
      "metadata": {
        "id": "hxCnhlSmnE8T",
        "colab_type": "text"
      },
      "source": [
        "## Different types of anime videos"
      ]
    },
    {
      "cell_type": "code",
      "metadata": {
        "id": "bFHb0hWgnE8U",
        "colab_type": "code",
        "outputId": "25e2a198-b442-4a8a-8ed0-37bd2c105fe4",
        "colab": {
          "base_uri": "https://localhost:8080/",
          "height": 163
        }
      },
      "source": [
        "print(\"Number of users:\", sample.user_id.nunique())\n",
        "print(\"Number of types of different anime:\", sample.type.nunique())\n",
        "print(\"Types of type:\", sample.type.value_counts())"
      ],
      "execution_count": 24,
      "outputs": [
        {
          "output_type": "stream",
          "text": [
            "Number of users: 3214\n",
            "Number of types of different anime: 6\n",
            "Types of type: TV         3401\n",
            "Movie       675\n",
            "OVA         516\n",
            "Special     339\n",
            "ONA          60\n",
            "Music         9\n",
            "Name: type, dtype: int64\n"
          ],
          "name": "stdout"
        }
      ]
    },
    {
      "cell_type": "markdown",
      "metadata": {
        "id": "496-cXfEnE8W",
        "colab_type": "text"
      },
      "source": [
        "This means that there are six different categories for anime: <br>\n",
        "Movies, TV, OVA, Special, ONA and Music. <br>\n",
        "***OVA stands for orginal animation video, this has been released directly to the video market <br>\n",
        "Special is not a common occuring video, it is usually shot yearly or on a one off <br>\n",
        "Music is not just audio here, but a lively animated motion picture to go with the composed music piece ***"
      ]
    },
    {
      "cell_type": "code",
      "metadata": {
        "id": "lOjLNTOCnE8X",
        "colab_type": "code",
        "outputId": "d9341a00-a742-42d4-f1c3-3483cb8b01c9",
        "colab": {
          "base_uri": "https://localhost:8080/",
          "height": 505
        }
      },
      "source": [
        "sample_of_sample = sample[:100] #taking a sample to see if its the amount of data or its the command given\n",
        "sample_of_sample"
      ],
      "execution_count": 25,
      "outputs": [
        {
          "output_type": "execute_result",
          "data": {
            "text/html": [
              "<div>\n",
              "<style scoped>\n",
              "    .dataframe tbody tr th:only-of-type {\n",
              "        vertical-align: middle;\n",
              "    }\n",
              "\n",
              "    .dataframe tbody tr th {\n",
              "        vertical-align: top;\n",
              "    }\n",
              "\n",
              "    .dataframe thead th {\n",
              "        text-align: right;\n",
              "    }\n",
              "</style>\n",
              "<table border=\"1\" class=\"dataframe\">\n",
              "  <thead>\n",
              "    <tr style=\"text-align: right;\">\n",
              "      <th></th>\n",
              "      <th>anime_id</th>\n",
              "      <th>name</th>\n",
              "      <th>genre</th>\n",
              "      <th>type</th>\n",
              "      <th>episodes</th>\n",
              "      <th>rating_x</th>\n",
              "      <th>members</th>\n",
              "      <th>user_id</th>\n",
              "      <th>rating_y</th>\n",
              "    </tr>\n",
              "  </thead>\n",
              "  <tbody>\n",
              "    <tr>\n",
              "      <th>1009672</th>\n",
              "      <td>274</td>\n",
              "      <td>Kiddy Grade</td>\n",
              "      <td>Action, Ecchi, Mecha, Sci-Fi, Super Power</td>\n",
              "      <td>TV</td>\n",
              "      <td>24</td>\n",
              "      <td>7</td>\n",
              "      <td>30766</td>\n",
              "      <td>5249</td>\n",
              "      <td>8.0</td>\n",
              "    </tr>\n",
              "    <tr>\n",
              "      <th>839902</th>\n",
              "      <td>1691</td>\n",
              "      <td>Kaze no Stigma</td>\n",
              "      <td>Action, Fantasy, Magic, Romance, Shounen</td>\n",
              "      <td>TV</td>\n",
              "      <td>24</td>\n",
              "      <td>8</td>\n",
              "      <td>205338</td>\n",
              "      <td>806</td>\n",
              "      <td>9.0</td>\n",
              "    </tr>\n",
              "    <tr>\n",
              "      <th>978673</th>\n",
              "      <td>195</td>\n",
              "      <td>Onegai☆Teacher</td>\n",
              "      <td>Comedy, Drama, Romance, School, Sci-Fi</td>\n",
              "      <td>TV</td>\n",
              "      <td>12</td>\n",
              "      <td>7</td>\n",
              "      <td>99558</td>\n",
              "      <td>10720</td>\n",
              "      <td>7.0</td>\n",
              "    </tr>\n",
              "    <tr>\n",
              "      <th>557723</th>\n",
              "      <td>1719</td>\n",
              "      <td>Rozen Maiden: Ouvertüre</td>\n",
              "      <td>Action, Comedy, Drama, Magic, Seinen</td>\n",
              "      <td>Special</td>\n",
              "      <td>2</td>\n",
              "      <td>8</td>\n",
              "      <td>44388</td>\n",
              "      <td>7711</td>\n",
              "      <td>8.0</td>\n",
              "    </tr>\n",
              "    <tr>\n",
              "      <th>472777</th>\n",
              "      <td>93</td>\n",
              "      <td>Mobile Suit Gundam Seed</td>\n",
              "      <td>Action, Drama, Mecha, Military, Romance, Sci-F...</td>\n",
              "      <td>TV</td>\n",
              "      <td>50</td>\n",
              "      <td>8</td>\n",
              "      <td>96973</td>\n",
              "      <td>10833</td>\n",
              "      <td>9.0</td>\n",
              "    </tr>\n",
              "    <tr>\n",
              "      <th>...</th>\n",
              "      <td>...</td>\n",
              "      <td>...</td>\n",
              "      <td>...</td>\n",
              "      <td>...</td>\n",
              "      <td>...</td>\n",
              "      <td>...</td>\n",
              "      <td>...</td>\n",
              "      <td>...</td>\n",
              "      <td>...</td>\n",
              "    </tr>\n",
              "    <tr>\n",
              "      <th>1164866</th>\n",
              "      <td>229</td>\n",
              "      <td>Ninin ga Shinobuden</td>\n",
              "      <td>Comedy, Martial Arts, Parody</td>\n",
              "      <td>TV</td>\n",
              "      <td>12</td>\n",
              "      <td>7</td>\n",
              "      <td>23125</td>\n",
              "      <td>5889</td>\n",
              "      <td>4.0</td>\n",
              "    </tr>\n",
              "    <tr>\n",
              "      <th>1123861</th>\n",
              "      <td>903</td>\n",
              "      <td>Dragon Ball Z Movie 10: Kiken na Futari! Super...</td>\n",
              "      <td>Action, Adventure, Comedy, Demons, Fantasy, Ma...</td>\n",
              "      <td>Movie</td>\n",
              "      <td>1</td>\n",
              "      <td>7</td>\n",
              "      <td>54947</td>\n",
              "      <td>9575</td>\n",
              "      <td>9.0</td>\n",
              "    </tr>\n",
              "    <tr>\n",
              "      <th>1222128</th>\n",
              "      <td>5526</td>\n",
              "      <td>Pokemon: Pikachu no Natsuyasumi</td>\n",
              "      <td>Comedy, Fantasy, Kids</td>\n",
              "      <td>Movie</td>\n",
              "      <td>1</td>\n",
              "      <td>7</td>\n",
              "      <td>19960</td>\n",
              "      <td>10905</td>\n",
              "      <td>7.0</td>\n",
              "    </tr>\n",
              "    <tr>\n",
              "      <th>1093747</th>\n",
              "      <td>1118</td>\n",
              "      <td>Pokemon: Kesshoutou no Teiou Entei</td>\n",
              "      <td>Action, Adventure, Comedy, Drama, Fantasy, Kids</td>\n",
              "      <td>Movie</td>\n",
              "      <td>1</td>\n",
              "      <td>7</td>\n",
              "      <td>73253</td>\n",
              "      <td>10788</td>\n",
              "      <td>7.0</td>\n",
              "    </tr>\n",
              "    <tr>\n",
              "      <th>890040</th>\n",
              "      <td>1302</td>\n",
              "      <td>Sayonara Ginga Tetsudou 999: Andromeda Shuucha...</td>\n",
              "      <td>Adventure, Drama, Sci-Fi, Space</td>\n",
              "      <td>Movie</td>\n",
              "      <td>1</td>\n",
              "      <td>7</td>\n",
              "      <td>4199</td>\n",
              "      <td>7275</td>\n",
              "      <td>6.0</td>\n",
              "    </tr>\n",
              "  </tbody>\n",
              "</table>\n",
              "<p>100 rows × 9 columns</p>\n",
              "</div>"
            ],
            "text/plain": [
              "         anime_id  ... rating_y\n",
              "1009672       274  ...      8.0\n",
              "839902       1691  ...      9.0\n",
              "978673        195  ...      7.0\n",
              "557723       1719  ...      8.0\n",
              "472777         93  ...      9.0\n",
              "...           ...  ...      ...\n",
              "1164866       229  ...      4.0\n",
              "1123861       903  ...      9.0\n",
              "1222128      5526  ...      7.0\n",
              "1093747      1118  ...      7.0\n",
              "890040       1302  ...      6.0\n",
              "\n",
              "[100 rows x 9 columns]"
            ]
          },
          "metadata": {
            "tags": []
          },
          "execution_count": 25
        }
      ]
    },
    {
      "cell_type": "code",
      "metadata": {
        "id": "E3BluncInE8b",
        "colab_type": "code",
        "outputId": "e8bde363-c719-4596-e060-b5f7ae309788",
        "colab": {
          "base_uri": "https://localhost:8080/",
          "height": 456
        }
      },
      "source": [
        "sample.loc[sample['type'] == 'Movie']"
      ],
      "execution_count": 26,
      "outputs": [
        {
          "output_type": "execute_result",
          "data": {
            "text/html": [
              "<div>\n",
              "<style scoped>\n",
              "    .dataframe tbody tr th:only-of-type {\n",
              "        vertical-align: middle;\n",
              "    }\n",
              "\n",
              "    .dataframe tbody tr th {\n",
              "        vertical-align: top;\n",
              "    }\n",
              "\n",
              "    .dataframe thead th {\n",
              "        text-align: right;\n",
              "    }\n",
              "</style>\n",
              "<table border=\"1\" class=\"dataframe\">\n",
              "  <thead>\n",
              "    <tr style=\"text-align: right;\">\n",
              "      <th></th>\n",
              "      <th>anime_id</th>\n",
              "      <th>name</th>\n",
              "      <th>genre</th>\n",
              "      <th>type</th>\n",
              "      <th>episodes</th>\n",
              "      <th>rating_x</th>\n",
              "      <th>members</th>\n",
              "      <th>user_id</th>\n",
              "      <th>rating_y</th>\n",
              "    </tr>\n",
              "  </thead>\n",
              "  <tbody>\n",
              "    <tr>\n",
              "      <th>635486</th>\n",
              "      <td>371</td>\n",
              "      <td>Cardcaptor Sakura Movie 1</td>\n",
              "      <td>Comedy, Drama, Fantasy, Magic, Shoujo</td>\n",
              "      <td>Movie</td>\n",
              "      <td>1</td>\n",
              "      <td>8</td>\n",
              "      <td>56327</td>\n",
              "      <td>5777</td>\n",
              "      <td>6.0</td>\n",
              "    </tr>\n",
              "    <tr>\n",
              "      <th>281897</th>\n",
              "      <td>437</td>\n",
              "      <td>Perfect Blue</td>\n",
              "      <td>Dementia, Drama, Horror, Psychological</td>\n",
              "      <td>Movie</td>\n",
              "      <td>1</td>\n",
              "      <td>8</td>\n",
              "      <td>117565</td>\n",
              "      <td>8186</td>\n",
              "      <td>9.0</td>\n",
              "    </tr>\n",
              "    <tr>\n",
              "      <th>989053</th>\n",
              "      <td>2847</td>\n",
              "      <td>Pokemon Diamond &amp;amp; Pearl: Dialga vs. Palkia...</td>\n",
              "      <td>Action, Adventure, Comedy, Drama, Fantasy, Kids</td>\n",
              "      <td>Movie</td>\n",
              "      <td>1</td>\n",
              "      <td>7</td>\n",
              "      <td>38238</td>\n",
              "      <td>10926</td>\n",
              "      <td>7.0</td>\n",
              "    </tr>\n",
              "    <tr>\n",
              "      <th>136183</th>\n",
              "      <td>572</td>\n",
              "      <td>Kaze no Tani no Nausicaä</td>\n",
              "      <td>Adventure, Fantasy</td>\n",
              "      <td>Movie</td>\n",
              "      <td>1</td>\n",
              "      <td>8</td>\n",
              "      <td>143273</td>\n",
              "      <td>10531</td>\n",
              "      <td>10.0</td>\n",
              "    </tr>\n",
              "    <tr>\n",
              "      <th>530931</th>\n",
              "      <td>8514</td>\n",
              "      <td>Break Blade 2: Ketsubetsu no Michi</td>\n",
              "      <td>Action, Fantasy, Mecha, Military, Shounen</td>\n",
              "      <td>Movie</td>\n",
              "      <td>1</td>\n",
              "      <td>8</td>\n",
              "      <td>44900</td>\n",
              "      <td>5228</td>\n",
              "      <td>7.0</td>\n",
              "    </tr>\n",
              "    <tr>\n",
              "      <th>...</th>\n",
              "      <td>...</td>\n",
              "      <td>...</td>\n",
              "      <td>...</td>\n",
              "      <td>...</td>\n",
              "      <td>...</td>\n",
              "      <td>...</td>\n",
              "      <td>...</td>\n",
              "      <td>...</td>\n",
              "      <td>...</td>\n",
              "    </tr>\n",
              "    <tr>\n",
              "      <th>736366</th>\n",
              "      <td>901</td>\n",
              "      <td>Dragon Ball Z Movie 08: Moetsukiro!! Nessen, R...</td>\n",
              "      <td>Adventure, Comedy, Fantasy, Sci-Fi, Shounen</td>\n",
              "      <td>Movie</td>\n",
              "      <td>1</td>\n",
              "      <td>8</td>\n",
              "      <td>65953</td>\n",
              "      <td>10070</td>\n",
              "      <td>7.0</td>\n",
              "    </tr>\n",
              "    <tr>\n",
              "      <th>784988</th>\n",
              "      <td>1911</td>\n",
              "      <td>Top wo Nerae! &amp;amp; Top wo Nerae 2! Gattai Mov...</td>\n",
              "      <td>Comedy, Mecha, Shounen</td>\n",
              "      <td>Movie</td>\n",
              "      <td>2</td>\n",
              "      <td>8</td>\n",
              "      <td>8079</td>\n",
              "      <td>10603</td>\n",
              "      <td>8.0</td>\n",
              "    </tr>\n",
              "    <tr>\n",
              "      <th>704770</th>\n",
              "      <td>4835</td>\n",
              "      <td>Bleach Movie 3: Fade to Black - Kimi no Na wo ...</td>\n",
              "      <td>Action, Comedy, Shounen, Super Power, Supernat...</td>\n",
              "      <td>Movie</td>\n",
              "      <td>1</td>\n",
              "      <td>8</td>\n",
              "      <td>122373</td>\n",
              "      <td>6700</td>\n",
              "      <td>10.0</td>\n",
              "    </tr>\n",
              "    <tr>\n",
              "      <th>465795</th>\n",
              "      <td>16904</td>\n",
              "      <td>K: Missing Kings</td>\n",
              "      <td>Action, Super Power, Supernatural</td>\n",
              "      <td>Movie</td>\n",
              "      <td>1</td>\n",
              "      <td>8</td>\n",
              "      <td>98549</td>\n",
              "      <td>2874</td>\n",
              "      <td>9.0</td>\n",
              "    </tr>\n",
              "    <tr>\n",
              "      <th>767967</th>\n",
              "      <td>1686</td>\n",
              "      <td>Bleach Movie 1: Memories of Nobody</td>\n",
              "      <td>Action, Adventure, Super Power</td>\n",
              "      <td>Movie</td>\n",
              "      <td>1</td>\n",
              "      <td>8</td>\n",
              "      <td>151598</td>\n",
              "      <td>12285</td>\n",
              "      <td>5.0</td>\n",
              "    </tr>\n",
              "  </tbody>\n",
              "</table>\n",
              "<p>675 rows × 9 columns</p>\n",
              "</div>"
            ],
            "text/plain": [
              "        anime_id  ... rating_y\n",
              "635486       371  ...      6.0\n",
              "281897       437  ...      9.0\n",
              "989053      2847  ...      7.0\n",
              "136183       572  ...     10.0\n",
              "530931      8514  ...      7.0\n",
              "...          ...  ...      ...\n",
              "736366       901  ...      7.0\n",
              "784988      1911  ...      8.0\n",
              "704770      4835  ...     10.0\n",
              "465795     16904  ...      9.0\n",
              "767967      1686  ...      5.0\n",
              "\n",
              "[675 rows x 9 columns]"
            ]
          },
          "metadata": {
            "tags": []
          },
          "execution_count": 26
        }
      ]
    },
    {
      "cell_type": "code",
      "metadata": {
        "id": "HBuoD77PnE8e",
        "colab_type": "code",
        "outputId": "1b5671d5-4606-4bdc-f3af-4ba03fe98c38",
        "colab": {
          "base_uri": "https://localhost:8080/",
          "height": 33
        }
      },
      "source": [
        "len(sample.loc[sample['type'] == 'TV']) #How many tv shows there are in the dataframe"
      ],
      "execution_count": 27,
      "outputs": [
        {
          "output_type": "execute_result",
          "data": {
            "text/plain": [
              "3401"
            ]
          },
          "metadata": {
            "tags": []
          },
          "execution_count": 27
        }
      ]
    },
    {
      "cell_type": "code",
      "metadata": {
        "id": "RCsbBlBWnE8h",
        "colab_type": "code",
        "outputId": "2d9b5eb2-75b6-406f-c23a-e1e396368f35",
        "colab": {
          "base_uri": "https://localhost:8080/",
          "height": 33
        }
      },
      "source": [
        "len(sample.loc[sample['type'] == 'Movie'])"
      ],
      "execution_count": 28,
      "outputs": [
        {
          "output_type": "execute_result",
          "data": {
            "text/plain": [
              "675"
            ]
          },
          "metadata": {
            "tags": []
          },
          "execution_count": 28
        }
      ]
    },
    {
      "cell_type": "code",
      "metadata": {
        "id": "T6Of1OZFnE8j",
        "colab_type": "code",
        "outputId": "61124c9d-4b7d-4532-d3c8-6317a40da359",
        "colab": {
          "base_uri": "https://localhost:8080/",
          "height": 115
        }
      },
      "source": [
        "sample.loc[sample['type'] == 'Movie'].rating_x.value_counts() #Viewer ratings for films "
      ],
      "execution_count": 29,
      "outputs": [
        {
          "output_type": "execute_result",
          "data": {
            "text/plain": [
              "8    415\n",
              "7    166\n",
              "9     76\n",
              "6     17\n",
              "4      1\n",
              "Name: rating_x, dtype: int64"
            ]
          },
          "metadata": {
            "tags": []
          },
          "execution_count": 29
        }
      ]
    },
    {
      "cell_type": "code",
      "metadata": {
        "id": "JeYYpdY9nE8l",
        "colab_type": "code",
        "outputId": "52246f59-4e75-4e0c-d502-8d0df5210207",
        "colab": {
          "base_uri": "https://localhost:8080/",
          "height": 196
        }
      },
      "source": [
        "sample.loc[sample['type'] == 'Movie'].rating_y.value_counts() #Viewer ratings for films "
      ],
      "execution_count": 30,
      "outputs": [
        {
          "output_type": "execute_result",
          "data": {
            "text/plain": [
              "8.0     181\n",
              "7.0     157\n",
              "9.0     132\n",
              "10.0     99\n",
              "6.0      68\n",
              "5.0      29\n",
              "4.0       3\n",
              "1.0       3\n",
              "2.0       2\n",
              "3.0       1\n",
              "Name: rating_y, dtype: int64"
            ]
          },
          "metadata": {
            "tags": []
          },
          "execution_count": 30
        }
      ]
    },
    {
      "cell_type": "markdown",
      "metadata": {
        "id": "n3Gju4rDnE8q",
        "colab_type": "text"
      },
      "source": [
        "***drop rows containing -1 as rating in df_merge ***\n",
        "could be that I have an approximation error "
      ]
    },
    {
      "cell_type": "markdown",
      "metadata": {
        "id": "oikzkDXQnE8r",
        "colab_type": "text"
      },
      "source": [
        "*** Look at min ratings in rating_x *** if its a rating error, we would recreate y based off of x. (round to a whole number) *** 0 decimal places"
      ]
    },
    {
      "cell_type": "markdown",
      "metadata": {
        "id": "XN1Ik_xLnE8r",
        "colab_type": "text"
      },
      "source": [
        "## Most Reviewed Videos"
      ]
    },
    {
      "cell_type": "code",
      "metadata": {
        "id": "8tFo4Wz8nE8r",
        "colab_type": "code",
        "outputId": "0a24e321-cd15-4dc3-8073-19c26ddac4c9",
        "colab": {
          "base_uri": "https://localhost:8080/",
          "height": 33
        }
      },
      "source": [
        "movies_review = len(sample.loc[sample['type'] == 'Movie'])\n",
        "movies_review"
      ],
      "execution_count": 31,
      "outputs": [
        {
          "output_type": "execute_result",
          "data": {
            "text/plain": [
              "675"
            ]
          },
          "metadata": {
            "tags": []
          },
          "execution_count": 31
        }
      ]
    },
    {
      "cell_type": "code",
      "metadata": {
        "id": "e_3-JZXEnE8z",
        "colab_type": "code",
        "outputId": "55736717-57df-4c22-a6f8-ac4436df260f",
        "colab": {
          "base_uri": "https://localhost:8080/",
          "height": 33
        }
      },
      "source": [
        "tv_reviews = len(sample.loc[sample['type'] == 'TV'])\n",
        "tv_reviews"
      ],
      "execution_count": 32,
      "outputs": [
        {
          "output_type": "execute_result",
          "data": {
            "text/plain": [
              "3401"
            ]
          },
          "metadata": {
            "tags": []
          },
          "execution_count": 32
        }
      ]
    },
    {
      "cell_type": "code",
      "metadata": {
        "id": "vIr4oAyAnE82",
        "colab_type": "code",
        "outputId": "d9b2b12e-27eb-4d90-d485-ad4650bdf962",
        "colab": {
          "base_uri": "https://localhost:8080/",
          "height": 33
        }
      },
      "source": [
        "ova_reviews = len(sample.loc[sample['type'] =='OVA'])\n",
        "ova_reviews"
      ],
      "execution_count": 33,
      "outputs": [
        {
          "output_type": "execute_result",
          "data": {
            "text/plain": [
              "516"
            ]
          },
          "metadata": {
            "tags": []
          },
          "execution_count": 33
        }
      ]
    },
    {
      "cell_type": "code",
      "metadata": {
        "id": "-oHGLfMgSzHO",
        "colab_type": "code",
        "outputId": "7d6b6719-52c6-44a3-b739-2b3d045fdc28",
        "colab": {
          "base_uri": "https://localhost:8080/",
          "height": 33
        }
      },
      "source": [
        "music_reviews = len(sample.loc[sample['type'] =='Music'])\n",
        "music_reviews"
      ],
      "execution_count": 34,
      "outputs": [
        {
          "output_type": "execute_result",
          "data": {
            "text/plain": [
              "9"
            ]
          },
          "metadata": {
            "tags": []
          },
          "execution_count": 34
        }
      ]
    },
    {
      "cell_type": "code",
      "metadata": {
        "id": "gmNrTMyySzh6",
        "colab_type": "code",
        "outputId": "184212eb-e0e1-4c6c-ac3a-6c46b1404d09",
        "colab": {
          "base_uri": "https://localhost:8080/",
          "height": 33
        }
      },
      "source": [
        "ona_reviews = len(sample.loc[sample['type'] =='ONA'])\n",
        "ona_reviews"
      ],
      "execution_count": 35,
      "outputs": [
        {
          "output_type": "execute_result",
          "data": {
            "text/plain": [
              "60"
            ]
          },
          "metadata": {
            "tags": []
          },
          "execution_count": 35
        }
      ]
    },
    {
      "cell_type": "code",
      "metadata": {
        "id": "Q1GMel8HS0d1",
        "colab_type": "code",
        "outputId": "1d1706c5-eac4-4db7-8df5-2bb05866dbf0",
        "colab": {
          "base_uri": "https://localhost:8080/",
          "height": 33
        }
      },
      "source": [
        "special_reviews = len(sample.loc[sample['type'] =='Special'])\n",
        "special_reviews"
      ],
      "execution_count": 36,
      "outputs": [
        {
          "output_type": "execute_result",
          "data": {
            "text/plain": [
              "339"
            ]
          },
          "metadata": {
            "tags": []
          },
          "execution_count": 36
        }
      ]
    },
    {
      "cell_type": "code",
      "metadata": {
        "id": "cWPp_Rp1TEkH",
        "colab_type": "code",
        "outputId": "4fa1529f-a6a3-45ce-fb4e-2b6cef27ad6a",
        "colab": {
          "base_uri": "https://localhost:8080/",
          "height": 621
        }
      },
      "source": [
        "# PLOT them \n",
        "fig = plt.figure(figsize=(12,10))\n",
        "sns.countplot(sample['type'], palette='gist_rainbow')\n",
        "plt.title(\"Most Viewed Anime\")\n",
        "plt.xlabel(\"Types\")\n",
        "plt.ylabel(\"Number of Views with Reviews\")\n",
        "plt.legend(sample['type'])\n",
        "plt.show()"
      ],
      "execution_count": 37,
      "outputs": [
        {
          "output_type": "display_data",
          "data": {
            "image/png": "[encoded data removed]",
            "text/plain": [
              "<Figure size 864x720 with 1 Axes>"
            ]
          },
          "metadata": {
            "tags": [],
            "needs_background": "light"
          }
        }
      ]
    },
    {
      "cell_type": "code",
      "metadata": {
        "id": "V8kDcAcanE9F",
        "colab_type": "code",
        "outputId": "aabdf927-5828-495c-cb3f-2f4a3690a676",
        "colab": {
          "base_uri": "https://localhost:8080/",
          "height": 33
        }
      },
      "source": [
        "len(sample)"
      ],
      "execution_count": 38,
      "outputs": [
        {
          "output_type": "execute_result",
          "data": {
            "text/plain": [
              "5000"
            ]
          },
          "metadata": {
            "tags": []
          },
          "execution_count": 38
        }
      ]
    },
    {
      "cell_type": "markdown",
      "metadata": {
        "id": "9z9Z9lkwnE9H",
        "colab_type": "text"
      },
      "source": [
        "# Implementing a Surprise's Singular Value Decomposition (SVD) as a Baseline"
      ]
    },
    {
      "cell_type": "code",
      "metadata": {
        "id": "4a0xCAzwkQaF",
        "colab_type": "code",
        "outputId": "6a5e2b1f-6370-44af-9b90-b380ad4c9dc0",
        "colab": {
          "base_uri": "https://localhost:8080/",
          "height": 191
        }
      },
      "source": [
        "sample.rating_x = sample.rating_x.apply(round)\n",
        "sample.head()"
      ],
      "execution_count": 39,
      "outputs": [
        {
          "output_type": "execute_result",
          "data": {
            "text/html": [
              "<div>\n",
              "<style scoped>\n",
              "    .dataframe tbody tr th:only-of-type {\n",
              "        vertical-align: middle;\n",
              "    }\n",
              "\n",
              "    .dataframe tbody tr th {\n",
              "        vertical-align: top;\n",
              "    }\n",
              "\n",
              "    .dataframe thead th {\n",
              "        text-align: right;\n",
              "    }\n",
              "</style>\n",
              "<table border=\"1\" class=\"dataframe\">\n",
              "  <thead>\n",
              "    <tr style=\"text-align: right;\">\n",
              "      <th></th>\n",
              "      <th>anime_id</th>\n",
              "      <th>name</th>\n",
              "      <th>genre</th>\n",
              "      <th>type</th>\n",
              "      <th>episodes</th>\n",
              "      <th>rating_x</th>\n",
              "      <th>members</th>\n",
              "      <th>user_id</th>\n",
              "      <th>rating_y</th>\n",
              "    </tr>\n",
              "  </thead>\n",
              "  <tbody>\n",
              "    <tr>\n",
              "      <th>1009672</th>\n",
              "      <td>274</td>\n",
              "      <td>Kiddy Grade</td>\n",
              "      <td>Action, Ecchi, Mecha, Sci-Fi, Super Power</td>\n",
              "      <td>TV</td>\n",
              "      <td>24</td>\n",
              "      <td>7</td>\n",
              "      <td>30766</td>\n",
              "      <td>5249</td>\n",
              "      <td>8.0</td>\n",
              "    </tr>\n",
              "    <tr>\n",
              "      <th>839902</th>\n",
              "      <td>1691</td>\n",
              "      <td>Kaze no Stigma</td>\n",
              "      <td>Action, Fantasy, Magic, Romance, Shounen</td>\n",
              "      <td>TV</td>\n",
              "      <td>24</td>\n",
              "      <td>8</td>\n",
              "      <td>205338</td>\n",
              "      <td>806</td>\n",
              "      <td>9.0</td>\n",
              "    </tr>\n",
              "    <tr>\n",
              "      <th>978673</th>\n",
              "      <td>195</td>\n",
              "      <td>Onegai☆Teacher</td>\n",
              "      <td>Comedy, Drama, Romance, School, Sci-Fi</td>\n",
              "      <td>TV</td>\n",
              "      <td>12</td>\n",
              "      <td>7</td>\n",
              "      <td>99558</td>\n",
              "      <td>10720</td>\n",
              "      <td>7.0</td>\n",
              "    </tr>\n",
              "    <tr>\n",
              "      <th>557723</th>\n",
              "      <td>1719</td>\n",
              "      <td>Rozen Maiden: Ouvertüre</td>\n",
              "      <td>Action, Comedy, Drama, Magic, Seinen</td>\n",
              "      <td>Special</td>\n",
              "      <td>2</td>\n",
              "      <td>8</td>\n",
              "      <td>44388</td>\n",
              "      <td>7711</td>\n",
              "      <td>8.0</td>\n",
              "    </tr>\n",
              "    <tr>\n",
              "      <th>472777</th>\n",
              "      <td>93</td>\n",
              "      <td>Mobile Suit Gundam Seed</td>\n",
              "      <td>Action, Drama, Mecha, Military, Romance, Sci-F...</td>\n",
              "      <td>TV</td>\n",
              "      <td>50</td>\n",
              "      <td>8</td>\n",
              "      <td>96973</td>\n",
              "      <td>10833</td>\n",
              "      <td>9.0</td>\n",
              "    </tr>\n",
              "  </tbody>\n",
              "</table>\n",
              "</div>"
            ],
            "text/plain": [
              "         anime_id                     name  ... user_id rating_y\n",
              "1009672       274              Kiddy Grade  ...    5249      8.0\n",
              "839902       1691           Kaze no Stigma  ...     806      9.0\n",
              "978673        195           Onegai☆Teacher  ...   10720      7.0\n",
              "557723       1719  Rozen Maiden: Ouvertüre  ...    7711      8.0\n",
              "472777         93  Mobile Suit Gundam Seed  ...   10833      9.0\n",
              "\n",
              "[5 rows x 9 columns]"
            ]
          },
          "metadata": {
            "tags": []
          },
          "execution_count": 39
        }
      ]
    },
    {
      "cell_type": "code",
      "metadata": {
        "id": "u3ctsBehnE9I",
        "colab_type": "code",
        "colab": {}
      },
      "source": [
        "#for surprise, it likes its data in a certain way and only that specific data\n",
        "data = sample[['user_id', 'anime_id', 'rating_x']] #may need to do rating_x rounded and then use rating_y\n",
        "reader = Reader(line_format='user item rating', sep='')\n",
        "anime_loaded_data = Dataset.load_from_df(data, reader)\n",
        "# anime_split = anime_loaded_data.split(n_folds=5) \n",
        "\n",
        "#train_test_split\n",
        "trainset, testset = train_test_split(anime_loaded_data, test_size=.2)"
      ],
      "execution_count": 0,
      "outputs": []
    },
    {
      "cell_type": "code",
      "metadata": {
        "id": "GL-WXAOv_BBw",
        "colab_type": "code",
        "outputId": "8570b644-b024-4e5f-a550-894ce3571b15",
        "colab": {
          "base_uri": "https://localhost:8080/",
          "height": 33
        }
      },
      "source": [
        "anime_loaded_data"
      ],
      "execution_count": 41,
      "outputs": [
        {
          "output_type": "execute_result",
          "data": {
            "text/plain": [
              "<surprise.dataset.DatasetAutoFolds at 0x7f4d1d432898>"
            ]
          },
          "metadata": {
            "tags": []
          },
          "execution_count": 41
        }
      ]
    },
    {
      "cell_type": "code",
      "metadata": {
        "id": "1LrsZrU6nE9L",
        "colab_type": "code",
        "outputId": "41e9d7cf-c2cb-44d3-dc9c-816960bc80be",
        "colab": {
          "base_uri": "https://localhost:8080/",
          "height": 33
        }
      },
      "source": [
        "#INSTANTIATE the SVD and fit only the train set\n",
        "svd = SVD()\n",
        "svd.fit(trainset)"
      ],
      "execution_count": 42,
      "outputs": [
        {
          "output_type": "execute_result",
          "data": {
            "text/plain": [
              "<surprise.prediction_algorithms.matrix_factorization.SVD at 0x7f4d1f01f048>"
            ]
          },
          "metadata": {
            "tags": []
          },
          "execution_count": 42
        }
      ]
    },
    {
      "cell_type": "code",
      "metadata": {
        "id": "pd6fEbcmnE9T",
        "colab_type": "code",
        "outputId": "a8bc1582-3c7c-41ff-8a65-b39a8a93493f",
        "colab": {
          "base_uri": "https://localhost:8080/",
          "height": 50
        }
      },
      "source": [
        "predictions = svd.test(testset) #\n",
        "accuracy.rmse(predictions)"
      ],
      "execution_count": 43,
      "outputs": [
        {
          "output_type": "stream",
          "text": [
            "RMSE: 2.7194\n"
          ],
          "name": "stdout"
        },
        {
          "output_type": "execute_result",
          "data": {
            "text/plain": [
              "2.7193749281774293"
            ]
          },
          "metadata": {
            "tags": []
          },
          "execution_count": 43
        }
      ]
    },
    {
      "cell_type": "markdown",
      "metadata": {
        "id": "nb0LlqhqKzcH",
        "colab_type": "text"
      },
      "source": [
        "*** I don't think this is better than the .66 that I have above on the memory based models.***"
      ]
    },
    {
      "cell_type": "code",
      "metadata": {
        "id": "xB6P_zDMnE9V",
        "colab_type": "code",
        "outputId": "3d44faae-d8a6-4da1-bd51-92b344fbdd92",
        "colab": {
          "base_uri": "https://localhost:8080/",
          "height": 180
        }
      },
      "source": [
        "predictions[:10]"
      ],
      "execution_count": 44,
      "outputs": [
        {
          "output_type": "execute_result",
          "data": {
            "text/plain": [
              "[Prediction(uid=746, iid=5681, r_ui=8.0, est=5, details={'was_impossible': False}),\n",
              " Prediction(uid=10497, iid=7222, r_ui=8.0, est=5, details={'was_impossible': False}),\n",
              " Prediction(uid=2204, iid=2167, r_ui=8.0, est=5, details={'was_impossible': False}),\n",
              " Prediction(uid=7823, iid=4898, r_ui=8.0, est=5, details={'was_impossible': False}),\n",
              " Prediction(uid=9873, iid=223, r_ui=8.0, est=5, details={'was_impossible': False}),\n",
              " Prediction(uid=1711, iid=25681, r_ui=8.0, est=5, details={'was_impossible': False}),\n",
              " Prediction(uid=9044, iid=16904, r_ui=8.0, est=5, details={'was_impossible': False}),\n",
              " Prediction(uid=7249, iid=18119, r_ui=8.0, est=5, details={'was_impossible': False}),\n",
              " Prediction(uid=3127, iid=5675, r_ui=7.0, est=5, details={'was_impossible': False}),\n",
              " Prediction(uid=2362, iid=11757, r_ui=8.0, est=5, details={'was_impossible': False})]"
            ]
          },
          "metadata": {
            "tags": []
          },
          "execution_count": 44
        }
      ]
    },
    {
      "cell_type": "code",
      "metadata": {
        "id": "MdhR9mQUnE9Y",
        "colab_type": "code",
        "outputId": "1acaf687-ece8-4f36-b470-b0d41d2b4da6",
        "colab": {
          "base_uri": "https://localhost:8080/",
          "height": 50
        }
      },
      "source": [
        "print(\"Number of users:\", sample.user_id.nunique())\n",
        "print(\"Number of types of different anime:\", sample.type.nunique())\n"
      ],
      "execution_count": 45,
      "outputs": [
        {
          "output_type": "stream",
          "text": [
            "Number of users: 3214\n",
            "Number of types of different anime: 6\n"
          ],
          "name": "stdout"
        }
      ]
    },
    {
      "cell_type": "code",
      "metadata": {
        "id": "UEec0Gc7nE9f",
        "colab_type": "code",
        "outputId": "da64805f-48bb-4611-ce75-482a6d38877b",
        "colab": {
          "base_uri": "https://localhost:8080/",
          "height": 33
        }
      },
      "source": [
        "user = 5\n",
        "item = 100\n",
        "svd.predict(user, item)"
      ],
      "execution_count": 46,
      "outputs": [
        {
          "output_type": "execute_result",
          "data": {
            "text/plain": [
              "Prediction(uid=5, iid=100, r_ui=None, est=5, details={'was_impossible': False})"
            ]
          },
          "metadata": {
            "tags": []
          },
          "execution_count": 46
        }
      ]
    },
    {
      "cell_type": "markdown",
      "metadata": {
        "id": "-NLeL3oFnE9n",
        "colab_type": "text"
      },
      "source": [
        "Now I need to compare the different models and see which ones perform best. I will stick to using RMSE to evaluate the models. I will also cross validate. "
      ]
    },
    {
      "cell_type": "code",
      "metadata": {
        "id": "VHM0KQOlnE9o",
        "colab_type": "code",
        "outputId": "8e98fd70-23dd-463b-b68a-73a97fbe4865",
        "colab": {
          "base_uri": "https://localhost:8080/",
          "height": 66
        }
      },
      "source": [
        "#perform a gridsearch CV\n",
        "params = {'n_factors': [20,50,100],\n",
        "         'reg_all': [.02,.05, .10]}\n",
        "gridsearch_svd1 = GridSearchCV(SVD, param_grid=params, n_jobs=-1, joblib_verbose=3)\n",
        "gridsearch_svd1.fit(anime_loaded_data)"
      ],
      "execution_count": 47,
      "outputs": [
        {
          "output_type": "stream",
          "text": [
            "[Parallel(n_jobs=-1)]: Using backend LokyBackend with 2 concurrent workers.\n",
            "[Parallel(n_jobs=-1)]: Done  28 tasks      | elapsed:    6.8s\n",
            "[Parallel(n_jobs=-1)]: Done  45 out of  45 | elapsed:   11.8s finished\n"
          ],
          "name": "stderr"
        }
      ]
    },
    {
      "cell_type": "code",
      "metadata": {
        "id": "x9D7uwWqnE9q",
        "colab_type": "code",
        "outputId": "ef84d780-ea46-4ecf-cb16-7c3de6ba9849",
        "colab": {
          "base_uri": "https://localhost:8080/",
          "height": 50
        }
      },
      "source": [
        "print(gridsearch_svd1.best_score)\n",
        "print(gridsearch_svd1.best_params)"
      ],
      "execution_count": 48,
      "outputs": [
        {
          "output_type": "stream",
          "text": [
            "{'rmse': 2.738190607629976, 'mae': 2.645}\n",
            "{'rmse': {'n_factors': 20, 'reg_all': 0.02}, 'mae': {'n_factors': 20, 'reg_all': 0.02}}\n"
          ],
          "name": "stdout"
        }
      ]
    },
    {
      "cell_type": "markdown",
      "metadata": {
        "id": "BnrdTIPILcqC",
        "colab_type": "text"
      },
      "source": [
        "**Better than the model before***"
      ]
    },
    {
      "cell_type": "code",
      "metadata": {
        "id": "zqL4tt72GQe5",
        "colab_type": "code",
        "outputId": "6b402b1a-d4fc-4c01-a23f-f7272a836251",
        "colab": {
          "base_uri": "https://localhost:8080/",
          "height": 33
        }
      },
      "source": [
        "anime_loaded_data"
      ],
      "execution_count": 49,
      "outputs": [
        {
          "output_type": "execute_result",
          "data": {
            "text/plain": [
              "<surprise.dataset.DatasetAutoFolds at 0x7f4d1d432898>"
            ]
          },
          "metadata": {
            "tags": []
          },
          "execution_count": 49
        }
      ]
    },
    {
      "cell_type": "markdown",
      "metadata": {
        "id": "P-lM8im2nE9z",
        "colab_type": "text"
      },
      "source": [
        "## Cross Validation with K-Nearest Neighbors (KNN) Basic Algorithm"
      ]
    },
    {
      "cell_type": "code",
      "metadata": {
        "id": "czGpCY-QnE91",
        "colab_type": "code",
        "outputId": "bca0f605-8353-4ea4-cdb3-1a852fbd743c",
        "colab": {
          "base_uri": "https://localhost:8080/",
          "height": 70
        }
      },
      "source": [
        "#cross validate with KNNBasic\n",
        "knn_basic = KNNBasic(sim_options={'name':'pearson', 'user_based':True}, verbose=True)\n",
        "cv_knn_basic = cross_validate(knn_basic, anime_loaded_data, n_jobs=2)"
      ],
      "execution_count": 50,
      "outputs": [
        {
          "output_type": "stream",
          "text": [
            "/usr/local/lib/python3.6/dist-packages/joblib/externals/loky/process_executor.py:691: UserWarning: A worker stopped while some jobs were given to the executor. This can be caused by a too short worker timeout or by a memory leak.\n",
            "  \"timeout or by a memory leak.\", UserWarning\n"
          ],
          "name": "stderr"
        }
      ]
    },
    {
      "cell_type": "code",
      "metadata": {
        "id": "F9t6WpJL2USm",
        "colab_type": "code",
        "outputId": "957e7236-4cb2-4389-ad84-1bb4cf3aa0a1",
        "colab": {
          "base_uri": "https://localhost:8080/",
          "height": 115
        }
      },
      "source": [
        "for i in cv_knn_basic.items():\n",
        "    print(i)\n",
        "print('-----------------')\n",
        "print(np.mean(cv_knn_basic['test_rmse']))"
      ],
      "execution_count": 51,
      "outputs": [
        {
          "output_type": "stream",
          "text": [
            "('test_rmse', array([2.71311629, 2.74408455, 2.70721259, 2.76568256, 2.76079699]))\n",
            "('test_mae', array([2.617, 2.646, 2.619, 2.673, 2.67 ]))\n",
            "('fit_time', (0.8272240161895752, 0.9396998882293701, 0.6461565494537354, 0.5406589508056641, 0.31038761138916016))\n",
            "('test_time', (0.02841329574584961, 0.015196084976196289, 0.013674259185791016, 0.013736486434936523, 0.008034944534301758))\n",
            "-----------------\n",
            "2.7381785934277003\n"
          ],
          "name": "stdout"
        }
      ]
    },
    {
      "cell_type": "markdown",
      "metadata": {
        "id": "L5qCkyUELOIN",
        "colab_type": "text"
      },
      "source": [
        "*** This is not as good as the baseline***"
      ]
    },
    {
      "cell_type": "code",
      "metadata": {
        "id": "lfLPCcv8nE93",
        "colab_type": "code",
        "colab": {}
      },
      "source": [
        "knn_basic_msd = KNNBasic(sim_options = {'name': 'msd', 'user-based':True})\n",
        "cv_knn_basic_msd = cross_validate(knn_basic_msd, anime_loaded_data, n_jobs=2)"
      ],
      "execution_count": 0,
      "outputs": []
    },
    {
      "cell_type": "code",
      "metadata": {
        "id": "IsvfxOiXnE95",
        "colab_type": "code",
        "outputId": "f0ab7dda-d18b-4d3b-b07d-952c2f0db911",
        "colab": {
          "base_uri": "https://localhost:8080/",
          "height": 115
        }
      },
      "source": [
        "for i in cv_knn_basic_msd.items():\n",
        "    print(i)\n",
        "print('-----------------')\n",
        "print(np.mean(cv_knn_basic_msd['test_rmse']))"
      ],
      "execution_count": 53,
      "outputs": [
        {
          "output_type": "stream",
          "text": [
            "('test_rmse', array([2.74517759, 2.73605555, 2.73660373, 2.74899982, 2.72451831]))\n",
            "('test_mae', array([2.658, 2.644, 2.637, 2.655, 2.631]))\n",
            "('fit_time', (0.4238736629486084, 0.4982161521911621, 0.4042820930480957, 0.3780038356781006, 0.2330150604248047))\n",
            "('test_time', (0.014336347579956055, 0.027400732040405273, 0.028580904006958008, 0.01326441764831543, 0.00812840461730957))\n",
            "-----------------\n",
            "2.7382710007198514\n"
          ],
          "name": "stdout"
        }
      ]
    },
    {
      "cell_type": "markdown",
      "metadata": {
        "id": "j_r77pS4LiAW",
        "colab_type": "text"
      },
      "source": [
        "*** better than the model above ***\n"
      ]
    },
    {
      "cell_type": "markdown",
      "metadata": {
        "id": "Nq4VKWZtnE98",
        "colab_type": "text"
      },
      "source": [
        "## Cross Validation with KNN Baseline"
      ]
    },
    {
      "cell_type": "code",
      "metadata": {
        "id": "Jd_R2dkNnE99",
        "colab_type": "code",
        "colab": {}
      },
      "source": [
        "#cross validate with KNN Baseline (pearson)\n",
        "knn_baseline = KNNBaseline(sim_options={'name': 'pearson', 'user_based':True})\n",
        "cv_knn_baseline = cross_validate(knn_baseline, anime_loaded_data, n_jobs=3)"
      ],
      "execution_count": 0,
      "outputs": []
    },
    {
      "cell_type": "code",
      "metadata": {
        "id": "6-jDbZDc3EHW",
        "colab_type": "code",
        "outputId": "27434efd-6569-4b05-dac8-05fdb2b10494",
        "colab": {
          "base_uri": "https://localhost:8080/",
          "height": 115
        }
      },
      "source": [
        "for i in cv_knn_baseline.items():\n",
        "    print(i)\n",
        "print('-----------------')\n",
        "print(np.mean(cv_knn_baseline['test_rmse']))"
      ],
      "execution_count": 55,
      "outputs": [
        {
          "output_type": "stream",
          "text": [
            "('test_rmse', array([2.71330057, 2.73843021, 2.75862284, 2.74244417, 2.73843021]))\n",
            "('test_mae', array([2.62 , 2.637, 2.668, 2.653, 2.647]))\n",
            "('fit_time', (0.4852302074432373, 0.6489777565002441, 0.7868297100067139, 0.7068839073181152, 0.499464750289917))\n",
            "('test_time', (0.016990184783935547, 0.03343486785888672, 0.0081329345703125, 0.013344526290893555, 0.01479339599609375))\n",
            "-----------------\n",
            "2.7382455995551527\n"
          ],
          "name": "stdout"
        }
      ]
    },
    {
      "cell_type": "markdown",
      "metadata": {
        "id": "bI9WY1rqLu5j",
        "colab_type": "text"
      },
      "source": [
        "***better than the other rmse but not as good as mae from above *** "
      ]
    },
    {
      "cell_type": "code",
      "metadata": {
        "id": "INk427JxQ6NF",
        "colab_type": "code",
        "colab": {}
      },
      "source": [
        "knn_baseline_msd = KNNBaseline(sim_options = {'name': 'msd', 'user_based': True})\n",
        "cv_knn_baseline_msd = cross_validate(knn_baseline_msd, anime_loaded_data, n_jobs =2)"
      ],
      "execution_count": 0,
      "outputs": []
    },
    {
      "cell_type": "code",
      "metadata": {
        "id": "tmd9Vtf5SMgW",
        "colab_type": "code",
        "outputId": "865ef43b-8259-4cd3-e93b-05710e071caa",
        "colab": {
          "base_uri": "https://localhost:8080/",
          "height": 115
        }
      },
      "source": [
        "for i in cv_knn_baseline_msd.items():\n",
        "  print(i)\n",
        "print('-------------------')\n",
        "print(np.mean(cv_knn_baseline_msd['test_rmse']))"
      ],
      "execution_count": 57,
      "outputs": [
        {
          "output_type": "stream",
          "text": [
            "('test_rmse', array([2.7491817 , 2.73276417, 2.72525228, 2.7342275 , 2.74990909]))\n",
            "('test_mae', array([2.658, 2.642, 2.631, 2.646, 2.648]))\n",
            "('fit_time', (0.37298059463500977, 0.3625175952911377, 0.39357948303222656, 0.38887572288513184, 0.23233485221862793))\n",
            "('test_time', (0.013696908950805664, 0.014677762985229492, 0.023014068603515625, 0.013303518295288086, 0.01012730598449707))\n",
            "-------------------\n",
            "2.7382669464287313\n"
          ],
          "name": "stdout"
        }
      ]
    },
    {
      "cell_type": "markdown",
      "metadata": {
        "id": "FhqNA7M4LKXP",
        "colab_type": "text"
      },
      "source": [
        "*** Not as good as the above ***"
      ]
    },
    {
      "cell_type": "markdown",
      "metadata": {
        "id": "w0sTEu4PnE-A",
        "colab_type": "text"
      },
      "source": [
        "## Cross Validate with KNNBaseline using pearson baseline"
      ]
    },
    {
      "cell_type": "code",
      "metadata": {
        "id": "XUApxrARThBC",
        "colab_type": "code",
        "colab": {}
      },
      "source": [
        "knn_pearson_baseline = KNNBaseline(sim_options={'name': 'pearson_baseline', 'user_based':True})\n",
        "cv_knn_pearson_baseline = cross_validate(knn_pearson_baseline, anime_loaded_data, n_jobs=3)"
      ],
      "execution_count": 0,
      "outputs": []
    },
    {
      "cell_type": "code",
      "metadata": {
        "id": "Y5AyqnDMTnu1",
        "colab_type": "code",
        "outputId": "665017bb-19a7-47cb-f2c8-b55fae7db35f",
        "colab": {
          "base_uri": "https://localhost:8080/",
          "height": 115
        }
      },
      "source": [
        "for i in cv_knn_pearson_baseline.items():\n",
        "  print(i)\n",
        "print('-------------------')\n",
        "print(np.mean(cv_knn_pearson_baseline['test_rmse']))"
      ],
      "execution_count": 59,
      "outputs": [
        {
          "output_type": "stream",
          "text": [
            "('test_rmse', array([2.71919106, 2.71348484, 2.75753513, 2.75826032, 2.74262648]))\n",
            "('test_mae', array([2.626, 2.621, 2.664, 2.664, 2.65 ]))\n",
            "('fit_time', (0.4426238536834717, 0.4328491687774658, 0.5683281421661377, 0.49898815155029297, 0.4249231815338135))\n",
            "('test_time', (0.01666116714477539, 0.021939516067504883, 0.012817144393920898, 0.013846158981323242, 0.015468835830688477))\n",
            "-------------------\n",
            "2.738219566270913\n"
          ],
          "name": "stdout"
        }
      ]
    },
    {
      "cell_type": "markdown",
      "metadata": {
        "id": "XiXOqpmCL-Vi",
        "colab_type": "text"
      },
      "source": [
        "*** hmmmm... this is a realistic number for an average rmse score but varies greatly from the other scores, looks similar to the models I added in at the top ***"
      ]
    },
    {
      "cell_type": "markdown",
      "metadata": {
        "id": "rKUymG4NULeY",
        "colab_type": "text"
      },
      "source": [
        "## KNN with Means "
      ]
    },
    {
      "cell_type": "code",
      "metadata": {
        "id": "ITdq6J1RUPWx",
        "colab_type": "code",
        "colab": {}
      },
      "source": [
        "knn_means = KNNWithMeans(sim_options={'name': 'pearson', 'user_based': True})\n",
        "cv_knn_means = cross_validate(knn_means, anime_loaded_data, n_jobs=3)"
      ],
      "execution_count": 0,
      "outputs": []
    },
    {
      "cell_type": "code",
      "metadata": {
        "id": "zXPB7MwgWFpF",
        "colab_type": "code",
        "outputId": "125dfa87-7302-4799-f33f-640fa697430b",
        "colab": {
          "base_uri": "https://localhost:8080/",
          "height": 115
        }
      },
      "source": [
        "for i in cv_knn_means.items():\n",
        "  print(i)\n",
        "print('------------')\n",
        "print(np.mean(cv_knn_means['test_rmse']))"
      ],
      "execution_count": 61,
      "outputs": [
        {
          "output_type": "stream",
          "text": [
            "('test_rmse', array([2.71090391, 2.74007299, 2.73824761, 2.74011861, 2.76242647]))\n",
            "('test_mae', array([2.621 , 2.65  , 2.648 , 2.6395, 2.667 ]))\n",
            "('fit_time', (0.5738744735717773, 0.647700309753418, 0.7156872749328613, 0.6148128509521484, 0.43088507652282715))\n",
            "('test_time', (0.03454136848449707, 0.014249801635742188, 0.029691457748413086, 0.014998435974121094, 0.008639812469482422))\n",
            "------------\n",
            "2.738353919002121\n"
          ],
          "name": "stdout"
        }
      ]
    },
    {
      "cell_type": "code",
      "metadata": {
        "id": "MlK-xFjHWIme",
        "colab_type": "code",
        "colab": {}
      },
      "source": [
        "knn_means_msd = KNNWithMeans(sim_options={'name': 'msd', 'user_based':True})\n",
        "cv_knn_means_msd = cross_validate(knn_means_msd, anime_loaded_data, n_jobs = 2)"
      ],
      "execution_count": 0,
      "outputs": []
    },
    {
      "cell_type": "code",
      "metadata": {
        "id": "wgQwNAVpWvxd",
        "colab_type": "code",
        "outputId": "79ab927b-fe85-48b4-9239-bdefc9f22107",
        "colab": {
          "base_uri": "https://localhost:8080/",
          "height": 115
        }
      },
      "source": [
        "for i in cv_knn_means_msd.items():\n",
        "  print(i)\n",
        "print('-------------')\n",
        "print(np.mean(cv_knn_means_msd['test_rmse']))"
      ],
      "execution_count": 63,
      "outputs": [
        {
          "output_type": "stream",
          "text": [
            "('test_rmse', array([2.71955879, 2.71293199, 2.72511468, 2.79749888, 2.73733447]))\n",
            "('test_mae', array([2.622 , 2.624 , 2.6295, 2.712 , 2.639 ]))\n",
            "('fit_time', (0.3162648677825928, 0.5089662075042725, 0.3953084945678711, 0.35918235778808594, 0.2595798969268799))\n",
            "('test_time', (0.013842582702636719, 0.01462101936340332, 0.017444849014282227, 0.013962984085083008, 0.0077211856842041016))\n",
            "-------------\n",
            "2.7384877620586456\n"
          ],
          "name": "stdout"
        }
      ]
    },
    {
      "cell_type": "markdown",
      "metadata": {
        "id": "htjUIhGTMY-h",
        "colab_type": "text"
      },
      "source": [
        "*** This is a lot better than the KNNBaseline ***"
      ]
    },
    {
      "cell_type": "markdown",
      "metadata": {
        "id": "3PqAJcuNXIiX",
        "colab_type": "text"
      },
      "source": [
        "## Tuning the Best Algorithm with GridSearchCV\n",
        "Best model so far is KNN Baseline with Mean Squared Distance"
      ]
    },
    {
      "cell_type": "code",
      "metadata": {
        "id": "sXz8F2wHXNBP",
        "colab_type": "code",
        "outputId": "79693793-0095-4fdd-c120-96d9554efa20",
        "colab": {
          "base_uri": "https://localhost:8080/",
          "height": 82
        }
      },
      "source": [
        "param_grid = {'n_factors': [5, 20, 100], \n",
        "              'n_epochs': [5,10], \n",
        "              'lr_all': [.002, .005], \n",
        "              'reg_all': [.02, .05, .5]}\n",
        "knn_withmeans_gs = GridSearchCV(KNNWithMeans, param_grid=param_grid, n_jobs=3, joblib_verbose=3)\n",
        "knn_withmeans_gs.fit(anime_loaded_data)"
      ],
      "execution_count": 64,
      "outputs": [
        {
          "output_type": "stream",
          "text": [
            "[Parallel(n_jobs=3)]: Using backend LokyBackend with 3 concurrent workers.\n",
            "[Parallel(n_jobs=3)]: Done  26 tasks      | elapsed:    7.5s\n",
            "[Parallel(n_jobs=3)]: Done 122 tasks      | elapsed:   33.0s\n",
            "[Parallel(n_jobs=3)]: Done 180 out of 180 | elapsed:   48.0s finished\n"
          ],
          "name": "stderr"
        }
      ]
    },
    {
      "cell_type": "code",
      "metadata": {
        "id": "q2IabmRkX5xZ",
        "colab_type": "code",
        "outputId": "9d3afabf-e03e-4481-b08a-e513f0703da5",
        "colab": {
          "base_uri": "https://localhost:8080/",
          "height": 70
        }
      },
      "source": [
        "print(knn_withmeans_gs.best_score)\n",
        "print(knn_withmeans_gs.best_params)"
      ],
      "execution_count": 65,
      "outputs": [
        {
          "output_type": "stream",
          "text": [
            "{'rmse': 2.7384489304896413, 'mae': 2.6452}\n",
            "{'rmse': {'n_factors': 5, 'n_epochs': 5, 'lr_all': 0.002, 'reg_all': 0.02}, 'mae': {'n_factors': 5, 'n_epochs': 5, 'lr_all': 0.002, 'reg_all': 0.02}}\n"
          ],
          "name": "stdout"
        }
      ]
    },
    {
      "cell_type": "code",
      "metadata": {
        "id": "ftuslWl7X78D",
        "colab_type": "code",
        "colab": {}
      },
      "source": [
        "#Now use this to fit test set, initial gridsearch was 2.77096, so will use that gs here\n",
        "highest_perf_algo = gridsearch_svd1.best_estimator['rmse']"
      ],
      "execution_count": 0,
      "outputs": []
    },
    {
      "cell_type": "code",
      "metadata": {
        "id": "UM_woiDrX8NF",
        "colab_type": "code",
        "outputId": "f38a12b3-c770-4c84-bb9d-902dff030a62",
        "colab": {
          "base_uri": "https://localhost:8080/",
          "height": 33
        }
      },
      "source": [
        "#retrain the whole set\n",
        "trainset = anime_loaded_data.build_full_trainset()\n",
        "highest_perf_algo.fit(trainset)"
      ],
      "execution_count": 67,
      "outputs": [
        {
          "output_type": "execute_result",
          "data": {
            "text/plain": [
              "<surprise.prediction_algorithms.matrix_factorization.SVD at 0x7f4d1e181160>"
            ]
          },
          "metadata": {
            "tags": []
          },
          "execution_count": 67
        }
      ]
    },
    {
      "cell_type": "code",
      "metadata": {
        "id": "zyob26pZZ_FK",
        "colab_type": "code",
        "outputId": "f74b8c9d-37fb-4169-a086-f6aa3d709be3",
        "colab": {
          "base_uri": "https://localhost:8080/",
          "height": 50
        }
      },
      "source": [
        "#Biased Accuracy on trainset\n",
        "predictions = highest_perf_algo.test(trainset.build_testset())\n",
        "print('Biased accuracy on Trainset', end='')\n",
        "accuracy.rmse(predictions)"
      ],
      "execution_count": 68,
      "outputs": [
        {
          "output_type": "stream",
          "text": [
            "Biased accuracy on TrainsetRMSE: 2.7383\n"
          ],
          "name": "stdout"
        },
        {
          "output_type": "execute_result",
          "data": {
            "text/plain": [
              "2.7382841342709487"
            ]
          },
          "metadata": {
            "tags": []
          },
          "execution_count": 68
        }
      ]
    },
    {
      "cell_type": "code",
      "metadata": {
        "id": "qVADRznNZ_2s",
        "colab_type": "code",
        "outputId": "db7d836c-88cb-4aa0-a065-ef08e2053261",
        "colab": {
          "base_uri": "https://localhost:8080/",
          "height": 50
        }
      },
      "source": [
        "#UnBiased Accuracy on testset\n",
        "predictions = highest_perf_algo.test(testset)\n",
        "print('Unbiased Accuracy on test', end='')\n",
        "accuracy.rmse(predictions)"
      ],
      "execution_count": 69,
      "outputs": [
        {
          "output_type": "stream",
          "text": [
            "Unbiased Accuracy on testRMSE: 2.7194\n"
          ],
          "name": "stdout"
        },
        {
          "output_type": "execute_result",
          "data": {
            "text/plain": [
              "2.7193749281774293"
            ]
          },
          "metadata": {
            "tags": []
          },
          "execution_count": 69
        }
      ]
    },
    {
      "cell_type": "markdown",
      "metadata": {
        "id": "JHgNVmhJ4uTk",
        "colab_type": "text"
      },
      "source": [
        "# Collaborative Models"
      ]
    },
    {
      "cell_type": "code",
      "metadata": {
        "id": "WW50kuym4rGS",
        "colab_type": "code",
        "colab": {}
      },
      "source": [
        "class MyDataset(dataset.DatasetAutoFolds):\n",
        "  #surprise.dataset.DatasetAutoFolds creates a surprise friendly dataset\n",
        "  #this will give it folds so that cross validation can be performed efficiently\n",
        "  def __init__(self, sample, reader):\n",
        "    self.sample = [(uid, iid, r, None) for (uid, iid, r) in \n",
        "                   zip (sample['user_id'], sample['anime_id'], sample['rating_x'])]\n",
        "    self.reader = reader"
      ],
      "execution_count": 0,
      "outputs": []
    },
    {
      "cell_type": "code",
      "metadata": {
        "id": "1I5TmdbF4rSI",
        "colab_type": "code",
        "colab": {}
      },
      "source": [
        "# #instantiate the reader parser object\n",
        "#reader = Reader(line_format = 'user item rating', rating_scale = (0.0, 10.0))"
      ],
      "execution_count": 0,
      "outputs": []
    },
    {
      "cell_type": "code",
      "metadata": {
        "id": "OaA2fqQS4rcV",
        "colab_type": "code",
        "colab": {}
      },
      "source": [
        "# #parse sample set into a surprise friendly dataset\n",
        "#data = MyDataset(sample, reader)"
      ],
      "execution_count": 0,
      "outputs": []
    },
    {
      "cell_type": "code",
      "metadata": {
        "id": "O84FyspwrvZ2",
        "colab_type": "code",
        "colab": {}
      },
      "source": [
        "reader = Reader(line_format = 'user item rating', rating_scale = (0.0, 10.0))\n",
        "data = sample[['user_id', 'anime_id', 'rating_x']]\n",
        "anime_data = Dataset.load_from_df(data, reader)"
      ],
      "execution_count": 0,
      "outputs": []
    },
    {
      "cell_type": "code",
      "metadata": {
        "id": "FYOEyoGj7FBr",
        "colab_type": "code",
        "outputId": "ac74d003-74cd-46be-e42d-1ae546961211",
        "colab": {
          "base_uri": "https://localhost:8080/",
          "height": 33
        }
      },
      "source": [
        "type(data)"
      ],
      "execution_count": 74,
      "outputs": [
        {
          "output_type": "execute_result",
          "data": {
            "text/plain": [
              "pandas.core.frame.DataFrame"
            ]
          },
          "metadata": {
            "tags": []
          },
          "execution_count": 74
        }
      ]
    },
    {
      "cell_type": "markdown",
      "metadata": {
        "id": "U84mcHh7W0B3",
        "colab_type": "text"
      },
      "source": [
        "# Train Validation Split"
      ]
    },
    {
      "cell_type": "code",
      "metadata": {
        "id": "NIDFfBZfrxkj",
        "colab_type": "code",
        "colab": {}
      },
      "source": [
        "trainset, testset = train_test_split(anime_data, test_size=.2)"
      ],
      "execution_count": 0,
      "outputs": []
    },
    {
      "cell_type": "markdown",
      "metadata": {
        "id": "swEKWiOhP5sL",
        "colab_type": "text"
      },
      "source": [
        "# Memory Based Knn Method"
      ]
    },
    {
      "cell_type": "markdown",
      "metadata": {
        "id": "JSk1rpsyR147",
        "colab_type": "text"
      },
      "source": [
        "## KNN Basic with cosine similarity"
      ]
    },
    {
      "cell_type": "code",
      "metadata": {
        "id": "2VNfsQ10yTjN",
        "colab_type": "code",
        "colab": {}
      },
      "source": [
        "#cosine similarity \n",
        "sim_cos = {'name': 'cosine', 'user_based':True}\n",
        "\n",
        "#instantiate the model with the similarity setting\n",
        "knn_sim_cos = knns.KNNBasic(sim_options=sim_cos)"
      ],
      "execution_count": 0,
      "outputs": []
    },
    {
      "cell_type": "code",
      "metadata": {
        "id": "x1YrCWVAyTq1",
        "colab_type": "code",
        "outputId": "2557f39e-b778-4c8b-ad4d-6e15a398d9de",
        "colab": {
          "base_uri": "https://localhost:8080/",
          "height": 163
        }
      },
      "source": [
        "# fit the model\n",
        "sim_cos_cv = cross_validate(knn_sim_cos, anime_data, measures=['rmse', 'mae'], cv=3,\n",
        "                            return_train_measures=True, n_jobs=3, verbose=True)"
      ],
      "execution_count": 77,
      "outputs": [
        {
          "output_type": "stream",
          "text": [
            "Evaluating RMSE, MAE of algorithm KNNBasic on 3 split(s).\n",
            "\n",
            "                  Fold 1  Fold 2  Fold 3  Mean    Std     \n",
            "RMSE (testset)    0.7196  0.6966  0.7528  0.7230  0.0231  \n",
            "MAE (testset)     0.6048  0.5910  0.6136  0.6031  0.0093  \n",
            "RMSE (trainset)   0.0000  0.0000  0.0000  0.0000  0.0000  \n",
            "MAE (trainset)    0.0000  0.0000  0.0000  0.0000  0.0000  \n",
            "Fit time          0.27    0.42    0.24    0.31    0.08    \n",
            "Test time         0.03    0.02    0.01    0.02    0.01    \n"
          ],
          "name": "stdout"
        }
      ]
    },
    {
      "cell_type": "markdown",
      "metadata": {
        "id": "wZS9eDbwZyAN",
        "colab_type": "text"
      },
      "source": [
        "*** "
      ]
    },
    {
      "cell_type": "markdown",
      "metadata": {
        "id": "CyUlUIHDb9EW",
        "colab_type": "text"
      },
      "source": [
        "### The test set is not great but not terribly bad. I am not sure why the train set is not showing up. "
      ]
    },
    {
      "cell_type": "markdown",
      "metadata": {
        "id": "qyoAWKO1XnOl",
        "colab_type": "text"
      },
      "source": [
        "## 2nd Model: KNN Basic (item based)"
      ]
    },
    {
      "cell_type": "code",
      "metadata": {
        "id": "l5-_dnNSyT1S",
        "colab_type": "code",
        "colab": {}
      },
      "source": [
        "#cosine similarity \n",
        "sim_cos = {'name': 'cosine', 'user_based': False}\n",
        "\n",
        "#instantiate the knnBasic with sim_cos settings\n",
        "knn_basic_simcos = knns.KNNBasic(sim_options=sim_cos)\n"
      ],
      "execution_count": 0,
      "outputs": []
    },
    {
      "cell_type": "code",
      "metadata": {
        "id": "WHD_Fu8myTyw",
        "colab_type": "code",
        "outputId": "e78be8a3-6571-4449-d318-8107b815d228",
        "colab": {
          "base_uri": "https://localhost:8080/",
          "height": 163
        }
      },
      "source": [
        "#fit the model \n",
        "cv_knn_basic_simcos = cross_validate(knn_basic_simcos, anime_data, measures=['rmse', 'mae'], cv =3, return_train_measures=True, n_jobs=3, verbose=True)"
      ],
      "execution_count": 79,
      "outputs": [
        {
          "output_type": "stream",
          "text": [
            "Evaluating RMSE, MAE of algorithm KNNBasic on 3 split(s).\n",
            "\n",
            "                  Fold 1  Fold 2  Fold 3  Mean    Std     \n",
            "RMSE (testset)    0.7166  0.7309  0.7222  0.7232  0.0059  \n",
            "MAE (testset)     0.6025  0.6036  0.6020  0.6027  0.0007  \n",
            "RMSE (trainset)   0.3652  0.3589  0.3712  0.3651  0.0050  \n",
            "MAE (trainset)    0.1801  0.1778  0.1901  0.1827  0.0054  \n",
            "Fit time          0.11    0.14    0.09    0.11    0.02    \n",
            "Test time         0.02    0.04    0.01    0.02    0.01    \n"
          ],
          "name": "stdout"
        }
      ]
    },
    {
      "cell_type": "code",
      "metadata": {
        "id": "KszSZLcOyTv4",
        "colab_type": "code",
        "colab": {}
      },
      "source": [
        "#This one performed better than the last and the trainset is showing up. WOOH!"
      ],
      "execution_count": 0,
      "outputs": []
    },
    {
      "cell_type": "markdown",
      "metadata": {
        "id": "GogIlC2UdBuL",
        "colab_type": "text"
      },
      "source": [
        "##3rd Baseline Model: A user based pearson similarity using KNNBasline"
      ]
    },
    {
      "cell_type": "code",
      "metadata": {
        "id": "dA7jI1jE7E9h",
        "colab_type": "code",
        "colab": {}
      },
      "source": [
        "sim_pearson = {'name': 'pearson', 'user_based': True}\n",
        "\n",
        "#instantiate KNNBasline with pearson \n",
        "knn_baseline_pearson = knns.KNNBaseline(sim_options=sim_pearson)"
      ],
      "execution_count": 0,
      "outputs": []
    },
    {
      "cell_type": "code",
      "metadata": {
        "id": "61cuIDITdBQu",
        "colab_type": "code",
        "outputId": "435307ae-2cdd-4ab6-e6be-f31133cf3637",
        "colab": {
          "base_uri": "https://localhost:8080/",
          "height": 163
        }
      },
      "source": [
        "#fit and cross validate model \n",
        "cv_knnbaseline_simpearson = cross_validate(knn_baseline_pearson, anime_loaded_data, measures=['rmse', 'mae'], cv=3,\n",
        "                                           return_train_measures=True, n_jobs=2, verbose=True)"
      ],
      "execution_count": 82,
      "outputs": [
        {
          "output_type": "stream",
          "text": [
            "Evaluating RMSE, MAE of algorithm KNNBaseline on 3 split(s).\n",
            "\n",
            "                  Fold 1  Fold 2  Fold 3  Mean    Std     \n",
            "RMSE (testset)    2.7273  2.7496  2.7380  2.7383  0.0091  \n",
            "MAE (testset)     2.6329  2.6569  2.6453  2.6450  0.0098  \n",
            "RMSE (trainset)   2.7426  2.7326  2.7373  2.7375  0.0041  \n",
            "MAE (trainset)    2.6481  2.6388  2.6422  2.6430  0.0038  \n",
            "Fit time          0.45    0.38    0.25    0.36    0.08    \n",
            "Test time         0.02    0.03    0.01    0.02    0.01    \n"
          ],
          "name": "stdout"
        }
      ]
    },
    {
      "cell_type": "markdown",
      "metadata": {
        "id": "tdij6Cqbd2EZ",
        "colab_type": "text"
      },
      "source": [
        "### This user based model with sim pearson did not do as well. Again, user based does not produce trainset results"
      ]
    },
    {
      "cell_type": "markdown",
      "metadata": {
        "id": "55I_IAJAeCCP",
        "colab_type": "text"
      },
      "source": [
        "## 4th Model: Item based pearson similarity using KNNBaseline"
      ]
    },
    {
      "cell_type": "code",
      "metadata": {
        "id": "kV3ZeGvweA9p",
        "colab_type": "code",
        "colab": {}
      },
      "source": [
        "sim_pearson = {'name':'pearson', 'user_based': False}\n",
        "\n",
        "#instantiate KNNBasline \n",
        "knn_baseline_item = knns.KNNBaseline(sim_options=sim_pearson)"
      ],
      "execution_count": 0,
      "outputs": []
    },
    {
      "cell_type": "code",
      "metadata": {
        "id": "6s_PCGYteBNO",
        "colab_type": "code",
        "outputId": "8a89de51-cace-4866-de95-e2077dcd809b",
        "colab": {
          "base_uri": "https://localhost:8080/",
          "height": 163
        }
      },
      "source": [
        "#fit and cross validate\n",
        "cv_knnbaseline_item = cross_validate(knn_baseline_item, anime_loaded_data, measures=['rmse', 'mae'], cv=3, \n",
        "                                     return_train_measures=True, n_jobs=3, verbose=True)"
      ],
      "execution_count": 84,
      "outputs": [
        {
          "output_type": "stream",
          "text": [
            "Evaluating RMSE, MAE of algorithm KNNBaseline on 3 split(s).\n",
            "\n",
            "                  Fold 1  Fold 2  Fold 3  Mean    Std     \n",
            "RMSE (testset)    2.7167  2.7463  2.7517  2.7382  0.0154  \n",
            "MAE (testset)     2.6257  2.6449  2.6645  2.6450  0.0158  \n",
            "RMSE (trainset)   2.7479  2.7337  2.7308  2.7375  0.0075  \n",
            "MAE (trainset)    2.6523  2.6436  2.6332  2.6430  0.0078  \n",
            "Fit time          0.19    0.17    0.12    0.16    0.03    \n",
            "Test time         0.02    0.02    0.01    0.02    0.00    \n"
          ],
          "name": "stdout"
        }
      ]
    },
    {
      "cell_type": "markdown",
      "metadata": {
        "id": "8G3jVjnXe8Hz",
        "colab_type": "text"
      },
      "source": [
        "### This model hasn't performed well and also for some reason has not given trainset RMSE and MAE"
      ]
    },
    {
      "cell_type": "markdown",
      "metadata": {
        "id": "QKhbNDhEfFiH",
        "colab_type": "text"
      },
      "source": [
        "## 5th Model: User based using KNNWithMeans with pearson "
      ]
    },
    {
      "cell_type": "code",
      "metadata": {
        "id": "vTBSUY7UeBXG",
        "colab_type": "code",
        "colab": {}
      },
      "source": [
        "sim_pearson = {'name': 'pearson', 'user_based': True}\n",
        "\n",
        "#instantiating KNNWithMeans\n",
        "knn_withmeans_user = knns.KNNWithMeans(sim_options=sim_pearson)"
      ],
      "execution_count": 0,
      "outputs": []
    },
    {
      "cell_type": "code",
      "metadata": {
        "id": "iJwZlGi5fbtl",
        "colab_type": "code",
        "outputId": "19d780cc-8467-4529-c397-acc8fcdf26bb",
        "colab": {
          "base_uri": "https://localhost:8080/",
          "height": 163
        }
      },
      "source": [
        "#fit and cross validate \n",
        "cv_knnwithmeans_user = cross_validate(knn_withmeans_user, anime_loaded_data, measures=['rmse','mae'], cv=3, return_train_measures=True, \n",
        "                                      n_jobs=3, verbose=True)"
      ],
      "execution_count": 86,
      "outputs": [
        {
          "output_type": "stream",
          "text": [
            "Evaluating RMSE, MAE of algorithm KNNWithMeans on 3 split(s).\n",
            "\n",
            "                  Fold 1  Fold 2  Fold 3  Mean    Std     \n",
            "RMSE (testset)    2.7223  2.7388  2.7548  2.7386  0.0133  \n",
            "MAE (testset)     2.6320  2.6419  2.6621  2.6453  0.0125  \n",
            "RMSE (trainset)   2.7453  2.7374  2.7297  2.7375  0.0063  \n",
            "MAE (trainset)    2.6490  2.6451  2.6350  2.6430  0.0059  \n",
            "Fit time          0.38    0.46    0.37    0.40    0.04    \n",
            "Test time         0.06    0.02    0.01    0.03    0.02    \n"
          ],
          "name": "stdout"
        }
      ]
    },
    {
      "cell_type": "markdown",
      "metadata": {
        "id": "NFeaMCKafcTW",
        "colab_type": "text"
      },
      "source": [
        "#### This test set has the best performance yet, but no idea why the trainset is not showing up. "
      ]
    },
    {
      "cell_type": "markdown",
      "metadata": {
        "id": "T4vAso0xf4Hi",
        "colab_type": "text"
      },
      "source": [
        "## 6th Model: KNNWithMeans but item based"
      ]
    },
    {
      "cell_type": "code",
      "metadata": {
        "id": "MY4KjDsWf-h3",
        "colab_type": "code",
        "colab": {}
      },
      "source": [
        "sim_pearson = {'name': 'pearson', 'user_based':False}\n",
        "\n",
        "#instantiate \n",
        "knn_withmeans_item = knns.KNNWithMeans(sim_options=sim_pearson)\n"
      ],
      "execution_count": 0,
      "outputs": []
    },
    {
      "cell_type": "code",
      "metadata": {
        "id": "hc43Ggq7f-t8",
        "colab_type": "code",
        "outputId": "c587cb61-cd45-47f9-e438-6096d2cb1aba",
        "colab": {
          "base_uri": "https://localhost:8080/",
          "height": 163
        }
      },
      "source": [
        "#fit and cross validate\n",
        "cv_knnwithmeans_item = cross_validate(knn_withmeans_item, anime_loaded_data, measures=['rmse', 'mae'], cv=3,\n",
        "                                      return_train_measures=True, n_jobs=3, verbose=True)"
      ],
      "execution_count": 88,
      "outputs": [
        {
          "output_type": "stream",
          "text": [
            "Evaluating RMSE, MAE of algorithm KNNWithMeans on 3 split(s).\n",
            "\n",
            "                  Fold 1  Fold 2  Fold 3  Mean    Std     \n",
            "RMSE (testset)    2.7558  2.7202  2.7376  2.7379  0.0145  \n",
            "MAE (testset)     2.6671  2.6233  2.6423  2.6442  0.0179  \n",
            "RMSE (trainset)   2.7283  2.7466  2.7376  2.7375  0.0075  \n",
            "MAE (trainset)    2.6310  2.6538  2.6443  2.6430  0.0094  \n",
            "Fit time          0.15    0.24    0.13    0.17    0.05    \n",
            "Test time         0.02    0.02    0.01    0.02    0.00    \n"
          ],
          "name": "stdout"
        }
      ]
    },
    {
      "cell_type": "markdown",
      "metadata": {
        "id": "rNNVKItUf_Gn",
        "colab_type": "text"
      },
      "source": [
        "#### The item based for pearson on the KNNWithMeans does not perform as well"
      ]
    },
    {
      "cell_type": "markdown",
      "metadata": {
        "id": "_V-oXnJQgu0N",
        "colab_type": "text"
      },
      "source": [
        "# Model Based Methods"
      ]
    },
    {
      "cell_type": "markdown",
      "metadata": {
        "id": "d-swWJpvg9hk",
        "colab_type": "text"
      },
      "source": [
        "## Alternating Least Squares"
      ]
    },
    {
      "cell_type": "markdown",
      "metadata": {
        "id": "IEe7MotMhC58",
        "colab_type": "text"
      },
      "source": [
        "### 7th Model with hyperparameter tuning"
      ]
    },
    {
      "cell_type": "code",
      "metadata": {
        "id": "RgDs7Lj5nrZy",
        "colab_type": "code",
        "colab": {}
      },
      "source": [
        "from surprise.prediction_algorithms import baseline_only"
      ],
      "execution_count": 0,
      "outputs": []
    },
    {
      "cell_type": "code",
      "metadata": {
        "id": "5CKoc6Obms3y",
        "colab_type": "code",
        "colab": {}
      },
      "source": [
        "bsl_options = {'method': 'als',\n",
        "               'n_epochs': [3,5,10,20],\n",
        "               'reg_u':[5,10,12,15,20],\n",
        "               'reg_i':[3,5,10,15]}\n",
        "#instantiate\n",
        "als_algo = baseline_only.BaselineOnly(bsl_options = bsl_options)"
      ],
      "execution_count": 0,
      "outputs": []
    },
    {
      "cell_type": "code",
      "metadata": {
        "id": "9tQupyVD9XCQ",
        "colab_type": "code",
        "outputId": "8e741156-09cf-4272-90f8-5b2f47738d80",
        "colab": {
          "base_uri": "https://localhost:8080/",
          "height": 33
        }
      },
      "source": [
        "als_algo"
      ],
      "execution_count": 91,
      "outputs": [
        {
          "output_type": "execute_result",
          "data": {
            "text/plain": [
              "<surprise.prediction_algorithms.baseline_only.BaselineOnly at 0x7f4d1e8d2390>"
            ]
          },
          "metadata": {
            "tags": []
          },
          "execution_count": 91
        }
      ]
    },
    {
      "cell_type": "code",
      "metadata": {
        "id": "1b0kQX7Un2GG",
        "colab_type": "code",
        "outputId": "f0d7440b-477f-40e2-ce75-450bc921a503",
        "colab": {
          "base_uri": "https://localhost:8080/",
          "height": 771
        }
      },
      "source": [
        "#fit and cross validate\n",
        "\n",
        "cv_als = cross_validate(als_algo, anime_loaded_data, measures=['rmse'], return_train_measures=True, n_jobs = 3, verbose=True)"
      ],
      "execution_count": 92,
      "outputs": [
        {
          "output_type": "error",
          "ename": "TypeError",
          "evalue": "ignored",
          "traceback": [
            "\u001b[0;31m---------------------------------------------------------------------------\u001b[0m",
            "\u001b[0;31m_RemoteTraceback\u001b[0m                          Traceback (most recent call last)",
            "\u001b[0;31m_RemoteTraceback\u001b[0m: \n\"\"\"\nTraceback (most recent call last):\n  File \"/usr/local/lib/python3.6/dist-packages/joblib/externals/loky/process_executor.py\", line 431, in _process_worker\n    r = call_item()\n  File \"/usr/local/lib/python3.6/dist-packages/joblib/externals/loky/process_executor.py\", line 285, in __call__\n    return self.fn(*self.args, **self.kwargs)\n  File \"/usr/local/lib/python3.6/dist-packages/joblib/_parallel_backends.py\", line 593, in __call__\n    return self.func(*args, **kwargs)\n  File \"/usr/local/lib/python3.6/dist-packages/joblib/parallel.py\", line 253, in __call__\n    for func, args, kwargs in self.items]\n  File \"/usr/local/lib/python3.6/dist-packages/joblib/parallel.py\", line 253, in <listcomp>\n    for func, args, kwargs in self.items]\n  File \"/usr/local/lib/python3.6/dist-packages/surprise/model_selection/validation.py\", line 164, in fit_and_score\n    algo.fit(trainset)\n  File \"/usr/local/lib/python3.6/dist-packages/surprise/prediction_algorithms/baseline_only.py\", line 36, in fit\n    self.bu, self.bi = self.compute_baselines()\n  File \"/usr/local/lib/python3.6/dist-packages/surprise/prediction_algorithms/algo_base.py\", line 200, in compute_baselines\n    self.bu, self.bi = method[method_name](self)\n  File \"surprise/prediction_algorithms/optimize_baselines.pyx\", line 36, in surprise.prediction_algorithms.optimize_baselines.baseline_als\nTypeError: an integer is required\n\"\"\"",
            "\nThe above exception was the direct cause of the following exception:\n",
            "\u001b[0;31mTypeError\u001b[0m                                 Traceback (most recent call last)",
            "\u001b[0;32m<ipython-input-92-9d2b4fa3aee1>\u001b[0m in \u001b[0;36m<module>\u001b[0;34m()\u001b[0m\n\u001b[1;32m      1\u001b[0m \u001b[0;31m#fit and cross validate\u001b[0m\u001b[0;34m\u001b[0m\u001b[0;34m\u001b[0m\u001b[0;34m\u001b[0m\u001b[0m\n\u001b[1;32m      2\u001b[0m \u001b[0;34m\u001b[0m\u001b[0m\n\u001b[0;32m----> 3\u001b[0;31m \u001b[0mcv_als\u001b[0m \u001b[0;34m=\u001b[0m \u001b[0mcross_validate\u001b[0m\u001b[0;34m(\u001b[0m\u001b[0mals_algo\u001b[0m\u001b[0;34m,\u001b[0m \u001b[0manime_loaded_data\u001b[0m\u001b[0;34m,\u001b[0m \u001b[0mmeasures\u001b[0m\u001b[0;34m=\u001b[0m\u001b[0;34m[\u001b[0m\u001b[0;34m'rmse'\u001b[0m\u001b[0;34m]\u001b[0m\u001b[0;34m,\u001b[0m \u001b[0mreturn_train_measures\u001b[0m\u001b[0;34m=\u001b[0m\u001b[0;32mTrue\u001b[0m\u001b[0;34m,\u001b[0m \u001b[0mn_jobs\u001b[0m \u001b[0;34m=\u001b[0m \u001b[0;36m3\u001b[0m\u001b[0;34m,\u001b[0m \u001b[0mverbose\u001b[0m\u001b[0;34m=\u001b[0m\u001b[0;32mTrue\u001b[0m\u001b[0;34m)\u001b[0m\u001b[0;34m\u001b[0m\u001b[0;34m\u001b[0m\u001b[0m\n\u001b[0m",
            "\u001b[0;32m/usr/local/lib/python3.6/dist-packages/surprise/model_selection/validation.py\u001b[0m in \u001b[0;36mcross_validate\u001b[0;34m(algo, data, measures, cv, return_train_measures, n_jobs, pre_dispatch, verbose)\u001b[0m\n\u001b[1;32m     99\u001b[0m                                            return_train_measures)\n\u001b[1;32m    100\u001b[0m                     for (trainset, testset) in cv.split(data))\n\u001b[0;32m--> 101\u001b[0;31m     \u001b[0mout\u001b[0m \u001b[0;34m=\u001b[0m \u001b[0mParallel\u001b[0m\u001b[0;34m(\u001b[0m\u001b[0mn_jobs\u001b[0m\u001b[0;34m=\u001b[0m\u001b[0mn_jobs\u001b[0m\u001b[0;34m,\u001b[0m \u001b[0mpre_dispatch\u001b[0m\u001b[0;34m=\u001b[0m\u001b[0mpre_dispatch\u001b[0m\u001b[0;34m)\u001b[0m\u001b[0;34m(\u001b[0m\u001b[0mdelayed_list\u001b[0m\u001b[0;34m)\u001b[0m\u001b[0;34m\u001b[0m\u001b[0;34m\u001b[0m\u001b[0m\n\u001b[0m\u001b[1;32m    102\u001b[0m \u001b[0;34m\u001b[0m\u001b[0m\n\u001b[1;32m    103\u001b[0m     (test_measures_dicts,\n",
            "\u001b[0;32m/usr/local/lib/python3.6/dist-packages/joblib/parallel.py\u001b[0m in \u001b[0;36m__call__\u001b[0;34m(self, iterable)\u001b[0m\n\u001b[1;32m   1040\u001b[0m \u001b[0;34m\u001b[0m\u001b[0m\n\u001b[1;32m   1041\u001b[0m             \u001b[0;32mwith\u001b[0m \u001b[0mself\u001b[0m\u001b[0;34m.\u001b[0m\u001b[0m_backend\u001b[0m\u001b[0;34m.\u001b[0m\u001b[0mretrieval_context\u001b[0m\u001b[0;34m(\u001b[0m\u001b[0;34m)\u001b[0m\u001b[0;34m:\u001b[0m\u001b[0;34m\u001b[0m\u001b[0;34m\u001b[0m\u001b[0m\n\u001b[0;32m-> 1042\u001b[0;31m                 \u001b[0mself\u001b[0m\u001b[0;34m.\u001b[0m\u001b[0mretrieve\u001b[0m\u001b[0;34m(\u001b[0m\u001b[0;34m)\u001b[0m\u001b[0;34m\u001b[0m\u001b[0;34m\u001b[0m\u001b[0m\n\u001b[0m\u001b[1;32m   1043\u001b[0m             \u001b[0;31m# Make sure that we get a last message telling us we are done\u001b[0m\u001b[0;34m\u001b[0m\u001b[0;34m\u001b[0m\u001b[0;34m\u001b[0m\u001b[0m\n\u001b[1;32m   1044\u001b[0m             \u001b[0melapsed_time\u001b[0m \u001b[0;34m=\u001b[0m \u001b[0mtime\u001b[0m\u001b[0;34m.\u001b[0m\u001b[0mtime\u001b[0m\u001b[0;34m(\u001b[0m\u001b[0;34m)\u001b[0m \u001b[0;34m-\u001b[0m \u001b[0mself\u001b[0m\u001b[0;34m.\u001b[0m\u001b[0m_start_time\u001b[0m\u001b[0;34m\u001b[0m\u001b[0;34m\u001b[0m\u001b[0m\n",
            "\u001b[0;32m/usr/local/lib/python3.6/dist-packages/joblib/parallel.py\u001b[0m in \u001b[0;36mretrieve\u001b[0;34m(self)\u001b[0m\n\u001b[1;32m    919\u001b[0m             \u001b[0;32mtry\u001b[0m\u001b[0;34m:\u001b[0m\u001b[0;34m\u001b[0m\u001b[0;34m\u001b[0m\u001b[0m\n\u001b[1;32m    920\u001b[0m                 \u001b[0;32mif\u001b[0m \u001b[0mgetattr\u001b[0m\u001b[0;34m(\u001b[0m\u001b[0mself\u001b[0m\u001b[0;34m.\u001b[0m\u001b[0m_backend\u001b[0m\u001b[0;34m,\u001b[0m \u001b[0;34m'supports_timeout'\u001b[0m\u001b[0;34m,\u001b[0m \u001b[0;32mFalse\u001b[0m\u001b[0;34m)\u001b[0m\u001b[0;34m:\u001b[0m\u001b[0;34m\u001b[0m\u001b[0;34m\u001b[0m\u001b[0m\n\u001b[0;32m--> 921\u001b[0;31m                     \u001b[0mself\u001b[0m\u001b[0;34m.\u001b[0m\u001b[0m_output\u001b[0m\u001b[0;34m.\u001b[0m\u001b[0mextend\u001b[0m\u001b[0;34m(\u001b[0m\u001b[0mjob\u001b[0m\u001b[0;34m.\u001b[0m\u001b[0mget\u001b[0m\u001b[0;34m(\u001b[0m\u001b[0mtimeout\u001b[0m\u001b[0;34m=\u001b[0m\u001b[0mself\u001b[0m\u001b[0;34m.\u001b[0m\u001b[0mtimeout\u001b[0m\u001b[0;34m)\u001b[0m\u001b[0;34m)\u001b[0m\u001b[0;34m\u001b[0m\u001b[0;34m\u001b[0m\u001b[0m\n\u001b[0m\u001b[1;32m    922\u001b[0m                 \u001b[0;32melse\u001b[0m\u001b[0;34m:\u001b[0m\u001b[0;34m\u001b[0m\u001b[0;34m\u001b[0m\u001b[0m\n\u001b[1;32m    923\u001b[0m                     \u001b[0mself\u001b[0m\u001b[0;34m.\u001b[0m\u001b[0m_output\u001b[0m\u001b[0;34m.\u001b[0m\u001b[0mextend\u001b[0m\u001b[0;34m(\u001b[0m\u001b[0mjob\u001b[0m\u001b[0;34m.\u001b[0m\u001b[0mget\u001b[0m\u001b[0;34m(\u001b[0m\u001b[0;34m)\u001b[0m\u001b[0;34m)\u001b[0m\u001b[0;34m\u001b[0m\u001b[0;34m\u001b[0m\u001b[0m\n",
            "\u001b[0;32m/usr/local/lib/python3.6/dist-packages/joblib/_parallel_backends.py\u001b[0m in \u001b[0;36mwrap_future_result\u001b[0;34m(future, timeout)\u001b[0m\n\u001b[1;32m    538\u001b[0m         AsyncResults.get from multiprocessing.\"\"\"\n\u001b[1;32m    539\u001b[0m         \u001b[0;32mtry\u001b[0m\u001b[0;34m:\u001b[0m\u001b[0;34m\u001b[0m\u001b[0;34m\u001b[0m\u001b[0m\n\u001b[0;32m--> 540\u001b[0;31m             \u001b[0;32mreturn\u001b[0m \u001b[0mfuture\u001b[0m\u001b[0;34m.\u001b[0m\u001b[0mresult\u001b[0m\u001b[0;34m(\u001b[0m\u001b[0mtimeout\u001b[0m\u001b[0;34m=\u001b[0m\u001b[0mtimeout\u001b[0m\u001b[0;34m)\u001b[0m\u001b[0;34m\u001b[0m\u001b[0;34m\u001b[0m\u001b[0m\n\u001b[0m\u001b[1;32m    541\u001b[0m         \u001b[0;32mexcept\u001b[0m \u001b[0mCfTimeoutError\u001b[0m\u001b[0;34m:\u001b[0m\u001b[0;34m\u001b[0m\u001b[0;34m\u001b[0m\u001b[0m\n\u001b[1;32m    542\u001b[0m             \u001b[0;32mraise\u001b[0m \u001b[0mTimeoutError\u001b[0m\u001b[0;34m(\u001b[0m\u001b[0;34m)\u001b[0m\u001b[0;34m\u001b[0m\u001b[0;34m\u001b[0m\u001b[0m\n",
            "\u001b[0;32m/usr/lib/python3.6/concurrent/futures/_base.py\u001b[0m in \u001b[0;36mresult\u001b[0;34m(self, timeout)\u001b[0m\n\u001b[1;32m    430\u001b[0m                 \u001b[0;32mraise\u001b[0m \u001b[0mCancelledError\u001b[0m\u001b[0;34m(\u001b[0m\u001b[0;34m)\u001b[0m\u001b[0;34m\u001b[0m\u001b[0;34m\u001b[0m\u001b[0m\n\u001b[1;32m    431\u001b[0m             \u001b[0;32melif\u001b[0m \u001b[0mself\u001b[0m\u001b[0;34m.\u001b[0m\u001b[0m_state\u001b[0m \u001b[0;34m==\u001b[0m \u001b[0mFINISHED\u001b[0m\u001b[0;34m:\u001b[0m\u001b[0;34m\u001b[0m\u001b[0;34m\u001b[0m\u001b[0m\n\u001b[0;32m--> 432\u001b[0;31m                 \u001b[0;32mreturn\u001b[0m \u001b[0mself\u001b[0m\u001b[0;34m.\u001b[0m\u001b[0m__get_result\u001b[0m\u001b[0;34m(\u001b[0m\u001b[0;34m)\u001b[0m\u001b[0;34m\u001b[0m\u001b[0;34m\u001b[0m\u001b[0m\n\u001b[0m\u001b[1;32m    433\u001b[0m             \u001b[0;32melse\u001b[0m\u001b[0;34m:\u001b[0m\u001b[0;34m\u001b[0m\u001b[0;34m\u001b[0m\u001b[0m\n\u001b[1;32m    434\u001b[0m                 \u001b[0;32mraise\u001b[0m \u001b[0mTimeoutError\u001b[0m\u001b[0;34m(\u001b[0m\u001b[0;34m)\u001b[0m\u001b[0;34m\u001b[0m\u001b[0;34m\u001b[0m\u001b[0m\n",
            "\u001b[0;32m/usr/lib/python3.6/concurrent/futures/_base.py\u001b[0m in \u001b[0;36m__get_result\u001b[0;34m(self)\u001b[0m\n\u001b[1;32m    382\u001b[0m     \u001b[0;32mdef\u001b[0m \u001b[0m__get_result\u001b[0m\u001b[0;34m(\u001b[0m\u001b[0mself\u001b[0m\u001b[0;34m)\u001b[0m\u001b[0;34m:\u001b[0m\u001b[0;34m\u001b[0m\u001b[0;34m\u001b[0m\u001b[0m\n\u001b[1;32m    383\u001b[0m         \u001b[0;32mif\u001b[0m \u001b[0mself\u001b[0m\u001b[0;34m.\u001b[0m\u001b[0m_exception\u001b[0m\u001b[0;34m:\u001b[0m\u001b[0;34m\u001b[0m\u001b[0;34m\u001b[0m\u001b[0m\n\u001b[0;32m--> 384\u001b[0;31m             \u001b[0;32mraise\u001b[0m \u001b[0mself\u001b[0m\u001b[0;34m.\u001b[0m\u001b[0m_exception\u001b[0m\u001b[0;34m\u001b[0m\u001b[0;34m\u001b[0m\u001b[0m\n\u001b[0m\u001b[1;32m    385\u001b[0m         \u001b[0;32melse\u001b[0m\u001b[0;34m:\u001b[0m\u001b[0;34m\u001b[0m\u001b[0;34m\u001b[0m\u001b[0m\n\u001b[1;32m    386\u001b[0m             \u001b[0;32mreturn\u001b[0m \u001b[0mself\u001b[0m\u001b[0;34m.\u001b[0m\u001b[0m_result\u001b[0m\u001b[0;34m\u001b[0m\u001b[0;34m\u001b[0m\u001b[0m\n",
            "\u001b[0;31mTypeError\u001b[0m: an integer is required"
          ]
        }
      ]
    },
    {
      "cell_type": "code",
      "metadata": {
        "id": "C9Fy03HlgvJY",
        "colab_type": "code",
        "colab": {}
      },
      "source": [
        "# create parameter permutations\n",
        "epochs = [3, 5, 10, 20]\n",
        "reg_u = [5, 10, 12, 15, 20]\n",
        "reg_i = [3, 5, 10, 15]\n",
        "\n",
        "params = [[i, j, k] for i in epochs\n",
        "          for j in reg_u\n",
        "          for k in reg_i]\n",
        "print('Number of grid search permutation:', len(params))\n"
      ],
      "execution_count": 0,
      "outputs": []
    },
    {
      "cell_type": "code",
      "metadata": {
        "id": "UPDAGKf8gve6",
        "colab_type": "code",
        "colab": {}
      },
      "source": [
        "baseline_options_score = {}\n",
        "\n",
        "for bsl_perm in params: \n",
        "  basline_options = {'method': 'als',\n",
        "                     'n_epochs': bsl_perm[0],\n",
        "                     'reg_u': bsl_perm[1],\n",
        "                     'reg_i': bsl_perm[2]}\n",
        "  #instantiate\n",
        "  algo = baseline_only.BaselineOnly(bsl_options=bsl_options)\n",
        "\n"
      ],
      "execution_count": 0,
      "outputs": []
    },
    {
      "cell_type": "code",
      "metadata": {
        "id": "bY39Y4ibtbC1",
        "colab_type": "code",
        "colab": {}
      },
      "source": [
        "  #fit and cross validate\n",
        "cv_algo = cross_validate(algo, anime_loaded_data, measures=['rmse'], cv=3, return_train_measures=True, n_jobs = 3, verbose=True);\n",
        " "
      ],
      "execution_count": 0,
      "outputs": []
    },
    {
      "cell_type": "markdown",
      "metadata": {
        "id": "Bdivge2Agv3m",
        "colab_type": "text"
      },
      "source": [
        ""
      ]
    },
    {
      "cell_type": "code",
      "metadata": {
        "id": "4ljpH9JLnE-c",
        "colab_type": "code",
        "colab": {}
      },
      "source": [
        " bsl_perm2 = (str(bsl_perm[0]) + ' ' + str(bsl_perm[1]) + ' ' + str(bsl_perm[2]))\n",
        "  baseline_option_score[bsl_perm2] = {'mean_train_rmse': cv_algo['train_rmse'].mean(), 'mean_test_rmse': a['test_rmse'].mean()}\n",
        "\n",
        "  #print('\\n', baseline_options, '\\n', '\\n\\')"
      ],
      "execution_count": 0,
      "outputs": []
    },
    {
      "cell_type": "code",
      "metadata": {
        "id": "d66dWsmWHZ4M",
        "colab_type": "code",
        "colab": {}
      },
      "source": [
        ""
      ],
      "execution_count": 0,
      "outputs": []
    },
    {
      "cell_type": "markdown",
      "metadata": {
        "id": "YekaLdfN66sO",
        "colab_type": "text"
      },
      "source": [
        "# Content Based Model"
      ]
    },
    {
      "cell_type": "code",
      "metadata": {
        "id": "zd0gPF7jCG__",
        "colab_type": "code",
        "colab": {
          "base_uri": "https://localhost:8080/",
          "height": 66
        },
        "outputId": "78cfbac8-f292-463c-f857-585c0de05f32"
      },
      "source": [
        "import nltk\n",
        "nltk.download('stopwords')"
      ],
      "execution_count": 126,
      "outputs": [
        {
          "output_type": "stream",
          "text": [
            "[nltk_data] Downloading package stopwords to /root/nltk_data...\n",
            "[nltk_data]   Unzipping corpora/stopwords.zip.\n"
          ],
          "name": "stdout"
        },
        {
          "output_type": "execute_result",
          "data": {
            "text/plain": [
              "True"
            ]
          },
          "metadata": {
            "tags": []
          },
          "execution_count": 126
        }
      ]
    },
    {
      "cell_type": "code",
      "metadata": {
        "id": "9oWPViVa7DSK",
        "colab_type": "code",
        "colab": {}
      },
      "source": [
        "import nltk \n",
        "from sklearn.feature_extraction.text import TfidfVectorizer\n",
        "from nltk.corpus import stopwords\n",
        "import string\n",
        "from nltk import word_tokenize, FreqDist\n",
        "import re\n",
        "from sklearn.decomposition import TruncatedSVD\n",
        "from sklearn.metrics.pairwise import linear_kernel"
      ],
      "execution_count": 0,
      "outputs": []
    },
    {
      "cell_type": "code",
      "metadata": {
        "id": "DATDHPbY7d-k",
        "colab_type": "code",
        "colab": {
          "base_uri": "https://localhost:8080/",
          "height": 191
        },
        "outputId": "02b995c1-851d-465f-9a85-1f0d5e5e8ab1"
      },
      "source": [
        "anime_df.head()"
      ],
      "execution_count": 128,
      "outputs": [
        {
          "output_type": "execute_result",
          "data": {
            "text/html": [
              "<div>\n",
              "<style scoped>\n",
              "    .dataframe tbody tr th:only-of-type {\n",
              "        vertical-align: middle;\n",
              "    }\n",
              "\n",
              "    .dataframe tbody tr th {\n",
              "        vertical-align: top;\n",
              "    }\n",
              "\n",
              "    .dataframe thead th {\n",
              "        text-align: right;\n",
              "    }\n",
              "</style>\n",
              "<table border=\"1\" class=\"dataframe\">\n",
              "  <thead>\n",
              "    <tr style=\"text-align: right;\">\n",
              "      <th></th>\n",
              "      <th>anime_id</th>\n",
              "      <th>name</th>\n",
              "      <th>genre</th>\n",
              "      <th>type</th>\n",
              "      <th>episodes</th>\n",
              "      <th>rating</th>\n",
              "      <th>members</th>\n",
              "    </tr>\n",
              "  </thead>\n",
              "  <tbody>\n",
              "    <tr>\n",
              "      <th>0</th>\n",
              "      <td>32281</td>\n",
              "      <td>Kimi no Na wa.</td>\n",
              "      <td>Drama, Romance, School, Supernatural</td>\n",
              "      <td>Movie</td>\n",
              "      <td>1</td>\n",
              "      <td>9.37</td>\n",
              "      <td>200630</td>\n",
              "    </tr>\n",
              "    <tr>\n",
              "      <th>1</th>\n",
              "      <td>5114</td>\n",
              "      <td>Fullmetal Alchemist: Brotherhood</td>\n",
              "      <td>Action, Adventure, Drama, Fantasy, Magic, Mili...</td>\n",
              "      <td>TV</td>\n",
              "      <td>64</td>\n",
              "      <td>9.26</td>\n",
              "      <td>793665</td>\n",
              "    </tr>\n",
              "    <tr>\n",
              "      <th>2</th>\n",
              "      <td>28977</td>\n",
              "      <td>Gintama°</td>\n",
              "      <td>Action, Comedy, Historical, Parody, Samurai, S...</td>\n",
              "      <td>TV</td>\n",
              "      <td>51</td>\n",
              "      <td>9.25</td>\n",
              "      <td>114262</td>\n",
              "    </tr>\n",
              "    <tr>\n",
              "      <th>3</th>\n",
              "      <td>9253</td>\n",
              "      <td>Steins;Gate</td>\n",
              "      <td>Sci-Fi, Thriller</td>\n",
              "      <td>TV</td>\n",
              "      <td>24</td>\n",
              "      <td>9.17</td>\n",
              "      <td>673572</td>\n",
              "    </tr>\n",
              "    <tr>\n",
              "      <th>4</th>\n",
              "      <td>9969</td>\n",
              "      <td>Gintama&amp;#039;</td>\n",
              "      <td>Action, Comedy, Historical, Parody, Samurai, S...</td>\n",
              "      <td>TV</td>\n",
              "      <td>51</td>\n",
              "      <td>9.16</td>\n",
              "      <td>151266</td>\n",
              "    </tr>\n",
              "  </tbody>\n",
              "</table>\n",
              "</div>"
            ],
            "text/plain": [
              "   anime_id                              name  ... rating members\n",
              "0     32281                    Kimi no Na wa.  ...   9.37  200630\n",
              "1      5114  Fullmetal Alchemist: Brotherhood  ...   9.26  793665\n",
              "2     28977                          Gintama°  ...   9.25  114262\n",
              "3      9253                       Steins;Gate  ...   9.17  673572\n",
              "4      9969                     Gintama&#039;  ...   9.16  151266\n",
              "\n",
              "[5 rows x 7 columns]"
            ]
          },
          "metadata": {
            "tags": []
          },
          "execution_count": 128
        }
      ]
    },
    {
      "cell_type": "code",
      "metadata": {
        "id": "jxY87ftE7h3i",
        "colab_type": "code",
        "colab": {
          "base_uri": "https://localhost:8080/",
          "height": 191
        },
        "outputId": "a435dd5d-6a9e-416b-ef7a-9dd96603c1bd"
      },
      "source": [
        "rating_df.head()"
      ],
      "execution_count": 129,
      "outputs": [
        {
          "output_type": "execute_result",
          "data": {
            "text/html": [
              "<div>\n",
              "<style scoped>\n",
              "    .dataframe tbody tr th:only-of-type {\n",
              "        vertical-align: middle;\n",
              "    }\n",
              "\n",
              "    .dataframe tbody tr th {\n",
              "        vertical-align: top;\n",
              "    }\n",
              "\n",
              "    .dataframe thead th {\n",
              "        text-align: right;\n",
              "    }\n",
              "</style>\n",
              "<table border=\"1\" class=\"dataframe\">\n",
              "  <thead>\n",
              "    <tr style=\"text-align: right;\">\n",
              "      <th></th>\n",
              "      <th>user_id</th>\n",
              "      <th>anime_id</th>\n",
              "      <th>rating</th>\n",
              "    </tr>\n",
              "  </thead>\n",
              "  <tbody>\n",
              "    <tr>\n",
              "      <th>0</th>\n",
              "      <td>1</td>\n",
              "      <td>20</td>\n",
              "      <td>-1.0</td>\n",
              "    </tr>\n",
              "    <tr>\n",
              "      <th>1</th>\n",
              "      <td>1</td>\n",
              "      <td>24</td>\n",
              "      <td>-1.0</td>\n",
              "    </tr>\n",
              "    <tr>\n",
              "      <th>2</th>\n",
              "      <td>1</td>\n",
              "      <td>79</td>\n",
              "      <td>-1.0</td>\n",
              "    </tr>\n",
              "    <tr>\n",
              "      <th>3</th>\n",
              "      <td>1</td>\n",
              "      <td>226</td>\n",
              "      <td>-1.0</td>\n",
              "    </tr>\n",
              "    <tr>\n",
              "      <th>4</th>\n",
              "      <td>1</td>\n",
              "      <td>241</td>\n",
              "      <td>-1.0</td>\n",
              "    </tr>\n",
              "  </tbody>\n",
              "</table>\n",
              "</div>"
            ],
            "text/plain": [
              "   user_id  anime_id  rating\n",
              "0        1        20    -1.0\n",
              "1        1        24    -1.0\n",
              "2        1        79    -1.0\n",
              "3        1       226    -1.0\n",
              "4        1       241    -1.0"
            ]
          },
          "metadata": {
            "tags": []
          },
          "execution_count": 129
        }
      ]
    },
    {
      "cell_type": "code",
      "metadata": {
        "id": "Y3elCqa47pdw",
        "colab_type": "code",
        "colab": {
          "base_uri": "https://localhost:8080/",
          "height": 191
        },
        "outputId": "a5e7e639-3b05-4956-c66c-41639144f627"
      },
      "source": [
        "sample.head()"
      ],
      "execution_count": 130,
      "outputs": [
        {
          "output_type": "execute_result",
          "data": {
            "text/html": [
              "<div>\n",
              "<style scoped>\n",
              "    .dataframe tbody tr th:only-of-type {\n",
              "        vertical-align: middle;\n",
              "    }\n",
              "\n",
              "    .dataframe tbody tr th {\n",
              "        vertical-align: top;\n",
              "    }\n",
              "\n",
              "    .dataframe thead th {\n",
              "        text-align: right;\n",
              "    }\n",
              "</style>\n",
              "<table border=\"1\" class=\"dataframe\">\n",
              "  <thead>\n",
              "    <tr style=\"text-align: right;\">\n",
              "      <th></th>\n",
              "      <th>anime_id</th>\n",
              "      <th>name</th>\n",
              "      <th>genre</th>\n",
              "      <th>type</th>\n",
              "      <th>episodes</th>\n",
              "      <th>rating_x</th>\n",
              "      <th>members</th>\n",
              "      <th>user_id</th>\n",
              "      <th>rating_y</th>\n",
              "    </tr>\n",
              "  </thead>\n",
              "  <tbody>\n",
              "    <tr>\n",
              "      <th>1009672</th>\n",
              "      <td>274</td>\n",
              "      <td>Kiddy Grade</td>\n",
              "      <td>Action, Ecchi, Mecha, Sci-Fi, Super Power</td>\n",
              "      <td>TV</td>\n",
              "      <td>24</td>\n",
              "      <td>7</td>\n",
              "      <td>30766</td>\n",
              "      <td>5249</td>\n",
              "      <td>8.0</td>\n",
              "    </tr>\n",
              "    <tr>\n",
              "      <th>839902</th>\n",
              "      <td>1691</td>\n",
              "      <td>Kaze no Stigma</td>\n",
              "      <td>Action, Fantasy, Magic, Romance, Shounen</td>\n",
              "      <td>TV</td>\n",
              "      <td>24</td>\n",
              "      <td>8</td>\n",
              "      <td>205338</td>\n",
              "      <td>806</td>\n",
              "      <td>9.0</td>\n",
              "    </tr>\n",
              "    <tr>\n",
              "      <th>978673</th>\n",
              "      <td>195</td>\n",
              "      <td>Onegai☆Teacher</td>\n",
              "      <td>Comedy, Drama, Romance, School, Sci-Fi</td>\n",
              "      <td>TV</td>\n",
              "      <td>12</td>\n",
              "      <td>7</td>\n",
              "      <td>99558</td>\n",
              "      <td>10720</td>\n",
              "      <td>7.0</td>\n",
              "    </tr>\n",
              "    <tr>\n",
              "      <th>557723</th>\n",
              "      <td>1719</td>\n",
              "      <td>Rozen Maiden: Ouvertüre</td>\n",
              "      <td>Action, Comedy, Drama, Magic, Seinen</td>\n",
              "      <td>Special</td>\n",
              "      <td>2</td>\n",
              "      <td>8</td>\n",
              "      <td>44388</td>\n",
              "      <td>7711</td>\n",
              "      <td>8.0</td>\n",
              "    </tr>\n",
              "    <tr>\n",
              "      <th>472777</th>\n",
              "      <td>93</td>\n",
              "      <td>Mobile Suit Gundam Seed</td>\n",
              "      <td>Action, Drama, Mecha, Military, Romance, Sci-F...</td>\n",
              "      <td>TV</td>\n",
              "      <td>50</td>\n",
              "      <td>8</td>\n",
              "      <td>96973</td>\n",
              "      <td>10833</td>\n",
              "      <td>9.0</td>\n",
              "    </tr>\n",
              "  </tbody>\n",
              "</table>\n",
              "</div>"
            ],
            "text/plain": [
              "         anime_id                     name  ... user_id rating_y\n",
              "1009672       274              Kiddy Grade  ...    5249      8.0\n",
              "839902       1691           Kaze no Stigma  ...     806      9.0\n",
              "978673        195           Onegai☆Teacher  ...   10720      7.0\n",
              "557723       1719  Rozen Maiden: Ouvertüre  ...    7711      8.0\n",
              "472777         93  Mobile Suit Gundam Seed  ...   10833      9.0\n",
              "\n",
              "[5 rows x 9 columns]"
            ]
          },
          "metadata": {
            "tags": []
          },
          "execution_count": 130
        }
      ]
    },
    {
      "cell_type": "code",
      "metadata": {
        "id": "EKJh1Ywc79vU",
        "colab_type": "code",
        "colab": {}
      },
      "source": [
        "genre_tag = sample.loc[:, ['anime_id','name','genre']]"
      ],
      "execution_count": 0,
      "outputs": []
    },
    {
      "cell_type": "code",
      "metadata": {
        "id": "mxT5nAQy8Qn6",
        "colab_type": "code",
        "colab": {
          "base_uri": "https://localhost:8080/",
          "height": 191
        },
        "outputId": "0d936b22-5a99-40f0-d50e-05382d6bef01"
      },
      "source": [
        "genre_tag.head()"
      ],
      "execution_count": 186,
      "outputs": [
        {
          "output_type": "execute_result",
          "data": {
            "text/html": [
              "<div>\n",
              "<style scoped>\n",
              "    .dataframe tbody tr th:only-of-type {\n",
              "        vertical-align: middle;\n",
              "    }\n",
              "\n",
              "    .dataframe tbody tr th {\n",
              "        vertical-align: top;\n",
              "    }\n",
              "\n",
              "    .dataframe thead th {\n",
              "        text-align: right;\n",
              "    }\n",
              "</style>\n",
              "<table border=\"1\" class=\"dataframe\">\n",
              "  <thead>\n",
              "    <tr style=\"text-align: right;\">\n",
              "      <th></th>\n",
              "      <th>anime_id</th>\n",
              "      <th>name</th>\n",
              "      <th>genre</th>\n",
              "    </tr>\n",
              "  </thead>\n",
              "  <tbody>\n",
              "    <tr>\n",
              "      <th>1009672</th>\n",
              "      <td>274</td>\n",
              "      <td>Kiddy Grade</td>\n",
              "      <td>Action, Ecchi, Mecha, Sci-Fi, Super Power</td>\n",
              "    </tr>\n",
              "    <tr>\n",
              "      <th>839902</th>\n",
              "      <td>1691</td>\n",
              "      <td>Kaze no Stigma</td>\n",
              "      <td>Action, Fantasy, Magic, Romance, Shounen</td>\n",
              "    </tr>\n",
              "    <tr>\n",
              "      <th>978673</th>\n",
              "      <td>195</td>\n",
              "      <td>Onegai☆Teacher</td>\n",
              "      <td>Comedy, Drama, Romance, School, Sci-Fi</td>\n",
              "    </tr>\n",
              "    <tr>\n",
              "      <th>557723</th>\n",
              "      <td>1719</td>\n",
              "      <td>Rozen Maiden: Ouvertüre</td>\n",
              "      <td>Action, Comedy, Drama, Magic, Seinen</td>\n",
              "    </tr>\n",
              "    <tr>\n",
              "      <th>472777</th>\n",
              "      <td>93</td>\n",
              "      <td>Mobile Suit Gundam Seed</td>\n",
              "      <td>Action, Drama, Mecha, Military, Romance, Sci-F...</td>\n",
              "    </tr>\n",
              "  </tbody>\n",
              "</table>\n",
              "</div>"
            ],
            "text/plain": [
              "         anime_id  ...                                              genre\n",
              "1009672       274  ...          Action, Ecchi, Mecha, Sci-Fi, Super Power\n",
              "839902       1691  ...           Action, Fantasy, Magic, Romance, Shounen\n",
              "978673        195  ...             Comedy, Drama, Romance, School, Sci-Fi\n",
              "557723       1719  ...               Action, Comedy, Drama, Magic, Seinen\n",
              "472777         93  ...  Action, Drama, Mecha, Military, Romance, Sci-F...\n",
              "\n",
              "[5 rows x 3 columns]"
            ]
          },
          "metadata": {
            "tags": []
          },
          "execution_count": 186
        }
      ]
    },
    {
      "cell_type": "code",
      "metadata": {
        "id": "qCoBizYn8SS3",
        "colab_type": "code",
        "colab": {}
      },
      "source": [
        "tags = {}\n",
        "for col in ['genre']:\n",
        "  for a_id in sample['name'].unique():\n",
        "    for i in sample[sample['name'] == a_id][col]: \n",
        "      if a_id in tags: \n",
        "        tags[a_id].append(' '.join(i.lower().split('|')))\n",
        "      else: \n",
        "          tags[a_id] = i.lower().split('|')"
      ],
      "execution_count": 0,
      "outputs": []
    },
    {
      "cell_type": "code",
      "metadata": {
        "id": "msgwVJoEA32y",
        "colab_type": "code",
        "colab": {
          "base_uri": "https://localhost:8080/",
          "height": 1000
        },
        "outputId": "2f7276d6-71c8-4002-8995-9511a35032c4"
      },
      "source": [
        "tags"
      ],
      "execution_count": 188,
      "outputs": [
        {
          "output_type": "execute_result",
          "data": {
            "text/plain": [
              "{'Kiddy Grade': ['action, ecchi, mecha, sci-fi, super power'],\n",
              " 'Kaze no Stigma': ['action, fantasy, magic, romance, shounen',\n",
              "  'action, fantasy, magic, romance, shounen',\n",
              "  'action, fantasy, magic, romance, shounen',\n",
              "  'action, fantasy, magic, romance, shounen',\n",
              "  'action, fantasy, magic, romance, shounen',\n",
              "  'action, fantasy, magic, romance, shounen',\n",
              "  'action, fantasy, magic, romance, shounen'],\n",
              " 'Onegai☆Teacher': ['comedy, drama, romance, school, sci-fi',\n",
              "  'comedy, drama, romance, school, sci-fi',\n",
              "  'comedy, drama, romance, school, sci-fi',\n",
              "  'comedy, drama, romance, school, sci-fi',\n",
              "  'comedy, drama, romance, school, sci-fi',\n",
              "  'comedy, drama, romance, school, sci-fi',\n",
              "  'comedy, drama, romance, school, sci-fi'],\n",
              " 'Rozen Maiden: Ouvertüre': ['action, comedy, drama, magic, seinen',\n",
              "  'action, comedy, drama, magic, seinen',\n",
              "  'action, comedy, drama, magic, seinen',\n",
              "  'action, comedy, drama, magic, seinen'],\n",
              " 'Mobile Suit Gundam Seed': ['action, drama, mecha, military, romance, sci-fi, space',\n",
              "  'action, drama, mecha, military, romance, sci-fi, space',\n",
              "  'action, drama, mecha, military, romance, sci-fi, space',\n",
              "  'action, drama, mecha, military, romance, sci-fi, space',\n",
              "  'action, drama, mecha, military, romance, sci-fi, space'],\n",
              " 'Mikakunin de Shinkoukei': ['comedy, romance, school, slice of life',\n",
              "  'comedy, romance, school, slice of life',\n",
              "  'comedy, romance, school, slice of life',\n",
              "  'comedy, romance, school, slice of life'],\n",
              " 'Yuusha ni Narenakatta Ore wa Shibushibu Shuushoku wo Ketsui Shimashita.': ['comedy, ecchi, fantasy, romance',\n",
              "  'comedy, ecchi, fantasy, romance',\n",
              "  'comedy, ecchi, fantasy, romance',\n",
              "  'comedy, ecchi, fantasy, romance',\n",
              "  'comedy, ecchi, fantasy, romance',\n",
              "  'comedy, ecchi, fantasy, romance'],\n",
              " 'Nisekoi': ['comedy, harem, romance, school, shounen',\n",
              "  'comedy, harem, romance, school, shounen',\n",
              "  'comedy, harem, romance, school, shounen',\n",
              "  'comedy, harem, romance, school, shounen',\n",
              "  'comedy, harem, romance, school, shounen',\n",
              "  'comedy, harem, romance, school, shounen',\n",
              "  'comedy, harem, romance, school, shounen',\n",
              "  'comedy, harem, romance, school, shounen',\n",
              "  'comedy, harem, romance, school, shounen',\n",
              "  'comedy, harem, romance, school, shounen'],\n",
              " 'Sekirei': ['action, comedy, ecchi, harem, super power',\n",
              "  'action, comedy, ecchi, harem, super power',\n",
              "  'action, comedy, ecchi, harem, super power',\n",
              "  'action, comedy, ecchi, harem, super power',\n",
              "  'action, comedy, ecchi, harem, super power',\n",
              "  'action, comedy, ecchi, harem, super power',\n",
              "  'action, comedy, ecchi, harem, super power',\n",
              "  'action, comedy, ecchi, harem, super power',\n",
              "  'action, comedy, ecchi, harem, super power',\n",
              "  'action, comedy, ecchi, harem, super power',\n",
              "  'action, comedy, ecchi, harem, super power'],\n",
              " 'Pico to Chico': ['hentai, yaoi', 'hentai, yaoi', 'hentai, yaoi'],\n",
              " 'Tokyo Ghoul √A': ['action, drama, horror, mystery, psychological, seinen, supernatural',\n",
              "  'action, drama, horror, mystery, psychological, seinen, supernatural',\n",
              "  'action, drama, horror, mystery, psychological, seinen, supernatural',\n",
              "  'action, drama, horror, mystery, psychological, seinen, supernatural'],\n",
              " 'Toaru Kagaku no Railgun S': ['action, sci-fi, super power',\n",
              "  'action, sci-fi, super power',\n",
              "  'action, sci-fi, super power',\n",
              "  'action, sci-fi, super power',\n",
              "  'action, sci-fi, super power',\n",
              "  'action, sci-fi, super power'],\n",
              " 'DearS: Kin no Tama desu no?': ['comedy, ecchi, harem, romance, sci-fi',\n",
              "  'comedy, ecchi, harem, romance, sci-fi',\n",
              "  'comedy, ecchi, harem, romance, sci-fi'],\n",
              " 'Cardcaptor Sakura Movie 1': ['comedy, drama, fantasy, magic, shoujo',\n",
              "  'comedy, drama, fantasy, magic, shoujo',\n",
              "  'comedy, drama, fantasy, magic, shoujo'],\n",
              " 'Hellsing': ['action, horror, seinen, supernatural, vampire',\n",
              "  'action, horror, seinen, supernatural, vampire',\n",
              "  'action, horror, seinen, supernatural, vampire',\n",
              "  'action, horror, seinen, supernatural, vampire',\n",
              "  'action, horror, seinen, supernatural, vampire',\n",
              "  'action, horror, seinen, supernatural, vampire',\n",
              "  'action, horror, seinen, supernatural, vampire',\n",
              "  'action, horror, seinen, supernatural, vampire',\n",
              "  'action, horror, seinen, supernatural, vampire',\n",
              "  'action, horror, seinen, supernatural, vampire'],\n",
              " 'Yotsunoha': ['romance, school', 'romance, school'],\n",
              " 'Perfect Blue': ['dementia, drama, horror, psychological'],\n",
              " 'Amnesia': ['fantasy, josei, mystery, romance',\n",
              "  'fantasy, josei, mystery, romance',\n",
              "  'fantasy, josei, mystery, romance'],\n",
              " 'Prince of Tennis: The National Tournament': ['action, comedy, shounen, sports'],\n",
              " 'Durarara!!': ['action, mystery, supernatural',\n",
              "  'action, mystery, supernatural',\n",
              "  'action, mystery, supernatural',\n",
              "  'action, mystery, supernatural',\n",
              "  'action, mystery, supernatural',\n",
              "  'action, mystery, supernatural',\n",
              "  'action, mystery, supernatural',\n",
              "  'action, mystery, supernatural',\n",
              "  'action, mystery, supernatural',\n",
              "  'action, mystery, supernatural'],\n",
              " 'Junjou Romantica': ['comedy, drama, romance, shounen ai',\n",
              "  'comedy, drama, romance, shounen ai',\n",
              "  'comedy, drama, romance, shounen ai',\n",
              "  'comedy, drama, romance, shounen ai'],\n",
              " 'So Ra No Wo To': ['military, music, sci-fi, slice of life'],\n",
              " 'Nekojiru-sou': ['comedy, dementia, psychological',\n",
              "  'comedy, dementia, psychological'],\n",
              " 'Shijou Saikyou no Deshi Kenichi': ['action, comedy, martial arts, school, shounen',\n",
              "  'action, comedy, martial arts, school, shounen',\n",
              "  'action, comedy, martial arts, school, shounen',\n",
              "  'action, comedy, martial arts, school, shounen',\n",
              "  'action, comedy, martial arts, school, shounen',\n",
              "  'action, comedy, martial arts, school, shounen',\n",
              "  'action, comedy, martial arts, school, shounen'],\n",
              " 'Dragon Ball: Ossu! Kaettekita Son Gokuu to Nakama-tachi!!': ['action, adventure, comedy, fantasy',\n",
              "  'action, adventure, comedy, fantasy'],\n",
              " 'Sekai Seifuku: Bouryaku no Zvezda': ['action, comedy, fantasy',\n",
              "  'action, comedy, fantasy'],\n",
              " 'Pokemon Diamond &amp; Pearl: Dialga vs. Palkia vs. Darkrai': ['action, adventure, comedy, drama, fantasy, kids',\n",
              "  'action, adventure, comedy, drama, fantasy, kids',\n",
              "  'action, adventure, comedy, drama, fantasy, kids'],\n",
              " 'Chobits': ['comedy, drama, ecchi, romance, sci-fi, seinen',\n",
              "  'comedy, drama, ecchi, romance, sci-fi, seinen',\n",
              "  'comedy, drama, ecchi, romance, sci-fi, seinen',\n",
              "  'comedy, drama, ecchi, romance, sci-fi, seinen',\n",
              "  'comedy, drama, ecchi, romance, sci-fi, seinen',\n",
              "  'comedy, drama, ecchi, romance, sci-fi, seinen',\n",
              "  'comedy, drama, ecchi, romance, sci-fi, seinen',\n",
              "  'comedy, drama, ecchi, romance, sci-fi, seinen',\n",
              "  'comedy, drama, ecchi, romance, sci-fi, seinen',\n",
              "  'comedy, drama, ecchi, romance, sci-fi, seinen',\n",
              "  'comedy, drama, ecchi, romance, sci-fi, seinen',\n",
              "  'comedy, drama, ecchi, romance, sci-fi, seinen',\n",
              "  'comedy, drama, ecchi, romance, sci-fi, seinen',\n",
              "  'comedy, drama, ecchi, romance, sci-fi, seinen',\n",
              "  'comedy, drama, ecchi, romance, sci-fi, seinen',\n",
              "  'comedy, drama, ecchi, romance, sci-fi, seinen'],\n",
              " 'Air in Summer': ['comedy, drama, historical, romance, supernatural',\n",
              "  'comedy, drama, historical, romance, supernatural',\n",
              "  'comedy, drama, historical, romance, supernatural'],\n",
              " 'Rekka no Honoo': ['action, adventure, martial arts, shounen, super power',\n",
              "  'action, adventure, martial arts, shounen, super power'],\n",
              " 'Fate/stay night: Unlimited Blade Works': ['action, fantasy, magic, shounen, supernatural',\n",
              "  'action, fantasy, magic, shounen, supernatural',\n",
              "  'action, fantasy, magic, shounen, supernatural',\n",
              "  'action, fantasy, magic, shounen, supernatural',\n",
              "  'action, fantasy, magic, shounen, supernatural',\n",
              "  'action, fantasy, magic, shounen, supernatural',\n",
              "  'action, fantasy, magic, shounen, supernatural'],\n",
              " 'Kodomo no Jikan (TV)': ['comedy, ecchi, school',\n",
              "  'comedy, ecchi, school',\n",
              "  'comedy, ecchi, school',\n",
              "  'comedy, ecchi, school',\n",
              "  'comedy, ecchi, school'],\n",
              " 'Trinity Blood': ['action, supernatural, vampire',\n",
              "  'action, supernatural, vampire',\n",
              "  'action, supernatural, vampire',\n",
              "  'action, supernatural, vampire'],\n",
              " 'Bleach': ['action, comedy, shounen, super power, supernatural',\n",
              "  'action, comedy, shounen, super power, supernatural',\n",
              "  'action, comedy, shounen, super power, supernatural',\n",
              "  'action, comedy, shounen, super power, supernatural',\n",
              "  'action, comedy, shounen, super power, supernatural',\n",
              "  'action, comedy, shounen, super power, supernatural',\n",
              "  'action, comedy, shounen, super power, supernatural',\n",
              "  'action, comedy, shounen, super power, supernatural'],\n",
              " 'Air Gear': ['action, comedy, ecchi, shounen, sports',\n",
              "  'action, comedy, ecchi, shounen, sports',\n",
              "  'action, comedy, ecchi, shounen, sports',\n",
              "  'action, comedy, ecchi, shounen, sports'],\n",
              " 'Bishoujo Senshi Sailor Moon': ['demons, magic, romance, shoujo',\n",
              "  'demons, magic, romance, shoujo',\n",
              "  'demons, magic, romance, shoujo',\n",
              "  'demons, magic, romance, shoujo',\n",
              "  'demons, magic, romance, shoujo',\n",
              "  'demons, magic, romance, shoujo',\n",
              "  'demons, magic, romance, shoujo'],\n",
              " 'Kaze no Tani no Nausicaä': ['adventure, fantasy',\n",
              "  'adventure, fantasy',\n",
              "  'adventure, fantasy',\n",
              "  'adventure, fantasy',\n",
              "  'adventure, fantasy',\n",
              "  'adventure, fantasy',\n",
              "  'adventure, fantasy',\n",
              "  'adventure, fantasy'],\n",
              " 'Working!!': ['comedy, slice of life', 'comedy, slice of life'],\n",
              " 'Sekai de Ichiban Tsuyoku Naritai!': ['action, ecchi, sports'],\n",
              " 'Sakurasou no Pet na Kanojo': ['comedy, drama, romance, school, slice of life',\n",
              "  'comedy, drama, romance, school, slice of life',\n",
              "  'comedy, drama, romance, school, slice of life',\n",
              "  'comedy, drama, romance, school, slice of life',\n",
              "  'comedy, drama, romance, school, slice of life',\n",
              "  'comedy, drama, romance, school, slice of life'],\n",
              " 'Elfen Lied': ['action, drama, horror, psychological, romance, seinen, supernatural',\n",
              "  'action, drama, horror, psychological, romance, seinen, supernatural',\n",
              "  'action, drama, horror, psychological, romance, seinen, supernatural',\n",
              "  'action, drama, horror, psychological, romance, seinen, supernatural',\n",
              "  'action, drama, horror, psychological, romance, seinen, supernatural',\n",
              "  'action, drama, horror, psychological, romance, seinen, supernatural',\n",
              "  'action, drama, horror, psychological, romance, seinen, supernatural',\n",
              "  'action, drama, horror, psychological, romance, seinen, supernatural',\n",
              "  'action, drama, horror, psychological, romance, seinen, supernatural',\n",
              "  'action, drama, horror, psychological, romance, seinen, supernatural',\n",
              "  'action, drama, horror, psychological, romance, seinen, supernatural',\n",
              "  'action, drama, horror, psychological, romance, seinen, supernatural',\n",
              "  'action, drama, horror, psychological, romance, seinen, supernatural',\n",
              "  'action, drama, horror, psychological, romance, seinen, supernatural',\n",
              "  'action, drama, horror, psychological, romance, seinen, supernatural',\n",
              "  'action, drama, horror, psychological, romance, seinen, supernatural',\n",
              "  'action, drama, horror, psychological, romance, seinen, supernatural',\n",
              "  'action, drama, horror, psychological, romance, seinen, supernatural',\n",
              "  'action, drama, horror, psychological, romance, seinen, supernatural',\n",
              "  'action, drama, horror, psychological, romance, seinen, supernatural',\n",
              "  'action, drama, horror, psychological, romance, seinen, supernatural',\n",
              "  'action, drama, horror, psychological, romance, seinen, supernatural'],\n",
              " 'ChäoS;HEAd': ['harem, mystery, psychological, sci-fi, supernatural',\n",
              "  'harem, mystery, psychological, sci-fi, supernatural',\n",
              "  'harem, mystery, psychological, sci-fi, supernatural',\n",
              "  'harem, mystery, psychological, sci-fi, supernatural',\n",
              "  'harem, mystery, psychological, sci-fi, supernatural'],\n",
              " 'Amagi Brilliant Park: Nonbirishiteiru Hima ga Nai!': ['comedy'],\n",
              " 'Freezing': ['action, drama, ecchi, harem, martial arts, romance, sci-fi, seinen',\n",
              "  'action, drama, ecchi, harem, martial arts, romance, sci-fi, seinen',\n",
              "  'action, drama, ecchi, harem, martial arts, romance, sci-fi, seinen',\n",
              "  'action, drama, ecchi, harem, martial arts, romance, sci-fi, seinen'],\n",
              " 'Break Blade 2: Ketsubetsu no Michi': ['action, fantasy, mecha, military, shounen',\n",
              "  'action, fantasy, mecha, military, shounen',\n",
              "  'action, fantasy, mecha, military, shounen',\n",
              "  'action, fantasy, mecha, military, shounen',\n",
              "  'action, fantasy, mecha, military, shounen'],\n",
              " 'Kannagi': ['comedy, school, shounen, supernatural',\n",
              "  'comedy, school, shounen, supernatural'],\n",
              " 'Kokoro Connect: Michi Random': ['comedy, drama, romance, school, slice of life, supernatural',\n",
              "  'comedy, drama, romance, school, slice of life, supernatural'],\n",
              " 'Dragon Ball GT': ['action, adventure, comedy, fantasy, magic, sci-fi, shounen, super power',\n",
              "  'action, adventure, comedy, fantasy, magic, sci-fi, shounen, super power',\n",
              "  'action, adventure, comedy, fantasy, magic, sci-fi, shounen, super power',\n",
              "  'action, adventure, comedy, fantasy, magic, sci-fi, shounen, super power',\n",
              "  'action, adventure, comedy, fantasy, magic, sci-fi, shounen, super power'],\n",
              " 'Lupin the Third: Mine Fujiko to Iu Onna': ['action, adventure, comedy, ecchi, samurai, seinen'],\n",
              " 'Pokemon XY&amp;Z Specials': ['action, adventure, comedy, fantasy, kids'],\n",
              " 'Denpa Onna to Seishun Otoko': ['comedy, sci-fi, seinen, slice of life',\n",
              "  'comedy, sci-fi, seinen, slice of life',\n",
              "  'comedy, sci-fi, seinen, slice of life'],\n",
              " 'Mahou Sensei Negima! Shiroki Tsubasa Ala Alba': ['adventure, comedy, ecchi, harem, magic, romance, shounen, supernatural, vampire'],\n",
              " 'Shuukaku no Yoru': ['hentai'],\n",
              " 'Hyouka': ['mystery, school, slice of life',\n",
              "  'mystery, school, slice of life',\n",
              "  'mystery, school, slice of life',\n",
              "  'mystery, school, slice of life',\n",
              "  'mystery, school, slice of life',\n",
              "  'mystery, school, slice of life'],\n",
              " 'Kiseijuu: Sei no Kakuritsu': ['action, drama, horror, psychological, sci-fi, seinen',\n",
              "  'action, drama, horror, psychological, sci-fi, seinen',\n",
              "  'action, drama, horror, psychological, sci-fi, seinen',\n",
              "  'action, drama, horror, psychological, sci-fi, seinen',\n",
              "  'action, drama, horror, psychological, sci-fi, seinen',\n",
              "  'action, drama, horror, psychological, sci-fi, seinen',\n",
              "  'action, drama, horror, psychological, sci-fi, seinen',\n",
              "  'action, drama, horror, psychological, sci-fi, seinen',\n",
              "  'action, drama, horror, psychological, sci-fi, seinen',\n",
              "  'action, drama, horror, psychological, sci-fi, seinen',\n",
              "  'action, drama, horror, psychological, sci-fi, seinen',\n",
              "  'action, drama, horror, psychological, sci-fi, seinen'],\n",
              " 'Fullmetal Alchemist: The Conqueror of Shamballa': ['comedy, drama, fantasy, historical, military, shounen',\n",
              "  'comedy, drama, fantasy, historical, military, shounen',\n",
              "  'comedy, drama, fantasy, historical, military, shounen',\n",
              "  'comedy, drama, fantasy, historical, military, shounen',\n",
              "  'comedy, drama, fantasy, historical, military, shounen',\n",
              "  'comedy, drama, fantasy, historical, military, shounen',\n",
              "  'comedy, drama, fantasy, historical, military, shounen',\n",
              "  'comedy, drama, fantasy, historical, military, shounen'],\n",
              " 'Dimension W': ['action, sci-fi, seinen',\n",
              "  'action, sci-fi, seinen',\n",
              "  'action, sci-fi, seinen',\n",
              "  'action, sci-fi, seinen',\n",
              "  'action, sci-fi, seinen'],\n",
              " 'Mekakucity Actors': ['comedy, romance, sci-fi, super power, supernatural',\n",
              "  'comedy, romance, sci-fi, super power, supernatural',\n",
              "  'comedy, romance, sci-fi, super power, supernatural'],\n",
              " 'No Game No Life': ['adventure, comedy, ecchi, fantasy, game, supernatural',\n",
              "  'adventure, comedy, ecchi, fantasy, game, supernatural',\n",
              "  'adventure, comedy, ecchi, fantasy, game, supernatural',\n",
              "  'adventure, comedy, ecchi, fantasy, game, supernatural',\n",
              "  'adventure, comedy, ecchi, fantasy, game, supernatural',\n",
              "  'adventure, comedy, ecchi, fantasy, game, supernatural',\n",
              "  'adventure, comedy, ecchi, fantasy, game, supernatural',\n",
              "  'adventure, comedy, ecchi, fantasy, game, supernatural',\n",
              "  'adventure, comedy, ecchi, fantasy, game, supernatural',\n",
              "  'adventure, comedy, ecchi, fantasy, game, supernatural',\n",
              "  'adventure, comedy, ecchi, fantasy, game, supernatural',\n",
              "  'adventure, comedy, ecchi, fantasy, game, supernatural',\n",
              "  'adventure, comedy, ecchi, fantasy, game, supernatural',\n",
              "  'adventure, comedy, ecchi, fantasy, game, supernatural',\n",
              "  'adventure, comedy, ecchi, fantasy, game, supernatural',\n",
              "  'adventure, comedy, ecchi, fantasy, game, supernatural',\n",
              "  'adventure, comedy, ecchi, fantasy, game, supernatural'],\n",
              " 'Kore wa Zombie Desu ka?': ['action, comedy, ecchi, harem, magic, supernatural',\n",
              "  'action, comedy, ecchi, harem, magic, supernatural',\n",
              "  'action, comedy, ecchi, harem, magic, supernatural',\n",
              "  'action, comedy, ecchi, harem, magic, supernatural',\n",
              "  'action, comedy, ecchi, harem, magic, supernatural',\n",
              "  'action, comedy, ecchi, harem, magic, supernatural',\n",
              "  'action, comedy, ecchi, harem, magic, supernatural'],\n",
              " 'Berserk (2016)': ['action, adventure, demons, drama, fantasy, horror, military, romance, seinen, supernatural'],\n",
              " 'School Days': ['drama, harem, romance, school',\n",
              "  'drama, harem, romance, school',\n",
              "  'drama, harem, romance, school',\n",
              "  'drama, harem, romance, school',\n",
              "  'drama, harem, romance, school',\n",
              "  'drama, harem, romance, school',\n",
              "  'drama, harem, romance, school',\n",
              "  'drama, harem, romance, school',\n",
              "  'drama, harem, romance, school'],\n",
              " 'Highschool of the Dead': ['action, ecchi, horror, supernatural',\n",
              "  'action, ecchi, horror, supernatural',\n",
              "  'action, ecchi, horror, supernatural',\n",
              "  'action, ecchi, horror, supernatural',\n",
              "  'action, ecchi, horror, supernatural',\n",
              "  'action, ecchi, horror, supernatural',\n",
              "  'action, ecchi, horror, supernatural',\n",
              "  'action, ecchi, horror, supernatural',\n",
              "  'action, ecchi, horror, supernatural',\n",
              "  'action, ecchi, horror, supernatural',\n",
              "  'action, ecchi, horror, supernatural',\n",
              "  'action, ecchi, horror, supernatural',\n",
              "  'action, ecchi, horror, supernatural',\n",
              "  'action, ecchi, horror, supernatural',\n",
              "  'action, ecchi, horror, supernatural',\n",
              "  'action, ecchi, horror, supernatural'],\n",
              " 'Fullmetal Alchemist: Brotherhood': ['action, adventure, drama, fantasy, magic, military, shounen',\n",
              "  'action, adventure, drama, fantasy, magic, military, shounen',\n",
              "  'action, adventure, drama, fantasy, magic, military, shounen',\n",
              "  'action, adventure, drama, fantasy, magic, military, shounen',\n",
              "  'action, adventure, drama, fantasy, magic, military, shounen',\n",
              "  'action, adventure, drama, fantasy, magic, military, shounen',\n",
              "  'action, adventure, drama, fantasy, magic, military, shounen',\n",
              "  'action, adventure, drama, fantasy, magic, military, shounen',\n",
              "  'action, adventure, drama, fantasy, magic, military, shounen',\n",
              "  'action, adventure, drama, fantasy, magic, military, shounen',\n",
              "  'action, adventure, drama, fantasy, magic, military, shounen',\n",
              "  'action, adventure, drama, fantasy, magic, military, shounen',\n",
              "  'action, adventure, drama, fantasy, magic, military, shounen',\n",
              "  'action, adventure, drama, fantasy, magic, military, shounen',\n",
              "  'action, adventure, drama, fantasy, magic, military, shounen',\n",
              "  'action, adventure, drama, fantasy, magic, military, shounen'],\n",
              " 'Heisei Tanuki Gassen Ponpoko': ['kids', 'kids', 'kids'],\n",
              " 'Aoharu x Kikanjuu': ['action, comedy, shounen, sports',\n",
              "  'action, comedy, shounen, sports',\n",
              "  'action, comedy, shounen, sports'],\n",
              " 'Detective Conan Magic File 3: Shinichi and Ran - Memories of Mahjong Tiles and Tanabata': ['mystery, shounen'],\n",
              " 'Madan no Ou to Vanadis': ['adventure, ecchi, fantasy, harem, romance',\n",
              "  'adventure, ecchi, fantasy, harem, romance',\n",
              "  'adventure, ecchi, fantasy, harem, romance',\n",
              "  'adventure, ecchi, fantasy, harem, romance',\n",
              "  'adventure, ecchi, fantasy, harem, romance'],\n",
              " 'Nodame Cantabile: Paris-hen': ['comedy, josei, music, romance, slice of life',\n",
              "  'comedy, josei, music, romance, slice of life',\n",
              "  'comedy, josei, music, romance, slice of life',\n",
              "  'comedy, josei, music, romance, slice of life'],\n",
              " 'Mai-HiME Specials': ['comedy'],\n",
              " 'Clannad: Mou Hitotsu no Sekai, Tomoyo-hen': ['drama, romance, school, slice of life',\n",
              "  'drama, romance, school, slice of life',\n",
              "  'drama, romance, school, slice of life',\n",
              "  'drama, romance, school, slice of life',\n",
              "  'drama, romance, school, slice of life',\n",
              "  'drama, romance, school, slice of life',\n",
              "  'drama, romance, school, slice of life',\n",
              "  'drama, romance, school, slice of life',\n",
              "  'drama, romance, school, slice of life'],\n",
              " 'Terra Formars': ['action, drama, horror, sci-fi, seinen, space',\n",
              "  'action, drama, horror, sci-fi, seinen, space',\n",
              "  'action, drama, horror, sci-fi, seinen, space'],\n",
              " 'Midori no Hibi': ['comedy, drama, ecchi, romance, shounen',\n",
              "  'comedy, drama, ecchi, romance, shounen',\n",
              "  'comedy, drama, ecchi, romance, shounen'],\n",
              " 'Chrno Crusade': ['action, demons, historical, romance, supernatural',\n",
              "  'action, demons, historical, romance, supernatural'],\n",
              " 'Seikon no Qwaser': ['action, ecchi, seinen, super power, supernatural',\n",
              "  'action, ecchi, seinen, super power, supernatural',\n",
              "  'action, ecchi, seinen, super power, supernatural'],\n",
              " 'Chuunibyou demo Koi ga Shitai! Ren': ['comedy, drama, romance, school, slice of life',\n",
              "  'comedy, drama, romance, school, slice of life',\n",
              "  'comedy, drama, romance, school, slice of life',\n",
              "  'comedy, drama, romance, school, slice of life'],\n",
              " 'K-On!': ['comedy, music, school, slice of life',\n",
              "  'comedy, music, school, slice of life',\n",
              "  'comedy, music, school, slice of life',\n",
              "  'comedy, music, school, slice of life',\n",
              "  'comedy, music, school, slice of life',\n",
              "  'comedy, music, school, slice of life',\n",
              "  'comedy, music, school, slice of life',\n",
              "  'comedy, music, school, slice of life',\n",
              "  'comedy, music, school, slice of life'],\n",
              " 'Byousoku 5 Centimeter': ['drama, romance, slice of life',\n",
              "  'drama, romance, slice of life',\n",
              "  'drama, romance, slice of life',\n",
              "  'drama, romance, slice of life',\n",
              "  'drama, romance, slice of life',\n",
              "  'drama, romance, slice of life',\n",
              "  'drama, romance, slice of life',\n",
              "  'drama, romance, slice of life',\n",
              "  'drama, romance, slice of life',\n",
              "  'drama, romance, slice of life',\n",
              "  'drama, romance, slice of life',\n",
              "  'drama, romance, slice of life',\n",
              "  'drama, romance, slice of life'],\n",
              " 'Nisekoi:': ['comedy, harem, romance, school, shounen',\n",
              "  'comedy, harem, romance, school, shounen'],\n",
              " 'Brave 10': ['action, adventure, historical, samurai, seinen, super power',\n",
              "  'action, adventure, historical, samurai, seinen, super power',\n",
              "  'action, adventure, historical, samurai, seinen, super power',\n",
              "  'action, adventure, historical, samurai, seinen, super power'],\n",
              " 'Kamigami no Asobi': ['fantasy, harem, romance, shoujo, supernatural',\n",
              "  'fantasy, harem, romance, shoujo, supernatural',\n",
              "  'fantasy, harem, romance, shoujo, supernatural',\n",
              "  'fantasy, harem, romance, shoujo, supernatural'],\n",
              " 'Angel Beats!: Another Epilogue': ['drama, school, supernatural',\n",
              "  'drama, school, supernatural',\n",
              "  'drama, school, supernatural'],\n",
              " 'Aa! Megami-sama! Movie': ['comedy, magic, romance, seinen, supernatural',\n",
              "  'comedy, magic, romance, seinen, supernatural'],\n",
              " 'Akira': ['action, adventure, horror, military, sci-fi, supernatural',\n",
              "  'action, adventure, horror, military, sci-fi, supernatural',\n",
              "  'action, adventure, horror, military, sci-fi, supernatural',\n",
              "  'action, adventure, horror, military, sci-fi, supernatural',\n",
              "  'action, adventure, horror, military, sci-fi, supernatural',\n",
              "  'action, adventure, horror, military, sci-fi, supernatural'],\n",
              " 'Vividred Operation': ['action, ecchi, sci-fi', 'action, ecchi, sci-fi'],\n",
              " 'Date A Live': ['comedy, harem, mecha, romance, school, sci-fi',\n",
              "  'comedy, harem, mecha, romance, school, sci-fi',\n",
              "  'comedy, harem, mecha, romance, school, sci-fi',\n",
              "  'comedy, harem, mecha, romance, school, sci-fi',\n",
              "  'comedy, harem, mecha, romance, school, sci-fi',\n",
              "  'comedy, harem, mecha, romance, school, sci-fi',\n",
              "  'comedy, harem, mecha, romance, school, sci-fi'],\n",
              " 'I☆Can': ['hentai'],\n",
              " 'Seitokai Yakuindomo': ['comedy, school, shounen, slice of life',\n",
              "  'comedy, school, shounen, slice of life',\n",
              "  'comedy, school, shounen, slice of life',\n",
              "  'comedy, school, shounen, slice of life',\n",
              "  'comedy, school, shounen, slice of life',\n",
              "  'comedy, school, shounen, slice of life',\n",
              "  'comedy, school, shounen, slice of life',\n",
              "  'comedy, school, shounen, slice of life',\n",
              "  'comedy, school, shounen, slice of life'],\n",
              " 'Major S2': ['comedy, drama, shounen, sports'],\n",
              " 'Ninin ga Shinobuden': ['comedy, martial arts, parody'],\n",
              " 'Dragon Ball Z Movie 10: Kiken na Futari! Super Senshi wa Nemurenai': ['action, adventure, comedy, demons, fantasy, martial arts, shounen, super power',\n",
              "  'action, adventure, comedy, demons, fantasy, martial arts, shounen, super power',\n",
              "  'action, adventure, comedy, demons, fantasy, martial arts, shounen, super power',\n",
              "  'action, adventure, comedy, demons, fantasy, martial arts, shounen, super power',\n",
              "  'action, adventure, comedy, demons, fantasy, martial arts, shounen, super power'],\n",
              " 'Pokemon: Pikachu no Natsuyasumi': ['comedy, fantasy, kids',\n",
              "  'comedy, fantasy, kids'],\n",
              " 'Pokemon: Kesshoutou no Teiou Entei': ['action, adventure, comedy, drama, fantasy, kids',\n",
              "  'action, adventure, comedy, drama, fantasy, kids',\n",
              "  'action, adventure, comedy, drama, fantasy, kids',\n",
              "  'action, adventure, comedy, drama, fantasy, kids'],\n",
              " 'Sayonara Ginga Tetsudou 999: Andromeda Shuuchakueki': ['adventure, drama, sci-fi, space'],\n",
              " 'Ichigo 100%': ['comedy, ecchi, harem, romance, shounen',\n",
              "  'comedy, ecchi, harem, romance, shounen',\n",
              "  'comedy, ecchi, harem, romance, shounen',\n",
              "  'comedy, ecchi, harem, romance, shounen'],\n",
              " 'Utawarerumono: Itsuwari no Kamen': ['action, drama, fantasy',\n",
              "  'action, drama, fantasy'],\n",
              " 'Aldnoah.Zero': ['action, mecha, sci-fi',\n",
              "  'action, mecha, sci-fi',\n",
              "  'action, mecha, sci-fi',\n",
              "  'action, mecha, sci-fi',\n",
              "  'action, mecha, sci-fi'],\n",
              " 'Mahoromatic: I&#039;m Home!': ['comedy, ecchi, romance, sci-fi'],\n",
              " 'Full Metal Panic!': ['action, comedy, mecha, military, sci-fi',\n",
              "  'action, comedy, mecha, military, sci-fi',\n",
              "  'action, comedy, mecha, military, sci-fi',\n",
              "  'action, comedy, mecha, military, sci-fi',\n",
              "  'action, comedy, mecha, military, sci-fi',\n",
              "  'action, comedy, mecha, military, sci-fi',\n",
              "  'action, comedy, mecha, military, sci-fi',\n",
              "  'action, comedy, mecha, military, sci-fi',\n",
              "  'action, comedy, mecha, military, sci-fi',\n",
              "  'action, comedy, mecha, military, sci-fi',\n",
              "  'action, comedy, mecha, military, sci-fi',\n",
              "  'action, comedy, mecha, military, sci-fi',\n",
              "  'action, comedy, mecha, military, sci-fi',\n",
              "  'action, comedy, mecha, military, sci-fi',\n",
              "  'action, comedy, mecha, military, sci-fi',\n",
              "  'action, comedy, mecha, military, sci-fi'],\n",
              " 'Beelzebub': ['action, comedy, demons, school, shounen, supernatural',\n",
              "  'action, comedy, demons, school, shounen, supernatural',\n",
              "  'action, comedy, demons, school, shounen, supernatural',\n",
              "  'action, comedy, demons, school, shounen, supernatural',\n",
              "  'action, comedy, demons, school, shounen, supernatural',\n",
              "  'action, comedy, demons, school, shounen, supernatural',\n",
              "  'action, comedy, demons, school, shounen, supernatural',\n",
              "  'action, comedy, demons, school, shounen, supernatural'],\n",
              " 'Code Geass: Hangyaku no Lelouch': ['action, mecha, military, school, sci-fi, super power',\n",
              "  'action, mecha, military, school, sci-fi, super power',\n",
              "  'action, mecha, military, school, sci-fi, super power',\n",
              "  'action, mecha, military, school, sci-fi, super power',\n",
              "  'action, mecha, military, school, sci-fi, super power',\n",
              "  'action, mecha, military, school, sci-fi, super power',\n",
              "  'action, mecha, military, school, sci-fi, super power',\n",
              "  'action, mecha, military, school, sci-fi, super power',\n",
              "  'action, mecha, military, school, sci-fi, super power',\n",
              "  'action, mecha, military, school, sci-fi, super power',\n",
              "  'action, mecha, military, school, sci-fi, super power',\n",
              "  'action, mecha, military, school, sci-fi, super power',\n",
              "  'action, mecha, military, school, sci-fi, super power',\n",
              "  'action, mecha, military, school, sci-fi, super power',\n",
              "  'action, mecha, military, school, sci-fi, super power',\n",
              "  'action, mecha, military, school, sci-fi, super power',\n",
              "  'action, mecha, military, school, sci-fi, super power'],\n",
              " 'Dragon Ball Z Movie 11: Super Senshi Gekiha!! Katsu no wa Ore da': ['action, adventure, comedy, fantasy, martial arts, shounen, super power',\n",
              "  'action, adventure, comedy, fantasy, martial arts, shounen, super power',\n",
              "  'action, adventure, comedy, fantasy, martial arts, shounen, super power',\n",
              "  'action, adventure, comedy, fantasy, martial arts, shounen, super power'],\n",
              " 'Oda Nobuna no Yabou': ['comedy, historical, romance',\n",
              "  'comedy, historical, romance'],\n",
              " 'Bleach Movie 4: Jigoku-hen': ['action, comedy, shounen, super power, supernatural',\n",
              "  'action, comedy, shounen, super power, supernatural',\n",
              "  'action, comedy, shounen, super power, supernatural'],\n",
              " 'Rosario to Vampire Capu2': ['comedy, ecchi, fantasy, harem, romance, school, vampire',\n",
              "  'comedy, ecchi, fantasy, harem, romance, school, vampire',\n",
              "  'comedy, ecchi, fantasy, harem, romance, school, vampire',\n",
              "  'comedy, ecchi, fantasy, harem, romance, school, vampire',\n",
              "  'comedy, ecchi, fantasy, harem, romance, school, vampire'],\n",
              " 'Shingeki no Kyojin': ['action, drama, fantasy, shounen, super power',\n",
              "  'action, drama, fantasy, shounen, super power',\n",
              "  'action, drama, fantasy, shounen, super power',\n",
              "  'action, drama, fantasy, shounen, super power',\n",
              "  'action, drama, fantasy, shounen, super power',\n",
              "  'action, drama, fantasy, shounen, super power',\n",
              "  'action, drama, fantasy, shounen, super power',\n",
              "  'action, drama, fantasy, shounen, super power',\n",
              "  'action, drama, fantasy, shounen, super power',\n",
              "  'action, drama, fantasy, shounen, super power',\n",
              "  'action, drama, fantasy, shounen, super power',\n",
              "  'action, drama, fantasy, shounen, super power',\n",
              "  'action, drama, fantasy, shounen, super power',\n",
              "  'action, drama, fantasy, shounen, super power',\n",
              "  'action, drama, fantasy, shounen, super power',\n",
              "  'action, drama, fantasy, shounen, super power',\n",
              "  'action, drama, fantasy, shounen, super power',\n",
              "  'action, drama, fantasy, shounen, super power',\n",
              "  'action, drama, fantasy, shounen, super power',\n",
              "  'action, drama, fantasy, shounen, super power',\n",
              "  'action, drama, fantasy, shounen, super power',\n",
              "  'action, drama, fantasy, shounen, super power'],\n",
              " 'Video Girl Ai': ['comedy, drama, ecchi, romance'],\n",
              " 'Escaflowne': ['adventure, drama, fantasy, mecha, romance, sci-fi, shoujo'],\n",
              " 'Speed Grapher': ['action, mystery, super power',\n",
              "  'action, mystery, super power',\n",
              "  'action, mystery, super power',\n",
              "  'action, mystery, super power',\n",
              "  'action, mystery, super power'],\n",
              " 'Shuffle! Memories': ['comedy, drama, ecchi, fantasy, harem, magic, romance, school, seinen',\n",
              "  'comedy, drama, ecchi, fantasy, harem, magic, romance, school, seinen',\n",
              "  'comedy, drama, ecchi, fantasy, harem, magic, romance, school, seinen'],\n",
              " 'Koitabi: True Tours Nanto': ['romance'],\n",
              " 'Hana yori Dango': ['drama, romance, school, shoujo',\n",
              "  'drama, romance, school, shoujo'],\n",
              " 'Yowamushi Pedal': ['comedy, drama, shounen, sports',\n",
              "  'comedy, drama, shounen, sports',\n",
              "  'comedy, drama, shounen, sports',\n",
              "  'comedy, drama, shounen, sports'],\n",
              " 'Buddy Complex: Kanketsu-hen - Ano Sora ni Kaeru Mirai de': ['action, mecha, sci-fi',\n",
              "  'action, mecha, sci-fi'],\n",
              " 'Ray The Animation': ['drama, romance, sci-fi'],\n",
              " 'Mushishi Zoku Shou': ['adventure, fantasy, historical, mystery, seinen, slice of life, supernatural',\n",
              "  'adventure, fantasy, historical, mystery, seinen, slice of life, supernatural'],\n",
              " 'Kimi ga Aruji de Shitsuji ga Ore de': ['comedy, ecchi, harem, parody, romance',\n",
              "  'comedy, ecchi, harem, parody, romance',\n",
              "  'comedy, ecchi, harem, parody, romance'],\n",
              " 'Kuroshitsuji: Book of Murder': ['comedy, demons, fantasy, historical, mystery, shounen, supernatural'],\n",
              " 'Suzumiya Haruhi no Yuuutsu': ['comedy, mystery, parody, school, sci-fi, slice of life',\n",
              "  'comedy, mystery, parody, school, sci-fi, slice of life',\n",
              "  'comedy, mystery, parody, school, sci-fi, slice of life',\n",
              "  'comedy, mystery, parody, school, sci-fi, slice of life',\n",
              "  'comedy, mystery, parody, school, sci-fi, slice of life',\n",
              "  'comedy, mystery, parody, school, sci-fi, slice of life',\n",
              "  'comedy, mystery, parody, school, sci-fi, slice of life',\n",
              "  'comedy, mystery, parody, school, sci-fi, slice of life',\n",
              "  'comedy, mystery, parody, school, sci-fi, slice of life',\n",
              "  'comedy, mystery, parody, school, sci-fi, slice of life',\n",
              "  'comedy, mystery, parody, school, sci-fi, slice of life',\n",
              "  'comedy, mystery, parody, school, sci-fi, slice of life'],\n",
              " 'Dragon Ball': ['adventure, comedy, fantasy, martial arts, shounen, super power',\n",
              "  'adventure, comedy, fantasy, martial arts, shounen, super power',\n",
              "  'adventure, comedy, fantasy, martial arts, shounen, super power',\n",
              "  'adventure, comedy, fantasy, martial arts, shounen, super power',\n",
              "  'adventure, comedy, fantasy, martial arts, shounen, super power',\n",
              "  'adventure, comedy, fantasy, martial arts, shounen, super power',\n",
              "  'adventure, comedy, fantasy, martial arts, shounen, super power',\n",
              "  'adventure, comedy, fantasy, martial arts, shounen, super power',\n",
              "  'adventure, comedy, fantasy, martial arts, shounen, super power',\n",
              "  'adventure, comedy, fantasy, martial arts, shounen, super power',\n",
              "  'adventure, comedy, fantasy, martial arts, shounen, super power',\n",
              "  'adventure, comedy, fantasy, martial arts, shounen, super power',\n",
              "  'adventure, comedy, fantasy, martial arts, shounen, super power'],\n",
              " 'Zombie-Loan Specials': ['action, shounen, supernatural',\n",
              "  'action, shounen, supernatural'],\n",
              " 'Rainbow: Nisha Rokubou no Shichinin': ['drama, historical, seinen, thriller',\n",
              "  'drama, historical, seinen, thriller',\n",
              "  'drama, historical, seinen, thriller'],\n",
              " 'Clannad': ['comedy, drama, romance, school, slice of life, supernatural',\n",
              "  'comedy, drama, romance, school, slice of life, supernatural',\n",
              "  'comedy, drama, romance, school, slice of life, supernatural',\n",
              "  'comedy, drama, romance, school, slice of life, supernatural',\n",
              "  'comedy, drama, romance, school, slice of life, supernatural',\n",
              "  'comedy, drama, romance, school, slice of life, supernatural',\n",
              "  'comedy, drama, romance, school, slice of life, supernatural',\n",
              "  'comedy, drama, romance, school, slice of life, supernatural',\n",
              "  'comedy, drama, romance, school, slice of life, supernatural',\n",
              "  'comedy, drama, romance, school, slice of life, supernatural'],\n",
              " 'Sora no Otoshimono': ['comedy, ecchi, harem, romance, sci-fi, shounen, supernatural',\n",
              "  'comedy, ecchi, harem, romance, sci-fi, shounen, supernatural',\n",
              "  'comedy, ecchi, harem, romance, sci-fi, shounen, supernatural',\n",
              "  'comedy, ecchi, harem, romance, sci-fi, shounen, supernatural',\n",
              "  'comedy, ecchi, harem, romance, sci-fi, shounen, supernatural',\n",
              "  'comedy, ecchi, harem, romance, sci-fi, shounen, supernatural'],\n",
              " 'True Tears': ['drama, romance, school',\n",
              "  'drama, romance, school',\n",
              "  'drama, romance, school',\n",
              "  'drama, romance, school',\n",
              "  'drama, romance, school'],\n",
              " 'Wolf&#039;s Rain': ['action, adventure, drama, fantasy, mystery, sci-fi',\n",
              "  'action, adventure, drama, fantasy, mystery, sci-fi',\n",
              "  'action, adventure, drama, fantasy, mystery, sci-fi',\n",
              "  'action, adventure, drama, fantasy, mystery, sci-fi',\n",
              "  'action, adventure, drama, fantasy, mystery, sci-fi',\n",
              "  'action, adventure, drama, fantasy, mystery, sci-fi'],\n",
              " 'Princess Tutu': ['comedy, fantasy, magic, romance',\n",
              "  'comedy, fantasy, magic, romance'],\n",
              " 'Noragami Aragoto': ['action, adventure, shounen, supernatural',\n",
              "  'action, adventure, shounen, supernatural',\n",
              "  'action, adventure, shounen, supernatural',\n",
              "  'action, adventure, shounen, supernatural',\n",
              "  'action, adventure, shounen, supernatural',\n",
              "  'action, adventure, shounen, supernatural'],\n",
              " 'K': ['action, super power, supernatural',\n",
              "  'action, super power, supernatural',\n",
              "  'action, super power, supernatural',\n",
              "  'action, super power, supernatural',\n",
              "  'action, super power, supernatural'],\n",
              " 'Sky Girls OVA': ['mecha, military, sci-fi'],\n",
              " 'Gin no Saji': ['comedy, school, shounen, slice of life',\n",
              "  'comedy, school, shounen, slice of life'],\n",
              " 'Sora no Otoshimono: Project Pink': ['comedy, ecchi, harem, sci-fi, shounen, supernatural'],\n",
              " 'Fate/Zero': ['action, fantasy, supernatural',\n",
              "  'action, fantasy, supernatural',\n",
              "  'action, fantasy, supernatural',\n",
              "  'action, fantasy, supernatural',\n",
              "  'action, fantasy, supernatural',\n",
              "  'action, fantasy, supernatural',\n",
              "  'action, fantasy, supernatural',\n",
              "  'action, fantasy, supernatural',\n",
              "  'action, fantasy, supernatural',\n",
              "  'action, fantasy, supernatural',\n",
              "  'action, fantasy, supernatural',\n",
              "  'action, fantasy, supernatural',\n",
              "  'action, fantasy, supernatural',\n",
              "  'action, fantasy, supernatural',\n",
              "  'action, fantasy, supernatural',\n",
              "  'action, fantasy, supernatural'],\n",
              " 'Yamada-kun to 7-nin no Majo (TV)': ['comedy, harem, mystery, romance, school, shounen, supernatural',\n",
              "  'comedy, harem, mystery, romance, school, shounen, supernatural',\n",
              "  'comedy, harem, mystery, romance, school, shounen, supernatural',\n",
              "  'comedy, harem, mystery, romance, school, shounen, supernatural'],\n",
              " 'Kara no Kyoukai 2: Satsujin Kousatsu (Zen)': ['action, mystery, romance, supernatural, thriller',\n",
              "  'action, mystery, romance, supernatural, thriller',\n",
              "  'action, mystery, romance, supernatural, thriller',\n",
              "  'action, mystery, romance, supernatural, thriller',\n",
              "  'action, mystery, romance, supernatural, thriller',\n",
              "  'action, mystery, romance, supernatural, thriller',\n",
              "  'action, mystery, romance, supernatural, thriller'],\n",
              " 'Digimon Adventure 02: Diablomon no Gyakushuu': ['adventure, comedy, drama, kids, sci-fi',\n",
              "  'adventure, comedy, drama, kids, sci-fi',\n",
              "  'adventure, comedy, drama, kids, sci-fi'],\n",
              " 'Okane ga Nai': ['drama, romance, yaoi'],\n",
              " 'Shakugan no Shana II (Second)': ['action, drama, fantasy, romance, school, supernatural',\n",
              "  'action, drama, fantasy, romance, school, supernatural',\n",
              "  'action, drama, fantasy, romance, school, supernatural',\n",
              "  'action, drama, fantasy, romance, school, supernatural',\n",
              "  'action, drama, fantasy, romance, school, supernatural',\n",
              "  'action, drama, fantasy, romance, school, supernatural',\n",
              "  'action, drama, fantasy, romance, school, supernatural',\n",
              "  'action, drama, fantasy, romance, school, supernatural'],\n",
              " 'Kiss x Sis (TV)': ['comedy, ecchi, harem, romance, school, seinen',\n",
              "  'comedy, ecchi, harem, romance, school, seinen',\n",
              "  'comedy, ecchi, harem, romance, school, seinen',\n",
              "  'comedy, ecchi, harem, romance, school, seinen',\n",
              "  'comedy, ecchi, harem, romance, school, seinen',\n",
              "  'comedy, ecchi, harem, romance, school, seinen',\n",
              "  'comedy, ecchi, harem, romance, school, seinen'],\n",
              " 'Rurouni Kenshin: Meiji Kenkaku Romantan': ['action, adventure, comedy, historical, romance, samurai',\n",
              "  'action, adventure, comedy, historical, romance, samurai',\n",
              "  'action, adventure, comedy, historical, romance, samurai',\n",
              "  'action, adventure, comedy, historical, romance, samurai'],\n",
              " 'Teekyuu 4': ['comedy, shounen, sports'],\n",
              " 'InuYasha: Toki wo Koeru Omoi': ['adventure, comedy, demons, drama, fantasy, historical, romance, shounen, super power',\n",
              "  'adventure, comedy, demons, drama, fantasy, historical, romance, shounen, super power'],\n",
              " 'Mobile Suit Gundam II: Soldiers of Sorrow': ['action, drama, mecha, military, sci-fi, space',\n",
              "  'action, drama, mecha, military, sci-fi, space',\n",
              "  'action, drama, mecha, military, sci-fi, space'],\n",
              " 'Natsume Yuujinchou': ['drama, fantasy, shoujo, slice of life, supernatural',\n",
              "  'drama, fantasy, shoujo, slice of life, supernatural',\n",
              "  'drama, fantasy, shoujo, slice of life, supernatural',\n",
              "  'drama, fantasy, shoujo, slice of life, supernatural'],\n",
              " 'Fullmetal Alchemist': ['action, adventure, comedy, drama, fantasy, magic, military, shounen',\n",
              "  'action, adventure, comedy, drama, fantasy, magic, military, shounen',\n",
              "  'action, adventure, comedy, drama, fantasy, magic, military, shounen',\n",
              "  'action, adventure, comedy, drama, fantasy, magic, military, shounen',\n",
              "  'action, adventure, comedy, drama, fantasy, magic, military, shounen',\n",
              "  'action, adventure, comedy, drama, fantasy, magic, military, shounen',\n",
              "  'action, adventure, comedy, drama, fantasy, magic, military, shounen',\n",
              "  'action, adventure, comedy, drama, fantasy, magic, military, shounen',\n",
              "  'action, adventure, comedy, drama, fantasy, magic, military, shounen',\n",
              "  'action, adventure, comedy, drama, fantasy, magic, military, shounen',\n",
              "  'action, adventure, comedy, drama, fantasy, magic, military, shounen',\n",
              "  'action, adventure, comedy, drama, fantasy, magic, military, shounen',\n",
              "  'action, adventure, comedy, drama, fantasy, magic, military, shounen',\n",
              "  'action, adventure, comedy, drama, fantasy, magic, military, shounen',\n",
              "  'action, adventure, comedy, drama, fantasy, magic, military, shounen',\n",
              "  'action, adventure, comedy, drama, fantasy, magic, military, shounen',\n",
              "  'action, adventure, comedy, drama, fantasy, magic, military, shounen'],\n",
              " 'Soredemo Sekai wa Utsukushii': ['adventure, fantasy, romance, shoujo',\n",
              "  'adventure, fantasy, romance, shoujo'],\n",
              " 'Pokemon: Mewtwo no Gyakushuu': ['action, adventure, comedy, drama, fantasy, kids',\n",
              "  'action, adventure, comedy, drama, fantasy, kids',\n",
              "  'action, adventure, comedy, drama, fantasy, kids',\n",
              "  'action, adventure, comedy, drama, fantasy, kids'],\n",
              " 'Hanbun no Tsuki ga Noboru Sora': ['comedy, drama, romance',\n",
              "  'comedy, drama, romance',\n",
              "  'comedy, drama, romance',\n",
              "  'comedy, drama, romance',\n",
              "  'comedy, drama, romance',\n",
              "  'comedy, drama, romance'],\n",
              " 'Black Lagoon: The Second Barrage': ['action, seinen',\n",
              "  'action, seinen',\n",
              "  'action, seinen',\n",
              "  'action, seinen',\n",
              "  'action, seinen',\n",
              "  'action, seinen',\n",
              "  'action, seinen',\n",
              "  'action, seinen',\n",
              "  'action, seinen',\n",
              "  'action, seinen',\n",
              "  'action, seinen'],\n",
              " 'Psycho-Pass': ['action, police, psychological, sci-fi',\n",
              "  'action, police, psychological, sci-fi',\n",
              "  'action, police, psychological, sci-fi',\n",
              "  'action, police, psychological, sci-fi',\n",
              "  'action, police, psychological, sci-fi',\n",
              "  'action, police, psychological, sci-fi',\n",
              "  'action, police, psychological, sci-fi',\n",
              "  'action, police, psychological, sci-fi',\n",
              "  'action, police, psychological, sci-fi',\n",
              "  'action, police, psychological, sci-fi',\n",
              "  'action, police, psychological, sci-fi',\n",
              "  'action, police, psychological, sci-fi',\n",
              "  'action, police, psychological, sci-fi',\n",
              "  'action, police, psychological, sci-fi'],\n",
              " 'Sakura Taisen': ['adventure, mecha, sci-fi, shounen'],\n",
              " 'K-On!!': ['comedy, music, school, slice of life',\n",
              "  'comedy, music, school, slice of life',\n",
              "  'comedy, music, school, slice of life',\n",
              "  'comedy, music, school, slice of life',\n",
              "  'comedy, music, school, slice of life',\n",
              "  'comedy, music, school, slice of life',\n",
              "  'comedy, music, school, slice of life',\n",
              "  'comedy, music, school, slice of life',\n",
              "  'comedy, music, school, slice of life',\n",
              "  'comedy, music, school, slice of life'],\n",
              " 'Dragon Ball Z Movie 07: Kyokugen Battle!! Sandai Super Saiyajin': ['adventure, comedy, fantasy, sci-fi, shounen',\n",
              "  'adventure, comedy, fantasy, sci-fi, shounen',\n",
              "  'adventure, comedy, fantasy, sci-fi, shounen'],\n",
              " 'Tenjou Tenge': ['action, comedy, ecchi, martial arts, school, shounen, super power',\n",
              "  'action, comedy, ecchi, martial arts, school, shounen, super power',\n",
              "  'action, comedy, ecchi, martial arts, school, shounen, super power',\n",
              "  'action, comedy, ecchi, martial arts, school, shounen, super power'],\n",
              " 'Kore wa Zombie Desu ka? OVA': ['action, comedy, ecchi, harem, magic, supernatural',\n",
              "  'action, comedy, ecchi, harem, magic, supernatural',\n",
              "  'action, comedy, ecchi, harem, magic, supernatural'],\n",
              " 'Last Exile': ['action, adventure, sci-fi',\n",
              "  'action, adventure, sci-fi',\n",
              "  'action, adventure, sci-fi'],\n",
              " 'Hunter x Hunter (2011)': ['action, adventure, shounen, super power',\n",
              "  'action, adventure, shounen, super power',\n",
              "  'action, adventure, shounen, super power',\n",
              "  'action, adventure, shounen, super power'],\n",
              " 'Gravitation: Lyrics of Love': ['comedy, romance, shoujo, shounen ai'],\n",
              " 'Papa no Iukoto wo Kikinasai!: Pokkapoka': ['comedy, romance, slice of life'],\n",
              " 'Morita-san wa Mukuchi.': ['comedy, school, slice of life',\n",
              "  'comedy, school, slice of life'],\n",
              " 'Hamatora The Animation': ['comedy, mystery, super power',\n",
              "  'comedy, mystery, super power',\n",
              "  'comedy, mystery, super power'],\n",
              " 'Ano Natsu de Matteru': ['comedy, drama, romance, sci-fi, slice of life',\n",
              "  'comedy, drama, romance, sci-fi, slice of life'],\n",
              " 'Rurouni Kenshin: Meiji Kenkaku Romantan - Tsuioku-hen': ['action, drama, historical, martial arts, romance, samurai',\n",
              "  'action, drama, historical, martial arts, romance, samurai',\n",
              "  'action, drama, historical, martial arts, romance, samurai',\n",
              "  'action, drama, historical, martial arts, romance, samurai'],\n",
              " 'Angel Beats!': ['action, comedy, drama, school, supernatural',\n",
              "  'action, comedy, drama, school, supernatural',\n",
              "  'action, comedy, drama, school, supernatural',\n",
              "  'action, comedy, drama, school, supernatural',\n",
              "  'action, comedy, drama, school, supernatural',\n",
              "  'action, comedy, drama, school, supernatural',\n",
              "  'action, comedy, drama, school, supernatural',\n",
              "  'action, comedy, drama, school, supernatural',\n",
              "  'action, comedy, drama, school, supernatural',\n",
              "  'action, comedy, drama, school, supernatural',\n",
              "  'action, comedy, drama, school, supernatural',\n",
              "  'action, comedy, drama, school, supernatural',\n",
              "  'action, comedy, drama, school, supernatural',\n",
              "  'action, comedy, drama, school, supernatural'],\n",
              " 'Soukou no Strain': ['drama, ecchi, mecha, military, sci-fi, space',\n",
              "  'drama, ecchi, mecha, military, sci-fi, space'],\n",
              " 'Kill la Kill': ['action, comedy, school, super power',\n",
              "  'action, comedy, school, super power',\n",
              "  'action, comedy, school, super power',\n",
              "  'action, comedy, school, super power',\n",
              "  'action, comedy, school, super power'],\n",
              " 'D.Gray-man': ['action, adventure, comedy, shounen',\n",
              "  'action, adventure, comedy, shounen',\n",
              "  'action, adventure, comedy, shounen',\n",
              "  'action, adventure, comedy, shounen',\n",
              "  'action, adventure, comedy, shounen',\n",
              "  'action, adventure, comedy, shounen',\n",
              "  'action, adventure, comedy, shounen',\n",
              "  'action, adventure, comedy, shounen'],\n",
              " 'Sword Art Online': ['action, adventure, fantasy, game, romance',\n",
              "  'action, adventure, fantasy, game, romance',\n",
              "  'action, adventure, fantasy, game, romance',\n",
              "  'action, adventure, fantasy, game, romance',\n",
              "  'action, adventure, fantasy, game, romance',\n",
              "  'action, adventure, fantasy, game, romance',\n",
              "  'action, adventure, fantasy, game, romance',\n",
              "  'action, adventure, fantasy, game, romance',\n",
              "  'action, adventure, fantasy, game, romance',\n",
              "  'action, adventure, fantasy, game, romance',\n",
              "  'action, adventure, fantasy, game, romance',\n",
              "  'action, adventure, fantasy, game, romance',\n",
              "  'action, adventure, fantasy, game, romance',\n",
              "  'action, adventure, fantasy, game, romance',\n",
              "  'action, adventure, fantasy, game, romance',\n",
              "  'action, adventure, fantasy, game, romance',\n",
              "  'action, adventure, fantasy, game, romance',\n",
              "  'action, adventure, fantasy, game, romance',\n",
              "  'action, adventure, fantasy, game, romance',\n",
              "  'action, adventure, fantasy, game, romance',\n",
              "  'action, adventure, fantasy, game, romance',\n",
              "  'action, adventure, fantasy, game, romance',\n",
              "  'action, adventure, fantasy, game, romance'],\n",
              " 'Dragon Ball Z Movie 02: Kono Yo de Ichiban Tsuyoi Yatsu': ['adventure, comedy, fantasy, sci-fi, shounen',\n",
              "  'adventure, comedy, fantasy, sci-fi, shounen',\n",
              "  'adventure, comedy, fantasy, sci-fi, shounen'],\n",
              " 'Ryuugajou Nanana no Maizoukin (TV)': ['comedy, supernatural'],\n",
              " 'No.6': ['action, sci-fi', 'action, sci-fi'],\n",
              " 'Steins;Gate': ['sci-fi, thriller',\n",
              "  'sci-fi, thriller',\n",
              "  'sci-fi, thriller',\n",
              "  'sci-fi, thriller',\n",
              "  'sci-fi, thriller',\n",
              "  'sci-fi, thriller'],\n",
              " 'One Piece Film: Strong World': ['action, adventure, comedy, drama, fantasy, shounen'],\n",
              " 'Special A': ['comedy, romance, school, shoujo',\n",
              "  'comedy, romance, school, shoujo',\n",
              "  'comedy, romance, school, shoujo',\n",
              "  'comedy, romance, school, shoujo'],\n",
              " 'Asura Cryin&#039;': ['action, mecha, supernatural'],\n",
              " 'Ano Hi Mita Hana no Namae wo Bokutachi wa Mada Shiranai. Movie': ['drama, slice of life, supernatural',\n",
              "  'drama, slice of life, supernatural'],\n",
              " 'Yumeria': ['action, comedy, ecchi, harem, super power'],\n",
              " 'Maji de Watashi ni Koi Shinasai!': ['comedy, ecchi, harem, martial arts, romance, school, super power',\n",
              "  'comedy, ecchi, harem, martial arts, romance, school, super power',\n",
              "  'comedy, ecchi, harem, martial arts, romance, school, super power'],\n",
              " 'Mondaiji-tachi ga Isekai kara Kuru Sou Desu yo?': ['comedy, fantasy, supernatural',\n",
              "  'comedy, fantasy, supernatural',\n",
              "  'comedy, fantasy, supernatural',\n",
              "  'comedy, fantasy, supernatural',\n",
              "  'comedy, fantasy, supernatural'],\n",
              " 'Mobile Suit Gundam: The 08th MS Team - A Battle with the Third Dimension': ['action, mecha, military',\n",
              "  'action, mecha, military'],\n",
              " 'Suzumiya Haruhi-chan no Yuuutsu': ['comedy, parody', 'comedy, parody'],\n",
              " 'Zombie-Loan': ['action, horror, shounen, supernatural',\n",
              "  'action, horror, shounen, supernatural',\n",
              "  'action, horror, shounen, supernatural'],\n",
              " 'Zero no Tsukaima: Futatsuki no Kishi': ['action, adventure, comedy, ecchi, fantasy, harem, magic, romance, school',\n",
              "  'action, adventure, comedy, ecchi, fantasy, harem, magic, romance, school',\n",
              "  'action, adventure, comedy, ecchi, fantasy, harem, magic, romance, school',\n",
              "  'action, adventure, comedy, ecchi, fantasy, harem, magic, romance, school',\n",
              "  'action, adventure, comedy, ecchi, fantasy, harem, magic, romance, school',\n",
              "  'action, adventure, comedy, ecchi, fantasy, harem, magic, romance, school',\n",
              "  'action, adventure, comedy, ecchi, fantasy, harem, magic, romance, school',\n",
              "  'action, adventure, comedy, ecchi, fantasy, harem, magic, romance, school',\n",
              "  'action, adventure, comedy, ecchi, fantasy, harem, magic, romance, school',\n",
              "  'action, adventure, comedy, ecchi, fantasy, harem, magic, romance, school',\n",
              "  'action, adventure, comedy, ecchi, fantasy, harem, magic, romance, school',\n",
              "  'action, adventure, comedy, ecchi, fantasy, harem, magic, romance, school'],\n",
              " 'Aldnoah.Zero 2nd Season': ['action, mecha, sci-fi, space',\n",
              "  'action, mecha, sci-fi, space',\n",
              "  'action, mecha, sci-fi, space'],\n",
              " 'Hotarubi no Mori e': ['drama, romance, shoujo, supernatural',\n",
              "  'drama, romance, shoujo, supernatural',\n",
              "  'drama, romance, shoujo, supernatural'],\n",
              " 'JoJo no Kimyou na Bouken (TV)': ['action, adventure, shounen, supernatural, vampire',\n",
              "  'action, adventure, shounen, supernatural, vampire',\n",
              "  'action, adventure, shounen, supernatural, vampire',\n",
              "  'action, adventure, shounen, supernatural, vampire',\n",
              "  'action, adventure, shounen, supernatural, vampire',\n",
              "  'action, adventure, shounen, supernatural, vampire'],\n",
              " 'Aki-Sora': ['ecchi, romance, seinen',\n",
              "  'ecchi, romance, seinen',\n",
              "  'ecchi, romance, seinen'],\n",
              " 'Suzuka': ['drama, romance, sports'],\n",
              " 'Uchouten Kazoku': ['comedy, drama, fantasy, slice of life'],\n",
              " 'Ikkitousen: Xtreme Xecutor': ['action, ecchi, martial arts, school, super power',\n",
              "  'action, ecchi, martial arts, school, super power'],\n",
              " 'Ookami to Koushinryou II: Ookami to Kohakuiro no Yuuutsu': ['fantasy, historical, romance',\n",
              "  'fantasy, historical, romance',\n",
              "  'fantasy, historical, romance',\n",
              "  'fantasy, historical, romance'],\n",
              " 'Minami-ke Okaeri': ['comedy, school, slice of life',\n",
              "  'comedy, school, slice of life',\n",
              "  'comedy, school, slice of life'],\n",
              " 'Tenjou Tenge: The Past Chapter': ['adventure, drama, martial arts, romance, shounen, supernatural',\n",
              "  'adventure, drama, martial arts, romance, shounen, supernatural'],\n",
              " 'Owarimonogatari': ['comedy, mystery, supernatural',\n",
              "  'comedy, mystery, supernatural',\n",
              "  'comedy, mystery, supernatural',\n",
              "  'comedy, mystery, supernatural'],\n",
              " 'K-On!: Live House!': ['comedy, music, school, slice of life',\n",
              "  'comedy, music, school, slice of life',\n",
              "  'comedy, music, school, slice of life',\n",
              "  'comedy, music, school, slice of life'],\n",
              " 'InuYasha': ['action, adventure, comedy, demons, fantasy, magic, romance, shounen, supernatural',\n",
              "  'action, adventure, comedy, demons, fantasy, magic, romance, shounen, supernatural',\n",
              "  'action, adventure, comedy, demons, fantasy, magic, romance, shounen, supernatural',\n",
              "  'action, adventure, comedy, demons, fantasy, magic, romance, shounen, supernatural',\n",
              "  'action, adventure, comedy, demons, fantasy, magic, romance, shounen, supernatural',\n",
              "  'action, adventure, comedy, demons, fantasy, magic, romance, shounen, supernatural'],\n",
              " 'Yumekui Merry': ['action, shounen, supernatural',\n",
              "  'action, shounen, supernatural',\n",
              "  'action, shounen, supernatural'],\n",
              " 'Medaka Box Abnormal': ['action, comedy, ecchi, martial arts, school, shounen, super power',\n",
              "  'action, comedy, ecchi, martial arts, school, shounen, super power',\n",
              "  'action, comedy, ecchi, martial arts, school, shounen, super power',\n",
              "  'action, comedy, ecchi, martial arts, school, shounen, super power',\n",
              "  'action, comedy, ecchi, martial arts, school, shounen, super power'],\n",
              " 'Gake no Ue no Ponyo': ['adventure, fantasy',\n",
              "  'adventure, fantasy',\n",
              "  'adventure, fantasy',\n",
              "  'adventure, fantasy',\n",
              "  'adventure, fantasy',\n",
              "  'adventure, fantasy',\n",
              "  'adventure, fantasy',\n",
              "  'adventure, fantasy'],\n",
              " 'Mai-Otome Zwei': ['action, magic'],\n",
              " 'Mahou Shoujo Madoka★Magica': ['drama, magic, psychological, thriller',\n",
              "  'drama, magic, psychological, thriller',\n",
              "  'drama, magic, psychological, thriller',\n",
              "  'drama, magic, psychological, thriller',\n",
              "  'drama, magic, psychological, thriller',\n",
              "  'drama, magic, psychological, thriller',\n",
              "  'drama, magic, psychological, thriller',\n",
              "  'drama, magic, psychological, thriller'],\n",
              " 'Jigoku Shoujo': ['horror, mystery, psychological, supernatural',\n",
              "  'horror, mystery, psychological, supernatural',\n",
              "  'horror, mystery, psychological, supernatural',\n",
              "  'horror, mystery, psychological, supernatural'],\n",
              " 'Freezing Vibration': ['action, drama, ecchi, harem, martial arts, military, romance, sci-fi, seinen',\n",
              "  'action, drama, ecchi, harem, martial arts, military, romance, sci-fi, seinen'],\n",
              " 'Hajime no Ippo: Boxer no Kobushi': ['comedy, drama, shounen, sports'],\n",
              " 'Peace Hame!': ['hentai'],\n",
              " 'Dragon Collection': ['fantasy, shounen'],\n",
              " 'Claymore': ['action, adventure, demons, fantasy, shounen, super power, supernatural',\n",
              "  'action, adventure, demons, fantasy, shounen, super power, supernatural',\n",
              "  'action, adventure, demons, fantasy, shounen, super power, supernatural',\n",
              "  'action, adventure, demons, fantasy, shounen, super power, supernatural',\n",
              "  'action, adventure, demons, fantasy, shounen, super power, supernatural',\n",
              "  'action, adventure, demons, fantasy, shounen, super power, supernatural',\n",
              "  'action, adventure, demons, fantasy, shounen, super power, supernatural',\n",
              "  'action, adventure, demons, fantasy, shounen, super power, supernatural',\n",
              "  'action, adventure, demons, fantasy, shounen, super power, supernatural'],\n",
              " 'Mobile Suit Gundam Seed MSV Astray': ['mecha, military, sci-fi, shounen, space'],\n",
              " 'Code Geass: Hangyaku no Lelouch R2': ['action, drama, mecha, military, sci-fi, super power',\n",
              "  'action, drama, mecha, military, sci-fi, super power',\n",
              "  'action, drama, mecha, military, sci-fi, super power',\n",
              "  'action, drama, mecha, military, sci-fi, super power',\n",
              "  'action, drama, mecha, military, sci-fi, super power',\n",
              "  'action, drama, mecha, military, sci-fi, super power',\n",
              "  'action, drama, mecha, military, sci-fi, super power',\n",
              "  'action, drama, mecha, military, sci-fi, super power',\n",
              "  'action, drama, mecha, military, sci-fi, super power',\n",
              "  'action, drama, mecha, military, sci-fi, super power',\n",
              "  'action, drama, mecha, military, sci-fi, super power',\n",
              "  'action, drama, mecha, military, sci-fi, super power',\n",
              "  'action, drama, mecha, military, sci-fi, super power',\n",
              "  'action, drama, mecha, military, sci-fi, super power',\n",
              "  'action, drama, mecha, military, sci-fi, super power',\n",
              "  'action, drama, mecha, military, sci-fi, super power',\n",
              "  'action, drama, mecha, military, sci-fi, super power',\n",
              "  'action, drama, mecha, military, sci-fi, super power',\n",
              "  'action, drama, mecha, military, sci-fi, super power',\n",
              "  'action, drama, mecha, military, sci-fi, super power',\n",
              "  'action, drama, mecha, military, sci-fi, super power'],\n",
              " 'Ga-Rei: Zero': ['action, super power, supernatural, thriller',\n",
              "  'action, super power, supernatural, thriller',\n",
              "  'action, super power, supernatural, thriller'],\n",
              " 'Aria The Origination': ['fantasy, sci-fi, shounen, slice of life',\n",
              "  'fantasy, sci-fi, shounen, slice of life',\n",
              "  'fantasy, sci-fi, shounen, slice of life'],\n",
              " 'Date A Live: Date to Date': ['comedy, harem, romance, school, sci-fi',\n",
              "  'comedy, harem, romance, school, sci-fi'],\n",
              " 'Ao no 6-gou': ['action, adventure, mecha, military, sci-fi',\n",
              "  'action, adventure, mecha, military, sci-fi'],\n",
              " 'Mononoke Hime': ['action, adventure, fantasy',\n",
              "  'action, adventure, fantasy',\n",
              "  'action, adventure, fantasy',\n",
              "  'action, adventure, fantasy',\n",
              "  'action, adventure, fantasy',\n",
              "  'action, adventure, fantasy',\n",
              "  'action, adventure, fantasy',\n",
              "  'action, adventure, fantasy',\n",
              "  'action, adventure, fantasy',\n",
              "  'action, adventure, fantasy',\n",
              "  'action, adventure, fantasy',\n",
              "  'action, adventure, fantasy',\n",
              "  'action, adventure, fantasy'],\n",
              " 'Gakuen Heaven': ['comedy, drama, romance, school, shounen ai',\n",
              "  'comedy, drama, romance, school, shounen ai',\n",
              "  'comedy, drama, romance, school, shounen ai'],\n",
              " 'Shakugan no Shana': ['action, drama, fantasy, romance, school, supernatural',\n",
              "  'action, drama, fantasy, romance, school, supernatural',\n",
              "  'action, drama, fantasy, romance, school, supernatural',\n",
              "  'action, drama, fantasy, romance, school, supernatural',\n",
              "  'action, drama, fantasy, romance, school, supernatural',\n",
              "  'action, drama, fantasy, romance, school, supernatural'],\n",
              " 'Naruto: Shippuuden Movie 3 - Hi no Ishi wo Tsugu Mono': ['action, comedy, martial arts, shounen, super power',\n",
              "  'action, comedy, martial arts, shounen, super power',\n",
              "  'action, comedy, martial arts, shounen, super power'],\n",
              " 'Hotaru no Haka': ['drama, historical',\n",
              "  'drama, historical',\n",
              "  'drama, historical',\n",
              "  'drama, historical',\n",
              "  'drama, historical',\n",
              "  'drama, historical',\n",
              "  'drama, historical'],\n",
              " 'Blassreiter': ['action, sci-fi', 'action, sci-fi', 'action, sci-fi'],\n",
              " 'Overlord': ['action, adventure, fantasy, game, magic, supernatural',\n",
              "  'action, adventure, fantasy, game, magic, supernatural',\n",
              "  'action, adventure, fantasy, game, magic, supernatural',\n",
              "  'action, adventure, fantasy, game, magic, supernatural',\n",
              "  'action, adventure, fantasy, game, magic, supernatural'],\n",
              " 'Owari no Seraph: Nagoya Kessen-hen': ['action, drama, shounen, supernatural, vampire',\n",
              "  'action, drama, shounen, supernatural, vampire',\n",
              "  'action, drama, shounen, supernatural, vampire'],\n",
              " 'Yondemasu yo, Azazel-san. (TV)': ['comedy, demons, supernatural'],\n",
              " 'Pandora Hearts': ['adventure, fantasy, mystery, shounen, supernatural',\n",
              "  'adventure, fantasy, mystery, shounen, supernatural',\n",
              "  'adventure, fantasy, mystery, shounen, supernatural',\n",
              "  'adventure, fantasy, mystery, shounen, supernatural',\n",
              "  'adventure, fantasy, mystery, shounen, supernatural',\n",
              "  'adventure, fantasy, mystery, shounen, supernatural'],\n",
              " 'Hatsukoi Monster': ['comedy, romance, school, shoujo'],\n",
              " 'Pupa': ['fantasy, horror, psychological',\n",
              "  'fantasy, horror, psychological',\n",
              "  'fantasy, horror, psychological'],\n",
              " 'Baccano! Specials': ['action, comedy, historical, mystery, seinen, supernatural',\n",
              "  'action, comedy, historical, mystery, seinen, supernatural',\n",
              "  'action, comedy, historical, mystery, seinen, supernatural',\n",
              "  'action, comedy, historical, mystery, seinen, supernatural'],\n",
              " 'Ghost Hunt': ['comedy, horror, mystery, shoujo, supernatural',\n",
              "  'comedy, horror, mystery, shoujo, supernatural',\n",
              "  'comedy, horror, mystery, shoujo, supernatural',\n",
              "  'comedy, horror, mystery, shoujo, supernatural'],\n",
              " 'Quiz Magic Academy: The Original Animation': ['comedy, fantasy, magic, school'],\n",
              " 'Ghost in the Shell: Stand Alone Complex': ['action, mecha, military, police, sci-fi, seinen',\n",
              "  'action, mecha, military, police, sci-fi, seinen',\n",
              "  'action, mecha, military, police, sci-fi, seinen',\n",
              "  'action, mecha, military, police, sci-fi, seinen',\n",
              "  'action, mecha, military, police, sci-fi, seinen',\n",
              "  'action, mecha, military, police, sci-fi, seinen',\n",
              "  'action, mecha, military, police, sci-fi, seinen',\n",
              "  'action, mecha, military, police, sci-fi, seinen'],\n",
              " 'Toaru Majutsu no Index-tan II': ['comedy, parody'],\n",
              " 'X/1999': ['action, drama, fantasy, horror, magic, sci-fi, supernatural'],\n",
              " 'Gate: Jieitai Kanochi nite, Kaku Tatakaeri': ['action, adventure, fantasy, military',\n",
              "  'action, adventure, fantasy, military',\n",
              "  'action, adventure, fantasy, military',\n",
              "  'action, adventure, fantasy, military',\n",
              "  'action, adventure, fantasy, military'],\n",
              " 'Asu no Yoichi!': ['comedy, ecchi, harem, martial arts, romance, shounen',\n",
              "  'comedy, ecchi, harem, martial arts, romance, shounen',\n",
              "  'comedy, ecchi, harem, martial arts, romance, shounen'],\n",
              " 'Bishoujo Senshi Sailor Moon R': ['demons, magic, romance, shoujo',\n",
              "  'demons, magic, romance, shoujo',\n",
              "  'demons, magic, romance, shoujo',\n",
              "  'demons, magic, romance, shoujo',\n",
              "  'demons, magic, romance, shoujo',\n",
              "  'demons, magic, romance, shoujo',\n",
              "  'demons, magic, romance, shoujo'],\n",
              " 'Tsuritama': ['comedy, sci-fi, slice of life, sports',\n",
              "  'comedy, sci-fi, slice of life, sports'],\n",
              " 'Bleach: Memories in the Rain': ['action, adventure, drama, shounen, supernatural',\n",
              "  'action, adventure, drama, shounen, supernatural',\n",
              "  'action, adventure, drama, shounen, supernatural',\n",
              "  'action, adventure, drama, shounen, supernatural',\n",
              "  'action, adventure, drama, shounen, supernatural',\n",
              "  'action, adventure, drama, shounen, supernatural'],\n",
              " 'Shinkon Gattai Godannar!! 2nd Season': ['comedy, ecchi, mecha, romance, sci-fi'],\n",
              " 'Ai Yori Aoshi: Yumegatari': ['comedy, harem, romance, slice of life'],\n",
              " 'Devil May Cry': ['action, demons, fantasy',\n",
              "  'action, demons, fantasy',\n",
              "  'action, demons, fantasy',\n",
              "  'action, demons, fantasy',\n",
              "  'action, demons, fantasy'],\n",
              " 'Pokemon Diamond &amp; Pearl: Arceus Choukoku no Jikuu e': ['action, adventure, comedy, drama, fantasy, kids',\n",
              "  'action, adventure, comedy, drama, fantasy, kids'],\n",
              " 'Air Movie': ['drama, romance, supernatural', 'drama, romance, supernatural'],\n",
              " 'Bokusatsu Tenshi Dokuro-chan 2': ['comedy, ecchi, magic',\n",
              "  'comedy, ecchi, magic',\n",
              "  'comedy, ecchi, magic',\n",
              "  'comedy, ecchi, magic',\n",
              "  'comedy, ecchi, magic'],\n",
              " 'Major: Message': ['comedy, drama, sports', 'comedy, drama, sports'],\n",
              " 'Gintama x Mameshiba': ['comedy, parody'],\n",
              " 'Baka to Test to Shoukanjuu: Matsuri': ['comedy, school, super power',\n",
              "  'comedy, school, super power',\n",
              "  'comedy, school, super power',\n",
              "  'comedy, school, super power'],\n",
              " 'Binbougami ga!': ['comedy, parody, shounen, supernatural'],\n",
              " 'Gatchaman Crowds': ['adventure, sci-fi',\n",
              "  'adventure, sci-fi',\n",
              "  'adventure, sci-fi'],\n",
              " 'Galilei Donna': ['action, adventure, sci-fi', 'action, adventure, sci-fi'],\n",
              " 'Ore no Kanojo to Osananajimi ga Shuraba Sugiru': ['comedy, harem, romance, school',\n",
              "  'comedy, harem, romance, school',\n",
              "  'comedy, harem, romance, school',\n",
              "  'comedy, harem, romance, school',\n",
              "  'comedy, harem, romance, school'],\n",
              " 'Kamichama Karin': ['comedy, fantasy, magic, romance, school, shoujo',\n",
              "  'comedy, fantasy, magic, romance, school, shoujo'],\n",
              " 'Dragon Ball GT: Goku Gaiden! Yuuki no Akashi wa Suushinchuu': ['action, adventure, comedy, fantasy, martial arts, shounen, super power'],\n",
              " 'Kuroshitsuji II': ['action, comedy, demons, fantasy, shounen, supernatural',\n",
              "  'action, comedy, demons, fantasy, shounen, supernatural',\n",
              "  'action, comedy, demons, fantasy, shounen, supernatural',\n",
              "  'action, comedy, demons, fantasy, shounen, supernatural',\n",
              "  'action, comedy, demons, fantasy, shounen, supernatural'],\n",
              " 'Akage no Anne': ['drama, historical, slice of life'],\n",
              " 'Watashi ga Motenai no wa Dou Kangaetemo Omaera ga Warui!: Motenaishi, Nazomeite Miru': ['comedy, school, slice of life',\n",
              "  'comedy, school, slice of life'],\n",
              " 'Hachimitsu to Clover II': ['drama, josei, romance',\n",
              "  'drama, josei, romance',\n",
              "  'drama, josei, romance',\n",
              "  'drama, josei, romance',\n",
              "  'drama, josei, romance'],\n",
              " 'Needless': ['action, comedy, ecchi, sci-fi, super power',\n",
              "  'action, comedy, ecchi, sci-fi, super power'],\n",
              " 'Kami nomi zo Shiru Sekai II': ['comedy, harem, romance, shounen, supernatural',\n",
              "  'comedy, harem, romance, shounen, supernatural',\n",
              "  'comedy, harem, romance, shounen, supernatural'],\n",
              " 'Darker than Black: Kuro no Keiyakusha Gaiden': ['action, mystery, sci-fi, super power',\n",
              "  'action, mystery, sci-fi, super power',\n",
              "  'action, mystery, sci-fi, super power',\n",
              "  'action, mystery, sci-fi, super power',\n",
              "  'action, mystery, sci-fi, super power',\n",
              "  'action, mystery, sci-fi, super power',\n",
              "  'action, mystery, sci-fi, super power'],\n",
              " 'Seirei no Moribito': ['action, adventure, fantasy, historical',\n",
              "  'action, adventure, fantasy, historical',\n",
              "  'action, adventure, fantasy, historical',\n",
              "  'action, adventure, fantasy, historical'],\n",
              " 'A-Channel': ['comedy, school, seinen, slice of life'],\n",
              " 'Gokusen': ['comedy, drama, josei, school, slice of life',\n",
              "  'comedy, drama, josei, school, slice of life'],\n",
              " 'Hajime no Ippo: Champion Road': ['comedy, shounen, sports',\n",
              "  'comedy, shounen, sports'],\n",
              " 'Love Hina Again': ['comedy, drama, ecchi, romance, shounen',\n",
              "  'comedy, drama, ecchi, romance, shounen',\n",
              "  'comedy, drama, ecchi, romance, shounen'],\n",
              " 'One Piece: Nenmatsu Tokubetsu Kikaku! Mugiwara no Luffy Oyabun Torimonochou': ['adventure, comedy, fantasy, shounen'],\n",
              " 'Trigun': ['action, comedy, sci-fi',\n",
              "  'action, comedy, sci-fi',\n",
              "  'action, comedy, sci-fi',\n",
              "  'action, comedy, sci-fi',\n",
              "  'action, comedy, sci-fi'],\n",
              " 'Tsubasa Chronicle: Tori Kago no Kuni no Himegimi': ['action, adventure, drama, fantasy, shounen'],\n",
              " 'Bleach Movie 1: Memories of Nobody': ['action, adventure, super power',\n",
              "  'action, adventure, super power',\n",
              "  'action, adventure, super power',\n",
              "  'action, adventure, super power',\n",
              "  'action, adventure, super power',\n",
              "  'action, adventure, super power',\n",
              "  'action, adventure, super power',\n",
              "  'action, adventure, super power',\n",
              "  'action, adventure, super power'],\n",
              " 'One Piece Movie 7: Karakuri-jou no Mecha Kyohei': ['adventure, comedy, fantasy, shounen'],\n",
              " 'Fate/kaleid liner Prisma☆Illya 2wei Herz!': ['action, comedy, fantasy, magic, slice of life'],\n",
              " 'Fractale': ['adventure, fantasy, sci-fi', 'adventure, fantasy, sci-fi'],\n",
              " 'Sankarea: Wagahai mo... Zombie de Aru...': ['comedy, ecchi, horror, romance, shounen, supernatural',\n",
              "  'comedy, ecchi, horror, romance, shounen, supernatural'],\n",
              " 'Sousei no Aquarion OVA': ['action, mecha, romance, sci-fi, super power, supernatural'],\n",
              " 'Rain Town': ['drama'],\n",
              " 'Yojouhan Shinwa Taikei': ['mystery, psychological, romance',\n",
              "  'mystery, psychological, romance'],\n",
              " 'Toaru Kagaku no Railgun': ['action, sci-fi, super power',\n",
              "  'action, sci-fi, super power',\n",
              "  'action, sci-fi, super power',\n",
              "  'action, sci-fi, super power',\n",
              "  'action, sci-fi, super power',\n",
              "  'action, sci-fi, super power'],\n",
              " 'Ichigo 100% Special 2': ['comedy, ecchi, romance, shounen'],\n",
              " 'Air Gear Special': ['shounen, sports',\n",
              "  'shounen, sports',\n",
              "  'shounen, sports',\n",
              "  'shounen, sports',\n",
              "  'shounen, sports',\n",
              "  'shounen, sports'],\n",
              " 'Ouran Koukou Host Club': ['comedy, harem, romance, school, shoujo',\n",
              "  'comedy, harem, romance, school, shoujo',\n",
              "  'comedy, harem, romance, school, shoujo',\n",
              "  'comedy, harem, romance, school, shoujo',\n",
              "  'comedy, harem, romance, school, shoujo',\n",
              "  'comedy, harem, romance, school, shoujo',\n",
              "  'comedy, harem, romance, school, shoujo',\n",
              "  'comedy, harem, romance, school, shoujo',\n",
              "  'comedy, harem, romance, school, shoujo',\n",
              "  'comedy, harem, romance, school, shoujo'],\n",
              " 'Higashi no Eden: Falling Down': ['music'],\n",
              " 'Mermaid Melody Pichi Pichi Pitch': ['adventure, comedy, magic, romance, shoujo'],\n",
              " 'Rizelmine': ['comedy, ecchi, romance, school, sci-fi'],\n",
              " 'Astarotte no Omocha!': ['comedy, demons, ecchi, fantasy, romance, seinen',\n",
              "  'comedy, demons, ecchi, fantasy, romance, seinen'],\n",
              " 'Digimon Adventure': ['action, adventure, comedy, fantasy, kids',\n",
              "  'action, adventure, comedy, fantasy, kids',\n",
              "  'action, adventure, comedy, fantasy, kids',\n",
              "  'action, adventure, comedy, fantasy, kids',\n",
              "  'action, adventure, comedy, fantasy, kids',\n",
              "  'action, adventure, comedy, fantasy, kids',\n",
              "  'action, adventure, comedy, fantasy, kids'],\n",
              " 'Sora no Otoshimono: Forte': ['comedy, ecchi, harem, romance, sci-fi, shounen, supernatural',\n",
              "  'comedy, ecchi, harem, romance, sci-fi, shounen, supernatural',\n",
              "  'comedy, ecchi, harem, romance, sci-fi, shounen, supernatural',\n",
              "  'comedy, ecchi, harem, romance, sci-fi, shounen, supernatural',\n",
              "  'comedy, ecchi, harem, romance, sci-fi, shounen, supernatural',\n",
              "  'comedy, ecchi, harem, romance, sci-fi, shounen, supernatural',\n",
              "  'comedy, ecchi, harem, romance, sci-fi, shounen, supernatural',\n",
              "  'comedy, ecchi, harem, romance, sci-fi, shounen, supernatural'],\n",
              " 'Dorei Ichiba': ['hentai'],\n",
              " 'RideBack': ['action, drama, mecha, school, sci-fi'],\n",
              " 'Clannad Movie': ['drama, fantasy, romance, school',\n",
              "  'drama, fantasy, romance, school',\n",
              "  'drama, fantasy, romance, school',\n",
              "  'drama, fantasy, romance, school'],\n",
              " 'Hitsugi no Chaika': ['action, adventure, comedy, fantasy, romance, shounen',\n",
              "  'action, adventure, comedy, fantasy, romance, shounen',\n",
              "  'action, adventure, comedy, fantasy, romance, shounen',\n",
              "  'action, adventure, comedy, fantasy, romance, shounen',\n",
              "  'action, adventure, comedy, fantasy, romance, shounen',\n",
              "  'action, adventure, comedy, fantasy, romance, shounen',\n",
              "  'action, adventure, comedy, fantasy, romance, shounen',\n",
              "  'action, adventure, comedy, fantasy, romance, shounen'],\n",
              " 'Kara no Kyoukai 7: Satsujin Kousatsu (Kou)': ['action, mystery, romance, supernatural, thriller'],\n",
              " 'Fate/stay night': ['action, fantasy, magic, romance, supernatural',\n",
              "  'action, fantasy, magic, romance, supernatural',\n",
              "  'action, fantasy, magic, romance, supernatural',\n",
              "  'action, fantasy, magic, romance, supernatural',\n",
              "  'action, fantasy, magic, romance, supernatural',\n",
              "  'action, fantasy, magic, romance, supernatural',\n",
              "  'action, fantasy, magic, romance, supernatural',\n",
              "  'action, fantasy, magic, romance, supernatural',\n",
              "  'action, fantasy, magic, romance, supernatural',\n",
              "  'action, fantasy, magic, romance, supernatural',\n",
              "  'action, fantasy, magic, romance, supernatural',\n",
              "  'action, fantasy, magic, romance, supernatural',\n",
              "  'action, fantasy, magic, romance, supernatural'],\n",
              " 'Pokemon Diamond &amp; Pearl: Giratina to Sora no Hanataba Sheimi': ['action, adventure, fantasy, kids'],\n",
              " 'Detective Conan Movie 03: The Last Wizard of the Century': ['adventure, comedy, mystery, police, shounen',\n",
              "  'adventure, comedy, mystery, police, shounen',\n",
              "  'adventure, comedy, mystery, police, shounen',\n",
              "  'adventure, comedy, mystery, police, shounen'],\n",
              " 'Break Blade 1: Kakusei no Toki': ['action, fantasy, mecha, military, shounen',\n",
              "  'action, fantasy, mecha, military, shounen',\n",
              "  'action, fantasy, mecha, military, shounen',\n",
              "  'action, fantasy, mecha, military, shounen',\n",
              "  'action, fantasy, mecha, military, shounen'],\n",
              " 'Sword Art Online: Extra Edition': ['action, adventure, fantasy, game, romance',\n",
              "  'action, adventure, fantasy, game, romance',\n",
              "  'action, adventure, fantasy, game, romance',\n",
              "  'action, adventure, fantasy, game, romance',\n",
              "  'action, adventure, fantasy, game, romance',\n",
              "  'action, adventure, fantasy, game, romance',\n",
              "  'action, adventure, fantasy, game, romance'],\n",
              " 'Nitaboh': ['historical, music'],\n",
              " 'Tokimeki Memorial: Only Love': ['comedy, harem, romance, school'],\n",
              " 'Gekkan Shoujo Nozaki-kun': ['comedy, romance, school',\n",
              "  'comedy, romance, school',\n",
              "  'comedy, romance, school',\n",
              "  'comedy, romance, school',\n",
              "  'comedy, romance, school',\n",
              "  'comedy, romance, school',\n",
              "  'comedy, romance, school'],\n",
              " 'Gakkou no Kaidan': ['horror, mystery, supernatural'],\n",
              " 'Ore no Imouto ga Konnani Kawaii Wake ga Nai.': ['comedy, seinen, slice of life',\n",
              "  'comedy, seinen, slice of life',\n",
              "  'comedy, seinen, slice of life',\n",
              "  'comedy, seinen, slice of life'],\n",
              " 'Jormungand: Perfect Order': ['action, adventure, seinen',\n",
              "  'action, adventure, seinen'],\n",
              " 'Toradora!: Bentou no Gokui': ['comedy, romance, school, slice of life',\n",
              "  'comedy, romance, school, slice of life'],\n",
              " 'Dareka no Manazashi': ['drama, slice of life'],\n",
              " 'Sekirei: Pure Engagement - Kanwa ni Dai': ['comedy, ecchi, harem'],\n",
              " 'Shakugan no Shana S Specials': ['comedy, parody'],\n",
              " 'Motto To LOVE-Ru': ['comedy, ecchi, harem, school, sci-fi, shounen',\n",
              "  'comedy, ecchi, harem, school, sci-fi, shounen',\n",
              "  'comedy, ecchi, harem, school, sci-fi, shounen',\n",
              "  'comedy, ecchi, harem, school, sci-fi, shounen'],\n",
              " 'Dragon Ball Z': ['action, adventure, comedy, fantasy, martial arts, shounen, super power',\n",
              "  'action, adventure, comedy, fantasy, martial arts, shounen, super power',\n",
              "  'action, adventure, comedy, fantasy, martial arts, shounen, super power',\n",
              "  'action, adventure, comedy, fantasy, martial arts, shounen, super power',\n",
              "  'action, adventure, comedy, fantasy, martial arts, shounen, super power',\n",
              "  'action, adventure, comedy, fantasy, martial arts, shounen, super power',\n",
              "  'action, adventure, comedy, fantasy, martial arts, shounen, super power'],\n",
              " 'Naruto: Takigakure no Shitou - Ore ga Eiyuu Dattebayo!': ['action, adventure, comedy, shounen, super power',\n",
              "  'action, adventure, comedy, shounen, super power',\n",
              "  'action, adventure, comedy, shounen, super power'],\n",
              " 'Mononoke': ['demons, fantasy, historical, horror, mystery, seinen, supernatural'],\n",
              " 'Chrome Shelled Regios': ['action, adventure, fantasy, school, sci-fi',\n",
              "  'action, adventure, fantasy, school, sci-fi',\n",
              "  'action, adventure, fantasy, school, sci-fi'],\n",
              " 'Ore no Nounai Sentakushi ga, Gakuen Love Comedy wo Zenryoku de Jama Shiteiru': ['comedy, romance, school',\n",
              "  'comedy, romance, school',\n",
              "  'comedy, romance, school',\n",
              "  'comedy, romance, school',\n",
              "  'comedy, romance, school'],\n",
              " 'FLCL': ['action, comedy, dementia, mecha, parody, sci-fi',\n",
              "  'action, comedy, dementia, mecha, parody, sci-fi',\n",
              "  'action, comedy, dementia, mecha, parody, sci-fi',\n",
              "  'action, comedy, dementia, mecha, parody, sci-fi',\n",
              "  'action, comedy, dementia, mecha, parody, sci-fi',\n",
              "  'action, comedy, dementia, mecha, parody, sci-fi',\n",
              "  'action, comedy, dementia, mecha, parody, sci-fi',\n",
              "  'action, comedy, dementia, mecha, parody, sci-fi',\n",
              "  'action, comedy, dementia, mecha, parody, sci-fi',\n",
              "  'action, comedy, dementia, mecha, parody, sci-fi',\n",
              "  'action, comedy, dementia, mecha, parody, sci-fi',\n",
              "  'action, comedy, dementia, mecha, parody, sci-fi',\n",
              "  'action, comedy, dementia, mecha, parody, sci-fi',\n",
              "  'action, comedy, dementia, mecha, parody, sci-fi',\n",
              "  'action, comedy, dementia, mecha, parody, sci-fi'],\n",
              " 'Digimon Tamers': ['adventure, comedy, drama, fantasy, shounen',\n",
              "  'adventure, comedy, drama, fantasy, shounen',\n",
              "  'adventure, comedy, drama, fantasy, shounen',\n",
              "  'adventure, comedy, drama, fantasy, shounen',\n",
              "  'adventure, comedy, drama, fantasy, shounen',\n",
              "  'adventure, comedy, drama, fantasy, shounen'],\n",
              " 'Neppuu Kairiku Bushi Road': ['action, fantasy, mecha, sci-fi'],\n",
              " 'R.O.D OVA': ['action, adventure, historical, magic, mystery, sci-fi',\n",
              "  'action, adventure, historical, magic, mystery, sci-fi'],\n",
              " 'Fighting of Ecstasy': ['hentai'],\n",
              " 'Ookami to Koushinryou': ['adventure, fantasy, historical, romance',\n",
              "  'adventure, fantasy, historical, romance',\n",
              "  'adventure, fantasy, historical, romance',\n",
              "  'adventure, fantasy, historical, romance',\n",
              "  'adventure, fantasy, historical, romance',\n",
              "  'adventure, fantasy, historical, romance',\n",
              "  'adventure, fantasy, historical, romance',\n",
              "  'adventure, fantasy, historical, romance',\n",
              "  'adventure, fantasy, historical, romance',\n",
              "  'adventure, fantasy, historical, romance',\n",
              "  'adventure, fantasy, historical, romance'],\n",
              " 'Densetsu no Yuusha no Densetsu: Iris Report': ['action, adventure, fantasy, magic, shounen'],\n",
              " 'Mirai Nikki (TV)': ['action, mystery, psychological, shounen, supernatural, thriller',\n",
              "  'action, mystery, psychological, shounen, supernatural, thriller',\n",
              "  'action, mystery, psychological, shounen, supernatural, thriller',\n",
              "  'action, mystery, psychological, shounen, supernatural, thriller',\n",
              "  'action, mystery, psychological, shounen, supernatural, thriller',\n",
              "  'action, mystery, psychological, shounen, supernatural, thriller',\n",
              "  'action, mystery, psychological, shounen, supernatural, thriller',\n",
              "  'action, mystery, psychological, shounen, supernatural, thriller',\n",
              "  'action, mystery, psychological, shounen, supernatural, thriller',\n",
              "  'action, mystery, psychological, shounen, supernatural, thriller'],\n",
              " 'Rozen Maiden': ['action, comedy, drama, magic, seinen',\n",
              "  'action, comedy, drama, magic, seinen',\n",
              "  'action, comedy, drama, magic, seinen'],\n",
              " 'Tengen Toppa Gurren Lagann': ['action, adventure, comedy, mecha, sci-fi',\n",
              "  'action, adventure, comedy, mecha, sci-fi',\n",
              "  'action, adventure, comedy, mecha, sci-fi',\n",
              "  'action, adventure, comedy, mecha, sci-fi',\n",
              "  'action, adventure, comedy, mecha, sci-fi',\n",
              "  'action, adventure, comedy, mecha, sci-fi',\n",
              "  'action, adventure, comedy, mecha, sci-fi',\n",
              "  'action, adventure, comedy, mecha, sci-fi',\n",
              "  'action, adventure, comedy, mecha, sci-fi',\n",
              "  'action, adventure, comedy, mecha, sci-fi',\n",
              "  'action, adventure, comedy, mecha, sci-fi',\n",
              "  'action, adventure, comedy, mecha, sci-fi',\n",
              "  'action, adventure, comedy, mecha, sci-fi',\n",
              "  'action, adventure, comedy, mecha, sci-fi',\n",
              "  'action, adventure, comedy, mecha, sci-fi',\n",
              "  'action, adventure, comedy, mecha, sci-fi',\n",
              "  'action, adventure, comedy, mecha, sci-fi',\n",
              "  'action, adventure, comedy, mecha, sci-fi',\n",
              "  'action, adventure, comedy, mecha, sci-fi'],\n",
              " 'Shinreigari: Ghost Hound': ['mystery, psychological, sci-fi, supernatural'],\n",
              " 'Tonagura!': ['comedy, drama, ecchi, romance, school',\n",
              "  'comedy, drama, ecchi, romance, school'],\n",
              " 'Cardcaptor Sakura': ['adventure, comedy, drama, fantasy, magic, romance, school, shoujo',\n",
              "  'adventure, comedy, drama, fantasy, magic, romance, school, shoujo',\n",
              "  'adventure, comedy, drama, fantasy, magic, romance, school, shoujo',\n",
              "  'adventure, comedy, drama, fantasy, magic, romance, school, shoujo'],\n",
              " 'Toaru Majutsu no Index-tan': ['comedy, parody',\n",
              "  'comedy, parody',\n",
              "  'comedy, parody',\n",
              "  'comedy, parody'],\n",
              " 'Higurashi no Naku Koro ni': ['horror, mystery, psychological, supernatural, thriller',\n",
              "  'horror, mystery, psychological, supernatural, thriller',\n",
              "  'horror, mystery, psychological, supernatural, thriller',\n",
              "  'horror, mystery, psychological, supernatural, thriller',\n",
              "  'horror, mystery, psychological, supernatural, thriller',\n",
              "  'horror, mystery, psychological, supernatural, thriller',\n",
              "  'horror, mystery, psychological, supernatural, thriller',\n",
              "  'horror, mystery, psychological, supernatural, thriller',\n",
              "  'horror, mystery, psychological, supernatural, thriller'],\n",
              " 'Kaiba': ['adventure, mystery, romance, sci-fi'],\n",
              " 'Seirei Tsukai no Blade Dance': ['action, comedy, ecchi, fantasy, harem, romance, school, supernatural',\n",
              "  'action, comedy, ecchi, fantasy, harem, romance, school, supernatural',\n",
              "  'action, comedy, ecchi, fantasy, harem, romance, school, supernatural',\n",
              "  'action, comedy, ecchi, fantasy, harem, romance, school, supernatural'],\n",
              " 'Ane Log: Moyako Neesan no Tomaranai Monologue': ['comedy, ecchi, school, shounen'],\n",
              " 'Black Lagoon: Roberta&#039;s Blood Trail': ['action, seinen',\n",
              "  'action, seinen',\n",
              "  'action, seinen',\n",
              "  'action, seinen',\n",
              "  'action, seinen',\n",
              "  'action, seinen'],\n",
              " 'Gunslinger Girl: Il Teatrino': ['action, drama, military, sci-fi',\n",
              "  'action, drama, military, sci-fi'],\n",
              " 'Armitage III': ['action, adventure, mecha, police, romance, sci-fi',\n",
              "  'action, adventure, mecha, police, romance, sci-fi'],\n",
              " 'Futakoi Alternative': ['comedy, drama, romance', 'comedy, drama, romance'],\n",
              " 'Jyu Oh Sei': ['action, adventure, drama, mystery, sci-fi, shoujo',\n",
              "  'action, adventure, drama, mystery, sci-fi, shoujo'],\n",
              " 'Amagami SS+ Plus': ['comedy, romance, school, slice of life',\n",
              "  'comedy, romance, school, slice of life',\n",
              "  'comedy, romance, school, slice of life'],\n",
              " 'Mai-HiME': ['action, comedy, drama, fantasy, magic, mecha, romance, school, shoujo ai',\n",
              "  'action, comedy, drama, fantasy, magic, mecha, romance, school, shoujo ai',\n",
              "  'action, comedy, drama, fantasy, magic, mecha, romance, school, shoujo ai'],\n",
              " 'Deadman Wonderland': ['action, horror, sci-fi',\n",
              "  'action, horror, sci-fi',\n",
              "  'action, horror, sci-fi',\n",
              "  'action, horror, sci-fi',\n",
              "  'action, horror, sci-fi'],\n",
              " 'Rosario to Vampire': ['comedy, ecchi, fantasy, harem, romance, school, shounen, vampire',\n",
              "  'comedy, ecchi, fantasy, harem, romance, school, shounen, vampire',\n",
              "  'comedy, ecchi, fantasy, harem, romance, school, shounen, vampire',\n",
              "  'comedy, ecchi, fantasy, harem, romance, school, shounen, vampire',\n",
              "  'comedy, ecchi, fantasy, harem, romance, school, shounen, vampire',\n",
              "  'comedy, ecchi, fantasy, harem, romance, school, shounen, vampire',\n",
              "  'comedy, ecchi, fantasy, harem, romance, school, shounen, vampire',\n",
              "  'comedy, ecchi, fantasy, harem, romance, school, shounen, vampire',\n",
              "  'comedy, ecchi, fantasy, harem, romance, school, shounen, vampire',\n",
              "  'comedy, ecchi, fantasy, harem, romance, school, shounen, vampire'],\n",
              " 'Uta no☆Prince-sama♪ Maji Love 1000%': ['comedy, harem, music, romance, school, shoujo',\n",
              "  'comedy, harem, music, romance, school, shoujo',\n",
              "  'comedy, harem, music, romance, school, shoujo'],\n",
              " 'Miss Monochrome: The Animation': ['comedy, music, slice of life',\n",
              "  'comedy, music, slice of life'],\n",
              " 'Campione!: Matsurowanu Kamigami to Kamigoroshi no Maou': ['comedy, ecchi, fantasy, harem, magic, romance',\n",
              "  'comedy, ecchi, fantasy, harem, magic, romance',\n",
              "  'comedy, ecchi, fantasy, harem, magic, romance',\n",
              "  'comedy, ecchi, fantasy, harem, magic, romance',\n",
              "  'comedy, ecchi, fantasy, harem, magic, romance'],\n",
              " 'Mangaka-san to Assistant-san to The Animation': ['comedy, ecchi, harem, seinen, slice of life',\n",
              "  'comedy, ecchi, harem, seinen, slice of life',\n",
              "  'comedy, ecchi, harem, seinen, slice of life',\n",
              "  'comedy, ecchi, harem, seinen, slice of life',\n",
              "  'comedy, ecchi, harem, seinen, slice of life',\n",
              "  'comedy, ecchi, harem, seinen, slice of life',\n",
              "  'comedy, ecchi, harem, seinen, slice of life'],\n",
              " 'Yami to Boushi to Hon no Tabibito': ['adventure, ecchi, fantasy, magic, mystery, shoujo ai'],\n",
              " 'Mahouka Koukou no Rettousei': ['magic, romance, school, sci-fi, supernatural',\n",
              "  'magic, romance, school, sci-fi, supernatural',\n",
              "  'magic, romance, school, sci-fi, supernatural',\n",
              "  'magic, romance, school, sci-fi, supernatural',\n",
              "  'magic, romance, school, sci-fi, supernatural',\n",
              "  'magic, romance, school, sci-fi, supernatural',\n",
              "  'magic, romance, school, sci-fi, supernatural'],\n",
              " 'Spiral: Suiri no Kizuna': ['drama, mystery, shounen',\n",
              "  'drama, mystery, shounen'],\n",
              " 'Dogs: Bullets &amp; Carnage': ['action, seinen', 'action, seinen'],\n",
              " 'Sekaiichi Hatsukoi 2': ['comedy, drama, romance, shounen ai',\n",
              "  'comedy, drama, romance, shounen ai'],\n",
              " 'Tasogare Otome x Amnesia': ['horror, mystery, romance, school, shounen, supernatural',\n",
              "  'horror, mystery, romance, school, shounen, supernatural',\n",
              "  'horror, mystery, romance, school, shounen, supernatural',\n",
              "  'horror, mystery, romance, school, shounen, supernatural',\n",
              "  'horror, mystery, romance, school, shounen, supernatural',\n",
              "  'horror, mystery, romance, school, shounen, supernatural',\n",
              "  'horror, mystery, romance, school, shounen, supernatural'],\n",
              " 'InuYasha: Kanketsu-hen': ['action, adventure, comedy, demons, fantasy, magic, romance, shounen, supernatural',\n",
              "  'action, adventure, comedy, demons, fantasy, magic, romance, shounen, supernatural',\n",
              "  'action, adventure, comedy, demons, fantasy, magic, romance, shounen, supernatural'],\n",
              " 'Towa no Quon 5: Souzetsu no Raifuku': ['action, super power, supernatural',\n",
              "  'action, super power, supernatural'],\n",
              " 'Nobunaga the Fool': ['action, historical, mecha, sci-fi',\n",
              "  'action, historical, mecha, sci-fi'],\n",
              " 'Zero no Tsukaima F': ['adventure, ecchi, fantasy, magic, romance',\n",
              "  'adventure, ecchi, fantasy, magic, romance',\n",
              "  'adventure, ecchi, fantasy, magic, romance',\n",
              "  'adventure, ecchi, fantasy, magic, romance',\n",
              "  'adventure, ecchi, fantasy, magic, romance'],\n",
              " 'Zankyou no Terror': ['psychological, thriller',\n",
              "  'psychological, thriller',\n",
              "  'psychological, thriller',\n",
              "  'psychological, thriller',\n",
              "  'psychological, thriller',\n",
              "  'psychological, thriller',\n",
              "  'psychological, thriller',\n",
              "  'psychological, thriller',\n",
              "  'psychological, thriller',\n",
              "  'psychological, thriller'],\n",
              " 'Saint☆Oniisan': ['comedy, seinen, slice of life',\n",
              "  'comedy, seinen, slice of life'],\n",
              " 'Tokyo Ghoul': ['action, drama, horror, mystery, psychological, seinen, supernatural',\n",
              "  'action, drama, horror, mystery, psychological, seinen, supernatural',\n",
              "  'action, drama, horror, mystery, psychological, seinen, supernatural',\n",
              "  'action, drama, horror, mystery, psychological, seinen, supernatural',\n",
              "  'action, drama, horror, mystery, psychological, seinen, supernatural',\n",
              "  'action, drama, horror, mystery, psychological, seinen, supernatural',\n",
              "  'action, drama, horror, mystery, psychological, seinen, supernatural',\n",
              "  'action, drama, horror, mystery, psychological, seinen, supernatural',\n",
              "  'action, drama, horror, mystery, psychological, seinen, supernatural',\n",
              "  'action, drama, horror, mystery, psychological, seinen, supernatural'],\n",
              " 'Girls Bravo: First Season': ['comedy, ecchi, fantasy, harem, romance, school',\n",
              "  'comedy, ecchi, fantasy, harem, romance, school',\n",
              "  'comedy, ecchi, fantasy, harem, romance, school',\n",
              "  'comedy, ecchi, fantasy, harem, romance, school'],\n",
              " 'Black Lagoon': ['action, seinen',\n",
              "  'action, seinen',\n",
              "  'action, seinen',\n",
              "  'action, seinen'],\n",
              " 'Kamisama no Memochou': ['mystery', 'mystery'],\n",
              " 'Genshiken 2': ['comedy, parody, slice of life',\n",
              "  'comedy, parody, slice of life',\n",
              "  'comedy, parody, slice of life',\n",
              "  'comedy, parody, slice of life',\n",
              "  'comedy, parody, slice of life'],\n",
              " 'Stranger: Mukou Hadan': ['action, adventure, historical, samurai',\n",
              "  'action, adventure, historical, samurai',\n",
              "  'action, adventure, historical, samurai'],\n",
              " 'Ergo Proxy': ['mystery, psychological, sci-fi',\n",
              "  'mystery, psychological, sci-fi',\n",
              "  'mystery, psychological, sci-fi',\n",
              "  'mystery, psychological, sci-fi',\n",
              "  'mystery, psychological, sci-fi',\n",
              "  'mystery, psychological, sci-fi'],\n",
              " 'Sora no Manimani': ['comedy, romance, school, slice of life',\n",
              "  'comedy, romance, school, slice of life'],\n",
              " 'Mahou Shoujo Lyrical Nanoha StrikerS': ['action, comedy, drama, magic, super power',\n",
              "  'action, comedy, drama, magic, super power'],\n",
              " 'Aa! Megami-sama! (TV) Specials': ['comedy, magic, romance, seinen, supernatural',\n",
              "  'comedy, magic, romance, seinen, supernatural'],\n",
              " 'Darkside Blues': ['horror, mystery, psychological, sci-fi'],\n",
              " 'Acchi Kocchi (TV): Place=Princess': ['comedy, romance, school, seinen, slice of life',\n",
              "  'comedy, romance, school, seinen, slice of life'],\n",
              " 'Hiyoko Gumo': ['fantasy, kids, music'],\n",
              " 'Asura Cryin&#039; 2': ['action, mecha, supernatural',\n",
              "  'action, mecha, supernatural'],\n",
              " 'Corpse Party: Missing Footage': ['horror, school'],\n",
              " 'Kingdom': ['action, historical, military, seinen'],\n",
              " 'Shigatsu wa Kimi no Uso': ['drama, music, romance, school, shounen',\n",
              "  'drama, music, romance, school, shounen'],\n",
              " 'Get Ride! AMDriver': ['adventure, mecha, sci-fi, shounen'],\n",
              " 'Terra e... (TV)': ['action, drama, military, sci-fi, space'],\n",
              " 'Magic Knight Rayearth': ['adventure, comedy, drama, fantasy, magic, mecha, romance, shoujo'],\n",
              " 'Shounen Maid': ['comedy, shoujo, slice of life'],\n",
              " 'Bakuman. 3rd Season': ['comedy, drama, romance, shounen',\n",
              "  'comedy, drama, romance, shounen',\n",
              "  'comedy, drama, romance, shounen',\n",
              "  'comedy, drama, romance, shounen'],\n",
              " 'Pokemon Advanced Generation: Nanayo no Negaiboshi Jirachi': ['adventure, comedy, drama, fantasy, kids',\n",
              "  'adventure, comedy, drama, fantasy, kids'],\n",
              " 'Yuru Yuri♪♪': ['comedy, school, shoujo ai, slice of life'],\n",
              " 'Hidan no Aria': ['action, comedy, romance, school',\n",
              "  'action, comedy, romance, school',\n",
              "  'action, comedy, romance, school',\n",
              "  'action, comedy, romance, school',\n",
              "  'action, comedy, romance, school'],\n",
              " 'Fate/stay night Movie: Unlimited Blade Works': ['action, fantasy, magic, supernatural'],\n",
              " 'One Piece: Episode of Luffy - Hand Island no Bouken': ['action, adventure, comedy, fantasy, shounen, super power'],\n",
              " 'Tonari no Totoro': ['adventure, comedy, supernatural',\n",
              "  'adventure, comedy, supernatural',\n",
              "  'adventure, comedy, supernatural',\n",
              "  'adventure, comedy, supernatural',\n",
              "  'adventure, comedy, supernatural',\n",
              "  'adventure, comedy, supernatural',\n",
              "  'adventure, comedy, supernatural',\n",
              "  'adventure, comedy, supernatural',\n",
              "  'adventure, comedy, supernatural',\n",
              "  'adventure, comedy, supernatural',\n",
              "  'adventure, comedy, supernatural',\n",
              "  'adventure, comedy, supernatural',\n",
              "  'adventure, comedy, supernatural',\n",
              "  'adventure, comedy, supernatural',\n",
              "  'adventure, comedy, supernatural',\n",
              "  'adventure, comedy, supernatural',\n",
              "  'adventure, comedy, supernatural'],\n",
              " 'Sankarea': ['comedy, ecchi, horror, romance, shounen, supernatural',\n",
              "  'comedy, ecchi, horror, romance, shounen, supernatural',\n",
              "  'comedy, ecchi, horror, romance, shounen, supernatural',\n",
              "  'comedy, ecchi, horror, romance, shounen, supernatural'],\n",
              " 'Haikyuu!! Second Season': ['comedy, drama, school, shounen, sports',\n",
              "  'comedy, drama, school, shounen, sports',\n",
              "  'comedy, drama, school, shounen, sports',\n",
              "  'comedy, drama, school, shounen, sports'],\n",
              " 'Durarara!!x2 Ketsu': ['action, mystery, supernatural',\n",
              "  'action, mystery, supernatural',\n",
              "  'action, mystery, supernatural'],\n",
              " 'Bokura wa Minna Kawaisou': ['comedy, romance, school, slice of life',\n",
              "  'comedy, romance, school, slice of life'],\n",
              " 'Nogizaka Haruka no Himitsu: Purezza': ['comedy, ecchi, romance',\n",
              "  'comedy, ecchi, romance'],\n",
              " 'Koutetsujou no Kabaneri': ['action, drama, fantasy, horror',\n",
              "  'action, drama, fantasy, horror',\n",
              "  'action, drama, fantasy, horror',\n",
              "  'action, drama, fantasy, horror',\n",
              "  'action, drama, fantasy, horror'],\n",
              " 'Zoku Sayonara Zetsubou Sensei': ['comedy, parody, school',\n",
              "  'comedy, parody, school',\n",
              "  'comedy, parody, school',\n",
              "  'comedy, parody, school'],\n",
              " 'Itazura na Kiss': ['comedy, romance, shoujo',\n",
              "  'comedy, romance, shoujo',\n",
              "  'comedy, romance, shoujo',\n",
              "  'comedy, romance, shoujo',\n",
              "  'comedy, romance, shoujo'],\n",
              " 'City Hunter: Goodbye My Sweetheart': ['adventure, comedy, shounen'],\n",
              " 'xxxHOLiC Kei': ['comedy, drama, mystery, psychological, supernatural',\n",
              "  'comedy, drama, mystery, psychological, supernatural',\n",
              "  'comedy, drama, mystery, psychological, supernatural',\n",
              "  'comedy, drama, mystery, psychological, supernatural'],\n",
              " 'Death Note': ['mystery, police, psychological, supernatural, thriller',\n",
              "  'mystery, police, psychological, supernatural, thriller',\n",
              "  'mystery, police, psychological, supernatural, thriller',\n",
              "  'mystery, police, psychological, supernatural, thriller',\n",
              "  'mystery, police, psychological, supernatural, thriller',\n",
              "  'mystery, police, psychological, supernatural, thriller',\n",
              "  'mystery, police, psychological, supernatural, thriller',\n",
              "  'mystery, police, psychological, supernatural, thriller',\n",
              "  'mystery, police, psychological, supernatural, thriller',\n",
              "  'mystery, police, psychological, supernatural, thriller',\n",
              "  'mystery, police, psychological, supernatural, thriller',\n",
              "  'mystery, police, psychological, supernatural, thriller',\n",
              "  'mystery, police, psychological, supernatural, thriller',\n",
              "  'mystery, police, psychological, supernatural, thriller',\n",
              "  'mystery, police, psychological, supernatural, thriller',\n",
              "  'mystery, police, psychological, supernatural, thriller',\n",
              "  'mystery, police, psychological, supernatural, thriller',\n",
              "  'mystery, police, psychological, supernatural, thriller'],\n",
              " 'Bakugan Battle Brawlers: New Vestroia': ['adventure, fantasy, game, shounen',\n",
              "  'adventure, fantasy, game, shounen'],\n",
              " 'DearS': ['comedy, ecchi, harem, romance, sci-fi',\n",
              "  'comedy, ecchi, harem, romance, sci-fi',\n",
              "  'comedy, ecchi, harem, romance, sci-fi',\n",
              "  'comedy, ecchi, harem, romance, sci-fi',\n",
              "  'comedy, ecchi, harem, romance, sci-fi',\n",
              "  'comedy, ecchi, harem, romance, sci-fi',\n",
              "  'comedy, ecchi, harem, romance, sci-fi'],\n",
              " 'Blood: The Last Vampire': ['horror, supernatural, vampire',\n",
              "  'horror, supernatural, vampire',\n",
              "  'horror, supernatural, vampire',\n",
              "  'horror, supernatural, vampire',\n",
              "  'horror, supernatural, vampire',\n",
              "  'horror, supernatural, vampire'],\n",
              " 'Ookami Kodomo no Ame to Yuki': ['fantasy, slice of life',\n",
              "  'fantasy, slice of life',\n",
              "  'fantasy, slice of life',\n",
              "  'fantasy, slice of life',\n",
              "  'fantasy, slice of life',\n",
              "  'fantasy, slice of life'],\n",
              " 'High School DxD': ['comedy, demons, ecchi, harem, romance, school',\n",
              "  'comedy, demons, ecchi, harem, romance, school',\n",
              "  'comedy, demons, ecchi, harem, romance, school',\n",
              "  'comedy, demons, ecchi, harem, romance, school',\n",
              "  'comedy, demons, ecchi, harem, romance, school',\n",
              "  'comedy, demons, ecchi, harem, romance, school'],\n",
              " 'Naruto Movie 3: Dai Koufun! Mikazuki Jima no Animaru Panikku Dattebayo!': ['action, adventure',\n",
              "  'action, adventure',\n",
              "  'action, adventure',\n",
              "  'action, adventure'],\n",
              " 'Area no Kishi': ['comedy, school, shounen, sports'],\n",
              " 'Tenchi Muyou! GXP': ['action, comedy, harem, mecha, police, sci-fi, shounen, space',\n",
              "  'action, comedy, harem, mecha, police, sci-fi, shounen, space'],\n",
              " 'Panty &amp; Stocking in Sanitarybox': ['action, comedy, dementia, ecchi, parody, supernatural'],\n",
              " 'MM!': ['comedy, ecchi, harem, school', 'comedy, ecchi, harem, school'],\n",
              " 'Hunter x Hunter: Greed Island': ['action, adventure, shounen, super power'],\n",
              " 'Kore ga Watashi no Goshujinsama': ['comedy, ecchi, slice of life',\n",
              "  'comedy, ecchi, slice of life',\n",
              "  'comedy, ecchi, slice of life'],\n",
              " 'Recorder to Randoseru Re♪': ['comedy, school, seinen, slice of life',\n",
              "  'comedy, school, seinen, slice of life'],\n",
              " 'Genshiken OVA': ['comedy, parody, slice of life',\n",
              "  'comedy, parody, slice of life',\n",
              "  'comedy, parody, slice of life',\n",
              "  'comedy, parody, slice of life'],\n",
              " 'Saiyuuki Reload': ['action, adventure, comedy, drama, fantasy, shoujo'],\n",
              " 'Ai Shimai Tsubomi... Kegashite Kudasai': ['hentai'],\n",
              " 'IS: Infinite Stratos 2': ['action, comedy, harem, mecha, sci-fi',\n",
              "  'action, comedy, harem, mecha, sci-fi',\n",
              "  'action, comedy, harem, mecha, sci-fi',\n",
              "  'action, comedy, harem, mecha, sci-fi',\n",
              "  'action, comedy, harem, mecha, sci-fi'],\n",
              " 'Toaru Majutsu no Index: Endymion no Kiseki': ['action, magic, sci-fi, super power'],\n",
              " 'Shinkyoku Soukai Polyphonica': ['drama, fantasy, music, romance, school',\n",
              "  'drama, fantasy, music, romance, school'],\n",
              " 'Fairy Tail': ['action, adventure, comedy, fantasy, magic, shounen',\n",
              "  'action, adventure, comedy, fantasy, magic, shounen',\n",
              "  'action, adventure, comedy, fantasy, magic, shounen',\n",
              "  'action, adventure, comedy, fantasy, magic, shounen',\n",
              "  'action, adventure, comedy, fantasy, magic, shounen',\n",
              "  'action, adventure, comedy, fantasy, magic, shounen',\n",
              "  'action, adventure, comedy, fantasy, magic, shounen'],\n",
              " 'Ookamikakushi': ['action, horror, mystery, supernatural',\n",
              "  'action, horror, mystery, supernatural'],\n",
              " 'Sen to Chihiro no Kamikakushi': ['adventure, drama, supernatural',\n",
              "  'adventure, drama, supernatural',\n",
              "  'adventure, drama, supernatural',\n",
              "  'adventure, drama, supernatural',\n",
              "  'adventure, drama, supernatural',\n",
              "  'adventure, drama, supernatural',\n",
              "  'adventure, drama, supernatural',\n",
              "  'adventure, drama, supernatural',\n",
              "  'adventure, drama, supernatural',\n",
              "  'adventure, drama, supernatural',\n",
              "  'adventure, drama, supernatural',\n",
              "  'adventure, drama, supernatural'],\n",
              " 'Aiura': ['comedy, school, shounen, slice of life'],\n",
              " 'Noragami': ['action, adventure, shounen, supernatural',\n",
              "  'action, adventure, shounen, supernatural',\n",
              "  'action, adventure, shounen, supernatural',\n",
              "  'action, adventure, shounen, supernatural',\n",
              "  'action, adventure, shounen, supernatural',\n",
              "  'action, adventure, shounen, supernatural',\n",
              "  'action, adventure, shounen, supernatural',\n",
              "  'action, adventure, shounen, supernatural',\n",
              "  'action, adventure, shounen, supernatural',\n",
              "  'action, adventure, shounen, supernatural'],\n",
              " 'Seihou Bukyou Outlaw Star Pilot': ['action, sci-fi, space'],\n",
              " 'Shakugan no Shana Movie Special': ['adventure, comedy, fantasy, parody',\n",
              "  'adventure, comedy, fantasy, parody',\n",
              "  'adventure, comedy, fantasy, parody'],\n",
              " 'Fate/kaleid liner Prisma☆Illya 2wei! OVA': ['comedy, ecchi, fantasy, magic'],\n",
              " 'Amaenaide yo!!': ['comedy, ecchi, harem, romance, supernatural'],\n",
              " 'Magical☆Star Kanon 100%': ['magic, music, shounen'],\n",
              " 'Higashi no Eden Movie II: Paradise Lost': ['action, comedy, drama, mystery, romance, thriller',\n",
              "  'action, comedy, drama, mystery, romance, thriller'],\n",
              " 'Big Order (TV)': ['action, shounen, super power'],\n",
              " 'Suashi no Houkago': ['hentai, yuri'],\n",
              " 'Pokemon Advanced Generation: Rekkuu no Houmonsha Deoxys': ['action, adventure, comedy, fantasy, kids, sci-fi',\n",
              "  'action, adventure, comedy, fantasy, kids, sci-fi',\n",
              "  'action, adventure, comedy, fantasy, kids, sci-fi'],\n",
              " 'Prince of Tennis: The National Tournament Finals': ['comedy, school, shounen, sports'],\n",
              " 'Zero no Tsukaima': ['action, adventure, comedy, ecchi, fantasy, harem, magic, romance, school',\n",
              "  'action, adventure, comedy, ecchi, fantasy, harem, magic, romance, school',\n",
              "  'action, adventure, comedy, ecchi, fantasy, harem, magic, romance, school',\n",
              "  'action, adventure, comedy, ecchi, fantasy, harem, magic, romance, school',\n",
              "  'action, adventure, comedy, ecchi, fantasy, harem, magic, romance, school',\n",
              "  'action, adventure, comedy, ecchi, fantasy, harem, magic, romance, school',\n",
              "  'action, adventure, comedy, ecchi, fantasy, harem, magic, romance, school',\n",
              "  'action, adventure, comedy, ecchi, fantasy, harem, magic, romance, school',\n",
              "  'action, adventure, comedy, ecchi, fantasy, harem, magic, romance, school',\n",
              "  'action, adventure, comedy, ecchi, fantasy, harem, magic, romance, school'],\n",
              " 'Re:␣Hamatora': ['comedy, mystery, super power'],\n",
              " 'Tokyo Magnitude 8.0': ['drama', 'drama', 'drama'],\n",
              " 'Hakuouki': ['action, drama, historical, josei, samurai, supernatural',\n",
              "  'action, drama, historical, josei, samurai, supernatural'],\n",
              " 'Naruto: Dai Katsugeki!! Yuki Hime Shinobu Houjou Dattebayo! Special: Konoha Annual Sports Festival': ['action, comedy, fantasy, martial arts, shounen, sports',\n",
              "  'action, comedy, fantasy, martial arts, shounen, sports',\n",
              "  'action, comedy, fantasy, martial arts, shounen, sports'],\n",
              " 'Shikabane Hime: Kuro Special': ['action, adventure, drama, horror, supernatural',\n",
              "  'action, adventure, drama, horror, supernatural'],\n",
              " 'Fruits Basket': ['comedy, drama, fantasy, romance, shoujo, slice of life',\n",
              "  'comedy, drama, fantasy, romance, shoujo, slice of life',\n",
              "  'comedy, drama, fantasy, romance, shoujo, slice of life',\n",
              "  'comedy, drama, fantasy, romance, shoujo, slice of life',\n",
              "  'comedy, drama, fantasy, romance, shoujo, slice of life',\n",
              "  'comedy, drama, fantasy, romance, shoujo, slice of life',\n",
              "  'comedy, drama, fantasy, romance, shoujo, slice of life',\n",
              "  'comedy, drama, fantasy, romance, shoujo, slice of life',\n",
              "  'comedy, drama, fantasy, romance, shoujo, slice of life',\n",
              "  'comedy, drama, fantasy, romance, shoujo, slice of life'],\n",
              " 'Ore Monogatari!!': ['comedy, romance, shoujo',\n",
              "  'comedy, romance, shoujo',\n",
              "  'comedy, romance, shoujo',\n",
              "  'comedy, romance, shoujo',\n",
              "  'comedy, romance, shoujo',\n",
              "  'comedy, romance, shoujo'],\n",
              " 'Kuroshitsuji': ['action, comedy, demons, fantasy, historical, shounen, supernatural',\n",
              "  'action, comedy, demons, fantasy, historical, shounen, supernatural',\n",
              "  'action, comedy, demons, fantasy, historical, shounen, supernatural',\n",
              "  'action, comedy, demons, fantasy, historical, shounen, supernatural',\n",
              "  'action, comedy, demons, fantasy, historical, shounen, supernatural',\n",
              "  'action, comedy, demons, fantasy, historical, shounen, supernatural',\n",
              "  'action, comedy, demons, fantasy, historical, shounen, supernatural',\n",
              "  'action, comedy, demons, fantasy, historical, shounen, supernatural',\n",
              "  'action, comedy, demons, fantasy, historical, shounen, supernatural',\n",
              "  'action, comedy, demons, fantasy, historical, shounen, supernatural',\n",
              "  'action, comedy, demons, fantasy, historical, shounen, supernatural',\n",
              "  'action, comedy, demons, fantasy, historical, shounen, supernatural',\n",
              "  'action, comedy, demons, fantasy, historical, shounen, supernatural',\n",
              "  'action, comedy, demons, fantasy, historical, shounen, supernatural'],\n",
              " 'Kyougoku Natsuhiko: Kousetsu Hyaku Monogatari': ['fantasy, historical, horror, mystery, psychological, supernatural',\n",
              "  'fantasy, historical, horror, mystery, psychological, supernatural'],\n",
              " 'Toradora!': ['comedy, romance, school, slice of life',\n",
              "  'comedy, romance, school, slice of life',\n",
              "  'comedy, romance, school, slice of life',\n",
              "  'comedy, romance, school, slice of life',\n",
              "  'comedy, romance, school, slice of life',\n",
              "  'comedy, romance, school, slice of life',\n",
              "  'comedy, romance, school, slice of life',\n",
              "  'comedy, romance, school, slice of life',\n",
              "  'comedy, romance, school, slice of life',\n",
              "  'comedy, romance, school, slice of life',\n",
              "  'comedy, romance, school, slice of life',\n",
              "  'comedy, romance, school, slice of life',\n",
              "  'comedy, romance, school, slice of life'],\n",
              " 'Log Horizon': ['action, adventure, fantasy, game, magic, shounen',\n",
              "  'action, adventure, fantasy, game, magic, shounen',\n",
              "  'action, adventure, fantasy, game, magic, shounen',\n",
              "  'action, adventure, fantasy, game, magic, shounen',\n",
              "  'action, adventure, fantasy, game, magic, shounen'],\n",
              " 'Tonari no Kaibutsu-kun': ['comedy, romance, school, shoujo, slice of life',\n",
              "  'comedy, romance, school, shoujo, slice of life',\n",
              "  'comedy, romance, school, shoujo, slice of life',\n",
              "  'comedy, romance, school, shoujo, slice of life',\n",
              "  'comedy, romance, school, shoujo, slice of life',\n",
              "  'comedy, romance, school, shoujo, slice of life'],\n",
              " 'Fate/stay night: Unlimited Blade Works 2nd Season': ['action, fantasy, magic, shounen, supernatural',\n",
              "  'action, fantasy, magic, shounen, supernatural',\n",
              "  'action, fantasy, magic, shounen, supernatural'],\n",
              " 'Yami no Matsuei': ['comedy, drama, fantasy, horror, magic, shoujo, shounen ai, vampire',\n",
              "  'comedy, drama, fantasy, horror, magic, shoujo, shounen ai, vampire'],\n",
              " 'High School DxD BorN': ['action, comedy, demons, ecchi, harem, romance, school',\n",
              "  'action, comedy, demons, ecchi, harem, romance, school',\n",
              "  'action, comedy, demons, ecchi, harem, romance, school',\n",
              "  'action, comedy, demons, ecchi, harem, romance, school'],\n",
              " 'Ao no Exorcist': ['action, demons, fantasy, shounen, supernatural',\n",
              "  'action, demons, fantasy, shounen, supernatural',\n",
              "  'action, demons, fantasy, shounen, supernatural',\n",
              "  'action, demons, fantasy, shounen, supernatural',\n",
              "  'action, demons, fantasy, shounen, supernatural',\n",
              "  'action, demons, fantasy, shounen, supernatural',\n",
              "  'action, demons, fantasy, shounen, supernatural',\n",
              "  'action, demons, fantasy, shounen, supernatural',\n",
              "  'action, demons, fantasy, shounen, supernatural',\n",
              "  'action, demons, fantasy, shounen, supernatural',\n",
              "  'action, demons, fantasy, shounen, supernatural',\n",
              "  'action, demons, fantasy, shounen, supernatural',\n",
              "  'action, demons, fantasy, shounen, supernatural',\n",
              "  'action, demons, fantasy, shounen, supernatural',\n",
              "  'action, demons, fantasy, shounen, supernatural',\n",
              "  'action, demons, fantasy, shounen, supernatural',\n",
              "  'action, demons, fantasy, shounen, supernatural'],\n",
              " 'Kimi ni Todoke': ['romance, school, shoujo, slice of life',\n",
              "  'romance, school, shoujo, slice of life',\n",
              "  'romance, school, shoujo, slice of life',\n",
              "  'romance, school, shoujo, slice of life',\n",
              "  'romance, school, shoujo, slice of life',\n",
              "  'romance, school, shoujo, slice of life',\n",
              "  'romance, school, shoujo, slice of life',\n",
              "  'romance, school, shoujo, slice of life'],\n",
              " 'Inukami!': ['comedy, ecchi, romance, shounen, supernatural',\n",
              "  'comedy, ecchi, romance, shounen, supernatural',\n",
              "  'comedy, ecchi, romance, shounen, supernatural'],\n",
              " 'Initial D Extra Stage 2': ['action, cars, drama, seinen, sports'],\n",
              " 'Tayutama: Kiss on My Deity': ['harem, romance, supernatural',\n",
              "  'harem, romance, supernatural'],\n",
              " 'Selector Spread WIXOSS': ['game, psychological',\n",
              "  'game, psychological',\n",
              "  'game, psychological'],\n",
              " 'Prism Ark': ['action, comedy, drama, fantasy, magic'],\n",
              " 'Pokemon: Senritsu no Mirage Pokemon': ['adventure, comedy, fantasy, kids'],\n",
              " 'Azumanga Daioh': ['comedy, school, slice of life',\n",
              "  'comedy, school, slice of life',\n",
              "  'comedy, school, slice of life',\n",
              "  'comedy, school, slice of life',\n",
              "  'comedy, school, slice of life'],\n",
              " 'Shining Tears X Wind': ['action, adventure, fantasy, magic'],\n",
              " 'Hiyokoi': ['romance, school, shoujo', 'romance, school, shoujo'],\n",
              " 'Shingeki no Kyojin: Ano Hi Kara': ['action, drama, fantasy, shounen, super power'],\n",
              " 'Kiniro no Corda: Primo Passo': ['comedy, drama, harem, magic, music, romance, school, shoujo'],\n",
              " 'Zetsuen no Tempest': ['action, drama, fantasy, magic, mystery, psychological, shounen'],\n",
              " 'Taboo Tattoo': ['action, comedy, martial arts, mystery, super power, supernatural',\n",
              "  'action, comedy, martial arts, mystery, super power, supernatural',\n",
              "  'action, comedy, martial arts, mystery, super power, supernatural'],\n",
              " 'B Gata H Kei': ['comedy, ecchi, romance, school, seinen',\n",
              "  'comedy, ecchi, romance, school, seinen',\n",
              "  'comedy, ecchi, romance, school, seinen',\n",
              "  'comedy, ecchi, romance, school, seinen',\n",
              "  'comedy, ecchi, romance, school, seinen',\n",
              "  'comedy, ecchi, romance, school, seinen'],\n",
              " 'Jormungand': ['action, adventure, seinen',\n",
              "  'action, adventure, seinen',\n",
              "  'action, adventure, seinen',\n",
              "  'action, adventure, seinen',\n",
              "  'action, adventure, seinen'],\n",
              " 'Final Fantasy VII: Advent Children - Venice Film Festival Footage': ['action, drama, fantasy, sci-fi'],\n",
              " 'Boku wa Tomodachi ga Sukunai Next': ['comedy, harem, romance, school, seinen, slice of life',\n",
              "  'comedy, harem, romance, school, seinen, slice of life',\n",
              "  'comedy, harem, romance, school, seinen, slice of life',\n",
              "  'comedy, harem, romance, school, seinen, slice of life',\n",
              "  'comedy, harem, romance, school, seinen, slice of life',\n",
              "  'comedy, harem, romance, school, seinen, slice of life'],\n",
              " 'Kakumeiki Valvrave': ['action, mecha, space', 'action, mecha, space'],\n",
              " 'Touhai Densetsu Akagi: Yami ni Maiorita Tensai': ['game, psychological, seinen, thriller'],\n",
              " 'Soul Eater NOT!': ['action, comedy, ecchi, shounen, supernatural',\n",
              "  'action, comedy, ecchi, shounen, supernatural'],\n",
              " 'Final Fantasy': ['action, adventure, comedy, fantasy'],\n",
              " 'Love Live! School Idol Project': ['music, school, slice of life',\n",
              "  'music, school, slice of life',\n",
              "  'music, school, slice of life',\n",
              "  'music, school, slice of life'],\n",
              " 'Naruto': ['action, comedy, martial arts, shounen, super power',\n",
              "  'action, comedy, martial arts, shounen, super power',\n",
              "  'action, comedy, martial arts, shounen, super power',\n",
              "  'action, comedy, martial arts, shounen, super power',\n",
              "  'action, comedy, martial arts, shounen, super power',\n",
              "  'action, comedy, martial arts, shounen, super power',\n",
              "  'action, comedy, martial arts, shounen, super power',\n",
              "  'action, comedy, martial arts, shounen, super power',\n",
              "  'action, comedy, martial arts, shounen, super power',\n",
              "  'action, comedy, martial arts, shounen, super power',\n",
              "  'action, comedy, martial arts, shounen, super power',\n",
              "  'action, comedy, martial arts, shounen, super power',\n",
              "  'action, comedy, martial arts, shounen, super power',\n",
              "  'action, comedy, martial arts, shounen, super power',\n",
              "  'action, comedy, martial arts, shounen, super power',\n",
              "  'action, comedy, martial arts, shounen, super power',\n",
              "  'action, comedy, martial arts, shounen, super power'],\n",
              " 'Major S3': ['drama, shounen, sports', 'drama, shounen, sports'],\n",
              " 'Dragon Ball Z Special 2: Zetsubou e no Hankou!! Nokosareta Chousenshi - Gohan to Trunks': ['adventure, drama, fantasy, shounen'],\n",
              " 'Hoshi wo Ou Kodomo': ['adventure, fantasy, romance',\n",
              "  'adventure, fantasy, romance'],\n",
              " 'Soukihei MD Geist': ['mecha, military, sci-fi'],\n",
              " 'Blood+': ['action, drama, horror, military, mystery, supernatural, vampire',\n",
              "  'action, drama, horror, military, mystery, supernatural, vampire',\n",
              "  'action, drama, horror, military, mystery, supernatural, vampire',\n",
              "  'action, drama, horror, military, mystery, supernatural, vampire',\n",
              "  'action, drama, horror, military, mystery, supernatural, vampire',\n",
              "  'action, drama, horror, military, mystery, supernatural, vampire'],\n",
              " 'Nabari no Ou': ['action, comedy, drama, fantasy, shounen, supernatural',\n",
              "  'action, comedy, drama, fantasy, shounen, supernatural',\n",
              "  'action, comedy, drama, fantasy, shounen, supernatural',\n",
              "  'action, comedy, drama, fantasy, shounen, supernatural',\n",
              "  'action, comedy, drama, fantasy, shounen, supernatural'],\n",
              " 'Cowboy Bebop': ['action, adventure, comedy, drama, sci-fi, space',\n",
              "  'action, adventure, comedy, drama, sci-fi, space',\n",
              "  'action, adventure, comedy, drama, sci-fi, space',\n",
              "  'action, adventure, comedy, drama, sci-fi, space',\n",
              "  'action, adventure, comedy, drama, sci-fi, space',\n",
              "  'action, adventure, comedy, drama, sci-fi, space',\n",
              "  'action, adventure, comedy, drama, sci-fi, space'],\n",
              " 'Metropolis': ['adventure, drama, police, romance, sci-fi, shounen',\n",
              "  'adventure, drama, police, romance, sci-fi, shounen'],\n",
              " 'Sukitte Ii na yo.': ['romance, school, shoujo',\n",
              "  'romance, school, shoujo',\n",
              "  'romance, school, shoujo',\n",
              "  'romance, school, shoujo',\n",
              "  'romance, school, shoujo'],\n",
              " 'Neon Genesis Evangelion: Death &amp; Rebirth': ['drama, mecha, psychological, sci-fi',\n",
              "  'drama, mecha, psychological, sci-fi',\n",
              "  'drama, mecha, psychological, sci-fi',\n",
              "  'drama, mecha, psychological, sci-fi',\n",
              "  'drama, mecha, psychological, sci-fi',\n",
              "  'drama, mecha, psychological, sci-fi',\n",
              "  'drama, mecha, psychological, sci-fi'],\n",
              " 'Dragon Ball Z Movie 14: Kami to Kami': ['action, adventure, fantasy, martial arts, shounen, super power',\n",
              "  'action, adventure, fantasy, martial arts, shounen, super power',\n",
              "  'action, adventure, fantasy, martial arts, shounen, super power',\n",
              "  'action, adventure, fantasy, martial arts, shounen, super power'],\n",
              " 'Loveless Specials': ['comedy, fantasy, romance, shounen ai, supernatural'],\n",
              " 'Kokoro Connect': ['comedy, drama, romance, school, slice of life, supernatural',\n",
              "  'comedy, drama, romance, school, slice of life, supernatural',\n",
              "  'comedy, drama, romance, school, slice of life, supernatural',\n",
              "  'comedy, drama, romance, school, slice of life, supernatural',\n",
              "  'comedy, drama, romance, school, slice of life, supernatural',\n",
              "  'comedy, drama, romance, school, slice of life, supernatural'],\n",
              " 'Grimm Masterpiece Theater': ['adventure, comedy, fantasy, kids, magic'],\n",
              " 'Absolute Duo': ['action, ecchi, harem, romance, school, supernatural',\n",
              "  'action, ecchi, harem, romance, school, supernatural'],\n",
              " 'Arslan Senki (TV)': ['action, adventure, drama, fantasy, historical, shounen',\n",
              "  'action, adventure, drama, fantasy, historical, shounen',\n",
              "  'action, adventure, drama, fantasy, historical, shounen',\n",
              "  'action, adventure, drama, fantasy, historical, shounen'],\n",
              " 'Kyoukai no Kanata': ['fantasy, slice of life, supernatural',\n",
              "  'fantasy, slice of life, supernatural',\n",
              "  'fantasy, slice of life, supernatural',\n",
              "  'fantasy, slice of life, supernatural',\n",
              "  'fantasy, slice of life, supernatural',\n",
              "  'fantasy, slice of life, supernatural'],\n",
              " 'Soul Eater': ['action, adventure, comedy, fantasy, shounen, supernatural',\n",
              "  'action, adventure, comedy, fantasy, shounen, supernatural',\n",
              "  'action, adventure, comedy, fantasy, shounen, supernatural',\n",
              "  'action, adventure, comedy, fantasy, shounen, supernatural',\n",
              "  'action, adventure, comedy, fantasy, shounen, supernatural',\n",
              "  'action, adventure, comedy, fantasy, shounen, supernatural',\n",
              "  'action, adventure, comedy, fantasy, shounen, supernatural',\n",
              "  'action, adventure, comedy, fantasy, shounen, supernatural',\n",
              "  'action, adventure, comedy, fantasy, shounen, supernatural',\n",
              "  'action, adventure, comedy, fantasy, shounen, supernatural',\n",
              "  'action, adventure, comedy, fantasy, shounen, supernatural',\n",
              "  'action, adventure, comedy, fantasy, shounen, supernatural',\n",
              "  'action, adventure, comedy, fantasy, shounen, supernatural',\n",
              "  'action, adventure, comedy, fantasy, shounen, supernatural',\n",
              "  'action, adventure, comedy, fantasy, shounen, supernatural',\n",
              "  'action, adventure, comedy, fantasy, shounen, supernatural',\n",
              "  'action, adventure, comedy, fantasy, shounen, supernatural',\n",
              "  'action, adventure, comedy, fantasy, shounen, supernatural'],\n",
              " 'Z/X: Ignition': ['adventure, fantasy, game, sci-fi'],\n",
              " 'Grisaia no Kajitsu Specials': ['ecchi', 'ecchi'],\n",
              " 'Inou-Battle wa Nichijou-kei no Naka de': ['comedy, romance, school, slice of life, supernatural',\n",
              "  'comedy, romance, school, slice of life, supernatural',\n",
              "  'comedy, romance, school, slice of life, supernatural',\n",
              "  'comedy, romance, school, slice of life, supernatural',\n",
              "  'comedy, romance, school, slice of life, supernatural',\n",
              "  'comedy, romance, school, slice of life, supernatural',\n",
              "  'comedy, romance, school, slice of life, supernatural',\n",
              "  'comedy, romance, school, slice of life, supernatural',\n",
              "  'comedy, romance, school, slice of life, supernatural'],\n",
              " 'Akikan!': ['comedy, ecchi, fantasy, romance',\n",
              "  'comedy, ecchi, fantasy, romance'],\n",
              " 'Sidonia no Kishi: Daikyuu Wakusei Seneki': ['action, mecha, sci-fi, seinen, space'],\n",
              " 'Yozakura Quartet': ['action, comedy, magic, shounen, super power, supernatural'],\n",
              " 'Kami nomi zo Shiru Sekai: Megami-hen': ['comedy, harem, romance, shounen, supernatural'],\n",
              " 'Nerawareta Gakuen': ['romance, school, sci-fi'],\n",
              " 'Lucky☆Star': ['comedy, parody, school, slice of life',\n",
              "  'comedy, parody, school, slice of life',\n",
              "  'comedy, parody, school, slice of life',\n",
              "  'comedy, parody, school, slice of life'],\n",
              " 'Master of Epic: The Animation Age': ['comedy, fantasy, game'],\n",
              " 'Suisei no Gargantia: Meguru Kouro, Haruka': ['action, adventure, mecha, sci-fi'],\n",
              " 'R-15': ['comedy, ecchi, harem, romance, school'],\n",
              " 'Arcana Famiglia': ['action, harem, romance, shoujo',\n",
              "  'action, harem, romance, shoujo',\n",
              "  'action, harem, romance, shoujo',\n",
              "  'action, harem, romance, shoujo'],\n",
              " 'Tales of Zestiria the X': ['action, adventure, fantasy',\n",
              "  'action, adventure, fantasy',\n",
              "  'action, adventure, fantasy'],\n",
              " 'Kami nomi zo Shiru Sekai': ['comedy, harem, romance, shounen, supernatural',\n",
              "  'comedy, harem, romance, shounen, supernatural',\n",
              "  'comedy, harem, romance, shounen, supernatural',\n",
              "  'comedy, harem, romance, shounen, supernatural',\n",
              "  'comedy, harem, romance, shounen, supernatural',\n",
              "  'comedy, harem, romance, shounen, supernatural',\n",
              "  'comedy, harem, romance, shounen, supernatural',\n",
              "  'comedy, harem, romance, shounen, supernatural',\n",
              "  'comedy, harem, romance, shounen, supernatural',\n",
              "  'comedy, harem, romance, shounen, supernatural'],\n",
              " 'Isshuukan Friends.': ['comedy, school, shounen, slice of life',\n",
              "  'comedy, school, shounen, slice of life',\n",
              "  'comedy, school, shounen, slice of life'],\n",
              " 'Seitokai Yakuindomo*': ['comedy, school, shounen, slice of life',\n",
              "  'comedy, school, shounen, slice of life',\n",
              "  'comedy, school, shounen, slice of life',\n",
              "  'comedy, school, shounen, slice of life'],\n",
              " 'Akatsuki no Yona': ['action, adventure, comedy, fantasy, romance, shoujo',\n",
              "  'action, adventure, comedy, fantasy, romance, shoujo'],\n",
              " 'Eve no Jikan': ['sci-fi, slice of life',\n",
              "  'sci-fi, slice of life',\n",
              "  'sci-fi, slice of life'],\n",
              " 'Mobile Suit Gundam 00': ['action, drama, mecha, military, sci-fi, space',\n",
              "  'action, drama, mecha, military, sci-fi, space',\n",
              "  'action, drama, mecha, military, sci-fi, space',\n",
              "  'action, drama, mecha, military, sci-fi, space',\n",
              "  'action, drama, mecha, military, sci-fi, space',\n",
              "  'action, drama, mecha, military, sci-fi, space'],\n",
              " 'Nanatsu no Taizai': ['action, adventure, ecchi, fantasy, shounen, supernatural',\n",
              "  'action, adventure, ecchi, fantasy, shounen, supernatural',\n",
              "  'action, adventure, ecchi, fantasy, shounen, supernatural',\n",
              "  'action, adventure, ecchi, fantasy, shounen, supernatural',\n",
              "  'action, adventure, ecchi, fantasy, shounen, supernatural',\n",
              "  'action, adventure, ecchi, fantasy, shounen, supernatural'],\n",
              " 'One Piece: Jango no Dance Carnival': ['comedy, fantasy, shounen'],\n",
              " 'Higurashi no Naku Koro ni Rei': ['comedy, mystery, psychological, supernatural, thriller',\n",
              "  'comedy, mystery, psychological, supernatural, thriller',\n",
              "  'comedy, mystery, psychological, supernatural, thriller'],\n",
              " 'El Cazador de la Bruja': ['adventure, drama, mystery'],\n",
              " 'Shin Tenchi Muyou!': ['comedy, harem, romance, sci-fi, shounen'],\n",
              " 'Paprika': ['fantasy, horror, mystery, psychological, sci-fi, thriller',\n",
              "  'fantasy, horror, mystery, psychological, sci-fi, thriller',\n",
              "  'fantasy, horror, mystery, psychological, sci-fi, thriller',\n",
              "  'fantasy, horror, mystery, psychological, sci-fi, thriller',\n",
              "  'fantasy, horror, mystery, psychological, sci-fi, thriller',\n",
              "  'fantasy, horror, mystery, psychological, sci-fi, thriller'],\n",
              " 'Shounen Onmyouji': ['action, demons, fantasy, historical, magic, shoujo, supernatural'],\n",
              " 'Yu☆Gi☆Oh! Duel Monsters': ['adventure, game, shounen',\n",
              "  'adventure, game, shounen'],\n",
              " 'Strike Witches 2': ['action, ecchi, magic, military, sci-fi',\n",
              "  'action, ecchi, magic, military, sci-fi',\n",
              "  'action, ecchi, magic, military, sci-fi'],\n",
              " '11eyes': ['action, ecchi, super power, supernatural',\n",
              "  'action, ecchi, super power, supernatural',\n",
              "  'action, ecchi, super power, supernatural'],\n",
              " 'Ao no Kanata no Four Rhythm': ['drama, school, sci-fi, sports'],\n",
              " 'Juuni Kokuki': ['action, adventure, fantasy, magic, supernatural',\n",
              "  'action, adventure, fantasy, magic, supernatural',\n",
              "  'action, adventure, fantasy, magic, supernatural'],\n",
              " 'Durarara!!x2 Shou': ['action, mystery, supernatural',\n",
              "  'action, mystery, supernatural',\n",
              "  'action, mystery, supernatural'],\n",
              " 'Hottarake no Shima: Haruka to Mahou no Kagami': ['fantasy', 'fantasy'],\n",
              " 'Boogiepop wa Warawanai: Boogiepop Phantom': ['dementia, drama, horror, mystery, psychological, supernatural'],\n",
              " 'Koutetsushin Jeeg': ['mecha, sci-fi'],\n",
              " 'Kara no Kyoukai 1: Fukan Fuukei': ['action, mystery, supernatural, thriller',\n",
              "  'action, mystery, supernatural, thriller',\n",
              "  'action, mystery, supernatural, thriller',\n",
              "  'action, mystery, supernatural, thriller',\n",
              "  'action, mystery, supernatural, thriller',\n",
              "  'action, mystery, supernatural, thriller',\n",
              "  'action, mystery, supernatural, thriller',\n",
              "  'action, mystery, supernatural, thriller'],\n",
              " 'Kaichou wa Maid-sama!': ['comedy, romance, school, shoujo',\n",
              "  'comedy, romance, school, shoujo',\n",
              "  'comedy, romance, school, shoujo',\n",
              "  'comedy, romance, school, shoujo',\n",
              "  'comedy, romance, school, shoujo',\n",
              "  'comedy, romance, school, shoujo',\n",
              "  'comedy, romance, school, shoujo',\n",
              "  'comedy, romance, school, shoujo',\n",
              "  'comedy, romance, school, shoujo',\n",
              "  'comedy, romance, school, shoujo',\n",
              "  'comedy, romance, school, shoujo'],\n",
              " 'Busou Renkin': ['action, comedy, fantasy, school, shounen, supernatural',\n",
              "  'action, comedy, fantasy, school, shounen, supernatural',\n",
              "  'action, comedy, fantasy, school, shounen, supernatural'],\n",
              " 'Little Monica Monogatari': ['hentai'],\n",
              " 'Shugo Chara!! Doki': ['comedy, magic, school, shoujo',\n",
              "  'comedy, magic, school, shoujo'],\n",
              " 'Mujin Wakusei Survive': ['action, adventure, fantasy, sci-fi, slice of life'],\n",
              " 'The iDOLM@STER': ['comedy, drama, music'],\n",
              " 'Akame ga Kill!': ['action, adventure, fantasy',\n",
              "  'action, adventure, fantasy',\n",
              "  'action, adventure, fantasy',\n",
              "  'action, adventure, fantasy',\n",
              "  'action, adventure, fantasy',\n",
              "  'action, adventure, fantasy',\n",
              "  'action, adventure, fantasy',\n",
              "  'action, adventure, fantasy',\n",
              "  'action, adventure, fantasy',\n",
              "  'action, adventure, fantasy',\n",
              "  'action, adventure, fantasy'],\n",
              " 'Slayers Revolution': ['adventure, comedy, fantasy',\n",
              "  'adventure, comedy, fantasy',\n",
              "  'adventure, comedy, fantasy'],\n",
              " 'Hori-san to Miyamura-kun': ['comedy, romance, school, shounen',\n",
              "  'comedy, romance, school, shounen'],\n",
              " 'Koi to Senkyo to Chocolate Special': ['drama, romance, school'],\n",
              " 'Nekomonogatari: Kuro': ['comedy, romance, supernatural',\n",
              "  'comedy, romance, supernatural',\n",
              "  'comedy, romance, supernatural',\n",
              "  'comedy, romance, supernatural'],\n",
              " 'Working&#039;!!': ['comedy, slice of life', 'comedy, slice of life'],\n",
              " 'D.C.: Da Capo': ['drama, harem, magic, romance',\n",
              "  'drama, harem, magic, romance'],\n",
              " 'NHK ni Youkoso!': ['comedy, drama, psychological, romance',\n",
              "  'comedy, drama, psychological, romance',\n",
              "  'comedy, drama, psychological, romance',\n",
              "  'comedy, drama, psychological, romance',\n",
              "  'comedy, drama, psychological, romance',\n",
              "  'comedy, drama, psychological, romance',\n",
              "  'comedy, drama, psychological, romance',\n",
              "  'comedy, drama, psychological, romance',\n",
              "  'comedy, drama, psychological, romance'],\n",
              " 'Higurashi no Naku Koro ni Kai': ['mystery, psychological, supernatural, thriller',\n",
              "  'mystery, psychological, supernatural, thriller',\n",
              "  'mystery, psychological, supernatural, thriller',\n",
              "  'mystery, psychological, supernatural, thriller',\n",
              "  'mystery, psychological, supernatural, thriller',\n",
              "  'mystery, psychological, supernatural, thriller',\n",
              "  'mystery, psychological, supernatural, thriller'],\n",
              " 'Baka to Test to Shoukanjuu': ['comedy, romance, school, super power',\n",
              "  'comedy, romance, school, super power',\n",
              "  'comedy, romance, school, super power',\n",
              "  'comedy, romance, school, super power',\n",
              "  'comedy, romance, school, super power',\n",
              "  'comedy, romance, school, super power'],\n",
              " 'Malice@Doll': ['horror, psychological, sci-fi'],\n",
              " 'Kai Doh Maru': ['action, fantasy, historical, magic'],\n",
              " 'Koi to Senkyo to Chocolate': ['drama, romance, school'],\n",
              " 'Another: The Other - Inga': ['horror, mystery, thriller',\n",
              "  'horror, mystery, thriller',\n",
              "  'horror, mystery, thriller',\n",
              "  'horror, mystery, thriller',\n",
              "  'horror, mystery, thriller',\n",
              "  'horror, mystery, thriller',\n",
              "  'horror, mystery, thriller'],\n",
              " 'AKB0048': ['music, sci-fi'],\n",
              " 'Diabolik Lovers More,Blood': ['harem, school, shoujo, vampire'],\n",
              " 'Sengoku Basara Two': ['action, historical, martial arts, samurai, super power'],\n",
              " 'Fairy Tail (2014)': ['action, adventure, comedy, fantasy, magic, shounen',\n",
              "  'action, adventure, comedy, fantasy, magic, shounen',\n",
              "  'action, adventure, comedy, fantasy, magic, shounen',\n",
              "  'action, adventure, comedy, fantasy, magic, shounen'],\n",
              " 'Goshuushou-sama Ninomiya-kun': ['comedy, ecchi, fantasy, harem',\n",
              "  'comedy, ecchi, fantasy, harem',\n",
              "  'comedy, ecchi, fantasy, harem',\n",
              "  'comedy, ecchi, fantasy, harem',\n",
              "  'comedy, ecchi, fantasy, harem',\n",
              "  'comedy, ecchi, fantasy, harem'],\n",
              " 'Fullmetal Alchemist: The Sacred Star of Milos': ['action, adventure, comedy, drama, fantasy, magic, military, shounen',\n",
              "  'action, adventure, comedy, drama, fantasy, magic, military, shounen',\n",
              "  'action, adventure, comedy, drama, fantasy, magic, military, shounen'],\n",
              " 'Seikoku no Dragonar': ['comedy, ecchi, fantasy, school',\n",
              "  'comedy, ecchi, fantasy, school',\n",
              "  'comedy, ecchi, fantasy, school'],\n",
              " 'Fushigi Yuugi: Eikouden': ['adventure, drama, fantasy, romance, shoujo'],\n",
              " 'Lovely★Complex': ['comedy, romance, shoujo',\n",
              "  'comedy, romance, shoujo',\n",
              "  'comedy, romance, shoujo'],\n",
              " 'Green Green': ['comedy, ecchi, romance, school, slice of life',\n",
              "  'comedy, ecchi, romance, school, slice of life',\n",
              "  'comedy, ecchi, romance, school, slice of life',\n",
              "  'comedy, ecchi, romance, school, slice of life',\n",
              "  'comedy, ecchi, romance, school, slice of life'],\n",
              " 'Sakura Trick': ['comedy, romance, school, seinen, shoujo ai, slice of life'],\n",
              " 'High School DxD New': ['action, comedy, demons, ecchi, harem, romance, school',\n",
              "  'action, comedy, demons, ecchi, harem, romance, school',\n",
              "  'action, comedy, demons, ecchi, harem, romance, school',\n",
              "  'action, comedy, demons, ecchi, harem, romance, school',\n",
              "  'action, comedy, demons, ecchi, harem, romance, school',\n",
              "  'action, comedy, demons, ecchi, harem, romance, school',\n",
              "  'action, comedy, demons, ecchi, harem, romance, school',\n",
              "  'action, comedy, demons, ecchi, harem, romance, school'],\n",
              " 'Re: Cutie Honey': ['action, comedy, ecchi, sci-fi, shoujo ai'],\n",
              " 'Tsubasa Chronicle': ['action, adventure, fantasy, magic, romance, shounen, supernatural',\n",
              "  'action, adventure, fantasy, magic, romance, shounen, supernatural',\n",
              "  'action, adventure, fantasy, magic, romance, shounen, supernatural'],\n",
              " 'Serial Experiments Lain': ['dementia, drama, mystery, psychological, sci-fi, supernatural',\n",
              "  'dementia, drama, mystery, psychological, sci-fi, supernatural',\n",
              "  'dementia, drama, mystery, psychological, sci-fi, supernatural',\n",
              "  'dementia, drama, mystery, psychological, sci-fi, supernatural',\n",
              "  'dementia, drama, mystery, psychological, sci-fi, supernatural',\n",
              "  'dementia, drama, mystery, psychological, sci-fi, supernatural'],\n",
              " 'Takanashi Rikka Kai: Chuunibyou demo Koi ga Shitai! Movie': ['comedy, drama, romance, school, slice of life',\n",
              "  'comedy, drama, romance, school, slice of life',\n",
              "  'comedy, drama, romance, school, slice of life'],\n",
              " 'Toaru Majutsu no Index': ['action, magic, sci-fi, super power',\n",
              "  'action, magic, sci-fi, super power',\n",
              "  'action, magic, sci-fi, super power',\n",
              "  'action, magic, sci-fi, super power',\n",
              "  'action, magic, sci-fi, super power',\n",
              "  'action, magic, sci-fi, super power',\n",
              "  'action, magic, sci-fi, super power'],\n",
              " 'Majo no Takkyuubin': ['adventure, comedy, drama, fantasy, magic, romance',\n",
              "  'adventure, comedy, drama, fantasy, magic, romance',\n",
              "  'adventure, comedy, drama, fantasy, magic, romance',\n",
              "  'adventure, comedy, drama, fantasy, magic, romance',\n",
              "  'adventure, comedy, drama, fantasy, magic, romance',\n",
              "  'adventure, comedy, drama, fantasy, magic, romance',\n",
              "  'adventure, comedy, drama, fantasy, magic, romance',\n",
              "  'adventure, comedy, drama, fantasy, magic, romance'],\n",
              " 'Free!: FrFr - Short Movie': ['comedy, sports'],\n",
              " 'Boku dake ga Inai Machi': ['mystery, psychological, seinen, supernatural',\n",
              "  'mystery, psychological, seinen, supernatural',\n",
              "  'mystery, psychological, seinen, supernatural',\n",
              "  'mystery, psychological, seinen, supernatural',\n",
              "  'mystery, psychological, seinen, supernatural',\n",
              "  'mystery, psychological, seinen, supernatural',\n",
              "  'mystery, psychological, seinen, supernatural',\n",
              "  'mystery, psychological, seinen, supernatural',\n",
              "  'mystery, psychological, seinen, supernatural'],\n",
              " 'Onegai☆Twins': ['comedy, drama, harem, school, sci-fi'],\n",
              " 'Taneyamagahara no Yoru': ['fantasy, kids, psychological, slice of life'],\n",
              " 'Golden Time': ['comedy, romance, seinen',\n",
              "  'comedy, romance, seinen',\n",
              "  'comedy, romance, seinen',\n",
              "  'comedy, romance, seinen',\n",
              "  'comedy, romance, seinen'],\n",
              " 'Oyayubi Hime Monogatari': ['adventure, fantasy, shoujo'],\n",
              " 'Blood-C': ['action, horror, school, supernatural, vampire',\n",
              "  'action, horror, school, supernatural, vampire'],\n",
              " 'Ping Pong The Animation': ['psychological, seinen, sports',\n",
              "  'psychological, seinen, sports'],\n",
              " 'Gilgamesh': ['drama, fantasy, sci-fi, supernatural',\n",
              "  'drama, fantasy, sci-fi, supernatural',\n",
              "  'drama, fantasy, sci-fi, supernatural',\n",
              "  'drama, fantasy, sci-fi, supernatural'],\n",
              " 'Digimon Xros Wars: Aku no Death General to Nanatsu no Oukoku': ['action, adventure, comedy, fantasy, shounen'],\n",
              " 'Doraemon (1979)': ['adventure, comedy, fantasy, kids, sci-fi, shounen',\n",
              "  'adventure, comedy, fantasy, kids, sci-fi, shounen',\n",
              "  'adventure, comedy, fantasy, kids, sci-fi, shounen'],\n",
              " 'Btooom!': ['action, psychological, sci-fi, seinen',\n",
              "  'action, psychological, sci-fi, seinen',\n",
              "  'action, psychological, sci-fi, seinen',\n",
              "  'action, psychological, sci-fi, seinen',\n",
              "  'action, psychological, sci-fi, seinen',\n",
              "  'action, psychological, sci-fi, seinen',\n",
              "  'action, psychological, sci-fi, seinen',\n",
              "  'action, psychological, sci-fi, seinen',\n",
              "  'action, psychological, sci-fi, seinen',\n",
              "  'action, psychological, sci-fi, seinen',\n",
              "  'action, psychological, sci-fi, seinen'],\n",
              " 'Ano Hi Mita Hana no Namae wo Bokutachi wa Mada Shiranai.': ['drama, slice of life, supernatural',\n",
              "  'drama, slice of life, supernatural',\n",
              "  'drama, slice of life, supernatural',\n",
              "  'drama, slice of life, supernatural',\n",
              "  'drama, slice of life, supernatural',\n",
              "  'drama, slice of life, supernatural',\n",
              "  'drama, slice of life, supernatural',\n",
              "  'drama, slice of life, supernatural',\n",
              "  'drama, slice of life, supernatural',\n",
              "  'drama, slice of life, supernatural'],\n",
              " 'Inari, Konkon, Koi Iroha.': ['comedy, romance, school, seinen, supernatural',\n",
              "  'comedy, romance, school, seinen, supernatural'],\n",
              " 'Dantalian no Shoka': ['action, historical, mystery, supernatural',\n",
              "  'action, historical, mystery, supernatural',\n",
              "  'action, historical, mystery, supernatural',\n",
              "  'action, historical, mystery, supernatural'],\n",
              " 'Power Stone': ['adventure, comedy, fantasy, historical, shounen'],\n",
              " 'Mayoi Neko Overrun!': ['comedy, harem, romance'],\n",
              " 'Kamisama Kazoku': ['comedy, drama, fantasy, romance',\n",
              "  'comedy, drama, fantasy, romance'],\n",
              " 'Hajime no Ippo: Rising': ['comedy, drama, shounen, sports',\n",
              "  'comedy, drama, shounen, sports'],\n",
              " 'Outbreak Company': ['comedy, fantasy, harem, parody',\n",
              "  'comedy, fantasy, harem, parody',\n",
              "  'comedy, fantasy, harem, parody',\n",
              "  'comedy, fantasy, harem, parody',\n",
              "  'comedy, fantasy, harem, parody'],\n",
              " 'Baka to Test to Shoukanjuu Specials': ['comedy, magic, school'],\n",
              " 'Bakemono no Ko': ['adventure, supernatural',\n",
              "  'adventure, supernatural',\n",
              "  'adventure, supernatural'],\n",
              " 'Kobato.': ['comedy, drama, fantasy'],\n",
              " 'Mushishi Zoku Shou 2nd Season': ['adventure, fantasy, historical, mystery, seinen, slice of life, supernatural'],\n",
              " 'Night Walker: Mayonaka no Tantei': ['action, comedy, horror, mystery, vampire'],\n",
              " 'Fullmetal Alchemist: Brotherhood Specials': ['adventure, drama, fantasy, magic, military, shounen',\n",
              "  'adventure, drama, fantasy, magic, military, shounen',\n",
              "  'adventure, drama, fantasy, magic, military, shounen',\n",
              "  'adventure, drama, fantasy, magic, military, shounen',\n",
              "  'adventure, drama, fantasy, magic, military, shounen'],\n",
              " 'Nodame Cantabile Finale': ['comedy, josei, music, romance',\n",
              "  'comedy, josei, music, romance'],\n",
              " 'Highlander: The Search for Vengeance': ['action, horror, sci-fi'],\n",
              " 'K-On! Movie': ['comedy, music, slice of life',\n",
              "  'comedy, music, slice of life',\n",
              "  'comedy, music, slice of life'],\n",
              " 'World Trigger': ['action, school, sci-fi, shounen, supernatural',\n",
              "  'action, school, sci-fi, shounen, supernatural'],\n",
              " 'Steins;Gate Movie: Fuka Ryouiki no Déjà vu': ['sci-fi, thriller',\n",
              "  'sci-fi, thriller'],\n",
              " 'Dungeon ni Deai wo Motomeru no wa Machigatteiru Darou ka': ['action, adventure, comedy, fantasy, romance',\n",
              "  'action, adventure, comedy, fantasy, romance',\n",
              "  'action, adventure, comedy, fantasy, romance',\n",
              "  'action, adventure, comedy, fantasy, romance',\n",
              "  'action, adventure, comedy, fantasy, romance',\n",
              "  'action, adventure, comedy, fantasy, romance',\n",
              "  'action, adventure, comedy, fantasy, romance',\n",
              "  'action, adventure, comedy, fantasy, romance',\n",
              "  'action, adventure, comedy, fantasy, romance',\n",
              "  'action, adventure, comedy, fantasy, romance',\n",
              "  'action, adventure, comedy, fantasy, romance'],\n",
              " 'Pokemon: The Origin': ['action, adventure, comedy, fantasy, kids',\n",
              "  'action, adventure, comedy, fantasy, kids',\n",
              "  'action, adventure, comedy, fantasy, kids'],\n",
              " 'Kareshi Kanojo no Jijou': ['comedy, drama, romance, school, shoujo, slice of life',\n",
              "  'comedy, drama, romance, school, shoujo, slice of life'],\n",
              " 'Free!': ['comedy, school, slice of life, sports',\n",
              "  'comedy, school, slice of life, sports',\n",
              "  'comedy, school, slice of life, sports',\n",
              "  'comedy, school, slice of life, sports',\n",
              "  'comedy, school, slice of life, sports',\n",
              "  'comedy, school, slice of life, sports',\n",
              "  'comedy, school, slice of life, sports',\n",
              "  'comedy, school, slice of life, sports',\n",
              "  'comedy, school, slice of life, sports',\n",
              "  'comedy, school, slice of life, sports'],\n",
              " 'Petshop of Horrors': ['horror, josei, mystery, supernatural',\n",
              "  'horror, josei, mystery, supernatural',\n",
              "  'horror, josei, mystery, supernatural'],\n",
              " 'Psycho-Pass 2': ['action, police, psychological, sci-fi',\n",
              "  'action, police, psychological, sci-fi',\n",
              "  'action, police, psychological, sci-fi',\n",
              "  'action, police, psychological, sci-fi'],\n",
              " 'Kara no Kyoukai 3: Tsuukaku Zanryuu': ['action, drama, mystery, supernatural, thriller',\n",
              "  'action, drama, mystery, supernatural, thriller',\n",
              "  'action, drama, mystery, supernatural, thriller'],\n",
              " 'Blue Seed Omake': ['comedy, parody'],\n",
              " 'Bleach Movie 2: The DiamondDust Rebellion - Mou Hitotsu no Hyourinmaru': ['action, adventure, shounen, supernatural',\n",
              "  'action, adventure, shounen, supernatural',\n",
              "  'action, adventure, shounen, supernatural'],\n",
              " 'Free!: Eternal Summer': ['comedy, school, slice of life, sports',\n",
              "  'comedy, school, slice of life, sports',\n",
              "  'comedy, school, slice of life, sports'],\n",
              " 'ReLIFE': ['romance, school, slice of life',\n",
              "  'romance, school, slice of life',\n",
              "  'romance, school, slice of life'],\n",
              " 'Digimon Adventure tri. 2: Ketsui': ['action, adventure, comedy, drama',\n",
              "  'action, adventure, comedy, drama'],\n",
              " 'Chikyuu Shoujo Arjuna': ['adventure, drama, magic, sci-fi',\n",
              "  'adventure, drama, magic, sci-fi'],\n",
              " 'Shin Angyo Onshi': ['action, fantasy', 'action, fantasy'],\n",
              " 'Konjiki no Gash Bell!!': ['adventure, comedy, magic, shounen, supernatural',\n",
              "  'adventure, comedy, magic, shounen, supernatural'],\n",
              " 'Suzumiya Haruhi no Yuuutsu (2009)': ['comedy, mystery, parody, romance, school, sci-fi, slice of life',\n",
              "  'comedy, mystery, parody, romance, school, sci-fi, slice of life',\n",
              "  'comedy, mystery, parody, romance, school, sci-fi, slice of life',\n",
              "  'comedy, mystery, parody, romance, school, sci-fi, slice of life',\n",
              "  'comedy, mystery, parody, romance, school, sci-fi, slice of life',\n",
              "  'comedy, mystery, parody, romance, school, sci-fi, slice of life',\n",
              "  'comedy, mystery, parody, romance, school, sci-fi, slice of life',\n",
              "  'comedy, mystery, parody, romance, school, sci-fi, slice of life'],\n",
              " 'Owari no Seraph': ['action, drama, shounen, supernatural, vampire',\n",
              "  'action, drama, shounen, supernatural, vampire',\n",
              "  'action, drama, shounen, supernatural, vampire',\n",
              "  'action, drama, shounen, supernatural, vampire'],\n",
              " 'Ore, Twintail ni Narimasu.': ['action, comedy, fantasy, romance, school, shounen',\n",
              "  'action, comedy, fantasy, romance, school, shounen'],\n",
              " 'Vampire Knight': ['drama, mystery, romance, shoujo, supernatural, vampire',\n",
              "  'drama, mystery, romance, shoujo, supernatural, vampire',\n",
              "  'drama, mystery, romance, shoujo, supernatural, vampire',\n",
              "  'drama, mystery, romance, shoujo, supernatural, vampire',\n",
              "  'drama, mystery, romance, shoujo, supernatural, vampire',\n",
              "  'drama, mystery, romance, shoujo, supernatural, vampire',\n",
              "  'drama, mystery, romance, shoujo, supernatural, vampire',\n",
              "  'drama, mystery, romance, shoujo, supernatural, vampire',\n",
              "  'drama, mystery, romance, shoujo, supernatural, vampire',\n",
              "  'drama, mystery, romance, shoujo, supernatural, vampire',\n",
              "  'drama, mystery, romance, shoujo, supernatural, vampire',\n",
              "  'drama, mystery, romance, shoujo, supernatural, vampire',\n",
              "  'drama, mystery, romance, shoujo, supernatural, vampire',\n",
              "  'drama, mystery, romance, shoujo, supernatural, vampire',\n",
              "  'drama, mystery, romance, shoujo, supernatural, vampire',\n",
              "  'drama, mystery, romance, shoujo, supernatural, vampire'],\n",
              " 'JoJo no Kimyou na Bouken: Stardust Crusaders': ['action, adventure, drama, shounen, supernatural',\n",
              "  'action, adventure, drama, shounen, supernatural',\n",
              "  'action, adventure, drama, shounen, supernatural',\n",
              "  'action, adventure, drama, shounen, supernatural'],\n",
              " 'Maken-Ki! Two Specials': ['ecchi'],\n",
              " 'Rozen Maiden (2013)': ['action, comedy, drama, magic, seinen',\n",
              "  'action, comedy, drama, magic, seinen'],\n",
              " 'Azumanga Web Daioh': ['comedy, school, slice of life',\n",
              "  'comedy, school, slice of life'],\n",
              " 'Katanagatari': ['action, adventure, historical, martial arts, romance',\n",
              "  'action, adventure, historical, martial arts, romance'],\n",
              " 'Hagure Yuusha no Aesthetica': ['action, ecchi, fantasy, super power',\n",
              "  'action, ecchi, fantasy, super power'],\n",
              " 'Cossette no Shouzou': ['drama, horror, magic, psychological, romance, supernatural'],\n",
              " 'Oniichan no Koto nanka Zenzen Suki ja Nai n da kara ne!!': ['comedy, ecchi, harem, romance',\n",
              "  'comedy, ecchi, harem, romance',\n",
              "  'comedy, ecchi, harem, romance',\n",
              "  'comedy, ecchi, harem, romance'],\n",
              " 'Mawaru Penguindrum': ['comedy, drama, mystery, psychological',\n",
              "  'comedy, drama, mystery, psychological',\n",
              "  'comedy, drama, mystery, psychological',\n",
              "  'comedy, drama, mystery, psychological',\n",
              "  'comedy, drama, mystery, psychological',\n",
              "  'comedy, drama, mystery, psychological',\n",
              "  'comedy, drama, mystery, psychological'],\n",
              " 'Arakawa Under the Bridge': ['comedy, romance, seinen'],\n",
              " 'Ao no Exorcist: Kuro no Iede': ['action, demons, fantasy, shounen, supernatural'],\n",
              " 'Guilty Crown': ['action, drama, sci-fi, super power',\n",
              "  'action, drama, sci-fi, super power',\n",
              "  'action, drama, sci-fi, super power',\n",
              "  'action, drama, sci-fi, super power',\n",
              "  'action, drama, sci-fi, super power',\n",
              "  'action, drama, sci-fi, super power',\n",
              "  'action, drama, sci-fi, super power',\n",
              "  'action, drama, sci-fi, super power',\n",
              "  'action, drama, sci-fi, super power',\n",
              "  'action, drama, sci-fi, super power',\n",
              "  'action, drama, sci-fi, super power',\n",
              "  'action, drama, sci-fi, super power'],\n",
              " 'Mobile Suit Gundam: The 08th MS Team': ['adventure, drama, mecha, military, romance, sci-fi',\n",
              "  'adventure, drama, mecha, military, romance, sci-fi',\n",
              "  'adventure, drama, mecha, military, romance, sci-fi'],\n",
              " 'Top wo Nerae! Gunbuster': ['action, comedy, drama, mecha, military, sci-fi, shounen, space'],\n",
              " 'AD Police': ['adventure, dementia, mecha, mystery, police, psychological, sci-fi, thriller'],\n",
              " 'Mushibugyou': ['action, fantasy, historical, martial arts, samurai, shounen, super power',\n",
              "  'action, fantasy, historical, martial arts, samurai, shounen, super power'],\n",
              " 'Air': ['drama, romance, slice of life, supernatural',\n",
              "  'drama, romance, slice of life, supernatural',\n",
              "  'drama, romance, slice of life, supernatural',\n",
              "  'drama, romance, slice of life, supernatural',\n",
              "  'drama, romance, slice of life, supernatural',\n",
              "  'drama, romance, slice of life, supernatural'],\n",
              " 'Stella Jogakuin Koutou-ka C³-bu': ['military, school, sports'],\n",
              " 'Darker than Black: Kuro no Keiyakusha Special': ['comedy, parody, sci-fi',\n",
              "  'comedy, parody, sci-fi',\n",
              "  'comedy, parody, sci-fi',\n",
              "  'comedy, parody, sci-fi'],\n",
              " 'Baka to Test to Shoukanjuu: Mondai - Christmas ni Tsuite Kotae Nasai': ['comedy, romance',\n",
              "  'comedy, romance',\n",
              "  'comedy, romance'],\n",
              " 'Another': ['horror, mystery, school, supernatural, thriller',\n",
              "  'horror, mystery, school, supernatural, thriller',\n",
              "  'horror, mystery, school, supernatural, thriller',\n",
              "  'horror, mystery, school, supernatural, thriller',\n",
              "  'horror, mystery, school, supernatural, thriller',\n",
              "  'horror, mystery, school, supernatural, thriller',\n",
              "  'horror, mystery, school, supernatural, thriller',\n",
              "  'horror, mystery, school, supernatural, thriller',\n",
              "  'horror, mystery, school, supernatural, thriller',\n",
              "  'horror, mystery, school, supernatural, thriller',\n",
              "  'horror, mystery, school, supernatural, thriller',\n",
              "  'horror, mystery, school, supernatural, thriller',\n",
              "  'horror, mystery, school, supernatural, thriller',\n",
              "  'horror, mystery, school, supernatural, thriller',\n",
              "  'horror, mystery, school, supernatural, thriller',\n",
              "  'horror, mystery, school, supernatural, thriller'],\n",
              " 'School Rumble': ['comedy, romance, school, shounen',\n",
              "  'comedy, romance, school, shounen',\n",
              "  'comedy, romance, school, shounen',\n",
              "  'comedy, romance, school, shounen',\n",
              "  'comedy, romance, school, shounen'],\n",
              " 'Hajime no Ippo: Mashiba vs. Kimura': ['comedy, shounen, sports',\n",
              "  'comedy, shounen, sports',\n",
              "  'comedy, shounen, sports',\n",
              "  'comedy, shounen, sports',\n",
              "  'comedy, shounen, sports',\n",
              "  'comedy, shounen, sports'],\n",
              " 'Saishuu Heiki Kanojo': ['drama, romance, school, sci-fi',\n",
              "  'drama, romance, school, sci-fi'],\n",
              " 'Hakkenden: Touhou Hakken Ibun': ['action, fantasy, shoujo, supernatural'],\n",
              " 'Subete ga F ni Naru: The Perfect Insider': ['mystery, psychological, sci-fi',\n",
              "  'mystery, psychological, sci-fi'],\n",
              " 'Vampire Knight Guilty': ['drama, mystery, romance, shoujo, supernatural, vampire',\n",
              "  'drama, mystery, romance, shoujo, supernatural, vampire',\n",
              "  'drama, mystery, romance, shoujo, supernatural, vampire',\n",
              "  'drama, mystery, romance, shoujo, supernatural, vampire',\n",
              "  'drama, mystery, romance, shoujo, supernatural, vampire',\n",
              "  'drama, mystery, romance, shoujo, supernatural, vampire',\n",
              "  'drama, mystery, romance, shoujo, supernatural, vampire'],\n",
              " 'Watashi ga Motenai no wa Dou Kangaetemo Omaera ga Warui!': ['comedy, school, shounen, slice of life',\n",
              "  'comedy, school, shounen, slice of life',\n",
              "  'comedy, school, shounen, slice of life',\n",
              "  'comedy, school, shounen, slice of life'],\n",
              " 'Angel&#039;s Feather': ['drama, fantasy, romance, sci-fi, shoujo, shounen ai, supernatural',\n",
              "  'drama, fantasy, romance, sci-fi, shoujo, shounen ai, supernatural'],\n",
              " 'Heroman': ['action, sci-fi, shounen'],\n",
              " 'Blood-C: The Last Dark': ['action, horror, supernatural, vampire'],\n",
              " 'Chuunibyou demo Koi ga Shitai!': ['comedy, drama, romance, school, slice of life',\n",
              "  'comedy, drama, romance, school, slice of life',\n",
              "  'comedy, drama, romance, school, slice of life',\n",
              "  'comedy, drama, romance, school, slice of life',\n",
              "  'comedy, drama, romance, school, slice of life',\n",
              "  'comedy, drama, romance, school, slice of life',\n",
              "  'comedy, drama, romance, school, slice of life',\n",
              "  'comedy, drama, romance, school, slice of life'],\n",
              " 'Nyan Koi!': ['comedy, harem, romance',\n",
              "  'comedy, harem, romance',\n",
              "  'comedy, harem, romance',\n",
              "  'comedy, harem, romance',\n",
              "  'comedy, harem, romance',\n",
              "  'comedy, harem, romance'],\n",
              " 'Choujigen Game Neptune The Animation': ['action, comedy, fantasy, parody, sci-fi, supernatural',\n",
              "  'action, comedy, fantasy, parody, sci-fi, supernatural'],\n",
              " 'Kara no Kyoukai 6: Boukyaku Rokuon': ['action, magic, mystery, romance, supernatural, thriller',\n",
              "  'action, magic, mystery, romance, supernatural, thriller',\n",
              "  'action, magic, mystery, romance, supernatural, thriller',\n",
              "  'action, magic, mystery, romance, supernatural, thriller',\n",
              "  'action, magic, mystery, romance, supernatural, thriller',\n",
              "  'action, magic, mystery, romance, supernatural, thriller'],\n",
              " 'Dragon Ball Z Movie 05: Tobikkiri no Saikyou tai Saikyou': ['adventure, comedy, fantasy, sci-fi, shounen',\n",
              "  'adventure, comedy, fantasy, sci-fi, shounen',\n",
              "  'adventure, comedy, fantasy, sci-fi, shounen',\n",
              "  'adventure, comedy, fantasy, sci-fi, shounen'],\n",
              " 'Final Fantasy: The Spirits Within': ['sci-fi', 'sci-fi', 'sci-fi', 'sci-fi'],\n",
              " 'Gankutsuou': ['drama, mystery, sci-fi, supernatural, thriller',\n",
              "  'drama, mystery, sci-fi, supernatural, thriller',\n",
              "  'drama, mystery, sci-fi, supernatural, thriller',\n",
              "  'drama, mystery, sci-fi, supernatural, thriller'],\n",
              " 'Katekyo Hitman Reborn!': ['action, comedy, shounen, super power',\n",
              "  'action, comedy, shounen, super power',\n",
              "  'action, comedy, shounen, super power'],\n",
              " 'Kimi ga Nozomu Eien': ['drama, romance, slice of life',\n",
              "  'drama, romance, slice of life',\n",
              "  'drama, romance, slice of life',\n",
              "  'drama, romance, slice of life',\n",
              "  'drama, romance, slice of life'],\n",
              " 'Tactics': ['comedy, drama, fantasy, mystery, shounen, super power'],\n",
              " 'Kyoukaisenjou no Horizon II': ['action, fantasy, sci-fi',\n",
              "  'action, fantasy, sci-fi',\n",
              "  'action, fantasy, sci-fi'],\n",
              " 'Darker than Black: Kuro no Keiyakusha': ['action, mystery, sci-fi, super power',\n",
              "  'action, mystery, sci-fi, super power',\n",
              "  'action, mystery, sci-fi, super power',\n",
              "  'action, mystery, sci-fi, super power',\n",
              "  'action, mystery, sci-fi, super power',\n",
              "  'action, mystery, sci-fi, super power'],\n",
              " 'Kurozuka': ['action, drama, historical, horror, romance, sci-fi, vampire',\n",
              "  'action, drama, historical, horror, romance, sci-fi, vampire',\n",
              "  'action, drama, historical, horror, romance, sci-fi, vampire',\n",
              "  'action, drama, historical, horror, romance, sci-fi, vampire'],\n",
              " 'Hataraku Maou-sama!': ['comedy, demons, fantasy, romance, shounen',\n",
              "  'comedy, demons, fantasy, romance, shounen',\n",
              "  'comedy, demons, fantasy, romance, shounen',\n",
              "  'comedy, demons, fantasy, romance, shounen',\n",
              "  'comedy, demons, fantasy, romance, shounen',\n",
              "  'comedy, demons, fantasy, romance, shounen'],\n",
              " 'Dragon Ball Z Movie 12: Fukkatsu no Fusion!! Gokuu to Vegeta': ['adventure, comedy, fantasy, sci-fi, shounen'],\n",
              " 'Grenadier: Hohoemi no Senshi': ['action, adventure, comedy, ecchi, shounen',\n",
              "  'action, adventure, comedy, ecchi, shounen'],\n",
              " 'Log Horizon 2nd Season': ['action, adventure, fantasy, game, magic, shounen',\n",
              "  'action, adventure, fantasy, game, magic, shounen',\n",
              "  'action, adventure, fantasy, game, magic, shounen',\n",
              "  'action, adventure, fantasy, game, magic, shounen',\n",
              "  'action, adventure, fantasy, game, magic, shounen'],\n",
              " 'Akaneiro ni Somaru Saka': ['comedy, harem, romance, school',\n",
              "  'comedy, harem, romance, school'],\n",
              " 'Ginga Eiyuu Densetsu Gaiden: Rasen Meikyuu': ['drama, military, sci-fi, space'],\n",
              " 'Hunter x Hunter Movie: The Last Mission': ['action, adventure, shounen, super power'],\n",
              " 'Steamboy': ['action, adventure, drama, historical, military, sci-fi'],\n",
              " 'Umi Monogatari: Anata ga Ite Kureta Koto': ['drama, fantasy, magic, romance, supernatural'],\n",
              " 'Chocotto Sister': ['comedy, drama, romance'],\n",
              " 'Strike the Blood': ['action, ecchi, fantasy, harem, school, shounen, supernatural, vampire',\n",
              "  'action, ecchi, fantasy, harem, school, shounen, supernatural, vampire',\n",
              "  'action, ecchi, fantasy, harem, school, shounen, supernatural, vampire',\n",
              "  'action, ecchi, fantasy, harem, school, shounen, supernatural, vampire',\n",
              "  'action, ecchi, fantasy, harem, school, shounen, supernatural, vampire',\n",
              "  'action, ecchi, fantasy, harem, school, shounen, supernatural, vampire'],\n",
              " 'Saint Seiya Omega': ['action, adventure, fantasy, shounen'],\n",
              " 'Edokko Boy: Gatten Tasuke': ['comedy, martial arts, police, sports'],\n",
              " 'Gangsta.': ['action, drama, seinen',\n",
              "  'action, drama, seinen',\n",
              "  'action, drama, seinen',\n",
              "  'action, drama, seinen',\n",
              "  'action, drama, seinen'],\n",
              " 'Seikai no Senki II': ['action, military, romance, sci-fi, space'],\n",
              " 'Bakemonogatari': ['mystery, romance, supernatural, vampire',\n",
              "  'mystery, romance, supernatural, vampire',\n",
              "  'mystery, romance, supernatural, vampire',\n",
              "  'mystery, romance, supernatural, vampire',\n",
              "  'mystery, romance, supernatural, vampire',\n",
              "  'mystery, romance, supernatural, vampire',\n",
              "  'mystery, romance, supernatural, vampire',\n",
              "  'mystery, romance, supernatural, vampire',\n",
              "  'mystery, romance, supernatural, vampire',\n",
              "  'mystery, romance, supernatural, vampire',\n",
              "  'mystery, romance, supernatural, vampire',\n",
              "  'mystery, romance, supernatural, vampire'],\n",
              " 'Kumo no Mukou, Yakusoku no Basho': ['drama, military, romance, sci-fi',\n",
              "  'drama, military, romance, sci-fi',\n",
              "  'drama, military, romance, sci-fi',\n",
              "  'drama, military, romance, sci-fi',\n",
              "  'drama, military, romance, sci-fi',\n",
              "  'drama, military, romance, sci-fi'],\n",
              " 'Gekiganger 3: The Movie': ['action, comedy, mecha, parody, sci-fi, shounen'],\n",
              " 'Mezzo Forte': ['action, comedy, hentai, sci-fi'],\n",
              " 'Kachou Ouji': ['adventure, comedy, music, sci-fi, slice of life'],\n",
              " 'New Prince of Tennis': ['action, comedy, shounen, sports'],\n",
              " 'Gin no Saji 2nd Season': ['comedy, school, shounen, slice of life',\n",
              "  'comedy, school, shounen, slice of life'],\n",
              " 'Kara no Kyoukai 5: Mujun Rasen': ['action, drama, mystery, romance, supernatural, thriller',\n",
              "  'action, drama, mystery, romance, supernatural, thriller',\n",
              "  'action, drama, mystery, romance, supernatural, thriller',\n",
              "  'action, drama, mystery, romance, supernatural, thriller'],\n",
              " 'Seisen Cerberus: Ryuukoku no Fatalités': ['adventure, fantasy'],\n",
              " 'Shugo Chara!': ['comedy, magic, school, shoujo',\n",
              "  'comedy, magic, school, shoujo',\n",
              "  'comedy, magic, school, shoujo'],\n",
              " 'Sekirei: Pure Engagement': ['action, comedy, ecchi, harem, super power',\n",
              "  'action, comedy, ecchi, harem, super power',\n",
              "  'action, comedy, ecchi, harem, super power'],\n",
              " 'Vampire Hunter D (2000)': ['action, drama, fantasy, horror, romance, sci-fi, vampire',\n",
              "  'action, drama, fantasy, horror, romance, sci-fi, vampire',\n",
              "  'action, drama, fantasy, horror, romance, sci-fi, vampire'],\n",
              " 'Nodame Cantabile Special': ['comedy, josei, romance, slice of life',\n",
              "  'comedy, josei, romance, slice of life',\n",
              "  'comedy, josei, romance, slice of life'],\n",
              " 'Air Gear: Kuro no Hane to Nemuri no Mori - Break on the Sky': ['action, comedy, ecchi, shounen, sports',\n",
              "  'action, comedy, ecchi, shounen, sports',\n",
              "  'action, comedy, ecchi, shounen, sports'],\n",
              " 'Kishin Houkou Demonbane': ['comedy, drama, mecha, sci-fi',\n",
              "  'comedy, drama, mecha, sci-fi'],\n",
              " 'Monogatari Series: Second Season': ['comedy, mystery, romance, supernatural, vampire',\n",
              "  'comedy, mystery, romance, supernatural, vampire',\n",
              "  'comedy, mystery, romance, supernatural, vampire',\n",
              "  'comedy, mystery, romance, supernatural, vampire'],\n",
              " 'Pokemon': ['action, adventure, comedy, fantasy, kids',\n",
              "  'action, adventure, comedy, fantasy, kids',\n",
              "  'action, adventure, comedy, fantasy, kids',\n",
              "  'action, adventure, comedy, fantasy, kids'],\n",
              " 'Tooi Sekai': ['drama, romance', 'drama, romance', 'drama, romance'],\n",
              " 'Dual Parallel! Trouble Adventures': ['action, comedy, harem, mecha, sci-fi, shounen'],\n",
              " 'Nazo no Kanojo X': ['ecchi, romance, school, seinen'],\n",
              " 'Bastard!!: Ankoku no Hakaishin': ['action, adventure, comedy, ecchi, fantasy, seinen'],\n",
              " 'Monster Musume no Iru Nichijou': ['comedy, ecchi, fantasy, harem, romance, seinen',\n",
              "  'comedy, ecchi, fantasy, harem, romance, seinen',\n",
              "  'comedy, ecchi, fantasy, harem, romance, seinen',\n",
              "  'comedy, ecchi, fantasy, harem, romance, seinen',\n",
              "  'comedy, ecchi, fantasy, harem, romance, seinen'],\n",
              " 'Basquash!': ['ecchi, mecha, shounen, sports',\n",
              "  'ecchi, mecha, shounen, sports',\n",
              "  'ecchi, mecha, shounen, sports',\n",
              "  'ecchi, mecha, shounen, sports'],\n",
              " 'Colorful (Movie)': ['drama, slice of life, supernatural',\n",
              "  'drama, slice of life, supernatural'],\n",
              " 'Lupin III vs. Detective Conan': ['action, adventure, comedy, mystery, shounen'],\n",
              " 'Choujuushin Gravion': ['action, comedy, mecha, sci-fi, shounen'],\n",
              " 'Karin': ['comedy, romance, school, shounen, vampire',\n",
              "  'comedy, romance, school, shounen, vampire',\n",
              "  'comedy, romance, school, shounen, vampire',\n",
              "  'comedy, romance, school, shounen, vampire'],\n",
              " 'Suzumiya Haruhi no Shoushitsu': ['comedy, mystery, romance, school, sci-fi, supernatural',\n",
              "  'comedy, mystery, romance, school, sci-fi, supernatural',\n",
              "  'comedy, mystery, romance, school, sci-fi, supernatural',\n",
              "  'comedy, mystery, romance, school, sci-fi, supernatural',\n",
              "  'comedy, mystery, romance, school, sci-fi, supernatural'],\n",
              " 'Lucky☆Star: Original na Visual to Animation': ['comedy, parody, school, slice of life',\n",
              "  'comedy, parody, school, slice of life'],\n",
              " 'Beck': ['comedy, drama, music, shounen, slice of life',\n",
              "  'comedy, drama, music, shounen, slice of life',\n",
              "  'comedy, drama, music, shounen, slice of life'],\n",
              " 'Final Fantasy VII: Advent Children': ['action, fantasy, super power',\n",
              "  'action, fantasy, super power',\n",
              "  'action, fantasy, super power',\n",
              "  'action, fantasy, super power',\n",
              "  'action, fantasy, super power',\n",
              "  'action, fantasy, super power',\n",
              "  'action, fantasy, super power'],\n",
              " 'Moyashimon Returns': ['comedy, school, supernatural'],\n",
              " 'Gintama': ['action, comedy, historical, parody, samurai, sci-fi, shounen',\n",
              "  'action, comedy, historical, parody, samurai, sci-fi, shounen'],\n",
              " 'To LOVE-Ru OVA': ['comedy, ecchi, harem, school, sci-fi, shounen',\n",
              "  'comedy, ecchi, harem, school, sci-fi, shounen',\n",
              "  'comedy, ecchi, harem, school, sci-fi, shounen'],\n",
              " 'Tight-rope': ['romance, shounen ai'],\n",
              " 'Roujin Z': ['comedy, drama, mecha, sci-fi', 'comedy, drama, mecha, sci-fi'],\n",
              " 'Musaigen no Phantom World': ['action, comedy, fantasy, slice of life, supernatural',\n",
              "  'action, comedy, fantasy, slice of life, supernatural',\n",
              "  'action, comedy, fantasy, slice of life, supernatural',\n",
              "  'action, comedy, fantasy, slice of life, supernatural'],\n",
              " 'Dragon Ball Z: Summer Vacation Special': ['action, adventure, comedy, fantasy, martial arts, shounen, super power'],\n",
              " 'Kimi ni Todoke 2nd Season Specials': ['comedy, romance, shoujo'],\n",
              " 'Mai-Otome Specials': ['comedy, drama, fantasy, magic'],\n",
              " 'Shiki': ['mystery, supernatural, thriller, vampire',\n",
              "  'mystery, supernatural, thriller, vampire',\n",
              "  'mystery, supernatural, thriller, vampire',\n",
              "  'mystery, supernatural, thriller, vampire'],\n",
              " 'Full Metal Panic? Fumoffu': ['action, comedy, school',\n",
              "  'action, comedy, school',\n",
              "  'action, comedy, school',\n",
              "  'action, comedy, school',\n",
              "  'action, comedy, school',\n",
              "  'action, comedy, school',\n",
              "  'action, comedy, school'],\n",
              " 'Seikimatsu Occult Gakuin': ['comedy, mystery, school, sci-fi, supernatural'],\n",
              " 'Hatsu Inu The Animation': ['hentai'],\n",
              " 'Joshiraku': ['comedy, slice of life', 'comedy, slice of life'],\n",
              " 'Enbo': ['drama, hentai'],\n",
              " 'Nagi no Asukara': ['drama, fantasy, romance', 'drama, fantasy, romance'],\n",
              " 'Shin Koihime†Musou OVA Omake': ['adventure, comedy, fantasy'],\n",
              " 'Kimi no Na wa.': ['drama, romance, school, supernatural',\n",
              "  'drama, romance, school, supernatural',\n",
              "  'drama, romance, school, supernatural'],\n",
              " 'Sekai Seifuku: Bouryaku no Zvezda - Shin Zvezda Daisakusen': ['action, comedy, fantasy'],\n",
              " 'High School DxD New: Oppai, Tsutsumimasu!': ['comedy, demons, ecchi, romance, school',\n",
              "  'comedy, demons, ecchi, romance, school',\n",
              "  'comedy, demons, ecchi, romance, school',\n",
              "  'comedy, demons, ecchi, romance, school'],\n",
              " 'Element Hunters': ['sci-fi, shounen'],\n",
              " 'Uragiri wa Boku no Namae wo Shitteiru': ['adventure, drama, fantasy, shoujo, shounen ai',\n",
              "  'adventure, drama, fantasy, shoujo, shounen ai'],\n",
              " 'Neon Genesis Evangelion': ['action, dementia, drama, mecha, psychological, sci-fi',\n",
              "  'action, dementia, drama, mecha, psychological, sci-fi',\n",
              "  'action, dementia, drama, mecha, psychological, sci-fi',\n",
              "  'action, dementia, drama, mecha, psychological, sci-fi',\n",
              "  'action, dementia, drama, mecha, psychological, sci-fi'],\n",
              " 'Berserk': ['action, adventure, demons, drama, fantasy, horror, military, romance, seinen, supernatural',\n",
              "  'action, adventure, demons, drama, fantasy, horror, military, romance, seinen, supernatural',\n",
              "  'action, adventure, demons, drama, fantasy, horror, military, romance, seinen, supernatural',\n",
              "  'action, adventure, demons, drama, fantasy, horror, military, romance, seinen, supernatural',\n",
              "  'action, adventure, demons, drama, fantasy, horror, military, romance, seinen, supernatural'],\n",
              " 'Bamboo Blade': ['comedy, school, seinen, sports'],\n",
              " 'Seiken Tsukai no World Break': ['action, fantasy, harem, romance, school, supernatural',\n",
              "  'action, fantasy, harem, romance, school, supernatural',\n",
              "  'action, fantasy, harem, romance, school, supernatural',\n",
              "  'action, fantasy, harem, romance, school, supernatural',\n",
              "  'action, fantasy, harem, romance, school, supernatural',\n",
              "  'action, fantasy, harem, romance, school, supernatural'],\n",
              " 'Servant x Service': ['comedy, slice of life',\n",
              "  'comedy, slice of life',\n",
              "  'comedy, slice of life'],\n",
              " 'Uta no☆Prince-sama♪ Maji Love 2000%': ['comedy, harem, music, romance, school, shoujo',\n",
              "  'comedy, harem, music, romance, school, shoujo'],\n",
              " 'Juuni Senshi Bakuretsu Eto Ranger': ['action, comedy, fantasy'],\n",
              " 'Natsume Yuujinchou San': ['drama, fantasy, shoujo, slice of life, supernatural'],\n",
              " 'Sword Art Online II': ['action, adventure, fantasy, game, romance',\n",
              "  'action, adventure, fantasy, game, romance',\n",
              "  'action, adventure, fantasy, game, romance',\n",
              "  'action, adventure, fantasy, game, romance',\n",
              "  'action, adventure, fantasy, game, romance',\n",
              "  'action, adventure, fantasy, game, romance',\n",
              "  'action, adventure, fantasy, game, romance',\n",
              "  'action, adventure, fantasy, game, romance',\n",
              "  'action, adventure, fantasy, game, romance'],\n",
              " 'Captain Earth': ['action, mecha, romance, sci-fi, space'],\n",
              " 'Danna ga Nani wo Itteiru ka Wakaranai Ken': ['comedy, seinen, slice of life',\n",
              "  'comedy, seinen, slice of life',\n",
              "  'comedy, seinen, slice of life'],\n",
              " 'Transformers Micron Densetsu': ['action, mecha, sci-fi, shounen'],\n",
              " 'Gintama°': ['action, comedy, historical, parody, samurai, sci-fi, shounen',\n",
              "  'action, comedy, historical, parody, samurai, sci-fi, shounen',\n",
              "  'action, comedy, historical, parody, samurai, sci-fi, shounen'],\n",
              " 'Genshiken Nidaime': ['comedy, parody, slice of life',\n",
              "  'comedy, parody, slice of life',\n",
              "  'comedy, parody, slice of life',\n",
              "  'comedy, parody, slice of life'],\n",
              " 'One Piece Movie 1': ['action, adventure, comedy, fantasy, shounen, super power'],\n",
              " 'Plastic Memories': ['drama, romance, sci-fi', 'drama, romance, sci-fi'],\n",
              " 'Nikutai Ten&#039;i': ['hentai, yuri'],\n",
              " 'To LOVE-Ru': ['comedy, ecchi, harem, romance, school, sci-fi',\n",
              "  'comedy, ecchi, harem, romance, school, sci-fi',\n",
              "  'comedy, ecchi, harem, romance, school, sci-fi',\n",
              "  'comedy, ecchi, harem, romance, school, sci-fi',\n",
              "  'comedy, ecchi, harem, romance, school, sci-fi',\n",
              "  'comedy, ecchi, harem, romance, school, sci-fi'],\n",
              " 'Maken-Ki!': ['action, ecchi, harem, martial arts, school, super power',\n",
              "  'action, ecchi, harem, martial arts, school, super power'],\n",
              " 'Trinity Seven': ['action, comedy, ecchi, fantasy, harem, magic, romance, school, shounen, supernatural'],\n",
              " 'The Urotsuki': ['adventure, demons, fantasy, hentai, horror'],\n",
              " 'Tonari no Seki-kun': ['comedy, school, seinen',\n",
              "  'comedy, school, seinen',\n",
              "  'comedy, school, seinen',\n",
              "  'comedy, school, seinen'],\n",
              " 'Prince of Tennis: The Two Samurai, The First Game': ['action, shounen, sports'],\n",
              " 'To LOVE-Ru Darkness': ['comedy, ecchi, harem, romance, school, sci-fi, shounen',\n",
              "  'comedy, ecchi, harem, romance, school, sci-fi, shounen',\n",
              "  'comedy, ecchi, harem, romance, school, sci-fi, shounen',\n",
              "  'comedy, ecchi, harem, romance, school, sci-fi, shounen',\n",
              "  'comedy, ecchi, harem, romance, school, sci-fi, shounen'],\n",
              " 'Strange+': ['comedy, shoujo, slice of life'],\n",
              " 'Lupin III: Episode 0 &quot;First Contact&quot;': ['action, adventure, comedy, mystery, shounen'],\n",
              " 'Miss Monochrome: The Animation - Soccer-hen': ['comedy, slice of life, sports'],\n",
              " 'Asobi ni Iku yo!': ['comedy, ecchi, harem, romance, sci-fi',\n",
              "  'comedy, ecchi, harem, romance, sci-fi',\n",
              "  'comedy, ecchi, harem, romance, sci-fi',\n",
              "  'comedy, ecchi, harem, romance, sci-fi'],\n",
              " 'Naruto: Shippuuden Movie 5 - Blood Prison': ['action, adventure, martial arts, mystery, shounen, super power',\n",
              "  'action, adventure, martial arts, mystery, shounen, super power'],\n",
              " 'Himouto! Umaru-chan': ['comedy, school, seinen, slice of life',\n",
              "  'comedy, school, seinen, slice of life',\n",
              "  'comedy, school, seinen, slice of life',\n",
              "  'comedy, school, seinen, slice of life',\n",
              "  'comedy, school, seinen, slice of life'],\n",
              " 'Redline': ['action, cars, sci-fi, sports',\n",
              "  'action, cars, sci-fi, sports',\n",
              "  'action, cars, sci-fi, sports'],\n",
              " 'Pokemon: Mewtwo! Ware wa Koko ni Ari': ['action, adventure, comedy, drama, fantasy, kids',\n",
              "  'action, adventure, comedy, drama, fantasy, kids'],\n",
              " 'Code Geass: Nunnally in Wonderland': ['comedy, fantasy, parody',\n",
              "  'comedy, fantasy, parody',\n",
              "  'comedy, fantasy, parody',\n",
              "  'comedy, fantasy, parody',\n",
              "  'comedy, fantasy, parody'],\n",
              " 'Re:Zero kara Hajimeru Isekai Seikatsu': ['drama, fantasy, psychological, thriller',\n",
              "  'drama, fantasy, psychological, thriller',\n",
              "  'drama, fantasy, psychological, thriller',\n",
              "  'drama, fantasy, psychological, thriller'],\n",
              " 'Howl no Ugoku Shiro': ['adventure, drama, fantasy, romance',\n",
              "  'adventure, drama, fantasy, romance',\n",
              "  'adventure, drama, fantasy, romance',\n",
              "  'adventure, drama, fantasy, romance',\n",
              "  'adventure, drama, fantasy, romance',\n",
              "  'adventure, drama, fantasy, romance',\n",
              "  'adventure, drama, fantasy, romance'],\n",
              " 'Saraiya Goyou': ['historical, samurai, seinen',\n",
              "  'historical, samurai, seinen'],\n",
              " 'Trigun: Badlands Rumble': ['action, comedy, sci-fi',\n",
              "  'action, comedy, sci-fi',\n",
              "  'action, comedy, sci-fi'],\n",
              " 'Kanojo to Kanojo no Neko': ['drama, psychological, romance, slice of life',\n",
              "  'drama, psychological, romance, slice of life',\n",
              "  'drama, psychological, romance, slice of life',\n",
              "  'drama, psychological, romance, slice of life'],\n",
              " 'G-9': ['fantasy'],\n",
              " 'Peace Maker Kurogane': ['action, comedy, historical, samurai, shounen',\n",
              "  'action, comedy, historical, samurai, shounen'],\n",
              " 'Grappler Baki': ['action, shounen, sports'],\n",
              " 'Okusama ga Seitokaichou!': ['comedy, ecchi, romance, school, shounen'],\n",
              " 'Hoshi no Koe': ['drama, mecha, romance, sci-fi, space'],\n",
              " 'Nisemonogatari': ['comedy, mystery, supernatural',\n",
              "  'comedy, mystery, supernatural',\n",
              "  'comedy, mystery, supernatural',\n",
              "  'comedy, mystery, supernatural',\n",
              "  'comedy, mystery, supernatural'],\n",
              " 'Hachimitsu to Clover Specials': ['comedy, drama, josei, romance, slice of life'],\n",
              " 'Princess Lover!': ['comedy, ecchi, harem, school',\n",
              "  'comedy, ecchi, harem, school'],\n",
              " 'Naruto Narutimate Hero 3: Tsuini Gekitotsu! Jounin vs. Genin!! Musabetsu Dairansen taikai Kaisai!!': ['adventure, comedy, game, shounen',\n",
              "  'adventure, comedy, game, shounen',\n",
              "  'adventure, comedy, game, shounen',\n",
              "  'adventure, comedy, game, shounen'],\n",
              " 'Danganronpa: Kibou no Gakuen to Zetsubou no Koukousei The Animation': ['action, horror, mystery, psychological',\n",
              "  'action, horror, mystery, psychological',\n",
              "  'action, horror, mystery, psychological',\n",
              "  'action, horror, mystery, psychological',\n",
              "  'action, horror, mystery, psychological',\n",
              "  'action, horror, mystery, psychological',\n",
              "  'action, horror, mystery, psychological',\n",
              "  'action, horror, mystery, psychological',\n",
              "  'action, horror, mystery, psychological',\n",
              "  'action, horror, mystery, psychological',\n",
              "  'action, horror, mystery, psychological',\n",
              "  'action, horror, mystery, psychological',\n",
              "  'action, horror, mystery, psychological'],\n",
              " '.hack//Roots': ['adventure, drama, fantasy, game, sci-fi',\n",
              "  'adventure, drama, fantasy, game, sci-fi'],\n",
              " 'Kamisama Hajimemashita': ['comedy, demons, fantasy, romance, shoujo, supernatural',\n",
              "  'comedy, demons, fantasy, romance, shoujo, supernatural'],\n",
              " 'Natsuyasumi.': ['hentai, yaoi'],\n",
              " 'Love Live! School Idol Project 2nd Season': ['music, school, slice of life',\n",
              "  'music, school, slice of life',\n",
              "  'music, school, slice of life'],\n",
              " 'Akagami no Shirayuki-hime': ['drama, fantasy, romance, shoujo',\n",
              "  'drama, fantasy, romance, shoujo'],\n",
              " 'Negima!?': ['adventure, comedy, ecchi, fantasy, harem, magic, romance, school, supernatural',\n",
              "  'adventure, comedy, ecchi, fantasy, harem, magic, romance, school, supernatural',\n",
              "  'adventure, comedy, ecchi, fantasy, harem, magic, romance, school, supernatural'],\n",
              " 'Saki': ['game, school, slice of life', 'game, school, slice of life'],\n",
              " 'Gift: Eternal Rainbow': ['comedy, drama, harem, magic, romance, school'],\n",
              " 'Kuroko no Basket NG-shuu': ['comedy, school, shounen, sports'],\n",
              " 'Seitokai no Ichizon': ['comedy, harem, parody, school',\n",
              "  'comedy, harem, parody, school',\n",
              "  'comedy, harem, parody, school'],\n",
              " 'Highschool of the Dead: Drifters of the Dead': ['comedy, ecchi, supernatural',\n",
              "  'comedy, ecchi, supernatural',\n",
              "  'comedy, ecchi, supernatural',\n",
              "  'comedy, ecchi, supernatural',\n",
              "  'comedy, ecchi, supernatural'],\n",
              " 'Girls und Panzer: Fushou - Akiyama Yukari no Sensha Kouza': ['military, school',\n",
              "  'military, school'],\n",
              " 'Hokuto no Ken: Raoh Gaiden Junai-hen': ['action, adventure, martial arts'],\n",
              " 'Code Geass: Boukoku no Akito 4 - Nikushimi no Kioku Kara': ['action, mecha, military'],\n",
              " 'Sekirei: Hajimete no Otsukai': ['comedy', 'comedy'],\n",
              " 'Kuroko no Basket 2nd Season': ['comedy, school, shounen, sports',\n",
              "  'comedy, school, shounen, sports',\n",
              "  'comedy, school, shounen, sports',\n",
              "  'comedy, school, shounen, sports',\n",
              "  'comedy, school, shounen, sports',\n",
              "  'comedy, school, shounen, sports'],\n",
              " 'Bubblegum Crisis': ['adventure, mecha, sci-fi, shounen'],\n",
              " 'Aa! Megami-sama!: Tatakau Tsubasa': ['comedy, magic, romance, seinen, supernatural'],\n",
              " 'Darker than Black: Ryuusei no Gemini': ['action, mystery, sci-fi, super power',\n",
              "  'action, mystery, sci-fi, super power',\n",
              "  'action, mystery, sci-fi, super power',\n",
              "  'action, mystery, sci-fi, super power',\n",
              "  'action, mystery, sci-fi, super power'],\n",
              " 'Boku wa Tomodachi ga Sukunai': ['comedy, ecchi, harem, romance, school, seinen, slice of life',\n",
              "  'comedy, ecchi, harem, romance, school, seinen, slice of life',\n",
              "  'comedy, ecchi, harem, romance, school, seinen, slice of life',\n",
              "  'comedy, ecchi, harem, romance, school, seinen, slice of life',\n",
              "  'comedy, ecchi, harem, romance, school, seinen, slice of life'],\n",
              " 'Yahari Ore no Seishun Love Comedy wa Machigatteiru.': ['comedy, drama, romance, school',\n",
              "  'comedy, drama, romance, school',\n",
              "  'comedy, drama, romance, school',\n",
              "  'comedy, drama, romance, school',\n",
              "  'comedy, drama, romance, school',\n",
              "  'comedy, drama, romance, school',\n",
              "  'comedy, drama, romance, school',\n",
              "  'comedy, drama, romance, school',\n",
              "  'comedy, drama, romance, school'],\n",
              " 'Tenkuu no Shiro Laputa': ['adventure, fantasy, romance, sci-fi',\n",
              "  'adventure, fantasy, romance, sci-fi'],\n",
              " 'Ao no Exorcist: Ura Ex': ['action, fantasy, shounen, supernatural'],\n",
              " 'Vexille: 2077 Nihon Sakoku': ['action, military, sci-fi',\n",
              "  'action, military, sci-fi'],\n",
              " 'Persona 4 the Animation': ['adventure, mystery, school, sci-fi, super power, supernatural',\n",
              "  'adventure, mystery, school, sci-fi, super power, supernatural',\n",
              "  'adventure, mystery, school, sci-fi, super power, supernatural',\n",
              "  'adventure, mystery, school, sci-fi, super power, supernatural',\n",
              "  'adventure, mystery, school, sci-fi, super power, supernatural',\n",
              "  'adventure, mystery, school, sci-fi, super power, supernatural'],\n",
              " 'Shugo Chara! Party!': ['comedy, magic, school, shoujo'],\n",
              " 'Fate/kaleid liner Prisma☆Illya': ['action, comedy, fantasy, magic',\n",
              "  'action, comedy, fantasy, magic'],\n",
              " 'Fortune Arterial: Akai Yakusoku': ['comedy, romance, school, supernatural, vampire',\n",
              "  'comedy, romance, school, supernatural, vampire'],\n",
              " 'Yahari Ore no Seishun Love Comedy wa Machigatteiru. Zoku': ['comedy, drama, romance, school'],\n",
              " 'Detective Conan Movie 17: Private Eye in the Distant Sea': ['adventure, comedy, mystery, police, shounen',\n",
              "  'adventure, comedy, mystery, police, shounen'],\n",
              " 'Flying Witch': ['comedy, magic, shounen, slice of life, supernatural'],\n",
              " 'Mayo Chiki!': ['comedy, ecchi, harem, romance, school',\n",
              "  'comedy, ecchi, harem, romance, school',\n",
              "  'comedy, ecchi, harem, romance, school',\n",
              "  'comedy, ecchi, harem, romance, school'],\n",
              " 'Suisei no Gargantia': ['action, adventure, mecha, sci-fi',\n",
              "  'action, adventure, mecha, sci-fi',\n",
              "  'action, adventure, mecha, sci-fi',\n",
              "  'action, adventure, mecha, sci-fi',\n",
              "  'action, adventure, mecha, sci-fi',\n",
              "  'action, adventure, mecha, sci-fi',\n",
              "  'action, adventure, mecha, sci-fi'],\n",
              " 'Evangelion: 2.0 You Can (Not) Advance': ['action, mecha, sci-fi',\n",
              "  'action, mecha, sci-fi',\n",
              "  'action, mecha, sci-fi',\n",
              "  'action, mecha, sci-fi',\n",
              "  'action, mecha, sci-fi',\n",
              "  'action, mecha, sci-fi',\n",
              "  'action, mecha, sci-fi'],\n",
              " 'I&#039;&#039;s Pure': ['comedy, drama, ecchi, romance, school'],\n",
              " 'Kuroko no Basket': ['comedy, school, shounen, sports',\n",
              "  'comedy, school, shounen, sports',\n",
              "  'comedy, school, shounen, sports',\n",
              "  'comedy, school, shounen, sports',\n",
              "  'comedy, school, shounen, sports',\n",
              "  'comedy, school, shounen, sports',\n",
              "  'comedy, school, shounen, sports',\n",
              "  'comedy, school, shounen, sports'],\n",
              " 'Maoyuu Maou Yuusha': ['adventure, demons, fantasy, historical, romance',\n",
              "  'adventure, demons, fantasy, historical, romance',\n",
              "  'adventure, demons, fantasy, historical, romance',\n",
              "  'adventure, demons, fantasy, historical, romance'],\n",
              " 'Vampire Hunter D': ['action, horror, sci-fi, supernatural, vampire',\n",
              "  'action, horror, sci-fi, supernatural, vampire',\n",
              "  'action, horror, sci-fi, supernatural, vampire',\n",
              "  'action, horror, sci-fi, supernatural, vampire'],\n",
              " 'Shijou Saikyou no Deshi Kenichi OVA': ['action, comedy, martial arts, school, shounen'],\n",
              " 'Shinigami no Ballad.': ['drama, fantasy, psychological, supernatural'],\n",
              " 'Magikano': ['comedy, fantasy, harem, magic, romance, shounen'],\n",
              " 'Chibi☆Devi!': ['fantasy, shoujo, supernatural'],\n",
              " 'Mushrambo': ['adventure, drama, fantasy, sci-fi, shounen'],\n",
              " 'Bokura ga Ita': ['drama, romance, shoujo, slice of life',\n",
              "  'drama, romance, shoujo, slice of life',\n",
              "  'drama, romance, shoujo, slice of life',\n",
              "  'drama, romance, shoujo, slice of life'],\n",
              " 'Higashi no Eden': ['action, comedy, drama, mystery, romance, sci-fi, thriller',\n",
              "  'action, comedy, drama, mystery, romance, sci-fi, thriller',\n",
              "  'action, comedy, drama, mystery, romance, sci-fi, thriller',\n",
              "  'action, comedy, drama, mystery, romance, sci-fi, thriller',\n",
              "  'action, comedy, drama, mystery, romance, sci-fi, thriller',\n",
              "  'action, comedy, drama, mystery, romance, sci-fi, thriller'],\n",
              " 'Taimadou Gakuen 35 Shiken Shoutai': ['action, ecchi, fantasy, harem, military, romance, supernatural',\n",
              "  'action, ecchi, fantasy, harem, military, romance, supernatural',\n",
              "  'action, ecchi, fantasy, harem, military, romance, supernatural'],\n",
              " 'Full Metal Panic! The Second Raid: Wari to Hima na Sentaichou no Ichinichi': ['comedy',\n",
              "  'comedy',\n",
              "  'comedy',\n",
              "  'comedy',\n",
              "  'comedy'],\n",
              " 'Shingeki no Kyojin: Kuinaki Sentaku': ['action, fantasy, shoujo, supernatural',\n",
              "  'action, fantasy, shoujo, supernatural'],\n",
              " 'Ichiban Ushiro no Daimaou': ['action, comedy, ecchi, fantasy, harem, magic, school, shounen',\n",
              "  'action, comedy, ecchi, fantasy, harem, magic, school, shounen',\n",
              "  'action, comedy, ecchi, fantasy, harem, magic, school, shounen',\n",
              "  'action, comedy, ecchi, fantasy, harem, magic, school, shounen',\n",
              "  'action, comedy, ecchi, fantasy, harem, magic, school, shounen',\n",
              "  'action, comedy, ecchi, fantasy, harem, magic, school, shounen',\n",
              "  'action, comedy, ecchi, fantasy, harem, magic, school, shounen',\n",
              "  'action, comedy, ecchi, fantasy, harem, magic, school, shounen'],\n",
              " 'Fate/Zero 2nd Season': ['action, fantasy, supernatural, thriller',\n",
              "  'action, fantasy, supernatural, thriller',\n",
              "  'action, fantasy, supernatural, thriller',\n",
              "  'action, fantasy, supernatural, thriller'],\n",
              " '.hack//Sign': ['adventure, fantasy, game, magic, mystery, sci-fi',\n",
              "  'adventure, fantasy, game, magic, mystery, sci-fi',\n",
              "  'adventure, fantasy, game, magic, mystery, sci-fi',\n",
              "  'adventure, fantasy, game, magic, mystery, sci-fi'],\n",
              " 'Danshi Koukousei no Nichijou': ['comedy, school, shounen, slice of life',\n",
              "  'comedy, school, shounen, slice of life',\n",
              "  'comedy, school, shounen, slice of life',\n",
              "  'comedy, school, shounen, slice of life'],\n",
              " 'Ore no Imouto ga Konnani Kawaii Wake ga Nai': ['comedy, seinen, slice of life',\n",
              "  'comedy, seinen, slice of life',\n",
              "  'comedy, seinen, slice of life',\n",
              "  'comedy, seinen, slice of life',\n",
              "  'comedy, seinen, slice of life',\n",
              "  'comedy, seinen, slice of life',\n",
              "  'comedy, seinen, slice of life'],\n",
              " 'Selector Infected WIXOSS': ['game, psychological'],\n",
              " 'Tetsuwan Birdy Decode': ['action, comedy, sci-fi',\n",
              "  'action, comedy, sci-fi',\n",
              "  'action, comedy, sci-fi'],\n",
              " 'RDG: Red Data Girl': ['fantasy, magic', 'fantasy, magic', 'fantasy, magic'],\n",
              " 'Shinryaku!? Ika Musume': ['comedy, shounen, slice of life'],\n",
              " 'School Days: Valentine Days': ['comedy, romance, school'],\n",
              " 'Kouchuu Ouja Mushiking: Mori no Tami no Densetsu': ['fantasy'],\n",
              " 'Skip Beat!': ['comedy, drama, romance, shoujo',\n",
              "  'comedy, drama, romance, shoujo'],\n",
              " 'Honey Tokyo': ['sci-fi'],\n",
              " 'Guilty Crown: Lost Christmas': ['action, drama, sci-fi, super power',\n",
              "  'action, drama, sci-fi, super power',\n",
              "  'action, drama, sci-fi, super power',\n",
              "  'action, drama, sci-fi, super power'],\n",
              " 'Hokuto no Ken Zero: Kenshirou Den': ['martial arts'],\n",
              " 'Date A Live: Encore OVA': ['romance, slice of life',\n",
              "  'romance, slice of life',\n",
              "  'romance, slice of life'],\n",
              " 'Chihayafuru 2': ['drama, game, josei, slice of life, sports'],\n",
              " 'Clannad: After Story - Mou Hitotsu no Sekai, Kyou-hen': ['drama, romance, school',\n",
              "  'drama, romance, school',\n",
              "  'drama, romance, school'],\n",
              " '.hack//Quantum': ['action, adventure, fantasy, game, sci-fi'],\n",
              " 'Arslan Senki (TV): Dakkan no Yaiba': ['action, adventure, drama, fantasy, historical, supernatural'],\n",
              " 'Sabagebu!': ['action, comedy, military, shoujo'],\n",
              " 'Love Hina': ['comedy, ecchi, harem, romance, shounen, slice of life',\n",
              "  'comedy, ecchi, harem, romance, shounen, slice of life',\n",
              "  'comedy, ecchi, harem, romance, shounen, slice of life',\n",
              "  'comedy, ecchi, harem, romance, shounen, slice of life',\n",
              "  'comedy, ecchi, harem, romance, shounen, slice of life',\n",
              "  'comedy, ecchi, harem, romance, shounen, slice of life',\n",
              "  'comedy, ecchi, harem, romance, shounen, slice of life'],\n",
              " 'Zero no Tsukaima: Princesses no Rondo - Yuuwaku no Sunahama': ['comedy, ecchi, fantasy, harem, magic',\n",
              "  'comedy, ecchi, fantasy, harem, magic'],\n",
              " 'Hikyou Tanken Fam &amp; Ihrlie': ['action, adventure, comedy, fantasy, magic'],\n",
              " 'Kiss x Sis': ['comedy, ecchi, harem, romance, school, seinen',\n",
              "  'comedy, ecchi, harem, romance, school, seinen',\n",
              "  'comedy, ecchi, harem, romance, school, seinen'],\n",
              " 'Kekkai Sensen': ['action, fantasy, shounen, super power, supernatural, vampire',\n",
              "  'action, fantasy, shounen, super power, supernatural, vampire',\n",
              "  'action, fantasy, shounen, super power, supernatural, vampire'],\n",
              " 'Kuusen Madoushi Kouhosei no Kyoukan': ['action, drama, fantasy, magic, school'],\n",
              " 'Wind: A Breath of Heart (TV)': ['drama, romance, school, supernatural'],\n",
              " 'Kono Subarashii Sekai ni Shukufuku wo!': ['adventure, comedy, fantasy, supernatural',\n",
              "  'adventure, comedy, fantasy, supernatural'],\n",
              " 'Kino no Tabi: Nanika wo Suru Tame ni - Life Goes On.': ['adventure, drama, fantasy'],\n",
              " 'Clannad: After Story': ['drama, fantasy, romance, slice of life, supernatural',\n",
              "  'drama, fantasy, romance, slice of life, supernatural',\n",
              "  'drama, fantasy, romance, slice of life, supernatural',\n",
              "  'drama, fantasy, romance, slice of life, supernatural',\n",
              "  'drama, fantasy, romance, slice of life, supernatural',\n",
              "  'drama, fantasy, romance, slice of life, supernatural',\n",
              "  'drama, fantasy, romance, slice of life, supernatural',\n",
              "  'drama, fantasy, romance, slice of life, supernatural',\n",
              "  'drama, fantasy, romance, slice of life, supernatural',\n",
              "  'drama, fantasy, romance, slice of life, supernatural',\n",
              "  'drama, fantasy, romance, slice of life, supernatural',\n",
              "  'drama, fantasy, romance, slice of life, supernatural',\n",
              "  'drama, fantasy, romance, slice of life, supernatural',\n",
              "  'drama, fantasy, romance, slice of life, supernatural',\n",
              "  'drama, fantasy, romance, slice of life, supernatural',\n",
              "  'drama, fantasy, romance, slice of life, supernatural',\n",
              "  'drama, fantasy, romance, slice of life, supernatural'],\n",
              " 'Shingetsutan Tsukihime': ['action, horror, mystery, romance, super power, supernatural, vampire',\n",
              "  'action, horror, mystery, romance, super power, supernatural, vampire',\n",
              "  'action, horror, mystery, romance, super power, supernatural, vampire',\n",
              "  'action, horror, mystery, romance, super power, supernatural, vampire'],\n",
              " 'Musekinin Kanchou Tylor': ['comedy, military, parody, sci-fi, space',\n",
              "  'comedy, military, parody, sci-fi, space'],\n",
              " 'ef: A Tale of Memories.': ['drama, mystery, romance',\n",
              "  'drama, mystery, romance'],\n",
              " '_Summer': ['drama, harem, romance'],\n",
              " 'Naruto: Shippuuden Movie 1': ['action, adventure, comedy, fantasy, shounen'],\n",
              " 'Ima, Soko ni Iru Boku': ['adventure, drama, fantasy, military, sci-fi',\n",
              "  'adventure, drama, fantasy, military, sci-fi'],\n",
              " 'Magi: The Kingdom of Magic': ['action, adventure, fantasy, magic, shounen',\n",
              "  'action, adventure, fantasy, magic, shounen',\n",
              "  'action, adventure, fantasy, magic, shounen',\n",
              "  'action, adventure, fantasy, magic, shounen',\n",
              "  'action, adventure, fantasy, magic, shounen',\n",
              "  'action, adventure, fantasy, magic, shounen'],\n",
              " 'Amagi Brilliant Park': ['comedy, magic',\n",
              "  'comedy, magic',\n",
              "  'comedy, magic',\n",
              "  'comedy, magic',\n",
              "  'comedy, magic',\n",
              "  'comedy, magic'],\n",
              " 'Maken-Ki! OVA': ['action, ecchi, harem, martial arts, school, super power',\n",
              "  'action, ecchi, harem, martial arts, school, super power'],\n",
              " 'Mobile Police Patlabor: MiniPato': ['parody'],\n",
              " 'Toki wo Kakeru Shoujo': ['adventure, drama, romance, sci-fi',\n",
              "  'adventure, drama, romance, sci-fi',\n",
              "  'adventure, drama, romance, sci-fi',\n",
              "  'adventure, drama, romance, sci-fi',\n",
              "  'adventure, drama, romance, sci-fi',\n",
              "  'adventure, drama, romance, sci-fi',\n",
              "  'adventure, drama, romance, sci-fi',\n",
              "  'adventure, drama, romance, sci-fi',\n",
              "  'adventure, drama, romance, sci-fi'],\n",
              " 'Sumomomo Momomo: Chijou Saikyou no Yome': ['comedy, martial arts, romance'],\n",
              " 'Ore ga Ojousama Gakkou ni &quot;Shomin Sample&quot; Toshite Gets♥Sareta Ken': ['comedy, ecchi, harem, romance, school',\n",
              "  'comedy, ecchi, harem, romance, school'],\n",
              " 'D.N.Angel': ['action, comedy, fantasy, magic, romance, school, shoujo',\n",
              "  'action, comedy, fantasy, magic, romance, school, shoujo',\n",
              "  'action, comedy, fantasy, magic, romance, school, shoujo',\n",
              "  'action, comedy, fantasy, magic, romance, school, shoujo',\n",
              "  'action, comedy, fantasy, magic, romance, school, shoujo'],\n",
              " 'Juubee Ninpuuchou': ['adventure, fantasy, historical, horror, romance, shounen, supernatural',\n",
              "  'adventure, fantasy, historical, horror, romance, shounen, supernatural',\n",
              "  'adventure, fantasy, historical, horror, romance, shounen, supernatural'],\n",
              " 'Digimon Adventure tri. 1: Saikai': ['action, adventure, comedy, drama',\n",
              "  'action, adventure, comedy, drama',\n",
              "  'action, adventure, comedy, drama'],\n",
              " 'Keiraku no Houteishiki Level-C': ['drama, hentai, yaoi'],\n",
              " 'Captain Tsubasa J': ['action, shounen, sports', 'action, shounen, sports'],\n",
              " 'Ginga Tetsudou Monogatari': ['action, adventure, drama, sci-fi, space'],\n",
              " 'Shinmai Maou no Testament OVA': ['action, demons, ecchi, fantasy, harem, romance',\n",
              "  'action, demons, ecchi, fantasy, harem, romance'],\n",
              " 'Pumpkin Scissors': ['action, comedy, drama, military',\n",
              "  'action, comedy, drama, military'],\n",
              " 'Gintama: Shiroyasha Koutan': ['action, comedy, historical, parody, sci-fi'],\n",
              " 'Kara no Kyoukai: Manner Movies': ['action, comedy'],\n",
              " 'Gakuen Nanafushigi': ['hentai, supernatural'],\n",
              " 'Hanamonogatari': ['comedy, mystery, supernatural',\n",
              "  'comedy, mystery, supernatural',\n",
              "  'comedy, mystery, supernatural',\n",
              "  'comedy, mystery, supernatural',\n",
              "  'comedy, mystery, supernatural'],\n",
              " 'Summer Wars': ['comedy, sci-fi',\n",
              "  'comedy, sci-fi',\n",
              "  'comedy, sci-fi',\n",
              "  'comedy, sci-fi',\n",
              "  'comedy, sci-fi',\n",
              "  'comedy, sci-fi'],\n",
              " 'IS: Infinite Stratos': ['action, comedy, harem, mecha, sci-fi',\n",
              "  'action, comedy, harem, mecha, sci-fi',\n",
              "  'action, comedy, harem, mecha, sci-fi',\n",
              "  'action, comedy, harem, mecha, sci-fi'],\n",
              " 'Cross Ange: Tenshi to Ryuu no Rondo': ['action, mecha, sci-fi'],\n",
              " 'Saenai Heroine no Sodatekata': ['comedy, ecchi, harem, romance, school',\n",
              "  'comedy, ecchi, harem, romance, school'],\n",
              " 'Nana': ['comedy, drama, music, romance, shoujo, slice of life',\n",
              "  'comedy, drama, music, romance, shoujo, slice of life',\n",
              "  'comedy, drama, music, romance, shoujo, slice of life'],\n",
              " 'Yondemasu yo, Azazel-san. Z': ['comedy, demons, supernatural'],\n",
              " 'Detective Conan Movie 04: Captured in Her Eyes': ['adventure, comedy, mystery, police, shounen',\n",
              "  'adventure, comedy, mystery, police, shounen'],\n",
              " 'Detective Conan Movie 09: Strategy Above the Depths': ['adventure, comedy, mystery, police, shounen',\n",
              "  'adventure, comedy, mystery, police, shounen'],\n",
              " 'Tokyo Mew Mew': ['adventure, comedy, fantasy, magic, romance, sci-fi, shoujo, supernatural',\n",
              "  'adventure, comedy, fantasy, magic, romance, sci-fi, shoujo, supernatural'],\n",
              " 'Carnival Phantasm': ['comedy, parody, supernatural',\n",
              "  'comedy, parody, supernatural'],\n",
              " 'Night Wizard': ['adventure, fantasy, magic, shounen'],\n",
              " 'Devil Survivor 2 The Animation': ['action, demons, supernatural',\n",
              "  'action, demons, supernatural'],\n",
              " 'Rakudai Kishi no Cavalry': ['action, ecchi, fantasy, romance, school',\n",
              "  'action, ecchi, fantasy, romance, school',\n",
              "  'action, ecchi, fantasy, romance, school'],\n",
              " 'Yuru Yuri': ['comedy, school, shoujo ai, slice of life',\n",
              "  'comedy, school, shoujo ai, slice of life'],\n",
              " 'Bokusatsu Tenshi Dokuro-chan': ['comedy, ecchi, magic',\n",
              "  'comedy, ecchi, magic',\n",
              "  'comedy, ecchi, magic',\n",
              "  'comedy, ecchi, magic'],\n",
              " 'God Eater': ['action, fantasy, military, sci-fi',\n",
              "  'action, fantasy, military, sci-fi',\n",
              "  'action, fantasy, military, sci-fi'],\n",
              " 'Oniichan dakedo Ai Sae Areba Kankeinai yo ne!': ['comedy, ecchi, harem, romance, school'],\n",
              " 'Death Note Rewrite': ['mystery, police, psychological, supernatural, thriller',\n",
              "  'mystery, police, psychological, supernatural, thriller'],\n",
              " 'Shimoneta to Iu Gainen ga Sonzai Shinai Taikutsu na Sekai': ['comedy, ecchi, school'],\n",
              " 'Naruto: Shippuuden Movie 6 - Road to Ninja': ['action, adventure, martial arts, shounen, super power',\n",
              "  'action, adventure, martial arts, shounen, super power'],\n",
              " 'C³ Special': ['action, comedy, ecchi, school, supernatural'],\n",
              " 'Blassreiter: Navi': ['action, sci-fi'],\n",
              " 'Space☆Dandy': ['comedy, sci-fi, space'],\n",
              " 'Kurau Phantom Memory': ['action, drama, sci-fi, space, super power'],\n",
              " 'Kaleido Star: Good da yo! Goood!!': ['comedy'],\n",
              " 'Sonic X': ['adventure, comedy, kids, mecha, sci-fi, shounen',\n",
              "  'adventure, comedy, kids, mecha, sci-fi, shounen'],\n",
              " 'Steins;Gate: Oukoubakko no Poriomania': ['sci-fi, thriller',\n",
              "  'sci-fi, thriller',\n",
              "  'sci-fi, thriller',\n",
              "  'sci-fi, thriller'],\n",
              " 'Mobile Suit Gundam 00 Second Season': ['action, drama, mecha, military, sci-fi, space',\n",
              "  'action, drama, mecha, military, sci-fi, space',\n",
              "  'action, drama, mecha, military, sci-fi, space',\n",
              "  'action, drama, mecha, military, sci-fi, space'],\n",
              " 'D-Frag!': ['comedy, game, school, seinen',\n",
              "  'comedy, game, school, seinen',\n",
              "  'comedy, game, school, seinen'],\n",
              " 'Denki-gai no Honya-san': ['comedy, seinen, slice of life',\n",
              "  'comedy, seinen, slice of life',\n",
              "  'comedy, seinen, slice of life'],\n",
              " 'Minami-ke': ['comedy, school, slice of life',\n",
              "  'comedy, school, slice of life',\n",
              "  'comedy, school, slice of life'],\n",
              " 'Baka to Test to Shoukanjuu Ni!': ['comedy, romance, school, super power',\n",
              "  'comedy, romance, school, super power',\n",
              "  'comedy, romance, school, super power'],\n",
              " 'Mayoiga': ['drama, horror, mystery, psychological'],\n",
              " 'Arakawa Under the Bridge x Bridge': ['comedy, romance, seinen',\n",
              "  'comedy, romance, seinen'],\n",
              " 'The Animatrix': ['action, drama, sci-fi'],\n",
              " 'eX-Driver': ['action, adventure, cars, comedy, sci-fi, shounen'],\n",
              " 'Psycho-Pass Movie': ['action, military, police, sci-fi'],\n",
              " 'C³': ['action, comedy, ecchi, school, supernatural',\n",
              "  'action, comedy, ecchi, school, supernatural',\n",
              "  'action, comedy, ecchi, school, supernatural',\n",
              "  'action, comedy, ecchi, school, supernatural',\n",
              "  'action, comedy, ecchi, school, supernatural'],\n",
              " 'Yahari Ore no Seishun Love Comedy wa Machigatteiru. OVA': ['comedy, romance, school',\n",
              "  'comedy, romance, school',\n",
              "  'comedy, romance, school'],\n",
              " 'Sennen Joyuu': ['action, adventure, drama, fantasy, historical, romance',\n",
              "  'action, adventure, drama, fantasy, historical, romance'],\n",
              " 'Galaxy Angel': ['comedy, sci-fi'],\n",
              " 'Kono Minikuku mo Utsukushii Sekai': ['comedy, drama, magic, romance, sci-fi',\n",
              "  'comedy, drama, magic, romance, sci-fi'],\n",
              " 'Gunnm': ['drama, mecha, sci-fi, shounen', 'drama, mecha, sci-fi, shounen'],\n",
              " 'Kodomo no Jikan: Ni Gakki': ['comedy, ecchi, school'],\n",
              " 'Naisho no Tsubomi': ['kids, romance, school, shoujo, slice of life, supernatural'],\n",
              " 'Eve no Jikan (Movie)': ['sci-fi, slice of life',\n",
              "  'sci-fi, slice of life',\n",
              "  'sci-fi, slice of life'],\n",
              " 'Glasslip': ['romance, slice of life, supernatural',\n",
              "  'romance, slice of life, supernatural',\n",
              "  'romance, slice of life, supernatural'],\n",
              " 'Shirogane no Ishi: Argevollen': ['action, mecha'],\n",
              " 'Houkago no Shokuinshitsu': ['drama, romance, yaoi'],\n",
              " 'One Piece: Taose! Kaizoku Ganzack': ['action, adventure, comedy, fantasy, shounen, super power',\n",
              "  'action, adventure, comedy, fantasy, shounen, super power'],\n",
              " 'Mitsudomoe Special': ['comedy, school, slice of life'],\n",
              " 'Wonderful Days': ['action, drama, romance, sci-fi'],\n",
              " 'Pokemon: Pikachu Tankentai': ['adventure, comedy, fantasy, kids',\n",
              "  'adventure, comedy, fantasy, kids'],\n",
              " 'Kaleido Star': ['comedy, drama, fantasy, shoujo'],\n",
              " 'Saenai Heroine no Sodatekata: Ai to Seishun no Service Kai': ['comedy, ecchi, harem, romance'],\n",
              " 'Mobile Fighter G Gundam': ['adventure, comedy, drama, martial arts, mecha, romance, sci-fi, space, sports',\n",
              "  'adventure, comedy, drama, martial arts, mecha, romance, sci-fi, space, sports',\n",
              "  'adventure, comedy, drama, martial arts, mecha, romance, sci-fi, space, sports'],\n",
              " 'Barakamon': ['comedy, slice of life',\n",
              "  'comedy, slice of life',\n",
              "  'comedy, slice of life',\n",
              "  'comedy, slice of life',\n",
              "  'comedy, slice of life',\n",
              "  'comedy, slice of life'],\n",
              " 'Sola': ['drama, romance, slice of life, supernatural'],\n",
              " 'Star Driver: Kagayaki no Takuto': ['action, mecha, romance, shounen',\n",
              "  'action, mecha, romance, shounen'],\n",
              " 'Shoujo Kakumei Utena': ['drama, fantasy, psychological, shoujo',\n",
              "  'drama, fantasy, psychological, shoujo'],\n",
              " 'Kikoushi Enma': ['demons, ecchi, fantasy, horror, magic, seinen, supernatural'],\n",
              " 'Area 88': ['action, adventure, drama, military, romance'],\n",
              " 'Machine-Doll wa Kizutsukanai': ['action, ecchi, fantasy, school, seinen',\n",
              "  'action, ecchi, fantasy, school, seinen'],\n",
              " 'Wagamama High Spec': ['comedy, school'],\n",
              " 'Pokemon Best Wishes! Season 2: Episode N': ['action, adventure, comedy, fantasy, kids'],\n",
              " 'Mahou Shoujo Nante Mou Ii Desukara.': ['comedy, magic', 'comedy, magic'],\n",
              " 'Bishoujo Senshi Sailor Moon S': ['drama, magic, romance, shoujo',\n",
              "  'drama, magic, romance, shoujo'],\n",
              " 'Karneval (TV)': ['action, fantasy, mystery, sci-fi, shoujo',\n",
              "  'action, fantasy, mystery, sci-fi, shoujo',\n",
              "  'action, fantasy, mystery, sci-fi, shoujo'],\n",
              " 'Urusei Yatsura Movie 6: Itsudatte My Darling': ['action, adventure, comedy, drama, romance, sci-fi',\n",
              "  'action, adventure, comedy, drama, romance, sci-fi'],\n",
              " 'Towa no Quon 4: Guren no Shoushin': ['action, super power, supernatural'],\n",
              " 'Murder Princess': ['action, adventure, fantasy',\n",
              "  'action, adventure, fantasy',\n",
              "  'action, adventure, fantasy'],\n",
              " 'Potemayo': ['comedy, school, seinen'],\n",
              " 'Bamboo Blade: Fanfu-Fufe-Fo': ['comedy, parody'],\n",
              " 'Urusei Yatsura': ['action, adventure, comedy, drama, romance, sci-fi'],\n",
              " 'Macross Zero': ['adventure, mecha, military, sci-fi, shounen',\n",
              "  'adventure, mecha, military, sci-fi, shounen'],\n",
              " 'Baccano!': ['action, comedy, historical, mystery, seinen, supernatural',\n",
              "  'action, comedy, historical, mystery, seinen, supernatural',\n",
              "  'action, comedy, historical, mystery, seinen, supernatural',\n",
              "  'action, comedy, historical, mystery, seinen, supernatural',\n",
              "  'action, comedy, historical, mystery, seinen, supernatural',\n",
              "  'action, comedy, historical, mystery, seinen, supernatural',\n",
              "  'action, comedy, historical, mystery, seinen, supernatural'],\n",
              " 'Shinmai Maou no Testament': ['action, demons, ecchi, fantasy, harem, romance'],\n",
              " 'Accel World': ['action, game, romance, school, sci-fi',\n",
              "  'action, game, romance, school, sci-fi',\n",
              "  'action, game, romance, school, sci-fi',\n",
              "  'action, game, romance, school, sci-fi',\n",
              "  'action, game, romance, school, sci-fi'],\n",
              " 'Buddy Complex': ['action, mecha, sci-fi'],\n",
              " 'Motto! Ojamajo Doremi: Kaeru Ishi no Himitsu': ['kids, magic, shoujo'],\n",
              " 'Yuu☆Yuu☆Hakusho': ['action, comedy, demons, fantasy, martial arts, school, shounen',\n",
              "  'action, comedy, demons, fantasy, martial arts, school, shounen',\n",
              "  'action, comedy, demons, fantasy, martial arts, school, shounen',\n",
              "  'action, comedy, demons, fantasy, martial arts, school, shounen',\n",
              "  'action, comedy, demons, fantasy, martial arts, school, shounen'],\n",
              " 'Prison School': ['comedy, ecchi, romance, school, seinen',\n",
              "  'comedy, ecchi, romance, school, seinen',\n",
              "  'comedy, ecchi, romance, school, seinen',\n",
              "  'comedy, ecchi, romance, school, seinen',\n",
              "  'comedy, ecchi, romance, school, seinen'],\n",
              " 'Dragon Ball Kai (2014)': ['action, adventure, comedy, fantasy, martial arts, shounen, super power'],\n",
              " 'Afro Samurai: Resurrection': ['action, adventure, samurai',\n",
              "  'action, adventure, samurai'],\n",
              " 'Magi: The Labyrinth of Magic': ['action, adventure, fantasy, magic, shounen',\n",
              "  'action, adventure, fantasy, magic, shounen',\n",
              "  'action, adventure, fantasy, magic, shounen',\n",
              "  'action, adventure, fantasy, magic, shounen',\n",
              "  'action, adventure, fantasy, magic, shounen',\n",
              "  'action, adventure, fantasy, magic, shounen',\n",
              "  'action, adventure, fantasy, magic, shounen',\n",
              "  'action, adventure, fantasy, magic, shounen'],\n",
              " 'Detective Conan OVA 08: High School Girl Detective Sonoko Suzuki&#039;s Case Files': ['comedy, mystery, police, shounen'],\n",
              " 'Tokyo Marble Chocolate': ['romance, slice of life',\n",
              "  'romance, slice of life'],\n",
              " 'Shinsekai yori': ['drama, horror, mystery, sci-fi, supernatural',\n",
              "  'drama, horror, mystery, sci-fi, supernatural',\n",
              "  'drama, horror, mystery, sci-fi, supernatural',\n",
              "  'drama, horror, mystery, sci-fi, supernatural',\n",
              "  'drama, horror, mystery, sci-fi, supernatural'],\n",
              " 'Accel World EX': ['action, game, romance, school, sci-fi',\n",
              "  'action, game, romance, school, sci-fi',\n",
              "  'action, game, romance, school, sci-fi',\n",
              "  'action, game, romance, school, sci-fi'],\n",
              " 'Samurai Champloo': ['action, adventure, comedy, historical, samurai, shounen',\n",
              "  'action, adventure, comedy, historical, samurai, shounen',\n",
              "  'action, adventure, comedy, historical, samurai, shounen',\n",
              "  'action, adventure, comedy, historical, samurai, shounen',\n",
              "  'action, adventure, comedy, historical, samurai, shounen',\n",
              "  'action, adventure, comedy, historical, samurai, shounen',\n",
              "  'action, adventure, comedy, historical, samurai, shounen',\n",
              "  'action, adventure, comedy, historical, samurai, shounen'],\n",
              " 'Blood Lad': ['action, comedy, demons, seinen, supernatural, vampire',\n",
              "  'action, comedy, demons, seinen, supernatural, vampire',\n",
              "  'action, comedy, demons, seinen, supernatural, vampire',\n",
              "  'action, comedy, demons, seinen, supernatural, vampire'],\n",
              " 'Hachimitsu to Clover': ['comedy, drama, josei, romance',\n",
              "  'comedy, drama, josei, romance',\n",
              "  'comedy, drama, josei, romance',\n",
              "  'comedy, drama, josei, romance',\n",
              "  'comedy, drama, josei, romance'],\n",
              " 'School Rumble Ni Gakki': ['comedy, romance, school, shounen',\n",
              "  'comedy, romance, school, shounen',\n",
              "  'comedy, romance, school, shounen'],\n",
              " 'Hatsukoi Limited': ['comedy, romance, school, shounen',\n",
              "  'comedy, romance, school, shounen',\n",
              "  'comedy, romance, school, shounen',\n",
              "  'comedy, romance, school, shounen'],\n",
              " 'Neon Genesis Evangelion: The End of Evangelion': ['dementia, drama, mecha, psychological, sci-fi',\n",
              "  'dementia, drama, mecha, psychological, sci-fi',\n",
              "  'dementia, drama, mecha, psychological, sci-fi',\n",
              "  'dementia, drama, mecha, psychological, sci-fi',\n",
              "  'dementia, drama, mecha, psychological, sci-fi',\n",
              "  'dementia, drama, mecha, psychological, sci-fi',\n",
              "  'dementia, drama, mecha, psychological, sci-fi'],\n",
              " 'Needless Specials': ['comedy, ecchi, school'],\n",
              " 'Boruto: Naruto the Movie': ['action, comedy, martial arts, shounen, super power'],\n",
              " 'Phantom: Requiem for the Phantom': ['action, drama, seinen, thriller',\n",
              "  'action, drama, seinen, thriller',\n",
              "  'action, drama, seinen, thriller',\n",
              "  'action, drama, seinen, thriller',\n",
              "  'action, drama, seinen, thriller',\n",
              "  'action, drama, seinen, thriller'],\n",
              " 'Golden Boy': ['adventure, comedy, ecchi', 'adventure, comedy, ecchi'],\n",
              " 'Pokemon Housoukyoku': ['adventure, comedy, fantasy, kids'],\n",
              " 'Shigofumi Picture Drama': ['comedy'],\n",
              " 'Gantz': ['action, drama, horror, psychological, sci-fi, supernatural',\n",
              "  'action, drama, horror, psychological, sci-fi, supernatural',\n",
              "  'action, drama, horror, psychological, sci-fi, supernatural',\n",
              "  'action, drama, horror, psychological, sci-fi, supernatural'],\n",
              " 'Alien 9': ['horror, school, sci-fi'],\n",
              " 'Danganronpa 3: The End of Kibougamine Gakuen - Mirai-hen': ['action, horror, mystery, psychological',\n",
              "  'action, horror, mystery, psychological'],\n",
              " 'Gantz 2nd Stage': ['action, drama, horror, psychological, sci-fi, supernatural'],\n",
              " 'Higurashi no Naku Koro ni Kaku: Outbreak': ['horror, mystery, psychological, thriller'],\n",
              " 'Jungle wa Itsumo Hare nochi Guu Deluxe': ['comedy, slice of life'],\n",
              " 'Kiznaiver': ['drama, sci-fi', 'drama, sci-fi', 'drama, sci-fi'],\n",
              " 'Amaenaide yo!!: Yasumanaide yo!!': ['comedy, ecchi, romance, supernatural'],\n",
              " 'Nobunagun': ['action, supernatural'],\n",
              " 'Initial D Fourth Stage': ['action, cars, drama, seinen, sports',\n",
              "  'action, cars, drama, seinen, sports'],\n",
              " 'Gunslinger Girl': ['action, drama, military, psychological, sci-fi',\n",
              "  'action, drama, military, psychological, sci-fi',\n",
              "  'action, drama, military, psychological, sci-fi',\n",
              "  'action, drama, military, psychological, sci-fi',\n",
              "  'action, drama, military, psychological, sci-fi'],\n",
              " 'Inu to Hasami wa Tsukaiyou': ['comedy, supernatural',\n",
              "  'comedy, supernatural',\n",
              "  'comedy, supernatural',\n",
              "  'comedy, supernatural'],\n",
              " 'Macross F Movie 2: Sayonara no Tsubasa': ['action, mecha, military, music, romance, sci-fi, space',\n",
              "  'action, mecha, military, music, romance, sci-fi, space',\n",
              "  'action, mecha, military, music, romance, sci-fi, space'],\n",
              " 'Kindaichi Shounen no Jikenbo Returns': ['mystery, shounen'],\n",
              " 'Omoide Poroporo': ['drama, romance, slice of life'],\n",
              " 'Ben-To': ['action, comedy, martial arts'],\n",
              " 'Happy☆Lesson: Advance': ['comedy, harem, romance, slice of life'],\n",
              " 'Tenkuu no Escaflowne': ['adventure, fantasy, mecha, romance, shoujo',\n",
              "  'adventure, fantasy, mecha, romance, shoujo',\n",
              "  'adventure, fantasy, mecha, romance, shoujo'],\n",
              " 'Ghost in the Shell 2.0': ['action, mecha, police, psychological, sci-fi, seinen',\n",
              "  'action, mecha, police, psychological, sci-fi, seinen',\n",
              "  'action, mecha, police, psychological, sci-fi, seinen'],\n",
              " 'Blue Gender': ['adventure, drama, horror, mecha, military, romance, sci-fi, space'],\n",
              " 'Mind Game': ['adventure, comedy, dementia, psychological, romance'],\n",
              " 'Black Blood Brothers': ['action, comedy, fantasy, shounen, supernatural, vampire',\n",
              "  'action, comedy, fantasy, shounen, supernatural, vampire',\n",
              "  'action, comedy, fantasy, shounen, supernatural, vampire'],\n",
              " 'Naruto: Shippuuden Movie 4 - The Lost Tower': ['action, comedy, martial arts, shounen, super power',\n",
              "  'action, comedy, martial arts, shounen, super power'],\n",
              " 'Shuffle!': ['comedy, drama, ecchi, fantasy, harem, magic, romance, school, seinen',\n",
              "  'comedy, drama, ecchi, fantasy, harem, magic, romance, school, seinen',\n",
              "  'comedy, drama, ecchi, fantasy, harem, magic, romance, school, seinen',\n",
              "  'comedy, drama, ecchi, fantasy, harem, magic, romance, school, seinen',\n",
              "  'comedy, drama, ecchi, fantasy, harem, magic, romance, school, seinen',\n",
              "  'comedy, drama, ecchi, fantasy, harem, magic, romance, school, seinen'],\n",
              " 'Kyoukai no Kanata: Shinonome': ['fantasy, slice of life, supernatural',\n",
              "  'fantasy, slice of life, supernatural'],\n",
              " ...}"
            ]
          },
          "metadata": {
            "tags": []
          },
          "execution_count": 188
        }
      ]
    },
    {
      "cell_type": "code",
      "metadata": {
        "id": "VT9ggdclA9EY",
        "colab_type": "code",
        "colab": {}
      },
      "source": [
        "tags_list = list(tags.values())"
      ],
      "execution_count": 0,
      "outputs": []
    },
    {
      "cell_type": "code",
      "metadata": {
        "id": "E2XeKLuTBE4Q",
        "colab_type": "code",
        "colab": {
          "base_uri": "https://localhost:8080/",
          "height": 407
        },
        "outputId": "2426a489-820b-4cd7-b32f-710b54b2c651"
      },
      "source": [
        "tags_list[:5]"
      ],
      "execution_count": 190,
      "outputs": [
        {
          "output_type": "execute_result",
          "data": {
            "text/plain": [
              "[['action, ecchi, mecha, sci-fi, super power'],\n",
              " ['action, fantasy, magic, romance, shounen',\n",
              "  'action, fantasy, magic, romance, shounen',\n",
              "  'action, fantasy, magic, romance, shounen',\n",
              "  'action, fantasy, magic, romance, shounen',\n",
              "  'action, fantasy, magic, romance, shounen',\n",
              "  'action, fantasy, magic, romance, shounen',\n",
              "  'action, fantasy, magic, romance, shounen'],\n",
              " ['comedy, drama, romance, school, sci-fi',\n",
              "  'comedy, drama, romance, school, sci-fi',\n",
              "  'comedy, drama, romance, school, sci-fi',\n",
              "  'comedy, drama, romance, school, sci-fi',\n",
              "  'comedy, drama, romance, school, sci-fi',\n",
              "  'comedy, drama, romance, school, sci-fi',\n",
              "  'comedy, drama, romance, school, sci-fi'],\n",
              " ['action, comedy, drama, magic, seinen',\n",
              "  'action, comedy, drama, magic, seinen',\n",
              "  'action, comedy, drama, magic, seinen',\n",
              "  'action, comedy, drama, magic, seinen'],\n",
              " ['action, drama, mecha, military, romance, sci-fi, space',\n",
              "  'action, drama, mecha, military, romance, sci-fi, space',\n",
              "  'action, drama, mecha, military, romance, sci-fi, space',\n",
              "  'action, drama, mecha, military, romance, sci-fi, space',\n",
              "  'action, drama, mecha, military, romance, sci-fi, space']]"
            ]
          },
          "metadata": {
            "tags": []
          },
          "execution_count": 190
        }
      ]
    },
    {
      "cell_type": "code",
      "metadata": {
        "id": "gr_fRsXFBHqM",
        "colab_type": "code",
        "colab": {}
      },
      "source": [
        "stopwords_list = stopwords.words('english')\n",
        "stopwords_list += list(string.punctuation)"
      ],
      "execution_count": 0,
      "outputs": []
    },
    {
      "cell_type": "code",
      "metadata": {
        "id": "U9QYmh6fBtB4",
        "colab_type": "code",
        "colab": {}
      },
      "source": [
        "def process_article(article):\n",
        "  article = ' '.join(article)\n",
        "\n",
        "  tokens = word_tokenize(article)\n",
        "  #word_tokenize splits the text into a list of strings that are separated based on spaces or apostrophes\n",
        "  tokens_2 = []\n",
        "  for token in tokens: \n",
        "    if token.lower() not in stopwords_list: \n",
        "      tokens_2.append(token.lower())\n",
        "\n",
        "  return tokens_2"
      ],
      "execution_count": 0,
      "outputs": []
    },
    {
      "cell_type": "code",
      "metadata": {
        "id": "KX8qW-U0E4zA",
        "colab_type": "code",
        "colab": {
          "base_uri": "https://localhost:8080/",
          "height": 66
        },
        "outputId": "9eab9881-5a8e-4cc8-cf9c-32148382643f"
      },
      "source": [
        "import nltk \n",
        "nltk.download('punkt')"
      ],
      "execution_count": 193,
      "outputs": [
        {
          "output_type": "stream",
          "text": [
            "[nltk_data] Downloading package punkt to /root/nltk_data...\n",
            "[nltk_data]   Package punkt is already up-to-date!\n"
          ],
          "name": "stdout"
        },
        {
          "output_type": "execute_result",
          "data": {
            "text/plain": [
              "True"
            ]
          },
          "metadata": {
            "tags": []
          },
          "execution_count": 193
        }
      ]
    },
    {
      "cell_type": "code",
      "metadata": {
        "id": "h1lAy6JLErnN",
        "colab_type": "code",
        "colab": {}
      },
      "source": [
        "processed_tags = list(map(process_article, tags_list))"
      ],
      "execution_count": 0,
      "outputs": []
    },
    {
      "cell_type": "code",
      "metadata": {
        "id": "afEQ6SoKEz5U",
        "colab_type": "code",
        "colab": {
          "base_uri": "https://localhost:8080/",
          "height": 33
        },
        "outputId": "f881846f-3b5e-4809-febc-df576ed7f5ec"
      },
      "source": [
        "len(processed_tags)"
      ],
      "execution_count": 195,
      "outputs": [
        {
          "output_type": "execute_result",
          "data": {
            "text/plain": [
              "1971"
            ]
          },
          "metadata": {
            "tags": []
          },
          "execution_count": 195
        }
      ]
    },
    {
      "cell_type": "code",
      "metadata": {
        "id": "atZmhp6UFQca",
        "colab_type": "code",
        "colab": {
          "base_uri": "https://localhost:8080/",
          "height": 1000
        },
        "outputId": "e23f8ff1-2d55-4d91-a35b-a3b6f9724dd7"
      },
      "source": [
        "processed_tags[:5]"
      ],
      "execution_count": 196,
      "outputs": [
        {
          "output_type": "execute_result",
          "data": {
            "text/plain": [
              "[['action', 'ecchi', 'mecha', 'sci-fi', 'super', 'power'],\n",
              " ['action',\n",
              "  'fantasy',\n",
              "  'magic',\n",
              "  'romance',\n",
              "  'shounen',\n",
              "  'action',\n",
              "  'fantasy',\n",
              "  'magic',\n",
              "  'romance',\n",
              "  'shounen',\n",
              "  'action',\n",
              "  'fantasy',\n",
              "  'magic',\n",
              "  'romance',\n",
              "  'shounen',\n",
              "  'action',\n",
              "  'fantasy',\n",
              "  'magic',\n",
              "  'romance',\n",
              "  'shounen',\n",
              "  'action',\n",
              "  'fantasy',\n",
              "  'magic',\n",
              "  'romance',\n",
              "  'shounen',\n",
              "  'action',\n",
              "  'fantasy',\n",
              "  'magic',\n",
              "  'romance',\n",
              "  'shounen',\n",
              "  'action',\n",
              "  'fantasy',\n",
              "  'magic',\n",
              "  'romance',\n",
              "  'shounen'],\n",
              " ['comedy',\n",
              "  'drama',\n",
              "  'romance',\n",
              "  'school',\n",
              "  'sci-fi',\n",
              "  'comedy',\n",
              "  'drama',\n",
              "  'romance',\n",
              "  'school',\n",
              "  'sci-fi',\n",
              "  'comedy',\n",
              "  'drama',\n",
              "  'romance',\n",
              "  'school',\n",
              "  'sci-fi',\n",
              "  'comedy',\n",
              "  'drama',\n",
              "  'romance',\n",
              "  'school',\n",
              "  'sci-fi',\n",
              "  'comedy',\n",
              "  'drama',\n",
              "  'romance',\n",
              "  'school',\n",
              "  'sci-fi',\n",
              "  'comedy',\n",
              "  'drama',\n",
              "  'romance',\n",
              "  'school',\n",
              "  'sci-fi',\n",
              "  'comedy',\n",
              "  'drama',\n",
              "  'romance',\n",
              "  'school',\n",
              "  'sci-fi'],\n",
              " ['action',\n",
              "  'comedy',\n",
              "  'drama',\n",
              "  'magic',\n",
              "  'seinen',\n",
              "  'action',\n",
              "  'comedy',\n",
              "  'drama',\n",
              "  'magic',\n",
              "  'seinen',\n",
              "  'action',\n",
              "  'comedy',\n",
              "  'drama',\n",
              "  'magic',\n",
              "  'seinen',\n",
              "  'action',\n",
              "  'comedy',\n",
              "  'drama',\n",
              "  'magic',\n",
              "  'seinen'],\n",
              " ['action',\n",
              "  'drama',\n",
              "  'mecha',\n",
              "  'military',\n",
              "  'romance',\n",
              "  'sci-fi',\n",
              "  'space',\n",
              "  'action',\n",
              "  'drama',\n",
              "  'mecha',\n",
              "  'military',\n",
              "  'romance',\n",
              "  'sci-fi',\n",
              "  'space',\n",
              "  'action',\n",
              "  'drama',\n",
              "  'mecha',\n",
              "  'military',\n",
              "  'romance',\n",
              "  'sci-fi',\n",
              "  'space',\n",
              "  'action',\n",
              "  'drama',\n",
              "  'mecha',\n",
              "  'military',\n",
              "  'romance',\n",
              "  'sci-fi',\n",
              "  'space',\n",
              "  'action',\n",
              "  'drama',\n",
              "  'mecha',\n",
              "  'military',\n",
              "  'romance',\n",
              "  'sci-fi',\n",
              "  'space']]"
            ]
          },
          "metadata": {
            "tags": []
          },
          "execution_count": 196
        }
      ]
    },
    {
      "cell_type": "code",
      "metadata": {
        "id": "Q_6LS_o6FTXk",
        "colab_type": "code",
        "colab": {}
      },
      "source": [
        "total_vocab = set()\n",
        "for doc in processed_tags: \n",
        "  total_vocab.update(doc)\n"
      ],
      "execution_count": 0,
      "outputs": []
    },
    {
      "cell_type": "code",
      "metadata": {
        "id": "0ClquiehFhg0",
        "colab_type": "code",
        "colab": {
          "base_uri": "https://localhost:8080/",
          "height": 33
        },
        "outputId": "40c584b0-5787-4df6-f385-0270c7abc39d"
      },
      "source": [
        "len(total_vocab)"
      ],
      "execution_count": 198,
      "outputs": [
        {
          "output_type": "execute_result",
          "data": {
            "text/plain": [
              "45"
            ]
          },
          "metadata": {
            "tags": []
          },
          "execution_count": 198
        }
      ]
    },
    {
      "cell_type": "code",
      "metadata": {
        "id": "tqwYUfUMFzAP",
        "colab_type": "code",
        "colab": {}
      },
      "source": [
        "articles_concat = []\n",
        "for doc in processed_tags: \n",
        "  articles_concat += doc"
      ],
      "execution_count": 0,
      "outputs": []
    },
    {
      "cell_type": "code",
      "metadata": {
        "id": "tuOx3ED-FsXL",
        "colab_type": "code",
        "colab": {}
      },
      "source": [
        "freqdist = FreqDist(articles_concat)"
      ],
      "execution_count": 0,
      "outputs": []
    },
    {
      "cell_type": "code",
      "metadata": {
        "id": "OroR9ub8F6sq",
        "colab_type": "code",
        "colab": {
          "base_uri": "https://localhost:8080/",
          "height": 748
        },
        "outputId": "4bdfc120-9599-444f-8fa1-267d162a7cfe"
      },
      "source": [
        "freqdist"
      ],
      "execution_count": 201,
      "outputs": [
        {
          "output_type": "execute_result",
          "data": {
            "text/plain": [
              "FreqDist({'action': 2132,\n",
              "          'adventure': 1137,\n",
              "          'ai': 63,\n",
              "          'arts': 167,\n",
              "          'cars': 11,\n",
              "          'comedy': 2473,\n",
              "          'dementia': 45,\n",
              "          'demons': 207,\n",
              "          'drama': 1355,\n",
              "          'ecchi': 650,\n",
              "          'fantasy': 1354,\n",
              "          'game': 141,\n",
              "          'harem': 498,\n",
              "          'hentai': 59,\n",
              "          'historical': 222,\n",
              "          'horror': 302,\n",
              "          'josei': 46,\n",
              "          'kids': 97,\n",
              "          'life': 664,\n",
              "          'magic': 493,\n",
              "          'martial': 167,\n",
              "          'mecha': 406,\n",
              "          'military': 325,\n",
              "          'music': 120,\n",
              "          'mystery': 576,\n",
              "          'parody': 172,\n",
              "          'police': 111,\n",
              "          'power': 482,\n",
              "          'psychological': 366,\n",
              "          'romance': 1593,\n",
              "          'samurai': 71,\n",
              "          'school': 1151,\n",
              "          'sci-fi': 1092,\n",
              "          'seinen': 470,\n",
              "          'shoujo': 322,\n",
              "          'shounen': 1209,\n",
              "          'slice': 664,\n",
              "          'space': 106,\n",
              "          'sports': 155,\n",
              "          'super': 482,\n",
              "          'supernatural': 1256,\n",
              "          'thriller': 212,\n",
              "          'vampire': 157,\n",
              "          'yaoi': 19,\n",
              "          'yuri': 5})"
            ]
          },
          "metadata": {
            "tags": []
          },
          "execution_count": 201
        }
      ]
    },
    {
      "cell_type": "code",
      "metadata": {
        "id": "HZOLoGKGF9FT",
        "colab_type": "code",
        "colab": {
          "base_uri": "https://localhost:8080/",
          "height": 342
        },
        "outputId": "02ecd19e-4c1d-4cbf-91ed-96583ce929a4"
      },
      "source": [
        "most_common_genre = freqdist.most_common(20)\n",
        "most_common_genre"
      ],
      "execution_count": 202,
      "outputs": [
        {
          "output_type": "execute_result",
          "data": {
            "text/plain": [
              "[('comedy', 2473),\n",
              " ('action', 2132),\n",
              " ('romance', 1593),\n",
              " ('drama', 1355),\n",
              " ('fantasy', 1354),\n",
              " ('supernatural', 1256),\n",
              " ('shounen', 1209),\n",
              " ('school', 1151),\n",
              " ('adventure', 1137),\n",
              " ('sci-fi', 1092),\n",
              " ('slice', 664),\n",
              " ('life', 664),\n",
              " ('ecchi', 650),\n",
              " ('mystery', 576),\n",
              " ('harem', 498),\n",
              " ('magic', 493),\n",
              " ('super', 482),\n",
              " ('power', 482),\n",
              " ('seinen', 470),\n",
              " ('mecha', 406)]"
            ]
          },
          "metadata": {
            "tags": []
          },
          "execution_count": 202
        }
      ]
    },
    {
      "cell_type": "code",
      "metadata": {
        "id": "9tk84BMXGM9b",
        "colab_type": "code",
        "colab": {
          "base_uri": "https://localhost:8080/",
          "height": 646
        },
        "outputId": "ddbef3fc-b13f-41b9-ff6c-3731040ab326"
      },
      "source": [
        "plt.figure(figsize=(22,12))\n",
        "plt.bar([word[0] for word in most_common_genre], [word[1] for word in most_common_genre])\n",
        "plt.title(\"Most Popular Genre\")\n",
        "plt.xlabel(\"Genre\")\n",
        "plt.ylabel(\"Total Number of Times Genre is Present in Anime Data\")\n",
        "plt.show()"
      ],
      "execution_count": 203,
      "outputs": [
        {
          "output_type": "display_data",
          "data": {
            "image/png": "[encoded data removed]",
            "text/plain": [
              "<Figure size 1584x864 with 1 Axes>"
            ]
          },
          "metadata": {
            "tags": [],
            "needs_background": "light"
          }
        }
      ]
    },
    {
      "cell_type": "code",
      "metadata": {
        "id": "sHtRjs6-J1MI",
        "colab_type": "code",
        "colab": {}
      },
      "source": [
        "vectorizer = TfidfVectorizer(analyzer='word', ngram_range=(1,2), stop_words=stopwords_list)"
      ],
      "execution_count": 0,
      "outputs": []
    },
    {
      "cell_type": "code",
      "metadata": {
        "id": "snDw_LEiMwVC",
        "colab_type": "code",
        "colab": {}
      },
      "source": [
        "tags_list_2 = [' '.join(x) for x in tags_list]"
      ],
      "execution_count": 0,
      "outputs": []
    },
    {
      "cell_type": "code",
      "metadata": {
        "id": "SXaEnrr7M4Fq",
        "colab_type": "code",
        "colab": {}
      },
      "source": [
        "tf_idf_data_train = vectorizer.fit_transform(tags_list_2)"
      ],
      "execution_count": 0,
      "outputs": []
    },
    {
      "cell_type": "code",
      "metadata": {
        "id": "znZoGrGQNI9D",
        "colab_type": "code",
        "colab": {
          "base_uri": "https://localhost:8080/",
          "height": 33
        },
        "outputId": "e1c25bbe-6b0f-4f5d-f9e8-a9eae8327483"
      },
      "source": [
        "type(tf_idf_data_train)"
      ],
      "execution_count": 207,
      "outputs": [
        {
          "output_type": "execute_result",
          "data": {
            "text/plain": [
              "scipy.sparse.csr.csr_matrix"
            ]
          },
          "metadata": {
            "tags": []
          },
          "execution_count": 207
        }
      ]
    },
    {
      "cell_type": "code",
      "metadata": {
        "id": "uJAF2R1nNLew",
        "colab_type": "code",
        "colab": {
          "base_uri": "https://localhost:8080/",
          "height": 33
        },
        "outputId": "bde89588-2c25-4c4b-e75b-1db8ac0c45e6"
      },
      "source": [
        "tf_idf_data_train.shape"
      ],
      "execution_count": 208,
      "outputs": [
        {
          "output_type": "execute_result",
          "data": {
            "text/plain": [
              "(1971, 629)"
            ]
          },
          "metadata": {
            "tags": []
          },
          "execution_count": 208
        }
      ]
    },
    {
      "cell_type": "code",
      "metadata": {
        "id": "8naPo2jQNQGq",
        "colab_type": "code",
        "colab": {}
      },
      "source": [
        "#instantiate SVD\n",
        "svd = TruncatedSVD(n_components=500, n_iter=7, random_state=42)\n",
        "\n",
        "#fit and transform the vectorized tf-idf matrix \n",
        "tf_idf_data_train_svd = svd.fit_transform(tf_idf_data_train)"
      ],
      "execution_count": 0,
      "outputs": []
    },
    {
      "cell_type": "code",
      "metadata": {
        "id": "tcs1c7VgNtUS",
        "colab_type": "code",
        "colab": {
          "base_uri": "https://localhost:8080/",
          "height": 33
        },
        "outputId": "15549aa7-d0b1-453d-ee1d-d0389c0abb4b"
      },
      "source": [
        "print(svd.explained_variance_ratio_.sum())"
      ],
      "execution_count": 210,
      "outputs": [
        {
          "output_type": "stream",
          "text": [
            "0.9954973738489551\n"
          ],
          "name": "stdout"
        }
      ]
    },
    {
      "cell_type": "code",
      "metadata": {
        "id": "1tCjX-h3N-Za",
        "colab_type": "code",
        "colab": {}
      },
      "source": [
        "#overfit?"
      ],
      "execution_count": 0,
      "outputs": []
    },
    {
      "cell_type": "markdown",
      "metadata": {
        "id": "W6SbTMCGOlw-",
        "colab_type": "text"
      },
      "source": [
        "# Calculating the similarities between anime with TF-IDF"
      ]
    },
    {
      "cell_type": "markdown",
      "metadata": {
        "id": "lHB2DkGnOwkJ",
        "colab_type": "text"
      },
      "source": [
        "We are going to perform calculations on the tf-idf matrices that were created above by calculating the dot product for each pairing. This will be equivalent to the cosine similarity score. For tf_idf we will be using sklearn's linear_kernel to obtain this. "
      ]
    },
    {
      "cell_type": "code",
      "metadata": {
        "id": "7TBeBNY4Ovm-",
        "colab_type": "code",
        "colab": {}
      },
      "source": [
        "cosine_sim = linear_kernel(tf_idf_data_train_svd, tf_idf_data_train_svd)"
      ],
      "execution_count": 0,
      "outputs": []
    },
    {
      "cell_type": "code",
      "metadata": {
        "id": "s86La_TtPjI6",
        "colab_type": "code",
        "colab": {
          "base_uri": "https://localhost:8080/",
          "height": 33
        },
        "outputId": "2ee2291c-1d09-463d-e34d-913c1d0c1f15"
      },
      "source": [
        "cosine_sim.shape"
      ],
      "execution_count": 215,
      "outputs": [
        {
          "output_type": "execute_result",
          "data": {
            "text/plain": [
              "(1971, 1971)"
            ]
          },
          "metadata": {
            "tags": []
          },
          "execution_count": 215
        }
      ]
    },
    {
      "cell_type": "code",
      "metadata": {
        "id": "RCQgWEm8TEzk",
        "colab_type": "code",
        "colab": {}
      },
      "source": [
        "anime_2 = sample.reset_index()\n",
        "\n",
        "#extract all unique anime titles\n",
        "anime_id_tag = anime_2['anime_id']\n",
        "\n",
        "#goal is to extract the anime that correspond to its position within the tf idf vectorizer matrix,\n",
        "# which we will take similarity scores from later\n",
        "indices = pd.Series(anime_2.index, index=sample['anime_id'])"
      ],
      "execution_count": 0,
      "outputs": []
    },
    {
      "cell_type": "code",
      "metadata": {
        "id": "PrMnIEFoUceB",
        "colab_type": "code",
        "colab": {}
      },
      "source": [
        "def get_most_similar_anime(animeid, n = 20):\n",
        "  #tf-idf vectorizer score will take anime name from any given id and pair it with the 50 most similar \n",
        "  idx = indices[animeid]\n",
        "  sim_scores = list(enumerate(cosine_sim[idx]))\n",
        "  sim_scores = sorted(sim_scores, key=lambda x: x[1], reverse=True)\n",
        "  sim_scores = sim_scores[0:n] #not going to do 0 to 51, this will be orginally specified\n",
        "\n",
        "  anime_indices = [i[0] for i in sim_scores]\n",
        "\n",
        "  recs = pd.DataFrame(columns= anime_2.columns)\n",
        "  for i in a_id.loc[anime_indices]:\n",
        "\n",
        "    if i != name: \n",
        "      recs = recs.append(anime_2[anime_2['anime_id'] == i])\n",
        "  return recs"
      ],
      "execution_count": 0,
      "outputs": []
    },
    {
      "cell_type": "code",
      "metadata": {
        "id": "t0oF6gCcXjlw",
        "colab_type": "code",
        "colab": {
          "base_uri": "https://localhost:8080/",
          "height": 536
        },
        "outputId": "bcf4407a-7c80-45a5-e997-69f0ec051d0b"
      },
      "source": [
        "anime_2[anime_2['anime_id'] == 20]"
      ],
      "execution_count": 230,
      "outputs": [
        {
          "output_type": "execute_result",
          "data": {
            "text/html": [
              "<div>\n",
              "<style scoped>\n",
              "    .dataframe tbody tr th:only-of-type {\n",
              "        vertical-align: middle;\n",
              "    }\n",
              "\n",
              "    .dataframe tbody tr th {\n",
              "        vertical-align: top;\n",
              "    }\n",
              "\n",
              "    .dataframe thead th {\n",
              "        text-align: right;\n",
              "    }\n",
              "</style>\n",
              "<table border=\"1\" class=\"dataframe\">\n",
              "  <thead>\n",
              "    <tr style=\"text-align: right;\">\n",
              "      <th></th>\n",
              "      <th>index</th>\n",
              "      <th>anime_id</th>\n",
              "      <th>name</th>\n",
              "      <th>genre</th>\n",
              "      <th>type</th>\n",
              "      <th>episodes</th>\n",
              "      <th>rating_x</th>\n",
              "      <th>members</th>\n",
              "      <th>user_id</th>\n",
              "      <th>rating_y</th>\n",
              "    </tr>\n",
              "  </thead>\n",
              "  <tbody>\n",
              "    <tr>\n",
              "      <th>594</th>\n",
              "      <td>582381</td>\n",
              "      <td>20</td>\n",
              "      <td>Naruto</td>\n",
              "      <td>Action, Comedy, Martial Arts, Shounen, Super P...</td>\n",
              "      <td>TV</td>\n",
              "      <td>220</td>\n",
              "      <td>8</td>\n",
              "      <td>683297</td>\n",
              "      <td>4979</td>\n",
              "      <td>7.0</td>\n",
              "    </tr>\n",
              "    <tr>\n",
              "      <th>800</th>\n",
              "      <td>582239</td>\n",
              "      <td>20</td>\n",
              "      <td>Naruto</td>\n",
              "      <td>Action, Comedy, Martial Arts, Shounen, Super P...</td>\n",
              "      <td>TV</td>\n",
              "      <td>220</td>\n",
              "      <td>8</td>\n",
              "      <td>683297</td>\n",
              "      <td>4572</td>\n",
              "      <td>7.0</td>\n",
              "    </tr>\n",
              "    <tr>\n",
              "      <th>1007</th>\n",
              "      <td>585230</td>\n",
              "      <td>20</td>\n",
              "      <td>Naruto</td>\n",
              "      <td>Action, Comedy, Martial Arts, Shounen, Super P...</td>\n",
              "      <td>TV</td>\n",
              "      <td>220</td>\n",
              "      <td>8</td>\n",
              "      <td>683297</td>\n",
              "      <td>12779</td>\n",
              "      <td>9.0</td>\n",
              "    </tr>\n",
              "    <tr>\n",
              "      <th>1133</th>\n",
              "      <td>585042</td>\n",
              "      <td>20</td>\n",
              "      <td>Naruto</td>\n",
              "      <td>Action, Comedy, Martial Arts, Shounen, Super P...</td>\n",
              "      <td>TV</td>\n",
              "      <td>220</td>\n",
              "      <td>8</td>\n",
              "      <td>683297</td>\n",
              "      <td>12263</td>\n",
              "      <td>10.0</td>\n",
              "    </tr>\n",
              "    <tr>\n",
              "      <th>2069</th>\n",
              "      <td>583699</td>\n",
              "      <td>20</td>\n",
              "      <td>Naruto</td>\n",
              "      <td>Action, Comedy, Martial Arts, Shounen, Super P...</td>\n",
              "      <td>TV</td>\n",
              "      <td>220</td>\n",
              "      <td>8</td>\n",
              "      <td>683297</td>\n",
              "      <td>8323</td>\n",
              "      <td>7.0</td>\n",
              "    </tr>\n",
              "    <tr>\n",
              "      <th>2083</th>\n",
              "      <td>581716</td>\n",
              "      <td>20</td>\n",
              "      <td>Naruto</td>\n",
              "      <td>Action, Comedy, Martial Arts, Shounen, Super P...</td>\n",
              "      <td>TV</td>\n",
              "      <td>220</td>\n",
              "      <td>8</td>\n",
              "      <td>683297</td>\n",
              "      <td>3057</td>\n",
              "      <td>9.0</td>\n",
              "    </tr>\n",
              "    <tr>\n",
              "      <th>2355</th>\n",
              "      <td>581174</td>\n",
              "      <td>20</td>\n",
              "      <td>Naruto</td>\n",
              "      <td>Action, Comedy, Martial Arts, Shounen, Super P...</td>\n",
              "      <td>TV</td>\n",
              "      <td>220</td>\n",
              "      <td>8</td>\n",
              "      <td>683297</td>\n",
              "      <td>1522</td>\n",
              "      <td>7.0</td>\n",
              "    </tr>\n",
              "    <tr>\n",
              "      <th>2416</th>\n",
              "      <td>580688</td>\n",
              "      <td>20</td>\n",
              "      <td>Naruto</td>\n",
              "      <td>Action, Comedy, Martial Arts, Shounen, Super P...</td>\n",
              "      <td>TV</td>\n",
              "      <td>220</td>\n",
              "      <td>8</td>\n",
              "      <td>683297</td>\n",
              "      <td>166</td>\n",
              "      <td>6.0</td>\n",
              "    </tr>\n",
              "    <tr>\n",
              "      <th>2554</th>\n",
              "      <td>582715</td>\n",
              "      <td>20</td>\n",
              "      <td>Naruto</td>\n",
              "      <td>Action, Comedy, Martial Arts, Shounen, Super P...</td>\n",
              "      <td>TV</td>\n",
              "      <td>220</td>\n",
              "      <td>8</td>\n",
              "      <td>683297</td>\n",
              "      <td>5782</td>\n",
              "      <td>7.0</td>\n",
              "    </tr>\n",
              "    <tr>\n",
              "      <th>3166</th>\n",
              "      <td>581891</td>\n",
              "      <td>20</td>\n",
              "      <td>Naruto</td>\n",
              "      <td>Action, Comedy, Martial Arts, Shounen, Super P...</td>\n",
              "      <td>TV</td>\n",
              "      <td>220</td>\n",
              "      <td>8</td>\n",
              "      <td>683297</td>\n",
              "      <td>3584</td>\n",
              "      <td>7.0</td>\n",
              "    </tr>\n",
              "    <tr>\n",
              "      <th>3456</th>\n",
              "      <td>581009</td>\n",
              "      <td>20</td>\n",
              "      <td>Naruto</td>\n",
              "      <td>Action, Comedy, Martial Arts, Shounen, Super P...</td>\n",
              "      <td>TV</td>\n",
              "      <td>220</td>\n",
              "      <td>8</td>\n",
              "      <td>683297</td>\n",
              "      <td>1059</td>\n",
              "      <td>8.0</td>\n",
              "    </tr>\n",
              "    <tr>\n",
              "      <th>3490</th>\n",
              "      <td>584100</td>\n",
              "      <td>20</td>\n",
              "      <td>Naruto</td>\n",
              "      <td>Action, Comedy, Martial Arts, Shounen, Super P...</td>\n",
              "      <td>TV</td>\n",
              "      <td>220</td>\n",
              "      <td>8</td>\n",
              "      <td>683297</td>\n",
              "      <td>9616</td>\n",
              "      <td>8.0</td>\n",
              "    </tr>\n",
              "    <tr>\n",
              "      <th>3649</th>\n",
              "      <td>583035</td>\n",
              "      <td>20</td>\n",
              "      <td>Naruto</td>\n",
              "      <td>Action, Comedy, Martial Arts, Shounen, Super P...</td>\n",
              "      <td>TV</td>\n",
              "      <td>220</td>\n",
              "      <td>8</td>\n",
              "      <td>683297</td>\n",
              "      <td>6618</td>\n",
              "      <td>4.0</td>\n",
              "    </tr>\n",
              "    <tr>\n",
              "      <th>3762</th>\n",
              "      <td>582360</td>\n",
              "      <td>20</td>\n",
              "      <td>Naruto</td>\n",
              "      <td>Action, Comedy, Martial Arts, Shounen, Super P...</td>\n",
              "      <td>TV</td>\n",
              "      <td>220</td>\n",
              "      <td>8</td>\n",
              "      <td>683297</td>\n",
              "      <td>4931</td>\n",
              "      <td>5.0</td>\n",
              "    </tr>\n",
              "    <tr>\n",
              "      <th>3844</th>\n",
              "      <td>582819</td>\n",
              "      <td>20</td>\n",
              "      <td>Naruto</td>\n",
              "      <td>Action, Comedy, Martial Arts, Shounen, Super P...</td>\n",
              "      <td>TV</td>\n",
              "      <td>220</td>\n",
              "      <td>8</td>\n",
              "      <td>683297</td>\n",
              "      <td>6050</td>\n",
              "      <td>8.0</td>\n",
              "    </tr>\n",
              "    <tr>\n",
              "      <th>4221</th>\n",
              "      <td>582051</td>\n",
              "      <td>20</td>\n",
              "      <td>Naruto</td>\n",
              "      <td>Action, Comedy, Martial Arts, Shounen, Super P...</td>\n",
              "      <td>TV</td>\n",
              "      <td>220</td>\n",
              "      <td>8</td>\n",
              "      <td>683297</td>\n",
              "      <td>4046</td>\n",
              "      <td>8.0</td>\n",
              "    </tr>\n",
              "    <tr>\n",
              "      <th>4833</th>\n",
              "      <td>581144</td>\n",
              "      <td>20</td>\n",
              "      <td>Naruto</td>\n",
              "      <td>Action, Comedy, Martial Arts, Shounen, Super P...</td>\n",
              "      <td>TV</td>\n",
              "      <td>220</td>\n",
              "      <td>8</td>\n",
              "      <td>683297</td>\n",
              "      <td>1445</td>\n",
              "      <td>9.0</td>\n",
              "    </tr>\n",
              "  </tbody>\n",
              "</table>\n",
              "</div>"
            ],
            "text/plain": [
              "       index  anime_id    name  ... members user_id rating_y\n",
              "594   582381        20  Naruto  ...  683297    4979      7.0\n",
              "800   582239        20  Naruto  ...  683297    4572      7.0\n",
              "1007  585230        20  Naruto  ...  683297   12779      9.0\n",
              "1133  585042        20  Naruto  ...  683297   12263     10.0\n",
              "2069  583699        20  Naruto  ...  683297    8323      7.0\n",
              "2083  581716        20  Naruto  ...  683297    3057      9.0\n",
              "2355  581174        20  Naruto  ...  683297    1522      7.0\n",
              "2416  580688        20  Naruto  ...  683297     166      6.0\n",
              "2554  582715        20  Naruto  ...  683297    5782      7.0\n",
              "3166  581891        20  Naruto  ...  683297    3584      7.0\n",
              "3456  581009        20  Naruto  ...  683297    1059      8.0\n",
              "3490  584100        20  Naruto  ...  683297    9616      8.0\n",
              "3649  583035        20  Naruto  ...  683297    6618      4.0\n",
              "3762  582360        20  Naruto  ...  683297    4931      5.0\n",
              "3844  582819        20  Naruto  ...  683297    6050      8.0\n",
              "4221  582051        20  Naruto  ...  683297    4046      8.0\n",
              "4833  581144        20  Naruto  ...  683297    1445      9.0\n",
              "\n",
              "[17 rows x 10 columns]"
            ]
          },
          "metadata": {
            "tags": []
          },
          "execution_count": 230
        }
      ]
    },
    {
      "cell_type": "code",
      "metadata": {
        "id": "D6N18q8aXqc0",
        "colab_type": "code",
        "colab": {
          "base_uri": "https://localhost:8080/",
          "height": 272
        },
        "outputId": "3adacccf-5415-45c2-ad9d-e267def5ed22"
      },
      "source": [
        "get_most_similar_anime(20)"
      ],
      "execution_count": 232,
      "outputs": [
        {
          "output_type": "error",
          "ename": "IndexError",
          "evalue": "ignored",
          "traceback": [
            "\u001b[0;31m---------------------------------------------------------------------------\u001b[0m",
            "\u001b[0;31mIndexError\u001b[0m                                Traceback (most recent call last)",
            "\u001b[0;32m<ipython-input-232-1f5f6cf45a47>\u001b[0m in \u001b[0;36m<module>\u001b[0;34m()\u001b[0m\n\u001b[0;32m----> 1\u001b[0;31m \u001b[0mget_most_similar_anime\u001b[0m\u001b[0;34m(\u001b[0m\u001b[0;36m20\u001b[0m\u001b[0;34m)\u001b[0m\u001b[0;34m\u001b[0m\u001b[0;34m\u001b[0m\u001b[0m\n\u001b[0m",
            "\u001b[0;32m<ipython-input-229-9af80e60a045>\u001b[0m in \u001b[0;36mget_most_similar_anime\u001b[0;34m(animeid, n)\u001b[0m\n\u001b[1;32m      2\u001b[0m   \u001b[0;31m#tf-idf vectorizer score will take anime name from any given id and pair it with the 50 most similar\u001b[0m\u001b[0;34m\u001b[0m\u001b[0;34m\u001b[0m\u001b[0;34m\u001b[0m\u001b[0m\n\u001b[1;32m      3\u001b[0m   \u001b[0midx\u001b[0m \u001b[0;34m=\u001b[0m \u001b[0mindices\u001b[0m\u001b[0;34m[\u001b[0m\u001b[0manimeid\u001b[0m\u001b[0;34m]\u001b[0m\u001b[0;34m\u001b[0m\u001b[0;34m\u001b[0m\u001b[0m\n\u001b[0;32m----> 4\u001b[0;31m   \u001b[0msim_scores\u001b[0m \u001b[0;34m=\u001b[0m \u001b[0mlist\u001b[0m\u001b[0;34m(\u001b[0m\u001b[0menumerate\u001b[0m\u001b[0;34m(\u001b[0m\u001b[0mcosine_sim\u001b[0m\u001b[0;34m[\u001b[0m\u001b[0midx\u001b[0m\u001b[0;34m]\u001b[0m\u001b[0;34m)\u001b[0m\u001b[0;34m)\u001b[0m\u001b[0;34m\u001b[0m\u001b[0;34m\u001b[0m\u001b[0m\n\u001b[0m\u001b[1;32m      5\u001b[0m   \u001b[0msim_scores\u001b[0m \u001b[0;34m=\u001b[0m \u001b[0msorted\u001b[0m\u001b[0;34m(\u001b[0m\u001b[0msim_scores\u001b[0m\u001b[0;34m,\u001b[0m \u001b[0mkey\u001b[0m\u001b[0;34m=\u001b[0m\u001b[0;32mlambda\u001b[0m \u001b[0mx\u001b[0m\u001b[0;34m:\u001b[0m \u001b[0mx\u001b[0m\u001b[0;34m[\u001b[0m\u001b[0;36m1\u001b[0m\u001b[0;34m]\u001b[0m\u001b[0;34m,\u001b[0m \u001b[0mreverse\u001b[0m\u001b[0;34m=\u001b[0m\u001b[0;32mTrue\u001b[0m\u001b[0;34m)\u001b[0m\u001b[0;34m\u001b[0m\u001b[0;34m\u001b[0m\u001b[0m\n\u001b[1;32m      6\u001b[0m   \u001b[0msim_scores\u001b[0m \u001b[0;34m=\u001b[0m \u001b[0msim_scores\u001b[0m\u001b[0;34m[\u001b[0m\u001b[0;36m0\u001b[0m\u001b[0;34m:\u001b[0m\u001b[0mn\u001b[0m\u001b[0;34m]\u001b[0m \u001b[0;31m#not going to do 0 to 51, this will be orginally specified\u001b[0m\u001b[0;34m\u001b[0m\u001b[0;34m\u001b[0m\u001b[0m\n",
            "\u001b[0;31mIndexError\u001b[0m: index 2069 is out of bounds for axis 0 with size 1971"
          ]
        }
      ]
    },
    {
      "cell_type": "code",
      "metadata": {
        "id": "YqhIij_5auk5",
        "colab_type": "code",
        "colab": {}
      },
      "source": [
        ""
      ],
      "execution_count": 0,
      "outputs": []
    }
  ]
}