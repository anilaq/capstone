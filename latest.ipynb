{
  "nbformat": 4,
  "nbformat_minor": 0,
  "metadata": {
    "kernelspec": {
      "display_name": "Python 3",
      "language": "python",
      "name": "python3"
    },
    "language_info": {
      "codemirror_mode": {
        "name": "ipython",
        "version": 3
      },
      "file_extension": ".py",
      "mimetype": "text/x-python",
      "name": "python",
      "nbconvert_exporter": "python",
      "pygments_lexer": "ipython3",
      "version": "3.7.4"
    },
    "colab": {
      "name": "Copy of mvp.ipynb",
      "provenance": [],
      "collapsed_sections": [
        "d6KwN2bv3w0d",
        "ezLPlX8_nE-C",
        "bm8R-omFo8rS",
        "LdId9mGNnE-b"
      ],
      "include_colab_link": true
    }
  },
  "cells": [
    {
      "cell_type": "markdown",
      "metadata": {
        "id": "view-in-github",
        "colab_type": "text"
      },
      "source": [
        "<a href=\"https://colab.research.google.com/github/anilaq/capstone/blob/master/latest.ipynb\" target=\"_parent\"><img src=\"https://colab.research.google.com/assets/colab-badge.svg\" alt=\"Open In Colab\"/></a>"
      ]
    },
    {
      "cell_type": "markdown",
      "metadata": {
        "id": "FNQAXdzngtQ1",
        "colab_type": "text"
      },
      "source": [
        "# A Recommendation System for Anime"
      ]
    },
    {
      "cell_type": "markdown",
      "metadata": {
        "id": "JRwjDJo7WVPN",
        "colab_type": "text"
      },
      "source": [
        "Anime, is a hand drawn and computer animation originating from Japan which is widely drawn a cult following around the world. The animation industry consists of more than 430 companies. Some of the most popular anime that has come to Western television is Pokemon and Yugi-Oh .\"Spirited Away\" a film created by Hayao Miyazaki and animated by Studio Ghibli is the highest grossing film within the anime genre. The reason it became so popular in the west is because a good friend of Miyazaki convinced him to sell distribution rights to Walt Disney. Like Spirited Away, there are thousands of really good anime films and shows produced by the same animation house. Due to the pandemic a nice way to bring such works of art into Disney plus or any streaming site in the West I have created a recommendation system that can help anyone or any company to view/add the highest rated anime. The Japan External Trade Organization has valued overseas sales to  18𝑏𝑖𝑙𝑙𝑖𝑜𝑛( 5.2 billion for the US alone) in 2004. This has likely grown. With covid19 looming over Japan which has caused one of the first long term recessions for the country. A way at which potential growth could take place is focusing on streaming and producing more of the top recommended. "
      ]
    },
    {
      "cell_type": "code",
      "metadata": {
        "id": "9PfsXpFmoAQW",
        "colab_type": "code",
        "outputId": "cc97bac5-f463-4343-db30-fbcbcf57527e",
        "colab": {
          "base_uri": "https://localhost:8080/",
          "height": 300
        }
      },
      "source": [
        "!pip install surprise"
      ],
      "execution_count": 1,
      "outputs": [
        {
          "output_type": "stream",
          "text": [
            "Collecting surprise\n",
            "  Downloading https://files.pythonhosted.org/packages/61/de/e5cba8682201fcf9c3719a6fdda95693468ed061945493dea2dd37c5618b/surprise-0.1-py2.py3-none-any.whl\n",
            "Collecting scikit-surprise\n",
            "\u001b[?25l  Downloading https://files.pythonhosted.org/packages/f5/da/b5700d96495fb4f092be497f02492768a3d96a3f4fa2ae7dea46d4081cfa/scikit-surprise-1.1.0.tar.gz (6.4MB)\n",
            "\u001b[K     |████████████████████████████████| 6.5MB 3.4MB/s \n",
            "\u001b[?25hRequirement already satisfied: joblib>=0.11 in /usr/local/lib/python3.6/dist-packages (from scikit-surprise->surprise) (0.15.1)\n",
            "Requirement already satisfied: numpy>=1.11.2 in /usr/local/lib/python3.6/dist-packages (from scikit-surprise->surprise) (1.18.4)\n",
            "Requirement already satisfied: scipy>=1.0.0 in /usr/local/lib/python3.6/dist-packages (from scikit-surprise->surprise) (1.4.1)\n",
            "Requirement already satisfied: six>=1.10.0 in /usr/local/lib/python3.6/dist-packages (from scikit-surprise->surprise) (1.12.0)\n",
            "Building wheels for collected packages: scikit-surprise\n",
            "  Building wheel for scikit-surprise (setup.py) ... \u001b[?25l\u001b[?25hdone\n",
            "  Created wheel for scikit-surprise: filename=scikit_surprise-1.1.0-cp36-cp36m-linux_x86_64.whl size=1675398 sha256=140247573eeb8ce2b1c8ca163111c2310fdd52be89f934b12b513704f7fb691a\n",
            "  Stored in directory: /root/.cache/pip/wheels/cc/fa/8c/16c93fccce688ae1bde7d979ff102f7bee980d9cfeb8641bcf\n",
            "Successfully built scikit-surprise\n",
            "Installing collected packages: scikit-surprise, surprise\n",
            "Successfully installed scikit-surprise-1.1.0 surprise-0.1\n"
          ],
          "name": "stdout"
        }
      ]
    },
    {
      "cell_type": "code",
      "metadata": {
        "id": "ChfTrW0qnE7C",
        "colab_type": "code",
        "outputId": "47673783-f25d-4dde-ef8f-0adedcbb1bf9",
        "colab": {
          "base_uri": "https://localhost:8080/",
          "height": 69
        }
      },
      "source": [
        "import pandas as pd \n",
        "\n",
        "import numpy as np \n",
        "\n",
        "import random\n",
        "from random import randint\n",
        "\n",
        "import matplotlib.pyplot as plt \n",
        "%matplotlib inline \n",
        "import seaborn as sns \n",
        "\n",
        "from scipy.sparse import csc_matrix\n",
        "from scipy.sparse.linalg import svds \n",
        "\n",
        "from surprise.model_selection import train_test_split\n",
        "from surprise.model_selection import GridSearchCV\n",
        "from surprise.model_selection import cross_validate\n",
        "\n",
        "from surprise.prediction_algorithms import KNNWithMeans, KNNBasic, KNNBaseline\n",
        "\n",
        "from surprise.prediction_algorithms import knns\n",
        "from surprise.prediction_algorithms import SVD\n",
        "\n",
        "from surprise.similarities import cosine, msd, pearson\n",
        "\n",
        "from surprise import accuracy \n",
        "from surprise import Reader\n",
        "from surprise import Dataset\n",
        "from surprise import dataset\n",
        "\n"
      ],
      "execution_count": 2,
      "outputs": [
        {
          "output_type": "stream",
          "text": [
            "/usr/local/lib/python3.6/dist-packages/statsmodels/tools/_testing.py:19: FutureWarning: pandas.util.testing is deprecated. Use the functions in the public API at pandas.testing instead.\n",
            "  import pandas.util.testing as tm\n"
          ],
          "name": "stderr"
        }
      ]
    },
    {
      "cell_type": "markdown",
      "metadata": {
        "id": "I7eIpDS9nE7K",
        "colab_type": "text"
      },
      "source": [
        "# Preprocessing"
      ]
    },
    {
      "cell_type": "code",
      "metadata": {
        "id": "NHfdwhF9nE7L",
        "colab_type": "code",
        "outputId": "530ec1c0-a22b-4f88-96ee-1c7875bc1eb4",
        "colab": {
          "base_uri": "https://localhost:8080/",
          "height": 189
        }
      },
      "source": [
        "anime_df = pd.read_csv('./anime.csv')\n",
        "anime_df.head()"
      ],
      "execution_count": 3,
      "outputs": [
        {
          "output_type": "execute_result",
          "data": {
            "text/html": [
              "<div>\n",
              "<style scoped>\n",
              "    .dataframe tbody tr th:only-of-type {\n",
              "        vertical-align: middle;\n",
              "    }\n",
              "\n",
              "    .dataframe tbody tr th {\n",
              "        vertical-align: top;\n",
              "    }\n",
              "\n",
              "    .dataframe thead th {\n",
              "        text-align: right;\n",
              "    }\n",
              "</style>\n",
              "<table border=\"1\" class=\"dataframe\">\n",
              "  <thead>\n",
              "    <tr style=\"text-align: right;\">\n",
              "      <th></th>\n",
              "      <th>anime_id</th>\n",
              "      <th>name</th>\n",
              "      <th>genre</th>\n",
              "      <th>type</th>\n",
              "      <th>episodes</th>\n",
              "      <th>rating</th>\n",
              "      <th>members</th>\n",
              "    </tr>\n",
              "  </thead>\n",
              "  <tbody>\n",
              "    <tr>\n",
              "      <th>0</th>\n",
              "      <td>32281</td>\n",
              "      <td>Kimi no Na wa.</td>\n",
              "      <td>Drama, Romance, School, Supernatural</td>\n",
              "      <td>Movie</td>\n",
              "      <td>1</td>\n",
              "      <td>9.37</td>\n",
              "      <td>200630</td>\n",
              "    </tr>\n",
              "    <tr>\n",
              "      <th>1</th>\n",
              "      <td>5114</td>\n",
              "      <td>Fullmetal Alchemist: Brotherhood</td>\n",
              "      <td>Action, Adventure, Drama, Fantasy, Magic, Mili...</td>\n",
              "      <td>TV</td>\n",
              "      <td>64</td>\n",
              "      <td>9.26</td>\n",
              "      <td>793665</td>\n",
              "    </tr>\n",
              "    <tr>\n",
              "      <th>2</th>\n",
              "      <td>28977</td>\n",
              "      <td>Gintama°</td>\n",
              "      <td>Action, Comedy, Historical, Parody, Samurai, S...</td>\n",
              "      <td>TV</td>\n",
              "      <td>51</td>\n",
              "      <td>9.25</td>\n",
              "      <td>114262</td>\n",
              "    </tr>\n",
              "    <tr>\n",
              "      <th>3</th>\n",
              "      <td>9253</td>\n",
              "      <td>Steins;Gate</td>\n",
              "      <td>Sci-Fi, Thriller</td>\n",
              "      <td>TV</td>\n",
              "      <td>24</td>\n",
              "      <td>9.17</td>\n",
              "      <td>673572</td>\n",
              "    </tr>\n",
              "    <tr>\n",
              "      <th>4</th>\n",
              "      <td>9969</td>\n",
              "      <td>Gintama&amp;#039;</td>\n",
              "      <td>Action, Comedy, Historical, Parody, Samurai, S...</td>\n",
              "      <td>TV</td>\n",
              "      <td>51</td>\n",
              "      <td>9.16</td>\n",
              "      <td>151266</td>\n",
              "    </tr>\n",
              "  </tbody>\n",
              "</table>\n",
              "</div>"
            ],
            "text/plain": [
              "   anime_id                              name  ... rating members\n",
              "0     32281                    Kimi no Na wa.  ...   9.37  200630\n",
              "1      5114  Fullmetal Alchemist: Brotherhood  ...   9.26  793665\n",
              "2     28977                          Gintama°  ...   9.25  114262\n",
              "3      9253                       Steins;Gate  ...   9.17  673572\n",
              "4      9969                     Gintama&#039;  ...   9.16  151266\n",
              "\n",
              "[5 rows x 7 columns]"
            ]
          },
          "metadata": {
            "tags": []
          },
          "execution_count": 3
        }
      ]
    },
    {
      "cell_type": "code",
      "metadata": {
        "id": "CCz2v-bvnE7P",
        "colab_type": "code",
        "outputId": "06f79bb7-328f-4c93-c2c8-0a67089e5ee3",
        "colab": {
          "base_uri": "https://localhost:8080/",
          "height": 33
        }
      },
      "source": [
        "anime_df.shape"
      ],
      "execution_count": 4,
      "outputs": [
        {
          "output_type": "execute_result",
          "data": {
            "text/plain": [
              "(12294, 7)"
            ]
          },
          "metadata": {
            "tags": []
          },
          "execution_count": 4
        }
      ]
    },
    {
      "cell_type": "code",
      "metadata": {
        "id": "Bw37JW7onE7S",
        "colab_type": "code",
        "colab": {}
      },
      "source": [
        "anime_df.dropna(inplace=True)"
      ],
      "execution_count": 0,
      "outputs": []
    },
    {
      "cell_type": "markdown",
      "metadata": {
        "id": "zRex0VC0HkT_",
        "colab_type": "text"
      },
      "source": [
        "*** There are 12,294 rows above, and need to drop any null values ***"
      ]
    },
    {
      "cell_type": "code",
      "metadata": {
        "id": "iZR714pMnE7X",
        "colab_type": "code",
        "outputId": "6cd9786b-ec79-4e92-c36f-8663ca5075af",
        "colab": {
          "base_uri": "https://localhost:8080/",
          "height": 33
        }
      },
      "source": [
        "anime_df.shape #this seemed to have reduced it down a bit"
      ],
      "execution_count": 6,
      "outputs": [
        {
          "output_type": "execute_result",
          "data": {
            "text/plain": [
              "(12017, 7)"
            ]
          },
          "metadata": {
            "tags": []
          },
          "execution_count": 6
        }
      ]
    },
    {
      "cell_type": "markdown",
      "metadata": {
        "id": "VEuzf9T3nE7a",
        "colab_type": "text"
      },
      "source": [
        "## What each column represents: \n",
        "***anime_id: id number for each anime title***<br>\n",
        "***name:  title of the motion picture***<br>\n",
        "***genre:  category***<br>\n",
        "***type:  describes the anime into tv, movies, OVA, and 3 other categories***<br>\n",
        "***episodes: total number of episodes ***<br>\n",
        "***rating: -1-10, lowest to highest*** <br>\n",
        "***members:  number of community members that are in this anime group***<br>"
      ]
    },
    {
      "cell_type": "code",
      "metadata": {
        "scrolled": false,
        "id": "7n-5UeYcnE7b",
        "colab_type": "code",
        "outputId": "d7aa2527-ed9e-478a-b1e4-25d6be15d032",
        "colab": {
          "base_uri": "https://localhost:8080/",
          "height": 247
        }
      },
      "source": [
        "anime_df.info() #having a look at all of the columns and types from the above cell and current to remove \n",
        "#any unneccessary extraneous data"
      ],
      "execution_count": 7,
      "outputs": [
        {
          "output_type": "stream",
          "text": [
            "<class 'pandas.core.frame.DataFrame'>\n",
            "Int64Index: 12017 entries, 0 to 12293\n",
            "Data columns (total 7 columns):\n",
            " #   Column    Non-Null Count  Dtype  \n",
            "---  ------    --------------  -----  \n",
            " 0   anime_id  12017 non-null  int64  \n",
            " 1   name      12017 non-null  object \n",
            " 2   genre     12017 non-null  object \n",
            " 3   type      12017 non-null  object \n",
            " 4   episodes  12017 non-null  object \n",
            " 5   rating    12017 non-null  float64\n",
            " 6   members   12017 non-null  int64  \n",
            "dtypes: float64(1), int64(2), object(4)\n",
            "memory usage: 751.1+ KB\n"
          ],
          "name": "stdout"
        }
      ]
    },
    {
      "cell_type": "code",
      "metadata": {
        "id": "gurWbtWbnE7f",
        "colab_type": "code",
        "outputId": "22ad1753-f631-4d2a-f18c-7cfe8c493adb",
        "colab": {
          "base_uri": "https://localhost:8080/",
          "height": 189
        }
      },
      "source": [
        "rating_df = pd.read_csv('./rating.csv')\n",
        "rating_df.head()"
      ],
      "execution_count": 8,
      "outputs": [
        {
          "output_type": "execute_result",
          "data": {
            "text/html": [
              "<div>\n",
              "<style scoped>\n",
              "    .dataframe tbody tr th:only-of-type {\n",
              "        vertical-align: middle;\n",
              "    }\n",
              "\n",
              "    .dataframe tbody tr th {\n",
              "        vertical-align: top;\n",
              "    }\n",
              "\n",
              "    .dataframe thead th {\n",
              "        text-align: right;\n",
              "    }\n",
              "</style>\n",
              "<table border=\"1\" class=\"dataframe\">\n",
              "  <thead>\n",
              "    <tr style=\"text-align: right;\">\n",
              "      <th></th>\n",
              "      <th>user_id</th>\n",
              "      <th>anime_id</th>\n",
              "      <th>rating</th>\n",
              "    </tr>\n",
              "  </thead>\n",
              "  <tbody>\n",
              "    <tr>\n",
              "      <th>0</th>\n",
              "      <td>1</td>\n",
              "      <td>20</td>\n",
              "      <td>-1</td>\n",
              "    </tr>\n",
              "    <tr>\n",
              "      <th>1</th>\n",
              "      <td>1</td>\n",
              "      <td>24</td>\n",
              "      <td>-1</td>\n",
              "    </tr>\n",
              "    <tr>\n",
              "      <th>2</th>\n",
              "      <td>1</td>\n",
              "      <td>79</td>\n",
              "      <td>-1</td>\n",
              "    </tr>\n",
              "    <tr>\n",
              "      <th>3</th>\n",
              "      <td>1</td>\n",
              "      <td>226</td>\n",
              "      <td>-1</td>\n",
              "    </tr>\n",
              "    <tr>\n",
              "      <th>4</th>\n",
              "      <td>1</td>\n",
              "      <td>241</td>\n",
              "      <td>-1</td>\n",
              "    </tr>\n",
              "  </tbody>\n",
              "</table>\n",
              "</div>"
            ],
            "text/plain": [
              "   user_id  anime_id  rating\n",
              "0        1        20      -1\n",
              "1        1        24      -1\n",
              "2        1        79      -1\n",
              "3        1       226      -1\n",
              "4        1       241      -1"
            ]
          },
          "metadata": {
            "tags": []
          },
          "execution_count": 8
        }
      ]
    },
    {
      "cell_type": "markdown",
      "metadata": {
        "id": "00Wv0TO6nE7i",
        "colab_type": "text"
      },
      "source": [
        "## What each column represents: \n",
        "*** user_id: non-identifiable randomly generated user id*** <br>\n",
        "*** anime_id: the anime that the user has rated *** <br>\n",
        "*** rating: rating out of 10 this user has assigned (-1 if the user watched it but didn't assign a rating) ***"
      ]
    },
    {
      "cell_type": "code",
      "metadata": {
        "id": "YRvEEgPwnE7j",
        "colab_type": "code",
        "outputId": "cd6609ba-226d-4f5f-8c02-1a367d73e74e",
        "colab": {
          "base_uri": "https://localhost:8080/",
          "height": 33
        }
      },
      "source": [
        "rating_df.shape"
      ],
      "execution_count": 9,
      "outputs": [
        {
          "output_type": "execute_result",
          "data": {
            "text/plain": [
              "(1680215, 3)"
            ]
          },
          "metadata": {
            "tags": []
          },
          "execution_count": 9
        }
      ]
    },
    {
      "cell_type": "markdown",
      "metadata": {
        "id": "zfyipvl-nE7m",
        "colab_type": "text"
      },
      "source": [
        "Need to join both datasets together, will join using anime_id then hopefully will reshuffle the dataset so that it can be transformed into something that is compatible with `surprise`. "
      ]
    },
    {
      "cell_type": "markdown",
      "metadata": {
        "id": "w5gfCqZHnE7n",
        "colab_type": "text"
      },
      "source": [
        "I will join the two dataframes by merging them so that they can correspond to the correct anime_ids"
      ]
    },
    {
      "cell_type": "code",
      "metadata": {
        "id": "lYdfiBi3nE7n",
        "colab_type": "code",
        "outputId": "5777a468-9516-42a0-c68d-058287b537c6",
        "colab": {
          "base_uri": "https://localhost:8080/",
          "height": 189
        }
      },
      "source": [
        "df_merge = pd.merge(anime_df, rating_df, on = 'anime_id')\n",
        "df_merge.head()\n",
        "# df_merge = df_row.merge(rating_df, left_on= 'anime_id', how='outer')\n",
        "# df_merge.head()"
      ],
      "execution_count": 10,
      "outputs": [
        {
          "output_type": "execute_result",
          "data": {
            "text/html": [
              "<div>\n",
              "<style scoped>\n",
              "    .dataframe tbody tr th:only-of-type {\n",
              "        vertical-align: middle;\n",
              "    }\n",
              "\n",
              "    .dataframe tbody tr th {\n",
              "        vertical-align: top;\n",
              "    }\n",
              "\n",
              "    .dataframe thead th {\n",
              "        text-align: right;\n",
              "    }\n",
              "</style>\n",
              "<table border=\"1\" class=\"dataframe\">\n",
              "  <thead>\n",
              "    <tr style=\"text-align: right;\">\n",
              "      <th></th>\n",
              "      <th>anime_id</th>\n",
              "      <th>name</th>\n",
              "      <th>genre</th>\n",
              "      <th>type</th>\n",
              "      <th>episodes</th>\n",
              "      <th>rating_x</th>\n",
              "      <th>members</th>\n",
              "      <th>user_id</th>\n",
              "      <th>rating_y</th>\n",
              "    </tr>\n",
              "  </thead>\n",
              "  <tbody>\n",
              "    <tr>\n",
              "      <th>0</th>\n",
              "      <td>32281</td>\n",
              "      <td>Kimi no Na wa.</td>\n",
              "      <td>Drama, Romance, School, Supernatural</td>\n",
              "      <td>Movie</td>\n",
              "      <td>1</td>\n",
              "      <td>9.37</td>\n",
              "      <td>200630</td>\n",
              "      <td>99</td>\n",
              "      <td>5</td>\n",
              "    </tr>\n",
              "    <tr>\n",
              "      <th>1</th>\n",
              "      <td>32281</td>\n",
              "      <td>Kimi no Na wa.</td>\n",
              "      <td>Drama, Romance, School, Supernatural</td>\n",
              "      <td>Movie</td>\n",
              "      <td>1</td>\n",
              "      <td>9.37</td>\n",
              "      <td>200630</td>\n",
              "      <td>152</td>\n",
              "      <td>10</td>\n",
              "    </tr>\n",
              "    <tr>\n",
              "      <th>2</th>\n",
              "      <td>32281</td>\n",
              "      <td>Kimi no Na wa.</td>\n",
              "      <td>Drama, Romance, School, Supernatural</td>\n",
              "      <td>Movie</td>\n",
              "      <td>1</td>\n",
              "      <td>9.37</td>\n",
              "      <td>200630</td>\n",
              "      <td>244</td>\n",
              "      <td>10</td>\n",
              "    </tr>\n",
              "    <tr>\n",
              "      <th>3</th>\n",
              "      <td>32281</td>\n",
              "      <td>Kimi no Na wa.</td>\n",
              "      <td>Drama, Romance, School, Supernatural</td>\n",
              "      <td>Movie</td>\n",
              "      <td>1</td>\n",
              "      <td>9.37</td>\n",
              "      <td>200630</td>\n",
              "      <td>271</td>\n",
              "      <td>10</td>\n",
              "    </tr>\n",
              "    <tr>\n",
              "      <th>4</th>\n",
              "      <td>32281</td>\n",
              "      <td>Kimi no Na wa.</td>\n",
              "      <td>Drama, Romance, School, Supernatural</td>\n",
              "      <td>Movie</td>\n",
              "      <td>1</td>\n",
              "      <td>9.37</td>\n",
              "      <td>200630</td>\n",
              "      <td>278</td>\n",
              "      <td>-1</td>\n",
              "    </tr>\n",
              "  </tbody>\n",
              "</table>\n",
              "</div>"
            ],
            "text/plain": [
              "   anime_id            name  ... user_id rating_y\n",
              "0     32281  Kimi no Na wa.  ...      99        5\n",
              "1     32281  Kimi no Na wa.  ...     152       10\n",
              "2     32281  Kimi no Na wa.  ...     244       10\n",
              "3     32281  Kimi no Na wa.  ...     271       10\n",
              "4     32281  Kimi no Na wa.  ...     278       -1\n",
              "\n",
              "[5 rows x 9 columns]"
            ]
          },
          "metadata": {
            "tags": []
          },
          "execution_count": 10
        }
      ]
    },
    {
      "cell_type": "code",
      "metadata": {
        "id": "Yz5pF8ipnE7r",
        "colab_type": "code",
        "outputId": "203ee3fc-88bd-4d38-812f-5ac23d296875",
        "colab": {
          "base_uri": "https://localhost:8080/",
          "height": 33
        }
      },
      "source": [
        "df_merge.shape "
      ],
      "execution_count": 11,
      "outputs": [
        {
          "output_type": "execute_result",
          "data": {
            "text/plain": [
              "(1680169, 9)"
            ]
          },
          "metadata": {
            "tags": []
          },
          "execution_count": 11
        }
      ]
    },
    {
      "cell_type": "markdown",
      "metadata": {
        "id": "JBoqWn0YnE7u",
        "colab_type": "text"
      },
      "source": [
        "*** The data here is extremely large. Because I will be using Singular Value Decomposition (SVD) which is known to be computationally expensive I will be taking a large sample from the 7.8 million rows. Before taking a sample I will remove the -1 ratings from the dataset since these don't really count as reviews ***"
      ]
    },
    {
      "cell_type": "code",
      "metadata": {
        "id": "u9btPEKGnE7w",
        "colab_type": "code",
        "outputId": "893bec63-a20b-45d1-ec7e-91b11569d13b",
        "colab": {
          "base_uri": "https://localhost:8080/",
          "height": 33
        }
      },
      "source": [
        "df_merge.rating_x.min()"
      ],
      "execution_count": 12,
      "outputs": [
        {
          "output_type": "execute_result",
          "data": {
            "text/plain": [
              "2.0"
            ]
          },
          "metadata": {
            "tags": []
          },
          "execution_count": 12
        }
      ]
    },
    {
      "cell_type": "code",
      "metadata": {
        "id": "fnl1XOx-nE71",
        "colab_type": "code",
        "outputId": "8f4e2ee8-f56d-43c6-d4ef-ecedb8f9e36a",
        "colab": {
          "base_uri": "https://localhost:8080/",
          "height": 189
        }
      },
      "source": [
        "df_merge = df_merge[df_merge.rating_y != -1]\n",
        "df_merge.head()"
      ],
      "execution_count": 13,
      "outputs": [
        {
          "output_type": "execute_result",
          "data": {
            "text/html": [
              "<div>\n",
              "<style scoped>\n",
              "    .dataframe tbody tr th:only-of-type {\n",
              "        vertical-align: middle;\n",
              "    }\n",
              "\n",
              "    .dataframe tbody tr th {\n",
              "        vertical-align: top;\n",
              "    }\n",
              "\n",
              "    .dataframe thead th {\n",
              "        text-align: right;\n",
              "    }\n",
              "</style>\n",
              "<table border=\"1\" class=\"dataframe\">\n",
              "  <thead>\n",
              "    <tr style=\"text-align: right;\">\n",
              "      <th></th>\n",
              "      <th>anime_id</th>\n",
              "      <th>name</th>\n",
              "      <th>genre</th>\n",
              "      <th>type</th>\n",
              "      <th>episodes</th>\n",
              "      <th>rating_x</th>\n",
              "      <th>members</th>\n",
              "      <th>user_id</th>\n",
              "      <th>rating_y</th>\n",
              "    </tr>\n",
              "  </thead>\n",
              "  <tbody>\n",
              "    <tr>\n",
              "      <th>0</th>\n",
              "      <td>32281</td>\n",
              "      <td>Kimi no Na wa.</td>\n",
              "      <td>Drama, Romance, School, Supernatural</td>\n",
              "      <td>Movie</td>\n",
              "      <td>1</td>\n",
              "      <td>9.37</td>\n",
              "      <td>200630</td>\n",
              "      <td>99</td>\n",
              "      <td>5</td>\n",
              "    </tr>\n",
              "    <tr>\n",
              "      <th>1</th>\n",
              "      <td>32281</td>\n",
              "      <td>Kimi no Na wa.</td>\n",
              "      <td>Drama, Romance, School, Supernatural</td>\n",
              "      <td>Movie</td>\n",
              "      <td>1</td>\n",
              "      <td>9.37</td>\n",
              "      <td>200630</td>\n",
              "      <td>152</td>\n",
              "      <td>10</td>\n",
              "    </tr>\n",
              "    <tr>\n",
              "      <th>2</th>\n",
              "      <td>32281</td>\n",
              "      <td>Kimi no Na wa.</td>\n",
              "      <td>Drama, Romance, School, Supernatural</td>\n",
              "      <td>Movie</td>\n",
              "      <td>1</td>\n",
              "      <td>9.37</td>\n",
              "      <td>200630</td>\n",
              "      <td>244</td>\n",
              "      <td>10</td>\n",
              "    </tr>\n",
              "    <tr>\n",
              "      <th>3</th>\n",
              "      <td>32281</td>\n",
              "      <td>Kimi no Na wa.</td>\n",
              "      <td>Drama, Romance, School, Supernatural</td>\n",
              "      <td>Movie</td>\n",
              "      <td>1</td>\n",
              "      <td>9.37</td>\n",
              "      <td>200630</td>\n",
              "      <td>271</td>\n",
              "      <td>10</td>\n",
              "    </tr>\n",
              "    <tr>\n",
              "      <th>5</th>\n",
              "      <td>32281</td>\n",
              "      <td>Kimi no Na wa.</td>\n",
              "      <td>Drama, Romance, School, Supernatural</td>\n",
              "      <td>Movie</td>\n",
              "      <td>1</td>\n",
              "      <td>9.37</td>\n",
              "      <td>200630</td>\n",
              "      <td>322</td>\n",
              "      <td>10</td>\n",
              "    </tr>\n",
              "  </tbody>\n",
              "</table>\n",
              "</div>"
            ],
            "text/plain": [
              "   anime_id            name  ... user_id rating_y\n",
              "0     32281  Kimi no Na wa.  ...      99        5\n",
              "1     32281  Kimi no Na wa.  ...     152       10\n",
              "2     32281  Kimi no Na wa.  ...     244       10\n",
              "3     32281  Kimi no Na wa.  ...     271       10\n",
              "5     32281  Kimi no Na wa.  ...     322       10\n",
              "\n",
              "[5 rows x 9 columns]"
            ]
          },
          "metadata": {
            "tags": []
          },
          "execution_count": 13
        }
      ]
    },
    {
      "cell_type": "code",
      "metadata": {
        "id": "yitglC3mnE74",
        "colab_type": "code",
        "outputId": "0437db79-cf23-42b5-f0ed-dcb91994a0db",
        "colab": {
          "base_uri": "https://localhost:8080/",
          "height": 33
        }
      },
      "source": [
        "df_merge.shape #have removed over 1 million rows"
      ],
      "execution_count": 14,
      "outputs": [
        {
          "output_type": "execute_result",
          "data": {
            "text/plain": [
              "(1364291, 9)"
            ]
          },
          "metadata": {
            "tags": []
          },
          "execution_count": 14
        }
      ]
    },
    {
      "cell_type": "code",
      "metadata": {
        "id": "y24yLQ0unE77",
        "colab_type": "code",
        "outputId": "5565842b-872e-4694-b73f-90bff66c8ead",
        "colab": {
          "base_uri": "https://localhost:8080/",
          "height": 33
        }
      },
      "source": [
        "sample = df_merge.sample(frac=.25)\n",
        "sample.shape # this is still too large"
      ],
      "execution_count": 15,
      "outputs": [
        {
          "output_type": "execute_result",
          "data": {
            "text/plain": [
              "(341073, 9)"
            ]
          },
          "metadata": {
            "tags": []
          },
          "execution_count": 15
        }
      ]
    },
    {
      "cell_type": "code",
      "metadata": {
        "id": "Grn2w_aMnE79",
        "colab_type": "code",
        "outputId": "6c780045-9677-451a-e7ba-227481eb0d51",
        "colab": {
          "base_uri": "https://localhost:8080/",
          "height": 33
        }
      },
      "source": [
        "sample = df_merge.sample(n=5000)\n",
        "sample.shape #below I conduct SVD and it cannot handle anything larger than 5000 (i've tried)"
      ],
      "execution_count": 16,
      "outputs": [
        {
          "output_type": "execute_result",
          "data": {
            "text/plain": [
              "(5000, 9)"
            ]
          },
          "metadata": {
            "tags": []
          },
          "execution_count": 16
        }
      ]
    },
    {
      "cell_type": "code",
      "metadata": {
        "id": "oOImo2JQhRs5",
        "colab_type": "code",
        "colab": {
          "base_uri": "https://localhost:8080/",
          "height": 181
        },
        "outputId": "6ec982ef-4411-4353-9c5d-310ae24dd3cf"
      },
      "source": [
        "sample.dtypes #rating_x needs to be an int, for it to work in ALS"
      ],
      "execution_count": 23,
      "outputs": [
        {
          "output_type": "execute_result",
          "data": {
            "text/plain": [
              "anime_id      int64\n",
              "name         object\n",
              "genre        object\n",
              "type         object\n",
              "episodes     object\n",
              "rating_x    float64\n",
              "members       int64\n",
              "user_id       int64\n",
              "rating_y      int64\n",
              "dtype: object"
            ]
          },
          "metadata": {
            "tags": []
          },
          "execution_count": 23
        }
      ]
    },
    {
      "cell_type": "code",
      "metadata": {
        "id": "H5BIvXYTiWeU",
        "colab_type": "code",
        "colab": {}
      },
      "source": [
        "sample['rating_x'] = sample['rating_x'].astype(int)"
      ],
      "execution_count": 0,
      "outputs": []
    },
    {
      "cell_type": "code",
      "metadata": {
        "id": "AepeudJIjPLA",
        "colab_type": "code",
        "colab": {
          "base_uri": "https://localhost:8080/",
          "height": 181
        },
        "outputId": "041b56ff-e082-43f7-fd9c-b8b62e1dc987"
      },
      "source": [
        "sample.dtypes"
      ],
      "execution_count": 25,
      "outputs": [
        {
          "output_type": "execute_result",
          "data": {
            "text/plain": [
              "anime_id     int64\n",
              "name        object\n",
              "genre       object\n",
              "type        object\n",
              "episodes    object\n",
              "rating_x     int64\n",
              "members      int64\n",
              "user_id      int64\n",
              "rating_y     int64\n",
              "dtype: object"
            ]
          },
          "metadata": {
            "tags": []
          },
          "execution_count": 25
        }
      ]
    },
    {
      "cell_type": "markdown",
      "metadata": {
        "id": "g8zOlE5OnE8B",
        "colab_type": "text"
      },
      "source": [
        "###It seems that the rating dataframe is based on each user and their individual rating for each anime id, whereas the anime dataframe is an average overall rating from all of its viewers.  "
      ]
    },
    {
      "cell_type": "code",
      "metadata": {
        "id": "L7UMnckMnE8B",
        "colab_type": "code",
        "outputId": "fbc8f60a-b767-4c2b-b529-8db46d9e2a4c",
        "colab": {
          "base_uri": "https://localhost:8080/",
          "height": 346
        }
      },
      "source": [
        "#we are going to look at how many times each rating appears in a column\n",
        "ratings_x = sample['rating_x'].value_counts() #continuous \n",
        "ratings_y = sample['rating_y'].value_counts() #discrete\n",
        "\n",
        "print(ratings_x)\n",
        "print(ratings_y)"
      ],
      "execution_count": 26,
      "outputs": [
        {
          "output_type": "stream",
          "text": [
            "7    2636\n",
            "8    1626\n",
            "6     610\n",
            "9      65\n",
            "5      50\n",
            "4       7\n",
            "3       5\n",
            "2       1\n",
            "Name: rating_x, dtype: int64\n",
            "8     1309\n",
            "7     1090\n",
            "9      981\n",
            "10     734\n",
            "6      496\n",
            "5      242\n",
            "4       84\n",
            "3       35\n",
            "2       17\n",
            "1       12\n",
            "Name: rating_y, dtype: int64\n"
          ],
          "name": "stdout"
        }
      ]
    },
    {
      "cell_type": "code",
      "metadata": {
        "id": "Oakj0dasjd8Z",
        "colab_type": "code",
        "colab": {
          "base_uri": "https://localhost:8080/",
          "height": 181
        },
        "outputId": "5c57939c-4fe0-4262-c566-8638ebea68d0"
      },
      "source": [
        "sample.dtypes"
      ],
      "execution_count": 34,
      "outputs": [
        {
          "output_type": "execute_result",
          "data": {
            "text/plain": [
              "anime_id     int64\n",
              "name        object\n",
              "genre       object\n",
              "type        object\n",
              "episodes    object\n",
              "rating_x     int64\n",
              "members      int64\n",
              "user_id      int64\n",
              "rating_y     int64\n",
              "dtype: object"
            ]
          },
          "metadata": {
            "tags": []
          },
          "execution_count": 34
        }
      ]
    },
    {
      "cell_type": "code",
      "metadata": {
        "id": "-Ql1kmgLbhig",
        "colab_type": "code",
        "outputId": "bfd9cea9-776a-4b29-f1b9-72ebc786b4ba",
        "colab": {
          "base_uri": "https://localhost:8080/",
          "height": 189
        }
      },
      "source": [
        "sample.rating_x = sample.rating_x.apply(round) #another important feature i have had to add is making all ratings discrete for SVD\n",
        "sample.head()"
      ],
      "execution_count": 35,
      "outputs": [
        {
          "output_type": "execute_result",
          "data": {
            "text/html": [
              "<div>\n",
              "<style scoped>\n",
              "    .dataframe tbody tr th:only-of-type {\n",
              "        vertical-align: middle;\n",
              "    }\n",
              "\n",
              "    .dataframe tbody tr th {\n",
              "        vertical-align: top;\n",
              "    }\n",
              "\n",
              "    .dataframe thead th {\n",
              "        text-align: right;\n",
              "    }\n",
              "</style>\n",
              "<table border=\"1\" class=\"dataframe\">\n",
              "  <thead>\n",
              "    <tr style=\"text-align: right;\">\n",
              "      <th></th>\n",
              "      <th>anime_id</th>\n",
              "      <th>name</th>\n",
              "      <th>genre</th>\n",
              "      <th>type</th>\n",
              "      <th>episodes</th>\n",
              "      <th>rating_x</th>\n",
              "      <th>members</th>\n",
              "      <th>user_id</th>\n",
              "      <th>rating_y</th>\n",
              "    </tr>\n",
              "  </thead>\n",
              "  <tbody>\n",
              "    <tr>\n",
              "      <th>1045611</th>\n",
              "      <td>6880</td>\n",
              "      <td>Deadman Wonderland</td>\n",
              "      <td>Action, Horror, Sci-Fi</td>\n",
              "      <td>TV</td>\n",
              "      <td>12</td>\n",
              "      <td>7</td>\n",
              "      <td>453454</td>\n",
              "      <td>4358</td>\n",
              "      <td>7</td>\n",
              "    </tr>\n",
              "    <tr>\n",
              "      <th>1578697</th>\n",
              "      <td>1816</td>\n",
              "      <td>Sonic X</td>\n",
              "      <td>Adventure, Comedy, Kids, Mecha, Sci-Fi, Shounen</td>\n",
              "      <td>TV</td>\n",
              "      <td>78</td>\n",
              "      <td>6</td>\n",
              "      <td>28296</td>\n",
              "      <td>14189</td>\n",
              "      <td>7</td>\n",
              "    </tr>\n",
              "    <tr>\n",
              "      <th>675624</th>\n",
              "      <td>8937</td>\n",
              "      <td>Toaru Majutsu no Index II</td>\n",
              "      <td>Action, Magic, Sci-Fi, Super Power</td>\n",
              "      <td>TV</td>\n",
              "      <td>24</td>\n",
              "      <td>7</td>\n",
              "      <td>184520</td>\n",
              "      <td>5910</td>\n",
              "      <td>7</td>\n",
              "    </tr>\n",
              "    <tr>\n",
              "      <th>555285</th>\n",
              "      <td>6033</td>\n",
              "      <td>Dragon Ball Kai</td>\n",
              "      <td>Action, Adventure, Comedy, Fantasy, Martial Ar...</td>\n",
              "      <td>TV</td>\n",
              "      <td>97</td>\n",
              "      <td>7</td>\n",
              "      <td>116832</td>\n",
              "      <td>6055</td>\n",
              "      <td>10</td>\n",
              "    </tr>\n",
              "    <tr>\n",
              "      <th>863527</th>\n",
              "      <td>8888</td>\n",
              "      <td>Code Geass: Boukoku no Akito 1 - Yokuryuu wa M...</td>\n",
              "      <td>Action, Mecha, Military, Sci-Fi</td>\n",
              "      <td>Movie</td>\n",
              "      <td>1</td>\n",
              "      <td>7</td>\n",
              "      <td>91105</td>\n",
              "      <td>15113</td>\n",
              "      <td>8</td>\n",
              "    </tr>\n",
              "  </tbody>\n",
              "</table>\n",
              "</div>"
            ],
            "text/plain": [
              "         anime_id  ... rating_y\n",
              "1045611      6880  ...        7\n",
              "1578697      1816  ...        7\n",
              "675624       8937  ...        7\n",
              "555285       6033  ...       10\n",
              "863527       8888  ...        8\n",
              "\n",
              "[5 rows x 9 columns]"
            ]
          },
          "metadata": {
            "tags": []
          },
          "execution_count": 35
        }
      ]
    },
    {
      "cell_type": "markdown",
      "metadata": {
        "id": "mgbPY3xPnE8E",
        "colab_type": "text"
      },
      "source": [
        "## Distribution of User Ratings"
      ]
    },
    {
      "cell_type": "code",
      "metadata": {
        "id": "IA2yxK1WnE8F",
        "colab_type": "code",
        "outputId": "8e76cdbc-ddd7-46a6-e25b-3546baec3cc6",
        "colab": {
          "base_uri": "https://localhost:8080/",
          "height": 295
        }
      },
      "source": [
        "# plot distribution in matplotlib\n",
        "ratings_sorted = sorted(list(zip(ratings_y.index, ratings_y)))\n",
        "plt.bar([r[0] for r in ratings_sorted], [r[1] for r in ratings_sorted], color='cyan')\n",
        "plt.xlabel(\"Rating\")\n",
        "plt.ylabel(\"# of Ratings\")\n",
        "plt.title(\"Distribution of Ratings\")\n",
        "plt.show()"
      ],
      "execution_count": 36,
      "outputs": [
        {
          "output_type": "display_data",
          "data": {
            "image/png": "[encoded data removed]",
            "text/plain": [
              "<Figure size 432x288 with 1 Axes>"
            ]
          },
          "metadata": {
            "tags": [],
            "needs_background": "light"
          }
        }
      ]
    },
    {
      "cell_type": "code",
      "metadata": {
        "id": "ZnsGfxacnE8I",
        "colab_type": "code",
        "outputId": "b1863999-6bc9-4a37-ce44-dbd6189fb8fa",
        "colab": {
          "base_uri": "https://localhost:8080/",
          "height": 49
        }
      },
      "source": [
        "#number of users\n",
        "print(\"Number of Users:\", df_merge.user_id.nunique())\n",
        "# print(\"Average Number of Reviews per User:\", df_merge.shape[0])/df_merge.user_id.nunique()\n",
        "avg_rate_peruser = df_merge.shape[0]\n",
        "user = df_merge.user_id.nunique()\n",
        "avg_num_review_per_user = avg_rate_peruser/user\n",
        "print(\"Average Number of Reveiws per User:\", avg_num_review_per_user)"
      ],
      "execution_count": 37,
      "outputs": [
        {
          "output_type": "stream",
          "text": [
            "Number of Users: 15382\n",
            "Average Number of Reveiws per User: 88.69399297880639\n"
          ],
          "name": "stdout"
        }
      ]
    },
    {
      "cell_type": "code",
      "metadata": {
        "id": "qu-u8fNFnE8K",
        "colab_type": "code",
        "outputId": "8fcb994b-ed5f-40ae-9ac5-60a289df65e7",
        "colab": {
          "base_uri": "https://localhost:8080/",
          "height": 214
        }
      },
      "source": [
        "sample['user_id'].value_counts()"
      ],
      "execution_count": 38,
      "outputs": [
        {
          "output_type": "execute_result",
          "data": {
            "text/plain": [
              "10796    10\n",
              "7247      9\n",
              "8820      9\n",
              "226       8\n",
              "11400     8\n",
              "         ..\n",
              "7145      1\n",
              "12868     1\n",
              "15333     1\n",
              "15214     1\n",
              "2049      1\n",
              "Name: user_id, Length: 3381, dtype: int64"
            ]
          },
          "metadata": {
            "tags": []
          },
          "execution_count": 38
        }
      ]
    },
    {
      "cell_type": "markdown",
      "metadata": {
        "id": "8d116UGcnE8O",
        "colab_type": "text"
      },
      "source": [
        "## Number of Reviews per User"
      ]
    },
    {
      "cell_type": "code",
      "metadata": {
        "id": "S_mG1r4wnE8O",
        "colab_type": "code",
        "outputId": "582e3c50-6296-48ff-aef1-54828eccd388",
        "colab": {
          "base_uri": "https://localhost:8080/",
          "height": 295
        }
      },
      "source": [
        "ratings_per_user = sample['user_id'].value_counts()\n",
        "ratings_per_user = sorted(list(zip(ratings_per_user.index, ratings_per_user)))\n",
        "plt.bar([r[0] for r in ratings_per_user], [r[1] for r in ratings_per_user], color='pink')\n",
        "plt.xlabel('User IDs')\n",
        "plt.ylabel('# of Reviews')\n",
        "plt.title('Number of Reviews per User')\n",
        "plt.show()"
      ],
      "execution_count": 39,
      "outputs": [
        {
          "output_type": "display_data",
          "data": {
            "image/png": "[encoded data removed]",
            "text/plain": [
              "<Figure size 432x288 with 1 Axes>"
            ]
          },
          "metadata": {
            "tags": [],
            "needs_background": "light"
          }
        }
      ]
    },
    {
      "cell_type": "code",
      "metadata": {
        "id": "Mk9oNKXOnE8R",
        "colab_type": "code",
        "colab": {}
      },
      "source": [
        "#graph on user ratings, what are the most common scores given "
      ],
      "execution_count": 0,
      "outputs": []
    },
    {
      "cell_type": "markdown",
      "metadata": {
        "id": "hxCnhlSmnE8T",
        "colab_type": "text"
      },
      "source": [
        "## Different types of anime videos"
      ]
    },
    {
      "cell_type": "code",
      "metadata": {
        "id": "bFHb0hWgnE8U",
        "colab_type": "code",
        "outputId": "9ff09422-3cdc-44dc-8ee5-1a85b56957b3",
        "colab": {
          "base_uri": "https://localhost:8080/",
          "height": 165
        }
      },
      "source": [
        "print(\"Number of users:\", sample.user_id.nunique())\n",
        "print(\"Number of types of different anime:\", sample.type.nunique())\n",
        "print(\"Types of type:\", sample.type.value_counts())"
      ],
      "execution_count": 41,
      "outputs": [
        {
          "output_type": "stream",
          "text": [
            "Number of users: 3381\n",
            "Number of types of different anime: 6\n",
            "Types of type: TV         3492\n",
            "Movie       666\n",
            "OVA         461\n",
            "Special     314\n",
            "ONA          46\n",
            "Music        21\n",
            "Name: type, dtype: int64\n"
          ],
          "name": "stdout"
        }
      ]
    },
    {
      "cell_type": "markdown",
      "metadata": {
        "id": "496-cXfEnE8W",
        "colab_type": "text"
      },
      "source": [
        "This means that there are six different categories for anime: <br>\n",
        "Movies, TV, OVA, Special, ONA and Music. <br>\n",
        "***OVA stands for orginal animation video, this has been released directly to the video market <br>\n",
        "Special is not a common occuring video, it is usually shot yearly or on a one off <br>\n",
        "Music is not just audio here, but a lively animated motion picture to go with the composed music piece ***"
      ]
    },
    {
      "cell_type": "code",
      "metadata": {
        "id": "lOjLNTOCnE8X",
        "colab_type": "code",
        "outputId": "f3f2a420-3283-40fe-ed85-61d7bceff69e",
        "colab": {
          "base_uri": "https://localhost:8080/",
          "height": 388
        }
      },
      "source": [
        "sample_of_sample = sample[:100] #taking a sample to see if its the amount of data or its the command given\n",
        "sample_of_sample"
      ],
      "execution_count": 42,
      "outputs": [
        {
          "output_type": "execute_result",
          "data": {
            "text/html": [
              "<div>\n",
              "<style scoped>\n",
              "    .dataframe tbody tr th:only-of-type {\n",
              "        vertical-align: middle;\n",
              "    }\n",
              "\n",
              "    .dataframe tbody tr th {\n",
              "        vertical-align: top;\n",
              "    }\n",
              "\n",
              "    .dataframe thead th {\n",
              "        text-align: right;\n",
              "    }\n",
              "</style>\n",
              "<table border=\"1\" class=\"dataframe\">\n",
              "  <thead>\n",
              "    <tr style=\"text-align: right;\">\n",
              "      <th></th>\n",
              "      <th>anime_id</th>\n",
              "      <th>name</th>\n",
              "      <th>genre</th>\n",
              "      <th>type</th>\n",
              "      <th>episodes</th>\n",
              "      <th>rating_x</th>\n",
              "      <th>members</th>\n",
              "      <th>user_id</th>\n",
              "      <th>rating_y</th>\n",
              "    </tr>\n",
              "  </thead>\n",
              "  <tbody>\n",
              "    <tr>\n",
              "      <th>1045611</th>\n",
              "      <td>6880</td>\n",
              "      <td>Deadman Wonderland</td>\n",
              "      <td>Action, Horror, Sci-Fi</td>\n",
              "      <td>TV</td>\n",
              "      <td>12</td>\n",
              "      <td>7</td>\n",
              "      <td>453454</td>\n",
              "      <td>4358</td>\n",
              "      <td>7</td>\n",
              "    </tr>\n",
              "    <tr>\n",
              "      <th>1578697</th>\n",
              "      <td>1816</td>\n",
              "      <td>Sonic X</td>\n",
              "      <td>Adventure, Comedy, Kids, Mecha, Sci-Fi, Shounen</td>\n",
              "      <td>TV</td>\n",
              "      <td>78</td>\n",
              "      <td>6</td>\n",
              "      <td>28296</td>\n",
              "      <td>14189</td>\n",
              "      <td>7</td>\n",
              "    </tr>\n",
              "    <tr>\n",
              "      <th>675624</th>\n",
              "      <td>8937</td>\n",
              "      <td>Toaru Majutsu no Index II</td>\n",
              "      <td>Action, Magic, Sci-Fi, Super Power</td>\n",
              "      <td>TV</td>\n",
              "      <td>24</td>\n",
              "      <td>7</td>\n",
              "      <td>184520</td>\n",
              "      <td>5910</td>\n",
              "      <td>7</td>\n",
              "    </tr>\n",
              "    <tr>\n",
              "      <th>555285</th>\n",
              "      <td>6033</td>\n",
              "      <td>Dragon Ball Kai</td>\n",
              "      <td>Action, Adventure, Comedy, Fantasy, Martial Ar...</td>\n",
              "      <td>TV</td>\n",
              "      <td>97</td>\n",
              "      <td>7</td>\n",
              "      <td>116832</td>\n",
              "      <td>6055</td>\n",
              "      <td>10</td>\n",
              "    </tr>\n",
              "    <tr>\n",
              "      <th>863527</th>\n",
              "      <td>8888</td>\n",
              "      <td>Code Geass: Boukoku no Akito 1 - Yokuryuu wa M...</td>\n",
              "      <td>Action, Mecha, Military, Sci-Fi</td>\n",
              "      <td>Movie</td>\n",
              "      <td>1</td>\n",
              "      <td>7</td>\n",
              "      <td>91105</td>\n",
              "      <td>15113</td>\n",
              "      <td>8</td>\n",
              "    </tr>\n",
              "    <tr>\n",
              "      <th>...</th>\n",
              "      <td>...</td>\n",
              "      <td>...</td>\n",
              "      <td>...</td>\n",
              "      <td>...</td>\n",
              "      <td>...</td>\n",
              "      <td>...</td>\n",
              "      <td>...</td>\n",
              "      <td>...</td>\n",
              "      <td>...</td>\n",
              "    </tr>\n",
              "    <tr>\n",
              "      <th>27930</th>\n",
              "      <td>199</td>\n",
              "      <td>Sen to Chihiro no Kamikakushi</td>\n",
              "      <td>Adventure, Drama, Supernatural</td>\n",
              "      <td>Movie</td>\n",
              "      <td>1</td>\n",
              "      <td>8</td>\n",
              "      <td>466254</td>\n",
              "      <td>7347</td>\n",
              "      <td>10</td>\n",
              "    </tr>\n",
              "    <tr>\n",
              "      <th>1408815</th>\n",
              "      <td>11703</td>\n",
              "      <td>Code:Breaker</td>\n",
              "      <td>Action, Comedy, School, Shounen, Super Power, ...</td>\n",
              "      <td>TV</td>\n",
              "      <td>13</td>\n",
              "      <td>7</td>\n",
              "      <td>135255</td>\n",
              "      <td>4236</td>\n",
              "      <td>6</td>\n",
              "    </tr>\n",
              "    <tr>\n",
              "      <th>657059</th>\n",
              "      <td>226</td>\n",
              "      <td>Elfen Lied</td>\n",
              "      <td>Action, Drama, Horror, Psychological, Romance,...</td>\n",
              "      <td>TV</td>\n",
              "      <td>13</td>\n",
              "      <td>7</td>\n",
              "      <td>623511</td>\n",
              "      <td>5506</td>\n",
              "      <td>1</td>\n",
              "    </tr>\n",
              "    <tr>\n",
              "      <th>834822</th>\n",
              "      <td>6793</td>\n",
              "      <td>Kuroshitsuji Special</td>\n",
              "      <td>Comedy, Demons, Parody</td>\n",
              "      <td>Special</td>\n",
              "      <td>1</td>\n",
              "      <td>7</td>\n",
              "      <td>53706</td>\n",
              "      <td>10520</td>\n",
              "      <td>9</td>\n",
              "    </tr>\n",
              "    <tr>\n",
              "      <th>422809</th>\n",
              "      <td>535</td>\n",
              "      <td>Slayers Next</td>\n",
              "      <td>Adventure, Comedy, Demons, Fantasy, Magic</td>\n",
              "      <td>TV</td>\n",
              "      <td>26</td>\n",
              "      <td>8</td>\n",
              "      <td>39832</td>\n",
              "      <td>7715</td>\n",
              "      <td>8</td>\n",
              "    </tr>\n",
              "  </tbody>\n",
              "</table>\n",
              "<p>100 rows × 9 columns</p>\n",
              "</div>"
            ],
            "text/plain": [
              "         anime_id  ... rating_y\n",
              "1045611      6880  ...        7\n",
              "1578697      1816  ...        7\n",
              "675624       8937  ...        7\n",
              "555285       6033  ...       10\n",
              "863527       8888  ...        8\n",
              "...           ...  ...      ...\n",
              "27930         199  ...       10\n",
              "1408815     11703  ...        6\n",
              "657059        226  ...        1\n",
              "834822       6793  ...        9\n",
              "422809        535  ...        8\n",
              "\n",
              "[100 rows x 9 columns]"
            ]
          },
          "metadata": {
            "tags": []
          },
          "execution_count": 42
        }
      ]
    },
    {
      "cell_type": "code",
      "metadata": {
        "id": "E3BluncInE8b",
        "colab_type": "code",
        "outputId": "af01eaec-569a-4567-bc6b-4b13710fce2d",
        "colab": {
          "base_uri": "https://localhost:8080/",
          "height": 388
        }
      },
      "source": [
        "sample.loc[sample['type'] == 'Movie']"
      ],
      "execution_count": 43,
      "outputs": [
        {
          "output_type": "execute_result",
          "data": {
            "text/html": [
              "<div>\n",
              "<style scoped>\n",
              "    .dataframe tbody tr th:only-of-type {\n",
              "        vertical-align: middle;\n",
              "    }\n",
              "\n",
              "    .dataframe tbody tr th {\n",
              "        vertical-align: top;\n",
              "    }\n",
              "\n",
              "    .dataframe thead th {\n",
              "        text-align: right;\n",
              "    }\n",
              "</style>\n",
              "<table border=\"1\" class=\"dataframe\">\n",
              "  <thead>\n",
              "    <tr style=\"text-align: right;\">\n",
              "      <th></th>\n",
              "      <th>anime_id</th>\n",
              "      <th>name</th>\n",
              "      <th>genre</th>\n",
              "      <th>type</th>\n",
              "      <th>episodes</th>\n",
              "      <th>rating_x</th>\n",
              "      <th>members</th>\n",
              "      <th>user_id</th>\n",
              "      <th>rating_y</th>\n",
              "    </tr>\n",
              "  </thead>\n",
              "  <tbody>\n",
              "    <tr>\n",
              "      <th>863527</th>\n",
              "      <td>8888</td>\n",
              "      <td>Code Geass: Boukoku no Akito 1 - Yokuryuu wa M...</td>\n",
              "      <td>Action, Mecha, Military, Sci-Fi</td>\n",
              "      <td>Movie</td>\n",
              "      <td>1</td>\n",
              "      <td>7</td>\n",
              "      <td>91105</td>\n",
              "      <td>15113</td>\n",
              "      <td>8</td>\n",
              "    </tr>\n",
              "    <tr>\n",
              "      <th>1369219</th>\n",
              "      <td>3032</td>\n",
              "      <td>Digimon Tamers: Boukensha-tachi no Tatakai</td>\n",
              "      <td>Adventure, Drama, Sci-Fi, Shounen</td>\n",
              "      <td>Movie</td>\n",
              "      <td>1</td>\n",
              "      <td>7</td>\n",
              "      <td>12676</td>\n",
              "      <td>5700</td>\n",
              "      <td>8</td>\n",
              "    </tr>\n",
              "    <tr>\n",
              "      <th>1405292</th>\n",
              "      <td>1951</td>\n",
              "      <td>Manie-Manie: Meikyuu Monogatari</td>\n",
              "      <td>Adventure, Fantasy, Horror, Sci-Fi, Supernatural</td>\n",
              "      <td>Movie</td>\n",
              "      <td>3</td>\n",
              "      <td>7</td>\n",
              "      <td>9568</td>\n",
              "      <td>6978</td>\n",
              "      <td>5</td>\n",
              "    </tr>\n",
              "    <tr>\n",
              "      <th>311360</th>\n",
              "      <td>5365</td>\n",
              "      <td>Tsumiki no Ie</td>\n",
              "      <td>Drama</td>\n",
              "      <td>Movie</td>\n",
              "      <td>1</td>\n",
              "      <td>8</td>\n",
              "      <td>45189</td>\n",
              "      <td>8971</td>\n",
              "      <td>10</td>\n",
              "    </tr>\n",
              "    <tr>\n",
              "      <th>355225</th>\n",
              "      <td>2759</td>\n",
              "      <td>Evangelion: 1.0 You Are (Not) Alone</td>\n",
              "      <td>Action, Mecha, Sci-Fi</td>\n",
              "      <td>Movie</td>\n",
              "      <td>1</td>\n",
              "      <td>8</td>\n",
              "      <td>194561</td>\n",
              "      <td>9560</td>\n",
              "      <td>7</td>\n",
              "    </tr>\n",
              "    <tr>\n",
              "      <th>...</th>\n",
              "      <td>...</td>\n",
              "      <td>...</td>\n",
              "      <td>...</td>\n",
              "      <td>...</td>\n",
              "      <td>...</td>\n",
              "      <td>...</td>\n",
              "      <td>...</td>\n",
              "      <td>...</td>\n",
              "      <td>...</td>\n",
              "    </tr>\n",
              "    <tr>\n",
              "      <th>997857</th>\n",
              "      <td>10713</td>\n",
              "      <td>Towa no Quon 2: Konton no Ranbu</td>\n",
              "      <td>Action, Mystery, Super Power, Supernatural</td>\n",
              "      <td>Movie</td>\n",
              "      <td>1</td>\n",
              "      <td>7</td>\n",
              "      <td>20132</td>\n",
              "      <td>9376</td>\n",
              "      <td>6</td>\n",
              "    </tr>\n",
              "    <tr>\n",
              "      <th>257936</th>\n",
              "      <td>43</td>\n",
              "      <td>Ghost in the Shell</td>\n",
              "      <td>Action, Mecha, Police, Psychological, Sci-Fi, ...</td>\n",
              "      <td>Movie</td>\n",
              "      <td>1</td>\n",
              "      <td>8</td>\n",
              "      <td>223036</td>\n",
              "      <td>2754</td>\n",
              "      <td>10</td>\n",
              "    </tr>\n",
              "    <tr>\n",
              "      <th>917526</th>\n",
              "      <td>2889</td>\n",
              "      <td>Bleach Movie 2: The DiamondDust Rebellion - Mo...</td>\n",
              "      <td>Action, Adventure, Shounen, Supernatural</td>\n",
              "      <td>Movie</td>\n",
              "      <td>1</td>\n",
              "      <td>7</td>\n",
              "      <td>134739</td>\n",
              "      <td>5435</td>\n",
              "      <td>9</td>\n",
              "    </tr>\n",
              "    <tr>\n",
              "      <th>1549082</th>\n",
              "      <td>1894</td>\n",
              "      <td>Yu☆Gi☆Oh!: Hikari no Pyramid</td>\n",
              "      <td>Adventure, Comedy, Fantasy, Game</td>\n",
              "      <td>Movie</td>\n",
              "      <td>1</td>\n",
              "      <td>6</td>\n",
              "      <td>37398</td>\n",
              "      <td>6844</td>\n",
              "      <td>7</td>\n",
              "    </tr>\n",
              "    <tr>\n",
              "      <th>570376</th>\n",
              "      <td>16904</td>\n",
              "      <td>K: Missing Kings</td>\n",
              "      <td>Action, Super Power, Supernatural</td>\n",
              "      <td>Movie</td>\n",
              "      <td>1</td>\n",
              "      <td>7</td>\n",
              "      <td>98549</td>\n",
              "      <td>12869</td>\n",
              "      <td>7</td>\n",
              "    </tr>\n",
              "  </tbody>\n",
              "</table>\n",
              "<p>666 rows × 9 columns</p>\n",
              "</div>"
            ],
            "text/plain": [
              "         anime_id  ... rating_y\n",
              "863527       8888  ...        8\n",
              "1369219      3032  ...        8\n",
              "1405292      1951  ...        5\n",
              "311360       5365  ...       10\n",
              "355225       2759  ...        7\n",
              "...           ...  ...      ...\n",
              "997857      10713  ...        6\n",
              "257936         43  ...       10\n",
              "917526       2889  ...        9\n",
              "1549082      1894  ...        7\n",
              "570376      16904  ...        7\n",
              "\n",
              "[666 rows x 9 columns]"
            ]
          },
          "metadata": {
            "tags": []
          },
          "execution_count": 43
        }
      ]
    },
    {
      "cell_type": "code",
      "metadata": {
        "id": "HBuoD77PnE8e",
        "colab_type": "code",
        "outputId": "dff19afb-7e7c-4d65-cec8-232cdb076e5f",
        "colab": {
          "base_uri": "https://localhost:8080/",
          "height": 33
        }
      },
      "source": [
        "len(sample.loc[sample['type'] == 'TV']) #How many tv shows there are in the dataframe"
      ],
      "execution_count": 44,
      "outputs": [
        {
          "output_type": "execute_result",
          "data": {
            "text/plain": [
              "3492"
            ]
          },
          "metadata": {
            "tags": []
          },
          "execution_count": 44
        }
      ]
    },
    {
      "cell_type": "code",
      "metadata": {
        "id": "RCsbBlBWnE8h",
        "colab_type": "code",
        "outputId": "defd9073-4858-4967-a9bc-fece3a2f9487",
        "colab": {
          "base_uri": "https://localhost:8080/",
          "height": 33
        }
      },
      "source": [
        "len(sample.loc[sample['type'] == 'Movie'])"
      ],
      "execution_count": 45,
      "outputs": [
        {
          "output_type": "execute_result",
          "data": {
            "text/plain": [
              "666"
            ]
          },
          "metadata": {
            "tags": []
          },
          "execution_count": 45
        }
      ]
    },
    {
      "cell_type": "code",
      "metadata": {
        "id": "T6Of1OZFnE8j",
        "colab_type": "code",
        "outputId": "08cf21d5-ffec-4a56-ce67-7da2d2c4026f",
        "colab": {
          "base_uri": "https://localhost:8080/",
          "height": 132
        }
      },
      "source": [
        "sample.loc[sample['type'] == 'Movie'].rating_x.value_counts() #Viewer ratings for films "
      ],
      "execution_count": 46,
      "outputs": [
        {
          "output_type": "execute_result",
          "data": {
            "text/plain": [
              "7    327\n",
              "8    285\n",
              "6     49\n",
              "9      3\n",
              "5      1\n",
              "4      1\n",
              "Name: rating_x, dtype: int64"
            ]
          },
          "metadata": {
            "tags": []
          },
          "execution_count": 46
        }
      ]
    },
    {
      "cell_type": "code",
      "metadata": {
        "id": "JeYYpdY9nE8l",
        "colab_type": "code",
        "outputId": "18bddeb4-e308-4b64-ba8a-083131212bba",
        "colab": {
          "base_uri": "https://localhost:8080/",
          "height": 198
        }
      },
      "source": [
        "sample.loc[sample['type'] == 'Movie'].rating_y.value_counts() #Viewer ratings for films "
      ],
      "execution_count": 47,
      "outputs": [
        {
          "output_type": "execute_result",
          "data": {
            "text/plain": [
              "8     175\n",
              "9     127\n",
              "7     123\n",
              "10    117\n",
              "6      75\n",
              "5      29\n",
              "4       9\n",
              "3       6\n",
              "2       4\n",
              "1       1\n",
              "Name: rating_y, dtype: int64"
            ]
          },
          "metadata": {
            "tags": []
          },
          "execution_count": 47
        }
      ]
    },
    {
      "cell_type": "markdown",
      "metadata": {
        "id": "n3Gju4rDnE8q",
        "colab_type": "text"
      },
      "source": [
        "***drop rows containing -1 as rating in df_merge ***\n",
        "could be that I have an approximation error "
      ]
    },
    {
      "cell_type": "markdown",
      "metadata": {
        "id": "oikzkDXQnE8r",
        "colab_type": "text"
      },
      "source": [
        "*** Look at min ratings in rating_x *** if its a rating error, we would recreate y based off of x. (round to a whole number) *** 0 decimal places"
      ]
    },
    {
      "cell_type": "markdown",
      "metadata": {
        "id": "XN1Ik_xLnE8r",
        "colab_type": "text"
      },
      "source": [
        "## Most Reviewed Videos"
      ]
    },
    {
      "cell_type": "code",
      "metadata": {
        "id": "8tFo4Wz8nE8r",
        "colab_type": "code",
        "outputId": "a54624b1-1057-4ac0-8c7f-afc6bccf8b05",
        "colab": {
          "base_uri": "https://localhost:8080/",
          "height": 33
        }
      },
      "source": [
        "movies_review = len(sample.loc[sample['type'] == 'Movie'])\n",
        "movies_review"
      ],
      "execution_count": 48,
      "outputs": [
        {
          "output_type": "execute_result",
          "data": {
            "text/plain": [
              "666"
            ]
          },
          "metadata": {
            "tags": []
          },
          "execution_count": 48
        }
      ]
    },
    {
      "cell_type": "code",
      "metadata": {
        "id": "e_3-JZXEnE8z",
        "colab_type": "code",
        "outputId": "764a078e-3e9e-4ec9-f9df-62ecc45ffc23",
        "colab": {
          "base_uri": "https://localhost:8080/",
          "height": 33
        }
      },
      "source": [
        "tv_reviews = len(sample.loc[sample['type'] == 'TV'])\n",
        "tv_reviews"
      ],
      "execution_count": 49,
      "outputs": [
        {
          "output_type": "execute_result",
          "data": {
            "text/plain": [
              "3492"
            ]
          },
          "metadata": {
            "tags": []
          },
          "execution_count": 49
        }
      ]
    },
    {
      "cell_type": "code",
      "metadata": {
        "id": "vIr4oAyAnE82",
        "colab_type": "code",
        "outputId": "68903ce5-ef38-43fe-a931-fabeb915c153",
        "colab": {
          "base_uri": "https://localhost:8080/",
          "height": 33
        }
      },
      "source": [
        "ova_reviews = len(sample.loc[sample['type'] =='OVA'])\n",
        "ova_reviews"
      ],
      "execution_count": 50,
      "outputs": [
        {
          "output_type": "execute_result",
          "data": {
            "text/plain": [
              "461"
            ]
          },
          "metadata": {
            "tags": []
          },
          "execution_count": 50
        }
      ]
    },
    {
      "cell_type": "code",
      "metadata": {
        "id": "-oHGLfMgSzHO",
        "colab_type": "code",
        "outputId": "fff80e63-a27c-4a75-fee1-421ce1cbe681",
        "colab": {
          "base_uri": "https://localhost:8080/",
          "height": 33
        }
      },
      "source": [
        "music_reviews = len(sample.loc[sample['type'] =='Music'])\n",
        "music_reviews"
      ],
      "execution_count": 51,
      "outputs": [
        {
          "output_type": "execute_result",
          "data": {
            "text/plain": [
              "21"
            ]
          },
          "metadata": {
            "tags": []
          },
          "execution_count": 51
        }
      ]
    },
    {
      "cell_type": "code",
      "metadata": {
        "id": "gmNrTMyySzh6",
        "colab_type": "code",
        "outputId": "925a732a-59d5-4105-86a3-c1bbeaaa692e",
        "colab": {
          "base_uri": "https://localhost:8080/",
          "height": 33
        }
      },
      "source": [
        "ona_reviews = len(sample.loc[sample['type'] =='ONA'])\n",
        "ona_reviews"
      ],
      "execution_count": 52,
      "outputs": [
        {
          "output_type": "execute_result",
          "data": {
            "text/plain": [
              "46"
            ]
          },
          "metadata": {
            "tags": []
          },
          "execution_count": 52
        }
      ]
    },
    {
      "cell_type": "code",
      "metadata": {
        "id": "Q1GMel8HS0d1",
        "colab_type": "code",
        "outputId": "307cd665-acd3-45c1-d469-35ddbf4c5b6b",
        "colab": {
          "base_uri": "https://localhost:8080/",
          "height": 33
        }
      },
      "source": [
        "special_reviews = len(sample.loc[sample['type'] =='Special'])\n",
        "special_reviews"
      ],
      "execution_count": 53,
      "outputs": [
        {
          "output_type": "execute_result",
          "data": {
            "text/plain": [
              "314"
            ]
          },
          "metadata": {
            "tags": []
          },
          "execution_count": 53
        }
      ]
    },
    {
      "cell_type": "code",
      "metadata": {
        "id": "cWPp_Rp1TEkH",
        "colab_type": "code",
        "outputId": "45f156e4-c4da-4da0-dca6-933bd52736a6",
        "colab": {
          "base_uri": "https://localhost:8080/",
          "height": 636
        }
      },
      "source": [
        "# PLOT them \n",
        "fig = plt.figure(figsize=(12,10))\n",
        "sns.countplot(sample['type'], palette='gist_rainbow')\n",
        "plt.title(\"Most Viewed Anime\", fontsize=20)\n",
        "plt.xlabel(\"Types\", fontsize=20)\n",
        "plt.ylabel(\"Number of Views with Reviews\", fontsize = 20)\n",
        "plt.legend(sample['type'])\n",
        "plt.show()"
      ],
      "execution_count": 54,
      "outputs": [
        {
          "output_type": "display_data",
          "data": {
            "image/png": "[encoded data removed]",
            "text/plain": [
              "<Figure size 864x720 with 1 Axes>"
            ]
          },
          "metadata": {
            "tags": [],
            "needs_background": "light"
          }
        }
      ]
    },
    {
      "cell_type": "code",
      "metadata": {
        "id": "V8kDcAcanE9F",
        "colab_type": "code",
        "outputId": "a4497fde-0f33-48fd-cc1b-87377fe91a82",
        "colab": {
          "base_uri": "https://localhost:8080/",
          "height": 33
        }
      },
      "source": [
        "len(sample)"
      ],
      "execution_count": 55,
      "outputs": [
        {
          "output_type": "execute_result",
          "data": {
            "text/plain": [
              "5000"
            ]
          },
          "metadata": {
            "tags": []
          },
          "execution_count": 55
        }
      ]
    },
    {
      "cell_type": "markdown",
      "metadata": {
        "id": "9z9Z9lkwnE9H",
        "colab_type": "text"
      },
      "source": [
        "# Implementing a Surprise's Singular Value Decomposition (SVD) as a Baseline"
      ]
    },
    {
      "cell_type": "code",
      "metadata": {
        "id": "4a0xCAzwkQaF",
        "colab_type": "code",
        "outputId": "d87e8ee0-9f58-4e8d-9402-9fe7794c310b",
        "colab": {
          "base_uri": "https://localhost:8080/",
          "height": 189
        }
      },
      "source": [
        "sample.rating_x = sample.rating_x.apply(round)\n",
        "sample.head()"
      ],
      "execution_count": 56,
      "outputs": [
        {
          "output_type": "execute_result",
          "data": {
            "text/html": [
              "<div>\n",
              "<style scoped>\n",
              "    .dataframe tbody tr th:only-of-type {\n",
              "        vertical-align: middle;\n",
              "    }\n",
              "\n",
              "    .dataframe tbody tr th {\n",
              "        vertical-align: top;\n",
              "    }\n",
              "\n",
              "    .dataframe thead th {\n",
              "        text-align: right;\n",
              "    }\n",
              "</style>\n",
              "<table border=\"1\" class=\"dataframe\">\n",
              "  <thead>\n",
              "    <tr style=\"text-align: right;\">\n",
              "      <th></th>\n",
              "      <th>anime_id</th>\n",
              "      <th>name</th>\n",
              "      <th>genre</th>\n",
              "      <th>type</th>\n",
              "      <th>episodes</th>\n",
              "      <th>rating_x</th>\n",
              "      <th>members</th>\n",
              "      <th>user_id</th>\n",
              "      <th>rating_y</th>\n",
              "    </tr>\n",
              "  </thead>\n",
              "  <tbody>\n",
              "    <tr>\n",
              "      <th>1045611</th>\n",
              "      <td>6880</td>\n",
              "      <td>Deadman Wonderland</td>\n",
              "      <td>Action, Horror, Sci-Fi</td>\n",
              "      <td>TV</td>\n",
              "      <td>12</td>\n",
              "      <td>7</td>\n",
              "      <td>453454</td>\n",
              "      <td>4358</td>\n",
              "      <td>7</td>\n",
              "    </tr>\n",
              "    <tr>\n",
              "      <th>1578697</th>\n",
              "      <td>1816</td>\n",
              "      <td>Sonic X</td>\n",
              "      <td>Adventure, Comedy, Kids, Mecha, Sci-Fi, Shounen</td>\n",
              "      <td>TV</td>\n",
              "      <td>78</td>\n",
              "      <td>6</td>\n",
              "      <td>28296</td>\n",
              "      <td>14189</td>\n",
              "      <td>7</td>\n",
              "    </tr>\n",
              "    <tr>\n",
              "      <th>675624</th>\n",
              "      <td>8937</td>\n",
              "      <td>Toaru Majutsu no Index II</td>\n",
              "      <td>Action, Magic, Sci-Fi, Super Power</td>\n",
              "      <td>TV</td>\n",
              "      <td>24</td>\n",
              "      <td>7</td>\n",
              "      <td>184520</td>\n",
              "      <td>5910</td>\n",
              "      <td>7</td>\n",
              "    </tr>\n",
              "    <tr>\n",
              "      <th>555285</th>\n",
              "      <td>6033</td>\n",
              "      <td>Dragon Ball Kai</td>\n",
              "      <td>Action, Adventure, Comedy, Fantasy, Martial Ar...</td>\n",
              "      <td>TV</td>\n",
              "      <td>97</td>\n",
              "      <td>7</td>\n",
              "      <td>116832</td>\n",
              "      <td>6055</td>\n",
              "      <td>10</td>\n",
              "    </tr>\n",
              "    <tr>\n",
              "      <th>863527</th>\n",
              "      <td>8888</td>\n",
              "      <td>Code Geass: Boukoku no Akito 1 - Yokuryuu wa M...</td>\n",
              "      <td>Action, Mecha, Military, Sci-Fi</td>\n",
              "      <td>Movie</td>\n",
              "      <td>1</td>\n",
              "      <td>7</td>\n",
              "      <td>91105</td>\n",
              "      <td>15113</td>\n",
              "      <td>8</td>\n",
              "    </tr>\n",
              "  </tbody>\n",
              "</table>\n",
              "</div>"
            ],
            "text/plain": [
              "         anime_id  ... rating_y\n",
              "1045611      6880  ...        7\n",
              "1578697      1816  ...        7\n",
              "675624       8937  ...        7\n",
              "555285       6033  ...       10\n",
              "863527       8888  ...        8\n",
              "\n",
              "[5 rows x 9 columns]"
            ]
          },
          "metadata": {
            "tags": []
          },
          "execution_count": 56
        }
      ]
    },
    {
      "cell_type": "code",
      "metadata": {
        "id": "u3ctsBehnE9I",
        "colab_type": "code",
        "colab": {}
      },
      "source": [
        "#for surprise, it likes its data in a certain way and only that specific data\n",
        "data = sample[['user_id', 'anime_id', 'rating_x']] #may need to do rating_x rounded and then use rating_y\n",
        "reader = Reader(line_format='user item rating', sep='')\n",
        "anime_loaded_data = Dataset.load_from_df(data, reader)\n",
        "# anime_split = anime_loaded_data.split(n_folds=5) \n",
        "\n",
        "#train_test_split\n",
        "trainset, testset = train_test_split(anime_loaded_data, test_size=.2)"
      ],
      "execution_count": 0,
      "outputs": []
    },
    {
      "cell_type": "code",
      "metadata": {
        "id": "GL-WXAOv_BBw",
        "colab_type": "code",
        "outputId": "6ef0ca0a-5d0f-4b51-978e-61d291bba6c0",
        "colab": {
          "base_uri": "https://localhost:8080/",
          "height": 33
        }
      },
      "source": [
        "anime_loaded_data"
      ],
      "execution_count": 58,
      "outputs": [
        {
          "output_type": "execute_result",
          "data": {
            "text/plain": [
              "<surprise.dataset.DatasetAutoFolds at 0x7f3bc17f0470>"
            ]
          },
          "metadata": {
            "tags": []
          },
          "execution_count": 58
        }
      ]
    },
    {
      "cell_type": "code",
      "metadata": {
        "id": "1LrsZrU6nE9L",
        "colab_type": "code",
        "outputId": "634068fb-8746-4d41-ee5c-f9d0e58dcf22",
        "colab": {
          "base_uri": "https://localhost:8080/",
          "height": 33
        }
      },
      "source": [
        "#INSTANTIATE the SVD and fit only the train set\n",
        "svd = SVD()\n",
        "svd.fit(trainset)"
      ],
      "execution_count": 59,
      "outputs": [
        {
          "output_type": "execute_result",
          "data": {
            "text/plain": [
              "<surprise.prediction_algorithms.matrix_factorization.SVD at 0x7f3bbeb6b7f0>"
            ]
          },
          "metadata": {
            "tags": []
          },
          "execution_count": 59
        }
      ]
    },
    {
      "cell_type": "code",
      "metadata": {
        "id": "pd6fEbcmnE9T",
        "colab_type": "code",
        "outputId": "f7f7cf92-153e-4234-efb7-bb1fbb2a34a2",
        "colab": {
          "base_uri": "https://localhost:8080/",
          "height": 49
        }
      },
      "source": [
        "predictions = svd.test(testset) #\n",
        "accuracy.rmse(predictions)"
      ],
      "execution_count": 60,
      "outputs": [
        {
          "output_type": "stream",
          "text": [
            "RMSE: 2.3128\n"
          ],
          "name": "stdout"
        },
        {
          "output_type": "execute_result",
          "data": {
            "text/plain": [
              "2.3127905222911997"
            ]
          },
          "metadata": {
            "tags": []
          },
          "execution_count": 60
        }
      ]
    },
    {
      "cell_type": "code",
      "metadata": {
        "id": "xB6P_zDMnE9V",
        "colab_type": "code",
        "outputId": "71b24b4c-07d2-4bb3-ec12-ed606c6117fd",
        "colab": {
          "base_uri": "https://localhost:8080/",
          "height": 181
        }
      },
      "source": [
        "predictions[:10]"
      ],
      "execution_count": 174,
      "outputs": [
        {
          "output_type": "execute_result",
          "data": {
            "text/plain": [
              "[Prediction(uid=5645, iid=123, r_ui=7.0, est=7.187225226040684, details={'was_impossible': False}),\n",
              " Prediction(uid=1565, iid=6747, r_ui=7.0, est=7.201, details={'was_impossible': False}),\n",
              " Prediction(uid=13581, iid=8934, r_ui=7.0, est=7.060683999061783, details={'was_impossible': False}),\n",
              " Prediction(uid=7482, iid=246, r_ui=7.0, est=7.098125561464046, details={'was_impossible': False}),\n",
              " Prediction(uid=11635, iid=23325, r_ui=6.0, est=6.952613076664836, details={'was_impossible': False}),\n",
              " Prediction(uid=14939, iid=5114, r_ui=9.0, est=8.317383790854961, details={'was_impossible': False}),\n",
              " Prediction(uid=4862, iid=4182, r_ui=7.0, est=7.14048675180443, details={'was_impossible': False}),\n",
              " Prediction(uid=6466, iid=4162, r_ui=7.0, est=7.253283582153417, details={'was_impossible': False}),\n",
              " Prediction(uid=1132, iid=7817, r_ui=7.0, est=7.23432364747943, details={'was_impossible': False}),\n",
              " Prediction(uid=3211, iid=11135, r_ui=8.0, est=7.327013490501256, details={'was_impossible': False})]"
            ]
          },
          "metadata": {
            "tags": []
          },
          "execution_count": 174
        }
      ]
    },
    {
      "cell_type": "code",
      "metadata": {
        "id": "MdhR9mQUnE9Y",
        "colab_type": "code",
        "outputId": "7dae2856-146a-4fbb-b849-bbc10dabb2b0",
        "colab": {
          "base_uri": "https://localhost:8080/",
          "height": 49
        }
      },
      "source": [
        "print(\"Number of users:\", sample.user_id.nunique())\n",
        "print(\"Number of types of different anime:\", sample.type.nunique())\n"
      ],
      "execution_count": 175,
      "outputs": [
        {
          "output_type": "stream",
          "text": [
            "Number of users: 3381\n",
            "Number of types of different anime: 6\n"
          ],
          "name": "stdout"
        }
      ]
    },
    {
      "cell_type": "code",
      "metadata": {
        "id": "UEec0Gc7nE9f",
        "colab_type": "code",
        "outputId": "03cb9b71-fe03-43af-8f01-27750b00ccec",
        "colab": {
          "base_uri": "https://localhost:8080/",
          "height": 33
        }
      },
      "source": [
        "user = 5\n",
        "item = 100\n",
        "svd.predict(user, item)"
      ],
      "execution_count": 176,
      "outputs": [
        {
          "output_type": "execute_result",
          "data": {
            "text/plain": [
              "Prediction(uid=5, iid=100, r_ui=None, est=7.2003219778514, details={'was_impossible': False})"
            ]
          },
          "metadata": {
            "tags": []
          },
          "execution_count": 176
        }
      ]
    },
    {
      "cell_type": "markdown",
      "metadata": {
        "id": "-NLeL3oFnE9n",
        "colab_type": "text"
      },
      "source": [
        "Now I need to compare the different models and see which ones perform best. I will stick to using RMSE to evaluate the models. I will also cross validate. "
      ]
    },
    {
      "cell_type": "code",
      "metadata": {
        "id": "VHM0KQOlnE9o",
        "colab_type": "code",
        "outputId": "1c6c903e-8309-47db-c031-2cb46152045b",
        "colab": {
          "base_uri": "https://localhost:8080/",
          "height": 66
        }
      },
      "source": [
        "#perform a gridsearch CV\n",
        "params = {'n_factors': [20,50,100],\n",
        "         'reg_all': [.02,.05, .10]}\n",
        "gridsearch_svd1 = GridSearchCV(SVD, param_grid=params, n_jobs=-1, joblib_verbose=3)\n",
        "gridsearch_svd1.fit(anime_loaded_data)"
      ],
      "execution_count": 177,
      "outputs": [
        {
          "output_type": "stream",
          "text": [
            "[Parallel(n_jobs=-1)]: Using backend LokyBackend with 2 concurrent workers.\n",
            "[Parallel(n_jobs=-1)]: Done  28 tasks      | elapsed:    6.6s\n",
            "[Parallel(n_jobs=-1)]: Done  45 out of  45 | elapsed:   11.8s finished\n"
          ],
          "name": "stderr"
        }
      ]
    },
    {
      "cell_type": "code",
      "metadata": {
        "id": "x9D7uwWqnE9q",
        "colab_type": "code",
        "outputId": "8c1e2b32-193f-4af7-b216-9dfa9ac129b4",
        "colab": {
          "base_uri": "https://localhost:8080/",
          "height": 49
        }
      },
      "source": [
        "print(gridsearch_svd1.best_score)\n",
        "print(gridsearch_svd1.best_params)"
      ],
      "execution_count": 178,
      "outputs": [
        {
          "output_type": "stream",
          "text": [
            "{'rmse': 2.3178493254584693, 'mae': 2.2079999999999997}\n",
            "{'rmse': {'n_factors': 20, 'reg_all': 0.02}, 'mae': {'n_factors': 20, 'reg_all': 0.02}}\n"
          ],
          "name": "stdout"
        }
      ]
    },
    {
      "cell_type": "code",
      "metadata": {
        "id": "qNDwnuqQlv0J",
        "colab_type": "code",
        "colab": {
          "base_uri": "https://localhost:8080/",
          "height": 99
        },
        "outputId": "abf86bee-bf2e-41b6-865a-075e61540616"
      },
      "source": [
        "#perform a gridsearch CV\n",
        "params = {'n_factors': [20,50,100],\n",
        "         'reg_all': [.02,.05, .10]}\n",
        "gridsearch_svd1 = GridSearchCV(SVD, param_grid=params, n_jobs=-1, joblib_verbose=3)\n",
        "gridsearch_svd1.fit(anime_loaded_data)\n",
        "\n",
        "print(gridsearch_svd1.best_score)\n",
        "print(gridsearch_svd1.best_params)"
      ],
      "execution_count": 183,
      "outputs": [
        {
          "output_type": "stream",
          "text": [
            "[Parallel(n_jobs=-1)]: Using backend LokyBackend with 2 concurrent workers.\n",
            "[Parallel(n_jobs=-1)]: Done  28 tasks      | elapsed:    6.5s\n"
          ],
          "name": "stderr"
        },
        {
          "output_type": "stream",
          "text": [
            "{'rmse': 2.31781826464863, 'mae': 2.208}\n",
            "{'rmse': {'n_factors': 20, 'reg_all': 0.02}, 'mae': {'n_factors': 20, 'reg_all': 0.02}}\n"
          ],
          "name": "stdout"
        },
        {
          "output_type": "stream",
          "text": [
            "[Parallel(n_jobs=-1)]: Done  45 out of  45 | elapsed:   11.9s finished\n"
          ],
          "name": "stderr"
        }
      ]
    },
    {
      "cell_type": "markdown",
      "metadata": {
        "id": "BnrdTIPILcqC",
        "colab_type": "text"
      },
      "source": [
        "After performing gridsearch, the svd base model doesn't really reduce too much. Let's try another model"
      ]
    },
    {
      "cell_type": "code",
      "metadata": {
        "id": "dYxN9MGTk83u",
        "colab_type": "code",
        "colab": {
          "base_uri": "https://localhost:8080/",
          "height": 33
        },
        "outputId": "e73eb2d8-11c2-4255-b756-dd6d69292faf"
      },
      "source": [
        "anime_data"
      ],
      "execution_count": 184,
      "outputs": [
        {
          "output_type": "execute_result",
          "data": {
            "text/plain": [
              "<surprise.dataset.DatasetAutoFolds at 0x7f3bc1841438>"
            ]
          },
          "metadata": {
            "tags": []
          },
          "execution_count": 184
        }
      ]
    },
    {
      "cell_type": "code",
      "metadata": {
        "id": "zqL4tt72GQe5",
        "colab_type": "code",
        "outputId": "8a9705fb-ee0e-42c9-9287-7fd0bbe7e4c8",
        "colab": {
          "base_uri": "https://localhost:8080/",
          "height": 33
        }
      },
      "source": [
        "anime_loaded_data"
      ],
      "execution_count": 185,
      "outputs": [
        {
          "output_type": "execute_result",
          "data": {
            "text/plain": [
              "<surprise.dataset.DatasetAutoFolds at 0x7f3bc17f0470>"
            ]
          },
          "metadata": {
            "tags": []
          },
          "execution_count": 185
        }
      ]
    },
    {
      "cell_type": "markdown",
      "metadata": {
        "id": "P-lM8im2nE9z",
        "colab_type": "text"
      },
      "source": [
        "## Cross Validation with K-Nearest Neighbors (KNN) Basic Algorithm"
      ]
    },
    {
      "cell_type": "code",
      "metadata": {
        "id": "czGpCY-QnE91",
        "colab_type": "code",
        "colab": {}
      },
      "source": [
        "#cross validate with KNNBasic\n",
        "knn_basic = KNNBasic(sim_options={'name':'pearson', 'user_based':True}, verbose=True)\n",
        "cv_knn_basic = cross_validate(knn_basic, anime_loaded_data, n_jobs=2)"
      ],
      "execution_count": 0,
      "outputs": []
    },
    {
      "cell_type": "code",
      "metadata": {
        "id": "F9t6WpJL2USm",
        "colab_type": "code",
        "outputId": "4ed52cdf-d89d-4a1a-8842-176e4253fc75",
        "colab": {
          "base_uri": "https://localhost:8080/",
          "height": 115
        }
      },
      "source": [
        "for i in cv_knn_basic.items():\n",
        "    print(i)\n",
        "print('-----------------')\n",
        "print(np.mean(cv_knn_basic['test_rmse']))"
      ],
      "execution_count": 187,
      "outputs": [
        {
          "output_type": "stream",
          "text": [
            "('test_rmse', array([2.28298051, 2.33259512, 2.30824609, 2.34968083, 2.31559927]))\n",
            "('test_mae', array([2.164, 2.221, 2.196, 2.245, 2.214]))\n",
            "('fit_time', (0.5442705154418945, 0.6232876777648926, 0.6892454624176025, 0.5535554885864258, 0.3586440086364746))\n",
            "('test_time', (0.018333911895751953, 0.015497446060180664, 0.02903580665588379, 0.014833927154541016, 0.008383512496948242))\n",
            "-----------------\n",
            "2.3178203641229667\n"
          ],
          "name": "stdout"
        }
      ]
    },
    {
      "cell_type": "markdown",
      "metadata": {
        "id": "L5qCkyUELOIN",
        "colab_type": "text"
      },
      "source": [
        "*** This is not as good as the baseline***"
      ]
    },
    {
      "cell_type": "code",
      "metadata": {
        "id": "lfLPCcv8nE93",
        "colab_type": "code",
        "colab": {}
      },
      "source": [
        "knn_basic_msd = KNNBasic(sim_options = {'name': 'msd', 'user-based':True})\n",
        "cv_knn_basic_msd = cross_validate(knn_basic_msd, anime_loaded_data, n_jobs=2)"
      ],
      "execution_count": 0,
      "outputs": []
    },
    {
      "cell_type": "code",
      "metadata": {
        "id": "IsvfxOiXnE95",
        "colab_type": "code",
        "outputId": "4b16a918-020f-4003-bd89-f0daadbb600a",
        "colab": {
          "base_uri": "https://localhost:8080/",
          "height": 115
        }
      },
      "source": [
        "for i in cv_knn_basic_msd.items():\n",
        "    print(i)\n",
        "print('-----------------')\n",
        "print(np.mean(cv_knn_basic_msd['test_rmse']))"
      ],
      "execution_count": 190,
      "outputs": [
        {
          "output_type": "stream",
          "text": [
            "('test_rmse', array([2.32120658, 2.2901965 , 2.32744495, 2.33730614, 2.31322286]))\n",
            "('test_mae', array([2.214, 2.173, 2.223, 2.225, 2.205]))\n",
            "('fit_time', (0.3617210388183594, 0.5351762771606445, 0.40908050537109375, 0.38390278816223145, 0.24807429313659668))\n",
            "('test_time', (0.0367429256439209, 0.015245676040649414, 0.01483464241027832, 0.014261960983276367, 0.00860285758972168))\n",
            "-----------------\n",
            "2.31787540672289\n"
          ],
          "name": "stdout"
        }
      ]
    },
    {
      "cell_type": "markdown",
      "metadata": {
        "id": "j_r77pS4LiAW",
        "colab_type": "text"
      },
      "source": [
        "*** worse than the model above ***\n"
      ]
    },
    {
      "cell_type": "markdown",
      "metadata": {
        "id": "Nq4VKWZtnE98",
        "colab_type": "text"
      },
      "source": [
        "## Cross Validation with KNN Baseline"
      ]
    },
    {
      "cell_type": "code",
      "metadata": {
        "id": "Jd_R2dkNnE99",
        "colab_type": "code",
        "colab": {}
      },
      "source": [
        "#cross validate with KNN Baseline (pearson)\n",
        "knn_baseline = KNNBaseline(sim_options={'name': 'pearson', 'user_based':True})\n",
        "cv_knn_baseline = cross_validate(knn_baseline, anime_loaded_data, n_jobs=3)"
      ],
      "execution_count": 0,
      "outputs": []
    },
    {
      "cell_type": "code",
      "metadata": {
        "id": "6-jDbZDc3EHW",
        "colab_type": "code",
        "outputId": "44c4ec47-6d34-4685-c415-06e51c3e6f5c",
        "colab": {
          "base_uri": "https://localhost:8080/",
          "height": 115
        }
      },
      "source": [
        "for i in cv_knn_baseline.items():\n",
        "    print(i)\n",
        "print('-----------------')\n",
        "print(np.mean(cv_knn_baseline['test_rmse']))"
      ],
      "execution_count": 72,
      "outputs": [
        {
          "output_type": "stream",
          "text": [
            "('test_rmse', array([2.30282435, 2.32894826, 2.310844  , 2.3364503 , 2.31041122]))\n",
            "('test_mae', array([2.193, 2.224, 2.2  , 2.223, 2.2  ]))\n",
            "('fit_time', (0.5908441543579102, 0.8198719024658203, 0.8945608139038086, 0.9160377979278564, 0.6983006000518799))\n",
            "('test_time', (0.030097484588623047, 0.040361642837524414, 0.008629322052001953, 0.014376401901245117, 0.014079809188842773))\n",
            "-----------------\n",
            "2.317895626569356\n"
          ],
          "name": "stdout"
        }
      ]
    },
    {
      "cell_type": "markdown",
      "metadata": {
        "id": "bI9WY1rqLu5j",
        "colab_type": "text"
      },
      "source": [
        "*** **worse than the previous*** "
      ]
    },
    {
      "cell_type": "code",
      "metadata": {
        "id": "INk427JxQ6NF",
        "colab_type": "code",
        "colab": {}
      },
      "source": [
        "knn_baseline_msd = KNNBaseline(sim_options = {'name': 'msd', 'user_based': True})\n",
        "cv_knn_baseline_msd = cross_validate(knn_baseline_msd, anime_loaded_data, n_jobs =2)"
      ],
      "execution_count": 0,
      "outputs": []
    },
    {
      "cell_type": "code",
      "metadata": {
        "id": "tmd9Vtf5SMgW",
        "colab_type": "code",
        "outputId": "5c59faea-bf0c-4afe-c9fc-c02b74edfa25",
        "colab": {
          "base_uri": "https://localhost:8080/",
          "height": 115
        }
      },
      "source": [
        "for i in cv_knn_baseline_msd.items():\n",
        "  print(i)\n",
        "print('-------------------')\n",
        "print(np.mean(cv_knn_baseline_msd['test_rmse']))"
      ],
      "execution_count": 74,
      "outputs": [
        {
          "output_type": "stream",
          "text": [
            "('test_rmse', array([2.31905153, 2.32357483, 2.31711027, 2.31603109, 2.31387122]))\n",
            "('test_mae', array([2.214, 2.217, 2.199, 2.212, 2.198]))\n",
            "('fit_time', (0.4476633071899414, 0.4940371513366699, 0.4281952381134033, 0.4179375171661377, 0.262861967086792))\n",
            "('test_time', (0.028763294219970703, 0.02113652229309082, 0.021373748779296875, 0.013946056365966797, 0.008467435836791992))\n",
            "-------------------\n",
            "2.3179277869038595\n"
          ],
          "name": "stdout"
        }
      ]
    },
    {
      "cell_type": "markdown",
      "metadata": {
        "id": "FhqNA7M4LKXP",
        "colab_type": "text"
      },
      "source": [
        "*** Again, worse ***"
      ]
    },
    {
      "cell_type": "markdown",
      "metadata": {
        "id": "w0sTEu4PnE-A",
        "colab_type": "text"
      },
      "source": [
        "## Cross Validate with KNNBaseline using pearson baseline"
      ]
    },
    {
      "cell_type": "code",
      "metadata": {
        "id": "XUApxrARThBC",
        "colab_type": "code",
        "colab": {}
      },
      "source": [
        "knn_pearson_baseline = KNNBaseline(sim_options={'name': 'pearson_baseline', 'user_based':True})\n",
        "cv_knn_pearson_baseline = cross_validate(knn_pearson_baseline, anime_loaded_data, n_jobs=3)"
      ],
      "execution_count": 0,
      "outputs": []
    },
    {
      "cell_type": "code",
      "metadata": {
        "id": "Y5AyqnDMTnu1",
        "colab_type": "code",
        "outputId": "bd6312bf-edbd-4e6c-e007-e918c2611c91",
        "colab": {
          "base_uri": "https://localhost:8080/",
          "height": 115
        }
      },
      "source": [
        "for i in cv_knn_pearson_baseline.items():\n",
        "  print(i)\n",
        "print('-------------------')\n",
        "print(np.mean(cv_knn_pearson_baseline['test_rmse']))"
      ],
      "execution_count": 76,
      "outputs": [
        {
          "output_type": "stream",
          "text": [
            "('test_rmse', array([2.27705951, 2.34328829, 2.30911238, 2.34200769, 2.3175418 ]))\n",
            "('test_mae', array([2.157, 2.233, 2.196, 2.233, 2.221]))\n",
            "('fit_time', (0.8862941265106201, 1.602069616317749, 2.2175920009613037, 1.4239239692687988, 1.0559327602386475))\n",
            "('test_time', (0.08101725578308105, 0.05147218704223633, 0.01599884033203125, 0.12035799026489258, 0.031580209732055664))\n",
            "-------------------\n",
            "2.317801933128254\n"
          ],
          "name": "stdout"
        }
      ]
    },
    {
      "cell_type": "markdown",
      "metadata": {
        "id": "XiXOqpmCL-Vi",
        "colab_type": "text"
      },
      "source": [
        "*** hmmmm... it's reduced, but ever so slightly"
      ]
    },
    {
      "cell_type": "markdown",
      "metadata": {
        "id": "rKUymG4NULeY",
        "colab_type": "text"
      },
      "source": [
        "## KNN with Means "
      ]
    },
    {
      "cell_type": "code",
      "metadata": {
        "id": "ITdq6J1RUPWx",
        "colab_type": "code",
        "colab": {}
      },
      "source": [
        "knn_means = KNNWithMeans(sim_options={'name': 'pearson', 'user_based': True})\n",
        "cv_knn_means = cross_validate(knn_means, anime_loaded_data, n_jobs=3)"
      ],
      "execution_count": 0,
      "outputs": []
    },
    {
      "cell_type": "code",
      "metadata": {
        "id": "zXPB7MwgWFpF",
        "colab_type": "code",
        "outputId": "7745ef00-ce82-43f7-926e-d3c5b08888c9",
        "colab": {
          "base_uri": "https://localhost:8080/",
          "height": 115
        }
      },
      "source": [
        "for i in cv_knn_means.items():\n",
        "  print(i)\n",
        "print('------------')\n",
        "print(np.mean(cv_knn_means['test_rmse']))"
      ],
      "execution_count": 78,
      "outputs": [
        {
          "output_type": "stream",
          "text": [
            "('test_rmse', array([2.34733892, 2.3045607 , 2.32120658, 2.30152124, 2.31818895]))\n",
            "('test_mae', array([2.24 , 2.195, 2.204, 2.189, 2.216]))\n",
            "('fit_time', (1.6588828563690186, 1.8045940399169922, 2.5244863033294678, 1.5768804550170898, 0.8914098739624023))\n",
            "('test_time', (0.0427861213684082, 0.06458425521850586, 0.015047073364257812, 0.05032181739807129, 0.008994102478027344))\n",
            "------------\n",
            "2.3185632763331805\n"
          ],
          "name": "stdout"
        }
      ]
    },
    {
      "cell_type": "code",
      "metadata": {
        "id": "MlK-xFjHWIme",
        "colab_type": "code",
        "colab": {}
      },
      "source": [
        "knn_means_msd = KNNWithMeans(sim_options={'name': 'msd', 'user_based':True})\n",
        "cv_knn_means_msd = cross_validate(knn_means_msd, anime_loaded_data, n_jobs = 2)"
      ],
      "execution_count": 0,
      "outputs": []
    },
    {
      "cell_type": "code",
      "metadata": {
        "id": "wgQwNAVpWvxd",
        "colab_type": "code",
        "outputId": "469f74a1-096b-473a-98e3-53e75cb92f90",
        "colab": {
          "base_uri": "https://localhost:8080/",
          "height": 115
        }
      },
      "source": [
        "for i in cv_knn_means_msd.items():\n",
        "  print(i)\n",
        "print('-------------')\n",
        "print(np.mean(cv_knn_means_msd['test_rmse']))"
      ],
      "execution_count": 80,
      "outputs": [
        {
          "output_type": "stream",
          "text": [
            "('test_rmse', array([2.33173755, 2.30737947, 2.25876072, 2.34627364, 2.34606053]))\n",
            "('test_mae', array([2.215, 2.196, 2.146, 2.243, 2.242]))\n",
            "('fit_time', (0.45488929748535156, 0.5391595363616943, 0.4669616222381592, 0.43877696990966797, 0.2616548538208008))\n",
            "('test_time', (0.015708446502685547, 0.025160789489746094, 0.015264272689819336, 0.014622688293457031, 0.008856058120727539))\n",
            "-------------\n",
            "2.3180423813605566\n"
          ],
          "name": "stdout"
        }
      ]
    },
    {
      "cell_type": "markdown",
      "metadata": {
        "id": "htjUIhGTMY-h",
        "colab_type": "text"
      },
      "source": [
        "*** Not good, so far SVD Baseline is winning ***"
      ]
    },
    {
      "cell_type": "markdown",
      "metadata": {
        "id": "3PqAJcuNXIiX",
        "colab_type": "text"
      },
      "source": [
        "## Tuning the Best Algorithm with GridSearchCV\n",
        "Best model so far is KNNWithMeans with Mean Squared Distance"
      ]
    },
    {
      "cell_type": "code",
      "metadata": {
        "id": "sXz8F2wHXNBP",
        "colab_type": "code",
        "outputId": "8b7e52dc-6ea8-48c7-c282-98fbb9937087",
        "colab": {
          "base_uri": "https://localhost:8080/",
          "height": 66
        }
      },
      "source": [
        "param_grid = {'n_factors': [5, 20, 100], \n",
        "              'n_epochs': [5,10], \n",
        "              'lr_all': [.002, .005], \n",
        "              'reg_all': [.02, .05, .5]}\n",
        "svd_gs = GridSearchCV(SVD, param_grid=param_grid, n_jobs=3, joblib_verbose=3)\n",
        "svd_gs.fit(anime_loaded_data)"
      ],
      "execution_count": 193,
      "outputs": [
        {
          "output_type": "stream",
          "text": [
            "[Parallel(n_jobs=3)]: Using backend LokyBackend with 3 concurrent workers.\n",
            "[Parallel(n_jobs=3)]: Done  46 tasks      | elapsed:    6.6s\n",
            "[Parallel(n_jobs=3)]: Done 180 out of 180 | elapsed:   30.4s finished\n"
          ],
          "name": "stderr"
        }
      ]
    },
    {
      "cell_type": "code",
      "metadata": {
        "id": "q2IabmRkX5xZ",
        "colab_type": "code",
        "outputId": "26ae1f0c-2eea-4a6f-cc82-07403724dbf9",
        "colab": {
          "base_uri": "https://localhost:8080/",
          "height": 49
        }
      },
      "source": [
        "print(svd_gs.best_score)\n",
        "print(svd_gs.best_params)"
      ],
      "execution_count": 194,
      "outputs": [
        {
          "output_type": "stream",
          "text": [
            "{'rmse': 2.317775423867781, 'mae': 2.208}\n",
            "{'rmse': {'n_factors': 5, 'n_epochs': 5, 'lr_all': 0.002, 'reg_all': 0.02}, 'mae': {'n_factors': 5, 'n_epochs': 5, 'lr_all': 0.002, 'reg_all': 0.02}}\n"
          ],
          "name": "stdout"
        }
      ]
    },
    {
      "cell_type": "code",
      "metadata": {
        "id": "ftuslWl7X78D",
        "colab_type": "code",
        "colab": {}
      },
      "source": [
        "#Now use this to fit test set, initial gridsearch was 2.77096, so will use that gs here\n",
        "highest_perf_algo = gridsearch_svd1.best_estimator['rmse']"
      ],
      "execution_count": 0,
      "outputs": []
    },
    {
      "cell_type": "code",
      "metadata": {
        "id": "UM_woiDrX8NF",
        "colab_type": "code",
        "outputId": "d93d511a-b457-4690-dfdf-54bcfbbd412c",
        "colab": {
          "base_uri": "https://localhost:8080/",
          "height": 33
        }
      },
      "source": [
        "#retrain the whole set\n",
        "trainset = anime_loaded_data.build_full_trainset()\n",
        "highest_perf_algo.fit(trainset)"
      ],
      "execution_count": 196,
      "outputs": [
        {
          "output_type": "execute_result",
          "data": {
            "text/plain": [
              "<surprise.prediction_algorithms.matrix_factorization.SVD at 0x7f3bc05a9e80>"
            ]
          },
          "metadata": {
            "tags": []
          },
          "execution_count": 196
        }
      ]
    },
    {
      "cell_type": "code",
      "metadata": {
        "id": "zyob26pZZ_FK",
        "colab_type": "code",
        "outputId": "9710f216-21b7-4ad4-d491-d1ef7b046757",
        "colab": {
          "base_uri": "https://localhost:8080/",
          "height": 49
        }
      },
      "source": [
        "#Biased Accuracy on trainset\n",
        "predictions = highest_perf_algo.test(trainset.build_testset())\n",
        "print('Biased accuracy on Trainset', end='')\n",
        "accuracy.rmse(predictions)"
      ],
      "execution_count": 197,
      "outputs": [
        {
          "output_type": "stream",
          "text": [
            "Biased accuracy on TrainsetRMSE: 2.3179\n"
          ],
          "name": "stdout"
        },
        {
          "output_type": "execute_result",
          "data": {
            "text/plain": [
              "2.317930111112067"
            ]
          },
          "metadata": {
            "tags": []
          },
          "execution_count": 197
        }
      ]
    },
    {
      "cell_type": "code",
      "metadata": {
        "id": "qVADRznNZ_2s",
        "colab_type": "code",
        "outputId": "c1c1adbc-78df-4ab2-9244-016ea9fa49f6",
        "colab": {
          "base_uri": "https://localhost:8080/",
          "height": 49
        }
      },
      "source": [
        "#UnBiased Accuracy on testset\n",
        "predictions = highest_perf_algo.test(testset)\n",
        "print('Unbiased Accuracy on test', end='')\n",
        "accuracy.rmse(predictions)"
      ],
      "execution_count": 198,
      "outputs": [
        {
          "output_type": "stream",
          "text": [
            "Unbiased Accuracy on testRMSE: 2.3203\n"
          ],
          "name": "stdout"
        },
        {
          "output_type": "execute_result",
          "data": {
            "text/plain": [
              "2.3203448019637083"
            ]
          },
          "metadata": {
            "tags": []
          },
          "execution_count": 198
        }
      ]
    },
    {
      "cell_type": "markdown",
      "metadata": {
        "id": "WcDAQIxcNyA9",
        "colab_type": "text"
      },
      "source": [
        "*** Still not as good as baseline ***"
      ]
    },
    {
      "cell_type": "markdown",
      "metadata": {
        "id": "JHgNVmhJ4uTk",
        "colab_type": "text"
      },
      "source": [
        "# Collaborative Models"
      ]
    },
    {
      "cell_type": "code",
      "metadata": {
        "id": "WW50kuym4rGS",
        "colab_type": "code",
        "colab": {}
      },
      "source": [
        "class MyDataset(dataset.DatasetAutoFolds):\n",
        "  #surprise.dataset.DatasetAutoFolds creates a surprise friendly dataset\n",
        "  #this will give it folds so that cross validation can be performed efficiently\n",
        "  def __init__(self, sample, reader):\n",
        "    self.sample = [(uid, iid, r, None) for (uid, iid, r) in \n",
        "                   zip (sample['user_id'], sample['anime_id'], sample['rating_x'])]\n",
        "    self.reader = reader"
      ],
      "execution_count": 0,
      "outputs": []
    },
    {
      "cell_type": "code",
      "metadata": {
        "id": "1I5TmdbF4rSI",
        "colab_type": "code",
        "colab": {}
      },
      "source": [
        "# #instantiate the reader parser object\n",
        "#reader = Reader(line_format = 'user item rating', rating_scale = (0.0, 10.0))"
      ],
      "execution_count": 0,
      "outputs": []
    },
    {
      "cell_type": "code",
      "metadata": {
        "id": "OaA2fqQS4rcV",
        "colab_type": "code",
        "colab": {}
      },
      "source": [
        "# #parse sample set into a surprise friendly dataset\n",
        "#data = MyDataset(sample, reader)"
      ],
      "execution_count": 0,
      "outputs": []
    },
    {
      "cell_type": "code",
      "metadata": {
        "id": "O84FyspwrvZ2",
        "colab_type": "code",
        "colab": {}
      },
      "source": [
        "reader = Reader(line_format = 'user item rating', rating_scale = (0.0, 10.0))\n",
        "data = sample[['user_id', 'anime_id', 'rating_x']]\n",
        "anime_data = Dataset.load_from_df(data, reader)"
      ],
      "execution_count": 0,
      "outputs": []
    },
    {
      "cell_type": "code",
      "metadata": {
        "id": "FYOEyoGj7FBr",
        "colab_type": "code",
        "outputId": "9b9178fc-b54e-4ef9-ed6d-ba16142f419c",
        "colab": {
          "base_uri": "https://localhost:8080/",
          "height": 33
        }
      },
      "source": [
        "type(data)"
      ],
      "execution_count": 91,
      "outputs": [
        {
          "output_type": "execute_result",
          "data": {
            "text/plain": [
              "pandas.core.frame.DataFrame"
            ]
          },
          "metadata": {
            "tags": []
          },
          "execution_count": 91
        }
      ]
    },
    {
      "cell_type": "markdown",
      "metadata": {
        "id": "U84mcHh7W0B3",
        "colab_type": "text"
      },
      "source": [
        "# Train Validation Split"
      ]
    },
    {
      "cell_type": "code",
      "metadata": {
        "id": "NIDFfBZfrxkj",
        "colab_type": "code",
        "colab": {}
      },
      "source": [
        "trainset, testset = train_test_split(anime_data, test_size=.2)"
      ],
      "execution_count": 0,
      "outputs": []
    },
    {
      "cell_type": "markdown",
      "metadata": {
        "id": "swEKWiOhP5sL",
        "colab_type": "text"
      },
      "source": [
        "# Memory Based Knn Method"
      ]
    },
    {
      "cell_type": "markdown",
      "metadata": {
        "id": "JSk1rpsyR147",
        "colab_type": "text"
      },
      "source": [
        "## KNN Basic with cosine similarity"
      ]
    },
    {
      "cell_type": "code",
      "metadata": {
        "id": "2VNfsQ10yTjN",
        "colab_type": "code",
        "colab": {}
      },
      "source": [
        "#cosine similarity \n",
        "sim_cos = {'name': 'cosine', 'user_based':True}\n",
        "\n",
        "#instantiate the model with the similarity setting\n",
        "knn_sim_cos = knns.KNNBasic(sim_options=sim_cos)"
      ],
      "execution_count": 0,
      "outputs": []
    },
    {
      "cell_type": "code",
      "metadata": {
        "id": "x1YrCWVAyTq1",
        "colab_type": "code",
        "outputId": "e51b5d5b-7547-45e2-8b01-e3bcfafe30ca",
        "colab": {
          "base_uri": "https://localhost:8080/",
          "height": 165
        }
      },
      "source": [
        "# fit the model\n",
        "sim_cos_cv = cross_validate(knn_sim_cos, anime_loaded_data, measures=['rmse', 'mae'], cv=3,\n",
        "                            return_train_measures=True, n_jobs=3, verbose=True)"
      ],
      "execution_count": 94,
      "outputs": [
        {
          "output_type": "stream",
          "text": [
            "Evaluating RMSE, MAE of algorithm KNNBasic on 3 split(s).\n",
            "\n",
            "                  Fold 1  Fold 2  Fold 3  Mean    Std     \n",
            "RMSE (testset)    2.3268  2.3167  2.3103  2.3179  0.0068  \n",
            "MAE (testset)     2.2142  2.2094  2.2005  2.2080  0.0057  \n",
            "RMSE (trainset)   2.3119  2.3168  2.3205  2.3164  0.0035  \n",
            "MAE (trainset)    2.2010  2.2028  2.2082  2.2040  0.0030  \n",
            "Fit time          0.33    0.46    0.29    0.36    0.07    \n",
            "Test time         0.03    0.02    0.03    0.03    0.00    \n"
          ],
          "name": "stdout"
        }
      ]
    },
    {
      "cell_type": "markdown",
      "metadata": {
        "id": "wZS9eDbwZyAN",
        "colab_type": "text"
      },
      "source": [
        "*** "
      ]
    },
    {
      "cell_type": "markdown",
      "metadata": {
        "id": "CyUlUIHDb9EW",
        "colab_type": "text"
      },
      "source": [
        "### The test set is not great but not terribly bad. I am not sure why the train set is not showing up. "
      ]
    },
    {
      "cell_type": "markdown",
      "metadata": {
        "id": "qyoAWKO1XnOl",
        "colab_type": "text"
      },
      "source": [
        "## 2nd Model: KNN Basic (item based)"
      ]
    },
    {
      "cell_type": "code",
      "metadata": {
        "id": "l5-_dnNSyT1S",
        "colab_type": "code",
        "colab": {}
      },
      "source": [
        "#cosine similarity \n",
        "sim_cos = {'name': 'cosine', 'user_based': False}\n",
        "\n",
        "#instantiate the knnBasic with sim_cos settings\n",
        "knn_basic_simcos = knns.KNNBasic(sim_options=sim_cos)\n"
      ],
      "execution_count": 0,
      "outputs": []
    },
    {
      "cell_type": "code",
      "metadata": {
        "id": "WHD_Fu8myTyw",
        "colab_type": "code",
        "outputId": "c39f6f2c-f245-4e85-db12-c3c15ab003ff",
        "colab": {
          "base_uri": "https://localhost:8080/",
          "height": 165
        }
      },
      "source": [
        "#fit the model \n",
        "cv_knn_basic_simcos = cross_validate(knn_basic_simcos, anime_loaded_data, measures=['rmse', 'mae'], cv =3, return_train_measures=True, n_jobs=3, verbose=True)"
      ],
      "execution_count": 96,
      "outputs": [
        {
          "output_type": "stream",
          "text": [
            "Evaluating RMSE, MAE of algorithm KNNBasic on 3 split(s).\n",
            "\n",
            "                  Fold 1  Fold 2  Fold 3  Mean    Std     \n",
            "RMSE (testset)    2.2934  2.3189  2.3412  2.3179  0.0195  \n",
            "MAE (testset)     2.1848  2.2076  2.2317  2.2080  0.0192  \n",
            "RMSE (trainset)   2.3288  2.3167  2.3053  2.3170  0.0096  \n",
            "MAE (trainset)    2.2169  2.2067  2.1941  2.2059  0.0094  \n",
            "Fit time          0.11    0.12    0.09    0.11    0.01    \n",
            "Test time         0.02    0.03    0.01    0.02    0.01    \n"
          ],
          "name": "stdout"
        }
      ]
    },
    {
      "cell_type": "code",
      "metadata": {
        "id": "KszSZLcOyTv4",
        "colab_type": "code",
        "colab": {}
      },
      "source": [
        "#This one performed better than the last and the trainset is showing up. WOOH!"
      ],
      "execution_count": 0,
      "outputs": []
    },
    {
      "cell_type": "markdown",
      "metadata": {
        "id": "GogIlC2UdBuL",
        "colab_type": "text"
      },
      "source": [
        "##3rd Baseline Model: A user based pearson similarity using KNNBasline"
      ]
    },
    {
      "cell_type": "code",
      "metadata": {
        "id": "dA7jI1jE7E9h",
        "colab_type": "code",
        "colab": {}
      },
      "source": [
        "sim_pearson = {'name': 'pearson', 'user_based': True}\n",
        "\n",
        "#instantiate KNNBasline with pearson \n",
        "knn_baseline_pearson = knns.KNNBaseline(sim_options=sim_pearson)"
      ],
      "execution_count": 0,
      "outputs": []
    },
    {
      "cell_type": "code",
      "metadata": {
        "id": "61cuIDITdBQu",
        "colab_type": "code",
        "outputId": "2423d045-e6fa-4810-ff08-075e56774bfa",
        "colab": {
          "base_uri": "https://localhost:8080/",
          "height": 165
        }
      },
      "source": [
        "#fit and cross validate model \n",
        "cv_knnbaseline_simpearson = cross_validate(knn_baseline_pearson, anime_loaded_data, measures=['rmse', 'mae'], cv=3,\n",
        "                                           return_train_measures=True, n_jobs=2, verbose=True)"
      ],
      "execution_count": 99,
      "outputs": [
        {
          "output_type": "stream",
          "text": [
            "Evaluating RMSE, MAE of algorithm KNNBaseline on 3 split(s).\n",
            "\n",
            "                  Fold 1  Fold 2  Fold 3  Mean    Std     \n",
            "RMSE (testset)    2.3373  2.3084  2.3079  2.3179  0.0137  \n",
            "MAE (testset)     2.2274  2.1950  2.2017  2.2080  0.0140  \n",
            "RMSE (trainset)   2.3062  2.3210  2.3219  2.3164  0.0072  \n",
            "MAE (trainset)    2.1932  2.2103  2.2085  2.2040  0.0077  \n",
            "Fit time          0.43    0.50    0.35    0.43    0.06    \n",
            "Test time         0.05    0.02    0.01    0.03    0.02    \n"
          ],
          "name": "stdout"
        }
      ]
    },
    {
      "cell_type": "markdown",
      "metadata": {
        "id": "55I_IAJAeCCP",
        "colab_type": "text"
      },
      "source": [
        "## 4th Model: Item based pearson similarity using KNNBaseline"
      ]
    },
    {
      "cell_type": "code",
      "metadata": {
        "id": "kV3ZeGvweA9p",
        "colab_type": "code",
        "colab": {}
      },
      "source": [
        "sim_pearson = {'name':'pearson', 'user_based': False}\n",
        "\n",
        "#instantiate KNNBasline \n",
        "knn_baseline_item = knns.KNNBaseline(sim_options=sim_pearson)"
      ],
      "execution_count": 0,
      "outputs": []
    },
    {
      "cell_type": "code",
      "metadata": {
        "id": "6s_PCGYteBNO",
        "colab_type": "code",
        "outputId": "50a21dac-9187-4080-b13e-f62b3d004a23",
        "colab": {
          "base_uri": "https://localhost:8080/",
          "height": 165
        }
      },
      "source": [
        "#fit and cross validate\n",
        "cv_knnbaseline_item = cross_validate(knn_baseline_item, anime_loaded_data, measures=['rmse', 'mae'], cv=3, \n",
        "                                     return_train_measures=True, n_jobs=3, verbose=True)"
      ],
      "execution_count": 101,
      "outputs": [
        {
          "output_type": "stream",
          "text": [
            "Evaluating RMSE, MAE of algorithm KNNBaseline on 3 split(s).\n",
            "\n",
            "                  Fold 1  Fold 2  Fold 3  Mean    Std     \n",
            "RMSE (testset)    2.3206  2.2934  2.3396  2.3179  0.0189  \n",
            "MAE (testset)     2.2082  2.1848  2.2311  2.2080  0.0189  \n",
            "RMSE (trainset)   2.3144  2.3284  2.3063  2.3164  0.0091  \n",
            "MAE (trainset)    2.2025  2.2151  2.1944  2.2040  0.0085  \n",
            "Fit time          0.16    0.16    0.22    0.18    0.03    \n",
            "Test time         0.04    0.02    0.01    0.03    0.01    \n"
          ],
          "name": "stdout"
        }
      ]
    },
    {
      "cell_type": "markdown",
      "metadata": {
        "id": "QKhbNDhEfFiH",
        "colab_type": "text"
      },
      "source": [
        "## 5th Model: User based using KNNWithMeans with pearson "
      ]
    },
    {
      "cell_type": "code",
      "metadata": {
        "id": "vTBSUY7UeBXG",
        "colab_type": "code",
        "colab": {}
      },
      "source": [
        "sim_pearson = {'name': 'pearson', 'user_based': True}\n",
        "\n",
        "#instantiating KNNWithMeans\n",
        "knn_withmeans_user = knns.KNNWithMeans(sim_options=sim_pearson)"
      ],
      "execution_count": 0,
      "outputs": []
    },
    {
      "cell_type": "code",
      "metadata": {
        "id": "iJwZlGi5fbtl",
        "colab_type": "code",
        "outputId": "f7253636-f7c7-4f7f-af8c-0bed873b3f31",
        "colab": {
          "base_uri": "https://localhost:8080/",
          "height": 165
        }
      },
      "source": [
        "#fit and cross validate \n",
        "cv_knnwithmeans_user = cross_validate(knn_withmeans_user, anime_loaded_data, measures=['rmse','mae'], cv=3, return_train_measures=True, \n",
        "                                      n_jobs=3, verbose=True)"
      ],
      "execution_count": 103,
      "outputs": [
        {
          "output_type": "stream",
          "text": [
            "Evaluating RMSE, MAE of algorithm KNNWithMeans on 3 split(s).\n",
            "\n",
            "                  Fold 1  Fold 2  Fold 3  Mean    Std     \n",
            "RMSE (testset)    2.3207  2.3246  2.3084  2.3179  0.0069  \n",
            "MAE (testset)     2.2112  2.2148  2.1981  2.2080  0.0072  \n",
            "RMSE (trainset)   2.3158  2.3125  2.3208  2.3164  0.0034  \n",
            "MAE (trainset)    2.2040  2.1992  2.2088  2.2040  0.0039  \n",
            "Fit time          0.43    0.55    0.46    0.48    0.05    \n",
            "Test time         0.03    0.02    0.01    0.02    0.01    \n"
          ],
          "name": "stdout"
        }
      ]
    },
    {
      "cell_type": "markdown",
      "metadata": {
        "id": "Q0HqSemFN5Zy",
        "colab_type": "text"
      },
      "source": [
        "** These past couple of models have produced the same mean RMSE *** Not as good as the first model. "
      ]
    },
    {
      "cell_type": "markdown",
      "metadata": {
        "id": "T4vAso0xf4Hi",
        "colab_type": "text"
      },
      "source": [
        "## 6th Model: KNNWithMeans but item based"
      ]
    },
    {
      "cell_type": "code",
      "metadata": {
        "id": "MY4KjDsWf-h3",
        "colab_type": "code",
        "colab": {}
      },
      "source": [
        "sim_pearson = {'name': 'pearson', 'user_based':False}\n",
        "\n",
        "#instantiate \n",
        "knn_withmeans_item = knns.KNNWithMeans(sim_options=sim_pearson)\n"
      ],
      "execution_count": 0,
      "outputs": []
    },
    {
      "cell_type": "code",
      "metadata": {
        "id": "hc43Ggq7f-t8",
        "colab_type": "code",
        "outputId": "d53d396b-74bf-4e7f-a009-cf57c7411ae7",
        "colab": {
          "base_uri": "https://localhost:8080/",
          "height": 165
        }
      },
      "source": [
        "#fit and cross validate\n",
        "cv_knnwithmeans_item = cross_validate(knn_withmeans_item, anime_loaded_data, measures=['rmse', 'mae'], cv=3,\n",
        "                                      return_train_measures=True, n_jobs=3, verbose=True)"
      ],
      "execution_count": 105,
      "outputs": [
        {
          "output_type": "stream",
          "text": [
            "Evaluating RMSE, MAE of algorithm KNNWithMeans on 3 split(s).\n",
            "\n",
            "                  Fold 1  Fold 2  Fold 3  Mean    Std     \n",
            "RMSE (testset)    2.2972  2.3369  2.3190  2.3177  0.0162  \n",
            "MAE (testset)     2.1866  2.2268  2.2095  2.2076  0.0165  \n",
            "RMSE (trainset)   2.3263  2.3067  2.3161  2.3164  0.0080  \n",
            "MAE (trainset)    2.2139  2.1947  2.2034  2.2040  0.0079  \n",
            "Fit time          0.15    0.20    0.14    0.16    0.03    \n",
            "Test time         0.02    0.03    0.01    0.02    0.01    \n"
          ],
          "name": "stdout"
        }
      ]
    },
    {
      "cell_type": "markdown",
      "metadata": {
        "id": "rNNVKItUf_Gn",
        "colab_type": "text"
      },
      "source": [
        "#### The item based for pearson on the KNNWithMeans does not perform as well"
      ]
    },
    {
      "cell_type": "markdown",
      "metadata": {
        "id": "xip9EvPP--Vf",
        "colab_type": "text"
      },
      "source": [
        "## 7th Model, an didiontal SVD with hyperparameter tuning"
      ]
    },
    {
      "cell_type": "code",
      "metadata": {
        "id": "pXUUkcc1-ctP",
        "colab_type": "code",
        "colab": {}
      },
      "source": [
        "parag_grid = {'n_factors': [10, 20, 100],\n",
        "              'n_epochs':[5, 10, 20], \n",
        "              'lr_all': [.002, .005, .01],\n",
        "              'reg_all': [.2, .4, .5, .6]}\n",
        "grid_search = GridSearchCV(SVD, param_grid, measures=['rmse'], cv = 3, n_jobs = 3, return_train_measures=True)"
      ],
      "execution_count": 0,
      "outputs": []
    },
    {
      "cell_type": "code",
      "metadata": {
        "id": "ABZ1xVFD-9nl",
        "colab_type": "code",
        "colab": {
          "base_uri": "https://localhost:8080/",
          "height": 49
        },
        "outputId": "f425106f-5f95-43f6-a27c-42b1cdd2569a"
      },
      "source": [
        "\n",
        "print('Grid Search...')\n",
        "grid_search.fit(anime_loaded_data)\n",
        "grid_search.best_params"
      ],
      "execution_count": 107,
      "outputs": [
        {
          "output_type": "stream",
          "text": [
            "Grid Search...\n"
          ],
          "name": "stdout"
        },
        {
          "output_type": "execute_result",
          "data": {
            "text/plain": [
              "{'rmse': {'lr_all': 0.002, 'n_epochs': 5, 'n_factors': 5, 'reg_all': 0.02}}"
            ]
          },
          "metadata": {
            "tags": []
          },
          "execution_count": 107
        }
      ]
    },
    {
      "cell_type": "code",
      "metadata": {
        "id": "8OVH0bet_uxj",
        "colab_type": "code",
        "colab": {
          "base_uri": "https://localhost:8080/",
          "height": 49
        },
        "outputId": "65970880-3d19-496c-c840-a25fe360052f"
      },
      "source": [
        "print('mean train RMSE', grid_search.cv_results['mean_train_rmse'].mean())\n",
        "print('mean test RMSE', grid_search.cv_results['mean_test_rmse'].mean())"
      ],
      "execution_count": 108,
      "outputs": [
        {
          "output_type": "stream",
          "text": [
            "mean train RMSE 2.3179077930112064\n",
            "mean test RMSE 2.317840704180017\n"
          ],
          "name": "stdout"
        }
      ]
    },
    {
      "cell_type": "markdown",
      "metadata": {
        "id": "d-swWJpvg9hk",
        "colab_type": "text"
      },
      "source": [
        "## Alternating Least Squares"
      ]
    },
    {
      "cell_type": "markdown",
      "metadata": {
        "id": "IEe7MotMhC58",
        "colab_type": "text"
      },
      "source": [
        "## 8th Model with hyperparameter tuning"
      ]
    },
    {
      "cell_type": "code",
      "metadata": {
        "id": "RgDs7Lj5nrZy",
        "colab_type": "code",
        "colab": {}
      },
      "source": [
        "from surprise.prediction_algorithms import baseline_only\n",
        "from surprise import BaselineOnly"
      ],
      "execution_count": 0,
      "outputs": []
    },
    {
      "cell_type": "code",
      "metadata": {
        "id": "5CKoc6Obms3y",
        "colab_type": "code",
        "colab": {
          "base_uri": "https://localhost:8080/",
          "height": 33
        },
        "outputId": "aaca2678-fef9-4aff-b3e8-308e42188f70"
      },
      "source": [
        "print('Using ALS')\n",
        "bsl_options = {'method': 'als',\n",
        "               'n_epochs': [5],\n",
        "               'reg_u':[12],\n",
        "               'reg_i':[5]}\n",
        "#instantiate\n",
        "als_algo = baseline_only.BaselineOnly(bsl_options = bsl_options)"
      ],
      "execution_count": 110,
      "outputs": [
        {
          "output_type": "stream",
          "text": [
            "Using ALS\n"
          ],
          "name": "stdout"
        }
      ]
    },
    {
      "cell_type": "code",
      "metadata": {
        "id": "9tQupyVD9XCQ",
        "colab_type": "code",
        "outputId": "668416cb-0fc6-4e72-a466-b8effc8d172c",
        "colab": {
          "base_uri": "https://localhost:8080/",
          "height": 33
        }
      },
      "source": [
        "\n",
        "als_algo"
      ],
      "execution_count": 111,
      "outputs": [
        {
          "output_type": "execute_result",
          "data": {
            "text/plain": [
              "<surprise.prediction_algorithms.baseline_only.BaselineOnly at 0x7f3bc18d1160>"
            ]
          },
          "metadata": {
            "tags": []
          },
          "execution_count": 111
        }
      ]
    },
    {
      "cell_type": "code",
      "metadata": {
        "id": "1b0kQX7Un2GG",
        "colab_type": "code",
        "outputId": "ba4bdf5b-100a-475c-e0fe-e28e741a521c",
        "colab": {
          "base_uri": "https://localhost:8080/",
          "height": 763
        }
      },
      "source": [
        "#fit and cross validate\n",
        "\n",
        "cv_als = cross_validate(als_algo, \n",
        "                        anime_loaded_data, \n",
        "                        cv = 3, \n",
        "                        measures=['rmse'], \n",
        "                        return_train_measures=True,\n",
        "                        n_jobs = 3, \n",
        "                        verbose=2)"
      ],
      "execution_count": 114,
      "outputs": [
        {
          "output_type": "error",
          "ename": "TypeError",
          "evalue": "ignored",
          "traceback": [
            "\u001b[0;31m---------------------------------------------------------------------------\u001b[0m",
            "\u001b[0;31m_RemoteTraceback\u001b[0m                          Traceback (most recent call last)",
            "\u001b[0;31m_RemoteTraceback\u001b[0m: \n\"\"\"\nTraceback (most recent call last):\n  File \"/usr/local/lib/python3.6/dist-packages/joblib/externals/loky/process_executor.py\", line 431, in _process_worker\n    r = call_item()\n  File \"/usr/local/lib/python3.6/dist-packages/joblib/externals/loky/process_executor.py\", line 285, in __call__\n    return self.fn(*self.args, **self.kwargs)\n  File \"/usr/local/lib/python3.6/dist-packages/joblib/_parallel_backends.py\", line 593, in __call__\n    return self.func(*args, **kwargs)\n  File \"/usr/local/lib/python3.6/dist-packages/joblib/parallel.py\", line 253, in __call__\n    for func, args, kwargs in self.items]\n  File \"/usr/local/lib/python3.6/dist-packages/joblib/parallel.py\", line 253, in <listcomp>\n    for func, args, kwargs in self.items]\n  File \"/usr/local/lib/python3.6/dist-packages/surprise/model_selection/validation.py\", line 164, in fit_and_score\n    algo.fit(trainset)\n  File \"/usr/local/lib/python3.6/dist-packages/surprise/prediction_algorithms/baseline_only.py\", line 36, in fit\n    self.bu, self.bi = self.compute_baselines()\n  File \"/usr/local/lib/python3.6/dist-packages/surprise/prediction_algorithms/algo_base.py\", line 200, in compute_baselines\n    self.bu, self.bi = method[method_name](self)\n  File \"surprise/prediction_algorithms/optimize_baselines.pyx\", line 36, in surprise.prediction_algorithms.optimize_baselines.baseline_als\nTypeError: an integer is required\n\"\"\"",
            "\nThe above exception was the direct cause of the following exception:\n",
            "\u001b[0;31mTypeError\u001b[0m                                 Traceback (most recent call last)",
            "\u001b[0;32m<ipython-input-114-b959ad375c5c>\u001b[0m in \u001b[0;36m<module>\u001b[0;34m()\u001b[0m\n\u001b[1;32m      7\u001b[0m                         \u001b[0mreturn_train_measures\u001b[0m\u001b[0;34m=\u001b[0m\u001b[0;32mTrue\u001b[0m\u001b[0;34m,\u001b[0m\u001b[0;34m\u001b[0m\u001b[0;34m\u001b[0m\u001b[0m\n\u001b[1;32m      8\u001b[0m                         \u001b[0mn_jobs\u001b[0m \u001b[0;34m=\u001b[0m \u001b[0;36m3\u001b[0m\u001b[0;34m,\u001b[0m\u001b[0;34m\u001b[0m\u001b[0;34m\u001b[0m\u001b[0m\n\u001b[0;32m----> 9\u001b[0;31m                         verbose=2)\n\u001b[0m",
            "\u001b[0;32m/usr/local/lib/python3.6/dist-packages/surprise/model_selection/validation.py\u001b[0m in \u001b[0;36mcross_validate\u001b[0;34m(algo, data, measures, cv, return_train_measures, n_jobs, pre_dispatch, verbose)\u001b[0m\n\u001b[1;32m     99\u001b[0m                                            return_train_measures)\n\u001b[1;32m    100\u001b[0m                     for (trainset, testset) in cv.split(data))\n\u001b[0;32m--> 101\u001b[0;31m     \u001b[0mout\u001b[0m \u001b[0;34m=\u001b[0m \u001b[0mParallel\u001b[0m\u001b[0;34m(\u001b[0m\u001b[0mn_jobs\u001b[0m\u001b[0;34m=\u001b[0m\u001b[0mn_jobs\u001b[0m\u001b[0;34m,\u001b[0m \u001b[0mpre_dispatch\u001b[0m\u001b[0;34m=\u001b[0m\u001b[0mpre_dispatch\u001b[0m\u001b[0;34m)\u001b[0m\u001b[0;34m(\u001b[0m\u001b[0mdelayed_list\u001b[0m\u001b[0;34m)\u001b[0m\u001b[0;34m\u001b[0m\u001b[0;34m\u001b[0m\u001b[0m\n\u001b[0m\u001b[1;32m    102\u001b[0m \u001b[0;34m\u001b[0m\u001b[0m\n\u001b[1;32m    103\u001b[0m     (test_measures_dicts,\n",
            "\u001b[0;32m/usr/local/lib/python3.6/dist-packages/joblib/parallel.py\u001b[0m in \u001b[0;36m__call__\u001b[0;34m(self, iterable)\u001b[0m\n\u001b[1;32m   1040\u001b[0m \u001b[0;34m\u001b[0m\u001b[0m\n\u001b[1;32m   1041\u001b[0m             \u001b[0;32mwith\u001b[0m \u001b[0mself\u001b[0m\u001b[0;34m.\u001b[0m\u001b[0m_backend\u001b[0m\u001b[0;34m.\u001b[0m\u001b[0mretrieval_context\u001b[0m\u001b[0;34m(\u001b[0m\u001b[0;34m)\u001b[0m\u001b[0;34m:\u001b[0m\u001b[0;34m\u001b[0m\u001b[0;34m\u001b[0m\u001b[0m\n\u001b[0;32m-> 1042\u001b[0;31m                 \u001b[0mself\u001b[0m\u001b[0;34m.\u001b[0m\u001b[0mretrieve\u001b[0m\u001b[0;34m(\u001b[0m\u001b[0;34m)\u001b[0m\u001b[0;34m\u001b[0m\u001b[0;34m\u001b[0m\u001b[0m\n\u001b[0m\u001b[1;32m   1043\u001b[0m             \u001b[0;31m# Make sure that we get a last message telling us we are done\u001b[0m\u001b[0;34m\u001b[0m\u001b[0;34m\u001b[0m\u001b[0;34m\u001b[0m\u001b[0m\n\u001b[1;32m   1044\u001b[0m             \u001b[0melapsed_time\u001b[0m \u001b[0;34m=\u001b[0m \u001b[0mtime\u001b[0m\u001b[0;34m.\u001b[0m\u001b[0mtime\u001b[0m\u001b[0;34m(\u001b[0m\u001b[0;34m)\u001b[0m \u001b[0;34m-\u001b[0m \u001b[0mself\u001b[0m\u001b[0;34m.\u001b[0m\u001b[0m_start_time\u001b[0m\u001b[0;34m\u001b[0m\u001b[0;34m\u001b[0m\u001b[0m\n",
            "\u001b[0;32m/usr/local/lib/python3.6/dist-packages/joblib/parallel.py\u001b[0m in \u001b[0;36mretrieve\u001b[0;34m(self)\u001b[0m\n\u001b[1;32m    919\u001b[0m             \u001b[0;32mtry\u001b[0m\u001b[0;34m:\u001b[0m\u001b[0;34m\u001b[0m\u001b[0;34m\u001b[0m\u001b[0m\n\u001b[1;32m    920\u001b[0m                 \u001b[0;32mif\u001b[0m \u001b[0mgetattr\u001b[0m\u001b[0;34m(\u001b[0m\u001b[0mself\u001b[0m\u001b[0;34m.\u001b[0m\u001b[0m_backend\u001b[0m\u001b[0;34m,\u001b[0m \u001b[0;34m'supports_timeout'\u001b[0m\u001b[0;34m,\u001b[0m \u001b[0;32mFalse\u001b[0m\u001b[0;34m)\u001b[0m\u001b[0;34m:\u001b[0m\u001b[0;34m\u001b[0m\u001b[0;34m\u001b[0m\u001b[0m\n\u001b[0;32m--> 921\u001b[0;31m                     \u001b[0mself\u001b[0m\u001b[0;34m.\u001b[0m\u001b[0m_output\u001b[0m\u001b[0;34m.\u001b[0m\u001b[0mextend\u001b[0m\u001b[0;34m(\u001b[0m\u001b[0mjob\u001b[0m\u001b[0;34m.\u001b[0m\u001b[0mget\u001b[0m\u001b[0;34m(\u001b[0m\u001b[0mtimeout\u001b[0m\u001b[0;34m=\u001b[0m\u001b[0mself\u001b[0m\u001b[0;34m.\u001b[0m\u001b[0mtimeout\u001b[0m\u001b[0;34m)\u001b[0m\u001b[0;34m)\u001b[0m\u001b[0;34m\u001b[0m\u001b[0;34m\u001b[0m\u001b[0m\n\u001b[0m\u001b[1;32m    922\u001b[0m                 \u001b[0;32melse\u001b[0m\u001b[0;34m:\u001b[0m\u001b[0;34m\u001b[0m\u001b[0;34m\u001b[0m\u001b[0m\n\u001b[1;32m    923\u001b[0m                     \u001b[0mself\u001b[0m\u001b[0;34m.\u001b[0m\u001b[0m_output\u001b[0m\u001b[0;34m.\u001b[0m\u001b[0mextend\u001b[0m\u001b[0;34m(\u001b[0m\u001b[0mjob\u001b[0m\u001b[0;34m.\u001b[0m\u001b[0mget\u001b[0m\u001b[0;34m(\u001b[0m\u001b[0;34m)\u001b[0m\u001b[0;34m)\u001b[0m\u001b[0;34m\u001b[0m\u001b[0;34m\u001b[0m\u001b[0m\n",
            "\u001b[0;32m/usr/local/lib/python3.6/dist-packages/joblib/_parallel_backends.py\u001b[0m in \u001b[0;36mwrap_future_result\u001b[0;34m(future, timeout)\u001b[0m\n\u001b[1;32m    538\u001b[0m         AsyncResults.get from multiprocessing.\"\"\"\n\u001b[1;32m    539\u001b[0m         \u001b[0;32mtry\u001b[0m\u001b[0;34m:\u001b[0m\u001b[0;34m\u001b[0m\u001b[0;34m\u001b[0m\u001b[0m\n\u001b[0;32m--> 540\u001b[0;31m             \u001b[0;32mreturn\u001b[0m \u001b[0mfuture\u001b[0m\u001b[0;34m.\u001b[0m\u001b[0mresult\u001b[0m\u001b[0;34m(\u001b[0m\u001b[0mtimeout\u001b[0m\u001b[0;34m=\u001b[0m\u001b[0mtimeout\u001b[0m\u001b[0;34m)\u001b[0m\u001b[0;34m\u001b[0m\u001b[0;34m\u001b[0m\u001b[0m\n\u001b[0m\u001b[1;32m    541\u001b[0m         \u001b[0;32mexcept\u001b[0m \u001b[0mCfTimeoutError\u001b[0m\u001b[0;34m:\u001b[0m\u001b[0;34m\u001b[0m\u001b[0;34m\u001b[0m\u001b[0m\n\u001b[1;32m    542\u001b[0m             \u001b[0;32mraise\u001b[0m \u001b[0mTimeoutError\u001b[0m\u001b[0;34m(\u001b[0m\u001b[0;34m)\u001b[0m\u001b[0;34m\u001b[0m\u001b[0;34m\u001b[0m\u001b[0m\n",
            "\u001b[0;32m/usr/lib/python3.6/concurrent/futures/_base.py\u001b[0m in \u001b[0;36mresult\u001b[0;34m(self, timeout)\u001b[0m\n\u001b[1;32m    430\u001b[0m                 \u001b[0;32mraise\u001b[0m \u001b[0mCancelledError\u001b[0m\u001b[0;34m(\u001b[0m\u001b[0;34m)\u001b[0m\u001b[0;34m\u001b[0m\u001b[0;34m\u001b[0m\u001b[0m\n\u001b[1;32m    431\u001b[0m             \u001b[0;32melif\u001b[0m \u001b[0mself\u001b[0m\u001b[0;34m.\u001b[0m\u001b[0m_state\u001b[0m \u001b[0;34m==\u001b[0m \u001b[0mFINISHED\u001b[0m\u001b[0;34m:\u001b[0m\u001b[0;34m\u001b[0m\u001b[0;34m\u001b[0m\u001b[0m\n\u001b[0;32m--> 432\u001b[0;31m                 \u001b[0;32mreturn\u001b[0m \u001b[0mself\u001b[0m\u001b[0;34m.\u001b[0m\u001b[0m__get_result\u001b[0m\u001b[0;34m(\u001b[0m\u001b[0;34m)\u001b[0m\u001b[0;34m\u001b[0m\u001b[0;34m\u001b[0m\u001b[0m\n\u001b[0m\u001b[1;32m    433\u001b[0m             \u001b[0;32melse\u001b[0m\u001b[0;34m:\u001b[0m\u001b[0;34m\u001b[0m\u001b[0;34m\u001b[0m\u001b[0m\n\u001b[1;32m    434\u001b[0m                 \u001b[0;32mraise\u001b[0m \u001b[0mTimeoutError\u001b[0m\u001b[0;34m(\u001b[0m\u001b[0;34m)\u001b[0m\u001b[0;34m\u001b[0m\u001b[0;34m\u001b[0m\u001b[0m\n",
            "\u001b[0;32m/usr/lib/python3.6/concurrent/futures/_base.py\u001b[0m in \u001b[0;36m__get_result\u001b[0;34m(self)\u001b[0m\n\u001b[1;32m    382\u001b[0m     \u001b[0;32mdef\u001b[0m \u001b[0m__get_result\u001b[0m\u001b[0;34m(\u001b[0m\u001b[0mself\u001b[0m\u001b[0;34m)\u001b[0m\u001b[0;34m:\u001b[0m\u001b[0;34m\u001b[0m\u001b[0;34m\u001b[0m\u001b[0m\n\u001b[1;32m    383\u001b[0m         \u001b[0;32mif\u001b[0m \u001b[0mself\u001b[0m\u001b[0;34m.\u001b[0m\u001b[0m_exception\u001b[0m\u001b[0;34m:\u001b[0m\u001b[0;34m\u001b[0m\u001b[0;34m\u001b[0m\u001b[0m\n\u001b[0;32m--> 384\u001b[0;31m             \u001b[0;32mraise\u001b[0m \u001b[0mself\u001b[0m\u001b[0;34m.\u001b[0m\u001b[0m_exception\u001b[0m\u001b[0;34m\u001b[0m\u001b[0;34m\u001b[0m\u001b[0m\n\u001b[0m\u001b[1;32m    385\u001b[0m         \u001b[0;32melse\u001b[0m\u001b[0;34m:\u001b[0m\u001b[0;34m\u001b[0m\u001b[0;34m\u001b[0m\u001b[0m\n\u001b[1;32m    386\u001b[0m             \u001b[0;32mreturn\u001b[0m \u001b[0mself\u001b[0m\u001b[0;34m.\u001b[0m\u001b[0m_result\u001b[0m\u001b[0;34m\u001b[0m\u001b[0;34m\u001b[0m\u001b[0m\n",
            "\u001b[0;31mTypeError\u001b[0m: an integer is required"
          ]
        }
      ]
    },
    {
      "cell_type": "code",
      "metadata": {
        "id": "C9Fy03HlgvJY",
        "colab_type": "code",
        "colab": {
          "base_uri": "https://localhost:8080/",
          "height": 33
        },
        "outputId": "191d08ea-ed80-414d-fab3-3cf5edccf807"
      },
      "source": [
        "# create parameter permutations\n",
        "epochs = [3, 5, 10, 20]\n",
        "reg_u = [5, 10, 12, 15, 20]\n",
        "reg_i = [3, 5, 10, 15]\n",
        "\n",
        "params = [[i, j, k] for i in epochs\n",
        "          for j in reg_u\n",
        "          for k in reg_i]\n",
        "print('Number of grid search permutation:', len(params))\n"
      ],
      "execution_count": 115,
      "outputs": [
        {
          "output_type": "stream",
          "text": [
            "Number of grid search permutation: 80\n"
          ],
          "name": "stdout"
        }
      ]
    },
    {
      "cell_type": "code",
      "metadata": {
        "id": "UPDAGKf8gve6",
        "colab_type": "code",
        "colab": {}
      },
      "source": [
        "baseline_options_score = {}\n",
        "\n",
        "for bsl_perm in params: \n",
        "  basline_options = {'method': 'als',\n",
        "                     'n_epochs': bsl_perm[0],\n",
        "                     'reg_u': bsl_perm[1],\n",
        "                     'reg_i': bsl_perm[2]}\n",
        "  #instantiate\n",
        "  algo = baseline_only.BaselineOnly(bsl_options=bsl_options)\n",
        "\n"
      ],
      "execution_count": 0,
      "outputs": []
    },
    {
      "cell_type": "code",
      "metadata": {
        "id": "bY39Y4ibtbC1",
        "colab_type": "code",
        "colab": {
          "base_uri": "https://localhost:8080/",
          "height": 763
        },
        "outputId": "33c8cb67-c52c-4be2-c94a-9a3e06750584"
      },
      "source": [
        "  #fit and cross validate\n",
        "cv_algo = cross_validate(algo, anime_loaded_data, measures=['rmse'], cv=3, return_train_measures=True, n_jobs = 3, verbose=True);\n",
        " "
      ],
      "execution_count": 117,
      "outputs": [
        {
          "output_type": "error",
          "ename": "TypeError",
          "evalue": "ignored",
          "traceback": [
            "\u001b[0;31m---------------------------------------------------------------------------\u001b[0m",
            "\u001b[0;31m_RemoteTraceback\u001b[0m                          Traceback (most recent call last)",
            "\u001b[0;31m_RemoteTraceback\u001b[0m: \n\"\"\"\nTraceback (most recent call last):\n  File \"/usr/local/lib/python3.6/dist-packages/joblib/externals/loky/process_executor.py\", line 431, in _process_worker\n    r = call_item()\n  File \"/usr/local/lib/python3.6/dist-packages/joblib/externals/loky/process_executor.py\", line 285, in __call__\n    return self.fn(*self.args, **self.kwargs)\n  File \"/usr/local/lib/python3.6/dist-packages/joblib/_parallel_backends.py\", line 593, in __call__\n    return self.func(*args, **kwargs)\n  File \"/usr/local/lib/python3.6/dist-packages/joblib/parallel.py\", line 253, in __call__\n    for func, args, kwargs in self.items]\n  File \"/usr/local/lib/python3.6/dist-packages/joblib/parallel.py\", line 253, in <listcomp>\n    for func, args, kwargs in self.items]\n  File \"/usr/local/lib/python3.6/dist-packages/surprise/model_selection/validation.py\", line 164, in fit_and_score\n    algo.fit(trainset)\n  File \"/usr/local/lib/python3.6/dist-packages/surprise/prediction_algorithms/baseline_only.py\", line 36, in fit\n    self.bu, self.bi = self.compute_baselines()\n  File \"/usr/local/lib/python3.6/dist-packages/surprise/prediction_algorithms/algo_base.py\", line 200, in compute_baselines\n    self.bu, self.bi = method[method_name](self)\n  File \"surprise/prediction_algorithms/optimize_baselines.pyx\", line 36, in surprise.prediction_algorithms.optimize_baselines.baseline_als\nTypeError: an integer is required\n\"\"\"",
            "\nThe above exception was the direct cause of the following exception:\n",
            "\u001b[0;31mTypeError\u001b[0m                                 Traceback (most recent call last)",
            "\u001b[0;32m<ipython-input-117-40b8f707a474>\u001b[0m in \u001b[0;36m<module>\u001b[0;34m()\u001b[0m\n\u001b[1;32m      1\u001b[0m \u001b[0;31m#fit and cross validate\u001b[0m\u001b[0;34m\u001b[0m\u001b[0;34m\u001b[0m\u001b[0;34m\u001b[0m\u001b[0m\n\u001b[0;32m----> 2\u001b[0;31m \u001b[0mcv_algo\u001b[0m \u001b[0;34m=\u001b[0m \u001b[0mcross_validate\u001b[0m\u001b[0;34m(\u001b[0m\u001b[0malgo\u001b[0m\u001b[0;34m,\u001b[0m \u001b[0manime_loaded_data\u001b[0m\u001b[0;34m,\u001b[0m \u001b[0mmeasures\u001b[0m\u001b[0;34m=\u001b[0m\u001b[0;34m[\u001b[0m\u001b[0;34m'rmse'\u001b[0m\u001b[0;34m]\u001b[0m\u001b[0;34m,\u001b[0m \u001b[0mcv\u001b[0m\u001b[0;34m=\u001b[0m\u001b[0;36m3\u001b[0m\u001b[0;34m,\u001b[0m \u001b[0mreturn_train_measures\u001b[0m\u001b[0;34m=\u001b[0m\u001b[0;32mTrue\u001b[0m\u001b[0;34m,\u001b[0m \u001b[0mn_jobs\u001b[0m \u001b[0;34m=\u001b[0m \u001b[0;36m3\u001b[0m\u001b[0;34m,\u001b[0m \u001b[0mverbose\u001b[0m\u001b[0;34m=\u001b[0m\u001b[0;32mTrue\u001b[0m\u001b[0;34m)\u001b[0m\u001b[0;34m;\u001b[0m\u001b[0;34m\u001b[0m\u001b[0;34m\u001b[0m\u001b[0m\n\u001b[0m\u001b[1;32m      3\u001b[0m \u001b[0;34m\u001b[0m\u001b[0m\n",
            "\u001b[0;32m/usr/local/lib/python3.6/dist-packages/surprise/model_selection/validation.py\u001b[0m in \u001b[0;36mcross_validate\u001b[0;34m(algo, data, measures, cv, return_train_measures, n_jobs, pre_dispatch, verbose)\u001b[0m\n\u001b[1;32m     99\u001b[0m                                            return_train_measures)\n\u001b[1;32m    100\u001b[0m                     for (trainset, testset) in cv.split(data))\n\u001b[0;32m--> 101\u001b[0;31m     \u001b[0mout\u001b[0m \u001b[0;34m=\u001b[0m \u001b[0mParallel\u001b[0m\u001b[0;34m(\u001b[0m\u001b[0mn_jobs\u001b[0m\u001b[0;34m=\u001b[0m\u001b[0mn_jobs\u001b[0m\u001b[0;34m,\u001b[0m \u001b[0mpre_dispatch\u001b[0m\u001b[0;34m=\u001b[0m\u001b[0mpre_dispatch\u001b[0m\u001b[0;34m)\u001b[0m\u001b[0;34m(\u001b[0m\u001b[0mdelayed_list\u001b[0m\u001b[0;34m)\u001b[0m\u001b[0;34m\u001b[0m\u001b[0;34m\u001b[0m\u001b[0m\n\u001b[0m\u001b[1;32m    102\u001b[0m \u001b[0;34m\u001b[0m\u001b[0m\n\u001b[1;32m    103\u001b[0m     (test_measures_dicts,\n",
            "\u001b[0;32m/usr/local/lib/python3.6/dist-packages/joblib/parallel.py\u001b[0m in \u001b[0;36m__call__\u001b[0;34m(self, iterable)\u001b[0m\n\u001b[1;32m   1040\u001b[0m \u001b[0;34m\u001b[0m\u001b[0m\n\u001b[1;32m   1041\u001b[0m             \u001b[0;32mwith\u001b[0m \u001b[0mself\u001b[0m\u001b[0;34m.\u001b[0m\u001b[0m_backend\u001b[0m\u001b[0;34m.\u001b[0m\u001b[0mretrieval_context\u001b[0m\u001b[0;34m(\u001b[0m\u001b[0;34m)\u001b[0m\u001b[0;34m:\u001b[0m\u001b[0;34m\u001b[0m\u001b[0;34m\u001b[0m\u001b[0m\n\u001b[0;32m-> 1042\u001b[0;31m                 \u001b[0mself\u001b[0m\u001b[0;34m.\u001b[0m\u001b[0mretrieve\u001b[0m\u001b[0;34m(\u001b[0m\u001b[0;34m)\u001b[0m\u001b[0;34m\u001b[0m\u001b[0;34m\u001b[0m\u001b[0m\n\u001b[0m\u001b[1;32m   1043\u001b[0m             \u001b[0;31m# Make sure that we get a last message telling us we are done\u001b[0m\u001b[0;34m\u001b[0m\u001b[0;34m\u001b[0m\u001b[0;34m\u001b[0m\u001b[0m\n\u001b[1;32m   1044\u001b[0m             \u001b[0melapsed_time\u001b[0m \u001b[0;34m=\u001b[0m \u001b[0mtime\u001b[0m\u001b[0;34m.\u001b[0m\u001b[0mtime\u001b[0m\u001b[0;34m(\u001b[0m\u001b[0;34m)\u001b[0m \u001b[0;34m-\u001b[0m \u001b[0mself\u001b[0m\u001b[0;34m.\u001b[0m\u001b[0m_start_time\u001b[0m\u001b[0;34m\u001b[0m\u001b[0;34m\u001b[0m\u001b[0m\n",
            "\u001b[0;32m/usr/local/lib/python3.6/dist-packages/joblib/parallel.py\u001b[0m in \u001b[0;36mretrieve\u001b[0;34m(self)\u001b[0m\n\u001b[1;32m    919\u001b[0m             \u001b[0;32mtry\u001b[0m\u001b[0;34m:\u001b[0m\u001b[0;34m\u001b[0m\u001b[0;34m\u001b[0m\u001b[0m\n\u001b[1;32m    920\u001b[0m                 \u001b[0;32mif\u001b[0m \u001b[0mgetattr\u001b[0m\u001b[0;34m(\u001b[0m\u001b[0mself\u001b[0m\u001b[0;34m.\u001b[0m\u001b[0m_backend\u001b[0m\u001b[0;34m,\u001b[0m \u001b[0;34m'supports_timeout'\u001b[0m\u001b[0;34m,\u001b[0m \u001b[0;32mFalse\u001b[0m\u001b[0;34m)\u001b[0m\u001b[0;34m:\u001b[0m\u001b[0;34m\u001b[0m\u001b[0;34m\u001b[0m\u001b[0m\n\u001b[0;32m--> 921\u001b[0;31m                     \u001b[0mself\u001b[0m\u001b[0;34m.\u001b[0m\u001b[0m_output\u001b[0m\u001b[0;34m.\u001b[0m\u001b[0mextend\u001b[0m\u001b[0;34m(\u001b[0m\u001b[0mjob\u001b[0m\u001b[0;34m.\u001b[0m\u001b[0mget\u001b[0m\u001b[0;34m(\u001b[0m\u001b[0mtimeout\u001b[0m\u001b[0;34m=\u001b[0m\u001b[0mself\u001b[0m\u001b[0;34m.\u001b[0m\u001b[0mtimeout\u001b[0m\u001b[0;34m)\u001b[0m\u001b[0;34m)\u001b[0m\u001b[0;34m\u001b[0m\u001b[0;34m\u001b[0m\u001b[0m\n\u001b[0m\u001b[1;32m    922\u001b[0m                 \u001b[0;32melse\u001b[0m\u001b[0;34m:\u001b[0m\u001b[0;34m\u001b[0m\u001b[0;34m\u001b[0m\u001b[0m\n\u001b[1;32m    923\u001b[0m                     \u001b[0mself\u001b[0m\u001b[0;34m.\u001b[0m\u001b[0m_output\u001b[0m\u001b[0;34m.\u001b[0m\u001b[0mextend\u001b[0m\u001b[0;34m(\u001b[0m\u001b[0mjob\u001b[0m\u001b[0;34m.\u001b[0m\u001b[0mget\u001b[0m\u001b[0;34m(\u001b[0m\u001b[0;34m)\u001b[0m\u001b[0;34m)\u001b[0m\u001b[0;34m\u001b[0m\u001b[0;34m\u001b[0m\u001b[0m\n",
            "\u001b[0;32m/usr/local/lib/python3.6/dist-packages/joblib/_parallel_backends.py\u001b[0m in \u001b[0;36mwrap_future_result\u001b[0;34m(future, timeout)\u001b[0m\n\u001b[1;32m    538\u001b[0m         AsyncResults.get from multiprocessing.\"\"\"\n\u001b[1;32m    539\u001b[0m         \u001b[0;32mtry\u001b[0m\u001b[0;34m:\u001b[0m\u001b[0;34m\u001b[0m\u001b[0;34m\u001b[0m\u001b[0m\n\u001b[0;32m--> 540\u001b[0;31m             \u001b[0;32mreturn\u001b[0m \u001b[0mfuture\u001b[0m\u001b[0;34m.\u001b[0m\u001b[0mresult\u001b[0m\u001b[0;34m(\u001b[0m\u001b[0mtimeout\u001b[0m\u001b[0;34m=\u001b[0m\u001b[0mtimeout\u001b[0m\u001b[0;34m)\u001b[0m\u001b[0;34m\u001b[0m\u001b[0;34m\u001b[0m\u001b[0m\n\u001b[0m\u001b[1;32m    541\u001b[0m         \u001b[0;32mexcept\u001b[0m \u001b[0mCfTimeoutError\u001b[0m\u001b[0;34m:\u001b[0m\u001b[0;34m\u001b[0m\u001b[0;34m\u001b[0m\u001b[0m\n\u001b[1;32m    542\u001b[0m             \u001b[0;32mraise\u001b[0m \u001b[0mTimeoutError\u001b[0m\u001b[0;34m(\u001b[0m\u001b[0;34m)\u001b[0m\u001b[0;34m\u001b[0m\u001b[0;34m\u001b[0m\u001b[0m\n",
            "\u001b[0;32m/usr/lib/python3.6/concurrent/futures/_base.py\u001b[0m in \u001b[0;36mresult\u001b[0;34m(self, timeout)\u001b[0m\n\u001b[1;32m    430\u001b[0m                 \u001b[0;32mraise\u001b[0m \u001b[0mCancelledError\u001b[0m\u001b[0;34m(\u001b[0m\u001b[0;34m)\u001b[0m\u001b[0;34m\u001b[0m\u001b[0;34m\u001b[0m\u001b[0m\n\u001b[1;32m    431\u001b[0m             \u001b[0;32melif\u001b[0m \u001b[0mself\u001b[0m\u001b[0;34m.\u001b[0m\u001b[0m_state\u001b[0m \u001b[0;34m==\u001b[0m \u001b[0mFINISHED\u001b[0m\u001b[0;34m:\u001b[0m\u001b[0;34m\u001b[0m\u001b[0;34m\u001b[0m\u001b[0m\n\u001b[0;32m--> 432\u001b[0;31m                 \u001b[0;32mreturn\u001b[0m \u001b[0mself\u001b[0m\u001b[0;34m.\u001b[0m\u001b[0m__get_result\u001b[0m\u001b[0;34m(\u001b[0m\u001b[0;34m)\u001b[0m\u001b[0;34m\u001b[0m\u001b[0;34m\u001b[0m\u001b[0m\n\u001b[0m\u001b[1;32m    433\u001b[0m             \u001b[0;32melse\u001b[0m\u001b[0;34m:\u001b[0m\u001b[0;34m\u001b[0m\u001b[0;34m\u001b[0m\u001b[0m\n\u001b[1;32m    434\u001b[0m                 \u001b[0;32mraise\u001b[0m \u001b[0mTimeoutError\u001b[0m\u001b[0;34m(\u001b[0m\u001b[0;34m)\u001b[0m\u001b[0;34m\u001b[0m\u001b[0;34m\u001b[0m\u001b[0m\n",
            "\u001b[0;32m/usr/lib/python3.6/concurrent/futures/_base.py\u001b[0m in \u001b[0;36m__get_result\u001b[0;34m(self)\u001b[0m\n\u001b[1;32m    382\u001b[0m     \u001b[0;32mdef\u001b[0m \u001b[0m__get_result\u001b[0m\u001b[0;34m(\u001b[0m\u001b[0mself\u001b[0m\u001b[0;34m)\u001b[0m\u001b[0;34m:\u001b[0m\u001b[0;34m\u001b[0m\u001b[0;34m\u001b[0m\u001b[0m\n\u001b[1;32m    383\u001b[0m         \u001b[0;32mif\u001b[0m \u001b[0mself\u001b[0m\u001b[0;34m.\u001b[0m\u001b[0m_exception\u001b[0m\u001b[0;34m:\u001b[0m\u001b[0;34m\u001b[0m\u001b[0;34m\u001b[0m\u001b[0m\n\u001b[0;32m--> 384\u001b[0;31m             \u001b[0;32mraise\u001b[0m \u001b[0mself\u001b[0m\u001b[0;34m.\u001b[0m\u001b[0m_exception\u001b[0m\u001b[0;34m\u001b[0m\u001b[0;34m\u001b[0m\u001b[0m\n\u001b[0m\u001b[1;32m    385\u001b[0m         \u001b[0;32melse\u001b[0m\u001b[0;34m:\u001b[0m\u001b[0;34m\u001b[0m\u001b[0;34m\u001b[0m\u001b[0m\n\u001b[1;32m    386\u001b[0m             \u001b[0;32mreturn\u001b[0m \u001b[0mself\u001b[0m\u001b[0;34m.\u001b[0m\u001b[0m_result\u001b[0m\u001b[0;34m\u001b[0m\u001b[0;34m\u001b[0m\u001b[0m\n",
            "\u001b[0;31mTypeError\u001b[0m: an integer is required"
          ]
        }
      ]
    },
    {
      "cell_type": "markdown",
      "metadata": {
        "id": "Bdivge2Agv3m",
        "colab_type": "text"
      },
      "source": [
        ""
      ]
    },
    {
      "cell_type": "code",
      "metadata": {
        "id": "4ljpH9JLnE-c",
        "colab_type": "code",
        "colab": {
          "base_uri": "https://localhost:8080/",
          "height": 211
        },
        "outputId": "1bfb635d-a3a6-40c9-8f6a-e7eb674d9a63"
      },
      "source": [
        "bsl_perm2 = (str(bsl_perm[0]) + ' ' + str(bsl_perm[1]) + ' ' + str(bsl_perm[2]))\n",
        "baseline_option_score[bsl_perm2] = {'mean_train_rmse': cv_algo['train_rmse'].mean(), 'mean_test_rmse': a['test_rmse'].mean()}\n",
        "\n",
        "  #print('\\n', baseline_options, '\\n', '\\n\\')"
      ],
      "execution_count": 120,
      "outputs": [
        {
          "output_type": "error",
          "ename": "NameError",
          "evalue": "ignored",
          "traceback": [
            "\u001b[0;31m---------------------------------------------------------------------------\u001b[0m",
            "\u001b[0;31mNameError\u001b[0m                                 Traceback (most recent call last)",
            "\u001b[0;32m<ipython-input-120-0335017ba6dc>\u001b[0m in \u001b[0;36m<module>\u001b[0;34m()\u001b[0m\n\u001b[1;32m      1\u001b[0m \u001b[0mbsl_perm2\u001b[0m \u001b[0;34m=\u001b[0m \u001b[0;34m(\u001b[0m\u001b[0mstr\u001b[0m\u001b[0;34m(\u001b[0m\u001b[0mbsl_perm\u001b[0m\u001b[0;34m[\u001b[0m\u001b[0;36m0\u001b[0m\u001b[0;34m]\u001b[0m\u001b[0;34m)\u001b[0m \u001b[0;34m+\u001b[0m \u001b[0;34m' '\u001b[0m \u001b[0;34m+\u001b[0m \u001b[0mstr\u001b[0m\u001b[0;34m(\u001b[0m\u001b[0mbsl_perm\u001b[0m\u001b[0;34m[\u001b[0m\u001b[0;36m1\u001b[0m\u001b[0;34m]\u001b[0m\u001b[0;34m)\u001b[0m \u001b[0;34m+\u001b[0m \u001b[0;34m' '\u001b[0m \u001b[0;34m+\u001b[0m \u001b[0mstr\u001b[0m\u001b[0;34m(\u001b[0m\u001b[0mbsl_perm\u001b[0m\u001b[0;34m[\u001b[0m\u001b[0;36m2\u001b[0m\u001b[0;34m]\u001b[0m\u001b[0;34m)\u001b[0m\u001b[0;34m)\u001b[0m\u001b[0;34m\u001b[0m\u001b[0;34m\u001b[0m\u001b[0m\n\u001b[0;32m----> 2\u001b[0;31m \u001b[0mbaseline_option_score\u001b[0m\u001b[0;34m[\u001b[0m\u001b[0mbsl_perm2\u001b[0m\u001b[0;34m]\u001b[0m \u001b[0;34m=\u001b[0m \u001b[0;34m{\u001b[0m\u001b[0;34m'mean_train_rmse'\u001b[0m\u001b[0;34m:\u001b[0m \u001b[0mcv_algo\u001b[0m\u001b[0;34m[\u001b[0m\u001b[0;34m'train_rmse'\u001b[0m\u001b[0;34m]\u001b[0m\u001b[0;34m.\u001b[0m\u001b[0mmean\u001b[0m\u001b[0;34m(\u001b[0m\u001b[0;34m)\u001b[0m\u001b[0;34m,\u001b[0m \u001b[0;34m'mean_test_rmse'\u001b[0m\u001b[0;34m:\u001b[0m \u001b[0ma\u001b[0m\u001b[0;34m[\u001b[0m\u001b[0;34m'test_rmse'\u001b[0m\u001b[0;34m]\u001b[0m\u001b[0;34m.\u001b[0m\u001b[0mmean\u001b[0m\u001b[0;34m(\u001b[0m\u001b[0;34m)\u001b[0m\u001b[0;34m}\u001b[0m\u001b[0;34m\u001b[0m\u001b[0;34m\u001b[0m\u001b[0m\n\u001b[0m\u001b[1;32m      3\u001b[0m \u001b[0;34m\u001b[0m\u001b[0m\n\u001b[1;32m      4\u001b[0m   \u001b[0;31m#print('\\n', baseline_options, '\\n', '\\n\\')\u001b[0m\u001b[0;34m\u001b[0m\u001b[0;34m\u001b[0m\u001b[0;34m\u001b[0m\u001b[0m\n",
            "\u001b[0;31mNameError\u001b[0m: name 'cv_algo' is not defined"
          ]
        }
      ]
    },
    {
      "cell_type": "markdown",
      "metadata": {
        "id": "YekaLdfN66sO",
        "colab_type": "text"
      },
      "source": [
        "# Content Based Model"
      ]
    },
    {
      "cell_type": "code",
      "metadata": {
        "id": "zd0gPF7jCG__",
        "colab_type": "code",
        "outputId": "8f41e62c-3574-4788-ccf3-adcbd3d956d0",
        "colab": {
          "base_uri": "https://localhost:8080/",
          "height": 66
        }
      },
      "source": [
        "import nltk\n",
        "nltk.download('stopwords')"
      ],
      "execution_count": 121,
      "outputs": [
        {
          "output_type": "stream",
          "text": [
            "[nltk_data] Downloading package stopwords to /root/nltk_data...\n",
            "[nltk_data]   Unzipping corpora/stopwords.zip.\n"
          ],
          "name": "stdout"
        },
        {
          "output_type": "execute_result",
          "data": {
            "text/plain": [
              "True"
            ]
          },
          "metadata": {
            "tags": []
          },
          "execution_count": 121
        }
      ]
    },
    {
      "cell_type": "code",
      "metadata": {
        "id": "9oWPViVa7DSK",
        "colab_type": "code",
        "colab": {}
      },
      "source": [
        "import nltk \n",
        "from sklearn.feature_extraction.text import TfidfVectorizer\n",
        "from nltk.corpus import stopwords\n",
        "import string\n",
        "from nltk import word_tokenize, FreqDist\n",
        "import re\n",
        "from sklearn.decomposition import TruncatedSVD\n",
        "from sklearn.metrics.pairwise import linear_kernel"
      ],
      "execution_count": 0,
      "outputs": []
    },
    {
      "cell_type": "code",
      "metadata": {
        "id": "DATDHPbY7d-k",
        "colab_type": "code",
        "outputId": "d44c99d0-4111-4234-8de4-ed3bb1421555",
        "colab": {
          "base_uri": "https://localhost:8080/",
          "height": 189
        }
      },
      "source": [
        "anime_df.head()"
      ],
      "execution_count": 123,
      "outputs": [
        {
          "output_type": "execute_result",
          "data": {
            "text/html": [
              "<div>\n",
              "<style scoped>\n",
              "    .dataframe tbody tr th:only-of-type {\n",
              "        vertical-align: middle;\n",
              "    }\n",
              "\n",
              "    .dataframe tbody tr th {\n",
              "        vertical-align: top;\n",
              "    }\n",
              "\n",
              "    .dataframe thead th {\n",
              "        text-align: right;\n",
              "    }\n",
              "</style>\n",
              "<table border=\"1\" class=\"dataframe\">\n",
              "  <thead>\n",
              "    <tr style=\"text-align: right;\">\n",
              "      <th></th>\n",
              "      <th>anime_id</th>\n",
              "      <th>name</th>\n",
              "      <th>genre</th>\n",
              "      <th>type</th>\n",
              "      <th>episodes</th>\n",
              "      <th>rating</th>\n",
              "      <th>members</th>\n",
              "    </tr>\n",
              "  </thead>\n",
              "  <tbody>\n",
              "    <tr>\n",
              "      <th>0</th>\n",
              "      <td>32281</td>\n",
              "      <td>Kimi no Na wa.</td>\n",
              "      <td>Drama, Romance, School, Supernatural</td>\n",
              "      <td>Movie</td>\n",
              "      <td>1</td>\n",
              "      <td>9.37</td>\n",
              "      <td>200630</td>\n",
              "    </tr>\n",
              "    <tr>\n",
              "      <th>1</th>\n",
              "      <td>5114</td>\n",
              "      <td>Fullmetal Alchemist: Brotherhood</td>\n",
              "      <td>Action, Adventure, Drama, Fantasy, Magic, Mili...</td>\n",
              "      <td>TV</td>\n",
              "      <td>64</td>\n",
              "      <td>9.26</td>\n",
              "      <td>793665</td>\n",
              "    </tr>\n",
              "    <tr>\n",
              "      <th>2</th>\n",
              "      <td>28977</td>\n",
              "      <td>Gintama°</td>\n",
              "      <td>Action, Comedy, Historical, Parody, Samurai, S...</td>\n",
              "      <td>TV</td>\n",
              "      <td>51</td>\n",
              "      <td>9.25</td>\n",
              "      <td>114262</td>\n",
              "    </tr>\n",
              "    <tr>\n",
              "      <th>3</th>\n",
              "      <td>9253</td>\n",
              "      <td>Steins;Gate</td>\n",
              "      <td>Sci-Fi, Thriller</td>\n",
              "      <td>TV</td>\n",
              "      <td>24</td>\n",
              "      <td>9.17</td>\n",
              "      <td>673572</td>\n",
              "    </tr>\n",
              "    <tr>\n",
              "      <th>4</th>\n",
              "      <td>9969</td>\n",
              "      <td>Gintama&amp;#039;</td>\n",
              "      <td>Action, Comedy, Historical, Parody, Samurai, S...</td>\n",
              "      <td>TV</td>\n",
              "      <td>51</td>\n",
              "      <td>9.16</td>\n",
              "      <td>151266</td>\n",
              "    </tr>\n",
              "  </tbody>\n",
              "</table>\n",
              "</div>"
            ],
            "text/plain": [
              "   anime_id                              name  ... rating members\n",
              "0     32281                    Kimi no Na wa.  ...   9.37  200630\n",
              "1      5114  Fullmetal Alchemist: Brotherhood  ...   9.26  793665\n",
              "2     28977                          Gintama°  ...   9.25  114262\n",
              "3      9253                       Steins;Gate  ...   9.17  673572\n",
              "4      9969                     Gintama&#039;  ...   9.16  151266\n",
              "\n",
              "[5 rows x 7 columns]"
            ]
          },
          "metadata": {
            "tags": []
          },
          "execution_count": 123
        }
      ]
    },
    {
      "cell_type": "code",
      "metadata": {
        "id": "jxY87ftE7h3i",
        "colab_type": "code",
        "outputId": "8f0bdaf8-7ade-4638-814a-a22d8b92bc21",
        "colab": {
          "base_uri": "https://localhost:8080/",
          "height": 189
        }
      },
      "source": [
        "rating_df.head()"
      ],
      "execution_count": 124,
      "outputs": [
        {
          "output_type": "execute_result",
          "data": {
            "text/html": [
              "<div>\n",
              "<style scoped>\n",
              "    .dataframe tbody tr th:only-of-type {\n",
              "        vertical-align: middle;\n",
              "    }\n",
              "\n",
              "    .dataframe tbody tr th {\n",
              "        vertical-align: top;\n",
              "    }\n",
              "\n",
              "    .dataframe thead th {\n",
              "        text-align: right;\n",
              "    }\n",
              "</style>\n",
              "<table border=\"1\" class=\"dataframe\">\n",
              "  <thead>\n",
              "    <tr style=\"text-align: right;\">\n",
              "      <th></th>\n",
              "      <th>user_id</th>\n",
              "      <th>anime_id</th>\n",
              "      <th>rating</th>\n",
              "    </tr>\n",
              "  </thead>\n",
              "  <tbody>\n",
              "    <tr>\n",
              "      <th>0</th>\n",
              "      <td>1</td>\n",
              "      <td>20</td>\n",
              "      <td>-1</td>\n",
              "    </tr>\n",
              "    <tr>\n",
              "      <th>1</th>\n",
              "      <td>1</td>\n",
              "      <td>24</td>\n",
              "      <td>-1</td>\n",
              "    </tr>\n",
              "    <tr>\n",
              "      <th>2</th>\n",
              "      <td>1</td>\n",
              "      <td>79</td>\n",
              "      <td>-1</td>\n",
              "    </tr>\n",
              "    <tr>\n",
              "      <th>3</th>\n",
              "      <td>1</td>\n",
              "      <td>226</td>\n",
              "      <td>-1</td>\n",
              "    </tr>\n",
              "    <tr>\n",
              "      <th>4</th>\n",
              "      <td>1</td>\n",
              "      <td>241</td>\n",
              "      <td>-1</td>\n",
              "    </tr>\n",
              "  </tbody>\n",
              "</table>\n",
              "</div>"
            ],
            "text/plain": [
              "   user_id  anime_id  rating\n",
              "0        1        20      -1\n",
              "1        1        24      -1\n",
              "2        1        79      -1\n",
              "3        1       226      -1\n",
              "4        1       241      -1"
            ]
          },
          "metadata": {
            "tags": []
          },
          "execution_count": 124
        }
      ]
    },
    {
      "cell_type": "code",
      "metadata": {
        "id": "Y3elCqa47pdw",
        "colab_type": "code",
        "outputId": "4c22eab8-f811-44e6-f13b-2a4c2bf5e262",
        "colab": {
          "base_uri": "https://localhost:8080/",
          "height": 189
        }
      },
      "source": [
        "sample.head()"
      ],
      "execution_count": 125,
      "outputs": [
        {
          "output_type": "execute_result",
          "data": {
            "text/html": [
              "<div>\n",
              "<style scoped>\n",
              "    .dataframe tbody tr th:only-of-type {\n",
              "        vertical-align: middle;\n",
              "    }\n",
              "\n",
              "    .dataframe tbody tr th {\n",
              "        vertical-align: top;\n",
              "    }\n",
              "\n",
              "    .dataframe thead th {\n",
              "        text-align: right;\n",
              "    }\n",
              "</style>\n",
              "<table border=\"1\" class=\"dataframe\">\n",
              "  <thead>\n",
              "    <tr style=\"text-align: right;\">\n",
              "      <th></th>\n",
              "      <th>anime_id</th>\n",
              "      <th>name</th>\n",
              "      <th>genre</th>\n",
              "      <th>type</th>\n",
              "      <th>episodes</th>\n",
              "      <th>rating_x</th>\n",
              "      <th>members</th>\n",
              "      <th>user_id</th>\n",
              "      <th>rating_y</th>\n",
              "    </tr>\n",
              "  </thead>\n",
              "  <tbody>\n",
              "    <tr>\n",
              "      <th>1045611</th>\n",
              "      <td>6880</td>\n",
              "      <td>Deadman Wonderland</td>\n",
              "      <td>Action, Horror, Sci-Fi</td>\n",
              "      <td>TV</td>\n",
              "      <td>12</td>\n",
              "      <td>7</td>\n",
              "      <td>453454</td>\n",
              "      <td>4358</td>\n",
              "      <td>7</td>\n",
              "    </tr>\n",
              "    <tr>\n",
              "      <th>1578697</th>\n",
              "      <td>1816</td>\n",
              "      <td>Sonic X</td>\n",
              "      <td>Adventure, Comedy, Kids, Mecha, Sci-Fi, Shounen</td>\n",
              "      <td>TV</td>\n",
              "      <td>78</td>\n",
              "      <td>6</td>\n",
              "      <td>28296</td>\n",
              "      <td>14189</td>\n",
              "      <td>7</td>\n",
              "    </tr>\n",
              "    <tr>\n",
              "      <th>675624</th>\n",
              "      <td>8937</td>\n",
              "      <td>Toaru Majutsu no Index II</td>\n",
              "      <td>Action, Magic, Sci-Fi, Super Power</td>\n",
              "      <td>TV</td>\n",
              "      <td>24</td>\n",
              "      <td>7</td>\n",
              "      <td>184520</td>\n",
              "      <td>5910</td>\n",
              "      <td>7</td>\n",
              "    </tr>\n",
              "    <tr>\n",
              "      <th>555285</th>\n",
              "      <td>6033</td>\n",
              "      <td>Dragon Ball Kai</td>\n",
              "      <td>Action, Adventure, Comedy, Fantasy, Martial Ar...</td>\n",
              "      <td>TV</td>\n",
              "      <td>97</td>\n",
              "      <td>7</td>\n",
              "      <td>116832</td>\n",
              "      <td>6055</td>\n",
              "      <td>10</td>\n",
              "    </tr>\n",
              "    <tr>\n",
              "      <th>863527</th>\n",
              "      <td>8888</td>\n",
              "      <td>Code Geass: Boukoku no Akito 1 - Yokuryuu wa M...</td>\n",
              "      <td>Action, Mecha, Military, Sci-Fi</td>\n",
              "      <td>Movie</td>\n",
              "      <td>1</td>\n",
              "      <td>7</td>\n",
              "      <td>91105</td>\n",
              "      <td>15113</td>\n",
              "      <td>8</td>\n",
              "    </tr>\n",
              "  </tbody>\n",
              "</table>\n",
              "</div>"
            ],
            "text/plain": [
              "         anime_id  ... rating_y\n",
              "1045611      6880  ...        7\n",
              "1578697      1816  ...        7\n",
              "675624       8937  ...        7\n",
              "555285       6033  ...       10\n",
              "863527       8888  ...        8\n",
              "\n",
              "[5 rows x 9 columns]"
            ]
          },
          "metadata": {
            "tags": []
          },
          "execution_count": 125
        }
      ]
    },
    {
      "cell_type": "code",
      "metadata": {
        "id": "EKJh1Ywc79vU",
        "colab_type": "code",
        "colab": {}
      },
      "source": [
        "genre_tag = sample.loc[:, ['anime_id','name','genre']]"
      ],
      "execution_count": 0,
      "outputs": []
    },
    {
      "cell_type": "code",
      "metadata": {
        "id": "mxT5nAQy8Qn6",
        "colab_type": "code",
        "outputId": "b693f0a3-6c65-4d19-c559-b605c8b7e153",
        "colab": {
          "base_uri": "https://localhost:8080/",
          "height": 189
        }
      },
      "source": [
        "genre_tag.head()"
      ],
      "execution_count": 127,
      "outputs": [
        {
          "output_type": "execute_result",
          "data": {
            "text/html": [
              "<div>\n",
              "<style scoped>\n",
              "    .dataframe tbody tr th:only-of-type {\n",
              "        vertical-align: middle;\n",
              "    }\n",
              "\n",
              "    .dataframe tbody tr th {\n",
              "        vertical-align: top;\n",
              "    }\n",
              "\n",
              "    .dataframe thead th {\n",
              "        text-align: right;\n",
              "    }\n",
              "</style>\n",
              "<table border=\"1\" class=\"dataframe\">\n",
              "  <thead>\n",
              "    <tr style=\"text-align: right;\">\n",
              "      <th></th>\n",
              "      <th>anime_id</th>\n",
              "      <th>name</th>\n",
              "      <th>genre</th>\n",
              "    </tr>\n",
              "  </thead>\n",
              "  <tbody>\n",
              "    <tr>\n",
              "      <th>1045611</th>\n",
              "      <td>6880</td>\n",
              "      <td>Deadman Wonderland</td>\n",
              "      <td>Action, Horror, Sci-Fi</td>\n",
              "    </tr>\n",
              "    <tr>\n",
              "      <th>1578697</th>\n",
              "      <td>1816</td>\n",
              "      <td>Sonic X</td>\n",
              "      <td>Adventure, Comedy, Kids, Mecha, Sci-Fi, Shounen</td>\n",
              "    </tr>\n",
              "    <tr>\n",
              "      <th>675624</th>\n",
              "      <td>8937</td>\n",
              "      <td>Toaru Majutsu no Index II</td>\n",
              "      <td>Action, Magic, Sci-Fi, Super Power</td>\n",
              "    </tr>\n",
              "    <tr>\n",
              "      <th>555285</th>\n",
              "      <td>6033</td>\n",
              "      <td>Dragon Ball Kai</td>\n",
              "      <td>Action, Adventure, Comedy, Fantasy, Martial Ar...</td>\n",
              "    </tr>\n",
              "    <tr>\n",
              "      <th>863527</th>\n",
              "      <td>8888</td>\n",
              "      <td>Code Geass: Boukoku no Akito 1 - Yokuryuu wa M...</td>\n",
              "      <td>Action, Mecha, Military, Sci-Fi</td>\n",
              "    </tr>\n",
              "  </tbody>\n",
              "</table>\n",
              "</div>"
            ],
            "text/plain": [
              "         anime_id  ...                                              genre\n",
              "1045611      6880  ...                             Action, Horror, Sci-Fi\n",
              "1578697      1816  ...    Adventure, Comedy, Kids, Mecha, Sci-Fi, Shounen\n",
              "675624       8937  ...                 Action, Magic, Sci-Fi, Super Power\n",
              "555285       6033  ...  Action, Adventure, Comedy, Fantasy, Martial Ar...\n",
              "863527       8888  ...                    Action, Mecha, Military, Sci-Fi\n",
              "\n",
              "[5 rows x 3 columns]"
            ]
          },
          "metadata": {
            "tags": []
          },
          "execution_count": 127
        }
      ]
    },
    {
      "cell_type": "code",
      "metadata": {
        "id": "qCoBizYn8SS3",
        "colab_type": "code",
        "colab": {}
      },
      "source": [
        "tags = {}\n",
        "for col in ['genre']:\n",
        "  for a_id in sample['name'].unique():\n",
        "    for i in sample[sample['name'] == a_id][col]: \n",
        "      if a_id in tags: \n",
        "        tags[a_id].append(' '.join(i.lower().split('|')))\n",
        "      else: \n",
        "          tags[a_id] = i.lower().split('|')"
      ],
      "execution_count": 0,
      "outputs": []
    },
    {
      "cell_type": "code",
      "metadata": {
        "id": "msgwVJoEA32y",
        "colab_type": "code",
        "outputId": "48823ee3-914b-46bf-b863-702d12360d9e",
        "colab": {
          "base_uri": "https://localhost:8080/",
          "height": 1000
        }
      },
      "source": [
        "tags"
      ],
      "execution_count": 129,
      "outputs": [
        {
          "output_type": "execute_result",
          "data": {
            "text/plain": [
              "{'Deadman Wonderland': ['action, horror, sci-fi',\n",
              "  'action, horror, sci-fi',\n",
              "  'action, horror, sci-fi',\n",
              "  'action, horror, sci-fi',\n",
              "  'action, horror, sci-fi',\n",
              "  'action, horror, sci-fi',\n",
              "  'action, horror, sci-fi',\n",
              "  'action, horror, sci-fi'],\n",
              " 'Sonic X': ['adventure, comedy, kids, mecha, sci-fi, shounen'],\n",
              " 'Toaru Majutsu no Index II': ['action, magic, sci-fi, super power',\n",
              "  'action, magic, sci-fi, super power',\n",
              "  'action, magic, sci-fi, super power'],\n",
              " 'Dragon Ball Kai': ['action, adventure, comedy, fantasy, martial arts, shounen, super power',\n",
              "  'action, adventure, comedy, fantasy, martial arts, shounen, super power',\n",
              "  'action, adventure, comedy, fantasy, martial arts, shounen, super power'],\n",
              " 'Code Geass: Boukoku no Akito 1 - Yokuryuu wa Maiorita': ['action, mecha, military, sci-fi',\n",
              "  'action, mecha, military, sci-fi'],\n",
              " 'Vampire Knight': ['drama, mystery, romance, shoujo, supernatural, vampire',\n",
              "  'drama, mystery, romance, shoujo, supernatural, vampire',\n",
              "  'drama, mystery, romance, shoujo, supernatural, vampire',\n",
              "  'drama, mystery, romance, shoujo, supernatural, vampire',\n",
              "  'drama, mystery, romance, shoujo, supernatural, vampire',\n",
              "  'drama, mystery, romance, shoujo, supernatural, vampire',\n",
              "  'drama, mystery, romance, shoujo, supernatural, vampire',\n",
              "  'drama, mystery, romance, shoujo, supernatural, vampire',\n",
              "  'drama, mystery, romance, shoujo, supernatural, vampire',\n",
              "  'drama, mystery, romance, shoujo, supernatural, vampire',\n",
              "  'drama, mystery, romance, shoujo, supernatural, vampire',\n",
              "  'drama, mystery, romance, shoujo, supernatural, vampire',\n",
              "  'drama, mystery, romance, shoujo, supernatural, vampire',\n",
              "  'drama, mystery, romance, shoujo, supernatural, vampire',\n",
              "  'drama, mystery, romance, shoujo, supernatural, vampire'],\n",
              " 'Ark IX': ['action'],\n",
              " 'Amnesia': ['fantasy, josei, mystery, romance',\n",
              "  'fantasy, josei, mystery, romance',\n",
              "  'fantasy, josei, mystery, romance',\n",
              "  'fantasy, josei, mystery, romance',\n",
              "  'fantasy, josei, mystery, romance'],\n",
              " 'Suzuka': ['drama, romance, sports',\n",
              "  'drama, romance, sports',\n",
              "  'drama, romance, sports'],\n",
              " 'Digimon Tamers: Boukensha-tachi no Tatakai': ['adventure, drama, sci-fi, shounen'],\n",
              " 'Dragon Ball Z Special 1: Tatta Hitori no Saishuu Kessen': ['adventure, comedy, fantasy, sci-fi, shounen',\n",
              "  'adventure, comedy, fantasy, sci-fi, shounen',\n",
              "  'adventure, comedy, fantasy, sci-fi, shounen',\n",
              "  'adventure, comedy, fantasy, sci-fi, shounen'],\n",
              " 'Kagewani': ['horror, mystery, supernatural, thriller',\n",
              "  'horror, mystery, supernatural, thriller'],\n",
              " 'Yu☆Gi☆Oh!': ['action, comedy, fantasy, game, shounen',\n",
              "  'action, comedy, fantasy, game, shounen'],\n",
              " 'To LOVE-Ru Darkness 2nd': ['comedy, ecchi, harem, romance, school, sci-fi, shounen'],\n",
              " 'Choujigen Game Neptune The Animation': ['action, comedy, fantasy, parody, sci-fi, supernatural',\n",
              "  'action, comedy, fantasy, parody, sci-fi, supernatural',\n",
              "  'action, comedy, fantasy, parody, sci-fi, supernatural'],\n",
              " 'Guilty Crown': ['action, drama, sci-fi, super power',\n",
              "  'action, drama, sci-fi, super power',\n",
              "  'action, drama, sci-fi, super power',\n",
              "  'action, drama, sci-fi, super power',\n",
              "  'action, drama, sci-fi, super power',\n",
              "  'action, drama, sci-fi, super power',\n",
              "  'action, drama, sci-fi, super power',\n",
              "  'action, drama, sci-fi, super power'],\n",
              " 'Gekkan Shoujo Nozaki-kun': ['comedy, romance, school',\n",
              "  'comedy, romance, school',\n",
              "  'comedy, romance, school',\n",
              "  'comedy, romance, school',\n",
              "  'comedy, romance, school',\n",
              "  'comedy, romance, school',\n",
              "  'comedy, romance, school',\n",
              "  'comedy, romance, school',\n",
              "  'comedy, romance, school',\n",
              "  'comedy, romance, school'],\n",
              " 'Monochrome Factor': ['action, shounen ai, supernatural',\n",
              "  'action, shounen ai, supernatural'],\n",
              " 'Free!': ['comedy, school, slice of life, sports',\n",
              "  'comedy, school, slice of life, sports',\n",
              "  'comedy, school, slice of life, sports',\n",
              "  'comedy, school, slice of life, sports'],\n",
              " 'Death Note': ['mystery, police, psychological, supernatural, thriller',\n",
              "  'mystery, police, psychological, supernatural, thriller',\n",
              "  'mystery, police, psychological, supernatural, thriller',\n",
              "  'mystery, police, psychological, supernatural, thriller',\n",
              "  'mystery, police, psychological, supernatural, thriller',\n",
              "  'mystery, police, psychological, supernatural, thriller',\n",
              "  'mystery, police, psychological, supernatural, thriller',\n",
              "  'mystery, police, psychological, supernatural, thriller',\n",
              "  'mystery, police, psychological, supernatural, thriller',\n",
              "  'mystery, police, psychological, supernatural, thriller',\n",
              "  'mystery, police, psychological, supernatural, thriller',\n",
              "  'mystery, police, psychological, supernatural, thriller',\n",
              "  'mystery, police, psychological, supernatural, thriller',\n",
              "  'mystery, police, psychological, supernatural, thriller',\n",
              "  'mystery, police, psychological, supernatural, thriller',\n",
              "  'mystery, police, psychological, supernatural, thriller',\n",
              "  'mystery, police, psychological, supernatural, thriller',\n",
              "  'mystery, police, psychological, supernatural, thriller',\n",
              "  'mystery, police, psychological, supernatural, thriller',\n",
              "  'mystery, police, psychological, supernatural, thriller',\n",
              "  'mystery, police, psychological, supernatural, thriller',\n",
              "  'mystery, police, psychological, supernatural, thriller',\n",
              "  'mystery, police, psychological, supernatural, thriller',\n",
              "  'mystery, police, psychological, supernatural, thriller',\n",
              "  'mystery, police, psychological, supernatural, thriller',\n",
              "  'mystery, police, psychological, supernatural, thriller',\n",
              "  'mystery, police, psychological, supernatural, thriller',\n",
              "  'mystery, police, psychological, supernatural, thriller'],\n",
              " 'Black Lagoon': ['action, seinen',\n",
              "  'action, seinen',\n",
              "  'action, seinen',\n",
              "  'action, seinen',\n",
              "  'action, seinen',\n",
              "  'action, seinen',\n",
              "  'action, seinen',\n",
              "  'action, seinen',\n",
              "  'action, seinen',\n",
              "  'action, seinen',\n",
              "  'action, seinen',\n",
              "  'action, seinen',\n",
              "  'action, seinen',\n",
              "  'action, seinen'],\n",
              " 'Angel Beats!': ['action, comedy, drama, school, supernatural',\n",
              "  'action, comedy, drama, school, supernatural',\n",
              "  'action, comedy, drama, school, supernatural',\n",
              "  'action, comedy, drama, school, supernatural',\n",
              "  'action, comedy, drama, school, supernatural',\n",
              "  'action, comedy, drama, school, supernatural',\n",
              "  'action, comedy, drama, school, supernatural',\n",
              "  'action, comedy, drama, school, supernatural',\n",
              "  'action, comedy, drama, school, supernatural',\n",
              "  'action, comedy, drama, school, supernatural',\n",
              "  'action, comedy, drama, school, supernatural',\n",
              "  'action, comedy, drama, school, supernatural',\n",
              "  'action, comedy, drama, school, supernatural',\n",
              "  'action, comedy, drama, school, supernatural',\n",
              "  'action, comedy, drama, school, supernatural',\n",
              "  'action, comedy, drama, school, supernatural',\n",
              "  'action, comedy, drama, school, supernatural',\n",
              "  'action, comedy, drama, school, supernatural',\n",
              "  'action, comedy, drama, school, supernatural',\n",
              "  'action, comedy, drama, school, supernatural',\n",
              "  'action, comedy, drama, school, supernatural',\n",
              "  'action, comedy, drama, school, supernatural',\n",
              "  'action, comedy, drama, school, supernatural',\n",
              "  'action, comedy, drama, school, supernatural',\n",
              "  'action, comedy, drama, school, supernatural'],\n",
              " 'Manie-Manie: Meikyuu Monogatari': ['adventure, fantasy, horror, sci-fi, supernatural'],\n",
              " 'ChäoS;HEAd': ['harem, mystery, psychological, sci-fi, supernatural',\n",
              "  'harem, mystery, psychological, sci-fi, supernatural',\n",
              "  'harem, mystery, psychological, sci-fi, supernatural'],\n",
              " 'Vanquished Queens': ['action, adventure, ecchi, fantasy'],\n",
              " 'Fate/Zero': ['action, fantasy, supernatural',\n",
              "  'action, fantasy, supernatural',\n",
              "  'action, fantasy, supernatural',\n",
              "  'action, fantasy, supernatural',\n",
              "  'action, fantasy, supernatural',\n",
              "  'action, fantasy, supernatural',\n",
              "  'action, fantasy, supernatural',\n",
              "  'action, fantasy, supernatural',\n",
              "  'action, fantasy, supernatural',\n",
              "  'action, fantasy, supernatural',\n",
              "  'action, fantasy, supernatural',\n",
              "  'action, fantasy, supernatural'],\n",
              " 'Eyeshield 21': ['action, comedy, shounen, sports'],\n",
              " 'Tsumiki no Ie': ['drama', 'drama', 'drama'],\n",
              " 'Baccano!': ['action, comedy, historical, mystery, seinen, supernatural',\n",
              "  'action, comedy, historical, mystery, seinen, supernatural',\n",
              "  'action, comedy, historical, mystery, seinen, supernatural',\n",
              "  'action, comedy, historical, mystery, seinen, supernatural',\n",
              "  'action, comedy, historical, mystery, seinen, supernatural',\n",
              "  'action, comedy, historical, mystery, seinen, supernatural',\n",
              "  'action, comedy, historical, mystery, seinen, supernatural',\n",
              "  'action, comedy, historical, mystery, seinen, supernatural',\n",
              "  'action, comedy, historical, mystery, seinen, supernatural',\n",
              "  'action, comedy, historical, mystery, seinen, supernatural',\n",
              "  'action, comedy, historical, mystery, seinen, supernatural',\n",
              "  'action, comedy, historical, mystery, seinen, supernatural',\n",
              "  'action, comedy, historical, mystery, seinen, supernatural'],\n",
              " 'Moyashimon': ['comedy, school, supernatural'],\n",
              " 'Ben-To': ['action, comedy, martial arts',\n",
              "  'action, comedy, martial arts',\n",
              "  'action, comedy, martial arts',\n",
              "  'action, comedy, martial arts'],\n",
              " 'Boku no Hero Academia': ['action, comedy, school, shounen, super power',\n",
              "  'action, comedy, school, shounen, super power',\n",
              "  'action, comedy, school, shounen, super power',\n",
              "  'action, comedy, school, shounen, super power',\n",
              "  'action, comedy, school, shounen, super power',\n",
              "  'action, comedy, school, shounen, super power',\n",
              "  'action, comedy, school, shounen, super power'],\n",
              " '.hack//Sign': ['adventure, fantasy, game, magic, mystery, sci-fi',\n",
              "  'adventure, fantasy, game, magic, mystery, sci-fi',\n",
              "  'adventure, fantasy, game, magic, mystery, sci-fi'],\n",
              " 'Claymore': ['action, adventure, demons, fantasy, shounen, super power, supernatural',\n",
              "  'action, adventure, demons, fantasy, shounen, super power, supernatural',\n",
              "  'action, adventure, demons, fantasy, shounen, super power, supernatural',\n",
              "  'action, adventure, demons, fantasy, shounen, super power, supernatural',\n",
              "  'action, adventure, demons, fantasy, shounen, super power, supernatural',\n",
              "  'action, adventure, demons, fantasy, shounen, super power, supernatural',\n",
              "  'action, adventure, demons, fantasy, shounen, super power, supernatural',\n",
              "  'action, adventure, demons, fantasy, shounen, super power, supernatural',\n",
              "  'action, adventure, demons, fantasy, shounen, super power, supernatural',\n",
              "  'action, adventure, demons, fantasy, shounen, super power, supernatural',\n",
              "  'action, adventure, demons, fantasy, shounen, super power, supernatural',\n",
              "  'action, adventure, demons, fantasy, shounen, super power, supernatural',\n",
              "  'action, adventure, demons, fantasy, shounen, super power, supernatural'],\n",
              " 'Hanasaku Iroha': ['comedy, drama, seinen, slice of life',\n",
              "  'comedy, drama, seinen, slice of life'],\n",
              " 'Samurai Champloo': ['action, adventure, comedy, historical, samurai, shounen',\n",
              "  'action, adventure, comedy, historical, samurai, shounen',\n",
              "  'action, adventure, comedy, historical, samurai, shounen',\n",
              "  'action, adventure, comedy, historical, samurai, shounen',\n",
              "  'action, adventure, comedy, historical, samurai, shounen'],\n",
              " 'Metal Fight Beyblade': ['adventure, comedy, sports'],\n",
              " 'Okusama wa Mahou Shoujo': ['magic, romance'],\n",
              " 'Mobile Suit Zeta Gundam': ['drama, mecha, military, sci-fi, space',\n",
              "  'drama, mecha, military, sci-fi, space'],\n",
              " 'Clannad: Mou Hitotsu no Sekai, Tomoyo-hen': ['drama, romance, school, slice of life',\n",
              "  'drama, romance, school, slice of life',\n",
              "  'drama, romance, school, slice of life',\n",
              "  'drama, romance, school, slice of life',\n",
              "  'drama, romance, school, slice of life',\n",
              "  'drama, romance, school, slice of life',\n",
              "  'drama, romance, school, slice of life'],\n",
              " 'Evangelion: 1.0 You Are (Not) Alone': ['action, mecha, sci-fi',\n",
              "  'action, mecha, sci-fi',\n",
              "  'action, mecha, sci-fi',\n",
              "  'action, mecha, sci-fi',\n",
              "  'action, mecha, sci-fi'],\n",
              " 'Chuunibyou demo Koi ga Shitai!': ['comedy, drama, romance, school, slice of life',\n",
              "  'comedy, drama, romance, school, slice of life',\n",
              "  'comedy, drama, romance, school, slice of life',\n",
              "  'comedy, drama, romance, school, slice of life',\n",
              "  'comedy, drama, romance, school, slice of life',\n",
              "  'comedy, drama, romance, school, slice of life',\n",
              "  'comedy, drama, romance, school, slice of life',\n",
              "  'comedy, drama, romance, school, slice of life',\n",
              "  'comedy, drama, romance, school, slice of life',\n",
              "  'comedy, drama, romance, school, slice of life',\n",
              "  'comedy, drama, romance, school, slice of life',\n",
              "  'comedy, drama, romance, school, slice of life',\n",
              "  'comedy, drama, romance, school, slice of life'],\n",
              " 'Watashi ga Motenai no wa Dou Kangaetemo Omaera ga Warui!': ['comedy, school, shounen, slice of life',\n",
              "  'comedy, school, shounen, slice of life',\n",
              "  'comedy, school, shounen, slice of life',\n",
              "  'comedy, school, shounen, slice of life',\n",
              "  'comedy, school, shounen, slice of life',\n",
              "  'comedy, school, shounen, slice of life',\n",
              "  'comedy, school, shounen, slice of life'],\n",
              " 'Fullmetal Alchemist: Brotherhood': ['action, adventure, drama, fantasy, magic, military, shounen',\n",
              "  'action, adventure, drama, fantasy, magic, military, shounen',\n",
              "  'action, adventure, drama, fantasy, magic, military, shounen',\n",
              "  'action, adventure, drama, fantasy, magic, military, shounen',\n",
              "  'action, adventure, drama, fantasy, magic, military, shounen',\n",
              "  'action, adventure, drama, fantasy, magic, military, shounen',\n",
              "  'action, adventure, drama, fantasy, magic, military, shounen',\n",
              "  'action, adventure, drama, fantasy, magic, military, shounen',\n",
              "  'action, adventure, drama, fantasy, magic, military, shounen',\n",
              "  'action, adventure, drama, fantasy, magic, military, shounen',\n",
              "  'action, adventure, drama, fantasy, magic, military, shounen',\n",
              "  'action, adventure, drama, fantasy, magic, military, shounen',\n",
              "  'action, adventure, drama, fantasy, magic, military, shounen',\n",
              "  'action, adventure, drama, fantasy, magic, military, shounen',\n",
              "  'action, adventure, drama, fantasy, magic, military, shounen',\n",
              "  'action, adventure, drama, fantasy, magic, military, shounen',\n",
              "  'action, adventure, drama, fantasy, magic, military, shounen'],\n",
              " 'Noragami OVA': ['action, adventure, shounen',\n",
              "  'action, adventure, shounen',\n",
              "  'action, adventure, shounen',\n",
              "  'action, adventure, shounen'],\n",
              " 'Gokinjo Monogatari': ['comedy, drama, romance, slice of life',\n",
              "  'comedy, drama, romance, slice of life'],\n",
              " 'Kokoro Connect': ['comedy, drama, romance, school, slice of life, supernatural',\n",
              "  'comedy, drama, romance, school, slice of life, supernatural',\n",
              "  'comedy, drama, romance, school, slice of life, supernatural',\n",
              "  'comedy, drama, romance, school, slice of life, supernatural',\n",
              "  'comedy, drama, romance, school, slice of life, supernatural',\n",
              "  'comedy, drama, romance, school, slice of life, supernatural',\n",
              "  'comedy, drama, romance, school, slice of life, supernatural',\n",
              "  'comedy, drama, romance, school, slice of life, supernatural',\n",
              "  'comedy, drama, romance, school, slice of life, supernatural'],\n",
              " 'Wolf&#039;s Rain': ['action, adventure, drama, fantasy, mystery, sci-fi',\n",
              "  'action, adventure, drama, fantasy, mystery, sci-fi',\n",
              "  'action, adventure, drama, fantasy, mystery, sci-fi'],\n",
              " 'Date A Live II': ['comedy, harem, mecha, romance, school, sci-fi',\n",
              "  'comedy, harem, mecha, romance, school, sci-fi'],\n",
              " 'Koe de Oshigoto! The Animation': ['comedy, ecchi, seinen',\n",
              "  'comedy, ecchi, seinen',\n",
              "  'comedy, ecchi, seinen'],\n",
              " 'Machine-Doll wa Kizutsukanai': ['action, ecchi, fantasy, school, seinen',\n",
              "  'action, ecchi, fantasy, school, seinen',\n",
              "  'action, ecchi, fantasy, school, seinen',\n",
              "  'action, ecchi, fantasy, school, seinen',\n",
              "  'action, ecchi, fantasy, school, seinen',\n",
              "  'action, ecchi, fantasy, school, seinen'],\n",
              " 'Saint Seiya: Meiou Hades Juuni Kyuu-hen': ['adventure, sci-fi, shounen'],\n",
              " 'Girls und Panzer': ['military, school',\n",
              "  'military, school',\n",
              "  'military, school',\n",
              "  'military, school',\n",
              "  'military, school',\n",
              "  'military, school',\n",
              "  'military, school',\n",
              "  'military, school'],\n",
              " 'Gake no Ue no Ponyo': ['adventure, fantasy',\n",
              "  'adventure, fantasy',\n",
              "  'adventure, fantasy',\n",
              "  'adventure, fantasy',\n",
              "  'adventure, fantasy'],\n",
              " 'Final Fantasy VII: Advent Children': ['action, fantasy, super power',\n",
              "  'action, fantasy, super power',\n",
              "  'action, fantasy, super power',\n",
              "  'action, fantasy, super power',\n",
              "  'action, fantasy, super power',\n",
              "  'action, fantasy, super power',\n",
              "  'action, fantasy, super power',\n",
              "  'action, fantasy, super power'],\n",
              " 'Ano Hi Mita Hana no Namae wo Bokutachi wa Mada Shiranai.': ['drama, slice of life, supernatural',\n",
              "  'drama, slice of life, supernatural',\n",
              "  'drama, slice of life, supernatural',\n",
              "  'drama, slice of life, supernatural',\n",
              "  'drama, slice of life, supernatural',\n",
              "  'drama, slice of life, supernatural',\n",
              "  'drama, slice of life, supernatural',\n",
              "  'drama, slice of life, supernatural',\n",
              "  'drama, slice of life, supernatural',\n",
              "  'drama, slice of life, supernatural',\n",
              "  'drama, slice of life, supernatural',\n",
              "  'drama, slice of life, supernatural',\n",
              "  'drama, slice of life, supernatural',\n",
              "  'drama, slice of life, supernatural',\n",
              "  'drama, slice of life, supernatural'],\n",
              " 'Tayutama: Kiss on My Deity': ['harem, romance, supernatural',\n",
              "  'harem, romance, supernatural'],\n",
              " 'Byousoku 5 Centimeter': ['drama, romance, slice of life',\n",
              "  'drama, romance, slice of life',\n",
              "  'drama, romance, slice of life',\n",
              "  'drama, romance, slice of life',\n",
              "  'drama, romance, slice of life',\n",
              "  'drama, romance, slice of life',\n",
              "  'drama, romance, slice of life',\n",
              "  'drama, romance, slice of life',\n",
              "  'drama, romance, slice of life',\n",
              "  'drama, romance, slice of life',\n",
              "  'drama, romance, slice of life'],\n",
              " 'Highschool of the Dead': ['action, ecchi, horror, supernatural',\n",
              "  'action, ecchi, horror, supernatural',\n",
              "  'action, ecchi, horror, supernatural',\n",
              "  'action, ecchi, horror, supernatural',\n",
              "  'action, ecchi, horror, supernatural',\n",
              "  'action, ecchi, horror, supernatural',\n",
              "  'action, ecchi, horror, supernatural',\n",
              "  'action, ecchi, horror, supernatural'],\n",
              " 'Ore no Kanojo to Osananajimi ga Shuraba Sugiru': ['comedy, harem, romance, school',\n",
              "  'comedy, harem, romance, school',\n",
              "  'comedy, harem, romance, school',\n",
              "  'comedy, harem, romance, school'],\n",
              " 'Yoru no Yatterman': ['action, adventure, comedy, drama'],\n",
              " 'Fate/Zero 2nd Season': ['action, fantasy, supernatural, thriller',\n",
              "  'action, fantasy, supernatural, thriller',\n",
              "  'action, fantasy, supernatural, thriller',\n",
              "  'action, fantasy, supernatural, thriller',\n",
              "  'action, fantasy, supernatural, thriller',\n",
              "  'action, fantasy, supernatural, thriller',\n",
              "  'action, fantasy, supernatural, thriller',\n",
              "  'action, fantasy, supernatural, thriller',\n",
              "  'action, fantasy, supernatural, thriller'],\n",
              " 'D.N.Angel': ['action, comedy, fantasy, magic, romance, school, shoujo',\n",
              "  'action, comedy, fantasy, magic, romance, school, shoujo',\n",
              "  'action, comedy, fantasy, magic, romance, school, shoujo',\n",
              "  'action, comedy, fantasy, magic, romance, school, shoujo',\n",
              "  'action, comedy, fantasy, magic, romance, school, shoujo',\n",
              "  'action, comedy, fantasy, magic, romance, school, shoujo',\n",
              "  'action, comedy, fantasy, magic, romance, school, shoujo'],\n",
              " 'Akame ga Kill!': ['action, adventure, fantasy',\n",
              "  'action, adventure, fantasy',\n",
              "  'action, adventure, fantasy',\n",
              "  'action, adventure, fantasy',\n",
              "  'action, adventure, fantasy',\n",
              "  'action, adventure, fantasy',\n",
              "  'action, adventure, fantasy',\n",
              "  'action, adventure, fantasy'],\n",
              " 'Golden Time': ['comedy, romance, seinen',\n",
              "  'comedy, romance, seinen',\n",
              "  'comedy, romance, seinen',\n",
              "  'comedy, romance, seinen',\n",
              "  'comedy, romance, seinen'],\n",
              " 'Baka to Test to Shoukanjuu': ['comedy, romance, school, super power',\n",
              "  'comedy, romance, school, super power',\n",
              "  'comedy, romance, school, super power',\n",
              "  'comedy, romance, school, super power',\n",
              "  'comedy, romance, school, super power',\n",
              "  'comedy, romance, school, super power',\n",
              "  'comedy, romance, school, super power'],\n",
              " 'Shaman King': ['action, adventure, comedy, drama, shounen, supernatural',\n",
              "  'action, adventure, comedy, drama, shounen, supernatural'],\n",
              " 'Arcana Famiglia': ['action, harem, romance, shoujo',\n",
              "  'action, harem, romance, shoujo',\n",
              "  'action, harem, romance, shoujo'],\n",
              " 'Pokemon': ['action, adventure, comedy, fantasy, kids',\n",
              "  'action, adventure, comedy, fantasy, kids',\n",
              "  'action, adventure, comedy, fantasy, kids',\n",
              "  'action, adventure, comedy, fantasy, kids',\n",
              "  'action, adventure, comedy, fantasy, kids',\n",
              "  'action, adventure, comedy, fantasy, kids',\n",
              "  'action, adventure, comedy, fantasy, kids'],\n",
              " 'Mardock Scramble: The Third Exhaust': ['action, psychological, sci-fi'],\n",
              " 'Sora no Otoshimono: Forte': ['comedy, ecchi, harem, romance, sci-fi, shounen, supernatural',\n",
              "  'comedy, ecchi, harem, romance, sci-fi, shounen, supernatural',\n",
              "  'comedy, ecchi, harem, romance, sci-fi, shounen, supernatural',\n",
              "  'comedy, ecchi, harem, romance, sci-fi, shounen, supernatural',\n",
              "  'comedy, ecchi, harem, romance, sci-fi, shounen, supernatural'],\n",
              " 'Shakugan no Shana': ['action, drama, fantasy, romance, school, supernatural',\n",
              "  'action, drama, fantasy, romance, school, supernatural',\n",
              "  'action, drama, fantasy, romance, school, supernatural',\n",
              "  'action, drama, fantasy, romance, school, supernatural',\n",
              "  'action, drama, fantasy, romance, school, supernatural',\n",
              "  'action, drama, fantasy, romance, school, supernatural',\n",
              "  'action, drama, fantasy, romance, school, supernatural',\n",
              "  'action, drama, fantasy, romance, school, supernatural'],\n",
              " 'Neon Genesis Evangelion': ['action, dementia, drama, mecha, psychological, sci-fi',\n",
              "  'action, dementia, drama, mecha, psychological, sci-fi',\n",
              "  'action, dementia, drama, mecha, psychological, sci-fi',\n",
              "  'action, dementia, drama, mecha, psychological, sci-fi',\n",
              "  'action, dementia, drama, mecha, psychological, sci-fi',\n",
              "  'action, dementia, drama, mecha, psychological, sci-fi',\n",
              "  'action, dementia, drama, mecha, psychological, sci-fi',\n",
              "  'action, dementia, drama, mecha, psychological, sci-fi',\n",
              "  'action, dementia, drama, mecha, psychological, sci-fi',\n",
              "  'action, dementia, drama, mecha, psychological, sci-fi',\n",
              "  'action, dementia, drama, mecha, psychological, sci-fi',\n",
              "  'action, dementia, drama, mecha, psychological, sci-fi',\n",
              "  'action, dementia, drama, mecha, psychological, sci-fi',\n",
              "  'action, dementia, drama, mecha, psychological, sci-fi',\n",
              "  'action, dementia, drama, mecha, psychological, sci-fi'],\n",
              " 'Moyashimon Returns': ['comedy, school, supernatural'],\n",
              " 'Neon Genesis Evangelion: The End of Evangelion': ['dementia, drama, mecha, psychological, sci-fi',\n",
              "  'dementia, drama, mecha, psychological, sci-fi',\n",
              "  'dementia, drama, mecha, psychological, sci-fi',\n",
              "  'dementia, drama, mecha, psychological, sci-fi',\n",
              "  'dementia, drama, mecha, psychological, sci-fi',\n",
              "  'dementia, drama, mecha, psychological, sci-fi',\n",
              "  'dementia, drama, mecha, psychological, sci-fi'],\n",
              " 'Kuroko no Basket: Tip Off': ['comedy, school, shounen, sports'],\n",
              " 'Mimi wo Sumaseba': ['adventure, drama, fantasy, romance, slice of life',\n",
              "  'adventure, drama, fantasy, romance, slice of life',\n",
              "  'adventure, drama, fantasy, romance, slice of life',\n",
              "  'adventure, drama, fantasy, romance, slice of life',\n",
              "  'adventure, drama, fantasy, romance, slice of life',\n",
              "  'adventure, drama, fantasy, romance, slice of life'],\n",
              " 'Digimon Adventure 02': ['action, adventure, comedy, drama, fantasy, kids',\n",
              "  'action, adventure, comedy, drama, fantasy, kids',\n",
              "  'action, adventure, comedy, drama, fantasy, kids',\n",
              "  'action, adventure, comedy, drama, fantasy, kids',\n",
              "  'action, adventure, comedy, drama, fantasy, kids'],\n",
              " 'Pandora Hearts': ['adventure, fantasy, mystery, shounen, supernatural',\n",
              "  'adventure, fantasy, mystery, shounen, supernatural',\n",
              "  'adventure, fantasy, mystery, shounen, supernatural',\n",
              "  'adventure, fantasy, mystery, shounen, supernatural',\n",
              "  'adventure, fantasy, mystery, shounen, supernatural',\n",
              "  'adventure, fantasy, mystery, shounen, supernatural',\n",
              "  'adventure, fantasy, mystery, shounen, supernatural',\n",
              "  'adventure, fantasy, mystery, shounen, supernatural'],\n",
              " 'Rokka no Yuusha': ['action, adventure, fantasy, magic, mystery',\n",
              "  'action, adventure, fantasy, magic, mystery',\n",
              "  'action, adventure, fantasy, magic, mystery',\n",
              "  'action, adventure, fantasy, magic, mystery',\n",
              "  'action, adventure, fantasy, magic, mystery',\n",
              "  'action, adventure, fantasy, magic, mystery'],\n",
              " 'Mai-HiME': ['action, comedy, drama, fantasy, magic, mecha, romance, school, shoujo ai',\n",
              "  'action, comedy, drama, fantasy, magic, mecha, romance, school, shoujo ai'],\n",
              " 'Ikoku Irokoi Romantan': ['comedy, romance, yaoi'],\n",
              " 'Love Live! School Idol Project': ['music, school, slice of life'],\n",
              " 'Fairy Tail x Rave': ['action, adventure, comedy, fantasy, magic, shounen',\n",
              "  'action, adventure, comedy, fantasy, magic, shounen',\n",
              "  'action, adventure, comedy, fantasy, magic, shounen'],\n",
              " 'Gochuumon wa Usagi Desu ka?': ['comedy, slice of life',\n",
              "  'comedy, slice of life',\n",
              "  'comedy, slice of life'],\n",
              " 'Kite Liberator': ['action, drama, sci-fi', 'action, drama, sci-fi'],\n",
              " 'Hyouka': ['mystery, school, slice of life',\n",
              "  'mystery, school, slice of life',\n",
              "  'mystery, school, slice of life',\n",
              "  'mystery, school, slice of life',\n",
              "  'mystery, school, slice of life'],\n",
              " 'Fortune Arterial: Akai Yakusoku': ['comedy, romance, school, supernatural, vampire'],\n",
              " 'Fate/stay night Movie: Unlimited Blade Works': ['action, fantasy, magic, supernatural',\n",
              "  'action, fantasy, magic, supernatural',\n",
              "  'action, fantasy, magic, supernatural',\n",
              "  'action, fantasy, magic, supernatural',\n",
              "  'action, fantasy, magic, supernatural',\n",
              "  'action, fantasy, magic, supernatural',\n",
              "  'action, fantasy, magic, supernatural'],\n",
              " 'Star Driver: Kagayaki no Takuto': ['action, mecha, romance, shounen',\n",
              "  'action, mecha, romance, shounen'],\n",
              " 'Mobile Suit Gundam Seed Destiny Special Edition': ['action, drama, mecha, military, romance, sci-fi, space'],\n",
              " 'Sen to Chihiro no Kamikakushi': ['adventure, drama, supernatural',\n",
              "  'adventure, drama, supernatural',\n",
              "  'adventure, drama, supernatural',\n",
              "  'adventure, drama, supernatural',\n",
              "  'adventure, drama, supernatural',\n",
              "  'adventure, drama, supernatural',\n",
              "  'adventure, drama, supernatural',\n",
              "  'adventure, drama, supernatural',\n",
              "  'adventure, drama, supernatural',\n",
              "  'adventure, drama, supernatural',\n",
              "  'adventure, drama, supernatural',\n",
              "  'adventure, drama, supernatural',\n",
              "  'adventure, drama, supernatural'],\n",
              " 'Code:Breaker': ['action, comedy, school, shounen, super power, supernatural',\n",
              "  'action, comedy, school, shounen, super power, supernatural',\n",
              "  'action, comedy, school, shounen, super power, supernatural',\n",
              "  'action, comedy, school, shounen, super power, supernatural'],\n",
              " 'Elfen Lied': ['action, drama, horror, psychological, romance, seinen, supernatural',\n",
              "  'action, drama, horror, psychological, romance, seinen, supernatural',\n",
              "  'action, drama, horror, psychological, romance, seinen, supernatural',\n",
              "  'action, drama, horror, psychological, romance, seinen, supernatural',\n",
              "  'action, drama, horror, psychological, romance, seinen, supernatural',\n",
              "  'action, drama, horror, psychological, romance, seinen, supernatural',\n",
              "  'action, drama, horror, psychological, romance, seinen, supernatural',\n",
              "  'action, drama, horror, psychological, romance, seinen, supernatural',\n",
              "  'action, drama, horror, psychological, romance, seinen, supernatural',\n",
              "  'action, drama, horror, psychological, romance, seinen, supernatural',\n",
              "  'action, drama, horror, psychological, romance, seinen, supernatural',\n",
              "  'action, drama, horror, psychological, romance, seinen, supernatural',\n",
              "  'action, drama, horror, psychological, romance, seinen, supernatural',\n",
              "  'action, drama, horror, psychological, romance, seinen, supernatural',\n",
              "  'action, drama, horror, psychological, romance, seinen, supernatural',\n",
              "  'action, drama, horror, psychological, romance, seinen, supernatural',\n",
              "  'action, drama, horror, psychological, romance, seinen, supernatural'],\n",
              " 'Kuroshitsuji Special': ['comedy, demons, parody',\n",
              "  'comedy, demons, parody',\n",
              "  'comedy, demons, parody'],\n",
              " 'Slayers Next': ['adventure, comedy, demons, fantasy, magic'],\n",
              " 'Nyan Koi!': ['comedy, harem, romance',\n",
              "  'comedy, harem, romance',\n",
              "  'comedy, harem, romance'],\n",
              " 'Soul Eater': ['action, adventure, comedy, fantasy, shounen, supernatural',\n",
              "  'action, adventure, comedy, fantasy, shounen, supernatural',\n",
              "  'action, adventure, comedy, fantasy, shounen, supernatural',\n",
              "  'action, adventure, comedy, fantasy, shounen, supernatural',\n",
              "  'action, adventure, comedy, fantasy, shounen, supernatural',\n",
              "  'action, adventure, comedy, fantasy, shounen, supernatural',\n",
              "  'action, adventure, comedy, fantasy, shounen, supernatural',\n",
              "  'action, adventure, comedy, fantasy, shounen, supernatural',\n",
              "  'action, adventure, comedy, fantasy, shounen, supernatural',\n",
              "  'action, adventure, comedy, fantasy, shounen, supernatural',\n",
              "  'action, adventure, comedy, fantasy, shounen, supernatural',\n",
              "  'action, adventure, comedy, fantasy, shounen, supernatural',\n",
              "  'action, adventure, comedy, fantasy, shounen, supernatural',\n",
              "  'action, adventure, comedy, fantasy, shounen, supernatural',\n",
              "  'action, adventure, comedy, fantasy, shounen, supernatural',\n",
              "  'action, adventure, comedy, fantasy, shounen, supernatural',\n",
              "  'action, adventure, comedy, fantasy, shounen, supernatural',\n",
              "  'action, adventure, comedy, fantasy, shounen, supernatural',\n",
              "  'action, adventure, comedy, fantasy, shounen, supernatural'],\n",
              " 'Digimon Tamers': ['adventure, comedy, drama, fantasy, shounen',\n",
              "  'adventure, comedy, drama, fantasy, shounen'],\n",
              " 'Katekyo Hitman Reborn! Special': ['comedy, shounen', 'comedy, shounen'],\n",
              " 'Nodame Cantabile OVA 2': ['comedy, josei, romance',\n",
              "  'comedy, josei, romance'],\n",
              " 'Nichijou': ['comedy, school, slice of life',\n",
              "  'comedy, school, slice of life',\n",
              "  'comedy, school, slice of life',\n",
              "  'comedy, school, slice of life',\n",
              "  'comedy, school, slice of life'],\n",
              " 'Bleach': ['action, comedy, shounen, super power, supernatural',\n",
              "  'action, comedy, shounen, super power, supernatural',\n",
              "  'action, comedy, shounen, super power, supernatural',\n",
              "  'action, comedy, shounen, super power, supernatural',\n",
              "  'action, comedy, shounen, super power, supernatural',\n",
              "  'action, comedy, shounen, super power, supernatural',\n",
              "  'action, comedy, shounen, super power, supernatural',\n",
              "  'action, comedy, shounen, super power, supernatural',\n",
              "  'action, comedy, shounen, super power, supernatural'],\n",
              " 'Air': ['drama, romance, slice of life, supernatural',\n",
              "  'drama, romance, slice of life, supernatural',\n",
              "  'drama, romance, slice of life, supernatural',\n",
              "  'drama, romance, slice of life, supernatural',\n",
              "  'drama, romance, slice of life, supernatural'],\n",
              " 'Fate/stay night': ['action, fantasy, magic, romance, supernatural',\n",
              "  'action, fantasy, magic, romance, supernatural',\n",
              "  'action, fantasy, magic, romance, supernatural',\n",
              "  'action, fantasy, magic, romance, supernatural',\n",
              "  'action, fantasy, magic, romance, supernatural',\n",
              "  'action, fantasy, magic, romance, supernatural',\n",
              "  'action, fantasy, magic, romance, supernatural',\n",
              "  'action, fantasy, magic, romance, supernatural',\n",
              "  'action, fantasy, magic, romance, supernatural',\n",
              "  'action, fantasy, magic, romance, supernatural',\n",
              "  'action, fantasy, magic, romance, supernatural',\n",
              "  'action, fantasy, magic, romance, supernatural'],\n",
              " 'Inu to Hasami wa Tsukaiyou': ['comedy, supernatural'],\n",
              " 'Dance in the Vampire Bund': ['action, supernatural, vampire',\n",
              "  'action, supernatural, vampire',\n",
              "  'action, supernatural, vampire'],\n",
              " 'Kami nomi zo Shiru Sekai: Megami-hen': ['comedy, harem, romance, shounen, supernatural',\n",
              "  'comedy, harem, romance, shounen, supernatural',\n",
              "  'comedy, harem, romance, shounen, supernatural',\n",
              "  'comedy, harem, romance, shounen, supernatural',\n",
              "  'comedy, harem, romance, shounen, supernatural',\n",
              "  'comedy, harem, romance, shounen, supernatural'],\n",
              " 'Tengen Toppa Gurren Lagann: Ore no Gurren wa Pikka-Pika!!': ['action, adventure, comedy, mecha, sci-fi',\n",
              "  'action, adventure, comedy, mecha, sci-fi'],\n",
              " 'Kore wa Zombie Desu ka? of the Dead': ['action, comedy, ecchi, harem, magic, supernatural',\n",
              "  'action, comedy, ecchi, harem, magic, supernatural',\n",
              "  'action, comedy, ecchi, harem, magic, supernatural',\n",
              "  'action, comedy, ecchi, harem, magic, supernatural',\n",
              "  'action, comedy, ecchi, harem, magic, supernatural',\n",
              "  'action, comedy, ecchi, harem, magic, supernatural',\n",
              "  'action, comedy, ecchi, harem, magic, supernatural',\n",
              "  'action, comedy, ecchi, harem, magic, supernatural',\n",
              "  'action, comedy, ecchi, harem, magic, supernatural'],\n",
              " 'Beck': ['comedy, drama, music, shounen, slice of life',\n",
              "  'comedy, drama, music, shounen, slice of life',\n",
              "  'comedy, drama, music, shounen, slice of life',\n",
              "  'comedy, drama, music, shounen, slice of life',\n",
              "  'comedy, drama, music, shounen, slice of life',\n",
              "  'comedy, drama, music, shounen, slice of life',\n",
              "  'comedy, drama, music, shounen, slice of life'],\n",
              " 'Aa! Megami-sama!': ['comedy, magic, romance, seinen, supernatural',\n",
              "  'comedy, magic, romance, seinen, supernatural'],\n",
              " 'Mobile Suit Gundam Seed Destiny Final Plus: The Chosen Future': ['drama, mecha, military, sci-fi, space',\n",
              "  'drama, mecha, military, sci-fi, space'],\n",
              " 'Danshi Koukousei no Nichijou': ['comedy, school, shounen, slice of life',\n",
              "  'comedy, school, shounen, slice of life',\n",
              "  'comedy, school, shounen, slice of life',\n",
              "  'comedy, school, shounen, slice of life',\n",
              "  'comedy, school, shounen, slice of life'],\n",
              " 'Bleach Movie 4: Jigoku-hen': ['action, comedy, shounen, super power, supernatural',\n",
              "  'action, comedy, shounen, super power, supernatural',\n",
              "  'action, comedy, shounen, super power, supernatural'],\n",
              " 'Full Metal Panic? Fumoffu': ['action, comedy, school',\n",
              "  'action, comedy, school',\n",
              "  'action, comedy, school',\n",
              "  'action, comedy, school',\n",
              "  'action, comedy, school',\n",
              "  'action, comedy, school'],\n",
              " 'Hetalia Axis Powers': ['comedy, historical, parody',\n",
              "  'comedy, historical, parody',\n",
              "  'comedy, historical, parody',\n",
              "  'comedy, historical, parody',\n",
              "  'comedy, historical, parody'],\n",
              " 'Uchuu Kaizoku Captain Harlock': ['action, adventure, drama, sci-fi, seinen, space'],\n",
              " 'UN-GO': ['mystery, supernatural', 'mystery, supernatural'],\n",
              " 'Samurai Girl Real Bout High School': ['adventure, comedy, fantasy, shounen'],\n",
              " 'Sakasama no Patema': ['sci-fi, seinen', 'sci-fi, seinen'],\n",
              " 'Sword Art Online II': ['action, adventure, fantasy, game, romance',\n",
              "  'action, adventure, fantasy, game, romance',\n",
              "  'action, adventure, fantasy, game, romance',\n",
              "  'action, adventure, fantasy, game, romance',\n",
              "  'action, adventure, fantasy, game, romance',\n",
              "  'action, adventure, fantasy, game, romance',\n",
              "  'action, adventure, fantasy, game, romance',\n",
              "  'action, adventure, fantasy, game, romance'],\n",
              " 'Smile Precure! Movie: Ehon no Naka wa Minna Chiguhagu!': ['fantasy, kids, magic, shoujo'],\n",
              " 'Sakurasou no Pet na Kanojo': ['comedy, drama, romance, school, slice of life',\n",
              "  'comedy, drama, romance, school, slice of life',\n",
              "  'comedy, drama, romance, school, slice of life',\n",
              "  'comedy, drama, romance, school, slice of life',\n",
              "  'comedy, drama, romance, school, slice of life',\n",
              "  'comedy, drama, romance, school, slice of life',\n",
              "  'comedy, drama, romance, school, slice of life',\n",
              "  'comedy, drama, romance, school, slice of life'],\n",
              " 'Papa no Iukoto wo Kikinasai!': ['comedy, romance, slice of life',\n",
              "  'comedy, romance, slice of life',\n",
              "  'comedy, romance, slice of life',\n",
              "  'comedy, romance, slice of life',\n",
              "  'comedy, romance, slice of life'],\n",
              " 'Clannad': ['comedy, drama, romance, school, slice of life, supernatural',\n",
              "  'comedy, drama, romance, school, slice of life, supernatural',\n",
              "  'comedy, drama, romance, school, slice of life, supernatural',\n",
              "  'comedy, drama, romance, school, slice of life, supernatural',\n",
              "  'comedy, drama, romance, school, slice of life, supernatural',\n",
              "  'comedy, drama, romance, school, slice of life, supernatural',\n",
              "  'comedy, drama, romance, school, slice of life, supernatural',\n",
              "  'comedy, drama, romance, school, slice of life, supernatural',\n",
              "  'comedy, drama, romance, school, slice of life, supernatural',\n",
              "  'comedy, drama, romance, school, slice of life, supernatural'],\n",
              " 'Maji de Watashi ni Koi Shinasai!': ['comedy, ecchi, harem, martial arts, romance, school, super power',\n",
              "  'comedy, ecchi, harem, martial arts, romance, school, super power',\n",
              "  'comedy, ecchi, harem, martial arts, romance, school, super power',\n",
              "  'comedy, ecchi, harem, martial arts, romance, school, super power',\n",
              "  'comedy, ecchi, harem, martial arts, romance, school, super power',\n",
              "  'comedy, ecchi, harem, martial arts, romance, school, super power'],\n",
              " 'Durarara!!x2 Ten': ['action, mystery, supernatural'],\n",
              " 'Zero no Tsukaima: Princesses no Rondo': ['action, adventure, comedy, ecchi, fantasy, harem, magic, romance, school',\n",
              "  'action, adventure, comedy, ecchi, fantasy, harem, magic, romance, school',\n",
              "  'action, adventure, comedy, ecchi, fantasy, harem, magic, romance, school',\n",
              "  'action, adventure, comedy, ecchi, fantasy, harem, magic, romance, school',\n",
              "  'action, adventure, comedy, ecchi, fantasy, harem, magic, romance, school',\n",
              "  'action, adventure, comedy, ecchi, fantasy, harem, magic, romance, school',\n",
              "  'action, adventure, comedy, ecchi, fantasy, harem, magic, romance, school'],\n",
              " 'Amaama to Inazuma': ['comedy, seinen, slice of life'],\n",
              " 'Gosick': ['drama, historical, mystery, romance',\n",
              "  'drama, historical, mystery, romance',\n",
              "  'drama, historical, mystery, romance',\n",
              "  'drama, historical, mystery, romance'],\n",
              " 'Shuffle!': ['comedy, drama, ecchi, fantasy, harem, magic, romance, school, seinen',\n",
              "  'comedy, drama, ecchi, fantasy, harem, magic, romance, school, seinen',\n",
              "  'comedy, drama, ecchi, fantasy, harem, magic, romance, school, seinen',\n",
              "  'comedy, drama, ecchi, fantasy, harem, magic, romance, school, seinen',\n",
              "  'comedy, drama, ecchi, fantasy, harem, magic, romance, school, seinen',\n",
              "  'comedy, drama, ecchi, fantasy, harem, magic, romance, school, seinen',\n",
              "  'comedy, drama, ecchi, fantasy, harem, magic, romance, school, seinen'],\n",
              " 'Yozakura Quartet: Hana no Uta': ['action, comedy, magic, shounen, super power, supernatural'],\n",
              " 'Coyote Ragtime Show': ['action, adventure, comedy, mecha, sci-fi, shounen'],\n",
              " 'Ore, Twintail ni Narimasu.': ['action, comedy, fantasy, romance, school, shounen',\n",
              "  'action, comedy, fantasy, romance, school, shounen',\n",
              "  'action, comedy, fantasy, romance, school, shounen',\n",
              "  'action, comedy, fantasy, romance, school, shounen'],\n",
              " 'Candy Boy Episode: EX01 - Mirai Yohouzu': ['school, shoujo ai, slice of life'],\n",
              " 'Howl no Ugoku Shiro': ['adventure, drama, fantasy, romance',\n",
              "  'adventure, drama, fantasy, romance',\n",
              "  'adventure, drama, fantasy, romance',\n",
              "  'adventure, drama, fantasy, romance',\n",
              "  'adventure, drama, fantasy, romance',\n",
              "  'adventure, drama, fantasy, romance',\n",
              "  'adventure, drama, fantasy, romance',\n",
              "  'adventure, drama, fantasy, romance',\n",
              "  'adventure, drama, fantasy, romance',\n",
              "  'adventure, drama, fantasy, romance',\n",
              "  'adventure, drama, fantasy, romance'],\n",
              " 'Bamboo Blade': ['comedy, school, seinen, sports',\n",
              "  'comedy, school, seinen, sports',\n",
              "  'comedy, school, seinen, sports'],\n",
              " 'Orange': ['drama, romance, school, sci-fi, shoujo'],\n",
              " 'Kimi ga Aruji de Shitsuji ga Ore de': ['comedy, ecchi, harem, parody, romance',\n",
              "  'comedy, ecchi, harem, parody, romance'],\n",
              " 'Baka to Test to Shoukanjuu Ni!': ['comedy, romance, school, super power',\n",
              "  'comedy, romance, school, super power',\n",
              "  'comedy, romance, school, super power',\n",
              "  'comedy, romance, school, super power',\n",
              "  'comedy, romance, school, super power',\n",
              "  'comedy, romance, school, super power',\n",
              "  'comedy, romance, school, super power',\n",
              "  'comedy, romance, school, super power',\n",
              "  'comedy, romance, school, super power'],\n",
              " 'Tatakae! Chou Robot Seimeitai Transformers': ['adventure, mecha, sci-fi, shounen'],\n",
              " 'Akira': ['action, adventure, horror, military, sci-fi, supernatural',\n",
              "  'action, adventure, horror, military, sci-fi, supernatural',\n",
              "  'action, adventure, horror, military, sci-fi, supernatural',\n",
              "  'action, adventure, horror, military, sci-fi, supernatural',\n",
              "  'action, adventure, horror, military, sci-fi, supernatural',\n",
              "  'action, adventure, horror, military, sci-fi, supernatural',\n",
              "  'action, adventure, horror, military, sci-fi, supernatural',\n",
              "  'action, adventure, horror, military, sci-fi, supernatural',\n",
              "  'action, adventure, horror, military, sci-fi, supernatural'],\n",
              " 'Kara no Kyoukai 2: Satsujin Kousatsu (Zen)': ['action, mystery, romance, supernatural, thriller',\n",
              "  'action, mystery, romance, supernatural, thriller',\n",
              "  'action, mystery, romance, supernatural, thriller',\n",
              "  'action, mystery, romance, supernatural, thriller',\n",
              "  'action, mystery, romance, supernatural, thriller',\n",
              "  'action, mystery, romance, supernatural, thriller',\n",
              "  'action, mystery, romance, supernatural, thriller'],\n",
              " 'Prison School': ['comedy, ecchi, romance, school, seinen',\n",
              "  'comedy, ecchi, romance, school, seinen',\n",
              "  'comedy, ecchi, romance, school, seinen'],\n",
              " 'Ouran Koukou Host Club': ['comedy, harem, romance, school, shoujo',\n",
              "  'comedy, harem, romance, school, shoujo',\n",
              "  'comedy, harem, romance, school, shoujo',\n",
              "  'comedy, harem, romance, school, shoujo',\n",
              "  'comedy, harem, romance, school, shoujo',\n",
              "  'comedy, harem, romance, school, shoujo',\n",
              "  'comedy, harem, romance, school, shoujo',\n",
              "  'comedy, harem, romance, school, shoujo',\n",
              "  'comedy, harem, romance, school, shoujo',\n",
              "  'comedy, harem, romance, school, shoujo',\n",
              "  'comedy, harem, romance, school, shoujo',\n",
              "  'comedy, harem, romance, school, shoujo'],\n",
              " 'Kotonoha no Niwa': ['drama, psychological, romance, slice of life',\n",
              "  'drama, psychological, romance, slice of life',\n",
              "  'drama, psychological, romance, slice of life',\n",
              "  'drama, psychological, romance, slice of life'],\n",
              " 'Jormungand: Perfect Order - First Stage Soushuuhen': ['action, adventure, seinen'],\n",
              " 'Hanaukyou Maid-tai: La Verite': ['comedy, ecchi, harem, romance'],\n",
              " 'Hunter x Hunter Movie: The Last Mission': ['action, adventure, shounen, super power',\n",
              "  'action, adventure, shounen, super power',\n",
              "  'action, adventure, shounen, super power'],\n",
              " 'Ookami Kodomo no Ame to Yuki': ['fantasy, slice of life',\n",
              "  'fantasy, slice of life',\n",
              "  'fantasy, slice of life',\n",
              "  'fantasy, slice of life',\n",
              "  'fantasy, slice of life'],\n",
              " 'Tetsuwan Birdy': ['action, comedy, sci-fi, shounen'],\n",
              " 'Rosario to Vampire': ['comedy, ecchi, fantasy, harem, romance, school, shounen, vampire',\n",
              "  'comedy, ecchi, fantasy, harem, romance, school, shounen, vampire',\n",
              "  'comedy, ecchi, fantasy, harem, romance, school, shounen, vampire',\n",
              "  'comedy, ecchi, fantasy, harem, romance, school, shounen, vampire',\n",
              "  'comedy, ecchi, fantasy, harem, romance, school, shounen, vampire',\n",
              "  'comedy, ecchi, fantasy, harem, romance, school, shounen, vampire',\n",
              "  'comedy, ecchi, fantasy, harem, romance, school, shounen, vampire',\n",
              "  'comedy, ecchi, fantasy, harem, romance, school, shounen, vampire',\n",
              "  'comedy, ecchi, fantasy, harem, romance, school, shounen, vampire',\n",
              "  'comedy, ecchi, fantasy, harem, romance, school, shounen, vampire',\n",
              "  'comedy, ecchi, fantasy, harem, romance, school, shounen, vampire',\n",
              "  'comedy, ecchi, fantasy, harem, romance, school, shounen, vampire',\n",
              "  'comedy, ecchi, fantasy, harem, romance, school, shounen, vampire',\n",
              "  'comedy, ecchi, fantasy, harem, romance, school, shounen, vampire',\n",
              "  'comedy, ecchi, fantasy, harem, romance, school, shounen, vampire',\n",
              "  'comedy, ecchi, fantasy, harem, romance, school, shounen, vampire',\n",
              "  'comedy, ecchi, fantasy, harem, romance, school, shounen, vampire',\n",
              "  'comedy, ecchi, fantasy, harem, romance, school, shounen, vampire'],\n",
              " 'Code Geass: Hangyaku no Lelouch': ['action, mecha, military, school, sci-fi, super power',\n",
              "  'action, mecha, military, school, sci-fi, super power',\n",
              "  'action, mecha, military, school, sci-fi, super power',\n",
              "  'action, mecha, military, school, sci-fi, super power',\n",
              "  'action, mecha, military, school, sci-fi, super power',\n",
              "  'action, mecha, military, school, sci-fi, super power',\n",
              "  'action, mecha, military, school, sci-fi, super power',\n",
              "  'action, mecha, military, school, sci-fi, super power',\n",
              "  'action, mecha, military, school, sci-fi, super power',\n",
              "  'action, mecha, military, school, sci-fi, super power',\n",
              "  'action, mecha, military, school, sci-fi, super power'],\n",
              " 'Gokujou Seitokai': ['comedy, school, slice of life'],\n",
              " 'Nogizaka Haruka no Himitsu: Purezza': ['comedy, ecchi, romance',\n",
              "  'comedy, ecchi, romance'],\n",
              " 'Ookami to Koushinryou': ['adventure, fantasy, historical, romance',\n",
              "  'adventure, fantasy, historical, romance',\n",
              "  'adventure, fantasy, historical, romance',\n",
              "  'adventure, fantasy, historical, romance',\n",
              "  'adventure, fantasy, historical, romance',\n",
              "  'adventure, fantasy, historical, romance',\n",
              "  'adventure, fantasy, historical, romance',\n",
              "  'adventure, fantasy, historical, romance',\n",
              "  'adventure, fantasy, historical, romance',\n",
              "  'adventure, fantasy, historical, romance',\n",
              "  'adventure, fantasy, historical, romance',\n",
              "  'adventure, fantasy, historical, romance'],\n",
              " '.hack//Roots': ['adventure, drama, fantasy, game, sci-fi',\n",
              "  'adventure, drama, fantasy, game, sci-fi'],\n",
              " 'Glass no Kamen (2005)': ['drama, shoujo', 'drama, shoujo'],\n",
              " 'K-On!: Live House!': ['comedy, music, school, slice of life',\n",
              "  'comedy, music, school, slice of life',\n",
              "  'comedy, music, school, slice of life',\n",
              "  'comedy, music, school, slice of life'],\n",
              " 'Onegai☆Teacher: Himitsu na Futari': ['comedy, ecchi, romance, sci-fi',\n",
              "  'comedy, ecchi, romance, sci-fi',\n",
              "  'comedy, ecchi, romance, sci-fi',\n",
              "  'comedy, ecchi, romance, sci-fi',\n",
              "  'comedy, ecchi, romance, sci-fi'],\n",
              " 'Shadow Skill: Eigi': ['adventure, drama, fantasy, magic, martial arts, shounen, super power'],\n",
              " 'Kaichou wa Maid-sama!': ['comedy, romance, school, shoujo',\n",
              "  'comedy, romance, school, shoujo',\n",
              "  'comedy, romance, school, shoujo',\n",
              "  'comedy, romance, school, shoujo',\n",
              "  'comedy, romance, school, shoujo',\n",
              "  'comedy, romance, school, shoujo',\n",
              "  'comedy, romance, school, shoujo',\n",
              "  'comedy, romance, school, shoujo',\n",
              "  'comedy, romance, school, shoujo',\n",
              "  'comedy, romance, school, shoujo',\n",
              "  'comedy, romance, school, shoujo',\n",
              "  'comedy, romance, school, shoujo'],\n",
              " 'Itazura na Kiss': ['comedy, romance, shoujo',\n",
              "  'comedy, romance, shoujo',\n",
              "  'comedy, romance, shoujo'],\n",
              " 'IS: Infinite Stratos': ['action, comedy, harem, mecha, sci-fi',\n",
              "  'action, comedy, harem, mecha, sci-fi',\n",
              "  'action, comedy, harem, mecha, sci-fi',\n",
              "  'action, comedy, harem, mecha, sci-fi',\n",
              "  'action, comedy, harem, mecha, sci-fi'],\n",
              " 'Musaigen no Phantom World': ['action, comedy, fantasy, slice of life, supernatural'],\n",
              " 'Full Metal Panic!': ['action, comedy, mecha, military, sci-fi',\n",
              "  'action, comedy, mecha, military, sci-fi',\n",
              "  'action, comedy, mecha, military, sci-fi',\n",
              "  'action, comedy, mecha, military, sci-fi',\n",
              "  'action, comedy, mecha, military, sci-fi',\n",
              "  'action, comedy, mecha, military, sci-fi',\n",
              "  'action, comedy, mecha, military, sci-fi'],\n",
              " 'Chuu Bra!!': ['comedy, ecchi, school'],\n",
              " 'Ansatsu Kyoushitsu (TV) 2nd Season': ['action, comedy, school, shounen',\n",
              "  'action, comedy, school, shounen',\n",
              "  'action, comedy, school, shounen'],\n",
              " 'Queen&#039;s Blade OVA': ['action, adventure, ecchi, fantasy',\n",
              "  'action, adventure, ecchi, fantasy'],\n",
              " 'Harmonie': ['drama, school, supernatural'],\n",
              " 'Nekojiru-sou': ['comedy, dementia, psychological',\n",
              "  'comedy, dementia, psychological'],\n",
              " 'Neo Angelique Abyss: Second Age': ['adventure, fantasy, harem, shoujo',\n",
              "  'adventure, fantasy, harem, shoujo'],\n",
              " 'Pokemon: Celebi Toki wo Koeta Deai': ['adventure, comedy, drama, fantasy, kids',\n",
              "  'adventure, comedy, drama, fantasy, kids'],\n",
              " 'Rainbow: Nisha Rokubou no Shichinin': ['drama, historical, seinen, thriller'],\n",
              " 'Mahoromatic 2': ['comedy, drama, ecchi, military, romance, sci-fi',\n",
              "  'comedy, drama, ecchi, military, romance, sci-fi',\n",
              "  'comedy, drama, ecchi, military, romance, sci-fi',\n",
              "  'comedy, drama, ecchi, military, romance, sci-fi'],\n",
              " 'Clannad: After Story': ['drama, fantasy, romance, slice of life, supernatural',\n",
              "  'drama, fantasy, romance, slice of life, supernatural',\n",
              "  'drama, fantasy, romance, slice of life, supernatural',\n",
              "  'drama, fantasy, romance, slice of life, supernatural',\n",
              "  'drama, fantasy, romance, slice of life, supernatural',\n",
              "  'drama, fantasy, romance, slice of life, supernatural',\n",
              "  'drama, fantasy, romance, slice of life, supernatural',\n",
              "  'drama, fantasy, romance, slice of life, supernatural',\n",
              "  'drama, fantasy, romance, slice of life, supernatural',\n",
              "  'drama, fantasy, romance, slice of life, supernatural',\n",
              "  'drama, fantasy, romance, slice of life, supernatural',\n",
              "  'drama, fantasy, romance, slice of life, supernatural',\n",
              "  'drama, fantasy, romance, slice of life, supernatural'],\n",
              " 'Memories': ['drama, horror, psychological, sci-fi',\n",
              "  'drama, horror, psychological, sci-fi'],\n",
              " 'Anitore! EX: Jigoku no Training': ['sports'],\n",
              " 'Tokyo Ghoul': ['action, drama, horror, mystery, psychological, seinen, supernatural',\n",
              "  'action, drama, horror, mystery, psychological, seinen, supernatural',\n",
              "  'action, drama, horror, mystery, psychological, seinen, supernatural',\n",
              "  'action, drama, horror, mystery, psychological, seinen, supernatural',\n",
              "  'action, drama, horror, mystery, psychological, seinen, supernatural',\n",
              "  'action, drama, horror, mystery, psychological, seinen, supernatural',\n",
              "  'action, drama, horror, mystery, psychological, seinen, supernatural',\n",
              "  'action, drama, horror, mystery, psychological, seinen, supernatural',\n",
              "  'action, drama, horror, mystery, psychological, seinen, supernatural',\n",
              "  'action, drama, horror, mystery, psychological, seinen, supernatural',\n",
              "  'action, drama, horror, mystery, psychological, seinen, supernatural'],\n",
              " 'Diabolik Lovers More,Blood': ['harem, school, shoujo, vampire'],\n",
              " 'Shijou Saikyou no Deshi Kenichi': ['action, comedy, martial arts, school, shounen',\n",
              "  'action, comedy, martial arts, school, shounen',\n",
              "  'action, comedy, martial arts, school, shounen',\n",
              "  'action, comedy, martial arts, school, shounen',\n",
              "  'action, comedy, martial arts, school, shounen',\n",
              "  'action, comedy, martial arts, school, shounen'],\n",
              " 'Kami nomi zo Shiru Sekai: Tenri-hen': ['comedy, harem, romance, shounen, supernatural',\n",
              "  'comedy, harem, romance, shounen, supernatural'],\n",
              " 'Yahari Ore no Seishun Love Comedy wa Machigatteiru. OVA': ['comedy, romance, school',\n",
              "  'comedy, romance, school',\n",
              "  'comedy, romance, school'],\n",
              " 'Suzumiya Haruhi no Yuuutsu': ['comedy, mystery, parody, school, sci-fi, slice of life',\n",
              "  'comedy, mystery, parody, school, sci-fi, slice of life',\n",
              "  'comedy, mystery, parody, school, sci-fi, slice of life',\n",
              "  'comedy, mystery, parody, school, sci-fi, slice of life',\n",
              "  'comedy, mystery, parody, school, sci-fi, slice of life',\n",
              "  'comedy, mystery, parody, school, sci-fi, slice of life',\n",
              "  'comedy, mystery, parody, school, sci-fi, slice of life',\n",
              "  'comedy, mystery, parody, school, sci-fi, slice of life',\n",
              "  'comedy, mystery, parody, school, sci-fi, slice of life',\n",
              "  'comedy, mystery, parody, school, sci-fi, slice of life',\n",
              "  'comedy, mystery, parody, school, sci-fi, slice of life',\n",
              "  'comedy, mystery, parody, school, sci-fi, slice of life'],\n",
              " 'Another': ['horror, mystery, school, supernatural, thriller',\n",
              "  'horror, mystery, school, supernatural, thriller',\n",
              "  'horror, mystery, school, supernatural, thriller',\n",
              "  'horror, mystery, school, supernatural, thriller',\n",
              "  'horror, mystery, school, supernatural, thriller',\n",
              "  'horror, mystery, school, supernatural, thriller',\n",
              "  'horror, mystery, school, supernatural, thriller',\n",
              "  'horror, mystery, school, supernatural, thriller',\n",
              "  'horror, mystery, school, supernatural, thriller',\n",
              "  'horror, mystery, school, supernatural, thriller',\n",
              "  'horror, mystery, school, supernatural, thriller',\n",
              "  'horror, mystery, school, supernatural, thriller',\n",
              "  'horror, mystery, school, supernatural, thriller',\n",
              "  'horror, mystery, school, supernatural, thriller',\n",
              "  'horror, mystery, school, supernatural, thriller'],\n",
              " 'Gintama': ['action, comedy, historical, parody, samurai, sci-fi, shounen',\n",
              "  'action, comedy, historical, parody, samurai, sci-fi, shounen',\n",
              "  'action, comedy, historical, parody, samurai, sci-fi, shounen',\n",
              "  'action, comedy, historical, parody, samurai, sci-fi, shounen',\n",
              "  'action, comedy, historical, parody, samurai, sci-fi, shounen'],\n",
              " 'Vampire Knight Guilty': ['drama, mystery, romance, shoujo, supernatural, vampire',\n",
              "  'drama, mystery, romance, shoujo, supernatural, vampire',\n",
              "  'drama, mystery, romance, shoujo, supernatural, vampire',\n",
              "  'drama, mystery, romance, shoujo, supernatural, vampire',\n",
              "  'drama, mystery, romance, shoujo, supernatural, vampire'],\n",
              " 'Mouryou no Hako': ['mystery, seinen, supernatural, thriller',\n",
              "  'mystery, seinen, supernatural, thriller',\n",
              "  'mystery, seinen, supernatural, thriller',\n",
              "  'mystery, seinen, supernatural, thriller'],\n",
              " 'Basquash!': ['ecchi, mecha, shounen, sports'],\n",
              " 'Ginyuu Mokushiroku Meine Liebe': ['fantasy, shoujo'],\n",
              " 'Nozo x Kimi': ['comedy, ecchi, romance, school, shounen'],\n",
              " 'Code Geass: Hangyaku no Lelouch R2': ['action, drama, mecha, military, sci-fi, super power',\n",
              "  'action, drama, mecha, military, sci-fi, super power',\n",
              "  'action, drama, mecha, military, sci-fi, super power',\n",
              "  'action, drama, mecha, military, sci-fi, super power',\n",
              "  'action, drama, mecha, military, sci-fi, super power',\n",
              "  'action, drama, mecha, military, sci-fi, super power',\n",
              "  'action, drama, mecha, military, sci-fi, super power',\n",
              "  'action, drama, mecha, military, sci-fi, super power',\n",
              "  'action, drama, mecha, military, sci-fi, super power',\n",
              "  'action, drama, mecha, military, sci-fi, super power',\n",
              "  'action, drama, mecha, military, sci-fi, super power',\n",
              "  'action, drama, mecha, military, sci-fi, super power',\n",
              "  'action, drama, mecha, military, sci-fi, super power',\n",
              "  'action, drama, mecha, military, sci-fi, super power',\n",
              "  'action, drama, mecha, military, sci-fi, super power',\n",
              "  'action, drama, mecha, military, sci-fi, super power'],\n",
              " 'Hidamari Sketch x ☆☆☆': ['comedy, school, slice of life'],\n",
              " 'Majo no Takkyuubin': ['adventure, comedy, drama, fantasy, magic, romance',\n",
              "  'adventure, comedy, drama, fantasy, magic, romance',\n",
              "  'adventure, comedy, drama, fantasy, magic, romance',\n",
              "  'adventure, comedy, drama, fantasy, magic, romance',\n",
              "  'adventure, comedy, drama, fantasy, magic, romance',\n",
              "  'adventure, comedy, drama, fantasy, magic, romance'],\n",
              " 'Digimon Frontier': ['action, adventure, comedy, drama, fantasy, shounen',\n",
              "  'action, adventure, comedy, drama, fantasy, shounen',\n",
              "  'action, adventure, comedy, drama, fantasy, shounen'],\n",
              " 'Sword Art Online': ['action, adventure, fantasy, game, romance',\n",
              "  'action, adventure, fantasy, game, romance',\n",
              "  'action, adventure, fantasy, game, romance',\n",
              "  'action, adventure, fantasy, game, romance',\n",
              "  'action, adventure, fantasy, game, romance',\n",
              "  'action, adventure, fantasy, game, romance',\n",
              "  'action, adventure, fantasy, game, romance',\n",
              "  'action, adventure, fantasy, game, romance',\n",
              "  'action, adventure, fantasy, game, romance',\n",
              "  'action, adventure, fantasy, game, romance',\n",
              "  'action, adventure, fantasy, game, romance',\n",
              "  'action, adventure, fantasy, game, romance',\n",
              "  'action, adventure, fantasy, game, romance',\n",
              "  'action, adventure, fantasy, game, romance',\n",
              "  'action, adventure, fantasy, game, romance',\n",
              "  'action, adventure, fantasy, game, romance',\n",
              "  'action, adventure, fantasy, game, romance',\n",
              "  'action, adventure, fantasy, game, romance'],\n",
              " 'Pokemon: Mizu no Miyako no Mamorigami Latias to Latios': ['adventure, comedy, drama, fantasy, kids',\n",
              "  'adventure, comedy, drama, fantasy, kids',\n",
              "  'adventure, comedy, drama, fantasy, kids'],\n",
              " 'No Game No Life': ['adventure, comedy, ecchi, fantasy, game, supernatural',\n",
              "  'adventure, comedy, ecchi, fantasy, game, supernatural',\n",
              "  'adventure, comedy, ecchi, fantasy, game, supernatural',\n",
              "  'adventure, comedy, ecchi, fantasy, game, supernatural',\n",
              "  'adventure, comedy, ecchi, fantasy, game, supernatural',\n",
              "  'adventure, comedy, ecchi, fantasy, game, supernatural',\n",
              "  'adventure, comedy, ecchi, fantasy, game, supernatural',\n",
              "  'adventure, comedy, ecchi, fantasy, game, supernatural',\n",
              "  'adventure, comedy, ecchi, fantasy, game, supernatural',\n",
              "  'adventure, comedy, ecchi, fantasy, game, supernatural',\n",
              "  'adventure, comedy, ecchi, fantasy, game, supernatural',\n",
              "  'adventure, comedy, ecchi, fantasy, game, supernatural',\n",
              "  'adventure, comedy, ecchi, fantasy, game, supernatural'],\n",
              " 'Nodame Cantabile': ['comedy, drama, josei, music, romance, slice of life',\n",
              "  'comedy, drama, josei, music, romance, slice of life',\n",
              "  'comedy, drama, josei, music, romance, slice of life'],\n",
              " 'Juubee-chan: Lovely Gantai no Himitsu': ['action, adventure, comedy, drama, shounen'],\n",
              " 'Jitsu wa Watashi wa': ['comedy, fantasy, romance, school, shounen, supernatural',\n",
              "  'comedy, fantasy, romance, school, shounen, supernatural'],\n",
              " 'Aoharu x Kikanjuu': ['action, comedy, shounen, sports'],\n",
              " 'Deadman Wonderland OVA': ['action, horror, sci-fi',\n",
              "  'action, horror, sci-fi'],\n",
              " 'Genshiken': ['comedy, parody, slice of life',\n",
              "  'comedy, parody, slice of life',\n",
              "  'comedy, parody, slice of life',\n",
              "  'comedy, parody, slice of life',\n",
              "  'comedy, parody, slice of life',\n",
              "  'comedy, parody, slice of life'],\n",
              " 'Mahou Shoujo Madoka★Magica Movie 3: Hangyaku no Monogatari': ['drama, magic, psychological, thriller',\n",
              "  'drama, magic, psychological, thriller',\n",
              "  'drama, magic, psychological, thriller',\n",
              "  'drama, magic, psychological, thriller',\n",
              "  'drama, magic, psychological, thriller',\n",
              "  'drama, magic, psychological, thriller',\n",
              "  'drama, magic, psychological, thriller'],\n",
              " 'Shin Shirayuki-hime Densetsu Prétear': ['comedy, drama, fantasy, magic, romance, shoujo, super power',\n",
              "  'comedy, drama, fantasy, magic, romance, shoujo, super power',\n",
              "  'comedy, drama, fantasy, magic, romance, shoujo, super power'],\n",
              " 'Gensoumaden Saiyuuki': ['adventure, comedy, drama, shounen, supernatural'],\n",
              " 'Nabari no Ou': ['action, comedy, drama, fantasy, shounen, supernatural'],\n",
              " 'High School DxD OVA': ['comedy, demons, ecchi, romance, school',\n",
              "  'comedy, demons, ecchi, romance, school',\n",
              "  'comedy, demons, ecchi, romance, school'],\n",
              " 'Kill la Kill': ['action, comedy, school, super power',\n",
              "  'action, comedy, school, super power',\n",
              "  'action, comedy, school, super power',\n",
              "  'action, comedy, school, super power',\n",
              "  'action, comedy, school, super power',\n",
              "  'action, comedy, school, super power',\n",
              "  'action, comedy, school, super power',\n",
              "  'action, comedy, school, super power',\n",
              "  'action, comedy, school, super power',\n",
              "  'action, comedy, school, super power',\n",
              "  'action, comedy, school, super power'],\n",
              " 'Afro Samurai': ['action, adventure, samurai',\n",
              "  'action, adventure, samurai',\n",
              "  'action, adventure, samurai'],\n",
              " 'Bakuman. 3rd Season': ['comedy, drama, romance, shounen',\n",
              "  'comedy, drama, romance, shounen',\n",
              "  'comedy, drama, romance, shounen',\n",
              "  'comedy, drama, romance, shounen',\n",
              "  'comedy, drama, romance, shounen'],\n",
              " 'Final Approach': ['comedy, drama, romance, slice of life'],\n",
              " 'Zoku Sayonara Zetsubou Sensei': ['comedy, parody, school',\n",
              "  'comedy, parody, school',\n",
              "  'comedy, parody, school'],\n",
              " 'Mononoke Hime': ['action, adventure, fantasy',\n",
              "  'action, adventure, fantasy',\n",
              "  'action, adventure, fantasy',\n",
              "  'action, adventure, fantasy',\n",
              "  'action, adventure, fantasy',\n",
              "  'action, adventure, fantasy',\n",
              "  'action, adventure, fantasy',\n",
              "  'action, adventure, fantasy',\n",
              "  'action, adventure, fantasy',\n",
              "  'action, adventure, fantasy',\n",
              "  'action, adventure, fantasy',\n",
              "  'action, adventure, fantasy',\n",
              "  'action, adventure, fantasy',\n",
              "  'action, adventure, fantasy'],\n",
              " 'Black Cat': ['adventure, comedy, sci-fi, shounen, super power',\n",
              "  'adventure, comedy, sci-fi, shounen, super power',\n",
              "  'adventure, comedy, sci-fi, shounen, super power',\n",
              "  'adventure, comedy, sci-fi, shounen, super power',\n",
              "  'adventure, comedy, sci-fi, shounen, super power',\n",
              "  'adventure, comedy, sci-fi, shounen, super power'],\n",
              " 'Seto no Hanayome OVA': ['comedy, parody, romance, school'],\n",
              " 'Angel Beats!: Another Epilogue': ['drama, school, supernatural',\n",
              "  'drama, school, supernatural',\n",
              "  'drama, school, supernatural',\n",
              "  'drama, school, supernatural'],\n",
              " 'Tengen Toppa Gurren Lagann: Parallel Works': ['music', 'music'],\n",
              " 'Kyoukai no Kanata': ['fantasy, slice of life, supernatural',\n",
              "  'fantasy, slice of life, supernatural',\n",
              "  'fantasy, slice of life, supernatural',\n",
              "  'fantasy, slice of life, supernatural',\n",
              "  'fantasy, slice of life, supernatural'],\n",
              " 'Sola': ['drama, romance, slice of life, supernatural',\n",
              "  'drama, romance, slice of life, supernatural',\n",
              "  'drama, romance, slice of life, supernatural',\n",
              "  'drama, romance, slice of life, supernatural',\n",
              "  'drama, romance, slice of life, supernatural'],\n",
              " '3x3 Eyes Seima Densetsu': ['action, adventure, demons, fantasy, horror, romance'],\n",
              " 'Higashi no Eden': ['action, comedy, drama, mystery, romance, sci-fi, thriller',\n",
              "  'action, comedy, drama, mystery, romance, sci-fi, thriller',\n",
              "  'action, comedy, drama, mystery, romance, sci-fi, thriller',\n",
              "  'action, comedy, drama, mystery, romance, sci-fi, thriller',\n",
              "  'action, comedy, drama, mystery, romance, sci-fi, thriller'],\n",
              " 'Dragon Ball Z': ['action, adventure, comedy, fantasy, martial arts, shounen, super power',\n",
              "  'action, adventure, comedy, fantasy, martial arts, shounen, super power',\n",
              "  'action, adventure, comedy, fantasy, martial arts, shounen, super power',\n",
              "  'action, adventure, comedy, fantasy, martial arts, shounen, super power',\n",
              "  'action, adventure, comedy, fantasy, martial arts, shounen, super power',\n",
              "  'action, adventure, comedy, fantasy, martial arts, shounen, super power',\n",
              "  'action, adventure, comedy, fantasy, martial arts, shounen, super power',\n",
              "  'action, adventure, comedy, fantasy, martial arts, shounen, super power',\n",
              "  'action, adventure, comedy, fantasy, martial arts, shounen, super power',\n",
              "  'action, adventure, comedy, fantasy, martial arts, shounen, super power'],\n",
              " 'Ginga Eiyuu Densetsu: Waga Yuku wa Hoshi no Taikai': ['action, historical, military, sci-fi, space'],\n",
              " 'Mushishi Zoku Shou': ['adventure, fantasy, historical, mystery, seinen, slice of life, supernatural',\n",
              "  'adventure, fantasy, historical, mystery, seinen, slice of life, supernatural',\n",
              "  'adventure, fantasy, historical, mystery, seinen, slice of life, supernatural',\n",
              "  'adventure, fantasy, historical, mystery, seinen, slice of life, supernatural',\n",
              "  'adventure, fantasy, historical, mystery, seinen, slice of life, supernatural'],\n",
              " 'One Piece: Episode of Luffy - Hand Island no Bouken': ['action, adventure, comedy, fantasy, shounen, super power'],\n",
              " 'Shinkyoku Soukai Polyphonica': ['drama, fantasy, music, romance, school'],\n",
              " 'RideBack': ['action, drama, mecha, school, sci-fi',\n",
              "  'action, drama, mecha, school, sci-fi'],\n",
              " 'D.C.: Da Capo': ['drama, harem, magic, romance',\n",
              "  'drama, harem, magic, romance'],\n",
              " 'Minami-ke Okaeri': ['comedy, school, slice of life',\n",
              "  'comedy, school, slice of life',\n",
              "  'comedy, school, slice of life',\n",
              "  'comedy, school, slice of life'],\n",
              " 'Sayonara Zetsubou Sensei': ['comedy, parody, school',\n",
              "  'comedy, parody, school',\n",
              "  'comedy, parody, school',\n",
              "  'comedy, parody, school'],\n",
              " 'Toaru Kagaku no Railgun': ['action, sci-fi, super power',\n",
              "  'action, sci-fi, super power',\n",
              "  'action, sci-fi, super power',\n",
              "  'action, sci-fi, super power',\n",
              "  'action, sci-fi, super power'],\n",
              " 'Major S3': ['drama, shounen, sports'],\n",
              " 'Grisaia no Kajitsu': ['drama, harem, psychological, romance, school',\n",
              "  'drama, harem, psychological, romance, school',\n",
              "  'drama, harem, psychological, romance, school',\n",
              "  'drama, harem, psychological, romance, school'],\n",
              " 'Pokemon Diamond &amp; Pearl: Arceus Choukoku no Jikuu e': ['action, adventure, comedy, drama, fantasy, kids',\n",
              "  'action, adventure, comedy, drama, fantasy, kids'],\n",
              " 'Naruto: Shippuuden Movie 3 - Hi no Ishi wo Tsugu Mono': ['action, comedy, martial arts, shounen, super power',\n",
              "  'action, comedy, martial arts, shounen, super power',\n",
              "  'action, comedy, martial arts, shounen, super power',\n",
              "  'action, comedy, martial arts, shounen, super power'],\n",
              " 'Dragon Ball Z Movie 01: Ora no Gohan wo Kaese!!': ['adventure, comedy, fantasy, sci-fi, shounen',\n",
              "  'adventure, comedy, fantasy, sci-fi, shounen'],\n",
              " 'Kono Subarashii Sekai ni Shukufuku wo!': ['adventure, comedy, fantasy, supernatural',\n",
              "  'adventure, comedy, fantasy, supernatural',\n",
              "  'adventure, comedy, fantasy, supernatural',\n",
              "  'adventure, comedy, fantasy, supernatural',\n",
              "  'adventure, comedy, fantasy, supernatural',\n",
              "  'adventure, comedy, fantasy, supernatural'],\n",
              " 'Ookami to Koushinryou II': ['adventure, fantasy, historical, romance',\n",
              "  'adventure, fantasy, historical, romance',\n",
              "  'adventure, fantasy, historical, romance',\n",
              "  'adventure, fantasy, historical, romance'],\n",
              " 'Fruits Basket': ['comedy, drama, fantasy, romance, shoujo, slice of life',\n",
              "  'comedy, drama, fantasy, romance, shoujo, slice of life',\n",
              "  'comedy, drama, fantasy, romance, shoujo, slice of life',\n",
              "  'comedy, drama, fantasy, romance, shoujo, slice of life',\n",
              "  'comedy, drama, fantasy, romance, shoujo, slice of life',\n",
              "  'comedy, drama, fantasy, romance, shoujo, slice of life',\n",
              "  'comedy, drama, fantasy, romance, shoujo, slice of life',\n",
              "  'comedy, drama, fantasy, romance, shoujo, slice of life'],\n",
              " 'Suisei no Gargantia': ['action, adventure, mecha, sci-fi',\n",
              "  'action, adventure, mecha, sci-fi',\n",
              "  'action, adventure, mecha, sci-fi',\n",
              "  'action, adventure, mecha, sci-fi',\n",
              "  'action, adventure, mecha, sci-fi',\n",
              "  'action, adventure, mecha, sci-fi'],\n",
              " 'Higurashi no Naku Koro ni': ['horror, mystery, psychological, supernatural, thriller',\n",
              "  'horror, mystery, psychological, supernatural, thriller',\n",
              "  'horror, mystery, psychological, supernatural, thriller',\n",
              "  'horror, mystery, psychological, supernatural, thriller',\n",
              "  'horror, mystery, psychological, supernatural, thriller',\n",
              "  'horror, mystery, psychological, supernatural, thriller',\n",
              "  'horror, mystery, psychological, supernatural, thriller',\n",
              "  'horror, mystery, psychological, supernatural, thriller',\n",
              "  'horror, mystery, psychological, supernatural, thriller',\n",
              "  'horror, mystery, psychological, supernatural, thriller'],\n",
              " 'Kekkaishi': ['adventure, comedy, fantasy, shounen'],\n",
              " 'Sukitte Ii na yo.': ['romance, school, shoujo',\n",
              "  'romance, school, shoujo',\n",
              "  'romance, school, shoujo',\n",
              "  'romance, school, shoujo',\n",
              "  'romance, school, shoujo'],\n",
              " 'Summer Wars': ['comedy, sci-fi',\n",
              "  'comedy, sci-fi',\n",
              "  'comedy, sci-fi',\n",
              "  'comedy, sci-fi',\n",
              "  'comedy, sci-fi',\n",
              "  'comedy, sci-fi',\n",
              "  'comedy, sci-fi',\n",
              "  'comedy, sci-fi',\n",
              "  'comedy, sci-fi',\n",
              "  'comedy, sci-fi'],\n",
              " 'Bleach Movie 2: The DiamondDust Rebellion - Mou Hitotsu no Hyourinmaru': ['action, adventure, shounen, supernatural',\n",
              "  'action, adventure, shounen, supernatural',\n",
              "  'action, adventure, shounen, supernatural',\n",
              "  'action, adventure, shounen, supernatural',\n",
              "  'action, adventure, shounen, supernatural',\n",
              "  'action, adventure, shounen, supernatural',\n",
              "  'action, adventure, shounen, supernatural',\n",
              "  'action, adventure, shounen, supernatural'],\n",
              " 'Tengen Toppa Gurren Lagann Movie: Lagann-hen': ['action, mecha, sci-fi, space, super power',\n",
              "  'action, mecha, sci-fi, space, super power'],\n",
              " 'Tanaka-kun wa Itsumo Kedaruge': ['comedy, school, slice of life',\n",
              "  'comedy, school, slice of life'],\n",
              " 'D.Gray-man': ['action, adventure, comedy, shounen',\n",
              "  'action, adventure, comedy, shounen',\n",
              "  'action, adventure, comedy, shounen',\n",
              "  'action, adventure, comedy, shounen',\n",
              "  'action, adventure, comedy, shounen',\n",
              "  'action, adventure, comedy, shounen',\n",
              "  'action, adventure, comedy, shounen',\n",
              "  'action, adventure, comedy, shounen',\n",
              "  'action, adventure, comedy, shounen',\n",
              "  'action, adventure, comedy, shounen',\n",
              "  'action, adventure, comedy, shounen',\n",
              "  'action, adventure, comedy, shounen',\n",
              "  'action, adventure, comedy, shounen'],\n",
              " 'Nogizaka Haruka no Himitsu': ['comedy, romance',\n",
              "  'comedy, romance',\n",
              "  'comedy, romance',\n",
              "  'comedy, romance',\n",
              "  'comedy, romance',\n",
              "  'comedy, romance'],\n",
              " 'Mahou Shoujo Madoka★Magica': ['drama, magic, psychological, thriller',\n",
              "  'drama, magic, psychological, thriller',\n",
              "  'drama, magic, psychological, thriller',\n",
              "  'drama, magic, psychological, thriller',\n",
              "  'drama, magic, psychological, thriller',\n",
              "  'drama, magic, psychological, thriller',\n",
              "  'drama, magic, psychological, thriller',\n",
              "  'drama, magic, psychological, thriller',\n",
              "  'drama, magic, psychological, thriller',\n",
              "  'drama, magic, psychological, thriller',\n",
              "  'drama, magic, psychological, thriller',\n",
              "  'drama, magic, psychological, thriller',\n",
              "  'drama, magic, psychological, thriller',\n",
              "  'drama, magic, psychological, thriller',\n",
              "  'drama, magic, psychological, thriller',\n",
              "  'drama, magic, psychological, thriller',\n",
              "  'drama, magic, psychological, thriller'],\n",
              " 'Serial Experiments Lain': ['dementia, drama, mystery, psychological, sci-fi, supernatural',\n",
              "  'dementia, drama, mystery, psychological, sci-fi, supernatural',\n",
              "  'dementia, drama, mystery, psychological, sci-fi, supernatural',\n",
              "  'dementia, drama, mystery, psychological, sci-fi, supernatural',\n",
              "  'dementia, drama, mystery, psychological, sci-fi, supernatural',\n",
              "  'dementia, drama, mystery, psychological, sci-fi, supernatural',\n",
              "  'dementia, drama, mystery, psychological, sci-fi, supernatural',\n",
              "  'dementia, drama, mystery, psychological, sci-fi, supernatural'],\n",
              " 'Interstella5555: The 5tory of The 5ecret 5tar 5ystem': ['adventure, drama, music, sci-fi'],\n",
              " 'Shimoneta to Iu Gainen ga Sonzai Shinai Taikutsu na Sekai': ['comedy, ecchi, school',\n",
              "  'comedy, ecchi, school',\n",
              "  'comedy, ecchi, school',\n",
              "  'comedy, ecchi, school',\n",
              "  'comedy, ecchi, school',\n",
              "  'comedy, ecchi, school',\n",
              "  'comedy, ecchi, school',\n",
              "  'comedy, ecchi, school',\n",
              "  'comedy, ecchi, school',\n",
              "  'comedy, ecchi, school',\n",
              "  'comedy, ecchi, school'],\n",
              " 'Densetsu no Yuusha no Densetsu': ['action, adventure, fantasy, magic, shounen',\n",
              "  'action, adventure, fantasy, magic, shounen',\n",
              "  'action, adventure, fantasy, magic, shounen'],\n",
              " 'Steins;Gate': ['sci-fi, thriller',\n",
              "  'sci-fi, thriller',\n",
              "  'sci-fi, thriller',\n",
              "  'sci-fi, thriller',\n",
              "  'sci-fi, thriller',\n",
              "  'sci-fi, thriller',\n",
              "  'sci-fi, thriller',\n",
              "  'sci-fi, thriller',\n",
              "  'sci-fi, thriller',\n",
              "  'sci-fi, thriller',\n",
              "  'sci-fi, thriller',\n",
              "  'sci-fi, thriller',\n",
              "  'sci-fi, thriller',\n",
              "  'sci-fi, thriller'],\n",
              " 'Soul Eater NOT!': ['action, comedy, ecchi, shounen, supernatural'],\n",
              " 'Zero no Tsukaima: Futatsuki no Kishi': ['action, adventure, comedy, ecchi, fantasy, harem, magic, romance, school',\n",
              "  'action, adventure, comedy, ecchi, fantasy, harem, magic, romance, school',\n",
              "  'action, adventure, comedy, ecchi, fantasy, harem, magic, romance, school',\n",
              "  'action, adventure, comedy, ecchi, fantasy, harem, magic, romance, school',\n",
              "  'action, adventure, comedy, ecchi, fantasy, harem, magic, romance, school'],\n",
              " 'Mirai Nikki (TV)': ['action, mystery, psychological, shounen, supernatural, thriller',\n",
              "  'action, mystery, psychological, shounen, supernatural, thriller',\n",
              "  'action, mystery, psychological, shounen, supernatural, thriller',\n",
              "  'action, mystery, psychological, shounen, supernatural, thriller',\n",
              "  'action, mystery, psychological, shounen, supernatural, thriller',\n",
              "  'action, mystery, psychological, shounen, supernatural, thriller',\n",
              "  'action, mystery, psychological, shounen, supernatural, thriller',\n",
              "  'action, mystery, psychological, shounen, supernatural, thriller',\n",
              "  'action, mystery, psychological, shounen, supernatural, thriller',\n",
              "  'action, mystery, psychological, shounen, supernatural, thriller',\n",
              "  'action, mystery, psychological, shounen, supernatural, thriller'],\n",
              " 'Shin Tenchi Muyou!': ['comedy, harem, romance, sci-fi, shounen',\n",
              "  'comedy, harem, romance, sci-fi, shounen'],\n",
              " 'Love Hina': ['comedy, ecchi, harem, romance, shounen, slice of life',\n",
              "  'comedy, ecchi, harem, romance, shounen, slice of life',\n",
              "  'comedy, ecchi, harem, romance, shounen, slice of life',\n",
              "  'comedy, ecchi, harem, romance, shounen, slice of life',\n",
              "  'comedy, ecchi, harem, romance, shounen, slice of life',\n",
              "  'comedy, ecchi, harem, romance, shounen, slice of life',\n",
              "  'comedy, ecchi, harem, romance, shounen, slice of life'],\n",
              " 'Seikimatsu Occult Gakuin': ['comedy, mystery, school, sci-fi, supernatural',\n",
              "  'comedy, mystery, school, sci-fi, supernatural',\n",
              "  'comedy, mystery, school, sci-fi, supernatural',\n",
              "  'comedy, mystery, school, sci-fi, supernatural',\n",
              "  'comedy, mystery, school, sci-fi, supernatural'],\n",
              " 'Pico x CoCo x Chico': ['hentai, yaoi'],\n",
              " 'Shouwa Genroku Rakugo Shinjuu': ['drama, historical, josei'],\n",
              " 'Dragon Ball Z Movie 03: Chikyuu Marugoto Choukessen': ['adventure, comedy, fantasy, sci-fi, shounen',\n",
              "  'adventure, comedy, fantasy, sci-fi, shounen',\n",
              "  'adventure, comedy, fantasy, sci-fi, shounen'],\n",
              " 'Stella Jogakuin Koutou-ka C³-bu': ['military, school, sports',\n",
              "  'military, school, sports'],\n",
              " 'Ansatsu Kyoushitsu (TV): Deai no Jikan': ['action, comedy, school, shounen'],\n",
              " 'Futari wa Precure': ['action, comedy, fantasy, magic, shoujo'],\n",
              " 'Detective Conan Movie 11: Jolly Roger in the Deep Azure': ['adventure, comedy, mystery, police, shounen'],\n",
              " 'Toriko': ['action, adventure, comedy, fantasy, shounen',\n",
              "  'action, adventure, comedy, fantasy, shounen'],\n",
              " 'InuYasha: Tenka Hadou no Ken': ['adventure, comedy, demons, drama, fantasy, historical, romance, shounen, supernatural',\n",
              "  'adventure, comedy, demons, drama, fantasy, historical, romance, shounen, supernatural',\n",
              "  'adventure, comedy, demons, drama, fantasy, historical, romance, shounen, supernatural'],\n",
              " 'Darker than Black: Kuro no Keiyakusha Special': ['comedy, parody, sci-fi',\n",
              "  'comedy, parody, sci-fi',\n",
              "  'comedy, parody, sci-fi',\n",
              "  'comedy, parody, sci-fi',\n",
              "  'comedy, parody, sci-fi'],\n",
              " 'Towa no Quon 4: Guren no Shoushin': ['action, super power, supernatural',\n",
              "  'action, super power, supernatural'],\n",
              " '30-sai no Hoken Taiiku': ['ecchi, parody, romance, seinen',\n",
              "  'ecchi, parody, romance, seinen'],\n",
              " 'Date A Live': ['comedy, harem, mecha, romance, school, sci-fi',\n",
              "  'comedy, harem, mecha, romance, school, sci-fi',\n",
              "  'comedy, harem, mecha, romance, school, sci-fi',\n",
              "  'comedy, harem, mecha, romance, school, sci-fi',\n",
              "  'comedy, harem, mecha, romance, school, sci-fi',\n",
              "  'comedy, harem, mecha, romance, school, sci-fi',\n",
              "  'comedy, harem, mecha, romance, school, sci-fi',\n",
              "  'comedy, harem, mecha, romance, school, sci-fi',\n",
              "  'comedy, harem, mecha, romance, school, sci-fi',\n",
              "  'comedy, harem, mecha, romance, school, sci-fi'],\n",
              " 'Yahari Ore no Seishun Love Comedy wa Machigatteiru.': ['comedy, drama, romance, school',\n",
              "  'comedy, drama, romance, school',\n",
              "  'comedy, drama, romance, school',\n",
              "  'comedy, drama, romance, school',\n",
              "  'comedy, drama, romance, school',\n",
              "  'comedy, drama, romance, school',\n",
              "  'comedy, drama, romance, school',\n",
              "  'comedy, drama, romance, school',\n",
              "  'comedy, drama, romance, school',\n",
              "  'comedy, drama, romance, school',\n",
              "  'comedy, drama, romance, school',\n",
              "  'comedy, drama, romance, school',\n",
              "  'comedy, drama, romance, school',\n",
              "  'comedy, drama, romance, school'],\n",
              " 'Kimi ni Todoke': ['romance, school, shoujo, slice of life',\n",
              "  'romance, school, shoujo, slice of life',\n",
              "  'romance, school, shoujo, slice of life',\n",
              "  'romance, school, shoujo, slice of life',\n",
              "  'romance, school, shoujo, slice of life',\n",
              "  'romance, school, shoujo, slice of life'],\n",
              " 'Maken-Ki! Specials': ['ecchi, sports'],\n",
              " 'Mahou Shoujo Lyrical Nanoha StrikerS': ['action, comedy, drama, magic, super power',\n",
              "  'action, comedy, drama, magic, super power'],\n",
              " 'Hachimitsu to Clover': ['comedy, drama, josei, romance',\n",
              "  'comedy, drama, josei, romance',\n",
              "  'comedy, drama, josei, romance',\n",
              "  'comedy, drama, josei, romance'],\n",
              " 'Nourin': ['comedy, ecchi, romance, school',\n",
              "  'comedy, ecchi, romance, school'],\n",
              " 'Paprika': ['fantasy, horror, mystery, psychological, sci-fi, thriller',\n",
              "  'fantasy, horror, mystery, psychological, sci-fi, thriller',\n",
              "  'fantasy, horror, mystery, psychological, sci-fi, thriller',\n",
              "  'fantasy, horror, mystery, psychological, sci-fi, thriller',\n",
              "  'fantasy, horror, mystery, psychological, sci-fi, thriller',\n",
              "  'fantasy, horror, mystery, psychological, sci-fi, thriller',\n",
              "  'fantasy, horror, mystery, psychological, sci-fi, thriller',\n",
              "  'fantasy, horror, mystery, psychological, sci-fi, thriller',\n",
              "  'fantasy, horror, mystery, psychological, sci-fi, thriller',\n",
              "  'fantasy, horror, mystery, psychological, sci-fi, thriller'],\n",
              " 'Bus Gamer': ['action', 'action'],\n",
              " 'DearS': ['comedy, ecchi, harem, romance, sci-fi',\n",
              "  'comedy, ecchi, harem, romance, sci-fi'],\n",
              " 'Midori no Hibi': ['comedy, drama, ecchi, romance, shounen',\n",
              "  'comedy, drama, ecchi, romance, shounen',\n",
              "  'comedy, drama, ecchi, romance, shounen',\n",
              "  'comedy, drama, ecchi, romance, shounen',\n",
              "  'comedy, drama, ecchi, romance, shounen'],\n",
              " 'Yosuga no Sora: In Solitude, Where We Are Least Alone.': ['drama, ecchi, harem, romance',\n",
              "  'drama, ecchi, harem, romance',\n",
              "  'drama, ecchi, harem, romance',\n",
              "  'drama, ecchi, harem, romance',\n",
              "  'drama, ecchi, harem, romance'],\n",
              " 'Shinryaku! Ika Musume Specials': ['comedy'],\n",
              " 'Suisei no Gargantia Specials': ['action, mecha, sci-fi',\n",
              "  'action, mecha, sci-fi'],\n",
              " 'Ghost in the Shell': ['action, mecha, police, psychological, sci-fi, seinen',\n",
              "  'action, mecha, police, psychological, sci-fi, seinen',\n",
              "  'action, mecha, police, psychological, sci-fi, seinen',\n",
              "  'action, mecha, police, psychological, sci-fi, seinen',\n",
              "  'action, mecha, police, psychological, sci-fi, seinen',\n",
              "  'action, mecha, police, psychological, sci-fi, seinen',\n",
              "  'action, mecha, police, psychological, sci-fi, seinen',\n",
              "  'action, mecha, police, psychological, sci-fi, seinen',\n",
              "  'action, mecha, police, psychological, sci-fi, seinen',\n",
              "  'action, mecha, police, psychological, sci-fi, seinen'],\n",
              " 'Kakumeiki Valvrave 2nd Season': ['action, mecha, space'],\n",
              " 'Gungrave': ['action, drama, sci-fi, seinen, super power'],\n",
              " 'Azumanga Daioh: Gekijou Tanpen': ['comedy, school, slice of life',\n",
              "  'comedy, school, slice of life',\n",
              "  'comedy, school, slice of life'],\n",
              " 'Hayate no Gotoku!!: Atsu ga Natsuize - Mizugi-hen!': ['action, comedy, harem, parody, romance'],\n",
              " 'Super Lovers': ['comedy, drama, romance, shounen ai, slice of life'],\n",
              " 'The iDOLM@STER': ['comedy, drama, music'],\n",
              " 'Kokoro ga Sakebitagatterunda.': ['drama, romance, school',\n",
              "  'drama, romance, school',\n",
              "  'drama, romance, school'],\n",
              " 'Btooom!': ['action, psychological, sci-fi, seinen',\n",
              "  'action, psychological, sci-fi, seinen',\n",
              "  'action, psychological, sci-fi, seinen',\n",
              "  'action, psychological, sci-fi, seinen',\n",
              "  'action, psychological, sci-fi, seinen',\n",
              "  'action, psychological, sci-fi, seinen',\n",
              "  'action, psychological, sci-fi, seinen',\n",
              "  'action, psychological, sci-fi, seinen'],\n",
              " 'Tales of Symphonia The Animation: Sylvarant-hen': ['action, adventure, fantasy, magic, martial arts, shounen'],\n",
              " 'Rozen Maiden': ['action, comedy, drama, magic, seinen',\n",
              "  'action, comedy, drama, magic, seinen',\n",
              "  'action, comedy, drama, magic, seinen',\n",
              "  'action, comedy, drama, magic, seinen',\n",
              "  'action, comedy, drama, magic, seinen',\n",
              "  'action, comedy, drama, magic, seinen'],\n",
              " 'Gakkougurashi!': ['horror, mystery, psychological, school, slice of life'],\n",
              " 'Tanaka-kun wa Kyou mo Kedaruge': ['comedy, school'],\n",
              " 'Aa! Megami-sama!: Sorezore no Tsubasa Specials': ['comedy, magic, romance, seinen, supernatural'],\n",
              " 'Yabai! Fukushuu Yami Site': ['hentai'],\n",
              " 'Black Bullet': ['action, mystery, sci-fi, seinen',\n",
              "  'action, mystery, sci-fi, seinen',\n",
              "  'action, mystery, sci-fi, seinen',\n",
              "  'action, mystery, sci-fi, seinen',\n",
              "  'action, mystery, sci-fi, seinen',\n",
              "  'action, mystery, sci-fi, seinen',\n",
              "  'action, mystery, sci-fi, seinen',\n",
              "  'action, mystery, sci-fi, seinen',\n",
              "  'action, mystery, sci-fi, seinen',\n",
              "  'action, mystery, sci-fi, seinen'],\n",
              " 'Hamatora The Animation': ['comedy, mystery, super power',\n",
              "  'comedy, mystery, super power',\n",
              "  'comedy, mystery, super power',\n",
              "  'comedy, mystery, super power',\n",
              "  'comedy, mystery, super power'],\n",
              " 'Shingeki no Kyojin': ['action, drama, fantasy, shounen, super power',\n",
              "  'action, drama, fantasy, shounen, super power',\n",
              "  'action, drama, fantasy, shounen, super power',\n",
              "  'action, drama, fantasy, shounen, super power',\n",
              "  'action, drama, fantasy, shounen, super power',\n",
              "  'action, drama, fantasy, shounen, super power',\n",
              "  'action, drama, fantasy, shounen, super power',\n",
              "  'action, drama, fantasy, shounen, super power',\n",
              "  'action, drama, fantasy, shounen, super power',\n",
              "  'action, drama, fantasy, shounen, super power',\n",
              "  'action, drama, fantasy, shounen, super power',\n",
              "  'action, drama, fantasy, shounen, super power',\n",
              "  'action, drama, fantasy, shounen, super power',\n",
              "  'action, drama, fantasy, shounen, super power',\n",
              "  'action, drama, fantasy, shounen, super power',\n",
              "  'action, drama, fantasy, shounen, super power',\n",
              "  'action, drama, fantasy, shounen, super power',\n",
              "  'action, drama, fantasy, shounen, super power',\n",
              "  'action, drama, fantasy, shounen, super power',\n",
              "  'action, drama, fantasy, shounen, super power',\n",
              "  'action, drama, fantasy, shounen, super power',\n",
              "  'action, drama, fantasy, shounen, super power',\n",
              "  'action, drama, fantasy, shounen, super power',\n",
              "  'action, drama, fantasy, shounen, super power',\n",
              "  'action, drama, fantasy, shounen, super power'],\n",
              " 'Kannagi': ['comedy, school, shounen, supernatural',\n",
              "  'comedy, school, shounen, supernatural',\n",
              "  'comedy, school, shounen, supernatural'],\n",
              " 'I&#039;&#039;s Pure Bonus': ['comedy, ecchi, romance'],\n",
              " 'Kamisama Hajimemashita': ['comedy, demons, fantasy, romance, shoujo, supernatural',\n",
              "  'comedy, demons, fantasy, romance, shoujo, supernatural',\n",
              "  'comedy, demons, fantasy, romance, shoujo, supernatural',\n",
              "  'comedy, demons, fantasy, romance, shoujo, supernatural',\n",
              "  'comedy, demons, fantasy, romance, shoujo, supernatural',\n",
              "  'comedy, demons, fantasy, romance, shoujo, supernatural',\n",
              "  'comedy, demons, fantasy, romance, shoujo, supernatural',\n",
              "  'comedy, demons, fantasy, romance, shoujo, supernatural',\n",
              "  'comedy, demons, fantasy, romance, shoujo, supernatural',\n",
              "  'comedy, demons, fantasy, romance, shoujo, supernatural',\n",
              "  'comedy, demons, fantasy, romance, shoujo, supernatural'],\n",
              " 'Arslan Senki (TV): Fuujin Ranbu': ['action, adventure, drama, fantasy, historical, shounen, supernatural',\n",
              "  'action, adventure, drama, fantasy, historical, shounen, supernatural'],\n",
              " 'Fullmetal Alchemist': ['action, adventure, comedy, drama, fantasy, magic, military, shounen',\n",
              "  'action, adventure, comedy, drama, fantasy, magic, military, shounen',\n",
              "  'action, adventure, comedy, drama, fantasy, magic, military, shounen',\n",
              "  'action, adventure, comedy, drama, fantasy, magic, military, shounen',\n",
              "  'action, adventure, comedy, drama, fantasy, magic, military, shounen',\n",
              "  'action, adventure, comedy, drama, fantasy, magic, military, shounen',\n",
              "  'action, adventure, comedy, drama, fantasy, magic, military, shounen',\n",
              "  'action, adventure, comedy, drama, fantasy, magic, military, shounen',\n",
              "  'action, adventure, comedy, drama, fantasy, magic, military, shounen',\n",
              "  'action, adventure, comedy, drama, fantasy, magic, military, shounen',\n",
              "  'action, adventure, comedy, drama, fantasy, magic, military, shounen',\n",
              "  'action, adventure, comedy, drama, fantasy, magic, military, shounen',\n",
              "  'action, adventure, comedy, drama, fantasy, magic, military, shounen',\n",
              "  'action, adventure, comedy, drama, fantasy, magic, military, shounen',\n",
              "  'action, adventure, comedy, drama, fantasy, magic, military, shounen',\n",
              "  'action, adventure, comedy, drama, fantasy, magic, military, shounen',\n",
              "  'action, adventure, comedy, drama, fantasy, magic, military, shounen',\n",
              "  'action, adventure, comedy, drama, fantasy, magic, military, shounen'],\n",
              " 'Digimon Adventure tri. 3: Kokuhaku': ['action, adventure, comedy, drama'],\n",
              " 'Mushishi': ['adventure, fantasy, historical, mystery, seinen, slice of life, supernatural',\n",
              "  'adventure, fantasy, historical, mystery, seinen, slice of life, supernatural',\n",
              "  'adventure, fantasy, historical, mystery, seinen, slice of life, supernatural',\n",
              "  'adventure, fantasy, historical, mystery, seinen, slice of life, supernatural',\n",
              "  'adventure, fantasy, historical, mystery, seinen, slice of life, supernatural'],\n",
              " 'Jigoku Shoujo Mitsuganae': ['mystery, psychological, supernatural',\n",
              "  'mystery, psychological, supernatural'],\n",
              " 'Ghost in the Shell: Stand Alone Complex': ['action, mecha, military, police, sci-fi, seinen',\n",
              "  'action, mecha, military, police, sci-fi, seinen',\n",
              "  'action, mecha, military, police, sci-fi, seinen',\n",
              "  'action, mecha, military, police, sci-fi, seinen'],\n",
              " 'Steins;Gate: Oukoubakko no Poriomania': ['sci-fi, thriller',\n",
              "  'sci-fi, thriller',\n",
              "  'sci-fi, thriller',\n",
              "  'sci-fi, thriller',\n",
              "  'sci-fi, thriller',\n",
              "  'sci-fi, thriller',\n",
              "  'sci-fi, thriller',\n",
              "  'sci-fi, thriller',\n",
              "  'sci-fi, thriller'],\n",
              " 'Nazo no Kanojo X: Nazo no Natsu Matsuri': ['ecchi, mystery, romance, seinen',\n",
              "  'ecchi, mystery, romance, seinen'],\n",
              " 'Kashimashi: Girl Meets Girl': ['comedy, drama, romance, school, shoujo ai, slice of life',\n",
              "  'comedy, drama, romance, school, shoujo ai, slice of life'],\n",
              " 'Coppelion': ['action, sci-fi, seinen',\n",
              "  'action, sci-fi, seinen',\n",
              "  'action, sci-fi, seinen'],\n",
              " 'Berserk: Ougon Jidai-hen I - Haou no Tamago': ['action, adventure, demons, fantasy, military, seinen, supernatural',\n",
              "  'action, adventure, demons, fantasy, military, seinen, supernatural',\n",
              "  'action, adventure, demons, fantasy, military, seinen, supernatural',\n",
              "  'action, adventure, demons, fantasy, military, seinen, supernatural'],\n",
              " 'Seitokai Yakuindomo': ['comedy, school, shounen, slice of life',\n",
              "  'comedy, school, shounen, slice of life',\n",
              "  'comedy, school, shounen, slice of life',\n",
              "  'comedy, school, shounen, slice of life',\n",
              "  'comedy, school, shounen, slice of life'],\n",
              " 'Can Can Bunny Extra': ['fantasy, hentai, romance'],\n",
              " 'Ao Haru Ride OVA': ['romance, school, shoujo, slice of life'],\n",
              " 'Issho ni Sleeping: Sleeping with Hinako': ['ecchi'],\n",
              " 'Detective Conan Movie 15: Quarter of Silence': ['adventure, comedy, mystery, police, shounen'],\n",
              " 'Gakuen Utopia Manabi Straight!': ['comedy, school, slice of life'],\n",
              " 'Boku wa Tomodachi ga Sukunai Next': ['comedy, harem, romance, school, seinen, slice of life',\n",
              "  'comedy, harem, romance, school, seinen, slice of life',\n",
              "  'comedy, harem, romance, school, seinen, slice of life',\n",
              "  'comedy, harem, romance, school, seinen, slice of life',\n",
              "  'comedy, harem, romance, school, seinen, slice of life',\n",
              "  'comedy, harem, romance, school, seinen, slice of life',\n",
              "  'comedy, harem, romance, school, seinen, slice of life'],\n",
              " 'Golden Boy': ['adventure, comedy, ecchi',\n",
              "  'adventure, comedy, ecchi',\n",
              "  'adventure, comedy, ecchi',\n",
              "  'adventure, comedy, ecchi',\n",
              "  'adventure, comedy, ecchi',\n",
              "  'adventure, comedy, ecchi',\n",
              "  'adventure, comedy, ecchi'],\n",
              " 'Words Worth': ['adventure, demons, fantasy, hentai, magic'],\n",
              " 'Natsu-iro no Sunadokei': ['drama, romance, sci-fi'],\n",
              " 'Boku no Chikyuu wo Mamotte': ['drama, sci-fi, shoujo'],\n",
              " 'Yahari Ore no Seishun Love Comedy wa Machigatteiru. Zoku': ['comedy, drama, romance, school',\n",
              "  'comedy, drama, romance, school',\n",
              "  'comedy, drama, romance, school',\n",
              "  'comedy, drama, romance, school'],\n",
              " 'Tsuritama': ['comedy, sci-fi, slice of life, sports'],\n",
              " 'Houkago: Nureta Seifuku': ['hentai'],\n",
              " 'Tiger &amp; Bunny': ['action, comedy, mystery, super power',\n",
              "  'action, comedy, mystery, super power'],\n",
              " 'Redline': ['action, cars, sci-fi, sports', 'action, cars, sci-fi, sports'],\n",
              " 'Mikakunin de Shinkoukei': ['comedy, romance, school, slice of life',\n",
              "  'comedy, romance, school, slice of life',\n",
              "  'comedy, romance, school, slice of life',\n",
              "  'comedy, romance, school, slice of life'],\n",
              " 'Whistle!': ['school, shounen, sports'],\n",
              " 'Strange+': ['comedy, shoujo, slice of life'],\n",
              " 'Nisekoi: OVA': ['comedy, harem, romance, school, shounen'],\n",
              " 'Fairy Tail OVA': ['comedy, ecchi, fantasy, magic, shounen',\n",
              "  'comedy, ecchi, fantasy, magic, shounen'],\n",
              " 'Asu no Yoichi!': ['comedy, ecchi, harem, martial arts, romance, shounen',\n",
              "  'comedy, ecchi, harem, martial arts, romance, shounen',\n",
              "  'comedy, ecchi, harem, martial arts, romance, shounen',\n",
              "  'comedy, ecchi, harem, martial arts, romance, shounen'],\n",
              " '&quot;Bungaku Shoujo&quot; Movie': ['drama, mystery, romance, school'],\n",
              " 'Level E': ['comedy, sci-fi, shounen',\n",
              "  'comedy, sci-fi, shounen',\n",
              "  'comedy, sci-fi, shounen'],\n",
              " 'Owari no Seraph': ['action, drama, shounen, supernatural, vampire',\n",
              "  'action, drama, shounen, supernatural, vampire',\n",
              "  'action, drama, shounen, supernatural, vampire',\n",
              "  'action, drama, shounen, supernatural, vampire',\n",
              "  'action, drama, shounen, supernatural, vampire',\n",
              "  'action, drama, shounen, supernatural, vampire',\n",
              "  'action, drama, shounen, supernatural, vampire',\n",
              "  'action, drama, shounen, supernatural, vampire',\n",
              "  'action, drama, shounen, supernatural, vampire'],\n",
              " 'Lovely★Complex': ['comedy, romance, shoujo',\n",
              "  'comedy, romance, shoujo',\n",
              "  'comedy, romance, shoujo',\n",
              "  'comedy, romance, shoujo',\n",
              "  'comedy, romance, shoujo',\n",
              "  'comedy, romance, shoujo'],\n",
              " 'Junjou Romantica': ['comedy, drama, romance, shounen ai',\n",
              "  'comedy, drama, romance, shounen ai'],\n",
              " 'Ao no Exorcist Movie': ['action, demons, fantasy, shounen, supernatural'],\n",
              " 'Kyuukyoku no Sex Adventure Kamasutra': ['action, comedy, hentai, romance, supernatural'],\n",
              " 'Tetsuwan Birdy Decode:02': ['action, comedy, sci-fi',\n",
              "  'action, comedy, sci-fi',\n",
              "  'action, comedy, sci-fi'],\n",
              " 'Love Hina Christmas Special: Silent Eve': ['comedy, romance, slice of life',\n",
              "  'comedy, romance, slice of life',\n",
              "  'comedy, romance, slice of life',\n",
              "  'comedy, romance, slice of life',\n",
              "  'comedy, romance, slice of life'],\n",
              " 'Sekirei: Pure Engagement': ['action, comedy, ecchi, harem, super power',\n",
              "  'action, comedy, ecchi, harem, super power'],\n",
              " 'The iDOLM@STER Cinderella Girls': ['comedy, drama, music'],\n",
              " 'Enzai': ['hentai, horror, yaoi'],\n",
              " 'Mujintou Monogatari XX': ['hentai'],\n",
              " 'Corpse Party: Tortured Souls - Bougyakusareta Tamashii no Jukyou': ['horror, mystery',\n",
              "  'horror, mystery',\n",
              "  'horror, mystery',\n",
              "  'horror, mystery',\n",
              "  'horror, mystery'],\n",
              " 'Naruto': ['action, comedy, martial arts, shounen, super power',\n",
              "  'action, comedy, martial arts, shounen, super power',\n",
              "  'action, comedy, martial arts, shounen, super power',\n",
              "  'action, comedy, martial arts, shounen, super power',\n",
              "  'action, comedy, martial arts, shounen, super power',\n",
              "  'action, comedy, martial arts, shounen, super power',\n",
              "  'action, comedy, martial arts, shounen, super power',\n",
              "  'action, comedy, martial arts, shounen, super power',\n",
              "  'action, comedy, martial arts, shounen, super power',\n",
              "  'action, comedy, martial arts, shounen, super power',\n",
              "  'action, comedy, martial arts, shounen, super power',\n",
              "  'action, comedy, martial arts, shounen, super power',\n",
              "  'action, comedy, martial arts, shounen, super power',\n",
              "  'action, comedy, martial arts, shounen, super power',\n",
              "  'action, comedy, martial arts, shounen, super power',\n",
              "  'action, comedy, martial arts, shounen, super power',\n",
              "  'action, comedy, martial arts, shounen, super power',\n",
              "  'action, comedy, martial arts, shounen, super power',\n",
              "  'action, comedy, martial arts, shounen, super power',\n",
              "  'action, comedy, martial arts, shounen, super power',\n",
              "  'action, comedy, martial arts, shounen, super power'],\n",
              " 'Escaflowne': ['adventure, drama, fantasy, mecha, romance, sci-fi, shoujo',\n",
              "  'adventure, drama, fantasy, mecha, romance, sci-fi, shoujo'],\n",
              " 'Owari no Seraph: Nagoya Kessen-hen': ['action, drama, shounen, supernatural, vampire',\n",
              "  'action, drama, shounen, supernatural, vampire',\n",
              "  'action, drama, shounen, supernatural, vampire'],\n",
              " 'Sakura Nagashi': ['action, drama, mecha, music, sci-fi'],\n",
              " 'Kill Me Baby: Butsuzou Kegatte Nise Halloween': ['comedy, school'],\n",
              " 'Tenkuu no Shiro Laputa': ['adventure, fantasy, romance, sci-fi',\n",
              "  'adventure, fantasy, romance, sci-fi',\n",
              "  'adventure, fantasy, romance, sci-fi',\n",
              "  'adventure, fantasy, romance, sci-fi',\n",
              "  'adventure, fantasy, romance, sci-fi'],\n",
              " 'Sankarea': ['comedy, ecchi, horror, romance, shounen, supernatural',\n",
              "  'comedy, ecchi, horror, romance, shounen, supernatural',\n",
              "  'comedy, ecchi, horror, romance, shounen, supernatural',\n",
              "  'comedy, ecchi, horror, romance, shounen, supernatural',\n",
              "  'comedy, ecchi, horror, romance, shounen, supernatural',\n",
              "  'comedy, ecchi, horror, romance, shounen, supernatural'],\n",
              " 'Kiseijuu: Sei no Kakuritsu': ['action, drama, horror, psychological, sci-fi, seinen',\n",
              "  'action, drama, horror, psychological, sci-fi, seinen',\n",
              "  'action, drama, horror, psychological, sci-fi, seinen',\n",
              "  'action, drama, horror, psychological, sci-fi, seinen',\n",
              "  'action, drama, horror, psychological, sci-fi, seinen',\n",
              "  'action, drama, horror, psychological, sci-fi, seinen'],\n",
              " 'Uta no☆Prince-sama♪ Maji Love 1000%': ['comedy, harem, music, romance, school, shoujo',\n",
              "  'comedy, harem, music, romance, school, shoujo',\n",
              "  'comedy, harem, music, romance, school, shoujo'],\n",
              " 'Mizugi Kanojo: The Animation': ['hentai'],\n",
              " 'Ano Hi Mita Hana no Namae wo Bokutachi wa Mada Shiranai. Movie': ['drama, slice of life, supernatural',\n",
              "  'drama, slice of life, supernatural',\n",
              "  'drama, slice of life, supernatural',\n",
              "  'drama, slice of life, supernatural',\n",
              "  'drama, slice of life, supernatural',\n",
              "  'drama, slice of life, supernatural',\n",
              "  'drama, slice of life, supernatural'],\n",
              " 'Tenkuu no Escaflowne': ['adventure, fantasy, mecha, romance, shoujo',\n",
              "  'adventure, fantasy, mecha, romance, shoujo',\n",
              "  'adventure, fantasy, mecha, romance, shoujo'],\n",
              " 'Hiyokoi (2012)': ['romance, school, shoujo'],\n",
              " 'Zankyou no Terror': ['psychological, thriller',\n",
              "  'psychological, thriller',\n",
              "  'psychological, thriller',\n",
              "  'psychological, thriller',\n",
              "  'psychological, thriller',\n",
              "  'psychological, thriller'],\n",
              " 'Fullmetal Alchemist: Brotherhood Specials': ['adventure, drama, fantasy, magic, military, shounen'],\n",
              " 'Kämpfer': ['action, comedy, ecchi, romance, school, shoujo ai, super power',\n",
              "  'action, comedy, ecchi, romance, school, shoujo ai, super power',\n",
              "  'action, comedy, ecchi, romance, school, shoujo ai, super power',\n",
              "  'action, comedy, ecchi, romance, school, shoujo ai, super power',\n",
              "  'action, comedy, ecchi, romance, school, shoujo ai, super power',\n",
              "  'action, comedy, ecchi, romance, school, shoujo ai, super power'],\n",
              " 'Top wo Nerae 2! Diebuster': ['action, comedy, mecha, sci-fi, space'],\n",
              " 'Vandread: The Second Stage': ['action, ecchi, mecha, sci-fi, shounen, space'],\n",
              " 'X': ['action, drama, fantasy, magic, romance, shoujo, super power',\n",
              "  'action, drama, fantasy, magic, romance, shoujo, super power'],\n",
              " 'Mobile Suit Gundam Wing': ['action, drama, mecha, military, sci-fi, space',\n",
              "  'action, drama, mecha, military, sci-fi, space',\n",
              "  'action, drama, mecha, military, sci-fi, space',\n",
              "  'action, drama, mecha, military, sci-fi, space'],\n",
              " 'Koukaku no Pandora': ['action, comedy, ecchi, sci-fi'],\n",
              " 'Gantz 2nd Stage': ['action, drama, horror, psychological, sci-fi, supernatural',\n",
              "  'action, drama, horror, psychological, sci-fi, supernatural',\n",
              "  'action, drama, horror, psychological, sci-fi, supernatural'],\n",
              " 'Kamen no Maid Guy': ['action, comedy, ecchi, super power'],\n",
              " 'Overlord': ['action, adventure, fantasy, game, magic, supernatural',\n",
              "  'action, adventure, fantasy, game, magic, supernatural',\n",
              "  'action, adventure, fantasy, game, magic, supernatural',\n",
              "  'action, adventure, fantasy, game, magic, supernatural',\n",
              "  'action, adventure, fantasy, game, magic, supernatural',\n",
              "  'action, adventure, fantasy, game, magic, supernatural'],\n",
              " 'Kujibiki Unbalance': ['comedy, romance, school'],\n",
              " 'Hitsugi no Chaika': ['action, adventure, comedy, fantasy, romance, shounen',\n",
              "  'action, adventure, comedy, fantasy, romance, shounen',\n",
              "  'action, adventure, comedy, fantasy, romance, shounen'],\n",
              " 'Fullmetal Alchemist: Brotherhood - 4-Koma Theater': ['comedy, fantasy, military, parody',\n",
              "  'comedy, fantasy, military, parody'],\n",
              " 'One Piece Movie 2: Nejimaki-jima no Daibouken': ['action, adventure, comedy, fantasy, shounen, super power'],\n",
              " 'Digimon Xros Wars: Aku no Death General to Nanatsu no Oukoku': ['action, adventure, comedy, fantasy, shounen'],\n",
              " 'Aku no Hana': ['drama, psychological, romance, school',\n",
              "  'drama, psychological, romance, school'],\n",
              " 'Naruto Movie 2: Dai Gekitotsu! Maboroshi no Chiteiiseki Dattebayo!': ['adventure, comedy, drama, fantasy, shounen, supernatural'],\n",
              " 'Mahoromatic: I&#039;m Home!': ['comedy, ecchi, romance, sci-fi'],\n",
              " 'Binbougami ga!': ['comedy, parody, shounen, supernatural',\n",
              "  'comedy, parody, shounen, supernatural',\n",
              "  'comedy, parody, shounen, supernatural'],\n",
              " 'Zetman': ['action, drama, horror, romance, sci-fi, seinen, supernatural',\n",
              "  'action, drama, horror, romance, sci-fi, seinen, supernatural',\n",
              "  'action, drama, horror, romance, sci-fi, seinen, supernatural'],\n",
              " 'Nobunagun': ['action, supernatural', 'action, supernatural'],\n",
              " 'Isshuukan Friends.': ['comedy, school, shounen, slice of life',\n",
              "  'comedy, school, shounen, slice of life',\n",
              "  'comedy, school, shounen, slice of life',\n",
              "  'comedy, school, shounen, slice of life'],\n",
              " 'Katekyo Hitman Reborn!': ['action, comedy, shounen, super power',\n",
              "  'action, comedy, shounen, super power',\n",
              "  'action, comedy, shounen, super power',\n",
              "  'action, comedy, shounen, super power',\n",
              "  'action, comedy, shounen, super power'],\n",
              " 'Zetsuen no Tempest': ['action, drama, fantasy, magic, mystery, psychological, shounen',\n",
              "  'action, drama, fantasy, magic, mystery, psychological, shounen',\n",
              "  'action, drama, fantasy, magic, mystery, psychological, shounen'],\n",
              " 'Zero no Tsukaima': ['action, adventure, comedy, ecchi, fantasy, harem, magic, romance, school',\n",
              "  'action, adventure, comedy, ecchi, fantasy, harem, magic, romance, school',\n",
              "  'action, adventure, comedy, ecchi, fantasy, harem, magic, romance, school',\n",
              "  'action, adventure, comedy, ecchi, fantasy, harem, magic, romance, school',\n",
              "  'action, adventure, comedy, ecchi, fantasy, harem, magic, romance, school',\n",
              "  'action, adventure, comedy, ecchi, fantasy, harem, magic, romance, school',\n",
              "  'action, adventure, comedy, ecchi, fantasy, harem, magic, romance, school'],\n",
              " 'Mahou no Stage Fancy Lala': ['comedy, drama, magic, music, romance, shoujo'],\n",
              " 'Kino no Tabi: The Beautiful World': ['action, adventure, slice of life',\n",
              "  'action, adventure, slice of life',\n",
              "  'action, adventure, slice of life'],\n",
              " 'White Album 2nd Season': ['drama, harem, music, romance',\n",
              "  'drama, harem, music, romance',\n",
              "  'drama, harem, music, romance'],\n",
              " 'Kuroko no Basket': ['comedy, school, shounen, sports',\n",
              "  'comedy, school, shounen, sports',\n",
              "  'comedy, school, shounen, sports',\n",
              "  'comedy, school, shounen, sports',\n",
              "  'comedy, school, shounen, sports',\n",
              "  'comedy, school, shounen, sports',\n",
              "  'comedy, school, shounen, sports',\n",
              "  'comedy, school, shounen, sports',\n",
              "  'comedy, school, shounen, sports',\n",
              "  'comedy, school, shounen, sports',\n",
              "  'comedy, school, shounen, sports',\n",
              "  'comedy, school, shounen, sports',\n",
              "  'comedy, school, shounen, sports',\n",
              "  'comedy, school, shounen, sports',\n",
              "  'comedy, school, shounen, sports',\n",
              "  'comedy, school, shounen, sports',\n",
              "  'comedy, school, shounen, sports'],\n",
              " 'Kiss x Sis': ['comedy, ecchi, harem, romance, school, seinen',\n",
              "  'comedy, ecchi, harem, romance, school, seinen',\n",
              "  'comedy, ecchi, harem, romance, school, seinen',\n",
              "  'comedy, ecchi, harem, romance, school, seinen'],\n",
              " 'Kara no Kyoukai 7: Satsujin Kousatsu (Kou)': ['action, mystery, romance, supernatural, thriller',\n",
              "  'action, mystery, romance, supernatural, thriller',\n",
              "  'action, mystery, romance, supernatural, thriller',\n",
              "  'action, mystery, romance, supernatural, thriller'],\n",
              " 'Hidan no Aria': ['action, comedy, romance, school',\n",
              "  'action, comedy, romance, school',\n",
              "  'action, comedy, romance, school',\n",
              "  'action, comedy, romance, school',\n",
              "  'action, comedy, romance, school',\n",
              "  'action, comedy, romance, school',\n",
              "  'action, comedy, romance, school',\n",
              "  'action, comedy, romance, school',\n",
              "  'action, comedy, romance, school'],\n",
              " 'Ore Monogatari!!': ['comedy, romance, shoujo', 'comedy, romance, shoujo'],\n",
              " 'Psycho-Pass 2': ['action, police, psychological, sci-fi',\n",
              "  'action, police, psychological, sci-fi',\n",
              "  'action, police, psychological, sci-fi'],\n",
              " 'Dakara Boku wa, H ga Dekinai.': ['comedy, ecchi, romance, supernatural'],\n",
              " 'Kara no Kyoukai 1: Fukan Fuukei': ['action, mystery, supernatural, thriller',\n",
              "  'action, mystery, supernatural, thriller',\n",
              "  'action, mystery, supernatural, thriller',\n",
              "  'action, mystery, supernatural, thriller',\n",
              "  'action, mystery, supernatural, thriller'],\n",
              " 'InuYasha: Kanketsu-hen': ['action, adventure, comedy, demons, fantasy, magic, romance, shounen, supernatural',\n",
              "  'action, adventure, comedy, demons, fantasy, magic, romance, shounen, supernatural',\n",
              "  'action, adventure, comedy, demons, fantasy, magic, romance, shounen, supernatural',\n",
              "  'action, adventure, comedy, demons, fantasy, magic, romance, shounen, supernatural',\n",
              "  'action, adventure, comedy, demons, fantasy, magic, romance, shounen, supernatural',\n",
              "  'action, adventure, comedy, demons, fantasy, magic, romance, shounen, supernatural'],\n",
              " 'Ro-Kyu-Bu!': ['comedy, ecchi, school, sports',\n",
              "  'comedy, ecchi, school, sports'],\n",
              " 'Himegoto': ['comedy, school'],\n",
              " 'Boku wa Tomodachi ga Sukunai': ['comedy, ecchi, harem, romance, school, seinen, slice of life',\n",
              "  'comedy, ecchi, harem, romance, school, seinen, slice of life',\n",
              "  'comedy, ecchi, harem, romance, school, seinen, slice of life',\n",
              "  'comedy, ecchi, harem, romance, school, seinen, slice of life',\n",
              "  'comedy, ecchi, harem, romance, school, seinen, slice of life',\n",
              "  'comedy, ecchi, harem, romance, school, seinen, slice of life',\n",
              "  'comedy, ecchi, harem, romance, school, seinen, slice of life'],\n",
              " 'Fate/kaleid liner Prisma☆Illya': ['action, comedy, fantasy, magic',\n",
              "  'action, comedy, fantasy, magic'],\n",
              " 'Neko no Ongaeshi': ['adventure, drama, fantasy',\n",
              "  'adventure, drama, fantasy',\n",
              "  'adventure, drama, fantasy',\n",
              "  'adventure, drama, fantasy'],\n",
              " 'Dimension W': ['action, sci-fi, seinen',\n",
              "  'action, sci-fi, seinen',\n",
              "  'action, sci-fi, seinen'],\n",
              " 'Kuragehime': ['comedy, josei, slice of life'],\n",
              " 'Hataraku Maou-sama!': ['comedy, demons, fantasy, romance, shounen',\n",
              "  'comedy, demons, fantasy, romance, shounen',\n",
              "  'comedy, demons, fantasy, romance, shounen',\n",
              "  'comedy, demons, fantasy, romance, shounen',\n",
              "  'comedy, demons, fantasy, romance, shounen',\n",
              "  'comedy, demons, fantasy, romance, shounen',\n",
              "  'comedy, demons, fantasy, romance, shounen',\n",
              "  'comedy, demons, fantasy, romance, shounen',\n",
              "  'comedy, demons, fantasy, romance, shounen',\n",
              "  'comedy, demons, fantasy, romance, shounen',\n",
              "  'comedy, demons, fantasy, romance, shounen',\n",
              "  'comedy, demons, fantasy, romance, shounen'],\n",
              " 'Minami-ke': ['comedy, school, slice of life',\n",
              "  'comedy, school, slice of life',\n",
              "  'comedy, school, slice of life'],\n",
              " 'Ansatsu Kyoushitsu (TV)': ['action, comedy, school, shounen',\n",
              "  'action, comedy, school, shounen',\n",
              "  'action, comedy, school, shounen',\n",
              "  'action, comedy, school, shounen'],\n",
              " 'Bokurano': ['drama, mecha, psychological, sci-fi',\n",
              "  'drama, mecha, psychological, sci-fi',\n",
              "  'drama, mecha, psychological, sci-fi'],\n",
              " 'Pokemon: Maboroshi no Pokemon Lugia Bakutan': ['adventure, comedy, drama, fantasy, kids',\n",
              "  'adventure, comedy, drama, fantasy, kids',\n",
              "  'adventure, comedy, drama, fantasy, kids',\n",
              "  'adventure, comedy, drama, fantasy, kids',\n",
              "  'adventure, comedy, drama, fantasy, kids'],\n",
              " 'Ai Yori Aoshi': ['comedy, drama, harem, romance, slice of life',\n",
              "  'comedy, drama, harem, romance, slice of life',\n",
              "  'comedy, drama, harem, romance, slice of life'],\n",
              " 'Madan no Ou to Vanadis': ['adventure, ecchi, fantasy, harem, romance',\n",
              "  'adventure, ecchi, fantasy, harem, romance',\n",
              "  'adventure, ecchi, fantasy, harem, romance',\n",
              "  'adventure, ecchi, fantasy, harem, romance',\n",
              "  'adventure, ecchi, fantasy, harem, romance',\n",
              "  'adventure, ecchi, fantasy, harem, romance'],\n",
              " 'The Law of Ueki': ['adventure, comedy, drama, shounen, supernatural',\n",
              "  'adventure, comedy, drama, shounen, supernatural',\n",
              "  'adventure, comedy, drama, shounen, supernatural'],\n",
              " 'Haikyuu!!': ['comedy, drama, school, shounen, sports',\n",
              "  'comedy, drama, school, shounen, sports',\n",
              "  'comedy, drama, school, shounen, sports',\n",
              "  'comedy, drama, school, shounen, sports'],\n",
              " 'Higashi no Eden Movie II: Paradise Lost': ['action, comedy, drama, mystery, romance, thriller',\n",
              "  'action, comedy, drama, mystery, romance, thriller',\n",
              "  'action, comedy, drama, mystery, romance, thriller'],\n",
              " 'Rec': ['comedy, drama, romance'],\n",
              " 'Night Head Genesis': ['drama, horror, mystery, psychological, supernatural',\n",
              "  'drama, horror, mystery, psychological, supernatural'],\n",
              " 'Girls Bravo: First Season': ['comedy, ecchi, fantasy, harem, romance, school',\n",
              "  'comedy, ecchi, fantasy, harem, romance, school'],\n",
              " 'Yuru Yuri': ['comedy, school, shoujo ai, slice of life'],\n",
              " 'Black Lagoon: The Second Barrage': ['action, seinen',\n",
              "  'action, seinen',\n",
              "  'action, seinen',\n",
              "  'action, seinen',\n",
              "  'action, seinen',\n",
              "  'action, seinen',\n",
              "  'action, seinen',\n",
              "  'action, seinen',\n",
              "  'action, seinen',\n",
              "  'action, seinen',\n",
              "  'action, seinen',\n",
              "  'action, seinen',\n",
              "  'action, seinen'],\n",
              " 'Chobits': ['comedy, drama, ecchi, romance, sci-fi, seinen',\n",
              "  'comedy, drama, ecchi, romance, sci-fi, seinen',\n",
              "  'comedy, drama, ecchi, romance, sci-fi, seinen',\n",
              "  'comedy, drama, ecchi, romance, sci-fi, seinen',\n",
              "  'comedy, drama, ecchi, romance, sci-fi, seinen',\n",
              "  'comedy, drama, ecchi, romance, sci-fi, seinen'],\n",
              " 'Rosario to Vampire Capu2': ['comedy, ecchi, fantasy, harem, romance, school, vampire',\n",
              "  'comedy, ecchi, fantasy, harem, romance, school, vampire',\n",
              "  'comedy, ecchi, fantasy, harem, romance, school, vampire',\n",
              "  'comedy, ecchi, fantasy, harem, romance, school, vampire',\n",
              "  'comedy, ecchi, fantasy, harem, romance, school, vampire',\n",
              "  'comedy, ecchi, fantasy, harem, romance, school, vampire'],\n",
              " 'Seihou Bukyou Outlaw Star': ['action, adventure, comedy, sci-fi, space',\n",
              "  'action, adventure, comedy, sci-fi, space'],\n",
              " 'Tonari no Totoro': ['adventure, comedy, supernatural',\n",
              "  'adventure, comedy, supernatural',\n",
              "  'adventure, comedy, supernatural',\n",
              "  'adventure, comedy, supernatural',\n",
              "  'adventure, comedy, supernatural',\n",
              "  'adventure, comedy, supernatural',\n",
              "  'adventure, comedy, supernatural',\n",
              "  'adventure, comedy, supernatural'],\n",
              " 'Ikkitousen': ['ecchi, martial arts, school, super power',\n",
              "  'ecchi, martial arts, school, super power',\n",
              "  'ecchi, martial arts, school, super power',\n",
              "  'ecchi, martial arts, school, super power',\n",
              "  'ecchi, martial arts, school, super power',\n",
              "  'ecchi, martial arts, school, super power'],\n",
              " 'Naruto: Shippuuden Movie 6 - Road to Ninja': ['action, adventure, martial arts, shounen, super power',\n",
              "  'action, adventure, martial arts, shounen, super power',\n",
              "  'action, adventure, martial arts, shounen, super power',\n",
              "  'action, adventure, martial arts, shounen, super power',\n",
              "  'action, adventure, martial arts, shounen, super power'],\n",
              " 'Love Hina Haru Special: Kimi Sakura Chiru Nakare!!': ['adventure, comedy, romance',\n",
              "  'adventure, comedy, romance'],\n",
              " 'Kamisama no Memochou': ['mystery', 'mystery'],\n",
              " 'Gate: Jieitai Kanochi nite, Kaku Tatakaeri 2nd Season': ['action, adventure, fantasy, military',\n",
              "  'action, adventure, fantasy, military',\n",
              "  'action, adventure, fantasy, military',\n",
              "  'action, adventure, fantasy, military'],\n",
              " 'Ookami-san to Shichinin no Nakama-tachi': ['comedy, parody, romance',\n",
              "  'comedy, parody, romance',\n",
              "  'comedy, parody, romance'],\n",
              " 'Kara no Kyoukai 6: Boukyaku Rokuon': ['action, magic, mystery, romance, supernatural, thriller',\n",
              "  'action, magic, mystery, romance, supernatural, thriller'],\n",
              " 'Rurouni Kenshin Recap': ['action, adventure, comedy, historical, romance, samurai'],\n",
              " 'Danna ga Nani wo Itteiru ka Wakaranai Ken': ['comedy, seinen, slice of life',\n",
              "  'comedy, seinen, slice of life',\n",
              "  'comedy, seinen, slice of life'],\n",
              " 'Kyoukaisenjou no Horizon II': ['action, fantasy, sci-fi',\n",
              "  'action, fantasy, sci-fi',\n",
              "  'action, fantasy, sci-fi',\n",
              "  'action, fantasy, sci-fi'],\n",
              " 'Mahouka Koukou no Rettousei': ['magic, romance, school, sci-fi, supernatural',\n",
              "  'magic, romance, school, sci-fi, supernatural',\n",
              "  'magic, romance, school, sci-fi, supernatural',\n",
              "  'magic, romance, school, sci-fi, supernatural',\n",
              "  'magic, romance, school, sci-fi, supernatural'],\n",
              " 'Muramasa': ['historical, horror, martial arts, samurai'],\n",
              " 'Gintama: Shinyaku Benizakura-hen': ['action, comedy, historical, parody, samurai, sci-fi, shounen'],\n",
              " 'Hyakko OVA': ['comedy'],\n",
              " 'Zombie-Loan': ['action, horror, shounen, supernatural',\n",
              "  'action, horror, shounen, supernatural'],\n",
              " 'Digimon Frontier: Ornismon Fukkatsu!!': ['adventure, comedy, drama, fantasy, shounen',\n",
              "  'adventure, comedy, drama, fantasy, shounen'],\n",
              " 'Hajime no Ippo: Boxer no Kobushi': ['comedy, drama, shounen, sports',\n",
              "  'comedy, drama, shounen, sports'],\n",
              " 'Kobato.': ['comedy, drama, fantasy', 'comedy, drama, fantasy'],\n",
              " 'Himouto! Umaru-chan': ['comedy, school, seinen, slice of life',\n",
              "  'comedy, school, seinen, slice of life',\n",
              "  'comedy, school, seinen, slice of life',\n",
              "  'comedy, school, seinen, slice of life'],\n",
              " 'Saint☆Oniisan (Movie)': ['comedy, seinen, slice of life'],\n",
              " 'Little Busters!: Refrain': ['comedy, drama, romance, school, slice of life, supernatural',\n",
              "  'comedy, drama, romance, school, slice of life, supernatural'],\n",
              " 'Bishoujo Senshi Sailor Moon: Sailor Stars': ['adventure, comedy, drama, fantasy, magic, romance, shoujo',\n",
              "  'adventure, comedy, drama, fantasy, magic, romance, shoujo',\n",
              "  'adventure, comedy, drama, fantasy, magic, romance, shoujo',\n",
              "  'adventure, comedy, drama, fantasy, magic, romance, shoujo'],\n",
              " 'Higashi no Eden Movie I: The King of Eden': ['comedy, drama, mystery, romance, slice of life, thriller',\n",
              "  'comedy, drama, mystery, romance, slice of life, thriller',\n",
              "  'comedy, drama, mystery, romance, slice of life, thriller',\n",
              "  'comedy, drama, mystery, romance, slice of life, thriller',\n",
              "  'comedy, drama, mystery, romance, slice of life, thriller',\n",
              "  'comedy, drama, mystery, romance, slice of life, thriller',\n",
              "  'comedy, drama, mystery, romance, slice of life, thriller'],\n",
              " 'Ao no Exorcist': ['action, demons, fantasy, shounen, supernatural',\n",
              "  'action, demons, fantasy, shounen, supernatural',\n",
              "  'action, demons, fantasy, shounen, supernatural',\n",
              "  'action, demons, fantasy, shounen, supernatural',\n",
              "  'action, demons, fantasy, shounen, supernatural',\n",
              "  'action, demons, fantasy, shounen, supernatural',\n",
              "  'action, demons, fantasy, shounen, supernatural',\n",
              "  'action, demons, fantasy, shounen, supernatural',\n",
              "  'action, demons, fantasy, shounen, supernatural',\n",
              "  'action, demons, fantasy, shounen, supernatural',\n",
              "  'action, demons, fantasy, shounen, supernatural',\n",
              "  'action, demons, fantasy, shounen, supernatural',\n",
              "  'action, demons, fantasy, shounen, supernatural'],\n",
              " 'InuYasha: Kagami no Naka no Mugenjo': ['adventure, demons, drama, fantasy, historical, romance, shounen, supernatural',\n",
              "  'adventure, demons, drama, fantasy, historical, romance, shounen, supernatural'],\n",
              " 'Karneval (TV)': ['action, fantasy, mystery, sci-fi, shoujo',\n",
              "  'action, fantasy, mystery, sci-fi, shoujo',\n",
              "  'action, fantasy, mystery, sci-fi, shoujo',\n",
              "  'action, fantasy, mystery, sci-fi, shoujo'],\n",
              " 'Toradora!': ['comedy, romance, school, slice of life',\n",
              "  'comedy, romance, school, slice of life',\n",
              "  'comedy, romance, school, slice of life',\n",
              "  'comedy, romance, school, slice of life',\n",
              "  'comedy, romance, school, slice of life',\n",
              "  'comedy, romance, school, slice of life',\n",
              "  'comedy, romance, school, slice of life',\n",
              "  'comedy, romance, school, slice of life',\n",
              "  'comedy, romance, school, slice of life',\n",
              "  'comedy, romance, school, slice of life',\n",
              "  'comedy, romance, school, slice of life',\n",
              "  'comedy, romance, school, slice of life',\n",
              "  'comedy, romance, school, slice of life'],\n",
              " 'Fullmetal Alchemist: The Conqueror of Shamballa': ['comedy, drama, fantasy, historical, military, shounen',\n",
              "  'comedy, drama, fantasy, historical, military, shounen'],\n",
              " 'Maburaho': ['comedy, drama, ecchi, harem, magic, romance, school',\n",
              "  'comedy, drama, ecchi, harem, magic, romance, school',\n",
              "  'comedy, drama, ecchi, harem, magic, romance, school',\n",
              "  'comedy, drama, ecchi, harem, magic, romance, school'],\n",
              " 'Toki wo Kakeru Shoujo': ['adventure, drama, romance, sci-fi',\n",
              "  'adventure, drama, romance, sci-fi',\n",
              "  'adventure, drama, romance, sci-fi',\n",
              "  'adventure, drama, romance, sci-fi',\n",
              "  'adventure, drama, romance, sci-fi',\n",
              "  'adventure, drama, romance, sci-fi'],\n",
              " 'Highschool of the Dead: Drifters of the Dead': ['comedy, ecchi, supernatural',\n",
              "  'comedy, ecchi, supernatural',\n",
              "  'comedy, ecchi, supernatural',\n",
              "  'comedy, ecchi, supernatural'],\n",
              " 'Durarara!!x2 Shou: Watashi no Kokoro wa Nabe Moyou': ['action, mystery, supernatural'],\n",
              " 'Ano Natsu de Matteru': ['comedy, drama, romance, sci-fi, slice of life',\n",
              "  'comedy, drama, romance, sci-fi, slice of life',\n",
              "  'comedy, drama, romance, sci-fi, slice of life',\n",
              "  'comedy, drama, romance, sci-fi, slice of life',\n",
              "  'comedy, drama, romance, sci-fi, slice of life',\n",
              "  'comedy, drama, romance, sci-fi, slice of life'],\n",
              " 'Berserk': ['action, adventure, demons, drama, fantasy, horror, military, romance, seinen, supernatural',\n",
              "  'action, adventure, demons, drama, fantasy, horror, military, romance, seinen, supernatural',\n",
              "  'action, adventure, demons, drama, fantasy, horror, military, romance, seinen, supernatural',\n",
              "  'action, adventure, demons, drama, fantasy, horror, military, romance, seinen, supernatural',\n",
              "  'action, adventure, demons, drama, fantasy, horror, military, romance, seinen, supernatural',\n",
              "  'action, adventure, demons, drama, fantasy, horror, military, romance, seinen, supernatural'],\n",
              " 'Tonari no Kaibutsu-kun: Tonari no Gokudou-kun': ['comedy, historical, romance, shoujo',\n",
              "  'comedy, historical, romance, shoujo'],\n",
              " 'Vampire Hunter D (2000)': ['action, drama, fantasy, horror, romance, sci-fi, vampire',\n",
              "  'action, drama, fantasy, horror, romance, sci-fi, vampire'],\n",
              " 'R.O.D the TV': ['action, adventure, comedy, drama, sci-fi, super power'],\n",
              " 'School Days': ['drama, harem, romance, school',\n",
              "  'drama, harem, romance, school',\n",
              "  'drama, harem, romance, school',\n",
              "  'drama, harem, romance, school',\n",
              "  'drama, harem, romance, school',\n",
              "  'drama, harem, romance, school',\n",
              "  'drama, harem, romance, school'],\n",
              " 'Psycho-Pass': ['action, police, psychological, sci-fi',\n",
              "  'action, police, psychological, sci-fi',\n",
              "  'action, police, psychological, sci-fi',\n",
              "  'action, police, psychological, sci-fi',\n",
              "  'action, police, psychological, sci-fi',\n",
              "  'action, police, psychological, sci-fi',\n",
              "  'action, police, psychological, sci-fi',\n",
              "  'action, police, psychological, sci-fi',\n",
              "  'action, police, psychological, sci-fi',\n",
              "  'action, police, psychological, sci-fi',\n",
              "  'action, police, psychological, sci-fi',\n",
              "  'action, police, psychological, sci-fi',\n",
              "  'action, police, psychological, sci-fi'],\n",
              " 'Hajime no Ippo': ['comedy, drama, shounen, sports',\n",
              "  'comedy, drama, shounen, sports'],\n",
              " 'Mahou Shoujo Elena': ['hentai, magic, supernatural'],\n",
              " 'Princess Lover!': ['comedy, ecchi, harem, school',\n",
              "  'comedy, ecchi, harem, school',\n",
              "  'comedy, ecchi, harem, school'],\n",
              " 'Blood Lad': ['action, comedy, demons, seinen, supernatural, vampire',\n",
              "  'action, comedy, demons, seinen, supernatural, vampire',\n",
              "  'action, comedy, demons, seinen, supernatural, vampire',\n",
              "  'action, comedy, demons, seinen, supernatural, vampire',\n",
              "  'action, comedy, demons, seinen, supernatural, vampire'],\n",
              " 'Darker than Black: Ryuusei no Gemini': ['action, mystery, sci-fi, super power',\n",
              "  'action, mystery, sci-fi, super power',\n",
              "  'action, mystery, sci-fi, super power',\n",
              "  'action, mystery, sci-fi, super power',\n",
              "  'action, mystery, sci-fi, super power',\n",
              "  'action, mystery, sci-fi, super power',\n",
              "  'action, mystery, sci-fi, super power',\n",
              "  'action, mystery, sci-fi, super power',\n",
              "  'action, mystery, sci-fi, super power'],\n",
              " 'Hellsing': ['action, horror, seinen, supernatural, vampire',\n",
              "  'action, horror, seinen, supernatural, vampire',\n",
              "  'action, horror, seinen, supernatural, vampire',\n",
              "  'action, horror, seinen, supernatural, vampire',\n",
              "  'action, horror, seinen, supernatural, vampire',\n",
              "  'action, horror, seinen, supernatural, vampire'],\n",
              " 'Eureka Seven': ['adventure, drama, mecha, romance, sci-fi',\n",
              "  'adventure, drama, mecha, romance, sci-fi',\n",
              "  'adventure, drama, mecha, romance, sci-fi'],\n",
              " 'Pokemon Advanced Generation: Rekkuu no Houmonsha Deoxys': ['action, adventure, comedy, fantasy, kids, sci-fi',\n",
              "  'action, adventure, comedy, fantasy, kids, sci-fi',\n",
              "  'action, adventure, comedy, fantasy, kids, sci-fi',\n",
              "  'action, adventure, comedy, fantasy, kids, sci-fi'],\n",
              " 'Plastic Neesan': ['comedy, school', 'comedy, school'],\n",
              " 'Gakuen Alice': ['comedy, magic, school, shoujo',\n",
              "  'comedy, magic, school, shoujo',\n",
              "  'comedy, magic, school, shoujo',\n",
              "  'comedy, magic, school, shoujo'],\n",
              " 'Sousei no Aquarion': ['action, mecha, romance, sci-fi, super power, supernatural'],\n",
              " 'InuYasha: Guren no Houraijima': ['adventure, comedy, demons, drama, historical, romance, shounen, supernatural'],\n",
              " 'Mobile Suit Gundam: Char&#039;s Counterattack': ['drama, mecha, military, sci-fi, space',\n",
              "  'drama, mecha, military, sci-fi, space'],\n",
              " 'Alps no Shoujo Heidi': ['drama, historical, slice of life',\n",
              "  'drama, historical, slice of life'],\n",
              " 'Macross: Do You Remember Love?': ['action, mecha, military, music, romance, sci-fi, space',\n",
              "  'action, mecha, military, music, romance, sci-fi, space'],\n",
              " 'Pokemon Advanced Generation: Pokemon Ranger to Umi no Ouji Manaphy': ['action, adventure, drama, fantasy, kids'],\n",
              " 'Dragon Ball Z Movie 09: Ginga Girigiri!! Bucchigiri no Sugoi Yatsu': ['adventure, comedy, fantasy, sci-fi, shounen',\n",
              "  'adventure, comedy, fantasy, sci-fi, shounen',\n",
              "  'adventure, comedy, fantasy, sci-fi, shounen',\n",
              "  'adventure, comedy, fantasy, sci-fi, shounen'],\n",
              " 'Sekaiichi Hatsukoi OVA': ['comedy, drama, romance, shounen ai',\n",
              "  'comedy, drama, romance, shounen ai'],\n",
              " 'Code Geass: Nunnally in Wonderland': ['comedy, fantasy, parody',\n",
              "  'comedy, fantasy, parody'],\n",
              " 'Kiss x Sis (TV)': ['comedy, ecchi, harem, romance, school, seinen',\n",
              "  'comedy, ecchi, harem, romance, school, seinen',\n",
              "  'comedy, ecchi, harem, romance, school, seinen',\n",
              "  'comedy, ecchi, harem, romance, school, seinen',\n",
              "  'comedy, ecchi, harem, romance, school, seinen'],\n",
              " 'Shinmai Maou no Testament OVA': ['action, demons, ecchi, fantasy, harem, romance',\n",
              "  'action, demons, ecchi, fantasy, harem, romance'],\n",
              " 'Tokyo Ghoul √A': ['action, drama, horror, mystery, psychological, seinen, supernatural',\n",
              "  'action, drama, horror, mystery, psychological, seinen, supernatural',\n",
              "  'action, drama, horror, mystery, psychological, seinen, supernatural',\n",
              "  'action, drama, horror, mystery, psychological, seinen, supernatural',\n",
              "  'action, drama, horror, mystery, psychological, seinen, supernatural',\n",
              "  'action, drama, horror, mystery, psychological, seinen, supernatural',\n",
              "  'action, drama, horror, mystery, psychological, seinen, supernatural',\n",
              "  'action, drama, horror, mystery, psychological, seinen, supernatural'],\n",
              " 'Dragon Ball GT': ['action, adventure, comedy, fantasy, magic, sci-fi, shounen, super power',\n",
              "  'action, adventure, comedy, fantasy, magic, sci-fi, shounen, super power',\n",
              "  'action, adventure, comedy, fantasy, magic, sci-fi, shounen, super power'],\n",
              " 'Tasogare Otome x Amnesia': ['horror, mystery, romance, school, shounen, supernatural',\n",
              "  'horror, mystery, romance, school, shounen, supernatural',\n",
              "  'horror, mystery, romance, school, shounen, supernatural',\n",
              "  'horror, mystery, romance, school, shounen, supernatural',\n",
              "  'horror, mystery, romance, school, shounen, supernatural',\n",
              "  'horror, mystery, romance, school, shounen, supernatural'],\n",
              " 'Zero no Tsukaima: Princesses no Rondo Picture Drama': ['action, adventure, comedy, drama, ecchi, fantasy, harem, magic, romance, school'],\n",
              " 'Denki-gai no Honya-san': ['comedy, seinen, slice of life',\n",
              "  'comedy, seinen, slice of life',\n",
              "  'comedy, seinen, slice of life',\n",
              "  'comedy, seinen, slice of life'],\n",
              " 'Ladies versus Butlers!': ['comedy, ecchi, harem, romance, school, seinen',\n",
              "  'comedy, ecchi, harem, romance, school, seinen',\n",
              "  'comedy, ecchi, harem, romance, school, seinen'],\n",
              " 'Great Teacher Onizuka': ['comedy, drama, school, shounen, slice of life',\n",
              "  'comedy, drama, school, shounen, slice of life',\n",
              "  'comedy, drama, school, shounen, slice of life',\n",
              "  'comedy, drama, school, shounen, slice of life',\n",
              "  'comedy, drama, school, shounen, slice of life',\n",
              "  'comedy, drama, school, shounen, slice of life'],\n",
              " 'Dragon Ball Z Movie 06: Gekitotsu!! 100-oku Power no Senshi-tachi': ['adventure, comedy, fantasy, sci-fi, shounen',\n",
              "  'adventure, comedy, fantasy, sci-fi, shounen',\n",
              "  'adventure, comedy, fantasy, sci-fi, shounen',\n",
              "  'adventure, comedy, fantasy, sci-fi, shounen'],\n",
              " 'One Piece: Nenmatsu Tokubetsu Kikaku! Mugiwara no Luffy Oyabun Torimonochou': ['adventure, comedy, fantasy, shounen'],\n",
              " 'Bakemonogatari': ['mystery, romance, supernatural, vampire',\n",
              "  'mystery, romance, supernatural, vampire',\n",
              "  'mystery, romance, supernatural, vampire',\n",
              "  'mystery, romance, supernatural, vampire',\n",
              "  'mystery, romance, supernatural, vampire',\n",
              "  'mystery, romance, supernatural, vampire',\n",
              "  'mystery, romance, supernatural, vampire',\n",
              "  'mystery, romance, supernatural, vampire'],\n",
              " 'Toaru Majutsu no Index': ['action, magic, sci-fi, super power',\n",
              "  'action, magic, sci-fi, super power',\n",
              "  'action, magic, sci-fi, super power',\n",
              "  'action, magic, sci-fi, super power',\n",
              "  'action, magic, sci-fi, super power',\n",
              "  'action, magic, sci-fi, super power',\n",
              "  'action, magic, sci-fi, super power',\n",
              "  'action, magic, sci-fi, super power'],\n",
              " 'Dog Days&#039;': ['action, adventure, fantasy, magic',\n",
              "  'action, adventure, fantasy, magic',\n",
              "  'action, adventure, fantasy, magic'],\n",
              " 'R.O.D OVA': ['action, adventure, historical, magic, mystery, sci-fi',\n",
              "  'action, adventure, historical, magic, mystery, sci-fi',\n",
              "  'action, adventure, historical, magic, mystery, sci-fi',\n",
              "  'action, adventure, historical, magic, mystery, sci-fi'],\n",
              " 'Nagi no Asukara': ['drama, fantasy, romance',\n",
              "  'drama, fantasy, romance',\n",
              "  'drama, fantasy, romance',\n",
              "  'drama, fantasy, romance',\n",
              "  'drama, fantasy, romance',\n",
              "  'drama, fantasy, romance',\n",
              "  'drama, fantasy, romance',\n",
              "  'drama, fantasy, romance',\n",
              "  'drama, fantasy, romance',\n",
              "  'drama, fantasy, romance'],\n",
              " 'Genshiken 2': ['comedy, parody, slice of life'],\n",
              " 'Danganronpa: Kibou no Gakuen to Zetsubou no Koukousei The Animation': ['action, horror, mystery, psychological',\n",
              "  'action, horror, mystery, psychological',\n",
              "  'action, horror, mystery, psychological',\n",
              "  'action, horror, mystery, psychological',\n",
              "  'action, horror, mystery, psychological',\n",
              "  'action, horror, mystery, psychological',\n",
              "  'action, horror, mystery, psychological'],\n",
              " 'Pokemon Advanced Generation': ['action, adventure, comedy, fantasy, kids',\n",
              "  'action, adventure, comedy, fantasy, kids',\n",
              "  'action, adventure, comedy, fantasy, kids'],\n",
              " 'Little Witch Academia: Mahoujikake no Parade': ['adventure, comedy, fantasy, magic, school'],\n",
              " 'Ore no Imouto ga Konnani Kawaii Wake ga Nai': ['comedy, seinen, slice of life',\n",
              "  'comedy, seinen, slice of life',\n",
              "  'comedy, seinen, slice of life',\n",
              "  'comedy, seinen, slice of life',\n",
              "  'comedy, seinen, slice of life',\n",
              "  'comedy, seinen, slice of life',\n",
              "  'comedy, seinen, slice of life',\n",
              "  'comedy, seinen, slice of life',\n",
              "  'comedy, seinen, slice of life'],\n",
              " 'Gunparade March: Arata Naru Kougunka': ['drama, mecha, military, romance, sci-fi, shounen, slice of life',\n",
              "  'drama, mecha, military, romance, sci-fi, shounen, slice of life'],\n",
              " 'One Piece: Episode of Merry - Mou Hitori no Nakama no Monogatari': ['action, adventure, comedy, drama, fantasy, shounen, super power'],\n",
              " 'Death Parade': ['drama, game, mystery, psychological, thriller',\n",
              "  'drama, game, mystery, psychological, thriller',\n",
              "  'drama, game, mystery, psychological, thriller'],\n",
              " 'Juubee Ninpuuchou': ['adventure, fantasy, historical, horror, romance, shounen, supernatural',\n",
              "  'adventure, fantasy, historical, horror, romance, shounen, supernatural',\n",
              "  'adventure, fantasy, historical, horror, romance, shounen, supernatural'],\n",
              " 'Free!: Eternal Summer': ['comedy, school, slice of life, sports',\n",
              "  'comedy, school, slice of life, sports',\n",
              "  'comedy, school, slice of life, sports',\n",
              "  'comedy, school, slice of life, sports'],\n",
              " 'Senki Zesshou Symphogear G: In the Distance, That Day, When the Star Became Music...': ['action, music, sci-fi'],\n",
              " 'Yuu☆Yuu☆Hakusho': ['action, comedy, demons, fantasy, martial arts, school, shounen',\n",
              "  'action, comedy, demons, fantasy, martial arts, school, shounen',\n",
              "  'action, comedy, demons, fantasy, martial arts, school, shounen',\n",
              "  'action, comedy, demons, fantasy, martial arts, school, shounen',\n",
              "  'action, comedy, demons, fantasy, martial arts, school, shounen',\n",
              "  'action, comedy, demons, fantasy, martial arts, school, shounen'],\n",
              " 'Karin': ['comedy, romance, school, shounen, vampire',\n",
              "  'comedy, romance, school, shounen, vampire',\n",
              "  'comedy, romance, school, shounen, vampire'],\n",
              " 'Amagami SS': ['comedy, romance, school, slice of life',\n",
              "  'comedy, romance, school, slice of life',\n",
              "  'comedy, romance, school, slice of life',\n",
              "  'comedy, romance, school, slice of life'],\n",
              " 'Sol Bianca: Taiyou no Fune': ['adventure, mecha, sci-fi, space'],\n",
              " 'K-On!': ['comedy, music, school, slice of life',\n",
              "  'comedy, music, school, slice of life',\n",
              "  'comedy, music, school, slice of life',\n",
              "  'comedy, music, school, slice of life',\n",
              "  'comedy, music, school, slice of life',\n",
              "  'comedy, music, school, slice of life',\n",
              "  'comedy, music, school, slice of life',\n",
              "  'comedy, music, school, slice of life',\n",
              "  'comedy, music, school, slice of life',\n",
              "  'comedy, music, school, slice of life',\n",
              "  'comedy, music, school, slice of life',\n",
              "  'comedy, music, school, slice of life'],\n",
              " 'Golgo 13': ['action, adventure, drama, military, seinen',\n",
              "  'action, adventure, drama, military, seinen',\n",
              "  'action, adventure, drama, military, seinen'],\n",
              " 'Ushio to Tora (TV) 2nd Season': ['comedy, demons, shounen, supernatural',\n",
              "  'comedy, demons, shounen, supernatural',\n",
              "  'comedy, demons, shounen, supernatural'],\n",
              " 'Tengen Toppa Gurren Lagann': ['action, adventure, comedy, mecha, sci-fi',\n",
              "  'action, adventure, comedy, mecha, sci-fi',\n",
              "  'action, adventure, comedy, mecha, sci-fi',\n",
              "  'action, adventure, comedy, mecha, sci-fi',\n",
              "  'action, adventure, comedy, mecha, sci-fi',\n",
              "  'action, adventure, comedy, mecha, sci-fi',\n",
              "  'action, adventure, comedy, mecha, sci-fi',\n",
              "  'action, adventure, comedy, mecha, sci-fi',\n",
              "  'action, adventure, comedy, mecha, sci-fi',\n",
              "  'action, adventure, comedy, mecha, sci-fi',\n",
              "  'action, adventure, comedy, mecha, sci-fi',\n",
              "  'action, adventure, comedy, mecha, sci-fi',\n",
              "  'action, adventure, comedy, mecha, sci-fi',\n",
              "  'action, adventure, comedy, mecha, sci-fi',\n",
              "  'action, adventure, comedy, mecha, sci-fi',\n",
              "  'action, adventure, comedy, mecha, sci-fi',\n",
              "  'action, adventure, comedy, mecha, sci-fi',\n",
              "  'action, adventure, comedy, mecha, sci-fi',\n",
              "  'action, adventure, comedy, mecha, sci-fi'],\n",
              " 'Tamako Market': ['comedy, slice of life', 'comedy, slice of life'],\n",
              " 'Fullmetal Alchemist: Premium Collection': ['comedy, fantasy, shounen',\n",
              "  'comedy, fantasy, shounen',\n",
              "  'comedy, fantasy, shounen'],\n",
              " 'Bokura ga Ita': ['drama, romance, shoujo, slice of life',\n",
              "  'drama, romance, shoujo, slice of life',\n",
              "  'drama, romance, shoujo, slice of life'],\n",
              " 'Amagi Brilliant Park': ['comedy, magic',\n",
              "  'comedy, magic',\n",
              "  'comedy, magic',\n",
              "  'comedy, magic',\n",
              "  'comedy, magic'],\n",
              " 'Dragon Ball Z Movie 14: Kami to Kami': ['action, adventure, fantasy, martial arts, shounen, super power',\n",
              "  'action, adventure, fantasy, martial arts, shounen, super power'],\n",
              " 'Re:␣Hamatora': ['comedy, mystery, super power'],\n",
              " 'Monster': ['drama, horror, mystery, police, psychological, seinen, thriller',\n",
              "  'drama, horror, mystery, police, psychological, seinen, thriller'],\n",
              " 'Fushigi na Somera-chan': ['comedy, magic, slice of life'],\n",
              " 'Shirogane no Ishi: Argevollen': ['action, mecha',\n",
              "  'action, mecha',\n",
              "  'action, mecha'],\n",
              " 'Seimei no Kagaku: Micro Patrol': ['adventure'],\n",
              " 'Sensitive Pornograph': ['comedy, drama, hentai, romance, yaoi'],\n",
              " 'Angel Blade: Cut Scene': ['hentai, sci-fi'],\n",
              " 'Ginga Nagareboshi Gin': ['action, adventure, drama, shounen'],\n",
              " 'Higashi no Eden Soushuuhen: Air Communication': ['comedy, mystery, romance'],\n",
              " 'Gintama&#039;: Enchousen': ['action, comedy, historical, parody, samurai, sci-fi, shounen'],\n",
              " 'FLCL': ['action, comedy, dementia, mecha, parody, sci-fi',\n",
              "  'action, comedy, dementia, mecha, parody, sci-fi',\n",
              "  'action, comedy, dementia, mecha, parody, sci-fi'],\n",
              " 'Hetalia World Series': ['comedy, historical, parody',\n",
              "  'comedy, historical, parody'],\n",
              " 'MM!': ['comedy, ecchi, harem, school',\n",
              "  'comedy, ecchi, harem, school',\n",
              "  'comedy, ecchi, harem, school',\n",
              "  'comedy, ecchi, harem, school',\n",
              "  'comedy, ecchi, harem, school',\n",
              "  'comedy, ecchi, harem, school'],\n",
              " 'To LOVE-Ru Darkness': ['comedy, ecchi, harem, romance, school, sci-fi, shounen',\n",
              "  'comedy, ecchi, harem, romance, school, sci-fi, shounen',\n",
              "  'comedy, ecchi, harem, romance, school, sci-fi, shounen'],\n",
              " 'Shingeki no Bahamut: Genesis': ['action, adventure, demons, fantasy, magic, supernatural',\n",
              "  'action, adventure, demons, fantasy, magic, supernatural',\n",
              "  'action, adventure, demons, fantasy, magic, supernatural',\n",
              "  'action, adventure, demons, fantasy, magic, supernatural',\n",
              "  'action, adventure, demons, fantasy, magic, supernatural',\n",
              "  'action, adventure, demons, fantasy, magic, supernatural',\n",
              "  'action, adventure, demons, fantasy, magic, supernatural'],\n",
              " 'Wagamama☆Fairy Mirumo de Pon!': ['adventure, comedy, drama, fantasy, kids, magic, romance, school, shoujo'],\n",
              " 'Cross Game': ['comedy, drama, romance, school, sports'],\n",
              " 'Aoki Hagane no Arpeggio: Ars Nova Cadenza': ['action, sci-fi, seinen'],\n",
              " 'Mawaru Penguindrum': ['comedy, drama, mystery, psychological',\n",
              "  'comedy, drama, mystery, psychological',\n",
              "  'comedy, drama, mystery, psychological'],\n",
              " 'Houkago no Pleiades': ['magic'],\n",
              " 'Mobile Suit Gundam 00 Second Season': ['action, drama, mecha, military, sci-fi, space',\n",
              "  'action, drama, mecha, military, sci-fi, space',\n",
              "  'action, drama, mecha, military, sci-fi, space',\n",
              "  'action, drama, mecha, military, sci-fi, space',\n",
              "  'action, drama, mecha, military, sci-fi, space',\n",
              "  'action, drama, mecha, military, sci-fi, space'],\n",
              " 'Sweat Punch': ['action, fantasy, historical, mecha',\n",
              "  'action, fantasy, historical, mecha'],\n",
              " 'Ookiku Furikabutte: Natsu no Taikai-hen': ['comedy, sports'],\n",
              " 'Hanasaku Iroha: Home Sweet Home': ['comedy, drama, slice of life'],\n",
              " 'Kore wa Zombie Desu ka? of the Dead OVA': ['action, comedy, ecchi, harem, magic, supernatural',\n",
              "  'action, comedy, ecchi, harem, magic, supernatural',\n",
              "  'action, comedy, ecchi, harem, magic, supernatural'],\n",
              " 'Jormungand: Perfect Order': ['action, adventure, seinen',\n",
              "  'action, adventure, seinen',\n",
              "  'action, adventure, seinen',\n",
              "  'action, adventure, seinen',\n",
              "  'action, adventure, seinen',\n",
              "  'action, adventure, seinen'],\n",
              " 'Denpa Onna to Seishun Otoko': ['comedy, sci-fi, seinen, slice of life',\n",
              "  'comedy, sci-fi, seinen, slice of life',\n",
              "  'comedy, sci-fi, seinen, slice of life',\n",
              "  'comedy, sci-fi, seinen, slice of life',\n",
              "  'comedy, sci-fi, seinen, slice of life'],\n",
              " 'Detective Conan Movie 02: The Fourteenth Target': ['adventure, comedy, mystery, police, shounen',\n",
              "  'adventure, comedy, mystery, police, shounen'],\n",
              " 'Sekaiichi Hatsukoi 2': ['comedy, drama, romance, shounen ai',\n",
              "  'comedy, drama, romance, shounen ai'],\n",
              " 'Pokemon: Mewtwo! Ware wa Koko ni Ari': ['action, adventure, comedy, drama, fantasy, kids'],\n",
              " 'Bakuten Shoot Beyblade G Revolution': ['action, adventure, comedy, sci-fi, shounen, sports',\n",
              "  'action, adventure, comedy, sci-fi, shounen, sports'],\n",
              " 'Aldnoah.Zero': ['action, mecha, sci-fi',\n",
              "  'action, mecha, sci-fi',\n",
              "  'action, mecha, sci-fi',\n",
              "  'action, mecha, sci-fi',\n",
              "  'action, mecha, sci-fi',\n",
              "  'action, mecha, sci-fi'],\n",
              " 'Darker than Black: Kuro no Keiyakusha': ['action, mystery, sci-fi, super power',\n",
              "  'action, mystery, sci-fi, super power',\n",
              "  'action, mystery, sci-fi, super power',\n",
              "  'action, mystery, sci-fi, super power',\n",
              "  'action, mystery, sci-fi, super power',\n",
              "  'action, mystery, sci-fi, super power',\n",
              "  'action, mystery, sci-fi, super power',\n",
              "  'action, mystery, sci-fi, super power',\n",
              "  'action, mystery, sci-fi, super power',\n",
              "  'action, mystery, sci-fi, super power',\n",
              "  'action, mystery, sci-fi, super power'],\n",
              " 'Rescue Me!': ['ecchi, harem, romance'],\n",
              " 'Sekirei': ['action, comedy, ecchi, harem, super power',\n",
              "  'action, comedy, ecchi, harem, super power',\n",
              "  'action, comedy, ecchi, harem, super power',\n",
              "  'action, comedy, ecchi, harem, super power',\n",
              "  'action, comedy, ecchi, harem, super power',\n",
              "  'action, comedy, ecchi, harem, super power',\n",
              "  'action, comedy, ecchi, harem, super power',\n",
              "  'action, comedy, ecchi, harem, super power',\n",
              "  'action, comedy, ecchi, harem, super power'],\n",
              " 'One Punch Man: Road to Hero': ['action, comedy, parody, sci-fi, seinen, super power, supernatural',\n",
              "  'action, comedy, parody, sci-fi, seinen, super power, supernatural'],\n",
              " 'Kanokon': ['comedy, ecchi, harem, romance, school, shounen, slice of life, supernatural',\n",
              "  'comedy, ecchi, harem, romance, school, shounen, slice of life, supernatural'],\n",
              " 'Togainu no Chi': ['action, sci-fi, shounen ai',\n",
              "  'action, sci-fi, shounen ai'],\n",
              " 'One Punch Man': ['action, comedy, parody, sci-fi, seinen, super power, supernatural',\n",
              "  'action, comedy, parody, sci-fi, seinen, super power, supernatural',\n",
              "  'action, comedy, parody, sci-fi, seinen, super power, supernatural',\n",
              "  'action, comedy, parody, sci-fi, seinen, super power, supernatural'],\n",
              " 'Hanasakeru Seishounen': ['drama, romance, shoujo', 'drama, romance, shoujo'],\n",
              " 'Hetalia Axis Powers Fan Disc': ['comedy, historical, parody'],\n",
              " 'Ao no Exorcist: Kuro no Iede': ['action, demons, fantasy, shounen, supernatural'],\n",
              " 'Naruto: The Cross Roads': ['action, adventure, comedy, shounen'],\n",
              " 'Noragami': ['action, adventure, shounen, supernatural',\n",
              "  'action, adventure, shounen, supernatural',\n",
              "  'action, adventure, shounen, supernatural',\n",
              "  'action, adventure, shounen, supernatural',\n",
              "  'action, adventure, shounen, supernatural',\n",
              "  'action, adventure, shounen, supernatural',\n",
              "  'action, adventure, shounen, supernatural',\n",
              "  'action, adventure, shounen, supernatural',\n",
              "  'action, adventure, shounen, supernatural',\n",
              "  'action, adventure, shounen, supernatural',\n",
              "  'action, adventure, shounen, supernatural',\n",
              "  'action, adventure, shounen, supernatural'],\n",
              " 'To LOVE-Ru OVA': ['comedy, ecchi, harem, school, sci-fi, shounen',\n",
              "  'comedy, ecchi, harem, school, sci-fi, shounen',\n",
              "  'comedy, ecchi, harem, school, sci-fi, shounen'],\n",
              " 'Initial D Final Stage': ['cars, seinen, sports'],\n",
              " 'Chobits: Chibits': ['comedy, romance', 'comedy, romance'],\n",
              " 'Kore ga Watashi no Goshujinsama': ['comedy, ecchi, slice of life'],\n",
              " 'High School DxD': ['comedy, demons, ecchi, harem, romance, school',\n",
              "  'comedy, demons, ecchi, harem, romance, school',\n",
              "  'comedy, demons, ecchi, harem, romance, school',\n",
              "  'comedy, demons, ecchi, harem, romance, school',\n",
              "  'comedy, demons, ecchi, harem, romance, school',\n",
              "  'comedy, demons, ecchi, harem, romance, school'],\n",
              " 'Valkyrie Drive: Mermaid': ['action, ecchi, fantasy, shoujo ai',\n",
              "  'action, ecchi, fantasy, shoujo ai'],\n",
              " 'Tenjou Tenge': ['action, comedy, ecchi, martial arts, school, shounen, super power',\n",
              "  'action, comedy, ecchi, martial arts, school, shounen, super power',\n",
              "  'action, comedy, ecchi, martial arts, school, shounen, super power',\n",
              "  'action, comedy, ecchi, martial arts, school, shounen, super power',\n",
              "  'action, comedy, ecchi, martial arts, school, shounen, super power'],\n",
              " 'Hundred': ['action, ecchi, harem, mecha, romance, school, sci-fi'],\n",
              " 'Hunter x Hunter (2011)': ['action, adventure, shounen, super power',\n",
              "  'action, adventure, shounen, super power',\n",
              "  'action, adventure, shounen, super power',\n",
              "  'action, adventure, shounen, super power',\n",
              "  'action, adventure, shounen, super power',\n",
              "  'action, adventure, shounen, super power',\n",
              "  'action, adventure, shounen, super power',\n",
              "  'action, adventure, shounen, super power'],\n",
              " 'Panty &amp; Stocking with Garterbelt': ['action, comedy, ecchi, parody, supernatural',\n",
              "  'action, comedy, ecchi, parody, supernatural',\n",
              "  'action, comedy, ecchi, parody, supernatural',\n",
              "  'action, comedy, ecchi, parody, supernatural'],\n",
              " 'Air Gear': ['action, comedy, ecchi, shounen, sports',\n",
              "  'action, comedy, ecchi, shounen, sports',\n",
              "  'action, comedy, ecchi, shounen, sports',\n",
              "  'action, comedy, ecchi, shounen, sports',\n",
              "  'action, comedy, ecchi, shounen, sports',\n",
              "  'action, comedy, ecchi, shounen, sports',\n",
              "  'action, comedy, ecchi, shounen, sports',\n",
              "  'action, comedy, ecchi, shounen, sports',\n",
              "  'action, comedy, ecchi, shounen, sports',\n",
              "  'action, comedy, ecchi, shounen, sports'],\n",
              " 'Nisekoi': ['comedy, harem, romance, school, shounen',\n",
              "  'comedy, harem, romance, school, shounen',\n",
              "  'comedy, harem, romance, school, shounen',\n",
              "  'comedy, harem, romance, school, shounen',\n",
              "  'comedy, harem, romance, school, shounen',\n",
              "  'comedy, harem, romance, school, shounen',\n",
              "  'comedy, harem, romance, school, shounen'],\n",
              " 'Kuusen Madoushi Kouhosei no Kyoukan': ['action, drama, fantasy, magic, school',\n",
              "  'action, drama, fantasy, magic, school'],\n",
              " 'Blood-C: The Last Dark': ['action, horror, supernatural, vampire',\n",
              "  'action, horror, supernatural, vampire',\n",
              "  'action, horror, supernatural, vampire'],\n",
              " 'Lupin III: Cagliostro no Shiro': ['adventure, comedy, shounen',\n",
              "  'adventure, comedy, shounen'],\n",
              " 'Abenobashi Mahou☆Shoutengai': ['comedy, ecchi, fantasy, parody',\n",
              "  'comedy, ecchi, fantasy, parody',\n",
              "  'comedy, ecchi, fantasy, parody'],\n",
              " 'Natsume Yuujinchou San': ['drama, fantasy, shoujo, slice of life, supernatural',\n",
              "  'drama, fantasy, shoujo, slice of life, supernatural'],\n",
              " 'Mardock Scramble: The Second Combustion': ['action, psychological, sci-fi',\n",
              "  'action, psychological, sci-fi'],\n",
              " 'Cowboy Bebop': ['action, adventure, comedy, drama, sci-fi, space',\n",
              "  'action, adventure, comedy, drama, sci-fi, space',\n",
              "  'action, adventure, comedy, drama, sci-fi, space',\n",
              "  'action, adventure, comedy, drama, sci-fi, space',\n",
              "  'action, adventure, comedy, drama, sci-fi, space',\n",
              "  'action, adventure, comedy, drama, sci-fi, space',\n",
              "  'action, adventure, comedy, drama, sci-fi, space',\n",
              "  'action, adventure, comedy, drama, sci-fi, space',\n",
              "  'action, adventure, comedy, drama, sci-fi, space'],\n",
              " 'Zettai Karen Children: The Unlimited - Hyoubu Kyousuke': ['shounen, supernatural',\n",
              "  'shounen, supernatural'],\n",
              " 'Devil May Cry': ['action, demons, fantasy',\n",
              "  'action, demons, fantasy',\n",
              "  'action, demons, fantasy',\n",
              "  'action, demons, fantasy',\n",
              "  'action, demons, fantasy'],\n",
              " 'Hotaru no Haka': ['drama, historical',\n",
              "  'drama, historical',\n",
              "  'drama, historical'],\n",
              " 'God Eater': ['action, fantasy, military, sci-fi',\n",
              "  'action, fantasy, military, sci-fi'],\n",
              " 'Moonlight Mile 1st Season: Lift Off': ['adventure, drama, sci-fi, space'],\n",
              " 'Okane ga Nai': ['drama, romance, yaoi'],\n",
              " 'Boku dake ga Inai Machi': ['mystery, psychological, seinen, supernatural',\n",
              "  'mystery, psychological, seinen, supernatural',\n",
              "  'mystery, psychological, seinen, supernatural',\n",
              "  'mystery, psychological, seinen, supernatural',\n",
              "  'mystery, psychological, seinen, supernatural',\n",
              "  'mystery, psychological, seinen, supernatural',\n",
              "  'mystery, psychological, seinen, supernatural',\n",
              "  'mystery, psychological, seinen, supernatural',\n",
              "  'mystery, psychological, seinen, supernatural',\n",
              "  'mystery, psychological, seinen, supernatural',\n",
              "  'mystery, psychological, seinen, supernatural',\n",
              "  'mystery, psychological, seinen, supernatural'],\n",
              " 'Darling': ['hentai'],\n",
              " 'Nanatsu no Taizai: Seisen no Shirushi': ['action, adventure, ecchi, fantasy, shounen, supernatural',\n",
              "  'action, adventure, ecchi, fantasy, shounen, supernatural',\n",
              "  'action, adventure, ecchi, fantasy, shounen, supernatural'],\n",
              " 'Mayo Chiki!': ['comedy, ecchi, harem, romance, school',\n",
              "  'comedy, ecchi, harem, romance, school',\n",
              "  'comedy, ecchi, harem, romance, school'],\n",
              " 'Space☆Dandy 2nd Season': ['comedy, sci-fi, space',\n",
              "  'comedy, sci-fi, space',\n",
              "  'comedy, sci-fi, space',\n",
              "  'comedy, sci-fi, space'],\n",
              " 'Mashiro-iro Symphony: The Color of Lovers': ['drama, harem, romance, school'],\n",
              " 'So Ra No Wo To': ['military, music, sci-fi, slice of life',\n",
              "  'military, music, sci-fi, slice of life',\n",
              "  'military, music, sci-fi, slice of life',\n",
              "  'military, music, sci-fi, slice of life'],\n",
              " 'Majutsushi Orphen: Revenge': ['adventure, comedy, fantasy, magic, shounen'],\n",
              " 'Sekirei: Hajimete no Otsukai': ['comedy'],\n",
              " 'Kuroko no Basket 3rd Season NG-shuu': ['comedy, sports'],\n",
              " 'Full Metal Panic! The Second Raid': ['action, mecha, military',\n",
              "  'action, mecha, military',\n",
              "  'action, mecha, military',\n",
              "  'action, mecha, military',\n",
              "  'action, mecha, military',\n",
              "  'action, mecha, military',\n",
              "  'action, mecha, military'],\n",
              " 'Fate/stay night: Unlimited Blade Works 2nd Season': ['action, fantasy, magic, shounen, supernatural',\n",
              "  'action, fantasy, magic, shounen, supernatural',\n",
              "  'action, fantasy, magic, shounen, supernatural',\n",
              "  'action, fantasy, magic, shounen, supernatural',\n",
              "  'action, fantasy, magic, shounen, supernatural',\n",
              "  'action, fantasy, magic, shounen, supernatural',\n",
              "  'action, fantasy, magic, shounen, supernatural',\n",
              "  'action, fantasy, magic, shounen, supernatural',\n",
              "  'action, fantasy, magic, shounen, supernatural'],\n",
              " 'Joukamachi no Dandelion': ['comedy, seinen, slice of life, super power',\n",
              "  'comedy, seinen, slice of life, super power',\n",
              "  'comedy, seinen, slice of life, super power'],\n",
              " 'Steins;Gate Movie: Fuka Ryouiki no Déjà vu': ['sci-fi, thriller',\n",
              "  'sci-fi, thriller',\n",
              "  'sci-fi, thriller',\n",
              "  'sci-fi, thriller',\n",
              "  'sci-fi, thriller'],\n",
              " 'Gatchaman Crowds Insight': ['adventure, sci-fi'],\n",
              " 'Kurogane no Linebarrels': ['action, mecha, sci-fi'],\n",
              " 'Selector Spread WIXOSS': ['game, psychological', 'game, psychological'],\n",
              " 'Magical☆Star Kanon 100%': ['magic, music, shounen', 'magic, music, shounen'],\n",
              " 'Nisekoi OVA': ['comedy, harem, romance, school, shounen',\n",
              "  'comedy, harem, romance, school, shounen'],\n",
              " 'Kara no Kyoukai 4: Garan no Dou': ['action, mystery, supernatural, thriller',\n",
              "  'action, mystery, supernatural, thriller',\n",
              "  'action, mystery, supernatural, thriller',\n",
              "  'action, mystery, supernatural, thriller'],\n",
              " 'Allison to Lillia': ['action, adventure, shounen'],\n",
              " 'Lupin III: Touhou Kenbunroku - Another Page': ['action, adventure, comedy, mystery, shounen'],\n",
              " 'Karas': ['action, fantasy, sci-fi',\n",
              "  'action, fantasy, sci-fi',\n",
              "  'action, fantasy, sci-fi'],\n",
              " 'Tonari no Kaibutsu-kun': ['comedy, romance, school, shoujo, slice of life',\n",
              "  'comedy, romance, school, shoujo, slice of life',\n",
              "  'comedy, romance, school, shoujo, slice of life',\n",
              "  'comedy, romance, school, shoujo, slice of life',\n",
              "  'comedy, romance, school, shoujo, slice of life',\n",
              "  'comedy, romance, school, shoujo, slice of life',\n",
              "  'comedy, romance, school, shoujo, slice of life'],\n",
              " 'Maken-Ki!': ['action, ecchi, harem, martial arts, school, super power',\n",
              "  'action, ecchi, harem, martial arts, school, super power'],\n",
              " 'Shinryaku!! Ika Musume': ['comedy, shounen, slice of life',\n",
              "  'comedy, shounen, slice of life',\n",
              "  'comedy, shounen, slice of life'],\n",
              " 'No.6': ['action, sci-fi', 'action, sci-fi', 'action, sci-fi'],\n",
              " 'Bishoujo Senshi Sailor Moon Crystal': ['demons, magic, romance, shoujo'],\n",
              " 'Mushibugyou': ['action, fantasy, historical, martial arts, samurai, shounen, super power',\n",
              "  'action, fantasy, historical, martial arts, samurai, shounen, super power'],\n",
              " 'Goshuushou-sama Ninomiya-kun': ['comedy, ecchi, fantasy, harem',\n",
              "  'comedy, ecchi, fantasy, harem'],\n",
              " 'Yowamushi Pedal: Grande Road': ['comedy, drama, shounen, sports'],\n",
              " 'Re:Zero kara Hajimeru Isekai Seikatsu': ['drama, fantasy, psychological, thriller',\n",
              "  'drama, fantasy, psychological, thriller',\n",
              "  'drama, fantasy, psychological, thriller',\n",
              "  'drama, fantasy, psychological, thriller',\n",
              "  'drama, fantasy, psychological, thriller',\n",
              "  'drama, fantasy, psychological, thriller',\n",
              "  'drama, fantasy, psychological, thriller'],\n",
              " 'Kore wa Zombie Desu ka? OVA': ['action, comedy, ecchi, harem, magic, supernatural'],\n",
              " 'Kaze no Stigma': ['action, fantasy, magic, romance, shounen',\n",
              "  'action, fantasy, magic, romance, shounen',\n",
              "  'action, fantasy, magic, romance, shounen',\n",
              "  'action, fantasy, magic, romance, shounen',\n",
              "  'action, fantasy, magic, romance, shounen',\n",
              "  'action, fantasy, magic, romance, shounen',\n",
              "  'action, fantasy, magic, romance, shounen',\n",
              "  'action, fantasy, magic, romance, shounen'],\n",
              " '.hack//Unison': ['adventure, comedy, fantasy, game, magic, sci-fi'],\n",
              " 'Trinity Seven': ['action, comedy, ecchi, fantasy, harem, magic, romance, school, shounen, supernatural',\n",
              "  'action, comedy, ecchi, fantasy, harem, magic, romance, school, shounen, supernatural',\n",
              "  'action, comedy, ecchi, fantasy, harem, magic, romance, school, shounen, supernatural',\n",
              "  'action, comedy, ecchi, fantasy, harem, magic, romance, school, shounen, supernatural',\n",
              "  'action, comedy, ecchi, fantasy, harem, magic, romance, school, shounen, supernatural',\n",
              "  'action, comedy, ecchi, fantasy, harem, magic, romance, school, shounen, supernatural',\n",
              "  'action, comedy, ecchi, fantasy, harem, magic, romance, school, shounen, supernatural',\n",
              "  'action, comedy, ecchi, fantasy, harem, magic, romance, school, shounen, supernatural'],\n",
              " 'UFO Princess Valkyrie 3: Seiresetsu no Hanayome': ['comedy, magic, romance, sci-fi'],\n",
              " 'Perfect Blue': ['dementia, drama, horror, psychological',\n",
              "  'dementia, drama, horror, psychological',\n",
              "  'dementia, drama, horror, psychological',\n",
              "  'dementia, drama, horror, psychological',\n",
              "  'dementia, drama, horror, psychological'],\n",
              " 'Ginga e Kickoff!!': ['shounen, sports'],\n",
              " 'Gyakkyou Burai Kaiji: Ultimate Survivor': ['game, psychological, seinen, thriller',\n",
              "  'game, psychological, seinen, thriller'],\n",
              " 'Kenkou Zenrakei Suieibu Umishou': ['comedy, ecchi, school, shounen, sports'],\n",
              " 'Nodame Cantabile: Paris-hen': ['comedy, josei, music, romance, slice of life',\n",
              "  'comedy, josei, music, romance, slice of life'],\n",
              " 'Buddy Complex': ['action, mecha, sci-fi'],\n",
              " 'Azumanga Daioh': ['comedy, school, slice of life',\n",
              "  'comedy, school, slice of life',\n",
              "  'comedy, school, slice of life'],\n",
              " 'Saint☆Oniisan': ['comedy, seinen, slice of life',\n",
              "  'comedy, seinen, slice of life'],\n",
              " 'Kara no Kyoukai: Shuushou': ['mystery', 'mystery', 'mystery'],\n",
              " 'Hakushaku to Yousei': ['adventure, fantasy, historical, magic',\n",
              "  'adventure, fantasy, historical, magic',\n",
              "  'adventure, fantasy, historical, magic'],\n",
              " 'Major S1': ['comedy, drama, shounen, sports'],\n",
              " 'Kokoro Connect: Michi Random': ['comedy, drama, romance, school, slice of life, supernatural',\n",
              "  'comedy, drama, romance, school, slice of life, supernatural',\n",
              "  'comedy, drama, romance, school, slice of life, supernatural'],\n",
              " 'Hitsugi no Chaika: Avenging Battle': ['action, adventure, comedy, fantasy, romance, shounen',\n",
              "  'action, adventure, comedy, fantasy, romance, shounen',\n",
              "  'action, adventure, comedy, fantasy, romance, shounen',\n",
              "  'action, adventure, comedy, fantasy, romance, shounen'],\n",
              " 'Detective Conan OVA 05: The Target is Kogoro! The Detective Boys&#039; Secret Investigation': ['adventure, comedy, mystery, police, shounen'],\n",
              " 'School Rumble Ni Gakki': ['comedy, romance, school, shounen',\n",
              "  'comedy, romance, school, shounen',\n",
              "  'comedy, romance, school, shounen'],\n",
              " 'Kuro no Sumika: Chronus': ['psychological'],\n",
              " 'Bokura wa Minna Kawaisou': ['comedy, romance, school, slice of life',\n",
              "  'comedy, romance, school, slice of life',\n",
              "  'comedy, romance, school, slice of life',\n",
              "  'comedy, romance, school, slice of life',\n",
              "  'comedy, romance, school, slice of life',\n",
              "  'comedy, romance, school, slice of life',\n",
              "  'comedy, romance, school, slice of life',\n",
              "  'comedy, romance, school, slice of life'],\n",
              " 'Seto no Hanayome': ['comedy, parody, romance, school',\n",
              "  'comedy, parody, romance, school',\n",
              "  'comedy, parody, romance, school',\n",
              "  'comedy, parody, romance, school',\n",
              "  'comedy, parody, romance, school',\n",
              "  'comedy, parody, romance, school'],\n",
              " 'Penguin Musume♥Heart': ['comedy, ecchi, school, slice of life'],\n",
              " 'Digimon Xros Wars': ['action, adventure, comedy, fantasy, shounen'],\n",
              " 'Bakuten Shoot Beyblade': ['action, adventure, comedy, sci-fi, shounen, sports',\n",
              "  'action, adventure, comedy, sci-fi, shounen, sports'],\n",
              " 'Naruto Narutimate Hero 3: Tsuini Gekitotsu! Jounin vs. Genin!! Musabetsu Dairansen taikai Kaisai!!': ['adventure, comedy, game, shounen',\n",
              "  'adventure, comedy, game, shounen',\n",
              "  'adventure, comedy, game, shounen'],\n",
              " 'Kotoura-san: Haruka no Heya': ['comedy, school'],\n",
              " 'Fushigi Yuugi': ['adventure, comedy, drama, fantasy, historical, magic, martial arts, romance, shoujo',\n",
              "  'adventure, comedy, drama, fantasy, historical, magic, martial arts, romance, shoujo'],\n",
              " 'Kami nomi zo Shiru Sekai II': ['comedy, harem, romance, shounen, supernatural',\n",
              "  'comedy, harem, romance, shounen, supernatural',\n",
              "  'comedy, harem, romance, shounen, supernatural',\n",
              "  'comedy, harem, romance, shounen, supernatural',\n",
              "  'comedy, harem, romance, shounen, supernatural'],\n",
              " 'Azumanga Web Daioh': ['comedy, school, slice of life'],\n",
              " 'Sora no Iro, Mizu no Iro': ['hentai'],\n",
              " 'Donten ni Warau': ['action, historical, shoujo',\n",
              "  'action, historical, shoujo',\n",
              "  'action, historical, shoujo'],\n",
              " 'Shigatsu wa Kimi no Uso': ['drama, music, romance, school, shounen',\n",
              "  'drama, music, romance, school, shounen',\n",
              "  'drama, music, romance, school, shounen',\n",
              "  'drama, music, romance, school, shounen',\n",
              "  'drama, music, romance, school, shounen',\n",
              "  'drama, music, romance, school, shounen',\n",
              "  'drama, music, romance, school, shounen',\n",
              "  'drama, music, romance, school, shounen',\n",
              "  'drama, music, romance, school, shounen',\n",
              "  'drama, music, romance, school, shounen',\n",
              "  'drama, music, romance, school, shounen'],\n",
              " 'NHK ni Youkoso!': ['comedy, drama, psychological, romance',\n",
              "  'comedy, drama, psychological, romance',\n",
              "  'comedy, drama, psychological, romance',\n",
              "  'comedy, drama, psychological, romance',\n",
              "  'comedy, drama, psychological, romance',\n",
              "  'comedy, drama, psychological, romance'],\n",
              " 'Hunter x Hunter OVA': ['action, adventure, shounen, super power',\n",
              "  'action, adventure, shounen, super power'],\n",
              " 'Yuusha Tokkyuu Might Gaine': ['action, adventure, mecha, sci-fi, shounen'],\n",
              " 'Tengen Toppa Gurren Lagann: Kirameki★Yoko Box - Pieces of Sweet Stars': ['ecchi, music'],\n",
              " 'Haiyore! Nyaruko-san': ['comedy, parody, sci-fi',\n",
              "  'comedy, parody, sci-fi',\n",
              "  'comedy, parody, sci-fi'],\n",
              " 'Sentou Yousei Shoujo Tasukete! Mave-chan': ['comedy, parody, sci-fi, shounen, super power'],\n",
              " 'Freezing Specials': ['action, comedy, ecchi'],\n",
              " 'Rurouni Kenshin: Meiji Kenkaku Romantan - Ishinshishi e no Chinkonka': ['drama, historical, samurai, shounen'],\n",
              " 'Sword Art Online: Sword Art Offline - Extra Edition': ['comedy'],\n",
              " 'Rurouni Kenshin: Meiji Kenkaku Romantan - Tsuioku-hen': ['action, drama, historical, martial arts, romance, samurai',\n",
              "  'action, drama, historical, martial arts, romance, samurai',\n",
              "  'action, drama, historical, martial arts, romance, samurai'],\n",
              " 'Carnival Phantasm: HibiChika Special': ['comedy, supernatural'],\n",
              " 'Makai Senki Disgaea': ['action, comedy, demons, fantasy, magic'],\n",
              " 'Yozakura Quartet': ['action, comedy, magic, shounen, super power, supernatural',\n",
              "  'action, comedy, magic, shounen, super power, supernatural'],\n",
              " 'Eat-Man': ['action, adventure, sci-fi, shounen, super power'],\n",
              " 'High School DxD BorN': ['action, comedy, demons, ecchi, harem, romance, school',\n",
              "  'action, comedy, demons, ecchi, harem, romance, school'],\n",
              " 'Owarimonogatari': ['comedy, mystery, supernatural',\n",
              "  'comedy, mystery, supernatural',\n",
              "  'comedy, mystery, supernatural'],\n",
              " 'Barakamon: Mijikamon': ['comedy', 'comedy'],\n",
              " 'Alien 9': ['horror, school, sci-fi'],\n",
              " 'Mobile Suit Gundam Seed Destiny': ['action, drama, mecha, military, romance, sci-fi, space'],\n",
              " 'Naruto Movie 1: Dai Katsugeki!! Yuki Hime Shinobu Houjou Dattebayo!': ['adventure, comedy, drama, historical, shounen, supernatural',\n",
              "  'adventure, comedy, drama, historical, shounen, supernatural',\n",
              "  'adventure, comedy, drama, historical, shounen, supernatural',\n",
              "  'adventure, comedy, drama, historical, shounen, supernatural'],\n",
              " 'Mirai Nikki Redial': ['action, psychological, shounen, supernatural',\n",
              "  'action, psychological, shounen, supernatural',\n",
              "  'action, psychological, shounen, supernatural'],\n",
              " 'Pokemon: Bokutachi Pichu Brothers - Party wa Oosawagi! no Maki': ['adventure, comedy, fantasy, kids'],\n",
              " 'Samurai Deeper Kyou': ['adventure, comedy, historical, shounen, supernatural'],\n",
              " 'Magi: The Labyrinth of Magic': ['action, adventure, fantasy, magic, shounen',\n",
              "  'action, adventure, fantasy, magic, shounen',\n",
              "  'action, adventure, fantasy, magic, shounen',\n",
              "  'action, adventure, fantasy, magic, shounen',\n",
              "  'action, adventure, fantasy, magic, shounen',\n",
              "  'action, adventure, fantasy, magic, shounen',\n",
              "  'action, adventure, fantasy, magic, shounen',\n",
              "  'action, adventure, fantasy, magic, shounen',\n",
              "  'action, adventure, fantasy, magic, shounen',\n",
              "  'action, adventure, fantasy, magic, shounen',\n",
              "  'action, adventure, fantasy, magic, shounen'],\n",
              " 'Furiko': ['drama, music, romance, slice of life'],\n",
              " 'Kuroshitsuji: Book of Circus': ['comedy, demons, fantasy, historical, shounen, supernatural',\n",
              "  'comedy, demons, fantasy, historical, shounen, supernatural',\n",
              "  'comedy, demons, fantasy, historical, shounen, supernatural',\n",
              "  'comedy, demons, fantasy, historical, shounen, supernatural',\n",
              "  'comedy, demons, fantasy, historical, shounen, supernatural',\n",
              "  'comedy, demons, fantasy, historical, shounen, supernatural',\n",
              "  'comedy, demons, fantasy, historical, shounen, supernatural'],\n",
              " 'Strike Witches': ['action, ecchi, magic, military, sci-fi',\n",
              "  'action, ecchi, magic, military, sci-fi'],\n",
              " 'Neppuu Kairiku Bushi Road': ['action, fantasy, mecha, sci-fi'],\n",
              " 'InuYasha: Toki wo Koeru Omoi': ['adventure, comedy, demons, drama, fantasy, historical, romance, shounen, super power',\n",
              "  'adventure, comedy, demons, drama, fantasy, historical, romance, shounen, super power',\n",
              "  'adventure, comedy, demons, drama, fantasy, historical, romance, shounen, super power'],\n",
              " 'To LOVE-Ru': ['comedy, ecchi, harem, romance, school, sci-fi',\n",
              "  'comedy, ecchi, harem, romance, school, sci-fi',\n",
              "  'comedy, ecchi, harem, romance, school, sci-fi',\n",
              "  'comedy, ecchi, harem, romance, school, sci-fi',\n",
              "  'comedy, ecchi, harem, romance, school, sci-fi',\n",
              "  'comedy, ecchi, harem, romance, school, sci-fi',\n",
              "  'comedy, ecchi, harem, romance, school, sci-fi'],\n",
              " 'Kaze no Tani no Nausicaä': ['adventure, fantasy',\n",
              "  'adventure, fantasy',\n",
              "  'adventure, fantasy',\n",
              "  'adventure, fantasy'],\n",
              " 'Little Witch Academia': ['adventure, comedy, fantasy, magic, school',\n",
              "  'adventure, comedy, fantasy, magic, school',\n",
              "  'adventure, comedy, fantasy, magic, school',\n",
              "  'adventure, comedy, fantasy, magic, school',\n",
              "  'adventure, comedy, fantasy, magic, school'],\n",
              " 'Kara no Kyoukai 5: Mujun Rasen': ['action, drama, mystery, romance, supernatural, thriller',\n",
              "  'action, drama, mystery, romance, supernatural, thriller'],\n",
              " 'Mobile Suit Gundam Seed': ['action, drama, mecha, military, romance, sci-fi, space',\n",
              "  'action, drama, mecha, military, romance, sci-fi, space',\n",
              "  'action, drama, mecha, military, romance, sci-fi, space',\n",
              "  'action, drama, mecha, military, romance, sci-fi, space',\n",
              "  'action, drama, mecha, military, romance, sci-fi, space',\n",
              "  'action, drama, mecha, military, romance, sci-fi, space'],\n",
              " 'InuYasha': ['action, adventure, comedy, demons, fantasy, magic, romance, shounen, supernatural',\n",
              "  'action, adventure, comedy, demons, fantasy, magic, romance, shounen, supernatural',\n",
              "  'action, adventure, comedy, demons, fantasy, magic, romance, shounen, supernatural'],\n",
              " 'Gangsta.': ['action, drama, seinen',\n",
              "  'action, drama, seinen',\n",
              "  'action, drama, seinen'],\n",
              " 'Fairy Tail Movie 1: Houou no Miko': ['action, adventure, comedy, fantasy, magic, shounen',\n",
              "  'action, adventure, comedy, fantasy, magic, shounen'],\n",
              " 'Detective Conan Movie 04: Captured in Her Eyes': ['adventure, comedy, mystery, police, shounen'],\n",
              " 'Shakugan no Shana S Specials': ['comedy, parody'],\n",
              " 'Genshiken OVA': ['comedy, parody, slice of life'],\n",
              " 'Berserk: Ougon Jidai-hen II - Doldrey Kouryaku': ['action, adventure, demons, drama, fantasy, horror, military, seinen, supernatural',\n",
              "  'action, adventure, demons, drama, fantasy, horror, military, seinen, supernatural'],\n",
              " 'One Piece: Oounabara ni Hirake! Dekkai Dekkai Chichi no Yume!': ['action, adventure, comedy, fantasy, shounen, super power',\n",
              "  'action, adventure, comedy, fantasy, shounen, super power'],\n",
              " 'Shinsekai yori': ['drama, horror, mystery, sci-fi, supernatural',\n",
              "  'drama, horror, mystery, sci-fi, supernatural'],\n",
              " 'A-Channel: +A-Channel': ['comedy, school, seinen, slice of life'],\n",
              " 'School Rumble': ['comedy, romance, school, shounen',\n",
              "  'comedy, romance, school, shounen',\n",
              "  'comedy, romance, school, shounen',\n",
              "  'comedy, romance, school, shounen',\n",
              "  'comedy, romance, school, shounen',\n",
              "  'comedy, romance, school, shounen',\n",
              "  'comedy, romance, school, shounen',\n",
              "  'comedy, romance, school, shounen',\n",
              "  'comedy, romance, school, shounen'],\n",
              " 'Blood+': ['action, drama, horror, military, mystery, supernatural, vampire',\n",
              "  'action, drama, horror, military, mystery, supernatural, vampire',\n",
              "  'action, drama, horror, military, mystery, supernatural, vampire',\n",
              "  'action, drama, horror, military, mystery, supernatural, vampire',\n",
              "  'action, drama, horror, military, mystery, supernatural, vampire',\n",
              "  'action, drama, horror, military, mystery, supernatural, vampire'],\n",
              " 'Comet Lucifer': ['action, adventure, fantasy, mecha',\n",
              "  'action, adventure, fantasy, mecha'],\n",
              " 'Hybrid Child': ['drama, historical, romance, sci-fi, shounen ai',\n",
              "  'drama, historical, romance, sci-fi, shounen ai',\n",
              "  'drama, historical, romance, sci-fi, shounen ai'],\n",
              " 'Kara no Kyoukai 3: Tsuukaku Zanryuu': ['action, drama, mystery, supernatural, thriller',\n",
              "  'action, drama, mystery, supernatural, thriller',\n",
              "  'action, drama, mystery, supernatural, thriller'],\n",
              " 'Kimi ni Todoke 2nd Season': ['romance, school, shoujo, slice of life',\n",
              "  'romance, school, shoujo, slice of life',\n",
              "  'romance, school, shoujo, slice of life',\n",
              "  'romance, school, shoujo, slice of life',\n",
              "  'romance, school, shoujo, slice of life',\n",
              "  'romance, school, shoujo, slice of life'],\n",
              " 'Tales of Vesperia: The First Strike': ['action, adventure, fantasy, magic, military'],\n",
              " 'K': ['action, super power, supernatural',\n",
              "  'action, super power, supernatural',\n",
              "  'action, super power, supernatural',\n",
              "  'action, super power, supernatural',\n",
              "  'action, super power, supernatural',\n",
              "  'action, super power, supernatural',\n",
              "  'action, super power, supernatural'],\n",
              " 'Majin Bone': ['game'],\n",
              " 'Bubuki Buranki': ['action, drama, mecha, sci-fi'],\n",
              " 'Ore no Imouto ga Konnani Kawaii Wake ga Nai.': ['comedy, seinen, slice of life',\n",
              "  'comedy, seinen, slice of life',\n",
              "  'comedy, seinen, slice of life',\n",
              "  'comedy, seinen, slice of life',\n",
              "  'comedy, seinen, slice of life'],\n",
              " 'Magi: Sinbad no Bouken (TV)': ['action, adventure, fantasy, magic, shounen'],\n",
              " 'Denpa Kyoushi (TV)': ['comedy, romance, school, shounen'],\n",
              " 'Kuroshitsuji': ['action, comedy, demons, fantasy, historical, shounen, supernatural',\n",
              "  'action, comedy, demons, fantasy, historical, shounen, supernatural',\n",
              "  'action, comedy, demons, fantasy, historical, shounen, supernatural',\n",
              "  'action, comedy, demons, fantasy, historical, shounen, supernatural',\n",
              "  'action, comedy, demons, fantasy, historical, shounen, supernatural',\n",
              "  'action, comedy, demons, fantasy, historical, shounen, supernatural',\n",
              "  'action, comedy, demons, fantasy, historical, shounen, supernatural',\n",
              "  'action, comedy, demons, fantasy, historical, shounen, supernatural',\n",
              "  'action, comedy, demons, fantasy, historical, shounen, supernatural',\n",
              "  'action, comedy, demons, fantasy, historical, shounen, supernatural',\n",
              "  'action, comedy, demons, fantasy, historical, shounen, supernatural',\n",
              "  'action, comedy, demons, fantasy, historical, shounen, supernatural'],\n",
              " 'Tenchi Muyou! Ryououki 2nd Season': ['action, comedy, harem, sci-fi, shounen, space',\n",
              "  'action, comedy, harem, sci-fi, shounen, space'],\n",
              " 'Beelzebub: Hirotta Akachan wa Daimaou!?': ['action, comedy, demons, school, shounen, supernatural',\n",
              "  'action, comedy, demons, school, shounen, supernatural',\n",
              "  'action, comedy, demons, school, shounen, supernatural'],\n",
              " 'Dragon Ball': ['adventure, comedy, fantasy, martial arts, shounen, super power',\n",
              "  'adventure, comedy, fantasy, martial arts, shounen, super power',\n",
              "  'adventure, comedy, fantasy, martial arts, shounen, super power',\n",
              "  'adventure, comedy, fantasy, martial arts, shounen, super power'],\n",
              " 'Monogatari Series: Second Season': ['comedy, mystery, romance, supernatural, vampire',\n",
              "  'comedy, mystery, romance, supernatural, vampire',\n",
              "  'comedy, mystery, romance, supernatural, vampire'],\n",
              " 'Log Horizon': ['action, adventure, fantasy, game, magic, shounen',\n",
              "  'action, adventure, fantasy, game, magic, shounen',\n",
              "  'action, adventure, fantasy, game, magic, shounen',\n",
              "  'action, adventure, fantasy, game, magic, shounen',\n",
              "  'action, adventure, fantasy, game, magic, shounen',\n",
              "  'action, adventure, fantasy, game, magic, shounen',\n",
              "  'action, adventure, fantasy, game, magic, shounen'],\n",
              " 'Nanatsu no Taizai OVA': ['action, adventure, fantasy, shounen, supernatural'],\n",
              " 'Astarotte no Omocha! EX': ['comedy, demons, ecchi, fantasy, romance, seinen'],\n",
              " 'Persona 3 the Movie 3: Falling Down': ['action, fantasy, seinen, supernatural'],\n",
              " 'Full Metal Panic! The Second Raid: Wari to Hima na Sentaichou no Ichinichi': ['comedy'],\n",
              " 'Popotan': ['comedy, drama, ecchi, supernatural'],\n",
              " 'Bishoujo Senshi Sailor Moon': ['demons, magic, romance, shoujo',\n",
              "  'demons, magic, romance, shoujo'],\n",
              " '009 Re:Cyborg': ['action, adventure, mecha, sci-fi'],\n",
              " 'Death Note Rewrite': ['mystery, police, psychological, supernatural, thriller'],\n",
              " 'Makai Ouji: Devils and Realist': ['comedy, demons, fantasy, historical, mystery, school, shoujo, supernatural',\n",
              "  'comedy, demons, fantasy, historical, mystery, school, shoujo, supernatural',\n",
              "  'comedy, demons, fantasy, historical, mystery, school, shoujo, supernatural'],\n",
              " 'IS: Infinite Stratos 2 - Hitonatsu no Omoide': ['action, comedy, harem, mecha, sci-fi',\n",
              "  'action, comedy, harem, mecha, sci-fi',\n",
              "  'action, comedy, harem, mecha, sci-fi',\n",
              "  'action, comedy, harem, mecha, sci-fi',\n",
              "  'action, comedy, harem, mecha, sci-fi'],\n",
              " 'Sakamichi no Apollon': ['drama, josei, music, romance, school',\n",
              "  'drama, josei, music, romance, school',\n",
              "  'drama, josei, music, romance, school',\n",
              "  'drama, josei, music, romance, school'],\n",
              " 'Shingeki no Kyojin: Kuinaki Sentaku': ['action, fantasy, shoujo, supernatural',\n",
              "  'action, fantasy, shoujo, supernatural',\n",
              "  'action, fantasy, shoujo, supernatural'],\n",
              " 'Hibike! Euphonium': ['drama, music, school', 'drama, music, school'],\n",
              " 'Mobile Suit Gundam Wing: Endless Waltz': ['action, drama, mecha, military, sci-fi, space'],\n",
              " 'Lupin III: Napoleon no Jisho wo Ubae': ['action, adventure, comedy, shounen'],\n",
              " 'Ore no Nounai Sentakushi ga, Gakuen Love Comedy wo Zenryoku de Jama Shiteiru': ['comedy, romance, school',\n",
              "  'comedy, romance, school',\n",
              "  'comedy, romance, school',\n",
              "  'comedy, romance, school'],\n",
              " 'Freezing Vibration Specials': ['action, comedy, ecchi',\n",
              "  'action, comedy, ecchi',\n",
              "  'action, comedy, ecchi'],\n",
              " 'Kami nomi zo Shiru Sekai': ['comedy, harem, romance, shounen, supernatural',\n",
              "  'comedy, harem, romance, shounen, supernatural',\n",
              "  'comedy, harem, romance, shounen, supernatural',\n",
              "  'comedy, harem, romance, shounen, supernatural',\n",
              "  'comedy, harem, romance, shounen, supernatural',\n",
              "  'comedy, harem, romance, shounen, supernatural',\n",
              "  'comedy, harem, romance, shounen, supernatural',\n",
              "  'comedy, harem, romance, shounen, supernatural',\n",
              "  'comedy, harem, romance, shounen, supernatural'],\n",
              " 'Hakkenden: Touhou Hakken Ibun': ['action, fantasy, shoujo, supernatural',\n",
              "  'action, fantasy, shoujo, supernatural'],\n",
              " 'Majimoji Rurumo': ['comedy, ecchi, fantasy, magic, school, shounen',\n",
              "  'comedy, ecchi, fantasy, magic, school, shounen'],\n",
              " 'Rail Wars!': ['action, ecchi, police'],\n",
              " 'Love Hina Again': ['comedy, drama, ecchi, romance, shounen',\n",
              "  'comedy, drama, ecchi, romance, shounen'],\n",
              " 'Yojouhan Shinwa Taikei': ['mystery, psychological, romance',\n",
              "  'mystery, psychological, romance',\n",
              "  'mystery, psychological, romance'],\n",
              " 'Fate/Prototype': ['action, fantasy, magic, romance, shounen, supernatural'],\n",
              " 'Monster Musume no Iru Nichijou': ['comedy, ecchi, fantasy, harem, romance, seinen',\n",
              "  'comedy, ecchi, fantasy, harem, romance, seinen',\n",
              "  'comedy, ecchi, fantasy, harem, romance, seinen',\n",
              "  'comedy, ecchi, fantasy, harem, romance, seinen'],\n",
              " 'Naruto: Shippuuden Movie 4 - The Lost Tower': ['action, comedy, martial arts, shounen, super power',\n",
              "  'action, comedy, martial arts, shounen, super power'],\n",
              " 'Medaka Box Abnormal': ['action, comedy, ecchi, martial arts, school, shounen, super power'],\n",
              " 'Psycho-Pass Movie': ['action, military, police, sci-fi'],\n",
              " 'Pokemon: Odoru Pokemon Himitsu Kichi': ['comedy, fantasy, kids',\n",
              "  'comedy, fantasy, kids'],\n",
              " 'Freezing': ['action, drama, ecchi, harem, martial arts, romance, sci-fi, seinen',\n",
              "  'action, drama, ecchi, harem, martial arts, romance, sci-fi, seinen',\n",
              "  'action, drama, ecchi, harem, martial arts, romance, sci-fi, seinen',\n",
              "  'action, drama, ecchi, harem, martial arts, romance, sci-fi, seinen'],\n",
              " 'Mushishi Zoku Shou 2nd Season': ['adventure, fantasy, historical, mystery, seinen, slice of life, supernatural',\n",
              "  'adventure, fantasy, historical, mystery, seinen, slice of life, supernatural',\n",
              "  'adventure, fantasy, historical, mystery, seinen, slice of life, supernatural'],\n",
              " 'Initial D First Stage': ['action, cars, drama, seinen, sports',\n",
              "  'action, cars, drama, seinen, sports',\n",
              "  'action, cars, drama, seinen, sports'],\n",
              " 'Break Blade 3: Kyoujin no Ato': ['action, fantasy, mecha, military, shounen'],\n",
              " 'Otome wa Boku ni Koishiteru Special': ['comedy, romance, school',\n",
              "  'comedy, romance, school'],\n",
              " 'Skip Beat!': ['comedy, drama, romance, shoujo',\n",
              "  'comedy, drama, romance, shoujo',\n",
              "  'comedy, drama, romance, shoujo',\n",
              "  'comedy, drama, romance, shoujo',\n",
              "  'comedy, drama, romance, shoujo',\n",
              "  'comedy, drama, romance, shoujo',\n",
              "  'comedy, drama, romance, shoujo'],\n",
              " 'Ookami Shoujo to Kuro Ouji': ['comedy, romance, school, shoujo',\n",
              "  'comedy, romance, school, shoujo'],\n",
              " 'Kaibutsu Oujo': ['action, comedy, horror, shounen, supernatural, vampire'],\n",
              " 'Seiken Tsukai no World Break': ['action, fantasy, harem, romance, school, supernatural',\n",
              "  'action, fantasy, harem, romance, school, supernatural'],\n",
              " 'Acchi Kocchi (TV)': ['comedy, romance, school, seinen, slice of life',\n",
              "  'comedy, romance, school, seinen, slice of life',\n",
              "  'comedy, romance, school, seinen, slice of life',\n",
              "  'comedy, romance, school, seinen, slice of life',\n",
              "  'comedy, romance, school, seinen, slice of life'],\n",
              " 'K-On!: Ura-On!': ['comedy', 'comedy', 'comedy'],\n",
              " 'Neon Genesis Evangelion: Death &amp; Rebirth': ['drama, mecha, psychological, sci-fi',\n",
              "  'drama, mecha, psychological, sci-fi',\n",
              "  'drama, mecha, psychological, sci-fi',\n",
              "  'drama, mecha, psychological, sci-fi',\n",
              "  'drama, mecha, psychological, sci-fi',\n",
              "  'drama, mecha, psychological, sci-fi',\n",
              "  'drama, mecha, psychological, sci-fi',\n",
              "  'drama, mecha, psychological, sci-fi'],\n",
              " 'Kuroko no Basket 3rd Season': ['comedy, school, shounen, sports',\n",
              "  'comedy, school, shounen, sports',\n",
              "  'comedy, school, shounen, sports',\n",
              "  'comedy, school, shounen, sports'],\n",
              " 'Elfen Lied Special': ['drama, ecchi, horror, psychological, supernatural',\n",
              "  'drama, ecchi, horror, psychological, supernatural',\n",
              "  'drama, ecchi, horror, psychological, supernatural',\n",
              "  'drama, ecchi, horror, psychological, supernatural'],\n",
              " 'Campione!: Matsurowanu Kamigami to Kamigoroshi no Maou': ['comedy, ecchi, fantasy, harem, magic, romance'],\n",
              " 'Dennou Coil': ['adventure, comedy, drama, mystery, sci-fi'],\n",
              " 'Final Fantasy VII: Last Order': ['action, adventure, drama, fantasy, sci-fi',\n",
              "  'action, adventure, drama, fantasy, sci-fi'],\n",
              " 'Hanbun no Tsuki ga Noboru Sora': ['comedy, drama, romance',\n",
              "  'comedy, drama, romance'],\n",
              " 'Cardcaptor Sakura Movie 2: Fuuin Sareta Card': ['comedy, drama, fantasy, magic, romance, shoujo'],\n",
              " 'High School DxD New: Oppai, Tsutsumimasu!': ['comedy, demons, ecchi, romance, school',\n",
              "  'comedy, demons, ecchi, romance, school',\n",
              "  'comedy, demons, ecchi, romance, school'],\n",
              " 'Shisha no Teikoku': ['historical, psychological, sci-fi'],\n",
              " 'Under the Dog': ['action, sci-fi, thriller', 'action, sci-fi, thriller'],\n",
              " 'Gunslinger Girl': ['action, drama, military, psychological, sci-fi',\n",
              "  'action, drama, military, psychological, sci-fi',\n",
              "  'action, drama, military, psychological, sci-fi'],\n",
              " 'Nana': ['comedy, drama, music, romance, shoujo, slice of life',\n",
              "  'comedy, drama, music, romance, shoujo, slice of life',\n",
              "  'comedy, drama, music, romance, shoujo, slice of life',\n",
              "  'comedy, drama, music, romance, shoujo, slice of life',\n",
              "  'comedy, drama, music, romance, shoujo, slice of life',\n",
              "  'comedy, drama, music, romance, shoujo, slice of life'],\n",
              " 'Eureka Seven AO': ['action, adventure, drama, mecha, sci-fi'],\n",
              " 'Naruto: Shippuuden Movie 1': ['action, adventure, comedy, fantasy, shounen',\n",
              "  'action, adventure, comedy, fantasy, shounen',\n",
              "  'action, adventure, comedy, fantasy, shounen',\n",
              "  'action, adventure, comedy, fantasy, shounen'],\n",
              " 'xxxHOLiC': ['comedy, drama, mystery, psychological, supernatural',\n",
              "  'comedy, drama, mystery, psychological, supernatural',\n",
              "  'comedy, drama, mystery, psychological, supernatural'],\n",
              " 'Trinity Blood': ['action, supernatural, vampire',\n",
              "  'action, supernatural, vampire',\n",
              "  'action, supernatural, vampire',\n",
              "  'action, supernatural, vampire',\n",
              "  'action, supernatural, vampire',\n",
              "  'action, supernatural, vampire',\n",
              "  'action, supernatural, vampire',\n",
              "  'action, supernatural, vampire',\n",
              "  'action, supernatural, vampire'],\n",
              " 'Accel World': ['action, game, romance, school, sci-fi',\n",
              "  'action, game, romance, school, sci-fi',\n",
              "  'action, game, romance, school, sci-fi'],\n",
              " 'Mobile Suit Victory Gundam': ['drama, mecha, military, sci-fi, space'],\n",
              " 'Chocotto Sister': ['comedy, drama, romance'],\n",
              " 'Digimon Adventure 02: Diablomon no Gyakushuu': ['adventure, comedy, drama, kids, sci-fi',\n",
              "  'adventure, comedy, drama, kids, sci-fi'],\n",
              " 'Slayers Revolution': ['adventure, comedy, fantasy'],\n",
              " 'Freezing Vibration': ['action, drama, ecchi, harem, martial arts, military, romance, sci-fi, seinen',\n",
              "  'action, drama, ecchi, harem, martial arts, military, romance, sci-fi, seinen'],\n",
              " 'Beelzebub Specials': ['action, comedy, demons, school, shounen, supernatural',\n",
              "  'action, comedy, demons, school, shounen, supernatural'],\n",
              " 'Gin no Saji': ['comedy, school, shounen, slice of life',\n",
              "  'comedy, school, shounen, slice of life',\n",
              "  'comedy, school, shounen, slice of life'],\n",
              " 'K-On!!': ['comedy, music, school, slice of life',\n",
              "  'comedy, music, school, slice of life',\n",
              "  'comedy, music, school, slice of life',\n",
              "  'comedy, music, school, slice of life',\n",
              "  'comedy, music, school, slice of life'],\n",
              " 'Kämpfer für die Liebe': ['action, comedy, ecchi, shoujo ai, super power',\n",
              "  'action, comedy, ecchi, shoujo ai, super power'],\n",
              " 'Motto! Ojamajo Doremi: Kaeru Ishi no Himitsu': ['kids, magic, shoujo'],\n",
              " 'Dragon Ball Z Movie 05: Tobikkiri no Saikyou tai Saikyou': ['adventure, comedy, fantasy, sci-fi, shounen',\n",
              "  'adventure, comedy, fantasy, sci-fi, shounen'],\n",
              " 'Date A Live: Date to Date': ['comedy, harem, romance, school, sci-fi',\n",
              "  'comedy, harem, romance, school, sci-fi',\n",
              "  'comedy, harem, romance, school, sci-fi'],\n",
              " 'Chobits Recap': ['comedy, drama, ecchi, romance, sci-fi',\n",
              "  'comedy, drama, ecchi, romance, sci-fi'],\n",
              " 'Cardcaptor Sakura': ['adventure, comedy, drama, fantasy, magic, romance, school, shoujo',\n",
              "  'adventure, comedy, drama, fantasy, magic, romance, school, shoujo'],\n",
              " 'Witch Hunter Robin': ['action, drama, magic, mystery, police, supernatural',\n",
              "  'action, drama, magic, mystery, police, supernatural'],\n",
              " 'Kimera': ['action, horror, sci-fi, supernatural, vampire, yaoi',\n",
              "  'action, horror, sci-fi, supernatural, vampire, yaoi'],\n",
              " 'D-Frag!': ['comedy, game, school, seinen',\n",
              "  'comedy, game, school, seinen',\n",
              "  'comedy, game, school, seinen',\n",
              "  'comedy, game, school, seinen'],\n",
              " 'Imawa no Kuni no Alice (OVA)': ['action, psychological, shounen, supernatural, thriller'],\n",
              " 'Hanamonogatari': ['comedy, mystery, supernatural',\n",
              "  'comedy, mystery, supernatural',\n",
              "  'comedy, mystery, supernatural'],\n",
              " 'Pokemon Advanced Generation: Mew to Hadou no Yuusha Lucario': ['action, adventure, drama, fantasy, kids'],\n",
              " 'Rozen Maiden: Ouvertüre': ['action, comedy, drama, magic, seinen',\n",
              "  'action, comedy, drama, magic, seinen',\n",
              "  'action, comedy, drama, magic, seinen'],\n",
              " 'Elf-ban Kakyuusei: Anata dake wo Mitsumete...': ['drama, harem, romance, school'],\n",
              " 'Nekomonogatari: Kuro': ['comedy, romance, supernatural',\n",
              "  'comedy, romance, supernatural',\n",
              "  'comedy, romance, supernatural',\n",
              "  'comedy, romance, supernatural'],\n",
              " 'Kirarin☆Revolution': ['comedy, drama, romance, shoujo'],\n",
              " 'Tengen Toppa Gurren Lagann Movie: Gurren-hen': ['action, comedy, mecha',\n",
              "  'action, comedy, mecha',\n",
              "  'action, comedy, mecha',\n",
              "  'action, comedy, mecha',\n",
              "  'action, comedy, mecha',\n",
              "  'action, comedy, mecha'],\n",
              " 'Watashi ga Motenai no wa Dou Kangaetemo Omaera ga Warui!: Motenaishi, Nazomeite Miru': ['comedy, school, slice of life'],\n",
              " 'Slam Dunk': ['comedy, drama, school, shounen, sports',\n",
              "  'comedy, drama, school, shounen, sports'],\n",
              " 'Shingeki! Kyojin Chuugakkou': ['comedy, parody, school, shounen'],\n",
              " 'Yamato Nadeshiko Shichihenge♥': ['comedy, shoujo',\n",
              "  'comedy, shoujo',\n",
              "  'comedy, shoujo',\n",
              "  'comedy, shoujo',\n",
              "  'comedy, shoujo'],\n",
              " 'Initial D Second Stage': ['action, cars, drama, seinen, sports'],\n",
              " 'Suzumiya Haruhi no Shoushitsu': ['comedy, mystery, romance, school, sci-fi, supernatural',\n",
              "  'comedy, mystery, romance, school, sci-fi, supernatural',\n",
              "  'comedy, mystery, romance, school, sci-fi, supernatural'],\n",
              " 'Prince of Tennis: The National Tournament Semifinals': ['action, comedy, sports'],\n",
              " 'Boys Be...': ['comedy, romance, shounen, slice of life'],\n",
              " 'Redline Pilot': ['cars, sports'],\n",
              " 'Seirei Tsukai no Blade Dance': ['action, comedy, ecchi, fantasy, harem, romance, school, supernatural',\n",
              "  'action, comedy, ecchi, fantasy, harem, romance, school, supernatural'],\n",
              " 'Gantz': ['action, drama, horror, psychological, sci-fi, supernatural',\n",
              "  'action, drama, horror, psychological, sci-fi, supernatural',\n",
              "  'action, drama, horror, psychological, sci-fi, supernatural',\n",
              "  'action, drama, horror, psychological, sci-fi, supernatural'],\n",
              " 'Mamono Hunter Youko': ['comedy, fantasy, horror, magic, supernatural'],\n",
              " 'Umineko no Naku Koro ni': ['horror, mystery, psychological, supernatural',\n",
              "  'horror, mystery, psychological, supernatural',\n",
              "  'horror, mystery, psychological, supernatural',\n",
              "  'horror, mystery, psychological, supernatural',\n",
              "  'horror, mystery, psychological, supernatural'],\n",
              " 'Rozen Maiden (2013)': ['action, comedy, drama, magic, seinen',\n",
              "  'action, comedy, drama, magic, seinen'],\n",
              " 'Shugo Chara!! Doki': ['comedy, magic, school, shoujo'],\n",
              " 'Kyoukaisenjou no Horizon': ['action, fantasy', 'action, fantasy'],\n",
              " 'Ichiban Ushiro no Daimaou': ['action, comedy, ecchi, fantasy, harem, magic, school, shounen',\n",
              "  'action, comedy, ecchi, fantasy, harem, magic, school, shounen',\n",
              "  'action, comedy, ecchi, fantasy, harem, magic, school, shounen'],\n",
              " 'Bakuman. 2nd Season': ['comedy, drama, romance, shounen',\n",
              "  'comedy, drama, romance, shounen',\n",
              "  'comedy, drama, romance, shounen',\n",
              "  'comedy, drama, romance, shounen',\n",
              "  'comedy, drama, romance, shounen'],\n",
              " 'Planetarian: Chiisana Hoshi no Yume': ['drama, sci-fi', 'drama, sci-fi'],\n",
              " 'Akikan!': ['comedy, ecchi, fantasy, romance',\n",
              "  'comedy, ecchi, fantasy, romance',\n",
              "  'comedy, ecchi, fantasy, romance'],\n",
              " 'Aldnoah.Zero 2nd Season': ['action, mecha, sci-fi, space',\n",
              "  'action, mecha, sci-fi, space',\n",
              "  'action, mecha, sci-fi, space',\n",
              "  'action, mecha, sci-fi, space'],\n",
              " 'Heppoko Jikken Animation Excel♥Saga': ['comedy, parody, sci-fi, shounen',\n",
              "  'comedy, parody, sci-fi, shounen',\n",
              "  'comedy, parody, sci-fi, shounen',\n",
              "  'comedy, parody, sci-fi, shounen'],\n",
              " 'Baka to Test to Shoukanjuu: Matsuri': ['comedy, school, super power',\n",
              "  'comedy, school, super power',\n",
              "  'comedy, school, super power',\n",
              "  'comedy, school, super power'],\n",
              " 'Loveless': ['action, drama, fantasy, mystery, romance, shoujo, shounen ai, supernatural',\n",
              "  'action, drama, fantasy, mystery, romance, shoujo, shounen ai, supernatural',\n",
              "  'action, drama, fantasy, mystery, romance, shoujo, shounen ai, supernatural'],\n",
              " 'DearS: Kin no Tama desu no?': ['comedy, ecchi, harem, romance, sci-fi',\n",
              "  'comedy, ecchi, harem, romance, sci-fi'],\n",
              " '.hack//Intermezzo': ['adventure, fantasy, game, magic, mystery, sci-fi',\n",
              "  'adventure, fantasy, game, magic, mystery, sci-fi'],\n",
              " 'Kono Minikuku mo Utsukushii Sekai': ['comedy, drama, magic, romance, sci-fi',\n",
              "  'comedy, drama, magic, romance, sci-fi'],\n",
              " 'Onegai☆Teacher': ['comedy, drama, romance, school, sci-fi',\n",
              "  'comedy, drama, romance, school, sci-fi'],\n",
              " 'Haibane Renmei': ['drama, fantasy, mystery, psychological, slice of life',\n",
              "  'drama, fantasy, mystery, psychological, slice of life',\n",
              "  'drama, fantasy, mystery, psychological, slice of life',\n",
              "  'drama, fantasy, mystery, psychological, slice of life'],\n",
              " 'Shakugan no Shana Movie': ['action, fantasy, supernatural',\n",
              "  'action, fantasy, supernatural'],\n",
              " 'Mouretsu Pirates': ['sci-fi, space'],\n",
              " 'Kimi ga Nozomu Eien: Next Season': ['drama, romance'],\n",
              " 'Bleach: Memories in the Rain': ['action, adventure, drama, shounen, supernatural',\n",
              "  'action, adventure, drama, shounen, supernatural',\n",
              "  'action, adventure, drama, shounen, supernatural',\n",
              "  'action, adventure, drama, shounen, supernatural'],\n",
              " 'Sword Art Online: Extra Edition': ['action, adventure, fantasy, game, romance',\n",
              "  'action, adventure, fantasy, game, romance',\n",
              "  'action, adventure, fantasy, game, romance',\n",
              "  'action, adventure, fantasy, game, romance'],\n",
              " 'Kenzen Robo Daimidaler Specials': ['comedy, ecchi, mecha, seinen'],\n",
              " 'Kantai Collection: KanColle': ['action, military, school, sci-fi, slice of life',\n",
              "  'action, military, school, sci-fi, slice of life'],\n",
              " 'Yu☆Gi☆Oh!: Duel Monsters GX': ['action, comedy, fantasy, game, shounen',\n",
              "  'action, comedy, fantasy, game, shounen',\n",
              "  'action, comedy, fantasy, game, shounen'],\n",
              " 'True Tears Specials': ['comedy, parody, school'],\n",
              " 'Gate: Jieitai Kanochi nite, Kaku Tatakaeri': ['action, adventure, fantasy, military',\n",
              "  'action, adventure, fantasy, military',\n",
              "  'action, adventure, fantasy, military'],\n",
              " 'Lamune': ['drama, romance, slice of life'],\n",
              " 'Kanon (2006)': ['drama, romance, slice of life, supernatural',\n",
              "  'drama, romance, slice of life, supernatural',\n",
              "  'drama, romance, slice of life, supernatural',\n",
              "  'drama, romance, slice of life, supernatural',\n",
              "  'drama, romance, slice of life, supernatural'],\n",
              " 'Divergence Eve': ['adventure, comedy, drama, mecha, military, sci-fi, space'],\n",
              " 'Arakawa Under the Bridge': ['comedy, romance, seinen',\n",
              "  'comedy, romance, seinen'],\n",
              " 'Haiyore! Nyaruko-san W OVA': ['comedy, ecchi, parody'],\n",
              " 'Detective Conan Movie 08: Magician of the Silver Sky': ['adventure, comedy, mystery, police, shounen'],\n",
              " 'Kuroko no Basket: Oshaberi Shiyokka': ['comedy, school, shounen, sports'],\n",
              " 'Shoujo-tachi wa Kouya wo Mezasu': ['school'],\n",
              " 'School Rumble Ichi Gakki Hoshuu': ['comedy, romance, school, shounen',\n",
              "  'comedy, romance, school, shounen'],\n",
              " 'Danganronpa 3: The End of Kibougamine Gakuen - Mirai-hen': ['action, horror, mystery, psychological',\n",
              "  'action, horror, mystery, psychological'],\n",
              " 'Kaichou wa Maid-sama!: Omake dayo!': ['comedy, school, shoujo',\n",
              "  'comedy, school, shoujo'],\n",
              " 'Shikabane Hime: Kuro': ['action, horror',\n",
              "  'action, horror',\n",
              "  'action, horror'],\n",
              " 'Ghost in the Shell: Arise - Border:4 Ghost Stands Alone': ['mecha, police, psychological, sci-fi'],\n",
              " 'Non Non Biyori': ['comedy, school, seinen, slice of life',\n",
              "  'comedy, school, seinen, slice of life'],\n",
              " 'Noir': ['action, drama, mystery'],\n",
              " 'Mobile Suit Gundam AGE': ['action, mecha, sci-fi, space',\n",
              "  'action, mecha, sci-fi, space'],\n",
              " 'Basilisk: Kouga Ninpou Chou': ['action, adventure, fantasy, historical, romance, samurai, supernatural',\n",
              "  'action, adventure, fantasy, historical, romance, samurai, supernatural'],\n",
              " 'True Tears': ['drama, romance, school',\n",
              "  'drama, romance, school',\n",
              "  'drama, romance, school'],\n",
              " 'Kami nomi zo Shiru Sekai: Natsu-iro Surprise': ['music', 'music'],\n",
              " 'Cowboy Bebop: Tengoku no Tobira': ['action, drama, mystery, sci-fi, space',\n",
              "  'action, drama, mystery, sci-fi, space',\n",
              "  'action, drama, mystery, sci-fi, space',\n",
              "  'action, drama, mystery, sci-fi, space'],\n",
              " 'Kyoushirou to Towa no Sora': ['drama, magic, romance, shounen'],\n",
              " 'Bishoujo Senshi Sailor Moon R: The Movie': ['drama, magic, romance, shoujo',\n",
              "  'drama, magic, romance, shoujo'],\n",
              " 'Minami-ke Okawari': ['comedy, school, slice of life',\n",
              "  'comedy, school, slice of life'],\n",
              " 'Naruto: Shippuuden Movie 2 - Kizuna': ['action, martial arts, shounen, supernatural',\n",
              "  'action, martial arts, shounen, supernatural',\n",
              "  'action, martial arts, shounen, supernatural'],\n",
              " 'Hajime no Ippo: Mashiba vs. Kimura': ['comedy, shounen, sports',\n",
              "  'comedy, shounen, sports'],\n",
              " 'Dansai Bunri no Crime Edge': ['action, fantasy, romance, seinen',\n",
              "  'action, fantasy, romance, seinen'],\n",
              " 'Hunter x Hunter: Greed Island': ['action, adventure, shounen, super power',\n",
              "  'action, adventure, shounen, super power',\n",
              "  'action, adventure, shounen, super power'],\n",
              " 'IS: Infinite Stratos 2': ['action, comedy, harem, mecha, sci-fi',\n",
              "  'action, comedy, harem, mecha, sci-fi',\n",
              "  'action, comedy, harem, mecha, sci-fi',\n",
              "  'action, comedy, harem, mecha, sci-fi',\n",
              "  'action, comedy, harem, mecha, sci-fi',\n",
              "  'action, comedy, harem, mecha, sci-fi'],\n",
              " 'Tokimeki Memorial: Only Love': ['comedy, harem, romance, school'],\n",
              " 'Junjou Romantica 2': ['comedy, drama, romance, shounen ai',\n",
              "  'comedy, drama, romance, shounen ai',\n",
              "  'comedy, drama, romance, shounen ai'],\n",
              " 'Tsubasa Chronicle': ['action, adventure, fantasy, magic, romance, shounen, supernatural',\n",
              "  'action, adventure, fantasy, magic, romance, shounen, supernatural',\n",
              "  'action, adventure, fantasy, magic, romance, shounen, supernatural',\n",
              "  'action, adventure, fantasy, magic, romance, shounen, supernatural'],\n",
              " 'Needless': ['action, comedy, ecchi, sci-fi, super power'],\n",
              " 'One More Time, One More Chance': ['drama, music, romance, slice of life'],\n",
              " 'Hitohira': ['drama, romance, school, slice of life'],\n",
              " 'Usagi Drop': ['josei, slice of life',\n",
              "  'josei, slice of life',\n",
              "  'josei, slice of life',\n",
              "  'josei, slice of life',\n",
              "  'josei, slice of life',\n",
              "  'josei, slice of life',\n",
              "  'josei, slice of life',\n",
              "  'josei, slice of life',\n",
              "  'josei, slice of life',\n",
              "  'josei, slice of life',\n",
              "  'josei, slice of life'],\n",
              " '&quot;Bungaku Shoujo&quot; Kyou no Oyatsu: Hatsukoi': ['comedy, fantasy, school'],\n",
              " 'Fate/stay night: Unlimited Blade Works': ['action, fantasy, magic, shounen, supernatural',\n",
              "  'action, fantasy, magic, shounen, supernatural',\n",
              "  'action, fantasy, magic, shounen, supernatural'],\n",
              " 'Captain Tsubasa': ['action, shounen, sports'],\n",
              " 'Jigoku Shoujo Futakomori': ['horror, mystery, psychological, supernatural',\n",
              "  'horror, mystery, psychological, supernatural'],\n",
              " 'Hanamaru Youchien': ['comedy, seinen, slice of life',\n",
              "  'comedy, seinen, slice of life'],\n",
              " 'Tactics': ['comedy, drama, fantasy, mystery, shounen, super power',\n",
              "  'comedy, drama, fantasy, mystery, shounen, super power'],\n",
              " 'Suzumiya Haruhi no Yuuutsu (2009)': ['comedy, mystery, parody, romance, school, sci-fi, slice of life',\n",
              "  'comedy, mystery, parody, romance, school, sci-fi, slice of life',\n",
              "  'comedy, mystery, parody, romance, school, sci-fi, slice of life',\n",
              "  'comedy, mystery, parody, romance, school, sci-fi, slice of life'],\n",
              " 'Hyakko': ['comedy, school, slice of life',\n",
              "  'comedy, school, slice of life',\n",
              "  'comedy, school, slice of life',\n",
              "  'comedy, school, slice of life'],\n",
              " 'Juuou Mujin no Fafnir': ['fantasy, harem, romance, school'],\n",
              " 'Mobile Suit Gundam': ['action, mecha, military, sci-fi, space',\n",
              "  'action, mecha, military, sci-fi, space',\n",
              "  'action, mecha, military, sci-fi, space'],\n",
              " 'Ro-Kyu-Bu! SS': ['comedy, ecchi, school, sports',\n",
              "  'comedy, ecchi, school, sports'],\n",
              " 'Eightman After': ['action, drama, sci-fi'],\n",
              " 'Accel World EX': ['action, game, romance, school, sci-fi'],\n",
              " 'Tokyo Ghoul: &quot;Pinto&quot;': ['action, drama, horror, mystery, psychological, supernatural'],\n",
              " 'No Game No Life Specials': ['ecchi, fantasy, game',\n",
              "  'ecchi, fantasy, game',\n",
              "  'ecchi, fantasy, game'],\n",
              " 'Inyoku Tokkyuu Zetsurinou': ['hentai'],\n",
              " 'R-15': ['comedy, ecchi, harem, romance, school'],\n",
              " 'Blood: The Last Vampire': ['horror, supernatural, vampire',\n",
              "  'horror, supernatural, vampire',\n",
              "  'horror, supernatural, vampire',\n",
              "  'horror, supernatural, vampire'],\n",
              " 'Usavich': ['adventure, comedy'],\n",
              " 'Shiki': ['mystery, supernatural, thriller, vampire',\n",
              "  'mystery, supernatural, thriller, vampire',\n",
              "  'mystery, supernatural, thriller, vampire',\n",
              "  'mystery, supernatural, thriller, vampire',\n",
              "  'mystery, supernatural, thriller, vampire'],\n",
              " 'Hunter x Hunter': ['action, adventure, shounen, super power',\n",
              "  'action, adventure, shounen, super power',\n",
              "  'action, adventure, shounen, super power',\n",
              "  'action, adventure, shounen, super power'],\n",
              " 'Ran-&gt;Sem: Hakudaku Delmo Tsuma no Miira Tori': ['hentai'],\n",
              " 'Saiunkoku Monogatari': ['adventure, comedy, drama, fantasy, historical, romance'],\n",
              " 'Upotte!! OVA': ['comedy, ecchi, military, school, seinen'],\n",
              " 'Honoo no Labyrinth': ['adventure, comedy, ecchi, samurai'],\n",
              " 'Nodame Cantabile Finale': ['comedy, josei, music, romance'],\n",
              " 'Magi: Sinbad no Bouken': ['action, adventure, fantasy, magic, shounen'],\n",
              " 'Saint Seiya: Saishuu Seisen no Senshi-tachi': ['adventure, sci-fi, shounen'],\n",
              " 'Shingeki no Kyojin: Ano Hi Kara': ['action, drama, fantasy, shounen, super power',\n",
              "  'action, drama, fantasy, shounen, super power',\n",
              "  'action, drama, fantasy, shounen, super power'],\n",
              " '11eyes': ['action, ecchi, super power, supernatural',\n",
              "  'action, ecchi, super power, supernatural'],\n",
              " 'Oshiete! Galko-chan': ['comedy, school, slice of life',\n",
              "  'comedy, school, slice of life',\n",
              "  'comedy, school, slice of life'],\n",
              " 'Shinmai Maou no Testament': ['action, demons, ecchi, fantasy, harem, romance',\n",
              "  'action, demons, ecchi, fantasy, harem, romance'],\n",
              " 'Angel&#039;s Feather': ['drama, fantasy, romance, sci-fi, shoujo, shounen ai, supernatural'],\n",
              " 'Hyakka Ryouran: Samurai Bride': ['action, comedy, ecchi, harem, samurai, school',\n",
              "  'action, comedy, ecchi, harem, samurai, school',\n",
              "  'action, comedy, ecchi, harem, samurai, school'],\n",
              " 'Sword Art Online II: Debriefing': ['action, adventure, fantasy, game'],\n",
              " 'Mobile Suit Zeta Gundam: A New Translation II - Lovers': ['drama, mecha, military, romance, sci-fi, space'],\n",
              " 'Detective Conan Movie 10: Requiem of the Detectives': ['adventure, comedy, mystery, police, shounen',\n",
              "  'adventure, comedy, mystery, police, shounen'],\n",
              " 'Sukitte Ii na yo.: Dareka ga': ['romance, school, shoujo'],\n",
              " 'Gedo Senki': ['adventure, fantasy, magic'],\n",
              " 'Final Fantasy VII: Advent Children Complete': ['action, fantasy, super power',\n",
              "  'action, fantasy, super power'],\n",
              " 'Ghost Hunt': ['comedy, horror, mystery, shoujo, supernatural',\n",
              "  'comedy, horror, mystery, shoujo, supernatural',\n",
              "  'comedy, horror, mystery, shoujo, supernatural'],\n",
              " 'Nurarihyon no Mago': ['action, demons, shounen, supernatural',\n",
              "  'action, demons, shounen, supernatural',\n",
              "  'action, demons, shounen, supernatural',\n",
              "  'action, demons, shounen, supernatural'],\n",
              " 'Kotoura-san': ['comedy, drama, romance, school',\n",
              "  'comedy, drama, romance, school',\n",
              "  'comedy, drama, romance, school'],\n",
              " 'UFO Princess Valkyrie': ['comedy, ecchi, magic, sci-fi',\n",
              "  'comedy, ecchi, magic, sci-fi'],\n",
              " 'Lupin III': ['action, adventure, comedy, shounen'],\n",
              " 'Final Fantasy': ['action, adventure, comedy, fantasy',\n",
              "  'action, adventure, comedy, fantasy',\n",
              "  'action, adventure, comedy, fantasy'],\n",
              " 'Owari no Seraph: The Beginning of the End': ['action, drama, shounen, supernatural, vampire'],\n",
              " 'Berserk: Ougon Jidai-hen III - Kourin': ['action, adventure, demons, drama, fantasy, horror, military, seinen, supernatural',\n",
              "  'action, adventure, demons, drama, fantasy, horror, military, seinen, supernatural',\n",
              "  'action, adventure, demons, drama, fantasy, horror, military, seinen, supernatural',\n",
              "  'action, adventure, demons, drama, fantasy, horror, military, seinen, supernatural'],\n",
              " 'Bishoujo Senshi Sailor Moon R': ['demons, magic, romance, shoujo'],\n",
              " 'Mobile Suit Gundam Seed: Seed Supernova - Tanekyara Gekijou': ['comedy, parody'],\n",
              " 'Charlotte': ['drama, school, super power',\n",
              "  'drama, school, super power',\n",
              "  'drama, school, super power',\n",
              "  'drama, school, super power',\n",
              "  'drama, school, super power'],\n",
              " 'Eureka Seven: Navigation ray=out': ['mecha, sci-fi'],\n",
              " 'Major S4': ['comedy, drama, shounen, sports'],\n",
              " 'Baccano! Specials': ['action, comedy, historical, mystery, seinen, supernatural',\n",
              "  'action, comedy, historical, mystery, seinen, supernatural',\n",
              "  'action, comedy, historical, mystery, seinen, supernatural'],\n",
              " 'Ansatsu Kyoushitsu': ['action, comedy, shounen'],\n",
              " 'Rockman.EXE': ['action, adventure, comedy, game, mecha, sci-fi, shounen'],\n",
              " 'Angel Core: Tenshi-tachi no Sumika': ['action, hentai, historical, mecha, military'],\n",
              " 'Saishuu Heiki Kanojo': ['drama, romance, school, sci-fi',\n",
              "  'drama, romance, school, sci-fi'],\n",
              " 'Natsuyuki Rendezvous': ['drama, josei, romance, supernatural'],\n",
              " 'Zero no Tsukaima: Princesses no Rondo - Yuuwaku no Sunahama': ['comedy, ecchi, fantasy, harem, magic',\n",
              "  'comedy, ecchi, fantasy, harem, magic',\n",
              "  'comedy, ecchi, fantasy, harem, magic'],\n",
              " 'First Squad: The Moment of Truth': ['action, historical, military, super power, supernatural',\n",
              "  'action, historical, military, super power, supernatural'],\n",
              " 'Arakawa Under the Bridge x Bridge': ['comedy, romance, seinen'],\n",
              " 'JoJo no Kimyou na Bouken: Stardust Crusaders': ['action, adventure, drama, shounen, supernatural',\n",
              "  'action, adventure, drama, shounen, supernatural'],\n",
              " 'ef: A Tale of Melodies. - Prologue': ['music', 'music'],\n",
              " 'Negima!?': ['adventure, comedy, ecchi, fantasy, harem, magic, romance, school, supernatural'],\n",
              " 'Toradora!: Bentou no Gokui': ['comedy, romance, school, slice of life',\n",
              "  'comedy, romance, school, slice of life',\n",
              "  'comedy, romance, school, slice of life'],\n",
              " 'Macross': ['action, mecha, military, music, romance, sci-fi, space',\n",
              "  'action, mecha, military, music, romance, sci-fi, space'],\n",
              " 'Digimon Adventure': ['action, adventure, comedy, fantasy, kids',\n",
              "  'action, adventure, comedy, fantasy, kids',\n",
              "  'action, adventure, comedy, fantasy, kids',\n",
              "  'action, adventure, comedy, fantasy, kids'],\n",
              " 'Girls und Panzer: Nihon Senshadou Renmei News': ['comedy'],\n",
              " 'Daitoshokan no Hitsujikai': ['harem, romance, school'],\n",
              " 'Hoshi wo Ou Kodomo': ['adventure, fantasy, romance',\n",
              "  'adventure, fantasy, romance'],\n",
              " 'Final Fantasy: The Spirits Within': ['sci-fi', 'sci-fi', 'sci-fi', 'sci-fi'],\n",
              " 'Chuunibyou demo Koi ga Shitai! Ren': ['comedy, drama, romance, school, slice of life',\n",
              "  'comedy, drama, romance, school, slice of life',\n",
              "  'comedy, drama, romance, school, slice of life',\n",
              "  'comedy, drama, romance, school, slice of life',\n",
              "  'comedy, drama, romance, school, slice of life',\n",
              "  'comedy, drama, romance, school, slice of life',\n",
              "  'comedy, drama, romance, school, slice of life',\n",
              "  'comedy, drama, romance, school, slice of life'],\n",
              " 'Mahou Shoujo Madoka★Magica Movie 2: Eien no Monogatari': ['drama, magic, psychological, thriller'],\n",
              " 'Eve no Jikan': ['sci-fi, slice of life', 'sci-fi, slice of life'],\n",
              " 'Slayers': ['adventure, comedy, demons, fantasy, magic',\n",
              "  'adventure, comedy, demons, fantasy, magic'],\n",
              " 'Akagami no Shirayuki-hime 2nd Season': ['drama, fantasy, romance, shoujo'],\n",
              " 'Kimi no Na wa.': ['drama, romance, school, supernatural',\n",
              "  'drama, romance, school, supernatural',\n",
              "  'drama, romance, school, supernatural'],\n",
              " 'One Piece Movie 4: Dead End no Bouken': ['action, adventure, comedy, fantasy, shounen, super power',\n",
              "  'action, adventure, comedy, fantasy, shounen, super power'],\n",
              " 'Choisuji': ['hentai'],\n",
              " 'Mondaiji-tachi ga Isekai kara Kuru Sou Desu yo?': ['comedy, fantasy, supernatural'],\n",
              " 'Strawberry Panic': ['drama, romance, school, shoujo ai',\n",
              "  'drama, romance, school, shoujo ai'],\n",
              " 'Sky Girls OVA': ['mecha, military, sci-fi'],\n",
              " 'Chihayafuru 2': ['drama, game, josei, slice of life, sports'],\n",
              " 'Dead Leaves': ['adventure, comedy, psychological, sci-fi'],\n",
              " 'Ao no Kanata no Four Rhythm': ['drama, school, sci-fi, sports',\n",
              "  'drama, school, sci-fi, sports'],\n",
              " 'Clannad: After Story - Mou Hitotsu no Sekai, Kyou-hen': ['drama, romance, school',\n",
              "  'drama, romance, school',\n",
              "  'drama, romance, school',\n",
              "  'drama, romance, school'],\n",
              " 'Genei Toushi Bastof Lemon': ['adventure, mecha, sci-fi'],\n",
              " 'Naruto Soyokazeden Movie: Naruto to Mashin to Mitsu no Onegai Dattebayo!!': ['action, comedy, martial arts, shounen, super power'],\n",
              " 'Saenai Heroine no Sodatekata: Ai to Seishun no Service Kai': ['comedy, ecchi, harem, romance',\n",
              "  'comedy, ecchi, harem, romance',\n",
              "  'comedy, ecchi, harem, romance'],\n",
              " 'Kyou, Koi wo Hajimemasu': ['romance, school, shoujo'],\n",
              " 'Yuusha ni Narenakatta Ore wa Shibushibu Shuushoku wo Ketsui Shimashita.': ['comedy, ecchi, fantasy, romance',\n",
              "  'comedy, ecchi, fantasy, romance',\n",
              "  'comedy, ecchi, fantasy, romance'],\n",
              " 'Robotics;Notes': ['drama, mystery, school, sci-fi'],\n",
              " 'Qualidea Code': ['action, magic, supernatural',\n",
              "  'action, magic, supernatural',\n",
              "  'action, magic, supernatural'],\n",
              " 'Top wo Nerae! Gunbuster': ['action, comedy, drama, mecha, military, sci-fi, shounen, space'],\n",
              " 'Gintama&#039;': ['action, comedy, historical, parody, samurai, sci-fi, shounen',\n",
              "  'action, comedy, historical, parody, samurai, sci-fi, shounen'],\n",
              " 'Seirei no Moribito': ['action, adventure, fantasy, historical',\n",
              "  'action, adventure, fantasy, historical',\n",
              "  'action, adventure, fantasy, historical',\n",
              "  'action, adventure, fantasy, historical'],\n",
              " 'I&#039;&#039;s': ['drama, romance', 'drama, romance'],\n",
              " 'Ookami to Koushinryou II: Ookami to Kohakuiro no Yuuutsu': ['fantasy, historical, romance',\n",
              "  'fantasy, historical, romance',\n",
              "  'fantasy, historical, romance',\n",
              "  'fantasy, historical, romance',\n",
              "  'fantasy, historical, romance'],\n",
              " 'Hibike! Euphonium: Kakedasu Monaka': ['drama, music, school'],\n",
              " 'Hikaru no Go': ['comedy, game, shounen, supernatural',\n",
              "  'comedy, game, shounen, supernatural',\n",
              "  'comedy, game, shounen, supernatural'],\n",
              " 'To LOVE-Ru Darkness OVA': ['comedy, ecchi, harem, romance, school, sci-fi, shounen'],\n",
              " 'Naruto Shippuuden: Shippuu! &quot;Konoha Gakuen&quot; Den': ['comedy'],\n",
              " 'Ladies versus Butlers! Tokuten Disc Music Clip': ['ecchi, music'],\n",
              " 'Naruto Movie 3: Dai Koufun! Mikazuki Jima no Animaru Panikku Dattebayo!': ['action, adventure',\n",
              "  'action, adventure',\n",
              "  'action, adventure',\n",
              "  'action, adventure'],\n",
              " 'Kowabon': ['horror'],\n",
              " 'Ao Haru Ride': ['comedy, drama, romance, school, shoujo, slice of life',\n",
              "  'comedy, drama, romance, school, shoujo, slice of life',\n",
              "  'comedy, drama, romance, school, shoujo, slice of life'],\n",
              " 'Mahou Sensei Negima!': ['comedy, ecchi, fantasy, harem, magic, romance, school, shounen, super power, supernatural',\n",
              "  'comedy, ecchi, fantasy, harem, magic, romance, school, shounen, super power, supernatural'],\n",
              " 'Black Blood Brothers': ['action, comedy, fantasy, shounen, supernatural, vampire',\n",
              "  'action, comedy, fantasy, shounen, supernatural, vampire',\n",
              "  'action, comedy, fantasy, shounen, supernatural, vampire'],\n",
              " 'Nurarihyon no Mago Recaps': ['action, demons, shounen, supernatural'],\n",
              " 'Tonari no Seki-kun': ['comedy, school, seinen', 'comedy, school, seinen'],\n",
              " 'Koutetsu Tenshi Kurumi': ['adventure, comedy, drama, historical, mecha, military, romance, shounen'],\n",
              " ...}"
            ]
          },
          "metadata": {
            "tags": []
          },
          "execution_count": 129
        }
      ]
    },
    {
      "cell_type": "code",
      "metadata": {
        "id": "VT9ggdclA9EY",
        "colab_type": "code",
        "colab": {}
      },
      "source": [
        "tags_list = list(tags.values())"
      ],
      "execution_count": 0,
      "outputs": []
    },
    {
      "cell_type": "code",
      "metadata": {
        "id": "E2XeKLuTBE4Q",
        "colab_type": "code",
        "outputId": "1cb40821-1b06-487a-ef73-e3a80938fa3e",
        "colab": {
          "base_uri": "https://localhost:8080/",
          "height": 280
        }
      },
      "source": [
        "tags_list[:5]"
      ],
      "execution_count": 131,
      "outputs": [
        {
          "output_type": "execute_result",
          "data": {
            "text/plain": [
              "[['action, horror, sci-fi',\n",
              "  'action, horror, sci-fi',\n",
              "  'action, horror, sci-fi',\n",
              "  'action, horror, sci-fi',\n",
              "  'action, horror, sci-fi',\n",
              "  'action, horror, sci-fi',\n",
              "  'action, horror, sci-fi',\n",
              "  'action, horror, sci-fi'],\n",
              " ['adventure, comedy, kids, mecha, sci-fi, shounen'],\n",
              " ['action, magic, sci-fi, super power',\n",
              "  'action, magic, sci-fi, super power',\n",
              "  'action, magic, sci-fi, super power'],\n",
              " ['action, adventure, comedy, fantasy, martial arts, shounen, super power',\n",
              "  'action, adventure, comedy, fantasy, martial arts, shounen, super power',\n",
              "  'action, adventure, comedy, fantasy, martial arts, shounen, super power'],\n",
              " ['action, mecha, military, sci-fi', 'action, mecha, military, sci-fi']]"
            ]
          },
          "metadata": {
            "tags": []
          },
          "execution_count": 131
        }
      ]
    },
    {
      "cell_type": "code",
      "metadata": {
        "id": "gr_fRsXFBHqM",
        "colab_type": "code",
        "colab": {}
      },
      "source": [
        "stopwords_list = stopwords.words('english')\n",
        "stopwords_list += list(string.punctuation)"
      ],
      "execution_count": 0,
      "outputs": []
    },
    {
      "cell_type": "code",
      "metadata": {
        "id": "U9QYmh6fBtB4",
        "colab_type": "code",
        "colab": {}
      },
      "source": [
        "def process_article(article):\n",
        "  article = ' '.join(article)\n",
        "\n",
        "  tokens = word_tokenize(article)\n",
        "  #word_tokenize splits the text into a list of strings that are separated based on spaces or apostrophes\n",
        "  tokens_2 = []\n",
        "  for token in tokens: \n",
        "    if token.lower() not in stopwords_list: \n",
        "      tokens_2.append(token.lower())\n",
        "\n",
        "  return tokens_2"
      ],
      "execution_count": 0,
      "outputs": []
    },
    {
      "cell_type": "code",
      "metadata": {
        "id": "KX8qW-U0E4zA",
        "colab_type": "code",
        "outputId": "d4e407cc-8a37-44b1-b26a-9201f25be2dc",
        "colab": {
          "base_uri": "https://localhost:8080/",
          "height": 66
        }
      },
      "source": [
        "import nltk \n",
        "nltk.download('punkt')"
      ],
      "execution_count": 134,
      "outputs": [
        {
          "output_type": "stream",
          "text": [
            "[nltk_data] Downloading package punkt to /root/nltk_data...\n",
            "[nltk_data]   Unzipping tokenizers/punkt.zip.\n"
          ],
          "name": "stdout"
        },
        {
          "output_type": "execute_result",
          "data": {
            "text/plain": [
              "True"
            ]
          },
          "metadata": {
            "tags": []
          },
          "execution_count": 134
        }
      ]
    },
    {
      "cell_type": "code",
      "metadata": {
        "id": "h1lAy6JLErnN",
        "colab_type": "code",
        "colab": {}
      },
      "source": [
        "processed_tags = list(map(process_article, tags_list))"
      ],
      "execution_count": 0,
      "outputs": []
    },
    {
      "cell_type": "code",
      "metadata": {
        "id": "afEQ6SoKEz5U",
        "colab_type": "code",
        "outputId": "7bf8b638-5586-477e-9074-9de9dc48a0bd",
        "colab": {
          "base_uri": "https://localhost:8080/",
          "height": 33
        }
      },
      "source": [
        "len(processed_tags)"
      ],
      "execution_count": 136,
      "outputs": [
        {
          "output_type": "execute_result",
          "data": {
            "text/plain": [
              "1934"
            ]
          },
          "metadata": {
            "tags": []
          },
          "execution_count": 136
        }
      ]
    },
    {
      "cell_type": "code",
      "metadata": {
        "id": "atZmhp6UFQca",
        "colab_type": "code",
        "outputId": "f7899be9-6e59-4d35-d3e4-fc1ea2042d89",
        "colab": {
          "base_uri": "https://localhost:8080/",
          "height": 1000
        }
      },
      "source": [
        "processed_tags[:5]"
      ],
      "execution_count": 137,
      "outputs": [
        {
          "output_type": "execute_result",
          "data": {
            "text/plain": [
              "[['action',\n",
              "  'horror',\n",
              "  'sci-fi',\n",
              "  'action',\n",
              "  'horror',\n",
              "  'sci-fi',\n",
              "  'action',\n",
              "  'horror',\n",
              "  'sci-fi',\n",
              "  'action',\n",
              "  'horror',\n",
              "  'sci-fi',\n",
              "  'action',\n",
              "  'horror',\n",
              "  'sci-fi',\n",
              "  'action',\n",
              "  'horror',\n",
              "  'sci-fi',\n",
              "  'action',\n",
              "  'horror',\n",
              "  'sci-fi',\n",
              "  'action',\n",
              "  'horror',\n",
              "  'sci-fi'],\n",
              " ['adventure', 'comedy', 'kids', 'mecha', 'sci-fi', 'shounen'],\n",
              " ['action',\n",
              "  'magic',\n",
              "  'sci-fi',\n",
              "  'super',\n",
              "  'power',\n",
              "  'action',\n",
              "  'magic',\n",
              "  'sci-fi',\n",
              "  'super',\n",
              "  'power',\n",
              "  'action',\n",
              "  'magic',\n",
              "  'sci-fi',\n",
              "  'super',\n",
              "  'power'],\n",
              " ['action',\n",
              "  'adventure',\n",
              "  'comedy',\n",
              "  'fantasy',\n",
              "  'martial',\n",
              "  'arts',\n",
              "  'shounen',\n",
              "  'super',\n",
              "  'power',\n",
              "  'action',\n",
              "  'adventure',\n",
              "  'comedy',\n",
              "  'fantasy',\n",
              "  'martial',\n",
              "  'arts',\n",
              "  'shounen',\n",
              "  'super',\n",
              "  'power',\n",
              "  'action',\n",
              "  'adventure',\n",
              "  'comedy',\n",
              "  'fantasy',\n",
              "  'martial',\n",
              "  'arts',\n",
              "  'shounen',\n",
              "  'super',\n",
              "  'power'],\n",
              " ['action',\n",
              "  'mecha',\n",
              "  'military',\n",
              "  'sci-fi',\n",
              "  'action',\n",
              "  'mecha',\n",
              "  'military',\n",
              "  'sci-fi']]"
            ]
          },
          "metadata": {
            "tags": []
          },
          "execution_count": 137
        }
      ]
    },
    {
      "cell_type": "code",
      "metadata": {
        "id": "Q_6LS_o6FTXk",
        "colab_type": "code",
        "colab": {}
      },
      "source": [
        "total_vocab = set()\n",
        "for doc in processed_tags: \n",
        "  total_vocab.update(doc)\n"
      ],
      "execution_count": 0,
      "outputs": []
    },
    {
      "cell_type": "code",
      "metadata": {
        "id": "0ClquiehFhg0",
        "colab_type": "code",
        "outputId": "6be826e7-ca15-4c95-a6cb-fa213d147915",
        "colab": {
          "base_uri": "https://localhost:8080/",
          "height": 33
        }
      },
      "source": [
        "len(total_vocab)"
      ],
      "execution_count": 139,
      "outputs": [
        {
          "output_type": "execute_result",
          "data": {
            "text/plain": [
              "45"
            ]
          },
          "metadata": {
            "tags": []
          },
          "execution_count": 139
        }
      ]
    },
    {
      "cell_type": "code",
      "metadata": {
        "id": "tqwYUfUMFzAP",
        "colab_type": "code",
        "colab": {}
      },
      "source": [
        "articles_concat = []\n",
        "for doc in processed_tags: \n",
        "  articles_concat += doc"
      ],
      "execution_count": 0,
      "outputs": []
    },
    {
      "cell_type": "code",
      "metadata": {
        "id": "tuOx3ED-FsXL",
        "colab_type": "code",
        "colab": {}
      },
      "source": [
        "freqdist = FreqDist(articles_concat)"
      ],
      "execution_count": 0,
      "outputs": []
    },
    {
      "cell_type": "code",
      "metadata": {
        "id": "OroR9ub8F6sq",
        "colab_type": "code",
        "outputId": "1d50350a-c8a3-4233-b93c-99daf02ec2ff",
        "colab": {
          "base_uri": "https://localhost:8080/",
          "height": 759
        }
      },
      "source": [
        "freqdist"
      ],
      "execution_count": 142,
      "outputs": [
        {
          "output_type": "execute_result",
          "data": {
            "text/plain": [
              "FreqDist({'action': 2097,\n",
              "          'adventure': 1080,\n",
              "          'ai': 71,\n",
              "          'arts': 152,\n",
              "          'cars': 11,\n",
              "          'comedy': 2512,\n",
              "          'dementia': 48,\n",
              "          'demons': 229,\n",
              "          'drama': 1357,\n",
              "          'ecchi': 596,\n",
              "          'fantasy': 1306,\n",
              "          'game': 126,\n",
              "          'harem': 472,\n",
              "          'hentai': 39,\n",
              "          'historical': 244,\n",
              "          'horror': 289,\n",
              "          'josei': 54,\n",
              "          'kids': 74,\n",
              "          'life': 724,\n",
              "          'magic': 496,\n",
              "          'martial': 152,\n",
              "          'mecha': 381,\n",
              "          'military': 289,\n",
              "          'music': 138,\n",
              "          'mystery': 573,\n",
              "          'parody': 158,\n",
              "          'police': 105,\n",
              "          'power': 484,\n",
              "          'psychological': 392,\n",
              "          'romance': 1604,\n",
              "          'samurai': 62,\n",
              "          'school': 1239,\n",
              "          'sci-fi': 1022,\n",
              "          'seinen': 491,\n",
              "          'shoujo': 341,\n",
              "          'shounen': 1239,\n",
              "          'slice': 724,\n",
              "          'space': 124,\n",
              "          'sports': 155,\n",
              "          'super': 484,\n",
              "          'supernatural': 1265,\n",
              "          'thriller': 244,\n",
              "          'vampire': 154,\n",
              "          'yaoi': 11,\n",
              "          'yuri': 2})"
            ]
          },
          "metadata": {
            "tags": []
          },
          "execution_count": 142
        }
      ]
    },
    {
      "cell_type": "code",
      "metadata": {
        "id": "HZOLoGKGF9FT",
        "colab_type": "code",
        "outputId": "f3f7c298-0724-44cc-ca6d-6ddcdcd1f22e",
        "colab": {
          "base_uri": "https://localhost:8080/",
          "height": 346
        }
      },
      "source": [
        "most_common_genre = freqdist.most_common(20)\n",
        "most_common_genre"
      ],
      "execution_count": 143,
      "outputs": [
        {
          "output_type": "execute_result",
          "data": {
            "text/plain": [
              "[('comedy', 2512),\n",
              " ('action', 2097),\n",
              " ('romance', 1604),\n",
              " ('drama', 1357),\n",
              " ('fantasy', 1306),\n",
              " ('supernatural', 1265),\n",
              " ('shounen', 1239),\n",
              " ('school', 1239),\n",
              " ('adventure', 1080),\n",
              " ('sci-fi', 1022),\n",
              " ('slice', 724),\n",
              " ('life', 724),\n",
              " ('ecchi', 596),\n",
              " ('mystery', 573),\n",
              " ('magic', 496),\n",
              " ('seinen', 491),\n",
              " ('super', 484),\n",
              " ('power', 484),\n",
              " ('harem', 472),\n",
              " ('psychological', 392)]"
            ]
          },
          "metadata": {
            "tags": []
          },
          "execution_count": 143
        }
      ]
    },
    {
      "cell_type": "code",
      "metadata": {
        "id": "9tk84BMXGM9b",
        "colab_type": "code",
        "outputId": "50a52b80-31c7-4ea3-b596-84d619ad2313",
        "colab": {
          "base_uri": "https://localhost:8080/",
          "height": 744
        }
      },
      "source": [
        "plt.figure(figsize=(22,12))\n",
        "plt.bar([word[0] for word in most_common_genre], [word[1] for word in most_common_genre])\n",
        "plt.title(\"Most Popular Genre\", fontsize= 20)\n",
        "plt.xlabel(\"Genre\", fontsize=20)\n",
        "plt.ylabel(\"Total Number of Times Genre is Present in Anime Data\", fontsize=20)\n",
        "plt.show()"
      ],
      "execution_count": 144,
      "outputs": [
        {
          "output_type": "display_data",
          "data": {
            "image/png": "[encoded data removed]",
            "text/plain": [
              "<Figure size 1584x864 with 1 Axes>"
            ]
          },
          "metadata": {
            "tags": [],
            "needs_background": "light"
          }
        }
      ]
    },
    {
      "cell_type": "code",
      "metadata": {
        "id": "sHtRjs6-J1MI",
        "colab_type": "code",
        "colab": {}
      },
      "source": [
        "vectorizer = TfidfVectorizer(analyzer='word', ngram_range=(1,2), stop_words=stopwords_list)"
      ],
      "execution_count": 0,
      "outputs": []
    },
    {
      "cell_type": "code",
      "metadata": {
        "id": "snDw_LEiMwVC",
        "colab_type": "code",
        "colab": {}
      },
      "source": [
        "tags_list_2 = [' '.join(x) for x in tags_list]"
      ],
      "execution_count": 0,
      "outputs": []
    },
    {
      "cell_type": "code",
      "metadata": {
        "id": "SXaEnrr7M4Fq",
        "colab_type": "code",
        "colab": {}
      },
      "source": [
        "tf_idf_data_train = vectorizer.fit_transform(tags_list_2)"
      ],
      "execution_count": 0,
      "outputs": []
    },
    {
      "cell_type": "code",
      "metadata": {
        "id": "znZoGrGQNI9D",
        "colab_type": "code",
        "outputId": "b041e7f4-9166-47f4-81d3-9029d291dfcf",
        "colab": {
          "base_uri": "https://localhost:8080/",
          "height": 33
        }
      },
      "source": [
        "type(tf_idf_data_train)"
      ],
      "execution_count": 148,
      "outputs": [
        {
          "output_type": "execute_result",
          "data": {
            "text/plain": [
              "scipy.sparse.csr.csr_matrix"
            ]
          },
          "metadata": {
            "tags": []
          },
          "execution_count": 148
        }
      ]
    },
    {
      "cell_type": "code",
      "metadata": {
        "id": "uJAF2R1nNLew",
        "colab_type": "code",
        "outputId": "dab2343e-004b-4b77-e9be-e218b7140c8c",
        "colab": {
          "base_uri": "https://localhost:8080/",
          "height": 33
        }
      },
      "source": [
        "tf_idf_data_train.shape"
      ],
      "execution_count": 149,
      "outputs": [
        {
          "output_type": "execute_result",
          "data": {
            "text/plain": [
              "(1934, 616)"
            ]
          },
          "metadata": {
            "tags": []
          },
          "execution_count": 149
        }
      ]
    },
    {
      "cell_type": "code",
      "metadata": {
        "id": "8naPo2jQNQGq",
        "colab_type": "code",
        "colab": {}
      },
      "source": [
        "#instantiate SVD\n",
        "svd = TruncatedSVD(n_components=500, n_iter=7, random_state=42)\n",
        "\n",
        "#fit and transform the vectorized tf-idf matrix \n",
        "tf_idf_data_train_svd = svd.fit_transform(tf_idf_data_train)"
      ],
      "execution_count": 0,
      "outputs": []
    },
    {
      "cell_type": "code",
      "metadata": {
        "id": "tcs1c7VgNtUS",
        "colab_type": "code",
        "outputId": "5eb02648-f364-4b66-b23f-9046c9c98d0e",
        "colab": {
          "base_uri": "https://localhost:8080/",
          "height": 33
        }
      },
      "source": [
        "print(svd.explained_variance_ratio_.sum())"
      ],
      "execution_count": 151,
      "outputs": [
        {
          "output_type": "stream",
          "text": [
            "0.9962558733287571\n"
          ],
          "name": "stdout"
        }
      ]
    },
    {
      "cell_type": "code",
      "metadata": {
        "id": "1tCjX-h3N-Za",
        "colab_type": "code",
        "colab": {}
      },
      "source": [
        "#overfit?"
      ],
      "execution_count": 0,
      "outputs": []
    },
    {
      "cell_type": "markdown",
      "metadata": {
        "id": "W6SbTMCGOlw-",
        "colab_type": "text"
      },
      "source": [
        "# Calculating the similarities between anime with TF-IDF"
      ]
    },
    {
      "cell_type": "markdown",
      "metadata": {
        "id": "lHB2DkGnOwkJ",
        "colab_type": "text"
      },
      "source": [
        "We are going to perform calculations on the tf-idf matrices that were created above by calculating the dot product for each pairing. This will be equivalent to the cosine similarity score. For tf_idf we will be using sklearn's linear_kernel to obtain this. "
      ]
    },
    {
      "cell_type": "code",
      "metadata": {
        "id": "7TBeBNY4Ovm-",
        "colab_type": "code",
        "colab": {}
      },
      "source": [
        "cosine_sim = linear_kernel(tf_idf_data_train_svd, tf_idf_data_train_svd)"
      ],
      "execution_count": 0,
      "outputs": []
    },
    {
      "cell_type": "code",
      "metadata": {
        "id": "s86La_TtPjI6",
        "colab_type": "code",
        "outputId": "1a071de0-198a-4f25-dbff-2705f1547dc5",
        "colab": {
          "base_uri": "https://localhost:8080/",
          "height": 33
        }
      },
      "source": [
        "cosine_sim.shape"
      ],
      "execution_count": 154,
      "outputs": [
        {
          "output_type": "execute_result",
          "data": {
            "text/plain": [
              "(1934, 1934)"
            ]
          },
          "metadata": {
            "tags": []
          },
          "execution_count": 154
        }
      ]
    },
    {
      "cell_type": "code",
      "metadata": {
        "id": "RCQgWEm8TEzk",
        "colab_type": "code",
        "colab": {}
      },
      "source": [
        "anime_2 = sample.reset_index()\n",
        "\n",
        "#extract all unique anime titles\n",
        "anime_id_tag = anime_2['anime_id']\n",
        "\n",
        "#goal is to extract the anime that correspond to its position within the tf idf vectorizer matrix,\n",
        "# which we will take similarity scores from later\n",
        "indices = pd.Series(anime_2.index, index=sample['anime_id'])"
      ],
      "execution_count": 0,
      "outputs": []
    },
    {
      "cell_type": "code",
      "metadata": {
        "id": "PrMnIEFoUceB",
        "colab_type": "code",
        "colab": {}
      },
      "source": [
        "def get_most_similar_anime(animeid, n = 20):\n",
        "  #tf-idf vectorizer score will take anime name from any given id and pair it with the 50 most similar \n",
        "  idx = indices[animeid]\n",
        "  sim_scores = list(enumerate(cosine_sim[idx]))\n",
        "  sim_scores = sorted(sim_scores, key=lambda x: x[1], reverse=True)\n",
        "  sim_scores = sim_scores[0:n] #not going to do 0 to 51, this will be orginally specified\n",
        "\n",
        "  anime_indices = [i[0] for i in sim_scores]\n",
        "\n",
        "  recs = pd.DataFrame(columns= anime_2.columns)\n",
        "  for i in a_id.loc[anime_indices]:\n",
        "\n",
        "    if i != name: \n",
        "      recs = recs.append(anime_2[anime_2['anime_id'] == i])\n",
        "  return recs"
      ],
      "execution_count": 0,
      "outputs": []
    },
    {
      "cell_type": "code",
      "metadata": {
        "id": "t0oF6gCcXjlw",
        "colab_type": "code",
        "outputId": "0af51b9c-2ccb-4416-a592-645f2249a055",
        "colab": {
          "base_uri": "https://localhost:8080/",
          "height": 645
        }
      },
      "source": [
        "anime_2[anime_2['anime_id'] == 20]"
      ],
      "execution_count": 157,
      "outputs": [
        {
          "output_type": "execute_result",
          "data": {
            "text/html": [
              "<div>\n",
              "<style scoped>\n",
              "    .dataframe tbody tr th:only-of-type {\n",
              "        vertical-align: middle;\n",
              "    }\n",
              "\n",
              "    .dataframe tbody tr th {\n",
              "        vertical-align: top;\n",
              "    }\n",
              "\n",
              "    .dataframe thead th {\n",
              "        text-align: right;\n",
              "    }\n",
              "</style>\n",
              "<table border=\"1\" class=\"dataframe\">\n",
              "  <thead>\n",
              "    <tr style=\"text-align: right;\">\n",
              "      <th></th>\n",
              "      <th>index</th>\n",
              "      <th>anime_id</th>\n",
              "      <th>name</th>\n",
              "      <th>genre</th>\n",
              "      <th>type</th>\n",
              "      <th>episodes</th>\n",
              "      <th>rating_x</th>\n",
              "      <th>members</th>\n",
              "      <th>user_id</th>\n",
              "      <th>rating_y</th>\n",
              "    </tr>\n",
              "  </thead>\n",
              "  <tbody>\n",
              "    <tr>\n",
              "      <th>426</th>\n",
              "      <td>715383</td>\n",
              "      <td>20</td>\n",
              "      <td>Naruto</td>\n",
              "      <td>Action, Comedy, Martial Arts, Shounen, Super P...</td>\n",
              "      <td>TV</td>\n",
              "      <td>220</td>\n",
              "      <td>7</td>\n",
              "      <td>683297</td>\n",
              "      <td>12989</td>\n",
              "      <td>7</td>\n",
              "    </tr>\n",
              "    <tr>\n",
              "      <th>590</th>\n",
              "      <td>713999</td>\n",
              "      <td>20</td>\n",
              "      <td>Naruto</td>\n",
              "      <td>Action, Comedy, Martial Arts, Shounen, Super P...</td>\n",
              "      <td>TV</td>\n",
              "      <td>220</td>\n",
              "      <td>7</td>\n",
              "      <td>683297</td>\n",
              "      <td>9032</td>\n",
              "      <td>7</td>\n",
              "    </tr>\n",
              "    <tr>\n",
              "      <th>1107</th>\n",
              "      <td>714837</td>\n",
              "      <td>20</td>\n",
              "      <td>Naruto</td>\n",
              "      <td>Action, Comedy, Martial Arts, Shounen, Super P...</td>\n",
              "      <td>TV</td>\n",
              "      <td>220</td>\n",
              "      <td>7</td>\n",
              "      <td>683297</td>\n",
              "      <td>11483</td>\n",
              "      <td>10</td>\n",
              "    </tr>\n",
              "    <tr>\n",
              "      <th>1135</th>\n",
              "      <td>714740</td>\n",
              "      <td>20</td>\n",
              "      <td>Naruto</td>\n",
              "      <td>Action, Comedy, Martial Arts, Shounen, Super P...</td>\n",
              "      <td>TV</td>\n",
              "      <td>220</td>\n",
              "      <td>7</td>\n",
              "      <td>683297</td>\n",
              "      <td>11201</td>\n",
              "      <td>8</td>\n",
              "    </tr>\n",
              "    <tr>\n",
              "      <th>1989</th>\n",
              "      <td>715871</td>\n",
              "      <td>20</td>\n",
              "      <td>Naruto</td>\n",
              "      <td>Action, Comedy, Martial Arts, Shounen, Super P...</td>\n",
              "      <td>TV</td>\n",
              "      <td>220</td>\n",
              "      <td>7</td>\n",
              "      <td>683297</td>\n",
              "      <td>14518</td>\n",
              "      <td>7</td>\n",
              "    </tr>\n",
              "    <tr>\n",
              "      <th>2382</th>\n",
              "      <td>711234</td>\n",
              "      <td>20</td>\n",
              "      <td>Naruto</td>\n",
              "      <td>Action, Comedy, Martial Arts, Shounen, Super P...</td>\n",
              "      <td>TV</td>\n",
              "      <td>220</td>\n",
              "      <td>7</td>\n",
              "      <td>683297</td>\n",
              "      <td>1488</td>\n",
              "      <td>9</td>\n",
              "    </tr>\n",
              "    <tr>\n",
              "      <th>2768</th>\n",
              "      <td>712726</td>\n",
              "      <td>20</td>\n",
              "      <td>Naruto</td>\n",
              "      <td>Action, Comedy, Martial Arts, Shounen, Super P...</td>\n",
              "      <td>TV</td>\n",
              "      <td>220</td>\n",
              "      <td>7</td>\n",
              "      <td>683297</td>\n",
              "      <td>5630</td>\n",
              "      <td>8</td>\n",
              "    </tr>\n",
              "    <tr>\n",
              "      <th>2814</th>\n",
              "      <td>712891</td>\n",
              "      <td>20</td>\n",
              "      <td>Naruto</td>\n",
              "      <td>Action, Comedy, Martial Arts, Shounen, Super P...</td>\n",
              "      <td>TV</td>\n",
              "      <td>220</td>\n",
              "      <td>7</td>\n",
              "      <td>683297</td>\n",
              "      <td>6050</td>\n",
              "      <td>8</td>\n",
              "    </tr>\n",
              "    <tr>\n",
              "      <th>2981</th>\n",
              "      <td>712366</td>\n",
              "      <td>20</td>\n",
              "      <td>Naruto</td>\n",
              "      <td>Action, Comedy, Martial Arts, Shounen, Super P...</td>\n",
              "      <td>TV</td>\n",
              "      <td>220</td>\n",
              "      <td>7</td>\n",
              "      <td>683297</td>\n",
              "      <td>4738</td>\n",
              "      <td>10</td>\n",
              "    </tr>\n",
              "    <tr>\n",
              "      <th>3041</th>\n",
              "      <td>716243</td>\n",
              "      <td>20</td>\n",
              "      <td>Naruto</td>\n",
              "      <td>Action, Comedy, Martial Arts, Shounen, Super P...</td>\n",
              "      <td>TV</td>\n",
              "      <td>220</td>\n",
              "      <td>7</td>\n",
              "      <td>683297</td>\n",
              "      <td>15620</td>\n",
              "      <td>9</td>\n",
              "    </tr>\n",
              "    <tr>\n",
              "      <th>3060</th>\n",
              "      <td>711929</td>\n",
              "      <td>20</td>\n",
              "      <td>Naruto</td>\n",
              "      <td>Action, Comedy, Martial Arts, Shounen, Super P...</td>\n",
              "      <td>TV</td>\n",
              "      <td>220</td>\n",
              "      <td>7</td>\n",
              "      <td>683297</td>\n",
              "      <td>3460</td>\n",
              "      <td>8</td>\n",
              "    </tr>\n",
              "    <tr>\n",
              "      <th>3258</th>\n",
              "      <td>716230</td>\n",
              "      <td>20</td>\n",
              "      <td>Naruto</td>\n",
              "      <td>Action, Comedy, Martial Arts, Shounen, Super P...</td>\n",
              "      <td>TV</td>\n",
              "      <td>220</td>\n",
              "      <td>7</td>\n",
              "      <td>683297</td>\n",
              "      <td>15591</td>\n",
              "      <td>8</td>\n",
              "    </tr>\n",
              "    <tr>\n",
              "      <th>3271</th>\n",
              "      <td>712252</td>\n",
              "      <td>20</td>\n",
              "      <td>Naruto</td>\n",
              "      <td>Action, Comedy, Martial Arts, Shounen, Super P...</td>\n",
              "      <td>TV</td>\n",
              "      <td>220</td>\n",
              "      <td>7</td>\n",
              "      <td>683297</td>\n",
              "      <td>4412</td>\n",
              "      <td>9</td>\n",
              "    </tr>\n",
              "    <tr>\n",
              "      <th>3491</th>\n",
              "      <td>712706</td>\n",
              "      <td>20</td>\n",
              "      <td>Naruto</td>\n",
              "      <td>Action, Comedy, Martial Arts, Shounen, Super P...</td>\n",
              "      <td>TV</td>\n",
              "      <td>220</td>\n",
              "      <td>7</td>\n",
              "      <td>683297</td>\n",
              "      <td>5593</td>\n",
              "      <td>10</td>\n",
              "    </tr>\n",
              "    <tr>\n",
              "      <th>3918</th>\n",
              "      <td>713302</td>\n",
              "      <td>20</td>\n",
              "      <td>Naruto</td>\n",
              "      <td>Action, Comedy, Martial Arts, Shounen, Super P...</td>\n",
              "      <td>TV</td>\n",
              "      <td>220</td>\n",
              "      <td>7</td>\n",
              "      <td>683297</td>\n",
              "      <td>7114</td>\n",
              "      <td>7</td>\n",
              "    </tr>\n",
              "    <tr>\n",
              "      <th>3946</th>\n",
              "      <td>712730</td>\n",
              "      <td>20</td>\n",
              "      <td>Naruto</td>\n",
              "      <td>Action, Comedy, Martial Arts, Shounen, Super P...</td>\n",
              "      <td>TV</td>\n",
              "      <td>220</td>\n",
              "      <td>7</td>\n",
              "      <td>683297</td>\n",
              "      <td>5647</td>\n",
              "      <td>7</td>\n",
              "    </tr>\n",
              "    <tr>\n",
              "      <th>4040</th>\n",
              "      <td>715196</td>\n",
              "      <td>20</td>\n",
              "      <td>Naruto</td>\n",
              "      <td>Action, Comedy, Martial Arts, Shounen, Super P...</td>\n",
              "      <td>TV</td>\n",
              "      <td>220</td>\n",
              "      <td>7</td>\n",
              "      <td>683297</td>\n",
              "      <td>12489</td>\n",
              "      <td>10</td>\n",
              "    </tr>\n",
              "    <tr>\n",
              "      <th>4047</th>\n",
              "      <td>710935</td>\n",
              "      <td>20</td>\n",
              "      <td>Naruto</td>\n",
              "      <td>Action, Comedy, Martial Arts, Shounen, Super P...</td>\n",
              "      <td>TV</td>\n",
              "      <td>220</td>\n",
              "      <td>7</td>\n",
              "      <td>683297</td>\n",
              "      <td>612</td>\n",
              "      <td>8</td>\n",
              "    </tr>\n",
              "    <tr>\n",
              "      <th>4566</th>\n",
              "      <td>710988</td>\n",
              "      <td>20</td>\n",
              "      <td>Naruto</td>\n",
              "      <td>Action, Comedy, Martial Arts, Shounen, Super P...</td>\n",
              "      <td>TV</td>\n",
              "      <td>220</td>\n",
              "      <td>7</td>\n",
              "      <td>683297</td>\n",
              "      <td>790</td>\n",
              "      <td>8</td>\n",
              "    </tr>\n",
              "    <tr>\n",
              "      <th>4885</th>\n",
              "      <td>713575</td>\n",
              "      <td>20</td>\n",
              "      <td>Naruto</td>\n",
              "      <td>Action, Comedy, Martial Arts, Shounen, Super P...</td>\n",
              "      <td>TV</td>\n",
              "      <td>220</td>\n",
              "      <td>7</td>\n",
              "      <td>683297</td>\n",
              "      <td>7778</td>\n",
              "      <td>8</td>\n",
              "    </tr>\n",
              "    <tr>\n",
              "      <th>4886</th>\n",
              "      <td>715080</td>\n",
              "      <td>20</td>\n",
              "      <td>Naruto</td>\n",
              "      <td>Action, Comedy, Martial Arts, Shounen, Super P...</td>\n",
              "      <td>TV</td>\n",
              "      <td>220</td>\n",
              "      <td>7</td>\n",
              "      <td>683297</td>\n",
              "      <td>12198</td>\n",
              "      <td>5</td>\n",
              "    </tr>\n",
              "  </tbody>\n",
              "</table>\n",
              "</div>"
            ],
            "text/plain": [
              "       index  anime_id    name  ... members user_id rating_y\n",
              "426   715383        20  Naruto  ...  683297   12989        7\n",
              "590   713999        20  Naruto  ...  683297    9032        7\n",
              "1107  714837        20  Naruto  ...  683297   11483       10\n",
              "1135  714740        20  Naruto  ...  683297   11201        8\n",
              "1989  715871        20  Naruto  ...  683297   14518        7\n",
              "2382  711234        20  Naruto  ...  683297    1488        9\n",
              "2768  712726        20  Naruto  ...  683297    5630        8\n",
              "2814  712891        20  Naruto  ...  683297    6050        8\n",
              "2981  712366        20  Naruto  ...  683297    4738       10\n",
              "3041  716243        20  Naruto  ...  683297   15620        9\n",
              "3060  711929        20  Naruto  ...  683297    3460        8\n",
              "3258  716230        20  Naruto  ...  683297   15591        8\n",
              "3271  712252        20  Naruto  ...  683297    4412        9\n",
              "3491  712706        20  Naruto  ...  683297    5593       10\n",
              "3918  713302        20  Naruto  ...  683297    7114        7\n",
              "3946  712730        20  Naruto  ...  683297    5647        7\n",
              "4040  715196        20  Naruto  ...  683297   12489       10\n",
              "4047  710935        20  Naruto  ...  683297     612        8\n",
              "4566  710988        20  Naruto  ...  683297     790        8\n",
              "4885  713575        20  Naruto  ...  683297    7778        8\n",
              "4886  715080        20  Naruto  ...  683297   12198        5\n",
              "\n",
              "[21 rows x 10 columns]"
            ]
          },
          "metadata": {
            "tags": []
          },
          "execution_count": 157
        }
      ]
    },
    {
      "cell_type": "code",
      "metadata": {
        "id": "D6N18q8aXqc0",
        "colab_type": "code",
        "outputId": "af65643a-e016-4252-e9de-ee5b64e922a6",
        "colab": {
          "base_uri": "https://localhost:8080/",
          "height": 277
        }
      },
      "source": [
        "get_most_similar_anime(20)"
      ],
      "execution_count": 158,
      "outputs": [
        {
          "output_type": "error",
          "ename": "IndexError",
          "evalue": "ignored",
          "traceback": [
            "\u001b[0;31m---------------------------------------------------------------------------\u001b[0m",
            "\u001b[0;31mIndexError\u001b[0m                                Traceback (most recent call last)",
            "\u001b[0;32m<ipython-input-158-1f5f6cf45a47>\u001b[0m in \u001b[0;36m<module>\u001b[0;34m()\u001b[0m\n\u001b[0;32m----> 1\u001b[0;31m \u001b[0mget_most_similar_anime\u001b[0m\u001b[0;34m(\u001b[0m\u001b[0;36m20\u001b[0m\u001b[0;34m)\u001b[0m\u001b[0;34m\u001b[0m\u001b[0;34m\u001b[0m\u001b[0m\n\u001b[0m",
            "\u001b[0;32m<ipython-input-156-9af80e60a045>\u001b[0m in \u001b[0;36mget_most_similar_anime\u001b[0;34m(animeid, n)\u001b[0m\n\u001b[1;32m      2\u001b[0m   \u001b[0;31m#tf-idf vectorizer score will take anime name from any given id and pair it with the 50 most similar\u001b[0m\u001b[0;34m\u001b[0m\u001b[0;34m\u001b[0m\u001b[0;34m\u001b[0m\u001b[0m\n\u001b[1;32m      3\u001b[0m   \u001b[0midx\u001b[0m \u001b[0;34m=\u001b[0m \u001b[0mindices\u001b[0m\u001b[0;34m[\u001b[0m\u001b[0manimeid\u001b[0m\u001b[0;34m]\u001b[0m\u001b[0;34m\u001b[0m\u001b[0;34m\u001b[0m\u001b[0m\n\u001b[0;32m----> 4\u001b[0;31m   \u001b[0msim_scores\u001b[0m \u001b[0;34m=\u001b[0m \u001b[0mlist\u001b[0m\u001b[0;34m(\u001b[0m\u001b[0menumerate\u001b[0m\u001b[0;34m(\u001b[0m\u001b[0mcosine_sim\u001b[0m\u001b[0;34m[\u001b[0m\u001b[0midx\u001b[0m\u001b[0;34m]\u001b[0m\u001b[0;34m)\u001b[0m\u001b[0;34m)\u001b[0m\u001b[0;34m\u001b[0m\u001b[0;34m\u001b[0m\u001b[0m\n\u001b[0m\u001b[1;32m      5\u001b[0m   \u001b[0msim_scores\u001b[0m \u001b[0;34m=\u001b[0m \u001b[0msorted\u001b[0m\u001b[0;34m(\u001b[0m\u001b[0msim_scores\u001b[0m\u001b[0;34m,\u001b[0m \u001b[0mkey\u001b[0m\u001b[0;34m=\u001b[0m\u001b[0;32mlambda\u001b[0m \u001b[0mx\u001b[0m\u001b[0;34m:\u001b[0m \u001b[0mx\u001b[0m\u001b[0;34m[\u001b[0m\u001b[0;36m1\u001b[0m\u001b[0;34m]\u001b[0m\u001b[0;34m,\u001b[0m \u001b[0mreverse\u001b[0m\u001b[0;34m=\u001b[0m\u001b[0;32mTrue\u001b[0m\u001b[0;34m)\u001b[0m\u001b[0;34m\u001b[0m\u001b[0;34m\u001b[0m\u001b[0m\n\u001b[1;32m      6\u001b[0m   \u001b[0msim_scores\u001b[0m \u001b[0;34m=\u001b[0m \u001b[0msim_scores\u001b[0m\u001b[0;34m[\u001b[0m\u001b[0;36m0\u001b[0m\u001b[0;34m:\u001b[0m\u001b[0mn\u001b[0m\u001b[0;34m]\u001b[0m \u001b[0;31m#not going to do 0 to 51, this will be orginally specified\u001b[0m\u001b[0;34m\u001b[0m\u001b[0;34m\u001b[0m\u001b[0m\n",
            "\u001b[0;31mIndexError\u001b[0m: index 1989 is out of bounds for axis 0 with size 1934"
          ]
        }
      ]
    },
    {
      "cell_type": "code",
      "metadata": {
        "id": "YqhIij_5auk5",
        "colab_type": "code",
        "colab": {
          "base_uri": "https://localhost:8080/",
          "height": 49
        },
        "outputId": "6c7df630-643f-421b-f832-c2720e63f64c"
      },
      "source": [
        "cosine_sim[193]"
      ],
      "execution_count": 159,
      "outputs": [
        {
          "output_type": "execute_result",
          "data": {
            "text/plain": [
              "array([-2.03726887e-05,  2.16816976e-02,  2.52593921e-05, ...,\n",
              "        8.83139131e-02,  3.47514979e-02,  1.45564026e-04])"
            ]
          },
          "metadata": {
            "tags": []
          },
          "execution_count": 159
        }
      ]
    },
    {
      "cell_type": "code",
      "metadata": {
        "id": "zYFvSrxftFs6",
        "colab_type": "code",
        "colab": {}
      },
      "source": [
        ""
      ],
      "execution_count": 0,
      "outputs": []
    }
  ]
}