{
  "nbformat": 4,
  "nbformat_minor": 0,
  "metadata": {
    "kernelspec": {
      "display_name": "Python 3",
      "language": "python",
      "name": "python3"
    },
    "language_info": {
      "codemirror_mode": {
        "name": "ipython",
        "version": 3
      },
      "file_extension": ".py",
      "mimetype": "text/x-python",
      "name": "python",
      "nbconvert_exporter": "python",
      "pygments_lexer": "ipython3",
      "version": "3.7.4"
    },
    "colab": {
      "name": "Copy of mvp.ipynb",
      "provenance": [],
      "collapsed_sections": [
        "d6KwN2bv3w0d",
        "ezLPlX8_nE-C",
        "bm8R-omFo8rS",
        "LdId9mGNnE-b"
      ],
      "include_colab_link": true
    }
  },
  "cells": [
    {
      "cell_type": "markdown",
      "metadata": {
        "id": "view-in-github",
        "colab_type": "text"
      },
      "source": [
        "<a href=\"https://colab.research.google.com/github/anilaq/capstone/blob/master/latest.ipynb\" target=\"_parent\"><img src=\"https://colab.research.google.com/assets/colab-badge.svg\" alt=\"Open In Colab\"/></a>"
      ]
    },
    {
      "cell_type": "markdown",
      "metadata": {
        "id": "FNQAXdzngtQ1",
        "colab_type": "text"
      },
      "source": [
        "# A Recommendation System for Anime"
      ]
    },
    {
      "cell_type": "markdown",
      "metadata": {
        "id": "JRwjDJo7WVPN",
        "colab_type": "text"
      },
      "source": [
        "Anime, is a hand drawn and computer animation originating from Japan which is widely drawn a cult following around the world. The animation industry consists of more than 430 companies. Some of the most popular anime that has come to Western television is Pokemon and Yugi-Oh .\"Spirited Away\" a film created by Hayao Miyazaki and animated by Studio Ghibli is the highest grossing film within the anime genre. The reason it became so popular in the west is because a good friend of Miyazaki convinced him to sell distribution rights to Walt Disney. Like Spirited Away, there are thousands of really good anime films and shows produced by the same animation house. Due to the pandemic a nice way to bring such works of art into Disney plus or any streaming site in the West I have created a recommendation system that can help anyone or any company to view/add the highest rated anime. The Japan External Trade Organization has valued overseas sales to  18𝑏𝑖𝑙𝑙𝑖𝑜𝑛( 5.2 billion for the US alone) in 2004. This has likely grown. With covid19 looming over Japan which has caused one of the first long term recessions for the country. A way at which potential growth could take place is focusing on streaming and producing more of the top recommended. "
      ]
    },
    {
      "cell_type": "code",
      "metadata": {
        "id": "9PfsXpFmoAQW",
        "colab_type": "code",
        "outputId": "d0aa0d9a-f5aa-4e72-c432-887b7d08113e",
        "colab": {
          "base_uri": "https://localhost:8080/",
          "height": 280
        }
      },
      "source": [
        "!pip install surprise"
      ],
      "execution_count": 1,
      "outputs": [
        {
          "output_type": "stream",
          "text": [
            "Collecting surprise\n",
            "  Downloading https://files.pythonhosted.org/packages/61/de/e5cba8682201fcf9c3719a6fdda95693468ed061945493dea2dd37c5618b/surprise-0.1-py2.py3-none-any.whl\n",
            "Collecting scikit-surprise\n",
            "\u001b[?25l  Downloading https://files.pythonhosted.org/packages/f5/da/b5700d96495fb4f092be497f02492768a3d96a3f4fa2ae7dea46d4081cfa/scikit-surprise-1.1.0.tar.gz (6.4MB)\n",
            "\u001b[K     |████████████████████████████████| 6.5MB 2.4MB/s \n",
            "\u001b[?25hRequirement already satisfied: joblib>=0.11 in /usr/local/lib/python3.6/dist-packages (from scikit-surprise->surprise) (0.15.1)\n",
            "Requirement already satisfied: numpy>=1.11.2 in /usr/local/lib/python3.6/dist-packages (from scikit-surprise->surprise) (1.18.4)\n",
            "Requirement already satisfied: scipy>=1.0.0 in /usr/local/lib/python3.6/dist-packages (from scikit-surprise->surprise) (1.4.1)\n",
            "Requirement already satisfied: six>=1.10.0 in /usr/local/lib/python3.6/dist-packages (from scikit-surprise->surprise) (1.12.0)\n",
            "Building wheels for collected packages: scikit-surprise\n",
            "  Building wheel for scikit-surprise (setup.py) ... \u001b[?25l\u001b[?25hdone\n",
            "  Created wheel for scikit-surprise: filename=scikit_surprise-1.1.0-cp36-cp36m-linux_x86_64.whl size=1675367 sha256=5d1746413787b57e1f2910f9212ea85435c2b550b4529ea8b5eef0f781a5db8f\n",
            "  Stored in directory: /root/.cache/pip/wheels/cc/fa/8c/16c93fccce688ae1bde7d979ff102f7bee980d9cfeb8641bcf\n",
            "Successfully built scikit-surprise\n",
            "Installing collected packages: scikit-surprise, surprise\n",
            "Successfully installed scikit-surprise-1.1.0 surprise-0.1\n"
          ],
          "name": "stdout"
        }
      ]
    },
    {
      "cell_type": "code",
      "metadata": {
        "id": "ChfTrW0qnE7C",
        "colab_type": "code",
        "outputId": "628afa7d-bc91-41f3-e5ac-c139e50d0b06",
        "colab": {
          "base_uri": "https://localhost:8080/",
          "height": 49
        }
      },
      "source": [
        "import pandas as pd \n",
        "\n",
        "import numpy as np \n",
        "\n",
        "import random\n",
        "from random import randint\n",
        "\n",
        "import matplotlib.pyplot as plt \n",
        "%matplotlib inline \n",
        "import seaborn as sns \n",
        "\n",
        "from scipy.sparse import csc_matrix\n",
        "from scipy.sparse.linalg import svds \n",
        "\n",
        "from surprise.model_selection import train_test_split\n",
        "from surprise.model_selection import GridSearchCV\n",
        "from surprise.model_selection import cross_validate\n",
        "\n",
        "from surprise.prediction_algorithms import KNNWithMeans, KNNBasic, KNNBaseline\n",
        "\n",
        "from surprise.prediction_algorithms import knns\n",
        "from surprise.prediction_algorithms import SVD\n",
        "\n",
        "from surprise.similarities import cosine, msd, pearson\n",
        "\n",
        "from surprise import accuracy \n",
        "from surprise import Reader\n",
        "from surprise import Dataset\n",
        "from surprise import dataset\n",
        "\n"
      ],
      "execution_count": 2,
      "outputs": [
        {
          "output_type": "stream",
          "text": [
            "/usr/local/lib/python3.6/dist-packages/statsmodels/tools/_testing.py:19: FutureWarning: pandas.util.testing is deprecated. Use the functions in the public API at pandas.testing instead.\n",
            "  import pandas.util.testing as tm\n"
          ],
          "name": "stderr"
        }
      ]
    },
    {
      "cell_type": "markdown",
      "metadata": {
        "id": "I7eIpDS9nE7K",
        "colab_type": "text"
      },
      "source": [
        "# Preprocessing"
      ]
    },
    {
      "cell_type": "code",
      "metadata": {
        "id": "NHfdwhF9nE7L",
        "colab_type": "code",
        "outputId": "7bfda9f4-8752-4988-e368-8cfd54a9d448",
        "colab": {
          "base_uri": "https://localhost:8080/",
          "height": 189
        }
      },
      "source": [
        "anime_df = pd.read_csv('./anime.csv')\n",
        "anime_df.head()"
      ],
      "execution_count": 3,
      "outputs": [
        {
          "output_type": "execute_result",
          "data": {
            "text/html": [
              "<div>\n",
              "<style scoped>\n",
              "    .dataframe tbody tr th:only-of-type {\n",
              "        vertical-align: middle;\n",
              "    }\n",
              "\n",
              "    .dataframe tbody tr th {\n",
              "        vertical-align: top;\n",
              "    }\n",
              "\n",
              "    .dataframe thead th {\n",
              "        text-align: right;\n",
              "    }\n",
              "</style>\n",
              "<table border=\"1\" class=\"dataframe\">\n",
              "  <thead>\n",
              "    <tr style=\"text-align: right;\">\n",
              "      <th></th>\n",
              "      <th>anime_id</th>\n",
              "      <th>name</th>\n",
              "      <th>genre</th>\n",
              "      <th>type</th>\n",
              "      <th>episodes</th>\n",
              "      <th>rating</th>\n",
              "      <th>members</th>\n",
              "    </tr>\n",
              "  </thead>\n",
              "  <tbody>\n",
              "    <tr>\n",
              "      <th>0</th>\n",
              "      <td>32281</td>\n",
              "      <td>Kimi no Na wa.</td>\n",
              "      <td>Drama, Romance, School, Supernatural</td>\n",
              "      <td>Movie</td>\n",
              "      <td>1</td>\n",
              "      <td>9.37</td>\n",
              "      <td>200630</td>\n",
              "    </tr>\n",
              "    <tr>\n",
              "      <th>1</th>\n",
              "      <td>5114</td>\n",
              "      <td>Fullmetal Alchemist: Brotherhood</td>\n",
              "      <td>Action, Adventure, Drama, Fantasy, Magic, Mili...</td>\n",
              "      <td>TV</td>\n",
              "      <td>64</td>\n",
              "      <td>9.26</td>\n",
              "      <td>793665</td>\n",
              "    </tr>\n",
              "    <tr>\n",
              "      <th>2</th>\n",
              "      <td>28977</td>\n",
              "      <td>Gintama°</td>\n",
              "      <td>Action, Comedy, Historical, Parody, Samurai, S...</td>\n",
              "      <td>TV</td>\n",
              "      <td>51</td>\n",
              "      <td>9.25</td>\n",
              "      <td>114262</td>\n",
              "    </tr>\n",
              "    <tr>\n",
              "      <th>3</th>\n",
              "      <td>9253</td>\n",
              "      <td>Steins;Gate</td>\n",
              "      <td>Sci-Fi, Thriller</td>\n",
              "      <td>TV</td>\n",
              "      <td>24</td>\n",
              "      <td>9.17</td>\n",
              "      <td>673572</td>\n",
              "    </tr>\n",
              "    <tr>\n",
              "      <th>4</th>\n",
              "      <td>9969</td>\n",
              "      <td>Gintama&amp;#039;</td>\n",
              "      <td>Action, Comedy, Historical, Parody, Samurai, S...</td>\n",
              "      <td>TV</td>\n",
              "      <td>51</td>\n",
              "      <td>9.16</td>\n",
              "      <td>151266</td>\n",
              "    </tr>\n",
              "  </tbody>\n",
              "</table>\n",
              "</div>"
            ],
            "text/plain": [
              "   anime_id                              name  ... rating members\n",
              "0     32281                    Kimi no Na wa.  ...   9.37  200630\n",
              "1      5114  Fullmetal Alchemist: Brotherhood  ...   9.26  793665\n",
              "2     28977                          Gintama°  ...   9.25  114262\n",
              "3      9253                       Steins;Gate  ...   9.17  673572\n",
              "4      9969                     Gintama&#039;  ...   9.16  151266\n",
              "\n",
              "[5 rows x 7 columns]"
            ]
          },
          "metadata": {
            "tags": []
          },
          "execution_count": 3
        }
      ]
    },
    {
      "cell_type": "code",
      "metadata": {
        "id": "CCz2v-bvnE7P",
        "colab_type": "code",
        "outputId": "9fe4d80f-4b3d-468c-a5ca-3c1048a05b78",
        "colab": {
          "base_uri": "https://localhost:8080/",
          "height": 33
        }
      },
      "source": [
        "anime_df.shape"
      ],
      "execution_count": 4,
      "outputs": [
        {
          "output_type": "execute_result",
          "data": {
            "text/plain": [
              "(12294, 7)"
            ]
          },
          "metadata": {
            "tags": []
          },
          "execution_count": 4
        }
      ]
    },
    {
      "cell_type": "code",
      "metadata": {
        "id": "Bw37JW7onE7S",
        "colab_type": "code",
        "colab": {}
      },
      "source": [
        "anime_df.dropna(inplace=True)"
      ],
      "execution_count": 0,
      "outputs": []
    },
    {
      "cell_type": "markdown",
      "metadata": {
        "id": "zRex0VC0HkT_",
        "colab_type": "text"
      },
      "source": [
        "*** There are 12,294 rows above, and need to drop any null values ***"
      ]
    },
    {
      "cell_type": "code",
      "metadata": {
        "id": "iZR714pMnE7X",
        "colab_type": "code",
        "outputId": "3e682ed3-6799-4373-b39a-da50559400e2",
        "colab": {
          "base_uri": "https://localhost:8080/",
          "height": 33
        }
      },
      "source": [
        "anime_df.shape #this seemed to have reduced it down a bit"
      ],
      "execution_count": 6,
      "outputs": [
        {
          "output_type": "execute_result",
          "data": {
            "text/plain": [
              "(12017, 7)"
            ]
          },
          "metadata": {
            "tags": []
          },
          "execution_count": 6
        }
      ]
    },
    {
      "cell_type": "markdown",
      "metadata": {
        "id": "VEuzf9T3nE7a",
        "colab_type": "text"
      },
      "source": [
        "## What each column represents: \n",
        "***anime_id: id number for each anime title***<br>\n",
        "***name:  title of the motion picture***<br>\n",
        "***genre:  category***<br>\n",
        "***type:  describes the anime into tv, movies, OVA, and 3 other categories***<br>\n",
        "***episodes: total number of episodes ***<br>\n",
        "***rating: -1-10, lowest to highest*** <br>\n",
        "***members:  number of community members that are in this anime group***<br>"
      ]
    },
    {
      "cell_type": "code",
      "metadata": {
        "scrolled": false,
        "id": "7n-5UeYcnE7b",
        "colab_type": "code",
        "outputId": "0abc9acc-e4d1-4613-d489-b832b57db01d",
        "colab": {
          "base_uri": "https://localhost:8080/",
          "height": 247
        }
      },
      "source": [
        "anime_df.info() #having a look at all of the columns and types from the above cell and current to remove \n",
        "#any unneccessary extraneous data"
      ],
      "execution_count": 7,
      "outputs": [
        {
          "output_type": "stream",
          "text": [
            "<class 'pandas.core.frame.DataFrame'>\n",
            "Int64Index: 12017 entries, 0 to 12293\n",
            "Data columns (total 7 columns):\n",
            " #   Column    Non-Null Count  Dtype  \n",
            "---  ------    --------------  -----  \n",
            " 0   anime_id  12017 non-null  int64  \n",
            " 1   name      12017 non-null  object \n",
            " 2   genre     12017 non-null  object \n",
            " 3   type      12017 non-null  object \n",
            " 4   episodes  12017 non-null  object \n",
            " 5   rating    12017 non-null  float64\n",
            " 6   members   12017 non-null  int64  \n",
            "dtypes: float64(1), int64(2), object(4)\n",
            "memory usage: 751.1+ KB\n"
          ],
          "name": "stdout"
        }
      ]
    },
    {
      "cell_type": "code",
      "metadata": {
        "id": "gurWbtWbnE7f",
        "colab_type": "code",
        "outputId": "3b39547c-21fb-412b-d75b-c3576455b29e",
        "colab": {
          "base_uri": "https://localhost:8080/",
          "height": 189
        }
      },
      "source": [
        "rating_df = pd.read_csv('./rating.csv')\n",
        "rating_df.head()"
      ],
      "execution_count": 8,
      "outputs": [
        {
          "output_type": "execute_result",
          "data": {
            "text/html": [
              "<div>\n",
              "<style scoped>\n",
              "    .dataframe tbody tr th:only-of-type {\n",
              "        vertical-align: middle;\n",
              "    }\n",
              "\n",
              "    .dataframe tbody tr th {\n",
              "        vertical-align: top;\n",
              "    }\n",
              "\n",
              "    .dataframe thead th {\n",
              "        text-align: right;\n",
              "    }\n",
              "</style>\n",
              "<table border=\"1\" class=\"dataframe\">\n",
              "  <thead>\n",
              "    <tr style=\"text-align: right;\">\n",
              "      <th></th>\n",
              "      <th>user_id</th>\n",
              "      <th>anime_id</th>\n",
              "      <th>rating</th>\n",
              "    </tr>\n",
              "  </thead>\n",
              "  <tbody>\n",
              "    <tr>\n",
              "      <th>0</th>\n",
              "      <td>1</td>\n",
              "      <td>20</td>\n",
              "      <td>-1.0</td>\n",
              "    </tr>\n",
              "    <tr>\n",
              "      <th>1</th>\n",
              "      <td>1</td>\n",
              "      <td>24</td>\n",
              "      <td>-1.0</td>\n",
              "    </tr>\n",
              "    <tr>\n",
              "      <th>2</th>\n",
              "      <td>1</td>\n",
              "      <td>79</td>\n",
              "      <td>-1.0</td>\n",
              "    </tr>\n",
              "    <tr>\n",
              "      <th>3</th>\n",
              "      <td>1</td>\n",
              "      <td>226</td>\n",
              "      <td>-1.0</td>\n",
              "    </tr>\n",
              "    <tr>\n",
              "      <th>4</th>\n",
              "      <td>1</td>\n",
              "      <td>241</td>\n",
              "      <td>-1.0</td>\n",
              "    </tr>\n",
              "  </tbody>\n",
              "</table>\n",
              "</div>"
            ],
            "text/plain": [
              "   user_id  anime_id  rating\n",
              "0        1        20    -1.0\n",
              "1        1        24    -1.0\n",
              "2        1        79    -1.0\n",
              "3        1       226    -1.0\n",
              "4        1       241    -1.0"
            ]
          },
          "metadata": {
            "tags": []
          },
          "execution_count": 8
        }
      ]
    },
    {
      "cell_type": "markdown",
      "metadata": {
        "id": "00Wv0TO6nE7i",
        "colab_type": "text"
      },
      "source": [
        "## What each column represents: \n",
        "*** user_id: non-identifiable randomly generated user id*** <br>\n",
        "*** anime_id: the anime that the user has rated *** <br>\n",
        "*** rating: rating out of 10 this user has assigned (-1 if the user watched it but didn't assign a rating) ***"
      ]
    },
    {
      "cell_type": "code",
      "metadata": {
        "id": "YRvEEgPwnE7j",
        "colab_type": "code",
        "outputId": "ecbbbdb4-ae7f-45a1-e68d-6da2d9b2130b",
        "colab": {
          "base_uri": "https://localhost:8080/",
          "height": 33
        }
      },
      "source": [
        "rating_df.shape"
      ],
      "execution_count": 9,
      "outputs": [
        {
          "output_type": "execute_result",
          "data": {
            "text/plain": [
              "(1101254, 3)"
            ]
          },
          "metadata": {
            "tags": []
          },
          "execution_count": 9
        }
      ]
    },
    {
      "cell_type": "markdown",
      "metadata": {
        "id": "zfyipvl-nE7m",
        "colab_type": "text"
      },
      "source": [
        "Need to join both datasets together, will join using anime_id then hopefully will reshuffle the dataset so that it can be transformed into something that is compatible with `surprise`. "
      ]
    },
    {
      "cell_type": "markdown",
      "metadata": {
        "id": "w5gfCqZHnE7n",
        "colab_type": "text"
      },
      "source": [
        "I will join the two dataframes by merging them so that they can correspond to the correct anime_ids"
      ]
    },
    {
      "cell_type": "code",
      "metadata": {
        "id": "lYdfiBi3nE7n",
        "colab_type": "code",
        "outputId": "29ac8044-8c3d-4b50-b764-0e7fc4bcd4fd",
        "colab": {
          "base_uri": "https://localhost:8080/",
          "height": 189
        }
      },
      "source": [
        "df_merge = pd.merge(anime_df, rating_df, on = 'anime_id')\n",
        "df_merge.head()\n",
        "# df_merge = df_row.merge(rating_df, left_on= 'anime_id', how='outer')\n",
        "# df_merge.head()"
      ],
      "execution_count": 10,
      "outputs": [
        {
          "output_type": "execute_result",
          "data": {
            "text/html": [
              "<div>\n",
              "<style scoped>\n",
              "    .dataframe tbody tr th:only-of-type {\n",
              "        vertical-align: middle;\n",
              "    }\n",
              "\n",
              "    .dataframe tbody tr th {\n",
              "        vertical-align: top;\n",
              "    }\n",
              "\n",
              "    .dataframe thead th {\n",
              "        text-align: right;\n",
              "    }\n",
              "</style>\n",
              "<table border=\"1\" class=\"dataframe\">\n",
              "  <thead>\n",
              "    <tr style=\"text-align: right;\">\n",
              "      <th></th>\n",
              "      <th>anime_id</th>\n",
              "      <th>name</th>\n",
              "      <th>genre</th>\n",
              "      <th>type</th>\n",
              "      <th>episodes</th>\n",
              "      <th>rating_x</th>\n",
              "      <th>members</th>\n",
              "      <th>user_id</th>\n",
              "      <th>rating_y</th>\n",
              "    </tr>\n",
              "  </thead>\n",
              "  <tbody>\n",
              "    <tr>\n",
              "      <th>0</th>\n",
              "      <td>32281</td>\n",
              "      <td>Kimi no Na wa.</td>\n",
              "      <td>Drama, Romance, School, Supernatural</td>\n",
              "      <td>Movie</td>\n",
              "      <td>1</td>\n",
              "      <td>9.37</td>\n",
              "      <td>200630</td>\n",
              "      <td>99</td>\n",
              "      <td>5.0</td>\n",
              "    </tr>\n",
              "    <tr>\n",
              "      <th>1</th>\n",
              "      <td>32281</td>\n",
              "      <td>Kimi no Na wa.</td>\n",
              "      <td>Drama, Romance, School, Supernatural</td>\n",
              "      <td>Movie</td>\n",
              "      <td>1</td>\n",
              "      <td>9.37</td>\n",
              "      <td>200630</td>\n",
              "      <td>152</td>\n",
              "      <td>10.0</td>\n",
              "    </tr>\n",
              "    <tr>\n",
              "      <th>2</th>\n",
              "      <td>32281</td>\n",
              "      <td>Kimi no Na wa.</td>\n",
              "      <td>Drama, Romance, School, Supernatural</td>\n",
              "      <td>Movie</td>\n",
              "      <td>1</td>\n",
              "      <td>9.37</td>\n",
              "      <td>200630</td>\n",
              "      <td>244</td>\n",
              "      <td>10.0</td>\n",
              "    </tr>\n",
              "    <tr>\n",
              "      <th>3</th>\n",
              "      <td>32281</td>\n",
              "      <td>Kimi no Na wa.</td>\n",
              "      <td>Drama, Romance, School, Supernatural</td>\n",
              "      <td>Movie</td>\n",
              "      <td>1</td>\n",
              "      <td>9.37</td>\n",
              "      <td>200630</td>\n",
              "      <td>271</td>\n",
              "      <td>10.0</td>\n",
              "    </tr>\n",
              "    <tr>\n",
              "      <th>4</th>\n",
              "      <td>32281</td>\n",
              "      <td>Kimi no Na wa.</td>\n",
              "      <td>Drama, Romance, School, Supernatural</td>\n",
              "      <td>Movie</td>\n",
              "      <td>1</td>\n",
              "      <td>9.37</td>\n",
              "      <td>200630</td>\n",
              "      <td>278</td>\n",
              "      <td>-1.0</td>\n",
              "    </tr>\n",
              "  </tbody>\n",
              "</table>\n",
              "</div>"
            ],
            "text/plain": [
              "   anime_id            name  ... user_id rating_y\n",
              "0     32281  Kimi no Na wa.  ...      99      5.0\n",
              "1     32281  Kimi no Na wa.  ...     152     10.0\n",
              "2     32281  Kimi no Na wa.  ...     244     10.0\n",
              "3     32281  Kimi no Na wa.  ...     271     10.0\n",
              "4     32281  Kimi no Na wa.  ...     278     -1.0\n",
              "\n",
              "[5 rows x 9 columns]"
            ]
          },
          "metadata": {
            "tags": []
          },
          "execution_count": 10
        }
      ]
    },
    {
      "cell_type": "code",
      "metadata": {
        "id": "Yz5pF8ipnE7r",
        "colab_type": "code",
        "outputId": "a4f81490-6dcf-4958-bab3-78ea27b937fe",
        "colab": {
          "base_uri": "https://localhost:8080/",
          "height": 33
        }
      },
      "source": [
        "df_merge.shape "
      ],
      "execution_count": 11,
      "outputs": [
        {
          "output_type": "execute_result",
          "data": {
            "text/plain": [
              "(1101240, 9)"
            ]
          },
          "metadata": {
            "tags": []
          },
          "execution_count": 11
        }
      ]
    },
    {
      "cell_type": "markdown",
      "metadata": {
        "id": "JBoqWn0YnE7u",
        "colab_type": "text"
      },
      "source": [
        "*** The data here is extremely large. Because I will be using Singular Value Decomposition (SVD) which is known to be computationally expensive I will be taking a large sample from the 7.8 million rows. Before taking a sample I will remove the -1 ratings from the dataset since these don't really count as reviews ***"
      ]
    },
    {
      "cell_type": "code",
      "metadata": {
        "id": "u9btPEKGnE7w",
        "colab_type": "code",
        "outputId": "e370cc0a-de44-4332-ad56-23d3f94306a7",
        "colab": {
          "base_uri": "https://localhost:8080/",
          "height": 33
        }
      },
      "source": [
        "df_merge.rating_x.min()"
      ],
      "execution_count": 12,
      "outputs": [
        {
          "output_type": "execute_result",
          "data": {
            "text/plain": [
              "2.0"
            ]
          },
          "metadata": {
            "tags": []
          },
          "execution_count": 12
        }
      ]
    },
    {
      "cell_type": "code",
      "metadata": {
        "id": "fnl1XOx-nE71",
        "colab_type": "code",
        "outputId": "cc915333-07c1-4e9d-b2cf-6361caba0e41",
        "colab": {
          "base_uri": "https://localhost:8080/",
          "height": 189
        }
      },
      "source": [
        "df_merge = df_merge[df_merge.rating_y != -1]\n",
        "df_merge.head()"
      ],
      "execution_count": 13,
      "outputs": [
        {
          "output_type": "execute_result",
          "data": {
            "text/html": [
              "<div>\n",
              "<style scoped>\n",
              "    .dataframe tbody tr th:only-of-type {\n",
              "        vertical-align: middle;\n",
              "    }\n",
              "\n",
              "    .dataframe tbody tr th {\n",
              "        vertical-align: top;\n",
              "    }\n",
              "\n",
              "    .dataframe thead th {\n",
              "        text-align: right;\n",
              "    }\n",
              "</style>\n",
              "<table border=\"1\" class=\"dataframe\">\n",
              "  <thead>\n",
              "    <tr style=\"text-align: right;\">\n",
              "      <th></th>\n",
              "      <th>anime_id</th>\n",
              "      <th>name</th>\n",
              "      <th>genre</th>\n",
              "      <th>type</th>\n",
              "      <th>episodes</th>\n",
              "      <th>rating_x</th>\n",
              "      <th>members</th>\n",
              "      <th>user_id</th>\n",
              "      <th>rating_y</th>\n",
              "    </tr>\n",
              "  </thead>\n",
              "  <tbody>\n",
              "    <tr>\n",
              "      <th>0</th>\n",
              "      <td>32281</td>\n",
              "      <td>Kimi no Na wa.</td>\n",
              "      <td>Drama, Romance, School, Supernatural</td>\n",
              "      <td>Movie</td>\n",
              "      <td>1</td>\n",
              "      <td>9.37</td>\n",
              "      <td>200630</td>\n",
              "      <td>99</td>\n",
              "      <td>5.0</td>\n",
              "    </tr>\n",
              "    <tr>\n",
              "      <th>1</th>\n",
              "      <td>32281</td>\n",
              "      <td>Kimi no Na wa.</td>\n",
              "      <td>Drama, Romance, School, Supernatural</td>\n",
              "      <td>Movie</td>\n",
              "      <td>1</td>\n",
              "      <td>9.37</td>\n",
              "      <td>200630</td>\n",
              "      <td>152</td>\n",
              "      <td>10.0</td>\n",
              "    </tr>\n",
              "    <tr>\n",
              "      <th>2</th>\n",
              "      <td>32281</td>\n",
              "      <td>Kimi no Na wa.</td>\n",
              "      <td>Drama, Romance, School, Supernatural</td>\n",
              "      <td>Movie</td>\n",
              "      <td>1</td>\n",
              "      <td>9.37</td>\n",
              "      <td>200630</td>\n",
              "      <td>244</td>\n",
              "      <td>10.0</td>\n",
              "    </tr>\n",
              "    <tr>\n",
              "      <th>3</th>\n",
              "      <td>32281</td>\n",
              "      <td>Kimi no Na wa.</td>\n",
              "      <td>Drama, Romance, School, Supernatural</td>\n",
              "      <td>Movie</td>\n",
              "      <td>1</td>\n",
              "      <td>9.37</td>\n",
              "      <td>200630</td>\n",
              "      <td>271</td>\n",
              "      <td>10.0</td>\n",
              "    </tr>\n",
              "    <tr>\n",
              "      <th>5</th>\n",
              "      <td>32281</td>\n",
              "      <td>Kimi no Na wa.</td>\n",
              "      <td>Drama, Romance, School, Supernatural</td>\n",
              "      <td>Movie</td>\n",
              "      <td>1</td>\n",
              "      <td>9.37</td>\n",
              "      <td>200630</td>\n",
              "      <td>322</td>\n",
              "      <td>10.0</td>\n",
              "    </tr>\n",
              "  </tbody>\n",
              "</table>\n",
              "</div>"
            ],
            "text/plain": [
              "   anime_id            name  ... user_id rating_y\n",
              "0     32281  Kimi no Na wa.  ...      99      5.0\n",
              "1     32281  Kimi no Na wa.  ...     152     10.0\n",
              "2     32281  Kimi no Na wa.  ...     244     10.0\n",
              "3     32281  Kimi no Na wa.  ...     271     10.0\n",
              "5     32281  Kimi no Na wa.  ...     322     10.0\n",
              "\n",
              "[5 rows x 9 columns]"
            ]
          },
          "metadata": {
            "tags": []
          },
          "execution_count": 13
        }
      ]
    },
    {
      "cell_type": "code",
      "metadata": {
        "id": "yitglC3mnE74",
        "colab_type": "code",
        "outputId": "151c831e-cc98-437e-d178-806d8bc79bad",
        "colab": {
          "base_uri": "https://localhost:8080/",
          "height": 33
        }
      },
      "source": [
        "df_merge.shape #have removed over 1 million rows"
      ],
      "execution_count": 14,
      "outputs": [
        {
          "output_type": "execute_result",
          "data": {
            "text/plain": [
              "(898452, 9)"
            ]
          },
          "metadata": {
            "tags": []
          },
          "execution_count": 14
        }
      ]
    },
    {
      "cell_type": "code",
      "metadata": {
        "id": "y24yLQ0unE77",
        "colab_type": "code",
        "outputId": "905b1d5d-7edd-403b-d522-8581e0b6a430",
        "colab": {
          "base_uri": "https://localhost:8080/",
          "height": 33
        }
      },
      "source": [
        "sample = df_merge.sample(frac=.25)\n",
        "sample.shape # this is still too large"
      ],
      "execution_count": 15,
      "outputs": [
        {
          "output_type": "execute_result",
          "data": {
            "text/plain": [
              "(224613, 9)"
            ]
          },
          "metadata": {
            "tags": []
          },
          "execution_count": 15
        }
      ]
    },
    {
      "cell_type": "code",
      "metadata": {
        "id": "Grn2w_aMnE79",
        "colab_type": "code",
        "outputId": "5f765a17-c969-4a68-c6ba-912a3d83e4cb",
        "colab": {
          "base_uri": "https://localhost:8080/",
          "height": 33
        }
      },
      "source": [
        "sample = df_merge.sample(n=5000)\n",
        "sample.shape #below I conduct SVD and it cannot handle anything larger than 5000 (i've tried)"
      ],
      "execution_count": 16,
      "outputs": [
        {
          "output_type": "execute_result",
          "data": {
            "text/plain": [
              "(5000, 9)"
            ]
          },
          "metadata": {
            "tags": []
          },
          "execution_count": 16
        }
      ]
    },
    {
      "cell_type": "markdown",
      "metadata": {
        "id": "g8zOlE5OnE8B",
        "colab_type": "text"
      },
      "source": [
        "###It seems that the rating dataframe is based on each user and their individual rating for each anime id, whereas the anime dataframe is an average overall rating from all of its viewers.  "
      ]
    },
    {
      "cell_type": "code",
      "metadata": {
        "id": "L7UMnckMnE8B",
        "colab_type": "code",
        "outputId": "142de152-7753-432c-ce5c-48d9fe59a0ed",
        "colab": {
          "base_uri": "https://localhost:8080/",
          "height": 396
        }
      },
      "source": [
        "#we are going to look at how many times each rating appears in a column\n",
        "ratings_x = sample['rating_x'].value_counts() #continuous \n",
        "ratings_y = sample['rating_y'].value_counts() #discrete\n",
        "\n",
        "print(ratings_x)\n",
        "print(ratings_y)"
      ],
      "execution_count": 17,
      "outputs": [
        {
          "output_type": "stream",
          "text": [
            "8.17    70\n",
            "8.06    64\n",
            "7.95    61\n",
            "7.81    58\n",
            "7.88    55\n",
            "        ..\n",
            "5.16     1\n",
            "6.03     1\n",
            "9.11     1\n",
            "2.37     1\n",
            "5.99     1\n",
            "Name: rating_x, Length: 327, dtype: int64\n",
            "8.0     1314\n",
            "7.0     1139\n",
            "9.0      954\n",
            "10.0     700\n",
            "6.0      540\n",
            "5.0      197\n",
            "4.0       97\n",
            "3.0       35\n",
            "1.0       13\n",
            "2.0       11\n",
            "Name: rating_y, dtype: int64\n"
          ],
          "name": "stdout"
        }
      ]
    },
    {
      "cell_type": "code",
      "metadata": {
        "id": "-Ql1kmgLbhig",
        "colab_type": "code",
        "outputId": "8ac7ce1a-bb88-4b3a-fdc7-9edd7e39fb3e",
        "colab": {
          "base_uri": "https://localhost:8080/",
          "height": 189
        }
      },
      "source": [
        "sample.rating_x = sample.rating_x.apply(round) #another important feature i have had to add is making all ratings discrete for SVD\n",
        "sample.head()"
      ],
      "execution_count": 18,
      "outputs": [
        {
          "output_type": "execute_result",
          "data": {
            "text/html": [
              "<div>\n",
              "<style scoped>\n",
              "    .dataframe tbody tr th:only-of-type {\n",
              "        vertical-align: middle;\n",
              "    }\n",
              "\n",
              "    .dataframe tbody tr th {\n",
              "        vertical-align: top;\n",
              "    }\n",
              "\n",
              "    .dataframe thead th {\n",
              "        text-align: right;\n",
              "    }\n",
              "</style>\n",
              "<table border=\"1\" class=\"dataframe\">\n",
              "  <thead>\n",
              "    <tr style=\"text-align: right;\">\n",
              "      <th></th>\n",
              "      <th>anime_id</th>\n",
              "      <th>name</th>\n",
              "      <th>genre</th>\n",
              "      <th>type</th>\n",
              "      <th>episodes</th>\n",
              "      <th>rating_x</th>\n",
              "      <th>members</th>\n",
              "      <th>user_id</th>\n",
              "      <th>rating_y</th>\n",
              "    </tr>\n",
              "  </thead>\n",
              "  <tbody>\n",
              "    <tr>\n",
              "      <th>634849</th>\n",
              "      <td>19221</td>\n",
              "      <td>Ore no Nounai Sentakushi ga, Gakuen Love Comed...</td>\n",
              "      <td>Comedy, Romance, School</td>\n",
              "      <td>TV</td>\n",
              "      <td>10</td>\n",
              "      <td>8</td>\n",
              "      <td>179569</td>\n",
              "      <td>9949</td>\n",
              "      <td>7.0</td>\n",
              "    </tr>\n",
              "    <tr>\n",
              "      <th>661795</th>\n",
              "      <td>11179</td>\n",
              "      <td>Papa no Iukoto wo Kikinasai!</td>\n",
              "      <td>Comedy, Romance, Slice of Life</td>\n",
              "      <td>TV</td>\n",
              "      <td>12</td>\n",
              "      <td>8</td>\n",
              "      <td>97674</td>\n",
              "      <td>5527</td>\n",
              "      <td>8.0</td>\n",
              "    </tr>\n",
              "    <tr>\n",
              "      <th>593996</th>\n",
              "      <td>31297</td>\n",
              "      <td>Tokyo Ghoul: &amp;quot;Pinto&amp;quot;</td>\n",
              "      <td>Action, Drama, Horror, Mystery, Psychological,...</td>\n",
              "      <td>OVA</td>\n",
              "      <td>1</td>\n",
              "      <td>8</td>\n",
              "      <td>52312</td>\n",
              "      <td>573</td>\n",
              "      <td>8.0</td>\n",
              "    </tr>\n",
              "    <tr>\n",
              "      <th>1002517</th>\n",
              "      <td>225</td>\n",
              "      <td>Dragon Ball GT</td>\n",
              "      <td>Action, Adventure, Comedy, Fantasy, Magic, Sci...</td>\n",
              "      <td>TV</td>\n",
              "      <td>64</td>\n",
              "      <td>7</td>\n",
              "      <td>226625</td>\n",
              "      <td>3762</td>\n",
              "      <td>8.0</td>\n",
              "    </tr>\n",
              "    <tr>\n",
              "      <th>200257</th>\n",
              "      <td>4477</td>\n",
              "      <td>Nodame Cantabile: Paris-hen</td>\n",
              "      <td>Comedy, Josei, Music, Romance, Slice of Life</td>\n",
              "      <td>TV</td>\n",
              "      <td>11</td>\n",
              "      <td>8</td>\n",
              "      <td>70822</td>\n",
              "      <td>7677</td>\n",
              "      <td>8.0</td>\n",
              "    </tr>\n",
              "  </tbody>\n",
              "</table>\n",
              "</div>"
            ],
            "text/plain": [
              "         anime_id  ... rating_y\n",
              "634849      19221  ...      7.0\n",
              "661795      11179  ...      8.0\n",
              "593996      31297  ...      8.0\n",
              "1002517       225  ...      8.0\n",
              "200257       4477  ...      8.0\n",
              "\n",
              "[5 rows x 9 columns]"
            ]
          },
          "metadata": {
            "tags": []
          },
          "execution_count": 18
        }
      ]
    },
    {
      "cell_type": "markdown",
      "metadata": {
        "id": "mgbPY3xPnE8E",
        "colab_type": "text"
      },
      "source": [
        "## Distribution of User Ratings"
      ]
    },
    {
      "cell_type": "code",
      "metadata": {
        "id": "IA2yxK1WnE8F",
        "colab_type": "code",
        "outputId": "db9bb93d-23d1-48b1-ee78-9f2038162998",
        "colab": {
          "base_uri": "https://localhost:8080/",
          "height": 295
        }
      },
      "source": [
        "# plot distribution in matplotlib\n",
        "ratings_sorted = sorted(list(zip(ratings_y.index, ratings_y)))\n",
        "plt.bar([r[0] for r in ratings_sorted], [r[1] for r in ratings_sorted], color='cyan')\n",
        "plt.xlabel(\"Rating\")\n",
        "plt.ylabel(\"# of Ratings\")\n",
        "plt.title(\"Distribution of Ratings\")\n",
        "plt.show()"
      ],
      "execution_count": 19,
      "outputs": [
        {
          "output_type": "display_data",
          "data": {
            "image/png": "[encoded data removed]",
            "text/plain": [
              "<Figure size 432x288 with 1 Axes>"
            ]
          },
          "metadata": {
            "tags": [],
            "needs_background": "light"
          }
        }
      ]
    },
    {
      "cell_type": "code",
      "metadata": {
        "id": "ZnsGfxacnE8I",
        "colab_type": "code",
        "outputId": "b8e84271-7350-4a58-84ce-882e7e91486d",
        "colab": {
          "base_uri": "https://localhost:8080/",
          "height": 49
        }
      },
      "source": [
        "#number of users\n",
        "print(\"Number of Users:\", df_merge.user_id.nunique())\n",
        "# print(\"Average Number of Reviews per User:\", df_merge.shape[0])/df_merge.user_id.nunique()\n",
        "avg_rate_peruser = df_merge.shape[0]\n",
        "user = df_merge.user_id.nunique()\n",
        "avg_num_review_per_user = avg_rate_peruser/user\n",
        "print(\"Average Number of Reveiws per User:\", avg_num_review_per_user)"
      ],
      "execution_count": 20,
      "outputs": [
        {
          "output_type": "stream",
          "text": [
            "Number of Users: 10003\n",
            "Average Number of Reveiws per User: 89.8182545236429\n"
          ],
          "name": "stdout"
        }
      ]
    },
    {
      "cell_type": "code",
      "metadata": {
        "id": "qu-u8fNFnE8K",
        "colab_type": "code",
        "outputId": "3a719c60-3d45-4ca5-c1ad-bad74c78b828",
        "colab": {
          "base_uri": "https://localhost:8080/",
          "height": 214
        }
      },
      "source": [
        "sample['user_id'].value_counts()"
      ],
      "execution_count": 21,
      "outputs": [
        {
          "output_type": "execute_result",
          "data": {
            "text/plain": [
              "7345    13\n",
              "6474    11\n",
              "8820    11\n",
              "6162    11\n",
              "7247     9\n",
              "        ..\n",
              "2903     1\n",
              "4952     1\n",
              "9050     1\n",
              "7009     1\n",
              "8274     1\n",
              "Name: user_id, Length: 2950, dtype: int64"
            ]
          },
          "metadata": {
            "tags": []
          },
          "execution_count": 21
        }
      ]
    },
    {
      "cell_type": "markdown",
      "metadata": {
        "id": "8d116UGcnE8O",
        "colab_type": "text"
      },
      "source": [
        "## Number of Reviews per User"
      ]
    },
    {
      "cell_type": "code",
      "metadata": {
        "id": "S_mG1r4wnE8O",
        "colab_type": "code",
        "outputId": "fca2699b-4003-412a-873e-668ff955e688",
        "colab": {
          "base_uri": "https://localhost:8080/",
          "height": 295
        }
      },
      "source": [
        "ratings_per_user = sample['user_id'].value_counts()\n",
        "ratings_per_user = sorted(list(zip(ratings_per_user.index, ratings_per_user)))\n",
        "plt.bar([r[0] for r in ratings_per_user], [r[1] for r in ratings_per_user], color='pink')\n",
        "plt.xlabel('User IDs')\n",
        "plt.ylabel('# of Reviews')\n",
        "plt.title('Number of Reviews per User')\n",
        "plt.show()"
      ],
      "execution_count": 22,
      "outputs": [
        {
          "output_type": "display_data",
          "data": {
            "image/png": "[encoded data removed]",
            "text/plain": [
              "<Figure size 432x288 with 1 Axes>"
            ]
          },
          "metadata": {
            "tags": [],
            "needs_background": "light"
          }
        }
      ]
    },
    {
      "cell_type": "code",
      "metadata": {
        "id": "Mk9oNKXOnE8R",
        "colab_type": "code",
        "colab": {}
      },
      "source": [
        "#graph on user ratings, what are the most common scores given "
      ],
      "execution_count": 0,
      "outputs": []
    },
    {
      "cell_type": "markdown",
      "metadata": {
        "id": "hxCnhlSmnE8T",
        "colab_type": "text"
      },
      "source": [
        "## Different types of anime videos"
      ]
    },
    {
      "cell_type": "code",
      "metadata": {
        "id": "bFHb0hWgnE8U",
        "colab_type": "code",
        "outputId": "41c5f731-acc7-4dc3-cfcf-c778ae2639c2",
        "colab": {
          "base_uri": "https://localhost:8080/",
          "height": 165
        }
      },
      "source": [
        "print(\"Number of users:\", sample.user_id.nunique())\n",
        "print(\"Number of types of different anime:\", sample.type.nunique())\n",
        "print(\"Types of type:\", sample.type.value_counts())"
      ],
      "execution_count": 24,
      "outputs": [
        {
          "output_type": "stream",
          "text": [
            "Number of users: 2950\n",
            "Number of types of different anime: 6\n",
            "Types of type: TV         3453\n",
            "Movie       689\n",
            "OVA         456\n",
            "Special     329\n",
            "ONA          54\n",
            "Music        19\n",
            "Name: type, dtype: int64\n"
          ],
          "name": "stdout"
        }
      ]
    },
    {
      "cell_type": "markdown",
      "metadata": {
        "id": "496-cXfEnE8W",
        "colab_type": "text"
      },
      "source": [
        "This means that there are six different categories for anime: <br>\n",
        "Movies, TV, OVA, Special, ONA and Music. <br>\n",
        "***OVA stands for orginal animation video, this has been released directly to the video market <br>\n",
        "Special is not a common occuring video, it is usually shot yearly or on a one off <br>\n",
        "Music is not just audio here, but a lively animated motion picture to go with the composed music piece ***"
      ]
    },
    {
      "cell_type": "code",
      "metadata": {
        "id": "lOjLNTOCnE8X",
        "colab_type": "code",
        "outputId": "27aaf241-26c1-452a-a6bd-004ddd749aae",
        "colab": {
          "base_uri": "https://localhost:8080/",
          "height": 388
        }
      },
      "source": [
        "sample_of_sample = sample[:100] #taking a sample to see if its the amount of data or its the command given\n",
        "sample_of_sample"
      ],
      "execution_count": 25,
      "outputs": [
        {
          "output_type": "execute_result",
          "data": {
            "text/html": [
              "<div>\n",
              "<style scoped>\n",
              "    .dataframe tbody tr th:only-of-type {\n",
              "        vertical-align: middle;\n",
              "    }\n",
              "\n",
              "    .dataframe tbody tr th {\n",
              "        vertical-align: top;\n",
              "    }\n",
              "\n",
              "    .dataframe thead th {\n",
              "        text-align: right;\n",
              "    }\n",
              "</style>\n",
              "<table border=\"1\" class=\"dataframe\">\n",
              "  <thead>\n",
              "    <tr style=\"text-align: right;\">\n",
              "      <th></th>\n",
              "      <th>anime_id</th>\n",
              "      <th>name</th>\n",
              "      <th>genre</th>\n",
              "      <th>type</th>\n",
              "      <th>episodes</th>\n",
              "      <th>rating_x</th>\n",
              "      <th>members</th>\n",
              "      <th>user_id</th>\n",
              "      <th>rating_y</th>\n",
              "    </tr>\n",
              "  </thead>\n",
              "  <tbody>\n",
              "    <tr>\n",
              "      <th>634849</th>\n",
              "      <td>19221</td>\n",
              "      <td>Ore no Nounai Sentakushi ga, Gakuen Love Comed...</td>\n",
              "      <td>Comedy, Romance, School</td>\n",
              "      <td>TV</td>\n",
              "      <td>10</td>\n",
              "      <td>8</td>\n",
              "      <td>179569</td>\n",
              "      <td>9949</td>\n",
              "      <td>7.0</td>\n",
              "    </tr>\n",
              "    <tr>\n",
              "      <th>661795</th>\n",
              "      <td>11179</td>\n",
              "      <td>Papa no Iukoto wo Kikinasai!</td>\n",
              "      <td>Comedy, Romance, Slice of Life</td>\n",
              "      <td>TV</td>\n",
              "      <td>12</td>\n",
              "      <td>8</td>\n",
              "      <td>97674</td>\n",
              "      <td>5527</td>\n",
              "      <td>8.0</td>\n",
              "    </tr>\n",
              "    <tr>\n",
              "      <th>593996</th>\n",
              "      <td>31297</td>\n",
              "      <td>Tokyo Ghoul: &amp;quot;Pinto&amp;quot;</td>\n",
              "      <td>Action, Drama, Horror, Mystery, Psychological,...</td>\n",
              "      <td>OVA</td>\n",
              "      <td>1</td>\n",
              "      <td>8</td>\n",
              "      <td>52312</td>\n",
              "      <td>573</td>\n",
              "      <td>8.0</td>\n",
              "    </tr>\n",
              "    <tr>\n",
              "      <th>1002517</th>\n",
              "      <td>225</td>\n",
              "      <td>Dragon Ball GT</td>\n",
              "      <td>Action, Adventure, Comedy, Fantasy, Magic, Sci...</td>\n",
              "      <td>TV</td>\n",
              "      <td>64</td>\n",
              "      <td>7</td>\n",
              "      <td>226625</td>\n",
              "      <td>3762</td>\n",
              "      <td>8.0</td>\n",
              "    </tr>\n",
              "    <tr>\n",
              "      <th>200257</th>\n",
              "      <td>4477</td>\n",
              "      <td>Nodame Cantabile: Paris-hen</td>\n",
              "      <td>Comedy, Josei, Music, Romance, Slice of Life</td>\n",
              "      <td>TV</td>\n",
              "      <td>11</td>\n",
              "      <td>8</td>\n",
              "      <td>70822</td>\n",
              "      <td>7677</td>\n",
              "      <td>8.0</td>\n",
              "    </tr>\n",
              "    <tr>\n",
              "      <th>...</th>\n",
              "      <td>...</td>\n",
              "      <td>...</td>\n",
              "      <td>...</td>\n",
              "      <td>...</td>\n",
              "      <td>...</td>\n",
              "      <td>...</td>\n",
              "      <td>...</td>\n",
              "      <td>...</td>\n",
              "      <td>...</td>\n",
              "    </tr>\n",
              "    <tr>\n",
              "      <th>195505</th>\n",
              "      <td>6467</td>\n",
              "      <td>Detective Conan Movie 14: The Lost Ship in the...</td>\n",
              "      <td>Action, Mystery, Police, Shounen</td>\n",
              "      <td>Movie</td>\n",
              "      <td>1</td>\n",
              "      <td>8</td>\n",
              "      <td>20602</td>\n",
              "      <td>5985</td>\n",
              "      <td>10.0</td>\n",
              "    </tr>\n",
              "    <tr>\n",
              "      <th>801342</th>\n",
              "      <td>79</td>\n",
              "      <td>Shuffle!</td>\n",
              "      <td>Comedy, Drama, Ecchi, Fantasy, Harem, Magic, R...</td>\n",
              "      <td>TV</td>\n",
              "      <td>24</td>\n",
              "      <td>7</td>\n",
              "      <td>158772</td>\n",
              "      <td>4177</td>\n",
              "      <td>7.0</td>\n",
              "    </tr>\n",
              "    <tr>\n",
              "      <th>276381</th>\n",
              "      <td>27831</td>\n",
              "      <td>Durarara!!x2 Ten</td>\n",
              "      <td>Action, Mystery, Supernatural</td>\n",
              "      <td>TV</td>\n",
              "      <td>12</td>\n",
              "      <td>8</td>\n",
              "      <td>132506</td>\n",
              "      <td>7440</td>\n",
              "      <td>9.0</td>\n",
              "    </tr>\n",
              "    <tr>\n",
              "      <th>143246</th>\n",
              "      <td>6547</td>\n",
              "      <td>Angel Beats!</td>\n",
              "      <td>Action, Comedy, Drama, School, Supernatural</td>\n",
              "      <td>TV</td>\n",
              "      <td>13</td>\n",
              "      <td>8</td>\n",
              "      <td>717796</td>\n",
              "      <td>3603</td>\n",
              "      <td>9.0</td>\n",
              "    </tr>\n",
              "    <tr>\n",
              "      <th>190256</th>\n",
              "      <td>2167</td>\n",
              "      <td>Clannad</td>\n",
              "      <td>Comedy, Drama, Romance, School, Slice of Life,...</td>\n",
              "      <td>TV</td>\n",
              "      <td>23</td>\n",
              "      <td>8</td>\n",
              "      <td>566690</td>\n",
              "      <td>2422</td>\n",
              "      <td>6.0</td>\n",
              "    </tr>\n",
              "  </tbody>\n",
              "</table>\n",
              "<p>100 rows × 9 columns</p>\n",
              "</div>"
            ],
            "text/plain": [
              "         anime_id  ... rating_y\n",
              "634849      19221  ...      7.0\n",
              "661795      11179  ...      8.0\n",
              "593996      31297  ...      8.0\n",
              "1002517       225  ...      8.0\n",
              "200257       4477  ...      8.0\n",
              "...           ...  ...      ...\n",
              "195505       6467  ...     10.0\n",
              "801342         79  ...      7.0\n",
              "276381      27831  ...      9.0\n",
              "143246       6547  ...      9.0\n",
              "190256       2167  ...      6.0\n",
              "\n",
              "[100 rows x 9 columns]"
            ]
          },
          "metadata": {
            "tags": []
          },
          "execution_count": 25
        }
      ]
    },
    {
      "cell_type": "code",
      "metadata": {
        "id": "E3BluncInE8b",
        "colab_type": "code",
        "outputId": "a8285812-21ac-46bd-ffcb-68be414b44eb",
        "colab": {
          "base_uri": "https://localhost:8080/",
          "height": 388
        }
      },
      "source": [
        "sample.loc[sample['type'] == 'Movie']"
      ],
      "execution_count": 26,
      "outputs": [
        {
          "output_type": "execute_result",
          "data": {
            "text/html": [
              "<div>\n",
              "<style scoped>\n",
              "    .dataframe tbody tr th:only-of-type {\n",
              "        vertical-align: middle;\n",
              "    }\n",
              "\n",
              "    .dataframe tbody tr th {\n",
              "        vertical-align: top;\n",
              "    }\n",
              "\n",
              "    .dataframe thead th {\n",
              "        text-align: right;\n",
              "    }\n",
              "</style>\n",
              "<table border=\"1\" class=\"dataframe\">\n",
              "  <thead>\n",
              "    <tr style=\"text-align: right;\">\n",
              "      <th></th>\n",
              "      <th>anime_id</th>\n",
              "      <th>name</th>\n",
              "      <th>genre</th>\n",
              "      <th>type</th>\n",
              "      <th>episodes</th>\n",
              "      <th>rating_x</th>\n",
              "      <th>members</th>\n",
              "      <th>user_id</th>\n",
              "      <th>rating_y</th>\n",
              "    </tr>\n",
              "  </thead>\n",
              "  <tbody>\n",
              "    <tr>\n",
              "      <th>119196</th>\n",
              "      <td>32</td>\n",
              "      <td>Neon Genesis Evangelion: The End of Evangelion</td>\n",
              "      <td>Dementia, Drama, Mecha, Psychological, Sci-Fi</td>\n",
              "      <td>Movie</td>\n",
              "      <td>1</td>\n",
              "      <td>8</td>\n",
              "      <td>215630</td>\n",
              "      <td>5388</td>\n",
              "      <td>7.0</td>\n",
              "    </tr>\n",
              "    <tr>\n",
              "      <th>127467</th>\n",
              "      <td>2418</td>\n",
              "      <td>Stranger: Mukou Hadan</td>\n",
              "      <td>Action, Adventure, Historical, Samurai</td>\n",
              "      <td>Movie</td>\n",
              "      <td>1</td>\n",
              "      <td>8</td>\n",
              "      <td>125503</td>\n",
              "      <td>5404</td>\n",
              "      <td>10.0</td>\n",
              "    </tr>\n",
              "    <tr>\n",
              "      <th>164454</th>\n",
              "      <td>16782</td>\n",
              "      <td>Kotonoha no Niwa</td>\n",
              "      <td>Drama, Psychological, Romance, Slice of Life</td>\n",
              "      <td>Movie</td>\n",
              "      <td>1</td>\n",
              "      <td>8</td>\n",
              "      <td>189741</td>\n",
              "      <td>2555</td>\n",
              "      <td>8.0</td>\n",
              "    </tr>\n",
              "    <tr>\n",
              "      <th>721297</th>\n",
              "      <td>4437</td>\n",
              "      <td>Naruto: Shippuuden Movie 2 - Kizuna</td>\n",
              "      <td>Action, Martial Arts, Shounen, Supernatural</td>\n",
              "      <td>Movie</td>\n",
              "      <td>1</td>\n",
              "      <td>7</td>\n",
              "      <td>97818</td>\n",
              "      <td>4102</td>\n",
              "      <td>6.0</td>\n",
              "    </tr>\n",
              "    <tr>\n",
              "      <th>263867</th>\n",
              "      <td>47</td>\n",
              "      <td>Akira</td>\n",
              "      <td>Action, Adventure, Horror, Military, Sci-Fi, S...</td>\n",
              "      <td>Movie</td>\n",
              "      <td>1</td>\n",
              "      <td>8</td>\n",
              "      <td>215897</td>\n",
              "      <td>6866</td>\n",
              "      <td>7.0</td>\n",
              "    </tr>\n",
              "    <tr>\n",
              "      <th>...</th>\n",
              "      <td>...</td>\n",
              "      <td>...</td>\n",
              "      <td>...</td>\n",
              "      <td>...</td>\n",
              "      <td>...</td>\n",
              "      <td>...</td>\n",
              "      <td>...</td>\n",
              "      <td>...</td>\n",
              "      <td>...</td>\n",
              "    </tr>\n",
              "    <tr>\n",
              "      <th>164438</th>\n",
              "      <td>16782</td>\n",
              "      <td>Kotonoha no Niwa</td>\n",
              "      <td>Drama, Psychological, Romance, Slice of Life</td>\n",
              "      <td>Movie</td>\n",
              "      <td>1</td>\n",
              "      <td>8</td>\n",
              "      <td>189741</td>\n",
              "      <td>2328</td>\n",
              "      <td>9.0</td>\n",
              "    </tr>\n",
              "    <tr>\n",
              "      <th>505532</th>\n",
              "      <td>430</td>\n",
              "      <td>Fullmetal Alchemist: The Conqueror of Shamballa</td>\n",
              "      <td>Comedy, Drama, Fantasy, Historical, Military, ...</td>\n",
              "      <td>Movie</td>\n",
              "      <td>1</td>\n",
              "      <td>8</td>\n",
              "      <td>186465</td>\n",
              "      <td>7040</td>\n",
              "      <td>6.0</td>\n",
              "    </tr>\n",
              "    <tr>\n",
              "      <th>498933</th>\n",
              "      <td>8247</td>\n",
              "      <td>Bleach Movie 4: Jigoku-hen</td>\n",
              "      <td>Action, Comedy, Shounen, Super Power, Supernat...</td>\n",
              "      <td>Movie</td>\n",
              "      <td>1</td>\n",
              "      <td>8</td>\n",
              "      <td>94074</td>\n",
              "      <td>1808</td>\n",
              "      <td>10.0</td>\n",
              "    </tr>\n",
              "    <tr>\n",
              "      <th>224009</th>\n",
              "      <td>437</td>\n",
              "      <td>Perfect Blue</td>\n",
              "      <td>Dementia, Drama, Horror, Psychological</td>\n",
              "      <td>Movie</td>\n",
              "      <td>1</td>\n",
              "      <td>8</td>\n",
              "      <td>117565</td>\n",
              "      <td>7230</td>\n",
              "      <td>8.0</td>\n",
              "    </tr>\n",
              "    <tr>\n",
              "      <th>493553</th>\n",
              "      <td>1301</td>\n",
              "      <td>Ginga Tetsudou 999 (Movie)</td>\n",
              "      <td>Adventure, Drama, Fantasy, Sci-Fi, Space</td>\n",
              "      <td>Movie</td>\n",
              "      <td>1</td>\n",
              "      <td>8</td>\n",
              "      <td>7237</td>\n",
              "      <td>6773</td>\n",
              "      <td>10.0</td>\n",
              "    </tr>\n",
              "  </tbody>\n",
              "</table>\n",
              "<p>689 rows × 9 columns</p>\n",
              "</div>"
            ],
            "text/plain": [
              "        anime_id  ... rating_y\n",
              "119196        32  ...      7.0\n",
              "127467      2418  ...     10.0\n",
              "164454     16782  ...      8.0\n",
              "721297      4437  ...      6.0\n",
              "263867        47  ...      7.0\n",
              "...          ...  ...      ...\n",
              "164438     16782  ...      9.0\n",
              "505532       430  ...      6.0\n",
              "498933      8247  ...     10.0\n",
              "224009       437  ...      8.0\n",
              "493553      1301  ...     10.0\n",
              "\n",
              "[689 rows x 9 columns]"
            ]
          },
          "metadata": {
            "tags": []
          },
          "execution_count": 26
        }
      ]
    },
    {
      "cell_type": "code",
      "metadata": {
        "id": "HBuoD77PnE8e",
        "colab_type": "code",
        "outputId": "2d6f8fbd-bf7b-494a-e3fd-2c4834965ff1",
        "colab": {
          "base_uri": "https://localhost:8080/",
          "height": 33
        }
      },
      "source": [
        "len(sample.loc[sample['type'] == 'TV']) #How many tv shows there are in the dataframe"
      ],
      "execution_count": 27,
      "outputs": [
        {
          "output_type": "execute_result",
          "data": {
            "text/plain": [
              "3453"
            ]
          },
          "metadata": {
            "tags": []
          },
          "execution_count": 27
        }
      ]
    },
    {
      "cell_type": "code",
      "metadata": {
        "id": "RCsbBlBWnE8h",
        "colab_type": "code",
        "outputId": "f1520194-5338-4644-d662-c002df0ce325",
        "colab": {
          "base_uri": "https://localhost:8080/",
          "height": 33
        }
      },
      "source": [
        "len(sample.loc[sample['type'] == 'Movie'])"
      ],
      "execution_count": 28,
      "outputs": [
        {
          "output_type": "execute_result",
          "data": {
            "text/plain": [
              "689"
            ]
          },
          "metadata": {
            "tags": []
          },
          "execution_count": 28
        }
      ]
    },
    {
      "cell_type": "code",
      "metadata": {
        "id": "T6Of1OZFnE8j",
        "colab_type": "code",
        "outputId": "32d74b29-79ec-47dd-bf17-ce3b97ffb799",
        "colab": {
          "base_uri": "https://localhost:8080/",
          "height": 115
        }
      },
      "source": [
        "sample.loc[sample['type'] == 'Movie'].rating_x.value_counts() #Viewer ratings for films "
      ],
      "execution_count": 29,
      "outputs": [
        {
          "output_type": "execute_result",
          "data": {
            "text/plain": [
              "8    399\n",
              "7    178\n",
              "9    100\n",
              "6     11\n",
              "5      1\n",
              "Name: rating_x, dtype: int64"
            ]
          },
          "metadata": {
            "tags": []
          },
          "execution_count": 29
        }
      ]
    },
    {
      "cell_type": "code",
      "metadata": {
        "id": "JeYYpdY9nE8l",
        "colab_type": "code",
        "outputId": "5c24fae0-2d4c-48b0-b4d6-6cdd95e0038b",
        "colab": {
          "base_uri": "https://localhost:8080/",
          "height": 181
        }
      },
      "source": [
        "sample.loc[sample['type'] == 'Movie'].rating_y.value_counts() #Viewer ratings for films "
      ],
      "execution_count": 30,
      "outputs": [
        {
          "output_type": "execute_result",
          "data": {
            "text/plain": [
              "8.0     168\n",
              "7.0     140\n",
              "10.0    129\n",
              "9.0     125\n",
              "6.0      95\n",
              "5.0      17\n",
              "4.0      12\n",
              "1.0       2\n",
              "2.0       1\n",
              "Name: rating_y, dtype: int64"
            ]
          },
          "metadata": {
            "tags": []
          },
          "execution_count": 30
        }
      ]
    },
    {
      "cell_type": "markdown",
      "metadata": {
        "id": "n3Gju4rDnE8q",
        "colab_type": "text"
      },
      "source": [
        "***drop rows containing -1 as rating in df_merge ***\n",
        "could be that I have an approximation error "
      ]
    },
    {
      "cell_type": "markdown",
      "metadata": {
        "id": "oikzkDXQnE8r",
        "colab_type": "text"
      },
      "source": [
        "*** Look at min ratings in rating_x *** if its a rating error, we would recreate y based off of x. (round to a whole number) *** 0 decimal places"
      ]
    },
    {
      "cell_type": "markdown",
      "metadata": {
        "id": "XN1Ik_xLnE8r",
        "colab_type": "text"
      },
      "source": [
        "## Most Reviewed Videos"
      ]
    },
    {
      "cell_type": "code",
      "metadata": {
        "id": "8tFo4Wz8nE8r",
        "colab_type": "code",
        "outputId": "0836ce5b-3068-49b7-88fd-b4d8d15cf39e",
        "colab": {
          "base_uri": "https://localhost:8080/",
          "height": 33
        }
      },
      "source": [
        "movies_review = len(sample.loc[sample['type'] == 'Movie'])\n",
        "movies_review"
      ],
      "execution_count": 31,
      "outputs": [
        {
          "output_type": "execute_result",
          "data": {
            "text/plain": [
              "689"
            ]
          },
          "metadata": {
            "tags": []
          },
          "execution_count": 31
        }
      ]
    },
    {
      "cell_type": "code",
      "metadata": {
        "id": "e_3-JZXEnE8z",
        "colab_type": "code",
        "outputId": "57593be6-bc2c-4d23-8a35-c711448729ea",
        "colab": {
          "base_uri": "https://localhost:8080/",
          "height": 33
        }
      },
      "source": [
        "tv_reviews = len(sample.loc[sample['type'] == 'TV'])\n",
        "tv_reviews"
      ],
      "execution_count": 32,
      "outputs": [
        {
          "output_type": "execute_result",
          "data": {
            "text/plain": [
              "3453"
            ]
          },
          "metadata": {
            "tags": []
          },
          "execution_count": 32
        }
      ]
    },
    {
      "cell_type": "code",
      "metadata": {
        "id": "vIr4oAyAnE82",
        "colab_type": "code",
        "outputId": "400bfd24-f627-4222-f512-8aacb5300a38",
        "colab": {
          "base_uri": "https://localhost:8080/",
          "height": 33
        }
      },
      "source": [
        "ova_reviews = len(sample.loc[sample['type'] =='OVA'])\n",
        "ova_reviews"
      ],
      "execution_count": 33,
      "outputs": [
        {
          "output_type": "execute_result",
          "data": {
            "text/plain": [
              "456"
            ]
          },
          "metadata": {
            "tags": []
          },
          "execution_count": 33
        }
      ]
    },
    {
      "cell_type": "code",
      "metadata": {
        "id": "-oHGLfMgSzHO",
        "colab_type": "code",
        "outputId": "8e4a7358-aa76-48c2-b096-de9e16e46049",
        "colab": {
          "base_uri": "https://localhost:8080/",
          "height": 33
        }
      },
      "source": [
        "music_reviews = len(sample.loc[sample['type'] =='Music'])\n",
        "music_reviews"
      ],
      "execution_count": 34,
      "outputs": [
        {
          "output_type": "execute_result",
          "data": {
            "text/plain": [
              "19"
            ]
          },
          "metadata": {
            "tags": []
          },
          "execution_count": 34
        }
      ]
    },
    {
      "cell_type": "code",
      "metadata": {
        "id": "gmNrTMyySzh6",
        "colab_type": "code",
        "outputId": "b789f149-e98f-4d98-a141-632a9b588ab9",
        "colab": {
          "base_uri": "https://localhost:8080/",
          "height": 33
        }
      },
      "source": [
        "ona_reviews = len(sample.loc[sample['type'] =='ONA'])\n",
        "ona_reviews"
      ],
      "execution_count": 35,
      "outputs": [
        {
          "output_type": "execute_result",
          "data": {
            "text/plain": [
              "54"
            ]
          },
          "metadata": {
            "tags": []
          },
          "execution_count": 35
        }
      ]
    },
    {
      "cell_type": "code",
      "metadata": {
        "id": "Q1GMel8HS0d1",
        "colab_type": "code",
        "outputId": "05457d6a-fe0a-443c-b624-e476e5525bdd",
        "colab": {
          "base_uri": "https://localhost:8080/",
          "height": 33
        }
      },
      "source": [
        "special_reviews = len(sample.loc[sample['type'] =='Special'])\n",
        "special_reviews"
      ],
      "execution_count": 36,
      "outputs": [
        {
          "output_type": "execute_result",
          "data": {
            "text/plain": [
              "329"
            ]
          },
          "metadata": {
            "tags": []
          },
          "execution_count": 36
        }
      ]
    },
    {
      "cell_type": "code",
      "metadata": {
        "id": "cWPp_Rp1TEkH",
        "colab_type": "code",
        "outputId": "5d1e0f03-7067-4741-914e-3c361a02a39f",
        "colab": {
          "base_uri": "https://localhost:8080/",
          "height": 636
        }
      },
      "source": [
        "# PLOT them \n",
        "fig = plt.figure(figsize=(12,10))\n",
        "sns.countplot(sample['type'], palette='gist_rainbow')\n",
        "plt.title(\"Most Viewed Anime\", fontsize=20)\n",
        "plt.xlabel(\"Types\", fontsize=20)\n",
        "plt.ylabel(\"Number of Views with Reviews\", fontsize = 20)\n",
        "plt.legend(sample['type'])\n",
        "plt.show()"
      ],
      "execution_count": 182,
      "outputs": [
        {
          "output_type": "display_data",
          "data": {
            "image/png": "[encoded data removed]",
            "text/plain": [
              "<Figure size 864x720 with 1 Axes>"
            ]
          },
          "metadata": {
            "tags": [],
            "needs_background": "light"
          }
        }
      ]
    },
    {
      "cell_type": "code",
      "metadata": {
        "id": "V8kDcAcanE9F",
        "colab_type": "code",
        "outputId": "32cd43b6-0fb9-4e87-da64-3aa4203771e3",
        "colab": {
          "base_uri": "https://localhost:8080/",
          "height": 33
        }
      },
      "source": [
        "len(sample)"
      ],
      "execution_count": 38,
      "outputs": [
        {
          "output_type": "execute_result",
          "data": {
            "text/plain": [
              "5000"
            ]
          },
          "metadata": {
            "tags": []
          },
          "execution_count": 38
        }
      ]
    },
    {
      "cell_type": "markdown",
      "metadata": {
        "id": "9z9Z9lkwnE9H",
        "colab_type": "text"
      },
      "source": [
        "# Implementing a Surprise's Singular Value Decomposition (SVD) as a Baseline"
      ]
    },
    {
      "cell_type": "code",
      "metadata": {
        "id": "4a0xCAzwkQaF",
        "colab_type": "code",
        "outputId": "095ea38b-c412-4f41-d1c8-343ddc1c6857",
        "colab": {
          "base_uri": "https://localhost:8080/",
          "height": 189
        }
      },
      "source": [
        "sample.rating_x = sample.rating_x.apply(round)\n",
        "sample.head()"
      ],
      "execution_count": 39,
      "outputs": [
        {
          "output_type": "execute_result",
          "data": {
            "text/html": [
              "<div>\n",
              "<style scoped>\n",
              "    .dataframe tbody tr th:only-of-type {\n",
              "        vertical-align: middle;\n",
              "    }\n",
              "\n",
              "    .dataframe tbody tr th {\n",
              "        vertical-align: top;\n",
              "    }\n",
              "\n",
              "    .dataframe thead th {\n",
              "        text-align: right;\n",
              "    }\n",
              "</style>\n",
              "<table border=\"1\" class=\"dataframe\">\n",
              "  <thead>\n",
              "    <tr style=\"text-align: right;\">\n",
              "      <th></th>\n",
              "      <th>anime_id</th>\n",
              "      <th>name</th>\n",
              "      <th>genre</th>\n",
              "      <th>type</th>\n",
              "      <th>episodes</th>\n",
              "      <th>rating_x</th>\n",
              "      <th>members</th>\n",
              "      <th>user_id</th>\n",
              "      <th>rating_y</th>\n",
              "    </tr>\n",
              "  </thead>\n",
              "  <tbody>\n",
              "    <tr>\n",
              "      <th>634849</th>\n",
              "      <td>19221</td>\n",
              "      <td>Ore no Nounai Sentakushi ga, Gakuen Love Comed...</td>\n",
              "      <td>Comedy, Romance, School</td>\n",
              "      <td>TV</td>\n",
              "      <td>10</td>\n",
              "      <td>8</td>\n",
              "      <td>179569</td>\n",
              "      <td>9949</td>\n",
              "      <td>7.0</td>\n",
              "    </tr>\n",
              "    <tr>\n",
              "      <th>661795</th>\n",
              "      <td>11179</td>\n",
              "      <td>Papa no Iukoto wo Kikinasai!</td>\n",
              "      <td>Comedy, Romance, Slice of Life</td>\n",
              "      <td>TV</td>\n",
              "      <td>12</td>\n",
              "      <td>8</td>\n",
              "      <td>97674</td>\n",
              "      <td>5527</td>\n",
              "      <td>8.0</td>\n",
              "    </tr>\n",
              "    <tr>\n",
              "      <th>593996</th>\n",
              "      <td>31297</td>\n",
              "      <td>Tokyo Ghoul: &amp;quot;Pinto&amp;quot;</td>\n",
              "      <td>Action, Drama, Horror, Mystery, Psychological,...</td>\n",
              "      <td>OVA</td>\n",
              "      <td>1</td>\n",
              "      <td>8</td>\n",
              "      <td>52312</td>\n",
              "      <td>573</td>\n",
              "      <td>8.0</td>\n",
              "    </tr>\n",
              "    <tr>\n",
              "      <th>1002517</th>\n",
              "      <td>225</td>\n",
              "      <td>Dragon Ball GT</td>\n",
              "      <td>Action, Adventure, Comedy, Fantasy, Magic, Sci...</td>\n",
              "      <td>TV</td>\n",
              "      <td>64</td>\n",
              "      <td>7</td>\n",
              "      <td>226625</td>\n",
              "      <td>3762</td>\n",
              "      <td>8.0</td>\n",
              "    </tr>\n",
              "    <tr>\n",
              "      <th>200257</th>\n",
              "      <td>4477</td>\n",
              "      <td>Nodame Cantabile: Paris-hen</td>\n",
              "      <td>Comedy, Josei, Music, Romance, Slice of Life</td>\n",
              "      <td>TV</td>\n",
              "      <td>11</td>\n",
              "      <td>8</td>\n",
              "      <td>70822</td>\n",
              "      <td>7677</td>\n",
              "      <td>8.0</td>\n",
              "    </tr>\n",
              "  </tbody>\n",
              "</table>\n",
              "</div>"
            ],
            "text/plain": [
              "         anime_id  ... rating_y\n",
              "634849      19221  ...      7.0\n",
              "661795      11179  ...      8.0\n",
              "593996      31297  ...      8.0\n",
              "1002517       225  ...      8.0\n",
              "200257       4477  ...      8.0\n",
              "\n",
              "[5 rows x 9 columns]"
            ]
          },
          "metadata": {
            "tags": []
          },
          "execution_count": 39
        }
      ]
    },
    {
      "cell_type": "code",
      "metadata": {
        "id": "u3ctsBehnE9I",
        "colab_type": "code",
        "colab": {}
      },
      "source": [
        "#for surprise, it likes its data in a certain way and only that specific data\n",
        "data = sample[['user_id', 'anime_id', 'rating_x']] #may need to do rating_x rounded and then use rating_y\n",
        "reader = Reader(line_format='user item rating', sep='')\n",
        "anime_loaded_data = Dataset.load_from_df(data, reader)\n",
        "# anime_split = anime_loaded_data.split(n_folds=5) \n",
        "\n",
        "#train_test_split\n",
        "trainset, testset = train_test_split(anime_loaded_data, test_size=.2)"
      ],
      "execution_count": 0,
      "outputs": []
    },
    {
      "cell_type": "code",
      "metadata": {
        "id": "GL-WXAOv_BBw",
        "colab_type": "code",
        "outputId": "62e140fb-2e90-43bd-ae69-ed1c1eafe92e",
        "colab": {
          "base_uri": "https://localhost:8080/",
          "height": 33
        }
      },
      "source": [
        "anime_loaded_data"
      ],
      "execution_count": 41,
      "outputs": [
        {
          "output_type": "execute_result",
          "data": {
            "text/plain": [
              "<surprise.dataset.DatasetAutoFolds at 0x7f9bde2cc390>"
            ]
          },
          "metadata": {
            "tags": []
          },
          "execution_count": 41
        }
      ]
    },
    {
      "cell_type": "code",
      "metadata": {
        "id": "1LrsZrU6nE9L",
        "colab_type": "code",
        "outputId": "d242b44d-ba38-40ec-c2bf-d38518a21b85",
        "colab": {
          "base_uri": "https://localhost:8080/",
          "height": 33
        }
      },
      "source": [
        "#INSTANTIATE the SVD and fit only the train set\n",
        "svd = SVD()\n",
        "svd.fit(trainset)"
      ],
      "execution_count": 42,
      "outputs": [
        {
          "output_type": "execute_result",
          "data": {
            "text/plain": [
              "<surprise.prediction_algorithms.matrix_factorization.SVD at 0x7f9bdf028b00>"
            ]
          },
          "metadata": {
            "tags": []
          },
          "execution_count": 42
        }
      ]
    },
    {
      "cell_type": "code",
      "metadata": {
        "id": "pd6fEbcmnE9T",
        "colab_type": "code",
        "outputId": "522bf6d3-3509-4c79-ba71-67d75a979168",
        "colab": {
          "base_uri": "https://localhost:8080/",
          "height": 49
        }
      },
      "source": [
        "predictions = svd.test(testset) #\n",
        "accuracy.rmse(predictions)"
      ],
      "execution_count": 43,
      "outputs": [
        {
          "output_type": "stream",
          "text": [
            "RMSE: 2.7642\n"
          ],
          "name": "stdout"
        },
        {
          "output_type": "execute_result",
          "data": {
            "text/plain": [
              "2.7642358799494664"
            ]
          },
          "metadata": {
            "tags": []
          },
          "execution_count": 43
        }
      ]
    },
    {
      "cell_type": "markdown",
      "metadata": {
        "id": "nb0LlqhqKzcH",
        "colab_type": "text"
      },
      "source": [
        "*** I don't think this is better than the .66 that I have above on the memory based models.***"
      ]
    },
    {
      "cell_type": "code",
      "metadata": {
        "id": "xB6P_zDMnE9V",
        "colab_type": "code",
        "outputId": "efd1f964-782b-41b2-b352-efccdb9c9932",
        "colab": {
          "base_uri": "https://localhost:8080/",
          "height": 181
        }
      },
      "source": [
        "predictions[:10]"
      ],
      "execution_count": 44,
      "outputs": [
        {
          "output_type": "execute_result",
          "data": {
            "text/plain": [
              "[Prediction(uid=8023, iid=2952, r_ui=8.0, est=5, details={'was_impossible': False}),\n",
              " Prediction(uid=3352, iid=8460, r_ui=8.0, est=5, details={'was_impossible': False}),\n",
              " Prediction(uid=5755, iid=3354, r_ui=7.0, est=5, details={'was_impossible': False}),\n",
              " Prediction(uid=4792, iid=59, r_ui=8.0, est=5, details={'was_impossible': False}),\n",
              " Prediction(uid=3739, iid=6746, r_ui=8.0, est=5, details={'was_impossible': False}),\n",
              " Prediction(uid=2490, iid=6702, r_ui=8.0, est=5, details={'was_impossible': False}),\n",
              " Prediction(uid=5112, iid=1195, r_ui=8.0, est=5, details={'was_impossible': False}),\n",
              " Prediction(uid=4216, iid=6880, r_ui=7.0, est=5, details={'was_impossible': False}),\n",
              " Prediction(uid=2716, iid=18153, r_ui=8.0, est=5, details={'was_impossible': False}),\n",
              " Prediction(uid=8217, iid=30137, r_ui=6.0, est=5, details={'was_impossible': False})]"
            ]
          },
          "metadata": {
            "tags": []
          },
          "execution_count": 44
        }
      ]
    },
    {
      "cell_type": "code",
      "metadata": {
        "id": "MdhR9mQUnE9Y",
        "colab_type": "code",
        "outputId": "711986d2-31aa-438b-c16d-3813f9a4a03e",
        "colab": {
          "base_uri": "https://localhost:8080/",
          "height": 49
        }
      },
      "source": [
        "print(\"Number of users:\", sample.user_id.nunique())\n",
        "print(\"Number of types of different anime:\", sample.type.nunique())\n"
      ],
      "execution_count": 45,
      "outputs": [
        {
          "output_type": "stream",
          "text": [
            "Number of users: 2950\n",
            "Number of types of different anime: 6\n"
          ],
          "name": "stdout"
        }
      ]
    },
    {
      "cell_type": "code",
      "metadata": {
        "id": "UEec0Gc7nE9f",
        "colab_type": "code",
        "outputId": "834e8bdc-9882-48e5-f9ca-3494deb24b86",
        "colab": {
          "base_uri": "https://localhost:8080/",
          "height": 33
        }
      },
      "source": [
        "user = 5\n",
        "item = 100\n",
        "svd.predict(user, item)"
      ],
      "execution_count": 46,
      "outputs": [
        {
          "output_type": "execute_result",
          "data": {
            "text/plain": [
              "Prediction(uid=5, iid=100, r_ui=None, est=5, details={'was_impossible': False})"
            ]
          },
          "metadata": {
            "tags": []
          },
          "execution_count": 46
        }
      ]
    },
    {
      "cell_type": "markdown",
      "metadata": {
        "id": "-NLeL3oFnE9n",
        "colab_type": "text"
      },
      "source": [
        "Now I need to compare the different models and see which ones perform best. I will stick to using RMSE to evaluate the models. I will also cross validate. "
      ]
    },
    {
      "cell_type": "code",
      "metadata": {
        "id": "VHM0KQOlnE9o",
        "colab_type": "code",
        "outputId": "1a2ab185-43ec-43ab-b333-36730ca8d3be",
        "colab": {
          "base_uri": "https://localhost:8080/",
          "height": 66
        }
      },
      "source": [
        "#perform a gridsearch CV\n",
        "params = {'n_factors': [20,50,100],\n",
        "         'reg_all': [.02,.05, .10]}\n",
        "gridsearch_svd1 = GridSearchCV(SVD, param_grid=params, n_jobs=-1, joblib_verbose=3)\n",
        "gridsearch_svd1.fit(anime_loaded_data)"
      ],
      "execution_count": 47,
      "outputs": [
        {
          "output_type": "stream",
          "text": [
            "[Parallel(n_jobs=-1)]: Using backend LokyBackend with 2 concurrent workers.\n",
            "[Parallel(n_jobs=-1)]: Done  28 tasks      | elapsed:    7.2s\n",
            "[Parallel(n_jobs=-1)]: Done  45 out of  45 | elapsed:   12.5s finished\n"
          ],
          "name": "stderr"
        }
      ]
    },
    {
      "cell_type": "code",
      "metadata": {
        "id": "x9D7uwWqnE9q",
        "colab_type": "code",
        "outputId": "48ae86f8-975f-4d26-b40d-c10e11ad2a4b",
        "colab": {
          "base_uri": "https://localhost:8080/",
          "height": 49
        }
      },
      "source": [
        "print(gridsearch_svd1.best_score)\n",
        "print(gridsearch_svd1.best_params)"
      ],
      "execution_count": 48,
      "outputs": [
        {
          "output_type": "stream",
          "text": [
            "{'rmse': 2.763276165209465, 'mae': 2.6682}\n",
            "{'rmse': {'n_factors': 20, 'reg_all': 0.02}, 'mae': {'n_factors': 20, 'reg_all': 0.02}}\n"
          ],
          "name": "stdout"
        }
      ]
    },
    {
      "cell_type": "markdown",
      "metadata": {
        "id": "BnrdTIPILcqC",
        "colab_type": "text"
      },
      "source": [
        "**Better than the model before***"
      ]
    },
    {
      "cell_type": "code",
      "metadata": {
        "id": "zqL4tt72GQe5",
        "colab_type": "code",
        "outputId": "13bb14e6-7275-4160-a7ea-450a01baa300",
        "colab": {
          "base_uri": "https://localhost:8080/",
          "height": 33
        }
      },
      "source": [
        "anime_loaded_data"
      ],
      "execution_count": 49,
      "outputs": [
        {
          "output_type": "execute_result",
          "data": {
            "text/plain": [
              "<surprise.dataset.DatasetAutoFolds at 0x7f9bde2cc390>"
            ]
          },
          "metadata": {
            "tags": []
          },
          "execution_count": 49
        }
      ]
    },
    {
      "cell_type": "markdown",
      "metadata": {
        "id": "P-lM8im2nE9z",
        "colab_type": "text"
      },
      "source": [
        "## Cross Validation with K-Nearest Neighbors (KNN) Basic Algorithm"
      ]
    },
    {
      "cell_type": "code",
      "metadata": {
        "id": "czGpCY-QnE91",
        "colab_type": "code",
        "outputId": "14b074af-d43e-4f31-d0d2-98eaabd7736d",
        "colab": {
          "base_uri": "https://localhost:8080/",
          "height": 69
        }
      },
      "source": [
        "#cross validate with KNNBasic\n",
        "knn_basic = KNNBasic(sim_options={'name':'pearson', 'user_based':True}, verbose=True)\n",
        "cv_knn_basic = cross_validate(knn_basic, anime_loaded_data, n_jobs=2)"
      ],
      "execution_count": 50,
      "outputs": [
        {
          "output_type": "stream",
          "text": [
            "/usr/local/lib/python3.6/dist-packages/joblib/externals/loky/process_executor.py:691: UserWarning: A worker stopped while some jobs were given to the executor. This can be caused by a too short worker timeout or by a memory leak.\n",
            "  \"timeout or by a memory leak.\", UserWarning\n"
          ],
          "name": "stderr"
        }
      ]
    },
    {
      "cell_type": "code",
      "metadata": {
        "id": "F9t6WpJL2USm",
        "colab_type": "code",
        "outputId": "631d1714-b35c-4dad-d105-97a76f4765cc",
        "colab": {
          "base_uri": "https://localhost:8080/",
          "height": 115
        }
      },
      "source": [
        "for i in cv_knn_basic.items():\n",
        "    print(i)\n",
        "print('-----------------')\n",
        "print(np.mean(cv_knn_basic['test_rmse']))"
      ],
      "execution_count": 51,
      "outputs": [
        {
          "output_type": "stream",
          "text": [
            "('test_rmse', array([2.78010791, 2.72708636, 2.75699111, 2.79195272, 2.7598913 ]))\n",
            "('test_mae', array([2.695, 2.625, 2.659, 2.701, 2.661]))\n",
            "('fit_time', (0.6929073333740234, 0.8220813274383545, 0.5678932666778564, 0.49878883361816406, 0.3163726329803467))\n",
            "('test_time', (0.01533055305480957, 0.016204833984375, 0.015397787094116211, 0.015439748764038086, 0.008984804153442383))\n",
            "-----------------\n",
            "2.7632058812456344\n"
          ],
          "name": "stdout"
        }
      ]
    },
    {
      "cell_type": "markdown",
      "metadata": {
        "id": "L5qCkyUELOIN",
        "colab_type": "text"
      },
      "source": [
        "*** This is not as good as the baseline***"
      ]
    },
    {
      "cell_type": "code",
      "metadata": {
        "id": "lfLPCcv8nE93",
        "colab_type": "code",
        "colab": {}
      },
      "source": [
        "knn_basic_msd = KNNBasic(sim_options = {'name': 'msd', 'user-based':True})\n",
        "cv_knn_basic_msd = cross_validate(knn_basic_msd, anime_loaded_data, n_jobs=2)"
      ],
      "execution_count": 0,
      "outputs": []
    },
    {
      "cell_type": "code",
      "metadata": {
        "id": "IsvfxOiXnE95",
        "colab_type": "code",
        "outputId": "9d180334-f7d9-4718-8123-e614c4adbfcc",
        "colab": {
          "base_uri": "https://localhost:8080/",
          "height": 115
        }
      },
      "source": [
        "for i in cv_knn_basic_msd.items():\n",
        "    print(i)\n",
        "print('-----------------')\n",
        "print(np.mean(cv_knn_basic_msd['test_rmse']))"
      ],
      "execution_count": 53,
      "outputs": [
        {
          "output_type": "stream",
          "text": [
            "('test_rmse', array([2.75608418, 2.7420795 , 2.80642121, 2.77704879, 2.7342275 ]))\n",
            "('test_mae', array([2.666, 2.649, 2.716, 2.678, 2.632]))\n",
            "('fit_time', (0.25145816802978516, 0.3725581169128418, 0.3777756690979004, 0.3706068992614746, 0.21095657348632812))\n",
            "('test_time', (0.018552303314208984, 0.017689228057861328, 0.016491413116455078, 0.014960050582885742, 0.0088958740234375))\n",
            "-----------------\n",
            "2.763172235877067\n"
          ],
          "name": "stdout"
        }
      ]
    },
    {
      "cell_type": "markdown",
      "metadata": {
        "id": "j_r77pS4LiAW",
        "colab_type": "text"
      },
      "source": [
        "*** better than the model above ***\n"
      ]
    },
    {
      "cell_type": "markdown",
      "metadata": {
        "id": "Nq4VKWZtnE98",
        "colab_type": "text"
      },
      "source": [
        "## Cross Validation with KNN Baseline"
      ]
    },
    {
      "cell_type": "code",
      "metadata": {
        "id": "Jd_R2dkNnE99",
        "colab_type": "code",
        "colab": {}
      },
      "source": [
        "#cross validate with KNN Baseline (pearson)\n",
        "knn_baseline = KNNBaseline(sim_options={'name': 'pearson', 'user_based':True})\n",
        "cv_knn_baseline = cross_validate(knn_baseline, anime_loaded_data, n_jobs=3)"
      ],
      "execution_count": 0,
      "outputs": []
    },
    {
      "cell_type": "code",
      "metadata": {
        "id": "6-jDbZDc3EHW",
        "colab_type": "code",
        "outputId": "e4f455dc-4d51-458d-9514-ae7ac56b913a",
        "colab": {
          "base_uri": "https://localhost:8080/",
          "height": 115
        }
      },
      "source": [
        "for i in cv_knn_baseline.items():\n",
        "    print(i)\n",
        "print('-----------------')\n",
        "print(np.mean(cv_knn_baseline['test_rmse']))"
      ],
      "execution_count": 55,
      "outputs": [
        {
          "output_type": "stream",
          "text": [
            "('test_rmse', array([2.76369318, 2.76441676, 2.7573538 , 2.74608813, 2.78478006]))\n",
            "('test_mae', array([2.67 , 2.664, 2.667, 2.653, 2.687]))\n",
            "('fit_time', (0.45914220809936523, 0.6270694732666016, 0.539924144744873, 0.6854538917541504, 0.4716150760650635))\n",
            "('test_time', (0.029778480529785156, 0.03471183776855469, 0.009568452835083008, 0.028012514114379883, 0.014842033386230469))\n",
            "-----------------\n",
            "2.763266386180475\n"
          ],
          "name": "stdout"
        }
      ]
    },
    {
      "cell_type": "markdown",
      "metadata": {
        "id": "bI9WY1rqLu5j",
        "colab_type": "text"
      },
      "source": [
        "***better than the other rmse but not as good as mae from above *** "
      ]
    },
    {
      "cell_type": "code",
      "metadata": {
        "id": "INk427JxQ6NF",
        "colab_type": "code",
        "colab": {}
      },
      "source": [
        "knn_baseline_msd = KNNBaseline(sim_options = {'name': 'msd', 'user_based': True})\n",
        "cv_knn_baseline_msd = cross_validate(knn_baseline_msd, anime_loaded_data, n_jobs =2)"
      ],
      "execution_count": 0,
      "outputs": []
    },
    {
      "cell_type": "code",
      "metadata": {
        "id": "tmd9Vtf5SMgW",
        "colab_type": "code",
        "outputId": "eccd979b-9bba-4ef7-a782-07c7de55473d",
        "colab": {
          "base_uri": "https://localhost:8080/",
          "height": 115
        }
      },
      "source": [
        "for i in cv_knn_baseline_msd.items():\n",
        "  print(i)\n",
        "print('-------------------')\n",
        "print(np.mean(cv_knn_baseline_msd['test_rmse']))"
      ],
      "execution_count": 57,
      "outputs": [
        {
          "output_type": "stream",
          "text": [
            "('test_rmse', array([2.76748984, 2.78962363, 2.78801004, 2.71771963, 2.75299837]))\n",
            "('test_mae', array([2.675, 2.692, 2.691, 2.618, 2.665]))\n",
            "('fit_time', (0.3036937713623047, 0.3607792854309082, 0.440173864364624, 0.37720322608947754, 0.22458410263061523))\n",
            "('test_time', (0.030431032180786133, 0.02932429313659668, 0.015070199966430664, 0.017048120498657227, 0.008919239044189453))\n",
            "-------------------\n",
            "2.7631683017378195\n"
          ],
          "name": "stdout"
        }
      ]
    },
    {
      "cell_type": "markdown",
      "metadata": {
        "id": "FhqNA7M4LKXP",
        "colab_type": "text"
      },
      "source": [
        "*** Not as good as the above ***"
      ]
    },
    {
      "cell_type": "markdown",
      "metadata": {
        "id": "w0sTEu4PnE-A",
        "colab_type": "text"
      },
      "source": [
        "## Cross Validate with KNNBaseline using pearson baseline"
      ]
    },
    {
      "cell_type": "code",
      "metadata": {
        "id": "XUApxrARThBC",
        "colab_type": "code",
        "colab": {}
      },
      "source": [
        "knn_pearson_baseline = KNNBaseline(sim_options={'name': 'pearson_baseline', 'user_based':True})\n",
        "cv_knn_pearson_baseline = cross_validate(knn_pearson_baseline, anime_loaded_data, n_jobs=3)"
      ],
      "execution_count": 0,
      "outputs": []
    },
    {
      "cell_type": "code",
      "metadata": {
        "id": "Y5AyqnDMTnu1",
        "colab_type": "code",
        "outputId": "51d8a9b4-de04-4265-f83d-81241bf87703",
        "colab": {
          "base_uri": "https://localhost:8080/",
          "height": 115
        }
      },
      "source": [
        "for i in cv_knn_pearson_baseline.items():\n",
        "  print(i)\n",
        "print('-------------------')\n",
        "print(np.mean(cv_knn_pearson_baseline['test_rmse']))"
      ],
      "execution_count": 59,
      "outputs": [
        {
          "output_type": "stream",
          "text": [
            "('test_rmse', array([2.78801004, 2.78567766, 2.71532687, 2.75317998, 2.77362579]))\n",
            "('test_mae', array([2.693, 2.692, 2.619, 2.66 , 2.677]))\n",
            "('fit_time', (0.3749573230743408, 0.4153437614440918, 0.5352897644042969, 0.5310821533203125, 0.35433030128479004))\n",
            "('test_time', (0.01934337615966797, 0.027854442596435547, 0.008922100067138672, 0.03078937530517578, 0.014351606369018555))\n",
            "-------------------\n",
            "2.7631640663789216\n"
          ],
          "name": "stdout"
        }
      ]
    },
    {
      "cell_type": "markdown",
      "metadata": {
        "id": "XiXOqpmCL-Vi",
        "colab_type": "text"
      },
      "source": [
        "*** hmmmm... this is a realistic number for an average rmse score but varies greatly from the other scores, looks similar to the models I added in at the top ***"
      ]
    },
    {
      "cell_type": "markdown",
      "metadata": {
        "id": "rKUymG4NULeY",
        "colab_type": "text"
      },
      "source": [
        "## KNN with Means "
      ]
    },
    {
      "cell_type": "code",
      "metadata": {
        "id": "ITdq6J1RUPWx",
        "colab_type": "code",
        "colab": {}
      },
      "source": [
        "knn_means = KNNWithMeans(sim_options={'name': 'pearson', 'user_based': True})\n",
        "cv_knn_means = cross_validate(knn_means, anime_loaded_data, n_jobs=3)"
      ],
      "execution_count": 0,
      "outputs": []
    },
    {
      "cell_type": "code",
      "metadata": {
        "id": "zXPB7MwgWFpF",
        "colab_type": "code",
        "outputId": "87c5c5df-672c-40c3-d994-2d1e309fb07a",
        "colab": {
          "base_uri": "https://localhost:8080/",
          "height": 115
        }
      },
      "source": [
        "for i in cv_knn_means.items():\n",
        "  print(i)\n",
        "print('------------')\n",
        "print(np.mean(cv_knn_means['test_rmse']))"
      ],
      "execution_count": 61,
      "outputs": [
        {
          "output_type": "stream",
          "text": [
            "('test_rmse', array([2.77758888, 2.76658634, 2.78028775, 2.74554184, 2.7462702 ]))\n",
            "('test_mae', array([2.681, 2.674, 2.684, 2.646, 2.656]))\n",
            "('fit_time', (0.47923755645751953, 0.602487325668335, 0.6948935985565186, 0.5761125087738037, 0.4141237735748291))\n",
            "('test_time', (0.016326904296875, 0.033953189849853516, 0.017689228057861328, 0.01532292366027832, 0.008669614791870117))\n",
            "------------\n",
            "2.763255004074442\n"
          ],
          "name": "stdout"
        }
      ]
    },
    {
      "cell_type": "code",
      "metadata": {
        "id": "MlK-xFjHWIme",
        "colab_type": "code",
        "colab": {}
      },
      "source": [
        "knn_means_msd = KNNWithMeans(sim_options={'name': 'msd', 'user_based':True})\n",
        "cv_knn_means_msd = cross_validate(knn_means_msd, anime_loaded_data, n_jobs = 2)"
      ],
      "execution_count": 0,
      "outputs": []
    },
    {
      "cell_type": "code",
      "metadata": {
        "id": "wgQwNAVpWvxd",
        "colab_type": "code",
        "outputId": "4c268cf6-eaf0-41a7-8797-fdf065f039b9",
        "colab": {
          "base_uri": "https://localhost:8080/",
          "height": 115
        }
      },
      "source": [
        "for i in cv_knn_means_msd.items():\n",
        "  print(i)\n",
        "print('-------------')\n",
        "print(np.mean(cv_knn_means_msd['test_rmse']))"
      ],
      "execution_count": 63,
      "outputs": [
        {
          "output_type": "stream",
          "text": [
            "('test_rmse', array([2.73184919, 2.78729259, 2.78549816, 2.74299107, 2.76965702]))\n",
            "('test_mae', array([2.639, 2.691, 2.691, 2.646, 2.675]))\n",
            "('fit_time', (0.31211185455322266, 0.3723454475402832, 0.32276320457458496, 0.3099546432495117, 0.2430117130279541))\n",
            "('test_time', (0.017263174057006836, 0.017949581146240234, 0.017908096313476562, 0.022330760955810547, 0.010915994644165039))\n",
            "-------------\n",
            "2.763457606099575\n"
          ],
          "name": "stdout"
        }
      ]
    },
    {
      "cell_type": "markdown",
      "metadata": {
        "id": "htjUIhGTMY-h",
        "colab_type": "text"
      },
      "source": [
        "*** This is a lot better than the KNNBaseline ***"
      ]
    },
    {
      "cell_type": "markdown",
      "metadata": {
        "id": "3PqAJcuNXIiX",
        "colab_type": "text"
      },
      "source": [
        "## Tuning the Best Algorithm with GridSearchCV\n",
        "Best model so far is KNNWithMeans with Mean Squared Distance"
      ]
    },
    {
      "cell_type": "code",
      "metadata": {
        "id": "sXz8F2wHXNBP",
        "colab_type": "code",
        "outputId": "e36add46-f6fc-4774-c638-ae60b82392fb",
        "colab": {
          "base_uri": "https://localhost:8080/",
          "height": 82
        }
      },
      "source": [
        "param_grid = {'n_factors': [5, 20, 100], \n",
        "              'n_epochs': [5,10], \n",
        "              'lr_all': [.002, .005], \n",
        "              'reg_all': [.02, .05, .5]}\n",
        "knn_withmeans_gs = GridSearchCV(KNNWithMeans, param_grid=param_grid, n_jobs=3, joblib_verbose=3)\n",
        "knn_withmeans_gs.fit(anime_loaded_data)"
      ],
      "execution_count": 117,
      "outputs": [
        {
          "output_type": "stream",
          "text": [
            "[Parallel(n_jobs=3)]: Using backend LokyBackend with 3 concurrent workers.\n",
            "[Parallel(n_jobs=3)]: Done  26 tasks      | elapsed:    7.9s\n",
            "[Parallel(n_jobs=3)]: Done 122 tasks      | elapsed:   31.8s\n",
            "[Parallel(n_jobs=3)]: Done 180 out of 180 | elapsed:   46.1s finished\n"
          ],
          "name": "stderr"
        }
      ]
    },
    {
      "cell_type": "code",
      "metadata": {
        "id": "q2IabmRkX5xZ",
        "colab_type": "code",
        "outputId": "fd72494d-2f5a-4366-adee-6eb4461c0c80",
        "colab": {
          "base_uri": "https://localhost:8080/",
          "height": 49
        }
      },
      "source": [
        "print(knn_withmeans_gs.best_score)\n",
        "print(knn_withmeans_gs.best_params)"
      ],
      "execution_count": 65,
      "outputs": [
        {
          "output_type": "stream",
          "text": [
            "{'rmse': 2.7634710350385343, 'mae': 2.6683999999999997}\n",
            "{'rmse': {'n_factors': 5, 'n_epochs': 5, 'lr_all': 0.002, 'reg_all': 0.02}, 'mae': {'n_factors': 5, 'n_epochs': 5, 'lr_all': 0.002, 'reg_all': 0.02}}\n"
          ],
          "name": "stdout"
        }
      ]
    },
    {
      "cell_type": "code",
      "metadata": {
        "id": "ftuslWl7X78D",
        "colab_type": "code",
        "colab": {}
      },
      "source": [
        "#Now use this to fit test set, initial gridsearch was 2.77096, so will use that gs here\n",
        "highest_perf_algo = gridsearch_svd1.best_estimator['rmse']"
      ],
      "execution_count": 0,
      "outputs": []
    },
    {
      "cell_type": "code",
      "metadata": {
        "id": "UM_woiDrX8NF",
        "colab_type": "code",
        "outputId": "cf3e816b-d04f-411f-d34d-245dd8b33e6f",
        "colab": {
          "base_uri": "https://localhost:8080/",
          "height": 33
        }
      },
      "source": [
        "#retrain the whole set\n",
        "trainset = anime_loaded_data.build_full_trainset()\n",
        "highest_perf_algo.fit(trainset)"
      ],
      "execution_count": 67,
      "outputs": [
        {
          "output_type": "execute_result",
          "data": {
            "text/plain": [
              "<surprise.prediction_algorithms.matrix_factorization.SVD at 0x7f9bde2526d8>"
            ]
          },
          "metadata": {
            "tags": []
          },
          "execution_count": 67
        }
      ]
    },
    {
      "cell_type": "code",
      "metadata": {
        "id": "zyob26pZZ_FK",
        "colab_type": "code",
        "outputId": "79c307cf-1f59-4fbe-ae87-25b6c539ef85",
        "colab": {
          "base_uri": "https://localhost:8080/",
          "height": 49
        }
      },
      "source": [
        "#Biased Accuracy on trainset\n",
        "predictions = highest_perf_algo.test(trainset.build_testset())\n",
        "print('Biased accuracy on Trainset', end='')\n",
        "accuracy.rmse(predictions)"
      ],
      "execution_count": 68,
      "outputs": [
        {
          "output_type": "stream",
          "text": [
            "Biased accuracy on TrainsetRMSE: 2.7633\n"
          ],
          "name": "stdout"
        },
        {
          "output_type": "execute_result",
          "data": {
            "text/plain": [
              "2.7632951344364214"
            ]
          },
          "metadata": {
            "tags": []
          },
          "execution_count": 68
        }
      ]
    },
    {
      "cell_type": "code",
      "metadata": {
        "id": "qVADRznNZ_2s",
        "colab_type": "code",
        "outputId": "fd8ce267-0ecc-4b1c-8a9a-2f08daee525d",
        "colab": {
          "base_uri": "https://localhost:8080/",
          "height": 49
        }
      },
      "source": [
        "#UnBiased Accuracy on testset\n",
        "predictions = highest_perf_algo.test(testset)\n",
        "print('Unbiased Accuracy on test', end='')\n",
        "accuracy.rmse(predictions)"
      ],
      "execution_count": 69,
      "outputs": [
        {
          "output_type": "stream",
          "text": [
            "Unbiased Accuracy on testRMSE: 2.7642\n"
          ],
          "name": "stdout"
        },
        {
          "output_type": "execute_result",
          "data": {
            "text/plain": [
              "2.7642358799494664"
            ]
          },
          "metadata": {
            "tags": []
          },
          "execution_count": 69
        }
      ]
    },
    {
      "cell_type": "markdown",
      "metadata": {
        "id": "JHgNVmhJ4uTk",
        "colab_type": "text"
      },
      "source": [
        "# Collaborative Models"
      ]
    },
    {
      "cell_type": "code",
      "metadata": {
        "id": "WW50kuym4rGS",
        "colab_type": "code",
        "colab": {}
      },
      "source": [
        "class MyDataset(dataset.DatasetAutoFolds):\n",
        "  #surprise.dataset.DatasetAutoFolds creates a surprise friendly dataset\n",
        "  #this will give it folds so that cross validation can be performed efficiently\n",
        "  def __init__(self, sample, reader):\n",
        "    self.sample = [(uid, iid, r, None) for (uid, iid, r) in \n",
        "                   zip (sample['user_id'], sample['anime_id'], sample['rating_x'])]\n",
        "    self.reader = reader"
      ],
      "execution_count": 0,
      "outputs": []
    },
    {
      "cell_type": "code",
      "metadata": {
        "id": "1I5TmdbF4rSI",
        "colab_type": "code",
        "colab": {}
      },
      "source": [
        "# #instantiate the reader parser object\n",
        "#reader = Reader(line_format = 'user item rating', rating_scale = (0.0, 10.0))"
      ],
      "execution_count": 0,
      "outputs": []
    },
    {
      "cell_type": "code",
      "metadata": {
        "id": "OaA2fqQS4rcV",
        "colab_type": "code",
        "colab": {}
      },
      "source": [
        "# #parse sample set into a surprise friendly dataset\n",
        "#data = MyDataset(sample, reader)"
      ],
      "execution_count": 0,
      "outputs": []
    },
    {
      "cell_type": "code",
      "metadata": {
        "id": "O84FyspwrvZ2",
        "colab_type": "code",
        "colab": {}
      },
      "source": [
        "reader = Reader(line_format = 'user item rating', rating_scale = (0.0, 10.0))\n",
        "data = sample[['user_id', 'anime_id', 'rating_x']]\n",
        "anime_data = Dataset.load_from_df(data, reader)"
      ],
      "execution_count": 0,
      "outputs": []
    },
    {
      "cell_type": "code",
      "metadata": {
        "id": "FYOEyoGj7FBr",
        "colab_type": "code",
        "outputId": "dbbc46d2-f2f3-4b1f-f313-bd6a0489457e",
        "colab": {
          "base_uri": "https://localhost:8080/",
          "height": 33
        }
      },
      "source": [
        "type(data)"
      ],
      "execution_count": 74,
      "outputs": [
        {
          "output_type": "execute_result",
          "data": {
            "text/plain": [
              "pandas.core.frame.DataFrame"
            ]
          },
          "metadata": {
            "tags": []
          },
          "execution_count": 74
        }
      ]
    },
    {
      "cell_type": "markdown",
      "metadata": {
        "id": "U84mcHh7W0B3",
        "colab_type": "text"
      },
      "source": [
        "# Train Validation Split"
      ]
    },
    {
      "cell_type": "code",
      "metadata": {
        "id": "NIDFfBZfrxkj",
        "colab_type": "code",
        "colab": {}
      },
      "source": [
        "trainset, testset = train_test_split(anime_data, test_size=.2)"
      ],
      "execution_count": 0,
      "outputs": []
    },
    {
      "cell_type": "markdown",
      "metadata": {
        "id": "swEKWiOhP5sL",
        "colab_type": "text"
      },
      "source": [
        "# Memory Based Knn Method"
      ]
    },
    {
      "cell_type": "markdown",
      "metadata": {
        "id": "JSk1rpsyR147",
        "colab_type": "text"
      },
      "source": [
        "## KNN Basic with cosine similarity"
      ]
    },
    {
      "cell_type": "code",
      "metadata": {
        "id": "2VNfsQ10yTjN",
        "colab_type": "code",
        "colab": {}
      },
      "source": [
        "#cosine similarity \n",
        "sim_cos = {'name': 'cosine', 'user_based':True}\n",
        "\n",
        "#instantiate the model with the similarity setting\n",
        "knn_sim_cos = knns.KNNBasic(sim_options=sim_cos)"
      ],
      "execution_count": 0,
      "outputs": []
    },
    {
      "cell_type": "code",
      "metadata": {
        "id": "x1YrCWVAyTq1",
        "colab_type": "code",
        "outputId": "ab9b420e-68f9-411e-f639-a5f47b5b1fe8",
        "colab": {
          "base_uri": "https://localhost:8080/",
          "height": 165
        }
      },
      "source": [
        "# fit the model\n",
        "sim_cos_cv = cross_validate(knn_sim_cos, anime_loaded_data, measures=['rmse', 'mae'], cv=3,\n",
        "                            return_train_measures=True, n_jobs=3, verbose=True)"
      ],
      "execution_count": 119,
      "outputs": [
        {
          "output_type": "stream",
          "text": [
            "Evaluating RMSE, MAE of algorithm KNNBasic on 3 split(s).\n",
            "\n",
            "                  Fold 1  Fold 2  Fold 3  Mean    Std     \n",
            "RMSE (testset)    2.7835  2.7681  2.7381  2.7632  0.0189  \n",
            "MAE (testset)     2.6887  2.6761  2.6399  2.6682  0.0207  \n",
            "RMSE (trainset)   2.7525  2.7608  2.7753  2.7629  0.0094  \n",
            "MAE (trainset)    2.6565  2.6640  2.6812  2.6672  0.0103  \n",
            "Fit time          0.27    0.39    0.27    0.31    0.06    \n",
            "Test time         0.02    0.02    0.01    0.02    0.00    \n"
          ],
          "name": "stdout"
        }
      ]
    },
    {
      "cell_type": "markdown",
      "metadata": {
        "id": "wZS9eDbwZyAN",
        "colab_type": "text"
      },
      "source": [
        "*** "
      ]
    },
    {
      "cell_type": "markdown",
      "metadata": {
        "id": "CyUlUIHDb9EW",
        "colab_type": "text"
      },
      "source": [
        "### The test set is not great but not terribly bad. I am not sure why the train set is not showing up. "
      ]
    },
    {
      "cell_type": "markdown",
      "metadata": {
        "id": "qyoAWKO1XnOl",
        "colab_type": "text"
      },
      "source": [
        "## 2nd Model: KNN Basic (item based)"
      ]
    },
    {
      "cell_type": "code",
      "metadata": {
        "id": "l5-_dnNSyT1S",
        "colab_type": "code",
        "colab": {}
      },
      "source": [
        "#cosine similarity \n",
        "sim_cos = {'name': 'cosine', 'user_based': False}\n",
        "\n",
        "#instantiate the knnBasic with sim_cos settings\n",
        "knn_basic_simcos = knns.KNNBasic(sim_options=sim_cos)\n"
      ],
      "execution_count": 0,
      "outputs": []
    },
    {
      "cell_type": "code",
      "metadata": {
        "id": "WHD_Fu8myTyw",
        "colab_type": "code",
        "outputId": "6418d37a-2054-4bf3-a960-335047a8baf6",
        "colab": {
          "base_uri": "https://localhost:8080/",
          "height": 165
        }
      },
      "source": [
        "#fit the model \n",
        "cv_knn_basic_simcos = cross_validate(knn_basic_simcos, anime_loaded_data, measures=['rmse', 'mae'], cv =3, return_train_measures=True, n_jobs=3, verbose=True)"
      ],
      "execution_count": 120,
      "outputs": [
        {
          "output_type": "stream",
          "text": [
            "Evaluating RMSE, MAE of algorithm KNNBasic on 3 split(s).\n",
            "\n",
            "                  Fold 1  Fold 2  Fold 3  Mean    Std     \n",
            "RMSE (testset)    2.7736  2.7602  2.7561  2.7633  0.0075  \n",
            "MAE (testset)     2.6803  2.6647  2.6597  2.6682  0.0088  \n",
            "RMSE (trainset)   2.7576  2.7648  2.7664  2.7629  0.0038  \n",
            "MAE (trainset)    2.6613  2.6697  2.6716  2.6675  0.0045  \n",
            "Fit time          0.11    0.15    0.10    0.12    0.02    \n",
            "Test time         0.02    0.04    0.01    0.02    0.01    \n"
          ],
          "name": "stdout"
        }
      ]
    },
    {
      "cell_type": "code",
      "metadata": {
        "id": "KszSZLcOyTv4",
        "colab_type": "code",
        "colab": {}
      },
      "source": [
        "#This one performed better than the last and the trainset is showing up. WOOH!"
      ],
      "execution_count": 0,
      "outputs": []
    },
    {
      "cell_type": "markdown",
      "metadata": {
        "id": "GogIlC2UdBuL",
        "colab_type": "text"
      },
      "source": [
        "##3rd Baseline Model: A user based pearson similarity using KNNBasline"
      ]
    },
    {
      "cell_type": "code",
      "metadata": {
        "id": "dA7jI1jE7E9h",
        "colab_type": "code",
        "colab": {}
      },
      "source": [
        "sim_pearson = {'name': 'pearson', 'user_based': True}\n",
        "\n",
        "#instantiate KNNBasline with pearson \n",
        "knn_baseline_pearson = knns.KNNBaseline(sim_options=sim_pearson)"
      ],
      "execution_count": 0,
      "outputs": []
    },
    {
      "cell_type": "code",
      "metadata": {
        "id": "61cuIDITdBQu",
        "colab_type": "code",
        "outputId": "6cb29fb0-9015-465c-eeb2-a5fedd3d7e56",
        "colab": {
          "base_uri": "https://localhost:8080/",
          "height": 165
        }
      },
      "source": [
        "#fit and cross validate model \n",
        "cv_knnbaseline_simpearson = cross_validate(knn_baseline_pearson, anime_loaded_data, measures=['rmse', 'mae'], cv=3,\n",
        "                                           return_train_measures=True, n_jobs=2, verbose=True)"
      ],
      "execution_count": 123,
      "outputs": [
        {
          "output_type": "stream",
          "text": [
            "Evaluating RMSE, MAE of algorithm KNNBaseline on 3 split(s).\n",
            "\n",
            "                  Fold 1  Fold 2  Fold 3  Mean    Std     \n",
            "RMSE (testset)    2.7655  2.7418  2.7824  2.7632  0.0166  \n",
            "MAE (testset)     2.6701  2.6467  2.6879  2.6682  0.0169  \n",
            "RMSE (trainset)   2.7616  2.7735  2.7536  2.7629  0.0082  \n",
            "MAE (trainset)    2.6658  2.6781  2.6578  2.6672  0.0083  \n",
            "Fit time          0.41    0.40    0.23    0.35    0.08    \n",
            "Test time         0.02    0.03    0.01    0.02    0.01    \n"
          ],
          "name": "stdout"
        }
      ]
    },
    {
      "cell_type": "markdown",
      "metadata": {
        "id": "55I_IAJAeCCP",
        "colab_type": "text"
      },
      "source": [
        "## 4th Model: Item based pearson similarity using KNNBaseline"
      ]
    },
    {
      "cell_type": "code",
      "metadata": {
        "id": "kV3ZeGvweA9p",
        "colab_type": "code",
        "colab": {}
      },
      "source": [
        "sim_pearson = {'name':'pearson', 'user_based': False}\n",
        "\n",
        "#instantiate KNNBasline \n",
        "knn_baseline_item = knns.KNNBaseline(sim_options=sim_pearson)"
      ],
      "execution_count": 0,
      "outputs": []
    },
    {
      "cell_type": "code",
      "metadata": {
        "id": "6s_PCGYteBNO",
        "colab_type": "code",
        "outputId": "ea28ff27-5e90-4b8d-bac0-eb6998f69aa9",
        "colab": {
          "base_uri": "https://localhost:8080/",
          "height": 165
        }
      },
      "source": [
        "#fit and cross validate\n",
        "cv_knnbaseline_item = cross_validate(knn_baseline_item, anime_loaded_data, measures=['rmse', 'mae'], cv=3, \n",
        "                                     return_train_measures=True, n_jobs=3, verbose=True)"
      ],
      "execution_count": 125,
      "outputs": [
        {
          "output_type": "stream",
          "text": [
            "Evaluating RMSE, MAE of algorithm KNNBaseline on 3 split(s).\n",
            "\n",
            "                  Fold 1  Fold 2  Fold 3  Mean    Std     \n",
            "RMSE (testset)    2.7766  2.7541  2.7591  2.7633  0.0097  \n",
            "MAE (testset)     2.6803  2.6611  2.6633  2.6682  0.0086  \n",
            "RMSE (trainset)   2.7565  2.7674  2.7648  2.7629  0.0047  \n",
            "MAE (trainset)    2.6616  2.6709  2.6692  2.6672  0.0040  \n",
            "Fit time          0.17    0.19    0.14    0.17    0.02    \n",
            "Test time         0.03    0.02    0.01    0.02    0.01    \n"
          ],
          "name": "stdout"
        }
      ]
    },
    {
      "cell_type": "markdown",
      "metadata": {
        "id": "QKhbNDhEfFiH",
        "colab_type": "text"
      },
      "source": [
        "## 5th Model: User based using KNNWithMeans with pearson "
      ]
    },
    {
      "cell_type": "code",
      "metadata": {
        "id": "vTBSUY7UeBXG",
        "colab_type": "code",
        "colab": {}
      },
      "source": [
        "sim_pearson = {'name': 'pearson', 'user_based': True}\n",
        "\n",
        "#instantiating KNNWithMeans\n",
        "knn_withmeans_user = knns.KNNWithMeans(sim_options=sim_pearson)"
      ],
      "execution_count": 0,
      "outputs": []
    },
    {
      "cell_type": "code",
      "metadata": {
        "id": "iJwZlGi5fbtl",
        "colab_type": "code",
        "outputId": "ed053265-d05a-4347-ab8e-dda1c9a1d61c",
        "colab": {
          "base_uri": "https://localhost:8080/",
          "height": 165
        }
      },
      "source": [
        "#fit and cross validate \n",
        "cv_knnwithmeans_user = cross_validate(knn_withmeans_user, anime_loaded_data, measures=['rmse','mae'], cv=3, return_train_measures=True, \n",
        "                                      n_jobs=3, verbose=True)"
      ],
      "execution_count": 127,
      "outputs": [
        {
          "output_type": "stream",
          "text": [
            "Evaluating RMSE, MAE of algorithm KNNWithMeans on 3 split(s).\n",
            "\n",
            "                  Fold 1  Fold 2  Fold 3  Mean    Std     \n",
            "RMSE (testset)    2.7692  2.7380  2.7833  2.7635  0.0189  \n",
            "MAE (testset)     2.6773  2.6389  2.6891  2.6684  0.0214  \n",
            "RMSE (trainset)   2.7604  2.7753  2.7530  2.7629  0.0092  \n",
            "MAE (trainset)    2.6637  2.6814  2.6566  2.6672  0.0104  \n",
            "Fit time          0.34    0.45    0.36    0.38    0.05    \n",
            "Test time         0.04    0.03    0.01    0.03    0.01    \n"
          ],
          "name": "stdout"
        }
      ]
    },
    {
      "cell_type": "markdown",
      "metadata": {
        "id": "T4vAso0xf4Hi",
        "colab_type": "text"
      },
      "source": [
        "## 6th Model: KNNWithMeans but item based"
      ]
    },
    {
      "cell_type": "code",
      "metadata": {
        "id": "MY4KjDsWf-h3",
        "colab_type": "code",
        "colab": {}
      },
      "source": [
        "sim_pearson = {'name': 'pearson', 'user_based':False}\n",
        "\n",
        "#instantiate \n",
        "knn_withmeans_item = knns.KNNWithMeans(sim_options=sim_pearson)\n"
      ],
      "execution_count": 0,
      "outputs": []
    },
    {
      "cell_type": "code",
      "metadata": {
        "id": "hc43Ggq7f-t8",
        "colab_type": "code",
        "outputId": "e8c8aa94-3413-40e3-cc00-b5e2692200e6",
        "colab": {
          "base_uri": "https://localhost:8080/",
          "height": 165
        }
      },
      "source": [
        "#fit and cross validate\n",
        "cv_knnwithmeans_item = cross_validate(knn_withmeans_item, anime_loaded_data, measures=['rmse', 'mae'], cv=3,\n",
        "                                      return_train_measures=True, n_jobs=3, verbose=True)"
      ],
      "execution_count": 129,
      "outputs": [
        {
          "output_type": "stream",
          "text": [
            "Evaluating RMSE, MAE of algorithm KNNWithMeans on 3 split(s).\n",
            "\n",
            "                  Fold 1  Fold 2  Fold 3  Mean    Std     \n",
            "RMSE (testset)    2.7565  2.7782  2.7551  2.7633  0.0106  \n",
            "MAE (testset)     2.6623  2.6833  2.6591  2.6682  0.0107  \n",
            "RMSE (trainset)   2.7661  2.7552  2.7674  2.7629  0.0055  \n",
            "MAE (trainset)    2.6697  2.6592  2.6728  2.6672  0.0058  \n",
            "Fit time          0.16    0.24    0.14    0.18    0.04    \n",
            "Test time         0.03    0.03    0.01    0.02    0.01    \n"
          ],
          "name": "stdout"
        }
      ]
    },
    {
      "cell_type": "markdown",
      "metadata": {
        "id": "rNNVKItUf_Gn",
        "colab_type": "text"
      },
      "source": [
        "#### The item based for pearson on the KNNWithMeans does not perform as well"
      ]
    },
    {
      "cell_type": "markdown",
      "metadata": {
        "id": "xip9EvPP--Vf",
        "colab_type": "text"
      },
      "source": [
        "## 7th Model, an didiontal SVD with hyperparameter tuning"
      ]
    },
    {
      "cell_type": "code",
      "metadata": {
        "id": "pXUUkcc1-ctP",
        "colab_type": "code",
        "colab": {}
      },
      "source": [
        "parag_grid = {'n_factors': [10, 20, 100],\n",
        "              'n_epochs':[5, 10, 20], \n",
        "              'lr_all': [.002, .005, .01],\n",
        "              'reg_all': [.2, .4, .5, .6]}\n",
        "grid_search = GridSearchCV(SVD, param_grid, measures=['rmse'], cv = 3, n_jobs = 3, return_train_measures=True)"
      ],
      "execution_count": 0,
      "outputs": []
    },
    {
      "cell_type": "code",
      "metadata": {
        "id": "ABZ1xVFD-9nl",
        "colab_type": "code",
        "colab": {
          "base_uri": "https://localhost:8080/",
          "height": 49
        },
        "outputId": "82eaae49-ff5a-47c6-d335-af36561da58c"
      },
      "source": [
        "\n",
        "print('Grid Search...')\n",
        "grid_search.fit(anime_loaded_data)\n",
        "grid_search.best_params"
      ],
      "execution_count": 133,
      "outputs": [
        {
          "output_type": "stream",
          "text": [
            "Grid Search...\n"
          ],
          "name": "stdout"
        },
        {
          "output_type": "execute_result",
          "data": {
            "text/plain": [
              "{'rmse': {'lr_all': 0.002, 'n_epochs': 5, 'n_factors': 5, 'reg_all': 0.02}}"
            ]
          },
          "metadata": {
            "tags": []
          },
          "execution_count": 133
        }
      ]
    },
    {
      "cell_type": "code",
      "metadata": {
        "id": "8OVH0bet_uxj",
        "colab_type": "code",
        "colab": {
          "base_uri": "https://localhost:8080/",
          "height": 49
        },
        "outputId": "1fb3251e-63a4-42be-f8d9-a05175bd6e67"
      },
      "source": [
        "print('mean train RMSE', grid_search.cv_results['mean_train_rmse'].mean())\n",
        "print('mean test RMSE', grid_search.cv_results['mean_test_rmse'].mean())"
      ],
      "execution_count": 134,
      "outputs": [
        {
          "output_type": "stream",
          "text": [
            "mean train RMSE 2.763294366700142\n",
            "mean test RMSE 2.7632920697327963\n"
          ],
          "name": "stdout"
        }
      ]
    },
    {
      "cell_type": "markdown",
      "metadata": {
        "id": "d-swWJpvg9hk",
        "colab_type": "text"
      },
      "source": [
        "## Alternating Least Squares"
      ]
    },
    {
      "cell_type": "markdown",
      "metadata": {
        "id": "IEe7MotMhC58",
        "colab_type": "text"
      },
      "source": [
        "## 8th Model with hyperparameter tuning"
      ]
    },
    {
      "cell_type": "code",
      "metadata": {
        "id": "RgDs7Lj5nrZy",
        "colab_type": "code",
        "colab": {}
      },
      "source": [
        "from surprise.prediction_algorithms import baseline_only\n",
        "from surprise import BaselineOnly"
      ],
      "execution_count": 0,
      "outputs": []
    },
    {
      "cell_type": "code",
      "metadata": {
        "id": "5CKoc6Obms3y",
        "colab_type": "code",
        "colab": {
          "base_uri": "https://localhost:8080/",
          "height": 33
        },
        "outputId": "5080dd52-8e64-4b8d-b976-8559f072a5fa"
      },
      "source": [
        "print('Using ALS')\n",
        "bsl_options = {'method': 'als',\n",
        "               'n_epochs': [5],\n",
        "               'reg_u':[12],\n",
        "               'reg_i':[5]}\n",
        "#instantiate\n",
        "als_algo = baseline_only.BaselineOnly(bsl_options = bsl_options)"
      ],
      "execution_count": 114,
      "outputs": [
        {
          "output_type": "stream",
          "text": [
            "Using ALS\n"
          ],
          "name": "stdout"
        }
      ]
    },
    {
      "cell_type": "code",
      "metadata": {
        "id": "9tQupyVD9XCQ",
        "colab_type": "code",
        "outputId": "40891b26-3246-43eb-88b7-7c63ff20d4e4",
        "colab": {
          "base_uri": "https://localhost:8080/",
          "height": 33
        }
      },
      "source": [
        "\n",
        "als_algo"
      ],
      "execution_count": 115,
      "outputs": [
        {
          "output_type": "execute_result",
          "data": {
            "text/plain": [
              "<surprise.prediction_algorithms.baseline_only.BaselineOnly at 0x7f9bddd8b2e8>"
            ]
          },
          "metadata": {
            "tags": []
          },
          "execution_count": 115
        }
      ]
    },
    {
      "cell_type": "code",
      "metadata": {
        "id": "1b0kQX7Un2GG",
        "colab_type": "code",
        "outputId": "d5b040db-1368-490b-e4f0-0d1ba0af32d4",
        "colab": {
          "base_uri": "https://localhost:8080/",
          "height": 763
        }
      },
      "source": [
        "#fit and cross validate\n",
        "\n",
        "cv_als = cross_validate(als_algo, anime_data, cv = 3, measures=['rmse'], return_train_measures=True, n_jobs = 3, verbose=True)"
      ],
      "execution_count": 116,
      "outputs": [
        {
          "output_type": "error",
          "ename": "TypeError",
          "evalue": "ignored",
          "traceback": [
            "\u001b[0;31m---------------------------------------------------------------------------\u001b[0m",
            "\u001b[0;31m_RemoteTraceback\u001b[0m                          Traceback (most recent call last)",
            "\u001b[0;31m_RemoteTraceback\u001b[0m: \n\"\"\"\nTraceback (most recent call last):\n  File \"/usr/local/lib/python3.6/dist-packages/joblib/externals/loky/process_executor.py\", line 431, in _process_worker\n    r = call_item()\n  File \"/usr/local/lib/python3.6/dist-packages/joblib/externals/loky/process_executor.py\", line 285, in __call__\n    return self.fn(*self.args, **self.kwargs)\n  File \"/usr/local/lib/python3.6/dist-packages/joblib/_parallel_backends.py\", line 593, in __call__\n    return self.func(*args, **kwargs)\n  File \"/usr/local/lib/python3.6/dist-packages/joblib/parallel.py\", line 253, in __call__\n    for func, args, kwargs in self.items]\n  File \"/usr/local/lib/python3.6/dist-packages/joblib/parallel.py\", line 253, in <listcomp>\n    for func, args, kwargs in self.items]\n  File \"/usr/local/lib/python3.6/dist-packages/surprise/model_selection/validation.py\", line 164, in fit_and_score\n    algo.fit(trainset)\n  File \"/usr/local/lib/python3.6/dist-packages/surprise/prediction_algorithms/baseline_only.py\", line 36, in fit\n    self.bu, self.bi = self.compute_baselines()\n  File \"/usr/local/lib/python3.6/dist-packages/surprise/prediction_algorithms/algo_base.py\", line 200, in compute_baselines\n    self.bu, self.bi = method[method_name](self)\n  File \"surprise/prediction_algorithms/optimize_baselines.pyx\", line 36, in surprise.prediction_algorithms.optimize_baselines.baseline_als\nTypeError: an integer is required\n\"\"\"",
            "\nThe above exception was the direct cause of the following exception:\n",
            "\u001b[0;31mTypeError\u001b[0m                                 Traceback (most recent call last)",
            "\u001b[0;32m<ipython-input-116-fd8e6f53ba8e>\u001b[0m in \u001b[0;36m<module>\u001b[0;34m()\u001b[0m\n\u001b[1;32m      1\u001b[0m \u001b[0;31m#fit and cross validate\u001b[0m\u001b[0;34m\u001b[0m\u001b[0;34m\u001b[0m\u001b[0;34m\u001b[0m\u001b[0m\n\u001b[1;32m      2\u001b[0m \u001b[0;34m\u001b[0m\u001b[0m\n\u001b[0;32m----> 3\u001b[0;31m \u001b[0mcv_als\u001b[0m \u001b[0;34m=\u001b[0m \u001b[0mcross_validate\u001b[0m\u001b[0;34m(\u001b[0m\u001b[0mals_algo\u001b[0m\u001b[0;34m,\u001b[0m \u001b[0manime_data\u001b[0m\u001b[0;34m,\u001b[0m \u001b[0mcv\u001b[0m \u001b[0;34m=\u001b[0m \u001b[0;36m3\u001b[0m\u001b[0;34m,\u001b[0m \u001b[0mmeasures\u001b[0m\u001b[0;34m=\u001b[0m\u001b[0;34m[\u001b[0m\u001b[0;34m'rmse'\u001b[0m\u001b[0;34m]\u001b[0m\u001b[0;34m,\u001b[0m \u001b[0mreturn_train_measures\u001b[0m\u001b[0;34m=\u001b[0m\u001b[0;32mTrue\u001b[0m\u001b[0;34m,\u001b[0m \u001b[0mn_jobs\u001b[0m \u001b[0;34m=\u001b[0m \u001b[0;36m3\u001b[0m\u001b[0;34m,\u001b[0m \u001b[0mverbose\u001b[0m\u001b[0;34m=\u001b[0m\u001b[0;32mTrue\u001b[0m\u001b[0;34m)\u001b[0m\u001b[0;34m\u001b[0m\u001b[0;34m\u001b[0m\u001b[0m\n\u001b[0m",
            "\u001b[0;32m/usr/local/lib/python3.6/dist-packages/surprise/model_selection/validation.py\u001b[0m in \u001b[0;36mcross_validate\u001b[0;34m(algo, data, measures, cv, return_train_measures, n_jobs, pre_dispatch, verbose)\u001b[0m\n\u001b[1;32m     99\u001b[0m                                            return_train_measures)\n\u001b[1;32m    100\u001b[0m                     for (trainset, testset) in cv.split(data))\n\u001b[0;32m--> 101\u001b[0;31m     \u001b[0mout\u001b[0m \u001b[0;34m=\u001b[0m \u001b[0mParallel\u001b[0m\u001b[0;34m(\u001b[0m\u001b[0mn_jobs\u001b[0m\u001b[0;34m=\u001b[0m\u001b[0mn_jobs\u001b[0m\u001b[0;34m,\u001b[0m \u001b[0mpre_dispatch\u001b[0m\u001b[0;34m=\u001b[0m\u001b[0mpre_dispatch\u001b[0m\u001b[0;34m)\u001b[0m\u001b[0;34m(\u001b[0m\u001b[0mdelayed_list\u001b[0m\u001b[0;34m)\u001b[0m\u001b[0;34m\u001b[0m\u001b[0;34m\u001b[0m\u001b[0m\n\u001b[0m\u001b[1;32m    102\u001b[0m \u001b[0;34m\u001b[0m\u001b[0m\n\u001b[1;32m    103\u001b[0m     (test_measures_dicts,\n",
            "\u001b[0;32m/usr/local/lib/python3.6/dist-packages/joblib/parallel.py\u001b[0m in \u001b[0;36m__call__\u001b[0;34m(self, iterable)\u001b[0m\n\u001b[1;32m   1040\u001b[0m \u001b[0;34m\u001b[0m\u001b[0m\n\u001b[1;32m   1041\u001b[0m             \u001b[0;32mwith\u001b[0m \u001b[0mself\u001b[0m\u001b[0;34m.\u001b[0m\u001b[0m_backend\u001b[0m\u001b[0;34m.\u001b[0m\u001b[0mretrieval_context\u001b[0m\u001b[0;34m(\u001b[0m\u001b[0;34m)\u001b[0m\u001b[0;34m:\u001b[0m\u001b[0;34m\u001b[0m\u001b[0;34m\u001b[0m\u001b[0m\n\u001b[0;32m-> 1042\u001b[0;31m                 \u001b[0mself\u001b[0m\u001b[0;34m.\u001b[0m\u001b[0mretrieve\u001b[0m\u001b[0;34m(\u001b[0m\u001b[0;34m)\u001b[0m\u001b[0;34m\u001b[0m\u001b[0;34m\u001b[0m\u001b[0m\n\u001b[0m\u001b[1;32m   1043\u001b[0m             \u001b[0;31m# Make sure that we get a last message telling us we are done\u001b[0m\u001b[0;34m\u001b[0m\u001b[0;34m\u001b[0m\u001b[0;34m\u001b[0m\u001b[0m\n\u001b[1;32m   1044\u001b[0m             \u001b[0melapsed_time\u001b[0m \u001b[0;34m=\u001b[0m \u001b[0mtime\u001b[0m\u001b[0;34m.\u001b[0m\u001b[0mtime\u001b[0m\u001b[0;34m(\u001b[0m\u001b[0;34m)\u001b[0m \u001b[0;34m-\u001b[0m \u001b[0mself\u001b[0m\u001b[0;34m.\u001b[0m\u001b[0m_start_time\u001b[0m\u001b[0;34m\u001b[0m\u001b[0;34m\u001b[0m\u001b[0m\n",
            "\u001b[0;32m/usr/local/lib/python3.6/dist-packages/joblib/parallel.py\u001b[0m in \u001b[0;36mretrieve\u001b[0;34m(self)\u001b[0m\n\u001b[1;32m    919\u001b[0m             \u001b[0;32mtry\u001b[0m\u001b[0;34m:\u001b[0m\u001b[0;34m\u001b[0m\u001b[0;34m\u001b[0m\u001b[0m\n\u001b[1;32m    920\u001b[0m                 \u001b[0;32mif\u001b[0m \u001b[0mgetattr\u001b[0m\u001b[0;34m(\u001b[0m\u001b[0mself\u001b[0m\u001b[0;34m.\u001b[0m\u001b[0m_backend\u001b[0m\u001b[0;34m,\u001b[0m \u001b[0;34m'supports_timeout'\u001b[0m\u001b[0;34m,\u001b[0m \u001b[0;32mFalse\u001b[0m\u001b[0;34m)\u001b[0m\u001b[0;34m:\u001b[0m\u001b[0;34m\u001b[0m\u001b[0;34m\u001b[0m\u001b[0m\n\u001b[0;32m--> 921\u001b[0;31m                     \u001b[0mself\u001b[0m\u001b[0;34m.\u001b[0m\u001b[0m_output\u001b[0m\u001b[0;34m.\u001b[0m\u001b[0mextend\u001b[0m\u001b[0;34m(\u001b[0m\u001b[0mjob\u001b[0m\u001b[0;34m.\u001b[0m\u001b[0mget\u001b[0m\u001b[0;34m(\u001b[0m\u001b[0mtimeout\u001b[0m\u001b[0;34m=\u001b[0m\u001b[0mself\u001b[0m\u001b[0;34m.\u001b[0m\u001b[0mtimeout\u001b[0m\u001b[0;34m)\u001b[0m\u001b[0;34m)\u001b[0m\u001b[0;34m\u001b[0m\u001b[0;34m\u001b[0m\u001b[0m\n\u001b[0m\u001b[1;32m    922\u001b[0m                 \u001b[0;32melse\u001b[0m\u001b[0;34m:\u001b[0m\u001b[0;34m\u001b[0m\u001b[0;34m\u001b[0m\u001b[0m\n\u001b[1;32m    923\u001b[0m                     \u001b[0mself\u001b[0m\u001b[0;34m.\u001b[0m\u001b[0m_output\u001b[0m\u001b[0;34m.\u001b[0m\u001b[0mextend\u001b[0m\u001b[0;34m(\u001b[0m\u001b[0mjob\u001b[0m\u001b[0;34m.\u001b[0m\u001b[0mget\u001b[0m\u001b[0;34m(\u001b[0m\u001b[0;34m)\u001b[0m\u001b[0;34m)\u001b[0m\u001b[0;34m\u001b[0m\u001b[0;34m\u001b[0m\u001b[0m\n",
            "\u001b[0;32m/usr/local/lib/python3.6/dist-packages/joblib/_parallel_backends.py\u001b[0m in \u001b[0;36mwrap_future_result\u001b[0;34m(future, timeout)\u001b[0m\n\u001b[1;32m    538\u001b[0m         AsyncResults.get from multiprocessing.\"\"\"\n\u001b[1;32m    539\u001b[0m         \u001b[0;32mtry\u001b[0m\u001b[0;34m:\u001b[0m\u001b[0;34m\u001b[0m\u001b[0;34m\u001b[0m\u001b[0m\n\u001b[0;32m--> 540\u001b[0;31m             \u001b[0;32mreturn\u001b[0m \u001b[0mfuture\u001b[0m\u001b[0;34m.\u001b[0m\u001b[0mresult\u001b[0m\u001b[0;34m(\u001b[0m\u001b[0mtimeout\u001b[0m\u001b[0;34m=\u001b[0m\u001b[0mtimeout\u001b[0m\u001b[0;34m)\u001b[0m\u001b[0;34m\u001b[0m\u001b[0;34m\u001b[0m\u001b[0m\n\u001b[0m\u001b[1;32m    541\u001b[0m         \u001b[0;32mexcept\u001b[0m \u001b[0mCfTimeoutError\u001b[0m\u001b[0;34m:\u001b[0m\u001b[0;34m\u001b[0m\u001b[0;34m\u001b[0m\u001b[0m\n\u001b[1;32m    542\u001b[0m             \u001b[0;32mraise\u001b[0m \u001b[0mTimeoutError\u001b[0m\u001b[0;34m(\u001b[0m\u001b[0;34m)\u001b[0m\u001b[0;34m\u001b[0m\u001b[0;34m\u001b[0m\u001b[0m\n",
            "\u001b[0;32m/usr/lib/python3.6/concurrent/futures/_base.py\u001b[0m in \u001b[0;36mresult\u001b[0;34m(self, timeout)\u001b[0m\n\u001b[1;32m    430\u001b[0m                 \u001b[0;32mraise\u001b[0m \u001b[0mCancelledError\u001b[0m\u001b[0;34m(\u001b[0m\u001b[0;34m)\u001b[0m\u001b[0;34m\u001b[0m\u001b[0;34m\u001b[0m\u001b[0m\n\u001b[1;32m    431\u001b[0m             \u001b[0;32melif\u001b[0m \u001b[0mself\u001b[0m\u001b[0;34m.\u001b[0m\u001b[0m_state\u001b[0m \u001b[0;34m==\u001b[0m \u001b[0mFINISHED\u001b[0m\u001b[0;34m:\u001b[0m\u001b[0;34m\u001b[0m\u001b[0;34m\u001b[0m\u001b[0m\n\u001b[0;32m--> 432\u001b[0;31m                 \u001b[0;32mreturn\u001b[0m \u001b[0mself\u001b[0m\u001b[0;34m.\u001b[0m\u001b[0m__get_result\u001b[0m\u001b[0;34m(\u001b[0m\u001b[0;34m)\u001b[0m\u001b[0;34m\u001b[0m\u001b[0;34m\u001b[0m\u001b[0m\n\u001b[0m\u001b[1;32m    433\u001b[0m             \u001b[0;32melse\u001b[0m\u001b[0;34m:\u001b[0m\u001b[0;34m\u001b[0m\u001b[0;34m\u001b[0m\u001b[0m\n\u001b[1;32m    434\u001b[0m                 \u001b[0;32mraise\u001b[0m \u001b[0mTimeoutError\u001b[0m\u001b[0;34m(\u001b[0m\u001b[0;34m)\u001b[0m\u001b[0;34m\u001b[0m\u001b[0;34m\u001b[0m\u001b[0m\n",
            "\u001b[0;32m/usr/lib/python3.6/concurrent/futures/_base.py\u001b[0m in \u001b[0;36m__get_result\u001b[0;34m(self)\u001b[0m\n\u001b[1;32m    382\u001b[0m     \u001b[0;32mdef\u001b[0m \u001b[0m__get_result\u001b[0m\u001b[0;34m(\u001b[0m\u001b[0mself\u001b[0m\u001b[0;34m)\u001b[0m\u001b[0;34m:\u001b[0m\u001b[0;34m\u001b[0m\u001b[0;34m\u001b[0m\u001b[0m\n\u001b[1;32m    383\u001b[0m         \u001b[0;32mif\u001b[0m \u001b[0mself\u001b[0m\u001b[0;34m.\u001b[0m\u001b[0m_exception\u001b[0m\u001b[0;34m:\u001b[0m\u001b[0;34m\u001b[0m\u001b[0;34m\u001b[0m\u001b[0m\n\u001b[0;32m--> 384\u001b[0;31m             \u001b[0;32mraise\u001b[0m \u001b[0mself\u001b[0m\u001b[0;34m.\u001b[0m\u001b[0m_exception\u001b[0m\u001b[0;34m\u001b[0m\u001b[0;34m\u001b[0m\u001b[0m\n\u001b[0m\u001b[1;32m    385\u001b[0m         \u001b[0;32melse\u001b[0m\u001b[0;34m:\u001b[0m\u001b[0;34m\u001b[0m\u001b[0;34m\u001b[0m\u001b[0m\n\u001b[1;32m    386\u001b[0m             \u001b[0;32mreturn\u001b[0m \u001b[0mself\u001b[0m\u001b[0;34m.\u001b[0m\u001b[0m_result\u001b[0m\u001b[0;34m\u001b[0m\u001b[0;34m\u001b[0m\u001b[0m\n",
            "\u001b[0;31mTypeError\u001b[0m: an integer is required"
          ]
        }
      ]
    },
    {
      "cell_type": "code",
      "metadata": {
        "id": "C9Fy03HlgvJY",
        "colab_type": "code",
        "colab": {}
      },
      "source": [
        "# create parameter permutations\n",
        "epochs = [3, 5, 10, 20]\n",
        "reg_u = [5, 10, 12, 15, 20]\n",
        "reg_i = [3, 5, 10, 15]\n",
        "\n",
        "params = [[i, j, k] for i in epochs\n",
        "          for j in reg_u\n",
        "          for k in reg_i]\n",
        "print('Number of grid search permutation:', len(params))\n"
      ],
      "execution_count": 0,
      "outputs": []
    },
    {
      "cell_type": "code",
      "metadata": {
        "id": "UPDAGKf8gve6",
        "colab_type": "code",
        "colab": {}
      },
      "source": [
        "baseline_options_score = {}\n",
        "\n",
        "for bsl_perm in params: \n",
        "  basline_options = {'method': 'als',\n",
        "                     'n_epochs': bsl_perm[0],\n",
        "                     'reg_u': bsl_perm[1],\n",
        "                     'reg_i': bsl_perm[2]}\n",
        "  #instantiate\n",
        "  algo = baseline_only.BaselineOnly(bsl_options=bsl_options)\n",
        "\n"
      ],
      "execution_count": 0,
      "outputs": []
    },
    {
      "cell_type": "code",
      "metadata": {
        "id": "bY39Y4ibtbC1",
        "colab_type": "code",
        "colab": {}
      },
      "source": [
        "  #fit and cross validate\n",
        "cv_algo = cross_validate(algo, anime_loaded_data, measures=['rmse'], cv=3, return_train_measures=True, n_jobs = 3, verbose=True);\n",
        " "
      ],
      "execution_count": 0,
      "outputs": []
    },
    {
      "cell_type": "markdown",
      "metadata": {
        "id": "Bdivge2Agv3m",
        "colab_type": "text"
      },
      "source": [
        ""
      ]
    },
    {
      "cell_type": "code",
      "metadata": {
        "id": "4ljpH9JLnE-c",
        "colab_type": "code",
        "colab": {}
      },
      "source": [
        " bsl_perm2 = (str(bsl_perm[0]) + ' ' + str(bsl_perm[1]) + ' ' + str(bsl_perm[2]))\n",
        "  baseline_option_score[bsl_perm2] = {'mean_train_rmse': cv_algo['train_rmse'].mean(), 'mean_test_rmse': a['test_rmse'].mean()}\n",
        "\n",
        "  #print('\\n', baseline_options, '\\n', '\\n\\')"
      ],
      "execution_count": 0,
      "outputs": []
    },
    {
      "cell_type": "code",
      "metadata": {
        "id": "d66dWsmWHZ4M",
        "colab_type": "code",
        "colab": {}
      },
      "source": [
        ""
      ],
      "execution_count": 0,
      "outputs": []
    },
    {
      "cell_type": "markdown",
      "metadata": {
        "id": "YekaLdfN66sO",
        "colab_type": "text"
      },
      "source": [
        "# Content Based Model"
      ]
    },
    {
      "cell_type": "code",
      "metadata": {
        "id": "zd0gPF7jCG__",
        "colab_type": "code",
        "outputId": "542f47a6-176b-4a08-efa0-a7254464bd44",
        "colab": {
          "base_uri": "https://localhost:8080/",
          "height": 66
        }
      },
      "source": [
        "import nltk\n",
        "nltk.download('stopwords')"
      ],
      "execution_count": 137,
      "outputs": [
        {
          "output_type": "stream",
          "text": [
            "[nltk_data] Downloading package stopwords to /root/nltk_data...\n",
            "[nltk_data]   Unzipping corpora/stopwords.zip.\n"
          ],
          "name": "stdout"
        },
        {
          "output_type": "execute_result",
          "data": {
            "text/plain": [
              "True"
            ]
          },
          "metadata": {
            "tags": []
          },
          "execution_count": 137
        }
      ]
    },
    {
      "cell_type": "code",
      "metadata": {
        "id": "9oWPViVa7DSK",
        "colab_type": "code",
        "colab": {}
      },
      "source": [
        "import nltk \n",
        "from sklearn.feature_extraction.text import TfidfVectorizer\n",
        "from nltk.corpus import stopwords\n",
        "import string\n",
        "from nltk import word_tokenize, FreqDist\n",
        "import re\n",
        "from sklearn.decomposition import TruncatedSVD\n",
        "from sklearn.metrics.pairwise import linear_kernel"
      ],
      "execution_count": 0,
      "outputs": []
    },
    {
      "cell_type": "code",
      "metadata": {
        "id": "DATDHPbY7d-k",
        "colab_type": "code",
        "outputId": "2ca5464d-16ad-4a34-c7c2-4afb2ddaa6fe",
        "colab": {
          "base_uri": "https://localhost:8080/",
          "height": 189
        }
      },
      "source": [
        "anime_df.head()"
      ],
      "execution_count": 139,
      "outputs": [
        {
          "output_type": "execute_result",
          "data": {
            "text/html": [
              "<div>\n",
              "<style scoped>\n",
              "    .dataframe tbody tr th:only-of-type {\n",
              "        vertical-align: middle;\n",
              "    }\n",
              "\n",
              "    .dataframe tbody tr th {\n",
              "        vertical-align: top;\n",
              "    }\n",
              "\n",
              "    .dataframe thead th {\n",
              "        text-align: right;\n",
              "    }\n",
              "</style>\n",
              "<table border=\"1\" class=\"dataframe\">\n",
              "  <thead>\n",
              "    <tr style=\"text-align: right;\">\n",
              "      <th></th>\n",
              "      <th>anime_id</th>\n",
              "      <th>name</th>\n",
              "      <th>genre</th>\n",
              "      <th>type</th>\n",
              "      <th>episodes</th>\n",
              "      <th>rating</th>\n",
              "      <th>members</th>\n",
              "    </tr>\n",
              "  </thead>\n",
              "  <tbody>\n",
              "    <tr>\n",
              "      <th>0</th>\n",
              "      <td>32281</td>\n",
              "      <td>Kimi no Na wa.</td>\n",
              "      <td>Drama, Romance, School, Supernatural</td>\n",
              "      <td>Movie</td>\n",
              "      <td>1</td>\n",
              "      <td>9.37</td>\n",
              "      <td>200630</td>\n",
              "    </tr>\n",
              "    <tr>\n",
              "      <th>1</th>\n",
              "      <td>5114</td>\n",
              "      <td>Fullmetal Alchemist: Brotherhood</td>\n",
              "      <td>Action, Adventure, Drama, Fantasy, Magic, Mili...</td>\n",
              "      <td>TV</td>\n",
              "      <td>64</td>\n",
              "      <td>9.26</td>\n",
              "      <td>793665</td>\n",
              "    </tr>\n",
              "    <tr>\n",
              "      <th>2</th>\n",
              "      <td>28977</td>\n",
              "      <td>Gintama°</td>\n",
              "      <td>Action, Comedy, Historical, Parody, Samurai, S...</td>\n",
              "      <td>TV</td>\n",
              "      <td>51</td>\n",
              "      <td>9.25</td>\n",
              "      <td>114262</td>\n",
              "    </tr>\n",
              "    <tr>\n",
              "      <th>3</th>\n",
              "      <td>9253</td>\n",
              "      <td>Steins;Gate</td>\n",
              "      <td>Sci-Fi, Thriller</td>\n",
              "      <td>TV</td>\n",
              "      <td>24</td>\n",
              "      <td>9.17</td>\n",
              "      <td>673572</td>\n",
              "    </tr>\n",
              "    <tr>\n",
              "      <th>4</th>\n",
              "      <td>9969</td>\n",
              "      <td>Gintama&amp;#039;</td>\n",
              "      <td>Action, Comedy, Historical, Parody, Samurai, S...</td>\n",
              "      <td>TV</td>\n",
              "      <td>51</td>\n",
              "      <td>9.16</td>\n",
              "      <td>151266</td>\n",
              "    </tr>\n",
              "  </tbody>\n",
              "</table>\n",
              "</div>"
            ],
            "text/plain": [
              "   anime_id                              name  ... rating members\n",
              "0     32281                    Kimi no Na wa.  ...   9.37  200630\n",
              "1      5114  Fullmetal Alchemist: Brotherhood  ...   9.26  793665\n",
              "2     28977                          Gintama°  ...   9.25  114262\n",
              "3      9253                       Steins;Gate  ...   9.17  673572\n",
              "4      9969                     Gintama&#039;  ...   9.16  151266\n",
              "\n",
              "[5 rows x 7 columns]"
            ]
          },
          "metadata": {
            "tags": []
          },
          "execution_count": 139
        }
      ]
    },
    {
      "cell_type": "code",
      "metadata": {
        "id": "jxY87ftE7h3i",
        "colab_type": "code",
        "outputId": "444d3ee9-2a97-4c5c-b13d-b7d12646b1cd",
        "colab": {
          "base_uri": "https://localhost:8080/",
          "height": 189
        }
      },
      "source": [
        "rating_df.head()"
      ],
      "execution_count": 140,
      "outputs": [
        {
          "output_type": "execute_result",
          "data": {
            "text/html": [
              "<div>\n",
              "<style scoped>\n",
              "    .dataframe tbody tr th:only-of-type {\n",
              "        vertical-align: middle;\n",
              "    }\n",
              "\n",
              "    .dataframe tbody tr th {\n",
              "        vertical-align: top;\n",
              "    }\n",
              "\n",
              "    .dataframe thead th {\n",
              "        text-align: right;\n",
              "    }\n",
              "</style>\n",
              "<table border=\"1\" class=\"dataframe\">\n",
              "  <thead>\n",
              "    <tr style=\"text-align: right;\">\n",
              "      <th></th>\n",
              "      <th>user_id</th>\n",
              "      <th>anime_id</th>\n",
              "      <th>rating</th>\n",
              "    </tr>\n",
              "  </thead>\n",
              "  <tbody>\n",
              "    <tr>\n",
              "      <th>0</th>\n",
              "      <td>1</td>\n",
              "      <td>20</td>\n",
              "      <td>-1.0</td>\n",
              "    </tr>\n",
              "    <tr>\n",
              "      <th>1</th>\n",
              "      <td>1</td>\n",
              "      <td>24</td>\n",
              "      <td>-1.0</td>\n",
              "    </tr>\n",
              "    <tr>\n",
              "      <th>2</th>\n",
              "      <td>1</td>\n",
              "      <td>79</td>\n",
              "      <td>-1.0</td>\n",
              "    </tr>\n",
              "    <tr>\n",
              "      <th>3</th>\n",
              "      <td>1</td>\n",
              "      <td>226</td>\n",
              "      <td>-1.0</td>\n",
              "    </tr>\n",
              "    <tr>\n",
              "      <th>4</th>\n",
              "      <td>1</td>\n",
              "      <td>241</td>\n",
              "      <td>-1.0</td>\n",
              "    </tr>\n",
              "  </tbody>\n",
              "</table>\n",
              "</div>"
            ],
            "text/plain": [
              "   user_id  anime_id  rating\n",
              "0        1        20    -1.0\n",
              "1        1        24    -1.0\n",
              "2        1        79    -1.0\n",
              "3        1       226    -1.0\n",
              "4        1       241    -1.0"
            ]
          },
          "metadata": {
            "tags": []
          },
          "execution_count": 140
        }
      ]
    },
    {
      "cell_type": "code",
      "metadata": {
        "id": "Y3elCqa47pdw",
        "colab_type": "code",
        "outputId": "eb16b2f5-c507-44d7-f131-74fc11bcbd60",
        "colab": {
          "base_uri": "https://localhost:8080/",
          "height": 189
        }
      },
      "source": [
        "sample.head()"
      ],
      "execution_count": 141,
      "outputs": [
        {
          "output_type": "execute_result",
          "data": {
            "text/html": [
              "<div>\n",
              "<style scoped>\n",
              "    .dataframe tbody tr th:only-of-type {\n",
              "        vertical-align: middle;\n",
              "    }\n",
              "\n",
              "    .dataframe tbody tr th {\n",
              "        vertical-align: top;\n",
              "    }\n",
              "\n",
              "    .dataframe thead th {\n",
              "        text-align: right;\n",
              "    }\n",
              "</style>\n",
              "<table border=\"1\" class=\"dataframe\">\n",
              "  <thead>\n",
              "    <tr style=\"text-align: right;\">\n",
              "      <th></th>\n",
              "      <th>anime_id</th>\n",
              "      <th>name</th>\n",
              "      <th>genre</th>\n",
              "      <th>type</th>\n",
              "      <th>episodes</th>\n",
              "      <th>rating_x</th>\n",
              "      <th>members</th>\n",
              "      <th>user_id</th>\n",
              "      <th>rating_y</th>\n",
              "    </tr>\n",
              "  </thead>\n",
              "  <tbody>\n",
              "    <tr>\n",
              "      <th>634849</th>\n",
              "      <td>19221</td>\n",
              "      <td>Ore no Nounai Sentakushi ga, Gakuen Love Comed...</td>\n",
              "      <td>Comedy, Romance, School</td>\n",
              "      <td>TV</td>\n",
              "      <td>10</td>\n",
              "      <td>8</td>\n",
              "      <td>179569</td>\n",
              "      <td>9949</td>\n",
              "      <td>7.0</td>\n",
              "    </tr>\n",
              "    <tr>\n",
              "      <th>661795</th>\n",
              "      <td>11179</td>\n",
              "      <td>Papa no Iukoto wo Kikinasai!</td>\n",
              "      <td>Comedy, Romance, Slice of Life</td>\n",
              "      <td>TV</td>\n",
              "      <td>12</td>\n",
              "      <td>8</td>\n",
              "      <td>97674</td>\n",
              "      <td>5527</td>\n",
              "      <td>8.0</td>\n",
              "    </tr>\n",
              "    <tr>\n",
              "      <th>593996</th>\n",
              "      <td>31297</td>\n",
              "      <td>Tokyo Ghoul: &amp;quot;Pinto&amp;quot;</td>\n",
              "      <td>Action, Drama, Horror, Mystery, Psychological,...</td>\n",
              "      <td>OVA</td>\n",
              "      <td>1</td>\n",
              "      <td>8</td>\n",
              "      <td>52312</td>\n",
              "      <td>573</td>\n",
              "      <td>8.0</td>\n",
              "    </tr>\n",
              "    <tr>\n",
              "      <th>1002517</th>\n",
              "      <td>225</td>\n",
              "      <td>Dragon Ball GT</td>\n",
              "      <td>Action, Adventure, Comedy, Fantasy, Magic, Sci...</td>\n",
              "      <td>TV</td>\n",
              "      <td>64</td>\n",
              "      <td>7</td>\n",
              "      <td>226625</td>\n",
              "      <td>3762</td>\n",
              "      <td>8.0</td>\n",
              "    </tr>\n",
              "    <tr>\n",
              "      <th>200257</th>\n",
              "      <td>4477</td>\n",
              "      <td>Nodame Cantabile: Paris-hen</td>\n",
              "      <td>Comedy, Josei, Music, Romance, Slice of Life</td>\n",
              "      <td>TV</td>\n",
              "      <td>11</td>\n",
              "      <td>8</td>\n",
              "      <td>70822</td>\n",
              "      <td>7677</td>\n",
              "      <td>8.0</td>\n",
              "    </tr>\n",
              "  </tbody>\n",
              "</table>\n",
              "</div>"
            ],
            "text/plain": [
              "         anime_id  ... rating_y\n",
              "634849      19221  ...      7.0\n",
              "661795      11179  ...      8.0\n",
              "593996      31297  ...      8.0\n",
              "1002517       225  ...      8.0\n",
              "200257       4477  ...      8.0\n",
              "\n",
              "[5 rows x 9 columns]"
            ]
          },
          "metadata": {
            "tags": []
          },
          "execution_count": 141
        }
      ]
    },
    {
      "cell_type": "code",
      "metadata": {
        "id": "EKJh1Ywc79vU",
        "colab_type": "code",
        "colab": {}
      },
      "source": [
        "genre_tag = sample.loc[:, ['anime_id','name','genre']]"
      ],
      "execution_count": 0,
      "outputs": []
    },
    {
      "cell_type": "code",
      "metadata": {
        "id": "mxT5nAQy8Qn6",
        "colab_type": "code",
        "outputId": "bc09837a-f9c5-42e2-a829-214a35ca94cf",
        "colab": {
          "base_uri": "https://localhost:8080/",
          "height": 189
        }
      },
      "source": [
        "genre_tag.head()"
      ],
      "execution_count": 143,
      "outputs": [
        {
          "output_type": "execute_result",
          "data": {
            "text/html": [
              "<div>\n",
              "<style scoped>\n",
              "    .dataframe tbody tr th:only-of-type {\n",
              "        vertical-align: middle;\n",
              "    }\n",
              "\n",
              "    .dataframe tbody tr th {\n",
              "        vertical-align: top;\n",
              "    }\n",
              "\n",
              "    .dataframe thead th {\n",
              "        text-align: right;\n",
              "    }\n",
              "</style>\n",
              "<table border=\"1\" class=\"dataframe\">\n",
              "  <thead>\n",
              "    <tr style=\"text-align: right;\">\n",
              "      <th></th>\n",
              "      <th>anime_id</th>\n",
              "      <th>name</th>\n",
              "      <th>genre</th>\n",
              "    </tr>\n",
              "  </thead>\n",
              "  <tbody>\n",
              "    <tr>\n",
              "      <th>634849</th>\n",
              "      <td>19221</td>\n",
              "      <td>Ore no Nounai Sentakushi ga, Gakuen Love Comed...</td>\n",
              "      <td>Comedy, Romance, School</td>\n",
              "    </tr>\n",
              "    <tr>\n",
              "      <th>661795</th>\n",
              "      <td>11179</td>\n",
              "      <td>Papa no Iukoto wo Kikinasai!</td>\n",
              "      <td>Comedy, Romance, Slice of Life</td>\n",
              "    </tr>\n",
              "    <tr>\n",
              "      <th>593996</th>\n",
              "      <td>31297</td>\n",
              "      <td>Tokyo Ghoul: &amp;quot;Pinto&amp;quot;</td>\n",
              "      <td>Action, Drama, Horror, Mystery, Psychological,...</td>\n",
              "    </tr>\n",
              "    <tr>\n",
              "      <th>1002517</th>\n",
              "      <td>225</td>\n",
              "      <td>Dragon Ball GT</td>\n",
              "      <td>Action, Adventure, Comedy, Fantasy, Magic, Sci...</td>\n",
              "    </tr>\n",
              "    <tr>\n",
              "      <th>200257</th>\n",
              "      <td>4477</td>\n",
              "      <td>Nodame Cantabile: Paris-hen</td>\n",
              "      <td>Comedy, Josei, Music, Romance, Slice of Life</td>\n",
              "    </tr>\n",
              "  </tbody>\n",
              "</table>\n",
              "</div>"
            ],
            "text/plain": [
              "         anime_id  ...                                              genre\n",
              "634849      19221  ...                            Comedy, Romance, School\n",
              "661795      11179  ...                     Comedy, Romance, Slice of Life\n",
              "593996      31297  ...  Action, Drama, Horror, Mystery, Psychological,...\n",
              "1002517       225  ...  Action, Adventure, Comedy, Fantasy, Magic, Sci...\n",
              "200257       4477  ...       Comedy, Josei, Music, Romance, Slice of Life\n",
              "\n",
              "[5 rows x 3 columns]"
            ]
          },
          "metadata": {
            "tags": []
          },
          "execution_count": 143
        }
      ]
    },
    {
      "cell_type": "code",
      "metadata": {
        "id": "qCoBizYn8SS3",
        "colab_type": "code",
        "colab": {}
      },
      "source": [
        "tags = {}\n",
        "for col in ['genre']:\n",
        "  for a_id in sample['name'].unique():\n",
        "    for i in sample[sample['name'] == a_id][col]: \n",
        "      if a_id in tags: \n",
        "        tags[a_id].append(' '.join(i.lower().split('|')))\n",
        "      else: \n",
        "          tags[a_id] = i.lower().split('|')"
      ],
      "execution_count": 0,
      "outputs": []
    },
    {
      "cell_type": "code",
      "metadata": {
        "id": "msgwVJoEA32y",
        "colab_type": "code",
        "outputId": "3883b036-c858-47a8-df1f-673f966cce76",
        "colab": {
          "base_uri": "https://localhost:8080/",
          "height": 1000
        }
      },
      "source": [
        "tags"
      ],
      "execution_count": 145,
      "outputs": [
        {
          "output_type": "execute_result",
          "data": {
            "text/plain": [
              "{'Ore no Nounai Sentakushi ga, Gakuen Love Comedy wo Zenryoku de Jama Shiteiru': ['comedy, romance, school',\n",
              "  'comedy, romance, school',\n",
              "  'comedy, romance, school',\n",
              "  'comedy, romance, school'],\n",
              " 'Papa no Iukoto wo Kikinasai!': ['comedy, romance, slice of life',\n",
              "  'comedy, romance, slice of life'],\n",
              " 'Tokyo Ghoul: &quot;Pinto&quot;': ['action, drama, horror, mystery, psychological, supernatural'],\n",
              " 'Dragon Ball GT': ['action, adventure, comedy, fantasy, magic, sci-fi, shounen, super power',\n",
              "  'action, adventure, comedy, fantasy, magic, sci-fi, shounen, super power',\n",
              "  'action, adventure, comedy, fantasy, magic, sci-fi, shounen, super power',\n",
              "  'action, adventure, comedy, fantasy, magic, sci-fi, shounen, super power',\n",
              "  'action, adventure, comedy, fantasy, magic, sci-fi, shounen, super power',\n",
              "  'action, adventure, comedy, fantasy, magic, sci-fi, shounen, super power',\n",
              "  'action, adventure, comedy, fantasy, magic, sci-fi, shounen, super power',\n",
              "  'action, adventure, comedy, fantasy, magic, sci-fi, shounen, super power',\n",
              "  'action, adventure, comedy, fantasy, magic, sci-fi, shounen, super power',\n",
              "  'action, adventure, comedy, fantasy, magic, sci-fi, shounen, super power',\n",
              "  'action, adventure, comedy, fantasy, magic, sci-fi, shounen, super power'],\n",
              " 'Nodame Cantabile: Paris-hen': ['comedy, josei, music, romance, slice of life',\n",
              "  'comedy, josei, music, romance, slice of life'],\n",
              " 'Chihayafuru 2': ['drama, game, josei, slice of life, sports',\n",
              "  'drama, game, josei, slice of life, sports'],\n",
              " 'Azumanga Daioh': ['comedy, school, slice of life',\n",
              "  'comedy, school, slice of life',\n",
              "  'comedy, school, slice of life',\n",
              "  'comedy, school, slice of life',\n",
              "  'comedy, school, slice of life'],\n",
              " 'Isekai no Seikishi Monogatari': ['action, comedy, ecchi, fantasy, harem, mecha, school',\n",
              "  'action, comedy, ecchi, fantasy, harem, mecha, school',\n",
              "  'action, comedy, ecchi, fantasy, harem, mecha, school'],\n",
              " 'Neon Genesis Evangelion: The End of Evangelion': ['dementia, drama, mecha, psychological, sci-fi',\n",
              "  'dementia, drama, mecha, psychological, sci-fi',\n",
              "  'dementia, drama, mecha, psychological, sci-fi',\n",
              "  'dementia, drama, mecha, psychological, sci-fi',\n",
              "  'dementia, drama, mecha, psychological, sci-fi',\n",
              "  'dementia, drama, mecha, psychological, sci-fi',\n",
              "  'dementia, drama, mecha, psychological, sci-fi',\n",
              "  'dementia, drama, mecha, psychological, sci-fi',\n",
              "  'dementia, drama, mecha, psychological, sci-fi',\n",
              "  'dementia, drama, mecha, psychological, sci-fi',\n",
              "  'dementia, drama, mecha, psychological, sci-fi',\n",
              "  'dementia, drama, mecha, psychological, sci-fi',\n",
              "  'dementia, drama, mecha, psychological, sci-fi',\n",
              "  'dementia, drama, mecha, psychological, sci-fi',\n",
              "  'dementia, drama, mecha, psychological, sci-fi',\n",
              "  'dementia, drama, mecha, psychological, sci-fi'],\n",
              " 'Yume de Aetara (TV)': ['comedy, drama, romance, seinen, slice of life'],\n",
              " 'Ookami-san to Shichinin no Nakama-tachi': ['comedy, parody, romance',\n",
              "  'comedy, parody, romance',\n",
              "  'comedy, parody, romance',\n",
              "  'comedy, parody, romance',\n",
              "  'comedy, parody, romance',\n",
              "  'comedy, parody, romance',\n",
              "  'comedy, parody, romance'],\n",
              " 'Blood Lad': ['action, comedy, demons, seinen, supernatural, vampire',\n",
              "  'action, comedy, demons, seinen, supernatural, vampire',\n",
              "  'action, comedy, demons, seinen, supernatural, vampire',\n",
              "  'action, comedy, demons, seinen, supernatural, vampire',\n",
              "  'action, comedy, demons, seinen, supernatural, vampire'],\n",
              " 'Stranger: Mukou Hadan': ['action, adventure, historical, samurai',\n",
              "  'action, adventure, historical, samurai',\n",
              "  'action, adventure, historical, samurai',\n",
              "  'action, adventure, historical, samurai'],\n",
              " 'Robotics;Notes': ['drama, mystery, school, sci-fi'],\n",
              " 'Miracle☆Train: Oedo-sen e Youkoso': ['fantasy, shoujo'],\n",
              " 'Battle Athletess Daiundoukai (TV)': ['action, adventure, comedy, drama, school, sci-fi, shounen, sports'],\n",
              " 'Yahari Ore no Seishun Love Comedy wa Machigatteiru. OVA': ['comedy, romance, school',\n",
              "  'comedy, romance, school',\n",
              "  'comedy, romance, school',\n",
              "  'comedy, romance, school'],\n",
              " 'Ichigo 100% Special 2': ['comedy, ecchi, romance, shounen',\n",
              "  'comedy, ecchi, romance, shounen'],\n",
              " 'Bishoujo Senshi Sailor Moon: Sailor Stars': ['adventure, comedy, drama, fantasy, magic, romance, shoujo',\n",
              "  'adventure, comedy, drama, fantasy, magic, romance, shoujo',\n",
              "  'adventure, comedy, drama, fantasy, magic, romance, shoujo',\n",
              "  'adventure, comedy, drama, fantasy, magic, romance, shoujo'],\n",
              " 'Sayonara Zetsubou Sensei': ['comedy, parody, school',\n",
              "  'comedy, parody, school',\n",
              "  'comedy, parody, school',\n",
              "  'comedy, parody, school',\n",
              "  'comedy, parody, school',\n",
              "  'comedy, parody, school',\n",
              "  'comedy, parody, school'],\n",
              " 'Deadman Wonderland': ['action, horror, sci-fi',\n",
              "  'action, horror, sci-fi',\n",
              "  'action, horror, sci-fi',\n",
              "  'action, horror, sci-fi',\n",
              "  'action, horror, sci-fi',\n",
              "  'action, horror, sci-fi',\n",
              "  'action, horror, sci-fi',\n",
              "  'action, horror, sci-fi',\n",
              "  'action, horror, sci-fi',\n",
              "  'action, horror, sci-fi',\n",
              "  'action, horror, sci-fi'],\n",
              " 'Medarot': ['adventure, comedy, sci-fi, shounen'],\n",
              " 'Kotonoha no Niwa': ['drama, psychological, romance, slice of life',\n",
              "  'drama, psychological, romance, slice of life',\n",
              "  'drama, psychological, romance, slice of life'],\n",
              " 'Shingeki no Bahamut: Genesis': ['action, adventure, demons, fantasy, magic, supernatural',\n",
              "  'action, adventure, demons, fantasy, magic, supernatural',\n",
              "  'action, adventure, demons, fantasy, magic, supernatural'],\n",
              " 'Naruto: Shippuuden Movie 2 - Kizuna': ['action, martial arts, shounen, supernatural',\n",
              "  'action, martial arts, shounen, supernatural',\n",
              "  'action, martial arts, shounen, supernatural',\n",
              "  'action, martial arts, shounen, supernatural',\n",
              "  'action, martial arts, shounen, supernatural',\n",
              "  'action, martial arts, shounen, supernatural'],\n",
              " 'Spiral: Suiri no Kizuna': ['drama, mystery, shounen'],\n",
              " 'To LOVE-Ru': ['comedy, ecchi, harem, romance, school, sci-fi',\n",
              "  'comedy, ecchi, harem, romance, school, sci-fi'],\n",
              " 'Nourin': ['comedy, ecchi, romance, school',\n",
              "  'comedy, ecchi, romance, school',\n",
              "  'comedy, ecchi, romance, school',\n",
              "  'comedy, ecchi, romance, school'],\n",
              " 'Sakamoto desu ga?': ['comedy, school, seinen',\n",
              "  'comedy, school, seinen',\n",
              "  'comedy, school, seinen'],\n",
              " 'Shinmai Maou no Testament': ['action, demons, ecchi, fantasy, harem, romance',\n",
              "  'action, demons, ecchi, fantasy, harem, romance',\n",
              "  'action, demons, ecchi, fantasy, harem, romance',\n",
              "  'action, demons, ecchi, fantasy, harem, romance',\n",
              "  'action, demons, ecchi, fantasy, harem, romance',\n",
              "  'action, demons, ecchi, fantasy, harem, romance'],\n",
              " 'Maoyuu Maou Yuusha': ['adventure, demons, fantasy, historical, romance',\n",
              "  'adventure, demons, fantasy, historical, romance',\n",
              "  'adventure, demons, fantasy, historical, romance',\n",
              "  'adventure, demons, fantasy, historical, romance',\n",
              "  'adventure, demons, fantasy, historical, romance'],\n",
              " 'Gakusen Toshi Asterisk': ['action, comedy, ecchi, fantasy, harem, romance, school, sci-fi, supernatural',\n",
              "  'action, comedy, ecchi, fantasy, harem, romance, school, sci-fi, supernatural',\n",
              "  'action, comedy, ecchi, fantasy, harem, romance, school, sci-fi, supernatural',\n",
              "  'action, comedy, ecchi, fantasy, harem, romance, school, sci-fi, supernatural',\n",
              "  'action, comedy, ecchi, fantasy, harem, romance, school, sci-fi, supernatural',\n",
              "  'action, comedy, ecchi, fantasy, harem, romance, school, sci-fi, supernatural',\n",
              "  'action, comedy, ecchi, fantasy, harem, romance, school, sci-fi, supernatural'],\n",
              " 'Hitsugi no Chaika: Avenging Battle': ['action, adventure, comedy, fantasy, romance, shounen',\n",
              "  'action, adventure, comedy, fantasy, romance, shounen'],\n",
              " 'Kekkai Sensen': ['action, fantasy, shounen, super power, supernatural, vampire',\n",
              "  'action, fantasy, shounen, super power, supernatural, vampire',\n",
              "  'action, fantasy, shounen, super power, supernatural, vampire'],\n",
              " 'Free!: FrFr - Short Movie': ['comedy, sports'],\n",
              " 'Yami no Matsuei': ['comedy, drama, fantasy, horror, magic, shoujo, shounen ai, vampire',\n",
              "  'comedy, drama, fantasy, horror, magic, shoujo, shounen ai, vampire'],\n",
              " 'Akira': ['action, adventure, horror, military, sci-fi, supernatural',\n",
              "  'action, adventure, horror, military, sci-fi, supernatural',\n",
              "  'action, adventure, horror, military, sci-fi, supernatural',\n",
              "  'action, adventure, horror, military, sci-fi, supernatural',\n",
              "  'action, adventure, horror, military, sci-fi, supernatural',\n",
              "  'action, adventure, horror, military, sci-fi, supernatural',\n",
              "  'action, adventure, horror, military, sci-fi, supernatural',\n",
              "  'action, adventure, horror, military, sci-fi, supernatural',\n",
              "  'action, adventure, horror, military, sci-fi, supernatural',\n",
              "  'action, adventure, horror, military, sci-fi, supernatural',\n",
              "  'action, adventure, horror, military, sci-fi, supernatural',\n",
              "  'action, adventure, horror, military, sci-fi, supernatural',\n",
              "  'action, adventure, horror, military, sci-fi, supernatural',\n",
              "  'action, adventure, horror, military, sci-fi, supernatural',\n",
              "  'action, adventure, horror, military, sci-fi, supernatural'],\n",
              " 'Tsubasa Chronicle 2nd Season': ['action, adventure, drama, fantasy, mystery, romance, shounen, supernatural',\n",
              "  'action, adventure, drama, fantasy, mystery, romance, shounen, supernatural'],\n",
              " 'Ansatsu Kyoushitsu': ['action, comedy, shounen'],\n",
              " 'Koroshiya 1 The Animation: Episode 0': ['action, dementia, drama, horror, martial arts, psychological, seinen'],\n",
              " 'Myself; Yourself': ['drama, romance, school',\n",
              "  'drama, romance, school',\n",
              "  'drama, romance, school',\n",
              "  'drama, romance, school'],\n",
              " 'Futari Ecchi': ['comedy, ecchi, romance, seinen, slice of life'],\n",
              " 'True Tears': ['drama, romance, school',\n",
              "  'drama, romance, school',\n",
              "  'drama, romance, school',\n",
              "  'drama, romance, school',\n",
              "  'drama, romance, school'],\n",
              " 'Soul Eater': ['action, adventure, comedy, fantasy, shounen, supernatural',\n",
              "  'action, adventure, comedy, fantasy, shounen, supernatural',\n",
              "  'action, adventure, comedy, fantasy, shounen, supernatural',\n",
              "  'action, adventure, comedy, fantasy, shounen, supernatural',\n",
              "  'action, adventure, comedy, fantasy, shounen, supernatural',\n",
              "  'action, adventure, comedy, fantasy, shounen, supernatural',\n",
              "  'action, adventure, comedy, fantasy, shounen, supernatural',\n",
              "  'action, adventure, comedy, fantasy, shounen, supernatural',\n",
              "  'action, adventure, comedy, fantasy, shounen, supernatural',\n",
              "  'action, adventure, comedy, fantasy, shounen, supernatural',\n",
              "  'action, adventure, comedy, fantasy, shounen, supernatural'],\n",
              " 'Minami-ke Okaeri': ['comedy, school, slice of life'],\n",
              " 'Ladies versus Butlers!': ['comedy, ecchi, harem, romance, school, seinen',\n",
              "  'comedy, ecchi, harem, romance, school, seinen',\n",
              "  'comedy, ecchi, harem, romance, school, seinen',\n",
              "  'comedy, ecchi, harem, romance, school, seinen',\n",
              "  'comedy, ecchi, harem, romance, school, seinen',\n",
              "  'comedy, ecchi, harem, romance, school, seinen'],\n",
              " 'Kimi ni Todoke': ['romance, school, shoujo, slice of life',\n",
              "  'romance, school, shoujo, slice of life',\n",
              "  'romance, school, shoujo, slice of life',\n",
              "  'romance, school, shoujo, slice of life',\n",
              "  'romance, school, shoujo, slice of life',\n",
              "  'romance, school, shoujo, slice of life',\n",
              "  'romance, school, shoujo, slice of life'],\n",
              " 'Mirai Nikki (TV)': ['action, mystery, psychological, shounen, supernatural, thriller',\n",
              "  'action, mystery, psychological, shounen, supernatural, thriller',\n",
              "  'action, mystery, psychological, shounen, supernatural, thriller',\n",
              "  'action, mystery, psychological, shounen, supernatural, thriller',\n",
              "  'action, mystery, psychological, shounen, supernatural, thriller',\n",
              "  'action, mystery, psychological, shounen, supernatural, thriller',\n",
              "  'action, mystery, psychological, shounen, supernatural, thriller',\n",
              "  'action, mystery, psychological, shounen, supernatural, thriller',\n",
              "  'action, mystery, psychological, shounen, supernatural, thriller',\n",
              "  'action, mystery, psychological, shounen, supernatural, thriller',\n",
              "  'action, mystery, psychological, shounen, supernatural, thriller',\n",
              "  'action, mystery, psychological, shounen, supernatural, thriller'],\n",
              " 'Steins;Gate: Soumei Eichi no Cognitive Computing': ['comedy',\n",
              "  'comedy',\n",
              "  'comedy'],\n",
              " 'Aishen Qiaokeli-ing...': ['comedy, harem, romance, school'],\n",
              " 'Clannad': ['comedy, drama, romance, school, slice of life, supernatural',\n",
              "  'comedy, drama, romance, school, slice of life, supernatural',\n",
              "  'comedy, drama, romance, school, slice of life, supernatural',\n",
              "  'comedy, drama, romance, school, slice of life, supernatural',\n",
              "  'comedy, drama, romance, school, slice of life, supernatural',\n",
              "  'comedy, drama, romance, school, slice of life, supernatural',\n",
              "  'comedy, drama, romance, school, slice of life, supernatural',\n",
              "  'comedy, drama, romance, school, slice of life, supernatural',\n",
              "  'comedy, drama, romance, school, slice of life, supernatural',\n",
              "  'comedy, drama, romance, school, slice of life, supernatural',\n",
              "  'comedy, drama, romance, school, slice of life, supernatural',\n",
              "  'comedy, drama, romance, school, slice of life, supernatural',\n",
              "  'comedy, drama, romance, school, slice of life, supernatural',\n",
              "  'comedy, drama, romance, school, slice of life, supernatural',\n",
              "  'comedy, drama, romance, school, slice of life, supernatural',\n",
              "  'comedy, drama, romance, school, slice of life, supernatural',\n",
              "  'comedy, drama, romance, school, slice of life, supernatural'],\n",
              " 'Hajime no Ippo': ['comedy, drama, shounen, sports',\n",
              "  'comedy, drama, shounen, sports',\n",
              "  'comedy, drama, shounen, sports',\n",
              "  'comedy, drama, shounen, sports',\n",
              "  'comedy, drama, shounen, sports',\n",
              "  'comedy, drama, shounen, sports',\n",
              "  'comedy, drama, shounen, sports',\n",
              "  'comedy, drama, shounen, sports',\n",
              "  'comedy, drama, shounen, sports',\n",
              "  'comedy, drama, shounen, sports',\n",
              "  'comedy, drama, shounen, sports'],\n",
              " 'Black Lagoon': ['action, seinen',\n",
              "  'action, seinen',\n",
              "  'action, seinen',\n",
              "  'action, seinen',\n",
              "  'action, seinen',\n",
              "  'action, seinen',\n",
              "  'action, seinen',\n",
              "  'action, seinen',\n",
              "  'action, seinen',\n",
              "  'action, seinen',\n",
              "  'action, seinen',\n",
              "  'action, seinen',\n",
              "  'action, seinen',\n",
              "  'action, seinen'],\n",
              " 'Toaru Kagaku no Railgun': ['action, sci-fi, super power',\n",
              "  'action, sci-fi, super power',\n",
              "  'action, sci-fi, super power',\n",
              "  'action, sci-fi, super power',\n",
              "  'action, sci-fi, super power',\n",
              "  'action, sci-fi, super power',\n",
              "  'action, sci-fi, super power',\n",
              "  'action, sci-fi, super power',\n",
              "  'action, sci-fi, super power'],\n",
              " 'Highschool of the Dead': ['action, ecchi, horror, supernatural',\n",
              "  'action, ecchi, horror, supernatural',\n",
              "  'action, ecchi, horror, supernatural',\n",
              "  'action, ecchi, horror, supernatural',\n",
              "  'action, ecchi, horror, supernatural',\n",
              "  'action, ecchi, horror, supernatural',\n",
              "  'action, ecchi, horror, supernatural',\n",
              "  'action, ecchi, horror, supernatural',\n",
              "  'action, ecchi, horror, supernatural'],\n",
              " 'Durarara!!x2 Ketsu': ['action, mystery, supernatural',\n",
              "  'action, mystery, supernatural',\n",
              "  'action, mystery, supernatural',\n",
              "  'action, mystery, supernatural'],\n",
              " 'Tengen Toppa Gurren Lagann': ['action, adventure, comedy, mecha, sci-fi',\n",
              "  'action, adventure, comedy, mecha, sci-fi',\n",
              "  'action, adventure, comedy, mecha, sci-fi',\n",
              "  'action, adventure, comedy, mecha, sci-fi',\n",
              "  'action, adventure, comedy, mecha, sci-fi',\n",
              "  'action, adventure, comedy, mecha, sci-fi',\n",
              "  'action, adventure, comedy, mecha, sci-fi',\n",
              "  'action, adventure, comedy, mecha, sci-fi',\n",
              "  'action, adventure, comedy, mecha, sci-fi',\n",
              "  'action, adventure, comedy, mecha, sci-fi',\n",
              "  'action, adventure, comedy, mecha, sci-fi',\n",
              "  'action, adventure, comedy, mecha, sci-fi',\n",
              "  'action, adventure, comedy, mecha, sci-fi',\n",
              "  'action, adventure, comedy, mecha, sci-fi',\n",
              "  'action, adventure, comedy, mecha, sci-fi',\n",
              "  'action, adventure, comedy, mecha, sci-fi',\n",
              "  'action, adventure, comedy, mecha, sci-fi',\n",
              "  'action, adventure, comedy, mecha, sci-fi',\n",
              "  'action, adventure, comedy, mecha, sci-fi'],\n",
              " 'Girls Bravo: First Season': ['comedy, ecchi, fantasy, harem, romance, school',\n",
              "  'comedy, ecchi, fantasy, harem, romance, school',\n",
              "  'comedy, ecchi, fantasy, harem, romance, school',\n",
              "  'comedy, ecchi, fantasy, harem, romance, school'],\n",
              " 'Basilisk: Kouga Ninpou Chou': ['action, adventure, fantasy, historical, romance, samurai, supernatural',\n",
              "  'action, adventure, fantasy, historical, romance, samurai, supernatural',\n",
              "  'action, adventure, fantasy, historical, romance, samurai, supernatural',\n",
              "  'action, adventure, fantasy, historical, romance, samurai, supernatural',\n",
              "  'action, adventure, fantasy, historical, romance, samurai, supernatural'],\n",
              " 'Tokyo Ghoul': ['action, drama, horror, mystery, psychological, seinen, supernatural',\n",
              "  'action, drama, horror, mystery, psychological, seinen, supernatural',\n",
              "  'action, drama, horror, mystery, psychological, seinen, supernatural',\n",
              "  'action, drama, horror, mystery, psychological, seinen, supernatural',\n",
              "  'action, drama, horror, mystery, psychological, seinen, supernatural',\n",
              "  'action, drama, horror, mystery, psychological, seinen, supernatural',\n",
              "  'action, drama, horror, mystery, psychological, seinen, supernatural',\n",
              "  'action, drama, horror, mystery, psychological, seinen, supernatural',\n",
              "  'action, drama, horror, mystery, psychological, seinen, supernatural',\n",
              "  'action, drama, horror, mystery, psychological, seinen, supernatural',\n",
              "  'action, drama, horror, mystery, psychological, seinen, supernatural',\n",
              "  'action, drama, horror, mystery, psychological, seinen, supernatural',\n",
              "  'action, drama, horror, mystery, psychological, seinen, supernatural',\n",
              "  'action, drama, horror, mystery, psychological, seinen, supernatural',\n",
              "  'action, drama, horror, mystery, psychological, seinen, supernatural',\n",
              "  'action, drama, horror, mystery, psychological, seinen, supernatural'],\n",
              " 'Magi: The Kingdom of Magic': ['action, adventure, fantasy, magic, shounen',\n",
              "  'action, adventure, fantasy, magic, shounen',\n",
              "  'action, adventure, fantasy, magic, shounen',\n",
              "  'action, adventure, fantasy, magic, shounen',\n",
              "  'action, adventure, fantasy, magic, shounen'],\n",
              " 'Kidou Senkan Nadesico': ['action, comedy, mecha, military, parody, romance, sci-fi, shounen, space',\n",
              "  'action, comedy, mecha, military, parody, romance, sci-fi, shounen, space'],\n",
              " 'Chaos Dragon: Sekiryuu Seneki': ['action, fantasy, supernatural'],\n",
              " 'K-On!': ['comedy, music, school, slice of life',\n",
              "  'comedy, music, school, slice of life',\n",
              "  'comedy, music, school, slice of life',\n",
              "  'comedy, music, school, slice of life',\n",
              "  'comedy, music, school, slice of life',\n",
              "  'comedy, music, school, slice of life',\n",
              "  'comedy, music, school, slice of life',\n",
              "  'comedy, music, school, slice of life',\n",
              "  'comedy, music, school, slice of life',\n",
              "  'comedy, music, school, slice of life',\n",
              "  'comedy, music, school, slice of life',\n",
              "  'comedy, music, school, slice of life',\n",
              "  'comedy, music, school, slice of life'],\n",
              " 'Working&#039;!!': ['comedy, slice of life',\n",
              "  'comedy, slice of life',\n",
              "  'comedy, slice of life'],\n",
              " 'Ookami to Koushinryou': ['adventure, fantasy, historical, romance',\n",
              "  'adventure, fantasy, historical, romance',\n",
              "  'adventure, fantasy, historical, romance',\n",
              "  'adventure, fantasy, historical, romance',\n",
              "  'adventure, fantasy, historical, romance',\n",
              "  'adventure, fantasy, historical, romance',\n",
              "  'adventure, fantasy, historical, romance'],\n",
              " 'Kamisama Kazoku': ['comedy, drama, fantasy, romance',\n",
              "  'comedy, drama, fantasy, romance'],\n",
              " 'Junjou Romantica': ['comedy, drama, romance, shounen ai',\n",
              "  'comedy, drama, romance, shounen ai',\n",
              "  'comedy, drama, romance, shounen ai'],\n",
              " 'Suzumiya Haruhi no Yuuutsu': ['comedy, mystery, parody, school, sci-fi, slice of life',\n",
              "  'comedy, mystery, parody, school, sci-fi, slice of life',\n",
              "  'comedy, mystery, parody, school, sci-fi, slice of life',\n",
              "  'comedy, mystery, parody, school, sci-fi, slice of life',\n",
              "  'comedy, mystery, parody, school, sci-fi, slice of life',\n",
              "  'comedy, mystery, parody, school, sci-fi, slice of life',\n",
              "  'comedy, mystery, parody, school, sci-fi, slice of life',\n",
              "  'comedy, mystery, parody, school, sci-fi, slice of life',\n",
              "  'comedy, mystery, parody, school, sci-fi, slice of life',\n",
              "  'comedy, mystery, parody, school, sci-fi, slice of life',\n",
              "  'comedy, mystery, parody, school, sci-fi, slice of life',\n",
              "  'comedy, mystery, parody, school, sci-fi, slice of life',\n",
              "  'comedy, mystery, parody, school, sci-fi, slice of life',\n",
              "  'comedy, mystery, parody, school, sci-fi, slice of life',\n",
              "  'comedy, mystery, parody, school, sci-fi, slice of life',\n",
              "  'comedy, mystery, parody, school, sci-fi, slice of life',\n",
              "  'comedy, mystery, parody, school, sci-fi, slice of life',\n",
              "  'comedy, mystery, parody, school, sci-fi, slice of life'],\n",
              " 'Guilty Crown': ['action, drama, sci-fi, super power',\n",
              "  'action, drama, sci-fi, super power',\n",
              "  'action, drama, sci-fi, super power',\n",
              "  'action, drama, sci-fi, super power',\n",
              "  'action, drama, sci-fi, super power',\n",
              "  'action, drama, sci-fi, super power',\n",
              "  'action, drama, sci-fi, super power'],\n",
              " 'Queen&#039;s Blade OVA': ['action, adventure, ecchi, fantasy'],\n",
              " 'One Piece Movie 6: Omatsuri Danshaku to Himitsu no Shima': ['adventure, comedy, fantasy, shounen',\n",
              "  'adventure, comedy, fantasy, shounen',\n",
              "  'adventure, comedy, fantasy, shounen'],\n",
              " 'Gokukoku no Brynhildr Special': ['comedy, ecchi, harem, sci-fi, seinen'],\n",
              " 'Ero Manga Mitai na Koi Shiyo: Let&#039;s Fall in Love The Ero-manga': ['hentai',\n",
              "  'hentai'],\n",
              " 'Shijou Saikyou no Deshi Kenichi': ['action, comedy, martial arts, school, shounen',\n",
              "  'action, comedy, martial arts, school, shounen',\n",
              "  'action, comedy, martial arts, school, shounen',\n",
              "  'action, comedy, martial arts, school, shounen'],\n",
              " 'Blassreiter': ['action, sci-fi', 'action, sci-fi'],\n",
              " 'Kami nomi zo Shiru Sekai': ['comedy, harem, romance, shounen, supernatural',\n",
              "  'comedy, harem, romance, shounen, supernatural',\n",
              "  'comedy, harem, romance, shounen, supernatural',\n",
              "  'comedy, harem, romance, shounen, supernatural',\n",
              "  'comedy, harem, romance, shounen, supernatural',\n",
              "  'comedy, harem, romance, shounen, supernatural',\n",
              "  'comedy, harem, romance, shounen, supernatural',\n",
              "  'comedy, harem, romance, shounen, supernatural',\n",
              "  'comedy, harem, romance, shounen, supernatural',\n",
              "  'comedy, harem, romance, shounen, supernatural',\n",
              "  'comedy, harem, romance, shounen, supernatural',\n",
              "  'comedy, harem, romance, shounen, supernatural',\n",
              "  'comedy, harem, romance, shounen, supernatural',\n",
              "  'comedy, harem, romance, shounen, supernatural',\n",
              "  'comedy, harem, romance, shounen, supernatural',\n",
              "  'comedy, harem, romance, shounen, supernatural',\n",
              "  'comedy, harem, romance, shounen, supernatural'],\n",
              " 'Choujikuu Romanesque Samy: Missing 99': ['action, sci-fi'],\n",
              " 'Toaru Majutsu no Index': ['action, magic, sci-fi, super power',\n",
              "  'action, magic, sci-fi, super power',\n",
              "  'action, magic, sci-fi, super power',\n",
              "  'action, magic, sci-fi, super power',\n",
              "  'action, magic, sci-fi, super power',\n",
              "  'action, magic, sci-fi, super power',\n",
              "  'action, magic, sci-fi, super power',\n",
              "  'action, magic, sci-fi, super power',\n",
              "  'action, magic, sci-fi, super power',\n",
              "  'action, magic, sci-fi, super power',\n",
              "  'action, magic, sci-fi, super power',\n",
              "  'action, magic, sci-fi, super power'],\n",
              " 'A Kite': ['action, drama, hentai, police', 'action, drama, hentai, police'],\n",
              " 'Dungeon ni Deai wo Motomeru no wa Machigatteiru Darou ka': ['action, adventure, comedy, fantasy, romance',\n",
              "  'action, adventure, comedy, fantasy, romance',\n",
              "  'action, adventure, comedy, fantasy, romance',\n",
              "  'action, adventure, comedy, fantasy, romance',\n",
              "  'action, adventure, comedy, fantasy, romance',\n",
              "  'action, adventure, comedy, fantasy, romance',\n",
              "  'action, adventure, comedy, fantasy, romance',\n",
              "  'action, adventure, comedy, fantasy, romance',\n",
              "  'action, adventure, comedy, fantasy, romance',\n",
              "  'action, adventure, comedy, fantasy, romance',\n",
              "  'action, adventure, comedy, fantasy, romance',\n",
              "  'action, adventure, comedy, fantasy, romance',\n",
              "  'action, adventure, comedy, fantasy, romance',\n",
              "  'action, adventure, comedy, fantasy, romance'],\n",
              " 'Yu☆Gi☆Oh!': ['action, comedy, fantasy, game, shounen',\n",
              "  'action, comedy, fantasy, game, shounen',\n",
              "  'action, comedy, fantasy, game, shounen',\n",
              "  'action, comedy, fantasy, game, shounen',\n",
              "  'action, comedy, fantasy, game, shounen',\n",
              "  'action, comedy, fantasy, game, shounen'],\n",
              " 'Boku wa Tomodachi ga Sukunai Next': ['comedy, harem, romance, school, seinen, slice of life',\n",
              "  'comedy, harem, romance, school, seinen, slice of life',\n",
              "  'comedy, harem, romance, school, seinen, slice of life',\n",
              "  'comedy, harem, romance, school, seinen, slice of life'],\n",
              " 'Mirai Nikki': ['action, shounen, supernatural',\n",
              "  'action, shounen, supernatural',\n",
              "  'action, shounen, supernatural',\n",
              "  'action, shounen, supernatural',\n",
              "  'action, shounen, supernatural'],\n",
              " 'D.C.: Da Capo': ['drama, harem, magic, romance',\n",
              "  'drama, harem, magic, romance'],\n",
              " 'Code Geass: Hangyaku no Lelouch': ['action, mecha, military, school, sci-fi, super power',\n",
              "  'action, mecha, military, school, sci-fi, super power',\n",
              "  'action, mecha, military, school, sci-fi, super power',\n",
              "  'action, mecha, military, school, sci-fi, super power',\n",
              "  'action, mecha, military, school, sci-fi, super power',\n",
              "  'action, mecha, military, school, sci-fi, super power',\n",
              "  'action, mecha, military, school, sci-fi, super power',\n",
              "  'action, mecha, military, school, sci-fi, super power',\n",
              "  'action, mecha, military, school, sci-fi, super power',\n",
              "  'action, mecha, military, school, sci-fi, super power',\n",
              "  'action, mecha, military, school, sci-fi, super power',\n",
              "  'action, mecha, military, school, sci-fi, super power',\n",
              "  'action, mecha, military, school, sci-fi, super power',\n",
              "  'action, mecha, military, school, sci-fi, super power',\n",
              "  'action, mecha, military, school, sci-fi, super power',\n",
              "  'action, mecha, military, school, sci-fi, super power',\n",
              "  'action, mecha, military, school, sci-fi, super power',\n",
              "  'action, mecha, military, school, sci-fi, super power',\n",
              "  'action, mecha, military, school, sci-fi, super power',\n",
              "  'action, mecha, military, school, sci-fi, super power'],\n",
              " 'Yumekui Merry': ['action, shounen, supernatural',\n",
              "  'action, shounen, supernatural'],\n",
              " 'Baby Steps': ['romance, school, shounen, sports',\n",
              "  'romance, school, shounen, sports',\n",
              "  'romance, school, shounen, sports'],\n",
              " 'Hanamonogatari': ['comedy, mystery, supernatural'],\n",
              " 'K: Return of Kings': ['action, super power, supernatural',\n",
              "  'action, super power, supernatural'],\n",
              " 'Detective Conan Movie 14: The Lost Ship in the Sky': ['action, mystery, police, shounen'],\n",
              " 'Shuffle!': ['comedy, drama, ecchi, fantasy, harem, magic, romance, school, seinen',\n",
              "  'comedy, drama, ecchi, fantasy, harem, magic, romance, school, seinen',\n",
              "  'comedy, drama, ecchi, fantasy, harem, magic, romance, school, seinen',\n",
              "  'comedy, drama, ecchi, fantasy, harem, magic, romance, school, seinen',\n",
              "  'comedy, drama, ecchi, fantasy, harem, magic, romance, school, seinen',\n",
              "  'comedy, drama, ecchi, fantasy, harem, magic, romance, school, seinen',\n",
              "  'comedy, drama, ecchi, fantasy, harem, magic, romance, school, seinen'],\n",
              " 'Durarara!!x2 Ten': ['action, mystery, supernatural',\n",
              "  'action, mystery, supernatural',\n",
              "  'action, mystery, supernatural',\n",
              "  'action, mystery, supernatural'],\n",
              " 'Angel Beats!': ['action, comedy, drama, school, supernatural',\n",
              "  'action, comedy, drama, school, supernatural',\n",
              "  'action, comedy, drama, school, supernatural',\n",
              "  'action, comedy, drama, school, supernatural',\n",
              "  'action, comedy, drama, school, supernatural',\n",
              "  'action, comedy, drama, school, supernatural',\n",
              "  'action, comedy, drama, school, supernatural',\n",
              "  'action, comedy, drama, school, supernatural',\n",
              "  'action, comedy, drama, school, supernatural',\n",
              "  'action, comedy, drama, school, supernatural',\n",
              "  'action, comedy, drama, school, supernatural',\n",
              "  'action, comedy, drama, school, supernatural'],\n",
              " 'Mahou Shoujo Lyrical Nanoha A&#039;s': ['action, comedy, drama, magic, super power',\n",
              "  'action, comedy, drama, magic, super power'],\n",
              " 'Kara no Kyoukai 6: Boukyaku Rokuon': ['action, magic, mystery, romance, supernatural, thriller',\n",
              "  'action, magic, mystery, romance, supernatural, thriller',\n",
              "  'action, magic, mystery, romance, supernatural, thriller',\n",
              "  'action, magic, mystery, romance, supernatural, thriller'],\n",
              " 'Hellsing': ['action, horror, seinen, supernatural, vampire',\n",
              "  'action, horror, seinen, supernatural, vampire',\n",
              "  'action, horror, seinen, supernatural, vampire',\n",
              "  'action, horror, seinen, supernatural, vampire',\n",
              "  'action, horror, seinen, supernatural, vampire',\n",
              "  'action, horror, seinen, supernatural, vampire',\n",
              "  'action, horror, seinen, supernatural, vampire',\n",
              "  'action, horror, seinen, supernatural, vampire',\n",
              "  'action, horror, seinen, supernatural, vampire',\n",
              "  'action, horror, seinen, supernatural, vampire',\n",
              "  'action, horror, seinen, supernatural, vampire',\n",
              "  'action, horror, seinen, supernatural, vampire',\n",
              "  'action, horror, seinen, supernatural, vampire',\n",
              "  'action, horror, seinen, supernatural, vampire',\n",
              "  'action, horror, seinen, supernatural, vampire',\n",
              "  'action, horror, seinen, supernatural, vampire'],\n",
              " 'Jigoku Shoujo Futakomori': ['horror, mystery, psychological, supernatural',\n",
              "  'horror, mystery, psychological, supernatural',\n",
              "  'horror, mystery, psychological, supernatural'],\n",
              " 'Absolute Duo': ['action, ecchi, harem, romance, school, supernatural',\n",
              "  'action, ecchi, harem, romance, school, supernatural',\n",
              "  'action, ecchi, harem, romance, school, supernatural'],\n",
              " 'Rozen Maiden: Meitantei Kunkun - Duell Walzer': ['comedy, mystery'],\n",
              " 'Elfen Lied Special': ['drama, ecchi, horror, psychological, supernatural',\n",
              "  'drama, ecchi, horror, psychological, supernatural',\n",
              "  'drama, ecchi, horror, psychological, supernatural'],\n",
              " 'Kore wa Zombie Desu ka?': ['action, comedy, ecchi, harem, magic, supernatural',\n",
              "  'action, comedy, ecchi, harem, magic, supernatural',\n",
              "  'action, comedy, ecchi, harem, magic, supernatural',\n",
              "  'action, comedy, ecchi, harem, magic, supernatural'],\n",
              " 'Karen Senki': ['action, sci-fi'],\n",
              " 'Pokemon Advanced Generation: Rekkuu no Houmonsha Deoxys': ['action, adventure, comedy, fantasy, kids, sci-fi',\n",
              "  'action, adventure, comedy, fantasy, kids, sci-fi',\n",
              "  'action, adventure, comedy, fantasy, kids, sci-fi',\n",
              "  'action, adventure, comedy, fantasy, kids, sci-fi'],\n",
              " 'Star Ocean EX': ['adventure, fantasy, sci-fi, shounen',\n",
              "  'adventure, fantasy, sci-fi, shounen'],\n",
              " 'Bungou Stray Dogs': ['action, comedy, mystery, seinen, supernatural',\n",
              "  'action, comedy, mystery, seinen, supernatural',\n",
              "  'action, comedy, mystery, seinen, supernatural'],\n",
              " 'Aki-Sora: Yume no Naka': ['ecchi, romance, seinen, yuri',\n",
              "  'ecchi, romance, seinen, yuri',\n",
              "  'ecchi, romance, seinen, yuri'],\n",
              " 'One Piece Recap': ['action, adventure, comedy, fantasy, shounen, super power'],\n",
              " 'Aiura': ['comedy, school, shounen, slice of life',\n",
              "  'comedy, school, shounen, slice of life',\n",
              "  'comedy, school, shounen, slice of life',\n",
              "  'comedy, school, shounen, slice of life'],\n",
              " 'Dragon Half': ['comedy, fantasy, parody', 'comedy, fantasy, parody'],\n",
              " 'Saki Achiga-hen: Episode of Side-A Specials': ['game, school, slice of life'],\n",
              " 'Saint Seiya': ['adventure, fantasy, sci-fi, shounen',\n",
              "  'adventure, fantasy, sci-fi, shounen'],\n",
              " 'One Punch Man': ['action, comedy, parody, sci-fi, seinen, super power, supernatural',\n",
              "  'action, comedy, parody, sci-fi, seinen, super power, supernatural',\n",
              "  'action, comedy, parody, sci-fi, seinen, super power, supernatural',\n",
              "  'action, comedy, parody, sci-fi, seinen, super power, supernatural'],\n",
              " 'Magi: The Labyrinth of Magic': ['action, adventure, fantasy, magic, shounen',\n",
              "  'action, adventure, fantasy, magic, shounen',\n",
              "  'action, adventure, fantasy, magic, shounen',\n",
              "  'action, adventure, fantasy, magic, shounen'],\n",
              " 'Panty &amp; Stocking with Garterbelt': ['action, comedy, ecchi, parody, supernatural',\n",
              "  'action, comedy, ecchi, parody, supernatural',\n",
              "  'action, comedy, ecchi, parody, supernatural',\n",
              "  'action, comedy, ecchi, parody, supernatural'],\n",
              " 'Final Fantasy: The Spirits Within': ['sci-fi', 'sci-fi'],\n",
              " 'Saint Seiya: Shinku no Shounen Densetsu': ['adventure, fantasy, sci-fi, shounen'],\n",
              " 'Druaga no Tou: The Aegis of Uruk - Jil no Bouken': ['adventure, fantasy'],\n",
              " 'Hataraku Maou-sama!': ['comedy, demons, fantasy, romance, shounen',\n",
              "  'comedy, demons, fantasy, romance, shounen',\n",
              "  'comedy, demons, fantasy, romance, shounen',\n",
              "  'comedy, demons, fantasy, romance, shounen',\n",
              "  'comedy, demons, fantasy, romance, shounen',\n",
              "  'comedy, demons, fantasy, romance, shounen'],\n",
              " 'Black Bullet': ['action, mystery, sci-fi, seinen',\n",
              "  'action, mystery, sci-fi, seinen',\n",
              "  'action, mystery, sci-fi, seinen',\n",
              "  'action, mystery, sci-fi, seinen'],\n",
              " 'Free!': ['comedy, school, slice of life, sports',\n",
              "  'comedy, school, slice of life, sports',\n",
              "  'comedy, school, slice of life, sports',\n",
              "  'comedy, school, slice of life, sports',\n",
              "  'comedy, school, slice of life, sports',\n",
              "  'comedy, school, slice of life, sports'],\n",
              " 'Prince of Tennis: The National Tournament Finals': ['comedy, school, shounen, sports'],\n",
              " 'Kimi ni Todoke 2nd Season': ['romance, school, shoujo, slice of life',\n",
              "  'romance, school, shoujo, slice of life',\n",
              "  'romance, school, shoujo, slice of life',\n",
              "  'romance, school, shoujo, slice of life',\n",
              "  'romance, school, shoujo, slice of life',\n",
              "  'romance, school, shoujo, slice of life',\n",
              "  'romance, school, shoujo, slice of life'],\n",
              " 'Free!: Eternal Summer': ['comedy, school, slice of life, sports',\n",
              "  'comedy, school, slice of life, sports',\n",
              "  'comedy, school, slice of life, sports',\n",
              "  'comedy, school, slice of life, sports'],\n",
              " 'No.6': ['action, sci-fi', 'action, sci-fi'],\n",
              " 'Ore no Imouto ga Konnani Kawaii Wake ga Nai': ['comedy, seinen, slice of life',\n",
              "  'comedy, seinen, slice of life',\n",
              "  'comedy, seinen, slice of life',\n",
              "  'comedy, seinen, slice of life',\n",
              "  'comedy, seinen, slice of life',\n",
              "  'comedy, seinen, slice of life',\n",
              "  'comedy, seinen, slice of life',\n",
              "  'comedy, seinen, slice of life',\n",
              "  'comedy, seinen, slice of life'],\n",
              " 'Candy Boy Episode: EX01 - Mirai Yohouzu': ['school, shoujo ai, slice of life'],\n",
              " 'Little Witch Academia': ['adventure, comedy, fantasy, magic, school',\n",
              "  'adventure, comedy, fantasy, magic, school'],\n",
              " 'Darker than Black: Ryuusei no Gemini': ['action, mystery, sci-fi, super power',\n",
              "  'action, mystery, sci-fi, super power',\n",
              "  'action, mystery, sci-fi, super power',\n",
              "  'action, mystery, sci-fi, super power',\n",
              "  'action, mystery, sci-fi, super power',\n",
              "  'action, mystery, sci-fi, super power',\n",
              "  'action, mystery, sci-fi, super power',\n",
              "  'action, mystery, sci-fi, super power'],\n",
              " 'Kono Minikuku mo Utsukushii Sekai': ['comedy, drama, magic, romance, sci-fi'],\n",
              " 'Natsu no Arashi!': ['comedy, romance, supernatural',\n",
              "  'comedy, romance, supernatural'],\n",
              " 'Kore ga Watashi no Goshujinsama': ['comedy, ecchi, slice of life',\n",
              "  'comedy, ecchi, slice of life',\n",
              "  'comedy, ecchi, slice of life',\n",
              "  'comedy, ecchi, slice of life'],\n",
              " 'Juubee Ninpuuchou': ['adventure, fantasy, historical, horror, romance, shounen, supernatural',\n",
              "  'adventure, fantasy, historical, horror, romance, shounen, supernatural'],\n",
              " 'Kara no Kyoukai 5: Mujun Rasen': ['action, drama, mystery, romance, supernatural, thriller',\n",
              "  'action, drama, mystery, romance, supernatural, thriller',\n",
              "  'action, drama, mystery, romance, supernatural, thriller'],\n",
              " 'Kimi no Na wa.': ['drama, romance, school, supernatural'],\n",
              " 'Hentai Ouji to Warawanai Neko.': ['comedy, harem, romance, school, seinen, supernatural',\n",
              "  'comedy, harem, romance, school, seinen, supernatural',\n",
              "  'comedy, harem, romance, school, seinen, supernatural',\n",
              "  'comedy, harem, romance, school, seinen, supernatural'],\n",
              " 'Death Parade': ['drama, game, mystery, psychological, thriller',\n",
              "  'drama, game, mystery, psychological, thriller',\n",
              "  'drama, game, mystery, psychological, thriller',\n",
              "  'drama, game, mystery, psychological, thriller'],\n",
              " 'Campione!: Matsurowanu Kamigami to Kamigoroshi no Maou': ['comedy, ecchi, fantasy, harem, magic, romance',\n",
              "  'comedy, ecchi, fantasy, harem, magic, romance',\n",
              "  'comedy, ecchi, fantasy, harem, magic, romance',\n",
              "  'comedy, ecchi, fantasy, harem, magic, romance'],\n",
              " 'Vampire Hunter D (2000)': ['action, drama, fantasy, horror, romance, sci-fi, vampire',\n",
              "  'action, drama, fantasy, horror, romance, sci-fi, vampire',\n",
              "  'action, drama, fantasy, horror, romance, sci-fi, vampire',\n",
              "  'action, drama, fantasy, horror, romance, sci-fi, vampire',\n",
              "  'action, drama, fantasy, horror, romance, sci-fi, vampire'],\n",
              " 'Katekyo Hitman Reborn!': ['action, comedy, shounen, super power',\n",
              "  'action, comedy, shounen, super power',\n",
              "  'action, comedy, shounen, super power',\n",
              "  'action, comedy, shounen, super power',\n",
              "  'action, comedy, shounen, super power',\n",
              "  'action, comedy, shounen, super power'],\n",
              " 'Uchouten Kazoku': ['comedy, drama, fantasy, slice of life',\n",
              "  'comedy, drama, fantasy, slice of life'],\n",
              " 'Boku dake ga Inai Machi': ['mystery, psychological, seinen, supernatural',\n",
              "  'mystery, psychological, seinen, supernatural',\n",
              "  'mystery, psychological, seinen, supernatural',\n",
              "  'mystery, psychological, seinen, supernatural',\n",
              "  'mystery, psychological, seinen, supernatural'],\n",
              " 'Danganronpa: Kibou no Gakuen to Zetsubou no Koukousei The Animation': ['action, horror, mystery, psychological',\n",
              "  'action, horror, mystery, psychological',\n",
              "  'action, horror, mystery, psychological'],\n",
              " 'Ore no Kanojo to Osananajimi ga Shuraba Sugiru': ['comedy, harem, romance, school',\n",
              "  'comedy, harem, romance, school'],\n",
              " 'Candy☆Boy: Side Story For Archive': ['romance, school, shoujo ai'],\n",
              " 'Persona 4 the Animation': ['adventure, mystery, school, sci-fi, super power, supernatural',\n",
              "  'adventure, mystery, school, sci-fi, super power, supernatural'],\n",
              " 'Digimon Frontier': ['action, adventure, comedy, drama, fantasy, shounen',\n",
              "  'action, adventure, comedy, drama, fantasy, shounen',\n",
              "  'action, adventure, comedy, drama, fantasy, shounen',\n",
              "  'action, adventure, comedy, drama, fantasy, shounen'],\n",
              " 'Owarimonogatari': ['comedy, mystery, supernatural',\n",
              "  'comedy, mystery, supernatural'],\n",
              " 'Tantei Gakuen Q': ['comedy, drama, mystery, police, shounen'],\n",
              " 'Clannad: After Story': ['drama, fantasy, romance, slice of life, supernatural',\n",
              "  'drama, fantasy, romance, slice of life, supernatural',\n",
              "  'drama, fantasy, romance, slice of life, supernatural',\n",
              "  'drama, fantasy, romance, slice of life, supernatural',\n",
              "  'drama, fantasy, romance, slice of life, supernatural',\n",
              "  'drama, fantasy, romance, slice of life, supernatural',\n",
              "  'drama, fantasy, romance, slice of life, supernatural',\n",
              "  'drama, fantasy, romance, slice of life, supernatural',\n",
              "  'drama, fantasy, romance, slice of life, supernatural',\n",
              "  'drama, fantasy, romance, slice of life, supernatural',\n",
              "  'drama, fantasy, romance, slice of life, supernatural',\n",
              "  'drama, fantasy, romance, slice of life, supernatural',\n",
              "  'drama, fantasy, romance, slice of life, supernatural',\n",
              "  'drama, fantasy, romance, slice of life, supernatural'],\n",
              " 'Blue Drop: Tenshi-tachi no Gikyoku': ['drama, sci-fi, shoujo ai',\n",
              "  'drama, sci-fi, shoujo ai'],\n",
              " 'Nodame Cantabile': ['comedy, drama, josei, music, romance, slice of life',\n",
              "  'comedy, drama, josei, music, romance, slice of life',\n",
              "  'comedy, drama, josei, music, romance, slice of life',\n",
              "  'comedy, drama, josei, music, romance, slice of life',\n",
              "  'comedy, drama, josei, music, romance, slice of life',\n",
              "  'comedy, drama, josei, music, romance, slice of life',\n",
              "  'comedy, drama, josei, music, romance, slice of life',\n",
              "  'comedy, drama, josei, music, romance, slice of life'],\n",
              " 'Last Exile': ['action, adventure, sci-fi',\n",
              "  'action, adventure, sci-fi',\n",
              "  'action, adventure, sci-fi',\n",
              "  'action, adventure, sci-fi'],\n",
              " 'Kimi ga Nozomu Eien': ['drama, romance, slice of life',\n",
              "  'drama, romance, slice of life',\n",
              "  'drama, romance, slice of life',\n",
              "  'drama, romance, slice of life'],\n",
              " 'Kikoushi Enma': ['demons, ecchi, fantasy, horror, magic, seinen, supernatural',\n",
              "  'demons, ecchi, fantasy, horror, magic, seinen, supernatural'],\n",
              " 'City Hunter 3': ['action, comedy, mystery, shounen',\n",
              "  'action, comedy, mystery, shounen'],\n",
              " 'Bleach Movie 3: Fade to Black - Kimi no Na wo Yobu': ['action, comedy, shounen, super power, supernatural',\n",
              "  'action, comedy, shounen, super power, supernatural',\n",
              "  'action, comedy, shounen, super power, supernatural',\n",
              "  'action, comedy, shounen, super power, supernatural',\n",
              "  'action, comedy, shounen, super power, supernatural',\n",
              "  'action, comedy, shounen, super power, supernatural'],\n",
              " 'Fate/stay night: Unlimited Blade Works': ['action, fantasy, magic, shounen, supernatural',\n",
              "  'action, fantasy, magic, shounen, supernatural',\n",
              "  'action, fantasy, magic, shounen, supernatural',\n",
              "  'action, fantasy, magic, shounen, supernatural',\n",
              "  'action, fantasy, magic, shounen, supernatural',\n",
              "  'action, fantasy, magic, shounen, supernatural',\n",
              "  'action, fantasy, magic, shounen, supernatural'],\n",
              " 'Mushibugyou': ['action, fantasy, historical, martial arts, samurai, shounen, super power',\n",
              "  'action, fantasy, historical, martial arts, samurai, shounen, super power'],\n",
              " 'Golden Time': ['comedy, romance, seinen',\n",
              "  'comedy, romance, seinen',\n",
              "  'comedy, romance, seinen',\n",
              "  'comedy, romance, seinen',\n",
              "  'comedy, romance, seinen',\n",
              "  'comedy, romance, seinen',\n",
              "  'comedy, romance, seinen',\n",
              "  'comedy, romance, seinen'],\n",
              " 'Street Fighter II: The Movie': ['action, martial arts, shounen'],\n",
              " 'Parasite Dolls': ['action, mecha, police, sci-fi',\n",
              "  'action, mecha, police, sci-fi'],\n",
              " 'Yahari Ore no Seishun Love Comedy wa Machigatteiru.': ['comedy, drama, romance, school',\n",
              "  'comedy, drama, romance, school',\n",
              "  'comedy, drama, romance, school',\n",
              "  'comedy, drama, romance, school',\n",
              "  'comedy, drama, romance, school',\n",
              "  'comedy, drama, romance, school',\n",
              "  'comedy, drama, romance, school'],\n",
              " 'Nanatsu no Taizai': ['action, adventure, ecchi, fantasy, shounen, supernatural',\n",
              "  'action, adventure, ecchi, fantasy, shounen, supernatural',\n",
              "  'action, adventure, ecchi, fantasy, shounen, supernatural',\n",
              "  'action, adventure, ecchi, fantasy, shounen, supernatural',\n",
              "  'action, adventure, ecchi, fantasy, shounen, supernatural',\n",
              "  'action, adventure, ecchi, fantasy, shounen, supernatural',\n",
              "  'action, adventure, ecchi, fantasy, shounen, supernatural'],\n",
              " 'ef: A Tale of Memories.': ['drama, mystery, romance',\n",
              "  'drama, mystery, romance',\n",
              "  'drama, mystery, romance',\n",
              "  'drama, mystery, romance',\n",
              "  'drama, mystery, romance',\n",
              "  'drama, mystery, romance'],\n",
              " 'Shingeki no Kyojin': ['action, drama, fantasy, shounen, super power',\n",
              "  'action, drama, fantasy, shounen, super power',\n",
              "  'action, drama, fantasy, shounen, super power',\n",
              "  'action, drama, fantasy, shounen, super power',\n",
              "  'action, drama, fantasy, shounen, super power',\n",
              "  'action, drama, fantasy, shounen, super power',\n",
              "  'action, drama, fantasy, shounen, super power',\n",
              "  'action, drama, fantasy, shounen, super power',\n",
              "  'action, drama, fantasy, shounen, super power',\n",
              "  'action, drama, fantasy, shounen, super power',\n",
              "  'action, drama, fantasy, shounen, super power',\n",
              "  'action, drama, fantasy, shounen, super power',\n",
              "  'action, drama, fantasy, shounen, super power',\n",
              "  'action, drama, fantasy, shounen, super power',\n",
              "  'action, drama, fantasy, shounen, super power',\n",
              "  'action, drama, fantasy, shounen, super power'],\n",
              " 'Karigurashi no Arrietty': ['fantasy',\n",
              "  'fantasy',\n",
              "  'fantasy',\n",
              "  'fantasy',\n",
              "  'fantasy',\n",
              "  'fantasy'],\n",
              " 'Lovely★Complex': ['comedy, romance, shoujo',\n",
              "  'comedy, romance, shoujo',\n",
              "  'comedy, romance, shoujo',\n",
              "  'comedy, romance, shoujo',\n",
              "  'comedy, romance, shoujo',\n",
              "  'comedy, romance, shoujo',\n",
              "  'comedy, romance, shoujo',\n",
              "  'comedy, romance, shoujo'],\n",
              " 'Sword Art Online II': ['action, adventure, fantasy, game, romance',\n",
              "  'action, adventure, fantasy, game, romance',\n",
              "  'action, adventure, fantasy, game, romance',\n",
              "  'action, adventure, fantasy, game, romance',\n",
              "  'action, adventure, fantasy, game, romance',\n",
              "  'action, adventure, fantasy, game, romance',\n",
              "  'action, adventure, fantasy, game, romance'],\n",
              " 'Little Busters!': ['comedy, drama, school, slice of life, supernatural',\n",
              "  'comedy, drama, school, slice of life, supernatural'],\n",
              " 'Tsubasa: Tokyo Revelations': ['action, adventure, drama, fantasy, romance, shounen',\n",
              "  'action, adventure, drama, fantasy, romance, shounen',\n",
              "  'action, adventure, drama, fantasy, romance, shounen',\n",
              "  'action, adventure, drama, fantasy, romance, shounen'],\n",
              " 'D.N.Angel': ['action, comedy, fantasy, magic, romance, school, shoujo',\n",
              "  'action, comedy, fantasy, magic, romance, school, shoujo',\n",
              "  'action, comedy, fantasy, magic, romance, school, shoujo',\n",
              "  'action, comedy, fantasy, magic, romance, school, shoujo'],\n",
              " 'Nagato Yuki-chan no Shoushitsu': ['comedy, romance, school, seinen, slice of life'],\n",
              " 'Kuroko no Basket NG-shuu': ['comedy, school, shounen, sports',\n",
              "  'comedy, school, shounen, sports'],\n",
              " 'ChäoS;HEAd': ['harem, mystery, psychological, sci-fi, supernatural',\n",
              "  'harem, mystery, psychological, sci-fi, supernatural',\n",
              "  'harem, mystery, psychological, sci-fi, supernatural',\n",
              "  'harem, mystery, psychological, sci-fi, supernatural',\n",
              "  'harem, mystery, psychological, sci-fi, supernatural',\n",
              "  'harem, mystery, psychological, sci-fi, supernatural',\n",
              "  'harem, mystery, psychological, sci-fi, supernatural'],\n",
              " 'Glass no Kamen (2005)': ['drama, shoujo'],\n",
              " 'Shin Shirayuki-hime Densetsu Prétear': ['comedy, drama, fantasy, magic, romance, shoujo, super power'],\n",
              " 'Suzumiya Haruhi no Yuuutsu (2009)': ['comedy, mystery, parody, romance, school, sci-fi, slice of life',\n",
              "  'comedy, mystery, parody, romance, school, sci-fi, slice of life',\n",
              "  'comedy, mystery, parody, romance, school, sci-fi, slice of life',\n",
              "  'comedy, mystery, parody, romance, school, sci-fi, slice of life',\n",
              "  'comedy, mystery, parody, romance, school, sci-fi, slice of life',\n",
              "  'comedy, mystery, parody, romance, school, sci-fi, slice of life',\n",
              "  'comedy, mystery, parody, romance, school, sci-fi, slice of life',\n",
              "  'comedy, mystery, parody, romance, school, sci-fi, slice of life'],\n",
              " 'Toki wo Kakeru Shoujo': ['adventure, drama, romance, sci-fi',\n",
              "  'adventure, drama, romance, sci-fi',\n",
              "  'adventure, drama, romance, sci-fi',\n",
              "  'adventure, drama, romance, sci-fi',\n",
              "  'adventure, drama, romance, sci-fi',\n",
              "  'adventure, drama, romance, sci-fi',\n",
              "  'adventure, drama, romance, sci-fi',\n",
              "  'adventure, drama, romance, sci-fi'],\n",
              " 'High School DxD New': ['action, comedy, demons, ecchi, harem, romance, school',\n",
              "  'action, comedy, demons, ecchi, harem, romance, school',\n",
              "  'action, comedy, demons, ecchi, harem, romance, school',\n",
              "  'action, comedy, demons, ecchi, harem, romance, school'],\n",
              " 'Inu x Boku SS': ['comedy, romance, shounen, supernatural',\n",
              "  'comedy, romance, shounen, supernatural',\n",
              "  'comedy, romance, shounen, supernatural',\n",
              "  'comedy, romance, shounen, supernatural'],\n",
              " 'Shokugeki no Souma: Ni no Sara': ['ecchi, school, shounen',\n",
              "  'ecchi, school, shounen',\n",
              "  'ecchi, school, shounen',\n",
              "  'ecchi, school, shounen',\n",
              "  'ecchi, school, shounen'],\n",
              " 'Ano Natsu de Matteru': ['comedy, drama, romance, sci-fi, slice of life',\n",
              "  'comedy, drama, romance, sci-fi, slice of life'],\n",
              " 'Nagasarete Airantou': ['comedy, ecchi, fantasy, harem, romance',\n",
              "  'comedy, ecchi, fantasy, harem, romance'],\n",
              " 'Dragon Ball Z Movie 03: Chikyuu Marugoto Choukessen': ['adventure, comedy, fantasy, sci-fi, shounen',\n",
              "  'adventure, comedy, fantasy, sci-fi, shounen',\n",
              "  'adventure, comedy, fantasy, sci-fi, shounen'],\n",
              " 'Cross Fight B-Daman': ['adventure'],\n",
              " 'High School DxD BorN': ['action, comedy, demons, ecchi, harem, romance, school',\n",
              "  'action, comedy, demons, ecchi, harem, romance, school'],\n",
              " 'Ouran Koukou Host Club': ['comedy, harem, romance, school, shoujo',\n",
              "  'comedy, harem, romance, school, shoujo',\n",
              "  'comedy, harem, romance, school, shoujo',\n",
              "  'comedy, harem, romance, school, shoujo',\n",
              "  'comedy, harem, romance, school, shoujo',\n",
              "  'comedy, harem, romance, school, shoujo',\n",
              "  'comedy, harem, romance, school, shoujo',\n",
              "  'comedy, harem, romance, school, shoujo',\n",
              "  'comedy, harem, romance, school, shoujo',\n",
              "  'comedy, harem, romance, school, shoujo',\n",
              "  'comedy, harem, romance, school, shoujo',\n",
              "  'comedy, harem, romance, school, shoujo'],\n",
              " 'Rosario to Vampire Capu2': ['comedy, ecchi, fantasy, harem, romance, school, vampire',\n",
              "  'comedy, ecchi, fantasy, harem, romance, school, vampire',\n",
              "  'comedy, ecchi, fantasy, harem, romance, school, vampire',\n",
              "  'comedy, ecchi, fantasy, harem, romance, school, vampire'],\n",
              " 'CLAMP in Wonderland 2': ['action, comedy, drama, fantasy, magic, music, romance'],\n",
              " 'Pokemon: The Origin': ['action, adventure, comedy, fantasy, kids',\n",
              "  'action, adventure, comedy, fantasy, kids',\n",
              "  'action, adventure, comedy, fantasy, kids',\n",
              "  'action, adventure, comedy, fantasy, kids'],\n",
              " 'Sen to Chihiro no Kamikakushi': ['adventure, drama, supernatural',\n",
              "  'adventure, drama, supernatural',\n",
              "  'adventure, drama, supernatural',\n",
              "  'adventure, drama, supernatural',\n",
              "  'adventure, drama, supernatural',\n",
              "  'adventure, drama, supernatural',\n",
              "  'adventure, drama, supernatural',\n",
              "  'adventure, drama, supernatural',\n",
              "  'adventure, drama, supernatural',\n",
              "  'adventure, drama, supernatural',\n",
              "  'adventure, drama, supernatural',\n",
              "  'adventure, drama, supernatural',\n",
              "  'adventure, drama, supernatural',\n",
              "  'adventure, drama, supernatural',\n",
              "  'adventure, drama, supernatural',\n",
              "  'adventure, drama, supernatural',\n",
              "  'adventure, drama, supernatural',\n",
              "  'adventure, drama, supernatural'],\n",
              " '.hack//Roots': ['adventure, drama, fantasy, game, sci-fi',\n",
              "  'adventure, drama, fantasy, game, sci-fi',\n",
              "  'adventure, drama, fantasy, game, sci-fi',\n",
              "  'adventure, drama, fantasy, game, sci-fi',\n",
              "  'adventure, drama, fantasy, game, sci-fi',\n",
              "  'adventure, drama, fantasy, game, sci-fi'],\n",
              " 'Bikini Warriors': ['comedy, ecchi, fantasy, parody',\n",
              "  'comedy, ecchi, fantasy, parody',\n",
              "  'comedy, ecchi, fantasy, parody',\n",
              "  'comedy, ecchi, fantasy, parody',\n",
              "  'comedy, ecchi, fantasy, parody'],\n",
              " 'Shintaisou: Shin': ['hentai, school'],\n",
              " 'Mahouka Koukou no Rettousei': ['magic, romance, school, sci-fi, supernatural',\n",
              "  'magic, romance, school, sci-fi, supernatural',\n",
              "  'magic, romance, school, sci-fi, supernatural',\n",
              "  'magic, romance, school, sci-fi, supernatural',\n",
              "  'magic, romance, school, sci-fi, supernatural',\n",
              "  'magic, romance, school, sci-fi, supernatural',\n",
              "  'magic, romance, school, sci-fi, supernatural',\n",
              "  'magic, romance, school, sci-fi, supernatural',\n",
              "  'magic, romance, school, sci-fi, supernatural',\n",
              "  'magic, romance, school, sci-fi, supernatural',\n",
              "  'magic, romance, school, sci-fi, supernatural'],\n",
              " 'Koi to Senkyo to Chocolate': ['drama, romance, school',\n",
              "  'drama, romance, school'],\n",
              " 'Kämpfer Picture Drama': ['comedy'],\n",
              " 'Tantei Opera Milky Holmes': ['comedy, mystery, super power'],\n",
              " 'Ore no Imouto ga Konnani Kawaii Wake ga Nai Specials': ['comedy, seinen, slice of life',\n",
              "  'comedy, seinen, slice of life',\n",
              "  'comedy, seinen, slice of life',\n",
              "  'comedy, seinen, slice of life'],\n",
              " 'Dragon Ball Z': ['action, adventure, comedy, fantasy, martial arts, shounen, super power',\n",
              "  'action, adventure, comedy, fantasy, martial arts, shounen, super power',\n",
              "  'action, adventure, comedy, fantasy, martial arts, shounen, super power',\n",
              "  'action, adventure, comedy, fantasy, martial arts, shounen, super power',\n",
              "  'action, adventure, comedy, fantasy, martial arts, shounen, super power',\n",
              "  'action, adventure, comedy, fantasy, martial arts, shounen, super power',\n",
              "  'action, adventure, comedy, fantasy, martial arts, shounen, super power',\n",
              "  'action, adventure, comedy, fantasy, martial arts, shounen, super power',\n",
              "  'action, adventure, comedy, fantasy, martial arts, shounen, super power',\n",
              "  'action, adventure, comedy, fantasy, martial arts, shounen, super power'],\n",
              " 'Fruits Basket': ['comedy, drama, fantasy, romance, shoujo, slice of life',\n",
              "  'comedy, drama, fantasy, romance, shoujo, slice of life',\n",
              "  'comedy, drama, fantasy, romance, shoujo, slice of life',\n",
              "  'comedy, drama, fantasy, romance, shoujo, slice of life',\n",
              "  'comedy, drama, fantasy, romance, shoujo, slice of life',\n",
              "  'comedy, drama, fantasy, romance, shoujo, slice of life',\n",
              "  'comedy, drama, fantasy, romance, shoujo, slice of life',\n",
              "  'comedy, drama, fantasy, romance, shoujo, slice of life',\n",
              "  'comedy, drama, fantasy, romance, shoujo, slice of life'],\n",
              " 'Harmonie': ['drama, school, supernatural'],\n",
              " 'Queen&#039;s Blade: Rurou no Senshi': ['action, adventure, ecchi, fantasy',\n",
              "  'action, adventure, ecchi, fantasy',\n",
              "  'action, adventure, ecchi, fantasy'],\n",
              " 'Shaman King': ['action, adventure, comedy, drama, shounen, supernatural',\n",
              "  'action, adventure, comedy, drama, shounen, supernatural',\n",
              "  'action, adventure, comedy, drama, shounen, supernatural',\n",
              "  'action, adventure, comedy, drama, shounen, supernatural',\n",
              "  'action, adventure, comedy, drama, shounen, supernatural',\n",
              "  'action, adventure, comedy, drama, shounen, supernatural',\n",
              "  'action, adventure, comedy, drama, shounen, supernatural'],\n",
              " 'Nogizaka Haruka no Himitsu: Purezza': ['comedy, ecchi, romance',\n",
              "  'comedy, ecchi, romance',\n",
              "  'comedy, ecchi, romance',\n",
              "  'comedy, ecchi, romance'],\n",
              " 'Akikan!': ['comedy, ecchi, fantasy, romance',\n",
              "  'comedy, ecchi, fantasy, romance',\n",
              "  'comedy, ecchi, fantasy, romance'],\n",
              " 'Gekkan Shoujo Nozaki-kun': ['comedy, romance, school',\n",
              "  'comedy, romance, school',\n",
              "  'comedy, romance, school',\n",
              "  'comedy, romance, school',\n",
              "  'comedy, romance, school',\n",
              "  'comedy, romance, school'],\n",
              " 'Zero no Tsukaima: Princesses no Rondo Picture Drama': ['action, adventure, comedy, drama, ecchi, fantasy, harem, magic, romance, school'],\n",
              " 'InuYasha': ['action, adventure, comedy, demons, fantasy, magic, romance, shounen, supernatural',\n",
              "  'action, adventure, comedy, demons, fantasy, magic, romance, shounen, supernatural',\n",
              "  'action, adventure, comedy, demons, fantasy, magic, romance, shounen, supernatural',\n",
              "  'action, adventure, comedy, demons, fantasy, magic, romance, shounen, supernatural',\n",
              "  'action, adventure, comedy, demons, fantasy, magic, romance, shounen, supernatural',\n",
              "  'action, adventure, comedy, demons, fantasy, magic, romance, shounen, supernatural',\n",
              "  'action, adventure, comedy, demons, fantasy, magic, romance, shounen, supernatural',\n",
              "  'action, adventure, comedy, demons, fantasy, magic, romance, shounen, supernatural',\n",
              "  'action, adventure, comedy, demons, fantasy, magic, romance, shounen, supernatural',\n",
              "  'action, adventure, comedy, demons, fantasy, magic, romance, shounen, supernatural'],\n",
              " 'Kakumeiki Valvrave 2nd Season': ['action, mecha, space',\n",
              "  'action, mecha, space'],\n",
              " 'Naruto: Shippuuden Movie 1': ['action, adventure, comedy, fantasy, shounen',\n",
              "  'action, adventure, comedy, fantasy, shounen',\n",
              "  'action, adventure, comedy, fantasy, shounen',\n",
              "  'action, adventure, comedy, fantasy, shounen',\n",
              "  'action, adventure, comedy, fantasy, shounen',\n",
              "  'action, adventure, comedy, fantasy, shounen'],\n",
              " 'Zero no Tsukaima: Futatsuki no Kishi': ['action, adventure, comedy, ecchi, fantasy, harem, magic, romance, school',\n",
              "  'action, adventure, comedy, ecchi, fantasy, harem, magic, romance, school',\n",
              "  'action, adventure, comedy, ecchi, fantasy, harem, magic, romance, school',\n",
              "  'action, adventure, comedy, ecchi, fantasy, harem, magic, romance, school',\n",
              "  'action, adventure, comedy, ecchi, fantasy, harem, magic, romance, school'],\n",
              " 'Chuunibyou demo Koi ga Shitai!': ['comedy, drama, romance, school, slice of life',\n",
              "  'comedy, drama, romance, school, slice of life',\n",
              "  'comedy, drama, romance, school, slice of life',\n",
              "  'comedy, drama, romance, school, slice of life',\n",
              "  'comedy, drama, romance, school, slice of life',\n",
              "  'comedy, drama, romance, school, slice of life',\n",
              "  'comedy, drama, romance, school, slice of life',\n",
              "  'comedy, drama, romance, school, slice of life',\n",
              "  'comedy, drama, romance, school, slice of life'],\n",
              " 'Seikon no Qwaser: Jotei no Shouzou': ['action, ecchi, seinen, super power, supernatural'],\n",
              " 'Zoku Natsume Yuujinchou': ['drama, fantasy, shoujo, slice of life, supernatural',\n",
              "  'drama, fantasy, shoujo, slice of life, supernatural',\n",
              "  'drama, fantasy, shoujo, slice of life, supernatural',\n",
              "  'drama, fantasy, shoujo, slice of life, supernatural',\n",
              "  'drama, fantasy, shoujo, slice of life, supernatural'],\n",
              " 'D.Gray-man': ['action, adventure, comedy, shounen',\n",
              "  'action, adventure, comedy, shounen',\n",
              "  'action, adventure, comedy, shounen',\n",
              "  'action, adventure, comedy, shounen',\n",
              "  'action, adventure, comedy, shounen',\n",
              "  'action, adventure, comedy, shounen',\n",
              "  'action, adventure, comedy, shounen'],\n",
              " 'Rozen Maiden': ['action, comedy, drama, magic, seinen',\n",
              "  'action, comedy, drama, magic, seinen',\n",
              "  'action, comedy, drama, magic, seinen',\n",
              "  'action, comedy, drama, magic, seinen'],\n",
              " 'Danshi Koukousei no Nichijou': ['comedy, school, shounen, slice of life',\n",
              "  'comedy, school, shounen, slice of life',\n",
              "  'comedy, school, shounen, slice of life',\n",
              "  'comedy, school, shounen, slice of life',\n",
              "  'comedy, school, shounen, slice of life',\n",
              "  'comedy, school, shounen, slice of life',\n",
              "  'comedy, school, shounen, slice of life'],\n",
              " 'School Days': ['drama, harem, romance, school',\n",
              "  'drama, harem, romance, school'],\n",
              " 'Mangirl!': ['comedy, slice of life'],\n",
              " 'Druaga no Tou: The Sword of Uruk': ['adventure, fantasy',\n",
              "  'adventure, fantasy'],\n",
              " 'Psycho-Pass': ['action, police, psychological, sci-fi',\n",
              "  'action, police, psychological, sci-fi',\n",
              "  'action, police, psychological, sci-fi',\n",
              "  'action, police, psychological, sci-fi',\n",
              "  'action, police, psychological, sci-fi'],\n",
              " 'Kiddy Grade': ['action, ecchi, mecha, sci-fi, super power'],\n",
              " 'Kill la Kill': ['action, comedy, school, super power',\n",
              "  'action, comedy, school, super power',\n",
              "  'action, comedy, school, super power',\n",
              "  'action, comedy, school, super power',\n",
              "  'action, comedy, school, super power',\n",
              "  'action, comedy, school, super power',\n",
              "  'action, comedy, school, super power',\n",
              "  'action, comedy, school, super power',\n",
              "  'action, comedy, school, super power',\n",
              "  'action, comedy, school, super power',\n",
              "  'action, comedy, school, super power',\n",
              "  'action, comedy, school, super power',\n",
              "  'action, comedy, school, super power'],\n",
              " 'Beck': ['comedy, drama, music, shounen, slice of life',\n",
              "  'comedy, drama, music, shounen, slice of life',\n",
              "  'comedy, drama, music, shounen, slice of life',\n",
              "  'comedy, drama, music, shounen, slice of life',\n",
              "  'comedy, drama, music, shounen, slice of life',\n",
              "  'comedy, drama, music, shounen, slice of life',\n",
              "  'comedy, drama, music, shounen, slice of life',\n",
              "  'comedy, drama, music, shounen, slice of life',\n",
              "  'comedy, drama, music, shounen, slice of life',\n",
              "  'comedy, drama, music, shounen, slice of life'],\n",
              " 'Ghost in the Shell': ['action, mecha, police, psychological, sci-fi, seinen',\n",
              "  'action, mecha, police, psychological, sci-fi, seinen',\n",
              "  'action, mecha, police, psychological, sci-fi, seinen',\n",
              "  'action, mecha, police, psychological, sci-fi, seinen',\n",
              "  'action, mecha, police, psychological, sci-fi, seinen'],\n",
              " '30-sai no Hoken Taiiku': ['ecchi, parody, romance, seinen',\n",
              "  'ecchi, parody, romance, seinen'],\n",
              " 'Denpa-teki na Kanojo': ['mystery, school, thriller',\n",
              "  'mystery, school, thriller',\n",
              "  'mystery, school, thriller'],\n",
              " 'Wasurenagumo': ['comedy, supernatural', 'comedy, supernatural'],\n",
              " 'Tengen Toppa Gurren Lagann Movie: Lagann-hen': ['action, mecha, sci-fi, space, super power'],\n",
              " 'Zettai Karen Children': ['action, comedy, shounen, supernatural'],\n",
              " 'Steins;Gate': ['sci-fi, thriller',\n",
              "  'sci-fi, thriller',\n",
              "  'sci-fi, thriller',\n",
              "  'sci-fi, thriller',\n",
              "  'sci-fi, thriller',\n",
              "  'sci-fi, thriller',\n",
              "  'sci-fi, thriller',\n",
              "  'sci-fi, thriller',\n",
              "  'sci-fi, thriller',\n",
              "  'sci-fi, thriller'],\n",
              " 'One Piece Movie 2: Nejimaki-jima no Daibouken': ['action, adventure, comedy, fantasy, shounen, super power',\n",
              "  'action, adventure, comedy, fantasy, shounen, super power'],\n",
              " 'Senjou no Valkyria 3: Tagatame no Juusou': ['action, fantasy, military',\n",
              "  'action, fantasy, military',\n",
              "  'action, fantasy, military'],\n",
              " 'Usagi Drop Specials': ['josei, slice of life', 'josei, slice of life'],\n",
              " 'Ayakashi': ['action, fantasy, horror, sci-fi',\n",
              "  'action, fantasy, horror, sci-fi'],\n",
              " 'Plastic Neesan': ['comedy, school'],\n",
              " 'FLCL': ['action, comedy, dementia, mecha, parody, sci-fi',\n",
              "  'action, comedy, dementia, mecha, parody, sci-fi',\n",
              "  'action, comedy, dementia, mecha, parody, sci-fi',\n",
              "  'action, comedy, dementia, mecha, parody, sci-fi',\n",
              "  'action, comedy, dementia, mecha, parody, sci-fi',\n",
              "  'action, comedy, dementia, mecha, parody, sci-fi',\n",
              "  'action, comedy, dementia, mecha, parody, sci-fi',\n",
              "  'action, comedy, dementia, mecha, parody, sci-fi',\n",
              "  'action, comedy, dementia, mecha, parody, sci-fi',\n",
              "  'action, comedy, dementia, mecha, parody, sci-fi',\n",
              "  'action, comedy, dementia, mecha, parody, sci-fi'],\n",
              " 'Date A Live': ['comedy, harem, mecha, romance, school, sci-fi',\n",
              "  'comedy, harem, mecha, romance, school, sci-fi',\n",
              "  'comedy, harem, mecha, romance, school, sci-fi',\n",
              "  'comedy, harem, mecha, romance, school, sci-fi',\n",
              "  'comedy, harem, mecha, romance, school, sci-fi',\n",
              "  'comedy, harem, mecha, romance, school, sci-fi'],\n",
              " 'Kyoukai no Kanata Movie: I&#039;ll Be Here - Mirai-hen': ['fantasy, slice of life, supernatural',\n",
              "  'fantasy, slice of life, supernatural'],\n",
              " 'Hotarubi no Mori e': ['drama, romance, shoujo, supernatural',\n",
              "  'drama, romance, shoujo, supernatural',\n",
              "  'drama, romance, shoujo, supernatural',\n",
              "  'drama, romance, shoujo, supernatural',\n",
              "  'drama, romance, shoujo, supernatural',\n",
              "  'drama, romance, shoujo, supernatural'],\n",
              " 'Zero no Tsukaima': ['action, adventure, comedy, ecchi, fantasy, harem, magic, romance, school',\n",
              "  'action, adventure, comedy, ecchi, fantasy, harem, magic, romance, school',\n",
              "  'action, adventure, comedy, ecchi, fantasy, harem, magic, romance, school',\n",
              "  'action, adventure, comedy, ecchi, fantasy, harem, magic, romance, school',\n",
              "  'action, adventure, comedy, ecchi, fantasy, harem, magic, romance, school',\n",
              "  'action, adventure, comedy, ecchi, fantasy, harem, magic, romance, school',\n",
              "  'action, adventure, comedy, ecchi, fantasy, harem, magic, romance, school',\n",
              "  'action, adventure, comedy, ecchi, fantasy, harem, magic, romance, school',\n",
              "  'action, adventure, comedy, ecchi, fantasy, harem, magic, romance, school',\n",
              "  'action, adventure, comedy, ecchi, fantasy, harem, magic, romance, school',\n",
              "  'action, adventure, comedy, ecchi, fantasy, harem, magic, romance, school',\n",
              "  'action, adventure, comedy, ecchi, fantasy, harem, magic, romance, school',\n",
              "  'action, adventure, comedy, ecchi, fantasy, harem, magic, romance, school',\n",
              "  'action, adventure, comedy, ecchi, fantasy, harem, magic, romance, school',\n",
              "  'action, adventure, comedy, ecchi, fantasy, harem, magic, romance, school',\n",
              "  'action, adventure, comedy, ecchi, fantasy, harem, magic, romance, school',\n",
              "  'action, adventure, comedy, ecchi, fantasy, harem, magic, romance, school',\n",
              "  'action, adventure, comedy, ecchi, fantasy, harem, magic, romance, school'],\n",
              " 'Eureka Seven': ['adventure, drama, mecha, romance, sci-fi',\n",
              "  'adventure, drama, mecha, romance, sci-fi',\n",
              "  'adventure, drama, mecha, romance, sci-fi',\n",
              "  'adventure, drama, mecha, romance, sci-fi',\n",
              "  'adventure, drama, mecha, romance, sci-fi',\n",
              "  'adventure, drama, mecha, romance, sci-fi',\n",
              "  'adventure, drama, mecha, romance, sci-fi'],\n",
              " 'Freezing Vibration': ['action, drama, ecchi, harem, martial arts, military, romance, sci-fi, seinen',\n",
              "  'action, drama, ecchi, harem, martial arts, military, romance, sci-fi, seinen',\n",
              "  'action, drama, ecchi, harem, martial arts, military, romance, sci-fi, seinen',\n",
              "  'action, drama, ecchi, harem, martial arts, military, romance, sci-fi, seinen',\n",
              "  'action, drama, ecchi, harem, martial arts, military, romance, sci-fi, seinen'],\n",
              " 'Bakemonogatari': ['mystery, romance, supernatural, vampire',\n",
              "  'mystery, romance, supernatural, vampire',\n",
              "  'mystery, romance, supernatural, vampire',\n",
              "  'mystery, romance, supernatural, vampire',\n",
              "  'mystery, romance, supernatural, vampire',\n",
              "  'mystery, romance, supernatural, vampire',\n",
              "  'mystery, romance, supernatural, vampire',\n",
              "  'mystery, romance, supernatural, vampire'],\n",
              " 'Mobile Suit Gundam 0083: Stardust Memory': ['adventure, drama, mecha, military, sci-fi, space'],\n",
              " 'Mikakunin de Shinkoukei': ['comedy, romance, school, slice of life',\n",
              "  'comedy, romance, school, slice of life',\n",
              "  'comedy, romance, school, slice of life'],\n",
              " 'K-On!!': ['comedy, music, school, slice of life',\n",
              "  'comedy, music, school, slice of life',\n",
              "  'comedy, music, school, slice of life',\n",
              "  'comedy, music, school, slice of life',\n",
              "  'comedy, music, school, slice of life',\n",
              "  'comedy, music, school, slice of life',\n",
              "  'comedy, music, school, slice of life',\n",
              "  'comedy, music, school, slice of life'],\n",
              " 'Ore no Imouto ga Konnani Kawaii Wake ga Nai.: Ore no Imouto ga Konnani Eroge na Wake Nai': ['comedy, romance'],\n",
              " 'Bleach: Memories in the Rain': ['action, adventure, drama, shounen, supernatural',\n",
              "  'action, adventure, drama, shounen, supernatural',\n",
              "  'action, adventure, drama, shounen, supernatural',\n",
              "  'action, adventure, drama, shounen, supernatural'],\n",
              " 'NHK ni Youkoso!': ['comedy, drama, psychological, romance',\n",
              "  'comedy, drama, psychological, romance',\n",
              "  'comedy, drama, psychological, romance',\n",
              "  'comedy, drama, psychological, romance',\n",
              "  'comedy, drama, psychological, romance',\n",
              "  'comedy, drama, psychological, romance',\n",
              "  'comedy, drama, psychological, romance'],\n",
              " 'Natsume Yuujinchou': ['drama, fantasy, shoujo, slice of life, supernatural',\n",
              "  'drama, fantasy, shoujo, slice of life, supernatural',\n",
              "  'drama, fantasy, shoujo, slice of life, supernatural',\n",
              "  'drama, fantasy, shoujo, slice of life, supernatural'],\n",
              " 'Keroro Gunsou Movie 1': ['comedy, kids, sci-fi, shounen'],\n",
              " 'Fullmetal Alchemist': ['action, adventure, comedy, drama, fantasy, magic, military, shounen',\n",
              "  'action, adventure, comedy, drama, fantasy, magic, military, shounen',\n",
              "  'action, adventure, comedy, drama, fantasy, magic, military, shounen',\n",
              "  'action, adventure, comedy, drama, fantasy, magic, military, shounen',\n",
              "  'action, adventure, comedy, drama, fantasy, magic, military, shounen',\n",
              "  'action, adventure, comedy, drama, fantasy, magic, military, shounen',\n",
              "  'action, adventure, comedy, drama, fantasy, magic, military, shounen',\n",
              "  'action, adventure, comedy, drama, fantasy, magic, military, shounen',\n",
              "  'action, adventure, comedy, drama, fantasy, magic, military, shounen',\n",
              "  'action, adventure, comedy, drama, fantasy, magic, military, shounen',\n",
              "  'action, adventure, comedy, drama, fantasy, magic, military, shounen',\n",
              "  'action, adventure, comedy, drama, fantasy, magic, military, shounen',\n",
              "  'action, adventure, comedy, drama, fantasy, magic, military, shounen',\n",
              "  'action, adventure, comedy, drama, fantasy, magic, military, shounen',\n",
              "  'action, adventure, comedy, drama, fantasy, magic, military, shounen',\n",
              "  'action, adventure, comedy, drama, fantasy, magic, military, shounen',\n",
              "  'action, adventure, comedy, drama, fantasy, magic, military, shounen',\n",
              "  'action, adventure, comedy, drama, fantasy, magic, military, shounen'],\n",
              " 'Takanashi Rikka Kai: Chuunibyou demo Koi ga Shitai! Movie Lite': ['comedy',\n",
              "  'comedy'],\n",
              " 'Hokuto no Ken Movie': ['adventure, sci-fi, shounen'],\n",
              " 'Bleach Movie 1: Memories of Nobody': ['action, adventure, super power',\n",
              "  'action, adventure, super power',\n",
              "  'action, adventure, super power',\n",
              "  'action, adventure, super power',\n",
              "  'action, adventure, super power',\n",
              "  'action, adventure, super power',\n",
              "  'action, adventure, super power'],\n",
              " 'Trigun': ['action, comedy, sci-fi',\n",
              "  'action, comedy, sci-fi',\n",
              "  'action, comedy, sci-fi',\n",
              "  'action, comedy, sci-fi',\n",
              "  'action, comedy, sci-fi',\n",
              "  'action, comedy, sci-fi',\n",
              "  'action, comedy, sci-fi',\n",
              "  'action, comedy, sci-fi',\n",
              "  'action, comedy, sci-fi'],\n",
              " 'Shugo Chara!': ['comedy, magic, school, shoujo',\n",
              "  'comedy, magic, school, shoujo',\n",
              "  'comedy, magic, school, shoujo',\n",
              "  'comedy, magic, school, shoujo',\n",
              "  'comedy, magic, school, shoujo'],\n",
              " 'Elfen Lied': ['action, drama, horror, psychological, romance, seinen, supernatural',\n",
              "  'action, drama, horror, psychological, romance, seinen, supernatural',\n",
              "  'action, drama, horror, psychological, romance, seinen, supernatural',\n",
              "  'action, drama, horror, psychological, romance, seinen, supernatural',\n",
              "  'action, drama, horror, psychological, romance, seinen, supernatural',\n",
              "  'action, drama, horror, psychological, romance, seinen, supernatural',\n",
              "  'action, drama, horror, psychological, romance, seinen, supernatural',\n",
              "  'action, drama, horror, psychological, romance, seinen, supernatural',\n",
              "  'action, drama, horror, psychological, romance, seinen, supernatural',\n",
              "  'action, drama, horror, psychological, romance, seinen, supernatural',\n",
              "  'action, drama, horror, psychological, romance, seinen, supernatural',\n",
              "  'action, drama, horror, psychological, romance, seinen, supernatural',\n",
              "  'action, drama, horror, psychological, romance, seinen, supernatural',\n",
              "  'action, drama, horror, psychological, romance, seinen, supernatural',\n",
              "  'action, drama, horror, psychological, romance, seinen, supernatural',\n",
              "  'action, drama, horror, psychological, romance, seinen, supernatural',\n",
              "  'action, drama, horror, psychological, romance, seinen, supernatural',\n",
              "  'action, drama, horror, psychological, romance, seinen, supernatural',\n",
              "  'action, drama, horror, psychological, romance, seinen, supernatural',\n",
              "  'action, drama, horror, psychological, romance, seinen, supernatural',\n",
              "  'action, drama, horror, psychological, romance, seinen, supernatural'],\n",
              " 'Claymore': ['action, adventure, demons, fantasy, shounen, super power, supernatural',\n",
              "  'action, adventure, demons, fantasy, shounen, super power, supernatural',\n",
              "  'action, adventure, demons, fantasy, shounen, super power, supernatural',\n",
              "  'action, adventure, demons, fantasy, shounen, super power, supernatural',\n",
              "  'action, adventure, demons, fantasy, shounen, super power, supernatural',\n",
              "  'action, adventure, demons, fantasy, shounen, super power, supernatural',\n",
              "  'action, adventure, demons, fantasy, shounen, super power, supernatural'],\n",
              " 'Gedo Senki': ['adventure, fantasy, magic', 'adventure, fantasy, magic'],\n",
              " 'Ookami Shoujo to Kuro Ouji': ['comedy, romance, school, shoujo',\n",
              "  'comedy, romance, school, shoujo',\n",
              "  'comedy, romance, school, shoujo',\n",
              "  'comedy, romance, school, shoujo'],\n",
              " 'Arakawa Under the Bridge x Bridge': ['comedy, romance, seinen',\n",
              "  'comedy, romance, seinen'],\n",
              " 'Bishoujo Senshi Sailor Moon R': ['demons, magic, romance, shoujo',\n",
              "  'demons, magic, romance, shoujo',\n",
              "  'demons, magic, romance, shoujo'],\n",
              " 'Yosuga no Sora: In Solitude, Where We Are Least Alone.': ['drama, ecchi, harem, romance',\n",
              "  'drama, ecchi, harem, romance',\n",
              "  'drama, ecchi, harem, romance',\n",
              "  'drama, ecchi, harem, romance'],\n",
              " 'Mahou Shoujo Lyrical Nanoha': ['action, comedy, drama, magic, super power'],\n",
              " 'Taiho Shichau zo: Second Season': ['action, comedy, police, shounen'],\n",
              " 'Dakara Boku wa, H ga Dekinai.': ['comedy, ecchi, romance, supernatural',\n",
              "  'comedy, ecchi, romance, supernatural',\n",
              "  'comedy, ecchi, romance, supernatural'],\n",
              " 'Hunter x Hunter: Greed Island': ['action, adventure, shounen, super power',\n",
              "  'action, adventure, shounen, super power',\n",
              "  'action, adventure, shounen, super power',\n",
              "  'action, adventure, shounen, super power'],\n",
              " 'Bishoujo Senshi Sailor Moon SuperS': ['drama, magic, romance, shoujo',\n",
              "  'drama, magic, romance, shoujo'],\n",
              " 'Hyakko': ['comedy, school, slice of life'],\n",
              " 'Hyakka Ryouran: Samurai Bride Specials': ['comedy, ecchi'],\n",
              " 'Yojouhan Shinwa Taikei': ['mystery, psychological, romance',\n",
              "  'mystery, psychological, romance'],\n",
              " 'To LOVE-Ru OVA': ['comedy, ecchi, harem, school, sci-fi, shounen',\n",
              "  'comedy, ecchi, harem, school, sci-fi, shounen',\n",
              "  'comedy, ecchi, harem, school, sci-fi, shounen'],\n",
              " 'Kanokon': ['comedy, ecchi, harem, romance, school, shounen, slice of life, supernatural',\n",
              "  'comedy, ecchi, harem, romance, school, shounen, slice of life, supernatural'],\n",
              " 'Mahou Shoujo Madoka★Magica': ['drama, magic, psychological, thriller',\n",
              "  'drama, magic, psychological, thriller',\n",
              "  'drama, magic, psychological, thriller',\n",
              "  'drama, magic, psychological, thriller',\n",
              "  'drama, magic, psychological, thriller',\n",
              "  'drama, magic, psychological, thriller',\n",
              "  'drama, magic, psychological, thriller',\n",
              "  'drama, magic, psychological, thriller'],\n",
              " 'Macross': ['action, mecha, military, music, romance, sci-fi, space',\n",
              "  'action, mecha, military, music, romance, sci-fi, space',\n",
              "  'action, mecha, military, music, romance, sci-fi, space'],\n",
              " 'Bakuman. 3rd Season': ['comedy, drama, romance, shounen',\n",
              "  'comedy, drama, romance, shounen',\n",
              "  'comedy, drama, romance, shounen'],\n",
              " 'Grappler Baki: Saidai Tournament-hen': ['action, martial arts, shounen, sports'],\n",
              " 'Mushishi': ['adventure, fantasy, historical, mystery, seinen, slice of life, supernatural',\n",
              "  'adventure, fantasy, historical, mystery, seinen, slice of life, supernatural',\n",
              "  'adventure, fantasy, historical, mystery, seinen, slice of life, supernatural',\n",
              "  'adventure, fantasy, historical, mystery, seinen, slice of life, supernatural',\n",
              "  'adventure, fantasy, historical, mystery, seinen, slice of life, supernatural',\n",
              "  'adventure, fantasy, historical, mystery, seinen, slice of life, supernatural',\n",
              "  'adventure, fantasy, historical, mystery, seinen, slice of life, supernatural'],\n",
              " 'Rosario to Vampire': ['comedy, ecchi, fantasy, harem, romance, school, shounen, vampire',\n",
              "  'comedy, ecchi, fantasy, harem, romance, school, shounen, vampire',\n",
              "  'comedy, ecchi, fantasy, harem, romance, school, shounen, vampire',\n",
              "  'comedy, ecchi, fantasy, harem, romance, school, shounen, vampire',\n",
              "  'comedy, ecchi, fantasy, harem, romance, school, shounen, vampire',\n",
              "  'comedy, ecchi, fantasy, harem, romance, school, shounen, vampire',\n",
              "  'comedy, ecchi, fantasy, harem, romance, school, shounen, vampire',\n",
              "  'comedy, ecchi, fantasy, harem, romance, school, shounen, vampire'],\n",
              " 'Dragon Crisis!': ['action, magic, romance, school, seinen, supernatural'],\n",
              " 'Rozen Maiden (2013)': ['action, comedy, drama, magic, seinen',\n",
              "  'action, comedy, drama, magic, seinen'],\n",
              " 'Danna ga Nani wo Itteiru ka Wakaranai Ken': ['comedy, seinen, slice of life',\n",
              "  'comedy, seinen, slice of life',\n",
              "  'comedy, seinen, slice of life',\n",
              "  'comedy, seinen, slice of life',\n",
              "  'comedy, seinen, slice of life'],\n",
              " 'Mizu no Kotoba': ['drama, psychological, sci-fi',\n",
              "  'drama, psychological, sci-fi'],\n",
              " 'Hamelin no Violin Hiki': ['adventure, drama, fantasy'],\n",
              " 'Shinrei Tantei Yakumo': ['horror, mystery, shoujo, supernatural',\n",
              "  'horror, mystery, shoujo, supernatural',\n",
              "  'horror, mystery, shoujo, supernatural',\n",
              "  'horror, mystery, shoujo, supernatural'],\n",
              " 'Digimon Adventure': ['action, adventure, comedy, fantasy, kids',\n",
              "  'action, adventure, comedy, fantasy, kids',\n",
              "  'action, adventure, comedy, fantasy, kids',\n",
              "  'action, adventure, comedy, fantasy, kids',\n",
              "  'action, adventure, comedy, fantasy, kids',\n",
              "  'action, adventure, comedy, fantasy, kids',\n",
              "  'action, adventure, comedy, fantasy, kids',\n",
              "  'action, adventure, comedy, fantasy, kids'],\n",
              " 'Mondaiji-tachi ga Isekai kara Kuru Sou Desu yo?': ['comedy, fantasy, supernatural',\n",
              "  'comedy, fantasy, supernatural',\n",
              "  'comedy, fantasy, supernatural',\n",
              "  'comedy, fantasy, supernatural',\n",
              "  'comedy, fantasy, supernatural',\n",
              "  'comedy, fantasy, supernatural',\n",
              "  'comedy, fantasy, supernatural',\n",
              "  'comedy, fantasy, supernatural'],\n",
              " 'Naruto: Shippuuden Movie 6 - Road to Ninja': ['action, adventure, martial arts, shounen, super power',\n",
              "  'action, adventure, martial arts, shounen, super power',\n",
              "  'action, adventure, martial arts, shounen, super power'],\n",
              " 'Cat Shit One': ['action, fantasy, military'],\n",
              " 'Baka to Test to Shoukanjuu': ['comedy, romance, school, super power',\n",
              "  'comedy, romance, school, super power',\n",
              "  'comedy, romance, school, super power',\n",
              "  'comedy, romance, school, super power',\n",
              "  'comedy, romance, school, super power',\n",
              "  'comedy, romance, school, super power'],\n",
              " 'One Piece Film: Strong World Episode 0': ['action, adventure, comedy, fantasy, shounen, super power',\n",
              "  'action, adventure, comedy, fantasy, shounen, super power',\n",
              "  'action, adventure, comedy, fantasy, shounen, super power'],\n",
              " 'Seitokai Yakuindomo': ['comedy, school, shounen, slice of life',\n",
              "  'comedy, school, shounen, slice of life',\n",
              "  'comedy, school, shounen, slice of life',\n",
              "  'comedy, school, shounen, slice of life',\n",
              "  'comedy, school, shounen, slice of life'],\n",
              " 'Kamichu!': ['comedy, drama, slice of life, supernatural'],\n",
              " 'Haikyuu!!': ['comedy, drama, school, shounen, sports',\n",
              "  'comedy, drama, school, shounen, sports',\n",
              "  'comedy, drama, school, shounen, sports',\n",
              "  'comedy, drama, school, shounen, sports',\n",
              "  'comedy, drama, school, shounen, sports',\n",
              "  'comedy, drama, school, shounen, sports',\n",
              "  'comedy, drama, school, shounen, sports',\n",
              "  'comedy, drama, school, shounen, sports'],\n",
              " 'Ninin ga Shinobuden': ['comedy, martial arts, parody'],\n",
              " 'Deadman Wonderland OVA': ['action, horror, sci-fi',\n",
              "  'action, horror, sci-fi',\n",
              "  'action, horror, sci-fi'],\n",
              " 'Danganronpa 3: The End of Kibougamine Gakuen - Kibou-hen': ['action, horror, mystery, psychological'],\n",
              " 'Digimon Adventure Movie': ['action, fantasy, kids, sci-fi',\n",
              "  'action, fantasy, kids, sci-fi',\n",
              "  'action, fantasy, kids, sci-fi',\n",
              "  'action, fantasy, kids, sci-fi'],\n",
              " 'Aa! Megami-sama!': ['comedy, magic, romance, seinen, supernatural'],\n",
              " 'Fudanshi Koukou Seikatsu': ['comedy, school, shoujo, slice of life'],\n",
              " 'Midori no Hibi': ['comedy, drama, ecchi, romance, shounen',\n",
              "  'comedy, drama, ecchi, romance, shounen',\n",
              "  'comedy, drama, ecchi, romance, shounen',\n",
              "  'comedy, drama, ecchi, romance, shounen',\n",
              "  'comedy, drama, ecchi, romance, shounen'],\n",
              " 'Ookami Kodomo no Ame to Yuki': ['fantasy, slice of life',\n",
              "  'fantasy, slice of life',\n",
              "  'fantasy, slice of life',\n",
              "  'fantasy, slice of life',\n",
              "  'fantasy, slice of life',\n",
              "  'fantasy, slice of life'],\n",
              " 'Kara no Kyoukai 1: Fukan Fuukei': ['action, mystery, supernatural, thriller',\n",
              "  'action, mystery, supernatural, thriller',\n",
              "  'action, mystery, supernatural, thriller',\n",
              "  'action, mystery, supernatural, thriller',\n",
              "  'action, mystery, supernatural, thriller',\n",
              "  'action, mystery, supernatural, thriller',\n",
              "  'action, mystery, supernatural, thriller',\n",
              "  'action, mystery, supernatural, thriller',\n",
              "  'action, mystery, supernatural, thriller'],\n",
              " 'Seikai no Senki': ['action, military, romance, sci-fi, space',\n",
              "  'action, military, romance, sci-fi, space'],\n",
              " 'Black Cat': ['adventure, comedy, sci-fi, shounen, super power',\n",
              "  'adventure, comedy, sci-fi, shounen, super power',\n",
              "  'adventure, comedy, sci-fi, shounen, super power',\n",
              "  'adventure, comedy, sci-fi, shounen, super power',\n",
              "  'adventure, comedy, sci-fi, shounen, super power',\n",
              "  'adventure, comedy, sci-fi, shounen, super power'],\n",
              " 'Fullmetal Alchemist: Brotherhood': ['action, adventure, drama, fantasy, magic, military, shounen',\n",
              "  'action, adventure, drama, fantasy, magic, military, shounen',\n",
              "  'action, adventure, drama, fantasy, magic, military, shounen',\n",
              "  'action, adventure, drama, fantasy, magic, military, shounen',\n",
              "  'action, adventure, drama, fantasy, magic, military, shounen',\n",
              "  'action, adventure, drama, fantasy, magic, military, shounen',\n",
              "  'action, adventure, drama, fantasy, magic, military, shounen',\n",
              "  'action, adventure, drama, fantasy, magic, military, shounen',\n",
              "  'action, adventure, drama, fantasy, magic, military, shounen',\n",
              "  'action, adventure, drama, fantasy, magic, military, shounen',\n",
              "  'action, adventure, drama, fantasy, magic, military, shounen',\n",
              "  'action, adventure, drama, fantasy, magic, military, shounen',\n",
              "  'action, adventure, drama, fantasy, magic, military, shounen',\n",
              "  'action, adventure, drama, fantasy, magic, military, shounen',\n",
              "  'action, adventure, drama, fantasy, magic, military, shounen',\n",
              "  'action, adventure, drama, fantasy, magic, military, shounen',\n",
              "  'action, adventure, drama, fantasy, magic, military, shounen',\n",
              "  'action, adventure, drama, fantasy, magic, military, shounen',\n",
              "  'action, adventure, drama, fantasy, magic, military, shounen'],\n",
              " 'Mayo Chiki!': ['comedy, ecchi, harem, romance, school',\n",
              "  'comedy, ecchi, harem, romance, school',\n",
              "  'comedy, ecchi, harem, romance, school',\n",
              "  'comedy, ecchi, harem, romance, school'],\n",
              " 'Suzumiya Haruhi no Shoushitsu': ['comedy, mystery, romance, school, sci-fi, supernatural',\n",
              "  'comedy, mystery, romance, school, sci-fi, supernatural',\n",
              "  'comedy, mystery, romance, school, sci-fi, supernatural',\n",
              "  'comedy, mystery, romance, school, sci-fi, supernatural',\n",
              "  'comedy, mystery, romance, school, sci-fi, supernatural',\n",
              "  'comedy, mystery, romance, school, sci-fi, supernatural',\n",
              "  'comedy, mystery, romance, school, sci-fi, supernatural'],\n",
              " 'Iria: Zeiram The Animation': ['action, adventure, sci-fi, space'],\n",
              " 'Kuragehime': ['comedy, josei, slice of life'],\n",
              " 'Pokemon Diamond &amp; Pearl: Dialga vs. Palkia vs. Darkrai': ['action, adventure, comedy, drama, fantasy, kids',\n",
              "  'action, adventure, comedy, drama, fantasy, kids'],\n",
              " 'Psychic Academy': ['comedy, romance, supernatural'],\n",
              " 'Wolf&#039;s Rain': ['action, adventure, drama, fantasy, mystery, sci-fi',\n",
              "  'action, adventure, drama, fantasy, mystery, sci-fi',\n",
              "  'action, adventure, drama, fantasy, mystery, sci-fi',\n",
              "  'action, adventure, drama, fantasy, mystery, sci-fi',\n",
              "  'action, adventure, drama, fantasy, mystery, sci-fi',\n",
              "  'action, adventure, drama, fantasy, mystery, sci-fi',\n",
              "  'action, adventure, drama, fantasy, mystery, sci-fi'],\n",
              " 'The Animatrix': ['action, drama, sci-fi', 'action, drama, sci-fi'],\n",
              " 'King of Fighters: Another Day': ['adventure, drama, shounen'],\n",
              " 'The SoulTaker: Tamashii-gari': ['demons, horror, supernatural'],\n",
              " 'Zankyou no Terror': ['psychological, thriller',\n",
              "  'psychological, thriller',\n",
              "  'psychological, thriller',\n",
              "  'psychological, thriller',\n",
              "  'psychological, thriller',\n",
              "  'psychological, thriller',\n",
              "  'psychological, thriller',\n",
              "  'psychological, thriller'],\n",
              " 'Dragon Ball Z Movie 01: Ora no Gohan wo Kaese!!': ['adventure, comedy, fantasy, sci-fi, shounen',\n",
              "  'adventure, comedy, fantasy, sci-fi, shounen',\n",
              "  'adventure, comedy, fantasy, sci-fi, shounen'],\n",
              " 'Overlord': ['action, adventure, fantasy, game, magic, supernatural',\n",
              "  'action, adventure, fantasy, game, magic, supernatural',\n",
              "  'action, adventure, fantasy, game, magic, supernatural',\n",
              "  'action, adventure, fantasy, game, magic, supernatural'],\n",
              " 'Toradora!': ['comedy, romance, school, slice of life',\n",
              "  'comedy, romance, school, slice of life',\n",
              "  'comedy, romance, school, slice of life',\n",
              "  'comedy, romance, school, slice of life',\n",
              "  'comedy, romance, school, slice of life',\n",
              "  'comedy, romance, school, slice of life',\n",
              "  'comedy, romance, school, slice of life',\n",
              "  'comedy, romance, school, slice of life',\n",
              "  'comedy, romance, school, slice of life',\n",
              "  'comedy, romance, school, slice of life',\n",
              "  'comedy, romance, school, slice of life',\n",
              "  'comedy, romance, school, slice of life',\n",
              "  'comedy, romance, school, slice of life',\n",
              "  'comedy, romance, school, slice of life',\n",
              "  'comedy, romance, school, slice of life',\n",
              "  'comedy, romance, school, slice of life',\n",
              "  'comedy, romance, school, slice of life',\n",
              "  'comedy, romance, school, slice of life',\n",
              "  'comedy, romance, school, slice of life',\n",
              "  'comedy, romance, school, slice of life',\n",
              "  'comedy, romance, school, slice of life',\n",
              "  'comedy, romance, school, slice of life',\n",
              "  'comedy, romance, school, slice of life',\n",
              "  'comedy, romance, school, slice of life',\n",
              "  'comedy, romance, school, slice of life'],\n",
              " 'Slam Dunk: Hoero Basketman-damashii! Hanamichi to Rukawa no Atsuki Natsu': ['comedy, drama, school, shounen, slice of life, sports'],\n",
              " 'Fortune Arterial: Akai Yakusoku - Tadoritsuita Basho': ['comedy, fantasy, harem, romance, vampire'],\n",
              " 'Clannad: After Story - Mou Hitotsu no Sekai, Kyou-hen': ['drama, romance, school',\n",
              "  'drama, romance, school',\n",
              "  'drama, romance, school',\n",
              "  'drama, romance, school'],\n",
              " 'Detroit Metal City': ['comedy, music', 'comedy, music', 'comedy, music'],\n",
              " 'Futakoi Alternative': ['comedy, drama, romance',\n",
              "  'comedy, drama, romance',\n",
              "  'comedy, drama, romance'],\n",
              " 'Danshi Koukousei no Nichijou Specials': ['comedy, school, shounen, slice of life',\n",
              "  'comedy, school, shounen, slice of life',\n",
              "  'comedy, school, shounen, slice of life'],\n",
              " 'Needless': ['action, comedy, ecchi, sci-fi, super power',\n",
              "  'action, comedy, ecchi, sci-fi, super power',\n",
              "  'action, comedy, ecchi, sci-fi, super power'],\n",
              " 'Fate/kaleid liner Prisma☆Illya: Undoukai de Dance!': ['comedy, fantasy, magic',\n",
              "  'comedy, fantasy, magic'],\n",
              " 'Sekirei: Pure Engagement': ['action, comedy, ecchi, harem, super power',\n",
              "  'action, comedy, ecchi, harem, super power',\n",
              "  'action, comedy, ecchi, harem, super power'],\n",
              " 'Bubblegum Crisis': ['adventure, mecha, sci-fi, shounen'],\n",
              " 'Medaka Box': ['action, comedy, ecchi, martial arts, school, shounen, super power',\n",
              "  'action, comedy, ecchi, martial arts, school, shounen, super power',\n",
              "  'action, comedy, ecchi, martial arts, school, shounen, super power'],\n",
              " 'Devil May Cry': ['action, demons, fantasy',\n",
              "  'action, demons, fantasy',\n",
              "  'action, demons, fantasy'],\n",
              " 'Mononoke Hime': ['action, adventure, fantasy',\n",
              "  'action, adventure, fantasy',\n",
              "  'action, adventure, fantasy',\n",
              "  'action, adventure, fantasy',\n",
              "  'action, adventure, fantasy',\n",
              "  'action, adventure, fantasy',\n",
              "  'action, adventure, fantasy',\n",
              "  'action, adventure, fantasy',\n",
              "  'action, adventure, fantasy',\n",
              "  'action, adventure, fantasy',\n",
              "  'action, adventure, fantasy',\n",
              "  'action, adventure, fantasy',\n",
              "  'action, adventure, fantasy',\n",
              "  'action, adventure, fantasy',\n",
              "  'action, adventure, fantasy',\n",
              "  'action, adventure, fantasy',\n",
              "  'action, adventure, fantasy'],\n",
              " 'Berserk': ['action, adventure, demons, drama, fantasy, horror, military, romance, seinen, supernatural',\n",
              "  'action, adventure, demons, drama, fantasy, horror, military, romance, seinen, supernatural',\n",
              "  'action, adventure, demons, drama, fantasy, horror, military, romance, seinen, supernatural'],\n",
              " 'Ikkitousen': ['ecchi, martial arts, school, super power',\n",
              "  'ecchi, martial arts, school, super power',\n",
              "  'ecchi, martial arts, school, super power'],\n",
              " 'Cardcaptor Sakura Movie 2: Fuuin Sareta Card': ['comedy, drama, fantasy, magic, romance, shoujo',\n",
              "  'comedy, drama, fantasy, magic, romance, shoujo'],\n",
              " 'Higurashi no Naku Koro ni Kai': ['mystery, psychological, supernatural, thriller',\n",
              "  'mystery, psychological, supernatural, thriller',\n",
              "  'mystery, psychological, supernatural, thriller',\n",
              "  'mystery, psychological, supernatural, thriller',\n",
              "  'mystery, psychological, supernatural, thriller',\n",
              "  'mystery, psychological, supernatural, thriller',\n",
              "  'mystery, psychological, supernatural, thriller'],\n",
              " 'Naruto Narutimate Hero 3: Tsuini Gekitotsu! Jounin vs. Genin!! Musabetsu Dairansen taikai Kaisai!!': ['adventure, comedy, game, shounen',\n",
              "  'adventure, comedy, game, shounen',\n",
              "  'adventure, comedy, game, shounen'],\n",
              " 'Kaichou wa Maid-sama!': ['comedy, romance, school, shoujo',\n",
              "  'comedy, romance, school, shoujo',\n",
              "  'comedy, romance, school, shoujo',\n",
              "  'comedy, romance, school, shoujo',\n",
              "  'comedy, romance, school, shoujo',\n",
              "  'comedy, romance, school, shoujo'],\n",
              " 'Baby Princess 3D Paradise 0 [Love]': ['ecchi, harem, seinen',\n",
              "  'ecchi, harem, seinen'],\n",
              " 'Kiniro no Corda: Primo Passo': ['comedy, drama, harem, magic, music, romance, school, shoujo',\n",
              "  'comedy, drama, harem, magic, music, romance, school, shoujo',\n",
              "  'comedy, drama, harem, magic, music, romance, school, shoujo',\n",
              "  'comedy, drama, harem, magic, music, romance, school, shoujo'],\n",
              " 'Byousoku 5 Centimeter': ['drama, romance, slice of life',\n",
              "  'drama, romance, slice of life',\n",
              "  'drama, romance, slice of life',\n",
              "  'drama, romance, slice of life',\n",
              "  'drama, romance, slice of life',\n",
              "  'drama, romance, slice of life',\n",
              "  'drama, romance, slice of life',\n",
              "  'drama, romance, slice of life',\n",
              "  'drama, romance, slice of life',\n",
              "  'drama, romance, slice of life',\n",
              "  'drama, romance, slice of life',\n",
              "  'drama, romance, slice of life',\n",
              "  'drama, romance, slice of life'],\n",
              " 'Omoide Poroporo': ['drama, romance, slice of life',\n",
              "  'drama, romance, slice of life'],\n",
              " 'Shining Tears X Wind': ['action, adventure, fantasy, magic',\n",
              "  'action, adventure, fantasy, magic'],\n",
              " 'Sonic: Night of the WereHog': ['action'],\n",
              " 'Nisekoi OVA': ['comedy, harem, romance, school, shounen',\n",
              "  'comedy, harem, romance, school, shounen'],\n",
              " 'Naruto': ['action, comedy, martial arts, shounen, super power',\n",
              "  'action, comedy, martial arts, shounen, super power',\n",
              "  'action, comedy, martial arts, shounen, super power',\n",
              "  'action, comedy, martial arts, shounen, super power',\n",
              "  'action, comedy, martial arts, shounen, super power',\n",
              "  'action, comedy, martial arts, shounen, super power',\n",
              "  'action, comedy, martial arts, shounen, super power',\n",
              "  'action, comedy, martial arts, shounen, super power',\n",
              "  'action, comedy, martial arts, shounen, super power',\n",
              "  'action, comedy, martial arts, shounen, super power',\n",
              "  'action, comedy, martial arts, shounen, super power',\n",
              "  'action, comedy, martial arts, shounen, super power',\n",
              "  'action, comedy, martial arts, shounen, super power',\n",
              "  'action, comedy, martial arts, shounen, super power',\n",
              "  'action, comedy, martial arts, shounen, super power',\n",
              "  'action, comedy, martial arts, shounen, super power',\n",
              "  'action, comedy, martial arts, shounen, super power',\n",
              "  'action, comedy, martial arts, shounen, super power',\n",
              "  'action, comedy, martial arts, shounen, super power',\n",
              "  'action, comedy, martial arts, shounen, super power'],\n",
              " 'Darker than Black: Kuro no Keiyakusha': ['action, mystery, sci-fi, super power',\n",
              "  'action, mystery, sci-fi, super power',\n",
              "  'action, mystery, sci-fi, super power',\n",
              "  'action, mystery, sci-fi, super power',\n",
              "  'action, mystery, sci-fi, super power',\n",
              "  'action, mystery, sci-fi, super power',\n",
              "  'action, mystery, sci-fi, super power',\n",
              "  'action, mystery, sci-fi, super power',\n",
              "  'action, mystery, sci-fi, super power',\n",
              "  'action, mystery, sci-fi, super power',\n",
              "  'action, mystery, sci-fi, super power',\n",
              "  'action, mystery, sci-fi, super power'],\n",
              " 'Magic Knight Rayearth II': ['adventure, drama, fantasy, magic, mecha, romance, shoujo',\n",
              "  'adventure, drama, fantasy, magic, mecha, romance, shoujo'],\n",
              " 'Dead Leaves': ['adventure, comedy, psychological, sci-fi',\n",
              "  'adventure, comedy, psychological, sci-fi',\n",
              "  'adventure, comedy, psychological, sci-fi'],\n",
              " 'Kotoura-san': ['comedy, drama, romance, school',\n",
              "  'comedy, drama, romance, school'],\n",
              " 'Rec': ['comedy, drama, romance', 'comedy, drama, romance'],\n",
              " 'Ookami to Koushinryou II': ['adventure, fantasy, historical, romance',\n",
              "  'adventure, fantasy, historical, romance',\n",
              "  'adventure, fantasy, historical, romance',\n",
              "  'adventure, fantasy, historical, romance',\n",
              "  'adventure, fantasy, historical, romance',\n",
              "  'adventure, fantasy, historical, romance',\n",
              "  'adventure, fantasy, historical, romance'],\n",
              " 'Kanon (2006)': ['drama, romance, slice of life, supernatural',\n",
              "  'drama, romance, slice of life, supernatural',\n",
              "  'drama, romance, slice of life, supernatural',\n",
              "  'drama, romance, slice of life, supernatural',\n",
              "  'drama, romance, slice of life, supernatural',\n",
              "  'drama, romance, slice of life, supernatural',\n",
              "  'drama, romance, slice of life, supernatural',\n",
              "  'drama, romance, slice of life, supernatural',\n",
              "  'drama, romance, slice of life, supernatural',\n",
              "  'drama, romance, slice of life, supernatural',\n",
              "  'drama, romance, slice of life, supernatural',\n",
              "  'drama, romance, slice of life, supernatural',\n",
              "  'drama, romance, slice of life, supernatural',\n",
              "  'drama, romance, slice of life, supernatural',\n",
              "  'drama, romance, slice of life, supernatural'],\n",
              " 'Sakamichi no Apollon': ['drama, josei, music, romance, school',\n",
              "  'drama, josei, music, romance, school',\n",
              "  'drama, josei, music, romance, school'],\n",
              " 'Afro Samurai': ['action, adventure, samurai',\n",
              "  'action, adventure, samurai',\n",
              "  'action, adventure, samurai',\n",
              "  'action, adventure, samurai',\n",
              "  'action, adventure, samurai',\n",
              "  'action, adventure, samurai',\n",
              "  'action, adventure, samurai'],\n",
              " 'Strike the Blood': ['action, ecchi, fantasy, harem, school, shounen, supernatural, vampire',\n",
              "  'action, ecchi, fantasy, harem, school, shounen, supernatural, vampire',\n",
              "  'action, ecchi, fantasy, harem, school, shounen, supernatural, vampire',\n",
              "  'action, ecchi, fantasy, harem, school, shounen, supernatural, vampire'],\n",
              " 'Takamiya Nasuno Desu!: Teekyuu Spin-off': ['comedy, shounen',\n",
              "  'comedy, shounen',\n",
              "  'comedy, shounen'],\n",
              " 'Karen': ['hentai'],\n",
              " 'Sunabouzu': ['action, adventure, comedy, ecchi, sci-fi, shounen',\n",
              "  'action, adventure, comedy, ecchi, sci-fi, shounen'],\n",
              " 'Baccano!': ['action, comedy, historical, mystery, seinen, supernatural',\n",
              "  'action, comedy, historical, mystery, seinen, supernatural',\n",
              "  'action, comedy, historical, mystery, seinen, supernatural',\n",
              "  'action, comedy, historical, mystery, seinen, supernatural',\n",
              "  'action, comedy, historical, mystery, seinen, supernatural',\n",
              "  'action, comedy, historical, mystery, seinen, supernatural'],\n",
              " 'Touhai Densetsu Akagi: Yami ni Maiorita Tensai': ['game, psychological, seinen, thriller',\n",
              "  'game, psychological, seinen, thriller'],\n",
              " 'Full Metal Panic? Fumoffu': ['action, comedy, school',\n",
              "  'action, comedy, school',\n",
              "  'action, comedy, school',\n",
              "  'action, comedy, school',\n",
              "  'action, comedy, school',\n",
              "  'action, comedy, school',\n",
              "  'action, comedy, school',\n",
              "  'action, comedy, school'],\n",
              " 'Fairy Tail': ['action, adventure, comedy, fantasy, magic, shounen',\n",
              "  'action, adventure, comedy, fantasy, magic, shounen',\n",
              "  'action, adventure, comedy, fantasy, magic, shounen',\n",
              "  'action, adventure, comedy, fantasy, magic, shounen',\n",
              "  'action, adventure, comedy, fantasy, magic, shounen',\n",
              "  'action, adventure, comedy, fantasy, magic, shounen',\n",
              "  'action, adventure, comedy, fantasy, magic, shounen',\n",
              "  'action, adventure, comedy, fantasy, magic, shounen',\n",
              "  'action, adventure, comedy, fantasy, magic, shounen'],\n",
              " 'Minami-ke': ['comedy, school, slice of life',\n",
              "  'comedy, school, slice of life',\n",
              "  'comedy, school, slice of life',\n",
              "  'comedy, school, slice of life',\n",
              "  'comedy, school, slice of life'],\n",
              " 'Great Teacher Onizuka': ['comedy, drama, school, shounen, slice of life',\n",
              "  'comedy, drama, school, shounen, slice of life',\n",
              "  'comedy, drama, school, shounen, slice of life',\n",
              "  'comedy, drama, school, shounen, slice of life',\n",
              "  'comedy, drama, school, shounen, slice of life',\n",
              "  'comedy, drama, school, shounen, slice of life'],\n",
              " 'Mimi wo Sumaseba': ['adventure, drama, fantasy, romance, slice of life',\n",
              "  'adventure, drama, fantasy, romance, slice of life'],\n",
              " 'Chuunibyou demo Koi ga Shitai! Lite': ['comedy, school'],\n",
              " 'Death Note': ['mystery, police, psychological, supernatural, thriller',\n",
              "  'mystery, police, psychological, supernatural, thriller',\n",
              "  'mystery, police, psychological, supernatural, thriller',\n",
              "  'mystery, police, psychological, supernatural, thriller',\n",
              "  'mystery, police, psychological, supernatural, thriller',\n",
              "  'mystery, police, psychological, supernatural, thriller',\n",
              "  'mystery, police, psychological, supernatural, thriller',\n",
              "  'mystery, police, psychological, supernatural, thriller',\n",
              "  'mystery, police, psychological, supernatural, thriller',\n",
              "  'mystery, police, psychological, supernatural, thriller',\n",
              "  'mystery, police, psychological, supernatural, thriller',\n",
              "  'mystery, police, psychological, supernatural, thriller',\n",
              "  'mystery, police, psychological, supernatural, thriller',\n",
              "  'mystery, police, psychological, supernatural, thriller',\n",
              "  'mystery, police, psychological, supernatural, thriller',\n",
              "  'mystery, police, psychological, supernatural, thriller',\n",
              "  'mystery, police, psychological, supernatural, thriller',\n",
              "  'mystery, police, psychological, supernatural, thriller',\n",
              "  'mystery, police, psychological, supernatural, thriller',\n",
              "  'mystery, police, psychological, supernatural, thriller',\n",
              "  'mystery, police, psychological, supernatural, thriller',\n",
              "  'mystery, police, psychological, supernatural, thriller',\n",
              "  'mystery, police, psychological, supernatural, thriller',\n",
              "  'mystery, police, psychological, supernatural, thriller',\n",
              "  'mystery, police, psychological, supernatural, thriller',\n",
              "  'mystery, police, psychological, supernatural, thriller'],\n",
              " 'Tales of Zestiria the X': ['action, adventure, fantasy',\n",
              "  'action, adventure, fantasy'],\n",
              " 'Naruto Movie 3: Dai Koufun! Mikazuki Jima no Animaru Panikku Dattebayo!': ['action, adventure',\n",
              "  'action, adventure',\n",
              "  'action, adventure',\n",
              "  'action, adventure',\n",
              "  'action, adventure'],\n",
              " 'Chobits: Chibits': ['comedy, romance'],\n",
              " 'One Punch Man Specials': ['action, comedy, parody, sci-fi, seinen, super power, supernatural',\n",
              "  'action, comedy, parody, sci-fi, seinen, super power, supernatural'],\n",
              " 'Top wo Nerae! &amp; Top wo Nerae 2! Gattai Movie!!': ['comedy, mecha, shounen'],\n",
              " 'Owari no Seraph: Nagoya Kessen-hen': ['action, drama, shounen, supernatural, vampire',\n",
              "  'action, drama, shounen, supernatural, vampire',\n",
              "  'action, drama, shounen, supernatural, vampire',\n",
              "  'action, drama, shounen, supernatural, vampire',\n",
              "  'action, drama, shounen, supernatural, vampire'],\n",
              " 'Hibike! Euphonium': ['drama, music, school'],\n",
              " 'Toradora!: Bentou no Gokui': ['comedy, romance, school, slice of life',\n",
              "  'comedy, romance, school, slice of life'],\n",
              " 'IS: Infinite Stratos 2 - Hitonatsu no Omoide': ['action, comedy, harem, mecha, sci-fi'],\n",
              " 'Escaflowne': ['adventure, drama, fantasy, mecha, romance, sci-fi, shoujo',\n",
              "  'adventure, drama, fantasy, mecha, romance, sci-fi, shoujo'],\n",
              " 'Rurouni Kenshin: Meiji Kenkaku Romantan - Tsuioku-hen': ['action, drama, historical, martial arts, romance, samurai',\n",
              "  'action, drama, historical, martial arts, romance, samurai',\n",
              "  'action, drama, historical, martial arts, romance, samurai',\n",
              "  'action, drama, historical, martial arts, romance, samurai'],\n",
              " 'Sora no Otoshimono': ['comedy, ecchi, harem, romance, sci-fi, shounen, supernatural',\n",
              "  'comedy, ecchi, harem, romance, sci-fi, shounen, supernatural',\n",
              "  'comedy, ecchi, harem, romance, sci-fi, shounen, supernatural',\n",
              "  'comedy, ecchi, harem, romance, sci-fi, shounen, supernatural',\n",
              "  'comedy, ecchi, harem, romance, sci-fi, shounen, supernatural',\n",
              "  'comedy, ecchi, harem, romance, sci-fi, shounen, supernatural'],\n",
              " 'Attack No.1': ['drama, shoujo, sports', 'drama, shoujo, sports'],\n",
              " 'Fate/stay night': ['action, fantasy, magic, romance, supernatural',\n",
              "  'action, fantasy, magic, romance, supernatural',\n",
              "  'action, fantasy, magic, romance, supernatural',\n",
              "  'action, fantasy, magic, romance, supernatural',\n",
              "  'action, fantasy, magic, romance, supernatural',\n",
              "  'action, fantasy, magic, romance, supernatural',\n",
              "  'action, fantasy, magic, romance, supernatural',\n",
              "  'action, fantasy, magic, romance, supernatural',\n",
              "  'action, fantasy, magic, romance, supernatural',\n",
              "  'action, fantasy, magic, romance, supernatural',\n",
              "  'action, fantasy, magic, romance, supernatural',\n",
              "  'action, fantasy, magic, romance, supernatural'],\n",
              " 'Gyakuten Saiban 6 Prologue': ['mystery'],\n",
              " 'Mahoromatic End Year Special': ['comedy, ecchi, military, romance, sci-fi'],\n",
              " 'Mermaid Melody Pichi Pichi Pitch': ['adventure, comedy, magic, romance, shoujo',\n",
              "  'adventure, comedy, magic, romance, shoujo'],\n",
              " 'Sword Art Online': ['action, adventure, fantasy, game, romance',\n",
              "  'action, adventure, fantasy, game, romance',\n",
              "  'action, adventure, fantasy, game, romance',\n",
              "  'action, adventure, fantasy, game, romance',\n",
              "  'action, adventure, fantasy, game, romance',\n",
              "  'action, adventure, fantasy, game, romance',\n",
              "  'action, adventure, fantasy, game, romance',\n",
              "  'action, adventure, fantasy, game, romance',\n",
              "  'action, adventure, fantasy, game, romance',\n",
              "  'action, adventure, fantasy, game, romance',\n",
              "  'action, adventure, fantasy, game, romance',\n",
              "  'action, adventure, fantasy, game, romance',\n",
              "  'action, adventure, fantasy, game, romance',\n",
              "  'action, adventure, fantasy, game, romance'],\n",
              " 'Bokura wa Minna Kawaisou': ['comedy, romance, school, slice of life',\n",
              "  'comedy, romance, school, slice of life',\n",
              "  'comedy, romance, school, slice of life',\n",
              "  'comedy, romance, school, slice of life',\n",
              "  'comedy, romance, school, slice of life'],\n",
              " 'Saber Marionette R': ['action, comedy, harem, mecha, sci-fi'],\n",
              " 'Break Blade': ['action, fantasy, mecha, military, shounen'],\n",
              " 'Blame!': ['mecha, sci-fi'],\n",
              " 'Joshikousei: Girl&#039;s High Specials': ['comedy, slice of life'],\n",
              " 'Macross Plus': ['drama, mecha, military, romance, sci-fi, space',\n",
              "  'drama, mecha, military, romance, sci-fi, space'],\n",
              " 'Air Gear: Kuro no Hane to Nemuri no Mori - Break on the Sky': ['action, comedy, ecchi, shounen, sports'],\n",
              " 'Yoru no Yatterman': ['action, adventure, comedy, drama',\n",
              "  'action, adventure, comedy, drama'],\n",
              " 'Goshuushou-sama Ninomiya-kun': ['comedy, ecchi, fantasy, harem',\n",
              "  'comedy, ecchi, fantasy, harem',\n",
              "  'comedy, ecchi, fantasy, harem',\n",
              "  'comedy, ecchi, fantasy, harem'],\n",
              " 'Vampire Knight': ['drama, mystery, romance, shoujo, supernatural, vampire',\n",
              "  'drama, mystery, romance, shoujo, supernatural, vampire',\n",
              "  'drama, mystery, romance, shoujo, supernatural, vampire',\n",
              "  'drama, mystery, romance, shoujo, supernatural, vampire',\n",
              "  'drama, mystery, romance, shoujo, supernatural, vampire',\n",
              "  'drama, mystery, romance, shoujo, supernatural, vampire',\n",
              "  'drama, mystery, romance, shoujo, supernatural, vampire',\n",
              "  'drama, mystery, romance, shoujo, supernatural, vampire'],\n",
              " 'Tsubasa Chronicle': ['action, adventure, fantasy, magic, romance, shounen, supernatural',\n",
              "  'action, adventure, fantasy, magic, romance, shounen, supernatural',\n",
              "  'action, adventure, fantasy, magic, romance, shounen, supernatural',\n",
              "  'action, adventure, fantasy, magic, romance, shounen, supernatural'],\n",
              " 'Basquash!': ['ecchi, mecha, shounen, sports',\n",
              "  'ecchi, mecha, shounen, sports',\n",
              "  'ecchi, mecha, shounen, sports'],\n",
              " 'Kimikiss Pure Rouge': ['drama, romance, school'],\n",
              " 'Aa! Megami-sama! (TV)': ['comedy, magic, romance, seinen, supernatural',\n",
              "  'comedy, magic, romance, seinen, supernatural',\n",
              "  'comedy, magic, romance, seinen, supernatural',\n",
              "  'comedy, magic, romance, seinen, supernatural',\n",
              "  'comedy, magic, romance, seinen, supernatural'],\n",
              " 'Hanayamata': ['comedy, school, seinen, slice of life'],\n",
              " 'Sasami: Mahou Shoujo Club 2': ['fantasy, magic, school'],\n",
              " 'Nisekoi': ['comedy, harem, romance, school, shounen',\n",
              "  'comedy, harem, romance, school, shounen',\n",
              "  'comedy, harem, romance, school, shounen',\n",
              "  'comedy, harem, romance, school, shounen',\n",
              "  'comedy, harem, romance, school, shounen'],\n",
              " 'Pupa': ['fantasy, horror, psychological', 'fantasy, horror, psychological'],\n",
              " 'Wagamama☆Fairy Mirumo de Pon!': ['adventure, comedy, drama, fantasy, kids, magic, romance, school, shoujo'],\n",
              " 'Toaru Kagaku no Railgun S': ['action, sci-fi, super power',\n",
              "  'action, sci-fi, super power'],\n",
              " 'Haikyuu!! Second Season': ['comedy, drama, school, shounen, sports',\n",
              "  'comedy, drama, school, shounen, sports',\n",
              "  'comedy, drama, school, shounen, sports',\n",
              "  'comedy, drama, school, shounen, sports',\n",
              "  'comedy, drama, school, shounen, sports',\n",
              "  'comedy, drama, school, shounen, sports'],\n",
              " 'Air Gear': ['action, comedy, ecchi, shounen, sports',\n",
              "  'action, comedy, ecchi, shounen, sports',\n",
              "  'action, comedy, ecchi, shounen, sports'],\n",
              " 'D-Frag!': ['comedy, game, school, seinen',\n",
              "  'comedy, game, school, seinen',\n",
              "  'comedy, game, school, seinen',\n",
              "  'comedy, game, school, seinen'],\n",
              " 'Cencoroll': ['action, sci-fi', 'action, sci-fi'],\n",
              " 'Durarara!!x2 Shou': ['action, mystery, supernatural',\n",
              "  'action, mystery, supernatural',\n",
              "  'action, mystery, supernatural',\n",
              "  'action, mystery, supernatural',\n",
              "  'action, mystery, supernatural',\n",
              "  'action, mystery, supernatural',\n",
              "  'action, mystery, supernatural',\n",
              "  'action, mystery, supernatural',\n",
              "  'action, mystery, supernatural'],\n",
              " 'Yomigaeru Sora: Rescue Wings': ['drama, military, seinen'],\n",
              " 'Durarara!!': ['action, mystery, supernatural',\n",
              "  'action, mystery, supernatural',\n",
              "  'action, mystery, supernatural',\n",
              "  'action, mystery, supernatural',\n",
              "  'action, mystery, supernatural',\n",
              "  'action, mystery, supernatural',\n",
              "  'action, mystery, supernatural',\n",
              "  'action, mystery, supernatural'],\n",
              " 'Mangaka-san to Assistant-san to The Animation': ['comedy, ecchi, harem, seinen, slice of life',\n",
              "  'comedy, ecchi, harem, seinen, slice of life',\n",
              "  'comedy, ecchi, harem, seinen, slice of life',\n",
              "  'comedy, ecchi, harem, seinen, slice of life'],\n",
              " 'Code Geass: Hangyaku no Lelouch R2': ['action, drama, mecha, military, sci-fi, super power',\n",
              "  'action, drama, mecha, military, sci-fi, super power',\n",
              "  'action, drama, mecha, military, sci-fi, super power',\n",
              "  'action, drama, mecha, military, sci-fi, super power',\n",
              "  'action, drama, mecha, military, sci-fi, super power',\n",
              "  'action, drama, mecha, military, sci-fi, super power',\n",
              "  'action, drama, mecha, military, sci-fi, super power',\n",
              "  'action, drama, mecha, military, sci-fi, super power',\n",
              "  'action, drama, mecha, military, sci-fi, super power',\n",
              "  'action, drama, mecha, military, sci-fi, super power',\n",
              "  'action, drama, mecha, military, sci-fi, super power',\n",
              "  'action, drama, mecha, military, sci-fi, super power',\n",
              "  'action, drama, mecha, military, sci-fi, super power',\n",
              "  'action, drama, mecha, military, sci-fi, super power',\n",
              "  'action, drama, mecha, military, sci-fi, super power'],\n",
              " 'Iriya no Sora, UFO no Natsu': ['drama, romance, sci-fi'],\n",
              " 'Sankarea: Wagahai mo... Zombie de Aru...': ['comedy, ecchi, horror, romance, shounen, supernatural',\n",
              "  'comedy, ecchi, horror, romance, shounen, supernatural',\n",
              "  'comedy, ecchi, horror, romance, shounen, supernatural'],\n",
              " 'Mobile Suit Gundam: Iron-Blooded Orphans': ['action, drama, mecha, sci-fi, space',\n",
              "  'action, drama, mecha, sci-fi, space',\n",
              "  'action, drama, mecha, sci-fi, space'],\n",
              " 'Happy☆Lesson (TV)': ['comedy, drama, harem, romance, slice of life'],\n",
              " 'Inou-Battle wa Nichijou-kei no Naka de': ['comedy, romance, school, slice of life, supernatural',\n",
              "  'comedy, romance, school, slice of life, supernatural',\n",
              "  'comedy, romance, school, slice of life, supernatural',\n",
              "  'comedy, romance, school, slice of life, supernatural'],\n",
              " 'K: Missing Kings': ['action, super power, supernatural',\n",
              "  'action, super power, supernatural',\n",
              "  'action, super power, supernatural'],\n",
              " 'Shakugan no Shana II (Second)': ['action, drama, fantasy, romance, school, supernatural',\n",
              "  'action, drama, fantasy, romance, school, supernatural',\n",
              "  'action, drama, fantasy, romance, school, supernatural',\n",
              "  'action, drama, fantasy, romance, school, supernatural',\n",
              "  'action, drama, fantasy, romance, school, supernatural',\n",
              "  'action, drama, fantasy, romance, school, supernatural'],\n",
              " 'Hokuto no Ken: Raoh Gaiden Ten no Haoh': ['action, drama, martial arts',\n",
              "  'action, drama, martial arts'],\n",
              " 'Death Billiards': ['drama, game, mystery, psychological, thriller',\n",
              "  'drama, game, mystery, psychological, thriller',\n",
              "  'drama, game, mystery, psychological, thriller',\n",
              "  'drama, game, mystery, psychological, thriller'],\n",
              " 'School Rumble Ni Gakki': ['comedy, romance, school, shounen',\n",
              "  'comedy, romance, school, shounen',\n",
              "  'comedy, romance, school, shounen',\n",
              "  'comedy, romance, school, shounen'],\n",
              " 'Negima!?': ['adventure, comedy, ecchi, fantasy, harem, magic, romance, school, supernatural',\n",
              "  'adventure, comedy, ecchi, fantasy, harem, magic, romance, school, supernatural'],\n",
              " 'Megami Kouhosei': ['action, mecha, military, sci-fi, space',\n",
              "  'action, mecha, military, sci-fi, space',\n",
              "  'action, mecha, military, sci-fi, space'],\n",
              " 'Haibane Renmei': ['drama, fantasy, mystery, psychological, slice of life',\n",
              "  'drama, fantasy, mystery, psychological, slice of life',\n",
              "  'drama, fantasy, mystery, psychological, slice of life'],\n",
              " 'Mobile Suit Gundam 00 Second Season': ['action, drama, mecha, military, sci-fi, space',\n",
              "  'action, drama, mecha, military, sci-fi, space',\n",
              "  'action, drama, mecha, military, sci-fi, space',\n",
              "  'action, drama, mecha, military, sci-fi, space',\n",
              "  'action, drama, mecha, military, sci-fi, space',\n",
              "  'action, drama, mecha, military, sci-fi, space'],\n",
              " 'K': ['action, super power, supernatural',\n",
              "  'action, super power, supernatural',\n",
              "  'action, super power, supernatural'],\n",
              " 'Gantz 2nd Stage': ['action, drama, horror, psychological, sci-fi, supernatural',\n",
              "  'action, drama, horror, psychological, sci-fi, supernatural',\n",
              "  'action, drama, horror, psychological, sci-fi, supernatural',\n",
              "  'action, drama, horror, psychological, sci-fi, supernatural',\n",
              "  'action, drama, horror, psychological, sci-fi, supernatural',\n",
              "  'action, drama, horror, psychological, sci-fi, supernatural',\n",
              "  'action, drama, horror, psychological, sci-fi, supernatural'],\n",
              " 'Dragon Ball Movie 4: Saikyou e no Michi': ['action, adventure, comedy, fantasy, sci-fi, shounen, super power',\n",
              "  'action, adventure, comedy, fantasy, sci-fi, shounen, super power'],\n",
              " 'Suisei no Gargantia': ['action, adventure, mecha, sci-fi',\n",
              "  'action, adventure, mecha, sci-fi',\n",
              "  'action, adventure, mecha, sci-fi',\n",
              "  'action, adventure, mecha, sci-fi',\n",
              "  'action, adventure, mecha, sci-fi'],\n",
              " 'Bishoujo Senshi Sailor Moon S: Kaguya Hime no Koibito': ['adventure, comedy, drama, fantasy, magic, romance, shoujo',\n",
              "  'adventure, comedy, drama, fantasy, magic, romance, shoujo',\n",
              "  'adventure, comedy, drama, fantasy, magic, romance, shoujo'],\n",
              " 'Tasogare Otome x Amnesia: Taima Otome': ['horror, mystery, romance, school, shounen, supernatural',\n",
              "  'horror, mystery, romance, school, shounen, supernatural',\n",
              "  'horror, mystery, romance, school, shounen, supernatural'],\n",
              " 'Fushigi Yuugi': ['adventure, comedy, drama, fantasy, historical, magic, martial arts, romance, shoujo',\n",
              "  'adventure, comedy, drama, fantasy, historical, magic, martial arts, romance, shoujo'],\n",
              " 'Suzumiya Haruhi-chan no Yuuutsu': ['comedy, parody', 'comedy, parody'],\n",
              " 'Yu☆Gi☆Oh! Duel Monsters': ['adventure, game, shounen',\n",
              "  'adventure, game, shounen',\n",
              "  'adventure, game, shounen',\n",
              "  'adventure, game, shounen',\n",
              "  'adventure, game, shounen'],\n",
              " 'Pale Cocoon': ['drama, sci-fi'],\n",
              " 'Gun Frontier': ['action, adventure, drama, historical, sci-fi, seinen'],\n",
              " 'Fullmetal Alchemist: The Conqueror of Shamballa': ['comedy, drama, fantasy, historical, military, shounen',\n",
              "  'comedy, drama, fantasy, historical, military, shounen',\n",
              "  'comedy, drama, fantasy, historical, military, shounen',\n",
              "  'comedy, drama, fantasy, historical, military, shounen',\n",
              "  'comedy, drama, fantasy, historical, military, shounen',\n",
              "  'comedy, drama, fantasy, historical, military, shounen'],\n",
              " 'Tatakau Shisho: The Book of Bantorra': ['action, fantasy, seinen, super power',\n",
              "  'action, fantasy, seinen, super power'],\n",
              " 'Saint☆Oniisan (Movie)': ['comedy, seinen, slice of life'],\n",
              " 'Street Fighter Alpha: Generations': ['adventure, shounen',\n",
              "  'adventure, shounen'],\n",
              " 'Asura Cryin&#039; 2': ['action, mecha, supernatural',\n",
              "  'action, mecha, supernatural'],\n",
              " 'Aria The Origination Picture Drama': ['fantasy, sci-fi, shounen, slice of life'],\n",
              " 'Shikabane Hime: Kuro': ['action, horror', 'action, horror'],\n",
              " 'Kami nomi zo Shiru Sekai: Megami-hen': ['comedy, harem, romance, shounen, supernatural',\n",
              "  'comedy, harem, romance, shounen, supernatural',\n",
              "  'comedy, harem, romance, shounen, supernatural',\n",
              "  'comedy, harem, romance, shounen, supernatural'],\n",
              " 'Gunslinger Stratos: The Animation': ['action, sci-fi', 'action, sci-fi'],\n",
              " 'Jormungand': ['action, adventure, seinen',\n",
              "  'action, adventure, seinen',\n",
              "  'action, adventure, seinen'],\n",
              " 'Brave 10': ['action, adventure, historical, samurai, seinen, super power',\n",
              "  'action, adventure, historical, samurai, seinen, super power',\n",
              "  'action, adventure, historical, samurai, seinen, super power'],\n",
              " 'Gakkou no Kaidan': ['horror, mystery, supernatural'],\n",
              " 'Gokudou-kun Manyuuki': ['adventure, comedy, fantasy, magic'],\n",
              " '_Summer': ['drama, harem, romance'],\n",
              " 'Suki na Mono wa Suki Dakara Shou ga Nai!!': ['comedy, drama, romance, shoujo, shounen ai, slice of life',\n",
              "  'comedy, drama, romance, shoujo, shounen ai, slice of life'],\n",
              " 'Lucky☆Star': ['comedy, parody, school, slice of life',\n",
              "  'comedy, parody, school, slice of life',\n",
              "  'comedy, parody, school, slice of life',\n",
              "  'comedy, parody, school, slice of life',\n",
              "  'comedy, parody, school, slice of life',\n",
              "  'comedy, parody, school, slice of life',\n",
              "  'comedy, parody, school, slice of life',\n",
              "  'comedy, parody, school, slice of life'],\n",
              " 'Yu☆Gi☆Oh! 5D&#039;s: Shinkasuru Kettou! Stardust vs. Red Demon&#039;s': ['fantasy, game, sci-fi'],\n",
              " 'Monster': ['drama, horror, mystery, police, psychological, seinen, thriller',\n",
              "  'drama, horror, mystery, police, psychological, seinen, thriller',\n",
              "  'drama, horror, mystery, police, psychological, seinen, thriller',\n",
              "  'drama, horror, mystery, police, psychological, seinen, thriller'],\n",
              " 'School Rumble San Gakki': ['comedy, romance, school, shounen',\n",
              "  'comedy, romance, school, shounen'],\n",
              " 'Kuroko no Basket 3rd Season': ['comedy, school, shounen, sports',\n",
              "  'comedy, school, shounen, sports',\n",
              "  'comedy, school, shounen, sports',\n",
              "  'comedy, school, shounen, sports',\n",
              "  'comedy, school, shounen, sports',\n",
              "  'comedy, school, shounen, sports',\n",
              "  'comedy, school, shounen, sports'],\n",
              " 'D.C.if: Da Capo if': ['drama, harem, magic, romance'],\n",
              " 'Code Geass: Boukoku no Akito 1 - Yokuryuu wa Maiorita': ['action, mecha, military, sci-fi',\n",
              "  'action, mecha, military, sci-fi',\n",
              "  'action, mecha, military, sci-fi',\n",
              "  'action, mecha, military, sci-fi'],\n",
              " 'Mermaid Melody Pichi Pichi Pitch Pure': ['adventure, comedy, magic, romance, shoujo',\n",
              "  'adventure, comedy, magic, romance, shoujo'],\n",
              " 'K-On!: Ura-On!': ['comedy', 'comedy', 'comedy', 'comedy'],\n",
              " 'Yuusha ni Narenakatta Ore wa Shibushibu Shuushoku wo Ketsui Shimashita.': ['comedy, ecchi, fantasy, romance',\n",
              "  'comedy, ecchi, fantasy, romance',\n",
              "  'comedy, ecchi, fantasy, romance',\n",
              "  'comedy, ecchi, fantasy, romance'],\n",
              " 'Gyakuten Saiban: Sono &quot;Shinjitsu&quot;, Igi Ari!': ['comedy, drama, mystery, police'],\n",
              " 'Boku no Hero Academia': ['action, comedy, school, shounen, super power',\n",
              "  'action, comedy, school, shounen, super power',\n",
              "  'action, comedy, school, shounen, super power',\n",
              "  'action, comedy, school, shounen, super power',\n",
              "  'action, comedy, school, shounen, super power',\n",
              "  'action, comedy, school, shounen, super power',\n",
              "  'action, comedy, school, shounen, super power'],\n",
              " 'Code Geass: Boukoku no Akito 2 - Hikisakareshi Yokuryuu': ['action, mecha, military'],\n",
              " 'Snow Halation': ['music'],\n",
              " 'Gate: Jieitai Kanochi nite, Kaku Tatakaeri 2nd Season': ['action, adventure, fantasy, military',\n",
              "  'action, adventure, fantasy, military'],\n",
              " 'Sentou Yousei Yukikaze': ['action, drama, military, psychological, sci-fi, space'],\n",
              " 'Oniichan dakedo Ai Sae Areba Kankeinai yo ne!': ['comedy, ecchi, harem, romance, school',\n",
              "  'comedy, ecchi, harem, romance, school'],\n",
              " 'Shiki Specials': ['horror, mystery, supernatural, vampire'],\n",
              " 'Ga-Rei: Zero': ['action, super power, supernatural, thriller',\n",
              "  'action, super power, supernatural, thriller',\n",
              "  'action, super power, supernatural, thriller',\n",
              "  'action, super power, supernatural, thriller',\n",
              "  'action, super power, supernatural, thriller',\n",
              "  'action, super power, supernatural, thriller',\n",
              "  'action, super power, supernatural, thriller',\n",
              "  'action, super power, supernatural, thriller'],\n",
              " 'Kaleido Star: Good da yo! Goood!!': ['comedy'],\n",
              " 'Final Fantasy VII: Advent Children': ['action, fantasy, super power',\n",
              "  'action, fantasy, super power',\n",
              "  'action, fantasy, super power',\n",
              "  'action, fantasy, super power',\n",
              "  'action, fantasy, super power',\n",
              "  'action, fantasy, super power',\n",
              "  'action, fantasy, super power',\n",
              "  'action, fantasy, super power',\n",
              "  'action, fantasy, super power'],\n",
              " 'Kure-nai': ['comedy, drama, martial arts', 'comedy, drama, martial arts'],\n",
              " 'Futakoi': ['comedy, romance, school'],\n",
              " 'Air': ['drama, romance, slice of life, supernatural',\n",
              "  'drama, romance, slice of life, supernatural',\n",
              "  'drama, romance, slice of life, supernatural',\n",
              "  'drama, romance, slice of life, supernatural',\n",
              "  'drama, romance, slice of life, supernatural',\n",
              "  'drama, romance, slice of life, supernatural'],\n",
              " 'Ichiban Ushiro no Daimaou': ['action, comedy, ecchi, fantasy, harem, magic, school, shounen',\n",
              "  'action, comedy, ecchi, fantasy, harem, magic, school, shounen',\n",
              "  'action, comedy, ecchi, fantasy, harem, magic, school, shounen',\n",
              "  'action, comedy, ecchi, fantasy, harem, magic, school, shounen'],\n",
              " 'Kikumana': ['dementia, psychological'],\n",
              " 'Golden Boy': ['adventure, comedy, ecchi',\n",
              "  'adventure, comedy, ecchi',\n",
              "  'adventure, comedy, ecchi',\n",
              "  'adventure, comedy, ecchi'],\n",
              " 'Neko no Ongaeshi': ['adventure, drama, fantasy',\n",
              "  'adventure, drama, fantasy',\n",
              "  'adventure, drama, fantasy',\n",
              "  'adventure, drama, fantasy',\n",
              "  'adventure, drama, fantasy'],\n",
              " 'Ghost in the Shell: Stand Alone Complex': ['action, mecha, military, police, sci-fi, seinen',\n",
              "  'action, mecha, military, police, sci-fi, seinen',\n",
              "  'action, mecha, military, police, sci-fi, seinen',\n",
              "  'action, mecha, military, police, sci-fi, seinen',\n",
              "  'action, mecha, military, police, sci-fi, seinen'],\n",
              " 'Bounen no Xamdou': ['action, military, sci-fi',\n",
              "  'action, military, sci-fi',\n",
              "  'action, military, sci-fi',\n",
              "  'action, military, sci-fi',\n",
              "  'action, military, sci-fi'],\n",
              " 'Strike Witches': ['action, ecchi, magic, military, sci-fi',\n",
              "  'action, ecchi, magic, military, sci-fi',\n",
              "  'action, ecchi, magic, military, sci-fi'],\n",
              " 'Oda Nobuna no Yabou': ['comedy, historical, romance'],\n",
              " 'Samurai Champloo': ['action, adventure, comedy, historical, samurai, shounen',\n",
              "  'action, adventure, comedy, historical, samurai, shounen',\n",
              "  'action, adventure, comedy, historical, samurai, shounen',\n",
              "  'action, adventure, comedy, historical, samurai, shounen',\n",
              "  'action, adventure, comedy, historical, samurai, shounen'],\n",
              " 'Minami-ke Okawari': ['comedy, school, slice of life',\n",
              "  'comedy, school, slice of life',\n",
              "  'comedy, school, slice of life',\n",
              "  'comedy, school, slice of life'],\n",
              " 'Higashi no Eden': ['action, comedy, drama, mystery, romance, sci-fi, thriller',\n",
              "  'action, comedy, drama, mystery, romance, sci-fi, thriller',\n",
              "  'action, comedy, drama, mystery, romance, sci-fi, thriller',\n",
              "  'action, comedy, drama, mystery, romance, sci-fi, thriller',\n",
              "  'action, comedy, drama, mystery, romance, sci-fi, thriller',\n",
              "  'action, comedy, drama, mystery, romance, sci-fi, thriller',\n",
              "  'action, comedy, drama, mystery, romance, sci-fi, thriller'],\n",
              " 'Hayate no Gotoku!!: Atsu ga Natsuize - Mizugi-hen!': ['action, comedy, harem, parody, romance'],\n",
              " 'Kuroko no Basket': ['comedy, school, shounen, sports',\n",
              "  'comedy, school, shounen, sports',\n",
              "  'comedy, school, shounen, sports',\n",
              "  'comedy, school, shounen, sports',\n",
              "  'comedy, school, shounen, sports'],\n",
              " 'Fate/Zero': ['action, fantasy, supernatural',\n",
              "  'action, fantasy, supernatural',\n",
              "  'action, fantasy, supernatural',\n",
              "  'action, fantasy, supernatural',\n",
              "  'action, fantasy, supernatural',\n",
              "  'action, fantasy, supernatural',\n",
              "  'action, fantasy, supernatural',\n",
              "  'action, fantasy, supernatural',\n",
              "  'action, fantasy, supernatural',\n",
              "  'action, fantasy, supernatural',\n",
              "  'action, fantasy, supernatural'],\n",
              " 'Sennen Joyuu': ['action, adventure, drama, fantasy, historical, romance',\n",
              "  'action, adventure, drama, fantasy, historical, romance'],\n",
              " 'Nisemonogatari': ['comedy, mystery, supernatural',\n",
              "  'comedy, mystery, supernatural',\n",
              "  'comedy, mystery, supernatural',\n",
              "  'comedy, mystery, supernatural',\n",
              "  'comedy, mystery, supernatural'],\n",
              " 'Naruto: Shippuuden Movie 3 - Hi no Ishi wo Tsugu Mono': ['action, comedy, martial arts, shounen, super power',\n",
              "  'action, comedy, martial arts, shounen, super power',\n",
              "  'action, comedy, martial arts, shounen, super power'],\n",
              " 'Noblesse: Awakening': ['action, school, supernatural, vampire',\n",
              "  'action, school, supernatural, vampire'],\n",
              " 'Zoids': ['action, adventure, comedy, mecha, sci-fi',\n",
              "  'action, adventure, comedy, mecha, sci-fi'],\n",
              " 'Kumo no Mukou, Yakusoku no Basho': ['drama, military, romance, sci-fi',\n",
              "  'drama, military, romance, sci-fi',\n",
              "  'drama, military, romance, sci-fi',\n",
              "  'drama, military, romance, sci-fi',\n",
              "  'drama, military, romance, sci-fi'],\n",
              " 'One Outs': ['psychological, seinen, sports',\n",
              "  'psychological, seinen, sports'],\n",
              " 'Nodame Cantabile Finale': ['comedy, josei, music, romance',\n",
              "  'comedy, josei, music, romance'],\n",
              " 'Shangri-La': ['action, drama, sci-fi'],\n",
              " 'Akaneiro ni Somaru Saka': ['comedy, harem, romance, school'],\n",
              " 'Bleach: The Sealed Sword Frenzy': ['adventure, comedy, drama, fantasy, shounen, supernatural',\n",
              "  'adventure, comedy, drama, fantasy, shounen, supernatural'],\n",
              " 'Captain Harlock': ['action, drama, sci-fi, space'],\n",
              " 'Dragon Ball': ['adventure, comedy, fantasy, martial arts, shounen, super power',\n",
              "  'adventure, comedy, fantasy, martial arts, shounen, super power',\n",
              "  'adventure, comedy, fantasy, martial arts, shounen, super power',\n",
              "  'adventure, comedy, fantasy, martial arts, shounen, super power',\n",
              "  'adventure, comedy, fantasy, martial arts, shounen, super power',\n",
              "  'adventure, comedy, fantasy, martial arts, shounen, super power',\n",
              "  'adventure, comedy, fantasy, martial arts, shounen, super power',\n",
              "  'adventure, comedy, fantasy, martial arts, shounen, super power'],\n",
              " 'Soul Eater NOT!': ['action, comedy, ecchi, shounen, supernatural',\n",
              "  'action, comedy, ecchi, shounen, supernatural'],\n",
              " 'White Album 2': ['drama, music, romance, slice of life',\n",
              "  'drama, music, romance, slice of life',\n",
              "  'drama, music, romance, slice of life',\n",
              "  'drama, music, romance, slice of life',\n",
              "  'drama, music, romance, slice of life'],\n",
              " 'Hidan no Aria Special': ['action, comedy, mystery, romance',\n",
              "  'action, comedy, mystery, romance'],\n",
              " 'Diabolik Lovers': ['harem, school, shoujo, vampire',\n",
              "  'harem, school, shoujo, vampire',\n",
              "  'harem, school, shoujo, vampire',\n",
              "  'harem, school, shoujo, vampire'],\n",
              " 'Noein: Mou Hitori no Kimi e': ['adventure, drama, sci-fi, slice of life',\n",
              "  'adventure, drama, sci-fi, slice of life',\n",
              "  'adventure, drama, sci-fi, slice of life',\n",
              "  'adventure, drama, sci-fi, slice of life'],\n",
              " 'Detective Conan Movie 07: Crossroad in the Ancient Capital': ['adventure, comedy, mystery, police, shounen'],\n",
              " 'Kokoro Connect: Michi Random': ['comedy, drama, romance, school, slice of life, supernatural',\n",
              "  'comedy, drama, romance, school, slice of life, supernatural',\n",
              "  'comedy, drama, romance, school, slice of life, supernatural',\n",
              "  'comedy, drama, romance, school, slice of life, supernatural'],\n",
              " 'Tenchi Muyou! Ryououki: Omatsuri Zenjitsu no Yoru!': ['comedy, harem, romance, sci-fi, shounen'],\n",
              " 'Full Metal Panic! The Second Raid': ['action, mecha, military',\n",
              "  'action, mecha, military',\n",
              "  'action, mecha, military',\n",
              "  'action, mecha, military',\n",
              "  'action, mecha, military',\n",
              "  'action, mecha, military',\n",
              "  'action, mecha, military',\n",
              "  'action, mecha, military'],\n",
              " 'Digimon Xros Wars': ['action, adventure, comedy, fantasy, shounen'],\n",
              " 'Non Non Biyori Repeat': ['comedy, school, seinen, slice of life'],\n",
              " 'Rurouni Kenshin: Meiji Kenkaku Romantan - Seisou-hen': ['drama, historical, romance, samurai, shounen',\n",
              "  'drama, historical, romance, samurai, shounen'],\n",
              " 'Dragon Ball Z Movie 09: Ginga Girigiri!! Bucchigiri no Sugoi Yatsu': ['adventure, comedy, fantasy, sci-fi, shounen',\n",
              "  'adventure, comedy, fantasy, sci-fi, shounen',\n",
              "  'adventure, comedy, fantasy, sci-fi, shounen',\n",
              "  'adventure, comedy, fantasy, sci-fi, shounen'],\n",
              " 'Kizumonogatari II: Nekketsu-hen': ['action, mystery, supernatural, vampire'],\n",
              " 'Kuroshitsuji': ['action, comedy, demons, fantasy, historical, shounen, supernatural',\n",
              "  'action, comedy, demons, fantasy, historical, shounen, supernatural',\n",
              "  'action, comedy, demons, fantasy, historical, shounen, supernatural',\n",
              "  'action, comedy, demons, fantasy, historical, shounen, supernatural',\n",
              "  'action, comedy, demons, fantasy, historical, shounen, supernatural',\n",
              "  'action, comedy, demons, fantasy, historical, shounen, supernatural',\n",
              "  'action, comedy, demons, fantasy, historical, shounen, supernatural',\n",
              "  'action, comedy, demons, fantasy, historical, shounen, supernatural',\n",
              "  'action, comedy, demons, fantasy, historical, shounen, supernatural'],\n",
              " 'Beelzebub': ['action, comedy, demons, school, shounen, supernatural',\n",
              "  'action, comedy, demons, school, shounen, supernatural'],\n",
              " 'Kiss x Sis (TV)': ['comedy, ecchi, harem, romance, school, seinen',\n",
              "  'comedy, ecchi, harem, romance, school, seinen',\n",
              "  'comedy, ecchi, harem, romance, school, seinen',\n",
              "  'comedy, ecchi, harem, romance, school, seinen'],\n",
              " 'Ao Haru Ride': ['comedy, drama, romance, school, shoujo, slice of life',\n",
              "  'comedy, drama, romance, school, shoujo, slice of life',\n",
              "  'comedy, drama, romance, school, shoujo, slice of life',\n",
              "  'comedy, drama, romance, school, shoujo, slice of life',\n",
              "  'comedy, drama, romance, school, shoujo, slice of life'],\n",
              " 'Toaru Majutsu no Index-tan': ['comedy, parody', 'comedy, parody'],\n",
              " 'Onegai☆Twins': ['comedy, drama, harem, school, sci-fi',\n",
              "  'comedy, drama, harem, school, sci-fi',\n",
              "  'comedy, drama, harem, school, sci-fi',\n",
              "  'comedy, drama, harem, school, sci-fi',\n",
              "  'comedy, drama, harem, school, sci-fi'],\n",
              " 'Sabagebu!': ['action, comedy, military, shoujo'],\n",
              " 'Mnemosyne: Mnemosyne no Musume-tachi': ['action, horror, sci-fi, shoujo ai, supernatural',\n",
              "  'action, horror, sci-fi, shoujo ai, supernatural',\n",
              "  'action, horror, sci-fi, shoujo ai, supernatural'],\n",
              " 'Black Lagoon: The Second Barrage': ['action, seinen',\n",
              "  'action, seinen',\n",
              "  'action, seinen',\n",
              "  'action, seinen',\n",
              "  'action, seinen',\n",
              "  'action, seinen',\n",
              "  'action, seinen',\n",
              "  'action, seinen',\n",
              "  'action, seinen'],\n",
              " 'Tari Tari': ['music, school, slice of life',\n",
              "  'music, school, slice of life',\n",
              "  'music, school, slice of life'],\n",
              " 'Ao no Exorcist': ['action, demons, fantasy, shounen, supernatural',\n",
              "  'action, demons, fantasy, shounen, supernatural',\n",
              "  'action, demons, fantasy, shounen, supernatural',\n",
              "  'action, demons, fantasy, shounen, supernatural',\n",
              "  'action, demons, fantasy, shounen, supernatural',\n",
              "  'action, demons, fantasy, shounen, supernatural',\n",
              "  'action, demons, fantasy, shounen, supernatural',\n",
              "  'action, demons, fantasy, shounen, supernatural',\n",
              "  'action, demons, fantasy, shounen, supernatural',\n",
              "  'action, demons, fantasy, shounen, supernatural',\n",
              "  'action, demons, fantasy, shounen, supernatural',\n",
              "  'action, demons, fantasy, shounen, supernatural',\n",
              "  'action, demons, fantasy, shounen, supernatural',\n",
              "  'action, demons, fantasy, shounen, supernatural'],\n",
              " 'Hiyokoi': ['romance, school, shoujo',\n",
              "  'romance, school, shoujo',\n",
              "  'romance, school, shoujo'],\n",
              " 'Phantom: Requiem for the Phantom': ['action, drama, seinen, thriller',\n",
              "  'action, drama, seinen, thriller',\n",
              "  'action, drama, seinen, thriller',\n",
              "  'action, drama, seinen, thriller',\n",
              "  'action, drama, seinen, thriller'],\n",
              " 'Naruto: Shippuuden Movie 5 - Blood Prison': ['action, adventure, martial arts, mystery, shounen, super power'],\n",
              " 'Kamikaze Kaitou Jeanne': ['adventure, comedy, demons, drama, fantasy, magic, mystery, romance, shoujo'],\n",
              " 'Dragon Ball: Ossu! Kaettekita Son Gokuu to Nakama-tachi!!': ['action, adventure, comedy, fantasy',\n",
              "  'action, adventure, comedy, fantasy'],\n",
              " 'Blood+': ['action, drama, horror, military, mystery, supernatural, vampire',\n",
              "  'action, drama, horror, military, mystery, supernatural, vampire',\n",
              "  'action, drama, horror, military, mystery, supernatural, vampire',\n",
              "  'action, drama, horror, military, mystery, supernatural, vampire',\n",
              "  'action, drama, horror, military, mystery, supernatural, vampire',\n",
              "  'action, drama, horror, military, mystery, supernatural, vampire'],\n",
              " 'Persona 3 the Movie 2: Midsummer Knight&#039;s Dream': ['action, fantasy, seinen, supernatural'],\n",
              " 'Naruto: Takigakure no Shitou - Ore ga Eiyuu Dattebayo!': ['action, adventure, comedy, shounen, super power',\n",
              "  'action, adventure, comedy, shounen, super power'],\n",
              " 'Working!!': ['comedy, slice of life'],\n",
              " 'Higurashi no Naku Koro ni': ['horror, mystery, psychological, supernatural, thriller',\n",
              "  'horror, mystery, psychological, supernatural, thriller',\n",
              "  'horror, mystery, psychological, supernatural, thriller',\n",
              "  'horror, mystery, psychological, supernatural, thriller',\n",
              "  'horror, mystery, psychological, supernatural, thriller',\n",
              "  'horror, mystery, psychological, supernatural, thriller',\n",
              "  'horror, mystery, psychological, supernatural, thriller',\n",
              "  'horror, mystery, psychological, supernatural, thriller'],\n",
              " 'High School DxD': ['comedy, demons, ecchi, harem, romance, school',\n",
              "  'comedy, demons, ecchi, harem, romance, school',\n",
              "  'comedy, demons, ecchi, harem, romance, school',\n",
              "  'comedy, demons, ecchi, harem, romance, school',\n",
              "  'comedy, demons, ecchi, harem, romance, school',\n",
              "  'comedy, demons, ecchi, harem, romance, school',\n",
              "  'comedy, demons, ecchi, harem, romance, school'],\n",
              " 'Kareshi Kanojo no Jijou': ['comedy, drama, romance, school, shoujo, slice of life',\n",
              "  'comedy, drama, romance, school, shoujo, slice of life',\n",
              "  'comedy, drama, romance, school, shoujo, slice of life',\n",
              "  'comedy, drama, romance, school, shoujo, slice of life',\n",
              "  'comedy, drama, romance, school, shoujo, slice of life',\n",
              "  'comedy, drama, romance, school, shoujo, slice of life'],\n",
              " 'Naruto Movie 2: Dai Gekitotsu! Maboroshi no Chiteiiseki Dattebayo!': ['adventure, comedy, drama, fantasy, shounen, supernatural',\n",
              "  'adventure, comedy, drama, fantasy, shounen, supernatural',\n",
              "  'adventure, comedy, drama, fantasy, shounen, supernatural'],\n",
              " 'Steins;Gate: Oukoubakko no Poriomania': ['sci-fi, thriller',\n",
              "  'sci-fi, thriller',\n",
              "  'sci-fi, thriller',\n",
              "  'sci-fi, thriller',\n",
              "  'sci-fi, thriller',\n",
              "  'sci-fi, thriller'],\n",
              " 'Ai Yori Aoshi': ['comedy, drama, harem, romance, slice of life',\n",
              "  'comedy, drama, harem, romance, slice of life'],\n",
              " 'Cosmic Baton Girl Comet-san': ['adventure, comedy, drama, magic, sci-fi'],\n",
              " 'Selector Infected WIXOSS': ['game, psychological',\n",
              "  'game, psychological',\n",
              "  'game, psychological',\n",
              "  'game, psychological',\n",
              "  'game, psychological'],\n",
              " 'Angel Densetsu': ['action, comedy, school'],\n",
              " 'Nana': ['comedy, drama, music, romance, shoujo, slice of life',\n",
              "  'comedy, drama, music, romance, shoujo, slice of life',\n",
              "  'comedy, drama, music, romance, shoujo, slice of life'],\n",
              " 'Kuroshitsuji II Specials': ['comedy, fantasy, parody, shounen, supernatural',\n",
              "  'comedy, fantasy, parody, shounen, supernatural',\n",
              "  'comedy, fantasy, parody, shounen, supernatural',\n",
              "  'comedy, fantasy, parody, shounen, supernatural'],\n",
              " 'Otome Nadeshiko Koi Techou': ['historical, shoujo'],\n",
              " 'Rurouni Kenshin: Meiji Kenkaku Romantan': ['action, adventure, comedy, historical, romance, samurai',\n",
              "  'action, adventure, comedy, historical, romance, samurai',\n",
              "  'action, adventure, comedy, historical, romance, samurai',\n",
              "  'action, adventure, comedy, historical, romance, samurai',\n",
              "  'action, adventure, comedy, historical, romance, samurai'],\n",
              " 'Yowamushi Pedal': ['comedy, drama, shounen, sports',\n",
              "  'comedy, drama, shounen, sports'],\n",
              " 'Meganebu!': ['comedy, school, slice of life'],\n",
              " 'Another': ['horror, mystery, school, supernatural, thriller',\n",
              "  'horror, mystery, school, supernatural, thriller',\n",
              "  'horror, mystery, school, supernatural, thriller',\n",
              "  'horror, mystery, school, supernatural, thriller',\n",
              "  'horror, mystery, school, supernatural, thriller',\n",
              "  'horror, mystery, school, supernatural, thriller',\n",
              "  'horror, mystery, school, supernatural, thriller',\n",
              "  'horror, mystery, school, supernatural, thriller',\n",
              "  'horror, mystery, school, supernatural, thriller',\n",
              "  'horror, mystery, school, supernatural, thriller',\n",
              "  'horror, mystery, school, supernatural, thriller',\n",
              "  'horror, mystery, school, supernatural, thriller',\n",
              "  'horror, mystery, school, supernatural, thriller',\n",
              "  'horror, mystery, school, supernatural, thriller'],\n",
              " 'Punch Line': ['comedy, ecchi, sci-fi, super power, supernatural',\n",
              "  'comedy, ecchi, sci-fi, super power, supernatural',\n",
              "  'comedy, ecchi, sci-fi, super power, supernatural'],\n",
              " 'Momo e no Tegami': ['drama, supernatural', 'drama, supernatural'],\n",
              " 'Ixion Saga DT': ['action, comedy, fantasy'],\n",
              " 'Rolling☆Girls': ['action, adventure, slice of life, super power',\n",
              "  'action, adventure, slice of life, super power'],\n",
              " 'Gokusen': ['comedy, drama, josei, school, slice of life',\n",
              "  'comedy, drama, josei, school, slice of life',\n",
              "  'comedy, drama, josei, school, slice of life'],\n",
              " 'Mai-HiME': ['action, comedy, drama, fantasy, magic, mecha, romance, school, shoujo ai'],\n",
              " 'IS: Infinite Stratos': ['action, comedy, harem, mecha, sci-fi',\n",
              "  'action, comedy, harem, mecha, sci-fi',\n",
              "  'action, comedy, harem, mecha, sci-fi',\n",
              "  'action, comedy, harem, mecha, sci-fi',\n",
              "  'action, comedy, harem, mecha, sci-fi',\n",
              "  'action, comedy, harem, mecha, sci-fi',\n",
              "  'action, comedy, harem, mecha, sci-fi',\n",
              "  'action, comedy, harem, mecha, sci-fi',\n",
              "  'action, comedy, harem, mecha, sci-fi',\n",
              "  'action, comedy, harem, mecha, sci-fi',\n",
              "  'action, comedy, harem, mecha, sci-fi'],\n",
              " 'Perfect Blue': ['dementia, drama, horror, psychological',\n",
              "  'dementia, drama, horror, psychological',\n",
              "  'dementia, drama, horror, psychological',\n",
              "  'dementia, drama, horror, psychological'],\n",
              " 'Fairy Tail Movie 1: Houou no Miko': ['action, adventure, comedy, fantasy, magic, shounen',\n",
              "  'action, adventure, comedy, fantasy, magic, shounen',\n",
              "  'action, adventure, comedy, fantasy, magic, shounen'],\n",
              " 'Kara no Kyoukai 2: Satsujin Kousatsu (Zen)': ['action, mystery, romance, supernatural, thriller',\n",
              "  'action, mystery, romance, supernatural, thriller',\n",
              "  'action, mystery, romance, supernatural, thriller',\n",
              "  'action, mystery, romance, supernatural, thriller',\n",
              "  'action, mystery, romance, supernatural, thriller',\n",
              "  'action, mystery, romance, supernatural, thriller'],\n",
              " 'Pandora Hearts': ['adventure, fantasy, mystery, shounen, supernatural',\n",
              "  'adventure, fantasy, mystery, shounen, supernatural',\n",
              "  'adventure, fantasy, mystery, shounen, supernatural',\n",
              "  'adventure, fantasy, mystery, shounen, supernatural',\n",
              "  'adventure, fantasy, mystery, shounen, supernatural',\n",
              "  'adventure, fantasy, mystery, shounen, supernatural',\n",
              "  'adventure, fantasy, mystery, shounen, supernatural'],\n",
              " 'Mobile Police Patlabor 2: The Movie': ['drama, mecha, mystery, police, sci-fi'],\n",
              " 'Gake no Ue no Ponyo': ['adventure, fantasy',\n",
              "  'adventure, fantasy',\n",
              "  'adventure, fantasy',\n",
              "  'adventure, fantasy',\n",
              "  'adventure, fantasy'],\n",
              " 'Mahoromatic: Automatic Maiden': ['comedy, ecchi, military, romance, sci-fi',\n",
              "  'comedy, ecchi, military, romance, sci-fi'],\n",
              " 'Kara no Kyoukai 3: Tsuukaku Zanryuu': ['action, drama, mystery, supernatural, thriller',\n",
              "  'action, drama, mystery, supernatural, thriller',\n",
              "  'action, drama, mystery, supernatural, thriller',\n",
              "  'action, drama, mystery, supernatural, thriller',\n",
              "  'action, drama, mystery, supernatural, thriller'],\n",
              " 'Senjou no Valkyria: SenVal Theater': ['comedy'],\n",
              " 'Prison School': ['comedy, ecchi, romance, school, seinen',\n",
              "  'comedy, ecchi, romance, school, seinen',\n",
              "  'comedy, ecchi, romance, school, seinen',\n",
              "  'comedy, ecchi, romance, school, seinen'],\n",
              " 'Fate/Zero 2nd Season': ['action, fantasy, supernatural, thriller',\n",
              "  'action, fantasy, supernatural, thriller',\n",
              "  'action, fantasy, supernatural, thriller',\n",
              "  'action, fantasy, supernatural, thriller',\n",
              "  'action, fantasy, supernatural, thriller',\n",
              "  'action, fantasy, supernatural, thriller',\n",
              "  'action, fantasy, supernatural, thriller'],\n",
              " 'Fairy Tail x Rave': ['action, adventure, comedy, fantasy, magic, shounen'],\n",
              " 'Tonari no Totoro': ['adventure, comedy, supernatural',\n",
              "  'adventure, comedy, supernatural',\n",
              "  'adventure, comedy, supernatural',\n",
              "  'adventure, comedy, supernatural',\n",
              "  'adventure, comedy, supernatural',\n",
              "  'adventure, comedy, supernatural'],\n",
              " 'Shakugan no Shana II (Second) Specials': ['comedy, parody'],\n",
              " 'Taifuu no Noruda': ['drama, school, sci-fi, supernatural'],\n",
              " 'Kara no Kyoukai 4: Garan no Dou': ['action, mystery, supernatural, thriller',\n",
              "  'action, mystery, supernatural, thriller',\n",
              "  'action, mystery, supernatural, thriller'],\n",
              " 'Tonari no Kaibutsu-kun': ['comedy, romance, school, shoujo, slice of life',\n",
              "  'comedy, romance, school, shoujo, slice of life',\n",
              "  'comedy, romance, school, shoujo, slice of life',\n",
              "  'comedy, romance, school, shoujo, slice of life',\n",
              "  'comedy, romance, school, shoujo, slice of life',\n",
              "  'comedy, romance, school, shoujo, slice of life'],\n",
              " 'Digimon Savers': ['adventure, comedy, drama, fantasy, shounen',\n",
              "  'adventure, comedy, drama, fantasy, shounen',\n",
              "  'adventure, comedy, drama, fantasy, shounen'],\n",
              " 'Yoroiden Samurai Troopers': ['adventure, samurai, sci-fi, shounen'],\n",
              " 'Eve no Jikan (Movie)': ['sci-fi, slice of life', 'sci-fi, slice of life'],\n",
              " 'Gintama Movie: Shinyaku Benizakura-hen': ['action, comedy, historical, parody, samurai, sci-fi, shounen',\n",
              "  'action, comedy, historical, parody, samurai, sci-fi, shounen',\n",
              "  'action, comedy, historical, parody, samurai, sci-fi, shounen'],\n",
              " 'Spider Riders: Yomigaeru Taiyou': ['action, adventure, mecha'],\n",
              " 'Aldnoah.Zero': ['action, mecha, sci-fi',\n",
              "  'action, mecha, sci-fi',\n",
              "  'action, mecha, sci-fi',\n",
              "  'action, mecha, sci-fi'],\n",
              " 'Detroit Metal City: Birth of the Metal Devil': ['comedy, music, parody, romance'],\n",
              " 'Shingeki no Kyojin OVA': ['action, drama, fantasy, shounen, super power',\n",
              "  'action, drama, fantasy, shounen, super power',\n",
              "  'action, drama, fantasy, shounen, super power',\n",
              "  'action, drama, fantasy, shounen, super power'],\n",
              " 'Kyou no 5 no 2': ['comedy, ecchi, school, seinen',\n",
              "  'comedy, ecchi, school, seinen'],\n",
              " 'Legend of Regios': ['magic'],\n",
              " 'Dragon Ball Kai (2014)': ['action, adventure, comedy, fantasy, martial arts, shounen, super power',\n",
              "  'action, adventure, comedy, fantasy, martial arts, shounen, super power',\n",
              "  'action, adventure, comedy, fantasy, martial arts, shounen, super power'],\n",
              " 'Juuni Kokuki': ['action, adventure, fantasy, magic, supernatural',\n",
              "  'action, adventure, fantasy, magic, supernatural'],\n",
              " 'Sayonara Zetsubou Sensei Jo: Zetsubou Shoujo Senshuu': ['comedy, parody, school'],\n",
              " 'Densetsu no Yuusha no Densetsu': ['action, adventure, fantasy, magic, shounen',\n",
              "  'action, adventure, fantasy, magic, shounen',\n",
              "  'action, adventure, fantasy, magic, shounen'],\n",
              " 'Date A Live: Date to Date': ['comedy, harem, romance, school, sci-fi'],\n",
              " 'Skip Beat!': ['comedy, drama, romance, shoujo',\n",
              "  'comedy, drama, romance, shoujo',\n",
              "  'comedy, drama, romance, shoujo',\n",
              "  'comedy, drama, romance, shoujo',\n",
              "  'comedy, drama, romance, shoujo',\n",
              "  'comedy, drama, romance, shoujo',\n",
              "  'comedy, drama, romance, shoujo'],\n",
              " 'Galaxy Angel Rune': ['comedy, sci-fi'],\n",
              " 'To Heart: Remember My Memories': ['drama, harem, romance, school, sci-fi, slice of life'],\n",
              " 'Sakura Taisen': ['adventure, mecha, sci-fi, shounen'],\n",
              " 'Shinmai Maou no Testament Burst': ['action, demons, ecchi, fantasy, harem, romance'],\n",
              " 'Nurarihyon no Mago': ['action, demons, shounen, supernatural',\n",
              "  'action, demons, shounen, supernatural',\n",
              "  'action, demons, shounen, supernatural'],\n",
              " 'Puni Puni☆Poemii': ['comedy, magic, sci-fi, shounen'],\n",
              " 'Gungrave': ['action, drama, sci-fi, seinen, super power',\n",
              "  'action, drama, sci-fi, seinen, super power'],\n",
              " 'Bastard!!: Ankoku no Hakaishin': ['action, adventure, comedy, ecchi, fantasy, seinen'],\n",
              " 'Kill la Kill Special': ['action, comedy, school, super power',\n",
              "  'action, comedy, school, super power'],\n",
              " 'Clannad: Mou Hitotsu no Sekai, Tomoyo-hen': ['drama, romance, school, slice of life',\n",
              "  'drama, romance, school, slice of life',\n",
              "  'drama, romance, school, slice of life',\n",
              "  'drama, romance, school, slice of life',\n",
              "  'drama, romance, school, slice of life'],\n",
              " 'Nichijou: Nichijou no 0-wa': ['comedy, school, slice of life',\n",
              "  'comedy, school, slice of life',\n",
              "  'comedy, school, slice of life'],\n",
              " 'Tokyo Ravens': ['comedy, school, shounen, super power, supernatural',\n",
              "  'comedy, school, shounen, super power, supernatural',\n",
              "  'comedy, school, shounen, super power, supernatural',\n",
              "  'comedy, school, shounen, super power, supernatural',\n",
              "  'comedy, school, shounen, super power, supernatural',\n",
              "  'comedy, school, shounen, super power, supernatural'],\n",
              " 'DearS': ['comedy, ecchi, harem, romance, sci-fi',\n",
              "  'comedy, ecchi, harem, romance, sci-fi',\n",
              "  'comedy, ecchi, harem, romance, sci-fi',\n",
              "  'comedy, ecchi, harem, romance, sci-fi'],\n",
              " 'Ghost Hunt': ['comedy, horror, mystery, shoujo, supernatural',\n",
              "  'comedy, horror, mystery, shoujo, supernatural',\n",
              "  'comedy, horror, mystery, shoujo, supernatural'],\n",
              " 'Full Metal Panic!': ['action, comedy, mecha, military, sci-fi',\n",
              "  'action, comedy, mecha, military, sci-fi',\n",
              "  'action, comedy, mecha, military, sci-fi',\n",
              "  'action, comedy, mecha, military, sci-fi',\n",
              "  'action, comedy, mecha, military, sci-fi',\n",
              "  'action, comedy, mecha, military, sci-fi',\n",
              "  'action, comedy, mecha, military, sci-fi',\n",
              "  'action, comedy, mecha, military, sci-fi'],\n",
              " 'Bishoujo Senshi Sailor Moon': ['demons, magic, romance, shoujo',\n",
              "  'demons, magic, romance, shoujo',\n",
              "  'demons, magic, romance, shoujo',\n",
              "  'demons, magic, romance, shoujo'],\n",
              " 'Bakuman. 2nd Season': ['comedy, drama, romance, shounen',\n",
              "  'comedy, drama, romance, shounen',\n",
              "  'comedy, drama, romance, shounen',\n",
              "  'comedy, drama, romance, shounen'],\n",
              " 'Paprika': ['fantasy, horror, mystery, psychological, sci-fi, thriller',\n",
              "  'fantasy, horror, mystery, psychological, sci-fi, thriller',\n",
              "  'fantasy, horror, mystery, psychological, sci-fi, thriller',\n",
              "  'fantasy, horror, mystery, psychological, sci-fi, thriller',\n",
              "  'fantasy, horror, mystery, psychological, sci-fi, thriller'],\n",
              " 'Colorful (Movie)': ['drama, slice of life, supernatural',\n",
              "  'drama, slice of life, supernatural'],\n",
              " 'Zetsuen no Tempest': ['action, drama, fantasy, magic, mystery, psychological, shounen',\n",
              "  'action, drama, fantasy, magic, mystery, psychological, shounen',\n",
              "  'action, drama, fantasy, magic, mystery, psychological, shounen',\n",
              "  'action, drama, fantasy, magic, mystery, psychological, shounen',\n",
              "  'action, drama, fantasy, magic, mystery, psychological, shounen',\n",
              "  'action, drama, fantasy, magic, mystery, psychological, shounen',\n",
              "  'action, drama, fantasy, magic, mystery, psychological, shounen'],\n",
              " 'Glasslip': ['romance, slice of life, supernatural',\n",
              "  'romance, slice of life, supernatural',\n",
              "  'romance, slice of life, supernatural'],\n",
              " 'Charlotte': ['drama, school, super power',\n",
              "  'drama, school, super power',\n",
              "  'drama, school, super power',\n",
              "  'drama, school, super power',\n",
              "  'drama, school, super power',\n",
              "  'drama, school, super power',\n",
              "  'drama, school, super power'],\n",
              " 'Grisaia no Meikyuu: Caprice no Mayu 0': ['drama'],\n",
              " 'Slam Dunk': ['comedy, drama, school, shounen, sports'],\n",
              " 'Hachimitsu to Clover Specials': ['comedy, drama, josei, romance, slice of life'],\n",
              " 'Aa! Megami-sama! Movie': ['comedy, magic, romance, seinen, supernatural',\n",
              "  'comedy, magic, romance, seinen, supernatural'],\n",
              " 'Akagami no Shirayuki-hime': ['drama, fantasy, romance, shoujo',\n",
              "  'drama, fantasy, romance, shoujo',\n",
              "  'drama, fantasy, romance, shoujo'],\n",
              " 'Kurokami The Animation': ['action, martial arts, super power',\n",
              "  'action, martial arts, super power'],\n",
              " 'Yuru Yuri San☆Hai!': ['comedy, school, shoujo ai, slice of life',\n",
              "  'comedy, school, shoujo ai, slice of life'],\n",
              " 's.CRY.ed': ['action, adventure, drama, sci-fi, super power',\n",
              "  'action, adventure, drama, sci-fi, super power',\n",
              "  'action, adventure, drama, sci-fi, super power'],\n",
              " 'Monster Musume no Iru Nichijou': ['comedy, ecchi, fantasy, harem, romance, seinen',\n",
              "  'comedy, ecchi, fantasy, harem, romance, seinen',\n",
              "  'comedy, ecchi, fantasy, harem, romance, seinen'],\n",
              " 'Owari no Seraph': ['action, drama, shounen, supernatural, vampire',\n",
              "  'action, drama, shounen, supernatural, vampire',\n",
              "  'action, drama, shounen, supernatural, vampire',\n",
              "  'action, drama, shounen, supernatural, vampire',\n",
              "  'action, drama, shounen, supernatural, vampire',\n",
              "  'action, drama, shounen, supernatural, vampire',\n",
              "  'action, drama, shounen, supernatural, vampire'],\n",
              " 'Mahou Shoujo Madoka★Magica Movie 3: Hangyaku no Monogatari - Magica Quartet x Nisioisin': ['comedy'],\n",
              " 'Biohazard: Damnation': ['action, horror, sci-fi'],\n",
              " 'Shinsekai yori': ['drama, horror, mystery, sci-fi, supernatural',\n",
              "  'drama, horror, mystery, sci-fi, supernatural',\n",
              "  'drama, horror, mystery, sci-fi, supernatural',\n",
              "  'drama, horror, mystery, sci-fi, supernatural',\n",
              "  'drama, horror, mystery, sci-fi, supernatural',\n",
              "  'drama, horror, mystery, sci-fi, supernatural',\n",
              "  'drama, horror, mystery, sci-fi, supernatural'],\n",
              " 'Kuroshitsuji: Book of Murder': ['comedy, demons, fantasy, historical, mystery, shounen, supernatural',\n",
              "  'comedy, demons, fantasy, historical, mystery, shounen, supernatural'],\n",
              " 'Tsuki no Sango': ['drama'],\n",
              " 'Love Hina': ['comedy, ecchi, harem, romance, shounen, slice of life',\n",
              "  'comedy, ecchi, harem, romance, shounen, slice of life',\n",
              "  'comedy, ecchi, harem, romance, shounen, slice of life',\n",
              "  'comedy, ecchi, harem, romance, shounen, slice of life'],\n",
              " 'Fate/stay night: Unlimited Blade Works 2nd Season': ['action, fantasy, magic, shounen, supernatural',\n",
              "  'action, fantasy, magic, shounen, supernatural',\n",
              "  'action, fantasy, magic, shounen, supernatural',\n",
              "  'action, fantasy, magic, shounen, supernatural',\n",
              "  'action, fantasy, magic, shounen, supernatural',\n",
              "  'action, fantasy, magic, shounen, supernatural'],\n",
              " 'Final Fantasy VII: On the Way to a Smile - Episode: Denzel': ['action, fantasy, super power'],\n",
              " 'Karas': ['action, fantasy, sci-fi', 'action, fantasy, sci-fi'],\n",
              " 'Sora wo Miageru Shoujo no Hitomi ni Utsuru Sekai': ['action, fantasy, magic, romance, super power'],\n",
              " 'Darkside Blues': ['horror, mystery, psychological, sci-fi',\n",
              "  'horror, mystery, psychological, sci-fi'],\n",
              " 'Shigofumi': ['drama, fantasy, psychological, supernatural, thriller'],\n",
              " 'Hyouka': ['mystery, school, slice of life',\n",
              "  'mystery, school, slice of life',\n",
              "  'mystery, school, slice of life',\n",
              "  'mystery, school, slice of life',\n",
              "  'mystery, school, slice of life',\n",
              "  'mystery, school, slice of life'],\n",
              " 'Btooom!': ['action, psychological, sci-fi, seinen',\n",
              "  'action, psychological, sci-fi, seinen',\n",
              "  'action, psychological, sci-fi, seinen',\n",
              "  'action, psychological, sci-fi, seinen',\n",
              "  'action, psychological, sci-fi, seinen',\n",
              "  'action, psychological, sci-fi, seinen',\n",
              "  'action, psychological, sci-fi, seinen'],\n",
              " 'Ice': ['action, military, sci-fi, shoujo ai, yuri'],\n",
              " 'Ben-To': ['action, comedy, martial arts',\n",
              "  'action, comedy, martial arts',\n",
              "  'action, comedy, martial arts',\n",
              "  'action, comedy, martial arts',\n",
              "  'action, comedy, martial arts'],\n",
              " 'Kuroshitsuji II': ['action, comedy, demons, fantasy, shounen, supernatural',\n",
              "  'action, comedy, demons, fantasy, shounen, supernatural',\n",
              "  'action, comedy, demons, fantasy, shounen, supernatural',\n",
              "  'action, comedy, demons, fantasy, shounen, supernatural'],\n",
              " 'Kamisama Hajimemashita◎': ['comedy, demons, fantasy, romance, shoujo, supernatural',\n",
              "  'comedy, demons, fantasy, romance, shoujo, supernatural',\n",
              "  'comedy, demons, fantasy, romance, shoujo, supernatural',\n",
              "  'comedy, demons, fantasy, romance, shoujo, supernatural',\n",
              "  'comedy, demons, fantasy, romance, shoujo, supernatural'],\n",
              " 'Akatsuki no Yona': ['action, adventure, comedy, fantasy, romance, shoujo',\n",
              "  'action, adventure, comedy, fantasy, romance, shoujo',\n",
              "  'action, adventure, comedy, fantasy, romance, shoujo'],\n",
              " 'Kyoukaisenjou no Horizon': ['action, fantasy', 'action, fantasy'],\n",
              " 'Blade &amp; Soul': ['action, adventure, fantasy, martial arts',\n",
              "  'action, adventure, fantasy, martial arts'],\n",
              " 'Ore no Imouto ga Konnani Kawaii Wake ga Nai.': ['comedy, seinen, slice of life',\n",
              "  'comedy, seinen, slice of life',\n",
              "  'comedy, seinen, slice of life',\n",
              "  'comedy, seinen, slice of life'],\n",
              " 'Ai Yori Aoshi: Enishi': ['comedy, drama, harem, romance, slice of life',\n",
              "  'comedy, drama, harem, romance, slice of life'],\n",
              " 'Kujibiki Unbalance': ['comedy, romance, school', 'comedy, romance, school'],\n",
              " 'Slayers Excellent': ['adventure, comedy, demons, fantasy, magic, shounen, supernatural'],\n",
              " 'Gakkougurashi!': ['horror, mystery, psychological, school, slice of life',\n",
              "  'horror, mystery, psychological, school, slice of life',\n",
              "  'horror, mystery, psychological, school, slice of life'],\n",
              " 'Kamisama Hajimemashita': ['comedy, demons, fantasy, romance, shoujo, supernatural',\n",
              "  'comedy, demons, fantasy, romance, shoujo, supernatural',\n",
              "  'comedy, demons, fantasy, romance, shoujo, supernatural'],\n",
              " 'Naruto Soyokazeden Movie: Naruto to Mashin to Mitsu no Onegai Dattebayo!!': ['action, comedy, martial arts, shounen, super power'],\n",
              " 'Kami nomi zo Shiru Sekai: 4-nin to Idol': ['comedy, music, shounen, supernatural',\n",
              "  'comedy, music, shounen, supernatural'],\n",
              " 'Noragami Aragoto': ['action, adventure, shounen, supernatural',\n",
              "  'action, adventure, shounen, supernatural',\n",
              "  'action, adventure, shounen, supernatural',\n",
              "  'action, adventure, shounen, supernatural',\n",
              "  'action, adventure, shounen, supernatural',\n",
              "  'action, adventure, shounen, supernatural',\n",
              "  'action, adventure, shounen, supernatural'],\n",
              " 'Kami nomi zo Shiru Sekai II': ['comedy, harem, romance, shounen, supernatural'],\n",
              " 'Mai-Otome 0: S.ifr': ['sci-fi'],\n",
              " 'Maken-Ki!': ['action, ecchi, harem, martial arts, school, super power',\n",
              "  'action, ecchi, harem, martial arts, school, super power'],\n",
              " 'Shugo Chara!! Doki': ['comedy, magic, school, shoujo',\n",
              "  'comedy, magic, school, shoujo',\n",
              "  'comedy, magic, school, shoujo'],\n",
              " '15 Bishoujo Hyouryuuki': ['comedy, harem, hentai', 'comedy, harem, hentai'],\n",
              " 'Hunter x Hunter: Greed Island Final': ['action, adventure, shounen, super power',\n",
              "  'action, adventure, shounen, super power',\n",
              "  'action, adventure, shounen, super power',\n",
              "  'action, adventure, shounen, super power'],\n",
              " 'Ano Hi Mita Hana no Namae wo Bokutachi wa Mada Shiranai. Movie': ['drama, slice of life, supernatural',\n",
              "  'drama, slice of life, supernatural'],\n",
              " 'Dragon Ball Z Movie 14: Kami to Kami': ['action, adventure, fantasy, martial arts, shounen, super power'],\n",
              " 'Hidamari Sketch x ☆☆☆ Specials': ['comedy, school, slice of life'],\n",
              " 'Tengen Toppa Gurren Lagann: Parallel Works': ['music'],\n",
              " 'By Your Side': ['music'],\n",
              " 'Bubblegum Crash': ['action, adventure, mecha, sci-fi, shounen'],\n",
              " 'Sakurasou no Pet na Kanojo': ['comedy, drama, romance, school, slice of life',\n",
              "  'comedy, drama, romance, school, slice of life',\n",
              "  'comedy, drama, romance, school, slice of life'],\n",
              " 'Marimo no Hana: Saikyou Butouha Shougakusei Densetsu': ['action, shoujo'],\n",
              " 'Junjou Romantica 2': ['comedy, drama, romance, shounen ai',\n",
              "  'comedy, drama, romance, shounen ai'],\n",
              " 'Code Geass: Hangyaku no Lelouch R2 Picture Drama': ['comedy, ecchi, slice of life'],\n",
              " 'Dragon Ball Z Special 2: Zetsubou e no Hankou!! Nokosareta Chousenshi - Gohan to Trunks': ['adventure, drama, fantasy, shounen',\n",
              "  'adventure, drama, fantasy, shounen',\n",
              "  'adventure, drama, fantasy, shounen'],\n",
              " 'Amagami SS': ['comedy, romance, school, slice of life',\n",
              "  'comedy, romance, school, slice of life',\n",
              "  'comedy, romance, school, slice of life',\n",
              "  'comedy, romance, school, slice of life',\n",
              "  'comedy, romance, school, slice of life',\n",
              "  'comedy, romance, school, slice of life',\n",
              "  'comedy, romance, school, slice of life'],\n",
              " 'K-On!: Live House!': ['comedy, music, school, slice of life',\n",
              "  'comedy, music, school, slice of life',\n",
              "  'comedy, music, school, slice of life'],\n",
              " 'Uchuu Show e Youkoso': ['adventure, fantasy, space',\n",
              "  'adventure, fantasy, space'],\n",
              " 'Bleach': ['action, comedy, shounen, super power, supernatural',\n",
              "  'action, comedy, shounen, super power, supernatural',\n",
              "  'action, comedy, shounen, super power, supernatural',\n",
              "  'action, comedy, shounen, super power, supernatural',\n",
              "  'action, comedy, shounen, super power, supernatural',\n",
              "  'action, comedy, shounen, super power, supernatural',\n",
              "  'action, comedy, shounen, super power, supernatural'],\n",
              " 'Machine-Doll wa Kizutsukanai': ['action, ecchi, fantasy, school, seinen',\n",
              "  'action, ecchi, fantasy, school, seinen'],\n",
              " 'Makura no Danshi': ['shoujo'],\n",
              " 'Planetes': ['drama, romance, sci-fi, seinen, space',\n",
              "  'drama, romance, sci-fi, seinen, space',\n",
              "  'drama, romance, sci-fi, seinen, space'],\n",
              " 'Boku wa Tomodachi ga Sukunai': ['comedy, ecchi, harem, romance, school, seinen, slice of life',\n",
              "  'comedy, ecchi, harem, romance, school, seinen, slice of life',\n",
              "  'comedy, ecchi, harem, romance, school, seinen, slice of life',\n",
              "  'comedy, ecchi, harem, romance, school, seinen, slice of life',\n",
              "  'comedy, ecchi, harem, romance, school, seinen, slice of life',\n",
              "  'comedy, ecchi, harem, romance, school, seinen, slice of life',\n",
              "  'comedy, ecchi, harem, romance, school, seinen, slice of life',\n",
              "  'comedy, ecchi, harem, romance, school, seinen, slice of life',\n",
              "  'comedy, ecchi, harem, romance, school, seinen, slice of life',\n",
              "  'comedy, ecchi, harem, romance, school, seinen, slice of life'],\n",
              " 'High School DxD New: Oppai, Tsutsumimasu!': ['comedy, demons, ecchi, romance, school',\n",
              "  'comedy, demons, ecchi, romance, school'],\n",
              " 'Rozen Maiden: Träumend': ['action, comedy, drama, magic, seinen',\n",
              "  'action, comedy, drama, magic, seinen'],\n",
              " 'Corpse Party: Missing Footage': ['horror, school', 'horror, school'],\n",
              " 'Vandread: The Second Stage': ['action, ecchi, mecha, sci-fi, shounen, space'],\n",
              " 'Usagi Drop': ['josei, slice of life',\n",
              "  'josei, slice of life',\n",
              "  'josei, slice of life',\n",
              "  'josei, slice of life',\n",
              "  'josei, slice of life',\n",
              "  'josei, slice of life'],\n",
              " 'Shakugan no Shana S Specials': ['comedy, parody'],\n",
              " 'Sekaiichi Hatsukoi': ['comedy, drama, romance, shounen ai',\n",
              "  'comedy, drama, romance, shounen ai'],\n",
              " 'Futari wa Precure: Max Heart': ['action, comedy, fantasy, magic, shoujo'],\n",
              " 'Bakuman.': ['comedy, romance, shounen',\n",
              "  'comedy, romance, shounen',\n",
              "  'comedy, romance, shounen',\n",
              "  'comedy, romance, shounen',\n",
              "  'comedy, romance, shounen',\n",
              "  'comedy, romance, shounen'],\n",
              " 'Evangelion: 3.0 You Can (Not) Redo': ['action, mecha, sci-fi',\n",
              "  'action, mecha, sci-fi',\n",
              "  'action, mecha, sci-fi',\n",
              "  'action, mecha, sci-fi'],\n",
              " 'Ansatsu Kyoushitsu (TV)': ['action, comedy, school, shounen',\n",
              "  'action, comedy, school, shounen',\n",
              "  'action, comedy, school, shounen',\n",
              "  'action, comedy, school, shounen',\n",
              "  'action, comedy, school, shounen',\n",
              "  'action, comedy, school, shounen'],\n",
              " 'Kuroshitsuji: Book of Circus': ['comedy, demons, fantasy, historical, shounen, supernatural',\n",
              "  'comedy, demons, fantasy, historical, shounen, supernatural',\n",
              "  'comedy, demons, fantasy, historical, shounen, supernatural'],\n",
              " 'RDG: Red Data Girl': ['fantasy, magic', 'fantasy, magic', 'fantasy, magic'],\n",
              " 'Love Lab': ['comedy, romance, school',\n",
              "  'comedy, romance, school',\n",
              "  'comedy, romance, school'],\n",
              " 'Kite Liberator': ['action, drama, sci-fi'],\n",
              " 'Gintama&#039;': ['action, comedy, historical, parody, samurai, sci-fi, shounen',\n",
              "  'action, comedy, historical, parody, samurai, sci-fi, shounen',\n",
              "  'action, comedy, historical, parody, samurai, sci-fi, shounen',\n",
              "  'action, comedy, historical, parody, samurai, sci-fi, shounen'],\n",
              " '07-Ghost': ['action, demons, fantasy, magic, military, shoujo',\n",
              "  'action, demons, fantasy, magic, military, shoujo',\n",
              "  'action, demons, fantasy, magic, military, shoujo'],\n",
              " 'Coppelion': ['action, sci-fi, seinen', 'action, sci-fi, seinen'],\n",
              " 'Rainbow: Nisha Rokubou no Shichinin': ['drama, historical, seinen, thriller',\n",
              "  'drama, historical, seinen, thriller',\n",
              "  'drama, historical, seinen, thriller'],\n",
              " 'Tayutama: Kiss on My Deity': ['harem, romance, supernatural',\n",
              "  'harem, romance, supernatural'],\n",
              " 'Hachimitsu to Clover': ['comedy, drama, josei, romance',\n",
              "  'comedy, drama, josei, romance',\n",
              "  'comedy, drama, josei, romance',\n",
              "  'comedy, drama, josei, romance'],\n",
              " 'Tengen Toppa Gurren Lagann Movie: Lagann-hen Special - Viral no Amai Yume': ['comedy'],\n",
              " 'Haiyore! Nyaruko-san W': ['comedy, parody, sci-fi',\n",
              "  'comedy, parody, sci-fi',\n",
              "  'comedy, parody, sci-fi',\n",
              "  'comedy, parody, sci-fi'],\n",
              " 'Sister Princess': ['comedy, drama, harem, romance, slice of life',\n",
              "  'comedy, drama, harem, romance, slice of life'],\n",
              " 'Kodomo no Omocha (TV)': ['comedy, drama, romance, shoujo'],\n",
              " 'Higashi no Eden Movie II: Paradise Lost': ['action, comedy, drama, mystery, romance, thriller',\n",
              "  'action, comedy, drama, mystery, romance, thriller'],\n",
              " 'Monogatari Series: Second Season': ['comedy, mystery, romance, supernatural, vampire',\n",
              "  'comedy, mystery, romance, supernatural, vampire',\n",
              "  'comedy, mystery, romance, supernatural, vampire',\n",
              "  'comedy, mystery, romance, supernatural, vampire',\n",
              "  'comedy, mystery, romance, supernatural, vampire'],\n",
              " 'Towa no Quon 5: Souzetsu no Raifuku': ['action, super power, supernatural'],\n",
              " 'Fate/Prototype': ['action, fantasy, magic, romance, shounen, supernatural',\n",
              "  'action, fantasy, magic, romance, shounen, supernatural',\n",
              "  'action, fantasy, magic, romance, shounen, supernatural'],\n",
              " 'Tono to Issho: Ippunkan Gekijou': ['comedy, samurai, seinen'],\n",
              " 'Selector Spread WIXOSS': ['game, psychological', 'game, psychological'],\n",
              " 'Mobile Suit Gundam 00 The Movie: A Wakening of the Trailblazer': ['action, mecha, sci-fi, space'],\n",
              " 'Quiz Magic Academy: The Original Animation': ['comedy, fantasy, magic, school',\n",
              "  'comedy, fantasy, magic, school'],\n",
              " 'H2O: Footprints in the Sand': ['harem, romance, school',\n",
              "  'harem, romance, school',\n",
              "  'harem, romance, school'],\n",
              " 'Inukami! The Movie: Tokumei Reiteki Sousakan Karina Shirou!': ['comedy, ecchi, magic, romance, supernatural',\n",
              "  'comedy, ecchi, magic, romance, supernatural'],\n",
              " 'Senyuu. Specials': ['action, comedy, fantasy, shounen'],\n",
              " 'Kage kara Mamoru!': ['comedy, romance, shounen'],\n",
              " 'Naruto: Shippuuden Movie 4 - The Lost Tower': ['action, comedy, martial arts, shounen, super power',\n",
              "  'action, comedy, martial arts, shounen, super power',\n",
              "  'action, comedy, martial arts, shounen, super power'],\n",
              " 'Pokemon: Kesshoutou no Teiou Entei': ['action, adventure, comedy, drama, fantasy, kids',\n",
              "  'action, adventure, comedy, drama, fantasy, kids'],\n",
              " 'Amagami SS+ Plus': ['comedy, romance, school, slice of life',\n",
              "  'comedy, romance, school, slice of life'],\n",
              " 'Shoujo Sect': ['comedy, hentai, romance, yuri'],\n",
              " 'Gintama Movie: Kanketsu-hen - Yorozuya yo Eien Nare': ['action, comedy, historical, parody, samurai, sci-fi, shounen',\n",
              "  'action, comedy, historical, parody, samurai, sci-fi, shounen',\n",
              "  'action, comedy, historical, parody, samurai, sci-fi, shounen',\n",
              "  'action, comedy, historical, parody, samurai, sci-fi, shounen'],\n",
              " 'Dominion': ['comedy, mecha, police, sci-fi'],\n",
              " 'Seto no Hanayome OVA': ['comedy, parody, romance, school'],\n",
              " 'Juuou Mujin no Fafnir': ['fantasy, harem, romance, school',\n",
              "  'fantasy, harem, romance, school',\n",
              "  'fantasy, harem, romance, school'],\n",
              " 'Dogs: Bullets &amp; Carnage': ['action, seinen', 'action, seinen'],\n",
              " 'Ore, Twintail ni Narimasu.': ['action, comedy, fantasy, romance, school, shounen'],\n",
              " 'Red Garden': ['drama, mystery'],\n",
              " 'Zero no Tsukaima: Princesses no Rondo': ['action, adventure, comedy, ecchi, fantasy, harem, magic, romance, school',\n",
              "  'action, adventure, comedy, ecchi, fantasy, harem, magic, romance, school',\n",
              "  'action, adventure, comedy, ecchi, fantasy, harem, magic, romance, school',\n",
              "  'action, adventure, comedy, ecchi, fantasy, harem, magic, romance, school',\n",
              "  'action, adventure, comedy, ecchi, fantasy, harem, magic, romance, school',\n",
              "  'action, adventure, comedy, ecchi, fantasy, harem, magic, romance, school',\n",
              "  'action, adventure, comedy, ecchi, fantasy, harem, magic, romance, school'],\n",
              " 'Yamada-kun to 7-nin no Majo (TV)': ['comedy, harem, mystery, romance, school, shounen, supernatural',\n",
              "  'comedy, harem, mystery, romance, school, shounen, supernatural',\n",
              "  'comedy, harem, mystery, romance, school, shounen, supernatural'],\n",
              " 'Bakuten Shoot Beyblade': ['action, adventure, comedy, sci-fi, shounen, sports',\n",
              "  'action, adventure, comedy, sci-fi, shounen, sports'],\n",
              " 'Les Misérables: Shoujo Cosette': ['drama, historical, shoujo, slice of life',\n",
              "  'drama, historical, shoujo, slice of life'],\n",
              " 'Gate: Jieitai Kanochi nite, Kaku Tatakaeri': ['action, adventure, fantasy, military',\n",
              "  'action, adventure, fantasy, military',\n",
              "  'action, adventure, fantasy, military',\n",
              "  'action, adventure, fantasy, military',\n",
              "  'action, adventure, fantasy, military',\n",
              "  'action, adventure, fantasy, military'],\n",
              " 'Hyakka Ryouran: Samurai Girls': ['action, comedy, ecchi, harem, samurai, school',\n",
              "  'action, comedy, ecchi, harem, samurai, school',\n",
              "  'action, comedy, ecchi, harem, samurai, school'],\n",
              " 'Dragon Ball Z Movie 07: Kyokugen Battle!! Sandai Super Saiyajin': ['adventure, comedy, fantasy, sci-fi, shounen',\n",
              "  'adventure, comedy, fantasy, sci-fi, shounen',\n",
              "  'adventure, comedy, fantasy, sci-fi, shounen',\n",
              "  'adventure, comedy, fantasy, sci-fi, shounen'],\n",
              " 'Tokyo Ghoul √A': ['action, drama, horror, mystery, psychological, seinen, supernatural',\n",
              "  'action, drama, horror, mystery, psychological, seinen, supernatural',\n",
              "  'action, drama, horror, mystery, psychological, seinen, supernatural',\n",
              "  'action, drama, horror, mystery, psychological, seinen, supernatural',\n",
              "  'action, drama, horror, mystery, psychological, seinen, supernatural',\n",
              "  'action, drama, horror, mystery, psychological, seinen, supernatural'],\n",
              " 'Berserk: Ougon Jidai-hen I - Haou no Tamago': ['action, adventure, demons, fantasy, military, seinen, supernatural',\n",
              "  'action, adventure, demons, fantasy, military, seinen, supernatural',\n",
              "  'action, adventure, demons, fantasy, military, seinen, supernatural'],\n",
              " 'Cowboy Bebop': ['action, adventure, comedy, drama, sci-fi, space',\n",
              "  'action, adventure, comedy, drama, sci-fi, space',\n",
              "  'action, adventure, comedy, drama, sci-fi, space',\n",
              "  'action, adventure, comedy, drama, sci-fi, space',\n",
              "  'action, adventure, comedy, drama, sci-fi, space',\n",
              "  'action, adventure, comedy, drama, sci-fi, space',\n",
              "  'action, adventure, comedy, drama, sci-fi, space',\n",
              "  'action, adventure, comedy, drama, sci-fi, space'],\n",
              " 'Pokemon: Mizu no Miyako no Mamorigami Latias to Latios': ['adventure, comedy, drama, fantasy, kids',\n",
              "  'adventure, comedy, drama, fantasy, kids',\n",
              "  'adventure, comedy, drama, fantasy, kids',\n",
              "  'adventure, comedy, drama, fantasy, kids'],\n",
              " 'Kamisama no Inai Nichiyoubi': ['fantasy, mystery',\n",
              "  'fantasy, mystery',\n",
              "  'fantasy, mystery',\n",
              "  'fantasy, mystery',\n",
              "  'fantasy, mystery'],\n",
              " 'Diamond no Ace OVA': ['comedy, school, shounen, sports'],\n",
              " 'Seikon no Qwaser': ['action, ecchi, seinen, super power, supernatural',\n",
              "  'action, ecchi, seinen, super power, supernatural'],\n",
              " 'Digimon Adventure 02': ['action, adventure, comedy, drama, fantasy, kids',\n",
              "  'action, adventure, comedy, drama, fantasy, kids',\n",
              "  'action, adventure, comedy, drama, fantasy, kids',\n",
              "  'action, adventure, comedy, drama, fantasy, kids'],\n",
              " 'Natsume Yuujinchou San': ['drama, fantasy, shoujo, slice of life, supernatural',\n",
              "  'drama, fantasy, shoujo, slice of life, supernatural',\n",
              "  'drama, fantasy, shoujo, slice of life, supernatural',\n",
              "  'drama, fantasy, shoujo, slice of life, supernatural',\n",
              "  'drama, fantasy, shoujo, slice of life, supernatural'],\n",
              " 'Neon Genesis Evangelion': ['action, dementia, drama, mecha, psychological, sci-fi',\n",
              "  'action, dementia, drama, mecha, psychological, sci-fi',\n",
              "  'action, dementia, drama, mecha, psychological, sci-fi',\n",
              "  'action, dementia, drama, mecha, psychological, sci-fi',\n",
              "  'action, dementia, drama, mecha, psychological, sci-fi',\n",
              "  'action, dementia, drama, mecha, psychological, sci-fi',\n",
              "  'action, dementia, drama, mecha, psychological, sci-fi',\n",
              "  'action, dementia, drama, mecha, psychological, sci-fi',\n",
              "  'action, dementia, drama, mecha, psychological, sci-fi'],\n",
              " 'Inma Youjo': ['fantasy, hentai, horror, supernatural'],\n",
              " 'Photokano': ['ecchi, romance, school',\n",
              "  'ecchi, romance, school',\n",
              "  'ecchi, romance, school',\n",
              "  'ecchi, romance, school'],\n",
              " 'Binbougami ga!': ['comedy, parody, shounen, supernatural'],\n",
              " 'Ikkitousen: Great Guardians': ['action, ecchi, martial arts, school, super power',\n",
              "  'action, ecchi, martial arts, school, super power',\n",
              "  'action, ecchi, martial arts, school, super power',\n",
              "  'action, ecchi, martial arts, school, super power'],\n",
              " 'Walkure Romanze': ['action, ecchi, harem, romance, school, sports'],\n",
              " 'Hellsing Ultimate': ['action, horror, military, seinen, supernatural, vampire',\n",
              "  'action, horror, military, seinen, supernatural, vampire',\n",
              "  'action, horror, military, seinen, supernatural, vampire',\n",
              "  'action, horror, military, seinen, supernatural, vampire',\n",
              "  'action, horror, military, seinen, supernatural, vampire'],\n",
              " 'Eureka Seven: Pocket ga Niji de Ippai': ['adventure, mecha, romance, sci-fi',\n",
              "  'adventure, mecha, romance, sci-fi',\n",
              "  'adventure, mecha, romance, sci-fi',\n",
              "  'adventure, mecha, romance, sci-fi'],\n",
              " 'Mahou Shoujo Madoka★Magica Movie 2: Eien no Monogatari': ['drama, magic, psychological, thriller',\n",
              "  'drama, magic, psychological, thriller',\n",
              "  'drama, magic, psychological, thriller'],\n",
              " 'Ragnarök the Animation': ['action, fantasy, magic',\n",
              "  'action, fantasy, magic'],\n",
              " 'Fate/stay night Movie: Unlimited Blade Works': ['action, fantasy, magic, supernatural',\n",
              "  'action, fantasy, magic, supernatural'],\n",
              " 'Ano Hi Mita Hana no Namae wo Bokutachi wa Mada Shiranai.': ['drama, slice of life, supernatural',\n",
              "  'drama, slice of life, supernatural',\n",
              "  'drama, slice of life, supernatural',\n",
              "  'drama, slice of life, supernatural',\n",
              "  'drama, slice of life, supernatural',\n",
              "  'drama, slice of life, supernatural',\n",
              "  'drama, slice of life, supernatural',\n",
              "  'drama, slice of life, supernatural'],\n",
              " 'Kaitou Tenshi Twin Angel': ['magic'],\n",
              " 'Hunter x Hunter (2011)': ['action, adventure, shounen, super power',\n",
              "  'action, adventure, shounen, super power',\n",
              "  'action, adventure, shounen, super power',\n",
              "  'action, adventure, shounen, super power',\n",
              "  'action, adventure, shounen, super power',\n",
              "  'action, adventure, shounen, super power',\n",
              "  'action, adventure, shounen, super power',\n",
              "  'action, adventure, shounen, super power',\n",
              "  'action, adventure, shounen, super power',\n",
              "  'action, adventure, shounen, super power'],\n",
              " 'Fairy Tail (2014)': ['action, adventure, comedy, fantasy, magic, shounen'],\n",
              " 'Log Horizon': ['action, adventure, fantasy, game, magic, shounen',\n",
              "  'action, adventure, fantasy, game, magic, shounen',\n",
              "  'action, adventure, fantasy, game, magic, shounen',\n",
              "  'action, adventure, fantasy, game, magic, shounen'],\n",
              " 'Lupin III: Lupin vs. Fukusei-ningen': ['action, adventure, comedy, mystery, shounen'],\n",
              " 'Grenadier: Hohoemi no Senshi': ['action, adventure, comedy, ecchi, shounen',\n",
              "  'action, adventure, comedy, ecchi, shounen'],\n",
              " 'Kyoukai no Kanata': ['fantasy, slice of life, supernatural',\n",
              "  'fantasy, slice of life, supernatural',\n",
              "  'fantasy, slice of life, supernatural',\n",
              "  'fantasy, slice of life, supernatural',\n",
              "  'fantasy, slice of life, supernatural',\n",
              "  'fantasy, slice of life, supernatural',\n",
              "  'fantasy, slice of life, supernatural',\n",
              "  'fantasy, slice of life, supernatural'],\n",
              " 'Evangelion: 2.0 You Can (Not) Advance': ['action, mecha, sci-fi',\n",
              "  'action, mecha, sci-fi',\n",
              "  'action, mecha, sci-fi',\n",
              "  'action, mecha, sci-fi'],\n",
              " 'AKB0048': ['music, sci-fi'],\n",
              " 'Hoshi no Koe': ['drama, mecha, romance, sci-fi, space',\n",
              "  'drama, mecha, romance, sci-fi, space',\n",
              "  'drama, mecha, romance, sci-fi, space'],\n",
              " 'Aoi Bungaku Series': ['drama, historical, psychological, seinen, thriller'],\n",
              " 'Hanasaku Iroha': ['comedy, drama, seinen, slice of life'],\n",
              " 'Date A Live Movie: Mayuri Judgment': ['harem, romance, sci-fi',\n",
              "  'harem, romance, sci-fi'],\n",
              " 'Ikoku Irokoi Romantan': ['comedy, romance, yaoi'],\n",
              " 'Tamako Love Story': ['comedy, romance, slice of life',\n",
              "  'comedy, romance, slice of life',\n",
              "  'comedy, romance, slice of life',\n",
              "  'comedy, romance, slice of life'],\n",
              " 'Bokura ga Ita': ['drama, romance, shoujo, slice of life',\n",
              "  'drama, romance, shoujo, slice of life',\n",
              "  'drama, romance, shoujo, slice of life'],\n",
              " 'Mahou Shoujo Lyrical Nanoha: The Movie 1st': ['action, comedy, drama, magic, super power',\n",
              "  'action, comedy, drama, magic, super power'],\n",
              " 'Ghost in the Shell: Stand Alone Complex - The Laughing Man': ['action, mecha, mystery, police, psychological, sci-fi, seinen'],\n",
              " 'Love Stage!!': ['comedy, romance, shounen ai',\n",
              "  'comedy, romance, shounen ai'],\n",
              " 'Nekomonogatari: Kuro': ['comedy, romance, supernatural',\n",
              "  'comedy, romance, supernatural',\n",
              "  'comedy, romance, supernatural',\n",
              "  'comedy, romance, supernatural',\n",
              "  'comedy, romance, supernatural'],\n",
              " 'Genocyber': ['action, horror, mecha, psychological, sci-fi',\n",
              "  'action, horror, mecha, psychological, sci-fi'],\n",
              " 'Air in Summer': ['comedy, drama, historical, romance, supernatural',\n",
              "  'comedy, drama, historical, romance, supernatural'],\n",
              " 'Hunter x Hunter': ['action, adventure, shounen, super power',\n",
              "  'action, adventure, shounen, super power'],\n",
              " 'Kyuuketsuhime Miyu (TV)': ['action, demons, drama, horror, vampire'],\n",
              " 'Lupin VIII': ['adventure, comedy, shounen'],\n",
              " 'Digimon Tamers': ['adventure, comedy, drama, fantasy, shounen',\n",
              "  'adventure, comedy, drama, fantasy, shounen',\n",
              "  'adventure, comedy, drama, fantasy, shounen'],\n",
              " 'Senjou no Valkyria': ['action, military, romance',\n",
              "  'action, military, romance',\n",
              "  'action, military, romance',\n",
              "  'action, military, romance'],\n",
              " 'Transformers Victory': ['adventure, mecha, sci-fi, shounen'],\n",
              " 'Free!: Eternal Summer Special': ['comedy, school, slice of life',\n",
              "  'comedy, school, slice of life'],\n",
              " 'Captain Earth': ['action, mecha, romance, sci-fi, space',\n",
              "  'action, mecha, romance, sci-fi, space'],\n",
              " 'Harukanaru Toki no Naka de: Hachiyou Shou': ['demons, fantasy, historical, magic, shoujo, supernatural'],\n",
              " 'Hidamari Sketch x 365 Specials': ['comedy, school, slice of life'],\n",
              " 'Cafe Junkie': ['hentai'],\n",
              " 'Saint Seiya: Meiou Hades Meikai-hen': ['action, adventure, demons, fantasy, sci-fi, shounen, super power',\n",
              "  'action, adventure, demons, fantasy, sci-fi, shounen, super power'],\n",
              " 'InuYasha: Kanketsu-hen': ['action, adventure, comedy, demons, fantasy, magic, romance, shounen, supernatural',\n",
              "  'action, adventure, comedy, demons, fantasy, magic, romance, shounen, supernatural'],\n",
              " 'Death Note Rewrite': ['mystery, police, psychological, supernatural, thriller',\n",
              "  'mystery, police, psychological, supernatural, thriller'],\n",
              " 'Rurouni Kenshin: Meiji Kenkaku Romantan - Ishinshishi e no Chinkonka': ['drama, historical, samurai, shounen',\n",
              "  'drama, historical, samurai, shounen',\n",
              "  'drama, historical, samurai, shounen',\n",
              "  'drama, historical, samurai, shounen'],\n",
              " 'Grisaia no Kajitsu': ['drama, harem, psychological, romance, school',\n",
              "  'drama, harem, psychological, romance, school',\n",
              "  'drama, harem, psychological, romance, school',\n",
              "  'drama, harem, psychological, romance, school',\n",
              "  'drama, harem, psychological, romance, school'],\n",
              " 'Kamen no Maid Guy': ['action, comedy, ecchi, super power',\n",
              "  'action, comedy, ecchi, super power'],\n",
              " 'Code Geass: Hangyaku no Lelouch Picture Drama': ['comedy, school, slice of life',\n",
              "  'comedy, school, slice of life'],\n",
              " 'Break Blade 3: Kyoujin no Ato': ['action, fantasy, mecha, military, shounen'],\n",
              " 'Tonari no Kaibutsu-kun: Tonari no Gokudou-kun': ['comedy, historical, romance, shoujo'],\n",
              " 'Gosenzo-sama Banbanzai!': ['comedy, sci-fi'],\n",
              " 'Umineko no Naku Koro ni': ['horror, mystery, psychological, supernatural',\n",
              "  'horror, mystery, psychological, supernatural',\n",
              "  'horror, mystery, psychological, supernatural'],\n",
              " 'Sekirei': ['action, comedy, ecchi, harem, super power',\n",
              "  'action, comedy, ecchi, harem, super power',\n",
              "  'action, comedy, ecchi, harem, super power',\n",
              "  'action, comedy, ecchi, harem, super power',\n",
              "  'action, comedy, ecchi, harem, super power'],\n",
              " 'Bleach Movie 2: The DiamondDust Rebellion - Mou Hitotsu no Hyourinmaru': ['action, adventure, shounen, supernatural',\n",
              "  'action, adventure, shounen, supernatural',\n",
              "  'action, adventure, shounen, supernatural',\n",
              "  'action, adventure, shounen, supernatural'],\n",
              " 'Seikoku no Dragonar': ['comedy, ecchi, fantasy, school',\n",
              "  'comedy, ecchi, fantasy, school',\n",
              "  'comedy, ecchi, fantasy, school'],\n",
              " 'Seiyou Kottou Yougashiten: Antique': ['comedy, shoujo, shounen ai'],\n",
              " 'Senyuu. 2': ['action, comedy, fantasy, parody, shounen',\n",
              "  'action, comedy, fantasy, parody, shounen'],\n",
              " 'Precure All Stars Movie New Stage: Mirai no Tomodachi': ['fantasy, magic, shoujo'],\n",
              " 'Nabari no Ou': ['action, comedy, drama, fantasy, shounen, supernatural'],\n",
              " 'Chobits': ['comedy, drama, ecchi, romance, sci-fi, seinen',\n",
              "  'comedy, drama, ecchi, romance, sci-fi, seinen',\n",
              "  'comedy, drama, ecchi, romance, sci-fi, seinen',\n",
              "  'comedy, drama, ecchi, romance, sci-fi, seinen',\n",
              "  'comedy, drama, ecchi, romance, sci-fi, seinen',\n",
              "  'comedy, drama, ecchi, romance, sci-fi, seinen',\n",
              "  'comedy, drama, ecchi, romance, sci-fi, seinen',\n",
              "  'comedy, drama, ecchi, romance, sci-fi, seinen',\n",
              "  'comedy, drama, ecchi, romance, sci-fi, seinen',\n",
              "  'comedy, drama, ecchi, romance, sci-fi, seinen',\n",
              "  'comedy, drama, ecchi, romance, sci-fi, seinen',\n",
              "  'comedy, drama, ecchi, romance, sci-fi, seinen'],\n",
              " 'Hikaru no Go': ['comedy, game, shounen, supernatural'],\n",
              " 'Umi ga Kikoeru': ['drama, romance, school, slice of life'],\n",
              " 'Green Green': ['comedy, ecchi, romance, school, slice of life',\n",
              "  'comedy, ecchi, romance, school, slice of life',\n",
              "  'comedy, ecchi, romance, school, slice of life',\n",
              "  'comedy, ecchi, romance, school, slice of life',\n",
              "  'comedy, ecchi, romance, school, slice of life',\n",
              "  'comedy, ecchi, romance, school, slice of life'],\n",
              " 'Black Jack: Futari no Kuroi Isha': ['drama'],\n",
              " 'Ginga Eiyuu Densetsu: Arata Naru Tatakai no Overture': ['action, drama, military, sci-fi, space'],\n",
              " 'Major S6': ['comedy, drama, sports'],\n",
              " 'R.O.D OVA': ['action, adventure, historical, magic, mystery, sci-fi',\n",
              "  'action, adventure, historical, magic, mystery, sci-fi'],\n",
              " 'Tegamibachi Reverse': ['adventure, fantasy, shounen, supernatural',\n",
              "  'adventure, fantasy, shounen, supernatural'],\n",
              " 'Cowboy Bebop: Tengoku no Tobira': ['action, drama, mystery, sci-fi, space',\n",
              "  'action, drama, mystery, sci-fi, space',\n",
              "  'action, drama, mystery, sci-fi, space',\n",
              "  'action, drama, mystery, sci-fi, space',\n",
              "  'action, drama, mystery, sci-fi, space',\n",
              "  'action, drama, mystery, sci-fi, space',\n",
              "  'action, drama, mystery, sci-fi, space'],\n",
              " 'Cross Road': ['school, slice of life'],\n",
              " 'Otome wa Boku ni Koishiteru': ['comedy, drama, romance, school',\n",
              "  'comedy, drama, romance, school'],\n",
              " 'Saenai Heroine no Sodatekata': ['comedy, ecchi, harem, romance, school',\n",
              "  'comedy, ecchi, harem, romance, school'],\n",
              " 'Psycho-Pass Movie': ['action, military, police, sci-fi',\n",
              "  'action, military, police, sci-fi',\n",
              "  'action, military, police, sci-fi',\n",
              "  'action, military, police, sci-fi'],\n",
              " 'Hand Maid May': ['comedy, ecchi, harem, romance, sci-fi',\n",
              "  'comedy, ecchi, harem, romance, sci-fi'],\n",
              " 'SoniAni: Super Sonico The Animation': ['music, slice of life'],\n",
              " 'Itazura na Kiss': ['comedy, romance, shoujo'],\n",
              " 'Cardcaptor Sakura': ['adventure, comedy, drama, fantasy, magic, romance, school, shoujo',\n",
              "  'adventure, comedy, drama, fantasy, magic, romance, school, shoujo',\n",
              "  'adventure, comedy, drama, fantasy, magic, romance, school, shoujo',\n",
              "  'adventure, comedy, drama, fantasy, magic, romance, school, shoujo',\n",
              "  'adventure, comedy, drama, fantasy, magic, romance, school, shoujo'],\n",
              " 'Kuroko no Basket: Oshaberi Demo Shimasen ka': ['comedy, school, shounen, sports'],\n",
              " 'Seikon no Qwaser II': ['action, ecchi, seinen, super power, supernatural',\n",
              "  'action, ecchi, seinen, super power, supernatural'],\n",
              " 'Shokugeki no Souma': ['ecchi, school, shounen', 'ecchi, school, shounen'],\n",
              " '20-dai no Heya-hen': ['slice of life'],\n",
              " 'Battle Programmer Shirase': ['comedy, ecchi, sci-fi'],\n",
              " 'Shigatsu wa Kimi no Uso': ['drama, music, romance, school, shounen',\n",
              "  'drama, music, romance, school, shounen',\n",
              "  'drama, music, romance, school, shounen',\n",
              "  'drama, music, romance, school, shounen',\n",
              "  'drama, music, romance, school, shounen'],\n",
              " 'Accel World': ['action, game, romance, school, sci-fi',\n",
              "  'action, game, romance, school, sci-fi',\n",
              "  'action, game, romance, school, sci-fi',\n",
              "  'action, game, romance, school, sci-fi',\n",
              "  'action, game, romance, school, sci-fi',\n",
              "  'action, game, romance, school, sci-fi',\n",
              "  'action, game, romance, school, sci-fi'],\n",
              " 'Tibet Inu Monogatari': ['adventure'],\n",
              " 'Nogizaka Haruka no Himitsu': ['comedy, romance', 'comedy, romance'],\n",
              " 'Mobile Suit Gundam 00': ['action, drama, mecha, military, sci-fi, space',\n",
              "  'action, drama, mecha, military, sci-fi, space'],\n",
              " 'Vexille: 2077 Nihon Sakoku': ['action, military, sci-fi'],\n",
              " 'Bokusatsu Tenshi Dokuro-chan 2': ['comedy, ecchi, magic',\n",
              "  'comedy, ecchi, magic',\n",
              "  'comedy, ecchi, magic',\n",
              "  'comedy, ecchi, magic'],\n",
              " 'Sora no Otoshimono Final: Eternal My Master': ['comedy, ecchi, harem, sci-fi, shounen, supernatural',\n",
              "  'comedy, ecchi, harem, sci-fi, shounen, supernatural',\n",
              "  'comedy, ecchi, harem, sci-fi, shounen, supernatural'],\n",
              " 'Gakuen Heaven': ['comedy, drama, romance, school, shounen ai'],\n",
              " 'Taimadou Gakuen 35 Shiken Shoutai': ['action, ecchi, fantasy, harem, military, romance, supernatural',\n",
              "  'action, ecchi, fantasy, harem, military, romance, supernatural'],\n",
              " 'Requiem': ['hentai'],\n",
              " 'Ao no Exorcist Movie': ['action, demons, fantasy, shounen, supernatural',\n",
              "  'action, demons, fantasy, shounen, supernatural'],\n",
              " 'Angel Beats!: Another Epilogue': ['drama, school, supernatural',\n",
              "  'drama, school, supernatural',\n",
              "  'drama, school, supernatural'],\n",
              " 'Aa! Megami-sama!: Tatakau Tsubasa': ['comedy, magic, romance, seinen, supernatural',\n",
              "  'comedy, magic, romance, seinen, supernatural'],\n",
              " 'The Law of Ueki': ['adventure, comedy, drama, shounen, supernatural',\n",
              "  'adventure, comedy, drama, shounen, supernatural',\n",
              "  'adventure, comedy, drama, shounen, supernatural'],\n",
              " 'Battery': ['drama, slice of life, sports', 'drama, slice of life, sports'],\n",
              " 'Photon': ['action, adventure, comedy, drama, ecchi, mecha, romance, sci-fi'],\n",
              " 'JoJo no Kimyou na Bouken: Stardust Crusaders': ['action, adventure, drama, shounen, supernatural',\n",
              "  'action, adventure, drama, shounen, supernatural',\n",
              "  'action, adventure, drama, shounen, supernatural'],\n",
              " 'Hidamari Sketch x 365': ['comedy, school, slice of life',\n",
              "  'comedy, school, slice of life'],\n",
              " 'Howl no Ugoku Shiro': ['adventure, drama, fantasy, romance',\n",
              "  'adventure, drama, fantasy, romance',\n",
              "  'adventure, drama, fantasy, romance',\n",
              "  'adventure, drama, fantasy, romance',\n",
              "  'adventure, drama, fantasy, romance',\n",
              "  'adventure, drama, fantasy, romance',\n",
              "  'adventure, drama, fantasy, romance',\n",
              "  'adventure, drama, fantasy, romance',\n",
              "  'adventure, drama, fantasy, romance',\n",
              "  'adventure, drama, fantasy, romance',\n",
              "  'adventure, drama, fantasy, romance',\n",
              "  'adventure, drama, fantasy, romance',\n",
              "  'adventure, drama, fantasy, romance'],\n",
              " 'Kiss Dum: Engage Planet': ['mecha, military, sci-fi'],\n",
              " 'One Piece Movie 3: Chinjuu-jima no Chopper Oukoku': ['action, adventure, comedy, fantasy, shounen, super power'],\n",
              " 'Hakuouki Movie 1: Kyoto Ranbu': ['action, drama, historical, josei, samurai, supernatural'],\n",
              " 'Angel Beats! Specials': ['action, comedy, school, supernatural'],\n",
              " 'Ergo Proxy': ['mystery, psychological, sci-fi',\n",
              "  'mystery, psychological, sci-fi',\n",
              "  'mystery, psychological, sci-fi',\n",
              "  'mystery, psychological, sci-fi',\n",
              "  'mystery, psychological, sci-fi'],\n",
              " 'Kousoku Denjin Albegus': ['mecha'],\n",
              " 'Toradora! OVA': ['comedy, romance, school, slice of life'],\n",
              " 'Akuma no Riddle': ['action, school, shoujo ai'],\n",
              " 'Lodoss-tou Senki': ['action, adventure, fantasy, magic, shounen, supernatural',\n",
              "  'action, adventure, fantasy, magic, shounen, supernatural',\n",
              "  'action, adventure, fantasy, magic, shounen, supernatural'],\n",
              " 'ef: A Tale of Melodies.': ['drama, mystery, romance, supernatural',\n",
              "  'drama, mystery, romance, supernatural'],\n",
              " 'Kimi to Boku. 2': ['comedy, drama, romance, school, shounen, slice of life',\n",
              "  'comedy, drama, romance, school, shounen, slice of life'],\n",
              " 'High School DxD Specials': ['comedy, demons, ecchi, harem, romance, school',\n",
              "  'comedy, demons, ecchi, harem, romance, school',\n",
              "  'comedy, demons, ecchi, harem, romance, school'],\n",
              " 'Saiunkoku Monogatari': ['adventure, comedy, drama, fantasy, historical, romance',\n",
              "  'adventure, comedy, drama, fantasy, historical, romance'],\n",
              " 'Amagi Brilliant Park': ['comedy, magic', 'comedy, magic', 'comedy, magic'],\n",
              " 'Akagami no Shirayuki-hime 2nd Season': ['drama, fantasy, romance, shoujo'],\n",
              " 'Magikano': ['comedy, fantasy, harem, magic, romance, shounen',\n",
              "  'comedy, fantasy, harem, magic, romance, shounen'],\n",
              " 'Tsukimonogatari': ['comedy, mystery, supernatural',\n",
              "  'comedy, mystery, supernatural',\n",
              "  'comedy, mystery, supernatural',\n",
              "  'comedy, mystery, supernatural',\n",
              "  'comedy, mystery, supernatural',\n",
              "  'comedy, mystery, supernatural',\n",
              "  'comedy, mystery, supernatural'],\n",
              " 'Mobile Suit Gundam Wing': ['action, drama, mecha, military, sci-fi, space',\n",
              "  'action, drama, mecha, military, sci-fi, space'],\n",
              " 'Scrapped Princess': ['adventure, comedy, drama, fantasy, mecha, sci-fi, shounen',\n",
              "  'adventure, comedy, drama, fantasy, mecha, sci-fi, shounen'],\n",
              " 'Dance in the Vampire Bund': ['action, supernatural, vampire'],\n",
              " 'Kemeko Deluxe!': ['action, comedy, ecchi, romance, school, sci-fi, shounen',\n",
              "  'action, comedy, ecchi, romance, school, sci-fi, shounen'],\n",
              " 'Hatsukoi Limited': ['comedy, romance, school, shounen',\n",
              "  'comedy, romance, school, shounen',\n",
              "  'comedy, romance, school, shounen',\n",
              "  'comedy, romance, school, shounen'],\n",
              " 'Tenchi Muyou! in Love': ['action, comedy, romance, school, sci-fi, shounen, space'],\n",
              " 'Jormungand: Perfect Order': ['action, adventure, seinen',\n",
              "  'action, adventure, seinen'],\n",
              " 'Okusama ga Seitokaichou!': ['comedy, ecchi, romance, school, shounen',\n",
              "  'comedy, ecchi, romance, school, shounen',\n",
              "  'comedy, ecchi, romance, school, shounen'],\n",
              " 'Kimi ga Nozomu Eien: Next Season': ['drama, romance'],\n",
              " 'Michiko to Hatchin': ['action, adventure', 'action, adventure'],\n",
              " 'Kämpfer für die Liebe': ['action, comedy, ecchi, shoujo ai, super power'],\n",
              " 'Peaceful Times (F02) Petit Film': ['music'],\n",
              " 'Nanatsu no Taizai: Seisen no Shirushi': ['action, adventure, ecchi, fantasy, shounen, supernatural'],\n",
              " 'Nozoki Ana': ['comedy, drama, ecchi',\n",
              "  'comedy, drama, ecchi',\n",
              "  'comedy, drama, ecchi'],\n",
              " 'Captain Tsubasa J': ['action, shounen, sports',\n",
              "  'action, shounen, sports',\n",
              "  'action, shounen, sports'],\n",
              " 'Denpa Onna to Seishun Otoko': ['comedy, sci-fi, seinen, slice of life',\n",
              "  'comedy, sci-fi, seinen, slice of life',\n",
              "  'comedy, sci-fi, seinen, slice of life'],\n",
              " 'Shinreigari: Ghost Hound': ['mystery, psychological, sci-fi, supernatural',\n",
              "  'mystery, psychological, sci-fi, supernatural',\n",
              "  'mystery, psychological, sci-fi, supernatural'],\n",
              " 'Naruto: Dai Katsugeki!! Yuki Hime Shinobu Houjou Dattebayo! Special: Konoha Annual Sports Festival': ['action, comedy, fantasy, martial arts, shounen, sports',\n",
              "  'action, comedy, fantasy, martial arts, shounen, sports'],\n",
              " 'Iketeru Futari': ['comedy, ecchi, romance, school, seinen',\n",
              "  'comedy, ecchi, romance, school, seinen',\n",
              "  'comedy, ecchi, romance, school, seinen'],\n",
              " 'Zero no Tsukaima F': ['adventure, ecchi, fantasy, magic, romance',\n",
              "  'adventure, ecchi, fantasy, magic, romance',\n",
              "  'adventure, ecchi, fantasy, magic, romance'],\n",
              " 'Trinity Seven': ['action, comedy, ecchi, fantasy, harem, magic, romance, school, shounen, supernatural',\n",
              "  'action, comedy, ecchi, fantasy, harem, magic, romance, school, shounen, supernatural',\n",
              "  'action, comedy, ecchi, fantasy, harem, magic, romance, school, shounen, supernatural',\n",
              "  'action, comedy, ecchi, fantasy, harem, magic, romance, school, shounen, supernatural',\n",
              "  'action, comedy, ecchi, fantasy, harem, magic, romance, school, shounen, supernatural',\n",
              "  'action, comedy, ecchi, fantasy, harem, magic, romance, school, shounen, supernatural'],\n",
              " 'Detective Conan Movie 02: The Fourteenth Target': ['adventure, comedy, mystery, police, shounen'],\n",
              " 'Barakamon': ['comedy, slice of life',\n",
              "  'comedy, slice of life',\n",
              "  'comedy, slice of life'],\n",
              " 'Shiki': ['mystery, supernatural, thriller, vampire',\n",
              "  'mystery, supernatural, thriller, vampire'],\n",
              " 'Log Horizon 2nd Season': ['action, adventure, fantasy, game, magic, shounen',\n",
              "  'action, adventure, fantasy, game, magic, shounen',\n",
              "  'action, adventure, fantasy, game, magic, shounen',\n",
              "  'action, adventure, fantasy, game, magic, shounen'],\n",
              " 'Mahou Shoujo Madoka★Magica Movie 3: Hangyaku no Monogatari': ['drama, magic, psychological, thriller',\n",
              "  'drama, magic, psychological, thriller'],\n",
              " 'Bakuon!!': ['comedy, seinen, slice of life'],\n",
              " 'Blood Lad: Wagahai wa Neko de wa Nai': ['action, comedy, demons, seinen, supernatural, vampire'],\n",
              " 'Bokusatsu Tenshi Dokuro-chan': ['comedy, ecchi, magic',\n",
              "  'comedy, ecchi, magic',\n",
              "  'comedy, ecchi, magic'],\n",
              " 'Freezing': ['action, drama, ecchi, harem, martial arts, romance, sci-fi, seinen',\n",
              "  'action, drama, ecchi, harem, martial arts, romance, sci-fi, seinen',\n",
              "  'action, drama, ecchi, harem, martial arts, romance, sci-fi, seinen',\n",
              "  'action, drama, ecchi, harem, martial arts, romance, sci-fi, seinen',\n",
              "  'action, drama, ecchi, harem, martial arts, romance, sci-fi, seinen',\n",
              "  'action, drama, ecchi, harem, martial arts, romance, sci-fi, seinen',\n",
              "  'action, drama, ecchi, harem, martial arts, romance, sci-fi, seinen',\n",
              "  'action, drama, ecchi, harem, martial arts, romance, sci-fi, seinen'],\n",
              " 'Sol Bianca: Taiyou no Fune': ['adventure, mecha, sci-fi, space'],\n",
              " 'Ginga Tetsudou Monogatari: Eien e no Bunkiten': ['action, adventure, drama, sci-fi, space'],\n",
              " 'Ojamajo Doremi Na-i-sho': ['comedy, fantasy, magic, shoujo'],\n",
              " 'Onegai☆Teacher: Himitsu na Futari': ['comedy, ecchi, romance, sci-fi',\n",
              "  'comedy, ecchi, romance, sci-fi',\n",
              "  'comedy, ecchi, romance, sci-fi',\n",
              "  'comedy, ecchi, romance, sci-fi'],\n",
              " 'Comet Lucifer': ['action, adventure, fantasy, mecha'],\n",
              " 'Orenchi no Furo Jijou': ['comedy, fantasy, shoujo'],\n",
              " 'Yahari Ore no Seishun Love Comedy wa Machigatteiru. Zoku': ['comedy, drama, romance, school',\n",
              "  'comedy, drama, romance, school',\n",
              "  'comedy, drama, romance, school',\n",
              "  'comedy, drama, romance, school',\n",
              "  'comedy, drama, romance, school',\n",
              "  'comedy, drama, romance, school'],\n",
              " 'Psycho Diver: Mashou Bosatsu': ['horror, psychological, sci-fi'],\n",
              " 'Digimon Savers the Movie: Kyuukyoku Power! Burst Mode Hatsudou!!': ['action, adventure, comedy, fantasy, shounen'],\n",
              " 'Mushishi Special: Hihamukage': ['adventure, fantasy, historical, mystery, seinen, slice of life, supernatural'],\n",
              " 'Ushio to Tora (TV)': ['action, adventure, comedy, demons, shounen, supernatural',\n",
              "  'action, adventure, comedy, demons, shounen, supernatural'],\n",
              " 'Steins;Gate Movie: Fuka Ryouiki no Déjà vu': ['sci-fi, thriller',\n",
              "  'sci-fi, thriller',\n",
              "  'sci-fi, thriller',\n",
              "  'sci-fi, thriller',\n",
              "  'sci-fi, thriller',\n",
              "  'sci-fi, thriller'],\n",
              " 'Mobile Suit Gundam MS IGLOO 2: Gravity of the Battlefront': ['mecha, sci-fi'],\n",
              " 'Marmalade Boy': ['comedy, drama, romance, shoujo',\n",
              "  'comedy, drama, romance, shoujo',\n",
              "  'comedy, drama, romance, shoujo'],\n",
              " 'Karin': ['comedy, romance, school, shounen, vampire',\n",
              "  'comedy, romance, school, shounen, vampire',\n",
              "  'comedy, romance, school, shounen, vampire',\n",
              "  'comedy, romance, school, shounen, vampire'],\n",
              " 'Armitage III: Poly-Matrix': ['action, adventure, mecha, military, police, romance, sci-fi'],\n",
              " 'Majimoji Rurumo': ['comedy, ecchi, fantasy, magic, school, shounen',\n",
              "  'comedy, ecchi, fantasy, magic, school, shounen'],\n",
              " 'Natsume Yuujinchou Shi': ['drama, fantasy, shoujo, slice of life, supernatural',\n",
              "  'drama, fantasy, shoujo, slice of life, supernatural',\n",
              "  'drama, fantasy, shoujo, slice of life, supernatural'],\n",
              " 'Higashi no Eden Movie I: The King of Eden': ['comedy, drama, mystery, romance, slice of life, thriller',\n",
              "  'comedy, drama, mystery, romance, slice of life, thriller',\n",
              "  'comedy, drama, mystery, romance, slice of life, thriller'],\n",
              " 'Gantz': ['action, drama, horror, psychological, sci-fi, supernatural',\n",
              "  'action, drama, horror, psychological, sci-fi, supernatural',\n",
              "  'action, drama, horror, psychological, sci-fi, supernatural',\n",
              "  'action, drama, horror, psychological, sci-fi, supernatural',\n",
              "  'action, drama, horror, psychological, sci-fi, supernatural',\n",
              "  'action, drama, horror, psychological, sci-fi, supernatural'],\n",
              " 'Sasameki Koto': ['comedy, romance, school, shoujo ai'],\n",
              " 'Tegamibachi: Hikari to Ao no Gensou Yawa': ['adventure, fantasy, shounen, slice of life, supernatural'],\n",
              " 'Chuunibyou demo Koi ga Shitai! Ren': ['comedy, drama, romance, school, slice of life',\n",
              "  'comedy, drama, romance, school, slice of life'],\n",
              " 'Kyou no 5 no 2 (TV)': ['comedy, ecchi, school, seinen',\n",
              "  'comedy, ecchi, school, seinen'],\n",
              " 'Ayashi no Ceres': ['adventure, comedy, drama, horror, psychological, romance, shoujo, supernatural',\n",
              "  'adventure, comedy, drama, horror, psychological, romance, shoujo, supernatural'],\n",
              " 'Pokemon: Mewtwo! Ware wa Koko ni Ari': ['action, adventure, comedy, drama, fantasy, kids',\n",
              "  'action, adventure, comedy, drama, fantasy, kids'],\n",
              " 'Rakudai Kishi no Cavalry': ['action, ecchi, fantasy, romance, school',\n",
              "  'action, ecchi, fantasy, romance, school',\n",
              "  'action, ecchi, fantasy, romance, school',\n",
              "  'action, ecchi, fantasy, romance, school',\n",
              "  'action, ecchi, fantasy, romance, school'],\n",
              " 'Lupin III: Nusumareta Lupin': ['action, adventure, comedy, shounen'],\n",
              " 'Asu no Yoichi!': ['comedy, ecchi, harem, martial arts, romance, shounen',\n",
              "  'comedy, ecchi, harem, martial arts, romance, shounen',\n",
              "  'comedy, ecchi, harem, martial arts, romance, shounen',\n",
              "  'comedy, ecchi, harem, martial arts, romance, shounen',\n",
              "  'comedy, ecchi, harem, martial arts, romance, shounen'],\n",
              " 'Slam Dunk: Zenkoku Seiha Da! Sakuragi Hanamichi': ['comedy, drama, school, shounen, slice of life, sports'],\n",
              " 'Mardock Scramble: The First Compression': ['action, psychological, sci-fi',\n",
              "  'action, psychological, sci-fi'],\n",
              " 'Giniro no Kami no Agito': ['adventure, drama, fantasy, romance, sci-fi'],\n",
              " 'Majutsushi Orphen': ['action, adventure, comedy, demons, fantasy, magic'],\n",
              " 'Loups=Garous': ['mystery, sci-fi, thriller'],\n",
              " 'Yurumates 3D Plus': ['comedy, seinen, slice of life'],\n",
              " 'Divergence Eve': ['adventure, comedy, drama, mecha, military, sci-fi, space'],\n",
              " 'Ninja Slayer From Animation': ['action', 'action'],\n",
              " 'Vampire Hunter D': ['action, horror, sci-fi, supernatural, vampire',\n",
              "  'action, horror, sci-fi, supernatural, vampire',\n",
              "  'action, horror, sci-fi, supernatural, vampire'],\n",
              " 'Project ARMS': ['action, martial arts, super power'],\n",
              " 'C: The Money of Soul and Possibility Control': ['action, mystery, super power, thriller',\n",
              "  'action, mystery, super power, thriller'],\n",
              " 'No Game No Life': ['adventure, comedy, ecchi, fantasy, game, supernatural',\n",
              "  'adventure, comedy, ecchi, fantasy, game, supernatural',\n",
              "  'adventure, comedy, ecchi, fantasy, game, supernatural',\n",
              "  'adventure, comedy, ecchi, fantasy, game, supernatural',\n",
              "  'adventure, comedy, ecchi, fantasy, game, supernatural',\n",
              "  'adventure, comedy, ecchi, fantasy, game, supernatural',\n",
              "  'adventure, comedy, ecchi, fantasy, game, supernatural',\n",
              "  'adventure, comedy, ecchi, fantasy, game, supernatural'],\n",
              " 'Kaze no Stigma': ['action, fantasy, magic, romance, shounen',\n",
              "  'action, fantasy, magic, romance, shounen',\n",
              "  'action, fantasy, magic, romance, shounen',\n",
              "  'action, fantasy, magic, romance, shounen'],\n",
              " 'Houkago no Pleiades: Manner Movie': ['magic'],\n",
              " 'Toriko': ['action, adventure, comedy, fantasy, shounen',\n",
              "  'action, adventure, comedy, fantasy, shounen'],\n",
              " 'Dimension W': ['action, sci-fi, seinen', 'action, sci-fi, seinen'],\n",
              " 'Digimon X-Evolution': ['action, adventure, fantasy, sci-fi'],\n",
              " 'Arakawa Under the Bridge': ['comedy, romance, seinen',\n",
              "  'comedy, romance, seinen',\n",
              "  'comedy, romance, seinen'],\n",
              " 'Tsukuyomi: Moon Phase': ['comedy, fantasy, romance, seinen, vampire',\n",
              "  'comedy, fantasy, romance, seinen, vampire'],\n",
              " 'Gun x Sword': ['action, adventure, drama, mecha, sci-fi, shounen',\n",
              "  'action, adventure, drama, mecha, sci-fi, shounen',\n",
              "  'action, adventure, drama, mecha, sci-fi, shounen'],\n",
              " 'Black Cat Special': ['action, comedy, shounen', 'action, comedy, shounen'],\n",
              " 'Kara no Kyoukai 7: Satsujin Kousatsu (Kou)': ['action, mystery, romance, supernatural, thriller',\n",
              "  'action, mystery, romance, supernatural, thriller'],\n",
              " 'Yuu☆Yuu☆Hakusho': ['action, comedy, demons, fantasy, martial arts, school, shounen'],\n",
              " 'Itsuka Tenma no Kuro Usagi': ['comedy, ecchi, romance, shounen, supernatural, vampire',\n",
              "  'comedy, ecchi, romance, shounen, supernatural, vampire',\n",
              "  'comedy, ecchi, romance, shounen, supernatural, vampire',\n",
              "  'comedy, ecchi, romance, shounen, supernatural, vampire'],\n",
              " 'Sakasama no Patema': ['sci-fi, seinen', 'sci-fi, seinen'],\n",
              " 'Initial D Fourth Stage': ['action, cars, drama, seinen, sports',\n",
              "  'action, cars, drama, seinen, sports',\n",
              "  'action, cars, drama, seinen, sports'],\n",
              " 'Dragon Ball Kai': ['action, adventure, comedy, fantasy, martial arts, shounen, super power',\n",
              "  'action, adventure, comedy, fantasy, martial arts, shounen, super power'],\n",
              " 'CLAMP in Wonderland': ['music', 'music'],\n",
              " 'Onegai☆Teacher': ['comedy, drama, romance, school, sci-fi'],\n",
              " 'Final Approach': ['comedy, drama, romance, slice of life',\n",
              "  'comedy, drama, romance, slice of life'],\n",
              " 'Mahou Shoujo Nante Mou Ii Desukara.': ['comedy, magic'],\n",
              " 'Shakugan no Shana Movie': ['action, fantasy, supernatural',\n",
              "  'action, fantasy, supernatural'],\n",
              " 'Dragon Ball Z Movie 06: Gekitotsu!! 100-oku Power no Senshi-tachi': ['adventure, comedy, fantasy, sci-fi, shounen',\n",
              "  'adventure, comedy, fantasy, sci-fi, shounen',\n",
              "  'adventure, comedy, fantasy, sci-fi, shounen'],\n",
              " 'Final Fantasy VII: Advent Children - Venice Film Festival Footage': ['action, drama, fantasy, sci-fi'],\n",
              " 'GetBackers': ['action, comedy, drama, mystery, shounen, super power, supernatural',\n",
              "  'action, comedy, drama, mystery, shounen, super power, supernatural',\n",
              "  'action, comedy, drama, mystery, shounen, super power, supernatural',\n",
              "  'action, comedy, drama, mystery, shounen, super power, supernatural'],\n",
              " 'Mangirl!: Asobu Henshuu Girl': ['comedy, slice of life'],\n",
              " 'Sankarea OVA': ['comedy, ecchi, horror, romance, shounen, supernatural',\n",
              "  'comedy, ecchi, horror, romance, shounen, supernatural'],\n",
              " 'Shin Angyo Onshi': ['action, fantasy'],\n",
              " 'Pokemon: Mewtwo no Gyakushuu': ['action, adventure, comedy, drama, fantasy, kids',\n",
              "  'action, adventure, comedy, drama, fantasy, kids',\n",
              "  'action, adventure, comedy, drama, fantasy, kids',\n",
              "  'action, adventure, comedy, drama, fantasy, kids',\n",
              "  'action, adventure, comedy, drama, fantasy, kids'],\n",
              " '11eyes: Momoiro Genmutan': ['comedy, ecchi, super power, supernatural',\n",
              "  'comedy, ecchi, super power, supernatural',\n",
              "  'comedy, ecchi, super power, supernatural'],\n",
              " 'Macross Flash Back 2012': ['drama, mecha, military, sci-fi',\n",
              "  'drama, mecha, military, sci-fi'],\n",
              " 'Dragon Ball Z Movie 10: Kiken na Futari! Super Senshi wa Nemurenai': ['action, adventure, comedy, demons, fantasy, martial arts, shounen, super power'],\n",
              " 'Nyan Koi!': ['comedy, harem, romance',\n",
              "  'comedy, harem, romance',\n",
              "  'comedy, harem, romance',\n",
              "  'comedy, harem, romance',\n",
              "  'comedy, harem, romance',\n",
              "  'comedy, harem, romance',\n",
              "  'comedy, harem, romance'],\n",
              " 'D.C.S.S: Da Capo Second Season Omake': ['comedy, harem, romance',\n",
              "  'comedy, harem, romance'],\n",
              " 'Gochuumon wa Usagi Desu ka??': ['comedy, slice of life',\n",
              "  'comedy, slice of life',\n",
              "  'comedy, slice of life'],\n",
              " 'Black Lagoon Omake': ['comedy', 'comedy'],\n",
              " 'Black★Rock Shooter (TV)': ['action, drama, school, slice of life',\n",
              "  'action, drama, school, slice of life'],\n",
              " 'Aoi Sekai no Chuushin de': ['action, adventure, ecchi, fantasy, parody, shounen'],\n",
              " 'Natsuyuki Rendezvous': ['drama, josei, romance, supernatural'],\n",
              " 'Mousou Dairinin': ['drama, mystery, police, psychological, supernatural, thriller',\n",
              "  'drama, mystery, police, psychological, supernatural, thriller',\n",
              "  'drama, mystery, police, psychological, supernatural, thriller'],\n",
              " 'Uta no☆Prince-sama♪ Maji Love 2000%': ['comedy, harem, music, romance, school, shoujo',\n",
              "  'comedy, harem, music, romance, school, shoujo',\n",
              "  'comedy, harem, music, romance, school, shoujo'],\n",
              " 'Neo Angelique Abyss: Second Age': ['adventure, fantasy, harem, shoujo',\n",
              "  'adventure, fantasy, harem, shoujo'],\n",
              " 'Prince of Stride: Alternative': ['sports'],\n",
              " 'Gunslinger Girl': ['action, drama, military, psychological, sci-fi'],\n",
              " 'Dragon Ball Z Special 1: Tatta Hitori no Saishuu Kessen': ['adventure, comedy, fantasy, sci-fi, shounen'],\n",
              " 'Moshidora': ['drama, sports', 'drama, sports', 'drama, sports'],\n",
              " 'Nazo no Kanojo X': ['ecchi, romance, school, seinen',\n",
              "  'ecchi, romance, school, seinen',\n",
              "  'ecchi, romance, school, seinen'],\n",
              " 'Dantalian no Shoka': ['action, historical, mystery, supernatural'],\n",
              " 'Prison School OVA': ['comedy, ecchi, romance, school, seinen',\n",
              "  'comedy, ecchi, romance, school, seinen'],\n",
              " 'Mahou Shoujo Lyrical Nanoha StrikerS': ['action, comedy, drama, magic, super power',\n",
              "  'action, comedy, drama, magic, super power'],\n",
              " 'Kekkai Sensen: Soresaemo Saitei de Saikou na Hibi': ['action, fantasy, shounen, super power, supernatural, vampire'],\n",
              " 'Ichiban Ushiro no Daimaou Specials': ['comedy, ecchi, fantasy, magic, shounen',\n",
              "  'comedy, ecchi, fantasy, magic, shounen'],\n",
              " 'Tsuyokiss': ['comedy, romance, school, slice of life'],\n",
              " 'Sukitte Ii na yo.': ['romance, school, shoujo',\n",
              "  'romance, school, shoujo',\n",
              "  'romance, school, shoujo',\n",
              "  'romance, school, shoujo',\n",
              "  'romance, school, shoujo',\n",
              "  'romance, school, shoujo',\n",
              "  'romance, school, shoujo'],\n",
              " 'Special A': ['comedy, romance, school, shoujo',\n",
              "  'comedy, romance, school, shoujo',\n",
              "  'comedy, romance, school, shoujo',\n",
              "  'comedy, romance, school, shoujo'],\n",
              " 'Pokemon: Bokutachi Pichu Brothers - Party wa Oosawagi! no Maki': ['adventure, comedy, fantasy, kids',\n",
              "  'adventure, comedy, fantasy, kids'],\n",
              " ...}"
            ]
          },
          "metadata": {
            "tags": []
          },
          "execution_count": 145
        }
      ]
    },
    {
      "cell_type": "code",
      "metadata": {
        "id": "VT9ggdclA9EY",
        "colab_type": "code",
        "colab": {}
      },
      "source": [
        "tags_list = list(tags.values())"
      ],
      "execution_count": 0,
      "outputs": []
    },
    {
      "cell_type": "code",
      "metadata": {
        "id": "E2XeKLuTBE4Q",
        "colab_type": "code",
        "outputId": "7c63cce4-faeb-4987-9c76-767824f909fa",
        "colab": {
          "base_uri": "https://localhost:8080/",
          "height": 330
        }
      },
      "source": [
        "tags_list[:5]"
      ],
      "execution_count": 147,
      "outputs": [
        {
          "output_type": "execute_result",
          "data": {
            "text/plain": [
              "[['comedy, romance, school',\n",
              "  'comedy, romance, school',\n",
              "  'comedy, romance, school',\n",
              "  'comedy, romance, school'],\n",
              " ['comedy, romance, slice of life', 'comedy, romance, slice of life'],\n",
              " ['action, drama, horror, mystery, psychological, supernatural'],\n",
              " ['action, adventure, comedy, fantasy, magic, sci-fi, shounen, super power',\n",
              "  'action, adventure, comedy, fantasy, magic, sci-fi, shounen, super power',\n",
              "  'action, adventure, comedy, fantasy, magic, sci-fi, shounen, super power',\n",
              "  'action, adventure, comedy, fantasy, magic, sci-fi, shounen, super power',\n",
              "  'action, adventure, comedy, fantasy, magic, sci-fi, shounen, super power',\n",
              "  'action, adventure, comedy, fantasy, magic, sci-fi, shounen, super power',\n",
              "  'action, adventure, comedy, fantasy, magic, sci-fi, shounen, super power',\n",
              "  'action, adventure, comedy, fantasy, magic, sci-fi, shounen, super power',\n",
              "  'action, adventure, comedy, fantasy, magic, sci-fi, shounen, super power',\n",
              "  'action, adventure, comedy, fantasy, magic, sci-fi, shounen, super power',\n",
              "  'action, adventure, comedy, fantasy, magic, sci-fi, shounen, super power'],\n",
              " ['comedy, josei, music, romance, slice of life',\n",
              "  'comedy, josei, music, romance, slice of life']]"
            ]
          },
          "metadata": {
            "tags": []
          },
          "execution_count": 147
        }
      ]
    },
    {
      "cell_type": "code",
      "metadata": {
        "id": "gr_fRsXFBHqM",
        "colab_type": "code",
        "colab": {}
      },
      "source": [
        "stopwords_list = stopwords.words('english')\n",
        "stopwords_list += list(string.punctuation)"
      ],
      "execution_count": 0,
      "outputs": []
    },
    {
      "cell_type": "code",
      "metadata": {
        "id": "U9QYmh6fBtB4",
        "colab_type": "code",
        "colab": {}
      },
      "source": [
        "def process_article(article):\n",
        "  article = ' '.join(article)\n",
        "\n",
        "  tokens = word_tokenize(article)\n",
        "  #word_tokenize splits the text into a list of strings that are separated based on spaces or apostrophes\n",
        "  tokens_2 = []\n",
        "  for token in tokens: \n",
        "    if token.lower() not in stopwords_list: \n",
        "      tokens_2.append(token.lower())\n",
        "\n",
        "  return tokens_2"
      ],
      "execution_count": 0,
      "outputs": []
    },
    {
      "cell_type": "code",
      "metadata": {
        "id": "KX8qW-U0E4zA",
        "colab_type": "code",
        "outputId": "022f94e9-a029-4846-92ca-b88d782cde9c",
        "colab": {
          "base_uri": "https://localhost:8080/",
          "height": 66
        }
      },
      "source": [
        "import nltk \n",
        "nltk.download('punkt')"
      ],
      "execution_count": 150,
      "outputs": [
        {
          "output_type": "stream",
          "text": [
            "[nltk_data] Downloading package punkt to /root/nltk_data...\n",
            "[nltk_data]   Unzipping tokenizers/punkt.zip.\n"
          ],
          "name": "stdout"
        },
        {
          "output_type": "execute_result",
          "data": {
            "text/plain": [
              "True"
            ]
          },
          "metadata": {
            "tags": []
          },
          "execution_count": 150
        }
      ]
    },
    {
      "cell_type": "code",
      "metadata": {
        "id": "h1lAy6JLErnN",
        "colab_type": "code",
        "colab": {}
      },
      "source": [
        "processed_tags = list(map(process_article, tags_list))"
      ],
      "execution_count": 0,
      "outputs": []
    },
    {
      "cell_type": "code",
      "metadata": {
        "id": "afEQ6SoKEz5U",
        "colab_type": "code",
        "outputId": "d3d19571-6455-41e6-cc72-a704e7ea646e",
        "colab": {
          "base_uri": "https://localhost:8080/",
          "height": 33
        }
      },
      "source": [
        "len(processed_tags)"
      ],
      "execution_count": 152,
      "outputs": [
        {
          "output_type": "execute_result",
          "data": {
            "text/plain": [
              "1973"
            ]
          },
          "metadata": {
            "tags": []
          },
          "execution_count": 152
        }
      ]
    },
    {
      "cell_type": "code",
      "metadata": {
        "id": "atZmhp6UFQca",
        "colab_type": "code",
        "outputId": "a7ffee9d-2d11-452a-8118-ebbf3caf90fa",
        "colab": {
          "base_uri": "https://localhost:8080/",
          "height": 1000
        }
      },
      "source": [
        "processed_tags[:5]"
      ],
      "execution_count": 153,
      "outputs": [
        {
          "output_type": "execute_result",
          "data": {
            "text/plain": [
              "[['comedy',\n",
              "  'romance',\n",
              "  'school',\n",
              "  'comedy',\n",
              "  'romance',\n",
              "  'school',\n",
              "  'comedy',\n",
              "  'romance',\n",
              "  'school',\n",
              "  'comedy',\n",
              "  'romance',\n",
              "  'school'],\n",
              " ['comedy', 'romance', 'slice', 'life', 'comedy', 'romance', 'slice', 'life'],\n",
              " ['action', 'drama', 'horror', 'mystery', 'psychological', 'supernatural'],\n",
              " ['action',\n",
              "  'adventure',\n",
              "  'comedy',\n",
              "  'fantasy',\n",
              "  'magic',\n",
              "  'sci-fi',\n",
              "  'shounen',\n",
              "  'super',\n",
              "  'power',\n",
              "  'action',\n",
              "  'adventure',\n",
              "  'comedy',\n",
              "  'fantasy',\n",
              "  'magic',\n",
              "  'sci-fi',\n",
              "  'shounen',\n",
              "  'super',\n",
              "  'power',\n",
              "  'action',\n",
              "  'adventure',\n",
              "  'comedy',\n",
              "  'fantasy',\n",
              "  'magic',\n",
              "  'sci-fi',\n",
              "  'shounen',\n",
              "  'super',\n",
              "  'power',\n",
              "  'action',\n",
              "  'adventure',\n",
              "  'comedy',\n",
              "  'fantasy',\n",
              "  'magic',\n",
              "  'sci-fi',\n",
              "  'shounen',\n",
              "  'super',\n",
              "  'power',\n",
              "  'action',\n",
              "  'adventure',\n",
              "  'comedy',\n",
              "  'fantasy',\n",
              "  'magic',\n",
              "  'sci-fi',\n",
              "  'shounen',\n",
              "  'super',\n",
              "  'power',\n",
              "  'action',\n",
              "  'adventure',\n",
              "  'comedy',\n",
              "  'fantasy',\n",
              "  'magic',\n",
              "  'sci-fi',\n",
              "  'shounen',\n",
              "  'super',\n",
              "  'power',\n",
              "  'action',\n",
              "  'adventure',\n",
              "  'comedy',\n",
              "  'fantasy',\n",
              "  'magic',\n",
              "  'sci-fi',\n",
              "  'shounen',\n",
              "  'super',\n",
              "  'power',\n",
              "  'action',\n",
              "  'adventure',\n",
              "  'comedy',\n",
              "  'fantasy',\n",
              "  'magic',\n",
              "  'sci-fi',\n",
              "  'shounen',\n",
              "  'super',\n",
              "  'power',\n",
              "  'action',\n",
              "  'adventure',\n",
              "  'comedy',\n",
              "  'fantasy',\n",
              "  'magic',\n",
              "  'sci-fi',\n",
              "  'shounen',\n",
              "  'super',\n",
              "  'power',\n",
              "  'action',\n",
              "  'adventure',\n",
              "  'comedy',\n",
              "  'fantasy',\n",
              "  'magic',\n",
              "  'sci-fi',\n",
              "  'shounen',\n",
              "  'super',\n",
              "  'power',\n",
              "  'action',\n",
              "  'adventure',\n",
              "  'comedy',\n",
              "  'fantasy',\n",
              "  'magic',\n",
              "  'sci-fi',\n",
              "  'shounen',\n",
              "  'super',\n",
              "  'power'],\n",
              " ['comedy',\n",
              "  'josei',\n",
              "  'music',\n",
              "  'romance',\n",
              "  'slice',\n",
              "  'life',\n",
              "  'comedy',\n",
              "  'josei',\n",
              "  'music',\n",
              "  'romance',\n",
              "  'slice',\n",
              "  'life']]"
            ]
          },
          "metadata": {
            "tags": []
          },
          "execution_count": 153
        }
      ]
    },
    {
      "cell_type": "code",
      "metadata": {
        "id": "Q_6LS_o6FTXk",
        "colab_type": "code",
        "colab": {}
      },
      "source": [
        "total_vocab = set()\n",
        "for doc in processed_tags: \n",
        "  total_vocab.update(doc)\n"
      ],
      "execution_count": 0,
      "outputs": []
    },
    {
      "cell_type": "code",
      "metadata": {
        "id": "0ClquiehFhg0",
        "colab_type": "code",
        "outputId": "bbb9b8e7-a7aa-4a6e-cbe9-b2152c41b514",
        "colab": {
          "base_uri": "https://localhost:8080/",
          "height": 33
        }
      },
      "source": [
        "len(total_vocab)"
      ],
      "execution_count": 155,
      "outputs": [
        {
          "output_type": "execute_result",
          "data": {
            "text/plain": [
              "45"
            ]
          },
          "metadata": {
            "tags": []
          },
          "execution_count": 155
        }
      ]
    },
    {
      "cell_type": "code",
      "metadata": {
        "id": "tqwYUfUMFzAP",
        "colab_type": "code",
        "colab": {}
      },
      "source": [
        "articles_concat = []\n",
        "for doc in processed_tags: \n",
        "  articles_concat += doc"
      ],
      "execution_count": 0,
      "outputs": []
    },
    {
      "cell_type": "code",
      "metadata": {
        "id": "tuOx3ED-FsXL",
        "colab_type": "code",
        "colab": {}
      },
      "source": [
        "freqdist = FreqDist(articles_concat)"
      ],
      "execution_count": 0,
      "outputs": []
    },
    {
      "cell_type": "code",
      "metadata": {
        "id": "OroR9ub8F6sq",
        "colab_type": "code",
        "outputId": "519df90d-67f5-4447-9a4c-1208e6a0f627",
        "colab": {
          "base_uri": "https://localhost:8080/",
          "height": 759
        }
      },
      "source": [
        "freqdist"
      ],
      "execution_count": 158,
      "outputs": [
        {
          "output_type": "execute_result",
          "data": {
            "text/plain": [
              "FreqDist({'action': 2112,\n",
              "          'adventure': 1121,\n",
              "          'ai': 49,\n",
              "          'arts': 161,\n",
              "          'cars': 14,\n",
              "          'comedy': 2463,\n",
              "          'dementia': 51,\n",
              "          'demons': 184,\n",
              "          'drama': 1367,\n",
              "          'ecchi': 621,\n",
              "          'fantasy': 1325,\n",
              "          'game': 125,\n",
              "          'harem': 481,\n",
              "          'hentai': 56,\n",
              "          'historical': 211,\n",
              "          'horror': 295,\n",
              "          'josei': 41,\n",
              "          'kids': 81,\n",
              "          'life': 734,\n",
              "          'magic': 511,\n",
              "          'martial': 161,\n",
              "          'mecha': 382,\n",
              "          'military': 297,\n",
              "          'music': 142,\n",
              "          'mystery': 574,\n",
              "          'parody': 177,\n",
              "          'police': 92,\n",
              "          'power': 498,\n",
              "          'psychological': 350,\n",
              "          'romance': 1618,\n",
              "          'samurai': 84,\n",
              "          'school': 1201,\n",
              "          'sci-fi': 1096,\n",
              "          'seinen': 505,\n",
              "          'shoujo': 326,\n",
              "          'shounen': 1223,\n",
              "          'slice': 734,\n",
              "          'space': 121,\n",
              "          'sports': 159,\n",
              "          'super': 498,\n",
              "          'supernatural': 1266,\n",
              "          'thriller': 224,\n",
              "          'vampire': 138,\n",
              "          'yaoi': 9,\n",
              "          'yuri': 7})"
            ]
          },
          "metadata": {
            "tags": []
          },
          "execution_count": 158
        }
      ]
    },
    {
      "cell_type": "code",
      "metadata": {
        "id": "HZOLoGKGF9FT",
        "colab_type": "code",
        "outputId": "b48b5502-92fd-4342-d239-1e3b197c235f",
        "colab": {
          "base_uri": "https://localhost:8080/",
          "height": 346
        }
      },
      "source": [
        "most_common_genre = freqdist.most_common(20)\n",
        "most_common_genre"
      ],
      "execution_count": 159,
      "outputs": [
        {
          "output_type": "execute_result",
          "data": {
            "text/plain": [
              "[('comedy', 2463),\n",
              " ('action', 2112),\n",
              " ('romance', 1618),\n",
              " ('drama', 1367),\n",
              " ('fantasy', 1325),\n",
              " ('supernatural', 1266),\n",
              " ('shounen', 1223),\n",
              " ('school', 1201),\n",
              " ('adventure', 1121),\n",
              " ('sci-fi', 1096),\n",
              " ('slice', 734),\n",
              " ('life', 734),\n",
              " ('ecchi', 621),\n",
              " ('mystery', 574),\n",
              " ('magic', 511),\n",
              " ('seinen', 505),\n",
              " ('super', 498),\n",
              " ('power', 498),\n",
              " ('harem', 481),\n",
              " ('mecha', 382)]"
            ]
          },
          "metadata": {
            "tags": []
          },
          "execution_count": 159
        }
      ]
    },
    {
      "cell_type": "code",
      "metadata": {
        "id": "9tk84BMXGM9b",
        "colab_type": "code",
        "outputId": "1cc2c814-7a8b-42e2-adff-66066943f2d4",
        "colab": {
          "base_uri": "https://localhost:8080/",
          "height": 744
        }
      },
      "source": [
        "plt.figure(figsize=(22,12))\n",
        "plt.bar([word[0] for word in most_common_genre], [word[1] for word in most_common_genre])\n",
        "plt.title(\"Most Popular Genre\", fontsize= 20)\n",
        "plt.xlabel(\"Genre\", fontsize=20)\n",
        "plt.ylabel(\"Total Number of Times Genre is Present in Anime Data\", fontsize=20)\n",
        "plt.show()"
      ],
      "execution_count": 177,
      "outputs": [
        {
          "output_type": "display_data",
          "data": {
            "image/png": "[encoded data removed]",
            "text/plain": [
              "<Figure size 1584x864 with 1 Axes>"
            ]
          },
          "metadata": {
            "tags": [],
            "needs_background": "light"
          }
        }
      ]
    },
    {
      "cell_type": "code",
      "metadata": {
        "id": "sHtRjs6-J1MI",
        "colab_type": "code",
        "colab": {}
      },
      "source": [
        "vectorizer = TfidfVectorizer(analyzer='word', ngram_range=(1,2), stop_words=stopwords_list)"
      ],
      "execution_count": 0,
      "outputs": []
    },
    {
      "cell_type": "code",
      "metadata": {
        "id": "snDw_LEiMwVC",
        "colab_type": "code",
        "colab": {}
      },
      "source": [
        "tags_list_2 = [' '.join(x) for x in tags_list]"
      ],
      "execution_count": 0,
      "outputs": []
    },
    {
      "cell_type": "code",
      "metadata": {
        "id": "SXaEnrr7M4Fq",
        "colab_type": "code",
        "colab": {}
      },
      "source": [
        "tf_idf_data_train = vectorizer.fit_transform(tags_list_2)"
      ],
      "execution_count": 0,
      "outputs": []
    },
    {
      "cell_type": "code",
      "metadata": {
        "id": "znZoGrGQNI9D",
        "colab_type": "code",
        "outputId": "011f2579-88cb-474f-d1c3-f1aa4346aa11",
        "colab": {
          "base_uri": "https://localhost:8080/",
          "height": 33
        }
      },
      "source": [
        "type(tf_idf_data_train)"
      ],
      "execution_count": 164,
      "outputs": [
        {
          "output_type": "execute_result",
          "data": {
            "text/plain": [
              "scipy.sparse.csr.csr_matrix"
            ]
          },
          "metadata": {
            "tags": []
          },
          "execution_count": 164
        }
      ]
    },
    {
      "cell_type": "code",
      "metadata": {
        "id": "uJAF2R1nNLew",
        "colab_type": "code",
        "outputId": "f7d1ff3b-fb2b-4a15-fd8c-fe8db0874fa6",
        "colab": {
          "base_uri": "https://localhost:8080/",
          "height": 33
        }
      },
      "source": [
        "tf_idf_data_train.shape"
      ],
      "execution_count": 165,
      "outputs": [
        {
          "output_type": "execute_result",
          "data": {
            "text/plain": [
              "(1973, 620)"
            ]
          },
          "metadata": {
            "tags": []
          },
          "execution_count": 165
        }
      ]
    },
    {
      "cell_type": "code",
      "metadata": {
        "id": "8naPo2jQNQGq",
        "colab_type": "code",
        "colab": {}
      },
      "source": [
        "#instantiate SVD\n",
        "svd = TruncatedSVD(n_components=500, n_iter=7, random_state=42)\n",
        "\n",
        "#fit and transform the vectorized tf-idf matrix \n",
        "tf_idf_data_train_svd = svd.fit_transform(tf_idf_data_train)"
      ],
      "execution_count": 0,
      "outputs": []
    },
    {
      "cell_type": "code",
      "metadata": {
        "id": "tcs1c7VgNtUS",
        "colab_type": "code",
        "outputId": "09fab948-3de2-4ea1-a3b3-09225cdc241f",
        "colab": {
          "base_uri": "https://localhost:8080/",
          "height": 33
        }
      },
      "source": [
        "print(svd.explained_variance_ratio_.sum())"
      ],
      "execution_count": 167,
      "outputs": [
        {
          "output_type": "stream",
          "text": [
            "0.9963323734982424\n"
          ],
          "name": "stdout"
        }
      ]
    },
    {
      "cell_type": "code",
      "metadata": {
        "id": "1tCjX-h3N-Za",
        "colab_type": "code",
        "colab": {}
      },
      "source": [
        "#overfit?"
      ],
      "execution_count": 0,
      "outputs": []
    },
    {
      "cell_type": "markdown",
      "metadata": {
        "id": "W6SbTMCGOlw-",
        "colab_type": "text"
      },
      "source": [
        "# Calculating the similarities between anime with TF-IDF"
      ]
    },
    {
      "cell_type": "markdown",
      "metadata": {
        "id": "lHB2DkGnOwkJ",
        "colab_type": "text"
      },
      "source": [
        "We are going to perform calculations on the tf-idf matrices that were created above by calculating the dot product for each pairing. This will be equivalent to the cosine similarity score. For tf_idf we will be using sklearn's linear_kernel to obtain this. "
      ]
    },
    {
      "cell_type": "code",
      "metadata": {
        "id": "7TBeBNY4Ovm-",
        "colab_type": "code",
        "colab": {}
      },
      "source": [
        "cosine_sim = linear_kernel(tf_idf_data_train_svd, tf_idf_data_train_svd)"
      ],
      "execution_count": 0,
      "outputs": []
    },
    {
      "cell_type": "code",
      "metadata": {
        "id": "s86La_TtPjI6",
        "colab_type": "code",
        "outputId": "d2cea549-6d91-4992-a0cf-0a27be802814",
        "colab": {
          "base_uri": "https://localhost:8080/",
          "height": 33
        }
      },
      "source": [
        "cosine_sim.shape"
      ],
      "execution_count": 170,
      "outputs": [
        {
          "output_type": "execute_result",
          "data": {
            "text/plain": [
              "(1973, 1973)"
            ]
          },
          "metadata": {
            "tags": []
          },
          "execution_count": 170
        }
      ]
    },
    {
      "cell_type": "code",
      "metadata": {
        "id": "RCQgWEm8TEzk",
        "colab_type": "code",
        "colab": {}
      },
      "source": [
        "anime_2 = sample.reset_index()\n",
        "\n",
        "#extract all unique anime titles\n",
        "anime_id_tag = anime_2['anime_id']\n",
        "\n",
        "#goal is to extract the anime that correspond to its position within the tf idf vectorizer matrix,\n",
        "# which we will take similarity scores from later\n",
        "indices = pd.Series(anime_2.index, index=sample['anime_id'])"
      ],
      "execution_count": 0,
      "outputs": []
    },
    {
      "cell_type": "code",
      "metadata": {
        "id": "PrMnIEFoUceB",
        "colab_type": "code",
        "colab": {}
      },
      "source": [
        "def get_most_similar_anime(animeid, n = 20):\n",
        "  #tf-idf vectorizer score will take anime name from any given id and pair it with the 50 most similar \n",
        "  idx = indices[animeid]\n",
        "  sim_scores = list(enumerate(cosine_sim[idx]))\n",
        "  sim_scores = sorted(sim_scores, key=lambda x: x[1], reverse=True)\n",
        "  sim_scores = sim_scores[0:n] #not going to do 0 to 51, this will be orginally specified\n",
        "\n",
        "  anime_indices = [i[0] for i in sim_scores]\n",
        "\n",
        "  recs = pd.DataFrame(columns= anime_2.columns)\n",
        "  for i in a_id.loc[anime_indices]:\n",
        "\n",
        "    if i != name: \n",
        "      recs = recs.append(anime_2[anime_2['anime_id'] == i])\n",
        "  return recs"
      ],
      "execution_count": 0,
      "outputs": []
    },
    {
      "cell_type": "code",
      "metadata": {
        "id": "t0oF6gCcXjlw",
        "colab_type": "code",
        "outputId": "3eb8b7d6-62a9-4072-fcbb-736a1ce91ca5",
        "colab": {
          "base_uri": "https://localhost:8080/",
          "height": 616
        }
      },
      "source": [
        "anime_2[anime_2['anime_id'] == 20]"
      ],
      "execution_count": 173,
      "outputs": [
        {
          "output_type": "execute_result",
          "data": {
            "text/html": [
              "<div>\n",
              "<style scoped>\n",
              "    .dataframe tbody tr th:only-of-type {\n",
              "        vertical-align: middle;\n",
              "    }\n",
              "\n",
              "    .dataframe tbody tr th {\n",
              "        vertical-align: top;\n",
              "    }\n",
              "\n",
              "    .dataframe thead th {\n",
              "        text-align: right;\n",
              "    }\n",
              "</style>\n",
              "<table border=\"1\" class=\"dataframe\">\n",
              "  <thead>\n",
              "    <tr style=\"text-align: right;\">\n",
              "      <th></th>\n",
              "      <th>index</th>\n",
              "      <th>anime_id</th>\n",
              "      <th>name</th>\n",
              "      <th>genre</th>\n",
              "      <th>type</th>\n",
              "      <th>episodes</th>\n",
              "      <th>rating_x</th>\n",
              "      <th>members</th>\n",
              "      <th>user_id</th>\n",
              "      <th>rating_y</th>\n",
              "    </tr>\n",
              "  </thead>\n",
              "  <tbody>\n",
              "    <tr>\n",
              "      <th>421</th>\n",
              "      <td>462060</td>\n",
              "      <td>20</td>\n",
              "      <td>Naruto</td>\n",
              "      <td>Action, Comedy, Martial Arts, Shounen, Super P...</td>\n",
              "      <td>TV</td>\n",
              "      <td>220</td>\n",
              "      <td>8</td>\n",
              "      <td>683297</td>\n",
              "      <td>3598</td>\n",
              "      <td>7.0</td>\n",
              "    </tr>\n",
              "    <tr>\n",
              "      <th>452</th>\n",
              "      <td>464363</td>\n",
              "      <td>20</td>\n",
              "      <td>Naruto</td>\n",
              "      <td>Action, Comedy, Martial Arts, Shounen, Super P...</td>\n",
              "      <td>TV</td>\n",
              "      <td>220</td>\n",
              "      <td>8</td>\n",
              "      <td>683297</td>\n",
              "      <td>9950</td>\n",
              "      <td>8.0</td>\n",
              "    </tr>\n",
              "    <tr>\n",
              "      <th>991</th>\n",
              "      <td>464475</td>\n",
              "      <td>20</td>\n",
              "      <td>Naruto</td>\n",
              "      <td>Action, Comedy, Martial Arts, Shounen, Super P...</td>\n",
              "      <td>TV</td>\n",
              "      <td>220</td>\n",
              "      <td>8</td>\n",
              "      <td>683297</td>\n",
              "      <td>10278</td>\n",
              "      <td>9.0</td>\n",
              "    </tr>\n",
              "    <tr>\n",
              "      <th>1274</th>\n",
              "      <td>464552</td>\n",
              "      <td>20</td>\n",
              "      <td>Naruto</td>\n",
              "      <td>Action, Comedy, Martial Arts, Shounen, Super P...</td>\n",
              "      <td>TV</td>\n",
              "      <td>220</td>\n",
              "      <td>8</td>\n",
              "      <td>683297</td>\n",
              "      <td>10477</td>\n",
              "      <td>6.0</td>\n",
              "    </tr>\n",
              "    <tr>\n",
              "      <th>1700</th>\n",
              "      <td>464226</td>\n",
              "      <td>20</td>\n",
              "      <td>Naruto</td>\n",
              "      <td>Action, Comedy, Martial Arts, Shounen, Super P...</td>\n",
              "      <td>TV</td>\n",
              "      <td>220</td>\n",
              "      <td>8</td>\n",
              "      <td>683297</td>\n",
              "      <td>9471</td>\n",
              "      <td>7.0</td>\n",
              "    </tr>\n",
              "    <tr>\n",
              "      <th>2035</th>\n",
              "      <td>463494</td>\n",
              "      <td>20</td>\n",
              "      <td>Naruto</td>\n",
              "      <td>Action, Comedy, Martial Arts, Shounen, Super P...</td>\n",
              "      <td>TV</td>\n",
              "      <td>220</td>\n",
              "      <td>8</td>\n",
              "      <td>683297</td>\n",
              "      <td>7337</td>\n",
              "      <td>7.0</td>\n",
              "    </tr>\n",
              "    <tr>\n",
              "      <th>2125</th>\n",
              "      <td>461848</td>\n",
              "      <td>20</td>\n",
              "      <td>Naruto</td>\n",
              "      <td>Action, Comedy, Martial Arts, Shounen, Super P...</td>\n",
              "      <td>TV</td>\n",
              "      <td>220</td>\n",
              "      <td>8</td>\n",
              "      <td>683297</td>\n",
              "      <td>2986</td>\n",
              "      <td>10.0</td>\n",
              "    </tr>\n",
              "    <tr>\n",
              "      <th>2230</th>\n",
              "      <td>463252</td>\n",
              "      <td>20</td>\n",
              "      <td>Naruto</td>\n",
              "      <td>Action, Comedy, Martial Arts, Shounen, Super P...</td>\n",
              "      <td>TV</td>\n",
              "      <td>220</td>\n",
              "      <td>8</td>\n",
              "      <td>683297</td>\n",
              "      <td>6758</td>\n",
              "      <td>7.0</td>\n",
              "    </tr>\n",
              "    <tr>\n",
              "      <th>2452</th>\n",
              "      <td>463246</td>\n",
              "      <td>20</td>\n",
              "      <td>Naruto</td>\n",
              "      <td>Action, Comedy, Martial Arts, Shounen, Super P...</td>\n",
              "      <td>TV</td>\n",
              "      <td>220</td>\n",
              "      <td>8</td>\n",
              "      <td>683297</td>\n",
              "      <td>6743</td>\n",
              "      <td>6.0</td>\n",
              "    </tr>\n",
              "    <tr>\n",
              "      <th>2496</th>\n",
              "      <td>463456</td>\n",
              "      <td>20</td>\n",
              "      <td>Naruto</td>\n",
              "      <td>Action, Comedy, Martial Arts, Shounen, Super P...</td>\n",
              "      <td>TV</td>\n",
              "      <td>220</td>\n",
              "      <td>8</td>\n",
              "      <td>683297</td>\n",
              "      <td>7238</td>\n",
              "      <td>10.0</td>\n",
              "    </tr>\n",
              "    <tr>\n",
              "      <th>2503</th>\n",
              "      <td>461472</td>\n",
              "      <td>20</td>\n",
              "      <td>Naruto</td>\n",
              "      <td>Action, Comedy, Martial Arts, Shounen, Super P...</td>\n",
              "      <td>TV</td>\n",
              "      <td>220</td>\n",
              "      <td>8</td>\n",
              "      <td>683297</td>\n",
              "      <td>1901</td>\n",
              "      <td>8.0</td>\n",
              "    </tr>\n",
              "    <tr>\n",
              "      <th>2739</th>\n",
              "      <td>461157</td>\n",
              "      <td>20</td>\n",
              "      <td>Naruto</td>\n",
              "      <td>Action, Comedy, Martial Arts, Shounen, Super P...</td>\n",
              "      <td>TV</td>\n",
              "      <td>220</td>\n",
              "      <td>8</td>\n",
              "      <td>683297</td>\n",
              "      <td>1036</td>\n",
              "      <td>7.0</td>\n",
              "    </tr>\n",
              "    <tr>\n",
              "      <th>2819</th>\n",
              "      <td>463133</td>\n",
              "      <td>20</td>\n",
              "      <td>Naruto</td>\n",
              "      <td>Action, Comedy, Martial Arts, Shounen, Super P...</td>\n",
              "      <td>TV</td>\n",
              "      <td>220</td>\n",
              "      <td>8</td>\n",
              "      <td>683297</td>\n",
              "      <td>6434</td>\n",
              "      <td>7.0</td>\n",
              "    </tr>\n",
              "    <tr>\n",
              "      <th>3184</th>\n",
              "      <td>464558</td>\n",
              "      <td>20</td>\n",
              "      <td>Naruto</td>\n",
              "      <td>Action, Comedy, Martial Arts, Shounen, Super P...</td>\n",
              "      <td>TV</td>\n",
              "      <td>220</td>\n",
              "      <td>8</td>\n",
              "      <td>683297</td>\n",
              "      <td>10498</td>\n",
              "      <td>10.0</td>\n",
              "    </tr>\n",
              "    <tr>\n",
              "      <th>3208</th>\n",
              "      <td>463597</td>\n",
              "      <td>20</td>\n",
              "      <td>Naruto</td>\n",
              "      <td>Action, Comedy, Martial Arts, Shounen, Super P...</td>\n",
              "      <td>TV</td>\n",
              "      <td>220</td>\n",
              "      <td>8</td>\n",
              "      <td>683297</td>\n",
              "      <td>7595</td>\n",
              "      <td>10.0</td>\n",
              "    </tr>\n",
              "    <tr>\n",
              "      <th>3295</th>\n",
              "      <td>461351</td>\n",
              "      <td>20</td>\n",
              "      <td>Naruto</td>\n",
              "      <td>Action, Comedy, Martial Arts, Shounen, Super P...</td>\n",
              "      <td>TV</td>\n",
              "      <td>220</td>\n",
              "      <td>8</td>\n",
              "      <td>683297</td>\n",
              "      <td>1563</td>\n",
              "      <td>8.0</td>\n",
              "    </tr>\n",
              "    <tr>\n",
              "      <th>3392</th>\n",
              "      <td>462326</td>\n",
              "      <td>20</td>\n",
              "      <td>Naruto</td>\n",
              "      <td>Action, Comedy, Martial Arts, Shounen, Super P...</td>\n",
              "      <td>TV</td>\n",
              "      <td>220</td>\n",
              "      <td>8</td>\n",
              "      <td>683297</td>\n",
              "      <td>4358</td>\n",
              "      <td>7.0</td>\n",
              "    </tr>\n",
              "    <tr>\n",
              "      <th>4071</th>\n",
              "      <td>461413</td>\n",
              "      <td>20</td>\n",
              "      <td>Naruto</td>\n",
              "      <td>Action, Comedy, Martial Arts, Shounen, Super P...</td>\n",
              "      <td>TV</td>\n",
              "      <td>220</td>\n",
              "      <td>8</td>\n",
              "      <td>683297</td>\n",
              "      <td>1730</td>\n",
              "      <td>5.0</td>\n",
              "    </tr>\n",
              "    <tr>\n",
              "      <th>4285</th>\n",
              "      <td>463173</td>\n",
              "      <td>20</td>\n",
              "      <td>Naruto</td>\n",
              "      <td>Action, Comedy, Martial Arts, Shounen, Super P...</td>\n",
              "      <td>TV</td>\n",
              "      <td>220</td>\n",
              "      <td>8</td>\n",
              "      <td>683297</td>\n",
              "      <td>6538</td>\n",
              "      <td>8.0</td>\n",
              "    </tr>\n",
              "    <tr>\n",
              "      <th>4851</th>\n",
              "      <td>463588</td>\n",
              "      <td>20</td>\n",
              "      <td>Naruto</td>\n",
              "      <td>Action, Comedy, Martial Arts, Shounen, Super P...</td>\n",
              "      <td>TV</td>\n",
              "      <td>220</td>\n",
              "      <td>8</td>\n",
              "      <td>683297</td>\n",
              "      <td>7568</td>\n",
              "      <td>8.0</td>\n",
              "    </tr>\n",
              "  </tbody>\n",
              "</table>\n",
              "</div>"
            ],
            "text/plain": [
              "       index  anime_id    name  ... members user_id rating_y\n",
              "421   462060        20  Naruto  ...  683297    3598      7.0\n",
              "452   464363        20  Naruto  ...  683297    9950      8.0\n",
              "991   464475        20  Naruto  ...  683297   10278      9.0\n",
              "1274  464552        20  Naruto  ...  683297   10477      6.0\n",
              "1700  464226        20  Naruto  ...  683297    9471      7.0\n",
              "2035  463494        20  Naruto  ...  683297    7337      7.0\n",
              "2125  461848        20  Naruto  ...  683297    2986     10.0\n",
              "2230  463252        20  Naruto  ...  683297    6758      7.0\n",
              "2452  463246        20  Naruto  ...  683297    6743      6.0\n",
              "2496  463456        20  Naruto  ...  683297    7238     10.0\n",
              "2503  461472        20  Naruto  ...  683297    1901      8.0\n",
              "2739  461157        20  Naruto  ...  683297    1036      7.0\n",
              "2819  463133        20  Naruto  ...  683297    6434      7.0\n",
              "3184  464558        20  Naruto  ...  683297   10498     10.0\n",
              "3208  463597        20  Naruto  ...  683297    7595     10.0\n",
              "3295  461351        20  Naruto  ...  683297    1563      8.0\n",
              "3392  462326        20  Naruto  ...  683297    4358      7.0\n",
              "4071  461413        20  Naruto  ...  683297    1730      5.0\n",
              "4285  463173        20  Naruto  ...  683297    6538      8.0\n",
              "4851  463588        20  Naruto  ...  683297    7568      8.0\n",
              "\n",
              "[20 rows x 10 columns]"
            ]
          },
          "metadata": {
            "tags": []
          },
          "execution_count": 173
        }
      ]
    },
    {
      "cell_type": "code",
      "metadata": {
        "id": "D6N18q8aXqc0",
        "colab_type": "code",
        "outputId": "7a0bbca1-5e83-421a-c2c5-9ff1cbabe74d",
        "colab": {
          "base_uri": "https://localhost:8080/",
          "height": 277
        }
      },
      "source": [
        "get_most_similar_anime(20)"
      ],
      "execution_count": 174,
      "outputs": [
        {
          "output_type": "error",
          "ename": "IndexError",
          "evalue": "ignored",
          "traceback": [
            "\u001b[0;31m---------------------------------------------------------------------------\u001b[0m",
            "\u001b[0;31mIndexError\u001b[0m                                Traceback (most recent call last)",
            "\u001b[0;32m<ipython-input-174-1f5f6cf45a47>\u001b[0m in \u001b[0;36m<module>\u001b[0;34m()\u001b[0m\n\u001b[0;32m----> 1\u001b[0;31m \u001b[0mget_most_similar_anime\u001b[0m\u001b[0;34m(\u001b[0m\u001b[0;36m20\u001b[0m\u001b[0;34m)\u001b[0m\u001b[0;34m\u001b[0m\u001b[0;34m\u001b[0m\u001b[0m\n\u001b[0m",
            "\u001b[0;32m<ipython-input-172-9af80e60a045>\u001b[0m in \u001b[0;36mget_most_similar_anime\u001b[0;34m(animeid, n)\u001b[0m\n\u001b[1;32m      2\u001b[0m   \u001b[0;31m#tf-idf vectorizer score will take anime name from any given id and pair it with the 50 most similar\u001b[0m\u001b[0;34m\u001b[0m\u001b[0;34m\u001b[0m\u001b[0;34m\u001b[0m\u001b[0m\n\u001b[1;32m      3\u001b[0m   \u001b[0midx\u001b[0m \u001b[0;34m=\u001b[0m \u001b[0mindices\u001b[0m\u001b[0;34m[\u001b[0m\u001b[0manimeid\u001b[0m\u001b[0;34m]\u001b[0m\u001b[0;34m\u001b[0m\u001b[0;34m\u001b[0m\u001b[0m\n\u001b[0;32m----> 4\u001b[0;31m   \u001b[0msim_scores\u001b[0m \u001b[0;34m=\u001b[0m \u001b[0mlist\u001b[0m\u001b[0;34m(\u001b[0m\u001b[0menumerate\u001b[0m\u001b[0;34m(\u001b[0m\u001b[0mcosine_sim\u001b[0m\u001b[0;34m[\u001b[0m\u001b[0midx\u001b[0m\u001b[0;34m]\u001b[0m\u001b[0;34m)\u001b[0m\u001b[0;34m)\u001b[0m\u001b[0;34m\u001b[0m\u001b[0;34m\u001b[0m\u001b[0m\n\u001b[0m\u001b[1;32m      5\u001b[0m   \u001b[0msim_scores\u001b[0m \u001b[0;34m=\u001b[0m \u001b[0msorted\u001b[0m\u001b[0;34m(\u001b[0m\u001b[0msim_scores\u001b[0m\u001b[0;34m,\u001b[0m \u001b[0mkey\u001b[0m\u001b[0;34m=\u001b[0m\u001b[0;32mlambda\u001b[0m \u001b[0mx\u001b[0m\u001b[0;34m:\u001b[0m \u001b[0mx\u001b[0m\u001b[0;34m[\u001b[0m\u001b[0;36m1\u001b[0m\u001b[0;34m]\u001b[0m\u001b[0;34m,\u001b[0m \u001b[0mreverse\u001b[0m\u001b[0;34m=\u001b[0m\u001b[0;32mTrue\u001b[0m\u001b[0;34m)\u001b[0m\u001b[0;34m\u001b[0m\u001b[0;34m\u001b[0m\u001b[0m\n\u001b[1;32m      6\u001b[0m   \u001b[0msim_scores\u001b[0m \u001b[0;34m=\u001b[0m \u001b[0msim_scores\u001b[0m\u001b[0;34m[\u001b[0m\u001b[0;36m0\u001b[0m\u001b[0;34m:\u001b[0m\u001b[0mn\u001b[0m\u001b[0;34m]\u001b[0m \u001b[0;31m#not going to do 0 to 51, this will be orginally specified\u001b[0m\u001b[0;34m\u001b[0m\u001b[0;34m\u001b[0m\u001b[0m\n",
            "\u001b[0;31mIndexError\u001b[0m: index 2035 is out of bounds for axis 0 with size 1973"
          ]
        }
      ]
    },
    {
      "cell_type": "code",
      "metadata": {
        "id": "YqhIij_5auk5",
        "colab_type": "code",
        "colab": {}
      },
      "source": [
        ""
      ],
      "execution_count": 0,
      "outputs": []
    }
  ]
}