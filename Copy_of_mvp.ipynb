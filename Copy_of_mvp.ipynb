{
  "nbformat": 4,
  "nbformat_minor": 0,
  "metadata": {
    "kernelspec": {
      "display_name": "Python 3",
      "language": "python",
      "name": "python3"
    },
    "language_info": {
      "codemirror_mode": {
        "name": "ipython",
        "version": 3
      },
      "file_extension": ".py",
      "mimetype": "text/x-python",
      "name": "python",
      "nbconvert_exporter": "python",
      "pygments_lexer": "ipython3",
      "version": "3.7.4"
    },
    "colab": {
      "name": "Copy of mvp.ipynb",
      "provenance": [],
      "collapsed_sections": [
        "d6KwN2bv3w0d",
        "ezLPlX8_nE-C",
        "bm8R-omFo8rS",
        "LdId9mGNnE-b"
      ],
      "include_colab_link": true
    }
  },
  "cells": [
    {
      "cell_type": "markdown",
      "metadata": {
        "id": "view-in-github",
        "colab_type": "text"
      },
      "source": [
        "<a href=\"https://colab.research.google.com/github/anilaq/capstone/blob/master/Copy_of_mvp.ipynb\" target=\"_parent\"><img src=\"https://colab.research.google.com/assets/colab-badge.svg\" alt=\"Open In Colab\"/></a>"
      ]
    },
    {
      "cell_type": "markdown",
      "metadata": {
        "id": "JRwjDJo7WVPN",
        "colab_type": "text"
      },
      "source": [
        "## Covid19 has affected each and everyone of us globally. Since many countries have shut their borders and have ordered everyone to stay home, this has limited all of us. The confinement has created a surge in consumers streaming more entertainnment. It is not just Netflix that is seeing an increase in user traffic. Most European countries have been in lockdown for over 60 days, this includes bank holidays and half term holidays and easter for those who have children. By now most of us have already watched most of recommended shows on all streaming sites and need to find something new. ##\n",
        "## Anime, is a hand drawn and computer animation originating from Japan which is widely drawn a cult following around the world. The animation industry consists of more than 430 companies. Some of the most popular anime that has come to Western television is Pokemon and Yugi-Oh .\"Spirited Away\" a film created by Hayao Miyazaki and animated by Studio Ghibli is the highest grossing film within the anime genre. The reason it became so popular in the west is because a good friend of Miyazaki convinced him to sell distribution rights to Walt Disney. Like Spirited Away, there are thousands of really good anime films and shows produced by the same animation house. Due to the pandemic a nice way to bring such works of art into Disney plus or any streaming site in the West I have created a recommendation system that can help anyone or any company to view/add the highest rated anime. The Japan External Trade Organization has valued overseas sales to $18 billion($5.2 billion for the US alone) in 2004. This has likely grown. With covid19 looming over Japan which has caused one of the first long term recessions for the country. A way at which potential growth could take place is focusing on streaming and producing more of the top recommended. \n",
        "\n",
        "## Below I am creating a recommendation system for anime. This will help with the above problem and can help to create more in demand anime that is similar. It can also help anyone who is not familiar with the niche genre to quickly find the best ones. (Helping to grow the market).\n",
        "\n",
        "## I have downloaded anime and user ratings from https://www.kaggle.com/CooperUnion/anime-recommendations-database . I will conduct exploratory data analysis to familiarise the reader and myself with the data presented. From there I have created a baseline model using Singular Value Decomposition(SVD). PLEASE NOTE THE BASELINE MODEL IS TOWARDS THE BOTTOM. I will then do memory based models which will look at user based v item based. Then I will take the top performing model and evaluate its root mean squared error (rmse) and its mean absolute error (mae). "
      ]
    },
    {
      "cell_type": "code",
      "metadata": {
        "id": "9PfsXpFmoAQW",
        "colab_type": "code",
        "outputId": "8042538b-05b1-4e0d-9853-a29bca1b3f4c",
        "colab": {
          "base_uri": "https://localhost:8080/",
          "height": 297
        }
      },
      "source": [
        "!pip install surprise"
      ],
      "execution_count": 1,
      "outputs": [
        {
          "output_type": "stream",
          "text": [
            "Collecting surprise\n",
            "  Downloading https://files.pythonhosted.org/packages/61/de/e5cba8682201fcf9c3719a6fdda95693468ed061945493dea2dd37c5618b/surprise-0.1-py2.py3-none-any.whl\n",
            "Collecting scikit-surprise\n",
            "\u001b[?25l  Downloading https://files.pythonhosted.org/packages/f5/da/b5700d96495fb4f092be497f02492768a3d96a3f4fa2ae7dea46d4081cfa/scikit-surprise-1.1.0.tar.gz (6.4MB)\n",
            "\u001b[K     |████████████████████████████████| 6.5MB 2.6MB/s \n",
            "\u001b[?25hRequirement already satisfied: joblib>=0.11 in /usr/local/lib/python3.6/dist-packages (from scikit-surprise->surprise) (0.14.1)\n",
            "Requirement already satisfied: numpy>=1.11.2 in /usr/local/lib/python3.6/dist-packages (from scikit-surprise->surprise) (1.18.4)\n",
            "Requirement already satisfied: scipy>=1.0.0 in /usr/local/lib/python3.6/dist-packages (from scikit-surprise->surprise) (1.4.1)\n",
            "Requirement already satisfied: six>=1.10.0 in /usr/local/lib/python3.6/dist-packages (from scikit-surprise->surprise) (1.12.0)\n",
            "Building wheels for collected packages: scikit-surprise\n",
            "  Building wheel for scikit-surprise (setup.py) ... \u001b[?25l\u001b[?25hdone\n",
            "  Created wheel for scikit-surprise: filename=scikit_surprise-1.1.0-cp36-cp36m-linux_x86_64.whl size=1673670 sha256=376b20cf46743ae153e25e2c12fbf8f0f3e7e94f80fd8300c275ae70178be929\n",
            "  Stored in directory: /root/.cache/pip/wheels/cc/fa/8c/16c93fccce688ae1bde7d979ff102f7bee980d9cfeb8641bcf\n",
            "Successfully built scikit-surprise\n",
            "Installing collected packages: scikit-surprise, surprise\n",
            "Successfully installed scikit-surprise-1.1.0 surprise-0.1\n"
          ],
          "name": "stdout"
        }
      ]
    },
    {
      "cell_type": "code",
      "metadata": {
        "id": "ChfTrW0qnE7C",
        "colab_type": "code",
        "outputId": "92e88013-a485-4539-910e-26e618a58a40",
        "colab": {
          "base_uri": "https://localhost:8080/",
          "height": 70
        }
      },
      "source": [
        "import pandas as pd \n",
        "\n",
        "import numpy as np \n",
        "\n",
        "import random\n",
        "from random import randint\n",
        "\n",
        "import matplotlib.pyplot as plt \n",
        "%matplotlib inline \n",
        "import seaborn as sns \n",
        "\n",
        "from scipy.sparse import csc_matrix\n",
        "from scipy.sparse.linalg import svds \n",
        "\n",
        "from surprise.model_selection import train_test_split\n",
        "from surprise.model_selection import GridSearchCV\n",
        "from surprise.model_selection import cross_validate\n",
        "\n",
        "from surprise.prediction_algorithms import KNNWithMeans, KNNBasic, KNNBaseline\n",
        "\n",
        "from surprise.prediction_algorithms import knns\n",
        "from surprise.prediction_algorithms import SVD\n",
        "\n",
        "from surprise.similarities import cosine, msd, pearson\n",
        "\n",
        "from surprise import accuracy \n",
        "from surprise import Reader\n",
        "from surprise import Dataset\n",
        "from surprise import dataset\n",
        "\n"
      ],
      "execution_count": 2,
      "outputs": [
        {
          "output_type": "stream",
          "text": [
            "/usr/local/lib/python3.6/dist-packages/statsmodels/tools/_testing.py:19: FutureWarning: pandas.util.testing is deprecated. Use the functions in the public API at pandas.testing instead.\n",
            "  import pandas.util.testing as tm\n"
          ],
          "name": "stderr"
        }
      ]
    },
    {
      "cell_type": "markdown",
      "metadata": {
        "id": "I7eIpDS9nE7K",
        "colab_type": "text"
      },
      "source": [
        "# Preprocessing"
      ]
    },
    {
      "cell_type": "code",
      "metadata": {
        "id": "NHfdwhF9nE7L",
        "colab_type": "code",
        "outputId": "c3d0d9e4-e400-4829-bc51-adc4bfad3bb4",
        "colab": {
          "base_uri": "https://localhost:8080/",
          "height": 191
        }
      },
      "source": [
        "anime_df = pd.read_csv('./anime.csv')\n",
        "anime_df.head()"
      ],
      "execution_count": 3,
      "outputs": [
        {
          "output_type": "execute_result",
          "data": {
            "text/html": [
              "<div>\n",
              "<style scoped>\n",
              "    .dataframe tbody tr th:only-of-type {\n",
              "        vertical-align: middle;\n",
              "    }\n",
              "\n",
              "    .dataframe tbody tr th {\n",
              "        vertical-align: top;\n",
              "    }\n",
              "\n",
              "    .dataframe thead th {\n",
              "        text-align: right;\n",
              "    }\n",
              "</style>\n",
              "<table border=\"1\" class=\"dataframe\">\n",
              "  <thead>\n",
              "    <tr style=\"text-align: right;\">\n",
              "      <th></th>\n",
              "      <th>anime_id</th>\n",
              "      <th>name</th>\n",
              "      <th>genre</th>\n",
              "      <th>type</th>\n",
              "      <th>episodes</th>\n",
              "      <th>rating</th>\n",
              "      <th>members</th>\n",
              "    </tr>\n",
              "  </thead>\n",
              "  <tbody>\n",
              "    <tr>\n",
              "      <th>0</th>\n",
              "      <td>32281</td>\n",
              "      <td>Kimi no Na wa.</td>\n",
              "      <td>Drama, Romance, School, Supernatural</td>\n",
              "      <td>Movie</td>\n",
              "      <td>1</td>\n",
              "      <td>9.37</td>\n",
              "      <td>200630</td>\n",
              "    </tr>\n",
              "    <tr>\n",
              "      <th>1</th>\n",
              "      <td>5114</td>\n",
              "      <td>Fullmetal Alchemist: Brotherhood</td>\n",
              "      <td>Action, Adventure, Drama, Fantasy, Magic, Mili...</td>\n",
              "      <td>TV</td>\n",
              "      <td>64</td>\n",
              "      <td>9.26</td>\n",
              "      <td>793665</td>\n",
              "    </tr>\n",
              "    <tr>\n",
              "      <th>2</th>\n",
              "      <td>28977</td>\n",
              "      <td>Gintama°</td>\n",
              "      <td>Action, Comedy, Historical, Parody, Samurai, S...</td>\n",
              "      <td>TV</td>\n",
              "      <td>51</td>\n",
              "      <td>9.25</td>\n",
              "      <td>114262</td>\n",
              "    </tr>\n",
              "    <tr>\n",
              "      <th>3</th>\n",
              "      <td>9253</td>\n",
              "      <td>Steins;Gate</td>\n",
              "      <td>Sci-Fi, Thriller</td>\n",
              "      <td>TV</td>\n",
              "      <td>24</td>\n",
              "      <td>9.17</td>\n",
              "      <td>673572</td>\n",
              "    </tr>\n",
              "    <tr>\n",
              "      <th>4</th>\n",
              "      <td>9969</td>\n",
              "      <td>Gintama&amp;#039;</td>\n",
              "      <td>Action, Comedy, Historical, Parody, Samurai, S...</td>\n",
              "      <td>TV</td>\n",
              "      <td>51</td>\n",
              "      <td>9.16</td>\n",
              "      <td>151266</td>\n",
              "    </tr>\n",
              "  </tbody>\n",
              "</table>\n",
              "</div>"
            ],
            "text/plain": [
              "   anime_id                              name  ... rating members\n",
              "0     32281                    Kimi no Na wa.  ...   9.37  200630\n",
              "1      5114  Fullmetal Alchemist: Brotherhood  ...   9.26  793665\n",
              "2     28977                          Gintama°  ...   9.25  114262\n",
              "3      9253                       Steins;Gate  ...   9.17  673572\n",
              "4      9969                     Gintama&#039;  ...   9.16  151266\n",
              "\n",
              "[5 rows x 7 columns]"
            ]
          },
          "metadata": {
            "tags": []
          },
          "execution_count": 3
        }
      ]
    },
    {
      "cell_type": "code",
      "metadata": {
        "id": "CCz2v-bvnE7P",
        "colab_type": "code",
        "colab": {
          "base_uri": "https://localhost:8080/",
          "height": 33
        },
        "outputId": "5ffa870a-acf9-478c-f2b2-3086e8ebea15"
      },
      "source": [
        "anime_df.shape"
      ],
      "execution_count": 4,
      "outputs": [
        {
          "output_type": "execute_result",
          "data": {
            "text/plain": [
              "(12294, 7)"
            ]
          },
          "metadata": {
            "tags": []
          },
          "execution_count": 4
        }
      ]
    },
    {
      "cell_type": "code",
      "metadata": {
        "id": "Bw37JW7onE7S",
        "colab_type": "code",
        "colab": {}
      },
      "source": [
        "anime_df.dropna(inplace=True)"
      ],
      "execution_count": 0,
      "outputs": []
    },
    {
      "cell_type": "markdown",
      "metadata": {
        "id": "zRex0VC0HkT_",
        "colab_type": "text"
      },
      "source": [
        "*** There are 12,294 rows above, and need to drop any null values ***"
      ]
    },
    {
      "cell_type": "code",
      "metadata": {
        "id": "iZR714pMnE7X",
        "colab_type": "code",
        "colab": {
          "base_uri": "https://localhost:8080/",
          "height": 33
        },
        "outputId": "bca81ce0-914d-45d6-a020-541ec577c541"
      },
      "source": [
        "anime_df.shape #this seemed to have reduced it down a bit"
      ],
      "execution_count": 7,
      "outputs": [
        {
          "output_type": "execute_result",
          "data": {
            "text/plain": [
              "(12017, 7)"
            ]
          },
          "metadata": {
            "tags": []
          },
          "execution_count": 7
        }
      ]
    },
    {
      "cell_type": "markdown",
      "metadata": {
        "id": "VEuzf9T3nE7a",
        "colab_type": "text"
      },
      "source": [
        "## What each column represents: \n",
        "***anime_id: id number for each anime title***<br>\n",
        "***name:  title of the motion picture***<br>\n",
        "***genre:  category***<br>\n",
        "***type:  describes the anime into tv, movies, OVA, and 3 other categories***<br>\n",
        "***episodes: total number of episodes ***<br>\n",
        "***rating: -1-10, lowest to highest*** <br>\n",
        "***members:  number of community members that are in this anime group***<br>"
      ]
    },
    {
      "cell_type": "code",
      "metadata": {
        "scrolled": false,
        "id": "7n-5UeYcnE7b",
        "colab_type": "code",
        "colab": {
          "base_uri": "https://localhost:8080/",
          "height": 245
        },
        "outputId": "d7f44318-cbd6-4fe0-bc0f-3a8a4932df75"
      },
      "source": [
        "anime_df.info() #having a look at all of the columns and types from the above cell and current to remove \n",
        "#any unneccessary extraneous data"
      ],
      "execution_count": 8,
      "outputs": [
        {
          "output_type": "stream",
          "text": [
            "<class 'pandas.core.frame.DataFrame'>\n",
            "Int64Index: 12017 entries, 0 to 12293\n",
            "Data columns (total 7 columns):\n",
            " #   Column    Non-Null Count  Dtype  \n",
            "---  ------    --------------  -----  \n",
            " 0   anime_id  12017 non-null  int64  \n",
            " 1   name      12017 non-null  object \n",
            " 2   genre     12017 non-null  object \n",
            " 3   type      12017 non-null  object \n",
            " 4   episodes  12017 non-null  object \n",
            " 5   rating    12017 non-null  float64\n",
            " 6   members   12017 non-null  int64  \n",
            "dtypes: float64(1), int64(2), object(4)\n",
            "memory usage: 751.1+ KB\n"
          ],
          "name": "stdout"
        }
      ]
    },
    {
      "cell_type": "code",
      "metadata": {
        "id": "gurWbtWbnE7f",
        "colab_type": "code",
        "colab": {
          "base_uri": "https://localhost:8080/",
          "height": 191
        },
        "outputId": "035841f8-ec29-4991-8f84-96d262f09874"
      },
      "source": [
        "rating_df = pd.read_csv('./rating.csv')\n",
        "rating_df.head()"
      ],
      "execution_count": 9,
      "outputs": [
        {
          "output_type": "execute_result",
          "data": {
            "text/html": [
              "<div>\n",
              "<style scoped>\n",
              "    .dataframe tbody tr th:only-of-type {\n",
              "        vertical-align: middle;\n",
              "    }\n",
              "\n",
              "    .dataframe tbody tr th {\n",
              "        vertical-align: top;\n",
              "    }\n",
              "\n",
              "    .dataframe thead th {\n",
              "        text-align: right;\n",
              "    }\n",
              "</style>\n",
              "<table border=\"1\" class=\"dataframe\">\n",
              "  <thead>\n",
              "    <tr style=\"text-align: right;\">\n",
              "      <th></th>\n",
              "      <th>user_id</th>\n",
              "      <th>anime_id</th>\n",
              "      <th>rating</th>\n",
              "    </tr>\n",
              "  </thead>\n",
              "  <tbody>\n",
              "    <tr>\n",
              "      <th>0</th>\n",
              "      <td>1</td>\n",
              "      <td>20</td>\n",
              "      <td>-1.0</td>\n",
              "    </tr>\n",
              "    <tr>\n",
              "      <th>1</th>\n",
              "      <td>1</td>\n",
              "      <td>24</td>\n",
              "      <td>-1.0</td>\n",
              "    </tr>\n",
              "    <tr>\n",
              "      <th>2</th>\n",
              "      <td>1</td>\n",
              "      <td>79</td>\n",
              "      <td>-1.0</td>\n",
              "    </tr>\n",
              "    <tr>\n",
              "      <th>3</th>\n",
              "      <td>1</td>\n",
              "      <td>226</td>\n",
              "      <td>-1.0</td>\n",
              "    </tr>\n",
              "    <tr>\n",
              "      <th>4</th>\n",
              "      <td>1</td>\n",
              "      <td>241</td>\n",
              "      <td>-1.0</td>\n",
              "    </tr>\n",
              "  </tbody>\n",
              "</table>\n",
              "</div>"
            ],
            "text/plain": [
              "   user_id  anime_id  rating\n",
              "0        1        20    -1.0\n",
              "1        1        24    -1.0\n",
              "2        1        79    -1.0\n",
              "3        1       226    -1.0\n",
              "4        1       241    -1.0"
            ]
          },
          "metadata": {
            "tags": []
          },
          "execution_count": 9
        }
      ]
    },
    {
      "cell_type": "markdown",
      "metadata": {
        "id": "00Wv0TO6nE7i",
        "colab_type": "text"
      },
      "source": [
        "## What each column represents: \n",
        "*** user_id: non-identifiable randomly generated user id*** <br>\n",
        "*** anime_id: the anime that the user has rated *** <br>\n",
        "*** rating: rating out of 10 this user has assigned (-1 if the user watched it but didn't assign a rating) ***"
      ]
    },
    {
      "cell_type": "code",
      "metadata": {
        "id": "YRvEEgPwnE7j",
        "colab_type": "code",
        "colab": {
          "base_uri": "https://localhost:8080/",
          "height": 33
        },
        "outputId": "262d2a6f-3870-4dc3-ac9d-63c10f107c09"
      },
      "source": [
        "rating_df.shape"
      ],
      "execution_count": 10,
      "outputs": [
        {
          "output_type": "execute_result",
          "data": {
            "text/plain": [
              "(4067567, 3)"
            ]
          },
          "metadata": {
            "tags": []
          },
          "execution_count": 10
        }
      ]
    },
    {
      "cell_type": "markdown",
      "metadata": {
        "id": "zfyipvl-nE7m",
        "colab_type": "text"
      },
      "source": [
        "Need to join both datasets together, will join using anime_id then hopefully will reshuffle the dataset so that it can be transformed into something that is compatible with `surprise`. "
      ]
    },
    {
      "cell_type": "markdown",
      "metadata": {
        "id": "w5gfCqZHnE7n",
        "colab_type": "text"
      },
      "source": [
        "I will join the two dataframes by merging them so that they can correspond to the correct anime_ids"
      ]
    },
    {
      "cell_type": "code",
      "metadata": {
        "id": "lYdfiBi3nE7n",
        "colab_type": "code",
        "colab": {
          "base_uri": "https://localhost:8080/",
          "height": 191
        },
        "outputId": "c77c023d-cb57-41ae-eb20-4e0e4fb3be0b"
      },
      "source": [
        "df_merge = pd.merge(anime_df, rating_df, on = 'anime_id')\n",
        "df_merge.head()\n",
        "# df_merge = df_row.merge(rating_df, left_on= 'anime_id', how='outer')\n",
        "# df_merge.head()"
      ],
      "execution_count": 11,
      "outputs": [
        {
          "output_type": "execute_result",
          "data": {
            "text/html": [
              "<div>\n",
              "<style scoped>\n",
              "    .dataframe tbody tr th:only-of-type {\n",
              "        vertical-align: middle;\n",
              "    }\n",
              "\n",
              "    .dataframe tbody tr th {\n",
              "        vertical-align: top;\n",
              "    }\n",
              "\n",
              "    .dataframe thead th {\n",
              "        text-align: right;\n",
              "    }\n",
              "</style>\n",
              "<table border=\"1\" class=\"dataframe\">\n",
              "  <thead>\n",
              "    <tr style=\"text-align: right;\">\n",
              "      <th></th>\n",
              "      <th>anime_id</th>\n",
              "      <th>name</th>\n",
              "      <th>genre</th>\n",
              "      <th>type</th>\n",
              "      <th>episodes</th>\n",
              "      <th>rating_x</th>\n",
              "      <th>members</th>\n",
              "      <th>user_id</th>\n",
              "      <th>rating_y</th>\n",
              "    </tr>\n",
              "  </thead>\n",
              "  <tbody>\n",
              "    <tr>\n",
              "      <th>0</th>\n",
              "      <td>32281</td>\n",
              "      <td>Kimi no Na wa.</td>\n",
              "      <td>Drama, Romance, School, Supernatural</td>\n",
              "      <td>Movie</td>\n",
              "      <td>1</td>\n",
              "      <td>9.37</td>\n",
              "      <td>200630</td>\n",
              "      <td>99</td>\n",
              "      <td>5.0</td>\n",
              "    </tr>\n",
              "    <tr>\n",
              "      <th>1</th>\n",
              "      <td>32281</td>\n",
              "      <td>Kimi no Na wa.</td>\n",
              "      <td>Drama, Romance, School, Supernatural</td>\n",
              "      <td>Movie</td>\n",
              "      <td>1</td>\n",
              "      <td>9.37</td>\n",
              "      <td>200630</td>\n",
              "      <td>152</td>\n",
              "      <td>10.0</td>\n",
              "    </tr>\n",
              "    <tr>\n",
              "      <th>2</th>\n",
              "      <td>32281</td>\n",
              "      <td>Kimi no Na wa.</td>\n",
              "      <td>Drama, Romance, School, Supernatural</td>\n",
              "      <td>Movie</td>\n",
              "      <td>1</td>\n",
              "      <td>9.37</td>\n",
              "      <td>200630</td>\n",
              "      <td>244</td>\n",
              "      <td>10.0</td>\n",
              "    </tr>\n",
              "    <tr>\n",
              "      <th>3</th>\n",
              "      <td>32281</td>\n",
              "      <td>Kimi no Na wa.</td>\n",
              "      <td>Drama, Romance, School, Supernatural</td>\n",
              "      <td>Movie</td>\n",
              "      <td>1</td>\n",
              "      <td>9.37</td>\n",
              "      <td>200630</td>\n",
              "      <td>271</td>\n",
              "      <td>10.0</td>\n",
              "    </tr>\n",
              "    <tr>\n",
              "      <th>4</th>\n",
              "      <td>32281</td>\n",
              "      <td>Kimi no Na wa.</td>\n",
              "      <td>Drama, Romance, School, Supernatural</td>\n",
              "      <td>Movie</td>\n",
              "      <td>1</td>\n",
              "      <td>9.37</td>\n",
              "      <td>200630</td>\n",
              "      <td>278</td>\n",
              "      <td>-1.0</td>\n",
              "    </tr>\n",
              "  </tbody>\n",
              "</table>\n",
              "</div>"
            ],
            "text/plain": [
              "   anime_id            name  ... user_id rating_y\n",
              "0     32281  Kimi no Na wa.  ...      99      5.0\n",
              "1     32281  Kimi no Na wa.  ...     152     10.0\n",
              "2     32281  Kimi no Na wa.  ...     244     10.0\n",
              "3     32281  Kimi no Na wa.  ...     271     10.0\n",
              "4     32281  Kimi no Na wa.  ...     278     -1.0\n",
              "\n",
              "[5 rows x 9 columns]"
            ]
          },
          "metadata": {
            "tags": []
          },
          "execution_count": 11
        }
      ]
    },
    {
      "cell_type": "code",
      "metadata": {
        "id": "Yz5pF8ipnE7r",
        "colab_type": "code",
        "colab": {
          "base_uri": "https://localhost:8080/",
          "height": 33
        },
        "outputId": "ba670280-1859-4574-e00b-fc8d2518e3ad"
      },
      "source": [
        "df_merge.shape "
      ],
      "execution_count": 12,
      "outputs": [
        {
          "output_type": "execute_result",
          "data": {
            "text/plain": [
              "(4067495, 9)"
            ]
          },
          "metadata": {
            "tags": []
          },
          "execution_count": 12
        }
      ]
    },
    {
      "cell_type": "markdown",
      "metadata": {
        "id": "JBoqWn0YnE7u",
        "colab_type": "text"
      },
      "source": [
        "*** The data here is extremely large. Because I will be using Singular Value Decomposition (SVD) which is known to be computationally expensive I will be taking a large sample from the 7.8 million rows. Before taking a sample I will remove the -1 ratings from the dataset since these don't really count as reviews ***"
      ]
    },
    {
      "cell_type": "code",
      "metadata": {
        "id": "u9btPEKGnE7w",
        "colab_type": "code",
        "colab": {
          "base_uri": "https://localhost:8080/",
          "height": 33
        },
        "outputId": "c44df69b-d8f5-4c48-91b7-d28ec8abbefd"
      },
      "source": [
        "df_merge.rating_x.min()"
      ],
      "execution_count": 13,
      "outputs": [
        {
          "output_type": "execute_result",
          "data": {
            "text/plain": [
              "1.92"
            ]
          },
          "metadata": {
            "tags": []
          },
          "execution_count": 13
        }
      ]
    },
    {
      "cell_type": "code",
      "metadata": {
        "id": "fnl1XOx-nE71",
        "colab_type": "code",
        "colab": {
          "base_uri": "https://localhost:8080/",
          "height": 191
        },
        "outputId": "2366f49f-c4f3-4066-f83c-6760376f123f"
      },
      "source": [
        "df_merge = df_merge[df_merge.rating_y != -1]\n",
        "df_merge.head()"
      ],
      "execution_count": 14,
      "outputs": [
        {
          "output_type": "execute_result",
          "data": {
            "text/html": [
              "<div>\n",
              "<style scoped>\n",
              "    .dataframe tbody tr th:only-of-type {\n",
              "        vertical-align: middle;\n",
              "    }\n",
              "\n",
              "    .dataframe tbody tr th {\n",
              "        vertical-align: top;\n",
              "    }\n",
              "\n",
              "    .dataframe thead th {\n",
              "        text-align: right;\n",
              "    }\n",
              "</style>\n",
              "<table border=\"1\" class=\"dataframe\">\n",
              "  <thead>\n",
              "    <tr style=\"text-align: right;\">\n",
              "      <th></th>\n",
              "      <th>anime_id</th>\n",
              "      <th>name</th>\n",
              "      <th>genre</th>\n",
              "      <th>type</th>\n",
              "      <th>episodes</th>\n",
              "      <th>rating_x</th>\n",
              "      <th>members</th>\n",
              "      <th>user_id</th>\n",
              "      <th>rating_y</th>\n",
              "    </tr>\n",
              "  </thead>\n",
              "  <tbody>\n",
              "    <tr>\n",
              "      <th>0</th>\n",
              "      <td>32281</td>\n",
              "      <td>Kimi no Na wa.</td>\n",
              "      <td>Drama, Romance, School, Supernatural</td>\n",
              "      <td>Movie</td>\n",
              "      <td>1</td>\n",
              "      <td>9.37</td>\n",
              "      <td>200630</td>\n",
              "      <td>99</td>\n",
              "      <td>5.0</td>\n",
              "    </tr>\n",
              "    <tr>\n",
              "      <th>1</th>\n",
              "      <td>32281</td>\n",
              "      <td>Kimi no Na wa.</td>\n",
              "      <td>Drama, Romance, School, Supernatural</td>\n",
              "      <td>Movie</td>\n",
              "      <td>1</td>\n",
              "      <td>9.37</td>\n",
              "      <td>200630</td>\n",
              "      <td>152</td>\n",
              "      <td>10.0</td>\n",
              "    </tr>\n",
              "    <tr>\n",
              "      <th>2</th>\n",
              "      <td>32281</td>\n",
              "      <td>Kimi no Na wa.</td>\n",
              "      <td>Drama, Romance, School, Supernatural</td>\n",
              "      <td>Movie</td>\n",
              "      <td>1</td>\n",
              "      <td>9.37</td>\n",
              "      <td>200630</td>\n",
              "      <td>244</td>\n",
              "      <td>10.0</td>\n",
              "    </tr>\n",
              "    <tr>\n",
              "      <th>3</th>\n",
              "      <td>32281</td>\n",
              "      <td>Kimi no Na wa.</td>\n",
              "      <td>Drama, Romance, School, Supernatural</td>\n",
              "      <td>Movie</td>\n",
              "      <td>1</td>\n",
              "      <td>9.37</td>\n",
              "      <td>200630</td>\n",
              "      <td>271</td>\n",
              "      <td>10.0</td>\n",
              "    </tr>\n",
              "    <tr>\n",
              "      <th>5</th>\n",
              "      <td>32281</td>\n",
              "      <td>Kimi no Na wa.</td>\n",
              "      <td>Drama, Romance, School, Supernatural</td>\n",
              "      <td>Movie</td>\n",
              "      <td>1</td>\n",
              "      <td>9.37</td>\n",
              "      <td>200630</td>\n",
              "      <td>322</td>\n",
              "      <td>10.0</td>\n",
              "    </tr>\n",
              "  </tbody>\n",
              "</table>\n",
              "</div>"
            ],
            "text/plain": [
              "   anime_id            name  ... user_id rating_y\n",
              "0     32281  Kimi no Na wa.  ...      99      5.0\n",
              "1     32281  Kimi no Na wa.  ...     152     10.0\n",
              "2     32281  Kimi no Na wa.  ...     244     10.0\n",
              "3     32281  Kimi no Na wa.  ...     271     10.0\n",
              "5     32281  Kimi no Na wa.  ...     322     10.0\n",
              "\n",
              "[5 rows x 9 columns]"
            ]
          },
          "metadata": {
            "tags": []
          },
          "execution_count": 14
        }
      ]
    },
    {
      "cell_type": "code",
      "metadata": {
        "id": "yitglC3mnE74",
        "colab_type": "code",
        "colab": {
          "base_uri": "https://localhost:8080/",
          "height": 33
        },
        "outputId": "5e6da72d-50ac-4395-e750-a3c87737bd0a"
      },
      "source": [
        "df_merge.shape #have removed over 1 million rows"
      ],
      "execution_count": 15,
      "outputs": [
        {
          "output_type": "execute_result",
          "data": {
            "text/plain": [
              "(3295312, 9)"
            ]
          },
          "metadata": {
            "tags": []
          },
          "execution_count": 15
        }
      ]
    },
    {
      "cell_type": "code",
      "metadata": {
        "id": "y24yLQ0unE77",
        "colab_type": "code",
        "colab": {
          "base_uri": "https://localhost:8080/",
          "height": 33
        },
        "outputId": "29f6dd2b-c769-4915-ffad-501225df4c94"
      },
      "source": [
        "sample = df_merge.sample(frac=.25)\n",
        "sample.shape # this is still too large"
      ],
      "execution_count": 16,
      "outputs": [
        {
          "output_type": "execute_result",
          "data": {
            "text/plain": [
              "(823828, 9)"
            ]
          },
          "metadata": {
            "tags": []
          },
          "execution_count": 16
        }
      ]
    },
    {
      "cell_type": "code",
      "metadata": {
        "id": "Grn2w_aMnE79",
        "colab_type": "code",
        "colab": {
          "base_uri": "https://localhost:8080/",
          "height": 33
        },
        "outputId": "5c70469b-9c64-4e54-9102-74a1422b77d9"
      },
      "source": [
        "sample = df_merge.sample(n=5000)\n",
        "sample.shape #below I conduct SVD and it cannot handle anything larger than 5000 (i've tried)"
      ],
      "execution_count": 18,
      "outputs": [
        {
          "output_type": "execute_result",
          "data": {
            "text/plain": [
              "(5000, 9)"
            ]
          },
          "metadata": {
            "tags": []
          },
          "execution_count": 18
        }
      ]
    },
    {
      "cell_type": "markdown",
      "metadata": {
        "id": "g8zOlE5OnE8B",
        "colab_type": "text"
      },
      "source": [
        "### IT SEEMS THAT THE RATING DF IS BASED ON EACH USER AND THEIR INDIVIDUAL RATING FOR EACH ANIME ID, WHEREAS THE ANIME DF IS AN AVERAGE OVERALL RATING FROM ALL OF ITS VIEWERS"
      ]
    },
    {
      "cell_type": "code",
      "metadata": {
        "id": "L7UMnckMnE8B",
        "colab_type": "code",
        "colab": {
          "base_uri": "https://localhost:8080/",
          "height": 391
        },
        "outputId": "0fa5dd03-52b8-4773-d8e8-51a9850ac64a"
      },
      "source": [
        "#we are going to look at how many times each rating appears in a column\n",
        "ratings_x = sample['rating_x'].value_counts() #continuous \n",
        "ratings_y = sample['rating_y'].value_counts() #discrete\n",
        "\n",
        "print(ratings_x)\n",
        "print(ratings_y)"
      ],
      "execution_count": 19,
      "outputs": [
        {
          "output_type": "stream",
          "text": [
            "7.95    64\n",
            "7.81    58\n",
            "7.83    56\n",
            "7.87    56\n",
            "7.44    55\n",
            "        ..\n",
            "5.70     1\n",
            "5.30     1\n",
            "4.42     1\n",
            "6.60     1\n",
            "5.98     1\n",
            "Name: rating_x, Length: 330, dtype: int64\n",
            "8.0     1288\n",
            "7.0     1139\n",
            "9.0     1024\n",
            "10.0     766\n",
            "6.0      451\n",
            "5.0      187\n",
            "4.0       84\n",
            "3.0       29\n",
            "2.0       19\n",
            "1.0       13\n",
            "Name: rating_y, dtype: int64\n"
          ],
          "name": "stdout"
        }
      ]
    },
    {
      "cell_type": "code",
      "metadata": {
        "id": "-Ql1kmgLbhig",
        "colab_type": "code",
        "colab": {
          "base_uri": "https://localhost:8080/",
          "height": 191
        },
        "outputId": "64250459-bbfd-44b6-d280-4c0f31570b49"
      },
      "source": [
        "sample.rating_x = sample.rating_x.apply(round) #another important feature i have had to add is making all ratings discrete for SVD\n",
        "sample.head()"
      ],
      "execution_count": 20,
      "outputs": [
        {
          "output_type": "execute_result",
          "data": {
            "text/html": [
              "<div>\n",
              "<style scoped>\n",
              "    .dataframe tbody tr th:only-of-type {\n",
              "        vertical-align: middle;\n",
              "    }\n",
              "\n",
              "    .dataframe tbody tr th {\n",
              "        vertical-align: top;\n",
              "    }\n",
              "\n",
              "    .dataframe thead th {\n",
              "        text-align: right;\n",
              "    }\n",
              "</style>\n",
              "<table border=\"1\" class=\"dataframe\">\n",
              "  <thead>\n",
              "    <tr style=\"text-align: right;\">\n",
              "      <th></th>\n",
              "      <th>anime_id</th>\n",
              "      <th>name</th>\n",
              "      <th>genre</th>\n",
              "      <th>type</th>\n",
              "      <th>episodes</th>\n",
              "      <th>rating_x</th>\n",
              "      <th>members</th>\n",
              "      <th>user_id</th>\n",
              "      <th>rating_y</th>\n",
              "    </tr>\n",
              "  </thead>\n",
              "  <tbody>\n",
              "    <tr>\n",
              "      <th>174658</th>\n",
              "      <td>11741</td>\n",
              "      <td>Fate/Zero 2nd Season</td>\n",
              "      <td>Action, Fantasy, Supernatural, Thriller</td>\n",
              "      <td>TV</td>\n",
              "      <td>12</td>\n",
              "      <td>9</td>\n",
              "      <td>340973</td>\n",
              "      <td>25989</td>\n",
              "      <td>8.0</td>\n",
              "    </tr>\n",
              "    <tr>\n",
              "      <th>1383796</th>\n",
              "      <td>9252</td>\n",
              "      <td>Break Blade 3: Kyoujin no Ato</td>\n",
              "      <td>Action, Fantasy, Mecha, Military, Shounen</td>\n",
              "      <td>Movie</td>\n",
              "      <td>1</td>\n",
              "      <td>8</td>\n",
              "      <td>42653</td>\n",
              "      <td>34954</td>\n",
              "      <td>9.0</td>\n",
              "    </tr>\n",
              "    <tr>\n",
              "      <th>3340016</th>\n",
              "      <td>174</td>\n",
              "      <td>Tenjou Tenge</td>\n",
              "      <td>Action, Comedy, Ecchi, Martial Arts, School, S...</td>\n",
              "      <td>TV</td>\n",
              "      <td>24</td>\n",
              "      <td>7</td>\n",
              "      <td>103449</td>\n",
              "      <td>28812</td>\n",
              "      <td>7.0</td>\n",
              "    </tr>\n",
              "    <tr>\n",
              "      <th>1039266</th>\n",
              "      <td>14807</td>\n",
              "      <td>Kara no Kyoukai: Mirai Fukuin</td>\n",
              "      <td>Drama, Mystery, Seinen, Supernatural</td>\n",
              "      <td>Movie</td>\n",
              "      <td>1</td>\n",
              "      <td>8</td>\n",
              "      <td>41168</td>\n",
              "      <td>24310</td>\n",
              "      <td>10.0</td>\n",
              "    </tr>\n",
              "    <tr>\n",
              "      <th>1128319</th>\n",
              "      <td>10620</td>\n",
              "      <td>Mirai Nikki (TV)</td>\n",
              "      <td>Action, Mystery, Psychological, Shounen, Super...</td>\n",
              "      <td>TV</td>\n",
              "      <td>26</td>\n",
              "      <td>8</td>\n",
              "      <td>657190</td>\n",
              "      <td>2532</td>\n",
              "      <td>9.0</td>\n",
              "    </tr>\n",
              "  </tbody>\n",
              "</table>\n",
              "</div>"
            ],
            "text/plain": [
              "         anime_id                           name  ... user_id rating_y\n",
              "174658      11741           Fate/Zero 2nd Season  ...   25989      8.0\n",
              "1383796      9252  Break Blade 3: Kyoujin no Ato  ...   34954      9.0\n",
              "3340016       174                   Tenjou Tenge  ...   28812      7.0\n",
              "1039266     14807  Kara no Kyoukai: Mirai Fukuin  ...   24310     10.0\n",
              "1128319     10620               Mirai Nikki (TV)  ...    2532      9.0\n",
              "\n",
              "[5 rows x 9 columns]"
            ]
          },
          "metadata": {
            "tags": []
          },
          "execution_count": 20
        }
      ]
    },
    {
      "cell_type": "markdown",
      "metadata": {
        "id": "mgbPY3xPnE8E",
        "colab_type": "text"
      },
      "source": [
        "## Distribution of User Ratings"
      ]
    },
    {
      "cell_type": "code",
      "metadata": {
        "id": "IA2yxK1WnE8F",
        "colab_type": "code",
        "colab": {
          "base_uri": "https://localhost:8080/",
          "height": 295
        },
        "outputId": "8ad926e5-f136-4991-ace5-8ef9170e28bf"
      },
      "source": [
        "# plot distribution in matplotlib\n",
        "ratings_sorted = sorted(list(zip(ratings_y.index, ratings_y)))\n",
        "plt.bar([r[0] for r in ratings_sorted], [r[1] for r in ratings_sorted], color='cyan')\n",
        "plt.xlabel(\"Rating\")\n",
        "plt.ylabel(\"# of Ratings\")\n",
        "plt.title(\"Distribution of Ratings\")\n",
        "plt.show()"
      ],
      "execution_count": 21,
      "outputs": [
        {
          "output_type": "display_data",
          "data": {
            "image/png": "[encoded data removed]",
            "text/plain": [
              "<Figure size 432x288 with 1 Axes>"
            ]
          },
          "metadata": {
            "tags": [],
            "needs_background": "light"
          }
        }
      ]
    },
    {
      "cell_type": "code",
      "metadata": {
        "id": "ZnsGfxacnE8I",
        "colab_type": "code",
        "colab": {
          "base_uri": "https://localhost:8080/",
          "height": 50
        },
        "outputId": "dd7de2a9-02ff-4391-ecd4-427c88776720"
      },
      "source": [
        "#number of users\n",
        "print(\"Number of Users:\", df_merge.user_id.nunique())\n",
        "# print(\"Average Number of Reviews per User:\", df_merge.shape[0])/df_merge.user_id.nunique()\n",
        "avg_rate_peruser = df_merge.shape[0]\n",
        "user = df_merge.user_id.nunique()\n",
        "avg_num_review_per_user = avg_rate_peruser/user\n",
        "print(\"Average Number of Reveiws per User:\", avg_num_review_per_user)"
      ],
      "execution_count": 22,
      "outputs": [
        {
          "output_type": "stream",
          "text": [
            "Number of Users: 36507\n",
            "Average Number of Reveiws per User: 90.26520941189361\n"
          ],
          "name": "stdout"
        }
      ]
    },
    {
      "cell_type": "code",
      "metadata": {
        "id": "qu-u8fNFnE8K",
        "colab_type": "code",
        "colab": {
          "base_uri": "https://localhost:8080/",
          "height": 212
        },
        "outputId": "7158dee4-1db8-429f-b6f2-5ac5152719b8"
      },
      "source": [
        "sample['user_id'].value_counts()"
      ],
      "execution_count": 23,
      "outputs": [
        {
          "output_type": "execute_result",
          "data": {
            "text/plain": [
              "27648    6\n",
              "22434    6\n",
              "16137    5\n",
              "32858    5\n",
              "3127     5\n",
              "        ..\n",
              "25726    1\n",
              "5244     1\n",
              "13432    1\n",
              "23669    1\n",
              "13831    1\n",
              "Name: user_id, Length: 4136, dtype: int64"
            ]
          },
          "metadata": {
            "tags": []
          },
          "execution_count": 23
        }
      ]
    },
    {
      "cell_type": "markdown",
      "metadata": {
        "id": "8d116UGcnE8O",
        "colab_type": "text"
      },
      "source": [
        "## Number of Reviews per User"
      ]
    },
    {
      "cell_type": "code",
      "metadata": {
        "id": "S_mG1r4wnE8O",
        "colab_type": "code",
        "colab": {
          "base_uri": "https://localhost:8080/",
          "height": 295
        },
        "outputId": "bebeabed-bd63-47e5-a342-4c019257123f"
      },
      "source": [
        "ratings_per_user = sample['user_id'].value_counts()\n",
        "ratings_per_user = sorted(list(zip(ratings_per_user.index, ratings_per_user)))\n",
        "plt.bar([r[0] for r in ratings_per_user], [r[1] for r in ratings_per_user], color='pink')\n",
        "plt.xlabel('User IDs')\n",
        "plt.ylabel('# of Reviews')\n",
        "plt.title('Number of Reviews per User')\n",
        "plt.show()"
      ],
      "execution_count": 24,
      "outputs": [
        {
          "output_type": "display_data",
          "data": {
            "image/png": "[encoded data removed]",
            "text/plain": [
              "<Figure size 432x288 with 1 Axes>"
            ]
          },
          "metadata": {
            "tags": [],
            "needs_background": "light"
          }
        }
      ]
    },
    {
      "cell_type": "code",
      "metadata": {
        "id": "Mk9oNKXOnE8R",
        "colab_type": "code",
        "colab": {}
      },
      "source": [
        "#graph on user ratings, what are the most common scores given "
      ],
      "execution_count": 0,
      "outputs": []
    },
    {
      "cell_type": "markdown",
      "metadata": {
        "id": "hxCnhlSmnE8T",
        "colab_type": "text"
      },
      "source": [
        "## Different types of anime videos"
      ]
    },
    {
      "cell_type": "code",
      "metadata": {
        "id": "bFHb0hWgnE8U",
        "colab_type": "code",
        "colab": {
          "base_uri": "https://localhost:8080/",
          "height": 163
        },
        "outputId": "a8fd671f-5970-44db-c7ab-1487669d3152"
      },
      "source": [
        "print(\"Number of users:\", sample.user_id.nunique())\n",
        "print(\"Number of types of different anime:\", sample.type.nunique())\n",
        "print(\"Types of type:\", sample.type.value_counts())"
      ],
      "execution_count": 26,
      "outputs": [
        {
          "output_type": "stream",
          "text": [
            "Number of users: 4136\n",
            "Number of types of different anime: 6\n",
            "Types of type: TV         3453\n",
            "Movie       666\n",
            "OVA         452\n",
            "Special     355\n",
            "ONA          66\n",
            "Music         8\n",
            "Name: type, dtype: int64\n"
          ],
          "name": "stdout"
        }
      ]
    },
    {
      "cell_type": "markdown",
      "metadata": {
        "id": "496-cXfEnE8W",
        "colab_type": "text"
      },
      "source": [
        "This means that there are six different categories for anime: <br>\n",
        "Movies, TV, OVA, Special, ONA and Music. <br>\n",
        "***OVA stands for orginal animation video, this has been released directly to the video market <br>\n",
        "Special is not a common occuring video, it is usually shot yearly or on a one off <br>\n",
        "Music is not just audio here, but a lively animated motion picture to go with the composed music piece ***"
      ]
    },
    {
      "cell_type": "code",
      "metadata": {
        "id": "lOjLNTOCnE8X",
        "colab_type": "code",
        "colab": {
          "base_uri": "https://localhost:8080/",
          "height": 391
        },
        "outputId": "9f6b3a3f-de00-4607-da6a-7c702e8e09e6"
      },
      "source": [
        "sample_of_sample = sample[:100] #taking a sample to see if its the amount of data or its the command given\n",
        "sample_of_sample"
      ],
      "execution_count": 27,
      "outputs": [
        {
          "output_type": "execute_result",
          "data": {
            "text/html": [
              "<div>\n",
              "<style scoped>\n",
              "    .dataframe tbody tr th:only-of-type {\n",
              "        vertical-align: middle;\n",
              "    }\n",
              "\n",
              "    .dataframe tbody tr th {\n",
              "        vertical-align: top;\n",
              "    }\n",
              "\n",
              "    .dataframe thead th {\n",
              "        text-align: right;\n",
              "    }\n",
              "</style>\n",
              "<table border=\"1\" class=\"dataframe\">\n",
              "  <thead>\n",
              "    <tr style=\"text-align: right;\">\n",
              "      <th></th>\n",
              "      <th>anime_id</th>\n",
              "      <th>name</th>\n",
              "      <th>genre</th>\n",
              "      <th>type</th>\n",
              "      <th>episodes</th>\n",
              "      <th>rating_x</th>\n",
              "      <th>members</th>\n",
              "      <th>user_id</th>\n",
              "      <th>rating_y</th>\n",
              "    </tr>\n",
              "  </thead>\n",
              "  <tbody>\n",
              "    <tr>\n",
              "      <th>174658</th>\n",
              "      <td>11741</td>\n",
              "      <td>Fate/Zero 2nd Season</td>\n",
              "      <td>Action, Fantasy, Supernatural, Thriller</td>\n",
              "      <td>TV</td>\n",
              "      <td>12</td>\n",
              "      <td>9</td>\n",
              "      <td>340973</td>\n",
              "      <td>25989</td>\n",
              "      <td>8.0</td>\n",
              "    </tr>\n",
              "    <tr>\n",
              "      <th>1383796</th>\n",
              "      <td>9252</td>\n",
              "      <td>Break Blade 3: Kyoujin no Ato</td>\n",
              "      <td>Action, Fantasy, Mecha, Military, Shounen</td>\n",
              "      <td>Movie</td>\n",
              "      <td>1</td>\n",
              "      <td>8</td>\n",
              "      <td>42653</td>\n",
              "      <td>34954</td>\n",
              "      <td>9.0</td>\n",
              "    </tr>\n",
              "    <tr>\n",
              "      <th>3340016</th>\n",
              "      <td>174</td>\n",
              "      <td>Tenjou Tenge</td>\n",
              "      <td>Action, Comedy, Ecchi, Martial Arts, School, S...</td>\n",
              "      <td>TV</td>\n",
              "      <td>24</td>\n",
              "      <td>7</td>\n",
              "      <td>103449</td>\n",
              "      <td>28812</td>\n",
              "      <td>7.0</td>\n",
              "    </tr>\n",
              "    <tr>\n",
              "      <th>1039266</th>\n",
              "      <td>14807</td>\n",
              "      <td>Kara no Kyoukai: Mirai Fukuin</td>\n",
              "      <td>Drama, Mystery, Seinen, Supernatural</td>\n",
              "      <td>Movie</td>\n",
              "      <td>1</td>\n",
              "      <td>8</td>\n",
              "      <td>41168</td>\n",
              "      <td>24310</td>\n",
              "      <td>10.0</td>\n",
              "    </tr>\n",
              "    <tr>\n",
              "      <th>1128319</th>\n",
              "      <td>10620</td>\n",
              "      <td>Mirai Nikki (TV)</td>\n",
              "      <td>Action, Mystery, Psychological, Shounen, Super...</td>\n",
              "      <td>TV</td>\n",
              "      <td>26</td>\n",
              "      <td>8</td>\n",
              "      <td>657190</td>\n",
              "      <td>2532</td>\n",
              "      <td>9.0</td>\n",
              "    </tr>\n",
              "    <tr>\n",
              "      <th>...</th>\n",
              "      <td>...</td>\n",
              "      <td>...</td>\n",
              "      <td>...</td>\n",
              "      <td>...</td>\n",
              "      <td>...</td>\n",
              "      <td>...</td>\n",
              "      <td>...</td>\n",
              "      <td>...</td>\n",
              "      <td>...</td>\n",
              "    </tr>\n",
              "    <tr>\n",
              "      <th>2907284</th>\n",
              "      <td>390</td>\n",
              "      <td>Suzuka</td>\n",
              "      <td>Drama, Romance, Sports</td>\n",
              "      <td>TV</td>\n",
              "      <td>26</td>\n",
              "      <td>7</td>\n",
              "      <td>64161</td>\n",
              "      <td>10365</td>\n",
              "      <td>8.0</td>\n",
              "    </tr>\n",
              "    <tr>\n",
              "      <th>1440941</th>\n",
              "      <td>17895</td>\n",
              "      <td>Golden Time</td>\n",
              "      <td>Comedy, Romance, Seinen</td>\n",
              "      <td>TV</td>\n",
              "      <td>24</td>\n",
              "      <td>8</td>\n",
              "      <td>273191</td>\n",
              "      <td>1169</td>\n",
              "      <td>9.0</td>\n",
              "    </tr>\n",
              "    <tr>\n",
              "      <th>716258</th>\n",
              "      <td>1519</td>\n",
              "      <td>Black Lagoon: The Second Barrage</td>\n",
              "      <td>Action, Seinen</td>\n",
              "      <td>TV</td>\n",
              "      <td>12</td>\n",
              "      <td>8</td>\n",
              "      <td>203233</td>\n",
              "      <td>24723</td>\n",
              "      <td>9.0</td>\n",
              "    </tr>\n",
              "    <tr>\n",
              "      <th>1952864</th>\n",
              "      <td>7647</td>\n",
              "      <td>Arakawa Under the Bridge</td>\n",
              "      <td>Comedy, Romance, Seinen</td>\n",
              "      <td>TV</td>\n",
              "      <td>13</td>\n",
              "      <td>8</td>\n",
              "      <td>162622</td>\n",
              "      <td>24859</td>\n",
              "      <td>7.0</td>\n",
              "    </tr>\n",
              "    <tr>\n",
              "      <th>3901623</th>\n",
              "      <td>818</td>\n",
              "      <td>Sakura Tsuushin</td>\n",
              "      <td>Comedy, Drama, Romance, Slice of Life</td>\n",
              "      <td>OVA</td>\n",
              "      <td>12</td>\n",
              "      <td>6</td>\n",
              "      <td>7342</td>\n",
              "      <td>5264</td>\n",
              "      <td>5.0</td>\n",
              "    </tr>\n",
              "  </tbody>\n",
              "</table>\n",
              "<p>100 rows × 9 columns</p>\n",
              "</div>"
            ],
            "text/plain": [
              "         anime_id                              name  ... user_id rating_y\n",
              "174658      11741              Fate/Zero 2nd Season  ...   25989      8.0\n",
              "1383796      9252     Break Blade 3: Kyoujin no Ato  ...   34954      9.0\n",
              "3340016       174                      Tenjou Tenge  ...   28812      7.0\n",
              "1039266     14807     Kara no Kyoukai: Mirai Fukuin  ...   24310     10.0\n",
              "1128319     10620                  Mirai Nikki (TV)  ...    2532      9.0\n",
              "...           ...                               ...  ...     ...      ...\n",
              "2907284       390                            Suzuka  ...   10365      8.0\n",
              "1440941     17895                       Golden Time  ...    1169      9.0\n",
              "716258       1519  Black Lagoon: The Second Barrage  ...   24723      9.0\n",
              "1952864      7647          Arakawa Under the Bridge  ...   24859      7.0\n",
              "3901623       818                   Sakura Tsuushin  ...    5264      5.0\n",
              "\n",
              "[100 rows x 9 columns]"
            ]
          },
          "metadata": {
            "tags": []
          },
          "execution_count": 27
        }
      ]
    },
    {
      "cell_type": "code",
      "metadata": {
        "id": "E3BluncInE8b",
        "colab_type": "code",
        "colab": {
          "base_uri": "https://localhost:8080/",
          "height": 423
        },
        "outputId": "cd7ffbca-5588-43b3-f39a-5df3770a0d42"
      },
      "source": [
        "sample.loc[sample['type'] == 'Movie']"
      ],
      "execution_count": 28,
      "outputs": [
        {
          "output_type": "execute_result",
          "data": {
            "text/html": [
              "<div>\n",
              "<style scoped>\n",
              "    .dataframe tbody tr th:only-of-type {\n",
              "        vertical-align: middle;\n",
              "    }\n",
              "\n",
              "    .dataframe tbody tr th {\n",
              "        vertical-align: top;\n",
              "    }\n",
              "\n",
              "    .dataframe thead th {\n",
              "        text-align: right;\n",
              "    }\n",
              "</style>\n",
              "<table border=\"1\" class=\"dataframe\">\n",
              "  <thead>\n",
              "    <tr style=\"text-align: right;\">\n",
              "      <th></th>\n",
              "      <th>anime_id</th>\n",
              "      <th>name</th>\n",
              "      <th>genre</th>\n",
              "      <th>type</th>\n",
              "      <th>episodes</th>\n",
              "      <th>rating_x</th>\n",
              "      <th>members</th>\n",
              "      <th>user_id</th>\n",
              "      <th>rating_y</th>\n",
              "    </tr>\n",
              "  </thead>\n",
              "  <tbody>\n",
              "    <tr>\n",
              "      <th>1383796</th>\n",
              "      <td>9252</td>\n",
              "      <td>Break Blade 3: Kyoujin no Ato</td>\n",
              "      <td>Action, Fantasy, Mecha, Military, Shounen</td>\n",
              "      <td>Movie</td>\n",
              "      <td>1</td>\n",
              "      <td>8</td>\n",
              "      <td>42653</td>\n",
              "      <td>34954</td>\n",
              "      <td>9.0</td>\n",
              "    </tr>\n",
              "    <tr>\n",
              "      <th>1039266</th>\n",
              "      <td>14807</td>\n",
              "      <td>Kara no Kyoukai: Mirai Fukuin</td>\n",
              "      <td>Drama, Mystery, Seinen, Supernatural</td>\n",
              "      <td>Movie</td>\n",
              "      <td>1</td>\n",
              "      <td>8</td>\n",
              "      <td>41168</td>\n",
              "      <td>24310</td>\n",
              "      <td>10.0</td>\n",
              "    </tr>\n",
              "    <tr>\n",
              "      <th>2931133</th>\n",
              "      <td>2386</td>\n",
              "      <td>One Piece: Yume no Soccer Ou!</td>\n",
              "      <td>Comedy, Fantasy, Shounen, Sports</td>\n",
              "      <td>Movie</td>\n",
              "      <td>1</td>\n",
              "      <td>7</td>\n",
              "      <td>23915</td>\n",
              "      <td>21841</td>\n",
              "      <td>8.0</td>\n",
              "    </tr>\n",
              "    <tr>\n",
              "      <th>590473</th>\n",
              "      <td>513</td>\n",
              "      <td>Tenkuu no Shiro Laputa</td>\n",
              "      <td>Adventure, Fantasy, Romance, Sci-Fi</td>\n",
              "      <td>Movie</td>\n",
              "      <td>1</td>\n",
              "      <td>8</td>\n",
              "      <td>151061</td>\n",
              "      <td>25913</td>\n",
              "      <td>6.0</td>\n",
              "    </tr>\n",
              "    <tr>\n",
              "      <th>476761</th>\n",
              "      <td>2236</td>\n",
              "      <td>Toki wo Kakeru Shoujo</td>\n",
              "      <td>Adventure, Drama, Romance, Sci-Fi</td>\n",
              "      <td>Movie</td>\n",
              "      <td>1</td>\n",
              "      <td>8</td>\n",
              "      <td>289206</td>\n",
              "      <td>30517</td>\n",
              "      <td>9.0</td>\n",
              "    </tr>\n",
              "    <tr>\n",
              "      <th>...</th>\n",
              "      <td>...</td>\n",
              "      <td>...</td>\n",
              "      <td>...</td>\n",
              "      <td>...</td>\n",
              "      <td>...</td>\n",
              "      <td>...</td>\n",
              "      <td>...</td>\n",
              "      <td>...</td>\n",
              "      <td>...</td>\n",
              "    </tr>\n",
              "    <tr>\n",
              "      <th>2733220</th>\n",
              "      <td>1030</td>\n",
              "      <td>Heisei Tanuki Gassen Ponpoko</td>\n",
              "      <td>Kids</td>\n",
              "      <td>Movie</td>\n",
              "      <td>1</td>\n",
              "      <td>7</td>\n",
              "      <td>34263</td>\n",
              "      <td>22039</td>\n",
              "      <td>4.0</td>\n",
              "    </tr>\n",
              "    <tr>\n",
              "      <th>3174529</th>\n",
              "      <td>2490</td>\n",
              "      <td>One Piece: Mezase! Kaizoku Yakyuu Ou</td>\n",
              "      <td>Comedy, Fantasy, Shounen, Sports</td>\n",
              "      <td>Movie</td>\n",
              "      <td>1</td>\n",
              "      <td>7</td>\n",
              "      <td>20054</td>\n",
              "      <td>28826</td>\n",
              "      <td>5.0</td>\n",
              "    </tr>\n",
              "    <tr>\n",
              "      <th>2428073</th>\n",
              "      <td>8246</td>\n",
              "      <td>Naruto: Shippuuden Movie 4 - The Lost Tower</td>\n",
              "      <td>Action, Comedy, Martial Arts, Shounen, Super P...</td>\n",
              "      <td>Movie</td>\n",
              "      <td>1</td>\n",
              "      <td>8</td>\n",
              "      <td>84527</td>\n",
              "      <td>28660</td>\n",
              "      <td>8.0</td>\n",
              "    </tr>\n",
              "    <tr>\n",
              "      <th>1950051</th>\n",
              "      <td>10716</td>\n",
              "      <td>Towa no Quon 5: Souzetsu no Raifuku</td>\n",
              "      <td>Action, Super Power, Supernatural</td>\n",
              "      <td>Movie</td>\n",
              "      <td>1</td>\n",
              "      <td>8</td>\n",
              "      <td>18060</td>\n",
              "      <td>11432</td>\n",
              "      <td>9.0</td>\n",
              "    </tr>\n",
              "    <tr>\n",
              "      <th>2513987</th>\n",
              "      <td>6325</td>\n",
              "      <td>Naruto: Shippuuden Movie 3 - Hi no Ishi wo Tsu...</td>\n",
              "      <td>Action, Comedy, Martial Arts, Shounen, Super P...</td>\n",
              "      <td>Movie</td>\n",
              "      <td>1</td>\n",
              "      <td>8</td>\n",
              "      <td>83515</td>\n",
              "      <td>36372</td>\n",
              "      <td>8.0</td>\n",
              "    </tr>\n",
              "  </tbody>\n",
              "</table>\n",
              "<p>666 rows × 9 columns</p>\n",
              "</div>"
            ],
            "text/plain": [
              "         anime_id  ... rating_y\n",
              "1383796      9252  ...      9.0\n",
              "1039266     14807  ...     10.0\n",
              "2931133      2386  ...      8.0\n",
              "590473        513  ...      6.0\n",
              "476761       2236  ...      9.0\n",
              "...           ...  ...      ...\n",
              "2733220      1030  ...      4.0\n",
              "3174529      2490  ...      5.0\n",
              "2428073      8246  ...      8.0\n",
              "1950051     10716  ...      9.0\n",
              "2513987      6325  ...      8.0\n",
              "\n",
              "[666 rows x 9 columns]"
            ]
          },
          "metadata": {
            "tags": []
          },
          "execution_count": 28
        }
      ]
    },
    {
      "cell_type": "code",
      "metadata": {
        "id": "HBuoD77PnE8e",
        "colab_type": "code",
        "colab": {
          "base_uri": "https://localhost:8080/",
          "height": 33
        },
        "outputId": "1730bff4-cbb7-4498-847f-f09578543738"
      },
      "source": [
        "len(sample.loc[sample['type'] == 'TV']) #How many tv shows there are in the dataframe"
      ],
      "execution_count": 29,
      "outputs": [
        {
          "output_type": "execute_result",
          "data": {
            "text/plain": [
              "3453"
            ]
          },
          "metadata": {
            "tags": []
          },
          "execution_count": 29
        }
      ]
    },
    {
      "cell_type": "code",
      "metadata": {
        "id": "RCsbBlBWnE8h",
        "colab_type": "code",
        "colab": {
          "base_uri": "https://localhost:8080/",
          "height": 33
        },
        "outputId": "756ec48f-82a5-4d3e-d62e-dcb61fbe7c75"
      },
      "source": [
        "len(sample.loc[sample['type'] == 'Movie'])"
      ],
      "execution_count": 30,
      "outputs": [
        {
          "output_type": "execute_result",
          "data": {
            "text/plain": [
              "666"
            ]
          },
          "metadata": {
            "tags": []
          },
          "execution_count": 30
        }
      ]
    },
    {
      "cell_type": "code",
      "metadata": {
        "id": "T6Of1OZFnE8j",
        "colab_type": "code",
        "colab": {
          "base_uri": "https://localhost:8080/",
          "height": 131
        },
        "outputId": "8b4d3c97-50ae-4336-9dd7-0d4dbd3b5154"
      },
      "source": [
        "sample.loc[sample['type'] == 'Movie'].rating_x.value_counts() #Viewer ratings for films "
      ],
      "execution_count": 31,
      "outputs": [
        {
          "output_type": "execute_result",
          "data": {
            "text/plain": [
              "8    392\n",
              "7    169\n",
              "9     86\n",
              "6     13\n",
              "5      4\n",
              "4      2\n",
              "Name: rating_x, dtype: int64"
            ]
          },
          "metadata": {
            "tags": []
          },
          "execution_count": 31
        }
      ]
    },
    {
      "cell_type": "code",
      "metadata": {
        "id": "JeYYpdY9nE8l",
        "colab_type": "code",
        "colab": {
          "base_uri": "https://localhost:8080/",
          "height": 196
        },
        "outputId": "c4938e81-dcaf-40e5-d7af-b9e12cb27f7a"
      },
      "source": [
        "sample.loc[sample['type'] == 'Movie'].rating_y.value_counts() #Viewer ratings for films "
      ],
      "execution_count": 32,
      "outputs": [
        {
          "output_type": "execute_result",
          "data": {
            "text/plain": [
              "8.0     163\n",
              "9.0     151\n",
              "7.0     144\n",
              "10.0    102\n",
              "6.0      53\n",
              "5.0      30\n",
              "4.0      15\n",
              "3.0       4\n",
              "2.0       3\n",
              "1.0       1\n",
              "Name: rating_y, dtype: int64"
            ]
          },
          "metadata": {
            "tags": []
          },
          "execution_count": 32
        }
      ]
    },
    {
      "cell_type": "markdown",
      "metadata": {
        "id": "n3Gju4rDnE8q",
        "colab_type": "text"
      },
      "source": [
        "***drop rows containing -1 as rating in df_merge ***\n",
        "could be that I have an approximation error "
      ]
    },
    {
      "cell_type": "markdown",
      "metadata": {
        "id": "oikzkDXQnE8r",
        "colab_type": "text"
      },
      "source": [
        "*** Look at min ratings in rating_x *** if its a rating error, we would recreate y based off of x. (round to a whole number) *** 0 decimal places"
      ]
    },
    {
      "cell_type": "markdown",
      "metadata": {
        "id": "XN1Ik_xLnE8r",
        "colab_type": "text"
      },
      "source": [
        "## Most Reviewed Videos"
      ]
    },
    {
      "cell_type": "code",
      "metadata": {
        "id": "8tFo4Wz8nE8r",
        "colab_type": "code",
        "colab": {
          "base_uri": "https://localhost:8080/",
          "height": 33
        },
        "outputId": "75ccdaed-81ea-4722-d3cb-793378a08125"
      },
      "source": [
        "movies_review = len(sample.loc[sample['type'] == 'Movie'])\n",
        "movies_review"
      ],
      "execution_count": 33,
      "outputs": [
        {
          "output_type": "execute_result",
          "data": {
            "text/plain": [
              "666"
            ]
          },
          "metadata": {
            "tags": []
          },
          "execution_count": 33
        }
      ]
    },
    {
      "cell_type": "code",
      "metadata": {
        "id": "e_3-JZXEnE8z",
        "colab_type": "code",
        "colab": {
          "base_uri": "https://localhost:8080/",
          "height": 33
        },
        "outputId": "313dfd0a-3bb7-4306-d70e-b2fe624a7a17"
      },
      "source": [
        "tv_reviews = len(sample.loc[sample['type'] == 'TV'])\n",
        "tv_reviews"
      ],
      "execution_count": 34,
      "outputs": [
        {
          "output_type": "execute_result",
          "data": {
            "text/plain": [
              "3453"
            ]
          },
          "metadata": {
            "tags": []
          },
          "execution_count": 34
        }
      ]
    },
    {
      "cell_type": "code",
      "metadata": {
        "id": "vIr4oAyAnE82",
        "colab_type": "code",
        "colab": {
          "base_uri": "https://localhost:8080/",
          "height": 33
        },
        "outputId": "07b31da7-88a9-49e4-c05d-7d58f7efe9db"
      },
      "source": [
        "ova_reviews = len(sample.loc[sample['type'] =='OVA'])\n",
        "ova_reviews"
      ],
      "execution_count": 35,
      "outputs": [
        {
          "output_type": "execute_result",
          "data": {
            "text/plain": [
              "452"
            ]
          },
          "metadata": {
            "tags": []
          },
          "execution_count": 35
        }
      ]
    },
    {
      "cell_type": "code",
      "metadata": {
        "id": "-oHGLfMgSzHO",
        "colab_type": "code",
        "colab": {
          "base_uri": "https://localhost:8080/",
          "height": 33
        },
        "outputId": "b9cc9175-965e-4837-9e21-cf525bfacba7"
      },
      "source": [
        "music_reviews = len(sample.loc[sample['type'] =='Music'])\n",
        "music_reviews"
      ],
      "execution_count": 36,
      "outputs": [
        {
          "output_type": "execute_result",
          "data": {
            "text/plain": [
              "8"
            ]
          },
          "metadata": {
            "tags": []
          },
          "execution_count": 36
        }
      ]
    },
    {
      "cell_type": "code",
      "metadata": {
        "id": "gmNrTMyySzh6",
        "colab_type": "code",
        "colab": {
          "base_uri": "https://localhost:8080/",
          "height": 33
        },
        "outputId": "4d6bb733-8666-47d1-ba53-2b7521d63f59"
      },
      "source": [
        "ona_reviews = len(sample.loc[sample['type'] =='ONA'])\n",
        "ona_reviews"
      ],
      "execution_count": 37,
      "outputs": [
        {
          "output_type": "execute_result",
          "data": {
            "text/plain": [
              "66"
            ]
          },
          "metadata": {
            "tags": []
          },
          "execution_count": 37
        }
      ]
    },
    {
      "cell_type": "code",
      "metadata": {
        "id": "Q1GMel8HS0d1",
        "colab_type": "code",
        "colab": {
          "base_uri": "https://localhost:8080/",
          "height": 33
        },
        "outputId": "8b4472f6-ac95-44b7-bf0d-3c78833ca945"
      },
      "source": [
        "special_reviews = len(sample.loc[sample['type'] =='Special'])\n",
        "special_reviews"
      ],
      "execution_count": 38,
      "outputs": [
        {
          "output_type": "execute_result",
          "data": {
            "text/plain": [
              "355"
            ]
          },
          "metadata": {
            "tags": []
          },
          "execution_count": 38
        }
      ]
    },
    {
      "cell_type": "code",
      "metadata": {
        "id": "cWPp_Rp1TEkH",
        "colab_type": "code",
        "colab": {
          "base_uri": "https://localhost:8080/",
          "height": 621
        },
        "outputId": "f2a82867-ade6-4803-d276-e50fd5077b42"
      },
      "source": [
        "# PLOT them \n",
        "fig = plt.figure(figsize=(12,10))\n",
        "sns.countplot(sample['type'], palette='gist_rainbow')\n",
        "plt.title(\"Most Viewed Anime\")\n",
        "plt.xlabel(\"Types\")\n",
        "plt.ylabel(\"Number of Views with Reviews\")\n",
        "plt.legend(sample['type'])\n",
        "plt.show()"
      ],
      "execution_count": 39,
      "outputs": [
        {
          "output_type": "display_data",
          "data": {
            "image/png": "[encoded data removed]",
            "text/plain": [
              "<Figure size 864x720 with 1 Axes>"
            ]
          },
          "metadata": {
            "tags": [],
            "needs_background": "light"
          }
        }
      ]
    },
    {
      "cell_type": "code",
      "metadata": {
        "id": "V8kDcAcanE9F",
        "colab_type": "code",
        "colab": {
          "base_uri": "https://localhost:8080/",
          "height": 33
        },
        "outputId": "b4a7f205-af99-4c88-860e-33baa8e6b222"
      },
      "source": [
        "len(sample)"
      ],
      "execution_count": 40,
      "outputs": [
        {
          "output_type": "execute_result",
          "data": {
            "text/plain": [
              "5000"
            ]
          },
          "metadata": {
            "tags": []
          },
          "execution_count": 40
        }
      ]
    },
    {
      "cell_type": "markdown",
      "metadata": {
        "id": "JHgNVmhJ4uTk",
        "colab_type": "text"
      },
      "source": [
        "# Collaborative Models"
      ]
    },
    {
      "cell_type": "code",
      "metadata": {
        "id": "WW50kuym4rGS",
        "colab_type": "code",
        "colab": {}
      },
      "source": [
        "class MyDataset(dataset.DatasetAutoFolds):\n",
        "  #surprise.dataset.DatasetAutoFolds creates a surprise friendly dataset\n",
        "  #this will give it folds so that cross validation can be performed efficiently\n",
        "  def __init__(self, sample, reader):\n",
        "    self.sample = [(uid, iid, r, None) for (uid, iid, r) in \n",
        "                   zip (sample['user_id'], sample['anime_id'], sample['rating_x'])]\n",
        "    self.reader = reader"
      ],
      "execution_count": 0,
      "outputs": []
    },
    {
      "cell_type": "code",
      "metadata": {
        "id": "1I5TmdbF4rSI",
        "colab_type": "code",
        "colab": {}
      },
      "source": [
        "# #instantiate the reader parser object\n",
        "#reader = Reader(line_format = 'user item rating', rating_scale = (0.0, 10.0))"
      ],
      "execution_count": 0,
      "outputs": []
    },
    {
      "cell_type": "code",
      "metadata": {
        "id": "OaA2fqQS4rcV",
        "colab_type": "code",
        "colab": {}
      },
      "source": [
        "# #parse sample set into a surprise friendly dataset\n",
        "#data = MyDataset(sample, reader)"
      ],
      "execution_count": 0,
      "outputs": []
    },
    {
      "cell_type": "code",
      "metadata": {
        "id": "O84FyspwrvZ2",
        "colab_type": "code",
        "colab": {}
      },
      "source": [
        "reader = Reader(line_format = 'user item rating', rating_scale = (0.0, 10.0))\n",
        "data = sample[['user_id', 'anime_id', 'rating_x']]\n",
        "anime_data = Dataset.load_from_df(data, reader)"
      ],
      "execution_count": 0,
      "outputs": []
    },
    {
      "cell_type": "code",
      "metadata": {
        "id": "FYOEyoGj7FBr",
        "colab_type": "code",
        "colab": {
          "base_uri": "https://localhost:8080/",
          "height": 33
        },
        "outputId": "55385f7f-492d-4b06-a8bb-a5efd6e99d51"
      },
      "source": [
        "type(data)"
      ],
      "execution_count": 45,
      "outputs": [
        {
          "output_type": "execute_result",
          "data": {
            "text/plain": [
              "pandas.core.frame.DataFrame"
            ]
          },
          "metadata": {
            "tags": []
          },
          "execution_count": 45
        }
      ]
    },
    {
      "cell_type": "markdown",
      "metadata": {
        "id": "U84mcHh7W0B3",
        "colab_type": "text"
      },
      "source": [
        "# Train Validation Split"
      ]
    },
    {
      "cell_type": "code",
      "metadata": {
        "id": "NIDFfBZfrxkj",
        "colab_type": "code",
        "colab": {}
      },
      "source": [
        "trainset, testset = train_test_split(anime_data, test_size=.2)"
      ],
      "execution_count": 0,
      "outputs": []
    },
    {
      "cell_type": "markdown",
      "metadata": {
        "id": "swEKWiOhP5sL",
        "colab_type": "text"
      },
      "source": [
        "# Memory Based Knn Method"
      ]
    },
    {
      "cell_type": "markdown",
      "metadata": {
        "id": "JSk1rpsyR147",
        "colab_type": "text"
      },
      "source": [
        "## KNN Basic with cosine similarity"
      ]
    },
    {
      "cell_type": "code",
      "metadata": {
        "id": "2VNfsQ10yTjN",
        "colab_type": "code",
        "colab": {}
      },
      "source": [
        "#cosine similarity \n",
        "sim_cos = {'name': 'cosine', 'user_based':True}\n",
        "\n",
        "#instantiate the model with the similarity setting\n",
        "knn_sim_cos = knns.KNNBasic(sim_options=sim_cos)"
      ],
      "execution_count": 0,
      "outputs": []
    },
    {
      "cell_type": "code",
      "metadata": {
        "id": "x1YrCWVAyTq1",
        "colab_type": "code",
        "colab": {
          "base_uri": "https://localhost:8080/",
          "height": 163
        },
        "outputId": "b35acf4b-077b-45b7-ed34-3f3ca98ea2db"
      },
      "source": [
        "# fit the model\n",
        "sim_cos_cv = cross_validate(knn_sim_cos, anime_data, measures=['rmse', 'mae'], cv=3,\n",
        "                            return_train_measures=True, n_jobs=3, verbose=True)"
      ],
      "execution_count": 48,
      "outputs": [
        {
          "output_type": "stream",
          "text": [
            "Evaluating RMSE, MAE of algorithm KNNBasic on 3 split(s).\n",
            "\n",
            "                  Fold 1  Fold 2  Fold 3  Mean    Std     \n",
            "RMSE (testset)    0.7504  0.7246  0.7047  0.7266  0.0187  \n",
            "MAE (testset)     0.6153  0.5931  0.5857  0.5980  0.0126  \n",
            "RMSE (trainset)   0.0000  0.0000  0.0000  0.0000  0.0000  \n",
            "MAE (trainset)    0.0000  0.0000  0.0000  0.0000  0.0000  \n",
            "Fit time          1.16    1.05    0.95    1.05    0.08    \n",
            "Test time         0.04    0.03    0.01    0.03    0.01    \n"
          ],
          "name": "stdout"
        }
      ]
    },
    {
      "cell_type": "markdown",
      "metadata": {
        "id": "wZS9eDbwZyAN",
        "colab_type": "text"
      },
      "source": [
        "*** "
      ]
    },
    {
      "cell_type": "markdown",
      "metadata": {
        "id": "CyUlUIHDb9EW",
        "colab_type": "text"
      },
      "source": [
        "### The test set is not great but not terribly bad. I am not sure why the train set is not showing up. "
      ]
    },
    {
      "cell_type": "markdown",
      "metadata": {
        "id": "qyoAWKO1XnOl",
        "colab_type": "text"
      },
      "source": [
        "## 2nd Model: KNN Basic (item based)"
      ]
    },
    {
      "cell_type": "code",
      "metadata": {
        "id": "l5-_dnNSyT1S",
        "colab_type": "code",
        "colab": {}
      },
      "source": [
        "#cosine similarity \n",
        "sim_cos = {'name': 'cosine', 'user_based': False}\n",
        "\n",
        "#instantiate the knnBasic with sim_cos settings\n",
        "knn_basic_simcos = knns.KNNBasic(sim_options=sim_cos)\n"
      ],
      "execution_count": 0,
      "outputs": []
    },
    {
      "cell_type": "code",
      "metadata": {
        "id": "WHD_Fu8myTyw",
        "colab_type": "code",
        "colab": {
          "base_uri": "https://localhost:8080/",
          "height": 163
        },
        "outputId": "0ae178ba-530f-4e6f-f2e0-018834871780"
      },
      "source": [
        "#fit the model \n",
        "cv_knn_basic_simcos = cross_validate(knn_basic_simcos, anime_data, measures=['rmse', 'mae'], cv =3, return_train_measures=True, n_jobs=3, verbose=True)"
      ],
      "execution_count": 50,
      "outputs": [
        {
          "output_type": "stream",
          "text": [
            "Evaluating RMSE, MAE of algorithm KNNBasic on 3 split(s).\n",
            "\n",
            "                  Fold 1  Fold 2  Fold 3  Mean    Std     \n",
            "RMSE (testset)    0.7363  0.7351  0.7089  0.7268  0.0126  \n",
            "MAE (testset)     0.6059  0.6022  0.5863  0.5981  0.0085  \n",
            "RMSE (trainset)   0.2294  0.2747  0.2531  0.2524  0.0185  \n",
            "MAE (trainset)    0.0749  0.0940  0.0865  0.0852  0.0079  \n",
            "Fit time          0.10    0.10    0.07    0.09    0.02    \n",
            "Test time         0.02    0.02    0.01    0.02    0.00    \n"
          ],
          "name": "stdout"
        }
      ]
    },
    {
      "cell_type": "code",
      "metadata": {
        "id": "KszSZLcOyTv4",
        "colab_type": "code",
        "colab": {}
      },
      "source": [
        "#This one performed better than the last and the trainset is showing up. WOOH!"
      ],
      "execution_count": 0,
      "outputs": []
    },
    {
      "cell_type": "markdown",
      "metadata": {
        "id": "GogIlC2UdBuL",
        "colab_type": "text"
      },
      "source": [
        "##3rd Baseline Model: A user based pearson similarity using KNNBasline"
      ]
    },
    {
      "cell_type": "code",
      "metadata": {
        "id": "dA7jI1jE7E9h",
        "colab_type": "code",
        "colab": {}
      },
      "source": [
        "sim_pearson = {'name': 'pearson', 'user_based': True}\n",
        "\n",
        "#instantiate KNNBasline with pearson \n",
        "knn_baseline_pearson = knns.KNNBaseline(sim_options=sim_pearson)"
      ],
      "execution_count": 0,
      "outputs": []
    },
    {
      "cell_type": "code",
      "metadata": {
        "id": "61cuIDITdBQu",
        "colab_type": "code",
        "colab": {
          "base_uri": "https://localhost:8080/",
          "height": 216
        },
        "outputId": "80dee3b1-d50a-44d8-e719-686d3358955a"
      },
      "source": [
        "#fit and cross validate model \n",
        "cv_knnbaseline_simpearson = cross_validate(knn_baseline_pearson, anime_data, measures=['rmse', 'mae'], cv=3,\n",
        "                                           return_train_measures=True, n_jobs=2, verbose=True)"
      ],
      "execution_count": 53,
      "outputs": [
        {
          "output_type": "stream",
          "text": [
            "/usr/local/lib/python3.6/dist-packages/joblib/externals/loky/process_executor.py:706: UserWarning: A worker stopped while some jobs were given to the executor. This can be caused by a too short worker timeout or by a memory leak.\n",
            "  \"timeout or by a memory leak.\", UserWarning\n"
          ],
          "name": "stderr"
        },
        {
          "output_type": "stream",
          "text": [
            "Evaluating RMSE, MAE of algorithm KNNBaseline on 3 split(s).\n",
            "\n",
            "                  Fold 1  Fold 2  Fold 3  Mean    Std     \n",
            "RMSE (testset)    0.6112  0.6234  0.6157  0.6168  0.0051  \n",
            "MAE (testset)     0.4860  0.4912  0.4985  0.4919  0.0051  \n",
            "RMSE (trainset)   0.0000  0.0000  0.0000  0.0000  0.0000  \n",
            "MAE (trainset)    0.0000  0.0000  0.0000  0.0000  0.0000  \n",
            "Fit time          0.66    0.67    0.44    0.59    0.11    \n",
            "Test time         0.02    0.02    0.01    0.02    0.00    \n"
          ],
          "name": "stdout"
        }
      ]
    },
    {
      "cell_type": "markdown",
      "metadata": {
        "id": "tdij6Cqbd2EZ",
        "colab_type": "text"
      },
      "source": [
        "### This user based model with sim pearson did not do as well. Again, user based does not produce trainset results"
      ]
    },
    {
      "cell_type": "markdown",
      "metadata": {
        "id": "55I_IAJAeCCP",
        "colab_type": "text"
      },
      "source": [
        "## 4th Model: Item based pearson similarity using KNNBaseline"
      ]
    },
    {
      "cell_type": "code",
      "metadata": {
        "id": "kV3ZeGvweA9p",
        "colab_type": "code",
        "colab": {}
      },
      "source": [
        "sim_pearson = {'name':'pearson', 'user_based': False}\n",
        "\n",
        "#instantiate KNNBasline \n",
        "knn_baseline_item = knns.KNNBaseline(sim_options=sim_pearson)"
      ],
      "execution_count": 0,
      "outputs": []
    },
    {
      "cell_type": "code",
      "metadata": {
        "id": "6s_PCGYteBNO",
        "colab_type": "code",
        "colab": {
          "base_uri": "https://localhost:8080/",
          "height": 163
        },
        "outputId": "c86fc78c-3240-4d76-ba6f-bf19acfe2f36"
      },
      "source": [
        "#fit and cross validate\n",
        "cv_knnbaseline_item = cross_validate(knn_baseline_item, anime_data, measures=['rmse', 'mae'], cv=3, \n",
        "                                     return_train_measures=True, n_jobs=3, verbose=True)"
      ],
      "execution_count": 55,
      "outputs": [
        {
          "output_type": "stream",
          "text": [
            "Evaluating RMSE, MAE of algorithm KNNBaseline on 3 split(s).\n",
            "\n",
            "                  Fold 1  Fold 2  Fold 3  Mean    Std     \n",
            "RMSE (testset)    0.6170  0.6397  0.5892  0.6153  0.0207  \n",
            "MAE (testset)     0.4915  0.5047  0.4784  0.4915  0.0107  \n",
            "RMSE (trainset)   0.0000  0.0000  0.0000  0.0000  0.0000  \n",
            "MAE (trainset)    0.0000  0.0000  0.0000  0.0000  0.0000  \n",
            "Fit time          0.25    0.19    0.17    0.20    0.03    \n",
            "Test time         0.02    0.02    0.01    0.02    0.00    \n"
          ],
          "name": "stdout"
        }
      ]
    },
    {
      "cell_type": "markdown",
      "metadata": {
        "id": "8G3jVjnXe8Hz",
        "colab_type": "text"
      },
      "source": [
        "### This model hasn't performed well and also for some reason has not given trainset RMSE and MAE"
      ]
    },
    {
      "cell_type": "markdown",
      "metadata": {
        "id": "QKhbNDhEfFiH",
        "colab_type": "text"
      },
      "source": [
        "## 5th Model: User based using KNNWithMeans with pearson "
      ]
    },
    {
      "cell_type": "code",
      "metadata": {
        "id": "vTBSUY7UeBXG",
        "colab_type": "code",
        "colab": {}
      },
      "source": [
        "sim_pearson = {'name': 'pearson', 'user_based': True}\n",
        "\n",
        "#instantiating KNNWithMeans\n",
        "knn_withmeans_user = knns.KNNWithMeans(sim_options=sim_pearson)"
      ],
      "execution_count": 0,
      "outputs": []
    },
    {
      "cell_type": "code",
      "metadata": {
        "id": "iJwZlGi5fbtl",
        "colab_type": "code",
        "colab": {
          "base_uri": "https://localhost:8080/",
          "height": 163
        },
        "outputId": "7b5850da-c174-4a22-a1ea-90f0a397a14b"
      },
      "source": [
        "#fit and cross validate \n",
        "cv_knnwithmeans_user = cross_validate(knn_withmeans_user, anime_data, measures=['rmse','mae'], cv=3, return_train_measures=True, \n",
        "                                      n_jobs=3, verbose=True)"
      ],
      "execution_count": 57,
      "outputs": [
        {
          "output_type": "stream",
          "text": [
            "Evaluating RMSE, MAE of algorithm KNNWithMeans on 3 split(s).\n",
            "\n",
            "                  Fold 1  Fold 2  Fold 3  Mean    Std     \n",
            "RMSE (testset)    0.7813  0.7942  0.7597  0.7784  0.0142  \n",
            "MAE (testset)     0.6175  0.6328  0.6079  0.6194  0.0103  \n",
            "RMSE (trainset)   0.0000  0.0000  0.0000  0.0000  0.0000  \n",
            "MAE (trainset)    0.0000  0.0000  0.0000  0.0000  0.0000  \n",
            "Fit time          0.57    0.94    0.78    0.76    0.15    \n",
            "Test time         0.04    0.02    0.02    0.03    0.01    \n"
          ],
          "name": "stdout"
        }
      ]
    },
    {
      "cell_type": "markdown",
      "metadata": {
        "id": "NFeaMCKafcTW",
        "colab_type": "text"
      },
      "source": [
        "#### This test set has the best performance yet, but no idea why the trainset is not showing up. "
      ]
    },
    {
      "cell_type": "markdown",
      "metadata": {
        "id": "T4vAso0xf4Hi",
        "colab_type": "text"
      },
      "source": [
        "## 6th Model: KNNWithMeans but item based"
      ]
    },
    {
      "cell_type": "code",
      "metadata": {
        "id": "MY4KjDsWf-h3",
        "colab_type": "code",
        "colab": {}
      },
      "source": [
        "sim_pearson = {'name': 'pearson', 'user_based':False}\n",
        "\n",
        "#instantiate \n",
        "knn_withmeans_item = knns.KNNWithMeans(sim_options=sim_pearson)\n"
      ],
      "execution_count": 0,
      "outputs": []
    },
    {
      "cell_type": "code",
      "metadata": {
        "id": "hc43Ggq7f-t8",
        "colab_type": "code",
        "colab": {
          "base_uri": "https://localhost:8080/",
          "height": 163
        },
        "outputId": "4255cad7-aada-45d8-bf02-95a669d9de26"
      },
      "source": [
        "#fit and cross validate\n",
        "cv_knnwithmeans_item = cross_validate(knn_withmeans_item, anime_data, measures=['rmse', 'mae'], cv=3,\n",
        "                                      return_train_measures=True, n_jobs=3, verbose=True)"
      ],
      "execution_count": 59,
      "outputs": [
        {
          "output_type": "stream",
          "text": [
            "Evaluating RMSE, MAE of algorithm KNNWithMeans on 3 split(s).\n",
            "\n",
            "                  Fold 1  Fold 2  Fold 3  Mean    Std     \n",
            "RMSE (testset)    0.7046  0.6590  0.6765  0.6800  0.0188  \n",
            "MAE (testset)     0.5106  0.5076  0.5145  0.5109  0.0028  \n",
            "RMSE (trainset)   0.0000  0.0000  0.0000  0.0000  0.0000  \n",
            "MAE (trainset)    0.0000  0.0000  0.0000  0.0000  0.0000  \n",
            "Fit time          0.31    0.14    0.13    0.20    0.08    \n",
            "Test time         0.04    0.02    0.01    0.02    0.01    \n"
          ],
          "name": "stdout"
        }
      ]
    },
    {
      "cell_type": "markdown",
      "metadata": {
        "id": "rNNVKItUf_Gn",
        "colab_type": "text"
      },
      "source": [
        "#### The item based for pearson on the KNNWithMeans does not perform as well"
      ]
    },
    {
      "cell_type": "markdown",
      "metadata": {
        "id": "_V-oXnJQgu0N",
        "colab_type": "text"
      },
      "source": [
        "# Model Based Methods"
      ]
    },
    {
      "cell_type": "markdown",
      "metadata": {
        "id": "d-swWJpvg9hk",
        "colab_type": "text"
      },
      "source": [
        "## Alternating Least Squares"
      ]
    },
    {
      "cell_type": "markdown",
      "metadata": {
        "id": "IEe7MotMhC58",
        "colab_type": "text"
      },
      "source": [
        "### 7th Model with hyperparameter tuning"
      ]
    },
    {
      "cell_type": "code",
      "metadata": {
        "id": "C9Fy03HlgvJY",
        "colab_type": "code",
        "colab": {
          "base_uri": "https://localhost:8080/",
          "height": 33
        },
        "outputId": "3f1cf8e1-bbab-43e6-ef28-c38b8b50e70f"
      },
      "source": [
        "# create parameter permutations\n",
        "epochs = [3, 5, 10, 20]\n",
        "reg_u = [5, 10, 12, 15, 20]\n",
        "reg_i = [3, 5, 10, 15]\n",
        "\n",
        "params = [[i, j, k] for i in epochs\n",
        "          for j in reg_u\n",
        "          for k in reg_i]\n",
        "print('Number of grid search permutation:', len(params))\n"
      ],
      "execution_count": 60,
      "outputs": [
        {
          "output_type": "stream",
          "text": [
            "Number of grid search permutation: 80\n"
          ],
          "name": "stdout"
        }
      ]
    },
    {
      "cell_type": "code",
      "metadata": {
        "id": "UPDAGKf8gve6",
        "colab_type": "code",
        "colab": {
          "base_uri": "https://localhost:8080/",
          "height": 223
        },
        "outputId": "5d2c6a6c-023b-42cf-9878-f660eff18cdf"
      },
      "source": [
        "baseline_option_score = {}\n",
        "\n",
        "for basline_perm in params: \n",
        "  basline_options = {'method': 'als',\n",
        "                     'n_epochs': bsl_perm[0],\n",
        "                     'reg_u': bsl_perm[1],\n",
        "                     'reg_i': bsl_perm[2]}\n",
        "  #instantiate\n",
        "  algo = baseline_only.BaselineOnly(bsl_options=baseline_options)\n",
        "  #fit and cross validate\n",
        "  cv_algo = cross_validate(algo, anime_data, measures=['rmse', 'mae'], cv =3, \n",
        "                           verbose = False, return_train_measures=True);\n",
        "  bsl_perm2 = (str(bsl_perm[0]) + ' ' + str(bsl_perm[1]) + ' ' + str(bsl_perm[2]))\n",
        "  baseline_option_score[bsl_perm2] = {'mean_train_rmse': cv_algo['train_rmse'].mean(), 'mean_test_rmse': a['test_rmse'].mean()}\n",
        "\n",
        "  #print('\\n', baseline_options, '\\n', '\\n\\')"
      ],
      "execution_count": 61,
      "outputs": [
        {
          "output_type": "error",
          "ename": "NameError",
          "evalue": "ignored",
          "traceback": [
            "\u001b[0;31m---------------------------------------------------------------------------\u001b[0m",
            "\u001b[0;31mNameError\u001b[0m                                 Traceback (most recent call last)",
            "\u001b[0;32m<ipython-input-61-b8bf1bb21988>\u001b[0m in \u001b[0;36m<module>\u001b[0;34m()\u001b[0m\n\u001b[1;32m      3\u001b[0m \u001b[0;32mfor\u001b[0m \u001b[0mbasline_perm\u001b[0m \u001b[0;32min\u001b[0m \u001b[0mparams\u001b[0m\u001b[0;34m:\u001b[0m\u001b[0;34m\u001b[0m\u001b[0;34m\u001b[0m\u001b[0m\n\u001b[1;32m      4\u001b[0m   basline_options = {'method': 'als',\n\u001b[0;32m----> 5\u001b[0;31m                      \u001b[0;34m'n_epochs'\u001b[0m\u001b[0;34m:\u001b[0m \u001b[0mbsl_perm\u001b[0m\u001b[0;34m[\u001b[0m\u001b[0;36m0\u001b[0m\u001b[0;34m]\u001b[0m\u001b[0;34m,\u001b[0m\u001b[0;34m\u001b[0m\u001b[0;34m\u001b[0m\u001b[0m\n\u001b[0m\u001b[1;32m      6\u001b[0m                      \u001b[0;34m'reg_u'\u001b[0m\u001b[0;34m:\u001b[0m \u001b[0mbsl_perm\u001b[0m\u001b[0;34m[\u001b[0m\u001b[0;36m1\u001b[0m\u001b[0;34m]\u001b[0m\u001b[0;34m,\u001b[0m\u001b[0;34m\u001b[0m\u001b[0;34m\u001b[0m\u001b[0m\n\u001b[1;32m      7\u001b[0m                      'reg_i': bsl_perm[2]}\n",
            "\u001b[0;31mNameError\u001b[0m: name 'bsl_perm' is not defined"
          ]
        }
      ]
    },
    {
      "cell_type": "markdown",
      "metadata": {
        "id": "Bdivge2Agv3m",
        "colab_type": "text"
      },
      "source": [
        ""
      ]
    },
    {
      "cell_type": "markdown",
      "metadata": {
        "id": "9z9Z9lkwnE9H",
        "colab_type": "text"
      },
      "source": [
        "# Implementing a Surprise's Singular Value Decomposition (SVD) as a Baseline"
      ]
    },
    {
      "cell_type": "code",
      "metadata": {
        "id": "4a0xCAzwkQaF",
        "colab_type": "code",
        "colab": {
          "base_uri": "https://localhost:8080/",
          "height": 191
        },
        "outputId": "eed4da8b-7f46-4b30-c4fb-20e62d446f75"
      },
      "source": [
        "sample.rating_x = sample.rating_x.apply(round)\n",
        "sample.head()"
      ],
      "execution_count": 62,
      "outputs": [
        {
          "output_type": "execute_result",
          "data": {
            "text/html": [
              "<div>\n",
              "<style scoped>\n",
              "    .dataframe tbody tr th:only-of-type {\n",
              "        vertical-align: middle;\n",
              "    }\n",
              "\n",
              "    .dataframe tbody tr th {\n",
              "        vertical-align: top;\n",
              "    }\n",
              "\n",
              "    .dataframe thead th {\n",
              "        text-align: right;\n",
              "    }\n",
              "</style>\n",
              "<table border=\"1\" class=\"dataframe\">\n",
              "  <thead>\n",
              "    <tr style=\"text-align: right;\">\n",
              "      <th></th>\n",
              "      <th>anime_id</th>\n",
              "      <th>name</th>\n",
              "      <th>genre</th>\n",
              "      <th>type</th>\n",
              "      <th>episodes</th>\n",
              "      <th>rating_x</th>\n",
              "      <th>members</th>\n",
              "      <th>user_id</th>\n",
              "      <th>rating_y</th>\n",
              "    </tr>\n",
              "  </thead>\n",
              "  <tbody>\n",
              "    <tr>\n",
              "      <th>174658</th>\n",
              "      <td>11741</td>\n",
              "      <td>Fate/Zero 2nd Season</td>\n",
              "      <td>Action, Fantasy, Supernatural, Thriller</td>\n",
              "      <td>TV</td>\n",
              "      <td>12</td>\n",
              "      <td>9</td>\n",
              "      <td>340973</td>\n",
              "      <td>25989</td>\n",
              "      <td>8.0</td>\n",
              "    </tr>\n",
              "    <tr>\n",
              "      <th>1383796</th>\n",
              "      <td>9252</td>\n",
              "      <td>Break Blade 3: Kyoujin no Ato</td>\n",
              "      <td>Action, Fantasy, Mecha, Military, Shounen</td>\n",
              "      <td>Movie</td>\n",
              "      <td>1</td>\n",
              "      <td>8</td>\n",
              "      <td>42653</td>\n",
              "      <td>34954</td>\n",
              "      <td>9.0</td>\n",
              "    </tr>\n",
              "    <tr>\n",
              "      <th>3340016</th>\n",
              "      <td>174</td>\n",
              "      <td>Tenjou Tenge</td>\n",
              "      <td>Action, Comedy, Ecchi, Martial Arts, School, S...</td>\n",
              "      <td>TV</td>\n",
              "      <td>24</td>\n",
              "      <td>7</td>\n",
              "      <td>103449</td>\n",
              "      <td>28812</td>\n",
              "      <td>7.0</td>\n",
              "    </tr>\n",
              "    <tr>\n",
              "      <th>1039266</th>\n",
              "      <td>14807</td>\n",
              "      <td>Kara no Kyoukai: Mirai Fukuin</td>\n",
              "      <td>Drama, Mystery, Seinen, Supernatural</td>\n",
              "      <td>Movie</td>\n",
              "      <td>1</td>\n",
              "      <td>8</td>\n",
              "      <td>41168</td>\n",
              "      <td>24310</td>\n",
              "      <td>10.0</td>\n",
              "    </tr>\n",
              "    <tr>\n",
              "      <th>1128319</th>\n",
              "      <td>10620</td>\n",
              "      <td>Mirai Nikki (TV)</td>\n",
              "      <td>Action, Mystery, Psychological, Shounen, Super...</td>\n",
              "      <td>TV</td>\n",
              "      <td>26</td>\n",
              "      <td>8</td>\n",
              "      <td>657190</td>\n",
              "      <td>2532</td>\n",
              "      <td>9.0</td>\n",
              "    </tr>\n",
              "  </tbody>\n",
              "</table>\n",
              "</div>"
            ],
            "text/plain": [
              "         anime_id                           name  ... user_id rating_y\n",
              "174658      11741           Fate/Zero 2nd Season  ...   25989      8.0\n",
              "1383796      9252  Break Blade 3: Kyoujin no Ato  ...   34954      9.0\n",
              "3340016       174                   Tenjou Tenge  ...   28812      7.0\n",
              "1039266     14807  Kara no Kyoukai: Mirai Fukuin  ...   24310     10.0\n",
              "1128319     10620               Mirai Nikki (TV)  ...    2532      9.0\n",
              "\n",
              "[5 rows x 9 columns]"
            ]
          },
          "metadata": {
            "tags": []
          },
          "execution_count": 62
        }
      ]
    },
    {
      "cell_type": "code",
      "metadata": {
        "id": "u3ctsBehnE9I",
        "colab_type": "code",
        "colab": {}
      },
      "source": [
        "#for surprise, it likes its data in a certain way and only that specific data\n",
        "data = sample[['user_id', 'anime_id', 'rating_x']] #may need to do rating_x rounded and then use rating_y\n",
        "reader = Reader(line_format='user item rating', sep='')\n",
        "anime_loaded_data = Dataset.load_from_df(data, reader)\n",
        "# anime_split = anime_loaded_data.split(n_folds=5) \n",
        "\n",
        "#train_test_split\n",
        "trainset, testset = train_test_split(anime_loaded_data, test_size=.2)"
      ],
      "execution_count": 0,
      "outputs": []
    },
    {
      "cell_type": "code",
      "metadata": {
        "id": "GL-WXAOv_BBw",
        "colab_type": "code",
        "colab": {
          "base_uri": "https://localhost:8080/",
          "height": 33
        },
        "outputId": "b577074b-06cb-4b93-f6a9-dfad1b4d8426"
      },
      "source": [
        "anime_loaded_data"
      ],
      "execution_count": 64,
      "outputs": [
        {
          "output_type": "execute_result",
          "data": {
            "text/plain": [
              "<surprise.dataset.DatasetAutoFolds at 0x7f0a73e34b00>"
            ]
          },
          "metadata": {
            "tags": []
          },
          "execution_count": 64
        }
      ]
    },
    {
      "cell_type": "code",
      "metadata": {
        "id": "1LrsZrU6nE9L",
        "colab_type": "code",
        "colab": {
          "base_uri": "https://localhost:8080/",
          "height": 33
        },
        "outputId": "c893a7d9-c8a2-4d59-dcb8-e3a82127c60a"
      },
      "source": [
        "#INSTANTIATE the SVD and fit only the train set\n",
        "svd = SVD()\n",
        "svd.fit(trainset)"
      ],
      "execution_count": 65,
      "outputs": [
        {
          "output_type": "execute_result",
          "data": {
            "text/plain": [
              "<surprise.prediction_algorithms.matrix_factorization.SVD at 0x7f0a73e342e8>"
            ]
          },
          "metadata": {
            "tags": []
          },
          "execution_count": 65
        }
      ]
    },
    {
      "cell_type": "code",
      "metadata": {
        "id": "pd6fEbcmnE9T",
        "colab_type": "code",
        "colab": {
          "base_uri": "https://localhost:8080/",
          "height": 50
        },
        "outputId": "5b1042c5-68b4-4ba8-e84d-c091adb31cd7"
      },
      "source": [
        "predictions = svd.test(testset) #\n",
        "accuracy.rmse(predictions)"
      ],
      "execution_count": 66,
      "outputs": [
        {
          "output_type": "stream",
          "text": [
            "RMSE: 2.7619\n"
          ],
          "name": "stdout"
        },
        {
          "output_type": "execute_result",
          "data": {
            "text/plain": [
              "2.7618834153526466"
            ]
          },
          "metadata": {
            "tags": []
          },
          "execution_count": 66
        }
      ]
    },
    {
      "cell_type": "markdown",
      "metadata": {
        "id": "nb0LlqhqKzcH",
        "colab_type": "text"
      },
      "source": [
        "*** I don't think this is better than the .66 that I have above on the memory based models.***"
      ]
    },
    {
      "cell_type": "code",
      "metadata": {
        "id": "xB6P_zDMnE9V",
        "colab_type": "code",
        "colab": {
          "base_uri": "https://localhost:8080/",
          "height": 180
        },
        "outputId": "1160c078-2edd-4e21-a931-a83792328611"
      },
      "source": [
        "predictions[:10]"
      ],
      "execution_count": 67,
      "outputs": [
        {
          "output_type": "execute_result",
          "data": {
            "text/plain": [
              "[Prediction(uid=1320, iid=30347, r_ui=8.0, est=5, details={'was_impossible': False}),\n",
              " Prediction(uid=8965, iid=1259, r_ui=7.0, est=5, details={'was_impossible': False}),\n",
              " Prediction(uid=33631, iid=6702, r_ui=8.0, est=5, details={'was_impossible': False}),\n",
              " Prediction(uid=29710, iid=31964, r_ui=8.0, est=5, details={'was_impossible': False}),\n",
              " Prediction(uid=21244, iid=6675, r_ui=8.0, est=5, details={'was_impossible': False}),\n",
              " Prediction(uid=6932, iid=2129, r_ui=8.0, est=5, details={'was_impossible': False}),\n",
              " Prediction(uid=19438, iid=14741, r_ui=8.0, est=5, details={'was_impossible': False}),\n",
              " Prediction(uid=22127, iid=5114, r_ui=9.0, est=5, details={'was_impossible': False}),\n",
              " Prediction(uid=3746, iid=5112, r_ui=6.0, est=5, details={'was_impossible': False}),\n",
              " Prediction(uid=32037, iid=31737, r_ui=7.0, est=5, details={'was_impossible': False})]"
            ]
          },
          "metadata": {
            "tags": []
          },
          "execution_count": 67
        }
      ]
    },
    {
      "cell_type": "code",
      "metadata": {
        "id": "MdhR9mQUnE9Y",
        "colab_type": "code",
        "colab": {
          "base_uri": "https://localhost:8080/",
          "height": 50
        },
        "outputId": "4112d2cf-3ac4-4e17-d822-003fc5f13b89"
      },
      "source": [
        "print(\"Number of users:\", sample.user_id.nunique())\n",
        "print(\"Number of types of different anime:\", sample.type.nunique())\n"
      ],
      "execution_count": 68,
      "outputs": [
        {
          "output_type": "stream",
          "text": [
            "Number of users: 4136\n",
            "Number of types of different anime: 6\n"
          ],
          "name": "stdout"
        }
      ]
    },
    {
      "cell_type": "code",
      "metadata": {
        "id": "UEec0Gc7nE9f",
        "colab_type": "code",
        "colab": {
          "base_uri": "https://localhost:8080/",
          "height": 33
        },
        "outputId": "dc73116b-29a3-404b-8923-1762aee5bece"
      },
      "source": [
        "user = 5\n",
        "item = 100\n",
        "svd.predict(user, item)"
      ],
      "execution_count": 69,
      "outputs": [
        {
          "output_type": "execute_result",
          "data": {
            "text/plain": [
              "Prediction(uid=5, iid=100, r_ui=None, est=5, details={'was_impossible': False})"
            ]
          },
          "metadata": {
            "tags": []
          },
          "execution_count": 69
        }
      ]
    },
    {
      "cell_type": "markdown",
      "metadata": {
        "id": "-NLeL3oFnE9n",
        "colab_type": "text"
      },
      "source": [
        "Now I need to compare the different models and see which ones perform best. I will stick to using RMSE to evaluate the models. I will also cross validate. "
      ]
    },
    {
      "cell_type": "code",
      "metadata": {
        "id": "VHM0KQOlnE9o",
        "colab_type": "code",
        "colab": {
          "base_uri": "https://localhost:8080/",
          "height": 66
        },
        "outputId": "1771834e-b296-4d73-b21a-b1262ad3515a"
      },
      "source": [
        "#perform a gridsearch CV\n",
        "params = {'n_factors': [20,50,100],\n",
        "         'reg_all': [.02,.05, .10]}\n",
        "gridsearch_svd1 = GridSearchCV(SVD, param_grid=params, n_jobs=-1, joblib_verbose=3)\n",
        "gridsearch_svd1.fit(anime_loaded_data)"
      ],
      "execution_count": 70,
      "outputs": [
        {
          "output_type": "stream",
          "text": [
            "[Parallel(n_jobs=-1)]: Using backend LokyBackend with 2 concurrent workers.\n",
            "[Parallel(n_jobs=-1)]: Done  28 tasks      | elapsed:    6.5s\n",
            "[Parallel(n_jobs=-1)]: Done  45 out of  45 | elapsed:   12.0s finished\n"
          ],
          "name": "stderr"
        }
      ]
    },
    {
      "cell_type": "code",
      "metadata": {
        "id": "x9D7uwWqnE9q",
        "colab_type": "code",
        "colab": {
          "base_uri": "https://localhost:8080/",
          "height": 50
        },
        "outputId": "a018c972-d369-434f-c5cf-813a0fec72d4"
      },
      "source": [
        "print(gridsearch_svd1.best_score)\n",
        "print(gridsearch_svd1.best_params)"
      ],
      "execution_count": 71,
      "outputs": [
        {
          "output_type": "stream",
          "text": [
            "{'rmse': 2.7718927964827875, 'mae': 2.6790000000000003}\n",
            "{'rmse': {'n_factors': 20, 'reg_all': 0.02}, 'mae': {'n_factors': 20, 'reg_all': 0.02}}\n"
          ],
          "name": "stdout"
        }
      ]
    },
    {
      "cell_type": "markdown",
      "metadata": {
        "id": "BnrdTIPILcqC",
        "colab_type": "text"
      },
      "source": [
        "**Better than the model before***"
      ]
    },
    {
      "cell_type": "code",
      "metadata": {
        "id": "zqL4tt72GQe5",
        "colab_type": "code",
        "colab": {
          "base_uri": "https://localhost:8080/",
          "height": 33
        },
        "outputId": "7326dc0b-0c57-46f5-9456-557293676a73"
      },
      "source": [
        "anime_loaded_data"
      ],
      "execution_count": 72,
      "outputs": [
        {
          "output_type": "execute_result",
          "data": {
            "text/plain": [
              "<surprise.dataset.DatasetAutoFolds at 0x7f0a73e34b00>"
            ]
          },
          "metadata": {
            "tags": []
          },
          "execution_count": 72
        }
      ]
    },
    {
      "cell_type": "markdown",
      "metadata": {
        "id": "P-lM8im2nE9z",
        "colab_type": "text"
      },
      "source": [
        "## Cross Validation with K-Nearest Neighbors (KNN) Basic Algorithm"
      ]
    },
    {
      "cell_type": "code",
      "metadata": {
        "id": "czGpCY-QnE91",
        "colab_type": "code",
        "colab": {
          "base_uri": "https://localhost:8080/",
          "height": 70
        },
        "outputId": "0d0ee56e-d2ad-4598-b9b9-731f04387ea2"
      },
      "source": [
        "#cross validate with KNNBasic\n",
        "knn_basic = KNNBasic(sim_options={'name':'pearson', 'user_based':True}, verbose=True)\n",
        "cv_knn_basic = cross_validate(knn_basic, anime_loaded_data, n_jobs=2)"
      ],
      "execution_count": 73,
      "outputs": [
        {
          "output_type": "stream",
          "text": [
            "/usr/local/lib/python3.6/dist-packages/joblib/externals/loky/process_executor.py:706: UserWarning: A worker stopped while some jobs were given to the executor. This can be caused by a too short worker timeout or by a memory leak.\n",
            "  \"timeout or by a memory leak.\", UserWarning\n"
          ],
          "name": "stderr"
        }
      ]
    },
    {
      "cell_type": "code",
      "metadata": {
        "id": "F9t6WpJL2USm",
        "colab_type": "code",
        "colab": {
          "base_uri": "https://localhost:8080/",
          "height": 115
        },
        "outputId": "05dafbca-1aad-4614-d659-b98182f7370a"
      },
      "source": [
        "for i in cv_knn_basic.items():\n",
        "    print(i)\n",
        "print('-----------------')\n",
        "print(np.mean(cv_knn_basic['test_rmse']))"
      ],
      "execution_count": 74,
      "outputs": [
        {
          "output_type": "stream",
          "text": [
            "('test_rmse', array([2.7759683 , 2.73532448, 2.79821372, 2.78478006, 2.76514014]))\n",
            "('test_mae', array([2.678, 2.638, 2.712, 2.695, 2.672]))\n",
            "('fit_time', (0.9466602802276611, 0.8999288082122803, 0.8715415000915527, 0.8732357025146484, 0.48070645332336426))\n",
            "('test_time', (0.012912750244140625, 0.014278888702392578, 0.013180017471313477, 0.013219594955444336, 0.007418155670166016))\n",
            "-----------------\n",
            "2.7718853395420413\n"
          ],
          "name": "stdout"
        }
      ]
    },
    {
      "cell_type": "markdown",
      "metadata": {
        "id": "L5qCkyUELOIN",
        "colab_type": "text"
      },
      "source": [
        "*** This is not as good as the baseline***"
      ]
    },
    {
      "cell_type": "code",
      "metadata": {
        "id": "lfLPCcv8nE93",
        "colab_type": "code",
        "colab": {}
      },
      "source": [
        "knn_basic_msd = KNNBasic(sim_options = {'name': 'msd', 'user-based':True})\n",
        "cv_knn_basic_msd = cross_validate(knn_basic_msd, anime_loaded_data, n_jobs=2)"
      ],
      "execution_count": 0,
      "outputs": []
    },
    {
      "cell_type": "code",
      "metadata": {
        "id": "IsvfxOiXnE95",
        "colab_type": "code",
        "colab": {
          "base_uri": "https://localhost:8080/",
          "height": 115
        },
        "outputId": "a509c94d-1906-4b22-ba73-fdb9cb7e4d72"
      },
      "source": [
        "for i in cv_knn_basic_msd.items():\n",
        "    print(i)\n",
        "print('-----------------')\n",
        "print(np.mean(cv_knn_basic_msd['test_rmse']))"
      ],
      "execution_count": 76,
      "outputs": [
        {
          "output_type": "stream",
          "text": [
            "('test_rmse', array([2.76658634, 2.76694778, 2.78388218, 2.77326522, 2.76911538]))\n",
            "('test_mae', array([2.672, 2.676, 2.694, 2.675, 2.678]))\n",
            "('fit_time', (0.5306761264801025, 0.7264275550842285, 0.6663129329681396, 0.5593030452728271, 0.3606836795806885))\n",
            "('test_time', (0.01283407211303711, 0.012753725051879883, 0.01268315315246582, 0.012695074081420898, 0.007700443267822266))\n",
            "-----------------\n",
            "2.771959381649607\n"
          ],
          "name": "stdout"
        }
      ]
    },
    {
      "cell_type": "markdown",
      "metadata": {
        "id": "j_r77pS4LiAW",
        "colab_type": "text"
      },
      "source": [
        "*** better than the model above ***\n"
      ]
    },
    {
      "cell_type": "markdown",
      "metadata": {
        "id": "Nq4VKWZtnE98",
        "colab_type": "text"
      },
      "source": [
        "## Cross Validation with KNN Baseline"
      ]
    },
    {
      "cell_type": "code",
      "metadata": {
        "id": "Jd_R2dkNnE99",
        "colab_type": "code",
        "colab": {}
      },
      "source": [
        "#cross validate with KNN Baseline (pearson)\n",
        "knn_baseline = KNNBaseline(sim_options={'name': 'pearson', 'user_based':True})\n",
        "cv_knn_baseline = cross_validate(knn_baseline, anime_loaded_data, n_jobs=3)"
      ],
      "execution_count": 0,
      "outputs": []
    },
    {
      "cell_type": "code",
      "metadata": {
        "id": "6-jDbZDc3EHW",
        "colab_type": "code",
        "colab": {
          "base_uri": "https://localhost:8080/",
          "height": 115
        },
        "outputId": "be091455-05c4-4033-b8df-783948c77cb8"
      },
      "source": [
        "for i in cv_knn_baseline.items():\n",
        "    print(i)\n",
        "print('-----------------')\n",
        "print(np.mean(cv_knn_baseline['test_rmse']))"
      ],
      "execution_count": 78,
      "outputs": [
        {
          "output_type": "stream",
          "text": [
            "('test_rmse', array([2.75880409, 2.75680975, 2.78442095, 2.76839304, 2.79123629]))\n",
            "('test_mae', array([2.665, 2.668, 2.691, 2.676, 2.695]))\n",
            "('fit_time', (0.8461451530456543, 1.2070016860961914, 1.3491899967193604, 1.164566993713379, 0.8791401386260986))\n",
            "('test_time', (0.02456045150756836, 0.022281646728515625, 0.007723569869995117, 0.021017789840698242, 0.011672496795654297))\n",
            "-----------------\n",
            "2.771932821049888\n"
          ],
          "name": "stdout"
        }
      ]
    },
    {
      "cell_type": "markdown",
      "metadata": {
        "id": "bI9WY1rqLu5j",
        "colab_type": "text"
      },
      "source": [
        "***better than the other rmse but not as good as mae from above *** "
      ]
    },
    {
      "cell_type": "code",
      "metadata": {
        "id": "INk427JxQ6NF",
        "colab_type": "code",
        "colab": {}
      },
      "source": [
        "knn_baseline_msd = KNNBaseline(sim_options = {'name': 'msd', 'user_based': True})\n",
        "cv_knn_baseline_msd = cross_validate(knn_baseline_msd, anime_loaded_data, n_jobs =2)"
      ],
      "execution_count": 0,
      "outputs": []
    },
    {
      "cell_type": "code",
      "metadata": {
        "id": "tmd9Vtf5SMgW",
        "colab_type": "code",
        "colab": {
          "base_uri": "https://localhost:8080/",
          "height": 115
        },
        "outputId": "e3439c56-f142-4644-9aa6-e21c34dd6bb2"
      },
      "source": [
        "for i in cv_knn_baseline_msd.items():\n",
        "  print(i)\n",
        "print('-------------------')\n",
        "print(np.mean(cv_knn_baseline_msd['test_rmse']))"
      ],
      "execution_count": 84,
      "outputs": [
        {
          "output_type": "stream",
          "text": [
            "('test_rmse', array([2.78406178, 2.79284801, 2.76369318, 2.76134025, 2.75771645]))\n",
            "('test_mae', array([2.693, 2.704, 2.684, 2.653, 2.661]))\n",
            "('fit_time', (0.510066032409668, 0.6951327323913574, 0.6643168926239014, 0.5836308002471924, 0.3947160243988037))\n",
            "('test_time', (0.012665271759033203, 0.012074708938598633, 0.012176752090454102, 0.012292146682739258, 0.007771015167236328))\n",
            "-------------------\n",
            "2.771931934367191\n"
          ],
          "name": "stdout"
        }
      ]
    },
    {
      "cell_type": "markdown",
      "metadata": {
        "id": "FhqNA7M4LKXP",
        "colab_type": "text"
      },
      "source": [
        "*** Not as good as the above ***"
      ]
    },
    {
      "cell_type": "markdown",
      "metadata": {
        "id": "w0sTEu4PnE-A",
        "colab_type": "text"
      },
      "source": [
        "## Cross Validate with KNNBaseline using pearson baseline"
      ]
    },
    {
      "cell_type": "code",
      "metadata": {
        "id": "XUApxrARThBC",
        "colab_type": "code",
        "colab": {}
      },
      "source": [
        "knn_pearson_baseline = KNNBaseline(sim_options={'name': 'pearson_baseline', 'user_based':True})\n",
        "cv_knn_pearson_baseline = cross_validate(knn_pearson_baseline, anime_data, n_jobs=3)"
      ],
      "execution_count": 0,
      "outputs": []
    },
    {
      "cell_type": "code",
      "metadata": {
        "id": "Y5AyqnDMTnu1",
        "colab_type": "code",
        "colab": {
          "base_uri": "https://localhost:8080/",
          "height": 115
        },
        "outputId": "c57ff8de-7703-41c7-cd39-e17f1e9529bc"
      },
      "source": [
        "for i in cv_knn_pearson_baseline.items():\n",
        "  print(i)\n",
        "print('-------------------')\n",
        "print(np.mean(cv_knn_pearson_baseline['test_rmse']))"
      ],
      "execution_count": 86,
      "outputs": [
        {
          "output_type": "stream",
          "text": [
            "('test_rmse', array([0.57284458, 0.65305351, 0.57559375, 0.59624195, 0.61009199]))\n",
            "('test_mae', array([0.46485982, 0.49180801, 0.46850238, 0.47692874, 0.48234139]))\n",
            "('fit_time', (0.8008871078491211, 0.8852789402008057, 0.9840776920318604, 0.9596889019012451, 0.7047510147094727))\n",
            "('test_time', (0.018337726593017578, 0.04347348213195801, 0.007873058319091797, 0.024959325790405273, 0.011835098266601562))\n",
            "-------------------\n",
            "0.6015651560560482\n"
          ],
          "name": "stdout"
        }
      ]
    },
    {
      "cell_type": "markdown",
      "metadata": {
        "id": "XiXOqpmCL-Vi",
        "colab_type": "text"
      },
      "source": [
        "*** hmmmm... this is a realistic number for an average rmse score but varies greatly from the other scores, looks similar to the models I added in at the top ***"
      ]
    },
    {
      "cell_type": "markdown",
      "metadata": {
        "id": "rKUymG4NULeY",
        "colab_type": "text"
      },
      "source": [
        "## KNN with Means "
      ]
    },
    {
      "cell_type": "code",
      "metadata": {
        "id": "ITdq6J1RUPWx",
        "colab_type": "code",
        "colab": {
          "base_uri": "https://localhost:8080/",
          "height": 70
        },
        "outputId": "eb556a3e-bbba-497f-9759-8dcc17f66d48"
      },
      "source": [
        "knn_means = KNNWithMeans(sim_options={'name': 'pearson', 'user_based': True})\n",
        "cv_knn_means = cross_validate(knn_means, anime_data, n_jobs=3)"
      ],
      "execution_count": 87,
      "outputs": [
        {
          "output_type": "stream",
          "text": [
            "/usr/local/lib/python3.6/dist-packages/joblib/externals/loky/process_executor.py:706: UserWarning: A worker stopped while some jobs were given to the executor. This can be caused by a too short worker timeout or by a memory leak.\n",
            "  \"timeout or by a memory leak.\", UserWarning\n"
          ],
          "name": "stderr"
        }
      ]
    },
    {
      "cell_type": "code",
      "metadata": {
        "id": "zXPB7MwgWFpF",
        "colab_type": "code",
        "colab": {
          "base_uri": "https://localhost:8080/",
          "height": 115
        },
        "outputId": "f32d408b-3aac-4cdc-d17c-7d986bb98ad1"
      },
      "source": [
        "for i in cv_knn_means.items():\n",
        "  print(i)\n",
        "print('------------')\n",
        "print(np.mean(cv_knn_means['test_rmse']))"
      ],
      "execution_count": 88,
      "outputs": [
        {
          "output_type": "stream",
          "text": [
            "('test_rmse', array([0.80037937, 0.76902683, 0.7900552 , 0.76243395, 0.77792982]))\n",
            "('test_mae', array([0.63173233, 0.6107025 , 0.62486733, 0.61088417, 0.60891633]))\n",
            "('fit_time', (1.1287126541137695, 1.2975270748138428, 1.4169869422912598, 1.0021162033081055, 0.6919441223144531))\n",
            "('test_time', (0.020411014556884766, 0.02789163589477539, 0.01369166374206543, 0.014095783233642578, 0.0075147151947021484))\n",
            "------------\n",
            "0.7799650327012417\n"
          ],
          "name": "stdout"
        }
      ]
    },
    {
      "cell_type": "code",
      "metadata": {
        "id": "MlK-xFjHWIme",
        "colab_type": "code",
        "colab": {}
      },
      "source": [
        "knn_means_msd = KNNWithMeans(sim_options={'name': 'msd', 'user_based':True})\n",
        "cv_knn_means_msd = cross_validate(knn_means_msd, anime_data, n_jobs = 2)"
      ],
      "execution_count": 0,
      "outputs": []
    },
    {
      "cell_type": "code",
      "metadata": {
        "id": "wgQwNAVpWvxd",
        "colab_type": "code",
        "colab": {
          "base_uri": "https://localhost:8080/",
          "height": 115
        },
        "outputId": "74e8c21a-d348-4538-faaf-d4a98090c95b"
      },
      "source": [
        "for i in cv_knn_means_msd.items():\n",
        "  print(i)\n",
        "print('-------------')\n",
        "print(np.mean(cv_knn_means_msd['test_rmse']))"
      ],
      "execution_count": 90,
      "outputs": [
        {
          "output_type": "stream",
          "text": [
            "('test_rmse', array([0.75071905, 0.79270126, 0.77235375, 0.78811282, 0.81214092]))\n",
            "('test_mae', array([0.60202017, 0.62959875, 0.61487017, 0.63246417, 0.63464392]))\n",
            "('fit_time', (0.6014635562896729, 0.667898416519165, 0.749398946762085, 0.6491308212280273, 0.35530924797058105))\n",
            "('test_time', (0.012288093566894531, 0.023320913314819336, 0.013074636459350586, 0.012596368789672852, 0.00716090202331543))\n",
            "-------------\n",
            "0.7832055618789563\n"
          ],
          "name": "stdout"
        }
      ]
    },
    {
      "cell_type": "markdown",
      "metadata": {
        "id": "htjUIhGTMY-h",
        "colab_type": "text"
      },
      "source": [
        "*** This is a lot better than the KNNBaseline ***"
      ]
    },
    {
      "cell_type": "markdown",
      "metadata": {
        "id": "3PqAJcuNXIiX",
        "colab_type": "text"
      },
      "source": [
        "## Tuning the Best Algorithm with GridSearchCV\n",
        "Best model so far is KNN Baseline with Mean Squared Distance"
      ]
    },
    {
      "cell_type": "code",
      "metadata": {
        "id": "sXz8F2wHXNBP",
        "colab_type": "code",
        "colab": {
          "base_uri": "https://localhost:8080/",
          "height": 82
        },
        "outputId": "87aec5e6-3e44-46b7-cc37-81f56f78f99e"
      },
      "source": [
        "param_grid = {'n_factors': [5, 20, 100], \n",
        "              'n_epochs': [5,10], \n",
        "              'lr_all': [.002, .005], \n",
        "              'reg_all': [.02, .05, .5]}\n",
        "knn_withmeans_gs = GridSearchCV(KNNWithMeans, param_grid=param_grid, n_jobs=3, joblib_verbose=3)\n",
        "knn_withmeans_gs.fit(anime_data)"
      ],
      "execution_count": 98,
      "outputs": [
        {
          "output_type": "stream",
          "text": [
            "[Parallel(n_jobs=3)]: Using backend LokyBackend with 3 concurrent workers.\n",
            "[Parallel(n_jobs=3)]: Done  26 tasks      | elapsed:   10.7s\n",
            "[Parallel(n_jobs=3)]: Done 122 tasks      | elapsed:   47.6s\n",
            "[Parallel(n_jobs=3)]: Done 180 out of 180 | elapsed:  1.2min finished\n"
          ],
          "name": "stderr"
        }
      ]
    },
    {
      "cell_type": "code",
      "metadata": {
        "id": "q2IabmRkX5xZ",
        "colab_type": "code",
        "colab": {
          "base_uri": "https://localhost:8080/",
          "height": 70
        },
        "outputId": "f361a8fb-87c2-437e-9be2-e141530bfdbd"
      },
      "source": [
        "print(knn_baseline_gs.best_score)\n",
        "print(knn_baseline_gs.best_params)"
      ],
      "execution_count": 92,
      "outputs": [
        {
          "output_type": "stream",
          "text": [
            "{'rmse': 0.6013752188370415, 'mae': 0.4770148147495893}\n",
            "{'rmse': {'n_factors': 5, 'n_epochs': 5, 'lr_all': 0.002, 'reg_all': 0.02}, 'mae': {'n_factors': 5, 'n_epochs': 5, 'lr_all': 0.002, 'reg_all': 0.02}}\n"
          ],
          "name": "stdout"
        }
      ]
    },
    {
      "cell_type": "code",
      "metadata": {
        "id": "ftuslWl7X78D",
        "colab_type": "code",
        "colab": {}
      },
      "source": [
        "#Now use this to fit test set, initial gridsearch was 2.77096, so will use that gs here\n",
        "highest_perf_algo = gridsearch_svd1.best_estimator['rmse']"
      ],
      "execution_count": 0,
      "outputs": []
    },
    {
      "cell_type": "code",
      "metadata": {
        "id": "UM_woiDrX8NF",
        "colab_type": "code",
        "colab": {
          "base_uri": "https://localhost:8080/",
          "height": 33
        },
        "outputId": "1afe1344-e296-4fa1-cb34-d3e0766c3302"
      },
      "source": [
        "#retrain the whole set\n",
        "trainset = anime_data.build_full_trainset()\n",
        "highest_perf_algo.fit(trainset)"
      ],
      "execution_count": 94,
      "outputs": [
        {
          "output_type": "execute_result",
          "data": {
            "text/plain": [
              "<surprise.prediction_algorithms.matrix_factorization.SVD at 0x7f0a73e34b70>"
            ]
          },
          "metadata": {
            "tags": []
          },
          "execution_count": 94
        }
      ]
    },
    {
      "cell_type": "code",
      "metadata": {
        "id": "zyob26pZZ_FK",
        "colab_type": "code",
        "colab": {
          "base_uri": "https://localhost:8080/",
          "height": 50
        },
        "outputId": "f1308b8b-2253-457b-a0ec-685f4907a50b"
      },
      "source": [
        "#Biased Accuracy on trainset\n",
        "predictions = highest_perf_algo.test(trainset.build_testset())\n",
        "print('Biased accuracy on Trainset', end='')\n",
        "accuracy.rmse(predictions)"
      ],
      "execution_count": 95,
      "outputs": [
        {
          "output_type": "stream",
          "text": [
            "Biased accuracy on TrainsetRMSE: 0.4426\n"
          ],
          "name": "stdout"
        },
        {
          "output_type": "execute_result",
          "data": {
            "text/plain": [
              "0.44261921700974727"
            ]
          },
          "metadata": {
            "tags": []
          },
          "execution_count": 95
        }
      ]
    },
    {
      "cell_type": "code",
      "metadata": {
        "id": "qVADRznNZ_2s",
        "colab_type": "code",
        "colab": {
          "base_uri": "https://localhost:8080/",
          "height": 50
        },
        "outputId": "54756d35-350d-4b51-d605-b62885a12fa1"
      },
      "source": [
        "#UnBiased Accuracy on testset\n",
        "predictions = highest_perf_algo.test(testset)\n",
        "print('Unbiased Accuracy on test', end='')\n",
        "accuracy.rmse(predictions)"
      ],
      "execution_count": 96,
      "outputs": [
        {
          "output_type": "stream",
          "text": [
            "Unbiased Accuracy on testRMSE: 0.4548\n"
          ],
          "name": "stdout"
        },
        {
          "output_type": "execute_result",
          "data": {
            "text/plain": [
              "0.454840233449915"
            ]
          },
          "metadata": {
            "tags": []
          },
          "execution_count": 96
        }
      ]
    },
    {
      "cell_type": "markdown",
      "metadata": {
        "id": "d6KwN2bv3w0d",
        "colab_type": "text"
      },
      "source": [
        "# WILL NOT CONTINUE USING PYSPARK! JUST REMEMBERED THAT THE LEARNCO IS OUTDATED"
      ]
    },
    {
      "cell_type": "markdown",
      "metadata": {
        "id": "ezLPlX8_nE-C",
        "colab_type": "text"
      },
      "source": [
        "# Pyspark "
      ]
    },
    {
      "cell_type": "code",
      "metadata": {
        "id": "pD67ynpxLoz6",
        "colab_type": "code",
        "colab": {}
      },
      "source": [
        "!pip install pyspark"
      ],
      "execution_count": 0,
      "outputs": []
    },
    {
      "cell_type": "code",
      "metadata": {
        "id": "VNDenBfQnE-C",
        "colab_type": "code",
        "colab": {}
      },
      "source": [
        "from pyspark.sql import SparkSession \n",
        "\n",
        "from pyspark.ml.evaluation import RegressionEvaluator\n",
        "from pyspark.ml.recommendation import ALS"
      ],
      "execution_count": 0,
      "outputs": []
    },
    {
      "cell_type": "code",
      "metadata": {
        "id": "BHtI-R6reTI_",
        "colab_type": "code",
        "colab": {}
      },
      "source": [
        "#instantiate SparkSession object \n",
        "spark = SparkSession.builder \\\n",
        "    .master(\"local\") \\\n",
        "    .appName(\"Word Count\") \\\n",
        "    .config(\"spark.some.config.option\", \"some-value\") \\\n",
        "    .getOrCreate()\n"
      ],
      "execution_count": 0,
      "outputs": []
    },
    {
      "cell_type": "code",
      "metadata": {
        "id": "MmY77rzyoAZR",
        "colab_type": "code",
        "colab": {}
      },
      "source": [
        "sample.to_csv('sample.csv', index='False')"
      ],
      "execution_count": 0,
      "outputs": []
    },
    {
      "cell_type": "code",
      "metadata": {
        "id": "GPvi95TDeTTz",
        "colab_type": "code",
        "colab": {}
      },
      "source": [
        "#read in data into pyspark dataframe\n",
        "sample = spark.read.csv('./sample.csv', header='true', inferSchema='true')"
      ],
      "execution_count": 0,
      "outputs": []
    },
    {
      "cell_type": "markdown",
      "metadata": {
        "id": "bm8R-omFo8rS",
        "colab_type": "text"
      },
      "source": [
        "## Fitting the Alternating Least Squares Model"
      ]
    },
    {
      "cell_type": "code",
      "metadata": {
        "id": "iDbZXITxeTZu",
        "colab_type": "code",
        "colab": {}
      },
      "source": [
        "from pyspark.ml.tuning.TrainValidationSplit\n"
      ],
      "execution_count": 0,
      "outputs": []
    },
    {
      "cell_type": "code",
      "metadata": {
        "id": "_SP-2PHznE-I",
        "colab_type": "code",
        "colab": {}
      },
      "source": [
        "#TRAIN TEST SPLIT\n",
        "trainset, testset = anime_loaded_data.randomSplit([.8, .2])"
      ],
      "execution_count": 0,
      "outputs": []
    },
    {
      "cell_type": "code",
      "metadata": {
        "id": "YkJ-MoUJnE-L",
        "colab_type": "code",
        "colab": {}
      },
      "source": [
        "#Build a recommendation model using ALS on the training data\n",
        "als = ALS(maxIter=5,\n",
        "         rank=4, \n",
        "         regParam=.01, \n",
        "         userCol='user_id',\n",
        "         itemCol='anime_id',\n",
        "         ratingCol='rating',\n",
        "         coldStartStrategy='drop')\n",
        "#fit the ALS to training set\n",
        "als_model = als.fit(trainset)"
      ],
      "execution_count": 0,
      "outputs": []
    },
    {
      "cell_type": "code",
      "metadata": {
        "id": "rjZyw8g1nE-Q",
        "colab_type": "code",
        "colab": {}
      },
      "source": [
        "#Let's evaluate its performance, above with surprise we got an unrealistic RMSE of 2.75\n",
        "#start wtih a regression evaluator\n",
        "from pyspark.ml.evaluation import RegressionEvaluator \n",
        "#let's compute the ALS RMSE on the testset\n",
        "predictions = als_model.transform(testset)\n",
        "evaluator = RegressionEvaluator(metricName='rmse',\n",
        "                               labelCol='rating',\n",
        "                               predictionCol='prediction')\n",
        "rmse = evaluator.evaluate(predictions)\n",
        "print(\"Root Mean Square Error:\", str(rmse))\n"
      ],
      "execution_count": 0,
      "outputs": []
    },
    {
      "cell_type": "markdown",
      "metadata": {
        "id": "LdId9mGNnE-b",
        "colab_type": "text"
      },
      "source": [
        "## Cross Validation to find the optimal model "
      ]
    },
    {
      "cell_type": "code",
      "metadata": {
        "id": "4ljpH9JLnE-c",
        "colab_type": "code",
        "colab": {}
      },
      "source": [
        ""
      ],
      "execution_count": 0,
      "outputs": []
    }
  ]
}